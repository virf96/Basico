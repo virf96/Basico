{
  "nbformat": 4,
  "nbformat_minor": 0,
  "metadata": {
    "kernelspec": {
      "display_name": "Python 3.7",
      "language": "python",
      "name": "python3"
    },
    "language_info": {
      "codemirror_mode": {
        "name": "ipython",
        "version": 3
      },
      "file_extension": ".py",
      "mimetype": "text/x-python",
      "name": "python",
      "nbconvert_exporter": "python",
      "pygments_lexer": "ipython3",
      "version": "3.7.9"
    },
    "colab": {
      "name": "Estabilidad y performance.ipynb",
      "provenance": [],
      "toc_visible": true,
      "include_colab_link": true
    }
  },
  "cells": [
    {
      "cell_type": "markdown",
      "metadata": {
        "id": "view-in-github",
        "colab_type": "text"
      },
      "source": [
        "<a href=\"https://colab.research.google.com/github/virf96/Basico/blob/main/Estabilidad_y_performance.ipynb\" target=\"_parent\"><img src=\"https://colab.research.google.com/assets/colab-badge.svg\" alt=\"Open In Colab\"/></a>"
      ]
    },
    {
      "cell_type": "markdown",
      "metadata": {
        "id": "NV-SJWAnU9iu"
      },
      "source": [
        "# Estabilidad y performance"
      ]
    },
    {
      "cell_type": "markdown",
      "metadata": {
        "id": "9HMtbDWvU9jL"
      },
      "source": [
        "## Preparación de ambiente"
      ]
    },
    {
      "cell_type": "markdown",
      "metadata": {
        "heading_collapsed": true,
        "id": "Fea8uiW7U9jO"
      },
      "source": [
        "### Carga de módulos"
      ]
    },
    {
      "cell_type": "code",
      "metadata": {
        "colab": {
          "base_uri": "https://localhost:8080/"
        },
        "id": "Q1dMHC-WnMJU",
        "outputId": "ea2e6a34-f3da-4175-ff77-bde946177bcc"
      },
      "source": [
        "pip install pygal"
      ],
      "execution_count": 3,
      "outputs": [
        {
          "output_type": "stream",
          "text": [
            "Collecting pygal\n",
            "\u001b[?25l  Downloading https://files.pythonhosted.org/packages/5f/b7/201c9254ac0d2b8ffa3bb2d528d23a4130876d9ba90bc28e99633f323f17/pygal-2.4.0-py2.py3-none-any.whl (127kB)\n",
            "\r\u001b[K     |██▋                             | 10kB 11.1MB/s eta 0:00:01\r\u001b[K     |█████▏                          | 20kB 12.2MB/s eta 0:00:01\r\u001b[K     |███████▊                        | 30kB 8.5MB/s eta 0:00:01\r\u001b[K     |██████████▎                     | 40kB 7.3MB/s eta 0:00:01\r\u001b[K     |████████████▉                   | 51kB 5.5MB/s eta 0:00:01\r\u001b[K     |███████████████▍                | 61kB 6.1MB/s eta 0:00:01\r\u001b[K     |██████████████████              | 71kB 6.1MB/s eta 0:00:01\r\u001b[K     |████████████████████▌           | 81kB 6.7MB/s eta 0:00:01\r\u001b[K     |███████████████████████▏        | 92kB 6.1MB/s eta 0:00:01\r\u001b[K     |█████████████████████████▊      | 102kB 6.4MB/s eta 0:00:01\r\u001b[K     |████████████████████████████▎   | 112kB 6.4MB/s eta 0:00:01\r\u001b[K     |██████████████████████████████▉ | 122kB 6.4MB/s eta 0:00:01\r\u001b[K     |████████████████████████████████| 133kB 6.4MB/s \n",
            "\u001b[?25hInstalling collected packages: pygal\n",
            "Successfully installed pygal-2.4.0\n"
          ],
          "name": "stdout"
        }
      ]
    },
    {
      "cell_type": "code",
      "metadata": {
        "ExecuteTime": {
          "end_time": "2020-07-10T01:31:11.586837Z",
          "start_time": "2020-07-10T01:31:09.109460Z"
        },
        "hidden": true,
        "id": "IgMi4SjgU9jQ"
      },
      "source": [
        "from sklearn.feature_selection import SelectKBest, f_classif, f_regression\n",
        "from sklearn.linear_model import LogisticRegression, Ridge\n",
        "from sklearn.model_selection import cross_val_score\n",
        "from sklearn.metrics import roc_auc_score, r2_score\n",
        "from datetime import datetime\n",
        "import pandas as pd\n",
        "import numpy as np\n",
        "import pygal"
      ],
      "execution_count": 4,
      "outputs": []
    },
    {
      "cell_type": "markdown",
      "metadata": {
        "heading_collapsed": true,
        "id": "PLboFPZXU9jT"
      },
      "source": [
        "### Funciones relevantes"
      ]
    },
    {
      "cell_type": "code",
      "metadata": {
        "ExecuteTime": {
          "end_time": "2020-07-10T01:31:46.179297Z",
          "start_time": "2020-07-10T01:31:46.156270Z"
        },
        "hidden": true,
        "id": "LzlT9NdzU9jV"
      },
      "source": [
        "# Función que regresa el IV de la variable provista\n",
        "def IV(df, var, tgt):\n",
        "    aux = df[[var, tgt]].groupby(var).agg([\"count\", \"sum\"])\n",
        "    aux[\"evento\"] = aux[tgt, \"sum\"]\n",
        "    aux[\"no_evento\"] = aux[tgt, \"count\"] - aux[tgt, \"sum\"]\n",
        "    aux[\"%evento\"] = aux[\"evento\"] / aux[\"evento\"].sum()\n",
        "    aux[\"%no_evento\"] = aux[\"no_evento\"] / aux[\"no_evento\"].sum()\n",
        "    aux[\"WOE\"] = np.log(aux[\"%no_evento\"] / aux[\"%evento\"])\n",
        "    aux[\"IV\"] = (aux[\"%no_evento\"] - aux[\"%evento\"])*aux[\"WOE\"]\n",
        "    return aux[\"IV\"].sum()"
      ],
      "execution_count": 5,
      "outputs": []
    },
    {
      "cell_type": "markdown",
      "metadata": {
        "id": "tIWYwr6WU9jW"
      },
      "source": [
        "### Data Wrangling"
      ]
    },
    {
      "cell_type": "code",
      "metadata": {
        "colab": {
          "base_uri": "https://localhost:8080/"
        },
        "id": "P_xQom4JnpSA",
        "outputId": "9a6f5ad8-5d2b-425b-dca4-8e8a5e227d1e"
      },
      "source": [
        "from google.colab import drive\n",
        "drive.mount('/content/drive')"
      ],
      "execution_count": 6,
      "outputs": [
        {
          "output_type": "stream",
          "text": [
            "Mounted at /content/drive\n"
          ],
          "name": "stdout"
        }
      ]
    },
    {
      "cell_type": "code",
      "metadata": {
        "ExecuteTime": {
          "end_time": "2020-07-10T01:32:43.633555Z",
          "start_time": "2020-07-10T01:32:42.547097Z"
        },
        "id": "x0u-AbIDU9jY"
      },
      "source": [
        "df = pd.read_csv(\"/content/drive/MyDrive/datasets/OnlineNewsPopularity.csv\").sample(frac = 0.1).reset_index(drop = True)\n",
        "\n",
        "df.columns = [x.strip() for x in df.columns] # Remoción de espacio de las columas (' hola ' -> 'hola')\n",
        "\n",
        "df[\"success\"] = (df[\"shares\"] > df[\"shares\"].quantile(.5))*1 # Generación de variable objetivo discreta\n",
        "\n",
        "ls_cont = ['n_tokens_title', 'n_tokens_content', 'n_unique_tokens', 'n_non_stop_words', \n",
        "           'n_non_stop_unique_tokens', 'num_hrefs', 'num_self_hrefs', 'num_imgs', 'num_videos', \n",
        "           'average_token_length', 'num_keywords', 'kw_min_min', 'kw_max_min', 'kw_avg_min', \n",
        "           'kw_min_max', 'kw_max_max', 'kw_avg_max', 'kw_min_avg', 'kw_max_avg', 'kw_avg_avg', \n",
        "           'self_reference_min_shares', 'self_reference_max_shares', 'self_reference_avg_sharess', \n",
        "           'LDA_00', 'LDA_01', 'LDA_02', 'LDA_03', 'LDA_04', 'global_subjectivity', \n",
        "           'global_sentiment_polarity', 'global_rate_positive_words', 'global_rate_negative_words',\n",
        "           'rate_positive_words', 'rate_negative_words', 'avg_positive_polarity', 'min_positive_polarity',\n",
        "           'max_positive_polarity', 'avg_negative_polarity', 'min_negative_polarity', \n",
        "           'max_negative_polarity', 'title_subjectivity', 'title_sentiment_polarity', \n",
        "           'abs_title_subjectivity', 'abs_title_sentiment_polarity']\n",
        "target = \"shares\"\n",
        "target_disc = \"success\""
      ],
      "execution_count": 7,
      "outputs": []
    },
    {
      "cell_type": "code",
      "metadata": {
        "ExecuteTime": {
          "end_time": "2020-07-10T01:32:49.421568Z",
          "start_time": "2020-07-10T01:32:49.363734Z"
        },
        "colab": {
          "base_uri": "https://localhost:8080/",
          "height": 541
        },
        "id": "9WHfcwECU9ja",
        "outputId": "4c2d5e53-dfab-4075-e7f3-1546ee024c2a"
      },
      "source": [
        "df"
      ],
      "execution_count": 8,
      "outputs": [
        {
          "output_type": "execute_result",
          "data": {
            "text/html": [
              "<div>\n",
              "<style scoped>\n",
              "    .dataframe tbody tr th:only-of-type {\n",
              "        vertical-align: middle;\n",
              "    }\n",
              "\n",
              "    .dataframe tbody tr th {\n",
              "        vertical-align: top;\n",
              "    }\n",
              "\n",
              "    .dataframe thead th {\n",
              "        text-align: right;\n",
              "    }\n",
              "</style>\n",
              "<table border=\"1\" class=\"dataframe\">\n",
              "  <thead>\n",
              "    <tr style=\"text-align: right;\">\n",
              "      <th></th>\n",
              "      <th>url</th>\n",
              "      <th>timedelta</th>\n",
              "      <th>n_tokens_title</th>\n",
              "      <th>n_tokens_content</th>\n",
              "      <th>n_unique_tokens</th>\n",
              "      <th>n_non_stop_words</th>\n",
              "      <th>n_non_stop_unique_tokens</th>\n",
              "      <th>num_hrefs</th>\n",
              "      <th>num_self_hrefs</th>\n",
              "      <th>num_imgs</th>\n",
              "      <th>num_videos</th>\n",
              "      <th>average_token_length</th>\n",
              "      <th>num_keywords</th>\n",
              "      <th>data_channel_is_lifestyle</th>\n",
              "      <th>data_channel_is_entertainment</th>\n",
              "      <th>data_channel_is_bus</th>\n",
              "      <th>data_channel_is_socmed</th>\n",
              "      <th>data_channel_is_tech</th>\n",
              "      <th>data_channel_is_world</th>\n",
              "      <th>kw_min_min</th>\n",
              "      <th>kw_max_min</th>\n",
              "      <th>kw_avg_min</th>\n",
              "      <th>kw_min_max</th>\n",
              "      <th>kw_max_max</th>\n",
              "      <th>kw_avg_max</th>\n",
              "      <th>kw_min_avg</th>\n",
              "      <th>kw_max_avg</th>\n",
              "      <th>kw_avg_avg</th>\n",
              "      <th>self_reference_min_shares</th>\n",
              "      <th>self_reference_max_shares</th>\n",
              "      <th>self_reference_avg_sharess</th>\n",
              "      <th>weekday_is_monday</th>\n",
              "      <th>weekday_is_tuesday</th>\n",
              "      <th>weekday_is_wednesday</th>\n",
              "      <th>weekday_is_thursday</th>\n",
              "      <th>weekday_is_friday</th>\n",
              "      <th>weekday_is_saturday</th>\n",
              "      <th>weekday_is_sunday</th>\n",
              "      <th>is_weekend</th>\n",
              "      <th>LDA_00</th>\n",
              "      <th>LDA_01</th>\n",
              "      <th>LDA_02</th>\n",
              "      <th>LDA_03</th>\n",
              "      <th>LDA_04</th>\n",
              "      <th>global_subjectivity</th>\n",
              "      <th>global_sentiment_polarity</th>\n",
              "      <th>global_rate_positive_words</th>\n",
              "      <th>global_rate_negative_words</th>\n",
              "      <th>rate_positive_words</th>\n",
              "      <th>rate_negative_words</th>\n",
              "      <th>avg_positive_polarity</th>\n",
              "      <th>min_positive_polarity</th>\n",
              "      <th>max_positive_polarity</th>\n",
              "      <th>avg_negative_polarity</th>\n",
              "      <th>min_negative_polarity</th>\n",
              "      <th>max_negative_polarity</th>\n",
              "      <th>title_subjectivity</th>\n",
              "      <th>title_sentiment_polarity</th>\n",
              "      <th>abs_title_subjectivity</th>\n",
              "      <th>abs_title_sentiment_polarity</th>\n",
              "      <th>shares</th>\n",
              "      <th>success</th>\n",
              "    </tr>\n",
              "  </thead>\n",
              "  <tbody>\n",
              "    <tr>\n",
              "      <th>0</th>\n",
              "      <td>http://mashable.com/2013/04/10/nhl-team-trolls...</td>\n",
              "      <td>638.0</td>\n",
              "      <td>8.0</td>\n",
              "      <td>288.0</td>\n",
              "      <td>0.663121</td>\n",
              "      <td>1.0</td>\n",
              "      <td>0.771739</td>\n",
              "      <td>10.0</td>\n",
              "      <td>5.0</td>\n",
              "      <td>1.0</td>\n",
              "      <td>0.0</td>\n",
              "      <td>4.673611</td>\n",
              "      <td>4.0</td>\n",
              "      <td>0.0</td>\n",
              "      <td>1.0</td>\n",
              "      <td>0.0</td>\n",
              "      <td>0.0</td>\n",
              "      <td>0.0</td>\n",
              "      <td>0.0</td>\n",
              "      <td>4.0</td>\n",
              "      <td>1100.0</td>\n",
              "      <td>423.000000</td>\n",
              "      <td>9400.0</td>\n",
              "      <td>617900.0</td>\n",
              "      <td>184200.000000</td>\n",
              "      <td>2170.397306</td>\n",
              "      <td>3575.000000</td>\n",
              "      <td>3006.136878</td>\n",
              "      <td>2000.0</td>\n",
              "      <td>2000.0</td>\n",
              "      <td>2000.000000</td>\n",
              "      <td>0.0</td>\n",
              "      <td>0.0</td>\n",
              "      <td>1.0</td>\n",
              "      <td>0.0</td>\n",
              "      <td>0.0</td>\n",
              "      <td>0.0</td>\n",
              "      <td>0.0</td>\n",
              "      <td>0.0</td>\n",
              "      <td>0.050003</td>\n",
              "      <td>0.052294</td>\n",
              "      <td>0.050149</td>\n",
              "      <td>0.797554</td>\n",
              "      <td>0.050000</td>\n",
              "      <td>0.429661</td>\n",
              "      <td>0.115565</td>\n",
              "      <td>0.048611</td>\n",
              "      <td>0.010417</td>\n",
              "      <td>0.823529</td>\n",
              "      <td>0.176471</td>\n",
              "      <td>0.280535</td>\n",
              "      <td>0.033333</td>\n",
              "      <td>0.5</td>\n",
              "      <td>-0.230556</td>\n",
              "      <td>-0.400000</td>\n",
              "      <td>-0.125000</td>\n",
              "      <td>0.000000</td>\n",
              "      <td>0.000000</td>\n",
              "      <td>0.500000</td>\n",
              "      <td>0.000000</td>\n",
              "      <td>1400</td>\n",
              "      <td>0</td>\n",
              "    </tr>\n",
              "    <tr>\n",
              "      <th>1</th>\n",
              "      <td>http://mashable.com/2013/03/05/getgoing/</td>\n",
              "      <td>674.0</td>\n",
              "      <td>13.0</td>\n",
              "      <td>595.0</td>\n",
              "      <td>0.494098</td>\n",
              "      <td>1.0</td>\n",
              "      <td>0.706231</td>\n",
              "      <td>5.0</td>\n",
              "      <td>2.0</td>\n",
              "      <td>1.0</td>\n",
              "      <td>0.0</td>\n",
              "      <td>4.578151</td>\n",
              "      <td>8.0</td>\n",
              "      <td>0.0</td>\n",
              "      <td>0.0</td>\n",
              "      <td>1.0</td>\n",
              "      <td>0.0</td>\n",
              "      <td>0.0</td>\n",
              "      <td>0.0</td>\n",
              "      <td>217.0</td>\n",
              "      <td>643.0</td>\n",
              "      <td>410.250000</td>\n",
              "      <td>3200.0</td>\n",
              "      <td>617900.0</td>\n",
              "      <td>123887.500000</td>\n",
              "      <td>1440.307692</td>\n",
              "      <td>7675.076923</td>\n",
              "      <td>3123.999249</td>\n",
              "      <td>0.0</td>\n",
              "      <td>0.0</td>\n",
              "      <td>0.000000</td>\n",
              "      <td>0.0</td>\n",
              "      <td>1.0</td>\n",
              "      <td>0.0</td>\n",
              "      <td>0.0</td>\n",
              "      <td>0.0</td>\n",
              "      <td>0.0</td>\n",
              "      <td>0.0</td>\n",
              "      <td>0.0</td>\n",
              "      <td>0.787695</td>\n",
              "      <td>0.136638</td>\n",
              "      <td>0.025033</td>\n",
              "      <td>0.025067</td>\n",
              "      <td>0.025567</td>\n",
              "      <td>0.434557</td>\n",
              "      <td>0.250529</td>\n",
              "      <td>0.042017</td>\n",
              "      <td>0.003361</td>\n",
              "      <td>0.925926</td>\n",
              "      <td>0.074074</td>\n",
              "      <td>0.420762</td>\n",
              "      <td>0.050000</td>\n",
              "      <td>0.8</td>\n",
              "      <td>-0.400000</td>\n",
              "      <td>-0.600000</td>\n",
              "      <td>-0.200000</td>\n",
              "      <td>0.100000</td>\n",
              "      <td>0.000000</td>\n",
              "      <td>0.400000</td>\n",
              "      <td>0.000000</td>\n",
              "      <td>2000</td>\n",
              "      <td>1</td>\n",
              "    </tr>\n",
              "    <tr>\n",
              "      <th>2</th>\n",
              "      <td>http://mashable.com/2013/09/17/jumpstagram-pho...</td>\n",
              "      <td>478.0</td>\n",
              "      <td>12.0</td>\n",
              "      <td>189.0</td>\n",
              "      <td>0.735450</td>\n",
              "      <td>1.0</td>\n",
              "      <td>0.856000</td>\n",
              "      <td>4.0</td>\n",
              "      <td>3.0</td>\n",
              "      <td>0.0</td>\n",
              "      <td>1.0</td>\n",
              "      <td>4.862434</td>\n",
              "      <td>4.0</td>\n",
              "      <td>0.0</td>\n",
              "      <td>1.0</td>\n",
              "      <td>0.0</td>\n",
              "      <td>0.0</td>\n",
              "      <td>0.0</td>\n",
              "      <td>0.0</td>\n",
              "      <td>4.0</td>\n",
              "      <td>176.0</td>\n",
              "      <td>84.000000</td>\n",
              "      <td>11600.0</td>\n",
              "      <td>843300.0</td>\n",
              "      <td>278675.000000</td>\n",
              "      <td>1500.701493</td>\n",
              "      <td>3276.256926</td>\n",
              "      <td>2441.977896</td>\n",
              "      <td>1300.0</td>\n",
              "      <td>11600.0</td>\n",
              "      <td>5433.333333</td>\n",
              "      <td>0.0</td>\n",
              "      <td>1.0</td>\n",
              "      <td>0.0</td>\n",
              "      <td>0.0</td>\n",
              "      <td>0.0</td>\n",
              "      <td>0.0</td>\n",
              "      <td>0.0</td>\n",
              "      <td>0.0</td>\n",
              "      <td>0.050003</td>\n",
              "      <td>0.799198</td>\n",
              "      <td>0.050138</td>\n",
              "      <td>0.050661</td>\n",
              "      <td>0.050000</td>\n",
              "      <td>0.513333</td>\n",
              "      <td>0.001667</td>\n",
              "      <td>0.026455</td>\n",
              "      <td>0.021164</td>\n",
              "      <td>0.555556</td>\n",
              "      <td>0.444444</td>\n",
              "      <td>0.677273</td>\n",
              "      <td>0.136364</td>\n",
              "      <td>1.0</td>\n",
              "      <td>-0.583333</td>\n",
              "      <td>-1.000000</td>\n",
              "      <td>-0.166667</td>\n",
              "      <td>1.000000</td>\n",
              "      <td>-1.000000</td>\n",
              "      <td>0.500000</td>\n",
              "      <td>1.000000</td>\n",
              "      <td>914</td>\n",
              "      <td>0</td>\n",
              "    </tr>\n",
              "    <tr>\n",
              "      <th>3</th>\n",
              "      <td>http://mashable.com/2014/05/06/aol-buys-conver...</td>\n",
              "      <td>247.0</td>\n",
              "      <td>9.0</td>\n",
              "      <td>618.0</td>\n",
              "      <td>0.575862</td>\n",
              "      <td>1.0</td>\n",
              "      <td>0.709677</td>\n",
              "      <td>14.0</td>\n",
              "      <td>3.0</td>\n",
              "      <td>0.0</td>\n",
              "      <td>11.0</td>\n",
              "      <td>4.645631</td>\n",
              "      <td>10.0</td>\n",
              "      <td>0.0</td>\n",
              "      <td>0.0</td>\n",
              "      <td>1.0</td>\n",
              "      <td>0.0</td>\n",
              "      <td>0.0</td>\n",
              "      <td>0.0</td>\n",
              "      <td>-1.0</td>\n",
              "      <td>803.0</td>\n",
              "      <td>250.686667</td>\n",
              "      <td>0.0</td>\n",
              "      <td>843300.0</td>\n",
              "      <td>443570.000000</td>\n",
              "      <td>0.000000</td>\n",
              "      <td>85755.500000</td>\n",
              "      <td>12495.068718</td>\n",
              "      <td>1900.0</td>\n",
              "      <td>5800.0</td>\n",
              "      <td>3233.333333</td>\n",
              "      <td>0.0</td>\n",
              "      <td>1.0</td>\n",
              "      <td>0.0</td>\n",
              "      <td>0.0</td>\n",
              "      <td>0.0</td>\n",
              "      <td>0.0</td>\n",
              "      <td>0.0</td>\n",
              "      <td>0.0</td>\n",
              "      <td>0.420582</td>\n",
              "      <td>0.020216</td>\n",
              "      <td>0.020046</td>\n",
              "      <td>0.519155</td>\n",
              "      <td>0.020000</td>\n",
              "      <td>0.566894</td>\n",
              "      <td>0.178399</td>\n",
              "      <td>0.045307</td>\n",
              "      <td>0.011327</td>\n",
              "      <td>0.800000</td>\n",
              "      <td>0.200000</td>\n",
              "      <td>0.393220</td>\n",
              "      <td>0.050000</td>\n",
              "      <td>1.0</td>\n",
              "      <td>-0.340476</td>\n",
              "      <td>-0.666667</td>\n",
              "      <td>-0.050000</td>\n",
              "      <td>1.000000</td>\n",
              "      <td>-1.000000</td>\n",
              "      <td>0.500000</td>\n",
              "      <td>1.000000</td>\n",
              "      <td>1200</td>\n",
              "      <td>0</td>\n",
              "    </tr>\n",
              "    <tr>\n",
              "      <th>4</th>\n",
              "      <td>http://mashable.com/2013/02/17/tech-inspired-r...</td>\n",
              "      <td>690.0</td>\n",
              "      <td>10.0</td>\n",
              "      <td>1003.0</td>\n",
              "      <td>0.472505</td>\n",
              "      <td>1.0</td>\n",
              "      <td>0.632588</td>\n",
              "      <td>36.0</td>\n",
              "      <td>2.0</td>\n",
              "      <td>0.0</td>\n",
              "      <td>13.0</td>\n",
              "      <td>4.725823</td>\n",
              "      <td>6.0</td>\n",
              "      <td>0.0</td>\n",
              "      <td>0.0</td>\n",
              "      <td>0.0</td>\n",
              "      <td>0.0</td>\n",
              "      <td>0.0</td>\n",
              "      <td>0.0</td>\n",
              "      <td>217.0</td>\n",
              "      <td>397.0</td>\n",
              "      <td>333.333333</td>\n",
              "      <td>37400.0</td>\n",
              "      <td>69100.0</td>\n",
              "      <td>62816.666667</td>\n",
              "      <td>2662.860184</td>\n",
              "      <td>4038.441441</td>\n",
              "      <td>3396.760912</td>\n",
              "      <td>1400.0</td>\n",
              "      <td>4200.0</td>\n",
              "      <td>2800.000000</td>\n",
              "      <td>0.0</td>\n",
              "      <td>0.0</td>\n",
              "      <td>0.0</td>\n",
              "      <td>0.0</td>\n",
              "      <td>0.0</td>\n",
              "      <td>0.0</td>\n",
              "      <td>1.0</td>\n",
              "      <td>1.0</td>\n",
              "      <td>0.034540</td>\n",
              "      <td>0.437341</td>\n",
              "      <td>0.033410</td>\n",
              "      <td>0.460561</td>\n",
              "      <td>0.034149</td>\n",
              "      <td>0.551878</td>\n",
              "      <td>0.248830</td>\n",
              "      <td>0.065803</td>\n",
              "      <td>0.015952</td>\n",
              "      <td>0.804878</td>\n",
              "      <td>0.195122</td>\n",
              "      <td>0.479343</td>\n",
              "      <td>0.100000</td>\n",
              "      <td>1.0</td>\n",
              "      <td>-0.348301</td>\n",
              "      <td>-1.000000</td>\n",
              "      <td>-0.050000</td>\n",
              "      <td>0.000000</td>\n",
              "      <td>0.000000</td>\n",
              "      <td>0.500000</td>\n",
              "      <td>0.000000</td>\n",
              "      <td>6400</td>\n",
              "      <td>1</td>\n",
              "    </tr>\n",
              "    <tr>\n",
              "      <th>...</th>\n",
              "      <td>...</td>\n",
              "      <td>...</td>\n",
              "      <td>...</td>\n",
              "      <td>...</td>\n",
              "      <td>...</td>\n",
              "      <td>...</td>\n",
              "      <td>...</td>\n",
              "      <td>...</td>\n",
              "      <td>...</td>\n",
              "      <td>...</td>\n",
              "      <td>...</td>\n",
              "      <td>...</td>\n",
              "      <td>...</td>\n",
              "      <td>...</td>\n",
              "      <td>...</td>\n",
              "      <td>...</td>\n",
              "      <td>...</td>\n",
              "      <td>...</td>\n",
              "      <td>...</td>\n",
              "      <td>...</td>\n",
              "      <td>...</td>\n",
              "      <td>...</td>\n",
              "      <td>...</td>\n",
              "      <td>...</td>\n",
              "      <td>...</td>\n",
              "      <td>...</td>\n",
              "      <td>...</td>\n",
              "      <td>...</td>\n",
              "      <td>...</td>\n",
              "      <td>...</td>\n",
              "      <td>...</td>\n",
              "      <td>...</td>\n",
              "      <td>...</td>\n",
              "      <td>...</td>\n",
              "      <td>...</td>\n",
              "      <td>...</td>\n",
              "      <td>...</td>\n",
              "      <td>...</td>\n",
              "      <td>...</td>\n",
              "      <td>...</td>\n",
              "      <td>...</td>\n",
              "      <td>...</td>\n",
              "      <td>...</td>\n",
              "      <td>...</td>\n",
              "      <td>...</td>\n",
              "      <td>...</td>\n",
              "      <td>...</td>\n",
              "      <td>...</td>\n",
              "      <td>...</td>\n",
              "      <td>...</td>\n",
              "      <td>...</td>\n",
              "      <td>...</td>\n",
              "      <td>...</td>\n",
              "      <td>...</td>\n",
              "      <td>...</td>\n",
              "      <td>...</td>\n",
              "      <td>...</td>\n",
              "      <td>...</td>\n",
              "      <td>...</td>\n",
              "      <td>...</td>\n",
              "      <td>...</td>\n",
              "      <td>...</td>\n",
              "    </tr>\n",
              "    <tr>\n",
              "      <th>3959</th>\n",
              "      <td>http://mashable.com/2013/08/15/facebook-paypal/</td>\n",
              "      <td>511.0</td>\n",
              "      <td>12.0</td>\n",
              "      <td>375.0</td>\n",
              "      <td>0.524064</td>\n",
              "      <td>1.0</td>\n",
              "      <td>0.675439</td>\n",
              "      <td>6.0</td>\n",
              "      <td>4.0</td>\n",
              "      <td>1.0</td>\n",
              "      <td>0.0</td>\n",
              "      <td>5.088000</td>\n",
              "      <td>10.0</td>\n",
              "      <td>0.0</td>\n",
              "      <td>0.0</td>\n",
              "      <td>1.0</td>\n",
              "      <td>0.0</td>\n",
              "      <td>0.0</td>\n",
              "      <td>0.0</td>\n",
              "      <td>4.0</td>\n",
              "      <td>602.0</td>\n",
              "      <td>153.700000</td>\n",
              "      <td>7300.0</td>\n",
              "      <td>843300.0</td>\n",
              "      <td>270520.000000</td>\n",
              "      <td>1607.350000</td>\n",
              "      <td>4349.762646</td>\n",
              "      <td>2929.302946</td>\n",
              "      <td>1400.0</td>\n",
              "      <td>28500.0</td>\n",
              "      <td>14950.000000</td>\n",
              "      <td>0.0</td>\n",
              "      <td>0.0</td>\n",
              "      <td>0.0</td>\n",
              "      <td>1.0</td>\n",
              "      <td>0.0</td>\n",
              "      <td>0.0</td>\n",
              "      <td>0.0</td>\n",
              "      <td>0.0</td>\n",
              "      <td>0.351851</td>\n",
              "      <td>0.020002</td>\n",
              "      <td>0.020081</td>\n",
              "      <td>0.020000</td>\n",
              "      <td>0.588065</td>\n",
              "      <td>0.406524</td>\n",
              "      <td>0.004905</td>\n",
              "      <td>0.018667</td>\n",
              "      <td>0.018667</td>\n",
              "      <td>0.500000</td>\n",
              "      <td>0.500000</td>\n",
              "      <td>0.259184</td>\n",
              "      <td>0.100000</td>\n",
              "      <td>0.5</td>\n",
              "      <td>-0.213095</td>\n",
              "      <td>-0.300000</td>\n",
              "      <td>-0.050000</td>\n",
              "      <td>0.454545</td>\n",
              "      <td>0.136364</td>\n",
              "      <td>0.045455</td>\n",
              "      <td>0.136364</td>\n",
              "      <td>2500</td>\n",
              "      <td>1</td>\n",
              "    </tr>\n",
              "    <tr>\n",
              "      <th>3960</th>\n",
              "      <td>http://mashable.com/2013/01/09/google-flu/</td>\n",
              "      <td>729.0</td>\n",
              "      <td>6.0</td>\n",
              "      <td>389.0</td>\n",
              "      <td>0.555556</td>\n",
              "      <td>1.0</td>\n",
              "      <td>0.725581</td>\n",
              "      <td>9.0</td>\n",
              "      <td>5.0</td>\n",
              "      <td>1.0</td>\n",
              "      <td>1.0</td>\n",
              "      <td>4.316195</td>\n",
              "      <td>7.0</td>\n",
              "      <td>0.0</td>\n",
              "      <td>0.0</td>\n",
              "      <td>0.0</td>\n",
              "      <td>0.0</td>\n",
              "      <td>0.0</td>\n",
              "      <td>1.0</td>\n",
              "      <td>217.0</td>\n",
              "      <td>495.0</td>\n",
              "      <td>402.333333</td>\n",
              "      <td>0.0</td>\n",
              "      <td>17100.0</td>\n",
              "      <td>2914.285714</td>\n",
              "      <td>0.000000</td>\n",
              "      <td>1953.144444</td>\n",
              "      <td>542.041043</td>\n",
              "      <td>1300.0</td>\n",
              "      <td>1300.0</td>\n",
              "      <td>1300.000000</td>\n",
              "      <td>0.0</td>\n",
              "      <td>0.0</td>\n",
              "      <td>1.0</td>\n",
              "      <td>0.0</td>\n",
              "      <td>0.0</td>\n",
              "      <td>0.0</td>\n",
              "      <td>0.0</td>\n",
              "      <td>0.0</td>\n",
              "      <td>0.028725</td>\n",
              "      <td>0.028578</td>\n",
              "      <td>0.497388</td>\n",
              "      <td>0.028574</td>\n",
              "      <td>0.416735</td>\n",
              "      <td>0.614921</td>\n",
              "      <td>0.138499</td>\n",
              "      <td>0.056555</td>\n",
              "      <td>0.010283</td>\n",
              "      <td>0.846154</td>\n",
              "      <td>0.153846</td>\n",
              "      <td>0.352698</td>\n",
              "      <td>0.100000</td>\n",
              "      <td>1.0</td>\n",
              "      <td>-0.322222</td>\n",
              "      <td>-0.500000</td>\n",
              "      <td>-0.155556</td>\n",
              "      <td>0.000000</td>\n",
              "      <td>0.000000</td>\n",
              "      <td>0.500000</td>\n",
              "      <td>0.000000</td>\n",
              "      <td>5600</td>\n",
              "      <td>1</td>\n",
              "    </tr>\n",
              "    <tr>\n",
              "      <th>3961</th>\n",
              "      <td>http://mashable.com/2013/10/30/roomba-light-show/</td>\n",
              "      <td>435.0</td>\n",
              "      <td>11.0</td>\n",
              "      <td>1285.0</td>\n",
              "      <td>0.376959</td>\n",
              "      <td>1.0</td>\n",
              "      <td>0.576758</td>\n",
              "      <td>8.0</td>\n",
              "      <td>7.0</td>\n",
              "      <td>1.0</td>\n",
              "      <td>1.0</td>\n",
              "      <td>4.473152</td>\n",
              "      <td>10.0</td>\n",
              "      <td>0.0</td>\n",
              "      <td>0.0</td>\n",
              "      <td>0.0</td>\n",
              "      <td>0.0</td>\n",
              "      <td>1.0</td>\n",
              "      <td>0.0</td>\n",
              "      <td>4.0</td>\n",
              "      <td>562.0</td>\n",
              "      <td>160.333333</td>\n",
              "      <td>0.0</td>\n",
              "      <td>843300.0</td>\n",
              "      <td>157700.000000</td>\n",
              "      <td>0.000000</td>\n",
              "      <td>3436.073639</td>\n",
              "      <td>2322.588726</td>\n",
              "      <td>549.0</td>\n",
              "      <td>4800.0</td>\n",
              "      <td>1726.000000</td>\n",
              "      <td>0.0</td>\n",
              "      <td>0.0</td>\n",
              "      <td>1.0</td>\n",
              "      <td>0.0</td>\n",
              "      <td>0.0</td>\n",
              "      <td>0.0</td>\n",
              "      <td>0.0</td>\n",
              "      <td>0.0</td>\n",
              "      <td>0.020088</td>\n",
              "      <td>0.020003</td>\n",
              "      <td>0.020003</td>\n",
              "      <td>0.020023</td>\n",
              "      <td>0.919882</td>\n",
              "      <td>0.516600</td>\n",
              "      <td>0.168892</td>\n",
              "      <td>0.046693</td>\n",
              "      <td>0.009339</td>\n",
              "      <td>0.833333</td>\n",
              "      <td>0.166667</td>\n",
              "      <td>0.367949</td>\n",
              "      <td>0.050000</td>\n",
              "      <td>1.0</td>\n",
              "      <td>-0.266667</td>\n",
              "      <td>-0.800000</td>\n",
              "      <td>-0.100000</td>\n",
              "      <td>0.000000</td>\n",
              "      <td>0.000000</td>\n",
              "      <td>0.500000</td>\n",
              "      <td>0.000000</td>\n",
              "      <td>6500</td>\n",
              "      <td>1</td>\n",
              "    </tr>\n",
              "    <tr>\n",
              "      <th>3962</th>\n",
              "      <td>http://mashable.com/2013/01/22/kate-upton-merc...</td>\n",
              "      <td>716.0</td>\n",
              "      <td>10.0</td>\n",
              "      <td>179.0</td>\n",
              "      <td>0.636364</td>\n",
              "      <td>1.0</td>\n",
              "      <td>0.739130</td>\n",
              "      <td>4.0</td>\n",
              "      <td>3.0</td>\n",
              "      <td>0.0</td>\n",
              "      <td>1.0</td>\n",
              "      <td>4.374302</td>\n",
              "      <td>7.0</td>\n",
              "      <td>0.0</td>\n",
              "      <td>0.0</td>\n",
              "      <td>0.0</td>\n",
              "      <td>0.0</td>\n",
              "      <td>0.0</td>\n",
              "      <td>0.0</td>\n",
              "      <td>217.0</td>\n",
              "      <td>577.0</td>\n",
              "      <td>385.285714</td>\n",
              "      <td>5000.0</td>\n",
              "      <td>51900.0</td>\n",
              "      <td>23471.428571</td>\n",
              "      <td>1532.954545</td>\n",
              "      <td>2985.708861</td>\n",
              "      <td>2328.353760</td>\n",
              "      <td>881.0</td>\n",
              "      <td>881.0</td>\n",
              "      <td>881.000000</td>\n",
              "      <td>0.0</td>\n",
              "      <td>1.0</td>\n",
              "      <td>0.0</td>\n",
              "      <td>0.0</td>\n",
              "      <td>0.0</td>\n",
              "      <td>0.0</td>\n",
              "      <td>0.0</td>\n",
              "      <td>0.0</td>\n",
              "      <td>0.224379</td>\n",
              "      <td>0.028842</td>\n",
              "      <td>0.028640</td>\n",
              "      <td>0.689564</td>\n",
              "      <td>0.028575</td>\n",
              "      <td>0.529221</td>\n",
              "      <td>0.162338</td>\n",
              "      <td>0.061453</td>\n",
              "      <td>0.016760</td>\n",
              "      <td>0.785714</td>\n",
              "      <td>0.214286</td>\n",
              "      <td>0.319008</td>\n",
              "      <td>0.033333</td>\n",
              "      <td>0.7</td>\n",
              "      <td>-0.416667</td>\n",
              "      <td>-0.800000</td>\n",
              "      <td>-0.150000</td>\n",
              "      <td>0.666667</td>\n",
              "      <td>0.333333</td>\n",
              "      <td>0.166667</td>\n",
              "      <td>0.333333</td>\n",
              "      <td>1000</td>\n",
              "      <td>0</td>\n",
              "    </tr>\n",
              "    <tr>\n",
              "      <th>3963</th>\n",
              "      <td>http://mashable.com/2013/08/01/moto-x-announced/</td>\n",
              "      <td>525.0</td>\n",
              "      <td>7.0</td>\n",
              "      <td>1327.0</td>\n",
              "      <td>0.383372</td>\n",
              "      <td>1.0</td>\n",
              "      <td>0.558170</td>\n",
              "      <td>5.0</td>\n",
              "      <td>5.0</td>\n",
              "      <td>17.0</td>\n",
              "      <td>1.0</td>\n",
              "      <td>4.229842</td>\n",
              "      <td>9.0</td>\n",
              "      <td>0.0</td>\n",
              "      <td>0.0</td>\n",
              "      <td>0.0</td>\n",
              "      <td>0.0</td>\n",
              "      <td>1.0</td>\n",
              "      <td>0.0</td>\n",
              "      <td>4.0</td>\n",
              "      <td>493.0</td>\n",
              "      <td>194.250000</td>\n",
              "      <td>0.0</td>\n",
              "      <td>843300.0</td>\n",
              "      <td>162844.444444</td>\n",
              "      <td>0.000000</td>\n",
              "      <td>4468.823529</td>\n",
              "      <td>2501.347436</td>\n",
              "      <td>549.0</td>\n",
              "      <td>1100.0</td>\n",
              "      <td>883.000000</td>\n",
              "      <td>0.0</td>\n",
              "      <td>0.0</td>\n",
              "      <td>0.0</td>\n",
              "      <td>1.0</td>\n",
              "      <td>0.0</td>\n",
              "      <td>0.0</td>\n",
              "      <td>0.0</td>\n",
              "      <td>0.0</td>\n",
              "      <td>0.022273</td>\n",
              "      <td>0.022223</td>\n",
              "      <td>0.022247</td>\n",
              "      <td>0.022222</td>\n",
              "      <td>0.911034</td>\n",
              "      <td>0.462198</td>\n",
              "      <td>0.192369</td>\n",
              "      <td>0.050490</td>\n",
              "      <td>0.016579</td>\n",
              "      <td>0.752809</td>\n",
              "      <td>0.247191</td>\n",
              "      <td>0.397619</td>\n",
              "      <td>0.100000</td>\n",
              "      <td>1.0</td>\n",
              "      <td>-0.159010</td>\n",
              "      <td>-0.300000</td>\n",
              "      <td>-0.050000</td>\n",
              "      <td>0.000000</td>\n",
              "      <td>0.000000</td>\n",
              "      <td>0.500000</td>\n",
              "      <td>0.000000</td>\n",
              "      <td>1800</td>\n",
              "      <td>1</td>\n",
              "    </tr>\n",
              "  </tbody>\n",
              "</table>\n",
              "<p>3964 rows × 62 columns</p>\n",
              "</div>"
            ],
            "text/plain": [
              "                                                    url  ...  success\n",
              "0     http://mashable.com/2013/04/10/nhl-team-trolls...  ...        0\n",
              "1              http://mashable.com/2013/03/05/getgoing/  ...        1\n",
              "2     http://mashable.com/2013/09/17/jumpstagram-pho...  ...        0\n",
              "3     http://mashable.com/2014/05/06/aol-buys-conver...  ...        0\n",
              "4     http://mashable.com/2013/02/17/tech-inspired-r...  ...        1\n",
              "...                                                 ...  ...      ...\n",
              "3959    http://mashable.com/2013/08/15/facebook-paypal/  ...        1\n",
              "3960         http://mashable.com/2013/01/09/google-flu/  ...        1\n",
              "3961  http://mashable.com/2013/10/30/roomba-light-show/  ...        1\n",
              "3962  http://mashable.com/2013/01/22/kate-upton-merc...  ...        0\n",
              "3963   http://mashable.com/2013/08/01/moto-x-announced/  ...        1\n",
              "\n",
              "[3964 rows x 62 columns]"
            ]
          },
          "metadata": {
            "tags": []
          },
          "execution_count": 8
        }
      ]
    },
    {
      "cell_type": "code",
      "metadata": {
        "id": "2PnhXOHzp1mD"
      },
      "source": [
        "df[\"date\"] = pd.to_datetime(df[\"url\"].str.split(\"/\").str[3:6].str.join(\"/\")) # Obtención de fecha"
      ],
      "execution_count": 10,
      "outputs": []
    },
    {
      "cell_type": "code",
      "metadata": {
        "colab": {
          "base_uri": "https://localhost:8080/"
        },
        "id": "Y_y61n8mpsuH",
        "outputId": "e6613873-edca-4f47-8846-c66ef78b7d21"
      },
      "source": [
        "df[\"date\"].dt.strftime(\"%Y-%m-01\")"
      ],
      "execution_count": 11,
      "outputs": [
        {
          "output_type": "execute_result",
          "data": {
            "text/plain": [
              "0       2013-04-01\n",
              "1       2013-03-01\n",
              "2       2013-09-01\n",
              "3       2014-05-01\n",
              "4       2013-02-01\n",
              "           ...    \n",
              "3959    2013-08-01\n",
              "3960    2013-01-01\n",
              "3961    2013-10-01\n",
              "3962    2013-01-01\n",
              "3963    2013-08-01\n",
              "Name: date, Length: 3964, dtype: object"
            ]
          },
          "metadata": {
            "tags": []
          },
          "execution_count": 11
        }
      ]
    },
    {
      "cell_type": "code",
      "metadata": {
        "ExecuteTime": {
          "end_time": "2020-07-10T01:35:51.551523Z",
          "start_time": "2020-07-10T01:35:51.449682Z"
        },
        "id": "hn9GE8utU9ju"
      },
      "source": [
        "df[\"month\"] = df[\"date\"].dt.strftime(\"%Y-%m-01\") # Generación de mes"
      ],
      "execution_count": 12,
      "outputs": []
    },
    {
      "cell_type": "code",
      "metadata": {
        "ExecuteTime": {
          "end_time": "2020-07-10T01:35:53.387025Z",
          "start_time": "2020-07-10T01:35:53.380094Z"
        },
        "colab": {
          "base_uri": "https://localhost:8080/"
        },
        "id": "FbOtkXXYU9jw",
        "outputId": "802a8fbc-817b-46ac-86b6-e33dd1b2f85e"
      },
      "source": [
        "sorted(df[\"month\"].unique())"
      ],
      "execution_count": 13,
      "outputs": [
        {
          "output_type": "execute_result",
          "data": {
            "text/plain": [
              "['2013-01-01',\n",
              " '2013-02-01',\n",
              " '2013-03-01',\n",
              " '2013-04-01',\n",
              " '2013-05-01',\n",
              " '2013-06-01',\n",
              " '2013-07-01',\n",
              " '2013-08-01',\n",
              " '2013-09-01',\n",
              " '2013-10-01',\n",
              " '2013-11-01',\n",
              " '2013-12-01',\n",
              " '2014-01-01',\n",
              " '2014-02-01',\n",
              " '2014-03-01',\n",
              " '2014-04-01',\n",
              " '2014-05-01',\n",
              " '2014-06-01',\n",
              " '2014-07-01',\n",
              " '2014-08-01',\n",
              " '2014-09-01',\n",
              " '2014-10-01',\n",
              " '2014-11-01',\n",
              " '2014-12-01']"
            ]
          },
          "metadata": {
            "tags": []
          },
          "execution_count": 13
        }
      ]
    },
    {
      "cell_type": "code",
      "metadata": {
        "ExecuteTime": {
          "end_time": "2020-07-10T01:36:29.266662Z",
          "start_time": "2020-07-10T01:36:29.213473Z"
        },
        "id": "BlQKgn-TU9jx"
      },
      "source": [
        "validate = df[df[\"date\"] >= datetime(2014, 6, 1)].reset_index(drop = True).copy() # Generación de validate por fecha\n",
        "train = df.drop(index = validate.index).reset_index(drop = True).copy()"
      ],
      "execution_count": 14,
      "outputs": []
    },
    {
      "cell_type": "code",
      "metadata": {
        "ExecuteTime": {
          "end_time": "2020-07-10T01:36:35.769156Z",
          "start_time": "2020-07-10T01:36:35.760105Z"
        },
        "id": "KXCs6vaiU9jz"
      },
      "source": [
        "train = train[train[target] <= 32000].reset_index(drop = True) # Remoción de outlier en target"
      ],
      "execution_count": 15,
      "outputs": []
    },
    {
      "cell_type": "code",
      "metadata": {
        "ExecuteTime": {
          "end_time": "2020-07-10T01:36:59.817472Z",
          "start_time": "2020-07-10T01:36:59.811828Z"
        },
        "id": "9PONIIogU9j1"
      },
      "source": [
        "# Separación de datos\n",
        "Xt = train[ls_cont]\n",
        "yr = train[target]\n",
        "yc = train[target_disc]"
      ],
      "execution_count": 16,
      "outputs": []
    },
    {
      "cell_type": "markdown",
      "metadata": {
        "id": "vm9ErfcjU9j3"
      },
      "source": [
        "## Modelado "
      ]
    },
    {
      "cell_type": "markdown",
      "metadata": {
        "id": "zEE5CCZOU9j4"
      },
      "source": [
        "#### Clasificador"
      ]
    },
    {
      "cell_type": "code",
      "metadata": {
        "ExecuteTime": {
          "end_time": "2020-07-10T01:37:03.102984Z",
          "start_time": "2020-07-10T01:37:03.099014Z"
        },
        "id": "4u2LChoFU9j6"
      },
      "source": [
        "logreg = LogisticRegression()"
      ],
      "execution_count": 17,
      "outputs": []
    },
    {
      "cell_type": "code",
      "metadata": {
        "ExecuteTime": {
          "end_time": "2020-07-10T01:37:05.935496Z",
          "start_time": "2020-07-10T01:37:05.712892Z"
        },
        "colab": {
          "base_uri": "https://localhost:8080/"
        },
        "id": "3VRrlYprU9j7",
        "outputId": "9c0642fb-22b3-46ff-8f6c-0c0b64d03df3"
      },
      "source": [
        "logreg.fit(Xt, yc)"
      ],
      "execution_count": 18,
      "outputs": [
        {
          "output_type": "stream",
          "text": [
            "/usr/local/lib/python3.6/dist-packages/sklearn/linear_model/_logistic.py:940: ConvergenceWarning: lbfgs failed to converge (status=1):\n",
            "STOP: TOTAL NO. of ITERATIONS REACHED LIMIT.\n",
            "\n",
            "Increase the number of iterations (max_iter) or scale the data as shown in:\n",
            "    https://scikit-learn.org/stable/modules/preprocessing.html\n",
            "Please also refer to the documentation for alternative solver options:\n",
            "    https://scikit-learn.org/stable/modules/linear_model.html#logistic-regression\n",
            "  extra_warning_msg=_LOGISTIC_SOLVER_CONVERGENCE_MSG)\n"
          ],
          "name": "stderr"
        },
        {
          "output_type": "execute_result",
          "data": {
            "text/plain": [
              "LogisticRegression(C=1.0, class_weight=None, dual=False, fit_intercept=True,\n",
              "                   intercept_scaling=1, l1_ratio=None, max_iter=100,\n",
              "                   multi_class='auto', n_jobs=None, penalty='l2',\n",
              "                   random_state=None, solver='lbfgs', tol=0.0001, verbose=0,\n",
              "                   warm_start=False)"
            ]
          },
          "metadata": {
            "tags": []
          },
          "execution_count": 18
        }
      ]
    },
    {
      "cell_type": "code",
      "metadata": {
        "ExecuteTime": {
          "end_time": "2020-07-10T01:37:15.405539Z",
          "start_time": "2020-07-10T01:37:14.164977Z"
        },
        "id": "53FHhEKGU9j9"
      },
      "source": [
        "# Cross validation\n",
        "ls_score = cross_val_score(estimator=logreg, X = Xt, y=yc, n_jobs=-1, scoring=\"roc_auc\", cv = 4)"
      ],
      "execution_count": 19,
      "outputs": []
    },
    {
      "cell_type": "code",
      "metadata": {
        "ExecuteTime": {
          "end_time": "2020-07-10T01:37:15.721228Z",
          "start_time": "2020-07-10T01:37:15.709443Z"
        },
        "colab": {
          "base_uri": "https://localhost:8080/"
        },
        "id": "FVMRW8KnU9kA",
        "outputId": "eed39d78-8f1e-4c5c-afa1-b187385e449c"
      },
      "source": [
        "np.mean(ls_score), np.std(ls_score)"
      ],
      "execution_count": 20,
      "outputs": [
        {
          "output_type": "execute_result",
          "data": {
            "text/plain": [
              "(0.6117698492432982, 0.01696194108397957)"
            ]
          },
          "metadata": {
            "tags": []
          },
          "execution_count": 20
        }
      ]
    },
    {
      "cell_type": "code",
      "metadata": {
        "ExecuteTime": {
          "end_time": "2020-07-10T01:37:32.649899Z",
          "start_time": "2020-07-10T01:37:32.624113Z"
        },
        "id": "6yzewGWrU9kB"
      },
      "source": [
        "validate[\"yc_hat\"] = logreg.predict(validate[ls_cont]) # Predicción de si el artículo será exitoso o no"
      ],
      "execution_count": 22,
      "outputs": []
    },
    {
      "cell_type": "code",
      "metadata": {
        "colab": {
          "base_uri": "https://localhost:8080/"
        },
        "id": "p9Jdga4hr1Ni",
        "outputId": "a238ab3e-c308-415f-876b-a33dcb6dc2cf"
      },
      "source": [
        "validate[\"yc_hat\"]"
      ],
      "execution_count": 27,
      "outputs": [
        {
          "output_type": "execute_result",
          "data": {
            "text/plain": [
              "0       1\n",
              "1       0\n",
              "2       1\n",
              "3       0\n",
              "4       0\n",
              "       ..\n",
              "1400    0\n",
              "1401    0\n",
              "1402    0\n",
              "1403    0\n",
              "1404    1\n",
              "Name: yc_hat, Length: 1405, dtype: int64"
            ]
          },
          "metadata": {
            "tags": []
          },
          "execution_count": 27
        }
      ]
    },
    {
      "cell_type": "markdown",
      "metadata": {
        "id": "koHgGzX5U9kF"
      },
      "source": [
        "### Regresión"
      ]
    },
    {
      "cell_type": "code",
      "metadata": {
        "colab": {
          "base_uri": "https://localhost:8080/"
        },
        "id": "ZJ4FcSfUrbfi",
        "outputId": "195b7ece-eed8-4900-e97e-a9b97c633329"
      },
      "source": [
        "yr"
      ],
      "execution_count": 28,
      "outputs": [
        {
          "output_type": "execute_result",
          "data": {
            "text/plain": [
              "0       2300\n",
              "1        574\n",
              "2       2700\n",
              "3        638\n",
              "4       4400\n",
              "        ... \n",
              "2526    2500\n",
              "2527    5600\n",
              "2528    6500\n",
              "2529    1000\n",
              "2530    1800\n",
              "Name: shares, Length: 2531, dtype: int64"
            ]
          },
          "metadata": {
            "tags": []
          },
          "execution_count": 28
        }
      ]
    },
    {
      "cell_type": "code",
      "metadata": {
        "ExecuteTime": {
          "end_time": "2020-07-10T01:37:39.060854Z",
          "start_time": "2020-07-10T01:37:39.057782Z"
        },
        "id": "w_D745BPU9kG"
      },
      "source": [
        "linreg = Ridge()"
      ],
      "execution_count": 29,
      "outputs": []
    },
    {
      "cell_type": "code",
      "metadata": {
        "ExecuteTime": {
          "end_time": "2020-07-10T01:37:41.755862Z",
          "start_time": "2020-07-10T01:37:41.341857Z"
        },
        "colab": {
          "base_uri": "https://localhost:8080/"
        },
        "id": "Amc7We93U9kD",
        "outputId": "0c324be2-010b-44e9-cd36-c130dfcb9351"
      },
      "source": [
        "linreg.fit(Xt, yr)"
      ],
      "execution_count": 30,
      "outputs": [
        {
          "output_type": "execute_result",
          "data": {
            "text/plain": [
              "Ridge(alpha=1.0, copy_X=True, fit_intercept=True, max_iter=None,\n",
              "      normalize=False, random_state=None, solver='auto', tol=0.001)"
            ]
          },
          "metadata": {
            "tags": []
          },
          "execution_count": 30
        }
      ]
    },
    {
      "cell_type": "code",
      "metadata": {
        "ExecuteTime": {
          "end_time": "2020-07-10T01:37:46.205481Z",
          "start_time": "2020-07-10T01:37:45.488762Z"
        },
        "id": "eqGXUtipU9kH"
      },
      "source": [
        "ls_score = cross_val_score(estimator=linreg, X = Xt, y=yr, n_jobs=-1, scoring=\"r2\", cv = 4)"
      ],
      "execution_count": 31,
      "outputs": []
    },
    {
      "cell_type": "code",
      "metadata": {
        "ExecuteTime": {
          "end_time": "2020-07-10T01:37:52.121572Z",
          "start_time": "2020-07-10T01:37:52.112901Z"
        },
        "colab": {
          "base_uri": "https://localhost:8080/"
        },
        "id": "sJlpTsOaU9kL",
        "outputId": "37e14c11-69c6-4125-ed69-955cbca38ee7"
      },
      "source": [
        "np.mean(ls_score), np.std(ls_score)"
      ],
      "execution_count": 32,
      "outputs": [
        {
          "output_type": "execute_result",
          "data": {
            "text/plain": [
              "(0.047197233683346634, 0.017711455551925784)"
            ]
          },
          "metadata": {
            "tags": []
          },
          "execution_count": 32
        }
      ]
    },
    {
      "cell_type": "code",
      "metadata": {
        "ExecuteTime": {
          "end_time": "2020-07-10T01:38:05.931749Z",
          "start_time": "2020-07-10T01:38:05.917648Z"
        },
        "id": "5bwQ9pwyU9kO"
      },
      "source": [
        "validate[\"yr_hat\"] = linreg.predict(validate[ls_cont]) # Generación de predicción"
      ],
      "execution_count": 33,
      "outputs": []
    },
    {
      "cell_type": "code",
      "metadata": {
        "colab": {
          "base_uri": "https://localhost:8080/"
        },
        "id": "ArUfqk1ar7WU",
        "outputId": "a8d357a3-d8ef-4dcf-d0ad-42b74d7e6878"
      },
      "source": [
        "validate[\"yr_hat\"]"
      ],
      "execution_count": 34,
      "outputs": [
        {
          "output_type": "execute_result",
          "data": {
            "text/plain": [
              "0       4362.550413\n",
              "1       1307.610513\n",
              "2       2307.089708\n",
              "3       1979.035009\n",
              "4       2379.767211\n",
              "           ...     \n",
              "1400    1518.544691\n",
              "1401    1371.283761\n",
              "1402    1530.856755\n",
              "1403    1980.853447\n",
              "1404    2591.261522\n",
              "Name: yr_hat, Length: 1405, dtype: float64"
            ]
          },
          "metadata": {
            "tags": []
          },
          "execution_count": 34
        }
      ]
    },
    {
      "cell_type": "code",
      "metadata": {
        "ExecuteTime": {
          "end_time": "2020-07-10T01:38:10.335752Z",
          "start_time": "2020-07-10T01:38:10.281820Z"
        },
        "colab": {
          "base_uri": "https://localhost:8080/",
          "height": 573
        },
        "id": "TF20fgYyU9kQ",
        "outputId": "314488ed-8e88-429e-b524-0591be134582"
      },
      "source": [
        "validate"
      ],
      "execution_count": 35,
      "outputs": [
        {
          "output_type": "execute_result",
          "data": {
            "text/html": [
              "<div>\n",
              "<style scoped>\n",
              "    .dataframe tbody tr th:only-of-type {\n",
              "        vertical-align: middle;\n",
              "    }\n",
              "\n",
              "    .dataframe tbody tr th {\n",
              "        vertical-align: top;\n",
              "    }\n",
              "\n",
              "    .dataframe thead th {\n",
              "        text-align: right;\n",
              "    }\n",
              "</style>\n",
              "<table border=\"1\" class=\"dataframe\">\n",
              "  <thead>\n",
              "    <tr style=\"text-align: right;\">\n",
              "      <th></th>\n",
              "      <th>url</th>\n",
              "      <th>timedelta</th>\n",
              "      <th>n_tokens_title</th>\n",
              "      <th>n_tokens_content</th>\n",
              "      <th>n_unique_tokens</th>\n",
              "      <th>n_non_stop_words</th>\n",
              "      <th>n_non_stop_unique_tokens</th>\n",
              "      <th>num_hrefs</th>\n",
              "      <th>num_self_hrefs</th>\n",
              "      <th>num_imgs</th>\n",
              "      <th>num_videos</th>\n",
              "      <th>average_token_length</th>\n",
              "      <th>num_keywords</th>\n",
              "      <th>data_channel_is_lifestyle</th>\n",
              "      <th>data_channel_is_entertainment</th>\n",
              "      <th>data_channel_is_bus</th>\n",
              "      <th>data_channel_is_socmed</th>\n",
              "      <th>data_channel_is_tech</th>\n",
              "      <th>data_channel_is_world</th>\n",
              "      <th>kw_min_min</th>\n",
              "      <th>kw_max_min</th>\n",
              "      <th>kw_avg_min</th>\n",
              "      <th>kw_min_max</th>\n",
              "      <th>kw_max_max</th>\n",
              "      <th>kw_avg_max</th>\n",
              "      <th>kw_min_avg</th>\n",
              "      <th>kw_max_avg</th>\n",
              "      <th>kw_avg_avg</th>\n",
              "      <th>self_reference_min_shares</th>\n",
              "      <th>self_reference_max_shares</th>\n",
              "      <th>self_reference_avg_sharess</th>\n",
              "      <th>weekday_is_monday</th>\n",
              "      <th>weekday_is_tuesday</th>\n",
              "      <th>weekday_is_wednesday</th>\n",
              "      <th>weekday_is_thursday</th>\n",
              "      <th>weekday_is_friday</th>\n",
              "      <th>weekday_is_saturday</th>\n",
              "      <th>weekday_is_sunday</th>\n",
              "      <th>is_weekend</th>\n",
              "      <th>LDA_00</th>\n",
              "      <th>LDA_01</th>\n",
              "      <th>LDA_02</th>\n",
              "      <th>LDA_03</th>\n",
              "      <th>LDA_04</th>\n",
              "      <th>global_subjectivity</th>\n",
              "      <th>global_sentiment_polarity</th>\n",
              "      <th>global_rate_positive_words</th>\n",
              "      <th>global_rate_negative_words</th>\n",
              "      <th>rate_positive_words</th>\n",
              "      <th>rate_negative_words</th>\n",
              "      <th>avg_positive_polarity</th>\n",
              "      <th>min_positive_polarity</th>\n",
              "      <th>max_positive_polarity</th>\n",
              "      <th>avg_negative_polarity</th>\n",
              "      <th>min_negative_polarity</th>\n",
              "      <th>max_negative_polarity</th>\n",
              "      <th>title_subjectivity</th>\n",
              "      <th>title_sentiment_polarity</th>\n",
              "      <th>abs_title_subjectivity</th>\n",
              "      <th>abs_title_sentiment_polarity</th>\n",
              "      <th>shares</th>\n",
              "      <th>success</th>\n",
              "      <th>date</th>\n",
              "      <th>month</th>\n",
              "      <th>yc_hat</th>\n",
              "      <th>yr_hat</th>\n",
              "    </tr>\n",
              "  </thead>\n",
              "  <tbody>\n",
              "    <tr>\n",
              "      <th>0</th>\n",
              "      <td>http://mashable.com/2014/10/17/turbo-wheelchar/</td>\n",
              "      <td>80.0</td>\n",
              "      <td>14.0</td>\n",
              "      <td>404.0</td>\n",
              "      <td>0.551020</td>\n",
              "      <td>1.0</td>\n",
              "      <td>0.618321</td>\n",
              "      <td>13.0</td>\n",
              "      <td>4.0</td>\n",
              "      <td>6.0</td>\n",
              "      <td>0.0</td>\n",
              "      <td>4.784653</td>\n",
              "      <td>7.0</td>\n",
              "      <td>0.0</td>\n",
              "      <td>0.0</td>\n",
              "      <td>0.0</td>\n",
              "      <td>0.0</td>\n",
              "      <td>0.0</td>\n",
              "      <td>0.0</td>\n",
              "      <td>-1.0</td>\n",
              "      <td>765.0</td>\n",
              "      <td>232.857143</td>\n",
              "      <td>41600.0</td>\n",
              "      <td>843300.0</td>\n",
              "      <td>397642.857143</td>\n",
              "      <td>3447.585836</td>\n",
              "      <td>7992.437500</td>\n",
              "      <td>5382.803192</td>\n",
              "      <td>1900.0</td>\n",
              "      <td>9300.0</td>\n",
              "      <td>5600.000000</td>\n",
              "      <td>1.0</td>\n",
              "      <td>0.0</td>\n",
              "      <td>0.0</td>\n",
              "      <td>0.0</td>\n",
              "      <td>0.0</td>\n",
              "      <td>0.0</td>\n",
              "      <td>0.0</td>\n",
              "      <td>0.0</td>\n",
              "      <td>0.028698</td>\n",
              "      <td>0.232516</td>\n",
              "      <td>0.028572</td>\n",
              "      <td>0.680812</td>\n",
              "      <td>0.029402</td>\n",
              "      <td>0.430635</td>\n",
              "      <td>-0.081587</td>\n",
              "      <td>0.032178</td>\n",
              "      <td>0.027228</td>\n",
              "      <td>0.541667</td>\n",
              "      <td>0.458333</td>\n",
              "      <td>0.276923</td>\n",
              "      <td>0.100000</td>\n",
              "      <td>0.8</td>\n",
              "      <td>-0.573232</td>\n",
              "      <td>-0.900000</td>\n",
              "      <td>-0.125000</td>\n",
              "      <td>0.588889</td>\n",
              "      <td>0.166667</td>\n",
              "      <td>0.088889</td>\n",
              "      <td>0.166667</td>\n",
              "      <td>1500</td>\n",
              "      <td>1</td>\n",
              "      <td>2014-10-17</td>\n",
              "      <td>2014-10-01</td>\n",
              "      <td>1</td>\n",
              "      <td>4362.550413</td>\n",
              "    </tr>\n",
              "    <tr>\n",
              "      <th>1</th>\n",
              "      <td>http://mashable.com/2014/11/24/jurassic-world-...</td>\n",
              "      <td>44.0</td>\n",
              "      <td>13.0</td>\n",
              "      <td>301.0</td>\n",
              "      <td>0.531690</td>\n",
              "      <td>1.0</td>\n",
              "      <td>0.629630</td>\n",
              "      <td>4.0</td>\n",
              "      <td>3.0</td>\n",
              "      <td>1.0</td>\n",
              "      <td>1.0</td>\n",
              "      <td>4.491694</td>\n",
              "      <td>5.0</td>\n",
              "      <td>0.0</td>\n",
              "      <td>1.0</td>\n",
              "      <td>0.0</td>\n",
              "      <td>0.0</td>\n",
              "      <td>0.0</td>\n",
              "      <td>0.0</td>\n",
              "      <td>-1.0</td>\n",
              "      <td>517.0</td>\n",
              "      <td>113.000000</td>\n",
              "      <td>12500.0</td>\n",
              "      <td>843300.0</td>\n",
              "      <td>234120.000000</td>\n",
              "      <td>2094.176471</td>\n",
              "      <td>3407.184361</td>\n",
              "      <td>2656.353374</td>\n",
              "      <td>820.0</td>\n",
              "      <td>891.0</td>\n",
              "      <td>855.500000</td>\n",
              "      <td>0.0</td>\n",
              "      <td>1.0</td>\n",
              "      <td>0.0</td>\n",
              "      <td>0.0</td>\n",
              "      <td>0.0</td>\n",
              "      <td>0.0</td>\n",
              "      <td>0.0</td>\n",
              "      <td>0.0</td>\n",
              "      <td>0.040000</td>\n",
              "      <td>0.839894</td>\n",
              "      <td>0.040000</td>\n",
              "      <td>0.040105</td>\n",
              "      <td>0.040000</td>\n",
              "      <td>0.389031</td>\n",
              "      <td>0.102381</td>\n",
              "      <td>0.043189</td>\n",
              "      <td>0.026578</td>\n",
              "      <td>0.619048</td>\n",
              "      <td>0.380952</td>\n",
              "      <td>0.382051</td>\n",
              "      <td>0.250000</td>\n",
              "      <td>1.0</td>\n",
              "      <td>-0.283333</td>\n",
              "      <td>-0.400000</td>\n",
              "      <td>-0.166667</td>\n",
              "      <td>0.507071</td>\n",
              "      <td>0.023232</td>\n",
              "      <td>0.007071</td>\n",
              "      <td>0.023232</td>\n",
              "      <td>379</td>\n",
              "      <td>0</td>\n",
              "      <td>2014-11-24</td>\n",
              "      <td>2014-11-01</td>\n",
              "      <td>0</td>\n",
              "      <td>1307.610513</td>\n",
              "    </tr>\n",
              "    <tr>\n",
              "      <th>2</th>\n",
              "      <td>http://mashable.com/2014/06/23/american-idol-j...</td>\n",
              "      <td>199.0</td>\n",
              "      <td>8.0</td>\n",
              "      <td>738.0</td>\n",
              "      <td>0.508916</td>\n",
              "      <td>1.0</td>\n",
              "      <td>0.708716</td>\n",
              "      <td>28.0</td>\n",
              "      <td>9.0</td>\n",
              "      <td>4.0</td>\n",
              "      <td>2.0</td>\n",
              "      <td>4.710027</td>\n",
              "      <td>10.0</td>\n",
              "      <td>0.0</td>\n",
              "      <td>0.0</td>\n",
              "      <td>0.0</td>\n",
              "      <td>0.0</td>\n",
              "      <td>1.0</td>\n",
              "      <td>0.0</td>\n",
              "      <td>-1.0</td>\n",
              "      <td>309.0</td>\n",
              "      <td>126.300000</td>\n",
              "      <td>26900.0</td>\n",
              "      <td>843300.0</td>\n",
              "      <td>321950.000000</td>\n",
              "      <td>2438.409420</td>\n",
              "      <td>4370.356505</td>\n",
              "      <td>3152.541032</td>\n",
              "      <td>1500.0</td>\n",
              "      <td>2800.0</td>\n",
              "      <td>1940.000000</td>\n",
              "      <td>1.0</td>\n",
              "      <td>0.0</td>\n",
              "      <td>0.0</td>\n",
              "      <td>0.0</td>\n",
              "      <td>0.0</td>\n",
              "      <td>0.0</td>\n",
              "      <td>0.0</td>\n",
              "      <td>0.0</td>\n",
              "      <td>0.020089</td>\n",
              "      <td>0.020012</td>\n",
              "      <td>0.020009</td>\n",
              "      <td>0.020018</td>\n",
              "      <td>0.919871</td>\n",
              "      <td>0.475180</td>\n",
              "      <td>0.134991</td>\n",
              "      <td>0.043360</td>\n",
              "      <td>0.016260</td>\n",
              "      <td>0.727273</td>\n",
              "      <td>0.272727</td>\n",
              "      <td>0.415294</td>\n",
              "      <td>0.033333</td>\n",
              "      <td>0.8</td>\n",
              "      <td>-0.310417</td>\n",
              "      <td>-0.500000</td>\n",
              "      <td>-0.125000</td>\n",
              "      <td>1.000000</td>\n",
              "      <td>-0.500000</td>\n",
              "      <td>0.500000</td>\n",
              "      <td>0.500000</td>\n",
              "      <td>3700</td>\n",
              "      <td>1</td>\n",
              "      <td>2014-06-23</td>\n",
              "      <td>2014-06-01</td>\n",
              "      <td>1</td>\n",
              "      <td>2307.089708</td>\n",
              "    </tr>\n",
              "    <tr>\n",
              "      <th>3</th>\n",
              "      <td>http://mashable.com/2014/09/26/isis-influence-...</td>\n",
              "      <td>103.0</td>\n",
              "      <td>12.0</td>\n",
              "      <td>1364.0</td>\n",
              "      <td>0.379258</td>\n",
              "      <td>1.0</td>\n",
              "      <td>0.561008</td>\n",
              "      <td>11.0</td>\n",
              "      <td>11.0</td>\n",
              "      <td>10.0</td>\n",
              "      <td>1.0</td>\n",
              "      <td>4.142962</td>\n",
              "      <td>8.0</td>\n",
              "      <td>0.0</td>\n",
              "      <td>0.0</td>\n",
              "      <td>0.0</td>\n",
              "      <td>0.0</td>\n",
              "      <td>1.0</td>\n",
              "      <td>0.0</td>\n",
              "      <td>-1.0</td>\n",
              "      <td>687.0</td>\n",
              "      <td>234.375000</td>\n",
              "      <td>3900.0</td>\n",
              "      <td>843300.0</td>\n",
              "      <td>285837.500000</td>\n",
              "      <td>1217.025641</td>\n",
              "      <td>3475.248622</td>\n",
              "      <td>2588.589059</td>\n",
              "      <td>827.0</td>\n",
              "      <td>2500.0</td>\n",
              "      <td>1603.857143</td>\n",
              "      <td>0.0</td>\n",
              "      <td>0.0</td>\n",
              "      <td>0.0</td>\n",
              "      <td>0.0</td>\n",
              "      <td>0.0</td>\n",
              "      <td>1.0</td>\n",
              "      <td>0.0</td>\n",
              "      <td>1.0</td>\n",
              "      <td>0.025000</td>\n",
              "      <td>0.025051</td>\n",
              "      <td>0.025000</td>\n",
              "      <td>0.025000</td>\n",
              "      <td>0.899948</td>\n",
              "      <td>0.494337</td>\n",
              "      <td>0.137017</td>\n",
              "      <td>0.057185</td>\n",
              "      <td>0.024927</td>\n",
              "      <td>0.696429</td>\n",
              "      <td>0.303571</td>\n",
              "      <td>0.385282</td>\n",
              "      <td>0.050000</td>\n",
              "      <td>1.0</td>\n",
              "      <td>-0.298150</td>\n",
              "      <td>-0.800000</td>\n",
              "      <td>-0.050000</td>\n",
              "      <td>0.540404</td>\n",
              "      <td>-0.065657</td>\n",
              "      <td>0.040404</td>\n",
              "      <td>0.065657</td>\n",
              "      <td>2200</td>\n",
              "      <td>1</td>\n",
              "      <td>2014-09-26</td>\n",
              "      <td>2014-09-01</td>\n",
              "      <td>0</td>\n",
              "      <td>1979.035009</td>\n",
              "    </tr>\n",
              "    <tr>\n",
              "      <th>4</th>\n",
              "      <td>http://mashable.com/2014/07/28/goat-stuck-in-a...</td>\n",
              "      <td>164.0</td>\n",
              "      <td>10.0</td>\n",
              "      <td>666.0</td>\n",
              "      <td>0.451807</td>\n",
              "      <td>1.0</td>\n",
              "      <td>0.616402</td>\n",
              "      <td>5.0</td>\n",
              "      <td>3.0</td>\n",
              "      <td>2.0</td>\n",
              "      <td>0.0</td>\n",
              "      <td>4.936937</td>\n",
              "      <td>5.0</td>\n",
              "      <td>0.0</td>\n",
              "      <td>0.0</td>\n",
              "      <td>0.0</td>\n",
              "      <td>0.0</td>\n",
              "      <td>1.0</td>\n",
              "      <td>0.0</td>\n",
              "      <td>-1.0</td>\n",
              "      <td>748.0</td>\n",
              "      <td>232.400000</td>\n",
              "      <td>4500.0</td>\n",
              "      <td>843300.0</td>\n",
              "      <td>345520.000000</td>\n",
              "      <td>1730.846154</td>\n",
              "      <td>5413.666667</td>\n",
              "      <td>3466.415837</td>\n",
              "      <td>1900.0</td>\n",
              "      <td>1900.0</td>\n",
              "      <td>1900.000000</td>\n",
              "      <td>1.0</td>\n",
              "      <td>0.0</td>\n",
              "      <td>0.0</td>\n",
              "      <td>0.0</td>\n",
              "      <td>0.0</td>\n",
              "      <td>0.0</td>\n",
              "      <td>0.0</td>\n",
              "      <td>0.0</td>\n",
              "      <td>0.040001</td>\n",
              "      <td>0.040001</td>\n",
              "      <td>0.040065</td>\n",
              "      <td>0.040001</td>\n",
              "      <td>0.839933</td>\n",
              "      <td>0.465843</td>\n",
              "      <td>0.118293</td>\n",
              "      <td>0.043544</td>\n",
              "      <td>0.030030</td>\n",
              "      <td>0.591837</td>\n",
              "      <td>0.408163</td>\n",
              "      <td>0.472419</td>\n",
              "      <td>0.100000</td>\n",
              "      <td>0.9</td>\n",
              "      <td>-0.261111</td>\n",
              "      <td>-0.600000</td>\n",
              "      <td>-0.100000</td>\n",
              "      <td>0.100000</td>\n",
              "      <td>0.000000</td>\n",
              "      <td>0.400000</td>\n",
              "      <td>0.000000</td>\n",
              "      <td>5800</td>\n",
              "      <td>1</td>\n",
              "      <td>2014-07-28</td>\n",
              "      <td>2014-07-01</td>\n",
              "      <td>0</td>\n",
              "      <td>2379.767211</td>\n",
              "    </tr>\n",
              "    <tr>\n",
              "      <th>...</th>\n",
              "      <td>...</td>\n",
              "      <td>...</td>\n",
              "      <td>...</td>\n",
              "      <td>...</td>\n",
              "      <td>...</td>\n",
              "      <td>...</td>\n",
              "      <td>...</td>\n",
              "      <td>...</td>\n",
              "      <td>...</td>\n",
              "      <td>...</td>\n",
              "      <td>...</td>\n",
              "      <td>...</td>\n",
              "      <td>...</td>\n",
              "      <td>...</td>\n",
              "      <td>...</td>\n",
              "      <td>...</td>\n",
              "      <td>...</td>\n",
              "      <td>...</td>\n",
              "      <td>...</td>\n",
              "      <td>...</td>\n",
              "      <td>...</td>\n",
              "      <td>...</td>\n",
              "      <td>...</td>\n",
              "      <td>...</td>\n",
              "      <td>...</td>\n",
              "      <td>...</td>\n",
              "      <td>...</td>\n",
              "      <td>...</td>\n",
              "      <td>...</td>\n",
              "      <td>...</td>\n",
              "      <td>...</td>\n",
              "      <td>...</td>\n",
              "      <td>...</td>\n",
              "      <td>...</td>\n",
              "      <td>...</td>\n",
              "      <td>...</td>\n",
              "      <td>...</td>\n",
              "      <td>...</td>\n",
              "      <td>...</td>\n",
              "      <td>...</td>\n",
              "      <td>...</td>\n",
              "      <td>...</td>\n",
              "      <td>...</td>\n",
              "      <td>...</td>\n",
              "      <td>...</td>\n",
              "      <td>...</td>\n",
              "      <td>...</td>\n",
              "      <td>...</td>\n",
              "      <td>...</td>\n",
              "      <td>...</td>\n",
              "      <td>...</td>\n",
              "      <td>...</td>\n",
              "      <td>...</td>\n",
              "      <td>...</td>\n",
              "      <td>...</td>\n",
              "      <td>...</td>\n",
              "      <td>...</td>\n",
              "      <td>...</td>\n",
              "      <td>...</td>\n",
              "      <td>...</td>\n",
              "      <td>...</td>\n",
              "      <td>...</td>\n",
              "      <td>...</td>\n",
              "      <td>...</td>\n",
              "      <td>...</td>\n",
              "      <td>...</td>\n",
              "    </tr>\n",
              "    <tr>\n",
              "      <th>1400</th>\n",
              "      <td>http://mashable.com/2014/12/12/united-airlines...</td>\n",
              "      <td>23.0</td>\n",
              "      <td>13.0</td>\n",
              "      <td>509.0</td>\n",
              "      <td>0.513919</td>\n",
              "      <td>1.0</td>\n",
              "      <td>0.603125</td>\n",
              "      <td>26.0</td>\n",
              "      <td>2.0</td>\n",
              "      <td>1.0</td>\n",
              "      <td>0.0</td>\n",
              "      <td>5.039293</td>\n",
              "      <td>7.0</td>\n",
              "      <td>0.0</td>\n",
              "      <td>0.0</td>\n",
              "      <td>0.0</td>\n",
              "      <td>0.0</td>\n",
              "      <td>0.0</td>\n",
              "      <td>1.0</td>\n",
              "      <td>-1.0</td>\n",
              "      <td>902.0</td>\n",
              "      <td>179.600000</td>\n",
              "      <td>0.0</td>\n",
              "      <td>843300.0</td>\n",
              "      <td>317343.142857</td>\n",
              "      <td>0.000000</td>\n",
              "      <td>3400.887791</td>\n",
              "      <td>1556.008263</td>\n",
              "      <td>716.0</td>\n",
              "      <td>716.0</td>\n",
              "      <td>716.000000</td>\n",
              "      <td>0.0</td>\n",
              "      <td>1.0</td>\n",
              "      <td>0.0</td>\n",
              "      <td>0.0</td>\n",
              "      <td>0.0</td>\n",
              "      <td>0.0</td>\n",
              "      <td>0.0</td>\n",
              "      <td>0.0</td>\n",
              "      <td>0.028572</td>\n",
              "      <td>0.028572</td>\n",
              "      <td>0.885711</td>\n",
              "      <td>0.028572</td>\n",
              "      <td>0.028573</td>\n",
              "      <td>0.559286</td>\n",
              "      <td>0.007619</td>\n",
              "      <td>0.021611</td>\n",
              "      <td>0.047151</td>\n",
              "      <td>0.314286</td>\n",
              "      <td>0.685714</td>\n",
              "      <td>0.370130</td>\n",
              "      <td>0.200000</td>\n",
              "      <td>0.5</td>\n",
              "      <td>-0.156944</td>\n",
              "      <td>-0.500000</td>\n",
              "      <td>-0.100000</td>\n",
              "      <td>0.433333</td>\n",
              "      <td>-0.144444</td>\n",
              "      <td>0.066667</td>\n",
              "      <td>0.144444</td>\n",
              "      <td>1100</td>\n",
              "      <td>0</td>\n",
              "      <td>2014-12-12</td>\n",
              "      <td>2014-12-01</td>\n",
              "      <td>0</td>\n",
              "      <td>1518.544691</td>\n",
              "    </tr>\n",
              "    <tr>\n",
              "      <th>1401</th>\n",
              "      <td>http://mashable.com/2014/11/17/supernatural-mi...</td>\n",
              "      <td>50.0</td>\n",
              "      <td>12.0</td>\n",
              "      <td>556.0</td>\n",
              "      <td>0.498092</td>\n",
              "      <td>1.0</td>\n",
              "      <td>0.647590</td>\n",
              "      <td>26.0</td>\n",
              "      <td>1.0</td>\n",
              "      <td>1.0</td>\n",
              "      <td>0.0</td>\n",
              "      <td>4.694245</td>\n",
              "      <td>3.0</td>\n",
              "      <td>0.0</td>\n",
              "      <td>0.0</td>\n",
              "      <td>0.0</td>\n",
              "      <td>0.0</td>\n",
              "      <td>0.0</td>\n",
              "      <td>1.0</td>\n",
              "      <td>-1.0</td>\n",
              "      <td>0.0</td>\n",
              "      <td>-1.000000</td>\n",
              "      <td>141400.0</td>\n",
              "      <td>843300.0</td>\n",
              "      <td>534200.000000</td>\n",
              "      <td>2171.456721</td>\n",
              "      <td>3416.457322</td>\n",
              "      <td>2691.958962</td>\n",
              "      <td>26600.0</td>\n",
              "      <td>26600.0</td>\n",
              "      <td>26600.000000</td>\n",
              "      <td>0.0</td>\n",
              "      <td>0.0</td>\n",
              "      <td>1.0</td>\n",
              "      <td>0.0</td>\n",
              "      <td>0.0</td>\n",
              "      <td>0.0</td>\n",
              "      <td>0.0</td>\n",
              "      <td>0.0</td>\n",
              "      <td>0.066667</td>\n",
              "      <td>0.066667</td>\n",
              "      <td>0.733325</td>\n",
              "      <td>0.066667</td>\n",
              "      <td>0.066674</td>\n",
              "      <td>0.407662</td>\n",
              "      <td>0.141596</td>\n",
              "      <td>0.032374</td>\n",
              "      <td>0.021583</td>\n",
              "      <td>0.600000</td>\n",
              "      <td>0.400000</td>\n",
              "      <td>0.399285</td>\n",
              "      <td>0.100000</td>\n",
              "      <td>1.0</td>\n",
              "      <td>-0.237500</td>\n",
              "      <td>-0.500000</td>\n",
              "      <td>-0.050000</td>\n",
              "      <td>0.000000</td>\n",
              "      <td>0.000000</td>\n",
              "      <td>0.500000</td>\n",
              "      <td>0.000000</td>\n",
              "      <td>779</td>\n",
              "      <td>0</td>\n",
              "      <td>2014-11-17</td>\n",
              "      <td>2014-11-01</td>\n",
              "      <td>0</td>\n",
              "      <td>1371.283761</td>\n",
              "    </tr>\n",
              "    <tr>\n",
              "      <th>1402</th>\n",
              "      <td>http://mashable.com/2014/11/14/kenya-mydressmy...</td>\n",
              "      <td>52.0</td>\n",
              "      <td>10.0</td>\n",
              "      <td>199.0</td>\n",
              "      <td>0.637755</td>\n",
              "      <td>1.0</td>\n",
              "      <td>0.857143</td>\n",
              "      <td>2.0</td>\n",
              "      <td>2.0</td>\n",
              "      <td>1.0</td>\n",
              "      <td>0.0</td>\n",
              "      <td>4.874372</td>\n",
              "      <td>5.0</td>\n",
              "      <td>0.0</td>\n",
              "      <td>0.0</td>\n",
              "      <td>1.0</td>\n",
              "      <td>0.0</td>\n",
              "      <td>0.0</td>\n",
              "      <td>0.0</td>\n",
              "      <td>-1.0</td>\n",
              "      <td>459.0</td>\n",
              "      <td>134.200000</td>\n",
              "      <td>6800.0</td>\n",
              "      <td>843300.0</td>\n",
              "      <td>320420.000000</td>\n",
              "      <td>1336.888889</td>\n",
              "      <td>3415.489909</td>\n",
              "      <td>2430.530305</td>\n",
              "      <td>12700.0</td>\n",
              "      <td>12700.0</td>\n",
              "      <td>12700.000000</td>\n",
              "      <td>1.0</td>\n",
              "      <td>0.0</td>\n",
              "      <td>0.0</td>\n",
              "      <td>0.0</td>\n",
              "      <td>0.0</td>\n",
              "      <td>0.0</td>\n",
              "      <td>0.0</td>\n",
              "      <td>0.0</td>\n",
              "      <td>0.640292</td>\n",
              "      <td>0.040001</td>\n",
              "      <td>0.040001</td>\n",
              "      <td>0.040000</td>\n",
              "      <td>0.239706</td>\n",
              "      <td>0.528074</td>\n",
              "      <td>0.311494</td>\n",
              "      <td>0.040201</td>\n",
              "      <td>0.005025</td>\n",
              "      <td>0.888889</td>\n",
              "      <td>0.111111</td>\n",
              "      <td>0.398295</td>\n",
              "      <td>0.136364</td>\n",
              "      <td>0.8</td>\n",
              "      <td>-0.071429</td>\n",
              "      <td>-0.071429</td>\n",
              "      <td>-0.071429</td>\n",
              "      <td>0.000000</td>\n",
              "      <td>0.000000</td>\n",
              "      <td>0.500000</td>\n",
              "      <td>0.000000</td>\n",
              "      <td>1600</td>\n",
              "      <td>1</td>\n",
              "      <td>2014-11-14</td>\n",
              "      <td>2014-11-01</td>\n",
              "      <td>0</td>\n",
              "      <td>1530.856755</td>\n",
              "    </tr>\n",
              "    <tr>\n",
              "      <th>1403</th>\n",
              "      <td>http://mashable.com/2014/09/24/cash-smartwatch...</td>\n",
              "      <td>106.0</td>\n",
              "      <td>12.0</td>\n",
              "      <td>1097.0</td>\n",
              "      <td>0.420370</td>\n",
              "      <td>1.0</td>\n",
              "      <td>0.575486</td>\n",
              "      <td>29.0</td>\n",
              "      <td>15.0</td>\n",
              "      <td>1.0</td>\n",
              "      <td>2.0</td>\n",
              "      <td>4.969918</td>\n",
              "      <td>8.0</td>\n",
              "      <td>0.0</td>\n",
              "      <td>0.0</td>\n",
              "      <td>0.0</td>\n",
              "      <td>0.0</td>\n",
              "      <td>0.0</td>\n",
              "      <td>1.0</td>\n",
              "      <td>-1.0</td>\n",
              "      <td>980.0</td>\n",
              "      <td>269.125000</td>\n",
              "      <td>2600.0</td>\n",
              "      <td>843300.0</td>\n",
              "      <td>235437.500000</td>\n",
              "      <td>1790.000000</td>\n",
              "      <td>4095.516245</td>\n",
              "      <td>2532.535305</td>\n",
              "      <td>873.0</td>\n",
              "      <td>2800.0</td>\n",
              "      <td>1834.600000</td>\n",
              "      <td>0.0</td>\n",
              "      <td>0.0</td>\n",
              "      <td>1.0</td>\n",
              "      <td>0.0</td>\n",
              "      <td>0.0</td>\n",
              "      <td>0.0</td>\n",
              "      <td>0.0</td>\n",
              "      <td>0.0</td>\n",
              "      <td>0.025002</td>\n",
              "      <td>0.025002</td>\n",
              "      <td>0.769834</td>\n",
              "      <td>0.025001</td>\n",
              "      <td>0.155161</td>\n",
              "      <td>0.394420</td>\n",
              "      <td>0.233609</td>\n",
              "      <td>0.083865</td>\n",
              "      <td>0.008204</td>\n",
              "      <td>0.910891</td>\n",
              "      <td>0.089109</td>\n",
              "      <td>0.361612</td>\n",
              "      <td>0.033333</td>\n",
              "      <td>1.0</td>\n",
              "      <td>-0.291667</td>\n",
              "      <td>-0.500000</td>\n",
              "      <td>-0.100000</td>\n",
              "      <td>0.333333</td>\n",
              "      <td>0.366667</td>\n",
              "      <td>0.166667</td>\n",
              "      <td>0.366667</td>\n",
              "      <td>1900</td>\n",
              "      <td>1</td>\n",
              "      <td>2014-09-24</td>\n",
              "      <td>2014-09-01</td>\n",
              "      <td>0</td>\n",
              "      <td>1980.853447</td>\n",
              "    </tr>\n",
              "    <tr>\n",
              "      <th>1404</th>\n",
              "      <td>http://mashable.com/2014/06/25/the-star-wars-e...</td>\n",
              "      <td>197.0</td>\n",
              "      <td>6.0</td>\n",
              "      <td>34.0</td>\n",
              "      <td>0.911765</td>\n",
              "      <td>1.0</td>\n",
              "      <td>0.952381</td>\n",
              "      <td>1.0</td>\n",
              "      <td>1.0</td>\n",
              "      <td>0.0</td>\n",
              "      <td>2.0</td>\n",
              "      <td>5.058824</td>\n",
              "      <td>4.0</td>\n",
              "      <td>0.0</td>\n",
              "      <td>0.0</td>\n",
              "      <td>0.0</td>\n",
              "      <td>1.0</td>\n",
              "      <td>0.0</td>\n",
              "      <td>0.0</td>\n",
              "      <td>-1.0</td>\n",
              "      <td>547.0</td>\n",
              "      <td>177.500000</td>\n",
              "      <td>100300.0</td>\n",
              "      <td>843300.0</td>\n",
              "      <td>418800.000000</td>\n",
              "      <td>3557.341810</td>\n",
              "      <td>9118.580000</td>\n",
              "      <td>5243.227015</td>\n",
              "      <td>12000.0</td>\n",
              "      <td>12000.0</td>\n",
              "      <td>12000.000000</td>\n",
              "      <td>0.0</td>\n",
              "      <td>0.0</td>\n",
              "      <td>1.0</td>\n",
              "      <td>0.0</td>\n",
              "      <td>0.0</td>\n",
              "      <td>0.0</td>\n",
              "      <td>0.0</td>\n",
              "      <td>0.0</td>\n",
              "      <td>0.052764</td>\n",
              "      <td>0.050007</td>\n",
              "      <td>0.050420</td>\n",
              "      <td>0.796808</td>\n",
              "      <td>0.050001</td>\n",
              "      <td>0.516667</td>\n",
              "      <td>0.566667</td>\n",
              "      <td>0.088235</td>\n",
              "      <td>0.000000</td>\n",
              "      <td>1.000000</td>\n",
              "      <td>0.000000</td>\n",
              "      <td>0.566667</td>\n",
              "      <td>0.200000</td>\n",
              "      <td>0.8</td>\n",
              "      <td>0.000000</td>\n",
              "      <td>0.000000</td>\n",
              "      <td>0.000000</td>\n",
              "      <td>0.900000</td>\n",
              "      <td>-0.500000</td>\n",
              "      <td>0.400000</td>\n",
              "      <td>0.500000</td>\n",
              "      <td>1300</td>\n",
              "      <td>0</td>\n",
              "      <td>2014-06-25</td>\n",
              "      <td>2014-06-01</td>\n",
              "      <td>1</td>\n",
              "      <td>2591.261522</td>\n",
              "    </tr>\n",
              "  </tbody>\n",
              "</table>\n",
              "<p>1405 rows × 66 columns</p>\n",
              "</div>"
            ],
            "text/plain": [
              "                                                    url  ...       yr_hat\n",
              "0       http://mashable.com/2014/10/17/turbo-wheelchar/  ...  4362.550413\n",
              "1     http://mashable.com/2014/11/24/jurassic-world-...  ...  1307.610513\n",
              "2     http://mashable.com/2014/06/23/american-idol-j...  ...  2307.089708\n",
              "3     http://mashable.com/2014/09/26/isis-influence-...  ...  1979.035009\n",
              "4     http://mashable.com/2014/07/28/goat-stuck-in-a...  ...  2379.767211\n",
              "...                                                 ...  ...          ...\n",
              "1400  http://mashable.com/2014/12/12/united-airlines...  ...  1518.544691\n",
              "1401  http://mashable.com/2014/11/17/supernatural-mi...  ...  1371.283761\n",
              "1402  http://mashable.com/2014/11/14/kenya-mydressmy...  ...  1530.856755\n",
              "1403  http://mashable.com/2014/09/24/cash-smartwatch...  ...  1980.853447\n",
              "1404  http://mashable.com/2014/06/25/the-star-wars-e...  ...  2591.261522\n",
              "\n",
              "[1405 rows x 66 columns]"
            ]
          },
          "metadata": {
            "tags": []
          },
          "execution_count": 35
        }
      ]
    },
    {
      "cell_type": "markdown",
      "metadata": {
        "id": "qtee3QDjU9kR"
      },
      "source": [
        "## Estabilidad y performance"
      ]
    },
    {
      "cell_type": "markdown",
      "metadata": {
        "id": "NEHARzBhU9kT"
      },
      "source": [
        "### PSI"
      ]
    },
    {
      "cell_type": "code",
      "metadata": {
        "ExecuteTime": {
          "end_time": "2020-07-10T01:38:45.245486Z",
          "start_time": "2020-07-10T01:38:44.188486Z"
        },
        "id": "8a1Q4InaU9kV"
      },
      "source": [
        "dc_bins = {}\n",
        "for feat in ls_cont:\n",
        "    dc_bins.update({feat: pd.cut(Xt[feat], bins=3, retbins=True)[1]})"
      ],
      "execution_count": 37,
      "outputs": []
    },
    {
      "cell_type": "code",
      "metadata": {
        "ExecuteTime": {
          "end_time": "2020-07-10T01:39:11.327320Z",
          "start_time": "2020-07-10T01:39:11.312861Z"
        },
        "colab": {
          "base_uri": "https://localhost:8080/"
        },
        "id": "DOHJnBzkU9kW",
        "outputId": "6427f765-5860-4227-ccac-e5185238431f"
      },
      "source": [
        "dc_bins"
      ],
      "execution_count": 38,
      "outputs": [
        {
          "output_type": "execute_result",
          "data": {
            "text/plain": [
              "{'LDA_00': array([0.0172815 , 0.31878804, 0.61939276, 0.91999749]),\n",
              " 'LDA_01': array([0.01728182, 0.31869151, 0.61919968, 0.91970785]),\n",
              " 'LDA_02': array([0.0172801 , 0.31878723, 0.61939254, 0.91999785]),\n",
              " 'LDA_03': array([0.01728021, 0.31877841, 0.61937482, 0.91997124]),\n",
              " 'LDA_04': array([0.01728317, 0.32119172, 0.62419126, 0.92719081]),\n",
              " 'abs_title_sentiment_polarity': array([-0.001     ,  0.33333333,  0.66666667,  1.        ]),\n",
              " 'abs_title_subjectivity': array([-0.0005    ,  0.16666667,  0.33333333,  0.5       ]),\n",
              " 'average_token_length': array([-7.97468354e-03,  2.65822785e+00,  5.31645570e+00,  7.97468354e+00]),\n",
              " 'avg_negative_polarity': array([-1.001     , -0.66666667, -0.33333333,  0.        ]),\n",
              " 'avg_positive_polarity': array([-0.0008    ,  0.26666667,  0.53333333,  0.8       ]),\n",
              " 'global_rate_negative_words': array([-0.00013693,  0.04564315,  0.09128631,  0.13692946]),\n",
              " 'global_rate_positive_words': array([-0.00013223,  0.04407713,  0.08815427,  0.1322314 ]),\n",
              " 'global_sentiment_polarity': array([-0.36523787, -0.036426  ,  0.29140238,  0.61923077]),\n",
              " 'global_subjectivity': array([-0.00095   ,  0.31666667,  0.63333333,  0.95      ]),\n",
              " 'kw_avg_avg': array([  -20.37763843,  6792.5461437 , 13585.0922874 , 20377.6384311 ]),\n",
              " 'kw_avg_max': array([  -843.3, 281100. , 562200. , 843300. ]),\n",
              " 'kw_avg_min': array([  -17.3314,  5442.8   , 10886.6   , 16330.4   ]),\n",
              " 'kw_max_avg': array([  -136.22      ,  45406.66666667,  90813.33333333, 136220.        ]),\n",
              " 'kw_max_max': array([  -843.3, 281100. , 562200. , 843300. ]),\n",
              " 'kw_max_min': array([  -81.2       , 27066.66666667, 54133.33333333, 81200.        ]),\n",
              " 'kw_min_avg': array([  -3.59051314, 1196.83771464, 2393.67542929, 3590.51314393]),\n",
              " 'kw_min_max': array([  -843.3, 281100. , 562200. , 843300. ]),\n",
              " 'kw_min_min': array([ -1.218     ,  71.66666667, 144.33333333, 217.        ]),\n",
              " 'max_negative_polarity': array([-1.001     , -0.66666667, -0.33333333,  0.        ]),\n",
              " 'max_positive_polarity': array([-0.001     ,  0.33333333,  0.66666667,  1.        ]),\n",
              " 'min_negative_polarity': array([-1.001     , -0.66666667, -0.33333333,  0.        ]),\n",
              " 'min_positive_polarity': array([-0.0008    ,  0.26666667,  0.53333333,  0.8       ]),\n",
              " 'n_non_stop_unique_tokens': array([-0.00096809,  0.32269503,  0.64539006,  0.9680851 ]),\n",
              " 'n_non_stop_words': array([-0.001     ,  0.33333333,  0.66666667,  1.        ]),\n",
              " 'n_tokens_content': array([  -5.562, 1854.   , 3708.   , 5562.   ]),\n",
              " 'n_tokens_title': array([ 1.985,  7.   , 12.   , 17.   ]),\n",
              " 'n_unique_tokens': array([-0.00091304,  0.30434782,  0.60869564,  0.91304346]),\n",
              " 'num_hrefs': array([ -0.171,  57.   , 114.   , 171.   ]),\n",
              " 'num_imgs': array([ -0.1       ,  33.33333333,  66.66666667, 100.        ]),\n",
              " 'num_keywords': array([ 0.991,  4.   ,  7.   , 10.   ]),\n",
              " 'num_self_hrefs': array([-0.074     , 24.66666667, 49.33333333, 74.        ]),\n",
              " 'num_videos': array([-0.049     , 16.33333333, 32.66666667, 49.        ]),\n",
              " 'rate_negative_words': array([-0.001     ,  0.33333333,  0.66666667,  1.        ]),\n",
              " 'rate_positive_words': array([-0.001     ,  0.33333333,  0.66666667,  1.        ]),\n",
              " 'self_reference_avg_sharess': array([  -843.3, 281100. , 562200. , 843300. ]),\n",
              " 'self_reference_max_shares': array([  -843.3, 281100. , 562200. , 843300. ]),\n",
              " 'self_reference_min_shares': array([  -843.3, 281100. , 562200. , 843300. ]),\n",
              " 'title_sentiment_polarity': array([-1.002     , -0.33333333,  0.33333333,  1.        ]),\n",
              " 'title_subjectivity': array([-0.001     ,  0.33333333,  0.66666667,  1.        ])}"
            ]
          },
          "metadata": {
            "tags": []
          },
          "execution_count": 38
        }
      ]
    },
    {
      "cell_type": "code",
      "metadata": {
        "ExecuteTime": {
          "end_time": "2020-07-10T01:39:13.670428Z",
          "start_time": "2020-07-10T01:39:13.666545Z"
        },
        "colab": {
          "base_uri": "https://localhost:8080/"
        },
        "id": "a-ro_V0nU9kX",
        "outputId": "50065f26-4aca-466f-ef5f-9bc9e8b03e71"
      },
      "source": [
        "len(ls_cont)"
      ],
      "execution_count": 39,
      "outputs": [
        {
          "output_type": "execute_result",
          "data": {
            "text/plain": [
              "44"
            ]
          },
          "metadata": {
            "tags": []
          },
          "execution_count": 39
        }
      ]
    },
    {
      "cell_type": "code",
      "metadata": {
        "colab": {
          "base_uri": "https://localhost:8080/",
          "height": 133
        },
        "id": "hfbmhWyjy_80",
        "outputId": "e0ba2c5c-fe97-42dc-ab7e-e99256d3961b"
      },
      "source": [
        "pd.cut(Xt[feat], bins=dc_bins[feat]).value_counts(True).reset_index().rename(columns = {feat: f\"{feat}_train\"}) # Segmentación de variable continua"
      ],
      "execution_count": 43,
      "outputs": [
        {
          "output_type": "execute_result",
          "data": {
            "text/html": [
              "<div>\n",
              "<style scoped>\n",
              "    .dataframe tbody tr th:only-of-type {\n",
              "        vertical-align: middle;\n",
              "    }\n",
              "\n",
              "    .dataframe tbody tr th {\n",
              "        vertical-align: top;\n",
              "    }\n",
              "\n",
              "    .dataframe thead th {\n",
              "        text-align: right;\n",
              "    }\n",
              "</style>\n",
              "<table border=\"1\" class=\"dataframe\">\n",
              "  <thead>\n",
              "    <tr style=\"text-align: right;\">\n",
              "      <th></th>\n",
              "      <th>index</th>\n",
              "      <th>n_tokens_title_train</th>\n",
              "    </tr>\n",
              "  </thead>\n",
              "  <tbody>\n",
              "    <tr>\n",
              "      <th>0</th>\n",
              "      <td>(7.0, 12.0]</td>\n",
              "      <td>0.766495</td>\n",
              "    </tr>\n",
              "    <tr>\n",
              "      <th>1</th>\n",
              "      <td>(12.0, 17.0]</td>\n",
              "      <td>0.150533</td>\n",
              "    </tr>\n",
              "    <tr>\n",
              "      <th>2</th>\n",
              "      <td>(1.985, 7.0]</td>\n",
              "      <td>0.082971</td>\n",
              "    </tr>\n",
              "  </tbody>\n",
              "</table>\n",
              "</div>"
            ],
            "text/plain": [
              "          index  n_tokens_title_train\n",
              "0   (7.0, 12.0]              0.766495\n",
              "1  (12.0, 17.0]              0.150533\n",
              "2  (1.985, 7.0]              0.082971"
            ]
          },
          "metadata": {
            "tags": []
          },
          "execution_count": 43
        }
      ]
    },
    {
      "cell_type": "code",
      "metadata": {
        "colab": {
          "base_uri": "https://localhost:8080/",
          "height": 133
        },
        "id": "vEpQpnkNzFOQ",
        "outputId": "21b6c63a-d840-4bb6-9dd9-2f1f00666eaa"
      },
      "source": [
        "pd.cut(validate.loc[validate[\"month\"] == mes, feat], bins=dc_bins[feat]).value_counts(True).reset_index().rename(columns = {feat: f\"{feat}_valid\"}) # Aplicación de segmentos a validación"
      ],
      "execution_count": 44,
      "outputs": [
        {
          "output_type": "execute_result",
          "data": {
            "text/html": [
              "<div>\n",
              "<style scoped>\n",
              "    .dataframe tbody tr th:only-of-type {\n",
              "        vertical-align: middle;\n",
              "    }\n",
              "\n",
              "    .dataframe tbody tr th {\n",
              "        vertical-align: top;\n",
              "    }\n",
              "\n",
              "    .dataframe thead th {\n",
              "        text-align: right;\n",
              "    }\n",
              "</style>\n",
              "<table border=\"1\" class=\"dataframe\">\n",
              "  <thead>\n",
              "    <tr style=\"text-align: right;\">\n",
              "      <th></th>\n",
              "      <th>index</th>\n",
              "      <th>n_tokens_title_valid</th>\n",
              "    </tr>\n",
              "  </thead>\n",
              "  <tbody>\n",
              "    <tr>\n",
              "      <th>0</th>\n",
              "      <td>(7.0, 12.0]</td>\n",
              "      <td>0.697297</td>\n",
              "    </tr>\n",
              "    <tr>\n",
              "      <th>1</th>\n",
              "      <td>(12.0, 17.0]</td>\n",
              "      <td>0.264865</td>\n",
              "    </tr>\n",
              "    <tr>\n",
              "      <th>2</th>\n",
              "      <td>(1.985, 7.0]</td>\n",
              "      <td>0.037838</td>\n",
              "    </tr>\n",
              "  </tbody>\n",
              "</table>\n",
              "</div>"
            ],
            "text/plain": [
              "          index  n_tokens_title_valid\n",
              "0   (7.0, 12.0]              0.697297\n",
              "1  (12.0, 17.0]              0.264865\n",
              "2  (1.985, 7.0]              0.037838"
            ]
          },
          "metadata": {
            "tags": []
          },
          "execution_count": 44
        }
      ]
    },
    {
      "cell_type": "code",
      "metadata": {
        "ExecuteTime": {
          "end_time": "2020-07-10T01:40:18.160982Z",
          "start_time": "2020-07-10T01:40:17.970256Z"
        },
        "colab": {
          "base_uri": "https://localhost:8080/"
        },
        "id": "grkZimU1U9kY",
        "outputId": "9f30bb26-5885-451c-e41f-5dd1f82d49b3"
      },
      "source": [
        "# Cálculo de PSI\n",
        "for feat in dc_bins.keys():\n",
        "    for mes in sorted(validate[\"month\"].unique()):\n",
        "        aux_t = pd.cut(Xt[feat], bins=dc_bins[feat]).value_counts(True).reset_index().rename(columns = {feat: f\"{feat}_train\"}) # Segmentación de variable continua\n",
        "        aux_v = pd.cut(validate.loc[validate[\"month\"] == mes, feat], bins=dc_bins[feat]).value_counts(True).reset_index().rename(columns = {feat: f\"{feat}_valid\"}) # Aplicación de segmentos a validación\n",
        "        aux = aux_t.merge(aux_v, on = \"index\")\n",
        "        aux[\"diff\"] = aux[f\"{feat}_valid\"] - aux[f\"{feat}_train\"] # Diferencia en proporciones\n",
        "        aux[\"log\"] = np.log(aux[f\"{feat}_valid\"] / aux[f\"{feat}_train\"]) # Logaritmo del cociente de proporciones\n",
        "        aux[\"PSI\"] = aux[\"diff\"] * aux[\"log\"] # Cálculo de PSI por rango\n",
        "        print(f'PSI of {feat} in {mes}: {aux[\"PSI\"].sum()}') # Impresión de PSI total de la variable\n",
        "    break"
      ],
      "execution_count": 40,
      "outputs": [
        {
          "output_type": "stream",
          "text": [
            "PSI of n_tokens_title in 2014-06-01: 0.015667277954755088\n",
            "PSI of n_tokens_title in 2014-07-01: 0.04759585590476128\n",
            "PSI of n_tokens_title in 2014-08-01: 0.027460622591979417\n",
            "PSI of n_tokens_title in 2014-09-01: 0.03843564964186774\n",
            "PSI of n_tokens_title in 2014-10-01: 0.08935640322151851\n",
            "PSI of n_tokens_title in 2014-11-01: 0.11359997625031418\n",
            "PSI of n_tokens_title in 2014-12-01: 0.10658652269453639\n"
          ],
          "name": "stdout"
        }
      ]
    },
    {
      "cell_type": "markdown",
      "metadata": {
        "id": "i5z4wEPIU9ka"
      },
      "source": [
        "### Desempeño de poder predictivo "
      ]
    },
    {
      "cell_type": "code",
      "metadata": {
        "ExecuteTime": {
          "end_time": "2020-07-10T01:41:54.166365Z",
          "start_time": "2020-07-10T01:41:54.039064Z"
        },
        "colab": {
          "base_uri": "https://localhost:8080/"
        },
        "id": "ngMuzIlvU9ka",
        "outputId": "c718a7b8-c5ce-4797-9966-95484118b8db"
      },
      "source": [
        "for feat in ls_cont:\n",
        "    for mes in sorted(validate[\"month\"].unique()):\n",
        "        kb = SelectKBest(k=1, score_func=f_classif) # Medición de poder predictivo\n",
        "        kb.fit(validate.loc[validate[\"month\"] == mes, [feat]], validate.loc[validate[\"month\"] == mes, \"shares\"]) # Segmentación por mes\n",
        "        print(f'Predictive power of {feat} in {mes}: {kb.scores_[0]}') # Muestra de poder predictivo\n",
        "    break "
      ],
      "execution_count": 46,
      "outputs": [
        {
          "output_type": "stream",
          "text": [
            "Predictive power of n_tokens_title in 2014-06-01: 0.9416357880905367\n",
            "Predictive power of n_tokens_title in 2014-07-01: 0.9235593438033854\n",
            "Predictive power of n_tokens_title in 2014-08-01: 1.1451015382651484\n",
            "Predictive power of n_tokens_title in 2014-09-01: 0.7706311146078957\n",
            "Predictive power of n_tokens_title in 2014-10-01: 0.7637900617623378\n",
            "Predictive power of n_tokens_title in 2014-11-01: 1.1831651085783175\n",
            "Predictive power of n_tokens_title in 2014-12-01: 1.0492023975884752\n"
          ],
          "name": "stdout"
        }
      ]
    },
    {
      "cell_type": "code",
      "metadata": {
        "ExecuteTime": {
          "end_time": "2020-07-10T01:42:38.694859Z",
          "start_time": "2020-07-10T01:42:37.693773Z"
        },
        "colab": {
          "base_uri": "https://localhost:8080/"
        },
        "id": "EdZI6xm-U9kc",
        "outputId": "bfcf13bb-2a06-4fd5-f796-e80412ae045e"
      },
      "source": [
        "# Prueba de poder predictivo discreta (IV)\n",
        "for feat in ls_cont:\n",
        "    for mes in sorted(validate[\"month\"].unique()):\n",
        "        validate[f\"C_{feat}\"] = pd.cut(validate[feat], bins=dc_bins[feat])\n",
        "        print(f'Predictive power of {feat} in {mes}: {IV(validate[validate[\"month\"] == mes], f\"C_{feat}\", \"success\")}')\n",
        "    break"
      ],
      "execution_count": 47,
      "outputs": [
        {
          "output_type": "stream",
          "text": [
            "Predictive power of n_tokens_title in 2014-06-01: 0.012847599708707493\n",
            "Predictive power of n_tokens_title in 2014-07-01: 0.07239900057035413\n",
            "Predictive power of n_tokens_title in 2014-08-01: 0.07748413970215284\n",
            "Predictive power of n_tokens_title in 2014-09-01: 0.05510783176573454\n",
            "Predictive power of n_tokens_title in 2014-10-01: 0.06906678271419386\n",
            "Predictive power of n_tokens_title in 2014-11-01: 0.010765678543019653\n",
            "Predictive power of n_tokens_title in 2014-12-01: 0.12348900866895923\n"
          ],
          "name": "stdout"
        }
      ]
    },
    {
      "cell_type": "markdown",
      "metadata": {
        "id": "lo7cD8SgU9kd"
      },
      "source": [
        "### Estabilidad de las características "
      ]
    },
    {
      "cell_type": "code",
      "metadata": {
        "ExecuteTime": {
          "end_time": "2020-07-10T01:44:23.631800Z",
          "start_time": "2020-07-10T01:44:23.445389Z"
        },
        "colab": {
          "base_uri": "https://localhost:8080/"
        },
        "id": "CkRzsW0KU9ke",
        "outputId": "e92ab01f-02ce-4507-bbd6-7f0597458fc0"
      },
      "source": [
        "# Estabilidad de características\n",
        "for feat in dc_bins.keys():\n",
        "    for mes in sorted(validate[\"month\"].unique()):\n",
        "        aux_t = pd.cut(Xt[feat], bins=dc_bins[feat]).value_counts(True).reset_index().rename(columns = {feat: f\"{feat}_train\"})\n",
        "        aux_v = pd.cut(validate.loc[validate[\"month\"] == mes, feat], bins=dc_bins[feat]).value_counts(True).reset_index().rename(columns = {feat: f\"{feat}_valid\"})\n",
        "        aux = aux_t.merge(aux_v, on = \"index\")\n",
        "        aux[\"diff\"] = abs(aux[f\"{feat}_valid\"] - aux[f\"{feat}_train\"])\n",
        "        print(f'Stability KS of {feat} in {mes}: {max(aux[\"diff\"])}')\n",
        "    break"
      ],
      "execution_count": 48,
      "outputs": [
        {
          "output_type": "stream",
          "text": [
            "Stability KS of n_tokens_title in 2014-06-01: 0.052209742055652764\n",
            "Stability KS of n_tokens_title in 2014-07-01: 0.06202700045999654\n",
            "Stability KS of n_tokens_title in 2014-08-01: 0.061901847147188355\n",
            "Stability KS of n_tokens_title in 2014-09-01: 0.0695623077664709\n",
            "Stability KS of n_tokens_title in 2014-10-01: 0.11937811841134532\n",
            "Stability KS of n_tokens_title in 2014-11-01: 0.13041899493894754\n",
            "Stability KS of n_tokens_title in 2014-12-01: 0.11433147885143147\n"
          ],
          "name": "stdout"
        }
      ]
    },
    {
      "cell_type": "markdown",
      "metadata": {
        "id": "Cx3vgycSU9ki"
      },
      "source": [
        "### Performance "
      ]
    },
    {
      "cell_type": "code",
      "metadata": {
        "ExecuteTime": {
          "end_time": "2020-07-10T01:45:12.139895Z",
          "start_time": "2020-07-10T01:45:12.103511Z"
        },
        "colab": {
          "base_uri": "https://localhost:8080/"
        },
        "id": "QAywbMb0U9kk",
        "outputId": "90b8503f-6823-45cd-e866-7bcfa5c4fe79"
      },
      "source": [
        "# Evaluación de la precisión del modelo en \"producción\" (discreto)\n",
        "for month in sorted(validate[\"month\"].unique()):\n",
        "    aux = validate[validate[\"month\"] == month]\n",
        "    print(month, roc_auc_score(y_score=aux[\"yc_hat\"], y_true=aux[\"success\"]))"
      ],
      "execution_count": 49,
      "outputs": [
        {
          "output_type": "stream",
          "text": [
            "2014-06-01 0.5520094562647754\n",
            "2014-07-01 0.5869747899159664\n",
            "2014-08-01 0.5858932461873638\n",
            "2014-09-01 0.5907497565725414\n",
            "2014-10-01 0.5635714285714286\n",
            "2014-11-01 0.5511982570806101\n",
            "2014-12-01 0.5867172211350293\n"
          ],
          "name": "stdout"
        }
      ]
    },
    {
      "cell_type": "code",
      "metadata": {
        "ExecuteTime": {
          "end_time": "2020-07-10T01:46:51.327451Z",
          "start_time": "2020-07-10T01:46:51.292912Z"
        },
        "id": "EmiOK7F7U9kl",
        "outputId": "2af4a9d0-4d9d-4c4b-f393-88afa8003874"
      },
      "source": [
        "# Evaluación de la precisión del modelo en \"producción\" (discreto)\n",
        "for month in sorted(validate[\"month\"].unique()):\n",
        "    aux = validate[validate[\"month\"] == month]\n",
        "    print(month, r2_score(y_pred=aux[\"yr_hat\"], y_true=aux[\"shares\"]))"
      ],
      "execution_count": null,
      "outputs": [
        {
          "output_type": "stream",
          "text": [
            "2014-06-01 0.07024789483329263\n",
            "2014-07-01 0.04254027626184553\n",
            "2014-08-01 0.2176554592639166\n",
            "2014-09-01 0.04477424748926395\n",
            "2014-10-01 0.023943431449284347\n",
            "2014-11-01 0.017838620440488673\n",
            "2014-12-01 0.054856684218126395\n"
          ],
          "name": "stdout"
        }
      ]
    },
    {
      "cell_type": "code",
      "metadata": {
        "id": "0evEPFAAU9kn"
      },
      "source": [
        ""
      ],
      "execution_count": null,
      "outputs": []
    }
  ]
}