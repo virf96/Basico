{
  "nbformat": 4,
  "nbformat_minor": 0,
  "metadata": {
    "colab": {
      "name": "KernelRidgeRegression_CrossValidation_RandomizedSearchCV.ipynb",
      "provenance": [],
      "include_colab_link": true
    },
    "kernelspec": {
      "display_name": "diplo_env",
      "language": "python",
      "name": "diplo_env"
    },
    "language_info": {
      "codemirror_mode": {
        "name": "ipython",
        "version": 3
      },
      "file_extension": ".py",
      "mimetype": "text/x-python",
      "name": "python",
      "nbconvert_exporter": "python",
      "pygments_lexer": "ipython3",
      "version": "3.6.11"
    },
    "notify_time": "10",
    "varInspector": {
      "cols": {
        "lenName": 16,
        "lenType": 16,
        "lenVar": 40
      },
      "kernels_config": {
        "python": {
          "delete_cmd_postfix": "",
          "delete_cmd_prefix": "del ",
          "library": "var_list.py",
          "varRefreshCmd": "print(var_dic_list())"
        },
        "r": {
          "delete_cmd_postfix": ") ",
          "delete_cmd_prefix": "rm(",
          "library": "var_list.r",
          "varRefreshCmd": "cat(var_dic_list()) "
        }
      },
      "types_to_exclude": [
        "module",
        "function",
        "builtin_function_or_method",
        "instance",
        "_Feature"
      ],
      "window_display": false
    }
  },
  "cells": [
    {
      "cell_type": "markdown",
      "metadata": {
        "id": "view-in-github",
        "colab_type": "text"
      },
      "source": [
        "<a href=\"https://colab.research.google.com/github/virf96/Basico/blob/main/KernelRidgeRegression_CrossValidation_RandomizedSearchCV.ipynb\" target=\"_parent\"><img src=\"https://colab.research.google.com/assets/colab-badge.svg\" alt=\"Open In Colab\"/></a>"
      ]
    },
    {
      "cell_type": "code",
      "metadata": {
        "ExecuteTime": {
          "end_time": "2021-01-16T16:44:43.070557Z",
          "start_time": "2021-01-16T16:44:42.437875Z"
        },
        "id": "UAg9eRZ7ZU8Y"
      },
      "source": [
        "from sklearn.model_selection import cross_val_score, train_test_split, RandomizedSearchCV, GridSearchCV\n",
        "from sklearn.preprocessing import MinMaxScaler\n",
        "from sklearn.kernel_ridge import KernelRidge\n",
        "from sklearn.datasets import load_boston\n",
        "from sklearn.linear_model import Ridge\n",
        "from sklearn.metrics import r2_score\n",
        "import pandas as pd\n",
        "import numpy as np\n",
        "\n",
        "pd.set_option(\"display.max_columns\", 100)"
      ],
      "execution_count": 25,
      "outputs": []
    },
    {
      "cell_type": "markdown",
      "metadata": {
        "id": "HuNNkKB6ZU8Z"
      },
      "source": [
        "## Carga de datos"
      ]
    },
    {
      "cell_type": "code",
      "metadata": {
        "ExecuteTime": {
          "end_time": "2021-01-16T16:44:43.941454Z",
          "start_time": "2021-01-16T16:44:43.912344Z"
        },
        "id": "Q-PD7uMtZU8a"
      },
      "source": [
        "boston = load_boston()\n",
        "df = pd.DataFrame(data = boston[\"data\"], columns=boston[\"feature_names\"])\n",
        "df[\"target\"] = boston[\"target\"]\n",
        "tgt = \"target\"\n",
        "ls_features = [x for x in df.columns if x not in [tgt]]"
      ],
      "execution_count": 26,
      "outputs": []
    },
    {
      "cell_type": "markdown",
      "metadata": {
        "id": "sXRFiRXkZU8a"
      },
      "source": [
        "## Preparación de datos"
      ]
    },
    {
      "cell_type": "code",
      "metadata": {
        "ExecuteTime": {
          "end_time": "2021-01-16T16:44:44.520317Z",
          "start_time": "2021-01-16T16:44:44.505353Z"
        },
        "id": "QL_huEXAZU8b"
      },
      "source": [
        "X = df[ls_features]\n",
        "y = df[[tgt]]"
      ],
      "execution_count": 27,
      "outputs": []
    },
    {
      "cell_type": "code",
      "metadata": {
        "colab": {
          "base_uri": "https://localhost:8080/",
          "height": 191
        },
        "id": "uZcLlN8XI9as",
        "outputId": "d82f06c1-6bd9-4f82-e93d-08a9b2d89a94"
      },
      "source": [
        "data=pd.concat([X,y],axis=1)\r\n",
        "data.head()"
      ],
      "execution_count": 28,
      "outputs": [
        {
          "output_type": "execute_result",
          "data": {
            "text/html": [
              "<div>\n",
              "<style scoped>\n",
              "    .dataframe tbody tr th:only-of-type {\n",
              "        vertical-align: middle;\n",
              "    }\n",
              "\n",
              "    .dataframe tbody tr th {\n",
              "        vertical-align: top;\n",
              "    }\n",
              "\n",
              "    .dataframe thead th {\n",
              "        text-align: right;\n",
              "    }\n",
              "</style>\n",
              "<table border=\"1\" class=\"dataframe\">\n",
              "  <thead>\n",
              "    <tr style=\"text-align: right;\">\n",
              "      <th></th>\n",
              "      <th>CRIM</th>\n",
              "      <th>ZN</th>\n",
              "      <th>INDUS</th>\n",
              "      <th>CHAS</th>\n",
              "      <th>NOX</th>\n",
              "      <th>RM</th>\n",
              "      <th>AGE</th>\n",
              "      <th>DIS</th>\n",
              "      <th>RAD</th>\n",
              "      <th>TAX</th>\n",
              "      <th>PTRATIO</th>\n",
              "      <th>B</th>\n",
              "      <th>LSTAT</th>\n",
              "      <th>target</th>\n",
              "    </tr>\n",
              "  </thead>\n",
              "  <tbody>\n",
              "    <tr>\n",
              "      <th>0</th>\n",
              "      <td>0.00632</td>\n",
              "      <td>18.0</td>\n",
              "      <td>2.31</td>\n",
              "      <td>0.0</td>\n",
              "      <td>0.538</td>\n",
              "      <td>6.575</td>\n",
              "      <td>65.2</td>\n",
              "      <td>4.0900</td>\n",
              "      <td>1.0</td>\n",
              "      <td>296.0</td>\n",
              "      <td>15.3</td>\n",
              "      <td>396.90</td>\n",
              "      <td>4.98</td>\n",
              "      <td>24.0</td>\n",
              "    </tr>\n",
              "    <tr>\n",
              "      <th>1</th>\n",
              "      <td>0.02731</td>\n",
              "      <td>0.0</td>\n",
              "      <td>7.07</td>\n",
              "      <td>0.0</td>\n",
              "      <td>0.469</td>\n",
              "      <td>6.421</td>\n",
              "      <td>78.9</td>\n",
              "      <td>4.9671</td>\n",
              "      <td>2.0</td>\n",
              "      <td>242.0</td>\n",
              "      <td>17.8</td>\n",
              "      <td>396.90</td>\n",
              "      <td>9.14</td>\n",
              "      <td>21.6</td>\n",
              "    </tr>\n",
              "    <tr>\n",
              "      <th>2</th>\n",
              "      <td>0.02729</td>\n",
              "      <td>0.0</td>\n",
              "      <td>7.07</td>\n",
              "      <td>0.0</td>\n",
              "      <td>0.469</td>\n",
              "      <td>7.185</td>\n",
              "      <td>61.1</td>\n",
              "      <td>4.9671</td>\n",
              "      <td>2.0</td>\n",
              "      <td>242.0</td>\n",
              "      <td>17.8</td>\n",
              "      <td>392.83</td>\n",
              "      <td>4.03</td>\n",
              "      <td>34.7</td>\n",
              "    </tr>\n",
              "    <tr>\n",
              "      <th>3</th>\n",
              "      <td>0.03237</td>\n",
              "      <td>0.0</td>\n",
              "      <td>2.18</td>\n",
              "      <td>0.0</td>\n",
              "      <td>0.458</td>\n",
              "      <td>6.998</td>\n",
              "      <td>45.8</td>\n",
              "      <td>6.0622</td>\n",
              "      <td>3.0</td>\n",
              "      <td>222.0</td>\n",
              "      <td>18.7</td>\n",
              "      <td>394.63</td>\n",
              "      <td>2.94</td>\n",
              "      <td>33.4</td>\n",
              "    </tr>\n",
              "    <tr>\n",
              "      <th>4</th>\n",
              "      <td>0.06905</td>\n",
              "      <td>0.0</td>\n",
              "      <td>2.18</td>\n",
              "      <td>0.0</td>\n",
              "      <td>0.458</td>\n",
              "      <td>7.147</td>\n",
              "      <td>54.2</td>\n",
              "      <td>6.0622</td>\n",
              "      <td>3.0</td>\n",
              "      <td>222.0</td>\n",
              "      <td>18.7</td>\n",
              "      <td>396.90</td>\n",
              "      <td>5.33</td>\n",
              "      <td>36.2</td>\n",
              "    </tr>\n",
              "  </tbody>\n",
              "</table>\n",
              "</div>"
            ],
            "text/plain": [
              "      CRIM    ZN  INDUS  CHAS    NOX     RM   AGE     DIS  RAD    TAX  \\\n",
              "0  0.00632  18.0   2.31   0.0  0.538  6.575  65.2  4.0900  1.0  296.0   \n",
              "1  0.02731   0.0   7.07   0.0  0.469  6.421  78.9  4.9671  2.0  242.0   \n",
              "2  0.02729   0.0   7.07   0.0  0.469  7.185  61.1  4.9671  2.0  242.0   \n",
              "3  0.03237   0.0   2.18   0.0  0.458  6.998  45.8  6.0622  3.0  222.0   \n",
              "4  0.06905   0.0   2.18   0.0  0.458  7.147  54.2  6.0622  3.0  222.0   \n",
              "\n",
              "   PTRATIO       B  LSTAT  target  \n",
              "0     15.3  396.90   4.98    24.0  \n",
              "1     17.8  396.90   9.14    21.6  \n",
              "2     17.8  392.83   4.03    34.7  \n",
              "3     18.7  394.63   2.94    33.4  \n",
              "4     18.7  396.90   5.33    36.2  "
            ]
          },
          "metadata": {
            "tags": []
          },
          "execution_count": 28
        }
      ]
    },
    {
      "cell_type": "code",
      "metadata": {
        "id": "bRGzjgfBJVPy"
      },
      "source": [
        "cols_to_use=[]\r\n",
        "for i in range(0,len(data.columns)):\r\n",
        "             cols_to_use.append(data.columns[i])\r\n",
        "\r\n",
        "cols_to_use.remove('target')"
      ],
      "execution_count": 29,
      "outputs": []
    },
    {
      "cell_type": "code",
      "metadata": {
        "colab": {
          "base_uri": "https://localhost:8080/"
        },
        "id": "j4TW1LYmA3JV",
        "outputId": "5ce2c150-004c-434d-ff21-f01b3752b311"
      },
      "source": [
        "X_train, X_test, y_train, y_test = train_test_split(data[cols_to_use],\r\n",
        "                                                   data['target'],\r\n",
        "                                                   test_size=.3,\r\n",
        "                                                   random_state=0)\r\n",
        "\r\n",
        "\r\n",
        "X_train.shape, X_test.shape, y_train.shape, y_test.shape"
      ],
      "execution_count": 30,
      "outputs": [
        {
          "output_type": "execute_result",
          "data": {
            "text/plain": [
              "((354, 13), (152, 13), (354,), (152,))"
            ]
          },
          "metadata": {
            "tags": []
          },
          "execution_count": 30
        }
      ]
    },
    {
      "cell_type": "code",
      "metadata": {
        "ExecuteTime": {
          "end_time": "2021-01-16T16:44:45.059346Z",
          "start_time": "2021-01-16T16:44:45.054892Z"
        },
        "id": "UPT6IF4xZU8c"
      },
      "source": [
        "# Escalamos set de entrenamiento\n",
        "Sc = MinMaxScaler()\n",
        "Sc.fit(X_train)\n",
        "Xs = Sc.transform(X_train)\n",
        "\n",
        "Sc_y = MinMaxScaler()\n",
        "Sc_y.fit(y_train.values.reshape(-1,1))\n",
        "ys=Sc_y.transform(y_train.values.reshape(-1,1))"
      ],
      "execution_count": 31,
      "outputs": []
    },
    {
      "cell_type": "markdown",
      "metadata": {
        "id": "7iXhai-jZU8c"
      },
      "source": [
        "## Modelado"
      ]
    },
    {
      "cell_type": "markdown",
      "metadata": {
        "cell_style": "center",
        "id": "7_xQcZH6ZU8d"
      },
      "source": [
        "### Ridge Regression"
      ]
    },
    {
      "cell_type": "code",
      "metadata": {
        "id": "_by9QWXBCYCo"
      },
      "source": [
        "model = Ridge()\r\n"
      ],
      "execution_count": 32,
      "outputs": []
    },
    {
      "cell_type": "code",
      "metadata": {
        "colab": {
          "base_uri": "https://localhost:8080/"
        },
        "id": "_r8YJD5VCYLV",
        "outputId": "2069bcd4-7cc2-4b67-ef6c-158845e67a56"
      },
      "source": [
        "ls_medias = cross_val_score(estimator=model, X=Xs, y = ys, cv = 4, n_jobs=-1, scoring=\"r2\")\r\n",
        "np.mean(ls_medias), np.std(ls_medias)"
      ],
      "execution_count": 33,
      "outputs": [
        {
          "output_type": "execute_result",
          "data": {
            "text/plain": [
              "(0.7202102856981909, 0.051691682523327995)"
            ]
          },
          "metadata": {
            "tags": []
          },
          "execution_count": 33
        }
      ]
    },
    {
      "cell_type": "code",
      "metadata": {
        "id": "wjNC4m3b490n"
      },
      "source": [
        "Ridge?"
      ],
      "execution_count": 34,
      "outputs": []
    },
    {
      "cell_type": "code",
      "metadata": {
        "ExecuteTime": {
          "end_time": "2021-01-16T16:44:46.037564Z",
          "start_time": "2021-01-16T16:44:46.025702Z"
        },
        "cell_style": "center",
        "id": "6F5Ht3QRZU8d"
      },
      "source": [
        "#Definimos gradilla\n",
        "param_grid = {\n",
        "    \"alpha\": [x/1000 for x in range(5)] + [x for x in range(5)],\n",
        "    \"tol\": [0.00001, 0.0000001, 0.01],\n",
        "    \"solver\": ['auto', 'svd', 'cholesky', 'lsqr', 'sparse_cg', 'sag', 'saga']\n",
        "}"
      ],
      "execution_count": 35,
      "outputs": []
    },
    {
      "cell_type": "code",
      "metadata": {
        "colab": {
          "base_uri": "https://localhost:8080/"
        },
        "id": "5G79hBN24iDM",
        "outputId": "62880a37-ce1b-4fa1-fd46-b1730689f5bf"
      },
      "source": [
        "param_grid"
      ],
      "execution_count": 36,
      "outputs": [
        {
          "output_type": "execute_result",
          "data": {
            "text/plain": [
              "{'alpha': [0.0, 0.001, 0.002, 0.003, 0.004, 0, 1, 2, 3, 4],\n",
              " 'solver': ['auto', 'svd', 'cholesky', 'lsqr', 'sparse_cg', 'sag', 'saga'],\n",
              " 'tol': [1e-05, 1e-07, 0.01]}"
            ]
          },
          "metadata": {
            "tags": []
          },
          "execution_count": 36
        }
      ]
    },
    {
      "cell_type": "code",
      "metadata": {
        "ExecuteTime": {
          "end_time": "2021-01-16T16:45:34.046132Z",
          "start_time": "2021-01-16T16:44:46.228695Z"
        },
        "cell_style": "center",
        "id": "2l05HzroZU8d",
        "colab": {
          "base_uri": "https://localhost:8080/"
        },
        "outputId": "8d29e7e9-cb64-40ac-b035-c0e5140553d4"
      },
      "source": [
        "clf = GridSearchCV(model, param_grid, cv=4, error_score=-1000, n_jobs=-1, scoring=\"r2\", verbose=5)\n",
        "clf.fit(Xs, ys)\n",
        "print(\"Best score: \" + str(clf.best_score_))\n",
        "print(\"Best estimator: \" + str(clf.best_estimator_))"
      ],
      "execution_count": 37,
      "outputs": [
        {
          "output_type": "stream",
          "text": [
            "Fitting 4 folds for each of 210 candidates, totalling 840 fits\n"
          ],
          "name": "stdout"
        },
        {
          "output_type": "stream",
          "text": [
            "[Parallel(n_jobs=-1)]: Using backend LokyBackend with 2 concurrent workers.\n",
            "[Parallel(n_jobs=-1)]: Done  44 tasks      | elapsed:    0.1s\n"
          ],
          "name": "stderr"
        },
        {
          "output_type": "stream",
          "text": [
            "Best score: 0.7205705228454813\n",
            "Best estimator: Ridge(alpha=1, copy_X=True, fit_intercept=True, max_iter=None, normalize=False,\n",
            "      random_state=None, solver='sag', tol=0.01)\n"
          ],
          "name": "stdout"
        },
        {
          "output_type": "stream",
          "text": [
            "[Parallel(n_jobs=-1)]: Done 837 out of 840 | elapsed:    1.7s remaining:    0.0s\n",
            "[Parallel(n_jobs=-1)]: Done 840 out of 840 | elapsed:    1.7s finished\n"
          ],
          "name": "stderr"
        }
      ]
    },
    {
      "cell_type": "code",
      "metadata": {
        "colab": {
          "base_uri": "https://localhost:8080/"
        },
        "id": "wS7DQ96H6gZY",
        "outputId": "2005cfd6-69d7-40d3-fcba-3e508408b184"
      },
      "source": [
        "clf.best_score_"
      ],
      "execution_count": 38,
      "outputs": [
        {
          "output_type": "execute_result",
          "data": {
            "text/plain": [
              "0.7205705228454813"
            ]
          },
          "metadata": {
            "tags": []
          },
          "execution_count": 38
        }
      ]
    },
    {
      "cell_type": "markdown",
      "metadata": {
        "cell_style": "center",
        "id": "wBYKv38XZU8f"
      },
      "source": [
        "### Kernel Ridge Regression"
      ]
    },
    {
      "cell_type": "code",
      "metadata": {
        "ExecuteTime": {
          "end_time": "2021-01-16T16:45:38.833639Z",
          "start_time": "2021-01-16T16:45:38.817826Z"
        },
        "id": "J3-MMxPCZU8f"
      },
      "source": [
        "param_grid = {\"alpha\": [x/100 for x in range(5)],\n",
        "              \"kernel\": ['linear', 'poly', 'rbf', 'sigmoid', \"chi2\", \"laplacian\", \"exponential\"], \n",
        "              \"degree\": [1, 2, 3],\n",
        "              \"gamma\": [x/10 for x in range(5)]}"
      ],
      "execution_count": 39,
      "outputs": []
    },
    {
      "cell_type": "code",
      "metadata": {
        "colab": {
          "base_uri": "https://localhost:8080/"
        },
        "id": "22GSHQkA6ENA",
        "outputId": "7d0c018e-d85d-4441-ccb7-643fb0fdbaa4"
      },
      "source": [
        "param_grid"
      ],
      "execution_count": 40,
      "outputs": [
        {
          "output_type": "execute_result",
          "data": {
            "text/plain": [
              "{'alpha': [0.0, 0.01, 0.02, 0.03, 0.04],\n",
              " 'degree': [1, 2, 3],\n",
              " 'gamma': [0.0, 0.1, 0.2, 0.3, 0.4],\n",
              " 'kernel': ['linear',\n",
              "  'poly',\n",
              "  'rbf',\n",
              "  'sigmoid',\n",
              "  'chi2',\n",
              "  'laplacian',\n",
              "  'exponential']}"
            ]
          },
          "metadata": {
            "tags": []
          },
          "execution_count": 40
        }
      ]
    },
    {
      "cell_type": "code",
      "metadata": {
        "ExecuteTime": {
          "end_time": "2021-01-16T16:45:39.736020Z",
          "start_time": "2021-01-16T16:45:39.725599Z"
        },
        "id": "ZKgz_a4PZU8f"
      },
      "source": [
        "n_hyper = np.product([x for x in map(len, param_grid.values())])"
      ],
      "execution_count": 41,
      "outputs": []
    },
    {
      "cell_type": "code",
      "metadata": {
        "ExecuteTime": {
          "end_time": "2021-01-16T16:45:40.507133Z",
          "start_time": "2021-01-16T16:45:40.491377Z"
        },
        "id": "ClR3KjTjJLH8",
        "colab": {
          "base_uri": "https://localhost:8080/"
        },
        "outputId": "12cf76d0-1f55-4a4a-9671-67c31b6bf8d9"
      },
      "source": [
        "n_hyper"
      ],
      "execution_count": 42,
      "outputs": [
        {
          "output_type": "execute_result",
          "data": {
            "text/plain": [
              "525"
            ]
          },
          "metadata": {
            "tags": []
          },
          "execution_count": 42
        }
      ]
    },
    {
      "cell_type": "code",
      "metadata": {
        "ExecuteTime": {
          "end_time": "2021-01-16T16:46:08.919108Z",
          "start_time": "2021-01-16T16:45:42.047414Z"
        },
        "id": "cQ7gduaNJLH-",
        "colab": {
          "base_uri": "https://localhost:8080/"
        },
        "outputId": "3e628bd0-0beb-4dd2-dec5-8ae47d459218"
      },
      "source": [
        "model = KernelRidge()\n",
        "model.fit(Xs, ys)\n",
        "clf_2 = RandomizedSearchCV(model, param_grid, cv=4, error_score=-1000, n_jobs=-1, scoring=\"r2\", verbose=5, n_iter=n_hyper*.25)\n",
        "clf_2.fit(Xs, ys)\n",
        "print(\"Best score: \" + str(clf_2.best_score_))"
      ],
      "execution_count": 43,
      "outputs": [
        {
          "output_type": "stream",
          "text": [
            "Fitting 4 folds for each of 131 candidates, totalling 524 fits\n"
          ],
          "name": "stdout"
        },
        {
          "output_type": "stream",
          "text": [
            "[Parallel(n_jobs=-1)]: Using backend LokyBackend with 2 concurrent workers.\n",
            "[Parallel(n_jobs=-1)]: Done  44 tasks      | elapsed:    0.4s\n"
          ],
          "name": "stderr"
        },
        {
          "output_type": "stream",
          "text": [
            "Best score: 0.9044580724979976\n"
          ],
          "name": "stdout"
        },
        {
          "output_type": "stream",
          "text": [
            "[Parallel(n_jobs=-1)]: Done 524 out of 524 | elapsed:    3.1s finished\n"
          ],
          "name": "stderr"
        }
      ]
    },
    {
      "cell_type": "code",
      "metadata": {
        "ExecuteTime": {
          "end_time": "2021-01-16T16:46:11.751310Z",
          "start_time": "2021-01-16T16:46:11.741139Z"
        },
        "id": "k1azJ1lVZU8g",
        "colab": {
          "base_uri": "https://localhost:8080/"
        },
        "outputId": "9ba9f6ce-925d-4e8f-b96a-c5cd6c2377c5"
      },
      "source": [
        "clf_2.best_score_"
      ],
      "execution_count": 44,
      "outputs": [
        {
          "output_type": "execute_result",
          "data": {
            "text/plain": [
              "0.9044580724979976"
            ]
          },
          "metadata": {
            "tags": []
          },
          "execution_count": 44
        }
      ]
    },
    {
      "cell_type": "code",
      "metadata": {
        "ExecuteTime": {
          "end_time": "2021-01-16T16:46:12.294901Z",
          "start_time": "2021-01-16T16:46:12.285897Z"
        },
        "id": "cMjtmPoOZU8g",
        "colab": {
          "base_uri": "https://localhost:8080/"
        },
        "outputId": "e38047f9-5aba-4be0-bbc0-c7d73f10a6f0"
      },
      "source": [
        "clf_2.best_estimator_"
      ],
      "execution_count": 45,
      "outputs": [
        {
          "output_type": "execute_result",
          "data": {
            "text/plain": [
              "KernelRidge(alpha=0.01, coef0=1, degree=1, gamma=0.4, kernel='laplacian',\n",
              "            kernel_params=None)"
            ]
          },
          "metadata": {
            "tags": []
          },
          "execution_count": 45
        }
      ]
    },
    {
      "cell_type": "markdown",
      "metadata": {
        "id": "vP9cPYp8ZU8h"
      },
      "source": [
        "### Pruebas del modelo ganador"
      ]
    },
    {
      "cell_type": "code",
      "metadata": {
        "ExecuteTime": {
          "end_time": "2021-01-16T16:46:13.682442Z",
          "start_time": "2021-01-16T16:46:13.647659Z"
        },
        "id": "rDwChplPZU8h"
      },
      "source": [
        "#Escalamos variables\n",
        "Xt = Sc.transform(X_test)"
      ],
      "execution_count": 46,
      "outputs": []
    },
    {
      "cell_type": "code",
      "metadata": {
        "id": "NRWgDBmV9vi4"
      },
      "source": [
        "predicciones=Sc_y.inverse_transform(clf_2.best_estimator_.predict(Xt))"
      ],
      "execution_count": 47,
      "outputs": []
    },
    {
      "cell_type": "code",
      "metadata": {
        "colab": {
          "base_uri": "https://localhost:8080/"
        },
        "id": "2F3YZ7Yn7NsB",
        "outputId": "5aeee922-b275-46ef-e9eb-cfde447aa2ae"
      },
      "source": [
        "r2_score(y_pred=predicciones, y_true=y_test)"
      ],
      "execution_count": 48,
      "outputs": [
        {
          "output_type": "execute_result",
          "data": {
            "text/plain": [
              "0.8209896088681984"
            ]
          },
          "metadata": {
            "tags": []
          },
          "execution_count": 48
        }
      ]
    },
    {
      "cell_type": "code",
      "metadata": {
        "colab": {
          "base_uri": "https://localhost:8080/"
        },
        "id": "Rf4kIQeBN4Jp",
        "outputId": "037ffdbd-ded1-4a73-cbfd-93f79522dc10"
      },
      "source": [
        "clf_2.best_estimator_.score(Xt, Sc_y.transform(y_test.values.reshape(-1,1)))"
      ],
      "execution_count": 49,
      "outputs": [
        {
          "output_type": "execute_result",
          "data": {
            "text/plain": [
              "0.8209896088681984"
            ]
          },
          "metadata": {
            "tags": []
          },
          "execution_count": 49
        }
      ]
    }
  ]
}