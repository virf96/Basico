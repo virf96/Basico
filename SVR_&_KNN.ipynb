{
  "nbformat": 4,
  "nbformat_minor": 0,
  "metadata": {
    "kernelspec": {
      "display_name": "diplo_env",
      "language": "python",
      "name": "diplo_env"
    },
    "language_info": {
      "codemirror_mode": {
        "name": "ipython",
        "version": 3
      },
      "file_extension": ".py",
      "mimetype": "text/x-python",
      "name": "python",
      "nbconvert_exporter": "python",
      "pygments_lexer": "ipython3",
      "version": "3.6.11"
    },
    "varInspector": {
      "cols": {
        "lenName": 16,
        "lenType": 16,
        "lenVar": 40
      },
      "kernels_config": {
        "python": {
          "delete_cmd_postfix": "",
          "delete_cmd_prefix": "del ",
          "library": "var_list.py",
          "varRefreshCmd": "print(var_dic_list())"
        },
        "r": {
          "delete_cmd_postfix": ") ",
          "delete_cmd_prefix": "rm(",
          "library": "var_list.r",
          "varRefreshCmd": "cat(var_dic_list()) "
        }
      },
      "types_to_exclude": [
        "module",
        "function",
        "builtin_function_or_method",
        "instance",
        "_Feature"
      ],
      "window_display": false
    },
    "colab": {
      "name": "SVR & KNN.ipynb",
      "provenance": [],
      "include_colab_link": true
    }
  },
  "cells": [
    {
      "cell_type": "markdown",
      "metadata": {
        "id": "view-in-github",
        "colab_type": "text"
      },
      "source": [
        "<a href=\"https://colab.research.google.com/github/virf96/Basico/blob/main/SVR_%26_KNN.ipynb\" target=\"_parent\"><img src=\"https://colab.research.google.com/assets/colab-badge.svg\" alt=\"Open In Colab\"/></a>"
      ]
    },
    {
      "cell_type": "code",
      "metadata": {
        "ExecuteTime": {
          "end_time": "2021-01-23T15:10:06.511281Z",
          "start_time": "2021-01-23T15:10:06.148894Z"
        },
        "id": "aGtMg50wPAdC"
      },
      "source": [
        "import pandas as pd\n",
        "import numpy as np\n",
        "pd.set_option('display.max_columns',200)"
      ],
      "execution_count": 1,
      "outputs": []
    },
    {
      "cell_type": "code",
      "metadata": {
        "ExecuteTime": {
          "end_time": "2021-01-23T15:10:07.551137Z",
          "start_time": "2021-01-23T15:10:06.730812Z"
        },
        "id": "DhXJcmlRPAdF"
      },
      "source": [
        "import missingno as msno"
      ],
      "execution_count": 2,
      "outputs": []
    },
    {
      "cell_type": "code",
      "metadata": {
        "ExecuteTime": {
          "end_time": "2021-01-23T15:10:08.795720Z",
          "start_time": "2021-01-23T15:10:08.563412Z"
        },
        "id": "6KAfzeX_PAdG"
      },
      "source": [
        "from sklearn.model_selection import train_test_split"
      ],
      "execution_count": 3,
      "outputs": []
    },
    {
      "cell_type": "code",
      "metadata": {
        "colab": {
          "base_uri": "https://localhost:8080/"
        },
        "id": "oiKdPWOo0KO2",
        "outputId": "caf38150-da00-43d9-821e-9535acbf121f"
      },
      "source": [
        "from google.colab import drive\n",
        "drive.mount('/content/drive')"
      ],
      "execution_count": 7,
      "outputs": [
        {
          "output_type": "stream",
          "text": [
            "Mounted at /content/drive\n"
          ],
          "name": "stdout"
        }
      ]
    },
    {
      "cell_type": "code",
      "metadata": {
        "ExecuteTime": {
          "end_time": "2021-01-23T15:10:09.656920Z",
          "start_time": "2021-01-23T15:10:09.613338Z"
        },
        "id": "g51pvwb2PAdG"
      },
      "source": [
        "insurance=pd.read_csv('/content/drive/MyDrive/datasets/insurance.csv')"
      ],
      "execution_count": 8,
      "outputs": []
    },
    {
      "cell_type": "code",
      "metadata": {
        "ExecuteTime": {
          "end_time": "2021-01-23T15:10:12.739013Z",
          "start_time": "2021-01-23T15:10:12.440165Z"
        },
        "id": "fKeDM-9nPAdH",
        "colab": {
          "base_uri": "https://localhost:8080/",
          "height": 583
        },
        "outputId": "2f5f1751-f49d-4755-db8a-682d2b06b504"
      },
      "source": [
        "msno.matrix(insurance)"
      ],
      "execution_count": 9,
      "outputs": [
        {
          "output_type": "execute_result",
          "data": {
            "text/plain": [
              "<matplotlib.axes._subplots.AxesSubplot at 0x7f11823e52b0>"
            ]
          },
          "metadata": {
            "tags": []
          },
          "execution_count": 9
        },
        {
          "output_type": "display_data",
          "data": {
            "image/png": "[encoded data removed]",
            "text/plain": [
              "<Figure size 1800x720 with 2 Axes>"
            ]
          },
          "metadata": {
            "tags": [],
            "needs_background": "light"
          }
        }
      ]
    },
    {
      "cell_type": "code",
      "metadata": {
        "ExecuteTime": {
          "end_time": "2021-01-23T15:10:28.976414Z",
          "start_time": "2021-01-23T15:10:28.959068Z"
        },
        "id": "n93hOyExPAdI",
        "colab": {
          "base_uri": "https://localhost:8080/",
          "height": 191
        },
        "outputId": "d98d4822-9ff8-4b30-b558-36bfaea9722c"
      },
      "source": [
        "insurance.head()"
      ],
      "execution_count": 10,
      "outputs": [
        {
          "output_type": "execute_result",
          "data": {
            "text/html": [
              "<div>\n",
              "<style scoped>\n",
              "    .dataframe tbody tr th:only-of-type {\n",
              "        vertical-align: middle;\n",
              "    }\n",
              "\n",
              "    .dataframe tbody tr th {\n",
              "        vertical-align: top;\n",
              "    }\n",
              "\n",
              "    .dataframe thead th {\n",
              "        text-align: right;\n",
              "    }\n",
              "</style>\n",
              "<table border=\"1\" class=\"dataframe\">\n",
              "  <thead>\n",
              "    <tr style=\"text-align: right;\">\n",
              "      <th></th>\n",
              "      <th>age</th>\n",
              "      <th>sex</th>\n",
              "      <th>bmi</th>\n",
              "      <th>children</th>\n",
              "      <th>smoker</th>\n",
              "      <th>region</th>\n",
              "      <th>charges</th>\n",
              "    </tr>\n",
              "  </thead>\n",
              "  <tbody>\n",
              "    <tr>\n",
              "      <th>0</th>\n",
              "      <td>19</td>\n",
              "      <td>female</td>\n",
              "      <td>27.900</td>\n",
              "      <td>0</td>\n",
              "      <td>yes</td>\n",
              "      <td>southwest</td>\n",
              "      <td>16884.92400</td>\n",
              "    </tr>\n",
              "    <tr>\n",
              "      <th>1</th>\n",
              "      <td>18</td>\n",
              "      <td>male</td>\n",
              "      <td>33.770</td>\n",
              "      <td>1</td>\n",
              "      <td>no</td>\n",
              "      <td>southeast</td>\n",
              "      <td>1725.55230</td>\n",
              "    </tr>\n",
              "    <tr>\n",
              "      <th>2</th>\n",
              "      <td>28</td>\n",
              "      <td>male</td>\n",
              "      <td>33.000</td>\n",
              "      <td>3</td>\n",
              "      <td>no</td>\n",
              "      <td>southeast</td>\n",
              "      <td>4449.46200</td>\n",
              "    </tr>\n",
              "    <tr>\n",
              "      <th>3</th>\n",
              "      <td>33</td>\n",
              "      <td>male</td>\n",
              "      <td>22.705</td>\n",
              "      <td>0</td>\n",
              "      <td>no</td>\n",
              "      <td>northwest</td>\n",
              "      <td>21984.47061</td>\n",
              "    </tr>\n",
              "    <tr>\n",
              "      <th>4</th>\n",
              "      <td>32</td>\n",
              "      <td>male</td>\n",
              "      <td>28.880</td>\n",
              "      <td>0</td>\n",
              "      <td>no</td>\n",
              "      <td>northwest</td>\n",
              "      <td>3866.85520</td>\n",
              "    </tr>\n",
              "  </tbody>\n",
              "</table>\n",
              "</div>"
            ],
            "text/plain": [
              "   age     sex     bmi  children smoker     region      charges\n",
              "0   19  female  27.900         0    yes  southwest  16884.92400\n",
              "1   18    male  33.770         1     no  southeast   1725.55230\n",
              "2   28    male  33.000         3     no  southeast   4449.46200\n",
              "3   33    male  22.705         0     no  northwest  21984.47061\n",
              "4   32    male  28.880         0     no  northwest   3866.85520"
            ]
          },
          "metadata": {
            "tags": []
          },
          "execution_count": 10
        }
      ]
    },
    {
      "cell_type": "code",
      "metadata": {
        "ExecuteTime": {
          "end_time": "2021-01-23T15:11:18.497706Z",
          "start_time": "2021-01-23T15:11:18.390591Z"
        },
        "id": "LpaCw45ePAdJ"
      },
      "source": [
        "#Codificamos variables\n",
        "dumm_insurance=pd.get_dummies(insurance['region'])\n",
        "\n",
        "insurance['sex']=insurance['sex'].map(lambda x: 1 if x=='female' else 0)\n",
        "\n",
        "insurance['smoker']=insurance['smoker'].map(lambda x: 1 if x=='yes' else 0)\n",
        "\n",
        "\n",
        "df_insurance= pd.concat([insurance,dumm_insurance],axis=1)"
      ],
      "execution_count": 11,
      "outputs": []
    },
    {
      "cell_type": "code",
      "metadata": {
        "colab": {
          "base_uri": "https://localhost:8080/"
        },
        "id": "swD_lZ9O0vel",
        "outputId": "01571873-d036-4e91-c024-c208db24055d"
      },
      "source": [
        "[col for col in df_insurance.columns if col not in [target,'region','southwest']]"
      ],
      "execution_count": 16,
      "outputs": [
        {
          "output_type": "execute_result",
          "data": {
            "text/plain": [
              "['age',\n",
              " 'sex',\n",
              " 'bmi',\n",
              " 'children',\n",
              " 'smoker',\n",
              " 'northeast',\n",
              " 'northwest',\n",
              " 'southeast']"
            ]
          },
          "metadata": {
            "tags": []
          },
          "execution_count": 16
        }
      ]
    },
    {
      "cell_type": "code",
      "metadata": {
        "ExecuteTime": {
          "end_time": "2021-01-23T15:11:54.800912Z",
          "start_time": "2021-01-23T15:11:54.788413Z"
        },
        "id": "90ufr6TyPAdK"
      },
      "source": [
        "target='charges'\n",
        "\n",
        "cont=[col for col in df_insurance.columns if col not in [target,'region','southwest']]"
      ],
      "execution_count": 17,
      "outputs": []
    },
    {
      "cell_type": "code",
      "metadata": {
        "ExecuteTime": {
          "end_time": "2021-01-23T15:11:58.808890Z",
          "start_time": "2021-01-23T15:11:58.792218Z"
        },
        "id": "9KzijGmCPAdK"
      },
      "source": [
        "df_insurance=df_insurance[cont+[target]].copy()"
      ],
      "execution_count": 18,
      "outputs": []
    },
    {
      "cell_type": "code",
      "metadata": {
        "ExecuteTime": {
          "end_time": "2021-01-23T15:12:11.143142Z",
          "start_time": "2021-01-23T15:12:11.130004Z"
        },
        "id": "xzo_NhMKPAdL"
      },
      "source": [
        "#Target y variables independientes\n",
        "X_insurance=df_insurance[cont]\n",
        "y_insurance=df_insurance[[target]]"
      ],
      "execution_count": 19,
      "outputs": []
    },
    {
      "cell_type": "code",
      "metadata": {
        "ExecuteTime": {
          "end_time": "2021-01-23T15:12:16.630482Z",
          "start_time": "2021-01-23T15:12:16.613498Z"
        },
        "id": "oJikLc3sPAdL"
      },
      "source": [
        "#Partimos df\r\n",
        "X_train_insurance, X_test_insurance, y_train_insurance, y_test_insurance = train_test_split(X_insurance, y_insurance, test_size = 0.1, random_state = 0)"
      ],
      "execution_count": 20,
      "outputs": []
    },
    {
      "cell_type": "code",
      "metadata": {
        "ExecuteTime": {
          "end_time": "2021-01-23T15:12:17.938190Z",
          "start_time": "2021-01-23T15:12:17.933433Z"
        },
        "id": "iOzCc9BPPAdN"
      },
      "source": [
        "from sklearn.preprocessing import StandardScaler,MinMaxScaler"
      ],
      "execution_count": 21,
      "outputs": []
    },
    {
      "cell_type": "code",
      "metadata": {
        "ExecuteTime": {
          "end_time": "2021-01-23T15:12:24.334130Z",
          "start_time": "2021-01-23T15:12:24.284111Z"
        },
        "id": "Mf6OcrUJPAdN"
      },
      "source": [
        "#Escalamos variables\n",
        "sc_X=StandardScaler()\n",
        "\n",
        "X_train_std=sc_X.fit_transform(X_train_insurance)\n",
        "\n",
        "X_test_std=sc_X.transform(X_test_insurance)"
      ],
      "execution_count": 22,
      "outputs": []
    },
    {
      "cell_type": "code",
      "metadata": {
        "ExecuteTime": {
          "end_time": "2021-01-23T15:13:07.663894Z",
          "start_time": "2021-01-23T15:13:07.543428Z"
        },
        "id": "2g__F171PAdO"
      },
      "source": [
        "from sklearn.svm import SVR"
      ],
      "execution_count": 23,
      "outputs": []
    },
    {
      "cell_type": "code",
      "metadata": {
        "ExecuteTime": {
          "end_time": "2021-01-23T15:15:02.242399Z",
          "start_time": "2021-01-23T15:15:02.233171Z"
        },
        "id": "yjUmIvGGPAdO"
      },
      "source": [
        "#Instanceamos modelo indicando el kernel\r\n",
        "svm=SVR(kernel='rbf')"
      ],
      "execution_count": 24,
      "outputs": []
    },
    {
      "cell_type": "code",
      "metadata": {
        "ExecuteTime": {
          "end_time": "2021-01-23T15:15:04.240612Z",
          "start_time": "2021-01-23T15:15:04.054850Z"
        },
        "id": "U6l8epRzPAdO",
        "colab": {
          "base_uri": "https://localhost:8080/"
        },
        "outputId": "ce756b57-8141-48ce-adc7-683d6b20522f"
      },
      "source": [
        "# Ajustamos modelos\r\n",
        "svm.fit(X_train_std,y_train_insurance)"
      ],
      "execution_count": 25,
      "outputs": [
        {
          "output_type": "stream",
          "text": [
            "/usr/local/lib/python3.6/dist-packages/sklearn/utils/validation.py:760: DataConversionWarning: A column-vector y was passed when a 1d array was expected. Please change the shape of y to (n_samples, ), for example using ravel().\n",
            "  y = column_or_1d(y, warn=True)\n"
          ],
          "name": "stderr"
        },
        {
          "output_type": "execute_result",
          "data": {
            "text/plain": [
              "SVR(C=1.0, cache_size=200, coef0=0.0, degree=3, epsilon=0.1, gamma='scale',\n",
              "    kernel='rbf', max_iter=-1, shrinking=True, tol=0.001, verbose=False)"
            ]
          },
          "metadata": {
            "tags": []
          },
          "execution_count": 25
        }
      ]
    },
    {
      "cell_type": "code",
      "metadata": {
        "ExecuteTime": {
          "end_time": "2021-01-23T15:15:11.244006Z",
          "start_time": "2021-01-23T15:15:11.202064Z"
        },
        "scrolled": true,
        "id": "musE1RfgPAdP",
        "colab": {
          "base_uri": "https://localhost:8080/"
        },
        "outputId": "7234e09b-ab5d-4d15-caf5-d1bf8a36dfd5"
      },
      "source": [
        "#Hacemos predicciones\r\n",
        "svm.predict(X_test_std)"
      ],
      "execution_count": 26,
      "outputs": [
        {
          "output_type": "execute_result",
          "data": {
            "text/plain": [
              "array([9269.44386539, 9253.23747201, 9316.86298898, 9300.73930964,\n",
              "       9272.48359656, 9244.88159716, 9219.84186152, 9284.40441406,\n",
              "       9248.63364777, 9233.72487483, 9258.26263429, 9268.887285  ,\n",
              "       9234.75798474, 9220.99874834, 9295.98105061, 9272.66874517,\n",
              "       9290.51734629, 9229.68797859, 9231.4050234 , 9303.56247364,\n",
              "       9319.87189368, 9291.32295766, 9299.63386096, 9325.34793695,\n",
              "       9206.20881333, 9252.12841583, 9244.27275461, 9251.61100737,\n",
              "       9214.46827359, 9252.05599888, 9252.04782828, 9333.73337519,\n",
              "       9308.46527887, 9290.40738282, 9299.42615174, 9234.6660591 ,\n",
              "       9264.18146424, 9311.54415416, 9314.31827707, 9188.52300433,\n",
              "       9252.0202286 , 9211.71784829, 9323.86368316, 9326.04214501,\n",
              "       9293.72399496, 9211.47934367, 9272.57432325, 9236.54611201,\n",
              "       9235.44901637, 9282.84285255, 9232.81195828, 9225.5425116 ,\n",
              "       9336.21907998, 9326.25674576, 9294.84246777, 9242.39442271,\n",
              "       9212.865041  , 9264.54323032, 9276.73153924, 9289.00316699,\n",
              "       9185.10773767, 9323.34450852, 9295.42650121, 9265.56914179,\n",
              "       9287.99035466, 9281.44933092, 9299.12414397, 9303.7658956 ,\n",
              "       9220.03097726, 9263.25189872, 9301.35108051, 9285.02155695,\n",
              "       9295.88628655, 9303.86803617, 9294.3386785 , 9315.26457838,\n",
              "       9248.92923439, 9250.25446943, 9321.01872035, 9344.42299436,\n",
              "       9307.87773054, 9310.81176926, 9205.76342736, 9242.03903689,\n",
              "       9334.1002382 , 9315.14527116, 9227.05883056, 9207.52803926,\n",
              "       9291.07206408, 9311.78557574, 9265.07165853, 9282.7685475 ,\n",
              "       9253.00300741, 9251.371158  , 9252.97432309, 9241.26540427,\n",
              "       9340.71144944, 9331.54407638, 9223.20723844, 9295.19926535,\n",
              "       9205.23837835, 9227.43687873, 9213.08664756, 9320.19381697,\n",
              "       9312.17145331, 9217.91845122, 9280.06989343, 9217.5550058 ,\n",
              "       9314.50956042, 9343.13836862, 9281.34251305, 9247.00510051,\n",
              "       9261.05319319, 9301.81471999, 9331.47755116, 9261.11553185,\n",
              "       9191.79193934, 9262.24520585, 9300.30416954, 9260.44265924,\n",
              "       9323.24452777, 9274.52528184, 9313.95922266, 9259.30676979,\n",
              "       9236.99349255, 9227.11284746, 9333.04786001, 9312.45593873,\n",
              "       9334.98060411, 9217.95126182, 9248.66832489, 9201.61528258,\n",
              "       9224.87430969, 9285.99615885])"
            ]
          },
          "metadata": {
            "tags": []
          },
          "execution_count": 26
        }
      ]
    },
    {
      "cell_type": "code",
      "metadata": {
        "ExecuteTime": {
          "end_time": "2021-01-23T15:15:14.258929Z",
          "start_time": "2021-01-23T15:15:14.249846Z"
        },
        "id": "IXku3TX6PAdQ"
      },
      "source": [
        "from sklearn.metrics import r2_score,mean_absolute_error,mean_squared_error"
      ],
      "execution_count": 27,
      "outputs": []
    },
    {
      "cell_type": "code",
      "metadata": {
        "ExecuteTime": {
          "end_time": "2021-01-23T15:15:14.967932Z",
          "start_time": "2021-01-23T15:15:14.954042Z"
        },
        "id": "tVuKqHkWPAdQ"
      },
      "source": [
        "#Veamos las métricas\n",
        "def metricas_regresion(y_true,y_pred):\n",
        "    r2=r2_score(y_true,y_pred)\n",
        "    mae=mean_absolute_error(y_true,y_pred)\n",
        "    mse=mean_squared_error(y_true,y_pred)\n",
        "    print(f'El r2 score es {r2}')\n",
        "    print(f'El error cuadrático medio es {mse}')\n",
        "    print(f'El error medio absoluto es {mae}')"
      ],
      "execution_count": 28,
      "outputs": []
    },
    {
      "cell_type": "code",
      "metadata": {
        "ExecuteTime": {
          "end_time": "2021-01-23T15:15:15.447733Z",
          "start_time": "2021-01-23T15:15:15.390957Z"
        },
        "id": "bFIGf1AZPAdc",
        "colab": {
          "base_uri": "https://localhost:8080/"
        },
        "outputId": "75ef75f9-600d-483d-f6cd-af0ec5eba7fe"
      },
      "source": [
        "metricas_regresion(y_test_insurance,svm.predict(X_test_std))"
      ],
      "execution_count": 29,
      "outputs": [
        {
          "output_type": "stream",
          "text": [
            "El r2 score es -0.20250859395771803\n",
            "El error cuadrático medio es 233170560.0714691\n",
            "El error medio absoluto es 9916.37415211405\n"
          ],
          "name": "stdout"
        }
      ]
    },
    {
      "cell_type": "code",
      "metadata": {
        "ExecuteTime": {
          "end_time": "2021-01-23T15:17:30.331418Z",
          "start_time": "2021-01-23T15:17:30.305404Z"
        },
        "id": "-KrKfssZPAdd"
      },
      "source": [
        "#Probemos vecinos más cercanos\r\n",
        "from sklearn.neighbors import KNeighborsRegressor"
      ],
      "execution_count": 30,
      "outputs": []
    },
    {
      "cell_type": "code",
      "metadata": {
        "ExecuteTime": {
          "end_time": "2021-01-23T15:17:35.960882Z",
          "start_time": "2021-01-23T15:17:35.953526Z"
        },
        "id": "o1mgJmczPAdd"
      },
      "source": [
        "Knn=KNeighborsRegressor()"
      ],
      "execution_count": 31,
      "outputs": []
    },
    {
      "cell_type": "code",
      "metadata": {
        "ExecuteTime": {
          "end_time": "2021-01-23T15:17:37.717647Z",
          "start_time": "2021-01-23T15:17:37.700621Z"
        },
        "id": "aOvuWNjRPAde",
        "colab": {
          "base_uri": "https://localhost:8080/"
        },
        "outputId": "ed3b53ae-b761-4fd0-b707-9268967e45d7"
      },
      "source": [
        "Knn.fit(X_train_std,y_train_insurance)"
      ],
      "execution_count": 32,
      "outputs": [
        {
          "output_type": "execute_result",
          "data": {
            "text/plain": [
              "KNeighborsRegressor(algorithm='auto', leaf_size=30, metric='minkowski',\n",
              "                    metric_params=None, n_jobs=None, n_neighbors=5, p=2,\n",
              "                    weights='uniform')"
            ]
          },
          "metadata": {
            "tags": []
          },
          "execution_count": 32
        }
      ]
    },
    {
      "cell_type": "code",
      "metadata": {
        "ExecuteTime": {
          "end_time": "2021-01-23T15:17:55.115397Z",
          "start_time": "2021-01-23T15:17:55.082203Z"
        },
        "id": "b4UjxAUDPAde",
        "colab": {
          "base_uri": "https://localhost:8080/"
        },
        "outputId": "586e3ffe-5ee0-4c88-e44a-c2333bcae131"
      },
      "source": [
        "Knn.predict(X_test_std)"
      ],
      "execution_count": 33,
      "outputs": [
        {
          "output_type": "execute_result",
          "data": {
            "text/plain": [
              "array([[ 8299.452   ],\n",
              "       [ 7721.46328 ],\n",
              "       [46710.832484],\n",
              "       [11777.80179 ],\n",
              "       [11441.75795 ],\n",
              "       [ 3668.90685 ],\n",
              "       [ 2588.9581  ],\n",
              "       [16508.519848],\n",
              "       [ 9907.91122 ],\n",
              "       [ 6124.48175 ],\n",
              "       [ 7717.33854 ],\n",
              "       [ 8954.39423 ],\n",
              "       [ 7022.6268  ],\n",
              "       [10970.78713 ],\n",
              "       [20898.19424 ],\n",
              "       [15144.790592],\n",
              "       [11617.78854 ],\n",
              "       [ 6707.536822],\n",
              "       [ 6432.93079 ],\n",
              "       [27637.204886],\n",
              "       [28884.20109 ],\n",
              "       [16009.216758],\n",
              "       [10859.95526 ],\n",
              "       [32173.00028 ],\n",
              "       [ 1266.6699  ],\n",
              "       [ 8007.555   ],\n",
              "       [ 3247.18897 ],\n",
              "       [11207.758272],\n",
              "       [ 7938.462988],\n",
              "       [ 7215.45852 ],\n",
              "       [ 8001.68597 ],\n",
              "       [47039.02148 ],\n",
              "       [13789.98448 ],\n",
              "       [12493.77308 ],\n",
              "       [16476.06643 ],\n",
              "       [ 4068.41571 ],\n",
              "       [10282.274994],\n",
              "       [38864.234574],\n",
              "       [34013.86773 ],\n",
              "       [ 3980.727666],\n",
              "       [ 6364.529808],\n",
              "       [ 2744.52292 ],\n",
              "       [22469.667024],\n",
              "       [43700.328524],\n",
              "       [33822.73938 ],\n",
              "       [ 7949.665188],\n",
              "       [15144.790592],\n",
              "       [ 6617.85228 ],\n",
              "       [10326.446748],\n",
              "       [14292.213452],\n",
              "       [ 2365.29542 ],\n",
              "       [11396.759088],\n",
              "       [28818.01544 ],\n",
              "       [45623.27171 ],\n",
              "       [12032.052   ],\n",
              "       [ 6826.97756 ],\n",
              "       [ 2048.32348 ],\n",
              "       [13385.850892],\n",
              "       [12407.431948],\n",
              "       [16088.520654],\n",
              "       [ 1597.1566  ],\n",
              "       [39118.987594],\n",
              "       [12717.42816 ],\n",
              "       [ 7694.7708  ],\n",
              "       [12151.132154],\n",
              "       [10090.384   ],\n",
              "       [24823.76414 ],\n",
              "       [32632.97298 ],\n",
              "       [ 6342.328642],\n",
              "       [ 8328.97917 ],\n",
              "       [11848.5842  ],\n",
              "       [13375.022286],\n",
              "       [28016.5636  ],\n",
              "       [13313.01782 ],\n",
              "       [16143.713324],\n",
              "       [12292.25886 ],\n",
              "       [ 8661.4952  ],\n",
              "       [12290.37465 ],\n",
              "       [20064.0365  ],\n",
              "       [36649.5696  ],\n",
              "       [14614.878572],\n",
              "       [48735.194844],\n",
              "       [ 2004.13871 ],\n",
              "       [ 7077.1486  ],\n",
              "       [39884.49701 ],\n",
              "       [22751.633734],\n",
              "       [ 3347.9914  ],\n",
              "       [ 5664.252266],\n",
              "       [11448.0802  ],\n",
              "       [35172.877   ],\n",
              "       [11164.596782],\n",
              "       [12462.342252],\n",
              "       [ 2321.7839  ],\n",
              "       [ 8157.8436  ],\n",
              "       [ 6333.98218 ],\n",
              "       [10598.13194 ],\n",
              "       [37076.31157 ],\n",
              "       [33998.4476  ],\n",
              "       [ 5890.18329 ],\n",
              "       [13027.40128 ],\n",
              "       [ 4991.012202],\n",
              "       [ 5050.24493 ],\n",
              "       [ 4125.18056 ],\n",
              "       [34271.60598 ],\n",
              "       [26332.29608 ],\n",
              "       [ 3171.55309 ],\n",
              "       [10967.2792  ],\n",
              "       [ 2510.75285 ],\n",
              "       [12689.05691 ],\n",
              "       [32728.07364 ],\n",
              "       [11459.7253  ],\n",
              "       [ 6084.125534],\n",
              "       [13128.19434 ],\n",
              "       [27637.204886],\n",
              "       [45964.01972 ],\n",
              "       [13143.117244],\n",
              "       [ 1651.4974  ],\n",
              "       [14310.573726],\n",
              "       [12618.13928 ],\n",
              "       [13025.531528],\n",
              "       [43824.8405  ],\n",
              "       [11441.75795 ],\n",
              "       [11905.5028  ],\n",
              "       [10340.50492 ],\n",
              "       [10871.60346 ],\n",
              "       [ 7691.78289 ],\n",
              "       [24272.86837 ],\n",
              "       [22440.63805 ],\n",
              "       [40445.29856 ],\n",
              "       [ 6016.819496],\n",
              "       [ 8170.62054 ],\n",
              "       [ 6805.60363 ],\n",
              "       [ 5857.1384  ],\n",
              "       [10906.45088 ]])"
            ]
          },
          "metadata": {
            "tags": []
          },
          "execution_count": 33
        }
      ]
    },
    {
      "cell_type": "code",
      "metadata": {
        "ExecuteTime": {
          "end_time": "2021-01-23T15:17:56.776315Z",
          "start_time": "2021-01-23T15:17:56.727515Z"
        },
        "id": "W3ud4LHRPAdf",
        "colab": {
          "base_uri": "https://localhost:8080/"
        },
        "outputId": "579495e6-91c3-48c0-eb0d-d44819a710ec"
      },
      "source": [
        "#En este caso vecinos más cercanos a pesar de ser un modelo mucho más simple obtiene mejores resultados\r\n",
        "metricas_regresion(y_test_insurance,Knn.predict(X_test_std))"
      ],
      "execution_count": 35,
      "outputs": [
        {
          "output_type": "stream",
          "text": [
            "El r2 score es 0.8797629981711873\n",
            "El error cuadrático medio es 23314368.977161992\n",
            "El error medio absoluto es 3257.934568238806\n"
          ],
          "name": "stdout"
        }
      ]
    },
    {
      "cell_type": "code",
      "metadata": {
        "id": "mrmh5SrqPAdf"
      },
      "source": [
        ""
      ],
      "execution_count": null,
      "outputs": []
    },
    {
      "cell_type": "code",
      "metadata": {
        "id": "gIxPNo9QPAdg"
      },
      "source": [
        ""
      ],
      "execution_count": null,
      "outputs": []
    }
  ]
}