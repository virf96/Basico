{
  "nbformat": 4,
  "nbformat_minor": 0,
  "metadata": {
    "kernelspec": {
      "display_name": "diplomado",
      "language": "python",
      "name": "diplomado"
    },
    "language_info": {
      "codemirror_mode": {
        "name": "ipython",
        "version": 3
      },
      "file_extension": ".py",
      "mimetype": "text/x-python",
      "name": "python",
      "nbconvert_exporter": "python",
      "pygments_lexer": "ipython3",
      "version": "3.6.9"
    },
    "colab": {
      "name": "Transformación entrópica.ipynb",
      "provenance": [],
      "toc_visible": true,
      "include_colab_link": true
    }
  },
  "cells": [
    {
      "cell_type": "markdown",
      "metadata": {
        "id": "view-in-github",
        "colab_type": "text"
      },
      "source": [
        "<a href=\"https://colab.research.google.com/github/virf96/Basico/blob/main/Transformaci%C3%B3n_entr%C3%B3pica.ipynb\" target=\"_parent\"><img src=\"https://colab.research.google.com/assets/colab-badge.svg\" alt=\"Open In Colab\"/></a>"
      ]
    },
    {
      "cell_type": "code",
      "metadata": {
        "ExecuteTime": {
          "end_time": "2020-11-20T00:56:57.703545Z",
          "start_time": "2020-11-20T00:56:57.696550Z"
        },
        "id": "og72BHqjquGR"
      },
      "source": [
        "import pandas as pd\n",
        "import numpy as np"
      ],
      "execution_count": 1,
      "outputs": []
    },
    {
      "cell_type": "code",
      "metadata": {
        "id": "35b7RbS6PB_I",
        "colab": {
          "base_uri": "https://localhost:8080/"
        },
        "outputId": "48918e85-e68b-47a9-b616-08a9953b3c3e"
      },
      "source": [
        "from google.colab import drive\n",
        "drive.mount('/content/drive')"
      ],
      "execution_count": 2,
      "outputs": [
        {
          "output_type": "stream",
          "text": [
            "Mounted at /content/drive\n"
          ],
          "name": "stdout"
        }
      ]
    },
    {
      "cell_type": "code",
      "metadata": {
        "ExecuteTime": {
          "end_time": "2020-11-20T01:21:45.230315Z",
          "start_time": "2020-11-20T01:21:45.189246Z"
        },
        "id": "gssvKk7FquGT"
      },
      "source": [
        "df=pd.read_csv(\"/content/drive/MyDrive/datasets/titanic.csv\")"
      ],
      "execution_count": 17,
      "outputs": []
    },
    {
      "cell_type": "markdown",
      "metadata": {
        "id": "8wBAQufNquGV"
      },
      "source": [
        "<h1 style=\"color:orange\">Evento -- 1 (sobreviviente)  NO Evento --- 0 (no sobreviviente)</h1>"
      ]
    },
    {
      "cell_type": "code",
      "metadata": {
        "ExecuteTime": {
          "end_time": "2020-11-20T01:21:45.881625Z",
          "start_time": "2020-11-20T01:21:45.796971Z"
        },
        "id": "tEl5ofzIquGV",
        "colab": {
          "base_uri": "https://localhost:8080/",
          "height": 456
        },
        "outputId": "c4b8cfdd-4010-41fb-93c7-30e486d33d73"
      },
      "source": [
        "df"
      ],
      "execution_count": 18,
      "outputs": [
        {
          "output_type": "execute_result",
          "data": {
            "text/html": [
              "<div>\n",
              "<style scoped>\n",
              "    .dataframe tbody tr th:only-of-type {\n",
              "        vertical-align: middle;\n",
              "    }\n",
              "\n",
              "    .dataframe tbody tr th {\n",
              "        vertical-align: top;\n",
              "    }\n",
              "\n",
              "    .dataframe thead th {\n",
              "        text-align: right;\n",
              "    }\n",
              "</style>\n",
              "<table border=\"1\" class=\"dataframe\">\n",
              "  <thead>\n",
              "    <tr style=\"text-align: right;\">\n",
              "      <th></th>\n",
              "      <th>pclass</th>\n",
              "      <th>survived</th>\n",
              "      <th>name</th>\n",
              "      <th>sex</th>\n",
              "      <th>age</th>\n",
              "      <th>sibsp</th>\n",
              "      <th>parch</th>\n",
              "      <th>ticket</th>\n",
              "      <th>fare</th>\n",
              "      <th>cabin</th>\n",
              "      <th>embarked</th>\n",
              "      <th>boat</th>\n",
              "      <th>body</th>\n",
              "      <th>home.dest</th>\n",
              "    </tr>\n",
              "  </thead>\n",
              "  <tbody>\n",
              "    <tr>\n",
              "      <th>0</th>\n",
              "      <td>1</td>\n",
              "      <td>1</td>\n",
              "      <td>Allen, Miss. Elisabeth Walton</td>\n",
              "      <td>female</td>\n",
              "      <td>29.0000</td>\n",
              "      <td>0</td>\n",
              "      <td>0</td>\n",
              "      <td>24160</td>\n",
              "      <td>211.3375</td>\n",
              "      <td>B5</td>\n",
              "      <td>S</td>\n",
              "      <td>2</td>\n",
              "      <td>NaN</td>\n",
              "      <td>St Louis, MO</td>\n",
              "    </tr>\n",
              "    <tr>\n",
              "      <th>1</th>\n",
              "      <td>1</td>\n",
              "      <td>1</td>\n",
              "      <td>Allison, Master. Hudson Trevor</td>\n",
              "      <td>male</td>\n",
              "      <td>0.9167</td>\n",
              "      <td>1</td>\n",
              "      <td>2</td>\n",
              "      <td>113781</td>\n",
              "      <td>151.5500</td>\n",
              "      <td>C22</td>\n",
              "      <td>S</td>\n",
              "      <td>11</td>\n",
              "      <td>NaN</td>\n",
              "      <td>Montreal, PQ / Chesterville, ON</td>\n",
              "    </tr>\n",
              "    <tr>\n",
              "      <th>2</th>\n",
              "      <td>1</td>\n",
              "      <td>0</td>\n",
              "      <td>Allison, Miss. Helen Loraine</td>\n",
              "      <td>female</td>\n",
              "      <td>2.0000</td>\n",
              "      <td>1</td>\n",
              "      <td>2</td>\n",
              "      <td>113781</td>\n",
              "      <td>151.5500</td>\n",
              "      <td>C22</td>\n",
              "      <td>S</td>\n",
              "      <td>NaN</td>\n",
              "      <td>NaN</td>\n",
              "      <td>Montreal, PQ / Chesterville, ON</td>\n",
              "    </tr>\n",
              "    <tr>\n",
              "      <th>3</th>\n",
              "      <td>1</td>\n",
              "      <td>0</td>\n",
              "      <td>Allison, Mr. Hudson Joshua Creighton</td>\n",
              "      <td>male</td>\n",
              "      <td>30.0000</td>\n",
              "      <td>1</td>\n",
              "      <td>2</td>\n",
              "      <td>113781</td>\n",
              "      <td>151.5500</td>\n",
              "      <td>C22</td>\n",
              "      <td>S</td>\n",
              "      <td>NaN</td>\n",
              "      <td>135.0</td>\n",
              "      <td>Montreal, PQ / Chesterville, ON</td>\n",
              "    </tr>\n",
              "    <tr>\n",
              "      <th>4</th>\n",
              "      <td>1</td>\n",
              "      <td>0</td>\n",
              "      <td>Allison, Mrs. Hudson J C (Bessie Waldo Daniels)</td>\n",
              "      <td>female</td>\n",
              "      <td>25.0000</td>\n",
              "      <td>1</td>\n",
              "      <td>2</td>\n",
              "      <td>113781</td>\n",
              "      <td>151.5500</td>\n",
              "      <td>C22</td>\n",
              "      <td>S</td>\n",
              "      <td>NaN</td>\n",
              "      <td>NaN</td>\n",
              "      <td>Montreal, PQ / Chesterville, ON</td>\n",
              "    </tr>\n",
              "    <tr>\n",
              "      <th>...</th>\n",
              "      <td>...</td>\n",
              "      <td>...</td>\n",
              "      <td>...</td>\n",
              "      <td>...</td>\n",
              "      <td>...</td>\n",
              "      <td>...</td>\n",
              "      <td>...</td>\n",
              "      <td>...</td>\n",
              "      <td>...</td>\n",
              "      <td>...</td>\n",
              "      <td>...</td>\n",
              "      <td>...</td>\n",
              "      <td>...</td>\n",
              "      <td>...</td>\n",
              "    </tr>\n",
              "    <tr>\n",
              "      <th>1304</th>\n",
              "      <td>3</td>\n",
              "      <td>0</td>\n",
              "      <td>Zabour, Miss. Hileni</td>\n",
              "      <td>female</td>\n",
              "      <td>14.5000</td>\n",
              "      <td>1</td>\n",
              "      <td>0</td>\n",
              "      <td>2665</td>\n",
              "      <td>14.4542</td>\n",
              "      <td>NaN</td>\n",
              "      <td>C</td>\n",
              "      <td>NaN</td>\n",
              "      <td>328.0</td>\n",
              "      <td>NaN</td>\n",
              "    </tr>\n",
              "    <tr>\n",
              "      <th>1305</th>\n",
              "      <td>3</td>\n",
              "      <td>0</td>\n",
              "      <td>Zabour, Miss. Thamine</td>\n",
              "      <td>female</td>\n",
              "      <td>NaN</td>\n",
              "      <td>1</td>\n",
              "      <td>0</td>\n",
              "      <td>2665</td>\n",
              "      <td>14.4542</td>\n",
              "      <td>NaN</td>\n",
              "      <td>C</td>\n",
              "      <td>NaN</td>\n",
              "      <td>NaN</td>\n",
              "      <td>NaN</td>\n",
              "    </tr>\n",
              "    <tr>\n",
              "      <th>1306</th>\n",
              "      <td>3</td>\n",
              "      <td>0</td>\n",
              "      <td>Zakarian, Mr. Mapriededer</td>\n",
              "      <td>male</td>\n",
              "      <td>26.5000</td>\n",
              "      <td>0</td>\n",
              "      <td>0</td>\n",
              "      <td>2656</td>\n",
              "      <td>7.2250</td>\n",
              "      <td>NaN</td>\n",
              "      <td>C</td>\n",
              "      <td>NaN</td>\n",
              "      <td>304.0</td>\n",
              "      <td>NaN</td>\n",
              "    </tr>\n",
              "    <tr>\n",
              "      <th>1307</th>\n",
              "      <td>3</td>\n",
              "      <td>0</td>\n",
              "      <td>Zakarian, Mr. Ortin</td>\n",
              "      <td>male</td>\n",
              "      <td>27.0000</td>\n",
              "      <td>0</td>\n",
              "      <td>0</td>\n",
              "      <td>2670</td>\n",
              "      <td>7.2250</td>\n",
              "      <td>NaN</td>\n",
              "      <td>C</td>\n",
              "      <td>NaN</td>\n",
              "      <td>NaN</td>\n",
              "      <td>NaN</td>\n",
              "    </tr>\n",
              "    <tr>\n",
              "      <th>1308</th>\n",
              "      <td>3</td>\n",
              "      <td>0</td>\n",
              "      <td>Zimmerman, Mr. Leo</td>\n",
              "      <td>male</td>\n",
              "      <td>29.0000</td>\n",
              "      <td>0</td>\n",
              "      <td>0</td>\n",
              "      <td>315082</td>\n",
              "      <td>7.8750</td>\n",
              "      <td>NaN</td>\n",
              "      <td>S</td>\n",
              "      <td>NaN</td>\n",
              "      <td>NaN</td>\n",
              "      <td>NaN</td>\n",
              "    </tr>\n",
              "  </tbody>\n",
              "</table>\n",
              "<p>1309 rows × 14 columns</p>\n",
              "</div>"
            ],
            "text/plain": [
              "      pclass  survived  ...   body                        home.dest\n",
              "0          1         1  ...    NaN                     St Louis, MO\n",
              "1          1         1  ...    NaN  Montreal, PQ / Chesterville, ON\n",
              "2          1         0  ...    NaN  Montreal, PQ / Chesterville, ON\n",
              "3          1         0  ...  135.0  Montreal, PQ / Chesterville, ON\n",
              "4          1         0  ...    NaN  Montreal, PQ / Chesterville, ON\n",
              "...      ...       ...  ...    ...                              ...\n",
              "1304       3         0  ...  328.0                              NaN\n",
              "1305       3         0  ...    NaN                              NaN\n",
              "1306       3         0  ...  304.0                              NaN\n",
              "1307       3         0  ...    NaN                              NaN\n",
              "1308       3         0  ...    NaN                              NaN\n",
              "\n",
              "[1309 rows x 14 columns]"
            ]
          },
          "metadata": {
            "tags": []
          },
          "execution_count": 18
        }
      ]
    },
    {
      "cell_type": "markdown",
      "metadata": {
        "id": "UNJxqnJpquGW"
      },
      "source": [
        "<h1 style=\"color:orange\">DUPLICADOS </h1>"
      ]
    },
    {
      "cell_type": "code",
      "metadata": {
        "ExecuteTime": {
          "end_time": "2020-11-20T01:21:46.505008Z",
          "start_time": "2020-11-20T01:21:46.479424Z"
        },
        "id": "1H_pg6H1quGW",
        "colab": {
          "base_uri": "https://localhost:8080/"
        },
        "outputId": "487b975c-9ed9-4af6-aff0-f1ccd72d7965"
      },
      "source": [
        "df.duplicated().sum()"
      ],
      "execution_count": 19,
      "outputs": [
        {
          "output_type": "execute_result",
          "data": {
            "text/plain": [
              "0"
            ]
          },
          "metadata": {
            "tags": []
          },
          "execution_count": 19
        }
      ]
    },
    {
      "cell_type": "markdown",
      "metadata": {
        "id": "qyVJHkJRquGX"
      },
      "source": [
        "<h1 style=\"color:orange\">RENOMBRAR COLUMNAS </h1>"
      ]
    },
    {
      "cell_type": "code",
      "metadata": {
        "ExecuteTime": {
          "end_time": "2020-11-20T01:21:47.237238Z",
          "start_time": "2020-11-20T01:21:47.217894Z"
        },
        "id": "uOTuXG3gquGX"
      },
      "source": [
        "id_feats=[\"home.dest\"]\n",
        "v_feats=[\"pclass\",\"sex\",\"sibSp\",\"parch\",\"embarked\",'body']\n",
        "c_feats=[\"age\",\"fare\",'boat']\n",
        "t_feats=[\"cabin\",\"name\",\"ticket\"]\n",
        "tgt_feat=[\"survived\"]\n",
        "\n",
        "id_feats_new=list(map(lambda x:\"id_\"+x,id_feats))\n",
        "v_feats_new=list(map(lambda x:\"v_\"+x,v_feats))\n",
        "c_feats_new=list(map(lambda x:\"c_\"+x,c_feats))\n",
        "t_feats_new=list(map(lambda x:\"t_\"+x,t_feats))\n",
        "tgt_feat_new=list(map(lambda x:\"tgt_\"+x,tgt_feat))\n"
      ],
      "execution_count": 20,
      "outputs": []
    },
    {
      "cell_type": "code",
      "metadata": {
        "ExecuteTime": {
          "end_time": "2020-11-20T01:21:47.617893Z",
          "start_time": "2020-11-20T01:21:47.563375Z"
        },
        "id": "KfHrF0zsquGY"
      },
      "source": [
        "df.rename(columns=dict(zip(id_feats,id_feats_new)),inplace=True)\n",
        "df.rename(columns=dict(zip(v_feats,v_feats_new)),inplace=True)\n",
        "df.rename(columns=dict(zip(c_feats,c_feats_new)),inplace=True)\n",
        "df.rename(columns=dict(zip(t_feats,t_feats_new)),inplace=True)\n",
        "df.rename(columns=dict(zip(tgt_feat,tgt_feat_new)),inplace=True)"
      ],
      "execution_count": 21,
      "outputs": []
    },
    {
      "cell_type": "code",
      "metadata": {
        "ExecuteTime": {
          "end_time": "2020-11-20T01:21:48.102142Z",
          "start_time": "2020-11-20T01:21:47.978247Z"
        },
        "scrolled": true,
        "id": "5cz6vGlmquGY",
        "colab": {
          "base_uri": "https://localhost:8080/",
          "height": 521
        },
        "outputId": "f1301722-e3cd-447b-9cfe-34b0c6a1ec71"
      },
      "source": [
        "df"
      ],
      "execution_count": 22,
      "outputs": [
        {
          "output_type": "execute_result",
          "data": {
            "text/html": [
              "<div>\n",
              "<style scoped>\n",
              "    .dataframe tbody tr th:only-of-type {\n",
              "        vertical-align: middle;\n",
              "    }\n",
              "\n",
              "    .dataframe tbody tr th {\n",
              "        vertical-align: top;\n",
              "    }\n",
              "\n",
              "    .dataframe thead th {\n",
              "        text-align: right;\n",
              "    }\n",
              "</style>\n",
              "<table border=\"1\" class=\"dataframe\">\n",
              "  <thead>\n",
              "    <tr style=\"text-align: right;\">\n",
              "      <th></th>\n",
              "      <th>v_pclass</th>\n",
              "      <th>tgt_survived</th>\n",
              "      <th>t_name</th>\n",
              "      <th>v_sex</th>\n",
              "      <th>c_age</th>\n",
              "      <th>sibsp</th>\n",
              "      <th>v_parch</th>\n",
              "      <th>t_ticket</th>\n",
              "      <th>c_fare</th>\n",
              "      <th>t_cabin</th>\n",
              "      <th>v_embarked</th>\n",
              "      <th>c_boat</th>\n",
              "      <th>v_body</th>\n",
              "      <th>id_home.dest</th>\n",
              "    </tr>\n",
              "  </thead>\n",
              "  <tbody>\n",
              "    <tr>\n",
              "      <th>0</th>\n",
              "      <td>1</td>\n",
              "      <td>1</td>\n",
              "      <td>Allen, Miss. Elisabeth Walton</td>\n",
              "      <td>female</td>\n",
              "      <td>29.0000</td>\n",
              "      <td>0</td>\n",
              "      <td>0</td>\n",
              "      <td>24160</td>\n",
              "      <td>211.3375</td>\n",
              "      <td>B5</td>\n",
              "      <td>S</td>\n",
              "      <td>2</td>\n",
              "      <td>NaN</td>\n",
              "      <td>St Louis, MO</td>\n",
              "    </tr>\n",
              "    <tr>\n",
              "      <th>1</th>\n",
              "      <td>1</td>\n",
              "      <td>1</td>\n",
              "      <td>Allison, Master. Hudson Trevor</td>\n",
              "      <td>male</td>\n",
              "      <td>0.9167</td>\n",
              "      <td>1</td>\n",
              "      <td>2</td>\n",
              "      <td>113781</td>\n",
              "      <td>151.5500</td>\n",
              "      <td>C22</td>\n",
              "      <td>S</td>\n",
              "      <td>11</td>\n",
              "      <td>NaN</td>\n",
              "      <td>Montreal, PQ / Chesterville, ON</td>\n",
              "    </tr>\n",
              "    <tr>\n",
              "      <th>2</th>\n",
              "      <td>1</td>\n",
              "      <td>0</td>\n",
              "      <td>Allison, Miss. Helen Loraine</td>\n",
              "      <td>female</td>\n",
              "      <td>2.0000</td>\n",
              "      <td>1</td>\n",
              "      <td>2</td>\n",
              "      <td>113781</td>\n",
              "      <td>151.5500</td>\n",
              "      <td>C22</td>\n",
              "      <td>S</td>\n",
              "      <td>NaN</td>\n",
              "      <td>NaN</td>\n",
              "      <td>Montreal, PQ / Chesterville, ON</td>\n",
              "    </tr>\n",
              "    <tr>\n",
              "      <th>3</th>\n",
              "      <td>1</td>\n",
              "      <td>0</td>\n",
              "      <td>Allison, Mr. Hudson Joshua Creighton</td>\n",
              "      <td>male</td>\n",
              "      <td>30.0000</td>\n",
              "      <td>1</td>\n",
              "      <td>2</td>\n",
              "      <td>113781</td>\n",
              "      <td>151.5500</td>\n",
              "      <td>C22</td>\n",
              "      <td>S</td>\n",
              "      <td>NaN</td>\n",
              "      <td>135.0</td>\n",
              "      <td>Montreal, PQ / Chesterville, ON</td>\n",
              "    </tr>\n",
              "    <tr>\n",
              "      <th>4</th>\n",
              "      <td>1</td>\n",
              "      <td>0</td>\n",
              "      <td>Allison, Mrs. Hudson J C (Bessie Waldo Daniels)</td>\n",
              "      <td>female</td>\n",
              "      <td>25.0000</td>\n",
              "      <td>1</td>\n",
              "      <td>2</td>\n",
              "      <td>113781</td>\n",
              "      <td>151.5500</td>\n",
              "      <td>C22</td>\n",
              "      <td>S</td>\n",
              "      <td>NaN</td>\n",
              "      <td>NaN</td>\n",
              "      <td>Montreal, PQ / Chesterville, ON</td>\n",
              "    </tr>\n",
              "    <tr>\n",
              "      <th>...</th>\n",
              "      <td>...</td>\n",
              "      <td>...</td>\n",
              "      <td>...</td>\n",
              "      <td>...</td>\n",
              "      <td>...</td>\n",
              "      <td>...</td>\n",
              "      <td>...</td>\n",
              "      <td>...</td>\n",
              "      <td>...</td>\n",
              "      <td>...</td>\n",
              "      <td>...</td>\n",
              "      <td>...</td>\n",
              "      <td>...</td>\n",
              "      <td>...</td>\n",
              "    </tr>\n",
              "    <tr>\n",
              "      <th>1304</th>\n",
              "      <td>3</td>\n",
              "      <td>0</td>\n",
              "      <td>Zabour, Miss. Hileni</td>\n",
              "      <td>female</td>\n",
              "      <td>14.5000</td>\n",
              "      <td>1</td>\n",
              "      <td>0</td>\n",
              "      <td>2665</td>\n",
              "      <td>14.4542</td>\n",
              "      <td>NaN</td>\n",
              "      <td>C</td>\n",
              "      <td>NaN</td>\n",
              "      <td>328.0</td>\n",
              "      <td>NaN</td>\n",
              "    </tr>\n",
              "    <tr>\n",
              "      <th>1305</th>\n",
              "      <td>3</td>\n",
              "      <td>0</td>\n",
              "      <td>Zabour, Miss. Thamine</td>\n",
              "      <td>female</td>\n",
              "      <td>NaN</td>\n",
              "      <td>1</td>\n",
              "      <td>0</td>\n",
              "      <td>2665</td>\n",
              "      <td>14.4542</td>\n",
              "      <td>NaN</td>\n",
              "      <td>C</td>\n",
              "      <td>NaN</td>\n",
              "      <td>NaN</td>\n",
              "      <td>NaN</td>\n",
              "    </tr>\n",
              "    <tr>\n",
              "      <th>1306</th>\n",
              "      <td>3</td>\n",
              "      <td>0</td>\n",
              "      <td>Zakarian, Mr. Mapriededer</td>\n",
              "      <td>male</td>\n",
              "      <td>26.5000</td>\n",
              "      <td>0</td>\n",
              "      <td>0</td>\n",
              "      <td>2656</td>\n",
              "      <td>7.2250</td>\n",
              "      <td>NaN</td>\n",
              "      <td>C</td>\n",
              "      <td>NaN</td>\n",
              "      <td>304.0</td>\n",
              "      <td>NaN</td>\n",
              "    </tr>\n",
              "    <tr>\n",
              "      <th>1307</th>\n",
              "      <td>3</td>\n",
              "      <td>0</td>\n",
              "      <td>Zakarian, Mr. Ortin</td>\n",
              "      <td>male</td>\n",
              "      <td>27.0000</td>\n",
              "      <td>0</td>\n",
              "      <td>0</td>\n",
              "      <td>2670</td>\n",
              "      <td>7.2250</td>\n",
              "      <td>NaN</td>\n",
              "      <td>C</td>\n",
              "      <td>NaN</td>\n",
              "      <td>NaN</td>\n",
              "      <td>NaN</td>\n",
              "    </tr>\n",
              "    <tr>\n",
              "      <th>1308</th>\n",
              "      <td>3</td>\n",
              "      <td>0</td>\n",
              "      <td>Zimmerman, Mr. Leo</td>\n",
              "      <td>male</td>\n",
              "      <td>29.0000</td>\n",
              "      <td>0</td>\n",
              "      <td>0</td>\n",
              "      <td>315082</td>\n",
              "      <td>7.8750</td>\n",
              "      <td>NaN</td>\n",
              "      <td>S</td>\n",
              "      <td>NaN</td>\n",
              "      <td>NaN</td>\n",
              "      <td>NaN</td>\n",
              "    </tr>\n",
              "  </tbody>\n",
              "</table>\n",
              "<p>1309 rows × 14 columns</p>\n",
              "</div>"
            ],
            "text/plain": [
              "      v_pclass  tgt_survived  ... v_body                     id_home.dest\n",
              "0            1             1  ...    NaN                     St Louis, MO\n",
              "1            1             1  ...    NaN  Montreal, PQ / Chesterville, ON\n",
              "2            1             0  ...    NaN  Montreal, PQ / Chesterville, ON\n",
              "3            1             0  ...  135.0  Montreal, PQ / Chesterville, ON\n",
              "4            1             0  ...    NaN  Montreal, PQ / Chesterville, ON\n",
              "...        ...           ...  ...    ...                              ...\n",
              "1304         3             0  ...  328.0                              NaN\n",
              "1305         3             0  ...    NaN                              NaN\n",
              "1306         3             0  ...  304.0                              NaN\n",
              "1307         3             0  ...    NaN                              NaN\n",
              "1308         3             0  ...    NaN                              NaN\n",
              "\n",
              "[1309 rows x 14 columns]"
            ]
          },
          "metadata": {
            "tags": []
          },
          "execution_count": 22
        }
      ]
    },
    {
      "cell_type": "markdown",
      "metadata": {
        "id": "c_nS0NiBquGZ"
      },
      "source": [
        "<h1 style=\"color:orange\">COMPLETITUD </h1>"
      ]
    },
    {
      "cell_type": "code",
      "metadata": {
        "ExecuteTime": {
          "end_time": "2020-11-20T01:21:48.773328Z",
          "start_time": "2020-11-20T01:21:48.753525Z"
        },
        "id": "8fOcUIaRquGZ"
      },
      "source": [
        "completitud=pd.DataFrame((1-df.isnull().sum()/df.shape[0])*100).reset_index().rename(columns={\"index\":\"columna\",0:\"completitud\"})"
      ],
      "execution_count": 23,
      "outputs": []
    },
    {
      "cell_type": "code",
      "metadata": {
        "ExecuteTime": {
          "end_time": "2020-11-20T01:21:49.150951Z",
          "start_time": "2020-11-20T01:21:49.115915Z"
        },
        "id": "mUSkRfPcquGZ",
        "colab": {
          "base_uri": "https://localhost:8080/",
          "height": 450
        },
        "outputId": "a720c8e3-6a2d-4e34-be7a-0edd1adaeb86"
      },
      "source": [
        "completitud"
      ],
      "execution_count": 24,
      "outputs": [
        {
          "output_type": "execute_result",
          "data": {
            "text/html": [
              "<div>\n",
              "<style scoped>\n",
              "    .dataframe tbody tr th:only-of-type {\n",
              "        vertical-align: middle;\n",
              "    }\n",
              "\n",
              "    .dataframe tbody tr th {\n",
              "        vertical-align: top;\n",
              "    }\n",
              "\n",
              "    .dataframe thead th {\n",
              "        text-align: right;\n",
              "    }\n",
              "</style>\n",
              "<table border=\"1\" class=\"dataframe\">\n",
              "  <thead>\n",
              "    <tr style=\"text-align: right;\">\n",
              "      <th></th>\n",
              "      <th>columna</th>\n",
              "      <th>completitud</th>\n",
              "    </tr>\n",
              "  </thead>\n",
              "  <tbody>\n",
              "    <tr>\n",
              "      <th>0</th>\n",
              "      <td>v_pclass</td>\n",
              "      <td>100.000000</td>\n",
              "    </tr>\n",
              "    <tr>\n",
              "      <th>1</th>\n",
              "      <td>tgt_survived</td>\n",
              "      <td>100.000000</td>\n",
              "    </tr>\n",
              "    <tr>\n",
              "      <th>2</th>\n",
              "      <td>t_name</td>\n",
              "      <td>100.000000</td>\n",
              "    </tr>\n",
              "    <tr>\n",
              "      <th>3</th>\n",
              "      <td>v_sex</td>\n",
              "      <td>100.000000</td>\n",
              "    </tr>\n",
              "    <tr>\n",
              "      <th>4</th>\n",
              "      <td>c_age</td>\n",
              "      <td>79.908327</td>\n",
              "    </tr>\n",
              "    <tr>\n",
              "      <th>5</th>\n",
              "      <td>sibsp</td>\n",
              "      <td>100.000000</td>\n",
              "    </tr>\n",
              "    <tr>\n",
              "      <th>6</th>\n",
              "      <td>v_parch</td>\n",
              "      <td>100.000000</td>\n",
              "    </tr>\n",
              "    <tr>\n",
              "      <th>7</th>\n",
              "      <td>t_ticket</td>\n",
              "      <td>100.000000</td>\n",
              "    </tr>\n",
              "    <tr>\n",
              "      <th>8</th>\n",
              "      <td>c_fare</td>\n",
              "      <td>99.923606</td>\n",
              "    </tr>\n",
              "    <tr>\n",
              "      <th>9</th>\n",
              "      <td>t_cabin</td>\n",
              "      <td>22.536287</td>\n",
              "    </tr>\n",
              "    <tr>\n",
              "      <th>10</th>\n",
              "      <td>v_embarked</td>\n",
              "      <td>99.847212</td>\n",
              "    </tr>\n",
              "    <tr>\n",
              "      <th>11</th>\n",
              "      <td>c_boat</td>\n",
              "      <td>37.127578</td>\n",
              "    </tr>\n",
              "    <tr>\n",
              "      <th>12</th>\n",
              "      <td>v_body</td>\n",
              "      <td>9.243697</td>\n",
              "    </tr>\n",
              "    <tr>\n",
              "      <th>13</th>\n",
              "      <td>id_home.dest</td>\n",
              "      <td>56.913675</td>\n",
              "    </tr>\n",
              "  </tbody>\n",
              "</table>\n",
              "</div>"
            ],
            "text/plain": [
              "         columna  completitud\n",
              "0       v_pclass   100.000000\n",
              "1   tgt_survived   100.000000\n",
              "2         t_name   100.000000\n",
              "3          v_sex   100.000000\n",
              "4          c_age    79.908327\n",
              "5          sibsp   100.000000\n",
              "6        v_parch   100.000000\n",
              "7       t_ticket   100.000000\n",
              "8         c_fare    99.923606\n",
              "9        t_cabin    22.536287\n",
              "10    v_embarked    99.847212\n",
              "11        c_boat    37.127578\n",
              "12        v_body     9.243697\n",
              "13  id_home.dest    56.913675"
            ]
          },
          "metadata": {
            "tags": []
          },
          "execution_count": 24
        }
      ]
    },
    {
      "cell_type": "markdown",
      "metadata": {
        "id": "UhDR3-nUquGa"
      },
      "source": [
        "<h1 style=\"color:orange\">ELIMINAR COLUMNAS </h1>"
      ]
    },
    {
      "cell_type": "code",
      "metadata": {
        "ExecuteTime": {
          "end_time": "2020-11-20T01:21:49.915743Z",
          "start_time": "2020-11-20T01:21:49.897793Z"
        },
        "id": "iDwobIiWquGa"
      },
      "source": [
        "df.drop(columns=[\"t_cabin\",'c_boat','v_body','id_home.dest'],inplace=True)"
      ],
      "execution_count": 26,
      "outputs": []
    },
    {
      "cell_type": "code",
      "metadata": {
        "ExecuteTime": {
          "end_time": "2020-11-20T01:21:50.312454Z",
          "start_time": "2020-11-20T01:21:50.258973Z"
        },
        "id": "eBOJrRNgquGa",
        "colab": {
          "base_uri": "https://localhost:8080/",
          "height": 191
        },
        "outputId": "633dabc2-08aa-4a10-9896-43f5e8ec0be2"
      },
      "source": [
        "df.head()"
      ],
      "execution_count": 27,
      "outputs": [
        {
          "output_type": "execute_result",
          "data": {
            "text/html": [
              "<div>\n",
              "<style scoped>\n",
              "    .dataframe tbody tr th:only-of-type {\n",
              "        vertical-align: middle;\n",
              "    }\n",
              "\n",
              "    .dataframe tbody tr th {\n",
              "        vertical-align: top;\n",
              "    }\n",
              "\n",
              "    .dataframe thead th {\n",
              "        text-align: right;\n",
              "    }\n",
              "</style>\n",
              "<table border=\"1\" class=\"dataframe\">\n",
              "  <thead>\n",
              "    <tr style=\"text-align: right;\">\n",
              "      <th></th>\n",
              "      <th>v_pclass</th>\n",
              "      <th>tgt_survived</th>\n",
              "      <th>t_name</th>\n",
              "      <th>v_sex</th>\n",
              "      <th>c_age</th>\n",
              "      <th>sibsp</th>\n",
              "      <th>v_parch</th>\n",
              "      <th>t_ticket</th>\n",
              "      <th>c_fare</th>\n",
              "      <th>v_embarked</th>\n",
              "    </tr>\n",
              "  </thead>\n",
              "  <tbody>\n",
              "    <tr>\n",
              "      <th>0</th>\n",
              "      <td>1</td>\n",
              "      <td>1</td>\n",
              "      <td>Allen, Miss. Elisabeth Walton</td>\n",
              "      <td>female</td>\n",
              "      <td>29.0000</td>\n",
              "      <td>0</td>\n",
              "      <td>0</td>\n",
              "      <td>24160</td>\n",
              "      <td>211.3375</td>\n",
              "      <td>S</td>\n",
              "    </tr>\n",
              "    <tr>\n",
              "      <th>1</th>\n",
              "      <td>1</td>\n",
              "      <td>1</td>\n",
              "      <td>Allison, Master. Hudson Trevor</td>\n",
              "      <td>male</td>\n",
              "      <td>0.9167</td>\n",
              "      <td>1</td>\n",
              "      <td>2</td>\n",
              "      <td>113781</td>\n",
              "      <td>151.5500</td>\n",
              "      <td>S</td>\n",
              "    </tr>\n",
              "    <tr>\n",
              "      <th>2</th>\n",
              "      <td>1</td>\n",
              "      <td>0</td>\n",
              "      <td>Allison, Miss. Helen Loraine</td>\n",
              "      <td>female</td>\n",
              "      <td>2.0000</td>\n",
              "      <td>1</td>\n",
              "      <td>2</td>\n",
              "      <td>113781</td>\n",
              "      <td>151.5500</td>\n",
              "      <td>S</td>\n",
              "    </tr>\n",
              "    <tr>\n",
              "      <th>3</th>\n",
              "      <td>1</td>\n",
              "      <td>0</td>\n",
              "      <td>Allison, Mr. Hudson Joshua Creighton</td>\n",
              "      <td>male</td>\n",
              "      <td>30.0000</td>\n",
              "      <td>1</td>\n",
              "      <td>2</td>\n",
              "      <td>113781</td>\n",
              "      <td>151.5500</td>\n",
              "      <td>S</td>\n",
              "    </tr>\n",
              "    <tr>\n",
              "      <th>4</th>\n",
              "      <td>1</td>\n",
              "      <td>0</td>\n",
              "      <td>Allison, Mrs. Hudson J C (Bessie Waldo Daniels)</td>\n",
              "      <td>female</td>\n",
              "      <td>25.0000</td>\n",
              "      <td>1</td>\n",
              "      <td>2</td>\n",
              "      <td>113781</td>\n",
              "      <td>151.5500</td>\n",
              "      <td>S</td>\n",
              "    </tr>\n",
              "  </tbody>\n",
              "</table>\n",
              "</div>"
            ],
            "text/plain": [
              "   v_pclass  tgt_survived  ...    c_fare v_embarked\n",
              "0         1             1  ...  211.3375          S\n",
              "1         1             1  ...  151.5500          S\n",
              "2         1             0  ...  151.5500          S\n",
              "3         1             0  ...  151.5500          S\n",
              "4         1             0  ...  151.5500          S\n",
              "\n",
              "[5 rows x 10 columns]"
            ]
          },
          "metadata": {
            "tags": []
          },
          "execution_count": 27
        }
      ]
    },
    {
      "cell_type": "markdown",
      "metadata": {
        "id": "81ycvTBwquGb"
      },
      "source": [
        "<h1 style=\"color:orange\">CONTINUAS A DISCRETAS </h1>"
      ]
    },
    {
      "cell_type": "code",
      "metadata": {
        "ExecuteTime": {
          "end_time": "2020-11-20T01:21:51.060979Z",
          "start_time": "2020-11-20T01:21:51.020754Z"
        },
        "id": "5j4RoPnlquGb",
        "colab": {
          "base_uri": "https://localhost:8080/",
          "height": 391
        },
        "outputId": "352739fd-a7e9-41d1-99fc-2b2d5c78aa55"
      },
      "source": [
        "df.filter(like=\"c_\")"
      ],
      "execution_count": 28,
      "outputs": [
        {
          "output_type": "execute_result",
          "data": {
            "text/html": [
              "<div>\n",
              "<style scoped>\n",
              "    .dataframe tbody tr th:only-of-type {\n",
              "        vertical-align: middle;\n",
              "    }\n",
              "\n",
              "    .dataframe tbody tr th {\n",
              "        vertical-align: top;\n",
              "    }\n",
              "\n",
              "    .dataframe thead th {\n",
              "        text-align: right;\n",
              "    }\n",
              "</style>\n",
              "<table border=\"1\" class=\"dataframe\">\n",
              "  <thead>\n",
              "    <tr style=\"text-align: right;\">\n",
              "      <th></th>\n",
              "      <th>c_age</th>\n",
              "      <th>c_fare</th>\n",
              "    </tr>\n",
              "  </thead>\n",
              "  <tbody>\n",
              "    <tr>\n",
              "      <th>0</th>\n",
              "      <td>29.0000</td>\n",
              "      <td>211.3375</td>\n",
              "    </tr>\n",
              "    <tr>\n",
              "      <th>1</th>\n",
              "      <td>0.9167</td>\n",
              "      <td>151.5500</td>\n",
              "    </tr>\n",
              "    <tr>\n",
              "      <th>2</th>\n",
              "      <td>2.0000</td>\n",
              "      <td>151.5500</td>\n",
              "    </tr>\n",
              "    <tr>\n",
              "      <th>3</th>\n",
              "      <td>30.0000</td>\n",
              "      <td>151.5500</td>\n",
              "    </tr>\n",
              "    <tr>\n",
              "      <th>4</th>\n",
              "      <td>25.0000</td>\n",
              "      <td>151.5500</td>\n",
              "    </tr>\n",
              "    <tr>\n",
              "      <th>...</th>\n",
              "      <td>...</td>\n",
              "      <td>...</td>\n",
              "    </tr>\n",
              "    <tr>\n",
              "      <th>1304</th>\n",
              "      <td>14.5000</td>\n",
              "      <td>14.4542</td>\n",
              "    </tr>\n",
              "    <tr>\n",
              "      <th>1305</th>\n",
              "      <td>NaN</td>\n",
              "      <td>14.4542</td>\n",
              "    </tr>\n",
              "    <tr>\n",
              "      <th>1306</th>\n",
              "      <td>26.5000</td>\n",
              "      <td>7.2250</td>\n",
              "    </tr>\n",
              "    <tr>\n",
              "      <th>1307</th>\n",
              "      <td>27.0000</td>\n",
              "      <td>7.2250</td>\n",
              "    </tr>\n",
              "    <tr>\n",
              "      <th>1308</th>\n",
              "      <td>29.0000</td>\n",
              "      <td>7.8750</td>\n",
              "    </tr>\n",
              "  </tbody>\n",
              "</table>\n",
              "<p>1309 rows × 2 columns</p>\n",
              "</div>"
            ],
            "text/plain": [
              "        c_age    c_fare\n",
              "0     29.0000  211.3375\n",
              "1      0.9167  151.5500\n",
              "2      2.0000  151.5500\n",
              "3     30.0000  151.5500\n",
              "4     25.0000  151.5500\n",
              "...       ...       ...\n",
              "1304  14.5000   14.4542\n",
              "1305      NaN   14.4542\n",
              "1306  26.5000    7.2250\n",
              "1307  27.0000    7.2250\n",
              "1308  29.0000    7.8750\n",
              "\n",
              "[1309 rows x 2 columns]"
            ]
          },
          "metadata": {
            "tags": []
          },
          "execution_count": 28
        }
      ]
    },
    {
      "cell_type": "code",
      "metadata": {
        "ExecuteTime": {
          "end_time": "2020-11-20T01:21:51.428953Z",
          "start_time": "2020-11-20T01:21:51.378885Z"
        },
        "id": "nJRZnMFNquGc",
        "colab": {
          "base_uri": "https://localhost:8080/"
        },
        "outputId": "87d342b7-c6a9-43ad-c4cd-31310d7eb7ad"
      },
      "source": [
        "pd.cut(df[\"c_age\"],bins=3).astype(str).value_counts(1)"
      ],
      "execution_count": 30,
      "outputs": [
        {
          "output_type": "execute_result",
          "data": {
            "text/plain": [
              "(26.778, 53.389]    0.378151\n",
              "(0.0869, 26.778]    0.362108\n",
              "nan                 0.200917\n",
              "(53.389, 80.0]      0.058824\n",
              "Name: c_age, dtype: float64"
            ]
          },
          "metadata": {
            "tags": []
          },
          "execution_count": 30
        }
      ]
    },
    {
      "cell_type": "code",
      "metadata": {
        "ExecuteTime": {
          "end_time": "2020-11-20T01:21:51.769377Z",
          "start_time": "2020-11-20T01:21:51.725635Z"
        },
        "id": "PJR4CECkquGc"
      },
      "source": [
        "df[\"v_age\"]=pd.cut(df[\"c_age\"],bins=3).astype(str)"
      ],
      "execution_count": 32,
      "outputs": []
    },
    {
      "cell_type": "code",
      "metadata": {
        "colab": {
          "base_uri": "https://localhost:8080/"
        },
        "id": "VjaFMv8ySFWd",
        "outputId": "1e60724c-3b11-4814-cb27-28241dcb4414"
      },
      "source": [
        "df[\"v_age\"].unique()"
      ],
      "execution_count": 33,
      "outputs": [
        {
          "output_type": "execute_result",
          "data": {
            "text/plain": [
              "array(['(26.778, 53.389]', '(0.0869, 26.778]', '(53.389, 80.0]', 'nan'],\n",
              "      dtype=object)"
            ]
          },
          "metadata": {
            "tags": []
          },
          "execution_count": 33
        }
      ]
    },
    {
      "cell_type": "code",
      "metadata": {
        "ExecuteTime": {
          "end_time": "2020-11-20T01:21:52.191669Z",
          "start_time": "2020-11-20T01:21:52.178603Z"
        },
        "scrolled": true,
        "id": "TzZbwR0TquGc"
      },
      "source": [
        "df[\"v_age\"]=df[\"v_age\"].replace({\"nan\":\"Missings\"})"
      ],
      "execution_count": 35,
      "outputs": []
    },
    {
      "cell_type": "code",
      "metadata": {
        "ExecuteTime": {
          "end_time": "2020-11-20T01:21:52.648036Z",
          "start_time": "2020-11-20T01:21:52.578010Z"
        },
        "id": "AzhqkLDhquGd",
        "colab": {
          "base_uri": "https://localhost:8080/"
        },
        "outputId": "a6589d5c-2c98-478c-b8c9-dd70b05a4a5e"
      },
      "source": [
        "pd.cut(df[\"c_fare\"],bins=3).astype(str).value_counts(1)"
      ],
      "execution_count": 36,
      "outputs": [
        {
          "output_type": "execute_result",
          "data": {
            "text/plain": [
              "(-0.512, 170.776]     0.970206\n",
              "(170.776, 341.553]    0.025974\n",
              "(341.553, 512.329]    0.003056\n",
              "nan                   0.000764\n",
              "Name: c_fare, dtype: float64"
            ]
          },
          "metadata": {
            "tags": []
          },
          "execution_count": 36
        }
      ]
    },
    {
      "cell_type": "code",
      "metadata": {
        "ExecuteTime": {
          "end_time": "2020-11-20T01:21:57.472730Z",
          "start_time": "2020-11-20T01:21:57.427548Z"
        },
        "id": "vC3-fcpmquGd"
      },
      "source": [
        "df[\"v_fare\"]=pd.cut(df[\"c_fare\"],bins=3).astype(str)"
      ],
      "execution_count": 37,
      "outputs": []
    },
    {
      "cell_type": "markdown",
      "metadata": {
        "id": "O2FBWRiuquGd"
      },
      "source": [
        "<h1 style=\"color:orange\">CREAR CATEGORIA MISSINGS</h1>"
      ]
    },
    {
      "cell_type": "code",
      "metadata": {
        "ExecuteTime": {
          "end_time": "2020-11-20T01:21:59.512004Z",
          "start_time": "2020-11-20T01:21:59.500622Z"
        },
        "id": "ThPQ_gIHquGd"
      },
      "source": [
        "df[\"v_embarked\"]=df[\"v_embarked\"].fillna(\"Missings\")"
      ],
      "execution_count": 38,
      "outputs": []
    },
    {
      "cell_type": "markdown",
      "metadata": {
        "id": "Dhw94EsJquGe"
      },
      "source": [
        "<h1 style=\"color:orange\">TRAIN Y TEST</h1>"
      ]
    },
    {
      "cell_type": "code",
      "metadata": {
        "ExecuteTime": {
          "end_time": "2020-11-20T01:22:01.591709Z",
          "start_time": "2020-11-20T01:22:01.584356Z"
        },
        "id": "72Hrb9hhquGe"
      },
      "source": [
        "from sklearn.model_selection import train_test_split"
      ],
      "execution_count": 39,
      "outputs": []
    },
    {
      "cell_type": "code",
      "metadata": {
        "ExecuteTime": {
          "end_time": "2020-11-20T01:22:02.036461Z",
          "start_time": "2020-11-20T01:22:02.018230Z"
        },
        "id": "opAHRn2hquGe",
        "colab": {
          "base_uri": "https://localhost:8080/"
        },
        "outputId": "0caf8838-496c-4931-ca62-4555cb035fb0"
      },
      "source": [
        "df.filter(like=\"v_\").columns"
      ],
      "execution_count": 40,
      "outputs": [
        {
          "output_type": "execute_result",
          "data": {
            "text/plain": [
              "Index(['v_pclass', 'v_sex', 'v_parch', 'v_embarked', 'v_age', 'v_fare'], dtype='object')"
            ]
          },
          "metadata": {
            "tags": []
          },
          "execution_count": 40
        }
      ]
    },
    {
      "cell_type": "code",
      "metadata": {
        "colab": {
          "base_uri": "https://localhost:8080/"
        },
        "id": "R9ZmizgMS-zq",
        "outputId": "67a90df2-83a4-4f7b-9ac4-a7e014567bad"
      },
      "source": [
        "df.columns"
      ],
      "execution_count": 43,
      "outputs": [
        {
          "output_type": "execute_result",
          "data": {
            "text/plain": [
              "Index(['v_pclass', 'tgt_survived', 't_name', 'v_sex', 'c_age', 'sibsp',\n",
              "       'v_parch', 't_ticket', 'c_fare', 'v_embarked', 'v_age', 'v_fare'],\n",
              "      dtype='object')"
            ]
          },
          "metadata": {
            "tags": []
          },
          "execution_count": 43
        }
      ]
    },
    {
      "cell_type": "code",
      "metadata": {
        "ExecuteTime": {
          "end_time": "2020-11-20T01:22:02.482725Z",
          "start_time": "2020-11-20T01:22:02.465103Z"
        },
        "id": "dHUiV7waquGf"
      },
      "source": [
        "X=df[['v_pclass', 'v_sex',  'v_parch', 'v_embarked', 'v_age',\n",
        "       'v_fare',\"tgt_survived\"]]"
      ],
      "execution_count": 44,
      "outputs": []
    },
    {
      "cell_type": "code",
      "metadata": {
        "ExecuteTime": {
          "end_time": "2020-11-20T01:22:15.614777Z",
          "start_time": "2020-11-20T01:22:15.575197Z"
        },
        "id": "ViyLvr4xquGf"
      },
      "source": [
        "X_train,X_test=train_test_split(X,random_state=0)"
      ],
      "execution_count": 45,
      "outputs": []
    },
    {
      "cell_type": "markdown",
      "metadata": {
        "id": "RnQ_2A-nquGf"
      },
      "source": [
        "<h1 style=\"color:orange\">WOE</h1>"
      ]
    },
    {
      "cell_type": "code",
      "metadata": {
        "ExecuteTime": {
          "end_time": "2020-11-20T01:24:25.148232Z",
          "start_time": "2020-11-20T01:24:25.129006Z"
        },
        "id": "73KVIXgOquGf",
        "colab": {
          "base_uri": "https://localhost:8080/"
        },
        "outputId": "e1aa2aca-b938-47dd-afce-daf46b0129d6"
      },
      "source": [
        "X_test[\"v_sex\"].value_counts()"
      ],
      "execution_count": 47,
      "outputs": [
        {
          "output_type": "execute_result",
          "data": {
            "text/plain": [
              "male      217\n",
              "female    111\n",
              "Name: v_sex, dtype: int64"
            ]
          },
          "metadata": {
            "tags": []
          },
          "execution_count": 47
        }
      ]
    },
    {
      "cell_type": "code",
      "metadata": {
        "ExecuteTime": {
          "end_time": "2020-11-20T01:24:29.088301Z",
          "start_time": "2020-11-20T01:24:29.070999Z"
        },
        "id": "-Xy2B7sDquGg",
        "colab": {
          "base_uri": "https://localhost:8080/"
        },
        "outputId": "4f7411d2-eedc-4495-f0c0-6545ef790d35"
      },
      "source": [
        "X_train[\"v_sex\"].value_counts()"
      ],
      "execution_count": 48,
      "outputs": [
        {
          "output_type": "execute_result",
          "data": {
            "text/plain": [
              "male      626\n",
              "female    355\n",
              "Name: v_sex, dtype: int64"
            ]
          },
          "metadata": {
            "tags": []
          },
          "execution_count": 48
        }
      ]
    },
    {
      "cell_type": "code",
      "metadata": {
        "ExecuteTime": {
          "end_time": "2020-11-20T01:24:09.325146Z",
          "start_time": "2020-11-20T01:24:09.301266Z"
        },
        "id": "Xi1Tblg6quGg",
        "colab": {
          "base_uri": "https://localhost:8080/"
        },
        "outputId": "61708686-41d2-4d16-8db3-c924f0d84db6"
      },
      "source": [
        "df[\"v_fare\"].value_counts()"
      ],
      "execution_count": 49,
      "outputs": [
        {
          "output_type": "execute_result",
          "data": {
            "text/plain": [
              "(-0.512, 170.776]     1270\n",
              "(170.776, 341.553]      34\n",
              "(341.553, 512.329]       4\n",
              "nan                      1\n",
              "Name: v_fare, dtype: int64"
            ]
          },
          "metadata": {
            "tags": []
          },
          "execution_count": 49
        }
      ]
    },
    {
      "cell_type": "markdown",
      "metadata": {
        "id": "ZRGlwwzYquGh"
      },
      "source": [
        "## WOE"
      ]
    },
    {
      "cell_type": "markdown",
      "metadata": {
        "id": "Ji_7oyIDquGh"
      },
      "source": [
        "<h1 style=\"color:orange\">Calcule el número de eventos y no eventos en cada grupo (bin)</h1>"
      ]
    },
    {
      "cell_type": "markdown",
      "metadata": {
        "id": "bfNVq3KQquGh"
      },
      "source": [
        "### SEX"
      ]
    },
    {
      "cell_type": "code",
      "metadata": {
        "ExecuteTime": {
          "end_time": "2020-11-20T01:25:21.779087Z",
          "start_time": "2020-11-20T01:25:21.750578Z"
        },
        "id": "TXYHhxzjquGi",
        "colab": {
          "base_uri": "https://localhost:8080/"
        },
        "outputId": "c6bf1d87-c998-4182-bcb9-02aa4eddc372"
      },
      "source": [
        "X_train[X_train[\"v_sex\"]==\"male\"][\"tgt_survived\"].value_counts()"
      ],
      "execution_count": 51,
      "outputs": [
        {
          "output_type": "execute_result",
          "data": {
            "text/plain": [
              "0    506\n",
              "1    120\n",
              "Name: tgt_survived, dtype: int64"
            ]
          },
          "metadata": {
            "tags": []
          },
          "execution_count": 51
        }
      ]
    },
    {
      "cell_type": "code",
      "metadata": {
        "ExecuteTime": {
          "end_time": "2020-11-20T01:27:33.008356Z",
          "start_time": "2020-11-20T01:27:32.972415Z"
        },
        "id": "gS9VPaXwquGi"
      },
      "source": [
        "aux=X_train[[\"v_sex\",\"tgt_survived\"]].groupby(\"v_sex\").agg([\"count\",\"sum\"])"
      ],
      "execution_count": 52,
      "outputs": []
    },
    {
      "cell_type": "code",
      "metadata": {
        "ExecuteTime": {
          "end_time": "2020-11-20T01:27:34.843666Z",
          "start_time": "2020-11-20T01:27:34.805698Z"
        },
        "id": "ZbLjAzh5quGi",
        "colab": {
          "base_uri": "https://localhost:8080/",
          "height": 162
        },
        "outputId": "e7838fe6-6ac3-453d-b3d8-595a687036f7"
      },
      "source": [
        "aux"
      ],
      "execution_count": 53,
      "outputs": [
        {
          "output_type": "execute_result",
          "data": {
            "text/html": [
              "<div>\n",
              "<style scoped>\n",
              "    .dataframe tbody tr th:only-of-type {\n",
              "        vertical-align: middle;\n",
              "    }\n",
              "\n",
              "    .dataframe tbody tr th {\n",
              "        vertical-align: top;\n",
              "    }\n",
              "\n",
              "    .dataframe thead tr th {\n",
              "        text-align: left;\n",
              "    }\n",
              "\n",
              "    .dataframe thead tr:last-of-type th {\n",
              "        text-align: right;\n",
              "    }\n",
              "</style>\n",
              "<table border=\"1\" class=\"dataframe\">\n",
              "  <thead>\n",
              "    <tr>\n",
              "      <th></th>\n",
              "      <th colspan=\"2\" halign=\"left\">tgt_survived</th>\n",
              "    </tr>\n",
              "    <tr>\n",
              "      <th></th>\n",
              "      <th>count</th>\n",
              "      <th>sum</th>\n",
              "    </tr>\n",
              "    <tr>\n",
              "      <th>v_sex</th>\n",
              "      <th></th>\n",
              "      <th></th>\n",
              "    </tr>\n",
              "  </thead>\n",
              "  <tbody>\n",
              "    <tr>\n",
              "      <th>female</th>\n",
              "      <td>355</td>\n",
              "      <td>260</td>\n",
              "    </tr>\n",
              "    <tr>\n",
              "      <th>male</th>\n",
              "      <td>626</td>\n",
              "      <td>120</td>\n",
              "    </tr>\n",
              "  </tbody>\n",
              "</table>\n",
              "</div>"
            ],
            "text/plain": [
              "       tgt_survived     \n",
              "              count  sum\n",
              "v_sex                   \n",
              "female          355  260\n",
              "male            626  120"
            ]
          },
          "metadata": {
            "tags": []
          },
          "execution_count": 53
        }
      ]
    },
    {
      "cell_type": "code",
      "metadata": {
        "ExecuteTime": {
          "end_time": "2020-11-20T01:29:10.268910Z",
          "start_time": "2020-11-20T01:29:10.245095Z"
        },
        "id": "6NKNUZkNquGj"
      },
      "source": [
        "aux[\"no_evento\"]=aux[\"tgt_survived\",\"count\"]-aux[\"tgt_survived\",\"sum\"]\n",
        "aux[\"evento\"]=aux[\"tgt_survived\",\"sum\"]"
      ],
      "execution_count": 55,
      "outputs": []
    },
    {
      "cell_type": "code",
      "metadata": {
        "ExecuteTime": {
          "end_time": "2020-11-20T01:29:12.171933Z",
          "start_time": "2020-11-20T01:29:12.135436Z"
        },
        "id": "UZ1cNJRNquGj",
        "colab": {
          "base_uri": "https://localhost:8080/",
          "height": 162
        },
        "outputId": "c3f9dba4-d60a-4db2-ffa7-ba8b98211c6f"
      },
      "source": [
        "aux"
      ],
      "execution_count": 56,
      "outputs": [
        {
          "output_type": "execute_result",
          "data": {
            "text/html": [
              "<div>\n",
              "<style scoped>\n",
              "    .dataframe tbody tr th:only-of-type {\n",
              "        vertical-align: middle;\n",
              "    }\n",
              "\n",
              "    .dataframe tbody tr th {\n",
              "        vertical-align: top;\n",
              "    }\n",
              "\n",
              "    .dataframe thead tr th {\n",
              "        text-align: left;\n",
              "    }\n",
              "\n",
              "    .dataframe thead tr:last-of-type th {\n",
              "        text-align: right;\n",
              "    }\n",
              "</style>\n",
              "<table border=\"1\" class=\"dataframe\">\n",
              "  <thead>\n",
              "    <tr>\n",
              "      <th></th>\n",
              "      <th colspan=\"2\" halign=\"left\">tgt_survived</th>\n",
              "      <th>no_evento</th>\n",
              "      <th>evento</th>\n",
              "    </tr>\n",
              "    <tr>\n",
              "      <th></th>\n",
              "      <th>count</th>\n",
              "      <th>sum</th>\n",
              "      <th></th>\n",
              "      <th></th>\n",
              "    </tr>\n",
              "    <tr>\n",
              "      <th>v_sex</th>\n",
              "      <th></th>\n",
              "      <th></th>\n",
              "      <th></th>\n",
              "      <th></th>\n",
              "    </tr>\n",
              "  </thead>\n",
              "  <tbody>\n",
              "    <tr>\n",
              "      <th>female</th>\n",
              "      <td>355</td>\n",
              "      <td>260</td>\n",
              "      <td>95</td>\n",
              "      <td>260</td>\n",
              "    </tr>\n",
              "    <tr>\n",
              "      <th>male</th>\n",
              "      <td>626</td>\n",
              "      <td>120</td>\n",
              "      <td>506</td>\n",
              "      <td>120</td>\n",
              "    </tr>\n",
              "  </tbody>\n",
              "</table>\n",
              "</div>"
            ],
            "text/plain": [
              "       tgt_survived      no_evento evento\n",
              "              count  sum                 \n",
              "v_sex                                    \n",
              "female          355  260        95    260\n",
              "male            626  120       506    120"
            ]
          },
          "metadata": {
            "tags": []
          },
          "execution_count": 56
        }
      ]
    },
    {
      "cell_type": "code",
      "metadata": {
        "ExecuteTime": {
          "end_time": "2020-11-20T01:30:19.667186Z",
          "start_time": "2020-11-20T01:30:19.617212Z"
        },
        "id": "t7KU-LCtquGj"
      },
      "source": [
        "aux[\"evento%\"]=aux[\"evento\"]/aux[\"evento\"].sum()\n",
        "aux[\"no_evento%\"]=aux[\"no_evento\"]/aux[\"no_evento\"].sum()"
      ],
      "execution_count": 57,
      "outputs": []
    },
    {
      "cell_type": "code",
      "metadata": {
        "ExecuteTime": {
          "end_time": "2020-11-20T01:30:20.660175Z",
          "start_time": "2020-11-20T01:30:20.620203Z"
        },
        "id": "e9_gY7_mquGk",
        "colab": {
          "base_uri": "https://localhost:8080/",
          "height": 162
        },
        "outputId": "a2fddac5-7480-46d9-a674-13da0ee1ec7f"
      },
      "source": [
        "aux"
      ],
      "execution_count": 58,
      "outputs": [
        {
          "output_type": "execute_result",
          "data": {
            "text/html": [
              "<div>\n",
              "<style scoped>\n",
              "    .dataframe tbody tr th:only-of-type {\n",
              "        vertical-align: middle;\n",
              "    }\n",
              "\n",
              "    .dataframe tbody tr th {\n",
              "        vertical-align: top;\n",
              "    }\n",
              "\n",
              "    .dataframe thead tr th {\n",
              "        text-align: left;\n",
              "    }\n",
              "\n",
              "    .dataframe thead tr:last-of-type th {\n",
              "        text-align: right;\n",
              "    }\n",
              "</style>\n",
              "<table border=\"1\" class=\"dataframe\">\n",
              "  <thead>\n",
              "    <tr>\n",
              "      <th></th>\n",
              "      <th colspan=\"2\" halign=\"left\">tgt_survived</th>\n",
              "      <th>no_evento</th>\n",
              "      <th>evento</th>\n",
              "      <th>evento%</th>\n",
              "      <th>no_evento%</th>\n",
              "    </tr>\n",
              "    <tr>\n",
              "      <th></th>\n",
              "      <th>count</th>\n",
              "      <th>sum</th>\n",
              "      <th></th>\n",
              "      <th></th>\n",
              "      <th></th>\n",
              "      <th></th>\n",
              "    </tr>\n",
              "    <tr>\n",
              "      <th>v_sex</th>\n",
              "      <th></th>\n",
              "      <th></th>\n",
              "      <th></th>\n",
              "      <th></th>\n",
              "      <th></th>\n",
              "      <th></th>\n",
              "    </tr>\n",
              "  </thead>\n",
              "  <tbody>\n",
              "    <tr>\n",
              "      <th>female</th>\n",
              "      <td>355</td>\n",
              "      <td>260</td>\n",
              "      <td>95</td>\n",
              "      <td>260</td>\n",
              "      <td>0.684211</td>\n",
              "      <td>0.15807</td>\n",
              "    </tr>\n",
              "    <tr>\n",
              "      <th>male</th>\n",
              "      <td>626</td>\n",
              "      <td>120</td>\n",
              "      <td>506</td>\n",
              "      <td>120</td>\n",
              "      <td>0.315789</td>\n",
              "      <td>0.84193</td>\n",
              "    </tr>\n",
              "  </tbody>\n",
              "</table>\n",
              "</div>"
            ],
            "text/plain": [
              "       tgt_survived      no_evento evento   evento% no_evento%\n",
              "              count  sum                                      \n",
              "v_sex                                                         \n",
              "female          355  260        95    260  0.684211    0.15807\n",
              "male            626  120       506    120  0.315789    0.84193"
            ]
          },
          "metadata": {
            "tags": []
          },
          "execution_count": 58
        }
      ]
    },
    {
      "cell_type": "code",
      "metadata": {
        "ExecuteTime": {
          "end_time": "2020-11-20T01:33:41.794999Z",
          "start_time": "2020-11-20T01:33:41.765368Z"
        },
        "id": "O5f3rWNbquGk"
      },
      "source": [
        "aux[\"WOE\"]=np.log(aux[\"evento%\"]/aux[\"no_evento%\"])"
      ],
      "execution_count": 59,
      "outputs": []
    },
    {
      "cell_type": "code",
      "metadata": {
        "ExecuteTime": {
          "end_time": "2020-11-20T01:33:42.319798Z",
          "start_time": "2020-11-20T01:33:42.269114Z"
        },
        "id": "vYWOg1ogquGk",
        "colab": {
          "base_uri": "https://localhost:8080/",
          "height": 162
        },
        "outputId": "41ebc591-840b-4408-9969-6779174904ac"
      },
      "source": [
        "aux"
      ],
      "execution_count": 60,
      "outputs": [
        {
          "output_type": "execute_result",
          "data": {
            "text/html": [
              "<div>\n",
              "<style scoped>\n",
              "    .dataframe tbody tr th:only-of-type {\n",
              "        vertical-align: middle;\n",
              "    }\n",
              "\n",
              "    .dataframe tbody tr th {\n",
              "        vertical-align: top;\n",
              "    }\n",
              "\n",
              "    .dataframe thead tr th {\n",
              "        text-align: left;\n",
              "    }\n",
              "\n",
              "    .dataframe thead tr:last-of-type th {\n",
              "        text-align: right;\n",
              "    }\n",
              "</style>\n",
              "<table border=\"1\" class=\"dataframe\">\n",
              "  <thead>\n",
              "    <tr>\n",
              "      <th></th>\n",
              "      <th colspan=\"2\" halign=\"left\">tgt_survived</th>\n",
              "      <th>no_evento</th>\n",
              "      <th>evento</th>\n",
              "      <th>evento%</th>\n",
              "      <th>no_evento%</th>\n",
              "      <th>WOE</th>\n",
              "    </tr>\n",
              "    <tr>\n",
              "      <th></th>\n",
              "      <th>count</th>\n",
              "      <th>sum</th>\n",
              "      <th></th>\n",
              "      <th></th>\n",
              "      <th></th>\n",
              "      <th></th>\n",
              "      <th></th>\n",
              "    </tr>\n",
              "    <tr>\n",
              "      <th>v_sex</th>\n",
              "      <th></th>\n",
              "      <th></th>\n",
              "      <th></th>\n",
              "      <th></th>\n",
              "      <th></th>\n",
              "      <th></th>\n",
              "      <th></th>\n",
              "    </tr>\n",
              "  </thead>\n",
              "  <tbody>\n",
              "    <tr>\n",
              "      <th>female</th>\n",
              "      <td>355</td>\n",
              "      <td>260</td>\n",
              "      <td>95</td>\n",
              "      <td>260</td>\n",
              "      <td>0.684211</td>\n",
              "      <td>0.15807</td>\n",
              "      <td>1.465228</td>\n",
              "    </tr>\n",
              "    <tr>\n",
              "      <th>male</th>\n",
              "      <td>626</td>\n",
              "      <td>120</td>\n",
              "      <td>506</td>\n",
              "      <td>120</td>\n",
              "      <td>0.315789</td>\n",
              "      <td>0.84193</td>\n",
              "      <td>-0.980621</td>\n",
              "    </tr>\n",
              "  </tbody>\n",
              "</table>\n",
              "</div>"
            ],
            "text/plain": [
              "       tgt_survived      no_evento evento   evento% no_evento%       WOE\n",
              "              count  sum                                                \n",
              "v_sex                                                                   \n",
              "female          355  260        95    260  0.684211    0.15807  1.465228\n",
              "male            626  120       506    120  0.315789    0.84193 -0.980621"
            ]
          },
          "metadata": {
            "tags": []
          },
          "execution_count": 60
        }
      ]
    },
    {
      "cell_type": "code",
      "metadata": {
        "ExecuteTime": {
          "end_time": "2020-11-20T01:39:48.225195Z",
          "start_time": "2020-11-20T01:39:48.189395Z"
        },
        "id": "2rMfBd7ZquGl"
      },
      "source": [
        "aux[\"IV\"]=(aux[\"evento%\"]-aux[\"no_evento%\"])*aux[\"WOE\"]"
      ],
      "execution_count": 61,
      "outputs": []
    },
    {
      "cell_type": "code",
      "metadata": {
        "ExecuteTime": {
          "end_time": "2020-11-20T01:39:48.949004Z",
          "start_time": "2020-11-20T01:39:48.928609Z"
        },
        "id": "gxyDKVLWquGl",
        "colab": {
          "base_uri": "https://localhost:8080/"
        },
        "outputId": "3c73cf7f-3ea2-4f42-f65d-9807a0301fa2"
      },
      "source": [
        "aux[\"IV\"].sum()"
      ],
      "execution_count": 62,
      "outputs": [
        {
          "output_type": "execute_result",
          "data": {
            "text/plain": [
              "1.2868609153909978"
            ]
          },
          "metadata": {
            "tags": []
          },
          "execution_count": 62
        }
      ]
    },
    {
      "cell_type": "code",
      "metadata": {
        "ExecuteTime": {
          "end_time": "2020-11-20T01:42:06.360307Z",
          "start_time": "2020-11-20T01:42:06.328682Z"
        },
        "id": "xoGdCZDMquGl"
      },
      "source": [
        "aux=aux[[\"WOE\"]].reset_index().rename(columns={\"WOE\":\"W_v_sex\"})"
      ],
      "execution_count": 63,
      "outputs": []
    },
    {
      "cell_type": "code",
      "metadata": {
        "ExecuteTime": {
          "end_time": "2020-11-20T01:42:08.731566Z",
          "start_time": "2020-11-20T01:42:08.696938Z"
        },
        "id": "WxNjBx65quGl",
        "colab": {
          "base_uri": "https://localhost:8080/",
          "height": 118
        },
        "outputId": "40a82747-46b6-49a6-e9b4-775238ac3632"
      },
      "source": [
        "aux"
      ],
      "execution_count": 64,
      "outputs": [
        {
          "output_type": "execute_result",
          "data": {
            "text/html": [
              "<div>\n",
              "<style scoped>\n",
              "    .dataframe tbody tr th:only-of-type {\n",
              "        vertical-align: middle;\n",
              "    }\n",
              "\n",
              "    .dataframe tbody tr th {\n",
              "        vertical-align: top;\n",
              "    }\n",
              "\n",
              "    .dataframe thead tr th {\n",
              "        text-align: left;\n",
              "    }\n",
              "</style>\n",
              "<table border=\"1\" class=\"dataframe\">\n",
              "  <thead>\n",
              "    <tr>\n",
              "      <th></th>\n",
              "      <th>v_sex</th>\n",
              "      <th>W_v_sex</th>\n",
              "    </tr>\n",
              "    <tr>\n",
              "      <th></th>\n",
              "      <th></th>\n",
              "      <th></th>\n",
              "    </tr>\n",
              "  </thead>\n",
              "  <tbody>\n",
              "    <tr>\n",
              "      <th>0</th>\n",
              "      <td>female</td>\n",
              "      <td>1.465228</td>\n",
              "    </tr>\n",
              "    <tr>\n",
              "      <th>1</th>\n",
              "      <td>male</td>\n",
              "      <td>-0.980621</td>\n",
              "    </tr>\n",
              "  </tbody>\n",
              "</table>\n",
              "</div>"
            ],
            "text/plain": [
              "    v_sex   W_v_sex\n",
              "                   \n",
              "0  female  1.465228\n",
              "1    male -0.980621"
            ]
          },
          "metadata": {
            "tags": []
          },
          "execution_count": 64
        }
      ]
    },
    {
      "cell_type": "code",
      "metadata": {
        "ExecuteTime": {
          "end_time": "2020-11-20T01:46:37.921354Z",
          "start_time": "2020-11-20T01:46:37.741300Z"
        },
        "id": "J6VjH85iquGm",
        "colab": {
          "base_uri": "https://localhost:8080/"
        },
        "outputId": "5a04f1b6-4631-4ba2-fa9e-bfbf775af1ea"
      },
      "source": [
        "X_train=X_train.merge(aux,on=\"v_sex\",how=\"left\")"
      ],
      "execution_count": 65,
      "outputs": [
        {
          "output_type": "stream",
          "text": [
            "/usr/local/lib/python3.6/dist-packages/pandas/core/reshape/merge.py:643: UserWarning: merging between different levels can give an unintended result (1 levels on the left,2 on the right)\n",
            "  warnings.warn(msg, UserWarning)\n",
            "/usr/local/lib/python3.6/dist-packages/pandas/core/generic.py:3889: PerformanceWarning: dropping on a non-lexsorted multi-index without a level parameter may impact performance.\n",
            "  obj = obj._drop_axis(labels, axis, level=level, errors=errors)\n"
          ],
          "name": "stderr"
        }
      ]
    },
    {
      "cell_type": "code",
      "metadata": {
        "ExecuteTime": {
          "end_time": "2020-11-20T01:54:08.297757Z",
          "start_time": "2020-11-20T01:54:08.259489Z"
        },
        "id": "fZLLmFjFquGm",
        "colab": {
          "base_uri": "https://localhost:8080/"
        },
        "outputId": "6f2a9307-d8ec-46c1-cee2-fbabe9dd8caf"
      },
      "source": [
        "X_test=X_test.merge(aux,on=\"v_sex\",how=\"left\")"
      ],
      "execution_count": 67,
      "outputs": [
        {
          "output_type": "stream",
          "text": [
            "/usr/local/lib/python3.6/dist-packages/pandas/core/reshape/merge.py:643: UserWarning: merging between different levels can give an unintended result (1 levels on the left,2 on the right)\n",
            "  warnings.warn(msg, UserWarning)\n",
            "/usr/local/lib/python3.6/dist-packages/pandas/core/generic.py:3889: PerformanceWarning: dropping on a non-lexsorted multi-index without a level parameter may impact performance.\n",
            "  obj = obj._drop_axis(labels, axis, level=level, errors=errors)\n"
          ],
          "name": "stderr"
        }
      ]
    },
    {
      "cell_type": "code",
      "metadata": {
        "ExecuteTime": {
          "end_time": "2020-11-20T01:55:28.476354Z",
          "start_time": "2020-11-20T01:55:28.400677Z"
        },
        "id": "mbPtDrPUquGm",
        "colab": {
          "base_uri": "https://localhost:8080/",
          "height": 391
        },
        "outputId": "dcbfef77-d26e-4357-a090-2286e4f0d913"
      },
      "source": [
        "X_test"
      ],
      "execution_count": 68,
      "outputs": [
        {
          "output_type": "execute_result",
          "data": {
            "text/html": [
              "<div>\n",
              "<style scoped>\n",
              "    .dataframe tbody tr th:only-of-type {\n",
              "        vertical-align: middle;\n",
              "    }\n",
              "\n",
              "    .dataframe tbody tr th {\n",
              "        vertical-align: top;\n",
              "    }\n",
              "\n",
              "    .dataframe thead th {\n",
              "        text-align: right;\n",
              "    }\n",
              "</style>\n",
              "<table border=\"1\" class=\"dataframe\">\n",
              "  <thead>\n",
              "    <tr style=\"text-align: right;\">\n",
              "      <th></th>\n",
              "      <th>v_pclass</th>\n",
              "      <th>v_sex</th>\n",
              "      <th>v_parch</th>\n",
              "      <th>v_embarked</th>\n",
              "      <th>v_age</th>\n",
              "      <th>v_fare</th>\n",
              "      <th>tgt_survived</th>\n",
              "      <th>(W_v_sex, )</th>\n",
              "    </tr>\n",
              "  </thead>\n",
              "  <tbody>\n",
              "    <tr>\n",
              "      <th>0</th>\n",
              "      <td>3</td>\n",
              "      <td>male</td>\n",
              "      <td>0</td>\n",
              "      <td>S</td>\n",
              "      <td>(26.778, 53.389]</td>\n",
              "      <td>(-0.512, 170.776]</td>\n",
              "      <td>0</td>\n",
              "      <td>-0.980621</td>\n",
              "    </tr>\n",
              "    <tr>\n",
              "      <th>1</th>\n",
              "      <td>2</td>\n",
              "      <td>female</td>\n",
              "      <td>1</td>\n",
              "      <td>S</td>\n",
              "      <td>(0.0869, 26.778]</td>\n",
              "      <td>(-0.512, 170.776]</td>\n",
              "      <td>1</td>\n",
              "      <td>1.465228</td>\n",
              "    </tr>\n",
              "    <tr>\n",
              "      <th>2</th>\n",
              "      <td>2</td>\n",
              "      <td>male</td>\n",
              "      <td>0</td>\n",
              "      <td>S</td>\n",
              "      <td>(26.778, 53.389]</td>\n",
              "      <td>(-0.512, 170.776]</td>\n",
              "      <td>0</td>\n",
              "      <td>-0.980621</td>\n",
              "    </tr>\n",
              "    <tr>\n",
              "      <th>3</th>\n",
              "      <td>3</td>\n",
              "      <td>male</td>\n",
              "      <td>0</td>\n",
              "      <td>S</td>\n",
              "      <td>Missings</td>\n",
              "      <td>(-0.512, 170.776]</td>\n",
              "      <td>0</td>\n",
              "      <td>-0.980621</td>\n",
              "    </tr>\n",
              "    <tr>\n",
              "      <th>4</th>\n",
              "      <td>2</td>\n",
              "      <td>male</td>\n",
              "      <td>0</td>\n",
              "      <td>S</td>\n",
              "      <td>(0.0869, 26.778]</td>\n",
              "      <td>(-0.512, 170.776]</td>\n",
              "      <td>0</td>\n",
              "      <td>-0.980621</td>\n",
              "    </tr>\n",
              "    <tr>\n",
              "      <th>...</th>\n",
              "      <td>...</td>\n",
              "      <td>...</td>\n",
              "      <td>...</td>\n",
              "      <td>...</td>\n",
              "      <td>...</td>\n",
              "      <td>...</td>\n",
              "      <td>...</td>\n",
              "      <td>...</td>\n",
              "    </tr>\n",
              "    <tr>\n",
              "      <th>323</th>\n",
              "      <td>2</td>\n",
              "      <td>male</td>\n",
              "      <td>0</td>\n",
              "      <td>S</td>\n",
              "      <td>(0.0869, 26.778]</td>\n",
              "      <td>(-0.512, 170.776]</td>\n",
              "      <td>0</td>\n",
              "      <td>-0.980621</td>\n",
              "    </tr>\n",
              "    <tr>\n",
              "      <th>324</th>\n",
              "      <td>2</td>\n",
              "      <td>female</td>\n",
              "      <td>1</td>\n",
              "      <td>C</td>\n",
              "      <td>(0.0869, 26.778]</td>\n",
              "      <td>(-0.512, 170.776]</td>\n",
              "      <td>1</td>\n",
              "      <td>1.465228</td>\n",
              "    </tr>\n",
              "    <tr>\n",
              "      <th>325</th>\n",
              "      <td>3</td>\n",
              "      <td>male</td>\n",
              "      <td>0</td>\n",
              "      <td>S</td>\n",
              "      <td>(0.0869, 26.778]</td>\n",
              "      <td>(-0.512, 170.776]</td>\n",
              "      <td>0</td>\n",
              "      <td>-0.980621</td>\n",
              "    </tr>\n",
              "    <tr>\n",
              "      <th>326</th>\n",
              "      <td>3</td>\n",
              "      <td>female</td>\n",
              "      <td>5</td>\n",
              "      <td>S</td>\n",
              "      <td>(26.778, 53.389]</td>\n",
              "      <td>(-0.512, 170.776]</td>\n",
              "      <td>1</td>\n",
              "      <td>1.465228</td>\n",
              "    </tr>\n",
              "    <tr>\n",
              "      <th>327</th>\n",
              "      <td>3</td>\n",
              "      <td>male</td>\n",
              "      <td>0</td>\n",
              "      <td>S</td>\n",
              "      <td>(0.0869, 26.778]</td>\n",
              "      <td>(-0.512, 170.776]</td>\n",
              "      <td>0</td>\n",
              "      <td>-0.980621</td>\n",
              "    </tr>\n",
              "  </tbody>\n",
              "</table>\n",
              "<p>328 rows × 8 columns</p>\n",
              "</div>"
            ],
            "text/plain": [
              "     v_pclass   v_sex  v_parch  ...             v_fare tgt_survived (W_v_sex, )\n",
              "0           3    male        0  ...  (-0.512, 170.776]            0   -0.980621\n",
              "1           2  female        1  ...  (-0.512, 170.776]            1    1.465228\n",
              "2           2    male        0  ...  (-0.512, 170.776]            0   -0.980621\n",
              "3           3    male        0  ...  (-0.512, 170.776]            0   -0.980621\n",
              "4           2    male        0  ...  (-0.512, 170.776]            0   -0.980621\n",
              "..        ...     ...      ...  ...                ...          ...         ...\n",
              "323         2    male        0  ...  (-0.512, 170.776]            0   -0.980621\n",
              "324         2  female        1  ...  (-0.512, 170.776]            1    1.465228\n",
              "325         3    male        0  ...  (-0.512, 170.776]            0   -0.980621\n",
              "326         3  female        5  ...  (-0.512, 170.776]            1    1.465228\n",
              "327         3    male        0  ...  (-0.512, 170.776]            0   -0.980621\n",
              "\n",
              "[328 rows x 8 columns]"
            ]
          },
          "metadata": {
            "tags": []
          },
          "execution_count": 68
        }
      ]
    },
    {
      "cell_type": "markdown",
      "metadata": {
        "id": "k5C_seZaquGn"
      },
      "source": [
        "### AGE"
      ]
    },
    {
      "cell_type": "code",
      "metadata": {
        "ExecuteTime": {
          "end_time": "2020-11-20T02:01:04.465084Z",
          "start_time": "2020-11-20T02:01:04.187898Z"
        },
        "id": "eEhTvyMBquGn",
        "colab": {
          "base_uri": "https://localhost:8080/",
          "height": 391
        },
        "outputId": "cb19c4a9-f393-4799-936e-02e748535832"
      },
      "source": [
        "aux = X_train[[\"v_age\", \"tgt_survived\"]].groupby(\"v_age\").agg([\"count\", \"sum\"])\n",
        "\n",
        "\n",
        "aux[\"evento\"] = aux[\"tgt_survived\", \"sum\"]\n",
        "\n",
        "aux\n",
        "\n",
        "aux[\"no_evento\"] = aux[\"tgt_survived\", \"count\"] - aux[\"tgt_survived\", \"sum\"]\n",
        "\n",
        "aux[\"evento\"].sum()\n",
        "\n",
        "aux[\"%evento\"] = aux[\"evento\"] / aux[\"evento\"].sum()\n",
        "\n",
        "aux[\"%no_evento\"] = aux[\"no_evento\"] / aux[\"no_evento\"].sum()\n",
        "\n",
        "aux[\"WOE\"] = np.log(aux[\"%evento\"]/aux[\"%no_evento\"])\n",
        "\n",
        "\n",
        "\n",
        "\n",
        "aux[\"IV\"] = (aux[\"%evento\"]-aux[\"%no_evento\"])*aux[\"WOE\"]\n",
        "\n",
        "aux[\"IV\"].sum()\n",
        "\n",
        "aux=aux[[\"WOE\"]].reset_index().rename(columns={\"WOE\": f\"W_v_age\"})\n",
        "\n",
        "aux.columns=[\"v_age\",\"W_v_age\"]\n",
        "\n",
        "X_train=X_train.merge(aux, on=\"v_age\", how=\"left\")\n",
        "X_test=X_test.merge(aux, on=\"v_age\", how=\"left\")\n",
        "\n",
        "X_train"
      ],
      "execution_count": 70,
      "outputs": [
        {
          "output_type": "execute_result",
          "data": {
            "text/html": [
              "<div>\n",
              "<style scoped>\n",
              "    .dataframe tbody tr th:only-of-type {\n",
              "        vertical-align: middle;\n",
              "    }\n",
              "\n",
              "    .dataframe tbody tr th {\n",
              "        vertical-align: top;\n",
              "    }\n",
              "\n",
              "    .dataframe thead th {\n",
              "        text-align: right;\n",
              "    }\n",
              "</style>\n",
              "<table border=\"1\" class=\"dataframe\">\n",
              "  <thead>\n",
              "    <tr style=\"text-align: right;\">\n",
              "      <th></th>\n",
              "      <th>v_pclass</th>\n",
              "      <th>v_sex</th>\n",
              "      <th>v_parch</th>\n",
              "      <th>v_embarked</th>\n",
              "      <th>v_age</th>\n",
              "      <th>v_fare</th>\n",
              "      <th>tgt_survived</th>\n",
              "      <th>(W_v_sex, )</th>\n",
              "      <th>W_v_age</th>\n",
              "    </tr>\n",
              "  </thead>\n",
              "  <tbody>\n",
              "    <tr>\n",
              "      <th>0</th>\n",
              "      <td>3</td>\n",
              "      <td>male</td>\n",
              "      <td>2</td>\n",
              "      <td>S</td>\n",
              "      <td>(0.0869, 26.778]</td>\n",
              "      <td>(-0.512, 170.776]</td>\n",
              "      <td>0</td>\n",
              "      <td>-0.980621</td>\n",
              "      <td>0.103148</td>\n",
              "    </tr>\n",
              "    <tr>\n",
              "      <th>1</th>\n",
              "      <td>2</td>\n",
              "      <td>male</td>\n",
              "      <td>0</td>\n",
              "      <td>S</td>\n",
              "      <td>(0.0869, 26.778]</td>\n",
              "      <td>(-0.512, 170.776]</td>\n",
              "      <td>0</td>\n",
              "      <td>-0.980621</td>\n",
              "      <td>0.103148</td>\n",
              "    </tr>\n",
              "    <tr>\n",
              "      <th>2</th>\n",
              "      <td>1</td>\n",
              "      <td>female</td>\n",
              "      <td>2</td>\n",
              "      <td>S</td>\n",
              "      <td>(26.778, 53.389]</td>\n",
              "      <td>(-0.512, 170.776]</td>\n",
              "      <td>1</td>\n",
              "      <td>1.465228</td>\n",
              "      <td>0.166206</td>\n",
              "    </tr>\n",
              "    <tr>\n",
              "      <th>3</th>\n",
              "      <td>2</td>\n",
              "      <td>male</td>\n",
              "      <td>0</td>\n",
              "      <td>S</td>\n",
              "      <td>(0.0869, 26.778]</td>\n",
              "      <td>(-0.512, 170.776]</td>\n",
              "      <td>0</td>\n",
              "      <td>-0.980621</td>\n",
              "      <td>0.103148</td>\n",
              "    </tr>\n",
              "    <tr>\n",
              "      <th>4</th>\n",
              "      <td>3</td>\n",
              "      <td>male</td>\n",
              "      <td>0</td>\n",
              "      <td>S</td>\n",
              "      <td>(26.778, 53.389]</td>\n",
              "      <td>(-0.512, 170.776]</td>\n",
              "      <td>0</td>\n",
              "      <td>-0.980621</td>\n",
              "      <td>0.166206</td>\n",
              "    </tr>\n",
              "    <tr>\n",
              "      <th>...</th>\n",
              "      <td>...</td>\n",
              "      <td>...</td>\n",
              "      <td>...</td>\n",
              "      <td>...</td>\n",
              "      <td>...</td>\n",
              "      <td>...</td>\n",
              "      <td>...</td>\n",
              "      <td>...</td>\n",
              "      <td>...</td>\n",
              "    </tr>\n",
              "    <tr>\n",
              "      <th>976</th>\n",
              "      <td>3</td>\n",
              "      <td>female</td>\n",
              "      <td>2</td>\n",
              "      <td>S</td>\n",
              "      <td>(0.0869, 26.778]</td>\n",
              "      <td>(-0.512, 170.776]</td>\n",
              "      <td>1</td>\n",
              "      <td>1.465228</td>\n",
              "      <td>0.103148</td>\n",
              "    </tr>\n",
              "    <tr>\n",
              "      <th>977</th>\n",
              "      <td>3</td>\n",
              "      <td>male</td>\n",
              "      <td>0</td>\n",
              "      <td>S</td>\n",
              "      <td>Missings</td>\n",
              "      <td>(-0.512, 170.776]</td>\n",
              "      <td>0</td>\n",
              "      <td>-0.980621</td>\n",
              "      <td>-0.517586</td>\n",
              "    </tr>\n",
              "    <tr>\n",
              "      <th>978</th>\n",
              "      <td>3</td>\n",
              "      <td>female</td>\n",
              "      <td>0</td>\n",
              "      <td>Q</td>\n",
              "      <td>Missings</td>\n",
              "      <td>(-0.512, 170.776]</td>\n",
              "      <td>1</td>\n",
              "      <td>1.465228</td>\n",
              "      <td>-0.517586</td>\n",
              "    </tr>\n",
              "    <tr>\n",
              "      <th>979</th>\n",
              "      <td>2</td>\n",
              "      <td>female</td>\n",
              "      <td>0</td>\n",
              "      <td>S</td>\n",
              "      <td>(0.0869, 26.778]</td>\n",
              "      <td>(-0.512, 170.776]</td>\n",
              "      <td>1</td>\n",
              "      <td>1.465228</td>\n",
              "      <td>0.103148</td>\n",
              "    </tr>\n",
              "    <tr>\n",
              "      <th>980</th>\n",
              "      <td>3</td>\n",
              "      <td>female</td>\n",
              "      <td>1</td>\n",
              "      <td>Q</td>\n",
              "      <td>(26.778, 53.389]</td>\n",
              "      <td>(-0.512, 170.776]</td>\n",
              "      <td>0</td>\n",
              "      <td>1.465228</td>\n",
              "      <td>0.166206</td>\n",
              "    </tr>\n",
              "  </tbody>\n",
              "</table>\n",
              "<p>981 rows × 9 columns</p>\n",
              "</div>"
            ],
            "text/plain": [
              "     v_pclass   v_sex  v_parch  ... tgt_survived (W_v_sex, )   W_v_age\n",
              "0           3    male        2  ...            0   -0.980621  0.103148\n",
              "1           2    male        0  ...            0   -0.980621  0.103148\n",
              "2           1  female        2  ...            1    1.465228  0.166206\n",
              "3           2    male        0  ...            0   -0.980621  0.103148\n",
              "4           3    male        0  ...            0   -0.980621  0.166206\n",
              "..        ...     ...      ...  ...          ...         ...       ...\n",
              "976         3  female        2  ...            1    1.465228  0.103148\n",
              "977         3    male        0  ...            0   -0.980621 -0.517586\n",
              "978         3  female        0  ...            1    1.465228 -0.517586\n",
              "979         2  female        0  ...            1    1.465228  0.103148\n",
              "980         3  female        1  ...            0    1.465228  0.166206\n",
              "\n",
              "[981 rows x 9 columns]"
            ]
          },
          "metadata": {
            "tags": []
          },
          "execution_count": 70
        }
      ]
    },
    {
      "cell_type": "code",
      "metadata": {
        "ExecuteTime": {
          "end_time": "2020-11-20T02:01:47.322142Z",
          "start_time": "2020-11-20T02:01:47.301705Z"
        },
        "id": "QXh3vJ_rquGn",
        "colab": {
          "base_uri": "https://localhost:8080/"
        },
        "outputId": "20b92427-0858-4cf9-f5c9-f831daeb4d61"
      },
      "source": [
        "X_train[\"W_v_age\"].value_counts()"
      ],
      "execution_count": 71,
      "outputs": [
        {
          "output_type": "execute_result",
          "data": {
            "text/plain": [
              " 0.166206    386\n",
              " 0.103148    347\n",
              "-0.517586    190\n",
              "-0.183430     58\n",
              "Name: W_v_age, dtype: int64"
            ]
          },
          "metadata": {
            "tags": []
          },
          "execution_count": 71
        }
      ]
    }
  ]
}