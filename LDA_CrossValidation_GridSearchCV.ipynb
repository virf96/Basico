{
  "nbformat": 4,
  "nbformat_minor": 0,
  "metadata": {
    "colab": {
      "name": "LDA_CrossValidation_GridSearchCV.ipynb",
      "provenance": [],
      "toc_visible": true,
      "include_colab_link": true
    },
    "kernelspec": {
      "display_name": "diplo_env",
      "language": "python",
      "name": "diplo_env"
    },
    "language_info": {
      "codemirror_mode": {
        "name": "ipython",
        "version": 3
      },
      "file_extension": ".py",
      "mimetype": "text/x-python",
      "name": "python",
      "nbconvert_exporter": "python",
      "pygments_lexer": "ipython3",
      "version": "3.6.11"
    },
    "varInspector": {
      "cols": {
        "lenName": 16,
        "lenType": 16,
        "lenVar": 40
      },
      "kernels_config": {
        "python": {
          "delete_cmd_postfix": "",
          "delete_cmd_prefix": "del ",
          "library": "var_list.py",
          "varRefreshCmd": "print(var_dic_list())"
        },
        "r": {
          "delete_cmd_postfix": ") ",
          "delete_cmd_prefix": "rm(",
          "library": "var_list.r",
          "varRefreshCmd": "cat(var_dic_list()) "
        }
      },
      "types_to_exclude": [
        "module",
        "function",
        "builtin_function_or_method",
        "instance",
        "_Feature"
      ],
      "window_display": false
    }
  },
  "cells": [
    {
      "cell_type": "markdown",
      "metadata": {
        "id": "view-in-github",
        "colab_type": "text"
      },
      "source": [
        "<a href=\"https://colab.research.google.com/github/virf96/Basico/blob/main/LDA_CrossValidation_GridSearchCV.ipynb\" target=\"_parent\"><img src=\"https://colab.research.google.com/assets/colab-badge.svg\" alt=\"Open In Colab\"/></a>"
      ]
    },
    {
      "cell_type": "code",
      "metadata": {
        "ExecuteTime": {
          "end_time": "2021-01-16T16:17:49.079403Z",
          "start_time": "2021-01-16T16:17:48.444957Z"
        },
        "id": "Qv4Mrr_p39Nd"
      },
      "source": [
        "import numpy as np\n",
        "import pandas as pd\n",
        "from sklearn.preprocessing import MinMaxScaler\n",
        "from sklearn.feature_selection import SelectKBest, f_classif\n",
        "from sklearn.discriminant_analysis import LinearDiscriminantAnalysis\n",
        "from sklearn.model_selection import train_test_split, cross_val_score, GridSearchCV, RandomizedSearchCV"
      ],
      "execution_count": 211,
      "outputs": []
    },
    {
      "cell_type": "code",
      "metadata": {
        "colab": {
          "base_uri": "https://localhost:8080/"
        },
        "id": "_GB5wpKiHk4z",
        "outputId": "b0c2cae3-6a56-4ada-95dd-de2a56eab578"
      },
      "source": [
        "from google.colab import drive\n",
        "drive.mount('/content/drive')"
      ],
      "execution_count": 212,
      "outputs": [
        {
          "output_type": "stream",
          "text": [
            "Drive already mounted at /content/drive; to attempt to forcibly remount, call drive.mount(\"/content/drive\", force_remount=True).\n"
          ],
          "name": "stdout"
        }
      ]
    },
    {
      "cell_type": "code",
      "metadata": {
        "ExecuteTime": {
          "end_time": "2021-01-16T16:18:01.138619Z",
          "start_time": "2021-01-16T16:18:00.678038Z"
        },
        "id": "sbc2CeGa39Nk"
      },
      "source": [
        "df = pd.read_csv(\"/content/drive/MyDrive/datasets/OnlineNewsPopularity.csv\").reset_index(drop = True)"
      ],
      "execution_count": 213,
      "outputs": []
    },
    {
      "cell_type": "code",
      "metadata": {
        "ExecuteTime": {
          "end_time": "2021-01-16T16:18:01.797135Z",
          "start_time": "2021-01-16T16:18:01.699117Z"
        },
        "id": "YXaN80RUP1Ns",
        "colab": {
          "base_uri": "https://localhost:8080/",
          "height": 202
        },
        "outputId": "6a7a7666-361c-4caf-81f0-7916cec25113"
      },
      "source": [
        "df.head(3)"
      ],
      "execution_count": 214,
      "outputs": [
        {
          "output_type": "execute_result",
          "data": {
            "text/html": [
              "<div>\n",
              "<style scoped>\n",
              "    .dataframe tbody tr th:only-of-type {\n",
              "        vertical-align: middle;\n",
              "    }\n",
              "\n",
              "    .dataframe tbody tr th {\n",
              "        vertical-align: top;\n",
              "    }\n",
              "\n",
              "    .dataframe thead th {\n",
              "        text-align: right;\n",
              "    }\n",
              "</style>\n",
              "<table border=\"1\" class=\"dataframe\">\n",
              "  <thead>\n",
              "    <tr style=\"text-align: right;\">\n",
              "      <th></th>\n",
              "      <th>url</th>\n",
              "      <th>timedelta</th>\n",
              "      <th>n_tokens_title</th>\n",
              "      <th>n_tokens_content</th>\n",
              "      <th>n_unique_tokens</th>\n",
              "      <th>n_non_stop_words</th>\n",
              "      <th>n_non_stop_unique_tokens</th>\n",
              "      <th>num_hrefs</th>\n",
              "      <th>num_self_hrefs</th>\n",
              "      <th>num_imgs</th>\n",
              "      <th>num_videos</th>\n",
              "      <th>average_token_length</th>\n",
              "      <th>num_keywords</th>\n",
              "      <th>data_channel_is_lifestyle</th>\n",
              "      <th>data_channel_is_entertainment</th>\n",
              "      <th>data_channel_is_bus</th>\n",
              "      <th>data_channel_is_socmed</th>\n",
              "      <th>data_channel_is_tech</th>\n",
              "      <th>data_channel_is_world</th>\n",
              "      <th>kw_min_min</th>\n",
              "      <th>kw_max_min</th>\n",
              "      <th>kw_avg_min</th>\n",
              "      <th>kw_min_max</th>\n",
              "      <th>kw_max_max</th>\n",
              "      <th>kw_avg_max</th>\n",
              "      <th>kw_min_avg</th>\n",
              "      <th>kw_max_avg</th>\n",
              "      <th>kw_avg_avg</th>\n",
              "      <th>self_reference_min_shares</th>\n",
              "      <th>self_reference_max_shares</th>\n",
              "      <th>self_reference_avg_sharess</th>\n",
              "      <th>weekday_is_monday</th>\n",
              "      <th>weekday_is_tuesday</th>\n",
              "      <th>weekday_is_wednesday</th>\n",
              "      <th>weekday_is_thursday</th>\n",
              "      <th>weekday_is_friday</th>\n",
              "      <th>weekday_is_saturday</th>\n",
              "      <th>weekday_is_sunday</th>\n",
              "      <th>is_weekend</th>\n",
              "      <th>LDA_00</th>\n",
              "      <th>LDA_01</th>\n",
              "      <th>LDA_02</th>\n",
              "      <th>LDA_03</th>\n",
              "      <th>LDA_04</th>\n",
              "      <th>global_subjectivity</th>\n",
              "      <th>global_sentiment_polarity</th>\n",
              "      <th>global_rate_positive_words</th>\n",
              "      <th>global_rate_negative_words</th>\n",
              "      <th>rate_positive_words</th>\n",
              "      <th>rate_negative_words</th>\n",
              "      <th>avg_positive_polarity</th>\n",
              "      <th>min_positive_polarity</th>\n",
              "      <th>max_positive_polarity</th>\n",
              "      <th>avg_negative_polarity</th>\n",
              "      <th>min_negative_polarity</th>\n",
              "      <th>max_negative_polarity</th>\n",
              "      <th>title_subjectivity</th>\n",
              "      <th>title_sentiment_polarity</th>\n",
              "      <th>abs_title_subjectivity</th>\n",
              "      <th>abs_title_sentiment_polarity</th>\n",
              "      <th>shares</th>\n",
              "    </tr>\n",
              "  </thead>\n",
              "  <tbody>\n",
              "    <tr>\n",
              "      <th>0</th>\n",
              "      <td>http://mashable.com/2013/01/07/amazon-instant-...</td>\n",
              "      <td>731.0</td>\n",
              "      <td>12.0</td>\n",
              "      <td>219.0</td>\n",
              "      <td>0.663594</td>\n",
              "      <td>1.0</td>\n",
              "      <td>0.815385</td>\n",
              "      <td>4.0</td>\n",
              "      <td>2.0</td>\n",
              "      <td>1.0</td>\n",
              "      <td>0.0</td>\n",
              "      <td>4.680365</td>\n",
              "      <td>5.0</td>\n",
              "      <td>0.0</td>\n",
              "      <td>1.0</td>\n",
              "      <td>0.0</td>\n",
              "      <td>0.0</td>\n",
              "      <td>0.0</td>\n",
              "      <td>0.0</td>\n",
              "      <td>0.0</td>\n",
              "      <td>0.0</td>\n",
              "      <td>0.0</td>\n",
              "      <td>0.0</td>\n",
              "      <td>0.0</td>\n",
              "      <td>0.0</td>\n",
              "      <td>0.0</td>\n",
              "      <td>0.0</td>\n",
              "      <td>0.0</td>\n",
              "      <td>496.0</td>\n",
              "      <td>496.0</td>\n",
              "      <td>496.0</td>\n",
              "      <td>1.0</td>\n",
              "      <td>0.0</td>\n",
              "      <td>0.0</td>\n",
              "      <td>0.0</td>\n",
              "      <td>0.0</td>\n",
              "      <td>0.0</td>\n",
              "      <td>0.0</td>\n",
              "      <td>0.0</td>\n",
              "      <td>0.500331</td>\n",
              "      <td>0.378279</td>\n",
              "      <td>0.040005</td>\n",
              "      <td>0.041263</td>\n",
              "      <td>0.040123</td>\n",
              "      <td>0.521617</td>\n",
              "      <td>0.092562</td>\n",
              "      <td>0.045662</td>\n",
              "      <td>0.013699</td>\n",
              "      <td>0.769231</td>\n",
              "      <td>0.230769</td>\n",
              "      <td>0.378636</td>\n",
              "      <td>0.100000</td>\n",
              "      <td>0.7</td>\n",
              "      <td>-0.350000</td>\n",
              "      <td>-0.600</td>\n",
              "      <td>-0.200000</td>\n",
              "      <td>0.5</td>\n",
              "      <td>-0.1875</td>\n",
              "      <td>0.0</td>\n",
              "      <td>0.1875</td>\n",
              "      <td>593</td>\n",
              "    </tr>\n",
              "    <tr>\n",
              "      <th>1</th>\n",
              "      <td>http://mashable.com/2013/01/07/ap-samsung-spon...</td>\n",
              "      <td>731.0</td>\n",
              "      <td>9.0</td>\n",
              "      <td>255.0</td>\n",
              "      <td>0.604743</td>\n",
              "      <td>1.0</td>\n",
              "      <td>0.791946</td>\n",
              "      <td>3.0</td>\n",
              "      <td>1.0</td>\n",
              "      <td>1.0</td>\n",
              "      <td>0.0</td>\n",
              "      <td>4.913725</td>\n",
              "      <td>4.0</td>\n",
              "      <td>0.0</td>\n",
              "      <td>0.0</td>\n",
              "      <td>1.0</td>\n",
              "      <td>0.0</td>\n",
              "      <td>0.0</td>\n",
              "      <td>0.0</td>\n",
              "      <td>0.0</td>\n",
              "      <td>0.0</td>\n",
              "      <td>0.0</td>\n",
              "      <td>0.0</td>\n",
              "      <td>0.0</td>\n",
              "      <td>0.0</td>\n",
              "      <td>0.0</td>\n",
              "      <td>0.0</td>\n",
              "      <td>0.0</td>\n",
              "      <td>0.0</td>\n",
              "      <td>0.0</td>\n",
              "      <td>0.0</td>\n",
              "      <td>1.0</td>\n",
              "      <td>0.0</td>\n",
              "      <td>0.0</td>\n",
              "      <td>0.0</td>\n",
              "      <td>0.0</td>\n",
              "      <td>0.0</td>\n",
              "      <td>0.0</td>\n",
              "      <td>0.0</td>\n",
              "      <td>0.799756</td>\n",
              "      <td>0.050047</td>\n",
              "      <td>0.050096</td>\n",
              "      <td>0.050101</td>\n",
              "      <td>0.050001</td>\n",
              "      <td>0.341246</td>\n",
              "      <td>0.148948</td>\n",
              "      <td>0.043137</td>\n",
              "      <td>0.015686</td>\n",
              "      <td>0.733333</td>\n",
              "      <td>0.266667</td>\n",
              "      <td>0.286915</td>\n",
              "      <td>0.033333</td>\n",
              "      <td>0.7</td>\n",
              "      <td>-0.118750</td>\n",
              "      <td>-0.125</td>\n",
              "      <td>-0.100000</td>\n",
              "      <td>0.0</td>\n",
              "      <td>0.0000</td>\n",
              "      <td>0.5</td>\n",
              "      <td>0.0000</td>\n",
              "      <td>711</td>\n",
              "    </tr>\n",
              "    <tr>\n",
              "      <th>2</th>\n",
              "      <td>http://mashable.com/2013/01/07/apple-40-billio...</td>\n",
              "      <td>731.0</td>\n",
              "      <td>9.0</td>\n",
              "      <td>211.0</td>\n",
              "      <td>0.575130</td>\n",
              "      <td>1.0</td>\n",
              "      <td>0.663866</td>\n",
              "      <td>3.0</td>\n",
              "      <td>1.0</td>\n",
              "      <td>1.0</td>\n",
              "      <td>0.0</td>\n",
              "      <td>4.393365</td>\n",
              "      <td>6.0</td>\n",
              "      <td>0.0</td>\n",
              "      <td>0.0</td>\n",
              "      <td>1.0</td>\n",
              "      <td>0.0</td>\n",
              "      <td>0.0</td>\n",
              "      <td>0.0</td>\n",
              "      <td>0.0</td>\n",
              "      <td>0.0</td>\n",
              "      <td>0.0</td>\n",
              "      <td>0.0</td>\n",
              "      <td>0.0</td>\n",
              "      <td>0.0</td>\n",
              "      <td>0.0</td>\n",
              "      <td>0.0</td>\n",
              "      <td>0.0</td>\n",
              "      <td>918.0</td>\n",
              "      <td>918.0</td>\n",
              "      <td>918.0</td>\n",
              "      <td>1.0</td>\n",
              "      <td>0.0</td>\n",
              "      <td>0.0</td>\n",
              "      <td>0.0</td>\n",
              "      <td>0.0</td>\n",
              "      <td>0.0</td>\n",
              "      <td>0.0</td>\n",
              "      <td>0.0</td>\n",
              "      <td>0.217792</td>\n",
              "      <td>0.033334</td>\n",
              "      <td>0.033351</td>\n",
              "      <td>0.033334</td>\n",
              "      <td>0.682188</td>\n",
              "      <td>0.702222</td>\n",
              "      <td>0.323333</td>\n",
              "      <td>0.056872</td>\n",
              "      <td>0.009479</td>\n",
              "      <td>0.857143</td>\n",
              "      <td>0.142857</td>\n",
              "      <td>0.495833</td>\n",
              "      <td>0.100000</td>\n",
              "      <td>1.0</td>\n",
              "      <td>-0.466667</td>\n",
              "      <td>-0.800</td>\n",
              "      <td>-0.133333</td>\n",
              "      <td>0.0</td>\n",
              "      <td>0.0000</td>\n",
              "      <td>0.5</td>\n",
              "      <td>0.0000</td>\n",
              "      <td>1500</td>\n",
              "    </tr>\n",
              "  </tbody>\n",
              "</table>\n",
              "</div>"
            ],
            "text/plain": [
              "                                                 url  ...   shares\n",
              "0  http://mashable.com/2013/01/07/amazon-instant-...  ...      593\n",
              "1  http://mashable.com/2013/01/07/ap-samsung-spon...  ...      711\n",
              "2  http://mashable.com/2013/01/07/apple-40-billio...  ...     1500\n",
              "\n",
              "[3 rows x 61 columns]"
            ]
          },
          "metadata": {
            "tags": []
          },
          "execution_count": 214
        }
      ]
    },
    {
      "cell_type": "code",
      "metadata": {
        "colab": {
          "base_uri": "https://localhost:8080/"
        },
        "id": "z40d-GT7IMY2",
        "outputId": "48e1c896-7d73-4020-de28-d838698d9473"
      },
      "source": [
        "[x.strip() for x in df.columns]"
      ],
      "execution_count": 215,
      "outputs": [
        {
          "output_type": "execute_result",
          "data": {
            "text/plain": [
              "['url',\n",
              " 'timedelta',\n",
              " 'n_tokens_title',\n",
              " 'n_tokens_content',\n",
              " 'n_unique_tokens',\n",
              " 'n_non_stop_words',\n",
              " 'n_non_stop_unique_tokens',\n",
              " 'num_hrefs',\n",
              " 'num_self_hrefs',\n",
              " 'num_imgs',\n",
              " 'num_videos',\n",
              " 'average_token_length',\n",
              " 'num_keywords',\n",
              " 'data_channel_is_lifestyle',\n",
              " 'data_channel_is_entertainment',\n",
              " 'data_channel_is_bus',\n",
              " 'data_channel_is_socmed',\n",
              " 'data_channel_is_tech',\n",
              " 'data_channel_is_world',\n",
              " 'kw_min_min',\n",
              " 'kw_max_min',\n",
              " 'kw_avg_min',\n",
              " 'kw_min_max',\n",
              " 'kw_max_max',\n",
              " 'kw_avg_max',\n",
              " 'kw_min_avg',\n",
              " 'kw_max_avg',\n",
              " 'kw_avg_avg',\n",
              " 'self_reference_min_shares',\n",
              " 'self_reference_max_shares',\n",
              " 'self_reference_avg_sharess',\n",
              " 'weekday_is_monday',\n",
              " 'weekday_is_tuesday',\n",
              " 'weekday_is_wednesday',\n",
              " 'weekday_is_thursday',\n",
              " 'weekday_is_friday',\n",
              " 'weekday_is_saturday',\n",
              " 'weekday_is_sunday',\n",
              " 'is_weekend',\n",
              " 'LDA_00',\n",
              " 'LDA_01',\n",
              " 'LDA_02',\n",
              " 'LDA_03',\n",
              " 'LDA_04',\n",
              " 'global_subjectivity',\n",
              " 'global_sentiment_polarity',\n",
              " 'global_rate_positive_words',\n",
              " 'global_rate_negative_words',\n",
              " 'rate_positive_words',\n",
              " 'rate_negative_words',\n",
              " 'avg_positive_polarity',\n",
              " 'min_positive_polarity',\n",
              " 'max_positive_polarity',\n",
              " 'avg_negative_polarity',\n",
              " 'min_negative_polarity',\n",
              " 'max_negative_polarity',\n",
              " 'title_subjectivity',\n",
              " 'title_sentiment_polarity',\n",
              " 'abs_title_subjectivity',\n",
              " 'abs_title_sentiment_polarity',\n",
              " 'shares']"
            ]
          },
          "metadata": {
            "tags": []
          },
          "execution_count": 215
        }
      ]
    },
    {
      "cell_type": "code",
      "metadata": {
        "ExecuteTime": {
          "end_time": "2021-01-16T16:19:08.442223Z",
          "start_time": "2021-01-16T16:19:08.436095Z"
        },
        "id": "P7CUUSIt39Np"
      },
      "source": [
        "df.columns = [x.strip() for x in df.columns]"
      ],
      "execution_count": 216,
      "outputs": []
    },
    {
      "cell_type": "code",
      "metadata": {
        "ExecuteTime": {
          "end_time": "2021-01-16T16:19:36.722995Z",
          "start_time": "2021-01-16T16:19:36.707379Z"
        },
        "id": "4m9Wh1KB39Nu"
      },
      "source": [
        "#Este bien podría ser un problema de regresión pero lo haremos de clasificación utilizando un punto de corte en la variable númerica para hacerlo de clasificación\r\n",
        "# Al hacer df[\"shares\"] > 6000 nos devuelve una lista booleana que al multiplicarla por 1 los TRUE serán 1 y los FALSE 0\r\n",
        "df[\"success\"] = (df[\"shares\"] > 6000)*1"
      ],
      "execution_count": 217,
      "outputs": []
    },
    {
      "cell_type": "code",
      "metadata": {
        "ExecuteTime": {
          "end_time": "2021-01-16T16:19:37.981104Z",
          "start_time": "2021-01-16T16:19:37.970332Z"
        },
        "id": "2Zr7TnpvP1Nw",
        "colab": {
          "base_uri": "https://localhost:8080/"
        },
        "outputId": "f4162396-6893-40a7-9ee5-207efa7c07d7"
      },
      "source": [
        "#Verificamos el cambios\r\n",
        "df[\"success\"].unique()"
      ],
      "execution_count": 218,
      "outputs": [
        {
          "output_type": "execute_result",
          "data": {
            "text/plain": [
              "array([0, 1])"
            ]
          },
          "metadata": {
            "tags": []
          },
          "execution_count": 218
        }
      ]
    },
    {
      "cell_type": "code",
      "metadata": {
        "ExecuteTime": {
          "end_time": "2021-01-16T16:20:06.639619Z",
          "start_time": "2021-01-16T16:20:06.632420Z"
        },
        "id": "cucS4KVLP1Nx",
        "colab": {
          "base_uri": "https://localhost:8080/"
        },
        "outputId": "9fcadaf6-058f-450a-86b3-51323b38e478"
      },
      "source": [
        "#Veamos la distibución del target\r\n",
        "df['success'].value_counts(1)"
      ],
      "execution_count": 219,
      "outputs": [
        {
          "output_type": "execute_result",
          "data": {
            "text/plain": [
              "0    0.896504\n",
              "1    0.103496\n",
              "Name: success, dtype: float64"
            ]
          },
          "metadata": {
            "tags": []
          },
          "execution_count": 219
        }
      ]
    },
    {
      "cell_type": "code",
      "metadata": {
        "ExecuteTime": {
          "end_time": "2021-01-16T16:20:31.193983Z",
          "start_time": "2021-01-16T16:20:31.175456Z"
        },
        "id": "vChSjVnr39Ny"
      },
      "source": [
        "ls_cont = ['n_tokens_title', 'n_tokens_content', 'n_unique_tokens', 'n_non_stop_words', \n",
        "           'n_non_stop_unique_tokens', 'num_hrefs', 'num_self_hrefs', 'num_imgs', 'num_videos', \n",
        "           'average_token_length', 'num_keywords', 'kw_min_min', 'kw_max_min', 'kw_avg_min', \n",
        "           'kw_min_max', 'kw_max_max', 'kw_avg_max', 'kw_min_avg', 'kw_max_avg', 'kw_avg_avg', \n",
        "           'self_reference_min_shares', 'self_reference_max_shares', 'self_reference_avg_sharess', \n",
        "           'LDA_00', 'LDA_01', 'LDA_02', 'LDA_03', 'LDA_04', 'global_subjectivity', \n",
        "           'global_sentiment_polarity', 'global_rate_positive_words', 'global_rate_negative_words',\n",
        "           'rate_positive_words', 'rate_negative_words', 'avg_positive_polarity', 'min_positive_polarity',\n",
        "           'max_positive_polarity', 'avg_negative_polarity', 'min_negative_polarity', \n",
        "           'max_negative_polarity', 'title_subjectivity', 'title_sentiment_polarity', \n",
        "           'abs_title_subjectivity', 'abs_title_sentiment_polarity']\n",
        "target = \"shares\"\n",
        "target_disc = \"success\""
      ],
      "execution_count": 220,
      "outputs": []
    },
    {
      "cell_type": "code",
      "metadata": {
        "ExecuteTime": {
          "end_time": "2021-01-16T16:20:35.939666Z",
          "start_time": "2021-01-16T16:20:35.920066Z"
        },
        "id": "3NYFmpcQ39N3"
      },
      "source": [
        "X = df[ls_cont]\n",
        "yr = df[target]\n",
        "yc = df[target_disc]"
      ],
      "execution_count": 221,
      "outputs": []
    },
    {
      "cell_type": "code",
      "metadata": {
        "ExecuteTime": {
          "end_time": "2021-01-16T16:20:47.113079Z",
          "start_time": "2021-01-16T16:20:47.052883Z"
        },
        "id": "FpiLVLEdX4gD"
      },
      "source": [
        "#Partimos data frame\r\n",
        "X_train, X_test, y_train, y_test = train_test_split(X, yc)"
      ],
      "execution_count": 222,
      "outputs": []
    },
    {
      "cell_type": "code",
      "metadata": {
        "colab": {
          "base_uri": "https://localhost:8080/"
        },
        "id": "j3EmOzqbJfsM",
        "outputId": "afca20b6-b47d-43b0-fa8d-496f582380a7"
      },
      "source": [
        "X_train.shape, X_test.shape, y_train.shape, y_test.shape"
      ],
      "execution_count": 223,
      "outputs": [
        {
          "output_type": "execute_result",
          "data": {
            "text/plain": [
              "((29733, 44), (9911, 44), (29733,), (9911,))"
            ]
          },
          "metadata": {
            "tags": []
          },
          "execution_count": 223
        }
      ]
    },
    {
      "cell_type": "code",
      "metadata": {
        "colab": {
          "base_uri": "https://localhost:8080/",
          "height": 153
        },
        "id": "pvs4qpq4LWLP",
        "outputId": "c9d1bb4e-84a4-4af2-daaa-b5c4dfab47b1"
      },
      "source": [
        "X_train.head(3)"
      ],
      "execution_count": 224,
      "outputs": [
        {
          "output_type": "execute_result",
          "data": {
            "text/html": [
              "<div>\n",
              "<style scoped>\n",
              "    .dataframe tbody tr th:only-of-type {\n",
              "        vertical-align: middle;\n",
              "    }\n",
              "\n",
              "    .dataframe tbody tr th {\n",
              "        vertical-align: top;\n",
              "    }\n",
              "\n",
              "    .dataframe thead th {\n",
              "        text-align: right;\n",
              "    }\n",
              "</style>\n",
              "<table border=\"1\" class=\"dataframe\">\n",
              "  <thead>\n",
              "    <tr style=\"text-align: right;\">\n",
              "      <th></th>\n",
              "      <th>n_tokens_title</th>\n",
              "      <th>n_tokens_content</th>\n",
              "      <th>n_unique_tokens</th>\n",
              "      <th>n_non_stop_words</th>\n",
              "      <th>n_non_stop_unique_tokens</th>\n",
              "      <th>num_hrefs</th>\n",
              "      <th>num_self_hrefs</th>\n",
              "      <th>num_imgs</th>\n",
              "      <th>num_videos</th>\n",
              "      <th>average_token_length</th>\n",
              "      <th>num_keywords</th>\n",
              "      <th>kw_min_min</th>\n",
              "      <th>kw_max_min</th>\n",
              "      <th>kw_avg_min</th>\n",
              "      <th>kw_min_max</th>\n",
              "      <th>kw_max_max</th>\n",
              "      <th>kw_avg_max</th>\n",
              "      <th>kw_min_avg</th>\n",
              "      <th>kw_max_avg</th>\n",
              "      <th>kw_avg_avg</th>\n",
              "      <th>self_reference_min_shares</th>\n",
              "      <th>self_reference_max_shares</th>\n",
              "      <th>self_reference_avg_sharess</th>\n",
              "      <th>LDA_00</th>\n",
              "      <th>LDA_01</th>\n",
              "      <th>LDA_02</th>\n",
              "      <th>LDA_03</th>\n",
              "      <th>LDA_04</th>\n",
              "      <th>global_subjectivity</th>\n",
              "      <th>global_sentiment_polarity</th>\n",
              "      <th>global_rate_positive_words</th>\n",
              "      <th>global_rate_negative_words</th>\n",
              "      <th>rate_positive_words</th>\n",
              "      <th>rate_negative_words</th>\n",
              "      <th>avg_positive_polarity</th>\n",
              "      <th>min_positive_polarity</th>\n",
              "      <th>max_positive_polarity</th>\n",
              "      <th>avg_negative_polarity</th>\n",
              "      <th>min_negative_polarity</th>\n",
              "      <th>max_negative_polarity</th>\n",
              "      <th>title_subjectivity</th>\n",
              "      <th>title_sentiment_polarity</th>\n",
              "      <th>abs_title_subjectivity</th>\n",
              "      <th>abs_title_sentiment_polarity</th>\n",
              "    </tr>\n",
              "  </thead>\n",
              "  <tbody>\n",
              "    <tr>\n",
              "      <th>30673</th>\n",
              "      <td>13.0</td>\n",
              "      <td>328.0</td>\n",
              "      <td>0.625000</td>\n",
              "      <td>1.0</td>\n",
              "      <td>0.734884</td>\n",
              "      <td>8.0</td>\n",
              "      <td>2.0</td>\n",
              "      <td>1.0</td>\n",
              "      <td>0.0</td>\n",
              "      <td>5.158537</td>\n",
              "      <td>7.0</td>\n",
              "      <td>-1.0</td>\n",
              "      <td>2300.0</td>\n",
              "      <td>605.200000</td>\n",
              "      <td>0.0</td>\n",
              "      <td>843300.0</td>\n",
              "      <td>225985.714286</td>\n",
              "      <td>0.0</td>\n",
              "      <td>3496.268184</td>\n",
              "      <td>1694.647485</td>\n",
              "      <td>536.0</td>\n",
              "      <td>5500.0</td>\n",
              "      <td>3018.0</td>\n",
              "      <td>0.885645</td>\n",
              "      <td>0.028574</td>\n",
              "      <td>0.028573</td>\n",
              "      <td>0.028573</td>\n",
              "      <td>0.028635</td>\n",
              "      <td>0.496477</td>\n",
              "      <td>0.218068</td>\n",
              "      <td>0.045732</td>\n",
              "      <td>0.021341</td>\n",
              "      <td>0.681818</td>\n",
              "      <td>0.318182</td>\n",
              "      <td>0.409091</td>\n",
              "      <td>0.100000</td>\n",
              "      <td>1.0</td>\n",
              "      <td>-0.196429</td>\n",
              "      <td>-0.50</td>\n",
              "      <td>-0.05</td>\n",
              "      <td>0.0</td>\n",
              "      <td>0.000000</td>\n",
              "      <td>0.5</td>\n",
              "      <td>0.000000</td>\n",
              "    </tr>\n",
              "    <tr>\n",
              "      <th>33845</th>\n",
              "      <td>9.0</td>\n",
              "      <td>173.0</td>\n",
              "      <td>0.660606</td>\n",
              "      <td>1.0</td>\n",
              "      <td>0.793814</td>\n",
              "      <td>5.0</td>\n",
              "      <td>3.0</td>\n",
              "      <td>2.0</td>\n",
              "      <td>0.0</td>\n",
              "      <td>4.502890</td>\n",
              "      <td>10.0</td>\n",
              "      <td>-1.0</td>\n",
              "      <td>643.0</td>\n",
              "      <td>232.111111</td>\n",
              "      <td>0.0</td>\n",
              "      <td>843300.0</td>\n",
              "      <td>253020.000000</td>\n",
              "      <td>0.0</td>\n",
              "      <td>8936.470588</td>\n",
              "      <td>3416.710250</td>\n",
              "      <td>2900.0</td>\n",
              "      <td>2900.0</td>\n",
              "      <td>2900.0</td>\n",
              "      <td>0.020987</td>\n",
              "      <td>0.020154</td>\n",
              "      <td>0.136973</td>\n",
              "      <td>0.020219</td>\n",
              "      <td>0.801666</td>\n",
              "      <td>0.489610</td>\n",
              "      <td>0.158766</td>\n",
              "      <td>0.040462</td>\n",
              "      <td>0.023121</td>\n",
              "      <td>0.636364</td>\n",
              "      <td>0.363636</td>\n",
              "      <td>0.424675</td>\n",
              "      <td>0.136364</td>\n",
              "      <td>1.0</td>\n",
              "      <td>-0.137500</td>\n",
              "      <td>-0.15</td>\n",
              "      <td>-0.10</td>\n",
              "      <td>0.5</td>\n",
              "      <td>0.136364</td>\n",
              "      <td>0.0</td>\n",
              "      <td>0.136364</td>\n",
              "    </tr>\n",
              "    <tr>\n",
              "      <th>30905</th>\n",
              "      <td>10.0</td>\n",
              "      <td>751.0</td>\n",
              "      <td>0.484438</td>\n",
              "      <td>1.0</td>\n",
              "      <td>0.655773</td>\n",
              "      <td>3.0</td>\n",
              "      <td>1.0</td>\n",
              "      <td>2.0</td>\n",
              "      <td>1.0</td>\n",
              "      <td>4.949401</td>\n",
              "      <td>3.0</td>\n",
              "      <td>-1.0</td>\n",
              "      <td>458.0</td>\n",
              "      <td>228.500000</td>\n",
              "      <td>0.0</td>\n",
              "      <td>843300.0</td>\n",
              "      <td>281252.666667</td>\n",
              "      <td>0.0</td>\n",
              "      <td>3490.551453</td>\n",
              "      <td>1316.183818</td>\n",
              "      <td>458.0</td>\n",
              "      <td>458.0</td>\n",
              "      <td>458.0</td>\n",
              "      <td>0.066680</td>\n",
              "      <td>0.066681</td>\n",
              "      <td>0.733292</td>\n",
              "      <td>0.066675</td>\n",
              "      <td>0.066673</td>\n",
              "      <td>0.400339</td>\n",
              "      <td>0.088362</td>\n",
              "      <td>0.031957</td>\n",
              "      <td>0.015979</td>\n",
              "      <td>0.666667</td>\n",
              "      <td>0.333333</td>\n",
              "      <td>0.328492</td>\n",
              "      <td>0.050000</td>\n",
              "      <td>0.6</td>\n",
              "      <td>-0.238657</td>\n",
              "      <td>-0.50</td>\n",
              "      <td>-0.10</td>\n",
              "      <td>0.0</td>\n",
              "      <td>0.000000</td>\n",
              "      <td>0.5</td>\n",
              "      <td>0.000000</td>\n",
              "    </tr>\n",
              "  </tbody>\n",
              "</table>\n",
              "</div>"
            ],
            "text/plain": [
              "       n_tokens_title  ...  abs_title_sentiment_polarity\n",
              "30673            13.0  ...                      0.000000\n",
              "33845             9.0  ...                      0.136364\n",
              "30905            10.0  ...                      0.000000\n",
              "\n",
              "[3 rows x 44 columns]"
            ]
          },
          "metadata": {
            "tags": []
          },
          "execution_count": 224
        }
      ]
    },
    {
      "cell_type": "markdown",
      "metadata": {
        "id": "3yF3NY0H39N7"
      },
      "source": [
        "## Análisis Discriminante "
      ]
    },
    {
      "cell_type": "code",
      "metadata": {
        "ExecuteTime": {
          "end_time": "2021-01-16T16:20:59.306972Z",
          "start_time": "2021-01-16T16:20:59.299446Z"
        },
        "id": "3Ss3zNFY39OA"
      },
      "source": [
        "#Instanceamos el modelo\r\n",
        "lda = LinearDiscriminantAnalysis()"
      ],
      "execution_count": 225,
      "outputs": []
    },
    {
      "cell_type": "code",
      "metadata": {
        "ExecuteTime": {
          "end_time": "2021-01-16T16:21:01.355265Z",
          "start_time": "2021-01-16T16:21:01.016896Z"
        },
        "id": "qjwEgTvt39OH",
        "colab": {
          "base_uri": "https://localhost:8080/"
        },
        "outputId": "5d365c6b-5a33-4dc1-8cd1-1b294dea771c"
      },
      "source": [
        "#Entrenamos el modelo\r\n",
        "lda.fit(X_train, y_train)"
      ],
      "execution_count": 226,
      "outputs": [
        {
          "output_type": "execute_result",
          "data": {
            "text/plain": [
              "LinearDiscriminantAnalysis(n_components=None, priors=None, shrinkage=None,\n",
              "                           solver='svd', store_covariance=False, tol=0.0001)"
            ]
          },
          "metadata": {
            "tags": []
          },
          "execution_count": 226
        }
      ]
    },
    {
      "cell_type": "markdown",
      "metadata": {
        "id": "2--MnDIrzQVX"
      },
      "source": [
        "# Cross Validation"
      ]
    },
    {
      "cell_type": "code",
      "metadata": {
        "ExecuteTime": {
          "end_time": "2021-01-16T16:21:10.481611Z",
          "start_time": "2021-01-16T16:21:08.738432Z"
        },
        "id": "L3hG0nYd39OM"
      },
      "source": [
        "#Hacemos cross validation indicano que queremos 4 pliegues\r\n",
        "ls_res = cross_val_score(estimator = lda, X=X_train, y=y_train, cv=4, n_jobs=-1, scoring=\"roc_auc\")"
      ],
      "execution_count": 227,
      "outputs": []
    },
    {
      "cell_type": "code",
      "metadata": {
        "colab": {
          "base_uri": "https://localhost:8080/"
        },
        "id": "PcmPEHk-sfRc",
        "outputId": "a3b34db9-38c5-4372-b328-0851dce94923"
      },
      "source": [
        "ls_res"
      ],
      "execution_count": 228,
      "outputs": [
        {
          "output_type": "execute_result",
          "data": {
            "text/plain": [
              "array([0.70532546, 0.6962179 , 0.69057582, 0.69469995])"
            ]
          },
          "metadata": {
            "tags": []
          },
          "execution_count": 228
        }
      ]
    },
    {
      "cell_type": "code",
      "metadata": {
        "ExecuteTime": {
          "end_time": "2021-01-16T16:21:12.088734Z",
          "start_time": "2021-01-16T16:21:12.078199Z"
        },
        "id": "64i5vzvD39OQ",
        "colab": {
          "base_uri": "https://localhost:8080/"
        },
        "outputId": "b2111eee-fb3a-4779-91d6-23c28f6c2940"
      },
      "source": [
        "#Evaluemos el rendimiento del modelo en cuanto a sesgo y varianza\r\n",
        "np.mean(ls_res), np.std(ls_res)"
      ],
      "execution_count": 229,
      "outputs": [
        {
          "output_type": "execute_result",
          "data": {
            "text/plain": [
              "(0.6967047818225072, 0.005388338921325572)"
            ]
          },
          "metadata": {
            "tags": []
          },
          "execution_count": 229
        }
      ]
    },
    {
      "cell_type": "code",
      "metadata": {
        "id": "ZvOGBGErKIY-"
      },
      "source": [
        "#Ahora metamos las variables escaladas para verificar que las magnitudes no causen un menor performance\r\n",
        "from sklearn.preprocessing import MinMaxScaler\r\n",
        "sc = MinMaxScaler()\r\n",
        "Xs = sc.fit_transform(X_train)\r\n",
        "Xt = sc.fit_transform(X_test)"
      ],
      "execution_count": 230,
      "outputs": []
    },
    {
      "cell_type": "code",
      "metadata": {
        "colab": {
          "base_uri": "https://localhost:8080/"
        },
        "id": "G0QZDGzVKIuW",
        "outputId": "7a6b6831-3035-4e29-c373-da4766f037c4"
      },
      "source": [
        "#Observamos que el escalamiento no ayuda, seguiremos con la escala que ya tienen los datos\r\n",
        "ls_res = cross_val_score(estimator = lda, X=Xs, y=y_train, cv=4, n_jobs=-1, scoring=\"roc_auc\")\r\n",
        "np.mean(ls_res), np.std(ls_res)"
      ],
      "execution_count": 231,
      "outputs": [
        {
          "output_type": "execute_result",
          "data": {
            "text/plain": [
              "(0.6967047818225072, 0.005388338921325572)"
            ]
          },
          "metadata": {
            "tags": []
          },
          "execution_count": 231
        }
      ]
    },
    {
      "cell_type": "code",
      "metadata": {
        "ExecuteTime": {
          "end_time": "2021-01-16T16:21:18.888285Z",
          "start_time": "2021-01-16T16:21:18.749191Z"
        },
        "id": "OQZBFpuJ39OU"
      },
      "source": [
        "LinearDiscriminantAnalysis?"
      ],
      "execution_count": 188,
      "outputs": []
    },
    {
      "cell_type": "markdown",
      "metadata": {
        "id": "t2FraCG2zZlU"
      },
      "source": [
        "# Busqueda con Grid Search CV"
      ]
    },
    {
      "cell_type": "code",
      "metadata": {
        "ExecuteTime": {
          "end_time": "2021-01-16T16:21:34.197698Z",
          "start_time": "2021-01-16T16:21:34.181507Z"
        },
        "id": "uY2cl6rJ39OZ",
        "colab": {
          "base_uri": "https://localhost:8080/"
        },
        "outputId": "b2815874-ac6f-4ab0-f519-b1a3e6b6afa0"
      },
      "source": [
        "lda.get_params()"
      ],
      "execution_count": 232,
      "outputs": [
        {
          "output_type": "execute_result",
          "data": {
            "text/plain": [
              "{'n_components': None,\n",
              " 'priors': None,\n",
              " 'shrinkage': None,\n",
              " 'solver': 'svd',\n",
              " 'store_covariance': False,\n",
              " 'tol': 0.0001}"
            ]
          },
          "metadata": {
            "tags": []
          },
          "execution_count": 232
        }
      ]
    },
    {
      "cell_type": "code",
      "metadata": {
        "ExecuteTime": {
          "end_time": "2021-01-16T16:21:54.324857Z",
          "start_time": "2021-01-16T16:21:54.310689Z"
        },
        "id": "7uArVgcc39Od"
      },
      "source": [
        "#creamos rejilla\n",
        "param_grid = {\"solver\": [\"svd\", \"lsqr\", \"eigen\"],\n",
        "              \"shrinkage\": [None, \"auto\"] + [x/100 for x in range(2)]+[x for x in range(2)],\n",
        "              \"tol\":[x/100 for x in range(2)]+[x for x in range(2)] }"
      ],
      "execution_count": 233,
      "outputs": []
    },
    {
      "cell_type": "code",
      "metadata": {
        "colab": {
          "base_uri": "https://localhost:8080/"
        },
        "id": "Rc2fV921MB8k",
        "outputId": "19651514-9d65-4b34-9d24-7c3327d87519"
      },
      "source": [
        "param_grid"
      ],
      "execution_count": 234,
      "outputs": [
        {
          "output_type": "execute_result",
          "data": {
            "text/plain": [
              "{'shrinkage': [None, 'auto', 0.0, 0.01, 0, 1],\n",
              " 'solver': ['svd', 'lsqr', 'eigen'],\n",
              " 'tol': [0.0, 0.01, 0, 1]}"
            ]
          },
          "metadata": {
            "tags": []
          },
          "execution_count": 234
        }
      ]
    },
    {
      "cell_type": "code",
      "metadata": {
        "colab": {
          "base_uri": "https://localhost:8080/"
        },
        "id": "whpDAli4M4Bp",
        "outputId": "dbe150d3-baf3-40dd-cc82-27b6b7fcff56"
      },
      "source": [
        "list(map(len, param_grid.values()))"
      ],
      "execution_count": 235,
      "outputs": [
        {
          "output_type": "execute_result",
          "data": {
            "text/plain": [
              "[3, 6, 4]"
            ]
          },
          "metadata": {
            "tags": []
          },
          "execution_count": 235
        }
      ]
    },
    {
      "cell_type": "code",
      "metadata": {
        "ExecuteTime": {
          "end_time": "2021-01-16T16:21:55.825580Z",
          "start_time": "2021-01-16T16:21:55.809320Z"
        },
        "id": "EFEdBMWd39Og",
        "colab": {
          "base_uri": "https://localhost:8080/"
        },
        "outputId": "e5c8ade6-e17a-4c54-d30f-59ed233c5e1e"
      },
      "source": [
        "np.prod(list(map(len, param_grid.values())))"
      ],
      "execution_count": 236,
      "outputs": [
        {
          "output_type": "execute_result",
          "data": {
            "text/plain": [
              "72"
            ]
          },
          "metadata": {
            "tags": []
          },
          "execution_count": 236
        }
      ]
    },
    {
      "cell_type": "code",
      "metadata": {
        "ExecuteTime": {
          "end_time": "2021-01-16T16:22:12.860547Z",
          "start_time": "2021-01-16T16:22:12.853772Z"
        },
        "id": "RiO54Sa3X4gG"
      },
      "source": [
        "#Intanceamos el escalador\r\n",
        "sc = MinMaxScaler()\r\n",
        "sc.fit(X_train)\r\n",
        "Xs = sc.transform(X_train)"
      ],
      "execution_count": 241,
      "outputs": []
    },
    {
      "cell_type": "code",
      "metadata": {
        "ExecuteTime": {
          "end_time": "2021-01-16T16:22:15.625783Z",
          "start_time": "2021-01-16T16:22:15.556994Z"
        },
        "id": "BvSU6qqjX4gG",
        "colab": {
          "base_uri": "https://localhost:8080/"
        },
        "outputId": "49938f10-f7f8-4132-f8b2-2f1ea10445d0"
      },
      "source": [
        "#Rapidamente seleccionamor las mejores 5 variables de nuestro set con SelectKBest\r\n",
        "kb = SelectKBest(k = 8, score_func=f_classif)\r\n",
        "kb.fit(Xs, y_train)\r\n",
        "Xb = kb.transform(Xs)\r\n",
        "Xb"
      ],
      "execution_count": 242,
      "outputs": [
        {
          "output_type": "execute_result",
          "data": {
            "text/plain": [
              "array([[2.63157895e-02, 7.81250000e-03, 2.76698667e-04, ...,\n",
              "        3.57879758e-03, 3.10577563e-02, 3.08384881e-02],\n",
              "       [1.64473684e-02, 1.56250000e-02, 2.76698667e-04, ...,\n",
              "        3.43887110e-03, 1.48884340e-01, 2.18221565e-02],\n",
              "       [9.86842105e-03, 1.56250000e-02, 2.76698667e-04, ...,\n",
              "        5.43104471e-04, 7.97057093e-01, 7.19619709e-02],\n",
              "       ...,\n",
              "       [4.93421053e-02, 7.03125000e-02, 2.76698667e-04, ...,\n",
              "        1.84987549e-02, 3.62333414e-02, 4.45143327e-01],\n",
              "       [9.53947368e-02, 1.95312500e-01, 2.76698667e-04, ...,\n",
              "        1.52733310e-01, 2.71781127e-02, 9.71248794e-01],\n",
              "       [3.94736842e-02, 1.56250000e-02, 2.76698667e-04, ...,\n",
              "        9.81264082e-04, 3.38264842e-01, 2.15874791e-02]])"
            ]
          },
          "metadata": {
            "tags": []
          },
          "execution_count": 242
        }
      ]
    },
    {
      "cell_type": "code",
      "metadata": {
        "colab": {
          "base_uri": "https://localhost:8080/"
        },
        "id": "EoBai5oeN2nh",
        "outputId": "4b17d8e0-b682-47ea-eafb-40e5bebf6c67"
      },
      "source": [
        "kb.get_support()"
      ],
      "execution_count": 243,
      "outputs": [
        {
          "output_type": "execute_result",
          "data": {
            "text/plain": [
              "array([False, False, False, False, False,  True, False,  True, False,\n",
              "       False, False, False, False, False, False, False, False,  True,\n",
              "        True,  True, False, False,  True, False, False,  True,  True,\n",
              "       False, False, False, False, False, False, False, False, False,\n",
              "       False, False, False, False, False, False, False, False])"
            ]
          },
          "metadata": {
            "tags": []
          },
          "execution_count": 243
        }
      ]
    },
    {
      "cell_type": "code",
      "metadata": {
        "ExecuteTime": {
          "end_time": "2021-01-16T16:22:21.031278Z",
          "start_time": "2021-01-16T16:22:21.021070Z"
        },
        "id": "OX_87FC2X4gH",
        "colab": {
          "base_uri": "https://localhost:8080/"
        },
        "outputId": "8e217928-80d0-464f-aeb1-897a84256d87"
      },
      "source": [
        "#Nos qudamos con las variables que el modelo nos indica que sirven\n",
        "ls_best = [x for x, y in zip(ls_cont, kb.get_support()) if y]\n",
        "ls_best\n"
      ],
      "execution_count": 244,
      "outputs": [
        {
          "output_type": "execute_result",
          "data": {
            "text/plain": [
              "['num_hrefs',\n",
              " 'num_imgs',\n",
              " 'kw_min_avg',\n",
              " 'kw_max_avg',\n",
              " 'kw_avg_avg',\n",
              " 'self_reference_avg_sharess',\n",
              " 'LDA_02',\n",
              " 'LDA_03']"
            ]
          },
          "metadata": {
            "tags": []
          },
          "execution_count": 244
        }
      ]
    },
    {
      "cell_type": "code",
      "metadata": {
        "colab": {
          "base_uri": "https://localhost:8080/",
          "height": 1000
        },
        "id": "MTKaqcUBPil8",
        "outputId": "3780eb51-8d3d-47f4-e32c-845f89147647"
      },
      "source": [
        "#Veamos los valores que le dio a cada variable\r\n",
        "pd.DataFrame(zip(ls_cont, kb.scores_)).sort_values(by = 1)"
      ],
      "execution_count": 245,
      "outputs": [
        {
          "output_type": "execute_result",
          "data": {
            "text/html": [
              "<div>\n",
              "<style scoped>\n",
              "    .dataframe tbody tr th:only-of-type {\n",
              "        vertical-align: middle;\n",
              "    }\n",
              "\n",
              "    .dataframe tbody tr th {\n",
              "        vertical-align: top;\n",
              "    }\n",
              "\n",
              "    .dataframe thead th {\n",
              "        text-align: right;\n",
              "    }\n",
              "</style>\n",
              "<table border=\"1\" class=\"dataframe\">\n",
              "  <thead>\n",
              "    <tr style=\"text-align: right;\">\n",
              "      <th></th>\n",
              "      <th>0</th>\n",
              "      <th>1</th>\n",
              "    </tr>\n",
              "  </thead>\n",
              "  <tbody>\n",
              "    <tr>\n",
              "      <th>11</th>\n",
              "      <td>kw_min_min</td>\n",
              "      <td>0.000865</td>\n",
              "    </tr>\n",
              "    <tr>\n",
              "      <th>24</th>\n",
              "      <td>LDA_01</td>\n",
              "      <td>0.004291</td>\n",
              "    </tr>\n",
              "    <tr>\n",
              "      <th>2</th>\n",
              "      <td>n_unique_tokens</td>\n",
              "      <td>0.149810</td>\n",
              "    </tr>\n",
              "    <tr>\n",
              "      <th>3</th>\n",
              "      <td>n_non_stop_words</td>\n",
              "      <td>0.243739</td>\n",
              "    </tr>\n",
              "    <tr>\n",
              "      <th>0</th>\n",
              "      <td>n_tokens_title</td>\n",
              "      <td>0.282279</td>\n",
              "    </tr>\n",
              "    <tr>\n",
              "      <th>4</th>\n",
              "      <td>n_non_stop_unique_tokens</td>\n",
              "      <td>0.312715</td>\n",
              "    </tr>\n",
              "    <tr>\n",
              "      <th>33</th>\n",
              "      <td>rate_negative_words</td>\n",
              "      <td>0.343134</td>\n",
              "    </tr>\n",
              "    <tr>\n",
              "      <th>30</th>\n",
              "      <td>global_rate_positive_words</td>\n",
              "      <td>0.550437</td>\n",
              "    </tr>\n",
              "    <tr>\n",
              "      <th>6</th>\n",
              "      <td>num_self_hrefs</td>\n",
              "      <td>0.607167</td>\n",
              "    </tr>\n",
              "    <tr>\n",
              "      <th>1</th>\n",
              "      <td>n_tokens_content</td>\n",
              "      <td>0.785236</td>\n",
              "    </tr>\n",
              "    <tr>\n",
              "      <th>42</th>\n",
              "      <td>abs_title_subjectivity</td>\n",
              "      <td>1.608617</td>\n",
              "    </tr>\n",
              "    <tr>\n",
              "      <th>29</th>\n",
              "      <td>global_sentiment_polarity</td>\n",
              "      <td>4.163803</td>\n",
              "    </tr>\n",
              "    <tr>\n",
              "      <th>14</th>\n",
              "      <td>kw_min_max</td>\n",
              "      <td>4.772715</td>\n",
              "    </tr>\n",
              "    <tr>\n",
              "      <th>39</th>\n",
              "      <td>max_negative_polarity</td>\n",
              "      <td>6.272896</td>\n",
              "    </tr>\n",
              "    <tr>\n",
              "      <th>15</th>\n",
              "      <td>kw_max_max</td>\n",
              "      <td>7.027702</td>\n",
              "    </tr>\n",
              "    <tr>\n",
              "      <th>31</th>\n",
              "      <td>global_rate_negative_words</td>\n",
              "      <td>7.827295</td>\n",
              "    </tr>\n",
              "    <tr>\n",
              "      <th>35</th>\n",
              "      <td>min_positive_polarity</td>\n",
              "      <td>8.552997</td>\n",
              "    </tr>\n",
              "    <tr>\n",
              "      <th>36</th>\n",
              "      <td>max_positive_polarity</td>\n",
              "      <td>10.747792</td>\n",
              "    </tr>\n",
              "    <tr>\n",
              "      <th>12</th>\n",
              "      <td>kw_max_min</td>\n",
              "      <td>13.956715</td>\n",
              "    </tr>\n",
              "    <tr>\n",
              "      <th>27</th>\n",
              "      <td>LDA_04</td>\n",
              "      <td>15.051044</td>\n",
              "    </tr>\n",
              "    <tr>\n",
              "      <th>13</th>\n",
              "      <td>kw_avg_min</td>\n",
              "      <td>15.171091</td>\n",
              "    </tr>\n",
              "    <tr>\n",
              "      <th>41</th>\n",
              "      <td>title_sentiment_polarity</td>\n",
              "      <td>16.516988</td>\n",
              "    </tr>\n",
              "    <tr>\n",
              "      <th>23</th>\n",
              "      <td>LDA_00</td>\n",
              "      <td>17.954457</td>\n",
              "    </tr>\n",
              "    <tr>\n",
              "      <th>32</th>\n",
              "      <td>rate_positive_words</td>\n",
              "      <td>18.938031</td>\n",
              "    </tr>\n",
              "    <tr>\n",
              "      <th>10</th>\n",
              "      <td>num_keywords</td>\n",
              "      <td>21.602093</td>\n",
              "    </tr>\n",
              "    <tr>\n",
              "      <th>38</th>\n",
              "      <td>min_negative_polarity</td>\n",
              "      <td>21.703296</td>\n",
              "    </tr>\n",
              "    <tr>\n",
              "      <th>34</th>\n",
              "      <td>avg_positive_polarity</td>\n",
              "      <td>26.090386</td>\n",
              "    </tr>\n",
              "    <tr>\n",
              "      <th>9</th>\n",
              "      <td>average_token_length</td>\n",
              "      <td>37.394406</td>\n",
              "    </tr>\n",
              "    <tr>\n",
              "      <th>37</th>\n",
              "      <td>avg_negative_polarity</td>\n",
              "      <td>44.335540</td>\n",
              "    </tr>\n",
              "    <tr>\n",
              "      <th>8</th>\n",
              "      <td>num_videos</td>\n",
              "      <td>53.263222</td>\n",
              "    </tr>\n",
              "    <tr>\n",
              "      <th>28</th>\n",
              "      <td>global_subjectivity</td>\n",
              "      <td>83.394215</td>\n",
              "    </tr>\n",
              "    <tr>\n",
              "      <th>43</th>\n",
              "      <td>abs_title_sentiment_polarity</td>\n",
              "      <td>83.504674</td>\n",
              "    </tr>\n",
              "    <tr>\n",
              "      <th>40</th>\n",
              "      <td>title_subjectivity</td>\n",
              "      <td>85.446129</td>\n",
              "    </tr>\n",
              "    <tr>\n",
              "      <th>20</th>\n",
              "      <td>self_reference_min_shares</td>\n",
              "      <td>87.018221</td>\n",
              "    </tr>\n",
              "    <tr>\n",
              "      <th>21</th>\n",
              "      <td>self_reference_max_shares</td>\n",
              "      <td>88.547866</td>\n",
              "    </tr>\n",
              "    <tr>\n",
              "      <th>16</th>\n",
              "      <td>kw_avg_max</td>\n",
              "      <td>94.303052</td>\n",
              "    </tr>\n",
              "    <tr>\n",
              "      <th>22</th>\n",
              "      <td>self_reference_avg_sharess</td>\n",
              "      <td>114.707061</td>\n",
              "    </tr>\n",
              "    <tr>\n",
              "      <th>17</th>\n",
              "      <td>kw_min_avg</td>\n",
              "      <td>147.257347</td>\n",
              "    </tr>\n",
              "    <tr>\n",
              "      <th>7</th>\n",
              "      <td>num_imgs</td>\n",
              "      <td>150.973452</td>\n",
              "    </tr>\n",
              "    <tr>\n",
              "      <th>5</th>\n",
              "      <td>num_hrefs</td>\n",
              "      <td>155.686979</td>\n",
              "    </tr>\n",
              "    <tr>\n",
              "      <th>18</th>\n",
              "      <td>kw_max_avg</td>\n",
              "      <td>248.583795</td>\n",
              "    </tr>\n",
              "    <tr>\n",
              "      <th>25</th>\n",
              "      <td>LDA_02</td>\n",
              "      <td>266.402374</td>\n",
              "    </tr>\n",
              "    <tr>\n",
              "      <th>26</th>\n",
              "      <td>LDA_03</td>\n",
              "      <td>539.671637</td>\n",
              "    </tr>\n",
              "    <tr>\n",
              "      <th>19</th>\n",
              "      <td>kw_avg_avg</td>\n",
              "      <td>883.190039</td>\n",
              "    </tr>\n",
              "  </tbody>\n",
              "</table>\n",
              "</div>"
            ],
            "text/plain": [
              "                               0           1\n",
              "11                    kw_min_min    0.000865\n",
              "24                        LDA_01    0.004291\n",
              "2                n_unique_tokens    0.149810\n",
              "3               n_non_stop_words    0.243739\n",
              "0                 n_tokens_title    0.282279\n",
              "4       n_non_stop_unique_tokens    0.312715\n",
              "33           rate_negative_words    0.343134\n",
              "30    global_rate_positive_words    0.550437\n",
              "6                 num_self_hrefs    0.607167\n",
              "1               n_tokens_content    0.785236\n",
              "42        abs_title_subjectivity    1.608617\n",
              "29     global_sentiment_polarity    4.163803\n",
              "14                    kw_min_max    4.772715\n",
              "39         max_negative_polarity    6.272896\n",
              "15                    kw_max_max    7.027702\n",
              "31    global_rate_negative_words    7.827295\n",
              "35         min_positive_polarity    8.552997\n",
              "36         max_positive_polarity   10.747792\n",
              "12                    kw_max_min   13.956715\n",
              "27                        LDA_04   15.051044\n",
              "13                    kw_avg_min   15.171091\n",
              "41      title_sentiment_polarity   16.516988\n",
              "23                        LDA_00   17.954457\n",
              "32           rate_positive_words   18.938031\n",
              "10                  num_keywords   21.602093\n",
              "38         min_negative_polarity   21.703296\n",
              "34         avg_positive_polarity   26.090386\n",
              "9           average_token_length   37.394406\n",
              "37         avg_negative_polarity   44.335540\n",
              "8                     num_videos   53.263222\n",
              "28           global_subjectivity   83.394215\n",
              "43  abs_title_sentiment_polarity   83.504674\n",
              "40            title_subjectivity   85.446129\n",
              "20     self_reference_min_shares   87.018221\n",
              "21     self_reference_max_shares   88.547866\n",
              "16                    kw_avg_max   94.303052\n",
              "22    self_reference_avg_sharess  114.707061\n",
              "17                    kw_min_avg  147.257347\n",
              "7                       num_imgs  150.973452\n",
              "5                      num_hrefs  155.686979\n",
              "18                    kw_max_avg  248.583795\n",
              "25                        LDA_02  266.402374\n",
              "26                        LDA_03  539.671637\n",
              "19                    kw_avg_avg  883.190039"
            ]
          },
          "metadata": {
            "tags": []
          },
          "execution_count": 245
        }
      ]
    },
    {
      "cell_type": "code",
      "metadata": {
        "ExecuteTime": {
          "end_time": "2021-01-16T16:22:51.130844Z",
          "start_time": "2021-01-16T16:22:51.118684Z"
        },
        "id": "axSe8RSl39Ok"
      },
      "source": [
        "#Definimos la busqueda mediante 'GridSearchCV' buscara por cada parametro indicado\r\n",
        "rs = GridSearchCV(cv=4, error_score=-1000, estimator=lda, n_jobs=-1,\r\n",
        "                  scoring=\"roc_auc\", param_grid=param_grid, verbose=True)"
      ],
      "execution_count": 246,
      "outputs": []
    },
    {
      "cell_type": "code",
      "metadata": {
        "ExecuteTime": {
          "end_time": "2021-01-16T16:23:06.169644Z",
          "start_time": "2021-01-16T16:22:56.101589Z"
        },
        "id": "NjN-6af039Oo",
        "colab": {
          "base_uri": "https://localhost:8080/"
        },
        "outputId": "5f76f4fc-321c-4e26-ac28-af27c17605f9"
      },
      "source": [
        "#Iniciamos el entrenamiento de los modelos\n",
        "rs.fit(X=Xb, y=y_train)"
      ],
      "execution_count": 247,
      "outputs": [
        {
          "output_type": "stream",
          "text": [
            "Fitting 4 folds for each of 72 candidates, totalling 288 fits\n"
          ],
          "name": "stdout"
        },
        {
          "output_type": "stream",
          "text": [
            "[Parallel(n_jobs=-1)]: Using backend LokyBackend with 2 concurrent workers.\n",
            "[Parallel(n_jobs=-1)]: Done 164 tasks      | elapsed:    4.0s\n",
            "[Parallel(n_jobs=-1)]: Done 288 out of 288 | elapsed:    6.6s finished\n"
          ],
          "name": "stderr"
        },
        {
          "output_type": "execute_result",
          "data": {
            "text/plain": [
              "GridSearchCV(cv=4, error_score=-1000,\n",
              "             estimator=LinearDiscriminantAnalysis(n_components=None,\n",
              "                                                  priors=None, shrinkage=None,\n",
              "                                                  solver='svd',\n",
              "                                                  store_covariance=False,\n",
              "                                                  tol=0.0001),\n",
              "             iid='deprecated', n_jobs=-1,\n",
              "             param_grid={'shrinkage': [None, 'auto', 0.0, 0.01, 0, 1],\n",
              "                         'solver': ['svd', 'lsqr', 'eigen'],\n",
              "                         'tol': [0.0, 0.01, 0, 1]},\n",
              "             pre_dispatch='2*n_jobs', refit=True, return_train_score=False,\n",
              "             scoring='roc_auc', verbose=True)"
            ]
          },
          "metadata": {
            "tags": []
          },
          "execution_count": 247
        }
      ]
    },
    {
      "cell_type": "code",
      "metadata": {
        "ExecuteTime": {
          "end_time": "2021-01-16T16:23:11.597048Z",
          "start_time": "2021-01-16T16:23:11.592767Z"
        },
        "id": "24fbKy0C39Os",
        "colab": {
          "base_uri": "https://localhost:8080/"
        },
        "outputId": "9de1efce-1238-43c1-f7f1-19d59f982f20"
      },
      "source": [
        "#Por medio de \".best_score_\" podemos encontrar \r\n",
        "rs.best_score_"
      ],
      "execution_count": 248,
      "outputs": [
        {
          "output_type": "execute_result",
          "data": {
            "text/plain": [
              "0.6838588202239281"
            ]
          },
          "metadata": {
            "tags": []
          },
          "execution_count": 248
        }
      ]
    },
    {
      "cell_type": "code",
      "metadata": {
        "ExecuteTime": {
          "end_time": "2021-01-16T16:23:16.454113Z",
          "start_time": "2021-01-16T16:23:16.429508Z"
        },
        "id": "agSe4AUTX4gH",
        "colab": {
          "base_uri": "https://localhost:8080/",
          "height": 277
        },
        "outputId": "738e0b4c-d148-4dd0-8552-0dcd39779db3"
      },
      "source": [
        "pd.DataFrame(zip(ls_best, rs.best_estimator_.coef_[0])).sort_values(by = 1)"
      ],
      "execution_count": 249,
      "outputs": [
        {
          "output_type": "execute_result",
          "data": {
            "text/html": [
              "<div>\n",
              "<style scoped>\n",
              "    .dataframe tbody tr th:only-of-type {\n",
              "        vertical-align: middle;\n",
              "    }\n",
              "\n",
              "    .dataframe tbody tr th {\n",
              "        vertical-align: top;\n",
              "    }\n",
              "\n",
              "    .dataframe thead th {\n",
              "        text-align: right;\n",
              "    }\n",
              "</style>\n",
              "<table border=\"1\" class=\"dataframe\">\n",
              "  <thead>\n",
              "    <tr style=\"text-align: right;\">\n",
              "      <th></th>\n",
              "      <th>0</th>\n",
              "      <th>1</th>\n",
              "    </tr>\n",
              "  </thead>\n",
              "  <tbody>\n",
              "    <tr>\n",
              "      <th>3</th>\n",
              "      <td>kw_max_avg</td>\n",
              "      <td>-26.985636</td>\n",
              "    </tr>\n",
              "    <tr>\n",
              "      <th>2</th>\n",
              "      <td>kw_min_avg</td>\n",
              "      <td>-0.693212</td>\n",
              "    </tr>\n",
              "    <tr>\n",
              "      <th>6</th>\n",
              "      <td>LDA_02</td>\n",
              "      <td>-0.270421</td>\n",
              "    </tr>\n",
              "    <tr>\n",
              "      <th>7</th>\n",
              "      <td>LDA_03</td>\n",
              "      <td>0.298626</td>\n",
              "    </tr>\n",
              "    <tr>\n",
              "      <th>1</th>\n",
              "      <td>num_imgs</td>\n",
              "      <td>1.136075</td>\n",
              "    </tr>\n",
              "    <tr>\n",
              "      <th>0</th>\n",
              "      <td>num_hrefs</td>\n",
              "      <td>3.557857</td>\n",
              "    </tr>\n",
              "    <tr>\n",
              "      <th>5</th>\n",
              "      <td>self_reference_avg_sharess</td>\n",
              "      <td>4.407556</td>\n",
              "    </tr>\n",
              "    <tr>\n",
              "      <th>4</th>\n",
              "      <td>kw_avg_avg</td>\n",
              "      <td>33.580820</td>\n",
              "    </tr>\n",
              "  </tbody>\n",
              "</table>\n",
              "</div>"
            ],
            "text/plain": [
              "                            0          1\n",
              "3                  kw_max_avg -26.985636\n",
              "2                  kw_min_avg  -0.693212\n",
              "6                      LDA_02  -0.270421\n",
              "7                      LDA_03   0.298626\n",
              "1                    num_imgs   1.136075\n",
              "0                   num_hrefs   3.557857\n",
              "5  self_reference_avg_sharess   4.407556\n",
              "4                  kw_avg_avg  33.580820"
            ]
          },
          "metadata": {
            "tags": []
          },
          "execution_count": 249
        }
      ]
    },
    {
      "cell_type": "markdown",
      "metadata": {
        "id": "ggxxgMufxpvv"
      },
      "source": [
        "# Set de prueba"
      ]
    },
    {
      "cell_type": "code",
      "metadata": {
        "id": "Ct90uJ8BvvnT"
      },
      "source": [
        "#Escalamos las variables con lo aprendido del set de entrenamiento\r\n",
        "Xt=sc.transform(X_test)"
      ],
      "execution_count": 250,
      "outputs": []
    },
    {
      "cell_type": "code",
      "metadata": {
        "colab": {
          "base_uri": "https://localhost:8080/"
        },
        "id": "RU_adO-av_0k",
        "outputId": "cb395982-c477-488a-d6d7-602b9860972f"
      },
      "source": [
        "#Transformamos el set escalado de prueba con lo aprendido del KbEST\r\n",
        "kb.transform(Xt) "
      ],
      "execution_count": 251,
      "outputs": [
        {
          "output_type": "execute_result",
          "data": {
            "text/plain": [
              "array([[6.25000000e-02, 0.00000000e+00, 2.76698667e-04, ...,\n",
              "        3.23728211e-02, 1.63216416e-01, 7.00771471e-01],\n",
              "       [1.97368421e-02, 0.00000000e+00, 1.16213440e-02, ...,\n",
              "        1.00794498e-02, 2.17439039e-02, 8.99190360e-02],\n",
              "       [1.31578947e-02, 0.00000000e+00, 2.76698667e-04, ...,\n",
              "        2.72738053e-03, 2.71746963e-02, 2.71946027e-02],\n",
              "       ...,\n",
              "       [2.30263158e-02, 7.81250000e-03, 4.73677373e-01, ...,\n",
              "        1.42298115e-03, 7.32945531e-02, 7.19602559e-02],\n",
              "       [0.00000000e+00, 0.00000000e+00, 6.79672543e-01, ...,\n",
              "        0.00000000e+00, 3.10842759e-02, 9.55202119e-01],\n",
              "       [2.96052632e-02, 7.81250000e-03, 6.58483444e-01, ...,\n",
              "        0.00000000e+00, 6.28260654e-01, 2.40704348e-02]])"
            ]
          },
          "metadata": {
            "tags": []
          },
          "execution_count": 251
        }
      ]
    },
    {
      "cell_type": "code",
      "metadata": {
        "ExecuteTime": {
          "end_time": "2021-01-16T16:23:34.111576Z",
          "start_time": "2021-01-16T16:23:34.090786Z"
        },
        "id": "uOzWAT6cX4gI"
      },
      "source": [
        "#Predecimos\r\n",
        "predicciones=rs.predict(kb.transform(Xt))"
      ],
      "execution_count": 252,
      "outputs": []
    },
    {
      "cell_type": "code",
      "metadata": {
        "id": "Ua6wBDNYX4gI",
        "colab": {
          "base_uri": "https://localhost:8080/"
        },
        "outputId": "280375fa-230c-4856-8123-430c8c8ae87d"
      },
      "source": [
        "from sklearn.metrics import roc_auc_score\r\n",
        "roc_auc_score(y_test, pd.Series(predicciones))"
      ],
      "execution_count": 253,
      "outputs": [
        {
          "output_type": "execute_result",
          "data": {
            "text/plain": [
              "0.5050840235890912"
            ]
          },
          "metadata": {
            "tags": []
          },
          "execution_count": 253
        }
      ]
    }
  ]
}