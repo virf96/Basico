{
  "nbformat": 4,
  "nbformat_minor": 0,
  "metadata": {
    "colab": {
      "name": "GradienteEstocásticoDescendente_CrossValidation_GridSearch.ipynb",
      "provenance": [],
      "toc_visible": true,
      "include_colab_link": true
    },
    "kernelspec": {
      "display_name": "diplo_env",
      "language": "python",
      "name": "diplo_env"
    },
    "language_info": {
      "codemirror_mode": {
        "name": "ipython",
        "version": 3
      },
      "file_extension": ".py",
      "mimetype": "text/x-python",
      "name": "python",
      "nbconvert_exporter": "python",
      "pygments_lexer": "ipython3",
      "version": "3.6.11"
    },
    "notify_time": "5",
    "varInspector": {
      "cols": {
        "lenName": 16,
        "lenType": 16,
        "lenVar": 40
      },
      "kernels_config": {
        "python": {
          "delete_cmd_postfix": "",
          "delete_cmd_prefix": "del ",
          "library": "var_list.py",
          "varRefreshCmd": "print(var_dic_list())"
        },
        "r": {
          "delete_cmd_postfix": ") ",
          "delete_cmd_prefix": "rm(",
          "library": "var_list.r",
          "varRefreshCmd": "cat(var_dic_list()) "
        }
      },
      "types_to_exclude": [
        "module",
        "function",
        "builtin_function_or_method",
        "instance",
        "_Feature"
      ],
      "window_display": false
    }
  },
  "cells": [
    {
      "cell_type": "markdown",
      "metadata": {
        "id": "view-in-github",
        "colab_type": "text"
      },
      "source": [
        "<a href=\"https://colab.research.google.com/github/virf96/Basico/blob/main/GradienteEstoc%C3%A1sticoDescendente_CrossValidation_GridSearch.ipynb\" target=\"_parent\"><img src=\"https://colab.research.google.com/assets/colab-badge.svg\" alt=\"Open In Colab\"/></a>"
      ]
    },
    {
      "cell_type": "code",
      "metadata": {
        "ExecuteTime": {
          "end_time": "2021-01-16T16:25:56.781063Z",
          "start_time": "2021-01-16T16:25:56.093400Z"
        },
        "id": "KRUQBBSJ7uXw"
      },
      "source": [
        "import numpy as np\n",
        "import pandas as pd\n",
        "from sklearn.preprocessing import MinMaxScaler\n",
        "from sklearn.linear_model import SGDClassifier, SGDRegressor\n",
        "from sklearn.model_selection import cross_val_score, train_test_split, GridSearchCV, RandomizedSearchCV\n",
        "\n",
        "pd.set_option(\"max_columns\", 500)\n",
        "pd.set_option('display.float_format', lambda x: \"{:,.4f}\".format(x))"
      ],
      "execution_count": 77,
      "outputs": []
    },
    {
      "cell_type": "code",
      "metadata": {
        "colab": {
          "base_uri": "https://localhost:8080/"
        },
        "id": "6IuPutkYQQGz",
        "outputId": "d7a4684a-cb6a-43a0-88fd-767550e9ea94"
      },
      "source": [
        "from google.colab import drive\n",
        "drive.mount('/content/drive')"
      ],
      "execution_count": 78,
      "outputs": [
        {
          "output_type": "stream",
          "text": [
            "Drive already mounted at /content/drive; to attempt to forcibly remount, call drive.mount(\"/content/drive\", force_remount=True).\n"
          ],
          "name": "stdout"
        }
      ]
    },
    {
      "cell_type": "code",
      "metadata": {
        "ExecuteTime": {
          "end_time": "2021-01-16T16:26:21.214589Z",
          "start_time": "2021-01-16T16:26:21.198927Z"
        },
        "id": "4HNuUo62ZW_S"
      },
      "source": [
        "df = pd.read_csv(\"/content/drive/MyDrive/datasets/winequality-red.csv\", sep=\";\")"
      ],
      "execution_count": 105,
      "outputs": []
    },
    {
      "cell_type": "code",
      "metadata": {
        "ExecuteTime": {
          "end_time": "2021-01-16T16:26:23.062352Z",
          "start_time": "2021-01-16T16:26:22.942655Z"
        },
        "id": "ylO53GDYZW_T",
        "colab": {
          "base_uri": "https://localhost:8080/",
          "height": 293
        },
        "outputId": "f07a5d52-f5db-426e-9503-c7ec5335d1df"
      },
      "source": [
        "df.describe()"
      ],
      "execution_count": 80,
      "outputs": [
        {
          "output_type": "execute_result",
          "data": {
            "text/html": [
              "<div>\n",
              "<style scoped>\n",
              "    .dataframe tbody tr th:only-of-type {\n",
              "        vertical-align: middle;\n",
              "    }\n",
              "\n",
              "    .dataframe tbody tr th {\n",
              "        vertical-align: top;\n",
              "    }\n",
              "\n",
              "    .dataframe thead th {\n",
              "        text-align: right;\n",
              "    }\n",
              "</style>\n",
              "<table border=\"1\" class=\"dataframe\">\n",
              "  <thead>\n",
              "    <tr style=\"text-align: right;\">\n",
              "      <th></th>\n",
              "      <th>fixed acidity</th>\n",
              "      <th>volatile acidity</th>\n",
              "      <th>citric acid</th>\n",
              "      <th>residual sugar</th>\n",
              "      <th>chlorides</th>\n",
              "      <th>free sulfur dioxide</th>\n",
              "      <th>total sulfur dioxide</th>\n",
              "      <th>density</th>\n",
              "      <th>pH</th>\n",
              "      <th>sulphates</th>\n",
              "      <th>alcohol</th>\n",
              "      <th>quality</th>\n",
              "    </tr>\n",
              "  </thead>\n",
              "  <tbody>\n",
              "    <tr>\n",
              "      <th>count</th>\n",
              "      <td>1,599.0000</td>\n",
              "      <td>1,599.0000</td>\n",
              "      <td>1,599.0000</td>\n",
              "      <td>1,599.0000</td>\n",
              "      <td>1,599.0000</td>\n",
              "      <td>1,599.0000</td>\n",
              "      <td>1,599.0000</td>\n",
              "      <td>1,599.0000</td>\n",
              "      <td>1,599.0000</td>\n",
              "      <td>1,599.0000</td>\n",
              "      <td>1,599.0000</td>\n",
              "      <td>1,599.0000</td>\n",
              "    </tr>\n",
              "    <tr>\n",
              "      <th>mean</th>\n",
              "      <td>8.3196</td>\n",
              "      <td>0.5278</td>\n",
              "      <td>0.2710</td>\n",
              "      <td>2.5388</td>\n",
              "      <td>0.0875</td>\n",
              "      <td>15.8749</td>\n",
              "      <td>46.4678</td>\n",
              "      <td>0.9967</td>\n",
              "      <td>3.3111</td>\n",
              "      <td>0.6581</td>\n",
              "      <td>10.4230</td>\n",
              "      <td>5.6360</td>\n",
              "    </tr>\n",
              "    <tr>\n",
              "      <th>std</th>\n",
              "      <td>1.7411</td>\n",
              "      <td>0.1791</td>\n",
              "      <td>0.1948</td>\n",
              "      <td>1.4099</td>\n",
              "      <td>0.0471</td>\n",
              "      <td>10.4602</td>\n",
              "      <td>32.8953</td>\n",
              "      <td>0.0019</td>\n",
              "      <td>0.1544</td>\n",
              "      <td>0.1695</td>\n",
              "      <td>1.0657</td>\n",
              "      <td>0.8076</td>\n",
              "    </tr>\n",
              "    <tr>\n",
              "      <th>min</th>\n",
              "      <td>4.6000</td>\n",
              "      <td>0.1200</td>\n",
              "      <td>0.0000</td>\n",
              "      <td>0.9000</td>\n",
              "      <td>0.0120</td>\n",
              "      <td>1.0000</td>\n",
              "      <td>6.0000</td>\n",
              "      <td>0.9901</td>\n",
              "      <td>2.7400</td>\n",
              "      <td>0.3300</td>\n",
              "      <td>8.4000</td>\n",
              "      <td>3.0000</td>\n",
              "    </tr>\n",
              "    <tr>\n",
              "      <th>25%</th>\n",
              "      <td>7.1000</td>\n",
              "      <td>0.3900</td>\n",
              "      <td>0.0900</td>\n",
              "      <td>1.9000</td>\n",
              "      <td>0.0700</td>\n",
              "      <td>7.0000</td>\n",
              "      <td>22.0000</td>\n",
              "      <td>0.9956</td>\n",
              "      <td>3.2100</td>\n",
              "      <td>0.5500</td>\n",
              "      <td>9.5000</td>\n",
              "      <td>5.0000</td>\n",
              "    </tr>\n",
              "    <tr>\n",
              "      <th>50%</th>\n",
              "      <td>7.9000</td>\n",
              "      <td>0.5200</td>\n",
              "      <td>0.2600</td>\n",
              "      <td>2.2000</td>\n",
              "      <td>0.0790</td>\n",
              "      <td>14.0000</td>\n",
              "      <td>38.0000</td>\n",
              "      <td>0.9968</td>\n",
              "      <td>3.3100</td>\n",
              "      <td>0.6200</td>\n",
              "      <td>10.2000</td>\n",
              "      <td>6.0000</td>\n",
              "    </tr>\n",
              "    <tr>\n",
              "      <th>75%</th>\n",
              "      <td>9.2000</td>\n",
              "      <td>0.6400</td>\n",
              "      <td>0.4200</td>\n",
              "      <td>2.6000</td>\n",
              "      <td>0.0900</td>\n",
              "      <td>21.0000</td>\n",
              "      <td>62.0000</td>\n",
              "      <td>0.9978</td>\n",
              "      <td>3.4000</td>\n",
              "      <td>0.7300</td>\n",
              "      <td>11.1000</td>\n",
              "      <td>6.0000</td>\n",
              "    </tr>\n",
              "    <tr>\n",
              "      <th>max</th>\n",
              "      <td>15.9000</td>\n",
              "      <td>1.5800</td>\n",
              "      <td>1.0000</td>\n",
              "      <td>15.5000</td>\n",
              "      <td>0.6110</td>\n",
              "      <td>72.0000</td>\n",
              "      <td>289.0000</td>\n",
              "      <td>1.0037</td>\n",
              "      <td>4.0100</td>\n",
              "      <td>2.0000</td>\n",
              "      <td>14.9000</td>\n",
              "      <td>8.0000</td>\n",
              "    </tr>\n",
              "  </tbody>\n",
              "</table>\n",
              "</div>"
            ],
            "text/plain": [
              "       fixed acidity  volatile acidity  citric acid  residual sugar  \\\n",
              "count     1,599.0000        1,599.0000   1,599.0000      1,599.0000   \n",
              "mean          8.3196            0.5278       0.2710          2.5388   \n",
              "std           1.7411            0.1791       0.1948          1.4099   \n",
              "min           4.6000            0.1200       0.0000          0.9000   \n",
              "25%           7.1000            0.3900       0.0900          1.9000   \n",
              "50%           7.9000            0.5200       0.2600          2.2000   \n",
              "75%           9.2000            0.6400       0.4200          2.6000   \n",
              "max          15.9000            1.5800       1.0000         15.5000   \n",
              "\n",
              "       chlorides  free sulfur dioxide  total sulfur dioxide    density  \\\n",
              "count 1,599.0000           1,599.0000            1,599.0000 1,599.0000   \n",
              "mean      0.0875              15.8749               46.4678     0.9967   \n",
              "std       0.0471              10.4602               32.8953     0.0019   \n",
              "min       0.0120               1.0000                6.0000     0.9901   \n",
              "25%       0.0700               7.0000               22.0000     0.9956   \n",
              "50%       0.0790              14.0000               38.0000     0.9968   \n",
              "75%       0.0900              21.0000               62.0000     0.9978   \n",
              "max       0.6110              72.0000              289.0000     1.0037   \n",
              "\n",
              "              pH  sulphates    alcohol    quality  \n",
              "count 1,599.0000 1,599.0000 1,599.0000 1,599.0000  \n",
              "mean      3.3111     0.6581    10.4230     5.6360  \n",
              "std       0.1544     0.1695     1.0657     0.8076  \n",
              "min       2.7400     0.3300     8.4000     3.0000  \n",
              "25%       3.2100     0.5500     9.5000     5.0000  \n",
              "50%       3.3100     0.6200    10.2000     6.0000  \n",
              "75%       3.4000     0.7300    11.1000     6.0000  \n",
              "max       4.0100     2.0000    14.9000     8.0000  "
            ]
          },
          "metadata": {
            "tags": []
          },
          "execution_count": 80
        }
      ]
    },
    {
      "cell_type": "code",
      "metadata": {
        "ExecuteTime": {
          "end_time": "2021-01-16T16:26:50.799596Z",
          "start_time": "2021-01-16T16:26:50.786614Z"
        },
        "id": "NMSTHglTZW_U"
      },
      "source": [
        "X = df[['fixed acidity', 'volatile acidity', 'citric acid', 'residual sugar', 'chlorides', 'free sulfur dioxide', \n",
        "        'total sulfur dioxide', 'density', 'pH', 'sulphates', 'alcohol',]]\n",
        "y = df[[\"quality\"]]"
      ],
      "execution_count": 5,
      "outputs": []
    },
    {
      "cell_type": "markdown",
      "metadata": {
        "id": "QYy1fuigZW_V"
      },
      "source": [
        "### Escalamiento"
      ]
    },
    {
      "cell_type": "code",
      "metadata": {
        "ExecuteTime": {
          "end_time": "2021-01-16T16:27:00.337599Z",
          "start_time": "2021-01-16T16:27:00.329160Z"
        },
        "id": "WVqEgdm9ZW_X",
        "colab": {
          "base_uri": "https://localhost:8080/"
        },
        "outputId": "37893e49-cd1c-4aad-bb25-92cf7d31b2b1"
      },
      "source": [
        "X_train, X_test, y_train, y_test = train_test_split(X, y)\r\n",
        "\r\n",
        "X_train.shape, X_test.shape, y_train.shape, y_test.shape"
      ],
      "execution_count": 7,
      "outputs": [
        {
          "output_type": "execute_result",
          "data": {
            "text/plain": [
              "((1199, 11), (400, 11), (1199, 1), (400, 1))"
            ]
          },
          "metadata": {
            "tags": []
          },
          "execution_count": 7
        }
      ]
    },
    {
      "cell_type": "code",
      "metadata": {
        "ExecuteTime": {
          "end_time": "2021-01-16T16:27:03.564326Z",
          "start_time": "2021-01-16T16:27:03.552918Z"
        },
        "id": "lgzEBUtIZW_X"
      },
      "source": [
        "Sc = MinMaxScaler()\n",
        "Sc.fit(X_train)\n",
        "Xs = Sc.fit_transform(X_train)\n",
        "\n",
        "\n",
        "Sc_y = MinMaxScaler()\n",
        "Sc_y.fit(y_train)\n",
        "ys = Sc_y.transform(y_train)"
      ],
      "execution_count": 8,
      "outputs": []
    },
    {
      "cell_type": "code",
      "metadata": {
        "ExecuteTime": {
          "end_time": "2021-01-16T16:27:52.547763Z",
          "start_time": "2021-01-16T16:27:52.527748Z"
        },
        "id": "bHVR2Nv3ZW_Y",
        "colab": {
          "base_uri": "https://localhost:8080/",
          "height": 391
        },
        "outputId": "0a55e469-2d2a-4dea-88da-29fec6272eb9"
      },
      "source": [
        "pd.DataFrame(ys)"
      ],
      "execution_count": 9,
      "outputs": [
        {
          "output_type": "execute_result",
          "data": {
            "text/html": [
              "<div>\n",
              "<style scoped>\n",
              "    .dataframe tbody tr th:only-of-type {\n",
              "        vertical-align: middle;\n",
              "    }\n",
              "\n",
              "    .dataframe tbody tr th {\n",
              "        vertical-align: top;\n",
              "    }\n",
              "\n",
              "    .dataframe thead th {\n",
              "        text-align: right;\n",
              "    }\n",
              "</style>\n",
              "<table border=\"1\" class=\"dataframe\">\n",
              "  <thead>\n",
              "    <tr style=\"text-align: right;\">\n",
              "      <th></th>\n",
              "      <th>0</th>\n",
              "    </tr>\n",
              "  </thead>\n",
              "  <tbody>\n",
              "    <tr>\n",
              "      <th>0</th>\n",
              "      <td>0.6000</td>\n",
              "    </tr>\n",
              "    <tr>\n",
              "      <th>1</th>\n",
              "      <td>0.4000</td>\n",
              "    </tr>\n",
              "    <tr>\n",
              "      <th>2</th>\n",
              "      <td>0.8000</td>\n",
              "    </tr>\n",
              "    <tr>\n",
              "      <th>3</th>\n",
              "      <td>0.4000</td>\n",
              "    </tr>\n",
              "    <tr>\n",
              "      <th>4</th>\n",
              "      <td>0.4000</td>\n",
              "    </tr>\n",
              "    <tr>\n",
              "      <th>...</th>\n",
              "      <td>...</td>\n",
              "    </tr>\n",
              "    <tr>\n",
              "      <th>1194</th>\n",
              "      <td>0.6000</td>\n",
              "    </tr>\n",
              "    <tr>\n",
              "      <th>1195</th>\n",
              "      <td>0.6000</td>\n",
              "    </tr>\n",
              "    <tr>\n",
              "      <th>1196</th>\n",
              "      <td>0.4000</td>\n",
              "    </tr>\n",
              "    <tr>\n",
              "      <th>1197</th>\n",
              "      <td>0.6000</td>\n",
              "    </tr>\n",
              "    <tr>\n",
              "      <th>1198</th>\n",
              "      <td>0.6000</td>\n",
              "    </tr>\n",
              "  </tbody>\n",
              "</table>\n",
              "<p>1199 rows × 1 columns</p>\n",
              "</div>"
            ],
            "text/plain": [
              "          0\n",
              "0    0.6000\n",
              "1    0.4000\n",
              "2    0.8000\n",
              "3    0.4000\n",
              "4    0.4000\n",
              "...     ...\n",
              "1194 0.6000\n",
              "1195 0.6000\n",
              "1196 0.4000\n",
              "1197 0.6000\n",
              "1198 0.6000\n",
              "\n",
              "[1199 rows x 1 columns]"
            ]
          },
          "metadata": {
            "tags": []
          },
          "execution_count": 9
        }
      ]
    },
    {
      "cell_type": "markdown",
      "metadata": {
        "id": "KSJ4j8ix7uYN"
      },
      "source": [
        "## Modelado "
      ]
    },
    {
      "cell_type": "markdown",
      "metadata": {
        "id": "3uQVLQVmZW_Z"
      },
      "source": [
        "### Regresión"
      ]
    },
    {
      "cell_type": "markdown",
      "metadata": {
        "cell_style": "split",
        "id": "Y_2ezMbbZW_a"
      },
      "source": [
        "####Cross Validation Sin escalamiento"
      ]
    },
    {
      "cell_type": "code",
      "metadata": {
        "ExecuteTime": {
          "end_time": "2021-01-16T16:28:34.782412Z",
          "start_time": "2021-01-16T16:28:33.506552Z"
        },
        "cell_style": "split",
        "id": "oCuQW7Y17uYW",
        "colab": {
          "base_uri": "https://localhost:8080/"
        },
        "outputId": "9f11b654-0cdc-4fb6-e434-f2b1edbcf59f"
      },
      "source": [
        "sgdr = SGDRegressor()\n",
        "sgdr.fit(X_train, y_train)\n",
        "ls_medias = cross_val_score(estimator=sgdr, X=X_train, y=y_train, cv = 4, n_jobs=-1, scoring=\"r2\")\n",
        "np.mean(ls_medias), np.std(ls_medias)"
      ],
      "execution_count": 10,
      "outputs": [
        {
          "output_type": "stream",
          "text": [
            "/usr/local/lib/python3.6/dist-packages/sklearn/utils/validation.py:760: DataConversionWarning: A column-vector y was passed when a 1d array was expected. Please change the shape of y to (n_samples, ), for example using ravel().\n",
            "  y = column_or_1d(y, warn=True)\n"
          ],
          "name": "stderr"
        },
        {
          "output_type": "execute_result",
          "data": {
            "text/plain": [
              "(-9.538516160387163e+24, 1.1339514025759306e+25)"
            ]
          },
          "metadata": {
            "tags": []
          },
          "execution_count": 10
        }
      ]
    },
    {
      "cell_type": "markdown",
      "metadata": {
        "cell_style": "split",
        "id": "2kiJFtnbZW_a"
      },
      "source": [
        "#### Cross Validation Con escalamiento"
      ]
    },
    {
      "cell_type": "code",
      "metadata": {
        "ExecuteTime": {
          "end_time": "2021-01-16T16:28:47.075897Z",
          "start_time": "2021-01-16T16:28:46.564368Z"
        },
        "cell_style": "split",
        "id": "z3kM-cH2ZW_b",
        "colab": {
          "base_uri": "https://localhost:8080/"
        },
        "outputId": "2ff4a8c6-e717-4246-dafc-059398c271f3"
      },
      "source": [
        "sgdr = SGDRegressor()\n",
        "sgdr.fit(Xs, ys)\n",
        "ls_medias = cross_val_score(estimator=sgdr, X=Xs, y=ys, cv = 4, n_jobs=-1, scoring=\"r2\")\n",
        "np.mean(ls_medias), np.std(ls_medias)"
      ],
      "execution_count": 11,
      "outputs": [
        {
          "output_type": "stream",
          "text": [
            "/usr/local/lib/python3.6/dist-packages/sklearn/utils/validation.py:760: DataConversionWarning: A column-vector y was passed when a 1d array was expected. Please change the shape of y to (n_samples, ), for example using ravel().\n",
            "  y = column_or_1d(y, warn=True)\n"
          ],
          "name": "stderr"
        },
        {
          "output_type": "execute_result",
          "data": {
            "text/plain": [
              "(0.18304775098354156, 0.005284578972054146)"
            ]
          },
          "metadata": {
            "tags": []
          },
          "execution_count": 11
        }
      ]
    },
    {
      "cell_type": "code",
      "metadata": {
        "ExecuteTime": {
          "end_time": "2021-01-16T16:30:11.115934Z",
          "start_time": "2021-01-16T16:30:10.983687Z"
        },
        "id": "MJq0ezdbZW_d"
      },
      "source": [
        "SGDRegressor?"
      ],
      "execution_count": null,
      "outputs": []
    },
    {
      "cell_type": "markdown",
      "metadata": {
        "id": "jQ6nP-k3SP7J"
      },
      "source": [
        "# GridSearchCV"
      ]
    },
    {
      "cell_type": "code",
      "metadata": {
        "ExecuteTime": {
          "end_time": "2021-01-16T16:30:37.410149Z",
          "start_time": "2021-01-16T16:30:37.388465Z"
        },
        "id": "MmgigFAlZW_d"
      },
      "source": [
        "param_grid = {\"loss\": [\"squared_loss\", \"huber\"],\n",
        "              \"penalty\": [\"l2\", \"l1\", \"elasticnet\"],\n",
        "              \"alpha\": [x/100 for x in range(10)],\n",
        "              \"epsilon\": [x/10 for x in range(10)],\n",
        "              \"learning_rate\": [\"constant\", \"invscaling\", \"adaptive\"],\n",
        "             }"
      ],
      "execution_count": 16,
      "outputs": []
    },
    {
      "cell_type": "code",
      "metadata": {
        "colab": {
          "base_uri": "https://localhost:8080/"
        },
        "id": "c32TI623SFDW",
        "outputId": "b4c0c2ad-10f0-4a39-bdf8-0663c7f597f0"
      },
      "source": [
        "param_grid"
      ],
      "execution_count": 17,
      "outputs": [
        {
          "output_type": "execute_result",
          "data": {
            "text/plain": [
              "{'alpha': [0.0, 0.01, 0.02, 0.03, 0.04, 0.05, 0.06, 0.07, 0.08, 0.09],\n",
              " 'epsilon': [0.0, 0.1, 0.2, 0.3, 0.4, 0.5, 0.6, 0.7, 0.8, 0.9],\n",
              " 'learning_rate': ['constant', 'invscaling', 'adaptive'],\n",
              " 'loss': ['squared_loss', 'huber'],\n",
              " 'penalty': ['l2', 'l1', 'elasticnet']}"
            ]
          },
          "metadata": {
            "tags": []
          },
          "execution_count": 17
        }
      ]
    },
    {
      "cell_type": "code",
      "metadata": {
        "ExecuteTime": {
          "end_time": "2021-01-16T16:30:44.636587Z",
          "start_time": "2021-01-16T16:30:44.634152Z"
        },
        "id": "0sjfNTn4ZW_e"
      },
      "source": [
        "n_hyper = np.prod(list(map(len, param_grid.values())))"
      ],
      "execution_count": 18,
      "outputs": []
    },
    {
      "cell_type": "code",
      "metadata": {
        "ExecuteTime": {
          "end_time": "2021-01-16T16:30:45.671831Z",
          "start_time": "2021-01-16T16:30:45.658532Z"
        },
        "id": "xtURrYnqZW_e",
        "colab": {
          "base_uri": "https://localhost:8080/"
        },
        "outputId": "1e1dc186-aeab-44b8-9237-d423cfb16d0c"
      },
      "source": [
        "n_hyper"
      ],
      "execution_count": 19,
      "outputs": [
        {
          "output_type": "execute_result",
          "data": {
            "text/plain": [
              "1800"
            ]
          },
          "metadata": {
            "tags": []
          },
          "execution_count": 19
        }
      ]
    },
    {
      "cell_type": "code",
      "metadata": {
        "ExecuteTime": {
          "end_time": "2021-01-16T16:32:29.123207Z",
          "start_time": "2021-01-16T16:31:11.809057Z"
        },
        "id": "POi4S6D5ZW_h",
        "colab": {
          "base_uri": "https://localhost:8080/"
        },
        "outputId": "861b1d98-5da4-44e1-9e5d-230d88ea7019"
      },
      "source": [
        "model = SGDRegressor(alpha=0.01)\n",
        "hyper1 = GridSearchCV(estimator=model, n_jobs=-1, scoring=\"r2\", param_grid=param_grid, error_score=-1000, verbose=5)\n",
        "hyper1.fit(Xs, ys)\n",
        "hyper1.best_score_"
      ],
      "execution_count": 30,
      "outputs": [
        {
          "output_type": "stream",
          "text": [
            "Fitting 5 folds for each of 1800 candidates, totalling 9000 fits\n"
          ],
          "name": "stdout"
        },
        {
          "output_type": "stream",
          "text": [
            "[Parallel(n_jobs=-1)]: Using backend LokyBackend with 2 concurrent workers.\n",
            "[Parallel(n_jobs=-1)]: Done  44 tasks      | elapsed:    0.2s\n",
            "[Parallel(n_jobs=-1)]: Done 1660 tasks      | elapsed:    5.3s\n",
            "[Parallel(n_jobs=-1)]: Done 4540 tasks      | elapsed:   14.0s\n",
            "[Parallel(n_jobs=-1)]: Done 8572 tasks      | elapsed:   26.4s\n",
            "[Parallel(n_jobs=-1)]: Done 9000 out of 9000 | elapsed:   27.7s finished\n",
            "/usr/local/lib/python3.6/dist-packages/sklearn/utils/validation.py:760: DataConversionWarning: A column-vector y was passed when a 1d array was expected. Please change the shape of y to (n_samples, ), for example using ravel().\n",
            "  y = column_or_1d(y, warn=True)\n"
          ],
          "name": "stderr"
        },
        {
          "output_type": "execute_result",
          "data": {
            "text/plain": [
              "0.32535432928991026"
            ]
          },
          "metadata": {
            "tags": []
          },
          "execution_count": 30
        }
      ]
    },
    {
      "cell_type": "code",
      "metadata": {
        "ExecuteTime": {
          "end_time": "2021-01-16T16:33:00.224554Z",
          "start_time": "2021-01-16T16:33:00.220421Z"
        },
        "id": "aERs80WwZW_h",
        "colab": {
          "base_uri": "https://localhost:8080/"
        },
        "outputId": "92517e2f-4f8e-4eb2-d52e-5d1069a0ba34"
      },
      "source": [
        "hyper1.best_estimator_"
      ],
      "execution_count": 31,
      "outputs": [
        {
          "output_type": "execute_result",
          "data": {
            "text/plain": [
              "SGDRegressor(alpha=0.0, average=False, early_stopping=False, epsilon=0.9,\n",
              "             eta0=0.01, fit_intercept=True, l1_ratio=0.15,\n",
              "             learning_rate='adaptive', loss='huber', max_iter=1000,\n",
              "             n_iter_no_change=5, penalty='l2', power_t=0.25, random_state=None,\n",
              "             shuffle=True, tol=0.001, validation_fraction=0.1, verbose=0,\n",
              "             warm_start=False)"
            ]
          },
          "metadata": {
            "tags": []
          },
          "execution_count": 31
        }
      ]
    },
    {
      "cell_type": "code",
      "metadata": {
        "ExecuteTime": {
          "end_time": "2021-01-16T16:33:10.921273Z",
          "start_time": "2021-01-16T16:33:10.915931Z"
        },
        "id": "tC9f_lqRZW_i",
        "colab": {
          "base_uri": "https://localhost:8080/"
        },
        "outputId": "94306270-abc5-4ef0-bd5b-f4cf8e691201"
      },
      "source": [
        "Sc_y.inverse_transform([hyper1.best_estimator_.intercept_])"
      ],
      "execution_count": 32,
      "outputs": [
        {
          "output_type": "execute_result",
          "data": {
            "text/plain": [
              "array([[4.78273078]])"
            ]
          },
          "metadata": {
            "tags": []
          },
          "execution_count": 32
        }
      ]
    },
    {
      "cell_type": "code",
      "metadata": {
        "ExecuteTime": {
          "end_time": "2021-01-16T16:33:12.745173Z",
          "start_time": "2021-01-16T16:33:12.734303Z"
        },
        "id": "hmPJ1s3iZW_j",
        "colab": {
          "base_uri": "https://localhost:8080/"
        },
        "outputId": "86043dbe-8ac4-4571-9a64-3a39806a31dc"
      },
      "source": [
        "hyper1.best_estimator_.coef_"
      ],
      "execution_count": 33,
      "outputs": [
        {
          "output_type": "execute_result",
          "data": {
            "text/plain": [
              "array([ 0.11725937, -0.19995896,  0.07751101, -0.00474232, -0.06803587,\n",
              "        0.04699902, -0.08720507, -0.02157565,  0.05490332,  0.19096753,\n",
              "        0.34312044])"
            ]
          },
          "metadata": {
            "tags": []
          },
          "execution_count": 33
        }
      ]
    },
    {
      "cell_type": "markdown",
      "metadata": {
        "id": "XveDrrs6ZW_k"
      },
      "source": [
        "#### Hyperparametrización"
      ]
    },
    {
      "cell_type": "markdown",
      "metadata": {
        "cell_style": "split",
        "id": "mYN6gInMZW_k"
      },
      "source": [
        "##### Sin escalamiento"
      ]
    },
    {
      "cell_type": "code",
      "metadata": {
        "ExecuteTime": {
          "end_time": "2021-01-16T16:35:05.833205Z",
          "start_time": "2021-01-16T16:33:55.614984Z"
        },
        "cell_style": "split",
        "id": "JcvE_9j0ZW_l",
        "colab": {
          "base_uri": "https://localhost:8080/"
        },
        "outputId": "2653897e-d511-464c-f365-be2ca577ed22"
      },
      "source": [
        "%%time\n",
        "model = SGDRegressor()\n",
        "hyper = RandomizedSearchCV(estimator=model, n_jobs=-1, scoring=\"r2\", param_distributions=param_grid, error_score=-1000, verbose=1, n_iter=int(n_hyper*.25), random_state=777)\n",
        "hyper.fit(X_train, y_train)\n",
        "hyper.best_score_"
      ],
      "execution_count": 24,
      "outputs": [
        {
          "output_type": "stream",
          "text": [
            "Fitting 5 folds for each of 450 candidates, totalling 2250 fits\n"
          ],
          "name": "stdout"
        },
        {
          "output_type": "stream",
          "text": [
            "[Parallel(n_jobs=-1)]: Using backend LokyBackend with 2 concurrent workers.\n",
            "[Parallel(n_jobs=-1)]: Done 1020 tasks      | elapsed:    7.9s\n"
          ],
          "name": "stderr"
        },
        {
          "output_type": "stream",
          "text": [
            "CPU times: user 1.86 s, sys: 24.4 ms, total: 1.88 s\n",
            "Wall time: 16.5 s\n"
          ],
          "name": "stdout"
        },
        {
          "output_type": "stream",
          "text": [
            "[Parallel(n_jobs=-1)]: Done 2250 out of 2250 | elapsed:   16.5s finished\n",
            "/usr/local/lib/python3.6/dist-packages/sklearn/utils/validation.py:760: DataConversionWarning: A column-vector y was passed when a 1d array was expected. Please change the shape of y to (n_samples, ), for example using ravel().\n",
            "  y = column_or_1d(y, warn=True)\n"
          ],
          "name": "stderr"
        }
      ]
    },
    {
      "cell_type": "code",
      "metadata": {
        "colab": {
          "base_uri": "https://localhost:8080/"
        },
        "id": "_JjlaUvBTinR",
        "outputId": "fbe2189c-86a3-4c3d-d9c0-3712e317452e"
      },
      "source": [
        "hyper.best_score_"
      ],
      "execution_count": 25,
      "outputs": [
        {
          "output_type": "execute_result",
          "data": {
            "text/plain": [
              "0.3011658821974793"
            ]
          },
          "metadata": {
            "tags": []
          },
          "execution_count": 25
        }
      ]
    },
    {
      "cell_type": "markdown",
      "metadata": {
        "cell_style": "split",
        "id": "2r5t73-vZW_k"
      },
      "source": [
        "##### Con escalamiento"
      ]
    },
    {
      "cell_type": "code",
      "metadata": {
        "ExecuteTime": {
          "end_time": "2021-01-16T16:37:28.966869Z",
          "start_time": "2021-01-16T16:37:08.275775Z"
        },
        "cell_style": "split",
        "id": "stD8RjqTZW_m",
        "colab": {
          "base_uri": "https://localhost:8080/"
        },
        "outputId": "5f378eb8-a04d-43be-9078-4fd13c06dcc9"
      },
      "source": [
        "%%time\n",
        "model = SGDRegressor()\n",
        "hyper = RandomizedSearchCV(estimator=model, n_jobs=-1, scoring=\"r2\", param_distributions=param_grid, error_score=-1000, verbose=1, n_iter=int(n_hyper*.25), random_state=777)\n",
        "hyper.fit(Xs, ys)\n",
        "hyper.best_score_"
      ],
      "execution_count": 26,
      "outputs": [
        {
          "output_type": "stream",
          "text": [
            "Fitting 5 folds for each of 450 candidates, totalling 2250 fits\n"
          ],
          "name": "stdout"
        },
        {
          "output_type": "stream",
          "text": [
            "[Parallel(n_jobs=-1)]: Using backend LokyBackend with 2 concurrent workers.\n",
            "[Parallel(n_jobs=-1)]: Done 956 tasks      | elapsed:    3.0s\n"
          ],
          "name": "stderr"
        },
        {
          "output_type": "stream",
          "text": [
            "CPU times: user 1.64 s, sys: 33.3 ms, total: 1.68 s\n",
            "Wall time: 6.66 s\n"
          ],
          "name": "stdout"
        },
        {
          "output_type": "stream",
          "text": [
            "[Parallel(n_jobs=-1)]: Done 2250 out of 2250 | elapsed:    6.6s finished\n",
            "/usr/local/lib/python3.6/dist-packages/sklearn/utils/validation.py:760: DataConversionWarning: A column-vector y was passed when a 1d array was expected. Please change the shape of y to (n_samples, ), for example using ravel().\n",
            "  y = column_or_1d(y, warn=True)\n"
          ],
          "name": "stderr"
        }
      ]
    },
    {
      "cell_type": "code",
      "metadata": {
        "colab": {
          "base_uri": "https://localhost:8080/"
        },
        "id": "RJuJNMcbTrU8",
        "outputId": "e148ac17-f2d5-43f8-984c-f447cdff7223"
      },
      "source": [
        "hyper.best_score_"
      ],
      "execution_count": 27,
      "outputs": [
        {
          "output_type": "execute_result",
          "data": {
            "text/plain": [
              "0.3252999004305105"
            ]
          },
          "metadata": {
            "tags": []
          },
          "execution_count": 27
        }
      ]
    },
    {
      "cell_type": "code",
      "metadata": {
        "ExecuteTime": {
          "end_time": "2021-01-16T06:51:15.059855Z",
          "start_time": "2021-01-16T06:51:15.045911Z"
        },
        "id": "DmWmojlxZW_m",
        "colab": {
          "base_uri": "https://localhost:8080/"
        },
        "outputId": "2e00f1c9-e172-46db-c738-60ee301eeb79"
      },
      "source": [
        "X_train.columns"
      ],
      "execution_count": 28,
      "outputs": [
        {
          "output_type": "execute_result",
          "data": {
            "text/plain": [
              "Index(['fixed acidity', 'volatile acidity', 'citric acid', 'residual sugar',\n",
              "       'chlorides', 'free sulfur dioxide', 'total sulfur dioxide', 'density',\n",
              "       'pH', 'sulphates', 'alcohol'],\n",
              "      dtype='object')"
            ]
          },
          "metadata": {
            "tags": []
          },
          "execution_count": 28
        }
      ]
    },
    {
      "cell_type": "code",
      "metadata": {
        "ExecuteTime": {
          "end_time": "2021-01-16T16:38:59.368795Z",
          "start_time": "2021-01-16T16:38:59.357744Z"
        },
        "id": "jezRZzE6ZW_n",
        "colab": {
          "base_uri": "https://localhost:8080/"
        },
        "outputId": "36bdcf23-342b-4f10-bbfa-0bcebfb38351"
      },
      "source": [
        "hyper.best_estimator_.coef_"
      ],
      "execution_count": 29,
      "outputs": [
        {
          "output_type": "execute_result",
          "data": {
            "text/plain": [
              "array([ 0.11779266, -0.19828558,  0.07592568, -0.00528184, -0.06891933,\n",
              "        0.0459189 , -0.08894154, -0.02155985,  0.05392006,  0.19076181,\n",
              "        0.34342578])"
            ]
          },
          "metadata": {
            "tags": []
          },
          "execution_count": 29
        }
      ]
    },
    {
      "cell_type": "markdown",
      "metadata": {
        "id": "EKTFNVZzUNiW"
      },
      "source": [
        "# Modelo Ganador"
      ]
    },
    {
      "cell_type": "code",
      "metadata": {
        "id": "xfFJo7lAURCA"
      },
      "source": [
        "SGD_GridSearch=hyper1.best_estimator_"
      ],
      "execution_count": 35,
      "outputs": []
    },
    {
      "cell_type": "code",
      "metadata": {
        "id": "F3upBWX-URIy"
      },
      "source": [
        "#Escalamos el set de prueba\r\n",
        "Xt=Sc.transform(X_test)"
      ],
      "execution_count": 36,
      "outputs": []
    },
    {
      "cell_type": "code",
      "metadata": {
        "id": "SLP3O9hJUROm"
      },
      "source": [
        "#Hacemos las predicciones regresandolas a su escala original para comparar con el y_test\r\n",
        "predicciones=Sc_y.inverse_transform(SGD_GridSearch.predict(Xt).reshape(-1, 1))"
      ],
      "execution_count": 39,
      "outputs": []
    },
    {
      "cell_type": "code",
      "metadata": {
        "colab": {
          "base_uri": "https://localhost:8080/"
        },
        "id": "fkiYs1A8URTV",
        "outputId": "544e5fae-961e-4f30-c5b1-3ae3f6416d80"
      },
      "source": [
        "#Veamos su performance\r\n",
        "from sklearn.metrics import r2_score\r\n",
        "r2_score(y_pred=predicciones, y_true=y_test)"
      ],
      "execution_count": 41,
      "outputs": [
        {
          "output_type": "execute_result",
          "data": {
            "text/plain": [
              "0.29512805441003453"
            ]
          },
          "metadata": {
            "tags": []
          },
          "execution_count": 41
        }
      ]
    },
    {
      "cell_type": "code",
      "metadata": {
        "colab": {
          "base_uri": "https://localhost:8080/"
        },
        "id": "RAt4rqS0V8fx",
        "outputId": "42f35ba4-6973-4783-a7e2-8b014bad8d51"
      },
      "source": [
        "SGD_GridSearch.score(Xt, Sc_y.transform(y_test.values.reshape(-1,1)))"
      ],
      "execution_count": 44,
      "outputs": [
        {
          "output_type": "execute_result",
          "data": {
            "text/plain": [
              "0.29512805441003487"
            ]
          },
          "metadata": {
            "tags": []
          },
          "execution_count": 44
        }
      ]
    },
    {
      "cell_type": "markdown",
      "metadata": {
        "id": "Dcft-H0x7uYt"
      },
      "source": [
        "# Clasificación "
      ]
    },
    {
      "cell_type": "code",
      "metadata": {
        "ExecuteTime": {
          "end_time": "2021-01-16T16:40:09.007832Z",
          "start_time": "2021-01-16T16:40:08.992773Z"
        },
        "id": "G511acy0ZW_p"
      },
      "source": [
        "#Creamos una variable binaria para plantear un modelo de clasificación\r\n",
        "y_train_c = (y_train >= y_train.mean())*1\r\n",
        "y_test_c = (y_test >= y_train.mean())*1"
      ],
      "execution_count": 106,
      "outputs": []
    },
    {
      "cell_type": "code",
      "metadata": {
        "ExecuteTime": {
          "end_time": "2021-01-16T16:40:27.352730Z",
          "start_time": "2021-01-16T16:40:27.311871Z"
        },
        "colab": {
          "base_uri": "https://localhost:8080/",
          "height": 391
        },
        "id": "EbFAUKkZJHqd",
        "outputId": "437354ea-dc45-437c-d59a-2c119f700aab"
      },
      "source": [
        "y_train_c"
      ],
      "execution_count": 107,
      "outputs": [
        {
          "output_type": "execute_result",
          "data": {
            "text/html": [
              "<div>\n",
              "<style scoped>\n",
              "    .dataframe tbody tr th:only-of-type {\n",
              "        vertical-align: middle;\n",
              "    }\n",
              "\n",
              "    .dataframe tbody tr th {\n",
              "        vertical-align: top;\n",
              "    }\n",
              "\n",
              "    .dataframe thead th {\n",
              "        text-align: right;\n",
              "    }\n",
              "</style>\n",
              "<table border=\"1\" class=\"dataframe\">\n",
              "  <thead>\n",
              "    <tr style=\"text-align: right;\">\n",
              "      <th></th>\n",
              "      <th>y_c</th>\n",
              "    </tr>\n",
              "  </thead>\n",
              "  <tbody>\n",
              "    <tr>\n",
              "      <th>1293</th>\n",
              "      <td>0</td>\n",
              "    </tr>\n",
              "    <tr>\n",
              "      <th>642</th>\n",
              "      <td>0</td>\n",
              "    </tr>\n",
              "    <tr>\n",
              "      <th>1545</th>\n",
              "      <td>1</td>\n",
              "    </tr>\n",
              "    <tr>\n",
              "      <th>1135</th>\n",
              "      <td>1</td>\n",
              "    </tr>\n",
              "    <tr>\n",
              "      <th>336</th>\n",
              "      <td>1</td>\n",
              "    </tr>\n",
              "    <tr>\n",
              "      <th>...</th>\n",
              "      <td>...</td>\n",
              "    </tr>\n",
              "    <tr>\n",
              "      <th>711</th>\n",
              "      <td>0</td>\n",
              "    </tr>\n",
              "    <tr>\n",
              "      <th>29</th>\n",
              "      <td>1</td>\n",
              "    </tr>\n",
              "    <tr>\n",
              "      <th>1334</th>\n",
              "      <td>0</td>\n",
              "    </tr>\n",
              "    <tr>\n",
              "      <th>148</th>\n",
              "      <td>1</td>\n",
              "    </tr>\n",
              "    <tr>\n",
              "      <th>1164</th>\n",
              "      <td>0</td>\n",
              "    </tr>\n",
              "  </tbody>\n",
              "</table>\n",
              "<p>1199 rows × 1 columns</p>\n",
              "</div>"
            ],
            "text/plain": [
              "      y_c\n",
              "1293    0\n",
              "642     0\n",
              "1545    1\n",
              "1135    1\n",
              "336     1\n",
              "...   ...\n",
              "711     0\n",
              "29      1\n",
              "1334    0\n",
              "148     1\n",
              "1164    0\n",
              "\n",
              "[1199 rows x 1 columns]"
            ]
          },
          "metadata": {
            "tags": []
          },
          "execution_count": 107
        }
      ]
    },
    {
      "cell_type": "code",
      "metadata": {
        "id": "wzGA6r3LXjWW"
      },
      "source": [
        "#Escalamos\r\n",
        "Sc = MinMaxScaler()\r\n",
        "Sc.fit(X_train)\r\n",
        "Xs=Sc.transform(X_train)"
      ],
      "execution_count": 109,
      "outputs": []
    },
    {
      "cell_type": "markdown",
      "metadata": {
        "id": "kgrsu0wlXbZ6"
      },
      "source": [
        "## Cross Validation"
      ]
    },
    {
      "cell_type": "markdown",
      "metadata": {
        "id": "KxZpN02pXkaM"
      },
      "source": [
        "### Sin escalar"
      ]
    },
    {
      "cell_type": "code",
      "metadata": {
        "ExecuteTime": {
          "end_time": "2021-01-16T16:40:57.880790Z",
          "start_time": "2021-01-16T16:40:57.780060Z"
        },
        "id": "n1_5W_Sw7uYy",
        "colab": {
          "base_uri": "https://localhost:8080/"
        },
        "outputId": "f3081fea-4300-47d8-eef0-cbdaae1adc8b"
      },
      "source": [
        "sgdc = SGDClassifier()\n",
        "sgdc.fit(X_train, y_train_c)\n",
        "ls_medias = cross_val_score(estimator=sgdc, X=X_train, y = y_train_c, cv = 4, n_jobs=-1, scoring=\"roc_auc\")\n",
        "np.mean(ls_medias), np.std(ls_medias)"
      ],
      "execution_count": 110,
      "outputs": [
        {
          "output_type": "stream",
          "text": [
            "/usr/local/lib/python3.6/dist-packages/sklearn/utils/validation.py:760: DataConversionWarning: A column-vector y was passed when a 1d array was expected. Please change the shape of y to (n_samples, ), for example using ravel().\n",
            "  y = column_or_1d(y, warn=True)\n"
          ],
          "name": "stderr"
        },
        {
          "output_type": "execute_result",
          "data": {
            "text/plain": [
              "(0.7207254001125041, 0.09592802014943365)"
            ]
          },
          "metadata": {
            "tags": []
          },
          "execution_count": 110
        }
      ]
    },
    {
      "cell_type": "markdown",
      "metadata": {
        "id": "1RbNHOqUXklz"
      },
      "source": [
        "### Escalando"
      ]
    },
    {
      "cell_type": "code",
      "metadata": {
        "colab": {
          "base_uri": "https://localhost:8080/"
        },
        "id": "PPFLxGncXvkb",
        "outputId": "c378d8c4-1d9c-48ce-9001-931f4a92c3b0"
      },
      "source": [
        "sgdc = SGDClassifier()\r\n",
        "sgdc.fit(Xs, y_train_c)\r\n",
        "ls_medias = cross_val_score(estimator=sgdc, X=X_train, y = y_train_c, cv = 4, n_jobs=-1, scoring=\"roc_auc\")\r\n",
        "np.mean(ls_medias), np.std(ls_medias)"
      ],
      "execution_count": 111,
      "outputs": [
        {
          "output_type": "stream",
          "text": [
            "/usr/local/lib/python3.6/dist-packages/sklearn/utils/validation.py:760: DataConversionWarning: A column-vector y was passed when a 1d array was expected. Please change the shape of y to (n_samples, ), for example using ravel().\n",
            "  y = column_or_1d(y, warn=True)\n"
          ],
          "name": "stderr"
        },
        {
          "output_type": "execute_result",
          "data": {
            "text/plain": [
              "(0.6631475055809541, 0.12402040644500635)"
            ]
          },
          "metadata": {
            "tags": []
          },
          "execution_count": 111
        }
      ]
    },
    {
      "cell_type": "code",
      "metadata": {
        "ExecuteTime": {
          "end_time": "2021-01-16T06:51:20.478381Z",
          "start_time": "2021-01-16T06:51:20.404567Z"
        },
        "id": "OUtRYPlH7uZD"
      },
      "source": [
        "SGDClassifier?"
      ],
      "execution_count": null,
      "outputs": []
    },
    {
      "cell_type": "markdown",
      "metadata": {
        "id": "cyy--D9EXww9"
      },
      "source": [
        "## Randomized Search CV"
      ]
    },
    {
      "cell_type": "code",
      "metadata": {
        "ExecuteTime": {
          "end_time": "2021-01-16T16:41:09.703811Z",
          "start_time": "2021-01-16T16:41:09.692381Z"
        },
        "id": "MfpLPza3ZW_r"
      },
      "source": [
        "param_grid = {\"loss\": [\"hinge\", \"log\", \"modified_huber\", \"squared_hinge\", \"perceptron\"],\n",
        "              \"penalty\": [\"l2\", \"l1\", \"elasticnet\"],\n",
        "              \"alpha\": [x/100+0.01 for x in range(100)],\n",
        "              \"l1_ratio\": [x/10 for x in range(10)],\n",
        "              \"learning_rate\": [\"constant\", \"optimal\", \"invscaling\", \"adaptive\"],\n",
        "              \"eta0\": [0.001]\n",
        "             }"
      ],
      "execution_count": 112,
      "outputs": []
    },
    {
      "cell_type": "code",
      "metadata": {
        "colab": {
          "base_uri": "https://localhost:8080/"
        },
        "id": "yNsOg1uhYh9_",
        "outputId": "8c141584-0f0e-4273-e009-31adcc9baeb4"
      },
      "source": [
        "param_grid"
      ],
      "execution_count": 113,
      "outputs": [
        {
          "output_type": "execute_result",
          "data": {
            "text/plain": [
              "{'alpha': [0.01,\n",
              "  0.02,\n",
              "  0.03,\n",
              "  0.04,\n",
              "  0.05,\n",
              "  0.060000000000000005,\n",
              "  0.06999999999999999,\n",
              "  0.08,\n",
              "  0.09,\n",
              "  0.09999999999999999,\n",
              "  0.11,\n",
              "  0.12,\n",
              "  0.13,\n",
              "  0.14,\n",
              "  0.15000000000000002,\n",
              "  0.16,\n",
              "  0.17,\n",
              "  0.18000000000000002,\n",
              "  0.19,\n",
              "  0.2,\n",
              "  0.21000000000000002,\n",
              "  0.22,\n",
              "  0.23,\n",
              "  0.24000000000000002,\n",
              "  0.25,\n",
              "  0.26,\n",
              "  0.27,\n",
              "  0.28,\n",
              "  0.29000000000000004,\n",
              "  0.3,\n",
              "  0.31,\n",
              "  0.32,\n",
              "  0.33,\n",
              "  0.34,\n",
              "  0.35000000000000003,\n",
              "  0.36,\n",
              "  0.37,\n",
              "  0.38,\n",
              "  0.39,\n",
              "  0.4,\n",
              "  0.41000000000000003,\n",
              "  0.42,\n",
              "  0.43,\n",
              "  0.44,\n",
              "  0.45,\n",
              "  0.46,\n",
              "  0.47000000000000003,\n",
              "  0.48,\n",
              "  0.49,\n",
              "  0.5,\n",
              "  0.51,\n",
              "  0.52,\n",
              "  0.53,\n",
              "  0.54,\n",
              "  0.55,\n",
              "  0.56,\n",
              "  0.5700000000000001,\n",
              "  0.58,\n",
              "  0.59,\n",
              "  0.6,\n",
              "  0.61,\n",
              "  0.62,\n",
              "  0.63,\n",
              "  0.64,\n",
              "  0.65,\n",
              "  0.66,\n",
              "  0.67,\n",
              "  0.68,\n",
              "  0.6900000000000001,\n",
              "  0.7,\n",
              "  0.71,\n",
              "  0.72,\n",
              "  0.73,\n",
              "  0.74,\n",
              "  0.75,\n",
              "  0.76,\n",
              "  0.77,\n",
              "  0.78,\n",
              "  0.79,\n",
              "  0.8,\n",
              "  0.81,\n",
              "  0.8200000000000001,\n",
              "  0.83,\n",
              "  0.84,\n",
              "  0.85,\n",
              "  0.86,\n",
              "  0.87,\n",
              "  0.88,\n",
              "  0.89,\n",
              "  0.9,\n",
              "  0.91,\n",
              "  0.92,\n",
              "  0.93,\n",
              "  0.9400000000000001,\n",
              "  0.95,\n",
              "  0.96,\n",
              "  0.97,\n",
              "  0.98,\n",
              "  0.99,\n",
              "  1.0],\n",
              " 'eta0': [0.001],\n",
              " 'l1_ratio': [0.0, 0.1, 0.2, 0.3, 0.4, 0.5, 0.6, 0.7, 0.8, 0.9],\n",
              " 'learning_rate': ['constant', 'optimal', 'invscaling', 'adaptive'],\n",
              " 'loss': ['hinge', 'log', 'modified_huber', 'squared_hinge', 'perceptron'],\n",
              " 'penalty': ['l2', 'l1', 'elasticnet']}"
            ]
          },
          "metadata": {
            "tags": []
          },
          "execution_count": 113
        }
      ]
    },
    {
      "cell_type": "code",
      "metadata": {
        "ExecuteTime": {
          "end_time": "2021-01-16T16:41:11.038261Z",
          "start_time": "2021-01-16T16:41:11.032217Z"
        },
        "id": "quIHI5hpZW_r"
      },
      "source": [
        "n_hyper = np.prod(list(map(len, param_grid.values())))"
      ],
      "execution_count": 114,
      "outputs": []
    },
    {
      "cell_type": "code",
      "metadata": {
        "ExecuteTime": {
          "end_time": "2021-01-16T16:41:11.961034Z",
          "start_time": "2021-01-16T16:41:11.938061Z"
        },
        "id": "1WZlaFl6ZW_r",
        "colab": {
          "base_uri": "https://localhost:8080/"
        },
        "outputId": "ca2e48c4-efb0-44f4-c73d-953d8732f97e"
      },
      "source": [
        "n_hyper"
      ],
      "execution_count": 115,
      "outputs": [
        {
          "output_type": "execute_result",
          "data": {
            "text/plain": [
              "60000"
            ]
          },
          "metadata": {
            "tags": []
          },
          "execution_count": 115
        }
      ]
    },
    {
      "cell_type": "markdown",
      "metadata": {
        "id": "88rpjFBsZW_s"
      },
      "source": [
        "#### Hyperparametrización"
      ]
    },
    {
      "cell_type": "markdown",
      "metadata": {
        "cell_style": "split",
        "id": "nCMZ_jJpZW_s"
      },
      "source": [
        "##### Sin escalamiento"
      ]
    },
    {
      "cell_type": "code",
      "metadata": {
        "ExecuteTime": {
          "end_time": "2021-01-16T16:42:35.579612Z",
          "start_time": "2021-01-16T16:41:19.805748Z"
        },
        "cell_style": "split",
        "id": "ea9OEnmHZW_t",
        "colab": {
          "base_uri": "https://localhost:8080/"
        },
        "outputId": "1646abf8-954e-48ff-f478-172db604209e"
      },
      "source": [
        "%%time\n",
        "model = SGDClassifier()\n",
        "hyper = RandomizedSearchCV(estimator=model, n_jobs=-1, scoring=\"roc_auc\", param_distributions=param_grid, error_score=-1000, verbose=1, n_iter=int(n_hyper*.1), random_state=777, cv = 4)\n",
        "hyper.fit(X_train, y_train_c)\n",
        "hyper.best_score_"
      ],
      "execution_count": 116,
      "outputs": [
        {
          "output_type": "stream",
          "text": [
            "Fitting 4 folds for each of 6000 candidates, totalling 24000 fits\n"
          ],
          "name": "stdout"
        },
        {
          "output_type": "stream",
          "text": [
            "[Parallel(n_jobs=-1)]: Using backend LokyBackend with 2 concurrent workers.\n",
            "[Parallel(n_jobs=-1)]: Done 540 tasks      | elapsed:    4.1s\n",
            "[Parallel(n_jobs=-1)]: Done 2940 tasks      | elapsed:   22.5s\n",
            "[Parallel(n_jobs=-1)]: Done 6940 tasks      | elapsed:   51.9s\n",
            "[Parallel(n_jobs=-1)]: Done 12540 tasks      | elapsed:  1.5min\n",
            "[Parallel(n_jobs=-1)]: Done 19740 tasks      | elapsed:  2.4min\n"
          ],
          "name": "stderr"
        },
        {
          "output_type": "stream",
          "text": [
            "CPU times: user 23.3 s, sys: 418 ms, total: 23.7 s\n",
            "Wall time: 2min 57s\n"
          ],
          "name": "stdout"
        },
        {
          "output_type": "stream",
          "text": [
            "[Parallel(n_jobs=-1)]: Done 24000 out of 24000 | elapsed:  3.0min finished\n",
            "/usr/local/lib/python3.6/dist-packages/sklearn/utils/validation.py:760: DataConversionWarning: A column-vector y was passed when a 1d array was expected. Please change the shape of y to (n_samples, ), for example using ravel().\n",
            "  y = column_or_1d(y, warn=True)\n"
          ],
          "name": "stderr"
        }
      ]
    },
    {
      "cell_type": "code",
      "metadata": {
        "colab": {
          "base_uri": "https://localhost:8080/"
        },
        "id": "DzOLdL7BY7m2",
        "outputId": "42b484bb-3d34-4189-e30d-4dfe13b14776"
      },
      "source": [
        "hyper.best_score_"
      ],
      "execution_count": 117,
      "outputs": [
        {
          "output_type": "execute_result",
          "data": {
            "text/plain": [
              "0.798488458676742"
            ]
          },
          "metadata": {
            "tags": []
          },
          "execution_count": 117
        }
      ]
    },
    {
      "cell_type": "markdown",
      "metadata": {
        "cell_style": "split",
        "id": "XccY0obWZW_t"
      },
      "source": [
        "##### Con escalamiento"
      ]
    },
    {
      "cell_type": "code",
      "metadata": {
        "ExecuteTime": {
          "end_time": "2021-01-16T16:43:20.691399Z",
          "start_time": "2021-01-16T16:42:51.466562Z"
        },
        "cell_style": "split",
        "id": "OW7WA-gUZW_u",
        "scrolled": false,
        "colab": {
          "base_uri": "https://localhost:8080/"
        },
        "outputId": "d86d2b1a-aa77-472e-e62f-c6ccdd8bb778"
      },
      "source": [
        "%%time\n",
        "model = SGDClassifier()\n",
        "hyper = RandomizedSearchCV(estimator=model, n_jobs=-1, scoring=\"roc_auc\", param_distributions=param_grid, error_score=-1000, verbose=1, n_iter=int(n_hyper*.1), random_state=777, cv=4)\n",
        "hyper.fit(Xs, y_train_c.values.ravel())\n",
        "hyper.best_score_"
      ],
      "execution_count": 118,
      "outputs": [
        {
          "output_type": "stream",
          "text": [
            "Fitting 4 folds for each of 6000 candidates, totalling 24000 fits\n"
          ],
          "name": "stdout"
        },
        {
          "output_type": "stream",
          "text": [
            "[Parallel(n_jobs=-1)]: Using backend LokyBackend with 2 concurrent workers.\n",
            "[Parallel(n_jobs=-1)]: Done 956 tasks      | elapsed:    3.9s\n",
            "[Parallel(n_jobs=-1)]: Done 5756 tasks      | elapsed:   21.3s\n",
            "[Parallel(n_jobs=-1)]: Done 13756 tasks      | elapsed:   51.5s\n"
          ],
          "name": "stderr"
        },
        {
          "output_type": "stream",
          "text": [
            "CPU times: user 18.3 s, sys: 173 ms, total: 18.5 s\n",
            "Wall time: 1min 29s\n"
          ],
          "name": "stdout"
        },
        {
          "output_type": "stream",
          "text": [
            "[Parallel(n_jobs=-1)]: Done 24000 out of 24000 | elapsed:  1.5min finished\n"
          ],
          "name": "stderr"
        }
      ]
    },
    {
      "cell_type": "code",
      "metadata": {
        "colab": {
          "base_uri": "https://localhost:8080/"
        },
        "id": "50-hH-lxaV93",
        "outputId": "06ad36cd-fc86-4522-8dfc-497959d010c2"
      },
      "source": [
        "hyper.best_score_"
      ],
      "execution_count": 119,
      "outputs": [
        {
          "output_type": "execute_result",
          "data": {
            "text/plain": [
              "0.8134515914565994"
            ]
          },
          "metadata": {
            "tags": []
          },
          "execution_count": 119
        }
      ]
    },
    {
      "cell_type": "code",
      "metadata": {
        "ExecuteTime": {
          "end_time": "2021-01-16T16:43:30.367325Z",
          "start_time": "2021-01-16T16:43:30.357343Z"
        },
        "id": "2kGN-Ta5ZW_u",
        "colab": {
          "base_uri": "https://localhost:8080/"
        },
        "outputId": "43584777-a4fc-48cc-d3d3-d2a4ce7704d3"
      },
      "source": [
        "hyper.best_estimator_"
      ],
      "execution_count": 121,
      "outputs": [
        {
          "output_type": "execute_result",
          "data": {
            "text/plain": [
              "SGDClassifier(alpha=0.25, average=False, class_weight=None,\n",
              "              early_stopping=False, epsilon=0.1, eta0=0.001, fit_intercept=True,\n",
              "              l1_ratio=0.8, learning_rate='optimal', loss='perceptron',\n",
              "              max_iter=1000, n_iter_no_change=5, n_jobs=None, penalty='l2',\n",
              "              power_t=0.5, random_state=None, shuffle=True, tol=0.001,\n",
              "              validation_fraction=0.1, verbose=0, warm_start=False)"
            ]
          },
          "metadata": {
            "tags": []
          },
          "execution_count": 121
        }
      ]
    },
    {
      "cell_type": "markdown",
      "metadata": {
        "id": "cRqd08ABafjQ"
      },
      "source": [
        "### A pesar de que en el Cross Validation escalar los variables no nos dio los mejores resultados, cuando se hace la búsqueda aleatoria con Grid Search supera el performance del set sin escalar"
      ]
    },
    {
      "cell_type": "markdown",
      "metadata": {
        "id": "n7Z_2vSza1-q"
      },
      "source": [
        "# Modelo Ganador"
      ]
    },
    {
      "cell_type": "code",
      "metadata": {
        "id": "gRvXmJQBZW_v"
      },
      "source": [
        "#Escalamos\r\n",
        "Xt=Sc.transform(X_test)"
      ],
      "execution_count": 122,
      "outputs": []
    },
    {
      "cell_type": "code",
      "metadata": {
        "id": "8V60f3W0bD9X"
      },
      "source": [
        "predicciones=hyper.best_estimator_.predict(Xt)"
      ],
      "execution_count": 125,
      "outputs": []
    },
    {
      "cell_type": "code",
      "metadata": {
        "colab": {
          "base_uri": "https://localhost:8080/"
        },
        "id": "BtxV-jTcbRSk",
        "outputId": "a2270cc2-b693-4db1-8703-67bd8ebb1eab"
      },
      "source": [
        "#Notamos que el modelo se sobreajusto\r\n",
        "from sklearn.metrics import roc_auc_score\r\n",
        "roc_auc_score(y_test_c, pd.Series(predicciones))"
      ],
      "execution_count": 126,
      "outputs": [
        {
          "output_type": "execute_result",
          "data": {
            "text/plain": [
              "0.5207686918226404"
            ]
          },
          "metadata": {
            "tags": []
          },
          "execution_count": 126
        }
      ]
    }
  ]
}