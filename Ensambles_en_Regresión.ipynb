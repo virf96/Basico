{
  "nbformat": 4,
  "nbformat_minor": 0,
  "metadata": {
    "kernelspec": {
      "name": "python3",
      "display_name": "Python 3"
    },
    "varInspector": {
      "cols": {
        "lenName": 16,
        "lenType": 16,
        "lenVar": 40
      },
      "kernels_config": {
        "python": {
          "delete_cmd_postfix": "",
          "delete_cmd_prefix": "del ",
          "library": "var_list.py",
          "varRefreshCmd": "print(var_dic_list())"
        },
        "r": {
          "delete_cmd_postfix": ") ",
          "delete_cmd_prefix": "rm(",
          "library": "var_list.r",
          "varRefreshCmd": "cat(var_dic_list()) "
        }
      },
      "types_to_exclude": [
        "module",
        "function",
        "builtin_function_or_method",
        "instance",
        "_Feature"
      ],
      "window_display": false
    },
    "colab": {
      "name": "Ensambles_en_Regresión.ipynb",
      "provenance": [],
      "toc_visible": true,
      "include_colab_link": true
    }
  },
  "cells": [
    {
      "cell_type": "markdown",
      "metadata": {
        "id": "view-in-github",
        "colab_type": "text"
      },
      "source": [
        "<a href=\"https://colab.research.google.com/github/virf96/Basico/blob/main/Ensambles_en_Regresi%C3%B3n.ipynb\" target=\"_parent\"><img src=\"https://colab.research.google.com/assets/colab-badge.svg\" alt=\"Open In Colab\"/></a>"
      ]
    },
    {
      "cell_type": "code",
      "metadata": {
        "ExecuteTime": {
          "end_time": "2021-02-06T15:22:17.750213Z",
          "start_time": "2021-02-06T15:22:17.294721Z"
        },
        "id": "PP6_E8evux1L"
      },
      "source": [
        "import pandas as pd\n",
        "import numpy as np\n",
        "pd.set_option('display.max_columns',100)"
      ],
      "execution_count": 1,
      "outputs": []
    },
    {
      "cell_type": "code",
      "metadata": {
        "ExecuteTime": {
          "end_time": "2021-02-06T15:22:19.200169Z",
          "start_time": "2021-02-06T15:22:18.494643Z"
        },
        "id": "y1OWmsMvux1O"
      },
      "source": [
        "import missingno as msno"
      ],
      "execution_count": 2,
      "outputs": []
    },
    {
      "cell_type": "code",
      "metadata": {
        "colab": {
          "base_uri": "https://localhost:8080/"
        },
        "id": "IKbfVO-5dKPu",
        "outputId": "661251ff-b45f-4d79-dc36-36e63fdb4814"
      },
      "source": [
        "from google.colab import drive\n",
        "drive.mount('/content/drive')"
      ],
      "execution_count": 3,
      "outputs": [
        {
          "output_type": "stream",
          "text": [
            "Mounted at /content/drive\n"
          ],
          "name": "stdout"
        }
      ]
    },
    {
      "cell_type": "code",
      "metadata": {
        "ExecuteTime": {
          "end_time": "2021-02-06T15:22:24.575829Z",
          "start_time": "2021-02-06T15:22:24.441749Z"
        },
        "id": "hpnzxqqLux1Q"
      },
      "source": [
        "data=pd.read_csv('/content/drive/MyDrive/datasets/Melbourne_housing_FULL.csv')"
      ],
      "execution_count": 4,
      "outputs": []
    },
    {
      "cell_type": "code",
      "metadata": {
        "ExecuteTime": {
          "end_time": "2021-02-06T15:22:26.309776Z",
          "start_time": "2021-02-06T15:22:26.219783Z"
        },
        "scrolled": true,
        "id": "-ETdygR0ux1Q",
        "colab": {
          "base_uri": "https://localhost:8080/",
          "height": 606
        },
        "outputId": "6c232807-f449-466e-af4b-fa740e128914"
      },
      "source": [
        "data"
      ],
      "execution_count": 5,
      "outputs": [
        {
          "output_type": "execute_result",
          "data": {
            "text/html": [
              "<div>\n",
              "<style scoped>\n",
              "    .dataframe tbody tr th:only-of-type {\n",
              "        vertical-align: middle;\n",
              "    }\n",
              "\n",
              "    .dataframe tbody tr th {\n",
              "        vertical-align: top;\n",
              "    }\n",
              "\n",
              "    .dataframe thead th {\n",
              "        text-align: right;\n",
              "    }\n",
              "</style>\n",
              "<table border=\"1\" class=\"dataframe\">\n",
              "  <thead>\n",
              "    <tr style=\"text-align: right;\">\n",
              "      <th></th>\n",
              "      <th>Suburb</th>\n",
              "      <th>Address</th>\n",
              "      <th>Rooms</th>\n",
              "      <th>Type</th>\n",
              "      <th>Price</th>\n",
              "      <th>Method</th>\n",
              "      <th>SellerG</th>\n",
              "      <th>Date</th>\n",
              "      <th>Distance</th>\n",
              "      <th>Postcode</th>\n",
              "      <th>Bedroom2</th>\n",
              "      <th>Bathroom</th>\n",
              "      <th>Car</th>\n",
              "      <th>Landsize</th>\n",
              "      <th>BuildingArea</th>\n",
              "      <th>YearBuilt</th>\n",
              "      <th>CouncilArea</th>\n",
              "      <th>Lattitude</th>\n",
              "      <th>Longtitude</th>\n",
              "      <th>Regionname</th>\n",
              "      <th>Propertycount</th>\n",
              "    </tr>\n",
              "  </thead>\n",
              "  <tbody>\n",
              "    <tr>\n",
              "      <th>0</th>\n",
              "      <td>Abbotsford</td>\n",
              "      <td>68 Studley St</td>\n",
              "      <td>2</td>\n",
              "      <td>h</td>\n",
              "      <td>NaN</td>\n",
              "      <td>SS</td>\n",
              "      <td>Jellis</td>\n",
              "      <td>3/09/2016</td>\n",
              "      <td>2.5</td>\n",
              "      <td>3067.0</td>\n",
              "      <td>2.0</td>\n",
              "      <td>1.0</td>\n",
              "      <td>1.0</td>\n",
              "      <td>126.0</td>\n",
              "      <td>NaN</td>\n",
              "      <td>NaN</td>\n",
              "      <td>Yarra City Council</td>\n",
              "      <td>-37.80140</td>\n",
              "      <td>144.99580</td>\n",
              "      <td>Northern Metropolitan</td>\n",
              "      <td>4019.0</td>\n",
              "    </tr>\n",
              "    <tr>\n",
              "      <th>1</th>\n",
              "      <td>Abbotsford</td>\n",
              "      <td>85 Turner St</td>\n",
              "      <td>2</td>\n",
              "      <td>h</td>\n",
              "      <td>1480000.0</td>\n",
              "      <td>S</td>\n",
              "      <td>Biggin</td>\n",
              "      <td>3/12/2016</td>\n",
              "      <td>2.5</td>\n",
              "      <td>3067.0</td>\n",
              "      <td>2.0</td>\n",
              "      <td>1.0</td>\n",
              "      <td>1.0</td>\n",
              "      <td>202.0</td>\n",
              "      <td>NaN</td>\n",
              "      <td>NaN</td>\n",
              "      <td>Yarra City Council</td>\n",
              "      <td>-37.79960</td>\n",
              "      <td>144.99840</td>\n",
              "      <td>Northern Metropolitan</td>\n",
              "      <td>4019.0</td>\n",
              "    </tr>\n",
              "    <tr>\n",
              "      <th>2</th>\n",
              "      <td>Abbotsford</td>\n",
              "      <td>25 Bloomburg St</td>\n",
              "      <td>2</td>\n",
              "      <td>h</td>\n",
              "      <td>1035000.0</td>\n",
              "      <td>S</td>\n",
              "      <td>Biggin</td>\n",
              "      <td>4/02/2016</td>\n",
              "      <td>2.5</td>\n",
              "      <td>3067.0</td>\n",
              "      <td>2.0</td>\n",
              "      <td>1.0</td>\n",
              "      <td>0.0</td>\n",
              "      <td>156.0</td>\n",
              "      <td>79.0</td>\n",
              "      <td>1900.0</td>\n",
              "      <td>Yarra City Council</td>\n",
              "      <td>-37.80790</td>\n",
              "      <td>144.99340</td>\n",
              "      <td>Northern Metropolitan</td>\n",
              "      <td>4019.0</td>\n",
              "    </tr>\n",
              "    <tr>\n",
              "      <th>3</th>\n",
              "      <td>Abbotsford</td>\n",
              "      <td>18/659 Victoria St</td>\n",
              "      <td>3</td>\n",
              "      <td>u</td>\n",
              "      <td>NaN</td>\n",
              "      <td>VB</td>\n",
              "      <td>Rounds</td>\n",
              "      <td>4/02/2016</td>\n",
              "      <td>2.5</td>\n",
              "      <td>3067.0</td>\n",
              "      <td>3.0</td>\n",
              "      <td>2.0</td>\n",
              "      <td>1.0</td>\n",
              "      <td>0.0</td>\n",
              "      <td>NaN</td>\n",
              "      <td>NaN</td>\n",
              "      <td>Yarra City Council</td>\n",
              "      <td>-37.81140</td>\n",
              "      <td>145.01160</td>\n",
              "      <td>Northern Metropolitan</td>\n",
              "      <td>4019.0</td>\n",
              "    </tr>\n",
              "    <tr>\n",
              "      <th>4</th>\n",
              "      <td>Abbotsford</td>\n",
              "      <td>5 Charles St</td>\n",
              "      <td>3</td>\n",
              "      <td>h</td>\n",
              "      <td>1465000.0</td>\n",
              "      <td>SP</td>\n",
              "      <td>Biggin</td>\n",
              "      <td>4/03/2017</td>\n",
              "      <td>2.5</td>\n",
              "      <td>3067.0</td>\n",
              "      <td>3.0</td>\n",
              "      <td>2.0</td>\n",
              "      <td>0.0</td>\n",
              "      <td>134.0</td>\n",
              "      <td>150.0</td>\n",
              "      <td>1900.0</td>\n",
              "      <td>Yarra City Council</td>\n",
              "      <td>-37.80930</td>\n",
              "      <td>144.99440</td>\n",
              "      <td>Northern Metropolitan</td>\n",
              "      <td>4019.0</td>\n",
              "    </tr>\n",
              "    <tr>\n",
              "      <th>...</th>\n",
              "      <td>...</td>\n",
              "      <td>...</td>\n",
              "      <td>...</td>\n",
              "      <td>...</td>\n",
              "      <td>...</td>\n",
              "      <td>...</td>\n",
              "      <td>...</td>\n",
              "      <td>...</td>\n",
              "      <td>...</td>\n",
              "      <td>...</td>\n",
              "      <td>...</td>\n",
              "      <td>...</td>\n",
              "      <td>...</td>\n",
              "      <td>...</td>\n",
              "      <td>...</td>\n",
              "      <td>...</td>\n",
              "      <td>...</td>\n",
              "      <td>...</td>\n",
              "      <td>...</td>\n",
              "      <td>...</td>\n",
              "      <td>...</td>\n",
              "    </tr>\n",
              "    <tr>\n",
              "      <th>34852</th>\n",
              "      <td>Yarraville</td>\n",
              "      <td>13 Burns St</td>\n",
              "      <td>4</td>\n",
              "      <td>h</td>\n",
              "      <td>1480000.0</td>\n",
              "      <td>PI</td>\n",
              "      <td>Jas</td>\n",
              "      <td>24/02/2018</td>\n",
              "      <td>6.3</td>\n",
              "      <td>3013.0</td>\n",
              "      <td>4.0</td>\n",
              "      <td>1.0</td>\n",
              "      <td>3.0</td>\n",
              "      <td>593.0</td>\n",
              "      <td>NaN</td>\n",
              "      <td>NaN</td>\n",
              "      <td>Maribyrnong City Council</td>\n",
              "      <td>-37.81053</td>\n",
              "      <td>144.88467</td>\n",
              "      <td>Western Metropolitan</td>\n",
              "      <td>6543.0</td>\n",
              "    </tr>\n",
              "    <tr>\n",
              "      <th>34853</th>\n",
              "      <td>Yarraville</td>\n",
              "      <td>29A Murray St</td>\n",
              "      <td>2</td>\n",
              "      <td>h</td>\n",
              "      <td>888000.0</td>\n",
              "      <td>SP</td>\n",
              "      <td>Sweeney</td>\n",
              "      <td>24/02/2018</td>\n",
              "      <td>6.3</td>\n",
              "      <td>3013.0</td>\n",
              "      <td>2.0</td>\n",
              "      <td>2.0</td>\n",
              "      <td>1.0</td>\n",
              "      <td>98.0</td>\n",
              "      <td>104.0</td>\n",
              "      <td>2018.0</td>\n",
              "      <td>Maribyrnong City Council</td>\n",
              "      <td>-37.81551</td>\n",
              "      <td>144.88826</td>\n",
              "      <td>Western Metropolitan</td>\n",
              "      <td>6543.0</td>\n",
              "    </tr>\n",
              "    <tr>\n",
              "      <th>34854</th>\n",
              "      <td>Yarraville</td>\n",
              "      <td>147A Severn St</td>\n",
              "      <td>2</td>\n",
              "      <td>t</td>\n",
              "      <td>705000.0</td>\n",
              "      <td>S</td>\n",
              "      <td>Jas</td>\n",
              "      <td>24/02/2018</td>\n",
              "      <td>6.3</td>\n",
              "      <td>3013.0</td>\n",
              "      <td>2.0</td>\n",
              "      <td>1.0</td>\n",
              "      <td>2.0</td>\n",
              "      <td>220.0</td>\n",
              "      <td>120.0</td>\n",
              "      <td>2000.0</td>\n",
              "      <td>Maribyrnong City Council</td>\n",
              "      <td>-37.82286</td>\n",
              "      <td>144.87856</td>\n",
              "      <td>Western Metropolitan</td>\n",
              "      <td>6543.0</td>\n",
              "    </tr>\n",
              "    <tr>\n",
              "      <th>34855</th>\n",
              "      <td>Yarraville</td>\n",
              "      <td>12/37 Stephen St</td>\n",
              "      <td>3</td>\n",
              "      <td>h</td>\n",
              "      <td>1140000.0</td>\n",
              "      <td>SP</td>\n",
              "      <td>hockingstuart</td>\n",
              "      <td>24/02/2018</td>\n",
              "      <td>6.3</td>\n",
              "      <td>3013.0</td>\n",
              "      <td>NaN</td>\n",
              "      <td>NaN</td>\n",
              "      <td>NaN</td>\n",
              "      <td>NaN</td>\n",
              "      <td>NaN</td>\n",
              "      <td>NaN</td>\n",
              "      <td>Maribyrnong City Council</td>\n",
              "      <td>NaN</td>\n",
              "      <td>NaN</td>\n",
              "      <td>Western Metropolitan</td>\n",
              "      <td>6543.0</td>\n",
              "    </tr>\n",
              "    <tr>\n",
              "      <th>34856</th>\n",
              "      <td>Yarraville</td>\n",
              "      <td>3 Tarrengower St</td>\n",
              "      <td>2</td>\n",
              "      <td>h</td>\n",
              "      <td>1020000.0</td>\n",
              "      <td>PI</td>\n",
              "      <td>RW</td>\n",
              "      <td>24/02/2018</td>\n",
              "      <td>6.3</td>\n",
              "      <td>3013.0</td>\n",
              "      <td>2.0</td>\n",
              "      <td>1.0</td>\n",
              "      <td>0.0</td>\n",
              "      <td>250.0</td>\n",
              "      <td>103.0</td>\n",
              "      <td>1930.0</td>\n",
              "      <td>Maribyrnong City Council</td>\n",
              "      <td>-37.81810</td>\n",
              "      <td>144.89351</td>\n",
              "      <td>Western Metropolitan</td>\n",
              "      <td>6543.0</td>\n",
              "    </tr>\n",
              "  </tbody>\n",
              "</table>\n",
              "<p>34857 rows × 21 columns</p>\n",
              "</div>"
            ],
            "text/plain": [
              "           Suburb             Address  Rooms Type      Price Method  \\\n",
              "0      Abbotsford       68 Studley St      2    h        NaN     SS   \n",
              "1      Abbotsford        85 Turner St      2    h  1480000.0      S   \n",
              "2      Abbotsford     25 Bloomburg St      2    h  1035000.0      S   \n",
              "3      Abbotsford  18/659 Victoria St      3    u        NaN     VB   \n",
              "4      Abbotsford        5 Charles St      3    h  1465000.0     SP   \n",
              "...           ...                 ...    ...  ...        ...    ...   \n",
              "34852  Yarraville         13 Burns St      4    h  1480000.0     PI   \n",
              "34853  Yarraville       29A Murray St      2    h   888000.0     SP   \n",
              "34854  Yarraville      147A Severn St      2    t   705000.0      S   \n",
              "34855  Yarraville    12/37 Stephen St      3    h  1140000.0     SP   \n",
              "34856  Yarraville    3 Tarrengower St      2    h  1020000.0     PI   \n",
              "\n",
              "             SellerG        Date  Distance  Postcode  Bedroom2  Bathroom  Car  \\\n",
              "0             Jellis   3/09/2016       2.5    3067.0       2.0       1.0  1.0   \n",
              "1             Biggin   3/12/2016       2.5    3067.0       2.0       1.0  1.0   \n",
              "2             Biggin   4/02/2016       2.5    3067.0       2.0       1.0  0.0   \n",
              "3             Rounds   4/02/2016       2.5    3067.0       3.0       2.0  1.0   \n",
              "4             Biggin   4/03/2017       2.5    3067.0       3.0       2.0  0.0   \n",
              "...              ...         ...       ...       ...       ...       ...  ...   \n",
              "34852            Jas  24/02/2018       6.3    3013.0       4.0       1.0  3.0   \n",
              "34853        Sweeney  24/02/2018       6.3    3013.0       2.0       2.0  1.0   \n",
              "34854            Jas  24/02/2018       6.3    3013.0       2.0       1.0  2.0   \n",
              "34855  hockingstuart  24/02/2018       6.3    3013.0       NaN       NaN  NaN   \n",
              "34856             RW  24/02/2018       6.3    3013.0       2.0       1.0  0.0   \n",
              "\n",
              "       Landsize  BuildingArea  YearBuilt               CouncilArea  Lattitude  \\\n",
              "0         126.0           NaN        NaN        Yarra City Council  -37.80140   \n",
              "1         202.0           NaN        NaN        Yarra City Council  -37.79960   \n",
              "2         156.0          79.0     1900.0        Yarra City Council  -37.80790   \n",
              "3           0.0           NaN        NaN        Yarra City Council  -37.81140   \n",
              "4         134.0         150.0     1900.0        Yarra City Council  -37.80930   \n",
              "...         ...           ...        ...                       ...        ...   \n",
              "34852     593.0           NaN        NaN  Maribyrnong City Council  -37.81053   \n",
              "34853      98.0         104.0     2018.0  Maribyrnong City Council  -37.81551   \n",
              "34854     220.0         120.0     2000.0  Maribyrnong City Council  -37.82286   \n",
              "34855       NaN           NaN        NaN  Maribyrnong City Council        NaN   \n",
              "34856     250.0         103.0     1930.0  Maribyrnong City Council  -37.81810   \n",
              "\n",
              "       Longtitude             Regionname  Propertycount  \n",
              "0       144.99580  Northern Metropolitan         4019.0  \n",
              "1       144.99840  Northern Metropolitan         4019.0  \n",
              "2       144.99340  Northern Metropolitan         4019.0  \n",
              "3       145.01160  Northern Metropolitan         4019.0  \n",
              "4       144.99440  Northern Metropolitan         4019.0  \n",
              "...           ...                    ...            ...  \n",
              "34852   144.88467   Western Metropolitan         6543.0  \n",
              "34853   144.88826   Western Metropolitan         6543.0  \n",
              "34854   144.87856   Western Metropolitan         6543.0  \n",
              "34855         NaN   Western Metropolitan         6543.0  \n",
              "34856   144.89351   Western Metropolitan         6543.0  \n",
              "\n",
              "[34857 rows x 21 columns]"
            ]
          },
          "metadata": {
            "tags": []
          },
          "execution_count": 5
        }
      ]
    },
    {
      "cell_type": "markdown",
      "metadata": {
        "id": "cJmPHedAux1S"
      },
      "source": [
        "Melbourne housing clearance data from Jan 2016\n",
        "Suburb: Suburb\n",
        "\n",
        "Address: Address\n",
        "\n",
        "Rooms: Number of rooms\n",
        "\n",
        "Price: Price in Australian dollars\n",
        "\n",
        "Method:\n",
        "S - property sold;\n",
        "SP - property sold prior;\n",
        "PI - property passed in;\n",
        "PN - sold prior not disclosed;\n",
        "SN - sold not disclosed;\n",
        "NB - no bid;\n",
        "VB - vendor bid;\n",
        "W - withdrawn prior to auction;\n",
        "SA - sold after auction;\n",
        "SS - sold after auction price not disclosed.\n",
        "N/A - price or highest bid not available.\n",
        "\n",
        "Type:\n",
        "br - bedroom(s);\n",
        "h - house,cottage,villa, semi,terrace;\n",
        "u - unit, duplex;\n",
        "t - townhouse;\n",
        "dev site - development site;\n",
        "o res - other residential.\n",
        "\n",
        "SellerG: Real Estate Agent\n",
        "\n",
        "Date: Date sold\n",
        "\n",
        "Distance: Distance from CBD in Kilometres\n",
        "\n",
        "Regionname: General Region (West, North West, North, North east …etc)\n",
        "\n",
        "Propertycount: Number of properties that exist in the suburb.\n",
        "\n",
        "Bedroom2 : Scraped # of Bedrooms (from different source)\n",
        "\n",
        "Bathroom: Number of Bathrooms\n",
        "\n",
        "Car: Number of carspots\n",
        "\n",
        "Landsize: Land Size in Metres\n",
        "\n",
        "BuildingArea: Building Size in Metres\n",
        "\n",
        "YearBuilt: Year the house was built\n",
        "\n",
        "CouncilArea: Governing council for the area\n",
        "\n",
        "Lattitude\n",
        "\n",
        "Longtitude"
      ]
    },
    {
      "cell_type": "code",
      "metadata": {
        "ExecuteTime": {
          "end_time": "2021-02-06T15:24:13.438652Z",
          "start_time": "2021-02-06T15:24:13.320911Z"
        },
        "id": "SK9JpYV-ux1h",
        "colab": {
          "base_uri": "https://localhost:8080/",
          "height": 470
        },
        "outputId": "3ec556f5-c969-449e-84b8-b5fa47deb79a"
      },
      "source": [
        "data.describe(np.arange(.1,1,.1))"
      ],
      "execution_count": 6,
      "outputs": [
        {
          "output_type": "execute_result",
          "data": {
            "text/html": [
              "<div>\n",
              "<style scoped>\n",
              "    .dataframe tbody tr th:only-of-type {\n",
              "        vertical-align: middle;\n",
              "    }\n",
              "\n",
              "    .dataframe tbody tr th {\n",
              "        vertical-align: top;\n",
              "    }\n",
              "\n",
              "    .dataframe thead th {\n",
              "        text-align: right;\n",
              "    }\n",
              "</style>\n",
              "<table border=\"1\" class=\"dataframe\">\n",
              "  <thead>\n",
              "    <tr style=\"text-align: right;\">\n",
              "      <th></th>\n",
              "      <th>Rooms</th>\n",
              "      <th>Price</th>\n",
              "      <th>Distance</th>\n",
              "      <th>Postcode</th>\n",
              "      <th>Bedroom2</th>\n",
              "      <th>Bathroom</th>\n",
              "      <th>Car</th>\n",
              "      <th>Landsize</th>\n",
              "      <th>BuildingArea</th>\n",
              "      <th>YearBuilt</th>\n",
              "      <th>Lattitude</th>\n",
              "      <th>Longtitude</th>\n",
              "      <th>Propertycount</th>\n",
              "    </tr>\n",
              "  </thead>\n",
              "  <tbody>\n",
              "    <tr>\n",
              "      <th>count</th>\n",
              "      <td>34857.000000</td>\n",
              "      <td>2.724700e+04</td>\n",
              "      <td>34856.000000</td>\n",
              "      <td>34856.000000</td>\n",
              "      <td>26640.000000</td>\n",
              "      <td>26631.000000</td>\n",
              "      <td>26129.000000</td>\n",
              "      <td>23047.000000</td>\n",
              "      <td>13742.00000</td>\n",
              "      <td>15551.000000</td>\n",
              "      <td>26881.000000</td>\n",
              "      <td>26881.000000</td>\n",
              "      <td>34854.000000</td>\n",
              "    </tr>\n",
              "    <tr>\n",
              "      <th>mean</th>\n",
              "      <td>3.031012</td>\n",
              "      <td>1.050173e+06</td>\n",
              "      <td>11.184929</td>\n",
              "      <td>3116.062859</td>\n",
              "      <td>3.084647</td>\n",
              "      <td>1.624798</td>\n",
              "      <td>1.728845</td>\n",
              "      <td>593.598993</td>\n",
              "      <td>160.25640</td>\n",
              "      <td>1965.289885</td>\n",
              "      <td>-37.810634</td>\n",
              "      <td>145.001851</td>\n",
              "      <td>7572.888306</td>\n",
              "    </tr>\n",
              "    <tr>\n",
              "      <th>std</th>\n",
              "      <td>0.969933</td>\n",
              "      <td>6.414671e+05</td>\n",
              "      <td>6.788892</td>\n",
              "      <td>109.023903</td>\n",
              "      <td>0.980690</td>\n",
              "      <td>0.724212</td>\n",
              "      <td>1.010771</td>\n",
              "      <td>3398.841946</td>\n",
              "      <td>401.26706</td>\n",
              "      <td>37.328178</td>\n",
              "      <td>0.090279</td>\n",
              "      <td>0.120169</td>\n",
              "      <td>4428.090313</td>\n",
              "    </tr>\n",
              "    <tr>\n",
              "      <th>min</th>\n",
              "      <td>1.000000</td>\n",
              "      <td>8.500000e+04</td>\n",
              "      <td>0.000000</td>\n",
              "      <td>3000.000000</td>\n",
              "      <td>0.000000</td>\n",
              "      <td>0.000000</td>\n",
              "      <td>0.000000</td>\n",
              "      <td>0.000000</td>\n",
              "      <td>0.00000</td>\n",
              "      <td>1196.000000</td>\n",
              "      <td>-38.190430</td>\n",
              "      <td>144.423790</td>\n",
              "      <td>83.000000</td>\n",
              "    </tr>\n",
              "    <tr>\n",
              "      <th>10%</th>\n",
              "      <td>2.000000</td>\n",
              "      <td>4.853000e+05</td>\n",
              "      <td>3.800000</td>\n",
              "      <td>3024.000000</td>\n",
              "      <td>2.000000</td>\n",
              "      <td>1.000000</td>\n",
              "      <td>1.000000</td>\n",
              "      <td>0.000000</td>\n",
              "      <td>73.00000</td>\n",
              "      <td>1910.000000</td>\n",
              "      <td>-37.919200</td>\n",
              "      <td>144.868480</td>\n",
              "      <td>2674.000000</td>\n",
              "    </tr>\n",
              "    <tr>\n",
              "      <th>20%</th>\n",
              "      <td>2.000000</td>\n",
              "      <td>5.946000e+05</td>\n",
              "      <td>5.600000</td>\n",
              "      <td>3042.000000</td>\n",
              "      <td>2.000000</td>\n",
              "      <td>1.000000</td>\n",
              "      <td>1.000000</td>\n",
              "      <td>179.000000</td>\n",
              "      <td>94.00000</td>\n",
              "      <td>1930.000000</td>\n",
              "      <td>-37.878900</td>\n",
              "      <td>144.912190</td>\n",
              "      <td>3650.000000</td>\n",
              "    </tr>\n",
              "    <tr>\n",
              "      <th>30%</th>\n",
              "      <td>3.000000</td>\n",
              "      <td>6.780000e+05</td>\n",
              "      <td>7.300000</td>\n",
              "      <td>3058.000000</td>\n",
              "      <td>3.000000</td>\n",
              "      <td>1.000000</td>\n",
              "      <td>1.000000</td>\n",
              "      <td>276.000000</td>\n",
              "      <td>109.00000</td>\n",
              "      <td>1950.000000</td>\n",
              "      <td>-37.852200</td>\n",
              "      <td>144.953790</td>\n",
              "      <td>4836.000000</td>\n",
              "    </tr>\n",
              "    <tr>\n",
              "      <th>40%</th>\n",
              "      <td>3.000000</td>\n",
              "      <td>7.700000e+05</td>\n",
              "      <td>8.500000</td>\n",
              "      <td>3073.000000</td>\n",
              "      <td>3.000000</td>\n",
              "      <td>1.000000</td>\n",
              "      <td>1.000000</td>\n",
              "      <td>385.000000</td>\n",
              "      <td>121.00000</td>\n",
              "      <td>1960.000000</td>\n",
              "      <td>-37.830930</td>\n",
              "      <td>144.988410</td>\n",
              "      <td>5556.000000</td>\n",
              "    </tr>\n",
              "    <tr>\n",
              "      <th>50%</th>\n",
              "      <td>3.000000</td>\n",
              "      <td>8.700000e+05</td>\n",
              "      <td>10.300000</td>\n",
              "      <td>3103.000000</td>\n",
              "      <td>3.000000</td>\n",
              "      <td>2.000000</td>\n",
              "      <td>2.000000</td>\n",
              "      <td>521.000000</td>\n",
              "      <td>136.00000</td>\n",
              "      <td>1970.000000</td>\n",
              "      <td>-37.807600</td>\n",
              "      <td>145.007800</td>\n",
              "      <td>6763.000000</td>\n",
              "    </tr>\n",
              "    <tr>\n",
              "      <th>60%</th>\n",
              "      <td>3.000000</td>\n",
              "      <td>1.000000e+06</td>\n",
              "      <td>11.400000</td>\n",
              "      <td>3125.000000</td>\n",
              "      <td>3.000000</td>\n",
              "      <td>2.000000</td>\n",
              "      <td>2.000000</td>\n",
              "      <td>587.000000</td>\n",
              "      <td>153.00000</td>\n",
              "      <td>1980.000000</td>\n",
              "      <td>-37.786780</td>\n",
              "      <td>145.032920</td>\n",
              "      <td>7809.000000</td>\n",
              "    </tr>\n",
              "    <tr>\n",
              "      <th>70%</th>\n",
              "      <td>3.000000</td>\n",
              "      <td>1.200000e+06</td>\n",
              "      <td>13.400000</td>\n",
              "      <td>3146.000000</td>\n",
              "      <td>4.000000</td>\n",
              "      <td>2.000000</td>\n",
              "      <td>2.000000</td>\n",
              "      <td>648.000000</td>\n",
              "      <td>175.00000</td>\n",
              "      <td>1993.000000</td>\n",
              "      <td>-37.765620</td>\n",
              "      <td>145.057570</td>\n",
              "      <td>8989.000000</td>\n",
              "    </tr>\n",
              "    <tr>\n",
              "      <th>80%</th>\n",
              "      <td>4.000000</td>\n",
              "      <td>1.400000e+06</td>\n",
              "      <td>14.800000</td>\n",
              "      <td>3168.000000</td>\n",
              "      <td>4.000000</td>\n",
              "      <td>2.000000</td>\n",
              "      <td>2.000000</td>\n",
              "      <td>702.000000</td>\n",
              "      <td>204.00000</td>\n",
              "      <td>2003.000000</td>\n",
              "      <td>-37.740300</td>\n",
              "      <td>145.087450</td>\n",
              "      <td>10969.000000</td>\n",
              "    </tr>\n",
              "    <tr>\n",
              "      <th>90%</th>\n",
              "      <td>4.000000</td>\n",
              "      <td>1.800000e+06</td>\n",
              "      <td>19.900000</td>\n",
              "      <td>3190.000000</td>\n",
              "      <td>4.000000</td>\n",
              "      <td>2.000000</td>\n",
              "      <td>3.000000</td>\n",
              "      <td>824.000000</td>\n",
              "      <td>258.00000</td>\n",
              "      <td>2010.000000</td>\n",
              "      <td>-37.706800</td>\n",
              "      <td>145.136680</td>\n",
              "      <td>14577.000000</td>\n",
              "    </tr>\n",
              "    <tr>\n",
              "      <th>max</th>\n",
              "      <td>16.000000</td>\n",
              "      <td>1.120000e+07</td>\n",
              "      <td>48.100000</td>\n",
              "      <td>3978.000000</td>\n",
              "      <td>30.000000</td>\n",
              "      <td>12.000000</td>\n",
              "      <td>26.000000</td>\n",
              "      <td>433014.000000</td>\n",
              "      <td>44515.00000</td>\n",
              "      <td>2106.000000</td>\n",
              "      <td>-37.390200</td>\n",
              "      <td>145.526350</td>\n",
              "      <td>21650.000000</td>\n",
              "    </tr>\n",
              "  </tbody>\n",
              "</table>\n",
              "</div>"
            ],
            "text/plain": [
              "              Rooms         Price      Distance      Postcode      Bedroom2  \\\n",
              "count  34857.000000  2.724700e+04  34856.000000  34856.000000  26640.000000   \n",
              "mean       3.031012  1.050173e+06     11.184929   3116.062859      3.084647   \n",
              "std        0.969933  6.414671e+05      6.788892    109.023903      0.980690   \n",
              "min        1.000000  8.500000e+04      0.000000   3000.000000      0.000000   \n",
              "10%        2.000000  4.853000e+05      3.800000   3024.000000      2.000000   \n",
              "20%        2.000000  5.946000e+05      5.600000   3042.000000      2.000000   \n",
              "30%        3.000000  6.780000e+05      7.300000   3058.000000      3.000000   \n",
              "40%        3.000000  7.700000e+05      8.500000   3073.000000      3.000000   \n",
              "50%        3.000000  8.700000e+05     10.300000   3103.000000      3.000000   \n",
              "60%        3.000000  1.000000e+06     11.400000   3125.000000      3.000000   \n",
              "70%        3.000000  1.200000e+06     13.400000   3146.000000      4.000000   \n",
              "80%        4.000000  1.400000e+06     14.800000   3168.000000      4.000000   \n",
              "90%        4.000000  1.800000e+06     19.900000   3190.000000      4.000000   \n",
              "max       16.000000  1.120000e+07     48.100000   3978.000000     30.000000   \n",
              "\n",
              "           Bathroom           Car       Landsize  BuildingArea     YearBuilt  \\\n",
              "count  26631.000000  26129.000000   23047.000000   13742.00000  15551.000000   \n",
              "mean       1.624798      1.728845     593.598993     160.25640   1965.289885   \n",
              "std        0.724212      1.010771    3398.841946     401.26706     37.328178   \n",
              "min        0.000000      0.000000       0.000000       0.00000   1196.000000   \n",
              "10%        1.000000      1.000000       0.000000      73.00000   1910.000000   \n",
              "20%        1.000000      1.000000     179.000000      94.00000   1930.000000   \n",
              "30%        1.000000      1.000000     276.000000     109.00000   1950.000000   \n",
              "40%        1.000000      1.000000     385.000000     121.00000   1960.000000   \n",
              "50%        2.000000      2.000000     521.000000     136.00000   1970.000000   \n",
              "60%        2.000000      2.000000     587.000000     153.00000   1980.000000   \n",
              "70%        2.000000      2.000000     648.000000     175.00000   1993.000000   \n",
              "80%        2.000000      2.000000     702.000000     204.00000   2003.000000   \n",
              "90%        2.000000      3.000000     824.000000     258.00000   2010.000000   \n",
              "max       12.000000     26.000000  433014.000000   44515.00000   2106.000000   \n",
              "\n",
              "          Lattitude    Longtitude  Propertycount  \n",
              "count  26881.000000  26881.000000   34854.000000  \n",
              "mean     -37.810634    145.001851    7572.888306  \n",
              "std        0.090279      0.120169    4428.090313  \n",
              "min      -38.190430    144.423790      83.000000  \n",
              "10%      -37.919200    144.868480    2674.000000  \n",
              "20%      -37.878900    144.912190    3650.000000  \n",
              "30%      -37.852200    144.953790    4836.000000  \n",
              "40%      -37.830930    144.988410    5556.000000  \n",
              "50%      -37.807600    145.007800    6763.000000  \n",
              "60%      -37.786780    145.032920    7809.000000  \n",
              "70%      -37.765620    145.057570    8989.000000  \n",
              "80%      -37.740300    145.087450   10969.000000  \n",
              "90%      -37.706800    145.136680   14577.000000  \n",
              "max      -37.390200    145.526350   21650.000000  "
            ]
          },
          "metadata": {
            "tags": []
          },
          "execution_count": 6
        }
      ]
    },
    {
      "cell_type": "code",
      "metadata": {
        "ExecuteTime": {
          "end_time": "2021-02-06T15:24:44.890841Z",
          "start_time": "2021-02-06T15:24:43.843617Z"
        },
        "id": "OXYKScD-ux1i",
        "colab": {
          "base_uri": "https://localhost:8080/",
          "height": 665
        },
        "outputId": "6a96ed29-1099-4318-b4fa-3a3f66e4370c"
      },
      "source": [
        "msno.bar(data)"
      ],
      "execution_count": 7,
      "outputs": [
        {
          "output_type": "execute_result",
          "data": {
            "text/plain": [
              "<matplotlib.axes._subplots.AxesSubplot at 0x7f2037a15780>"
            ]
          },
          "metadata": {
            "tags": []
          },
          "execution_count": 7
        },
        {
          "output_type": "display_data",
          "data": {
            "image/png": "[encoded data removed]",
            "text/plain": [
              "<Figure size 1728x720 with 3 Axes>"
            ]
          },
          "metadata": {
            "tags": [],
            "needs_background": "light"
          }
        }
      ]
    },
    {
      "cell_type": "code",
      "metadata": {
        "ExecuteTime": {
          "end_time": "2021-02-06T15:25:28.750396Z",
          "start_time": "2021-02-06T15:25:28.732178Z"
        },
        "id": "OTJQzTM3ux1j",
        "colab": {
          "base_uri": "https://localhost:8080/",
          "height": 391
        },
        "outputId": "cc44fec0-e93e-4eed-ba42-ee28a88e9654"
      },
      "source": [
        "data[['Bedroom2','Rooms']]"
      ],
      "execution_count": 8,
      "outputs": [
        {
          "output_type": "execute_result",
          "data": {
            "text/html": [
              "<div>\n",
              "<style scoped>\n",
              "    .dataframe tbody tr th:only-of-type {\n",
              "        vertical-align: middle;\n",
              "    }\n",
              "\n",
              "    .dataframe tbody tr th {\n",
              "        vertical-align: top;\n",
              "    }\n",
              "\n",
              "    .dataframe thead th {\n",
              "        text-align: right;\n",
              "    }\n",
              "</style>\n",
              "<table border=\"1\" class=\"dataframe\">\n",
              "  <thead>\n",
              "    <tr style=\"text-align: right;\">\n",
              "      <th></th>\n",
              "      <th>Bedroom2</th>\n",
              "      <th>Rooms</th>\n",
              "    </tr>\n",
              "  </thead>\n",
              "  <tbody>\n",
              "    <tr>\n",
              "      <th>0</th>\n",
              "      <td>2.0</td>\n",
              "      <td>2</td>\n",
              "    </tr>\n",
              "    <tr>\n",
              "      <th>1</th>\n",
              "      <td>2.0</td>\n",
              "      <td>2</td>\n",
              "    </tr>\n",
              "    <tr>\n",
              "      <th>2</th>\n",
              "      <td>2.0</td>\n",
              "      <td>2</td>\n",
              "    </tr>\n",
              "    <tr>\n",
              "      <th>3</th>\n",
              "      <td>3.0</td>\n",
              "      <td>3</td>\n",
              "    </tr>\n",
              "    <tr>\n",
              "      <th>4</th>\n",
              "      <td>3.0</td>\n",
              "      <td>3</td>\n",
              "    </tr>\n",
              "    <tr>\n",
              "      <th>...</th>\n",
              "      <td>...</td>\n",
              "      <td>...</td>\n",
              "    </tr>\n",
              "    <tr>\n",
              "      <th>34852</th>\n",
              "      <td>4.0</td>\n",
              "      <td>4</td>\n",
              "    </tr>\n",
              "    <tr>\n",
              "      <th>34853</th>\n",
              "      <td>2.0</td>\n",
              "      <td>2</td>\n",
              "    </tr>\n",
              "    <tr>\n",
              "      <th>34854</th>\n",
              "      <td>2.0</td>\n",
              "      <td>2</td>\n",
              "    </tr>\n",
              "    <tr>\n",
              "      <th>34855</th>\n",
              "      <td>NaN</td>\n",
              "      <td>3</td>\n",
              "    </tr>\n",
              "    <tr>\n",
              "      <th>34856</th>\n",
              "      <td>2.0</td>\n",
              "      <td>2</td>\n",
              "    </tr>\n",
              "  </tbody>\n",
              "</table>\n",
              "<p>34857 rows × 2 columns</p>\n",
              "</div>"
            ],
            "text/plain": [
              "       Bedroom2  Rooms\n",
              "0           2.0      2\n",
              "1           2.0      2\n",
              "2           2.0      2\n",
              "3           3.0      3\n",
              "4           3.0      3\n",
              "...         ...    ...\n",
              "34852       4.0      4\n",
              "34853       2.0      2\n",
              "34854       2.0      2\n",
              "34855       NaN      3\n",
              "34856       2.0      2\n",
              "\n",
              "[34857 rows x 2 columns]"
            ]
          },
          "metadata": {
            "tags": []
          },
          "execution_count": 8
        }
      ]
    },
    {
      "cell_type": "code",
      "metadata": {
        "ExecuteTime": {
          "end_time": "2021-02-06T15:25:29.895759Z",
          "start_time": "2021-02-06T15:25:29.882847Z"
        },
        "id": "B_3MVFUiux1j",
        "colab": {
          "base_uri": "https://localhost:8080/"
        },
        "outputId": "6686c427-b89c-4c05-b761-8388d92c028e"
      },
      "source": [
        "data['Rooms'].isnull().sum()"
      ],
      "execution_count": 9,
      "outputs": [
        {
          "output_type": "execute_result",
          "data": {
            "text/plain": [
              "0"
            ]
          },
          "metadata": {
            "tags": []
          },
          "execution_count": 9
        }
      ]
    },
    {
      "cell_type": "code",
      "metadata": {
        "ExecuteTime": {
          "end_time": "2021-02-06T15:25:41.723691Z",
          "start_time": "2021-02-06T15:25:41.715746Z"
        },
        "id": "WepyqKYxux1k",
        "colab": {
          "base_uri": "https://localhost:8080/"
        },
        "outputId": "51aded3f-32fb-4fbd-fc4b-46aee7bc1062"
      },
      "source": [
        "data['Bedroom2'].isnull().sum()"
      ],
      "execution_count": 10,
      "outputs": [
        {
          "output_type": "execute_result",
          "data": {
            "text/plain": [
              "8217"
            ]
          },
          "metadata": {
            "tags": []
          },
          "execution_count": 10
        }
      ]
    },
    {
      "cell_type": "code",
      "metadata": {
        "ExecuteTime": {
          "end_time": "2021-02-06T15:25:42.772028Z",
          "start_time": "2021-02-06T15:25:42.726384Z"
        },
        "id": "IqC-d8Npux1l",
        "colab": {
          "base_uri": "https://localhost:8080/",
          "height": 606
        },
        "outputId": "1bb52f84-bd8a-44c5-9bea-f0f5de190d21"
      },
      "source": [
        "data[data['Rooms']==data['Bedroom2']]"
      ],
      "execution_count": 11,
      "outputs": [
        {
          "output_type": "execute_result",
          "data": {
            "text/html": [
              "<div>\n",
              "<style scoped>\n",
              "    .dataframe tbody tr th:only-of-type {\n",
              "        vertical-align: middle;\n",
              "    }\n",
              "\n",
              "    .dataframe tbody tr th {\n",
              "        vertical-align: top;\n",
              "    }\n",
              "\n",
              "    .dataframe thead th {\n",
              "        text-align: right;\n",
              "    }\n",
              "</style>\n",
              "<table border=\"1\" class=\"dataframe\">\n",
              "  <thead>\n",
              "    <tr style=\"text-align: right;\">\n",
              "      <th></th>\n",
              "      <th>Suburb</th>\n",
              "      <th>Address</th>\n",
              "      <th>Rooms</th>\n",
              "      <th>Type</th>\n",
              "      <th>Price</th>\n",
              "      <th>Method</th>\n",
              "      <th>SellerG</th>\n",
              "      <th>Date</th>\n",
              "      <th>Distance</th>\n",
              "      <th>Postcode</th>\n",
              "      <th>Bedroom2</th>\n",
              "      <th>Bathroom</th>\n",
              "      <th>Car</th>\n",
              "      <th>Landsize</th>\n",
              "      <th>BuildingArea</th>\n",
              "      <th>YearBuilt</th>\n",
              "      <th>CouncilArea</th>\n",
              "      <th>Lattitude</th>\n",
              "      <th>Longtitude</th>\n",
              "      <th>Regionname</th>\n",
              "      <th>Propertycount</th>\n",
              "    </tr>\n",
              "  </thead>\n",
              "  <tbody>\n",
              "    <tr>\n",
              "      <th>0</th>\n",
              "      <td>Abbotsford</td>\n",
              "      <td>68 Studley St</td>\n",
              "      <td>2</td>\n",
              "      <td>h</td>\n",
              "      <td>NaN</td>\n",
              "      <td>SS</td>\n",
              "      <td>Jellis</td>\n",
              "      <td>3/09/2016</td>\n",
              "      <td>2.5</td>\n",
              "      <td>3067.0</td>\n",
              "      <td>2.0</td>\n",
              "      <td>1.0</td>\n",
              "      <td>1.0</td>\n",
              "      <td>126.0</td>\n",
              "      <td>NaN</td>\n",
              "      <td>NaN</td>\n",
              "      <td>Yarra City Council</td>\n",
              "      <td>-37.80140</td>\n",
              "      <td>144.99580</td>\n",
              "      <td>Northern Metropolitan</td>\n",
              "      <td>4019.0</td>\n",
              "    </tr>\n",
              "    <tr>\n",
              "      <th>1</th>\n",
              "      <td>Abbotsford</td>\n",
              "      <td>85 Turner St</td>\n",
              "      <td>2</td>\n",
              "      <td>h</td>\n",
              "      <td>1480000.0</td>\n",
              "      <td>S</td>\n",
              "      <td>Biggin</td>\n",
              "      <td>3/12/2016</td>\n",
              "      <td>2.5</td>\n",
              "      <td>3067.0</td>\n",
              "      <td>2.0</td>\n",
              "      <td>1.0</td>\n",
              "      <td>1.0</td>\n",
              "      <td>202.0</td>\n",
              "      <td>NaN</td>\n",
              "      <td>NaN</td>\n",
              "      <td>Yarra City Council</td>\n",
              "      <td>-37.79960</td>\n",
              "      <td>144.99840</td>\n",
              "      <td>Northern Metropolitan</td>\n",
              "      <td>4019.0</td>\n",
              "    </tr>\n",
              "    <tr>\n",
              "      <th>2</th>\n",
              "      <td>Abbotsford</td>\n",
              "      <td>25 Bloomburg St</td>\n",
              "      <td>2</td>\n",
              "      <td>h</td>\n",
              "      <td>1035000.0</td>\n",
              "      <td>S</td>\n",
              "      <td>Biggin</td>\n",
              "      <td>4/02/2016</td>\n",
              "      <td>2.5</td>\n",
              "      <td>3067.0</td>\n",
              "      <td>2.0</td>\n",
              "      <td>1.0</td>\n",
              "      <td>0.0</td>\n",
              "      <td>156.0</td>\n",
              "      <td>79.0</td>\n",
              "      <td>1900.0</td>\n",
              "      <td>Yarra City Council</td>\n",
              "      <td>-37.80790</td>\n",
              "      <td>144.99340</td>\n",
              "      <td>Northern Metropolitan</td>\n",
              "      <td>4019.0</td>\n",
              "    </tr>\n",
              "    <tr>\n",
              "      <th>3</th>\n",
              "      <td>Abbotsford</td>\n",
              "      <td>18/659 Victoria St</td>\n",
              "      <td>3</td>\n",
              "      <td>u</td>\n",
              "      <td>NaN</td>\n",
              "      <td>VB</td>\n",
              "      <td>Rounds</td>\n",
              "      <td>4/02/2016</td>\n",
              "      <td>2.5</td>\n",
              "      <td>3067.0</td>\n",
              "      <td>3.0</td>\n",
              "      <td>2.0</td>\n",
              "      <td>1.0</td>\n",
              "      <td>0.0</td>\n",
              "      <td>NaN</td>\n",
              "      <td>NaN</td>\n",
              "      <td>Yarra City Council</td>\n",
              "      <td>-37.81140</td>\n",
              "      <td>145.01160</td>\n",
              "      <td>Northern Metropolitan</td>\n",
              "      <td>4019.0</td>\n",
              "    </tr>\n",
              "    <tr>\n",
              "      <th>4</th>\n",
              "      <td>Abbotsford</td>\n",
              "      <td>5 Charles St</td>\n",
              "      <td>3</td>\n",
              "      <td>h</td>\n",
              "      <td>1465000.0</td>\n",
              "      <td>SP</td>\n",
              "      <td>Biggin</td>\n",
              "      <td>4/03/2017</td>\n",
              "      <td>2.5</td>\n",
              "      <td>3067.0</td>\n",
              "      <td>3.0</td>\n",
              "      <td>2.0</td>\n",
              "      <td>0.0</td>\n",
              "      <td>134.0</td>\n",
              "      <td>150.0</td>\n",
              "      <td>1900.0</td>\n",
              "      <td>Yarra City Council</td>\n",
              "      <td>-37.80930</td>\n",
              "      <td>144.99440</td>\n",
              "      <td>Northern Metropolitan</td>\n",
              "      <td>4019.0</td>\n",
              "    </tr>\n",
              "    <tr>\n",
              "      <th>...</th>\n",
              "      <td>...</td>\n",
              "      <td>...</td>\n",
              "      <td>...</td>\n",
              "      <td>...</td>\n",
              "      <td>...</td>\n",
              "      <td>...</td>\n",
              "      <td>...</td>\n",
              "      <td>...</td>\n",
              "      <td>...</td>\n",
              "      <td>...</td>\n",
              "      <td>...</td>\n",
              "      <td>...</td>\n",
              "      <td>...</td>\n",
              "      <td>...</td>\n",
              "      <td>...</td>\n",
              "      <td>...</td>\n",
              "      <td>...</td>\n",
              "      <td>...</td>\n",
              "      <td>...</td>\n",
              "      <td>...</td>\n",
              "      <td>...</td>\n",
              "    </tr>\n",
              "    <tr>\n",
              "      <th>34851</th>\n",
              "      <td>Yarraville</td>\n",
              "      <td>78 Bayview Rd</td>\n",
              "      <td>3</td>\n",
              "      <td>h</td>\n",
              "      <td>1101000.0</td>\n",
              "      <td>S</td>\n",
              "      <td>Jas</td>\n",
              "      <td>24/02/2018</td>\n",
              "      <td>6.3</td>\n",
              "      <td>3013.0</td>\n",
              "      <td>3.0</td>\n",
              "      <td>1.0</td>\n",
              "      <td>NaN</td>\n",
              "      <td>288.0</td>\n",
              "      <td>NaN</td>\n",
              "      <td>NaN</td>\n",
              "      <td>Maribyrnong City Council</td>\n",
              "      <td>-37.81095</td>\n",
              "      <td>144.88516</td>\n",
              "      <td>Western Metropolitan</td>\n",
              "      <td>6543.0</td>\n",
              "    </tr>\n",
              "    <tr>\n",
              "      <th>34852</th>\n",
              "      <td>Yarraville</td>\n",
              "      <td>13 Burns St</td>\n",
              "      <td>4</td>\n",
              "      <td>h</td>\n",
              "      <td>1480000.0</td>\n",
              "      <td>PI</td>\n",
              "      <td>Jas</td>\n",
              "      <td>24/02/2018</td>\n",
              "      <td>6.3</td>\n",
              "      <td>3013.0</td>\n",
              "      <td>4.0</td>\n",
              "      <td>1.0</td>\n",
              "      <td>3.0</td>\n",
              "      <td>593.0</td>\n",
              "      <td>NaN</td>\n",
              "      <td>NaN</td>\n",
              "      <td>Maribyrnong City Council</td>\n",
              "      <td>-37.81053</td>\n",
              "      <td>144.88467</td>\n",
              "      <td>Western Metropolitan</td>\n",
              "      <td>6543.0</td>\n",
              "    </tr>\n",
              "    <tr>\n",
              "      <th>34853</th>\n",
              "      <td>Yarraville</td>\n",
              "      <td>29A Murray St</td>\n",
              "      <td>2</td>\n",
              "      <td>h</td>\n",
              "      <td>888000.0</td>\n",
              "      <td>SP</td>\n",
              "      <td>Sweeney</td>\n",
              "      <td>24/02/2018</td>\n",
              "      <td>6.3</td>\n",
              "      <td>3013.0</td>\n",
              "      <td>2.0</td>\n",
              "      <td>2.0</td>\n",
              "      <td>1.0</td>\n",
              "      <td>98.0</td>\n",
              "      <td>104.0</td>\n",
              "      <td>2018.0</td>\n",
              "      <td>Maribyrnong City Council</td>\n",
              "      <td>-37.81551</td>\n",
              "      <td>144.88826</td>\n",
              "      <td>Western Metropolitan</td>\n",
              "      <td>6543.0</td>\n",
              "    </tr>\n",
              "    <tr>\n",
              "      <th>34854</th>\n",
              "      <td>Yarraville</td>\n",
              "      <td>147A Severn St</td>\n",
              "      <td>2</td>\n",
              "      <td>t</td>\n",
              "      <td>705000.0</td>\n",
              "      <td>S</td>\n",
              "      <td>Jas</td>\n",
              "      <td>24/02/2018</td>\n",
              "      <td>6.3</td>\n",
              "      <td>3013.0</td>\n",
              "      <td>2.0</td>\n",
              "      <td>1.0</td>\n",
              "      <td>2.0</td>\n",
              "      <td>220.0</td>\n",
              "      <td>120.0</td>\n",
              "      <td>2000.0</td>\n",
              "      <td>Maribyrnong City Council</td>\n",
              "      <td>-37.82286</td>\n",
              "      <td>144.87856</td>\n",
              "      <td>Western Metropolitan</td>\n",
              "      <td>6543.0</td>\n",
              "    </tr>\n",
              "    <tr>\n",
              "      <th>34856</th>\n",
              "      <td>Yarraville</td>\n",
              "      <td>3 Tarrengower St</td>\n",
              "      <td>2</td>\n",
              "      <td>h</td>\n",
              "      <td>1020000.0</td>\n",
              "      <td>PI</td>\n",
              "      <td>RW</td>\n",
              "      <td>24/02/2018</td>\n",
              "      <td>6.3</td>\n",
              "      <td>3013.0</td>\n",
              "      <td>2.0</td>\n",
              "      <td>1.0</td>\n",
              "      <td>0.0</td>\n",
              "      <td>250.0</td>\n",
              "      <td>103.0</td>\n",
              "      <td>1930.0</td>\n",
              "      <td>Maribyrnong City Council</td>\n",
              "      <td>-37.81810</td>\n",
              "      <td>144.89351</td>\n",
              "      <td>Western Metropolitan</td>\n",
              "      <td>6543.0</td>\n",
              "    </tr>\n",
              "  </tbody>\n",
              "</table>\n",
              "<p>25692 rows × 21 columns</p>\n",
              "</div>"
            ],
            "text/plain": [
              "           Suburb             Address  Rooms Type      Price Method  SellerG  \\\n",
              "0      Abbotsford       68 Studley St      2    h        NaN     SS   Jellis   \n",
              "1      Abbotsford        85 Turner St      2    h  1480000.0      S   Biggin   \n",
              "2      Abbotsford     25 Bloomburg St      2    h  1035000.0      S   Biggin   \n",
              "3      Abbotsford  18/659 Victoria St      3    u        NaN     VB   Rounds   \n",
              "4      Abbotsford        5 Charles St      3    h  1465000.0     SP   Biggin   \n",
              "...           ...                 ...    ...  ...        ...    ...      ...   \n",
              "34851  Yarraville       78 Bayview Rd      3    h  1101000.0      S      Jas   \n",
              "34852  Yarraville         13 Burns St      4    h  1480000.0     PI      Jas   \n",
              "34853  Yarraville       29A Murray St      2    h   888000.0     SP  Sweeney   \n",
              "34854  Yarraville      147A Severn St      2    t   705000.0      S      Jas   \n",
              "34856  Yarraville    3 Tarrengower St      2    h  1020000.0     PI       RW   \n",
              "\n",
              "             Date  Distance  Postcode  Bedroom2  Bathroom  Car  Landsize  \\\n",
              "0       3/09/2016       2.5    3067.0       2.0       1.0  1.0     126.0   \n",
              "1       3/12/2016       2.5    3067.0       2.0       1.0  1.0     202.0   \n",
              "2       4/02/2016       2.5    3067.0       2.0       1.0  0.0     156.0   \n",
              "3       4/02/2016       2.5    3067.0       3.0       2.0  1.0       0.0   \n",
              "4       4/03/2017       2.5    3067.0       3.0       2.0  0.0     134.0   \n",
              "...           ...       ...       ...       ...       ...  ...       ...   \n",
              "34851  24/02/2018       6.3    3013.0       3.0       1.0  NaN     288.0   \n",
              "34852  24/02/2018       6.3    3013.0       4.0       1.0  3.0     593.0   \n",
              "34853  24/02/2018       6.3    3013.0       2.0       2.0  1.0      98.0   \n",
              "34854  24/02/2018       6.3    3013.0       2.0       1.0  2.0     220.0   \n",
              "34856  24/02/2018       6.3    3013.0       2.0       1.0  0.0     250.0   \n",
              "\n",
              "       BuildingArea  YearBuilt               CouncilArea  Lattitude  \\\n",
              "0               NaN        NaN        Yarra City Council  -37.80140   \n",
              "1               NaN        NaN        Yarra City Council  -37.79960   \n",
              "2              79.0     1900.0        Yarra City Council  -37.80790   \n",
              "3               NaN        NaN        Yarra City Council  -37.81140   \n",
              "4             150.0     1900.0        Yarra City Council  -37.80930   \n",
              "...             ...        ...                       ...        ...   \n",
              "34851           NaN        NaN  Maribyrnong City Council  -37.81095   \n",
              "34852           NaN        NaN  Maribyrnong City Council  -37.81053   \n",
              "34853         104.0     2018.0  Maribyrnong City Council  -37.81551   \n",
              "34854         120.0     2000.0  Maribyrnong City Council  -37.82286   \n",
              "34856         103.0     1930.0  Maribyrnong City Council  -37.81810   \n",
              "\n",
              "       Longtitude             Regionname  Propertycount  \n",
              "0       144.99580  Northern Metropolitan         4019.0  \n",
              "1       144.99840  Northern Metropolitan         4019.0  \n",
              "2       144.99340  Northern Metropolitan         4019.0  \n",
              "3       145.01160  Northern Metropolitan         4019.0  \n",
              "4       144.99440  Northern Metropolitan         4019.0  \n",
              "...           ...                    ...            ...  \n",
              "34851   144.88516   Western Metropolitan         6543.0  \n",
              "34852   144.88467   Western Metropolitan         6543.0  \n",
              "34853   144.88826   Western Metropolitan         6543.0  \n",
              "34854   144.87856   Western Metropolitan         6543.0  \n",
              "34856   144.89351   Western Metropolitan         6543.0  \n",
              "\n",
              "[25692 rows x 21 columns]"
            ]
          },
          "metadata": {
            "tags": []
          },
          "execution_count": 11
        }
      ]
    },
    {
      "cell_type": "code",
      "metadata": {
        "ExecuteTime": {
          "end_time": "2021-02-06T15:25:53.482876Z",
          "start_time": "2021-02-06T15:25:53.450498Z"
        },
        "id": "hSCfKBgqux1m"
      },
      "source": [
        "data.drop(columns=['Bedroom2'],inplace=True)"
      ],
      "execution_count": 12,
      "outputs": []
    },
    {
      "cell_type": "code",
      "metadata": {
        "ExecuteTime": {
          "end_time": "2021-02-06T15:25:54.559208Z",
          "start_time": "2021-02-06T15:25:54.411010Z"
        },
        "id": "wF9laujdux1m",
        "colab": {
          "base_uri": "https://localhost:8080/",
          "height": 470
        },
        "outputId": "30174722-cbeb-42b0-fde1-79c498d885a2"
      },
      "source": [
        "data.describe(np.arange(.1,1,.1))"
      ],
      "execution_count": 13,
      "outputs": [
        {
          "output_type": "execute_result",
          "data": {
            "text/html": [
              "<div>\n",
              "<style scoped>\n",
              "    .dataframe tbody tr th:only-of-type {\n",
              "        vertical-align: middle;\n",
              "    }\n",
              "\n",
              "    .dataframe tbody tr th {\n",
              "        vertical-align: top;\n",
              "    }\n",
              "\n",
              "    .dataframe thead th {\n",
              "        text-align: right;\n",
              "    }\n",
              "</style>\n",
              "<table border=\"1\" class=\"dataframe\">\n",
              "  <thead>\n",
              "    <tr style=\"text-align: right;\">\n",
              "      <th></th>\n",
              "      <th>Rooms</th>\n",
              "      <th>Price</th>\n",
              "      <th>Distance</th>\n",
              "      <th>Postcode</th>\n",
              "      <th>Bathroom</th>\n",
              "      <th>Car</th>\n",
              "      <th>Landsize</th>\n",
              "      <th>BuildingArea</th>\n",
              "      <th>YearBuilt</th>\n",
              "      <th>Lattitude</th>\n",
              "      <th>Longtitude</th>\n",
              "      <th>Propertycount</th>\n",
              "    </tr>\n",
              "  </thead>\n",
              "  <tbody>\n",
              "    <tr>\n",
              "      <th>count</th>\n",
              "      <td>34857.000000</td>\n",
              "      <td>2.724700e+04</td>\n",
              "      <td>34856.000000</td>\n",
              "      <td>34856.000000</td>\n",
              "      <td>26631.000000</td>\n",
              "      <td>26129.000000</td>\n",
              "      <td>23047.000000</td>\n",
              "      <td>13742.00000</td>\n",
              "      <td>15551.000000</td>\n",
              "      <td>26881.000000</td>\n",
              "      <td>26881.000000</td>\n",
              "      <td>34854.000000</td>\n",
              "    </tr>\n",
              "    <tr>\n",
              "      <th>mean</th>\n",
              "      <td>3.031012</td>\n",
              "      <td>1.050173e+06</td>\n",
              "      <td>11.184929</td>\n",
              "      <td>3116.062859</td>\n",
              "      <td>1.624798</td>\n",
              "      <td>1.728845</td>\n",
              "      <td>593.598993</td>\n",
              "      <td>160.25640</td>\n",
              "      <td>1965.289885</td>\n",
              "      <td>-37.810634</td>\n",
              "      <td>145.001851</td>\n",
              "      <td>7572.888306</td>\n",
              "    </tr>\n",
              "    <tr>\n",
              "      <th>std</th>\n",
              "      <td>0.969933</td>\n",
              "      <td>6.414671e+05</td>\n",
              "      <td>6.788892</td>\n",
              "      <td>109.023903</td>\n",
              "      <td>0.724212</td>\n",
              "      <td>1.010771</td>\n",
              "      <td>3398.841946</td>\n",
              "      <td>401.26706</td>\n",
              "      <td>37.328178</td>\n",
              "      <td>0.090279</td>\n",
              "      <td>0.120169</td>\n",
              "      <td>4428.090313</td>\n",
              "    </tr>\n",
              "    <tr>\n",
              "      <th>min</th>\n",
              "      <td>1.000000</td>\n",
              "      <td>8.500000e+04</td>\n",
              "      <td>0.000000</td>\n",
              "      <td>3000.000000</td>\n",
              "      <td>0.000000</td>\n",
              "      <td>0.000000</td>\n",
              "      <td>0.000000</td>\n",
              "      <td>0.00000</td>\n",
              "      <td>1196.000000</td>\n",
              "      <td>-38.190430</td>\n",
              "      <td>144.423790</td>\n",
              "      <td>83.000000</td>\n",
              "    </tr>\n",
              "    <tr>\n",
              "      <th>10%</th>\n",
              "      <td>2.000000</td>\n",
              "      <td>4.853000e+05</td>\n",
              "      <td>3.800000</td>\n",
              "      <td>3024.000000</td>\n",
              "      <td>1.000000</td>\n",
              "      <td>1.000000</td>\n",
              "      <td>0.000000</td>\n",
              "      <td>73.00000</td>\n",
              "      <td>1910.000000</td>\n",
              "      <td>-37.919200</td>\n",
              "      <td>144.868480</td>\n",
              "      <td>2674.000000</td>\n",
              "    </tr>\n",
              "    <tr>\n",
              "      <th>20%</th>\n",
              "      <td>2.000000</td>\n",
              "      <td>5.946000e+05</td>\n",
              "      <td>5.600000</td>\n",
              "      <td>3042.000000</td>\n",
              "      <td>1.000000</td>\n",
              "      <td>1.000000</td>\n",
              "      <td>179.000000</td>\n",
              "      <td>94.00000</td>\n",
              "      <td>1930.000000</td>\n",
              "      <td>-37.878900</td>\n",
              "      <td>144.912190</td>\n",
              "      <td>3650.000000</td>\n",
              "    </tr>\n",
              "    <tr>\n",
              "      <th>30%</th>\n",
              "      <td>3.000000</td>\n",
              "      <td>6.780000e+05</td>\n",
              "      <td>7.300000</td>\n",
              "      <td>3058.000000</td>\n",
              "      <td>1.000000</td>\n",
              "      <td>1.000000</td>\n",
              "      <td>276.000000</td>\n",
              "      <td>109.00000</td>\n",
              "      <td>1950.000000</td>\n",
              "      <td>-37.852200</td>\n",
              "      <td>144.953790</td>\n",
              "      <td>4836.000000</td>\n",
              "    </tr>\n",
              "    <tr>\n",
              "      <th>40%</th>\n",
              "      <td>3.000000</td>\n",
              "      <td>7.700000e+05</td>\n",
              "      <td>8.500000</td>\n",
              "      <td>3073.000000</td>\n",
              "      <td>1.000000</td>\n",
              "      <td>1.000000</td>\n",
              "      <td>385.000000</td>\n",
              "      <td>121.00000</td>\n",
              "      <td>1960.000000</td>\n",
              "      <td>-37.830930</td>\n",
              "      <td>144.988410</td>\n",
              "      <td>5556.000000</td>\n",
              "    </tr>\n",
              "    <tr>\n",
              "      <th>50%</th>\n",
              "      <td>3.000000</td>\n",
              "      <td>8.700000e+05</td>\n",
              "      <td>10.300000</td>\n",
              "      <td>3103.000000</td>\n",
              "      <td>2.000000</td>\n",
              "      <td>2.000000</td>\n",
              "      <td>521.000000</td>\n",
              "      <td>136.00000</td>\n",
              "      <td>1970.000000</td>\n",
              "      <td>-37.807600</td>\n",
              "      <td>145.007800</td>\n",
              "      <td>6763.000000</td>\n",
              "    </tr>\n",
              "    <tr>\n",
              "      <th>60%</th>\n",
              "      <td>3.000000</td>\n",
              "      <td>1.000000e+06</td>\n",
              "      <td>11.400000</td>\n",
              "      <td>3125.000000</td>\n",
              "      <td>2.000000</td>\n",
              "      <td>2.000000</td>\n",
              "      <td>587.000000</td>\n",
              "      <td>153.00000</td>\n",
              "      <td>1980.000000</td>\n",
              "      <td>-37.786780</td>\n",
              "      <td>145.032920</td>\n",
              "      <td>7809.000000</td>\n",
              "    </tr>\n",
              "    <tr>\n",
              "      <th>70%</th>\n",
              "      <td>3.000000</td>\n",
              "      <td>1.200000e+06</td>\n",
              "      <td>13.400000</td>\n",
              "      <td>3146.000000</td>\n",
              "      <td>2.000000</td>\n",
              "      <td>2.000000</td>\n",
              "      <td>648.000000</td>\n",
              "      <td>175.00000</td>\n",
              "      <td>1993.000000</td>\n",
              "      <td>-37.765620</td>\n",
              "      <td>145.057570</td>\n",
              "      <td>8989.000000</td>\n",
              "    </tr>\n",
              "    <tr>\n",
              "      <th>80%</th>\n",
              "      <td>4.000000</td>\n",
              "      <td>1.400000e+06</td>\n",
              "      <td>14.800000</td>\n",
              "      <td>3168.000000</td>\n",
              "      <td>2.000000</td>\n",
              "      <td>2.000000</td>\n",
              "      <td>702.000000</td>\n",
              "      <td>204.00000</td>\n",
              "      <td>2003.000000</td>\n",
              "      <td>-37.740300</td>\n",
              "      <td>145.087450</td>\n",
              "      <td>10969.000000</td>\n",
              "    </tr>\n",
              "    <tr>\n",
              "      <th>90%</th>\n",
              "      <td>4.000000</td>\n",
              "      <td>1.800000e+06</td>\n",
              "      <td>19.900000</td>\n",
              "      <td>3190.000000</td>\n",
              "      <td>2.000000</td>\n",
              "      <td>3.000000</td>\n",
              "      <td>824.000000</td>\n",
              "      <td>258.00000</td>\n",
              "      <td>2010.000000</td>\n",
              "      <td>-37.706800</td>\n",
              "      <td>145.136680</td>\n",
              "      <td>14577.000000</td>\n",
              "    </tr>\n",
              "    <tr>\n",
              "      <th>max</th>\n",
              "      <td>16.000000</td>\n",
              "      <td>1.120000e+07</td>\n",
              "      <td>48.100000</td>\n",
              "      <td>3978.000000</td>\n",
              "      <td>12.000000</td>\n",
              "      <td>26.000000</td>\n",
              "      <td>433014.000000</td>\n",
              "      <td>44515.00000</td>\n",
              "      <td>2106.000000</td>\n",
              "      <td>-37.390200</td>\n",
              "      <td>145.526350</td>\n",
              "      <td>21650.000000</td>\n",
              "    </tr>\n",
              "  </tbody>\n",
              "</table>\n",
              "</div>"
            ],
            "text/plain": [
              "              Rooms         Price      Distance      Postcode      Bathroom  \\\n",
              "count  34857.000000  2.724700e+04  34856.000000  34856.000000  26631.000000   \n",
              "mean       3.031012  1.050173e+06     11.184929   3116.062859      1.624798   \n",
              "std        0.969933  6.414671e+05      6.788892    109.023903      0.724212   \n",
              "min        1.000000  8.500000e+04      0.000000   3000.000000      0.000000   \n",
              "10%        2.000000  4.853000e+05      3.800000   3024.000000      1.000000   \n",
              "20%        2.000000  5.946000e+05      5.600000   3042.000000      1.000000   \n",
              "30%        3.000000  6.780000e+05      7.300000   3058.000000      1.000000   \n",
              "40%        3.000000  7.700000e+05      8.500000   3073.000000      1.000000   \n",
              "50%        3.000000  8.700000e+05     10.300000   3103.000000      2.000000   \n",
              "60%        3.000000  1.000000e+06     11.400000   3125.000000      2.000000   \n",
              "70%        3.000000  1.200000e+06     13.400000   3146.000000      2.000000   \n",
              "80%        4.000000  1.400000e+06     14.800000   3168.000000      2.000000   \n",
              "90%        4.000000  1.800000e+06     19.900000   3190.000000      2.000000   \n",
              "max       16.000000  1.120000e+07     48.100000   3978.000000     12.000000   \n",
              "\n",
              "                Car       Landsize  BuildingArea     YearBuilt     Lattitude  \\\n",
              "count  26129.000000   23047.000000   13742.00000  15551.000000  26881.000000   \n",
              "mean       1.728845     593.598993     160.25640   1965.289885    -37.810634   \n",
              "std        1.010771    3398.841946     401.26706     37.328178      0.090279   \n",
              "min        0.000000       0.000000       0.00000   1196.000000    -38.190430   \n",
              "10%        1.000000       0.000000      73.00000   1910.000000    -37.919200   \n",
              "20%        1.000000     179.000000      94.00000   1930.000000    -37.878900   \n",
              "30%        1.000000     276.000000     109.00000   1950.000000    -37.852200   \n",
              "40%        1.000000     385.000000     121.00000   1960.000000    -37.830930   \n",
              "50%        2.000000     521.000000     136.00000   1970.000000    -37.807600   \n",
              "60%        2.000000     587.000000     153.00000   1980.000000    -37.786780   \n",
              "70%        2.000000     648.000000     175.00000   1993.000000    -37.765620   \n",
              "80%        2.000000     702.000000     204.00000   2003.000000    -37.740300   \n",
              "90%        3.000000     824.000000     258.00000   2010.000000    -37.706800   \n",
              "max       26.000000  433014.000000   44515.00000   2106.000000    -37.390200   \n",
              "\n",
              "         Longtitude  Propertycount  \n",
              "count  26881.000000   34854.000000  \n",
              "mean     145.001851    7572.888306  \n",
              "std        0.120169    4428.090313  \n",
              "min      144.423790      83.000000  \n",
              "10%      144.868480    2674.000000  \n",
              "20%      144.912190    3650.000000  \n",
              "30%      144.953790    4836.000000  \n",
              "40%      144.988410    5556.000000  \n",
              "50%      145.007800    6763.000000  \n",
              "60%      145.032920    7809.000000  \n",
              "70%      145.057570    8989.000000  \n",
              "80%      145.087450   10969.000000  \n",
              "90%      145.136680   14577.000000  \n",
              "max      145.526350   21650.000000  "
            ]
          },
          "metadata": {
            "tags": []
          },
          "execution_count": 13
        }
      ]
    },
    {
      "cell_type": "code",
      "metadata": {
        "ExecuteTime": {
          "end_time": "2021-02-06T15:26:01.682121Z",
          "start_time": "2021-02-06T15:26:01.565002Z"
        },
        "id": "qrM0Ifkjux1n",
        "colab": {
          "base_uri": "https://localhost:8080/",
          "height": 450
        },
        "outputId": "250f06f9-f993-40f0-d6f1-e75785c3ec78"
      },
      "source": [
        "data[data['Bathroom']>2].describe(np.arange(.1,1,.1))"
      ],
      "execution_count": 14,
      "outputs": [
        {
          "output_type": "execute_result",
          "data": {
            "text/html": [
              "<div>\n",
              "<style scoped>\n",
              "    .dataframe tbody tr th:only-of-type {\n",
              "        vertical-align: middle;\n",
              "    }\n",
              "\n",
              "    .dataframe tbody tr th {\n",
              "        vertical-align: top;\n",
              "    }\n",
              "\n",
              "    .dataframe thead th {\n",
              "        text-align: right;\n",
              "    }\n",
              "</style>\n",
              "<table border=\"1\" class=\"dataframe\">\n",
              "  <thead>\n",
              "    <tr style=\"text-align: right;\">\n",
              "      <th></th>\n",
              "      <th>Rooms</th>\n",
              "      <th>Price</th>\n",
              "      <th>Distance</th>\n",
              "      <th>Postcode</th>\n",
              "      <th>Bathroom</th>\n",
              "      <th>Car</th>\n",
              "      <th>Landsize</th>\n",
              "      <th>BuildingArea</th>\n",
              "      <th>YearBuilt</th>\n",
              "      <th>Lattitude</th>\n",
              "      <th>Longtitude</th>\n",
              "      <th>Propertycount</th>\n",
              "    </tr>\n",
              "  </thead>\n",
              "  <tbody>\n",
              "    <tr>\n",
              "      <th>count</th>\n",
              "      <td>2552.000000</td>\n",
              "      <td>1.775000e+03</td>\n",
              "      <td>2552.000000</td>\n",
              "      <td>2552.000000</td>\n",
              "      <td>2552.000000</td>\n",
              "      <td>2543.000000</td>\n",
              "      <td>2193.000000</td>\n",
              "      <td>1519.000000</td>\n",
              "      <td>1649.000000</td>\n",
              "      <td>2546.000000</td>\n",
              "      <td>2546.000000</td>\n",
              "      <td>2552.000000</td>\n",
              "    </tr>\n",
              "    <tr>\n",
              "      <th>mean</th>\n",
              "      <td>4.344436</td>\n",
              "      <td>1.865236e+06</td>\n",
              "      <td>11.508856</td>\n",
              "      <td>3130.472179</td>\n",
              "      <td>3.202586</td>\n",
              "      <td>2.331891</td>\n",
              "      <td>908.873689</td>\n",
              "      <td>303.502210</td>\n",
              "      <td>1972.634324</td>\n",
              "      <td>-37.827554</td>\n",
              "      <td>145.030272</td>\n",
              "      <td>7156.455721</td>\n",
              "    </tr>\n",
              "    <tr>\n",
              "      <th>std</th>\n",
              "      <td>0.919803</td>\n",
              "      <td>1.037451e+06</td>\n",
              "      <td>6.124419</td>\n",
              "      <td>106.059908</td>\n",
              "      <td>0.584748</td>\n",
              "      <td>1.089952</td>\n",
              "      <td>9331.204756</td>\n",
              "      <td>1159.380905</td>\n",
              "      <td>38.886211</td>\n",
              "      <td>0.087561</td>\n",
              "      <td>0.108803</td>\n",
              "      <td>3687.494013</td>\n",
              "    </tr>\n",
              "    <tr>\n",
              "      <th>min</th>\n",
              "      <td>2.000000</td>\n",
              "      <td>4.400000e+05</td>\n",
              "      <td>1.200000</td>\n",
              "      <td>3000.000000</td>\n",
              "      <td>3.000000</td>\n",
              "      <td>0.000000</td>\n",
              "      <td>0.000000</td>\n",
              "      <td>0.000000</td>\n",
              "      <td>1854.000000</td>\n",
              "      <td>-38.184630</td>\n",
              "      <td>144.490000</td>\n",
              "      <td>129.000000</td>\n",
              "    </tr>\n",
              "    <tr>\n",
              "      <th>10%</th>\n",
              "      <td>3.000000</td>\n",
              "      <td>8.472000e+05</td>\n",
              "      <td>5.300000</td>\n",
              "      <td>3038.000000</td>\n",
              "      <td>3.000000</td>\n",
              "      <td>1.000000</td>\n",
              "      <td>270.000000</td>\n",
              "      <td>154.000000</td>\n",
              "      <td>1917.800000</td>\n",
              "      <td>-37.928590</td>\n",
              "      <td>144.891000</td>\n",
              "      <td>2698.000000</td>\n",
              "    </tr>\n",
              "    <tr>\n",
              "      <th>20%</th>\n",
              "      <td>4.000000</td>\n",
              "      <td>1.005000e+06</td>\n",
              "      <td>7.300000</td>\n",
              "      <td>3060.000000</td>\n",
              "      <td>3.000000</td>\n",
              "      <td>2.000000</td>\n",
              "      <td>382.400000</td>\n",
              "      <td>184.000000</td>\n",
              "      <td>1930.000000</td>\n",
              "      <td>-37.901480</td>\n",
              "      <td>144.948400</td>\n",
              "      <td>3988.000000</td>\n",
              "    </tr>\n",
              "    <tr>\n",
              "      <th>30%</th>\n",
              "      <td>4.000000</td>\n",
              "      <td>1.212800e+06</td>\n",
              "      <td>8.000000</td>\n",
              "      <td>3089.000000</td>\n",
              "      <td>3.000000</td>\n",
              "      <td>2.000000</td>\n",
              "      <td>516.600000</td>\n",
              "      <td>210.000000</td>\n",
              "      <td>1950.000000</td>\n",
              "      <td>-37.868680</td>\n",
              "      <td>144.998830</td>\n",
              "      <td>5061.600000</td>\n",
              "    </tr>\n",
              "    <tr>\n",
              "      <th>40%</th>\n",
              "      <td>4.000000</td>\n",
              "      <td>1.400000e+06</td>\n",
              "      <td>9.200000</td>\n",
              "      <td>3105.000000</td>\n",
              "      <td>3.000000</td>\n",
              "      <td>2.000000</td>\n",
              "      <td>591.000000</td>\n",
              "      <td>232.000000</td>\n",
              "      <td>1970.000000</td>\n",
              "      <td>-37.847870</td>\n",
              "      <td>145.020030</td>\n",
              "      <td>5678.000000</td>\n",
              "    </tr>\n",
              "    <tr>\n",
              "      <th>50%</th>\n",
              "      <td>4.000000</td>\n",
              "      <td>1.630000e+06</td>\n",
              "      <td>10.500000</td>\n",
              "      <td>3124.000000</td>\n",
              "      <td>3.000000</td>\n",
              "      <td>2.000000</td>\n",
              "      <td>643.000000</td>\n",
              "      <td>255.000000</td>\n",
              "      <td>1980.000000</td>\n",
              "      <td>-37.830230</td>\n",
              "      <td>145.042550</td>\n",
              "      <td>6763.000000</td>\n",
              "    </tr>\n",
              "    <tr>\n",
              "      <th>60%</th>\n",
              "      <td>4.000000</td>\n",
              "      <td>1.850000e+06</td>\n",
              "      <td>11.400000</td>\n",
              "      <td>3142.000000</td>\n",
              "      <td>3.000000</td>\n",
              "      <td>2.000000</td>\n",
              "      <td>677.000000</td>\n",
              "      <td>278.000000</td>\n",
              "      <td>1997.000000</td>\n",
              "      <td>-37.807300</td>\n",
              "      <td>145.062180</td>\n",
              "      <td>7717.000000</td>\n",
              "    </tr>\n",
              "    <tr>\n",
              "      <th>70%</th>\n",
              "      <td>5.000000</td>\n",
              "      <td>2.169600e+06</td>\n",
              "      <td>13.700000</td>\n",
              "      <td>3150.000000</td>\n",
              "      <td>3.000000</td>\n",
              "      <td>2.000000</td>\n",
              "      <td>725.000000</td>\n",
              "      <td>307.000000</td>\n",
              "      <td>2005.000000</td>\n",
              "      <td>-37.784250</td>\n",
              "      <td>145.080450</td>\n",
              "      <td>8920.000000</td>\n",
              "    </tr>\n",
              "    <tr>\n",
              "      <th>80%</th>\n",
              "      <td>5.000000</td>\n",
              "      <td>2.571000e+06</td>\n",
              "      <td>15.200000</td>\n",
              "      <td>3185.800000</td>\n",
              "      <td>3.000000</td>\n",
              "      <td>3.000000</td>\n",
              "      <td>803.000000</td>\n",
              "      <td>336.000000</td>\n",
              "      <td>2010.000000</td>\n",
              "      <td>-37.760600</td>\n",
              "      <td>145.103400</td>\n",
              "      <td>10412.000000</td>\n",
              "    </tr>\n",
              "    <tr>\n",
              "      <th>90%</th>\n",
              "      <td>5.000000</td>\n",
              "      <td>3.200000e+06</td>\n",
              "      <td>18.000000</td>\n",
              "      <td>3191.000000</td>\n",
              "      <td>4.000000</td>\n",
              "      <td>4.000000</td>\n",
              "      <td>948.800000</td>\n",
              "      <td>395.000000</td>\n",
              "      <td>2014.000000</td>\n",
              "      <td>-37.726265</td>\n",
              "      <td>145.149315</td>\n",
              "      <td>11308.000000</td>\n",
              "    </tr>\n",
              "    <tr>\n",
              "      <th>max</th>\n",
              "      <td>16.000000</td>\n",
              "      <td>1.120000e+07</td>\n",
              "      <td>48.100000</td>\n",
              "      <td>3977.000000</td>\n",
              "      <td>12.000000</td>\n",
              "      <td>12.000000</td>\n",
              "      <td>433014.000000</td>\n",
              "      <td>44515.000000</td>\n",
              "      <td>2018.000000</td>\n",
              "      <td>-37.397800</td>\n",
              "      <td>145.443270</td>\n",
              "      <td>21650.000000</td>\n",
              "    </tr>\n",
              "  </tbody>\n",
              "</table>\n",
              "</div>"
            ],
            "text/plain": [
              "             Rooms         Price     Distance     Postcode     Bathroom  \\\n",
              "count  2552.000000  1.775000e+03  2552.000000  2552.000000  2552.000000   \n",
              "mean      4.344436  1.865236e+06    11.508856  3130.472179     3.202586   \n",
              "std       0.919803  1.037451e+06     6.124419   106.059908     0.584748   \n",
              "min       2.000000  4.400000e+05     1.200000  3000.000000     3.000000   \n",
              "10%       3.000000  8.472000e+05     5.300000  3038.000000     3.000000   \n",
              "20%       4.000000  1.005000e+06     7.300000  3060.000000     3.000000   \n",
              "30%       4.000000  1.212800e+06     8.000000  3089.000000     3.000000   \n",
              "40%       4.000000  1.400000e+06     9.200000  3105.000000     3.000000   \n",
              "50%       4.000000  1.630000e+06    10.500000  3124.000000     3.000000   \n",
              "60%       4.000000  1.850000e+06    11.400000  3142.000000     3.000000   \n",
              "70%       5.000000  2.169600e+06    13.700000  3150.000000     3.000000   \n",
              "80%       5.000000  2.571000e+06    15.200000  3185.800000     3.000000   \n",
              "90%       5.000000  3.200000e+06    18.000000  3191.000000     4.000000   \n",
              "max      16.000000  1.120000e+07    48.100000  3977.000000    12.000000   \n",
              "\n",
              "               Car       Landsize  BuildingArea    YearBuilt    Lattitude  \\\n",
              "count  2543.000000    2193.000000   1519.000000  1649.000000  2546.000000   \n",
              "mean      2.331891     908.873689    303.502210  1972.634324   -37.827554   \n",
              "std       1.089952    9331.204756   1159.380905    38.886211     0.087561   \n",
              "min       0.000000       0.000000      0.000000  1854.000000   -38.184630   \n",
              "10%       1.000000     270.000000    154.000000  1917.800000   -37.928590   \n",
              "20%       2.000000     382.400000    184.000000  1930.000000   -37.901480   \n",
              "30%       2.000000     516.600000    210.000000  1950.000000   -37.868680   \n",
              "40%       2.000000     591.000000    232.000000  1970.000000   -37.847870   \n",
              "50%       2.000000     643.000000    255.000000  1980.000000   -37.830230   \n",
              "60%       2.000000     677.000000    278.000000  1997.000000   -37.807300   \n",
              "70%       2.000000     725.000000    307.000000  2005.000000   -37.784250   \n",
              "80%       3.000000     803.000000    336.000000  2010.000000   -37.760600   \n",
              "90%       4.000000     948.800000    395.000000  2014.000000   -37.726265   \n",
              "max      12.000000  433014.000000  44515.000000  2018.000000   -37.397800   \n",
              "\n",
              "        Longtitude  Propertycount  \n",
              "count  2546.000000    2552.000000  \n",
              "mean    145.030272    7156.455721  \n",
              "std       0.108803    3687.494013  \n",
              "min     144.490000     129.000000  \n",
              "10%     144.891000    2698.000000  \n",
              "20%     144.948400    3988.000000  \n",
              "30%     144.998830    5061.600000  \n",
              "40%     145.020030    5678.000000  \n",
              "50%     145.042550    6763.000000  \n",
              "60%     145.062180    7717.000000  \n",
              "70%     145.080450    8920.000000  \n",
              "80%     145.103400   10412.000000  \n",
              "90%     145.149315   11308.000000  \n",
              "max     145.443270   21650.000000  "
            ]
          },
          "metadata": {
            "tags": []
          },
          "execution_count": 14
        }
      ]
    },
    {
      "cell_type": "code",
      "metadata": {
        "ExecuteTime": {
          "end_time": "2021-02-06T15:26:10.720581Z",
          "start_time": "2021-02-06T15:26:10.638115Z"
        },
        "scrolled": true,
        "id": "UdHPtT3kux1o",
        "colab": {
          "base_uri": "https://localhost:8080/",
          "height": 357
        },
        "outputId": "1038c18a-d5ef-4417-bc6f-00056b9fb499"
      },
      "source": [
        "data[data['Bathroom']>7]"
      ],
      "execution_count": 15,
      "outputs": [
        {
          "output_type": "execute_result",
          "data": {
            "text/html": [
              "<div>\n",
              "<style scoped>\n",
              "    .dataframe tbody tr th:only-of-type {\n",
              "        vertical-align: middle;\n",
              "    }\n",
              "\n",
              "    .dataframe tbody tr th {\n",
              "        vertical-align: top;\n",
              "    }\n",
              "\n",
              "    .dataframe thead th {\n",
              "        text-align: right;\n",
              "    }\n",
              "</style>\n",
              "<table border=\"1\" class=\"dataframe\">\n",
              "  <thead>\n",
              "    <tr style=\"text-align: right;\">\n",
              "      <th></th>\n",
              "      <th>Suburb</th>\n",
              "      <th>Address</th>\n",
              "      <th>Rooms</th>\n",
              "      <th>Type</th>\n",
              "      <th>Price</th>\n",
              "      <th>Method</th>\n",
              "      <th>SellerG</th>\n",
              "      <th>Date</th>\n",
              "      <th>Distance</th>\n",
              "      <th>Postcode</th>\n",
              "      <th>Bathroom</th>\n",
              "      <th>Car</th>\n",
              "      <th>Landsize</th>\n",
              "      <th>BuildingArea</th>\n",
              "      <th>YearBuilt</th>\n",
              "      <th>CouncilArea</th>\n",
              "      <th>Lattitude</th>\n",
              "      <th>Longtitude</th>\n",
              "      <th>Regionname</th>\n",
              "      <th>Propertycount</th>\n",
              "    </tr>\n",
              "  </thead>\n",
              "  <tbody>\n",
              "    <tr>\n",
              "      <th>2536</th>\n",
              "      <td>Burwood</td>\n",
              "      <td>36 Cumming St</td>\n",
              "      <td>3</td>\n",
              "      <td>h</td>\n",
              "      <td>NaN</td>\n",
              "      <td>PI</td>\n",
              "      <td>Ross</td>\n",
              "      <td>8/10/2016</td>\n",
              "      <td>11.7</td>\n",
              "      <td>3125.0</td>\n",
              "      <td>12.0</td>\n",
              "      <td>0.0</td>\n",
              "      <td>946.0</td>\n",
              "      <td>NaN</td>\n",
              "      <td>1950.0</td>\n",
              "      <td>Monash City Council</td>\n",
              "      <td>-37.85300</td>\n",
              "      <td>145.11290</td>\n",
              "      <td>Southern Metropolitan</td>\n",
              "      <td>5678.0</td>\n",
              "    </tr>\n",
              "    <tr>\n",
              "      <th>8251</th>\n",
              "      <td>Preston</td>\n",
              "      <td>421 Murray Rd</td>\n",
              "      <td>4</td>\n",
              "      <td>h</td>\n",
              "      <td>760000.0</td>\n",
              "      <td>PI</td>\n",
              "      <td>Barry</td>\n",
              "      <td>22/05/2016</td>\n",
              "      <td>8.8</td>\n",
              "      <td>3072.0</td>\n",
              "      <td>8.0</td>\n",
              "      <td>7.0</td>\n",
              "      <td>1254.0</td>\n",
              "      <td>280.0</td>\n",
              "      <td>1928.0</td>\n",
              "      <td>Darebin City Council</td>\n",
              "      <td>-37.73670</td>\n",
              "      <td>144.98950</td>\n",
              "      <td>Northern Metropolitan</td>\n",
              "      <td>14577.0</td>\n",
              "    </tr>\n",
              "    <tr>\n",
              "      <th>17472</th>\n",
              "      <td>Camberwell</td>\n",
              "      <td>1088 Toorak Rd</td>\n",
              "      <td>8</td>\n",
              "      <td>h</td>\n",
              "      <td>2200000.0</td>\n",
              "      <td>PI</td>\n",
              "      <td>Ross</td>\n",
              "      <td>8/07/2017</td>\n",
              "      <td>7.7</td>\n",
              "      <td>3124.0</td>\n",
              "      <td>8.0</td>\n",
              "      <td>4.0</td>\n",
              "      <td>650.0</td>\n",
              "      <td>NaN</td>\n",
              "      <td>NaN</td>\n",
              "      <td>Boroondara City Council</td>\n",
              "      <td>-37.84812</td>\n",
              "      <td>145.07414</td>\n",
              "      <td>Southern Metropolitan</td>\n",
              "      <td>8920.0</td>\n",
              "    </tr>\n",
              "    <tr>\n",
              "      <th>25717</th>\n",
              "      <td>Burwood</td>\n",
              "      <td>79 Elgar Rd</td>\n",
              "      <td>10</td>\n",
              "      <td>h</td>\n",
              "      <td>2315000.0</td>\n",
              "      <td>SP</td>\n",
              "      <td>Buxton</td>\n",
              "      <td>28/10/2017</td>\n",
              "      <td>10.4</td>\n",
              "      <td>3125.0</td>\n",
              "      <td>9.0</td>\n",
              "      <td>2.0</td>\n",
              "      <td>612.0</td>\n",
              "      <td>466.0</td>\n",
              "      <td>2015.0</td>\n",
              "      <td>Monash City Council</td>\n",
              "      <td>-37.84461</td>\n",
              "      <td>145.10968</td>\n",
              "      <td>Southern Metropolitan</td>\n",
              "      <td>5678.0</td>\n",
              "    </tr>\n",
              "    <tr>\n",
              "      <th>26210</th>\n",
              "      <td>Mitcham</td>\n",
              "      <td>20 Harrison St</td>\n",
              "      <td>16</td>\n",
              "      <td>h</td>\n",
              "      <td>5000000.0</td>\n",
              "      <td>S</td>\n",
              "      <td>Buxton</td>\n",
              "      <td>28/10/2017</td>\n",
              "      <td>17.2</td>\n",
              "      <td>3132.0</td>\n",
              "      <td>8.0</td>\n",
              "      <td>8.0</td>\n",
              "      <td>NaN</td>\n",
              "      <td>NaN</td>\n",
              "      <td>NaN</td>\n",
              "      <td>Whitehorse City Council</td>\n",
              "      <td>-37.81405</td>\n",
              "      <td>145.19891</td>\n",
              "      <td>Eastern Metropolitan</td>\n",
              "      <td>6871.0</td>\n",
              "    </tr>\n",
              "  </tbody>\n",
              "</table>\n",
              "</div>"
            ],
            "text/plain": [
              "           Suburb         Address  Rooms Type      Price Method SellerG  \\\n",
              "2536      Burwood   36 Cumming St      3    h        NaN     PI    Ross   \n",
              "8251      Preston   421 Murray Rd      4    h   760000.0     PI   Barry   \n",
              "17472  Camberwell  1088 Toorak Rd      8    h  2200000.0     PI    Ross   \n",
              "25717     Burwood     79 Elgar Rd     10    h  2315000.0     SP  Buxton   \n",
              "26210     Mitcham  20 Harrison St     16    h  5000000.0      S  Buxton   \n",
              "\n",
              "             Date  Distance  Postcode  Bathroom  Car  Landsize  BuildingArea  \\\n",
              "2536    8/10/2016      11.7    3125.0      12.0  0.0     946.0           NaN   \n",
              "8251   22/05/2016       8.8    3072.0       8.0  7.0    1254.0         280.0   \n",
              "17472   8/07/2017       7.7    3124.0       8.0  4.0     650.0           NaN   \n",
              "25717  28/10/2017      10.4    3125.0       9.0  2.0     612.0         466.0   \n",
              "26210  28/10/2017      17.2    3132.0       8.0  8.0       NaN           NaN   \n",
              "\n",
              "       YearBuilt              CouncilArea  Lattitude  Longtitude  \\\n",
              "2536      1950.0      Monash City Council  -37.85300   145.11290   \n",
              "8251      1928.0     Darebin City Council  -37.73670   144.98950   \n",
              "17472        NaN  Boroondara City Council  -37.84812   145.07414   \n",
              "25717     2015.0      Monash City Council  -37.84461   145.10968   \n",
              "26210        NaN  Whitehorse City Council  -37.81405   145.19891   \n",
              "\n",
              "                  Regionname  Propertycount  \n",
              "2536   Southern Metropolitan         5678.0  \n",
              "8251   Northern Metropolitan        14577.0  \n",
              "17472  Southern Metropolitan         8920.0  \n",
              "25717  Southern Metropolitan         5678.0  \n",
              "26210   Eastern Metropolitan         6871.0  "
            ]
          },
          "metadata": {
            "tags": []
          },
          "execution_count": 15
        }
      ]
    },
    {
      "cell_type": "code",
      "metadata": {
        "ExecuteTime": {
          "end_time": "2021-02-06T15:27:01.275062Z",
          "start_time": "2021-02-06T15:27:01.253851Z"
        },
        "scrolled": true,
        "id": "sDoLsmEVux1p",
        "colab": {
          "base_uri": "https://localhost:8080/"
        },
        "outputId": "8478c45a-1f17-40e2-b847-78896284807a"
      },
      "source": [
        "data.loc[data.BuildingArea<1].shape[0]/data.shape[0]"
      ],
      "execution_count": 16,
      "outputs": [
        {
          "output_type": "execute_result",
          "data": {
            "text/plain": [
              "0.0022090254468256016"
            ]
          },
          "metadata": {
            "tags": []
          },
          "execution_count": 16
        }
      ]
    },
    {
      "cell_type": "code",
      "metadata": {
        "ExecuteTime": {
          "end_time": "2021-02-06T15:27:14.269286Z",
          "start_time": "2021-02-06T15:27:14.256664Z"
        },
        "scrolled": true,
        "id": "gp_9662uux1p"
      },
      "source": [
        "housing=data[data['BuildingArea']>1].copy()"
      ],
      "execution_count": 17,
      "outputs": []
    },
    {
      "cell_type": "code",
      "metadata": {
        "ExecuteTime": {
          "end_time": "2021-02-06T15:27:15.042873Z",
          "start_time": "2021-02-06T15:27:15.034407Z"
        },
        "scrolled": true,
        "id": "ek0yVBCKux1q"
      },
      "source": [
        "housing.reset_index(drop=True,inplace=True)"
      ],
      "execution_count": 18,
      "outputs": []
    },
    {
      "cell_type": "code",
      "metadata": {
        "ExecuteTime": {
          "end_time": "2021-02-06T15:27:25.745663Z",
          "start_time": "2021-02-06T15:27:25.731508Z"
        },
        "id": "wGaCbGCjux1q",
        "colab": {
          "base_uri": "https://localhost:8080/"
        },
        "outputId": "7fdded74-42c1-4c02-9150-f48c29e283bc"
      },
      "source": [
        "housing['YearBuilt'].describe()"
      ],
      "execution_count": 19,
      "outputs": [
        {
          "output_type": "execute_result",
          "data": {
            "text/plain": [
              "count    13150.000000\n",
              "mean      1964.943878\n",
              "std         37.879237\n",
              "min       1196.000000\n",
              "25%       1940.000000\n",
              "50%       1970.000000\n",
              "75%       2000.000000\n",
              "max       2106.000000\n",
              "Name: YearBuilt, dtype: float64"
            ]
          },
          "metadata": {
            "tags": []
          },
          "execution_count": 19
        }
      ]
    },
    {
      "cell_type": "code",
      "metadata": {
        "ExecuteTime": {
          "end_time": "2021-02-06T15:27:48.331280Z",
          "start_time": "2021-02-06T15:27:48.321433Z"
        },
        "scrolled": true,
        "id": "jWrPF16fux1r",
        "colab": {
          "base_uri": "https://localhost:8080/"
        },
        "outputId": "8f5d3e2a-266c-437b-d97a-2dc283de09c3"
      },
      "source": [
        "housing[housing['YearBuilt']>2009]['YearBuilt'].unique()"
      ],
      "execution_count": 20,
      "outputs": [
        {
          "output_type": "execute_result",
          "data": {
            "text/plain": [
              "array([2014., 2010., 2013., 2012., 2016., 2011., 2015., 2017., 2018.,\n",
              "       2106., 2019.])"
            ]
          },
          "metadata": {
            "tags": []
          },
          "execution_count": 20
        }
      ]
    },
    {
      "cell_type": "code",
      "metadata": {
        "ExecuteTime": {
          "end_time": "2021-02-06T15:28:37.794049Z",
          "start_time": "2021-02-06T15:28:37.778400Z"
        },
        "id": "LVMwBfu8ux1s"
      },
      "source": [
        "housing['YearBuilt'].replace({2106:2016},inplace=True)"
      ],
      "execution_count": 21,
      "outputs": []
    },
    {
      "cell_type": "code",
      "metadata": {
        "ExecuteTime": {
          "end_time": "2021-02-06T15:29:59.399650Z",
          "start_time": "2021-02-06T15:29:59.357751Z"
        },
        "id": "HwKP1_OVux1s"
      },
      "source": [
        "housing['data'] = pd.to_datetime(housing['Date'])\n"
      ],
      "execution_count": 22,
      "outputs": []
    },
    {
      "cell_type": "code",
      "metadata": {
        "ExecuteTime": {
          "end_time": "2021-02-06T15:30:17.064685Z",
          "start_time": "2021-02-06T15:30:17.047438Z"
        },
        "id": "iicTFjNfux1t"
      },
      "source": [
        "housing.dropna(subset=['Price'],inplace=True)"
      ],
      "execution_count": 23,
      "outputs": []
    },
    {
      "cell_type": "code",
      "metadata": {
        "ExecuteTime": {
          "end_time": "2021-02-06T15:30:19.593114Z",
          "start_time": "2021-02-06T15:30:19.584494Z"
        },
        "id": "I6l1xPXmux1t"
      },
      "source": [
        "housing.reset_index(drop=True,inplace=True)"
      ],
      "execution_count": 24,
      "outputs": []
    },
    {
      "cell_type": "code",
      "metadata": {
        "ExecuteTime": {
          "end_time": "2021-02-06T15:30:32.134507Z",
          "start_time": "2021-02-06T15:30:31.851075Z"
        },
        "id": "DNF-VHwDux1t"
      },
      "source": [
        "from sklearn.model_selection import train_test_split"
      ],
      "execution_count": 25,
      "outputs": []
    },
    {
      "cell_type": "code",
      "metadata": {
        "ExecuteTime": {
          "end_time": "2021-02-06T15:30:36.860374Z",
          "start_time": "2021-02-06T15:30:36.838146Z"
        },
        "id": "KTa-sjDgux1u"
      },
      "source": [
        "data_t,data_v=train_test_split(housing,test_size=.2)"
      ],
      "execution_count": 26,
      "outputs": []
    },
    {
      "cell_type": "code",
      "metadata": {
        "ExecuteTime": {
          "end_time": "2021-02-06T15:32:27.904336Z",
          "start_time": "2021-02-06T15:32:27.881247Z"
        },
        "scrolled": true,
        "id": "un-pj6XXux1u",
        "colab": {
          "base_uri": "https://localhost:8080/"
        },
        "outputId": "c29b91f8-5deb-4e18-e7fc-0a5d884e9381"
      },
      "source": [
        "\n",
        "data_t['Landsize']= data_t['Landsize'].fillna(data_t['Landsize'].median())\n",
        "data_t['Distance'] = data_t['Distance'].fillna(data_t['Distance'].median())\n",
        "data_t['BuildingArea']= data_t['BuildingArea'].fillna(data_t['BuildingArea'].median())\n",
        "data_t['Lattitude']= data_t['Lattitude'].fillna(data_t['Lattitude'].median())\n",
        "data_t['Longtitude']= data_t['Longtitude'].fillna(data_t['Longtitude'].median())\n",
        "data_t['Car']= data_t['Car'].fillna(data_t['Car'].median())"
      ],
      "execution_count": 27,
      "outputs": [
        {
          "output_type": "stream",
          "text": [
            "/usr/local/lib/python3.6/dist-packages/ipykernel_launcher.py:2: SettingWithCopyWarning: \n",
            "A value is trying to be set on a copy of a slice from a DataFrame.\n",
            "Try using .loc[row_indexer,col_indexer] = value instead\n",
            "\n",
            "See the caveats in the documentation: https://pandas.pydata.org/pandas-docs/stable/user_guide/indexing.html#returning-a-view-versus-a-copy\n",
            "  \n",
            "/usr/local/lib/python3.6/dist-packages/ipykernel_launcher.py:3: SettingWithCopyWarning: \n",
            "A value is trying to be set on a copy of a slice from a DataFrame.\n",
            "Try using .loc[row_indexer,col_indexer] = value instead\n",
            "\n",
            "See the caveats in the documentation: https://pandas.pydata.org/pandas-docs/stable/user_guide/indexing.html#returning-a-view-versus-a-copy\n",
            "  This is separate from the ipykernel package so we can avoid doing imports until\n",
            "/usr/local/lib/python3.6/dist-packages/ipykernel_launcher.py:4: SettingWithCopyWarning: \n",
            "A value is trying to be set on a copy of a slice from a DataFrame.\n",
            "Try using .loc[row_indexer,col_indexer] = value instead\n",
            "\n",
            "See the caveats in the documentation: https://pandas.pydata.org/pandas-docs/stable/user_guide/indexing.html#returning-a-view-versus-a-copy\n",
            "  after removing the cwd from sys.path.\n",
            "/usr/local/lib/python3.6/dist-packages/ipykernel_launcher.py:5: SettingWithCopyWarning: \n",
            "A value is trying to be set on a copy of a slice from a DataFrame.\n",
            "Try using .loc[row_indexer,col_indexer] = value instead\n",
            "\n",
            "See the caveats in the documentation: https://pandas.pydata.org/pandas-docs/stable/user_guide/indexing.html#returning-a-view-versus-a-copy\n",
            "  \"\"\"\n",
            "/usr/local/lib/python3.6/dist-packages/ipykernel_launcher.py:6: SettingWithCopyWarning: \n",
            "A value is trying to be set on a copy of a slice from a DataFrame.\n",
            "Try using .loc[row_indexer,col_indexer] = value instead\n",
            "\n",
            "See the caveats in the documentation: https://pandas.pydata.org/pandas-docs/stable/user_guide/indexing.html#returning-a-view-versus-a-copy\n",
            "  \n",
            "/usr/local/lib/python3.6/dist-packages/ipykernel_launcher.py:7: SettingWithCopyWarning: \n",
            "A value is trying to be set on a copy of a slice from a DataFrame.\n",
            "Try using .loc[row_indexer,col_indexer] = value instead\n",
            "\n",
            "See the caveats in the documentation: https://pandas.pydata.org/pandas-docs/stable/user_guide/indexing.html#returning-a-view-versus-a-copy\n",
            "  import sys\n"
          ],
          "name": "stderr"
        }
      ]
    },
    {
      "cell_type": "code",
      "metadata": {
        "ExecuteTime": {
          "end_time": "2021-02-06T15:32:42.225775Z",
          "start_time": "2021-02-06T15:32:42.215774Z"
        },
        "id": "XOm2AcQAux1v"
      },
      "source": [
        "continuas=['Rooms','Distance','Bathroom','Car','Landsize','BuildingArea','Lattitude','Longtitude']"
      ],
      "execution_count": 28,
      "outputs": []
    },
    {
      "cell_type": "code",
      "metadata": {
        "ExecuteTime": {
          "end_time": "2021-02-06T15:32:44.215782Z",
          "start_time": "2021-02-06T15:32:44.207815Z"
        },
        "id": "VqAvsAWhux1w"
      },
      "source": [
        "variables=['Distance','Bathroom','Car','Landsize','BuildingArea']"
      ],
      "execution_count": 29,
      "outputs": []
    },
    {
      "cell_type": "code",
      "metadata": {
        "ExecuteTime": {
          "end_time": "2021-02-06T15:33:23.355218Z",
          "start_time": "2021-02-06T15:33:23.264853Z"
        },
        "id": "2J__08DOux1w"
      },
      "source": [
        "for variable in variables:\n",
        "    q1=data_t[variable].quantile(.25)\n",
        "    q3=data_t[variable].quantile(.75)\n",
        "    iqr=q3-q1\n",
        "    data_t=data_t[~((data_t[variable]<q1-1.5*iqr)|(data_t[variable]>q3+1.5*iqr))]"
      ],
      "execution_count": 30,
      "outputs": []
    },
    {
      "cell_type": "code",
      "metadata": {
        "ExecuteTime": {
          "end_time": "2021-02-06T15:33:44.813302Z",
          "start_time": "2021-02-06T15:33:44.797550Z"
        },
        "id": "K-bhTyyIux1w"
      },
      "source": [
        "Y=data_t[['Price']]\n",
        "X=data_t[continuas]"
      ],
      "execution_count": 31,
      "outputs": []
    },
    {
      "cell_type": "code",
      "metadata": {
        "ExecuteTime": {
          "end_time": "2021-02-06T15:33:47.810919Z",
          "start_time": "2021-02-06T15:33:47.788225Z"
        },
        "id": "8sl1QQsxux1x",
        "colab": {
          "base_uri": "https://localhost:8080/"
        },
        "outputId": "04ab7600-c476-4b41-e41f-76e540098598"
      },
      "source": [
        "X.isnull().sum()"
      ],
      "execution_count": 32,
      "outputs": [
        {
          "output_type": "execute_result",
          "data": {
            "text/plain": [
              "Rooms           0\n",
              "Distance        0\n",
              "Bathroom        0\n",
              "Car             0\n",
              "Landsize        0\n",
              "BuildingArea    0\n",
              "Lattitude       0\n",
              "Longtitude      0\n",
              "dtype: int64"
            ]
          },
          "metadata": {
            "tags": []
          },
          "execution_count": 32
        }
      ]
    },
    {
      "cell_type": "code",
      "metadata": {
        "ExecuteTime": {
          "end_time": "2021-02-06T15:33:52.136598Z",
          "start_time": "2021-02-06T15:33:52.126913Z"
        },
        "id": "CvXCgSfHux1x"
      },
      "source": [
        "import matplotlib.pyplot as plt"
      ],
      "execution_count": 33,
      "outputs": []
    },
    {
      "cell_type": "code",
      "metadata": {
        "ExecuteTime": {
          "end_time": "2021-02-06T15:33:53.768472Z",
          "start_time": "2021-02-06T15:33:53.267553Z"
        },
        "id": "EdewoGDCux1y",
        "colab": {
          "base_uri": "https://localhost:8080/",
          "height": 605
        },
        "outputId": "66e8d010-13a2-4c37-dcb1-d3a57ddc2a06"
      },
      "source": [
        "data_t.plot(kind=\"scatter\", x=\"Longtitude\", y=\"Lattitude\", alpha=0.4,\n",
        "c=data_t.Price, cmap=plt.get_cmap(\"jet\"), label= 'Price by location', figsize=(15,10)) \n",
        "plt.ylabel(\"Latitude\", fontsize=14)\n",
        "\n",
        "plt.legend(fontsize=14)"
      ],
      "execution_count": 34,
      "outputs": [
        {
          "output_type": "execute_result",
          "data": {
            "text/plain": [
              "<matplotlib.legend.Legend at 0x7f202a40f4e0>"
            ]
          },
          "metadata": {
            "tags": []
          },
          "execution_count": 34
        },
        {
          "output_type": "display_data",
          "data": {
            "image/png": "[encoded data removed]",
            "text/plain": [
              "<Figure size 1080x720 with 2 Axes>"
            ]
          },
          "metadata": {
            "tags": [],
            "needs_background": "light"
          }
        }
      ]
    },
    {
      "cell_type": "code",
      "metadata": {
        "ExecuteTime": {
          "end_time": "2021-02-06T15:34:14.855229Z",
          "start_time": "2021-02-06T15:34:14.727427Z"
        },
        "id": "ETEc56Naux1y"
      },
      "source": [
        "from sklearn.tree import DecisionTreeRegressor"
      ],
      "execution_count": 36,
      "outputs": []
    },
    {
      "cell_type": "code",
      "metadata": {
        "ExecuteTime": {
          "end_time": "2021-02-06T15:34:18.446580Z",
          "start_time": "2021-02-06T15:34:18.340762Z"
        },
        "id": "_BjKwH9uux1z",
        "colab": {
          "base_uri": "https://localhost:8080/"
        },
        "outputId": "de95f86c-a2e3-4dd8-b980-64bbfce361d5"
      },
      "source": [
        "tree = DecisionTreeRegressor()\n",
        "tree.fit(X, Y)"
      ],
      "execution_count": 37,
      "outputs": [
        {
          "output_type": "execute_result",
          "data": {
            "text/plain": [
              "DecisionTreeRegressor(ccp_alpha=0.0, criterion='mse', max_depth=None,\n",
              "                      max_features=None, max_leaf_nodes=None,\n",
              "                      min_impurity_decrease=0.0, min_impurity_split=None,\n",
              "                      min_samples_leaf=1, min_samples_split=2,\n",
              "                      min_weight_fraction_leaf=0.0, presort='deprecated',\n",
              "                      random_state=None, splitter='best')"
            ]
          },
          "metadata": {
            "tags": []
          },
          "execution_count": 37
        }
      ]
    },
    {
      "cell_type": "code",
      "metadata": {
        "ExecuteTime": {
          "end_time": "2021-02-06T15:34:23.374688Z",
          "start_time": "2021-02-06T15:34:23.357497Z"
        },
        "id": "f4rUrdxXux1z"
      },
      "source": [
        "from sklearn.metrics import r2_score,mean_absolute_error,mean_squared_error\n",
        "def metricas(y_true,y_pred):\n",
        "    r2=r2_score(y_true,y_pred)\n",
        "    mae=mean_absolute_error(y_true,y_pred)\n",
        "    mse=mean_squared_error(y_true,y_pred)\n",
        "    print(f'El r2 score es {r2}')\n",
        "    print(f'El error cuadrático medio es {mse}')\n",
        "    print(f'El error medio absoluto es {mae}')"
      ],
      "execution_count": 38,
      "outputs": []
    },
    {
      "cell_type": "code",
      "metadata": {
        "ExecuteTime": {
          "end_time": "2021-02-06T15:34:25.516357Z",
          "start_time": "2021-02-06T15:34:25.454982Z"
        },
        "id": "CRPVQ0XTux10",
        "colab": {
          "base_uri": "https://localhost:8080/"
        },
        "outputId": "ec749990-b699-41e7-d50c-b86e4e1a8e9b"
      },
      "source": [
        "metricas(Y,tree.predict(X))"
      ],
      "execution_count": 39,
      "outputs": [
        {
          "output_type": "stream",
          "text": [
            "El r2 score es 0.9999755788127926\n",
            "El error cuadrático medio es 7889915.966386555\n",
            "El error medio absoluto es 179.55182072829132\n"
          ],
          "name": "stdout"
        }
      ]
    },
    {
      "cell_type": "code",
      "metadata": {
        "ExecuteTime": {
          "end_time": "2021-02-06T15:34:57.959829Z",
          "start_time": "2021-02-06T15:34:57.906156Z"
        },
        "id": "baxmG43yux11"
      },
      "source": [
        "from sklearn.ensemble import RandomForestRegressor"
      ],
      "execution_count": 40,
      "outputs": []
    },
    {
      "cell_type": "code",
      "metadata": {
        "ExecuteTime": {
          "end_time": "2021-02-06T15:35:10.903968Z",
          "start_time": "2021-02-06T15:35:10.137643Z"
        },
        "id": "DqFGyMOtux11",
        "colab": {
          "base_uri": "https://localhost:8080/"
        },
        "outputId": "db15bbc8-87a6-47db-a406-92231ee31765"
      },
      "source": [
        "forest = RandomForestRegressor(n_jobs=-1)\n",
        "forest.fit(X, Y)"
      ],
      "execution_count": 41,
      "outputs": [
        {
          "output_type": "stream",
          "text": [
            "/usr/local/lib/python3.6/dist-packages/ipykernel_launcher.py:2: DataConversionWarning: A column-vector y was passed when a 1d array was expected. Please change the shape of y to (n_samples,), for example using ravel().\n",
            "  \n"
          ],
          "name": "stderr"
        },
        {
          "output_type": "execute_result",
          "data": {
            "text/plain": [
              "RandomForestRegressor(bootstrap=True, ccp_alpha=0.0, criterion='mse',\n",
              "                      max_depth=None, max_features='auto', max_leaf_nodes=None,\n",
              "                      max_samples=None, min_impurity_decrease=0.0,\n",
              "                      min_impurity_split=None, min_samples_leaf=1,\n",
              "                      min_samples_split=2, min_weight_fraction_leaf=0.0,\n",
              "                      n_estimators=100, n_jobs=-1, oob_score=False,\n",
              "                      random_state=None, verbose=0, warm_start=False)"
            ]
          },
          "metadata": {
            "tags": []
          },
          "execution_count": 41
        }
      ]
    },
    {
      "cell_type": "code",
      "metadata": {
        "ExecuteTime": {
          "end_time": "2021-02-06T15:35:12.363177Z",
          "start_time": "2021-02-06T15:35:12.229246Z"
        },
        "id": "XaPHAGLJux12",
        "colab": {
          "base_uri": "https://localhost:8080/"
        },
        "outputId": "140ac81b-89a4-42cc-b7a0-42d3b9f32491"
      },
      "source": [
        "metricas(Y,forest.predict(X))"
      ],
      "execution_count": 42,
      "outputs": [
        {
          "output_type": "stream",
          "text": [
            "El r2 score es 0.9688234342378318\n",
            "El error cuadrático medio es 10072421209.294897\n",
            "El error medio absoluto es 57103.0575728069\n"
          ],
          "name": "stdout"
        }
      ]
    },
    {
      "cell_type": "code",
      "metadata": {
        "ExecuteTime": {
          "end_time": "2021-02-06T15:36:18.694975Z",
          "start_time": "2021-02-06T15:36:18.683616Z"
        },
        "id": "0gSV2O9jux12"
      },
      "source": [
        "param_grid = {'n_estimators': [10, 25,50,70], 'max_features': [3,5,10], \n",
        " 'max_depth': [10,15,50,], 'bootstrap': [True, False]}\n"
      ],
      "execution_count": 43,
      "outputs": []
    },
    {
      "cell_type": "code",
      "metadata": {
        "ExecuteTime": {
          "end_time": "2021-02-06T15:36:20.573902Z",
          "start_time": "2021-02-06T15:36:20.565950Z"
        },
        "id": "Q-zvL9Xaux13"
      },
      "source": [
        "from sklearn.model_selection import RandomizedSearchCV"
      ],
      "execution_count": 44,
      "outputs": []
    },
    {
      "cell_type": "code",
      "metadata": {
        "ExecuteTime": {
          "end_time": "2021-02-06T15:36:23.831614Z",
          "start_time": "2021-02-06T15:36:23.821690Z"
        },
        "id": "0bau8CI1ux13"
      },
      "source": [
        "Random_forest=RandomizedSearchCV(RandomForestRegressor(),param_grid,scoring='r2',n_iter=1000,cv=3,verbose=1,n_jobs=-1,)"
      ],
      "execution_count": 45,
      "outputs": []
    },
    {
      "cell_type": "code",
      "metadata": {
        "ExecuteTime": {
          "end_time": "2021-02-06T15:36:44.831249Z",
          "start_time": "2021-02-06T15:36:26.661698Z"
        },
        "id": "TrhGypOeux14",
        "colab": {
          "base_uri": "https://localhost:8080/"
        },
        "outputId": "abedfc12-56d9-4b11-e549-ab9a56d37930"
      },
      "source": [
        "Random_forest.fit(X,Y)"
      ],
      "execution_count": 46,
      "outputs": [
        {
          "output_type": "stream",
          "text": [
            "Fitting 3 folds for each of 72 candidates, totalling 216 fits\n"
          ],
          "name": "stdout"
        },
        {
          "output_type": "stream",
          "text": [
            "/usr/local/lib/python3.6/dist-packages/sklearn/model_selection/_search.py:281: UserWarning: The total space of parameters 72 is smaller than n_iter=1000. Running 72 iterations. For exhaustive searches, use GridSearchCV.\n",
            "  % (grid_size, self.n_iter, grid_size), UserWarning)\n",
            "[Parallel(n_jobs=-1)]: Using backend LokyBackend with 2 concurrent workers.\n",
            "[Parallel(n_jobs=-1)]: Done  46 tasks      | elapsed:   10.2s\n",
            "[Parallel(n_jobs=-1)]: Done 196 tasks      | elapsed:   51.4s\n",
            "[Parallel(n_jobs=-1)]: Done 216 out of 216 | elapsed:   58.4s finished\n",
            "/usr/local/lib/python3.6/dist-packages/sklearn/model_selection/_search.py:739: DataConversionWarning: A column-vector y was passed when a 1d array was expected. Please change the shape of y to (n_samples,), for example using ravel().\n",
            "  self.best_estimator_.fit(X, y, **fit_params)\n"
          ],
          "name": "stderr"
        },
        {
          "output_type": "execute_result",
          "data": {
            "text/plain": [
              "RandomizedSearchCV(cv=3, error_score=nan,\n",
              "                   estimator=RandomForestRegressor(bootstrap=True,\n",
              "                                                   ccp_alpha=0.0,\n",
              "                                                   criterion='mse',\n",
              "                                                   max_depth=None,\n",
              "                                                   max_features='auto',\n",
              "                                                   max_leaf_nodes=None,\n",
              "                                                   max_samples=None,\n",
              "                                                   min_impurity_decrease=0.0,\n",
              "                                                   min_impurity_split=None,\n",
              "                                                   min_samples_leaf=1,\n",
              "                                                   min_samples_split=2,\n",
              "                                                   min_weight_fraction_leaf=0.0,\n",
              "                                                   n_estimators=100,\n",
              "                                                   n_jobs=None, oob_score=False,\n",
              "                                                   random_state=None, verbose=0,\n",
              "                                                   warm_start=False),\n",
              "                   iid='deprecated', n_iter=1000, n_jobs=-1,\n",
              "                   param_distributions={'bootstrap': [True, False],\n",
              "                                        'max_depth': [10, 15, 50],\n",
              "                                        'max_features': [3, 5, 10],\n",
              "                                        'n_estimators': [10, 25, 50, 70]},\n",
              "                   pre_dispatch='2*n_jobs', random_state=None, refit=True,\n",
              "                   return_train_score=False, scoring='r2', verbose=1)"
            ]
          },
          "metadata": {
            "tags": []
          },
          "execution_count": 46
        }
      ]
    },
    {
      "cell_type": "code",
      "metadata": {
        "ExecuteTime": {
          "end_time": "2021-02-06T15:36:52.122918Z",
          "start_time": "2021-02-06T15:36:52.110453Z"
        },
        "id": "Xw8fRgAPux14"
      },
      "source": [
        "best_forest=Random_forest.best_estimator_"
      ],
      "execution_count": 47,
      "outputs": []
    },
    {
      "cell_type": "code",
      "metadata": {
        "ExecuteTime": {
          "end_time": "2021-02-06T15:36:52.920790Z",
          "start_time": "2021-02-06T15:36:52.905500Z"
        },
        "id": "cOYM5PdGux15",
        "colab": {
          "base_uri": "https://localhost:8080/"
        },
        "outputId": "99edc77d-daf1-484b-fa76-9993567ce80e"
      },
      "source": [
        "best_forest"
      ],
      "execution_count": 48,
      "outputs": [
        {
          "output_type": "execute_result",
          "data": {
            "text/plain": [
              "RandomForestRegressor(bootstrap=False, ccp_alpha=0.0, criterion='mse',\n",
              "                      max_depth=50, max_features=3, max_leaf_nodes=None,\n",
              "                      max_samples=None, min_impurity_decrease=0.0,\n",
              "                      min_impurity_split=None, min_samples_leaf=1,\n",
              "                      min_samples_split=2, min_weight_fraction_leaf=0.0,\n",
              "                      n_estimators=70, n_jobs=None, oob_score=False,\n",
              "                      random_state=None, verbose=0, warm_start=False)"
            ]
          },
          "metadata": {
            "tags": []
          },
          "execution_count": 48
        }
      ]
    },
    {
      "cell_type": "code",
      "metadata": {
        "ExecuteTime": {
          "end_time": "2021-02-06T15:37:05.282471Z",
          "start_time": "2021-02-06T15:37:05.080379Z"
        },
        "id": "DPv2JPKOux15",
        "colab": {
          "base_uri": "https://localhost:8080/"
        },
        "outputId": "cabc08c7-6c46-49a9-99d2-726cce956114"
      },
      "source": [
        "metricas(Y,best_forest.predict(X))"
      ],
      "execution_count": 49,
      "outputs": [
        {
          "output_type": "stream",
          "text": [
            "El r2 score es 0.9999755673237494\n",
            "El error cuadrático medio es 7893627.808266164\n",
            "El error medio absoluto es 181.82272909163663\n"
          ],
          "name": "stdout"
        }
      ]
    },
    {
      "cell_type": "code",
      "metadata": {
        "ExecuteTime": {
          "end_time": "2021-02-06T15:37:55.935165Z",
          "start_time": "2021-02-06T15:37:55.795706Z"
        },
        "id": "xFWvUrBQux16"
      },
      "source": [
        "importances=forest.feature_importances_"
      ],
      "execution_count": 50,
      "outputs": []
    },
    {
      "cell_type": "code",
      "metadata": {
        "ExecuteTime": {
          "end_time": "2021-02-06T15:37:59.304868Z",
          "start_time": "2021-02-06T15:37:59.281502Z"
        },
        "id": "HYNnOvLFux16"
      },
      "source": [
        "feature_importance= sorted(zip(importances, list(X.columns)), reverse=True)\n",
        "\n",
        "df = pd.DataFrame(feature_importance, columns=['importance', 'feature'])\n",
        "importance= list(df['importance'])\n",
        "feature= list(df['feature'])\n"
      ],
      "execution_count": 51,
      "outputs": []
    },
    {
      "cell_type": "code",
      "metadata": {
        "ExecuteTime": {
          "end_time": "2021-02-06T15:38:00.173103Z",
          "start_time": "2021-02-06T15:38:00.132682Z"
        },
        "id": "gV-V_T-Iux16",
        "colab": {
          "base_uri": "https://localhost:8080/",
          "height": 277
        },
        "outputId": "fda1705b-da3d-4fab-912f-bb284fc2f378"
      },
      "source": [
        "df"
      ],
      "execution_count": 52,
      "outputs": [
        {
          "output_type": "execute_result",
          "data": {
            "text/html": [
              "<div>\n",
              "<style scoped>\n",
              "    .dataframe tbody tr th:only-of-type {\n",
              "        vertical-align: middle;\n",
              "    }\n",
              "\n",
              "    .dataframe tbody tr th {\n",
              "        vertical-align: top;\n",
              "    }\n",
              "\n",
              "    .dataframe thead th {\n",
              "        text-align: right;\n",
              "    }\n",
              "</style>\n",
              "<table border=\"1\" class=\"dataframe\">\n",
              "  <thead>\n",
              "    <tr style=\"text-align: right;\">\n",
              "      <th></th>\n",
              "      <th>importance</th>\n",
              "      <th>feature</th>\n",
              "    </tr>\n",
              "  </thead>\n",
              "  <tbody>\n",
              "    <tr>\n",
              "      <th>0</th>\n",
              "      <td>0.312983</td>\n",
              "      <td>BuildingArea</td>\n",
              "    </tr>\n",
              "    <tr>\n",
              "      <th>1</th>\n",
              "      <td>0.212851</td>\n",
              "      <td>Distance</td>\n",
              "    </tr>\n",
              "    <tr>\n",
              "      <th>2</th>\n",
              "      <td>0.175550</td>\n",
              "      <td>Lattitude</td>\n",
              "    </tr>\n",
              "    <tr>\n",
              "      <th>3</th>\n",
              "      <td>0.157440</td>\n",
              "      <td>Longtitude</td>\n",
              "    </tr>\n",
              "    <tr>\n",
              "      <th>4</th>\n",
              "      <td>0.087629</td>\n",
              "      <td>Landsize</td>\n",
              "    </tr>\n",
              "    <tr>\n",
              "      <th>5</th>\n",
              "      <td>0.031159</td>\n",
              "      <td>Rooms</td>\n",
              "    </tr>\n",
              "    <tr>\n",
              "      <th>6</th>\n",
              "      <td>0.013435</td>\n",
              "      <td>Car</td>\n",
              "    </tr>\n",
              "    <tr>\n",
              "      <th>7</th>\n",
              "      <td>0.008953</td>\n",
              "      <td>Bathroom</td>\n",
              "    </tr>\n",
              "  </tbody>\n",
              "</table>\n",
              "</div>"
            ],
            "text/plain": [
              "   importance       feature\n",
              "0    0.312983  BuildingArea\n",
              "1    0.212851      Distance\n",
              "2    0.175550     Lattitude\n",
              "3    0.157440    Longtitude\n",
              "4    0.087629      Landsize\n",
              "5    0.031159         Rooms\n",
              "6    0.013435           Car\n",
              "7    0.008953      Bathroom"
            ]
          },
          "metadata": {
            "tags": []
          },
          "execution_count": 52
        }
      ]
    },
    {
      "cell_type": "markdown",
      "metadata": {
        "id": "EpzkcFqhux17"
      },
      "source": [
        "## Conjunto de Validación"
      ]
    },
    {
      "cell_type": "code",
      "metadata": {
        "ExecuteTime": {
          "end_time": "2021-02-06T15:39:02.048104Z",
          "start_time": "2021-02-06T15:39:01.949192Z"
        },
        "scrolled": true,
        "id": "AfN0GAiUux17",
        "outputId": "37407eb3-e328-4309-a9ab-fbac9c94c728"
      },
      "source": [
        "data_v\n"
      ],
      "execution_count": null,
      "outputs": [
        {
          "output_type": "execute_result",
          "data": {
            "text/html": [
              "<div>\n",
              "<style scoped>\n",
              "    .dataframe tbody tr th:only-of-type {\n",
              "        vertical-align: middle;\n",
              "    }\n",
              "\n",
              "    .dataframe tbody tr th {\n",
              "        vertical-align: top;\n",
              "    }\n",
              "\n",
              "    .dataframe thead th {\n",
              "        text-align: right;\n",
              "    }\n",
              "</style>\n",
              "<table border=\"1\" class=\"dataframe\">\n",
              "  <thead>\n",
              "    <tr style=\"text-align: right;\">\n",
              "      <th></th>\n",
              "      <th>Suburb</th>\n",
              "      <th>Address</th>\n",
              "      <th>Rooms</th>\n",
              "      <th>Type</th>\n",
              "      <th>Price</th>\n",
              "      <th>Method</th>\n",
              "      <th>SellerG</th>\n",
              "      <th>Date</th>\n",
              "      <th>Distance</th>\n",
              "      <th>Postcode</th>\n",
              "      <th>Bathroom</th>\n",
              "      <th>Car</th>\n",
              "      <th>Landsize</th>\n",
              "      <th>BuildingArea</th>\n",
              "      <th>YearBuilt</th>\n",
              "      <th>CouncilArea</th>\n",
              "      <th>Lattitude</th>\n",
              "      <th>Longtitude</th>\n",
              "      <th>Regionname</th>\n",
              "      <th>Propertycount</th>\n",
              "      <th>data</th>\n",
              "    </tr>\n",
              "  </thead>\n",
              "  <tbody>\n",
              "    <tr>\n",
              "      <th>1268</th>\n",
              "      <td>Elsternwick</td>\n",
              "      <td>4/585 Glen Huntly Rd</td>\n",
              "      <td>2</td>\n",
              "      <td>u</td>\n",
              "      <td>591000.0</td>\n",
              "      <td>S</td>\n",
              "      <td>Buxton</td>\n",
              "      <td>10/12/2016</td>\n",
              "      <td>8.5</td>\n",
              "      <td>3185.0</td>\n",
              "      <td>1.0</td>\n",
              "      <td>1.0</td>\n",
              "      <td>815.0</td>\n",
              "      <td>62.00</td>\n",
              "      <td>2008.0</td>\n",
              "      <td>Glen Eira City Council</td>\n",
              "      <td>-37.88570</td>\n",
              "      <td>145.01360</td>\n",
              "      <td>Southern Metropolitan</td>\n",
              "      <td>4898.0</td>\n",
              "      <td>2016-10-12</td>\n",
              "    </tr>\n",
              "    <tr>\n",
              "      <th>3574</th>\n",
              "      <td>Toorak</td>\n",
              "      <td>16/36 Grange Rd</td>\n",
              "      <td>1</td>\n",
              "      <td>u</td>\n",
              "      <td>460000.0</td>\n",
              "      <td>PI</td>\n",
              "      <td>hockingstuart</td>\n",
              "      <td>26/07/2016</td>\n",
              "      <td>4.6</td>\n",
              "      <td>3142.0</td>\n",
              "      <td>1.0</td>\n",
              "      <td>1.0</td>\n",
              "      <td>0.0</td>\n",
              "      <td>7.00</td>\n",
              "      <td>NaN</td>\n",
              "      <td>Stonnington City Council</td>\n",
              "      <td>-37.83730</td>\n",
              "      <td>145.01160</td>\n",
              "      <td>Southern Metropolitan</td>\n",
              "      <td>7217.0</td>\n",
              "      <td>2016-07-26</td>\n",
              "    </tr>\n",
              "    <tr>\n",
              "      <th>10040</th>\n",
              "      <td>Mitcham</td>\n",
              "      <td>425 Mitcham Rd</td>\n",
              "      <td>4</td>\n",
              "      <td>h</td>\n",
              "      <td>1400000.0</td>\n",
              "      <td>SP</td>\n",
              "      <td>Ray</td>\n",
              "      <td>17/02/2018</td>\n",
              "      <td>17.2</td>\n",
              "      <td>3132.0</td>\n",
              "      <td>1.0</td>\n",
              "      <td>NaN</td>\n",
              "      <td>902.0</td>\n",
              "      <td>138.00</td>\n",
              "      <td>1965.0</td>\n",
              "      <td>Whitehorse City Council</td>\n",
              "      <td>-37.82289</td>\n",
              "      <td>145.19443</td>\n",
              "      <td>Eastern Metropolitan</td>\n",
              "      <td>6871.0</td>\n",
              "      <td>2018-02-17</td>\n",
              "    </tr>\n",
              "    <tr>\n",
              "      <th>81</th>\n",
              "      <td>Alphington</td>\n",
              "      <td>4/2 Miller St</td>\n",
              "      <td>2</td>\n",
              "      <td>t</td>\n",
              "      <td>805000.0</td>\n",
              "      <td>S</td>\n",
              "      <td>Miles</td>\n",
              "      <td>12/11/2016</td>\n",
              "      <td>6.4</td>\n",
              "      <td>3078.0</td>\n",
              "      <td>2.0</td>\n",
              "      <td>3.0</td>\n",
              "      <td>155.0</td>\n",
              "      <td>140.00</td>\n",
              "      <td>2004.0</td>\n",
              "      <td>Darebin City Council</td>\n",
              "      <td>-37.78040</td>\n",
              "      <td>145.03080</td>\n",
              "      <td>Northern Metropolitan</td>\n",
              "      <td>2211.0</td>\n",
              "      <td>2016-12-11</td>\n",
              "    </tr>\n",
              "    <tr>\n",
              "      <th>3765</th>\n",
              "      <td>Yarraville</td>\n",
              "      <td>10 Tuppen St</td>\n",
              "      <td>5</td>\n",
              "      <td>h</td>\n",
              "      <td>1287000.0</td>\n",
              "      <td>S</td>\n",
              "      <td>hockingstuart</td>\n",
              "      <td>27/11/2016</td>\n",
              "      <td>7.0</td>\n",
              "      <td>3013.0</td>\n",
              "      <td>2.0</td>\n",
              "      <td>2.0</td>\n",
              "      <td>488.0</td>\n",
              "      <td>213.00</td>\n",
              "      <td>1930.0</td>\n",
              "      <td>Maribyrnong City Council</td>\n",
              "      <td>-37.81310</td>\n",
              "      <td>144.87780</td>\n",
              "      <td>Western Metropolitan</td>\n",
              "      <td>6543.0</td>\n",
              "      <td>2016-11-27</td>\n",
              "    </tr>\n",
              "    <tr>\n",
              "      <th>...</th>\n",
              "      <td>...</td>\n",
              "      <td>...</td>\n",
              "      <td>...</td>\n",
              "      <td>...</td>\n",
              "      <td>...</td>\n",
              "      <td>...</td>\n",
              "      <td>...</td>\n",
              "      <td>...</td>\n",
              "      <td>...</td>\n",
              "      <td>...</td>\n",
              "      <td>...</td>\n",
              "      <td>...</td>\n",
              "      <td>...</td>\n",
              "      <td>...</td>\n",
              "      <td>...</td>\n",
              "      <td>...</td>\n",
              "      <td>...</td>\n",
              "      <td>...</td>\n",
              "      <td>...</td>\n",
              "      <td>...</td>\n",
              "      <td>...</td>\n",
              "    </tr>\n",
              "    <tr>\n",
              "      <th>3520</th>\n",
              "      <td>Thornbury</td>\n",
              "      <td>4/305 Rossmoyne St</td>\n",
              "      <td>2</td>\n",
              "      <td>u</td>\n",
              "      <td>505000.0</td>\n",
              "      <td>S</td>\n",
              "      <td>Jellis</td>\n",
              "      <td>16/04/2016</td>\n",
              "      <td>6.5</td>\n",
              "      <td>3071.0</td>\n",
              "      <td>1.0</td>\n",
              "      <td>0.0</td>\n",
              "      <td>0.0</td>\n",
              "      <td>80.00</td>\n",
              "      <td>1980.0</td>\n",
              "      <td>Darebin City Council</td>\n",
              "      <td>-37.75910</td>\n",
              "      <td>145.02110</td>\n",
              "      <td>Northern Metropolitan</td>\n",
              "      <td>8870.0</td>\n",
              "      <td>2016-04-16</td>\n",
              "    </tr>\n",
              "    <tr>\n",
              "      <th>1156</th>\n",
              "      <td>Coburg North</td>\n",
              "      <td>7 Manly Ct</td>\n",
              "      <td>3</td>\n",
              "      <td>h</td>\n",
              "      <td>700000.0</td>\n",
              "      <td>S</td>\n",
              "      <td>Nelson</td>\n",
              "      <td>7/05/2016</td>\n",
              "      <td>9.2</td>\n",
              "      <td>3058.0</td>\n",
              "      <td>1.0</td>\n",
              "      <td>2.0</td>\n",
              "      <td>626.0</td>\n",
              "      <td>108.00</td>\n",
              "      <td>1950.0</td>\n",
              "      <td>Darebin City Council</td>\n",
              "      <td>-37.72010</td>\n",
              "      <td>144.96960</td>\n",
              "      <td>Northern Metropolitan</td>\n",
              "      <td>3445.0</td>\n",
              "      <td>2016-07-05</td>\n",
              "    </tr>\n",
              "    <tr>\n",
              "      <th>4590</th>\n",
              "      <td>Sunshine</td>\n",
              "      <td>69 Duke St</td>\n",
              "      <td>3</td>\n",
              "      <td>h</td>\n",
              "      <td>710000.0</td>\n",
              "      <td>S</td>\n",
              "      <td>Village</td>\n",
              "      <td>29/04/2017</td>\n",
              "      <td>12.6</td>\n",
              "      <td>3020.0</td>\n",
              "      <td>1.0</td>\n",
              "      <td>0.0</td>\n",
              "      <td>483.0</td>\n",
              "      <td>93.84</td>\n",
              "      <td>1950.0</td>\n",
              "      <td>Brimbank City Council</td>\n",
              "      <td>-37.78750</td>\n",
              "      <td>144.84560</td>\n",
              "      <td>Western Metropolitan</td>\n",
              "      <td>3755.0</td>\n",
              "      <td>2017-04-29</td>\n",
              "    </tr>\n",
              "    <tr>\n",
              "      <th>8131</th>\n",
              "      <td>Bayswater</td>\n",
              "      <td>14 Greenglade Ct</td>\n",
              "      <td>3</td>\n",
              "      <td>h</td>\n",
              "      <td>831000.0</td>\n",
              "      <td>S</td>\n",
              "      <td>Ray</td>\n",
              "      <td>21/10/2017</td>\n",
              "      <td>23.2</td>\n",
              "      <td>3153.0</td>\n",
              "      <td>2.0</td>\n",
              "      <td>0.0</td>\n",
              "      <td>NaN</td>\n",
              "      <td>168.00</td>\n",
              "      <td>1970.0</td>\n",
              "      <td>Knox City Council</td>\n",
              "      <td>-37.85106</td>\n",
              "      <td>145.26135</td>\n",
              "      <td>Eastern Metropolitan</td>\n",
              "      <td>5030.0</td>\n",
              "      <td>2017-10-21</td>\n",
              "    </tr>\n",
              "    <tr>\n",
              "      <th>4139</th>\n",
              "      <td>Keilor Park</td>\n",
              "      <td>18 William St</td>\n",
              "      <td>3</td>\n",
              "      <td>h</td>\n",
              "      <td>575000.0</td>\n",
              "      <td>S</td>\n",
              "      <td>Nelson</td>\n",
              "      <td>27/11/2016</td>\n",
              "      <td>14.5</td>\n",
              "      <td>3042.0</td>\n",
              "      <td>1.0</td>\n",
              "      <td>1.0</td>\n",
              "      <td>338.0</td>\n",
              "      <td>107.00</td>\n",
              "      <td>1960.0</td>\n",
              "      <td>Brimbank City Council</td>\n",
              "      <td>-37.72120</td>\n",
              "      <td>144.85450</td>\n",
              "      <td>Western Metropolitan</td>\n",
              "      <td>1119.0</td>\n",
              "      <td>2016-11-27</td>\n",
              "    </tr>\n",
              "  </tbody>\n",
              "</table>\n",
              "<p>2117 rows × 21 columns</p>\n",
              "</div>"
            ],
            "text/plain": [
              "             Suburb               Address  Rooms Type      Price Method  \\\n",
              "1268    Elsternwick  4/585 Glen Huntly Rd      2    u   591000.0      S   \n",
              "3574         Toorak       16/36 Grange Rd      1    u   460000.0     PI   \n",
              "10040       Mitcham        425 Mitcham Rd      4    h  1400000.0     SP   \n",
              "81       Alphington         4/2 Miller St      2    t   805000.0      S   \n",
              "3765     Yarraville          10 Tuppen St      5    h  1287000.0      S   \n",
              "...             ...                   ...    ...  ...        ...    ...   \n",
              "3520      Thornbury    4/305 Rossmoyne St      2    u   505000.0      S   \n",
              "1156   Coburg North            7 Manly Ct      3    h   700000.0      S   \n",
              "4590       Sunshine            69 Duke St      3    h   710000.0      S   \n",
              "8131      Bayswater      14 Greenglade Ct      3    h   831000.0      S   \n",
              "4139    Keilor Park         18 William St      3    h   575000.0      S   \n",
              "\n",
              "             SellerG        Date  Distance  Postcode  Bathroom  Car  Landsize  \\\n",
              "1268          Buxton  10/12/2016       8.5    3185.0       1.0  1.0     815.0   \n",
              "3574   hockingstuart  26/07/2016       4.6    3142.0       1.0  1.0       0.0   \n",
              "10040            Ray  17/02/2018      17.2    3132.0       1.0  NaN     902.0   \n",
              "81             Miles  12/11/2016       6.4    3078.0       2.0  3.0     155.0   \n",
              "3765   hockingstuart  27/11/2016       7.0    3013.0       2.0  2.0     488.0   \n",
              "...              ...         ...       ...       ...       ...  ...       ...   \n",
              "3520          Jellis  16/04/2016       6.5    3071.0       1.0  0.0       0.0   \n",
              "1156          Nelson   7/05/2016       9.2    3058.0       1.0  2.0     626.0   \n",
              "4590         Village  29/04/2017      12.6    3020.0       1.0  0.0     483.0   \n",
              "8131             Ray  21/10/2017      23.2    3153.0       2.0  0.0       NaN   \n",
              "4139          Nelson  27/11/2016      14.5    3042.0       1.0  1.0     338.0   \n",
              "\n",
              "       BuildingArea  YearBuilt               CouncilArea  Lattitude  \\\n",
              "1268          62.00     2008.0    Glen Eira City Council  -37.88570   \n",
              "3574           7.00        NaN  Stonnington City Council  -37.83730   \n",
              "10040        138.00     1965.0   Whitehorse City Council  -37.82289   \n",
              "81           140.00     2004.0      Darebin City Council  -37.78040   \n",
              "3765         213.00     1930.0  Maribyrnong City Council  -37.81310   \n",
              "...             ...        ...                       ...        ...   \n",
              "3520          80.00     1980.0      Darebin City Council  -37.75910   \n",
              "1156         108.00     1950.0      Darebin City Council  -37.72010   \n",
              "4590          93.84     1950.0     Brimbank City Council  -37.78750   \n",
              "8131         168.00     1970.0         Knox City Council  -37.85106   \n",
              "4139         107.00     1960.0     Brimbank City Council  -37.72120   \n",
              "\n",
              "       Longtitude             Regionname  Propertycount       data  \n",
              "1268    145.01360  Southern Metropolitan         4898.0 2016-10-12  \n",
              "3574    145.01160  Southern Metropolitan         7217.0 2016-07-26  \n",
              "10040   145.19443   Eastern Metropolitan         6871.0 2018-02-17  \n",
              "81      145.03080  Northern Metropolitan         2211.0 2016-12-11  \n",
              "3765    144.87780   Western Metropolitan         6543.0 2016-11-27  \n",
              "...           ...                    ...            ...        ...  \n",
              "3520    145.02110  Northern Metropolitan         8870.0 2016-04-16  \n",
              "1156    144.96960  Northern Metropolitan         3445.0 2016-07-05  \n",
              "4590    144.84560   Western Metropolitan         3755.0 2017-04-29  \n",
              "8131    145.26135   Eastern Metropolitan         5030.0 2017-10-21  \n",
              "4139    144.85450   Western Metropolitan         1119.0 2016-11-27  \n",
              "\n",
              "[2117 rows x 21 columns]"
            ]
          },
          "metadata": {
            "tags": []
          },
          "execution_count": 51
        }
      ]
    },
    {
      "cell_type": "code",
      "metadata": {
        "ExecuteTime": {
          "end_time": "2021-02-06T15:39:29.570610Z",
          "start_time": "2021-02-06T15:39:29.516150Z"
        },
        "scrolled": true,
        "id": "AC9waKl9ux18",
        "outputId": "8ff862e7-62fc-4556-a84a-f1d24d308b5d"
      },
      "source": [
        "data_v['Landsize']= data_v['Landsize'].fillna(data_t['Landsize'].median())\n",
        "data_v['Distance'] = data_v['Distance'].fillna(data_t['Distance'].median())\n",
        "data_v['BuildingArea']= data_v['BuildingArea'].fillna(data_t['BuildingArea'].median())\n",
        "data_v['Lattitude']= data_v['Lattitude'].fillna(data_t['Lattitude'].median())\n",
        "data_v['Longtitude']= data_v['Longtitude'].fillna(data_t['Longtitude'].median())\n",
        "data_v['Car']= data_v['Car'].fillna(data_t['Car'].median())\n",
        "\n",
        "data_v['Car']= data_v['Car'].fillna(data_t['Car'].median())"
      ],
      "execution_count": null,
      "outputs": [
        {
          "output_type": "stream",
          "text": [
            "/home/jorge/Documents/Diplomado/ambientes/diplo_env/lib/python3.6/site-packages/ipykernel_launcher.py:1: SettingWithCopyWarning: \n",
            "A value is trying to be set on a copy of a slice from a DataFrame.\n",
            "Try using .loc[row_indexer,col_indexer] = value instead\n",
            "\n",
            "See the caveats in the documentation: https://pandas.pydata.org/pandas-docs/stable/user_guide/indexing.html#returning-a-view-versus-a-copy\n",
            "  \"\"\"Entry point for launching an IPython kernel.\n",
            "/home/jorge/Documents/Diplomado/ambientes/diplo_env/lib/python3.6/site-packages/ipykernel_launcher.py:2: SettingWithCopyWarning: \n",
            "A value is trying to be set on a copy of a slice from a DataFrame.\n",
            "Try using .loc[row_indexer,col_indexer] = value instead\n",
            "\n",
            "See the caveats in the documentation: https://pandas.pydata.org/pandas-docs/stable/user_guide/indexing.html#returning-a-view-versus-a-copy\n",
            "  \n",
            "/home/jorge/Documents/Diplomado/ambientes/diplo_env/lib/python3.6/site-packages/ipykernel_launcher.py:3: SettingWithCopyWarning: \n",
            "A value is trying to be set on a copy of a slice from a DataFrame.\n",
            "Try using .loc[row_indexer,col_indexer] = value instead\n",
            "\n",
            "See the caveats in the documentation: https://pandas.pydata.org/pandas-docs/stable/user_guide/indexing.html#returning-a-view-versus-a-copy\n",
            "  This is separate from the ipykernel package so we can avoid doing imports until\n",
            "/home/jorge/Documents/Diplomado/ambientes/diplo_env/lib/python3.6/site-packages/ipykernel_launcher.py:4: SettingWithCopyWarning: \n",
            "A value is trying to be set on a copy of a slice from a DataFrame.\n",
            "Try using .loc[row_indexer,col_indexer] = value instead\n",
            "\n",
            "See the caveats in the documentation: https://pandas.pydata.org/pandas-docs/stable/user_guide/indexing.html#returning-a-view-versus-a-copy\n",
            "  after removing the cwd from sys.path.\n",
            "/home/jorge/Documents/Diplomado/ambientes/diplo_env/lib/python3.6/site-packages/ipykernel_launcher.py:5: SettingWithCopyWarning: \n",
            "A value is trying to be set on a copy of a slice from a DataFrame.\n",
            "Try using .loc[row_indexer,col_indexer] = value instead\n",
            "\n",
            "See the caveats in the documentation: https://pandas.pydata.org/pandas-docs/stable/user_guide/indexing.html#returning-a-view-versus-a-copy\n",
            "  \"\"\"\n",
            "/home/jorge/Documents/Diplomado/ambientes/diplo_env/lib/python3.6/site-packages/ipykernel_launcher.py:6: SettingWithCopyWarning: \n",
            "A value is trying to be set on a copy of a slice from a DataFrame.\n",
            "Try using .loc[row_indexer,col_indexer] = value instead\n",
            "\n",
            "See the caveats in the documentation: https://pandas.pydata.org/pandas-docs/stable/user_guide/indexing.html#returning-a-view-versus-a-copy\n",
            "  \n",
            "/home/jorge/Documents/Diplomado/ambientes/diplo_env/lib/python3.6/site-packages/ipykernel_launcher.py:8: SettingWithCopyWarning: \n",
            "A value is trying to be set on a copy of a slice from a DataFrame.\n",
            "Try using .loc[row_indexer,col_indexer] = value instead\n",
            "\n",
            "See the caveats in the documentation: https://pandas.pydata.org/pandas-docs/stable/user_guide/indexing.html#returning-a-view-versus-a-copy\n",
            "  \n"
          ],
          "name": "stderr"
        }
      ]
    },
    {
      "cell_type": "code",
      "metadata": {
        "ExecuteTime": {
          "end_time": "2021-02-06T15:39:32.976310Z",
          "start_time": "2021-02-06T15:39:32.966064Z"
        },
        "id": "XygGzR9Bux19"
      },
      "source": [
        "for variable in variables:\n",
        "    data_v=data_v[~((data_v[variable]<q1-1.5*iqr)|(data_v[variable]>q3+1.5*iqr))]"
      ],
      "execution_count": null,
      "outputs": []
    },
    {
      "cell_type": "code",
      "metadata": {
        "ExecuteTime": {
          "end_time": "2021-02-06T15:40:07.481403Z",
          "start_time": "2021-02-06T15:40:07.472711Z"
        },
        "id": "CxhlF1ipux19"
      },
      "source": [
        "Y_v=data_v[['Price']]\n",
        "X_v=data_v[continuas]"
      ],
      "execution_count": null,
      "outputs": []
    },
    {
      "cell_type": "code",
      "metadata": {
        "ExecuteTime": {
          "end_time": "2021-02-06T15:40:18.702597Z",
          "start_time": "2021-02-06T15:40:18.585393Z"
        },
        "id": "fCNu8xZrux1-",
        "outputId": "ec044fea-a869-4481-b35f-f1e76e991502"
      },
      "source": [
        "metricas(Y_v,forest.predict(X_v))"
      ],
      "execution_count": null,
      "outputs": [
        {
          "output_type": "stream",
          "text": [
            "El r2 score es 0.7962259503725974\n",
            "El error cuadrático medio es 54782447460.96839\n",
            "El error medio absoluto es 143269.77413690477\n"
          ],
          "name": "stdout"
        }
      ]
    },
    {
      "cell_type": "code",
      "metadata": {
        "ExecuteTime": {
          "end_time": "2021-02-06T15:40:24.573022Z",
          "start_time": "2021-02-06T15:40:24.554871Z"
        },
        "id": "3Jstt13yux1-",
        "outputId": "9528daf5-8ad5-482e-e226-548af572f462"
      },
      "source": [
        "metricas(Y_v,tree.predict(X_v))"
      ],
      "execution_count": null,
      "outputs": [
        {
          "output_type": "stream",
          "text": [
            "El r2 score es 0.49142814509791277\n",
            "El error cuadrático medio es 136724038081.60976\n",
            "El error medio absoluto es 214979.51829268291\n"
          ],
          "name": "stdout"
        }
      ]
    },
    {
      "cell_type": "code",
      "metadata": {
        "ExecuteTime": {
          "end_time": "2021-02-06T15:42:00.251158Z",
          "start_time": "2021-02-06T15:42:00.183201Z"
        },
        "id": "nGoaWZnDux1_",
        "outputId": "a49c7b37-5610-4f60-c4f7-d15f69000bd9"
      },
      "source": [
        "metricas(Y_v,best_forest.predict(X_v))"
      ],
      "execution_count": null,
      "outputs": [
        {
          "output_type": "stream",
          "text": [
            "El r2 score es 0.8110549925361568\n",
            "El error cuadrático medio es 50795819994.38428\n",
            "El error medio absoluto es 141013.13162539407\n"
          ],
          "name": "stdout"
        }
      ]
    },
    {
      "cell_type": "code",
      "metadata": {
        "ExecuteTime": {
          "end_time": "2021-02-06T07:44:55.752886Z",
          "start_time": "2021-02-06T07:44:55.675116Z"
        },
        "id": "_GWxZF2Lux1_"
      },
      "source": [
        "pd.to_pickle(best_forest,'random_forest_houses.pkl')"
      ],
      "execution_count": null,
      "outputs": []
    },
    {
      "cell_type": "code",
      "metadata": {
        "ExecuteTime": {
          "end_time": "2021-02-06T15:43:03.331147Z",
          "start_time": "2021-02-06T15:43:03.326056Z"
        },
        "id": "ONNEYzvEux2A"
      },
      "source": [
        "from sklearn.ensemble import VotingRegressor"
      ],
      "execution_count": null,
      "outputs": []
    },
    {
      "cell_type": "code",
      "metadata": {
        "ExecuteTime": {
          "end_time": "2021-02-06T15:43:04.020842Z",
          "start_time": "2021-02-06T15:43:03.950543Z"
        },
        "id": "sDtQUYqjux2A"
      },
      "source": [
        "VotingRegressor?"
      ],
      "execution_count": null,
      "outputs": []
    },
    {
      "cell_type": "code",
      "metadata": {
        "ExecuteTime": {
          "end_time": "2021-02-06T15:43:48.319264Z",
          "start_time": "2021-02-06T15:43:48.312877Z"
        },
        "id": "J1DT9XwKux2B"
      },
      "source": [
        "from sklearn.svm import SVR\n",
        "from sklearn.linear_model import ElasticNet,Ridge"
      ],
      "execution_count": null,
      "outputs": []
    },
    {
      "cell_type": "code",
      "metadata": {
        "ExecuteTime": {
          "end_time": "2021-02-06T15:43:54.411997Z",
          "start_time": "2021-02-06T15:43:54.403512Z"
        },
        "id": "73VffUP_ux2B"
      },
      "source": [
        "ridge=Ridge()\n",
        "elastic=ElasticNet()\n",
        "svm=SVR()\n",
        "forest_reg=RandomForestRegressor()"
      ],
      "execution_count": null,
      "outputs": []
    },
    {
      "cell_type": "code",
      "metadata": {
        "ExecuteTime": {
          "end_time": "2021-02-06T07:53:51.351062Z",
          "start_time": "2021-02-06T07:53:51.342092Z"
        },
        "id": "D5h7ROSuux2D"
      },
      "source": [
        "VotingRegressor?"
      ],
      "execution_count": null,
      "outputs": []
    },
    {
      "cell_type": "code",
      "metadata": {
        "ExecuteTime": {
          "end_time": "2021-02-06T15:47:25.976804Z",
          "start_time": "2021-02-06T15:47:25.966147Z"
        },
        "id": "YY86RUgnux2D"
      },
      "source": [
        "voting= VotingRegressor(estimators=[ (\"elastic\", elastic),(\"forest\",best_forest),(\"svm\",svm),('ridge',ridge)])"
      ],
      "execution_count": null,
      "outputs": []
    },
    {
      "cell_type": "code",
      "metadata": {
        "ExecuteTime": {
          "end_time": "2021-02-06T15:47:32.885838Z",
          "start_time": "2021-02-06T15:47:28.685025Z"
        },
        "id": "PykKdTEZux2E",
        "outputId": "0cddcce4-bede-4788-df3b-7fb7b3cc1724"
      },
      "source": [
        "voting.fit(X,Y)"
      ],
      "execution_count": null,
      "outputs": [
        {
          "output_type": "stream",
          "text": [
            "/home/jorge/Documents/Diplomado/ambientes/diplo_env/lib/python3.6/site-packages/sklearn/utils/validation.py:72: DataConversionWarning: A column-vector y was passed when a 1d array was expected. Please change the shape of y to (n_samples, ), for example using ravel().\n",
            "  return f(**kwargs)\n"
          ],
          "name": "stderr"
        },
        {
          "output_type": "execute_result",
          "data": {
            "text/plain": [
              "VotingRegressor(estimators=[('elastic', ElasticNet()),\n",
              "                            ('forest',\n",
              "                             RandomForestRegressor(max_depth=50, max_features=3,\n",
              "                                                   n_estimators=70)),\n",
              "                            ('svm', SVR()), ('ridge', Ridge())])"
            ]
          },
          "metadata": {
            "tags": []
          },
          "execution_count": 68
        }
      ]
    },
    {
      "cell_type": "code",
      "metadata": {
        "ExecuteTime": {
          "end_time": "2021-02-06T15:48:30.752394Z",
          "start_time": "2021-02-06T15:48:29.081348Z"
        },
        "id": "OBRhnIE3ux2E",
        "outputId": "ce602fa3-c966-40fd-900c-73450c66ccec"
      },
      "source": [
        "metricas(Y,voting.predict(X))"
      ],
      "execution_count": null,
      "outputs": [
        {
          "output_type": "stream",
          "text": [
            "El r2 score es 0.671436480763034\n",
            "El error cuadrático medio es 104493530136.75671\n",
            "El error medio absoluto es 211081.7335461525\n"
          ],
          "name": "stdout"
        }
      ]
    },
    {
      "cell_type": "code",
      "metadata": {
        "ExecuteTime": {
          "end_time": "2021-02-06T15:48:32.636735Z",
          "start_time": "2021-02-06T15:48:32.377905Z"
        },
        "id": "sR2W-BKnux2F",
        "outputId": "93b6de2f-27e8-41c5-f2c9-4b242a33bf22"
      },
      "source": [
        "metricas(Y_v,voting.predict(X_v))"
      ],
      "execution_count": null,
      "outputs": [
        {
          "output_type": "stream",
          "text": [
            "El r2 score es 0.6219561504067141\n",
            "El error cuadrático medio es 101632996773.40959\n",
            "El error medio absoluto es 209147.9498845031\n"
          ],
          "name": "stdout"
        }
      ]
    },
    {
      "cell_type": "code",
      "metadata": {
        "ExecuteTime": {
          "end_time": "2021-02-06T15:45:39.761201Z",
          "start_time": "2021-02-06T15:45:39.539778Z"
        },
        "id": "L-RD3jIDux2F",
        "outputId": "6209aa4f-7b51-4598-94af-f005beedda24"
      },
      "source": [
        "metricas(Y,voting.predict(X))"
      ],
      "execution_count": null,
      "outputs": [
        {
          "output_type": "stream",
          "text": [
            "El r2 score es 0.8179753936004163\n",
            "El error cuadrático medio es 57889548232.91969\n",
            "El error medio absoluto es 163144.96122816895\n"
          ],
          "name": "stdout"
        }
      ]
    },
    {
      "cell_type": "code",
      "metadata": {
        "ExecuteTime": {
          "end_time": "2021-02-06T15:45:44.524440Z",
          "start_time": "2021-02-06T15:45:44.448388Z"
        },
        "id": "jj8Yi7UOux2G",
        "outputId": "6cab92c8-736c-4292-d806-636d2147b5a6"
      },
      "source": [
        "metricas(Y_v,voting.predict(X_v))"
      ],
      "execution_count": null,
      "outputs": [
        {
          "output_type": "stream",
          "text": [
            "El r2 score es 0.727154556833282\n",
            "El error cuadrático medio es 73351543940.83034\n",
            "El error medio absoluto es 175366.3691634558\n"
          ],
          "name": "stdout"
        }
      ]
    },
    {
      "cell_type": "code",
      "metadata": {
        "ExecuteTime": {
          "end_time": "2021-02-06T15:45:56.755186Z",
          "start_time": "2021-02-06T15:45:56.581056Z"
        },
        "id": "Nffmojtfux2G"
      },
      "source": [
        "pd.to_pickle(voting,'voting_housing.pkl')"
      ],
      "execution_count": null,
      "outputs": []
    },
    {
      "cell_type": "code",
      "metadata": {
        "id": "OLhpWihoux2H"
      },
      "source": [
        ""
      ],
      "execution_count": null,
      "outputs": []
    }
  ]
}