{
  "nbformat": 4,
  "nbformat_minor": 0,
  "metadata": {
    "kernelspec": {
      "display_name": "diplomado",
      "language": "python",
      "name": "diplomado"
    },
    "language_info": {
      "codemirror_mode": {
        "name": "ipython",
        "version": 3
      },
      "file_extension": ".py",
      "mimetype": "text/x-python",
      "name": "python",
      "nbconvert_exporter": "python",
      "pygments_lexer": "ipython3",
      "version": "3.6.9"
    },
    "colab": {
      "name": "REDUCCION_DIMENSIONALIDAD.ipynb",
      "provenance": [],
      "toc_visible": true,
      "include_colab_link": true
    }
  },
  "cells": [
    {
      "cell_type": "markdown",
      "metadata": {
        "id": "view-in-github",
        "colab_type": "text"
      },
      "source": [
        "<a href=\"https://colab.research.google.com/github/virf96/Basico/blob/main/REDUCCION_DIMENSIONALIDAD_y_selectionfeatures.ipynb\" target=\"_parent\"><img src=\"https://colab.research.google.com/assets/colab-badge.svg\" alt=\"Open In Colab\"/></a>"
      ]
    },
    {
      "cell_type": "code",
      "metadata": {
        "ExecuteTime": {
          "end_time": "2020-11-14T13:54:09.783151Z",
          "start_time": "2020-11-14T13:54:05.898074Z"
        },
        "id": "EsrDyIcEqsTi"
      },
      "source": [
        "import pandas as pd\n",
        "import numpy as np\n",
        "import plotly.graph_objects as go\n",
        "import plotly.express as px\n",
        "from sklearn.model_selection import train_test_split\n",
        "pd.set_option(\"display.max_columns\",200)"
      ],
      "execution_count": 1,
      "outputs": []
    },
    {
      "cell_type": "markdown",
      "metadata": {
        "id": "jezsp0ihqsTt"
      },
      "source": [
        "# GENERAL"
      ]
    },
    {
      "cell_type": "markdown",
      "metadata": {
        "id": "CQRTE0QqqsTw"
      },
      "source": [
        "### Valor perdido"
      ]
    },
    {
      "cell_type": "markdown",
      "metadata": {
        "id": "JV84c4FNqsTx"
      },
      "source": [
        "\n",
        "\n",
        "OBJETIVO - PREDECIR EL PRECIO DE ARTICULOS EN EL MERCADO A PARTIR DE SUS CARACTERISTICAS"
      ]
    },
    {
      "cell_type": "code",
      "metadata": {
        "colab": {
          "base_uri": "https://localhost:8080/"
        },
        "id": "CimGvATj0BUb",
        "outputId": "2407f960-61fe-4e73-91db-878e0163904f"
      },
      "source": [
        "from google.colab import drive\n",
        "drive.mount('/content/drive')"
      ],
      "execution_count": 2,
      "outputs": [
        {
          "output_type": "stream",
          "text": [
            "Mounted at /content/drive\n"
          ],
          "name": "stdout"
        }
      ]
    },
    {
      "cell_type": "code",
      "metadata": {
        "ExecuteTime": {
          "end_time": "2020-11-14T13:54:52.077079Z",
          "start_time": "2020-11-14T13:54:52.012251Z"
        },
        "id": "2rk1YbdhqsTy"
      },
      "source": [
        "df=pd.read_csv(\"/content/drive/MyDrive/datasets/precio.csv\")"
      ],
      "execution_count": 3,
      "outputs": []
    },
    {
      "cell_type": "code",
      "metadata": {
        "ExecuteTime": {
          "end_time": "2020-11-14T13:54:09.926525Z",
          "start_time": "2020-11-14T13:54:09.887850Z"
        },
        "id": "wRSR-QRFqsTz",
        "colab": {
          "base_uri": "https://localhost:8080/"
        },
        "outputId": "61e370d4-b8fb-4a76-9b37-ef368eef3eaf"
      },
      "source": [
        "df.columns"
      ],
      "execution_count": 4,
      "outputs": [
        {
          "output_type": "execute_result",
          "data": {
            "text/plain": [
              "Index(['Item_Identifier', 'Item_Weight', 'Item_Fat_Content', 'Item_Visibility',\n",
              "       'Item_Type', 'Item_MRP', 'Outlet_Identifier',\n",
              "       'Outlet_Establishment_Year', 'Outlet_Size', 'Outlet_Location_Type',\n",
              "       'Outlet_Type', 'Item_Outlet_Sales'],\n",
              "      dtype='object')"
            ]
          },
          "metadata": {
            "tags": []
          },
          "execution_count": 4
        }
      ]
    },
    {
      "cell_type": "code",
      "metadata": {
        "ExecuteTime": {
          "end_time": "2020-11-14T13:54:23.196117Z",
          "start_time": "2020-11-14T13:54:23.150013Z"
        },
        "id": "lc33SL3aqsT2"
      },
      "source": [
        "df[\"Item_Weight\"]= df[\"Item_Weight\"].mask(np.random.random(df[\"Item_Weight\"].shape)<0.5)"
      ],
      "execution_count": 5,
      "outputs": []
    },
    {
      "cell_type": "markdown",
      "metadata": {
        "ExecuteTime": {
          "end_time": "2020-11-14T13:54:44.909372Z",
          "start_time": "2020-11-14T13:54:44.639554Z"
        },
        "id": "W-pFTYHsqsT3"
      },
      "source": [
        "df.to_csv(\"/home/carlita/Documents/Diplomado/Datos/archive (15)/precio.csv\",index=False)"
      ]
    },
    {
      "cell_type": "code",
      "metadata": {
        "ExecuteTime": {
          "end_time": "2020-11-14T13:54:54.632665Z",
          "start_time": "2020-11-14T13:54:54.586894Z"
        },
        "scrolled": true,
        "id": "U_TyW2jcqsT3",
        "colab": {
          "base_uri": "https://localhost:8080/",
          "height": 392
        },
        "outputId": "5fded39b-3129-41e3-8f02-8d30908ce503"
      },
      "source": [
        "pd.DataFrame(df.isnull().sum()/len(df)*100)"
      ],
      "execution_count": 6,
      "outputs": [
        {
          "output_type": "execute_result",
          "data": {
            "text/html": [
              "<div>\n",
              "<style scoped>\n",
              "    .dataframe tbody tr th:only-of-type {\n",
              "        vertical-align: middle;\n",
              "    }\n",
              "\n",
              "    .dataframe tbody tr th {\n",
              "        vertical-align: top;\n",
              "    }\n",
              "\n",
              "    .dataframe thead th {\n",
              "        text-align: right;\n",
              "    }\n",
              "</style>\n",
              "<table border=\"1\" class=\"dataframe\">\n",
              "  <thead>\n",
              "    <tr style=\"text-align: right;\">\n",
              "      <th></th>\n",
              "      <th>0</th>\n",
              "    </tr>\n",
              "  </thead>\n",
              "  <tbody>\n",
              "    <tr>\n",
              "      <th>Item_Identifier</th>\n",
              "      <td>0.000000</td>\n",
              "    </tr>\n",
              "    <tr>\n",
              "      <th>Item_Weight</th>\n",
              "      <td>78.739880</td>\n",
              "    </tr>\n",
              "    <tr>\n",
              "      <th>Item_Fat_Content</th>\n",
              "      <td>0.000000</td>\n",
              "    </tr>\n",
              "    <tr>\n",
              "      <th>Item_Visibility</th>\n",
              "      <td>0.000000</td>\n",
              "    </tr>\n",
              "    <tr>\n",
              "      <th>Item_Type</th>\n",
              "      <td>0.000000</td>\n",
              "    </tr>\n",
              "    <tr>\n",
              "      <th>Item_MRP</th>\n",
              "      <td>0.000000</td>\n",
              "    </tr>\n",
              "    <tr>\n",
              "      <th>Outlet_Identifier</th>\n",
              "      <td>0.000000</td>\n",
              "    </tr>\n",
              "    <tr>\n",
              "      <th>Outlet_Establishment_Year</th>\n",
              "      <td>0.000000</td>\n",
              "    </tr>\n",
              "    <tr>\n",
              "      <th>Outlet_Size</th>\n",
              "      <td>28.276428</td>\n",
              "    </tr>\n",
              "    <tr>\n",
              "      <th>Outlet_Location_Type</th>\n",
              "      <td>0.000000</td>\n",
              "    </tr>\n",
              "    <tr>\n",
              "      <th>Outlet_Type</th>\n",
              "      <td>0.000000</td>\n",
              "    </tr>\n",
              "    <tr>\n",
              "      <th>Item_Outlet_Sales</th>\n",
              "      <td>0.000000</td>\n",
              "    </tr>\n",
              "  </tbody>\n",
              "</table>\n",
              "</div>"
            ],
            "text/plain": [
              "                                   0\n",
              "Item_Identifier             0.000000\n",
              "Item_Weight                78.739880\n",
              "Item_Fat_Content            0.000000\n",
              "Item_Visibility             0.000000\n",
              "Item_Type                   0.000000\n",
              "Item_MRP                    0.000000\n",
              "Outlet_Identifier           0.000000\n",
              "Outlet_Establishment_Year   0.000000\n",
              "Outlet_Size                28.276428\n",
              "Outlet_Location_Type        0.000000\n",
              "Outlet_Type                 0.000000\n",
              "Item_Outlet_Sales           0.000000"
            ]
          },
          "metadata": {
            "tags": []
          },
          "execution_count": 6
        }
      ]
    },
    {
      "cell_type": "markdown",
      "metadata": {
        "id": "MWM2jb8DqsT8"
      },
      "source": [
        "- Como puede ver en la tabla anterior,  hay demasiados valores perdidos (solo 2 variables los tienen). Podemos eliminar esas columnas. "
      ]
    },
    {
      "cell_type": "code",
      "metadata": {
        "ExecuteTime": {
          "end_time": "2020-11-14T03:18:28.787744Z",
          "start_time": "2020-11-14T03:18:28.776013Z"
        },
        "id": "F8P3E1kvqsT9"
      },
      "source": [
        "df.drop(columns=[\"Item_Weight\",\"Outlet_Size\"],inplace=True)"
      ],
      "execution_count": 7,
      "outputs": []
    },
    {
      "cell_type": "markdown",
      "metadata": {
        "ExecuteTime": {
          "end_time": "2020-11-14T02:30:35.054705Z",
          "start_time": "2020-11-14T02:30:34.703463Z"
        },
        "id": "PwVrSAvQqsT9"
      },
      "source": [
        "df['Item_Weight'].fillna(df['Item_Weight'].median(), inplace=True)\n",
        "df['Outlet_Size'].fillna(df['Outlet_Size'].mode()[0], inplace=True)"
      ]
    },
    {
      "cell_type": "code",
      "metadata": {
        "ExecuteTime": {
          "end_time": "2020-11-14T03:18:31.244314Z",
          "start_time": "2020-11-14T03:18:31.208441Z"
        },
        "id": "VRxap7diqsT-",
        "colab": {
          "base_uri": "https://localhost:8080/",
          "height": 335
        },
        "outputId": "c9bb6238-3210-451b-af5e-2f3acd79e54e"
      },
      "source": [
        "pd.DataFrame(df.isnull().sum()/len(df)*100)"
      ],
      "execution_count": 8,
      "outputs": [
        {
          "output_type": "execute_result",
          "data": {
            "text/html": [
              "<div>\n",
              "<style scoped>\n",
              "    .dataframe tbody tr th:only-of-type {\n",
              "        vertical-align: middle;\n",
              "    }\n",
              "\n",
              "    .dataframe tbody tr th {\n",
              "        vertical-align: top;\n",
              "    }\n",
              "\n",
              "    .dataframe thead th {\n",
              "        text-align: right;\n",
              "    }\n",
              "</style>\n",
              "<table border=\"1\" class=\"dataframe\">\n",
              "  <thead>\n",
              "    <tr style=\"text-align: right;\">\n",
              "      <th></th>\n",
              "      <th>0</th>\n",
              "    </tr>\n",
              "  </thead>\n",
              "  <tbody>\n",
              "    <tr>\n",
              "      <th>Item_Identifier</th>\n",
              "      <td>0.0</td>\n",
              "    </tr>\n",
              "    <tr>\n",
              "      <th>Item_Fat_Content</th>\n",
              "      <td>0.0</td>\n",
              "    </tr>\n",
              "    <tr>\n",
              "      <th>Item_Visibility</th>\n",
              "      <td>0.0</td>\n",
              "    </tr>\n",
              "    <tr>\n",
              "      <th>Item_Type</th>\n",
              "      <td>0.0</td>\n",
              "    </tr>\n",
              "    <tr>\n",
              "      <th>Item_MRP</th>\n",
              "      <td>0.0</td>\n",
              "    </tr>\n",
              "    <tr>\n",
              "      <th>Outlet_Identifier</th>\n",
              "      <td>0.0</td>\n",
              "    </tr>\n",
              "    <tr>\n",
              "      <th>Outlet_Establishment_Year</th>\n",
              "      <td>0.0</td>\n",
              "    </tr>\n",
              "    <tr>\n",
              "      <th>Outlet_Location_Type</th>\n",
              "      <td>0.0</td>\n",
              "    </tr>\n",
              "    <tr>\n",
              "      <th>Outlet_Type</th>\n",
              "      <td>0.0</td>\n",
              "    </tr>\n",
              "    <tr>\n",
              "      <th>Item_Outlet_Sales</th>\n",
              "      <td>0.0</td>\n",
              "    </tr>\n",
              "  </tbody>\n",
              "</table>\n",
              "</div>"
            ],
            "text/plain": [
              "                             0\n",
              "Item_Identifier            0.0\n",
              "Item_Fat_Content           0.0\n",
              "Item_Visibility            0.0\n",
              "Item_Type                  0.0\n",
              "Item_MRP                   0.0\n",
              "Outlet_Identifier          0.0\n",
              "Outlet_Establishment_Year  0.0\n",
              "Outlet_Location_Type       0.0\n",
              "Outlet_Type                0.0\n",
              "Item_Outlet_Sales          0.0"
            ]
          },
          "metadata": {
            "tags": []
          },
          "execution_count": 8
        }
      ]
    },
    {
      "cell_type": "markdown",
      "metadata": {
        "id": "vyDaqkcmqsT-"
      },
      "source": [
        "### Baja Varianza"
      ]
    },
    {
      "cell_type": "code",
      "metadata": {
        "ExecuteTime": {
          "end_time": "2020-11-14T03:18:32.912970Z",
          "start_time": "2020-11-14T03:18:32.877266Z"
        },
        "id": "ep7OnRsMqsT_",
        "colab": {
          "base_uri": "https://localhost:8080/"
        },
        "outputId": "744250b7-3299-45b2-a496-09c77bdfc5ce"
      },
      "source": [
        "#Calculamos la varianza de todas las variables\n",
        "\n",
        "df.var()"
      ],
      "execution_count": 9,
      "outputs": [
        {
          "output_type": "execute_result",
          "data": {
            "text/plain": [
              "Item_Visibility              2.662335e-03\n",
              "Item_MRP                     3.878184e+03\n",
              "Outlet_Establishment_Year    7.008637e+01\n",
              "Item_Outlet_Sales            2.912141e+06\n",
              "dtype: float64"
            ]
          },
          "metadata": {
            "tags": []
          },
          "execution_count": 9
        }
      ]
    },
    {
      "cell_type": "markdown",
      "metadata": {
        "id": "b8mrGHJWqsUA"
      },
      "source": [
        "- Como muestra el resultado anterior, la varianza de Item_Visibility es muy inferior en comparación con las otras variables. Podemos soltar esta columna con seguridad. Así es como aplicamos el filtro de baja varianza."
      ]
    },
    {
      "cell_type": "code",
      "metadata": {
        "ExecuteTime": {
          "end_time": "2020-11-14T03:18:40.478704Z",
          "start_time": "2020-11-14T03:18:40.427106Z"
        },
        "id": "6SKiURpnqsUB"
      },
      "source": [
        "var=df.var()"
      ],
      "execution_count": 10,
      "outputs": []
    },
    {
      "cell_type": "code",
      "metadata": {
        "ExecuteTime": {
          "end_time": "2020-11-14T03:18:40.955205Z",
          "start_time": "2020-11-14T03:18:40.936042Z"
        },
        "id": "JcuY2ZWaqsUC"
      },
      "source": [
        "varianza=pd.DataFrame(var).reset_index().rename(columns={\"index\":\"col\",0:\"var\"})"
      ],
      "execution_count": 11,
      "outputs": []
    },
    {
      "cell_type": "code",
      "metadata": {
        "ExecuteTime": {
          "end_time": "2020-11-14T03:18:41.399295Z",
          "start_time": "2020-11-14T03:18:41.392753Z"
        },
        "id": "D4ji3qqAqsUC"
      },
      "source": [
        "threshold=10"
      ],
      "execution_count": 12,
      "outputs": []
    },
    {
      "cell_type": "code",
      "metadata": {
        "ExecuteTime": {
          "end_time": "2020-11-14T03:18:41.898272Z",
          "start_time": "2020-11-14T03:18:41.873322Z"
        },
        "id": "E7Fch8h4qsUC",
        "colab": {
          "base_uri": "https://localhost:8080/",
          "height": 133
        },
        "outputId": "1eaf0904-f635-40d2-aa12-10812ec0ae81"
      },
      "source": [
        "varianza[varianza[\"var\"].astype(float)>threshold]"
      ],
      "execution_count": 13,
      "outputs": [
        {
          "output_type": "execute_result",
          "data": {
            "text/html": [
              "<div>\n",
              "<style scoped>\n",
              "    .dataframe tbody tr th:only-of-type {\n",
              "        vertical-align: middle;\n",
              "    }\n",
              "\n",
              "    .dataframe tbody tr th {\n",
              "        vertical-align: top;\n",
              "    }\n",
              "\n",
              "    .dataframe thead th {\n",
              "        text-align: right;\n",
              "    }\n",
              "</style>\n",
              "<table border=\"1\" class=\"dataframe\">\n",
              "  <thead>\n",
              "    <tr style=\"text-align: right;\">\n",
              "      <th></th>\n",
              "      <th>col</th>\n",
              "      <th>var</th>\n",
              "    </tr>\n",
              "  </thead>\n",
              "  <tbody>\n",
              "    <tr>\n",
              "      <th>1</th>\n",
              "      <td>Item_MRP</td>\n",
              "      <td>3.878184e+03</td>\n",
              "    </tr>\n",
              "    <tr>\n",
              "      <th>2</th>\n",
              "      <td>Outlet_Establishment_Year</td>\n",
              "      <td>7.008637e+01</td>\n",
              "    </tr>\n",
              "    <tr>\n",
              "      <th>3</th>\n",
              "      <td>Item_Outlet_Sales</td>\n",
              "      <td>2.912141e+06</td>\n",
              "    </tr>\n",
              "  </tbody>\n",
              "</table>\n",
              "</div>"
            ],
            "text/plain": [
              "                         col           var\n",
              "1                   Item_MRP  3.878184e+03\n",
              "2  Outlet_Establishment_Year  7.008637e+01\n",
              "3          Item_Outlet_Sales  2.912141e+06"
            ]
          },
          "metadata": {
            "tags": []
          },
          "execution_count": 13
        }
      ]
    },
    {
      "cell_type": "code",
      "metadata": {
        "ExecuteTime": {
          "end_time": "2020-11-14T03:18:42.651904Z",
          "start_time": "2020-11-14T03:18:42.623300Z"
        },
        "id": "z0-MhTQmqsUD",
        "colab": {
          "base_uri": "https://localhost:8080/",
          "height": 76
        },
        "outputId": "3be9fc39-3042-4cc1-9849-3b23a5936664"
      },
      "source": [
        "varianza[varianza[\"var\"].astype(float)<threshold]"
      ],
      "execution_count": 14,
      "outputs": [
        {
          "output_type": "execute_result",
          "data": {
            "text/html": [
              "<div>\n",
              "<style scoped>\n",
              "    .dataframe tbody tr th:only-of-type {\n",
              "        vertical-align: middle;\n",
              "    }\n",
              "\n",
              "    .dataframe tbody tr th {\n",
              "        vertical-align: top;\n",
              "    }\n",
              "\n",
              "    .dataframe thead th {\n",
              "        text-align: right;\n",
              "    }\n",
              "</style>\n",
              "<table border=\"1\" class=\"dataframe\">\n",
              "  <thead>\n",
              "    <tr style=\"text-align: right;\">\n",
              "      <th></th>\n",
              "      <th>col</th>\n",
              "      <th>var</th>\n",
              "    </tr>\n",
              "  </thead>\n",
              "  <tbody>\n",
              "    <tr>\n",
              "      <th>0</th>\n",
              "      <td>Item_Visibility</td>\n",
              "      <td>0.002662</td>\n",
              "    </tr>\n",
              "  </tbody>\n",
              "</table>\n",
              "</div>"
            ],
            "text/plain": [
              "               col       var\n",
              "0  Item_Visibility  0.002662"
            ]
          },
          "metadata": {
            "tags": []
          },
          "execution_count": 14
        }
      ]
    },
    {
      "cell_type": "code",
      "metadata": {
        "ExecuteTime": {
          "end_time": "2020-11-14T03:18:43.370211Z",
          "start_time": "2020-11-14T03:18:43.358054Z"
        },
        "id": "DtmQoPBNqsUD"
      },
      "source": [
        "df.drop(columns=[\"Item_Visibility\"],inplace=True)"
      ],
      "execution_count": 15,
      "outputs": []
    },
    {
      "cell_type": "markdown",
      "metadata": {
        "ExecuteTime": {
          "end_time": "2020-11-12T08:46:18.934482Z",
          "start_time": "2020-11-12T08:46:18.876936Z"
        },
        "id": "MnkSzNTCqsUE"
      },
      "source": [
        "### Alta Correlación"
      ]
    },
    {
      "cell_type": "markdown",
      "metadata": {
        "ExecuteTime": {
          "end_time": "2020-11-12T19:10:20.240366Z",
          "start_time": "2020-11-12T19:10:20.226182Z"
        },
        "id": "xkGbMsYjqsUE"
      },
      "source": [
        "OBJETIVO - PREDECIR EL SALARIO A PARTIR DE LAS CARACTERISTICAS DEL EMPLEADO"
      ]
    },
    {
      "cell_type": "markdown",
      "metadata": {
        "id": "H0KfZpfWqsUE"
      },
      "source": [
        "- Si la correlación entre un par de variables es mayor que 0.5-0.6, deberíamos considerar seriamente descartar una de esas variables."
      ]
    },
    {
      "cell_type": "code",
      "metadata": {
        "ExecuteTime": {
          "end_time": "2020-11-14T03:18:47.352125Z",
          "start_time": "2020-11-14T03:18:47.321794Z"
        },
        "scrolled": true,
        "id": "i13gOIxoqsUF",
        "colab": {
          "base_uri": "https://localhost:8080/",
          "height": 133
        },
        "outputId": "37c8cfec-354b-45e9-c17e-ea8287bdfe99"
      },
      "source": [
        "df.corr()"
      ],
      "execution_count": 16,
      "outputs": [
        {
          "output_type": "execute_result",
          "data": {
            "text/html": [
              "<div>\n",
              "<style scoped>\n",
              "    .dataframe tbody tr th:only-of-type {\n",
              "        vertical-align: middle;\n",
              "    }\n",
              "\n",
              "    .dataframe tbody tr th {\n",
              "        vertical-align: top;\n",
              "    }\n",
              "\n",
              "    .dataframe thead th {\n",
              "        text-align: right;\n",
              "    }\n",
              "</style>\n",
              "<table border=\"1\" class=\"dataframe\">\n",
              "  <thead>\n",
              "    <tr style=\"text-align: right;\">\n",
              "      <th></th>\n",
              "      <th>Item_MRP</th>\n",
              "      <th>Outlet_Establishment_Year</th>\n",
              "      <th>Item_Outlet_Sales</th>\n",
              "    </tr>\n",
              "  </thead>\n",
              "  <tbody>\n",
              "    <tr>\n",
              "      <th>Item_MRP</th>\n",
              "      <td>1.000000</td>\n",
              "      <td>0.005020</td>\n",
              "      <td>0.567574</td>\n",
              "    </tr>\n",
              "    <tr>\n",
              "      <th>Outlet_Establishment_Year</th>\n",
              "      <td>0.005020</td>\n",
              "      <td>1.000000</td>\n",
              "      <td>-0.049135</td>\n",
              "    </tr>\n",
              "    <tr>\n",
              "      <th>Item_Outlet_Sales</th>\n",
              "      <td>0.567574</td>\n",
              "      <td>-0.049135</td>\n",
              "      <td>1.000000</td>\n",
              "    </tr>\n",
              "  </tbody>\n",
              "</table>\n",
              "</div>"
            ],
            "text/plain": [
              "                           Item_MRP  Outlet_Establishment_Year  \\\n",
              "Item_MRP                   1.000000                   0.005020   \n",
              "Outlet_Establishment_Year  0.005020                   1.000000   \n",
              "Item_Outlet_Sales          0.567574                  -0.049135   \n",
              "\n",
              "                           Item_Outlet_Sales  \n",
              "Item_MRP                            0.567574  \n",
              "Outlet_Establishment_Year          -0.049135  \n",
              "Item_Outlet_Sales                   1.000000  "
            ]
          },
          "metadata": {
            "tags": []
          },
          "execution_count": 16
        }
      ]
    },
    {
      "cell_type": "code",
      "metadata": {
        "ExecuteTime": {
          "end_time": "2020-11-14T03:18:48.117775Z",
          "start_time": "2020-11-14T03:18:48.110179Z"
        },
        "id": "mU7v3oBhqsUF"
      },
      "source": [
        "def df_to_plotly(df):\n",
        "    return {'z': df.values.tolist(),\n",
        "            'x': df.columns.tolist(),\n",
        "            'y': df.index.tolist()}"
      ],
      "execution_count": 17,
      "outputs": []
    },
    {
      "cell_type": "code",
      "metadata": {
        "ExecuteTime": {
          "end_time": "2020-11-14T03:18:51.826636Z",
          "start_time": "2020-11-14T03:18:51.789781Z"
        },
        "id": "fwy1sjegqsUG",
        "colab": {
          "base_uri": "https://localhost:8080/",
          "height": 542
        },
        "outputId": "0eb86f2b-ac6a-484c-90cf-720e5d9b2c28"
      },
      "source": [
        "fig = go.Figure(data=go.Heatmap(df_to_plotly(df.corr()),hoverongaps = False,colorscale='Inferno'))\n",
        "fig.show()"
      ],
      "execution_count": 18,
      "outputs": [
        {
          "output_type": "display_data",
          "data": {
            "text/html": [
              "<html>\n",
              "<head><meta charset=\"utf-8\" /></head>\n",
              "<body>\n",
              "    <div>\n",
              "            <script src=\"https://cdnjs.cloudflare.com/ajax/libs/mathjax/2.7.5/MathJax.js?config=TeX-AMS-MML_SVG\"></script><script type=\"text/javascript\">if (window.MathJax) {MathJax.Hub.Config({SVG: {font: \"STIX-Web\"}});}</script>\n",
              "                <script type=\"text/javascript\">window.PlotlyConfig = {MathJaxConfig: 'local'};</script>\n",
              "        <script src=\"https://cdn.plot.ly/plotly-latest.min.js\"></script>    \n",
              "            <div id=\"5cd2785f-2bba-4e29-953a-8ff6a06893ae\" class=\"plotly-graph-div\" style=\"height:525px; width:100%;\"></div>\n",
              "            <script type=\"text/javascript\">\n",
              "                \n",
              "                    window.PLOTLYENV=window.PLOTLYENV || {};\n",
              "                    \n",
              "                if (document.getElementById(\"5cd2785f-2bba-4e29-953a-8ff6a06893ae\")) {\n",
              "                    Plotly.newPlot(\n",
              "                        '5cd2785f-2bba-4e29-953a-8ff6a06893ae',\n",
              "                        [{\"colorscale\": [[0.0, \"#000004\"], [0.1111111111111111, \"#1b0c41\"], [0.2222222222222222, \"#4a0c6b\"], [0.3333333333333333, \"#781c6d\"], [0.4444444444444444, \"#a52c60\"], [0.5555555555555556, \"#cf4446\"], [0.6666666666666666, \"#ed6925\"], [0.7777777777777778, \"#fb9b06\"], [0.8888888888888888, \"#f7d13d\"], [1.0, \"#fcffa4\"]], \"hoverongaps\": false, \"type\": \"heatmap\", \"x\": [\"Item_MRP\", \"Outlet_Establishment_Year\", \"Item_Outlet_Sales\"], \"y\": [\"Item_MRP\", \"Outlet_Establishment_Year\", \"Item_Outlet_Sales\"], \"z\": [[1.0, 0.005019916170235697, 0.5675744466569185], [0.005019916170235697, 1.0, -0.049134970440820575], [0.5675744466569185, -0.049134970440820575, 1.0]]}],\n",
              "                        {\"template\": {\"data\": {\"bar\": [{\"error_x\": {\"color\": \"#2a3f5f\"}, \"error_y\": {\"color\": \"#2a3f5f\"}, \"marker\": {\"line\": {\"color\": \"#E5ECF6\", \"width\": 0.5}}, \"type\": \"bar\"}], \"barpolar\": [{\"marker\": {\"line\": {\"color\": \"#E5ECF6\", \"width\": 0.5}}, \"type\": \"barpolar\"}], \"carpet\": [{\"aaxis\": {\"endlinecolor\": \"#2a3f5f\", \"gridcolor\": \"white\", \"linecolor\": \"white\", \"minorgridcolor\": \"white\", \"startlinecolor\": \"#2a3f5f\"}, \"baxis\": {\"endlinecolor\": \"#2a3f5f\", \"gridcolor\": \"white\", \"linecolor\": \"white\", \"minorgridcolor\": \"white\", \"startlinecolor\": \"#2a3f5f\"}, \"type\": \"carpet\"}], \"choropleth\": [{\"colorbar\": {\"outlinewidth\": 0, \"ticks\": \"\"}, \"type\": \"choropleth\"}], \"contour\": [{\"colorbar\": {\"outlinewidth\": 0, \"ticks\": \"\"}, \"colorscale\": [[0.0, \"#0d0887\"], [0.1111111111111111, \"#46039f\"], [0.2222222222222222, \"#7201a8\"], [0.3333333333333333, \"#9c179e\"], [0.4444444444444444, \"#bd3786\"], [0.5555555555555556, \"#d8576b\"], [0.6666666666666666, \"#ed7953\"], [0.7777777777777778, \"#fb9f3a\"], [0.8888888888888888, \"#fdca26\"], [1.0, \"#f0f921\"]], \"type\": \"contour\"}], \"contourcarpet\": [{\"colorbar\": {\"outlinewidth\": 0, \"ticks\": \"\"}, \"type\": \"contourcarpet\"}], \"heatmap\": [{\"colorbar\": {\"outlinewidth\": 0, \"ticks\": \"\"}, \"colorscale\": [[0.0, \"#0d0887\"], [0.1111111111111111, \"#46039f\"], [0.2222222222222222, \"#7201a8\"], [0.3333333333333333, \"#9c179e\"], [0.4444444444444444, \"#bd3786\"], [0.5555555555555556, \"#d8576b\"], [0.6666666666666666, \"#ed7953\"], [0.7777777777777778, \"#fb9f3a\"], [0.8888888888888888, \"#fdca26\"], [1.0, \"#f0f921\"]], \"type\": \"heatmap\"}], \"heatmapgl\": [{\"colorbar\": {\"outlinewidth\": 0, \"ticks\": \"\"}, \"colorscale\": [[0.0, \"#0d0887\"], [0.1111111111111111, \"#46039f\"], [0.2222222222222222, \"#7201a8\"], [0.3333333333333333, \"#9c179e\"], [0.4444444444444444, \"#bd3786\"], [0.5555555555555556, \"#d8576b\"], [0.6666666666666666, \"#ed7953\"], [0.7777777777777778, \"#fb9f3a\"], [0.8888888888888888, \"#fdca26\"], [1.0, \"#f0f921\"]], \"type\": \"heatmapgl\"}], \"histogram\": [{\"marker\": {\"colorbar\": {\"outlinewidth\": 0, \"ticks\": \"\"}}, \"type\": \"histogram\"}], \"histogram2d\": [{\"colorbar\": {\"outlinewidth\": 0, \"ticks\": \"\"}, \"colorscale\": [[0.0, \"#0d0887\"], [0.1111111111111111, \"#46039f\"], [0.2222222222222222, \"#7201a8\"], [0.3333333333333333, \"#9c179e\"], [0.4444444444444444, \"#bd3786\"], [0.5555555555555556, \"#d8576b\"], [0.6666666666666666, \"#ed7953\"], [0.7777777777777778, \"#fb9f3a\"], [0.8888888888888888, \"#fdca26\"], [1.0, \"#f0f921\"]], \"type\": \"histogram2d\"}], \"histogram2dcontour\": [{\"colorbar\": {\"outlinewidth\": 0, \"ticks\": \"\"}, \"colorscale\": [[0.0, \"#0d0887\"], [0.1111111111111111, \"#46039f\"], [0.2222222222222222, \"#7201a8\"], [0.3333333333333333, \"#9c179e\"], [0.4444444444444444, \"#bd3786\"], [0.5555555555555556, \"#d8576b\"], [0.6666666666666666, \"#ed7953\"], [0.7777777777777778, \"#fb9f3a\"], [0.8888888888888888, \"#fdca26\"], [1.0, \"#f0f921\"]], \"type\": \"histogram2dcontour\"}], \"mesh3d\": [{\"colorbar\": {\"outlinewidth\": 0, \"ticks\": \"\"}, \"type\": \"mesh3d\"}], \"parcoords\": [{\"line\": {\"colorbar\": {\"outlinewidth\": 0, \"ticks\": \"\"}}, \"type\": \"parcoords\"}], \"pie\": [{\"automargin\": true, \"type\": \"pie\"}], \"scatter\": [{\"marker\": {\"colorbar\": {\"outlinewidth\": 0, \"ticks\": \"\"}}, \"type\": \"scatter\"}], \"scatter3d\": [{\"line\": {\"colorbar\": {\"outlinewidth\": 0, \"ticks\": \"\"}}, \"marker\": {\"colorbar\": {\"outlinewidth\": 0, \"ticks\": \"\"}}, \"type\": \"scatter3d\"}], \"scattercarpet\": [{\"marker\": {\"colorbar\": {\"outlinewidth\": 0, \"ticks\": \"\"}}, \"type\": \"scattercarpet\"}], \"scattergeo\": [{\"marker\": {\"colorbar\": {\"outlinewidth\": 0, \"ticks\": \"\"}}, \"type\": \"scattergeo\"}], \"scattergl\": [{\"marker\": {\"colorbar\": {\"outlinewidth\": 0, \"ticks\": \"\"}}, \"type\": \"scattergl\"}], \"scattermapbox\": [{\"marker\": {\"colorbar\": {\"outlinewidth\": 0, \"ticks\": \"\"}}, \"type\": \"scattermapbox\"}], \"scatterpolar\": [{\"marker\": {\"colorbar\": {\"outlinewidth\": 0, \"ticks\": \"\"}}, \"type\": \"scatterpolar\"}], \"scatterpolargl\": [{\"marker\": {\"colorbar\": {\"outlinewidth\": 0, \"ticks\": \"\"}}, \"type\": \"scatterpolargl\"}], \"scatterternary\": [{\"marker\": {\"colorbar\": {\"outlinewidth\": 0, \"ticks\": \"\"}}, \"type\": \"scatterternary\"}], \"surface\": [{\"colorbar\": {\"outlinewidth\": 0, \"ticks\": \"\"}, \"colorscale\": [[0.0, \"#0d0887\"], [0.1111111111111111, \"#46039f\"], [0.2222222222222222, \"#7201a8\"], [0.3333333333333333, \"#9c179e\"], [0.4444444444444444, \"#bd3786\"], [0.5555555555555556, \"#d8576b\"], [0.6666666666666666, \"#ed7953\"], [0.7777777777777778, \"#fb9f3a\"], [0.8888888888888888, \"#fdca26\"], [1.0, \"#f0f921\"]], \"type\": \"surface\"}], \"table\": [{\"cells\": {\"fill\": {\"color\": \"#EBF0F8\"}, \"line\": {\"color\": \"white\"}}, \"header\": {\"fill\": {\"color\": \"#C8D4E3\"}, \"line\": {\"color\": \"white\"}}, \"type\": \"table\"}]}, \"layout\": {\"annotationdefaults\": {\"arrowcolor\": \"#2a3f5f\", \"arrowhead\": 0, \"arrowwidth\": 1}, \"coloraxis\": {\"colorbar\": {\"outlinewidth\": 0, \"ticks\": \"\"}}, \"colorscale\": {\"diverging\": [[0, \"#8e0152\"], [0.1, \"#c51b7d\"], [0.2, \"#de77ae\"], [0.3, \"#f1b6da\"], [0.4, \"#fde0ef\"], [0.5, \"#f7f7f7\"], [0.6, \"#e6f5d0\"], [0.7, \"#b8e186\"], [0.8, \"#7fbc41\"], [0.9, \"#4d9221\"], [1, \"#276419\"]], \"sequential\": [[0.0, \"#0d0887\"], [0.1111111111111111, \"#46039f\"], [0.2222222222222222, \"#7201a8\"], [0.3333333333333333, \"#9c179e\"], [0.4444444444444444, \"#bd3786\"], [0.5555555555555556, \"#d8576b\"], [0.6666666666666666, \"#ed7953\"], [0.7777777777777778, \"#fb9f3a\"], [0.8888888888888888, \"#fdca26\"], [1.0, \"#f0f921\"]], \"sequentialminus\": [[0.0, \"#0d0887\"], [0.1111111111111111, \"#46039f\"], [0.2222222222222222, \"#7201a8\"], [0.3333333333333333, \"#9c179e\"], [0.4444444444444444, \"#bd3786\"], [0.5555555555555556, \"#d8576b\"], [0.6666666666666666, \"#ed7953\"], [0.7777777777777778, \"#fb9f3a\"], [0.8888888888888888, \"#fdca26\"], [1.0, \"#f0f921\"]]}, \"colorway\": [\"#636efa\", \"#EF553B\", \"#00cc96\", \"#ab63fa\", \"#FFA15A\", \"#19d3f3\", \"#FF6692\", \"#B6E880\", \"#FF97FF\", \"#FECB52\"], \"font\": {\"color\": \"#2a3f5f\"}, \"geo\": {\"bgcolor\": \"white\", \"lakecolor\": \"white\", \"landcolor\": \"#E5ECF6\", \"showlakes\": true, \"showland\": true, \"subunitcolor\": \"white\"}, \"hoverlabel\": {\"align\": \"left\"}, \"hovermode\": \"closest\", \"mapbox\": {\"style\": \"light\"}, \"paper_bgcolor\": \"white\", \"plot_bgcolor\": \"#E5ECF6\", \"polar\": {\"angularaxis\": {\"gridcolor\": \"white\", \"linecolor\": \"white\", \"ticks\": \"\"}, \"bgcolor\": \"#E5ECF6\", \"radialaxis\": {\"gridcolor\": \"white\", \"linecolor\": \"white\", \"ticks\": \"\"}}, \"scene\": {\"xaxis\": {\"backgroundcolor\": \"#E5ECF6\", \"gridcolor\": \"white\", \"gridwidth\": 2, \"linecolor\": \"white\", \"showbackground\": true, \"ticks\": \"\", \"zerolinecolor\": \"white\"}, \"yaxis\": {\"backgroundcolor\": \"#E5ECF6\", \"gridcolor\": \"white\", \"gridwidth\": 2, \"linecolor\": \"white\", \"showbackground\": true, \"ticks\": \"\", \"zerolinecolor\": \"white\"}, \"zaxis\": {\"backgroundcolor\": \"#E5ECF6\", \"gridcolor\": \"white\", \"gridwidth\": 2, \"linecolor\": \"white\", \"showbackground\": true, \"ticks\": \"\", \"zerolinecolor\": \"white\"}}, \"shapedefaults\": {\"line\": {\"color\": \"#2a3f5f\"}}, \"ternary\": {\"aaxis\": {\"gridcolor\": \"white\", \"linecolor\": \"white\", \"ticks\": \"\"}, \"baxis\": {\"gridcolor\": \"white\", \"linecolor\": \"white\", \"ticks\": \"\"}, \"bgcolor\": \"#E5ECF6\", \"caxis\": {\"gridcolor\": \"white\", \"linecolor\": \"white\", \"ticks\": \"\"}}, \"title\": {\"x\": 0.05}, \"xaxis\": {\"automargin\": true, \"gridcolor\": \"white\", \"linecolor\": \"white\", \"ticks\": \"\", \"title\": {\"standoff\": 15}, \"zerolinecolor\": \"white\", \"zerolinewidth\": 2}, \"yaxis\": {\"automargin\": true, \"gridcolor\": \"white\", \"linecolor\": \"white\", \"ticks\": \"\", \"title\": {\"standoff\": 15}, \"zerolinecolor\": \"white\", \"zerolinewidth\": 2}}}},\n",
              "                        {\"responsive\": true}\n",
              "                    ).then(function(){\n",
              "                            \n",
              "var gd = document.getElementById('5cd2785f-2bba-4e29-953a-8ff6a06893ae');\n",
              "var x = new MutationObserver(function (mutations, observer) {{\n",
              "        var display = window.getComputedStyle(gd).display;\n",
              "        if (!display || display === 'none') {{\n",
              "            console.log([gd, 'removed!']);\n",
              "            Plotly.purge(gd);\n",
              "            observer.disconnect();\n",
              "        }}\n",
              "}});\n",
              "\n",
              "// Listen for the removal of the full notebook cells\n",
              "var notebookContainer = gd.closest('#notebook-container');\n",
              "if (notebookContainer) {{\n",
              "    x.observe(notebookContainer, {childList: true});\n",
              "}}\n",
              "\n",
              "// Listen for the clearing of the current output cell\n",
              "var outputEl = gd.closest('.output');\n",
              "if (outputEl) {{\n",
              "    x.observe(outputEl, {childList: true});\n",
              "}}\n",
              "\n",
              "                        })\n",
              "                };\n",
              "                \n",
              "            </script>\n",
              "        </div>\n",
              "</body>\n",
              "</html>"
            ]
          },
          "metadata": {
            "tags": []
          }
        }
      ]
    },
    {
      "cell_type": "code",
      "metadata": {
        "ExecuteTime": {
          "end_time": "2020-11-14T03:18:52.945200Z",
          "start_time": "2020-11-14T03:18:52.876669Z"
        },
        "id": "SdvbpexoqsUG",
        "colab": {
          "base_uri": "https://localhost:8080/",
          "height": 542
        },
        "outputId": "81481798-04f7-4bec-dd08-2b1862cc0c19"
      },
      "source": [
        "\n",
        "fig = go.Figure(data=go.Heatmap(df_to_plotly(df.corr()),hoverongaps = False,colorscale='Viridis'))\n",
        "fig.show()"
      ],
      "execution_count": 19,
      "outputs": [
        {
          "output_type": "display_data",
          "data": {
            "text/html": [
              "<html>\n",
              "<head><meta charset=\"utf-8\" /></head>\n",
              "<body>\n",
              "    <div>\n",
              "            <script src=\"https://cdnjs.cloudflare.com/ajax/libs/mathjax/2.7.5/MathJax.js?config=TeX-AMS-MML_SVG\"></script><script type=\"text/javascript\">if (window.MathJax) {MathJax.Hub.Config({SVG: {font: \"STIX-Web\"}});}</script>\n",
              "                <script type=\"text/javascript\">window.PlotlyConfig = {MathJaxConfig: 'local'};</script>\n",
              "        <script src=\"https://cdn.plot.ly/plotly-latest.min.js\"></script>    \n",
              "            <div id=\"e3c34892-b441-4292-b643-9b73b0490707\" class=\"plotly-graph-div\" style=\"height:525px; width:100%;\"></div>\n",
              "            <script type=\"text/javascript\">\n",
              "                \n",
              "                    window.PLOTLYENV=window.PLOTLYENV || {};\n",
              "                    \n",
              "                if (document.getElementById(\"e3c34892-b441-4292-b643-9b73b0490707\")) {\n",
              "                    Plotly.newPlot(\n",
              "                        'e3c34892-b441-4292-b643-9b73b0490707',\n",
              "                        [{\"colorscale\": [[0.0, \"#440154\"], [0.1111111111111111, \"#482878\"], [0.2222222222222222, \"#3e4989\"], [0.3333333333333333, \"#31688e\"], [0.4444444444444444, \"#26828e\"], [0.5555555555555556, \"#1f9e89\"], [0.6666666666666666, \"#35b779\"], [0.7777777777777778, \"#6ece58\"], [0.8888888888888888, \"#b5de2b\"], [1.0, \"#fde725\"]], \"hoverongaps\": false, \"type\": \"heatmap\", \"x\": [\"Item_MRP\", \"Outlet_Establishment_Year\", \"Item_Outlet_Sales\"], \"y\": [\"Item_MRP\", \"Outlet_Establishment_Year\", \"Item_Outlet_Sales\"], \"z\": [[1.0, 0.005019916170235697, 0.5675744466569185], [0.005019916170235697, 1.0, -0.049134970440820575], [0.5675744466569185, -0.049134970440820575, 1.0]]}],\n",
              "                        {\"template\": {\"data\": {\"bar\": [{\"error_x\": {\"color\": \"#2a3f5f\"}, \"error_y\": {\"color\": \"#2a3f5f\"}, \"marker\": {\"line\": {\"color\": \"#E5ECF6\", \"width\": 0.5}}, \"type\": \"bar\"}], \"barpolar\": [{\"marker\": {\"line\": {\"color\": \"#E5ECF6\", \"width\": 0.5}}, \"type\": \"barpolar\"}], \"carpet\": [{\"aaxis\": {\"endlinecolor\": \"#2a3f5f\", \"gridcolor\": \"white\", \"linecolor\": \"white\", \"minorgridcolor\": \"white\", \"startlinecolor\": \"#2a3f5f\"}, \"baxis\": {\"endlinecolor\": \"#2a3f5f\", \"gridcolor\": \"white\", \"linecolor\": \"white\", \"minorgridcolor\": \"white\", \"startlinecolor\": \"#2a3f5f\"}, \"type\": \"carpet\"}], \"choropleth\": [{\"colorbar\": {\"outlinewidth\": 0, \"ticks\": \"\"}, \"type\": \"choropleth\"}], \"contour\": [{\"colorbar\": {\"outlinewidth\": 0, \"ticks\": \"\"}, \"colorscale\": [[0.0, \"#0d0887\"], [0.1111111111111111, \"#46039f\"], [0.2222222222222222, \"#7201a8\"], [0.3333333333333333, \"#9c179e\"], [0.4444444444444444, \"#bd3786\"], [0.5555555555555556, \"#d8576b\"], [0.6666666666666666, \"#ed7953\"], [0.7777777777777778, \"#fb9f3a\"], [0.8888888888888888, \"#fdca26\"], [1.0, \"#f0f921\"]], \"type\": \"contour\"}], \"contourcarpet\": [{\"colorbar\": {\"outlinewidth\": 0, \"ticks\": \"\"}, \"type\": \"contourcarpet\"}], \"heatmap\": [{\"colorbar\": {\"outlinewidth\": 0, \"ticks\": \"\"}, \"colorscale\": [[0.0, \"#0d0887\"], [0.1111111111111111, \"#46039f\"], [0.2222222222222222, \"#7201a8\"], [0.3333333333333333, \"#9c179e\"], [0.4444444444444444, \"#bd3786\"], [0.5555555555555556, \"#d8576b\"], [0.6666666666666666, \"#ed7953\"], [0.7777777777777778, \"#fb9f3a\"], [0.8888888888888888, \"#fdca26\"], [1.0, \"#f0f921\"]], \"type\": \"heatmap\"}], \"heatmapgl\": [{\"colorbar\": {\"outlinewidth\": 0, \"ticks\": \"\"}, \"colorscale\": [[0.0, \"#0d0887\"], [0.1111111111111111, \"#46039f\"], [0.2222222222222222, \"#7201a8\"], [0.3333333333333333, \"#9c179e\"], [0.4444444444444444, \"#bd3786\"], [0.5555555555555556, \"#d8576b\"], [0.6666666666666666, \"#ed7953\"], [0.7777777777777778, \"#fb9f3a\"], [0.8888888888888888, \"#fdca26\"], [1.0, \"#f0f921\"]], \"type\": \"heatmapgl\"}], \"histogram\": [{\"marker\": {\"colorbar\": {\"outlinewidth\": 0, \"ticks\": \"\"}}, \"type\": \"histogram\"}], \"histogram2d\": [{\"colorbar\": {\"outlinewidth\": 0, \"ticks\": \"\"}, \"colorscale\": [[0.0, \"#0d0887\"], [0.1111111111111111, \"#46039f\"], [0.2222222222222222, \"#7201a8\"], [0.3333333333333333, \"#9c179e\"], [0.4444444444444444, \"#bd3786\"], [0.5555555555555556, \"#d8576b\"], [0.6666666666666666, \"#ed7953\"], [0.7777777777777778, \"#fb9f3a\"], [0.8888888888888888, \"#fdca26\"], [1.0, \"#f0f921\"]], \"type\": \"histogram2d\"}], \"histogram2dcontour\": [{\"colorbar\": {\"outlinewidth\": 0, \"ticks\": \"\"}, \"colorscale\": [[0.0, \"#0d0887\"], [0.1111111111111111, \"#46039f\"], [0.2222222222222222, \"#7201a8\"], [0.3333333333333333, \"#9c179e\"], [0.4444444444444444, \"#bd3786\"], [0.5555555555555556, \"#d8576b\"], [0.6666666666666666, \"#ed7953\"], [0.7777777777777778, \"#fb9f3a\"], [0.8888888888888888, \"#fdca26\"], [1.0, \"#f0f921\"]], \"type\": \"histogram2dcontour\"}], \"mesh3d\": [{\"colorbar\": {\"outlinewidth\": 0, \"ticks\": \"\"}, \"type\": \"mesh3d\"}], \"parcoords\": [{\"line\": {\"colorbar\": {\"outlinewidth\": 0, \"ticks\": \"\"}}, \"type\": \"parcoords\"}], \"pie\": [{\"automargin\": true, \"type\": \"pie\"}], \"scatter\": [{\"marker\": {\"colorbar\": {\"outlinewidth\": 0, \"ticks\": \"\"}}, \"type\": \"scatter\"}], \"scatter3d\": [{\"line\": {\"colorbar\": {\"outlinewidth\": 0, \"ticks\": \"\"}}, \"marker\": {\"colorbar\": {\"outlinewidth\": 0, \"ticks\": \"\"}}, \"type\": \"scatter3d\"}], \"scattercarpet\": [{\"marker\": {\"colorbar\": {\"outlinewidth\": 0, \"ticks\": \"\"}}, \"type\": \"scattercarpet\"}], \"scattergeo\": [{\"marker\": {\"colorbar\": {\"outlinewidth\": 0, \"ticks\": \"\"}}, \"type\": \"scattergeo\"}], \"scattergl\": [{\"marker\": {\"colorbar\": {\"outlinewidth\": 0, \"ticks\": \"\"}}, \"type\": \"scattergl\"}], \"scattermapbox\": [{\"marker\": {\"colorbar\": {\"outlinewidth\": 0, \"ticks\": \"\"}}, \"type\": \"scattermapbox\"}], \"scatterpolar\": [{\"marker\": {\"colorbar\": {\"outlinewidth\": 0, \"ticks\": \"\"}}, \"type\": \"scatterpolar\"}], \"scatterpolargl\": [{\"marker\": {\"colorbar\": {\"outlinewidth\": 0, \"ticks\": \"\"}}, \"type\": \"scatterpolargl\"}], \"scatterternary\": [{\"marker\": {\"colorbar\": {\"outlinewidth\": 0, \"ticks\": \"\"}}, \"type\": \"scatterternary\"}], \"surface\": [{\"colorbar\": {\"outlinewidth\": 0, \"ticks\": \"\"}, \"colorscale\": [[0.0, \"#0d0887\"], [0.1111111111111111, \"#46039f\"], [0.2222222222222222, \"#7201a8\"], [0.3333333333333333, \"#9c179e\"], [0.4444444444444444, \"#bd3786\"], [0.5555555555555556, \"#d8576b\"], [0.6666666666666666, \"#ed7953\"], [0.7777777777777778, \"#fb9f3a\"], [0.8888888888888888, \"#fdca26\"], [1.0, \"#f0f921\"]], \"type\": \"surface\"}], \"table\": [{\"cells\": {\"fill\": {\"color\": \"#EBF0F8\"}, \"line\": {\"color\": \"white\"}}, \"header\": {\"fill\": {\"color\": \"#C8D4E3\"}, \"line\": {\"color\": \"white\"}}, \"type\": \"table\"}]}, \"layout\": {\"annotationdefaults\": {\"arrowcolor\": \"#2a3f5f\", \"arrowhead\": 0, \"arrowwidth\": 1}, \"coloraxis\": {\"colorbar\": {\"outlinewidth\": 0, \"ticks\": \"\"}}, \"colorscale\": {\"diverging\": [[0, \"#8e0152\"], [0.1, \"#c51b7d\"], [0.2, \"#de77ae\"], [0.3, \"#f1b6da\"], [0.4, \"#fde0ef\"], [0.5, \"#f7f7f7\"], [0.6, \"#e6f5d0\"], [0.7, \"#b8e186\"], [0.8, \"#7fbc41\"], [0.9, \"#4d9221\"], [1, \"#276419\"]], \"sequential\": [[0.0, \"#0d0887\"], [0.1111111111111111, \"#46039f\"], [0.2222222222222222, \"#7201a8\"], [0.3333333333333333, \"#9c179e\"], [0.4444444444444444, \"#bd3786\"], [0.5555555555555556, \"#d8576b\"], [0.6666666666666666, \"#ed7953\"], [0.7777777777777778, \"#fb9f3a\"], [0.8888888888888888, \"#fdca26\"], [1.0, \"#f0f921\"]], \"sequentialminus\": [[0.0, \"#0d0887\"], [0.1111111111111111, \"#46039f\"], [0.2222222222222222, \"#7201a8\"], [0.3333333333333333, \"#9c179e\"], [0.4444444444444444, \"#bd3786\"], [0.5555555555555556, \"#d8576b\"], [0.6666666666666666, \"#ed7953\"], [0.7777777777777778, \"#fb9f3a\"], [0.8888888888888888, \"#fdca26\"], [1.0, \"#f0f921\"]]}, \"colorway\": [\"#636efa\", \"#EF553B\", \"#00cc96\", \"#ab63fa\", \"#FFA15A\", \"#19d3f3\", \"#FF6692\", \"#B6E880\", \"#FF97FF\", \"#FECB52\"], \"font\": {\"color\": \"#2a3f5f\"}, \"geo\": {\"bgcolor\": \"white\", \"lakecolor\": \"white\", \"landcolor\": \"#E5ECF6\", \"showlakes\": true, \"showland\": true, \"subunitcolor\": \"white\"}, \"hoverlabel\": {\"align\": \"left\"}, \"hovermode\": \"closest\", \"mapbox\": {\"style\": \"light\"}, \"paper_bgcolor\": \"white\", \"plot_bgcolor\": \"#E5ECF6\", \"polar\": {\"angularaxis\": {\"gridcolor\": \"white\", \"linecolor\": \"white\", \"ticks\": \"\"}, \"bgcolor\": \"#E5ECF6\", \"radialaxis\": {\"gridcolor\": \"white\", \"linecolor\": \"white\", \"ticks\": \"\"}}, \"scene\": {\"xaxis\": {\"backgroundcolor\": \"#E5ECF6\", \"gridcolor\": \"white\", \"gridwidth\": 2, \"linecolor\": \"white\", \"showbackground\": true, \"ticks\": \"\", \"zerolinecolor\": \"white\"}, \"yaxis\": {\"backgroundcolor\": \"#E5ECF6\", \"gridcolor\": \"white\", \"gridwidth\": 2, \"linecolor\": \"white\", \"showbackground\": true, \"ticks\": \"\", \"zerolinecolor\": \"white\"}, \"zaxis\": {\"backgroundcolor\": \"#E5ECF6\", \"gridcolor\": \"white\", \"gridwidth\": 2, \"linecolor\": \"white\", \"showbackground\": true, \"ticks\": \"\", \"zerolinecolor\": \"white\"}}, \"shapedefaults\": {\"line\": {\"color\": \"#2a3f5f\"}}, \"ternary\": {\"aaxis\": {\"gridcolor\": \"white\", \"linecolor\": \"white\", \"ticks\": \"\"}, \"baxis\": {\"gridcolor\": \"white\", \"linecolor\": \"white\", \"ticks\": \"\"}, \"bgcolor\": \"#E5ECF6\", \"caxis\": {\"gridcolor\": \"white\", \"linecolor\": \"white\", \"ticks\": \"\"}}, \"title\": {\"x\": 0.05}, \"xaxis\": {\"automargin\": true, \"gridcolor\": \"white\", \"linecolor\": \"white\", \"ticks\": \"\", \"title\": {\"standoff\": 15}, \"zerolinecolor\": \"white\", \"zerolinewidth\": 2}, \"yaxis\": {\"automargin\": true, \"gridcolor\": \"white\", \"linecolor\": \"white\", \"ticks\": \"\", \"title\": {\"standoff\": 15}, \"zerolinecolor\": \"white\", \"zerolinewidth\": 2}}}},\n",
              "                        {\"responsive\": true}\n",
              "                    ).then(function(){\n",
              "                            \n",
              "var gd = document.getElementById('e3c34892-b441-4292-b643-9b73b0490707');\n",
              "var x = new MutationObserver(function (mutations, observer) {{\n",
              "        var display = window.getComputedStyle(gd).display;\n",
              "        if (!display || display === 'none') {{\n",
              "            console.log([gd, 'removed!']);\n",
              "            Plotly.purge(gd);\n",
              "            observer.disconnect();\n",
              "        }}\n",
              "}});\n",
              "\n",
              "// Listen for the removal of the full notebook cells\n",
              "var notebookContainer = gd.closest('#notebook-container');\n",
              "if (notebookContainer) {{\n",
              "    x.observe(notebookContainer, {childList: true});\n",
              "}}\n",
              "\n",
              "// Listen for the clearing of the current output cell\n",
              "var outputEl = gd.closest('.output');\n",
              "if (outputEl) {{\n",
              "    x.observe(outputEl, {childList: true});\n",
              "}}\n",
              "\n",
              "                        })\n",
              "                };\n",
              "                \n",
              "            </script>\n",
              "        </div>\n",
              "</body>\n",
              "</html>"
            ]
          },
          "metadata": {
            "tags": []
          }
        }
      ]
    },
    {
      "cell_type": "code",
      "metadata": {
        "ExecuteTime": {
          "end_time": "2020-11-14T03:19:52.974945Z",
          "start_time": "2020-11-14T03:19:52.954860Z"
        },
        "id": "QEsTNJwTqsUH"
      },
      "source": [
        "data=pd.read_csv(\"/content/drive/MyDrive/datasets/Salary.csv\")\n"
      ],
      "execution_count": 21,
      "outputs": []
    },
    {
      "cell_type": "code",
      "metadata": {
        "ExecuteTime": {
          "end_time": "2020-11-14T03:19:53.404874Z",
          "start_time": "2020-11-14T03:19:53.368651Z"
        },
        "id": "QhmpGxevqsUH",
        "colab": {
          "base_uri": "https://localhost:8080/",
          "height": 191
        },
        "outputId": "826c04a9-153e-4b6b-8e5c-524e3bbf0809"
      },
      "source": [
        "data.corr()"
      ],
      "execution_count": 22,
      "outputs": [
        {
          "output_type": "execute_result",
          "data": {
            "text/html": [
              "<div>\n",
              "<style scoped>\n",
              "    .dataframe tbody tr th:only-of-type {\n",
              "        vertical-align: middle;\n",
              "    }\n",
              "\n",
              "    .dataframe tbody tr th {\n",
              "        vertical-align: top;\n",
              "    }\n",
              "\n",
              "    .dataframe thead th {\n",
              "        text-align: right;\n",
              "    }\n",
              "</style>\n",
              "<table border=\"1\" class=\"dataframe\">\n",
              "  <thead>\n",
              "    <tr style=\"text-align: right;\">\n",
              "      <th></th>\n",
              "      <th>YearsExperience</th>\n",
              "      <th>Gender</th>\n",
              "      <th>Education_level</th>\n",
              "      <th>Age</th>\n",
              "      <th>Salary</th>\n",
              "    </tr>\n",
              "  </thead>\n",
              "  <tbody>\n",
              "    <tr>\n",
              "      <th>YearsExperience</th>\n",
              "      <td>1.000000</td>\n",
              "      <td>-0.043824</td>\n",
              "      <td>-0.251161</td>\n",
              "      <td>0.726544</td>\n",
              "      <td>0.982427</td>\n",
              "    </tr>\n",
              "    <tr>\n",
              "      <th>Gender</th>\n",
              "      <td>-0.043824</td>\n",
              "      <td>1.000000</td>\n",
              "      <td>0.077152</td>\n",
              "      <td>0.013310</td>\n",
              "      <td>-0.046927</td>\n",
              "    </tr>\n",
              "    <tr>\n",
              "      <th>Education_level</th>\n",
              "      <td>-0.251161</td>\n",
              "      <td>0.077152</td>\n",
              "      <td>1.000000</td>\n",
              "      <td>-0.014377</td>\n",
              "      <td>-0.207260</td>\n",
              "    </tr>\n",
              "    <tr>\n",
              "      <th>Age</th>\n",
              "      <td>0.726544</td>\n",
              "      <td>0.013310</td>\n",
              "      <td>-0.014377</td>\n",
              "      <td>1.000000</td>\n",
              "      <td>0.731026</td>\n",
              "    </tr>\n",
              "    <tr>\n",
              "      <th>Salary</th>\n",
              "      <td>0.982427</td>\n",
              "      <td>-0.046927</td>\n",
              "      <td>-0.207260</td>\n",
              "      <td>0.731026</td>\n",
              "      <td>1.000000</td>\n",
              "    </tr>\n",
              "  </tbody>\n",
              "</table>\n",
              "</div>"
            ],
            "text/plain": [
              "                 YearsExperience    Gender  Education_level       Age  \\\n",
              "YearsExperience         1.000000 -0.043824        -0.251161  0.726544   \n",
              "Gender                 -0.043824  1.000000         0.077152  0.013310   \n",
              "Education_level        -0.251161  0.077152         1.000000 -0.014377   \n",
              "Age                     0.726544  0.013310        -0.014377  1.000000   \n",
              "Salary                  0.982427 -0.046927        -0.207260  0.731026   \n",
              "\n",
              "                   Salary  \n",
              "YearsExperience  0.982427  \n",
              "Gender          -0.046927  \n",
              "Education_level -0.207260  \n",
              "Age              0.731026  \n",
              "Salary           1.000000  "
            ]
          },
          "metadata": {
            "tags": []
          },
          "execution_count": 22
        }
      ]
    },
    {
      "cell_type": "markdown",
      "metadata": {
        "id": "-srLKN_wqsUI"
      },
      "source": [
        "### Correlación (con el objetivo)"
      ]
    },
    {
      "cell_type": "code",
      "metadata": {
        "ExecuteTime": {
          "end_time": "2020-11-14T02:30:39.459337Z",
          "start_time": "2020-11-14T02:30:39.373920Z"
        },
        "id": "YFy7Zj0YqsUI",
        "colab": {
          "base_uri": "https://localhost:8080/",
          "height": 191
        },
        "outputId": "41cc4886-7f3b-47fc-bca2-b08a5fc39234"
      },
      "source": [
        "data.corr()"
      ],
      "execution_count": 23,
      "outputs": [
        {
          "output_type": "execute_result",
          "data": {
            "text/html": [
              "<div>\n",
              "<style scoped>\n",
              "    .dataframe tbody tr th:only-of-type {\n",
              "        vertical-align: middle;\n",
              "    }\n",
              "\n",
              "    .dataframe tbody tr th {\n",
              "        vertical-align: top;\n",
              "    }\n",
              "\n",
              "    .dataframe thead th {\n",
              "        text-align: right;\n",
              "    }\n",
              "</style>\n",
              "<table border=\"1\" class=\"dataframe\">\n",
              "  <thead>\n",
              "    <tr style=\"text-align: right;\">\n",
              "      <th></th>\n",
              "      <th>YearsExperience</th>\n",
              "      <th>Gender</th>\n",
              "      <th>Education_level</th>\n",
              "      <th>Age</th>\n",
              "      <th>Salary</th>\n",
              "    </tr>\n",
              "  </thead>\n",
              "  <tbody>\n",
              "    <tr>\n",
              "      <th>YearsExperience</th>\n",
              "      <td>1.000000</td>\n",
              "      <td>-0.043824</td>\n",
              "      <td>-0.251161</td>\n",
              "      <td>0.726544</td>\n",
              "      <td>0.982427</td>\n",
              "    </tr>\n",
              "    <tr>\n",
              "      <th>Gender</th>\n",
              "      <td>-0.043824</td>\n",
              "      <td>1.000000</td>\n",
              "      <td>0.077152</td>\n",
              "      <td>0.013310</td>\n",
              "      <td>-0.046927</td>\n",
              "    </tr>\n",
              "    <tr>\n",
              "      <th>Education_level</th>\n",
              "      <td>-0.251161</td>\n",
              "      <td>0.077152</td>\n",
              "      <td>1.000000</td>\n",
              "      <td>-0.014377</td>\n",
              "      <td>-0.207260</td>\n",
              "    </tr>\n",
              "    <tr>\n",
              "      <th>Age</th>\n",
              "      <td>0.726544</td>\n",
              "      <td>0.013310</td>\n",
              "      <td>-0.014377</td>\n",
              "      <td>1.000000</td>\n",
              "      <td>0.731026</td>\n",
              "    </tr>\n",
              "    <tr>\n",
              "      <th>Salary</th>\n",
              "      <td>0.982427</td>\n",
              "      <td>-0.046927</td>\n",
              "      <td>-0.207260</td>\n",
              "      <td>0.731026</td>\n",
              "      <td>1.000000</td>\n",
              "    </tr>\n",
              "  </tbody>\n",
              "</table>\n",
              "</div>"
            ],
            "text/plain": [
              "                 YearsExperience    Gender  Education_level       Age  \\\n",
              "YearsExperience         1.000000 -0.043824        -0.251161  0.726544   \n",
              "Gender                 -0.043824  1.000000         0.077152  0.013310   \n",
              "Education_level        -0.251161  0.077152         1.000000 -0.014377   \n",
              "Age                     0.726544  0.013310        -0.014377  1.000000   \n",
              "Salary                  0.982427 -0.046927        -0.207260  0.731026   \n",
              "\n",
              "                   Salary  \n",
              "YearsExperience  0.982427  \n",
              "Gender          -0.046927  \n",
              "Education_level -0.207260  \n",
              "Age              0.731026  \n",
              "Salary           1.000000  "
            ]
          },
          "metadata": {
            "tags": []
          },
          "execution_count": 23
        }
      ]
    },
    {
      "cell_type": "markdown",
      "metadata": {
        "id": "QCUM7ENHqsUJ"
      },
      "source": [
        "### Multicolinealidad"
      ]
    },
    {
      "cell_type": "markdown",
      "metadata": {
        "id": "zO_yVC1VqsUJ"
      },
      "source": [
        "OBJETIVO - PREDECIR EL SALARIO A PARTIR DE LAS CARACTERISTICAS DEL EMPLEADO"
      ]
    },
    {
      "cell_type": "markdown",
      "metadata": {
        "id": "ulSdjkebqsUJ"
      },
      "source": [
        "El valor de R ^ 2 se determina para averiguar qué tan bien se describe una variable independiente por las otras variables independientes. Un valor alto de R ^ 2 significa que la variable está altamente correlacionada con las otras variables. Esto es capturado por el VIF que se indica a continuación:\n",
        "\n",
        "\n",
        "Entonces, cuanto más cerca esté el valor de R ^ 2 a 1, mayor será el valor de VIF y mayor será la multicolinealidad con la variable independiente particular."
      ]
    },
    {
      "cell_type": "markdown",
      "metadata": {
        "id": "_dzqXs4dqsUK"
      },
      "source": [
        "**Factor de inflación de la varianza (VIF)**"
      ]
    },
    {
      "cell_type": "markdown",
      "metadata": {
        "id": "xI_Vji3jqsUK"
      },
      "source": [
        "- VIF comienza en 1 y no tiene límite superior\n",
        "- VIF = 1, sin correlación entre la variable independiente y las otras variables\n",
        "- VIF superior a 5 o 10 indica una alta multicolinealidad entre esta variable independiente y las demás"
      ]
    },
    {
      "cell_type": "code",
      "metadata": {
        "ExecuteTime": {
          "end_time": "2020-11-14T02:30:47.535180Z",
          "start_time": "2020-11-14T02:30:45.935320Z"
        },
        "id": "GmYag1i9qsUL",
        "colab": {
          "base_uri": "https://localhost:8080/"
        },
        "outputId": "370604cd-986f-4f06-ab75-6bf211e5745e"
      },
      "source": [
        "from statsmodels.stats.outliers_influence import variance_inflation_factor"
      ],
      "execution_count": 24,
      "outputs": [
        {
          "output_type": "stream",
          "text": [
            "/usr/local/lib/python3.6/dist-packages/statsmodels/tools/_testing.py:19: FutureWarning:\n",
            "\n",
            "pandas.util.testing is deprecated. Use the functions in the public API at pandas.testing instead.\n",
            "\n"
          ],
          "name": "stderr"
        }
      ]
    },
    {
      "cell_type": "code",
      "metadata": {
        "ExecuteTime": {
          "end_time": "2020-11-14T02:30:47.556306Z",
          "start_time": "2020-11-14T02:30:47.540948Z"
        },
        "id": "f3JrFklYqsUL"
      },
      "source": [
        "df=pd.read_csv(\"/content/drive/MyDrive/datasets/Salary.csv\")"
      ],
      "execution_count": 25,
      "outputs": []
    },
    {
      "cell_type": "code",
      "metadata": {
        "ExecuteTime": {
          "end_time": "2020-11-14T02:30:47.652435Z",
          "start_time": "2020-11-14T02:30:47.562003Z"
        },
        "scrolled": true,
        "id": "gXC7rGURqsUL"
      },
      "source": [
        "df=df[['YearsExperience', 'Gender', 'Education_level', 'Age', 'Salary']]"
      ],
      "execution_count": 26,
      "outputs": []
    },
    {
      "cell_type": "code",
      "metadata": {
        "ExecuteTime": {
          "end_time": "2020-11-14T02:30:47.728816Z",
          "start_time": "2020-11-14T02:30:47.657363Z"
        },
        "id": "SDS5jjkCqsUM"
      },
      "source": [
        "X = df.iloc[:,:-1]"
      ],
      "execution_count": 27,
      "outputs": []
    },
    {
      "cell_type": "code",
      "metadata": {
        "colab": {
          "base_uri": "https://localhost:8080/",
          "height": 191
        },
        "id": "BGSJDl7g2uxT",
        "outputId": "a35465c9-5075-409f-b25e-214bc2c1de94"
      },
      "source": [
        "X.head()"
      ],
      "execution_count": 30,
      "outputs": [
        {
          "output_type": "execute_result",
          "data": {
            "text/html": [
              "<div>\n",
              "<style scoped>\n",
              "    .dataframe tbody tr th:only-of-type {\n",
              "        vertical-align: middle;\n",
              "    }\n",
              "\n",
              "    .dataframe tbody tr th {\n",
              "        vertical-align: top;\n",
              "    }\n",
              "\n",
              "    .dataframe thead th {\n",
              "        text-align: right;\n",
              "    }\n",
              "</style>\n",
              "<table border=\"1\" class=\"dataframe\">\n",
              "  <thead>\n",
              "    <tr style=\"text-align: right;\">\n",
              "      <th></th>\n",
              "      <th>YearsExperience</th>\n",
              "      <th>Gender</th>\n",
              "      <th>Education_level</th>\n",
              "      <th>Age</th>\n",
              "    </tr>\n",
              "  </thead>\n",
              "  <tbody>\n",
              "    <tr>\n",
              "      <th>0</th>\n",
              "      <td>1.1</td>\n",
              "      <td>1</td>\n",
              "      <td>1</td>\n",
              "      <td>23</td>\n",
              "    </tr>\n",
              "    <tr>\n",
              "      <th>1</th>\n",
              "      <td>1.3</td>\n",
              "      <td>1</td>\n",
              "      <td>1</td>\n",
              "      <td>28</td>\n",
              "    </tr>\n",
              "    <tr>\n",
              "      <th>2</th>\n",
              "      <td>1.5</td>\n",
              "      <td>1</td>\n",
              "      <td>1</td>\n",
              "      <td>25</td>\n",
              "    </tr>\n",
              "    <tr>\n",
              "      <th>3</th>\n",
              "      <td>2.0</td>\n",
              "      <td>0</td>\n",
              "      <td>1</td>\n",
              "      <td>26</td>\n",
              "    </tr>\n",
              "    <tr>\n",
              "      <th>4</th>\n",
              "      <td>2.2</td>\n",
              "      <td>0</td>\n",
              "      <td>1</td>\n",
              "      <td>22</td>\n",
              "    </tr>\n",
              "  </tbody>\n",
              "</table>\n",
              "</div>"
            ],
            "text/plain": [
              "   YearsExperience  Gender  Education_level  Age\n",
              "0              1.1       1                1   23\n",
              "1              1.3       1                1   28\n",
              "2              1.5       1                1   25\n",
              "3              2.0       0                1   26\n",
              "4              2.2       0                1   22"
            ]
          },
          "metadata": {
            "tags": []
          },
          "execution_count": 30
        }
      ]
    },
    {
      "cell_type": "code",
      "metadata": {
        "ExecuteTime": {
          "end_time": "2020-11-14T02:30:48.345731Z",
          "start_time": "2020-11-14T02:30:48.245666Z"
        },
        "id": "3RO_Z6sDqsUM",
        "colab": {
          "base_uri": "https://localhost:8080/"
        },
        "outputId": "93630da9-252e-486d-cb5b-402315e104cf"
      },
      "source": [
        "[variance_inflation_factor(X.values, i) for i in range(X.shape[1])]"
      ],
      "execution_count": 28,
      "outputs": [
        {
          "output_type": "execute_result",
          "data": {
            "text/plain": [
              "[7.681903224550903, 2.488769440966616, 3.1444437643289143, 14.27250831946706]"
            ]
          },
          "metadata": {
            "tags": []
          },
          "execution_count": 28
        }
      ]
    },
    {
      "cell_type": "code",
      "metadata": {
        "ExecuteTime": {
          "end_time": "2020-11-14T02:30:48.445927Z",
          "start_time": "2020-11-14T02:30:48.432309Z"
        },
        "id": "kVgeckK_qsUM",
        "colab": {
          "base_uri": "https://localhost:8080/"
        },
        "outputId": "e7d5ebb7-4e94-4a7a-9ec4-0496bc2ec00c"
      },
      "source": [
        "variance_inflation_factor(X.values, 1)"
      ],
      "execution_count": 31,
      "outputs": [
        {
          "output_type": "execute_result",
          "data": {
            "text/plain": [
              "2.488769440966616"
            ]
          },
          "metadata": {
            "tags": []
          },
          "execution_count": 31
        }
      ]
    },
    {
      "cell_type": "code",
      "metadata": {
        "ExecuteTime": {
          "end_time": "2020-11-14T02:30:48.645208Z",
          "start_time": "2020-11-14T02:30:48.634774Z"
        },
        "id": "6x-XVDu8qsUM"
      },
      "source": [
        "def calc_vif(X):\n",
        "    vif = pd.DataFrame()\n",
        "    vif[\"variables\"] = X.columns\n",
        "    vif[\"VIF\"] = [variance_inflation_factor(X.values, i) for i in range(X.shape[1])]\n",
        "    return(vif)"
      ],
      "execution_count": 32,
      "outputs": []
    },
    {
      "cell_type": "code",
      "metadata": {
        "ExecuteTime": {
          "end_time": "2020-11-14T02:30:50.987381Z",
          "start_time": "2020-11-14T02:30:50.947301Z"
        },
        "id": "CtVrnQysqsUN",
        "colab": {
          "base_uri": "https://localhost:8080/",
          "height": 162
        },
        "outputId": "eaa50f4d-832a-426e-fde3-1f8f31b8c114"
      },
      "source": [
        "calc_vif(X)"
      ],
      "execution_count": 33,
      "outputs": [
        {
          "output_type": "execute_result",
          "data": {
            "text/html": [
              "<div>\n",
              "<style scoped>\n",
              "    .dataframe tbody tr th:only-of-type {\n",
              "        vertical-align: middle;\n",
              "    }\n",
              "\n",
              "    .dataframe tbody tr th {\n",
              "        vertical-align: top;\n",
              "    }\n",
              "\n",
              "    .dataframe thead th {\n",
              "        text-align: right;\n",
              "    }\n",
              "</style>\n",
              "<table border=\"1\" class=\"dataframe\">\n",
              "  <thead>\n",
              "    <tr style=\"text-align: right;\">\n",
              "      <th></th>\n",
              "      <th>variables</th>\n",
              "      <th>VIF</th>\n",
              "    </tr>\n",
              "  </thead>\n",
              "  <tbody>\n",
              "    <tr>\n",
              "      <th>0</th>\n",
              "      <td>YearsExperience</td>\n",
              "      <td>7.681903</td>\n",
              "    </tr>\n",
              "    <tr>\n",
              "      <th>1</th>\n",
              "      <td>Gender</td>\n",
              "      <td>2.488769</td>\n",
              "    </tr>\n",
              "    <tr>\n",
              "      <th>2</th>\n",
              "      <td>Education_level</td>\n",
              "      <td>3.144444</td>\n",
              "    </tr>\n",
              "    <tr>\n",
              "      <th>3</th>\n",
              "      <td>Age</td>\n",
              "      <td>14.272508</td>\n",
              "    </tr>\n",
              "  </tbody>\n",
              "</table>\n",
              "</div>"
            ],
            "text/plain": [
              "         variables        VIF\n",
              "0  YearsExperience   7.681903\n",
              "1           Gender   2.488769\n",
              "2  Education_level   3.144444\n",
              "3              Age  14.272508"
            ]
          },
          "metadata": {
            "tags": []
          },
          "execution_count": 33
        }
      ]
    },
    {
      "cell_type": "markdown",
      "metadata": {
        "id": "Rf4p6Zc5qsUN"
      },
      "source": [
        "**Podemos ver aquí que la 'Edad' y los 'Años de servicio' tienen un valor VIF alto, lo que significa que pueden predecirse mediante otras variables independientes en el conjunto de datos.**"
      ]
    },
    {
      "cell_type": "markdown",
      "metadata": {
        "id": "zNHRuDV_qsUN"
      },
      "source": [
        "# CONJUNTO ENTRENAMIENTO (Requerido para Aprendizaje Superviado)"
      ]
    },
    {
      "cell_type": "markdown",
      "metadata": {
        "ExecuteTime": {
          "end_time": "2020-11-12T08:46:55.569705Z",
          "start_time": "2020-11-12T08:46:55.562203Z"
        },
        "id": "PaP08stmqsUO"
      },
      "source": [
        "### PCA"
      ]
    },
    {
      "cell_type": "markdown",
      "metadata": {
        "id": "73Xd3kHXqsUO"
      },
      "source": [
        "**PCA es fundamentalmente un algoritmo de reducción de dimensionalidad, pero también puede ser útil como herramienta para visualización, filtrado de ruido, extracción e ingeniería de características**"
      ]
    },
    {
      "cell_type": "markdown",
      "metadata": {
        "id": "bhXtDhVEqsUO"
      },
      "source": [
        "OBJETIVO - PREDECIR EL TIPO DE ESPECIE QUE ES A TRAVÉS DE SUS CARACTERISTICAS"
      ]
    },
    {
      "cell_type": "code",
      "metadata": {
        "ExecuteTime": {
          "end_time": "2020-11-14T02:30:53.682348Z",
          "start_time": "2020-11-14T02:30:51.388018Z"
        },
        "id": "grpWOPzCqsUO"
      },
      "source": [
        "from sklearn.decomposition import PCA\n",
        "from sklearn.preprocessing import StandardScaler"
      ],
      "execution_count": 34,
      "outputs": []
    },
    {
      "cell_type": "code",
      "metadata": {
        "ExecuteTime": {
          "end_time": "2020-11-14T02:31:12.594465Z",
          "start_time": "2020-11-14T02:31:12.547305Z"
        },
        "id": "6YT8scizqsUP"
      },
      "source": [
        "df = px.data.iris()\n",
        "df.drop(columns=[\"species_id\"],inplace=True)\n",
        "X = df[['sepal_length', 'sepal_width', 'petal_length', 'petal_width']]\n",
        "y=df[\"species\"]"
      ],
      "execution_count": 35,
      "outputs": []
    },
    {
      "cell_type": "code",
      "metadata": {
        "ExecuteTime": {
          "end_time": "2020-11-14T02:31:12.905329Z",
          "start_time": "2020-11-14T02:31:12.888822Z"
        },
        "id": "kCOBHGZmqsUP",
        "colab": {
          "base_uri": "https://localhost:8080/"
        },
        "outputId": "872f53f8-9797-4853-ca77-42c46975ddc1"
      },
      "source": [
        "df[\"species\"].value_counts()"
      ],
      "execution_count": 36,
      "outputs": [
        {
          "output_type": "execute_result",
          "data": {
            "text/plain": [
              "setosa        50\n",
              "virginica     50\n",
              "versicolor    50\n",
              "Name: species, dtype: int64"
            ]
          },
          "metadata": {
            "tags": []
          },
          "execution_count": 36
        }
      ]
    },
    {
      "cell_type": "code",
      "metadata": {
        "ExecuteTime": {
          "end_time": "2020-11-14T02:31:13.674748Z",
          "start_time": "2020-11-14T02:31:13.593909Z"
        },
        "id": "pfVPLpytqsUQ",
        "colab": {
          "base_uri": "https://localhost:8080/",
          "height": 277
        },
        "outputId": "8ed8666a-d113-43ae-b438-0fcf3fec6c7c"
      },
      "source": [
        "df.describe()"
      ],
      "execution_count": 37,
      "outputs": [
        {
          "output_type": "execute_result",
          "data": {
            "text/html": [
              "<div>\n",
              "<style scoped>\n",
              "    .dataframe tbody tr th:only-of-type {\n",
              "        vertical-align: middle;\n",
              "    }\n",
              "\n",
              "    .dataframe tbody tr th {\n",
              "        vertical-align: top;\n",
              "    }\n",
              "\n",
              "    .dataframe thead th {\n",
              "        text-align: right;\n",
              "    }\n",
              "</style>\n",
              "<table border=\"1\" class=\"dataframe\">\n",
              "  <thead>\n",
              "    <tr style=\"text-align: right;\">\n",
              "      <th></th>\n",
              "      <th>sepal_length</th>\n",
              "      <th>sepal_width</th>\n",
              "      <th>petal_length</th>\n",
              "      <th>petal_width</th>\n",
              "    </tr>\n",
              "  </thead>\n",
              "  <tbody>\n",
              "    <tr>\n",
              "      <th>count</th>\n",
              "      <td>150.000000</td>\n",
              "      <td>150.000000</td>\n",
              "      <td>150.000000</td>\n",
              "      <td>150.000000</td>\n",
              "    </tr>\n",
              "    <tr>\n",
              "      <th>mean</th>\n",
              "      <td>5.843333</td>\n",
              "      <td>3.054000</td>\n",
              "      <td>3.758667</td>\n",
              "      <td>1.198667</td>\n",
              "    </tr>\n",
              "    <tr>\n",
              "      <th>std</th>\n",
              "      <td>0.828066</td>\n",
              "      <td>0.433594</td>\n",
              "      <td>1.764420</td>\n",
              "      <td>0.763161</td>\n",
              "    </tr>\n",
              "    <tr>\n",
              "      <th>min</th>\n",
              "      <td>4.300000</td>\n",
              "      <td>2.000000</td>\n",
              "      <td>1.000000</td>\n",
              "      <td>0.100000</td>\n",
              "    </tr>\n",
              "    <tr>\n",
              "      <th>25%</th>\n",
              "      <td>5.100000</td>\n",
              "      <td>2.800000</td>\n",
              "      <td>1.600000</td>\n",
              "      <td>0.300000</td>\n",
              "    </tr>\n",
              "    <tr>\n",
              "      <th>50%</th>\n",
              "      <td>5.800000</td>\n",
              "      <td>3.000000</td>\n",
              "      <td>4.350000</td>\n",
              "      <td>1.300000</td>\n",
              "    </tr>\n",
              "    <tr>\n",
              "      <th>75%</th>\n",
              "      <td>6.400000</td>\n",
              "      <td>3.300000</td>\n",
              "      <td>5.100000</td>\n",
              "      <td>1.800000</td>\n",
              "    </tr>\n",
              "    <tr>\n",
              "      <th>max</th>\n",
              "      <td>7.900000</td>\n",
              "      <td>4.400000</td>\n",
              "      <td>6.900000</td>\n",
              "      <td>2.500000</td>\n",
              "    </tr>\n",
              "  </tbody>\n",
              "</table>\n",
              "</div>"
            ],
            "text/plain": [
              "       sepal_length  sepal_width  petal_length  petal_width\n",
              "count    150.000000   150.000000    150.000000   150.000000\n",
              "mean       5.843333     3.054000      3.758667     1.198667\n",
              "std        0.828066     0.433594      1.764420     0.763161\n",
              "min        4.300000     2.000000      1.000000     0.100000\n",
              "25%        5.100000     2.800000      1.600000     0.300000\n",
              "50%        5.800000     3.000000      4.350000     1.300000\n",
              "75%        6.400000     3.300000      5.100000     1.800000\n",
              "max        7.900000     4.400000      6.900000     2.500000"
            ]
          },
          "metadata": {
            "tags": []
          },
          "execution_count": 37
        }
      ]
    },
    {
      "cell_type": "code",
      "metadata": {
        "ExecuteTime": {
          "end_time": "2020-11-14T02:31:14.055907Z",
          "start_time": "2020-11-14T02:31:14.027191Z"
        },
        "id": "NJwr7jk5qsUQ",
        "colab": {
          "base_uri": "https://localhost:8080/",
          "height": 162
        },
        "outputId": "13745fc9-b375-4ef9-a39f-88a9120347a8"
      },
      "source": [
        "df.corr()"
      ],
      "execution_count": 38,
      "outputs": [
        {
          "output_type": "execute_result",
          "data": {
            "text/html": [
              "<div>\n",
              "<style scoped>\n",
              "    .dataframe tbody tr th:only-of-type {\n",
              "        vertical-align: middle;\n",
              "    }\n",
              "\n",
              "    .dataframe tbody tr th {\n",
              "        vertical-align: top;\n",
              "    }\n",
              "\n",
              "    .dataframe thead th {\n",
              "        text-align: right;\n",
              "    }\n",
              "</style>\n",
              "<table border=\"1\" class=\"dataframe\">\n",
              "  <thead>\n",
              "    <tr style=\"text-align: right;\">\n",
              "      <th></th>\n",
              "      <th>sepal_length</th>\n",
              "      <th>sepal_width</th>\n",
              "      <th>petal_length</th>\n",
              "      <th>petal_width</th>\n",
              "    </tr>\n",
              "  </thead>\n",
              "  <tbody>\n",
              "    <tr>\n",
              "      <th>sepal_length</th>\n",
              "      <td>1.000000</td>\n",
              "      <td>-0.109369</td>\n",
              "      <td>0.871754</td>\n",
              "      <td>0.817954</td>\n",
              "    </tr>\n",
              "    <tr>\n",
              "      <th>sepal_width</th>\n",
              "      <td>-0.109369</td>\n",
              "      <td>1.000000</td>\n",
              "      <td>-0.420516</td>\n",
              "      <td>-0.356544</td>\n",
              "    </tr>\n",
              "    <tr>\n",
              "      <th>petal_length</th>\n",
              "      <td>0.871754</td>\n",
              "      <td>-0.420516</td>\n",
              "      <td>1.000000</td>\n",
              "      <td>0.962757</td>\n",
              "    </tr>\n",
              "    <tr>\n",
              "      <th>petal_width</th>\n",
              "      <td>0.817954</td>\n",
              "      <td>-0.356544</td>\n",
              "      <td>0.962757</td>\n",
              "      <td>1.000000</td>\n",
              "    </tr>\n",
              "  </tbody>\n",
              "</table>\n",
              "</div>"
            ],
            "text/plain": [
              "              sepal_length  sepal_width  petal_length  petal_width\n",
              "sepal_length      1.000000    -0.109369      0.871754     0.817954\n",
              "sepal_width      -0.109369     1.000000     -0.420516    -0.356544\n",
              "petal_length      0.871754    -0.420516      1.000000     0.962757\n",
              "petal_width       0.817954    -0.356544      0.962757     1.000000"
            ]
          },
          "metadata": {
            "tags": []
          },
          "execution_count": 38
        }
      ]
    },
    {
      "cell_type": "code",
      "metadata": {
        "ExecuteTime": {
          "end_time": "2020-11-14T02:31:14.394185Z",
          "start_time": "2020-11-14T02:31:14.350157Z"
        },
        "id": "kq5BXsoqqsUQ",
        "colab": {
          "base_uri": "https://localhost:8080/",
          "height": 542
        },
        "outputId": "17850878-d5b0-4711-8e49-e2edf4cf6e4f"
      },
      "source": [
        "fig = go.Figure(data=go.Heatmap(df_to_plotly(df.corr()),hoverongaps = False,colorscale='Viridis'))\n",
        "fig.show()"
      ],
      "execution_count": 39,
      "outputs": [
        {
          "output_type": "display_data",
          "data": {
            "text/html": [
              "<html>\n",
              "<head><meta charset=\"utf-8\" /></head>\n",
              "<body>\n",
              "    <div>\n",
              "            <script src=\"https://cdnjs.cloudflare.com/ajax/libs/mathjax/2.7.5/MathJax.js?config=TeX-AMS-MML_SVG\"></script><script type=\"text/javascript\">if (window.MathJax) {MathJax.Hub.Config({SVG: {font: \"STIX-Web\"}});}</script>\n",
              "                <script type=\"text/javascript\">window.PlotlyConfig = {MathJaxConfig: 'local'};</script>\n",
              "        <script src=\"https://cdn.plot.ly/plotly-latest.min.js\"></script>    \n",
              "            <div id=\"1e4d689f-5b22-4a81-b0db-793ecd0d8bfe\" class=\"plotly-graph-div\" style=\"height:525px; width:100%;\"></div>\n",
              "            <script type=\"text/javascript\">\n",
              "                \n",
              "                    window.PLOTLYENV=window.PLOTLYENV || {};\n",
              "                    \n",
              "                if (document.getElementById(\"1e4d689f-5b22-4a81-b0db-793ecd0d8bfe\")) {\n",
              "                    Plotly.newPlot(\n",
              "                        '1e4d689f-5b22-4a81-b0db-793ecd0d8bfe',\n",
              "                        [{\"colorscale\": [[0.0, \"#440154\"], [0.1111111111111111, \"#482878\"], [0.2222222222222222, \"#3e4989\"], [0.3333333333333333, \"#31688e\"], [0.4444444444444444, \"#26828e\"], [0.5555555555555556, \"#1f9e89\"], [0.6666666666666666, \"#35b779\"], [0.7777777777777778, \"#6ece58\"], [0.8888888888888888, \"#b5de2b\"], [1.0, \"#fde725\"]], \"hoverongaps\": false, \"type\": \"heatmap\", \"x\": [\"sepal_length\", \"sepal_width\", \"petal_length\", \"petal_width\"], \"y\": [\"sepal_length\", \"sepal_width\", \"petal_length\", \"petal_width\"], \"z\": [[1.0, -0.10936924995064935, 0.8717541573048719, 0.8179536333691635], [-0.10936924995064935, 1.0, -0.42051609640115484, -0.3565440896138055], [0.8717541573048719, -0.42051609640115484, 1.0, 0.9627570970509667], [0.8179536333691635, -0.3565440896138055, 0.9627570970509667, 1.0]]}],\n",
              "                        {\"template\": {\"data\": {\"bar\": [{\"error_x\": {\"color\": \"#2a3f5f\"}, \"error_y\": {\"color\": \"#2a3f5f\"}, \"marker\": {\"line\": {\"color\": \"#E5ECF6\", \"width\": 0.5}}, \"type\": \"bar\"}], \"barpolar\": [{\"marker\": {\"line\": {\"color\": \"#E5ECF6\", \"width\": 0.5}}, \"type\": \"barpolar\"}], \"carpet\": [{\"aaxis\": {\"endlinecolor\": \"#2a3f5f\", \"gridcolor\": \"white\", \"linecolor\": \"white\", \"minorgridcolor\": \"white\", \"startlinecolor\": \"#2a3f5f\"}, \"baxis\": {\"endlinecolor\": \"#2a3f5f\", \"gridcolor\": \"white\", \"linecolor\": \"white\", \"minorgridcolor\": \"white\", \"startlinecolor\": \"#2a3f5f\"}, \"type\": \"carpet\"}], \"choropleth\": [{\"colorbar\": {\"outlinewidth\": 0, \"ticks\": \"\"}, \"type\": \"choropleth\"}], \"contour\": [{\"colorbar\": {\"outlinewidth\": 0, \"ticks\": \"\"}, \"colorscale\": [[0.0, \"#0d0887\"], [0.1111111111111111, \"#46039f\"], [0.2222222222222222, \"#7201a8\"], [0.3333333333333333, \"#9c179e\"], [0.4444444444444444, \"#bd3786\"], [0.5555555555555556, \"#d8576b\"], [0.6666666666666666, \"#ed7953\"], [0.7777777777777778, \"#fb9f3a\"], [0.8888888888888888, \"#fdca26\"], [1.0, \"#f0f921\"]], \"type\": \"contour\"}], \"contourcarpet\": [{\"colorbar\": {\"outlinewidth\": 0, \"ticks\": \"\"}, \"type\": \"contourcarpet\"}], \"heatmap\": [{\"colorbar\": {\"outlinewidth\": 0, \"ticks\": \"\"}, \"colorscale\": [[0.0, \"#0d0887\"], [0.1111111111111111, \"#46039f\"], [0.2222222222222222, \"#7201a8\"], [0.3333333333333333, \"#9c179e\"], [0.4444444444444444, \"#bd3786\"], [0.5555555555555556, \"#d8576b\"], [0.6666666666666666, \"#ed7953\"], [0.7777777777777778, \"#fb9f3a\"], [0.8888888888888888, \"#fdca26\"], [1.0, \"#f0f921\"]], \"type\": \"heatmap\"}], \"heatmapgl\": [{\"colorbar\": {\"outlinewidth\": 0, \"ticks\": \"\"}, \"colorscale\": [[0.0, \"#0d0887\"], [0.1111111111111111, \"#46039f\"], [0.2222222222222222, \"#7201a8\"], [0.3333333333333333, \"#9c179e\"], [0.4444444444444444, \"#bd3786\"], [0.5555555555555556, \"#d8576b\"], [0.6666666666666666, \"#ed7953\"], [0.7777777777777778, \"#fb9f3a\"], [0.8888888888888888, \"#fdca26\"], [1.0, \"#f0f921\"]], \"type\": \"heatmapgl\"}], \"histogram\": [{\"marker\": {\"colorbar\": {\"outlinewidth\": 0, \"ticks\": \"\"}}, \"type\": \"histogram\"}], \"histogram2d\": [{\"colorbar\": {\"outlinewidth\": 0, \"ticks\": \"\"}, \"colorscale\": [[0.0, \"#0d0887\"], [0.1111111111111111, \"#46039f\"], [0.2222222222222222, \"#7201a8\"], [0.3333333333333333, \"#9c179e\"], [0.4444444444444444, \"#bd3786\"], [0.5555555555555556, \"#d8576b\"], [0.6666666666666666, \"#ed7953\"], [0.7777777777777778, \"#fb9f3a\"], [0.8888888888888888, \"#fdca26\"], [1.0, \"#f0f921\"]], \"type\": \"histogram2d\"}], \"histogram2dcontour\": [{\"colorbar\": {\"outlinewidth\": 0, \"ticks\": \"\"}, \"colorscale\": [[0.0, \"#0d0887\"], [0.1111111111111111, \"#46039f\"], [0.2222222222222222, \"#7201a8\"], [0.3333333333333333, \"#9c179e\"], [0.4444444444444444, \"#bd3786\"], [0.5555555555555556, \"#d8576b\"], [0.6666666666666666, \"#ed7953\"], [0.7777777777777778, \"#fb9f3a\"], [0.8888888888888888, \"#fdca26\"], [1.0, \"#f0f921\"]], \"type\": \"histogram2dcontour\"}], \"mesh3d\": [{\"colorbar\": {\"outlinewidth\": 0, \"ticks\": \"\"}, \"type\": \"mesh3d\"}], \"parcoords\": [{\"line\": {\"colorbar\": {\"outlinewidth\": 0, \"ticks\": \"\"}}, \"type\": \"parcoords\"}], \"pie\": [{\"automargin\": true, \"type\": \"pie\"}], \"scatter\": [{\"marker\": {\"colorbar\": {\"outlinewidth\": 0, \"ticks\": \"\"}}, \"type\": \"scatter\"}], \"scatter3d\": [{\"line\": {\"colorbar\": {\"outlinewidth\": 0, \"ticks\": \"\"}}, \"marker\": {\"colorbar\": {\"outlinewidth\": 0, \"ticks\": \"\"}}, \"type\": \"scatter3d\"}], \"scattercarpet\": [{\"marker\": {\"colorbar\": {\"outlinewidth\": 0, \"ticks\": \"\"}}, \"type\": \"scattercarpet\"}], \"scattergeo\": [{\"marker\": {\"colorbar\": {\"outlinewidth\": 0, \"ticks\": \"\"}}, \"type\": \"scattergeo\"}], \"scattergl\": [{\"marker\": {\"colorbar\": {\"outlinewidth\": 0, \"ticks\": \"\"}}, \"type\": \"scattergl\"}], \"scattermapbox\": [{\"marker\": {\"colorbar\": {\"outlinewidth\": 0, \"ticks\": \"\"}}, \"type\": \"scattermapbox\"}], \"scatterpolar\": [{\"marker\": {\"colorbar\": {\"outlinewidth\": 0, \"ticks\": \"\"}}, \"type\": \"scatterpolar\"}], \"scatterpolargl\": [{\"marker\": {\"colorbar\": {\"outlinewidth\": 0, \"ticks\": \"\"}}, \"type\": \"scatterpolargl\"}], \"scatterternary\": [{\"marker\": {\"colorbar\": {\"outlinewidth\": 0, \"ticks\": \"\"}}, \"type\": \"scatterternary\"}], \"surface\": [{\"colorbar\": {\"outlinewidth\": 0, \"ticks\": \"\"}, \"colorscale\": [[0.0, \"#0d0887\"], [0.1111111111111111, \"#46039f\"], [0.2222222222222222, \"#7201a8\"], [0.3333333333333333, \"#9c179e\"], [0.4444444444444444, \"#bd3786\"], [0.5555555555555556, \"#d8576b\"], [0.6666666666666666, \"#ed7953\"], [0.7777777777777778, \"#fb9f3a\"], [0.8888888888888888, \"#fdca26\"], [1.0, \"#f0f921\"]], \"type\": \"surface\"}], \"table\": [{\"cells\": {\"fill\": {\"color\": \"#EBF0F8\"}, \"line\": {\"color\": \"white\"}}, \"header\": {\"fill\": {\"color\": \"#C8D4E3\"}, \"line\": {\"color\": \"white\"}}, \"type\": \"table\"}]}, \"layout\": {\"annotationdefaults\": {\"arrowcolor\": \"#2a3f5f\", \"arrowhead\": 0, \"arrowwidth\": 1}, \"coloraxis\": {\"colorbar\": {\"outlinewidth\": 0, \"ticks\": \"\"}}, \"colorscale\": {\"diverging\": [[0, \"#8e0152\"], [0.1, \"#c51b7d\"], [0.2, \"#de77ae\"], [0.3, \"#f1b6da\"], [0.4, \"#fde0ef\"], [0.5, \"#f7f7f7\"], [0.6, \"#e6f5d0\"], [0.7, \"#b8e186\"], [0.8, \"#7fbc41\"], [0.9, \"#4d9221\"], [1, \"#276419\"]], \"sequential\": [[0.0, \"#0d0887\"], [0.1111111111111111, \"#46039f\"], [0.2222222222222222, \"#7201a8\"], [0.3333333333333333, \"#9c179e\"], [0.4444444444444444, \"#bd3786\"], [0.5555555555555556, \"#d8576b\"], [0.6666666666666666, \"#ed7953\"], [0.7777777777777778, \"#fb9f3a\"], [0.8888888888888888, \"#fdca26\"], [1.0, \"#f0f921\"]], \"sequentialminus\": [[0.0, \"#0d0887\"], [0.1111111111111111, \"#46039f\"], [0.2222222222222222, \"#7201a8\"], [0.3333333333333333, \"#9c179e\"], [0.4444444444444444, \"#bd3786\"], [0.5555555555555556, \"#d8576b\"], [0.6666666666666666, \"#ed7953\"], [0.7777777777777778, \"#fb9f3a\"], [0.8888888888888888, \"#fdca26\"], [1.0, \"#f0f921\"]]}, \"colorway\": [\"#636efa\", \"#EF553B\", \"#00cc96\", \"#ab63fa\", \"#FFA15A\", \"#19d3f3\", \"#FF6692\", \"#B6E880\", \"#FF97FF\", \"#FECB52\"], \"font\": {\"color\": \"#2a3f5f\"}, \"geo\": {\"bgcolor\": \"white\", \"lakecolor\": \"white\", \"landcolor\": \"#E5ECF6\", \"showlakes\": true, \"showland\": true, \"subunitcolor\": \"white\"}, \"hoverlabel\": {\"align\": \"left\"}, \"hovermode\": \"closest\", \"mapbox\": {\"style\": \"light\"}, \"paper_bgcolor\": \"white\", \"plot_bgcolor\": \"#E5ECF6\", \"polar\": {\"angularaxis\": {\"gridcolor\": \"white\", \"linecolor\": \"white\", \"ticks\": \"\"}, \"bgcolor\": \"#E5ECF6\", \"radialaxis\": {\"gridcolor\": \"white\", \"linecolor\": \"white\", \"ticks\": \"\"}}, \"scene\": {\"xaxis\": {\"backgroundcolor\": \"#E5ECF6\", \"gridcolor\": \"white\", \"gridwidth\": 2, \"linecolor\": \"white\", \"showbackground\": true, \"ticks\": \"\", \"zerolinecolor\": \"white\"}, \"yaxis\": {\"backgroundcolor\": \"#E5ECF6\", \"gridcolor\": \"white\", \"gridwidth\": 2, \"linecolor\": \"white\", \"showbackground\": true, \"ticks\": \"\", \"zerolinecolor\": \"white\"}, \"zaxis\": {\"backgroundcolor\": \"#E5ECF6\", \"gridcolor\": \"white\", \"gridwidth\": 2, \"linecolor\": \"white\", \"showbackground\": true, \"ticks\": \"\", \"zerolinecolor\": \"white\"}}, \"shapedefaults\": {\"line\": {\"color\": \"#2a3f5f\"}}, \"ternary\": {\"aaxis\": {\"gridcolor\": \"white\", \"linecolor\": \"white\", \"ticks\": \"\"}, \"baxis\": {\"gridcolor\": \"white\", \"linecolor\": \"white\", \"ticks\": \"\"}, \"bgcolor\": \"#E5ECF6\", \"caxis\": {\"gridcolor\": \"white\", \"linecolor\": \"white\", \"ticks\": \"\"}}, \"title\": {\"x\": 0.05}, \"xaxis\": {\"automargin\": true, \"gridcolor\": \"white\", \"linecolor\": \"white\", \"ticks\": \"\", \"title\": {\"standoff\": 15}, \"zerolinecolor\": \"white\", \"zerolinewidth\": 2}, \"yaxis\": {\"automargin\": true, \"gridcolor\": \"white\", \"linecolor\": \"white\", \"ticks\": \"\", \"title\": {\"standoff\": 15}, \"zerolinecolor\": \"white\", \"zerolinewidth\": 2}}}},\n",
              "                        {\"responsive\": true}\n",
              "                    ).then(function(){\n",
              "                            \n",
              "var gd = document.getElementById('1e4d689f-5b22-4a81-b0db-793ecd0d8bfe');\n",
              "var x = new MutationObserver(function (mutations, observer) {{\n",
              "        var display = window.getComputedStyle(gd).display;\n",
              "        if (!display || display === 'none') {{\n",
              "            console.log([gd, 'removed!']);\n",
              "            Plotly.purge(gd);\n",
              "            observer.disconnect();\n",
              "        }}\n",
              "}});\n",
              "\n",
              "// Listen for the removal of the full notebook cells\n",
              "var notebookContainer = gd.closest('#notebook-container');\n",
              "if (notebookContainer) {{\n",
              "    x.observe(notebookContainer, {childList: true});\n",
              "}}\n",
              "\n",
              "// Listen for the clearing of the current output cell\n",
              "var outputEl = gd.closest('.output');\n",
              "if (outputEl) {{\n",
              "    x.observe(outputEl, {childList: true});\n",
              "}}\n",
              "\n",
              "                        })\n",
              "                };\n",
              "                \n",
              "            </script>\n",
              "        </div>\n",
              "</body>\n",
              "</html>"
            ]
          },
          "metadata": {
            "tags": []
          }
        }
      ]
    },
    {
      "cell_type": "code",
      "metadata": {
        "ExecuteTime": {
          "end_time": "2020-11-14T02:31:46.378587Z",
          "start_time": "2020-11-14T02:31:46.366024Z"
        },
        "id": "oMH8HCxHqsUR"
      },
      "source": [
        "X_train, X_test, y_train, y_test = train_test_split(X, y, test_size = 0.2, random_state = 0)"
      ],
      "execution_count": 40,
      "outputs": []
    },
    {
      "cell_type": "code",
      "metadata": {
        "ExecuteTime": {
          "end_time": "2020-11-14T02:31:46.825397Z",
          "start_time": "2020-11-14T02:31:46.814361Z"
        },
        "id": "LZGGlxuwqsUR",
        "colab": {
          "base_uri": "https://localhost:8080/"
        },
        "outputId": "c5747cdc-ab7e-4db1-cdc6-d636a6a99b64"
      },
      "source": [
        "X_train.shape"
      ],
      "execution_count": 41,
      "outputs": [
        {
          "output_type": "execute_result",
          "data": {
            "text/plain": [
              "(120, 4)"
            ]
          },
          "metadata": {
            "tags": []
          },
          "execution_count": 41
        }
      ]
    },
    {
      "cell_type": "code",
      "metadata": {
        "ExecuteTime": {
          "end_time": "2020-11-14T02:31:47.166443Z",
          "start_time": "2020-11-14T02:31:47.145289Z"
        },
        "id": "x8I3lj8nqsUR"
      },
      "source": [
        "scaler = StandardScaler()\n",
        "scaler.fit(X_train)\n",
        "X_sc=scaler.transform(X_train)"
      ],
      "execution_count": 42,
      "outputs": []
    },
    {
      "cell_type": "code",
      "metadata": {
        "ExecuteTime": {
          "end_time": "2020-11-14T02:31:47.632520Z",
          "start_time": "2020-11-14T02:31:47.484629Z"
        },
        "id": "-tJGdcEpqsUR",
        "colab": {
          "base_uri": "https://localhost:8080/"
        },
        "outputId": "9e5a23a7-c56a-4096-9023-5ddc3a3a54ef"
      },
      "source": [
        "pca = PCA(n_components=3)\n",
        "pca.fit(X_sc)"
      ],
      "execution_count": 43,
      "outputs": [
        {
          "output_type": "execute_result",
          "data": {
            "text/plain": [
              "PCA(copy=True, iterated_power='auto', n_components=3, random_state=None,\n",
              "    svd_solver='auto', tol=0.0, whiten=False)"
            ]
          },
          "metadata": {
            "tags": []
          },
          "execution_count": 43
        }
      ]
    },
    {
      "cell_type": "code",
      "metadata": {
        "ExecuteTime": {
          "end_time": "2020-11-14T02:31:47.844814Z",
          "start_time": "2020-11-14T02:31:47.836346Z"
        },
        "id": "MJ0feOhLqsUS"
      },
      "source": [
        "X_pca=pd.DataFrame(pca.transform(X_sc))"
      ],
      "execution_count": 44,
      "outputs": []
    },
    {
      "cell_type": "code",
      "metadata": {
        "ExecuteTime": {
          "end_time": "2020-11-14T02:31:48.198782Z",
          "start_time": "2020-11-14T02:31:48.185609Z"
        },
        "scrolled": true,
        "id": "Ve0A33q0qsUS",
        "colab": {
          "base_uri": "https://localhost:8080/"
        },
        "outputId": "7444fd45-0784-4261-c5eb-ad35b953e062"
      },
      "source": [
        "#La cantidad de variación explicada por cada uno de los componentes seleccionados.\n",
        "pca.explained_variance_"
      ],
      "execution_count": 45,
      "outputs": [
        {
          "output_type": "execute_result",
          "data": {
            "text/plain": [
              "array([2.91333895, 0.96705055, 0.13464674])"
            ]
          },
          "metadata": {
            "tags": []
          },
          "execution_count": 45
        }
      ]
    },
    {
      "cell_type": "code",
      "metadata": {
        "ExecuteTime": {
          "end_time": "2020-11-14T02:31:48.528835Z",
          "start_time": "2020-11-14T02:31:48.516039Z"
        },
        "id": "Upj8U1xTqsUS",
        "colab": {
          "base_uri": "https://localhost:8080/"
        },
        "outputId": "3af0a8e5-dfd4-4cf7-d20d-713eb746f93f"
      },
      "source": [
        "#Porcentaje de varianza explicada por cada uno de los componentes seleccionados.\n",
        "pca.explained_variance_ratio_"
      ],
      "execution_count": 46,
      "outputs": [
        {
          "output_type": "execute_result",
          "data": {
            "text/plain": [
              "array([0.72226528, 0.23974795, 0.03338117])"
            ]
          },
          "metadata": {
            "tags": []
          },
          "execution_count": 46
        }
      ]
    },
    {
      "cell_type": "code",
      "metadata": {
        "ExecuteTime": {
          "end_time": "2020-11-14T02:31:48.873304Z",
          "start_time": "2020-11-14T02:31:48.861604Z"
        },
        "id": "FjYUCi5KqsUT",
        "colab": {
          "base_uri": "https://localhost:8080/"
        },
        "outputId": "85ae40e4-1ee0-481c-8599-3bb1728c90e5"
      },
      "source": [
        "sum(pca.explained_variance_ratio_[:-1])"
      ],
      "execution_count": 47,
      "outputs": [
        {
          "output_type": "execute_result",
          "data": {
            "text/plain": [
              "0.9620132300547347"
            ]
          },
          "metadata": {
            "tags": []
          },
          "execution_count": 47
        }
      ]
    },
    {
      "cell_type": "code",
      "metadata": {
        "ExecuteTime": {
          "end_time": "2020-11-14T02:31:54.913559Z",
          "start_time": "2020-11-14T02:31:49.230614Z"
        },
        "id": "c2nfaKPCqsUT",
        "colab": {
          "base_uri": "https://localhost:8080/",
          "height": 542
        },
        "outputId": "be3fc212-05ff-4ea6-903a-325169c884f9"
      },
      "source": [
        "pca = PCA(n_components=2)\n",
        "dimention_2=pca.fit_transform(X_sc)\n",
        "fig = px.scatter(dimention_2, x=0, y=1,color=y_train,labels={'0': 'Componente Principal 1', '1': 'Componente Principal 2'})\n",
        "fig.show()"
      ],
      "execution_count": 48,
      "outputs": [
        {
          "output_type": "display_data",
          "data": {
            "text/html": [
              "<html>\n",
              "<head><meta charset=\"utf-8\" /></head>\n",
              "<body>\n",
              "    <div>\n",
              "            <script src=\"https://cdnjs.cloudflare.com/ajax/libs/mathjax/2.7.5/MathJax.js?config=TeX-AMS-MML_SVG\"></script><script type=\"text/javascript\">if (window.MathJax) {MathJax.Hub.Config({SVG: {font: \"STIX-Web\"}});}</script>\n",
              "                <script type=\"text/javascript\">window.PlotlyConfig = {MathJaxConfig: 'local'};</script>\n",
              "        <script src=\"https://cdn.plot.ly/plotly-latest.min.js\"></script>    \n",
              "            <div id=\"70119b3b-4ce9-4d4b-b696-821a02a7da1c\" class=\"plotly-graph-div\" style=\"height:525px; width:100%;\"></div>\n",
              "            <script type=\"text/javascript\">\n",
              "                \n",
              "                    window.PLOTLYENV=window.PLOTLYENV || {};\n",
              "                    \n",
              "                if (document.getElementById(\"70119b3b-4ce9-4d4b-b696-821a02a7da1c\")) {\n",
              "                    Plotly.newPlot(\n",
              "                        '70119b3b-4ce9-4d4b-b696-821a02a7da1c',\n",
              "                        [{\"hoverlabel\": {\"namelength\": 0}, \"hovertemplate\": \"color=virginica<br>Componente Principal 1=%{x}<br>Componente Principal 2=%{y}\", \"legendgroup\": \"color=virginica\", \"marker\": {\"color\": \"#636efa\", \"symbol\": \"circle\"}, \"mode\": \"markers\", \"name\": \"color=virginica\", \"showlegend\": true, \"type\": \"scatter\", \"x\": [1.2722820603449425, 0.9419133960758108, 1.762278368020653, 1.79730127421473, 1.8219996807769872, 1.388623200050302, 1.934092680966463, 1.1224309915308848, 1.8816949890499988, 2.7036564145407933, 1.2285390528890288, 1.0188171398183958, 0.257616369859848, 1.4431071959064452, 1.4377203475060085, 1.0560847553809298, 1.8817864103345991, 1.4961775807858362, 0.8828241230577302, 2.21566386344869, 2.1159070642986815, 1.9651750581374945, 1.7824956271062116, 1.6884501056020504, 1.296980466907195, 1.6387796312920517, 1.3219445898309015, 1.1425488845078073, 1.7729025333212804, 1.7763103887147085, 1.968483547422286, 2.6578677563698787, 3.1822549305014176, 2.2739795100523077, 0.8466625079791047, 2.787177136852963, 2.329036832762743, 1.5238768661400428, 1.5217737434477958, 1.7840006593675635, 1.935298047559007, 1.0560847553809298, 1.3506241786408784, 2.395399887665265], \"xaxis\": \"x\", \"y\": [0.3578787266061358, 0.012181048117344754, -0.27106638728843735, 0.32509268800901653, 0.5932950493653685, 0.1827685239802979, 0.9571333816041321, -1.782429407490921, -0.8173656886299185, 0.7164891023386197, -0.5551249472426677, -0.3535420500712286, -1.5842081700300683, -0.9833824726101161, 0.1923575620679672, -0.7586405754837879, 0.9130056881852749, -0.5058929419444629, -0.07087441820334218, 1.820057706630287, 0.4528094677451523, 0.8130665654066545, 0.20597548905505722, -0.2765323878155088, 0.6260810879624868, 0.9352693794958462, 0.9520670702793469, -1.2297687969780535, 0.5837060112776992, 0.46700719827013887, 0.7719864865684682, 0.6658199854127645, -0.14827202351747149, 2.5220695595555904, -0.030241993687314433, 0.26860584647367497, 0.13452775756615223, 1.0004037669332353, 0.6013990107055156, 0.2927063386141845, 0.5170485465382262, -0.7586405754837879, -0.11782018677088613, 2.4503937486112037], \"yaxis\": \"y\"}, {\"hoverlabel\": {\"namelength\": 0}, \"hovertemplate\": \"color=versicolor<br>Componente Principal 1=%{x}<br>Componente Principal 2=%{y}\", \"legendgroup\": \"color=versicolor\", \"marker\": {\"color\": \"#EF553B\", \"symbol\": \"circle\"}, \"mode\": \"markers\", \"name\": \"color=versicolor\", \"showlegend\": true, \"type\": \"scatter\", \"x\": [0.15223176952455678, -0.08168064005531836, 0.9593954927308684, 0.36566120365742616, 0.23184591212103975, -0.2555980756933751, 0.05431237670534761, 0.6915160120492158, 0.01300486601113192, 1.0345872007346137, 0.38467309615043926, 0.19264152411907107, -0.11236398544890677, 0.17242426503351282, 0.5480409690199011, 0.019380891795871096, 1.1656673298404998, -0.5533545669535151, 1.082960887167467, 0.1471525316169642, 0.2803110198384935, 0.2996552864009531, 0.7943235289466025, 0.6167899935309109, -0.5994755991938755, 0.8027779138469856, 0.16824278322562153, 0.14504940892471643, -0.14247400398820334, 1.1149410204382013, 1.2753248332682812, -0.09367652220130365, 0.8401448955181557, -0.00204173388223286, 0.6763779908712508, 0.9109056214368121, 0.06309913567517664], \"xaxis\": \"x\", \"y\": [-0.2998352831300106, -1.043194754880048, -0.691087802099999, -0.09130130868397725, -1.0189123668253632, -2.670399280000339, -1.3258623867479347, 0.7355612837089045, -1.5853710186609322, 0.801371404923934, 0.8258254027254233, -0.8794162425106399, -0.4479309882269108, -1.3564581188541351, -0.011025916957414603, -0.19165008523019453, 0.5486717365044812, -1.5397682130598622, -1.7007169041367078, -0.4032696748114619, -1.7906292990708124, -0.6190123019533271, 0.19795571181077698, -0.10899430811179377, -1.8449276156938015, 0.4570166894016175, -0.6208029192419585, -0.8022744310391824, -1.0740580269727966, -1.0056941290405599, 0.25901502680744015, -1.5912846735101618, -0.02370057018031754, -0.22860712650778267, 0.3619537990468618, -1.4530355819221692, -0.8123111234490096], \"yaxis\": \"y\"}, {\"hoverlabel\": {\"namelength\": 0}, \"hovertemplate\": \"color=setosa<br>Componente Principal 1=%{x}<br>Componente Principal 2=%{y}\", \"legendgroup\": \"color=setosa\", \"marker\": {\"color\": \"#00cc96\", \"symbol\": \"circle\"}, \"mode\": \"markers\", \"name\": \"color=setosa\", \"showlegend\": true, \"type\": \"scatter\", \"x\": [-2.187641827350462, -1.8979486340372977, -2.4035067582450242, -1.9842711764879655, -2.170733057549696, -2.188606241158162, -2.23313081985257, -2.6847455666578055, -1.9431966737545596, -2.213486887621303, -2.346254891557742, -2.4671098871404427, -2.27419737776194, -2.379016596066974, -2.350436373365633, -1.9689836238097553, -2.137971353040464, -2.590700045153645, -2.3992338551525325, -2.2090644530285664, -2.482813290348664, -2.0652570359298057, -2.2828927154471685, -2.232889867067724, -2.166551575741805, -2.249166597130237, -1.8549617960048816, -1.8612464005050198, -2.585130354184007, -2.181531517927173, -2.338041459442204, -2.304947380863526, -2.237403722945061, -2.009867339149925, -2.1960962122508456, -2.0661547920295082, -2.2102698196211117, -2.232889867067724, -2.433051394754065], \"xaxis\": \"x\", \"y\": [0.6171542559300143, 1.4846492728389242, -0.24487476045182396, 0.5555151373954549, 1.135276211111695, -0.41864200011118785, 1.0933008236291932, -0.8533087997698947, 0.4849147494309945, 2.7917335053717127, -0.5030404293983487, 0.15323468713158034, -0.6420888993909137, 1.226883293094686, 0.2326147702138275, -2.2771298458648035, -0.5946475113813408, -0.3708009228993282, 0.7498414167511922, 0.5801972146524261, -0.8049721031160056, 1.5812747010268302, 0.5747312141253547, -0.38258026747791546, 0.39962101149951773, -0.11939625232647756, 0.15830099845636528, 0.4949514418408217, 1.9142017960529738, 1.9530915684002421, 1.2319016392995996, -0.2435317974853504, 0.09858464642617601, -0.5517768152545237, 0.358093278339174, 0.7421851097332028, 1.0202820497183331, -0.38258026747791546, -0.2864024936121678], \"yaxis\": \"y\"}],\n",
              "                        {\"legend\": {\"tracegroupgap\": 0}, \"margin\": {\"t\": 60}, \"template\": {\"data\": {\"bar\": [{\"error_x\": {\"color\": \"#2a3f5f\"}, \"error_y\": {\"color\": \"#2a3f5f\"}, \"marker\": {\"line\": {\"color\": \"#E5ECF6\", \"width\": 0.5}}, \"type\": \"bar\"}], \"barpolar\": [{\"marker\": {\"line\": {\"color\": \"#E5ECF6\", \"width\": 0.5}}, \"type\": \"barpolar\"}], \"carpet\": [{\"aaxis\": {\"endlinecolor\": \"#2a3f5f\", \"gridcolor\": \"white\", \"linecolor\": \"white\", \"minorgridcolor\": \"white\", \"startlinecolor\": \"#2a3f5f\"}, \"baxis\": {\"endlinecolor\": \"#2a3f5f\", \"gridcolor\": \"white\", \"linecolor\": \"white\", \"minorgridcolor\": \"white\", \"startlinecolor\": \"#2a3f5f\"}, \"type\": \"carpet\"}], \"choropleth\": [{\"colorbar\": {\"outlinewidth\": 0, \"ticks\": \"\"}, \"type\": \"choropleth\"}], \"contour\": [{\"colorbar\": {\"outlinewidth\": 0, \"ticks\": \"\"}, \"colorscale\": [[0.0, \"#0d0887\"], [0.1111111111111111, \"#46039f\"], [0.2222222222222222, \"#7201a8\"], [0.3333333333333333, \"#9c179e\"], [0.4444444444444444, \"#bd3786\"], [0.5555555555555556, \"#d8576b\"], [0.6666666666666666, \"#ed7953\"], [0.7777777777777778, \"#fb9f3a\"], [0.8888888888888888, \"#fdca26\"], [1.0, \"#f0f921\"]], \"type\": \"contour\"}], \"contourcarpet\": [{\"colorbar\": {\"outlinewidth\": 0, \"ticks\": \"\"}, \"type\": \"contourcarpet\"}], \"heatmap\": [{\"colorbar\": {\"outlinewidth\": 0, \"ticks\": \"\"}, \"colorscale\": [[0.0, \"#0d0887\"], [0.1111111111111111, \"#46039f\"], [0.2222222222222222, \"#7201a8\"], [0.3333333333333333, \"#9c179e\"], [0.4444444444444444, \"#bd3786\"], [0.5555555555555556, \"#d8576b\"], [0.6666666666666666, \"#ed7953\"], [0.7777777777777778, \"#fb9f3a\"], [0.8888888888888888, \"#fdca26\"], [1.0, \"#f0f921\"]], \"type\": \"heatmap\"}], \"heatmapgl\": [{\"colorbar\": {\"outlinewidth\": 0, \"ticks\": \"\"}, \"colorscale\": [[0.0, \"#0d0887\"], [0.1111111111111111, \"#46039f\"], [0.2222222222222222, \"#7201a8\"], [0.3333333333333333, \"#9c179e\"], [0.4444444444444444, \"#bd3786\"], [0.5555555555555556, \"#d8576b\"], [0.6666666666666666, \"#ed7953\"], [0.7777777777777778, \"#fb9f3a\"], [0.8888888888888888, \"#fdca26\"], [1.0, \"#f0f921\"]], \"type\": \"heatmapgl\"}], \"histogram\": [{\"marker\": {\"colorbar\": {\"outlinewidth\": 0, \"ticks\": \"\"}}, \"type\": \"histogram\"}], \"histogram2d\": [{\"colorbar\": {\"outlinewidth\": 0, \"ticks\": \"\"}, \"colorscale\": [[0.0, \"#0d0887\"], [0.1111111111111111, \"#46039f\"], [0.2222222222222222, \"#7201a8\"], [0.3333333333333333, \"#9c179e\"], [0.4444444444444444, \"#bd3786\"], [0.5555555555555556, \"#d8576b\"], [0.6666666666666666, \"#ed7953\"], [0.7777777777777778, \"#fb9f3a\"], [0.8888888888888888, \"#fdca26\"], [1.0, \"#f0f921\"]], \"type\": \"histogram2d\"}], \"histogram2dcontour\": [{\"colorbar\": {\"outlinewidth\": 0, \"ticks\": \"\"}, \"colorscale\": [[0.0, \"#0d0887\"], [0.1111111111111111, \"#46039f\"], [0.2222222222222222, \"#7201a8\"], [0.3333333333333333, \"#9c179e\"], [0.4444444444444444, \"#bd3786\"], [0.5555555555555556, \"#d8576b\"], [0.6666666666666666, \"#ed7953\"], [0.7777777777777778, \"#fb9f3a\"], [0.8888888888888888, \"#fdca26\"], [1.0, \"#f0f921\"]], \"type\": \"histogram2dcontour\"}], \"mesh3d\": [{\"colorbar\": {\"outlinewidth\": 0, \"ticks\": \"\"}, \"type\": \"mesh3d\"}], \"parcoords\": [{\"line\": {\"colorbar\": {\"outlinewidth\": 0, \"ticks\": \"\"}}, \"type\": \"parcoords\"}], \"pie\": [{\"automargin\": true, \"type\": \"pie\"}], \"scatter\": [{\"marker\": {\"colorbar\": {\"outlinewidth\": 0, \"ticks\": \"\"}}, \"type\": \"scatter\"}], \"scatter3d\": [{\"line\": {\"colorbar\": {\"outlinewidth\": 0, \"ticks\": \"\"}}, \"marker\": {\"colorbar\": {\"outlinewidth\": 0, \"ticks\": \"\"}}, \"type\": \"scatter3d\"}], \"scattercarpet\": [{\"marker\": {\"colorbar\": {\"outlinewidth\": 0, \"ticks\": \"\"}}, \"type\": \"scattercarpet\"}], \"scattergeo\": [{\"marker\": {\"colorbar\": {\"outlinewidth\": 0, \"ticks\": \"\"}}, \"type\": \"scattergeo\"}], \"scattergl\": [{\"marker\": {\"colorbar\": {\"outlinewidth\": 0, \"ticks\": \"\"}}, \"type\": \"scattergl\"}], \"scattermapbox\": [{\"marker\": {\"colorbar\": {\"outlinewidth\": 0, \"ticks\": \"\"}}, \"type\": \"scattermapbox\"}], \"scatterpolar\": [{\"marker\": {\"colorbar\": {\"outlinewidth\": 0, \"ticks\": \"\"}}, \"type\": \"scatterpolar\"}], \"scatterpolargl\": [{\"marker\": {\"colorbar\": {\"outlinewidth\": 0, \"ticks\": \"\"}}, \"type\": \"scatterpolargl\"}], \"scatterternary\": [{\"marker\": {\"colorbar\": {\"outlinewidth\": 0, \"ticks\": \"\"}}, \"type\": \"scatterternary\"}], \"surface\": [{\"colorbar\": {\"outlinewidth\": 0, \"ticks\": \"\"}, \"colorscale\": [[0.0, \"#0d0887\"], [0.1111111111111111, \"#46039f\"], [0.2222222222222222, \"#7201a8\"], [0.3333333333333333, \"#9c179e\"], [0.4444444444444444, \"#bd3786\"], [0.5555555555555556, \"#d8576b\"], [0.6666666666666666, \"#ed7953\"], [0.7777777777777778, \"#fb9f3a\"], [0.8888888888888888, \"#fdca26\"], [1.0, \"#f0f921\"]], \"type\": \"surface\"}], \"table\": [{\"cells\": {\"fill\": {\"color\": \"#EBF0F8\"}, \"line\": {\"color\": \"white\"}}, \"header\": {\"fill\": {\"color\": \"#C8D4E3\"}, \"line\": {\"color\": \"white\"}}, \"type\": \"table\"}]}, \"layout\": {\"annotationdefaults\": {\"arrowcolor\": \"#2a3f5f\", \"arrowhead\": 0, \"arrowwidth\": 1}, \"coloraxis\": {\"colorbar\": {\"outlinewidth\": 0, \"ticks\": \"\"}}, \"colorscale\": {\"diverging\": [[0, \"#8e0152\"], [0.1, \"#c51b7d\"], [0.2, \"#de77ae\"], [0.3, \"#f1b6da\"], [0.4, \"#fde0ef\"], [0.5, \"#f7f7f7\"], [0.6, \"#e6f5d0\"], [0.7, \"#b8e186\"], [0.8, \"#7fbc41\"], [0.9, \"#4d9221\"], [1, \"#276419\"]], \"sequential\": [[0.0, \"#0d0887\"], [0.1111111111111111, \"#46039f\"], [0.2222222222222222, \"#7201a8\"], [0.3333333333333333, \"#9c179e\"], [0.4444444444444444, \"#bd3786\"], [0.5555555555555556, \"#d8576b\"], [0.6666666666666666, \"#ed7953\"], [0.7777777777777778, \"#fb9f3a\"], [0.8888888888888888, \"#fdca26\"], [1.0, \"#f0f921\"]], \"sequentialminus\": [[0.0, \"#0d0887\"], [0.1111111111111111, \"#46039f\"], [0.2222222222222222, \"#7201a8\"], [0.3333333333333333, \"#9c179e\"], [0.4444444444444444, \"#bd3786\"], [0.5555555555555556, \"#d8576b\"], [0.6666666666666666, \"#ed7953\"], [0.7777777777777778, \"#fb9f3a\"], [0.8888888888888888, \"#fdca26\"], [1.0, \"#f0f921\"]]}, \"colorway\": [\"#636efa\", \"#EF553B\", \"#00cc96\", \"#ab63fa\", \"#FFA15A\", \"#19d3f3\", \"#FF6692\", \"#B6E880\", \"#FF97FF\", \"#FECB52\"], \"font\": {\"color\": \"#2a3f5f\"}, \"geo\": {\"bgcolor\": \"white\", \"lakecolor\": \"white\", \"landcolor\": \"#E5ECF6\", \"showlakes\": true, \"showland\": true, \"subunitcolor\": \"white\"}, \"hoverlabel\": {\"align\": \"left\"}, \"hovermode\": \"closest\", \"mapbox\": {\"style\": \"light\"}, \"paper_bgcolor\": \"white\", \"plot_bgcolor\": \"#E5ECF6\", \"polar\": {\"angularaxis\": {\"gridcolor\": \"white\", \"linecolor\": \"white\", \"ticks\": \"\"}, \"bgcolor\": \"#E5ECF6\", \"radialaxis\": {\"gridcolor\": \"white\", \"linecolor\": \"white\", \"ticks\": \"\"}}, \"scene\": {\"xaxis\": {\"backgroundcolor\": \"#E5ECF6\", \"gridcolor\": \"white\", \"gridwidth\": 2, \"linecolor\": \"white\", \"showbackground\": true, \"ticks\": \"\", \"zerolinecolor\": \"white\"}, \"yaxis\": {\"backgroundcolor\": \"#E5ECF6\", \"gridcolor\": \"white\", \"gridwidth\": 2, \"linecolor\": \"white\", \"showbackground\": true, \"ticks\": \"\", \"zerolinecolor\": \"white\"}, \"zaxis\": {\"backgroundcolor\": \"#E5ECF6\", \"gridcolor\": \"white\", \"gridwidth\": 2, \"linecolor\": \"white\", \"showbackground\": true, \"ticks\": \"\", \"zerolinecolor\": \"white\"}}, \"shapedefaults\": {\"line\": {\"color\": \"#2a3f5f\"}}, \"ternary\": {\"aaxis\": {\"gridcolor\": \"white\", \"linecolor\": \"white\", \"ticks\": \"\"}, \"baxis\": {\"gridcolor\": \"white\", \"linecolor\": \"white\", \"ticks\": \"\"}, \"bgcolor\": \"#E5ECF6\", \"caxis\": {\"gridcolor\": \"white\", \"linecolor\": \"white\", \"ticks\": \"\"}}, \"title\": {\"x\": 0.05}, \"xaxis\": {\"automargin\": true, \"gridcolor\": \"white\", \"linecolor\": \"white\", \"ticks\": \"\", \"title\": {\"standoff\": 15}, \"zerolinecolor\": \"white\", \"zerolinewidth\": 2}, \"yaxis\": {\"automargin\": true, \"gridcolor\": \"white\", \"linecolor\": \"white\", \"ticks\": \"\", \"title\": {\"standoff\": 15}, \"zerolinecolor\": \"white\", \"zerolinewidth\": 2}}}, \"xaxis\": {\"anchor\": \"y\", \"domain\": [0.0, 1.0], \"title\": {\"text\": \"Componente Principal 1\"}}, \"yaxis\": {\"anchor\": \"x\", \"domain\": [0.0, 1.0], \"title\": {\"text\": \"Componente Principal 2\"}}},\n",
              "                        {\"responsive\": true}\n",
              "                    ).then(function(){\n",
              "                            \n",
              "var gd = document.getElementById('70119b3b-4ce9-4d4b-b696-821a02a7da1c');\n",
              "var x = new MutationObserver(function (mutations, observer) {{\n",
              "        var display = window.getComputedStyle(gd).display;\n",
              "        if (!display || display === 'none') {{\n",
              "            console.log([gd, 'removed!']);\n",
              "            Plotly.purge(gd);\n",
              "            observer.disconnect();\n",
              "        }}\n",
              "}});\n",
              "\n",
              "// Listen for the removal of the full notebook cells\n",
              "var notebookContainer = gd.closest('#notebook-container');\n",
              "if (notebookContainer) {{\n",
              "    x.observe(notebookContainer, {childList: true});\n",
              "}}\n",
              "\n",
              "// Listen for the clearing of the current output cell\n",
              "var outputEl = gd.closest('.output');\n",
              "if (outputEl) {{\n",
              "    x.observe(outputEl, {childList: true});\n",
              "}}\n",
              "\n",
              "                        })\n",
              "                };\n",
              "                \n",
              "            </script>\n",
              "        </div>\n",
              "</body>\n",
              "</html>"
            ]
          },
          "metadata": {
            "tags": []
          }
        }
      ]
    },
    {
      "cell_type": "code",
      "metadata": {
        "ExecuteTime": {
          "end_time": "2020-11-14T02:31:55.276506Z",
          "start_time": "2020-11-14T02:31:54.921800Z"
        },
        "id": "Ht-u3jjJqsUU",
        "colab": {
          "base_uri": "https://localhost:8080/",
          "height": 542
        },
        "outputId": "e93ce66a-bdda-47bc-d44b-357b9253ab5d"
      },
      "source": [
        "pca = PCA(n_components=3)\n",
        "dimention_3=pca.fit_transform(X_sc)\n",
        "\n",
        "total_var = pca.explained_variance_ratio_.sum() * 100\n",
        "\n",
        "fig = px.scatter_3d(\n",
        "    dimention_3, x=0, y=1, z=2, color=y_train,\n",
        "    title=f'Total de Varianza Explicada: {total_var:.2f}%',\n",
        "    labels={'0': 'CP 1', '1': 'CP 2', '2': 'CP 3'}\n",
        ")\n",
        "fig.show()"
      ],
      "execution_count": 49,
      "outputs": [
        {
          "output_type": "display_data",
          "data": {
            "text/html": [
              "<html>\n",
              "<head><meta charset=\"utf-8\" /></head>\n",
              "<body>\n",
              "    <div>\n",
              "            <script src=\"https://cdnjs.cloudflare.com/ajax/libs/mathjax/2.7.5/MathJax.js?config=TeX-AMS-MML_SVG\"></script><script type=\"text/javascript\">if (window.MathJax) {MathJax.Hub.Config({SVG: {font: \"STIX-Web\"}});}</script>\n",
              "                <script type=\"text/javascript\">window.PlotlyConfig = {MathJaxConfig: 'local'};</script>\n",
              "        <script src=\"https://cdn.plot.ly/plotly-latest.min.js\"></script>    \n",
              "            <div id=\"d2a6b33b-aa90-4f22-9a01-282aa97b85e2\" class=\"plotly-graph-div\" style=\"height:525px; width:100%;\"></div>\n",
              "            <script type=\"text/javascript\">\n",
              "                \n",
              "                    window.PLOTLYENV=window.PLOTLYENV || {};\n",
              "                    \n",
              "                if (document.getElementById(\"d2a6b33b-aa90-4f22-9a01-282aa97b85e2\")) {\n",
              "                    Plotly.newPlot(\n",
              "                        'd2a6b33b-aa90-4f22-9a01-282aa97b85e2',\n",
              "                        [{\"hoverlabel\": {\"namelength\": 0}, \"hovertemplate\": \"color=virginica<br>CP 1=%{x}<br>CP 2=%{y}<br>CP 3=%{z}\", \"legendgroup\": \"color=virginica\", \"marker\": {\"color\": \"#636efa\", \"symbol\": \"circle\"}, \"mode\": \"markers\", \"name\": \"color=virginica\", \"scene\": \"scene\", \"showlegend\": true, \"type\": \"scatter3d\", \"x\": [1.2722820603449425, 0.9419133960758108, 1.762278368020653, 1.79730127421473, 1.8219996807769872, 1.388623200050302, 1.934092680966463, 1.1224309915308848, 1.8816949890499988, 2.7036564145407933, 1.2285390528890288, 1.0188171398183958, 0.257616369859848, 1.4431071959064452, 1.4377203475060085, 1.0560847553809298, 1.8817864103345991, 1.4961775807858362, 0.8828241230577302, 2.21566386344869, 2.1159070642986815, 1.9651750581374945, 1.7824956271062116, 1.6884501056020504, 1.296980466907195, 1.6387796312920517, 1.3219445898309015, 1.1425488845078073, 1.7729025333212804, 1.7763103887147085, 1.968483547422286, 2.6578677563698787, 3.1822549305014176, 2.2739795100523077, 0.8466625079791047, 2.787177136852963, 2.329036832762743, 1.5238768661400428, 1.5217737434477958, 1.7840006593675635, 1.935298047559007, 1.0560847553809298, 1.3506241786408784, 2.395399887665265], \"y\": [0.3578787266061358, 0.012181048117344754, -0.27106638728843735, 0.32509268800901653, 0.5932950493653685, 0.1827685239802979, 0.9571333816041321, -1.782429407490921, -0.8173656886299185, 0.7164891023386197, -0.5551249472426677, -0.3535420500712286, -1.5842081700300683, -0.9833824726101161, 0.1923575620679672, -0.7586405754837879, 0.9130056881852749, -0.5058929419444629, -0.07087441820334218, 1.820057706630287, 0.4528094677451523, 0.8130665654066545, 0.20597548905505722, -0.2765323878155088, 0.6260810879624868, 0.9352693794958462, 0.9520670702793469, -1.2297687969780535, 0.5837060112776992, 0.46700719827013887, 0.7719864865684682, 0.6658199854127645, -0.14827202351747149, 2.5220695595555904, -0.030241993687314433, 0.26860584647367497, 0.13452775756615223, 1.0004037669332353, 0.6013990107055156, 0.2927063386141845, 0.5170485465382262, -0.7586405754837879, -0.11782018677088613, 2.4503937486112037], \"z\": [0.18033696029486287, 0.3296162525051722, 0.336678919964726, 0.019153269835108427, 0.11709750782949468, 0.03663647280155207, 0.6160596609465326, -0.277782822782857, -0.39819216578485206, -0.5435801917519766, -0.015452472228363047, -0.1813493423268565, 0.9593645724483848, -0.042057773084303016, 0.17147089400906604, 0.5119666103551384, -0.4076312158610551, 0.012820574304113664, 0.5187321184252633, 0.39300000230996696, -0.20484416254943463, 0.22591642885835148, 0.38303207213948726, 0.25647391654048446, 0.27828119828924724, 0.2952396472495665, 0.9179055069359465, 0.554343656818275, -0.017736913378019147, -0.7004271126306886, 0.3289995570320542, -0.5753314847857878, -0.7060496290304009, -0.46934309390116064, 0.4071237950379051, -0.8483795302366006, -0.721637491703612, 0.9291281630411117, 0.6219793367356737, 0.24002042878901128, 0.41199396281479694, 0.5119666103551384, 0.1595593937610688, -0.11129202591892944]}, {\"hoverlabel\": {\"namelength\": 0}, \"hovertemplate\": \"color=versicolor<br>CP 1=%{x}<br>CP 2=%{y}<br>CP 3=%{z}\", \"legendgroup\": \"color=versicolor\", \"marker\": {\"color\": \"#EF553B\", \"symbol\": \"circle\"}, \"mode\": \"markers\", \"name\": \"color=versicolor\", \"scene\": \"scene\", \"showlegend\": true, \"type\": \"scatter3d\", \"x\": [0.15223176952455678, -0.08168064005531836, 0.9593954927308684, 0.36566120365742616, 0.23184591212103975, -0.2555980756933751, 0.05431237670534761, 0.6915160120492158, 0.01300486601113192, 1.0345872007346137, 0.38467309615043926, 0.19264152411907107, -0.11236398544890677, 0.17242426503351282, 0.5480409690199011, 0.019380891795871096, 1.1656673298404998, -0.5533545669535151, 1.082960887167467, 0.1471525316169642, 0.2803110198384935, 0.2996552864009531, 0.7943235289466025, 0.6167899935309109, -0.5994755991938755, 0.8027779138469856, 0.16824278322562153, 0.14504940892471643, -0.14247400398820334, 1.1149410204382013, 1.2753248332682812, -0.09367652220130365, 0.8401448955181557, -0.00204173388223286, 0.6763779908712508, 0.9109056214368121, 0.06309913567517664], \"y\": [-0.2998352831300106, -1.043194754880048, -0.691087802099999, -0.09130130868397725, -1.0189123668253632, -2.670399280000339, -1.3258623867479347, 0.7355612837089045, -1.5853710186609322, 0.801371404923934, 0.8258254027254233, -0.8794162425106399, -0.4479309882269108, -1.3564581188541351, -0.011025916957414603, -0.19165008523019453, 0.5486717365044812, -1.5397682130598622, -1.7007169041367078, -0.4032696748114619, -1.7906292990708124, -0.6190123019533271, 0.19795571181077698, -0.10899430811179377, -1.8449276156938015, 0.4570166894016175, -0.6208029192419585, -0.8022744310391824, -1.0740580269727966, -1.0056941290405599, 0.25901502680744015, -1.5912846735101618, -0.02370057018031754, -0.22860712650778267, 0.3619537990468618, -1.4530355819221692, -0.8123111234490096], \"z\": [0.6571296256025475, 0.5248356771483915, 0.0992861245896348, 0.20139035122963161, -0.20091331071169083, -0.061693890138852736, -0.1752457836037284, 0.1530936289773538, -0.15540599081791442, -0.6672132918427749, 0.451809201536128, 0.12607530837956152, 0.19025963659146078, 0.07972215620480017, -0.01677934683276304, 0.13284081644968618, -0.5415929099917501, 0.17819114820531198, -0.4924742743439179, 0.15537807012700885, -0.03561334328903747, 0.12328590602105899, -0.46399342599202315, -0.4383258988840614, 0.237959456167899, -0.4923584139914942, 0.08918512516643365, -0.15177075617842833, -0.3179165558820664, -0.37140298199492544, -0.2582599821837504, -0.24413618945581234, -0.5848157887358708, 0.2905533624066613, 0.608492032278132, -0.6897744644055278, -0.2951303725995987]}, {\"hoverlabel\": {\"namelength\": 0}, \"hovertemplate\": \"color=setosa<br>CP 1=%{x}<br>CP 2=%{y}<br>CP 3=%{z}\", \"legendgroup\": \"color=setosa\", \"marker\": {\"color\": \"#00cc96\", \"symbol\": \"circle\"}, \"mode\": \"markers\", \"name\": \"color=setosa\", \"scene\": \"scene\", \"showlegend\": true, \"type\": \"scatter3d\", \"x\": [-2.187641827350462, -1.8979486340372977, -2.4035067582450242, -1.9842711764879655, -2.170733057549696, -2.188606241158162, -2.23313081985257, -2.6847455666578055, -1.9431966737545596, -2.213486887621303, -2.346254891557742, -2.4671098871404427, -2.27419737776194, -2.379016596066974, -2.350436373365633, -1.9689836238097553, -2.137971353040464, -2.590700045153645, -2.3992338551525325, -2.2090644530285664, -2.482813290348664, -2.0652570359298057, -2.2828927154471685, -2.232889867067724, -2.166551575741805, -2.249166597130237, -1.8549617960048816, -1.8612464005050198, -2.585130354184007, -2.181531517927173, -2.338041459442204, -2.304947380863526, -2.237403722945061, -2.009867339149925, -2.1960962122508456, -2.0661547920295082, -2.2102698196211117, -2.232889867067724, -2.433051394754065], \"y\": [0.6171542559300143, 1.4846492728389242, -0.24487476045182396, 0.5555151373954549, 1.135276211111695, -0.41864200011118785, 1.0933008236291932, -0.8533087997698947, 0.4849147494309945, 2.7917335053717127, -0.5030404293983487, 0.15323468713158034, -0.6420888993909137, 1.226883293094686, 0.2326147702138275, -2.2771298458648035, -0.5946475113813408, -0.3708009228993282, 0.7498414167511922, 0.5801972146524261, -0.8049721031160056, 1.5812747010268302, 0.5747312141253547, -0.38258026747791546, 0.39962101149951773, -0.11939625232647756, 0.15830099845636528, 0.4949514418408217, 1.9142017960529738, 1.9530915684002421, 1.2319016392995996, -0.2435317974853504, 0.09858464642617601, -0.5517768152545237, 0.358093278339174, 0.7421851097332028, 1.0202820497183331, -0.38258026747791546, -0.2864024936121678], \"z\": [-0.18088705109490863, -0.340792096734546, 0.059222997968969536, 0.32052363330849265, -0.2376170270938504, -0.058901903883369494, -0.15158428934746054, 0.19076305560913592, -0.39356988590729425, 0.06836901474389588, 0.10463837639575338, 0.34932143384709485, -0.2138250474818425, 0.08667413110589346, 0.11410134535738678, -0.20751627083627908, -0.2196527818039909, 0.3173212112081377, 0.040320978931132595, -0.02317450513793393, 0.20198571171430002, 0.0551788696757828, -0.10337950856217548, -0.2336648402676573, -0.24707999605548409, -0.20740041048385516, 0.0474755878576805, -0.25021026948612385, 0.08491444396236224, -0.4343203144796208, 0.15835393931647868, 0.0847985836099386, -0.1326822703096239, -0.2886351291230675, -0.15252206309543798, -0.45603565476139, 0.18089119299380155, -0.23366484026765727, 0.15378093092901582]}],\n",
              "                        {\"legend\": {\"tracegroupgap\": 0}, \"scene\": {\"domain\": {\"x\": [0.0, 1.0], \"y\": [0.0, 1.0]}, \"xaxis\": {\"title\": {\"text\": \"CP 1\"}}, \"yaxis\": {\"title\": {\"text\": \"CP 2\"}}, \"zaxis\": {\"title\": {\"text\": \"CP 3\"}}}, \"template\": {\"data\": {\"bar\": [{\"error_x\": {\"color\": \"#2a3f5f\"}, \"error_y\": {\"color\": \"#2a3f5f\"}, \"marker\": {\"line\": {\"color\": \"#E5ECF6\", \"width\": 0.5}}, \"type\": \"bar\"}], \"barpolar\": [{\"marker\": {\"line\": {\"color\": \"#E5ECF6\", \"width\": 0.5}}, \"type\": \"barpolar\"}], \"carpet\": [{\"aaxis\": {\"endlinecolor\": \"#2a3f5f\", \"gridcolor\": \"white\", \"linecolor\": \"white\", \"minorgridcolor\": \"white\", \"startlinecolor\": \"#2a3f5f\"}, \"baxis\": {\"endlinecolor\": \"#2a3f5f\", \"gridcolor\": \"white\", \"linecolor\": \"white\", \"minorgridcolor\": \"white\", \"startlinecolor\": \"#2a3f5f\"}, \"type\": \"carpet\"}], \"choropleth\": [{\"colorbar\": {\"outlinewidth\": 0, \"ticks\": \"\"}, \"type\": \"choropleth\"}], \"contour\": [{\"colorbar\": {\"outlinewidth\": 0, \"ticks\": \"\"}, \"colorscale\": [[0.0, \"#0d0887\"], [0.1111111111111111, \"#46039f\"], [0.2222222222222222, \"#7201a8\"], [0.3333333333333333, \"#9c179e\"], [0.4444444444444444, \"#bd3786\"], [0.5555555555555556, \"#d8576b\"], [0.6666666666666666, \"#ed7953\"], [0.7777777777777778, \"#fb9f3a\"], [0.8888888888888888, \"#fdca26\"], [1.0, \"#f0f921\"]], \"type\": \"contour\"}], \"contourcarpet\": [{\"colorbar\": {\"outlinewidth\": 0, \"ticks\": \"\"}, \"type\": \"contourcarpet\"}], \"heatmap\": [{\"colorbar\": {\"outlinewidth\": 0, \"ticks\": \"\"}, \"colorscale\": [[0.0, \"#0d0887\"], [0.1111111111111111, \"#46039f\"], [0.2222222222222222, \"#7201a8\"], [0.3333333333333333, \"#9c179e\"], [0.4444444444444444, \"#bd3786\"], [0.5555555555555556, \"#d8576b\"], [0.6666666666666666, \"#ed7953\"], [0.7777777777777778, \"#fb9f3a\"], [0.8888888888888888, \"#fdca26\"], [1.0, \"#f0f921\"]], \"type\": \"heatmap\"}], \"heatmapgl\": [{\"colorbar\": {\"outlinewidth\": 0, \"ticks\": \"\"}, \"colorscale\": [[0.0, \"#0d0887\"], [0.1111111111111111, \"#46039f\"], [0.2222222222222222, \"#7201a8\"], [0.3333333333333333, \"#9c179e\"], [0.4444444444444444, \"#bd3786\"], [0.5555555555555556, \"#d8576b\"], [0.6666666666666666, \"#ed7953\"], [0.7777777777777778, \"#fb9f3a\"], [0.8888888888888888, \"#fdca26\"], [1.0, \"#f0f921\"]], \"type\": \"heatmapgl\"}], \"histogram\": [{\"marker\": {\"colorbar\": {\"outlinewidth\": 0, \"ticks\": \"\"}}, \"type\": \"histogram\"}], \"histogram2d\": [{\"colorbar\": {\"outlinewidth\": 0, \"ticks\": \"\"}, \"colorscale\": [[0.0, \"#0d0887\"], [0.1111111111111111, \"#46039f\"], [0.2222222222222222, \"#7201a8\"], [0.3333333333333333, \"#9c179e\"], [0.4444444444444444, \"#bd3786\"], [0.5555555555555556, \"#d8576b\"], [0.6666666666666666, \"#ed7953\"], [0.7777777777777778, \"#fb9f3a\"], [0.8888888888888888, \"#fdca26\"], [1.0, \"#f0f921\"]], \"type\": \"histogram2d\"}], \"histogram2dcontour\": [{\"colorbar\": {\"outlinewidth\": 0, \"ticks\": \"\"}, \"colorscale\": [[0.0, \"#0d0887\"], [0.1111111111111111, \"#46039f\"], [0.2222222222222222, \"#7201a8\"], [0.3333333333333333, \"#9c179e\"], [0.4444444444444444, \"#bd3786\"], [0.5555555555555556, \"#d8576b\"], [0.6666666666666666, \"#ed7953\"], [0.7777777777777778, \"#fb9f3a\"], [0.8888888888888888, \"#fdca26\"], [1.0, \"#f0f921\"]], \"type\": \"histogram2dcontour\"}], \"mesh3d\": [{\"colorbar\": {\"outlinewidth\": 0, \"ticks\": \"\"}, \"type\": \"mesh3d\"}], \"parcoords\": [{\"line\": {\"colorbar\": {\"outlinewidth\": 0, \"ticks\": \"\"}}, \"type\": \"parcoords\"}], \"pie\": [{\"automargin\": true, \"type\": \"pie\"}], \"scatter\": [{\"marker\": {\"colorbar\": {\"outlinewidth\": 0, \"ticks\": \"\"}}, \"type\": \"scatter\"}], \"scatter3d\": [{\"line\": {\"colorbar\": {\"outlinewidth\": 0, \"ticks\": \"\"}}, \"marker\": {\"colorbar\": {\"outlinewidth\": 0, \"ticks\": \"\"}}, \"type\": \"scatter3d\"}], \"scattercarpet\": [{\"marker\": {\"colorbar\": {\"outlinewidth\": 0, \"ticks\": \"\"}}, \"type\": \"scattercarpet\"}], \"scattergeo\": [{\"marker\": {\"colorbar\": {\"outlinewidth\": 0, \"ticks\": \"\"}}, \"type\": \"scattergeo\"}], \"scattergl\": [{\"marker\": {\"colorbar\": {\"outlinewidth\": 0, \"ticks\": \"\"}}, \"type\": \"scattergl\"}], \"scattermapbox\": [{\"marker\": {\"colorbar\": {\"outlinewidth\": 0, \"ticks\": \"\"}}, \"type\": \"scattermapbox\"}], \"scatterpolar\": [{\"marker\": {\"colorbar\": {\"outlinewidth\": 0, \"ticks\": \"\"}}, \"type\": \"scatterpolar\"}], \"scatterpolargl\": [{\"marker\": {\"colorbar\": {\"outlinewidth\": 0, \"ticks\": \"\"}}, \"type\": \"scatterpolargl\"}], \"scatterternary\": [{\"marker\": {\"colorbar\": {\"outlinewidth\": 0, \"ticks\": \"\"}}, \"type\": \"scatterternary\"}], \"surface\": [{\"colorbar\": {\"outlinewidth\": 0, \"ticks\": \"\"}, \"colorscale\": [[0.0, \"#0d0887\"], [0.1111111111111111, \"#46039f\"], [0.2222222222222222, \"#7201a8\"], [0.3333333333333333, \"#9c179e\"], [0.4444444444444444, \"#bd3786\"], [0.5555555555555556, \"#d8576b\"], [0.6666666666666666, \"#ed7953\"], [0.7777777777777778, \"#fb9f3a\"], [0.8888888888888888, \"#fdca26\"], [1.0, \"#f0f921\"]], \"type\": \"surface\"}], \"table\": [{\"cells\": {\"fill\": {\"color\": \"#EBF0F8\"}, \"line\": {\"color\": \"white\"}}, \"header\": {\"fill\": {\"color\": \"#C8D4E3\"}, \"line\": {\"color\": \"white\"}}, \"type\": \"table\"}]}, \"layout\": {\"annotationdefaults\": {\"arrowcolor\": \"#2a3f5f\", \"arrowhead\": 0, \"arrowwidth\": 1}, \"coloraxis\": {\"colorbar\": {\"outlinewidth\": 0, \"ticks\": \"\"}}, \"colorscale\": {\"diverging\": [[0, \"#8e0152\"], [0.1, \"#c51b7d\"], [0.2, \"#de77ae\"], [0.3, \"#f1b6da\"], [0.4, \"#fde0ef\"], [0.5, \"#f7f7f7\"], [0.6, \"#e6f5d0\"], [0.7, \"#b8e186\"], [0.8, \"#7fbc41\"], [0.9, \"#4d9221\"], [1, \"#276419\"]], \"sequential\": [[0.0, \"#0d0887\"], [0.1111111111111111, \"#46039f\"], [0.2222222222222222, \"#7201a8\"], [0.3333333333333333, \"#9c179e\"], [0.4444444444444444, \"#bd3786\"], [0.5555555555555556, \"#d8576b\"], [0.6666666666666666, \"#ed7953\"], [0.7777777777777778, \"#fb9f3a\"], [0.8888888888888888, \"#fdca26\"], [1.0, \"#f0f921\"]], \"sequentialminus\": [[0.0, \"#0d0887\"], [0.1111111111111111, \"#46039f\"], [0.2222222222222222, \"#7201a8\"], [0.3333333333333333, \"#9c179e\"], [0.4444444444444444, \"#bd3786\"], [0.5555555555555556, \"#d8576b\"], [0.6666666666666666, \"#ed7953\"], [0.7777777777777778, \"#fb9f3a\"], [0.8888888888888888, \"#fdca26\"], [1.0, \"#f0f921\"]]}, \"colorway\": [\"#636efa\", \"#EF553B\", \"#00cc96\", \"#ab63fa\", \"#FFA15A\", \"#19d3f3\", \"#FF6692\", \"#B6E880\", \"#FF97FF\", \"#FECB52\"], \"font\": {\"color\": \"#2a3f5f\"}, \"geo\": {\"bgcolor\": \"white\", \"lakecolor\": \"white\", \"landcolor\": \"#E5ECF6\", \"showlakes\": true, \"showland\": true, \"subunitcolor\": \"white\"}, \"hoverlabel\": {\"align\": \"left\"}, \"hovermode\": \"closest\", \"mapbox\": {\"style\": \"light\"}, \"paper_bgcolor\": \"white\", \"plot_bgcolor\": \"#E5ECF6\", \"polar\": {\"angularaxis\": {\"gridcolor\": \"white\", \"linecolor\": \"white\", \"ticks\": \"\"}, \"bgcolor\": \"#E5ECF6\", \"radialaxis\": {\"gridcolor\": \"white\", \"linecolor\": \"white\", \"ticks\": \"\"}}, \"scene\": {\"xaxis\": {\"backgroundcolor\": \"#E5ECF6\", \"gridcolor\": \"white\", \"gridwidth\": 2, \"linecolor\": \"white\", \"showbackground\": true, \"ticks\": \"\", \"zerolinecolor\": \"white\"}, \"yaxis\": {\"backgroundcolor\": \"#E5ECF6\", \"gridcolor\": \"white\", \"gridwidth\": 2, \"linecolor\": \"white\", \"showbackground\": true, \"ticks\": \"\", \"zerolinecolor\": \"white\"}, \"zaxis\": {\"backgroundcolor\": \"#E5ECF6\", \"gridcolor\": \"white\", \"gridwidth\": 2, \"linecolor\": \"white\", \"showbackground\": true, \"ticks\": \"\", \"zerolinecolor\": \"white\"}}, \"shapedefaults\": {\"line\": {\"color\": \"#2a3f5f\"}}, \"ternary\": {\"aaxis\": {\"gridcolor\": \"white\", \"linecolor\": \"white\", \"ticks\": \"\"}, \"baxis\": {\"gridcolor\": \"white\", \"linecolor\": \"white\", \"ticks\": \"\"}, \"bgcolor\": \"#E5ECF6\", \"caxis\": {\"gridcolor\": \"white\", \"linecolor\": \"white\", \"ticks\": \"\"}}, \"title\": {\"x\": 0.05}, \"xaxis\": {\"automargin\": true, \"gridcolor\": \"white\", \"linecolor\": \"white\", \"ticks\": \"\", \"title\": {\"standoff\": 15}, \"zerolinecolor\": \"white\", \"zerolinewidth\": 2}, \"yaxis\": {\"automargin\": true, \"gridcolor\": \"white\", \"linecolor\": \"white\", \"ticks\": \"\", \"title\": {\"standoff\": 15}, \"zerolinecolor\": \"white\", \"zerolinewidth\": 2}}}, \"title\": {\"text\": \"Total de Varianza Explicada: 99.54%\"}},\n",
              "                        {\"responsive\": true}\n",
              "                    ).then(function(){\n",
              "                            \n",
              "var gd = document.getElementById('d2a6b33b-aa90-4f22-9a01-282aa97b85e2');\n",
              "var x = new MutationObserver(function (mutations, observer) {{\n",
              "        var display = window.getComputedStyle(gd).display;\n",
              "        if (!display || display === 'none') {{\n",
              "            console.log([gd, 'removed!']);\n",
              "            Plotly.purge(gd);\n",
              "            observer.disconnect();\n",
              "        }}\n",
              "}});\n",
              "\n",
              "// Listen for the removal of the full notebook cells\n",
              "var notebookContainer = gd.closest('#notebook-container');\n",
              "if (notebookContainer) {{\n",
              "    x.observe(notebookContainer, {childList: true});\n",
              "}}\n",
              "\n",
              "// Listen for the clearing of the current output cell\n",
              "var outputEl = gd.closest('.output');\n",
              "if (outputEl) {{\n",
              "    x.observe(outputEl, {childList: true});\n",
              "}}\n",
              "\n",
              "                        })\n",
              "                };\n",
              "                \n",
              "            </script>\n",
              "        </div>\n",
              "</body>\n",
              "</html>"
            ]
          },
          "metadata": {
            "tags": []
          }
        }
      ]
    },
    {
      "cell_type": "markdown",
      "metadata": {
        "id": "Zk3cxyauqsUV"
      },
      "source": [
        "### Arboles"
      ]
    },
    {
      "cell_type": "markdown",
      "metadata": {
        "id": "JWaT3C0qqsUV"
      },
      "source": [
        "OBJETIVO - PREDECIR EL PRECIO DE ARTICULOS EN EL MERCADO A PARTIR DE SUS CARACTERISTICAS"
      ]
    },
    {
      "cell_type": "markdown",
      "metadata": {
        "id": "fJRucTOpqsUW"
      },
      "source": [
        "https://gdcoder.com/decision-tree-regressor-explained-in-depth/#:~:text=Decision%20trees%20regression%20normally%20use,the%20data%20into%20two%20subset.&text=The%20tree%20chooses%20the%20value%20with%20results%20in%20smallest%20MSE%20value."
      ]
    },
    {
      "cell_type": "code",
      "metadata": {
        "ExecuteTime": {
          "end_time": "2020-11-14T05:14:45.631571Z",
          "start_time": "2020-11-14T05:14:45.622895Z"
        },
        "id": "EZrz7Y5FqsUW"
      },
      "source": [
        "from sklearn.tree import DecisionTreeRegressor\n",
        "from sklearn.model_selection import train_test_split\n",
        "#XGBOOST tambien genere importancia de variables"
      ],
      "execution_count": null,
      "outputs": []
    },
    {
      "cell_type": "code",
      "metadata": {
        "ExecuteTime": {
          "end_time": "2020-11-14T05:14:46.037558Z",
          "start_time": "2020-11-14T05:14:45.947326Z"
        },
        "id": "O9_e1uc8qsUX"
      },
      "source": [
        "df=pd.read_csv(\"/content/drive/MyDrive/datasets/data_arboles.csv\")"
      ],
      "execution_count": 50,
      "outputs": []
    },
    {
      "cell_type": "code",
      "metadata": {
        "ExecuteTime": {
          "end_time": "2020-11-14T05:14:46.261115Z",
          "start_time": "2020-11-14T05:14:46.243279Z"
        },
        "id": "1uShH8NHqsUX"
      },
      "source": [
        "X=df[[x for x in df if x!='Item_Outlet_Sales']]\n",
        "y=df[\"Item_Outlet_Sales\"]"
      ],
      "execution_count": 51,
      "outputs": []
    },
    {
      "cell_type": "code",
      "metadata": {
        "ExecuteTime": {
          "end_time": "2020-11-14T05:14:46.671584Z",
          "start_time": "2020-11-14T05:14:46.595186Z"
        },
        "id": "UyadXATIqsUX",
        "colab": {
          "base_uri": "https://localhost:8080/",
          "height": 573
        },
        "outputId": "980354d5-02a9-4c26-8bb0-768df191b765"
      },
      "source": [
        "df"
      ],
      "execution_count": 52,
      "outputs": [
        {
          "output_type": "execute_result",
          "data": {
            "text/html": [
              "<div>\n",
              "<style scoped>\n",
              "    .dataframe tbody tr th:only-of-type {\n",
              "        vertical-align: middle;\n",
              "    }\n",
              "\n",
              "    .dataframe tbody tr th {\n",
              "        vertical-align: top;\n",
              "    }\n",
              "\n",
              "    .dataframe thead th {\n",
              "        text-align: right;\n",
              "    }\n",
              "</style>\n",
              "<table border=\"1\" class=\"dataframe\">\n",
              "  <thead>\n",
              "    <tr style=\"text-align: right;\">\n",
              "      <th></th>\n",
              "      <th>Item_Identifier</th>\n",
              "      <th>Item_Weight</th>\n",
              "      <th>Item_Fat_Content</th>\n",
              "      <th>Item_Visibility</th>\n",
              "      <th>Item_Type</th>\n",
              "      <th>Item_MRP</th>\n",
              "      <th>Outlet_Identifier</th>\n",
              "      <th>Outlet_Establishment_Year</th>\n",
              "      <th>Outlet_Size</th>\n",
              "      <th>Outlet_Location_Type</th>\n",
              "      <th>Outlet_Type</th>\n",
              "      <th>Item_Outlet_Sales</th>\n",
              "    </tr>\n",
              "  </thead>\n",
              "  <tbody>\n",
              "    <tr>\n",
              "      <th>0</th>\n",
              "      <td>FDA15</td>\n",
              "      <td>9.30</td>\n",
              "      <td>Low Fat</td>\n",
              "      <td>0.016047</td>\n",
              "      <td>Dairy</td>\n",
              "      <td>249.8092</td>\n",
              "      <td>OUT049</td>\n",
              "      <td>1999</td>\n",
              "      <td>Medium</td>\n",
              "      <td>Tier 1</td>\n",
              "      <td>Supermarket Type1</td>\n",
              "      <td>3735.138000</td>\n",
              "    </tr>\n",
              "    <tr>\n",
              "      <th>1</th>\n",
              "      <td>DRC01</td>\n",
              "      <td>5.92</td>\n",
              "      <td>Regular</td>\n",
              "      <td>0.019278</td>\n",
              "      <td>Soft Drinks</td>\n",
              "      <td>48.2692</td>\n",
              "      <td>OUT018</td>\n",
              "      <td>2009</td>\n",
              "      <td>Medium</td>\n",
              "      <td>Tier 3</td>\n",
              "      <td>Supermarket Type2</td>\n",
              "      <td>443.422800</td>\n",
              "    </tr>\n",
              "    <tr>\n",
              "      <th>2</th>\n",
              "      <td>FDN15</td>\n",
              "      <td>17.50</td>\n",
              "      <td>Low Fat</td>\n",
              "      <td>0.016760</td>\n",
              "      <td>Meat</td>\n",
              "      <td>141.6180</td>\n",
              "      <td>OUT049</td>\n",
              "      <td>1999</td>\n",
              "      <td>Medium</td>\n",
              "      <td>Tier 1</td>\n",
              "      <td>Supermarket Type1</td>\n",
              "      <td>2097.270000</td>\n",
              "    </tr>\n",
              "    <tr>\n",
              "      <th>3</th>\n",
              "      <td>FDX07</td>\n",
              "      <td>19.20</td>\n",
              "      <td>Regular</td>\n",
              "      <td>0.000000</td>\n",
              "      <td>Fruits and Vegetables</td>\n",
              "      <td>182.0950</td>\n",
              "      <td>OUT010</td>\n",
              "      <td>1998</td>\n",
              "      <td>NaN</td>\n",
              "      <td>Tier 3</td>\n",
              "      <td>Grocery Store</td>\n",
              "      <td>732.380000</td>\n",
              "    </tr>\n",
              "    <tr>\n",
              "      <th>4</th>\n",
              "      <td>NCD19</td>\n",
              "      <td>8.93</td>\n",
              "      <td>Low Fat</td>\n",
              "      <td>0.000000</td>\n",
              "      <td>Household</td>\n",
              "      <td>53.8614</td>\n",
              "      <td>OUT013</td>\n",
              "      <td>1987</td>\n",
              "      <td>High</td>\n",
              "      <td>Tier 3</td>\n",
              "      <td>Supermarket Type1</td>\n",
              "      <td>994.705200</td>\n",
              "    </tr>\n",
              "    <tr>\n",
              "      <th>...</th>\n",
              "      <td>...</td>\n",
              "      <td>...</td>\n",
              "      <td>...</td>\n",
              "      <td>...</td>\n",
              "      <td>...</td>\n",
              "      <td>...</td>\n",
              "      <td>...</td>\n",
              "      <td>...</td>\n",
              "      <td>...</td>\n",
              "      <td>...</td>\n",
              "      <td>...</td>\n",
              "      <td>...</td>\n",
              "    </tr>\n",
              "    <tr>\n",
              "      <th>14199</th>\n",
              "      <td>FDB58</td>\n",
              "      <td>10.50</td>\n",
              "      <td>Regular</td>\n",
              "      <td>0.013496</td>\n",
              "      <td>Snack Foods</td>\n",
              "      <td>141.3154</td>\n",
              "      <td>OUT046</td>\n",
              "      <td>1997</td>\n",
              "      <td>Small</td>\n",
              "      <td>Tier 1</td>\n",
              "      <td>Supermarket Type1</td>\n",
              "      <td>2181.288914</td>\n",
              "    </tr>\n",
              "    <tr>\n",
              "      <th>14200</th>\n",
              "      <td>FDD47</td>\n",
              "      <td>7.60</td>\n",
              "      <td>Regular</td>\n",
              "      <td>0.142991</td>\n",
              "      <td>Starchy Foods</td>\n",
              "      <td>169.1448</td>\n",
              "      <td>OUT018</td>\n",
              "      <td>2009</td>\n",
              "      <td>Medium</td>\n",
              "      <td>Tier 3</td>\n",
              "      <td>Supermarket Type2</td>\n",
              "      <td>2181.288914</td>\n",
              "    </tr>\n",
              "    <tr>\n",
              "      <th>14201</th>\n",
              "      <td>NCO17</td>\n",
              "      <td>10.00</td>\n",
              "      <td>Low Fat</td>\n",
              "      <td>0.073529</td>\n",
              "      <td>Health and Hygiene</td>\n",
              "      <td>118.7440</td>\n",
              "      <td>OUT045</td>\n",
              "      <td>2002</td>\n",
              "      <td>NaN</td>\n",
              "      <td>Tier 2</td>\n",
              "      <td>Supermarket Type1</td>\n",
              "      <td>2181.288914</td>\n",
              "    </tr>\n",
              "    <tr>\n",
              "      <th>14202</th>\n",
              "      <td>FDJ26</td>\n",
              "      <td>15.30</td>\n",
              "      <td>Regular</td>\n",
              "      <td>0.000000</td>\n",
              "      <td>Canned</td>\n",
              "      <td>214.6218</td>\n",
              "      <td>OUT017</td>\n",
              "      <td>2007</td>\n",
              "      <td>NaN</td>\n",
              "      <td>Tier 2</td>\n",
              "      <td>Supermarket Type1</td>\n",
              "      <td>2181.288914</td>\n",
              "    </tr>\n",
              "    <tr>\n",
              "      <th>14203</th>\n",
              "      <td>FDU37</td>\n",
              "      <td>9.50</td>\n",
              "      <td>Regular</td>\n",
              "      <td>0.104720</td>\n",
              "      <td>Canned</td>\n",
              "      <td>79.7960</td>\n",
              "      <td>OUT045</td>\n",
              "      <td>2002</td>\n",
              "      <td>NaN</td>\n",
              "      <td>Tier 2</td>\n",
              "      <td>Supermarket Type1</td>\n",
              "      <td>2181.288914</td>\n",
              "    </tr>\n",
              "  </tbody>\n",
              "</table>\n",
              "<p>14204 rows × 12 columns</p>\n",
              "</div>"
            ],
            "text/plain": [
              "      Item_Identifier  Item_Weight Item_Fat_Content  Item_Visibility  \\\n",
              "0               FDA15         9.30          Low Fat         0.016047   \n",
              "1               DRC01         5.92          Regular         0.019278   \n",
              "2               FDN15        17.50          Low Fat         0.016760   \n",
              "3               FDX07        19.20          Regular         0.000000   \n",
              "4               NCD19         8.93          Low Fat         0.000000   \n",
              "...               ...          ...              ...              ...   \n",
              "14199           FDB58        10.50          Regular         0.013496   \n",
              "14200           FDD47         7.60          Regular         0.142991   \n",
              "14201           NCO17        10.00          Low Fat         0.073529   \n",
              "14202           FDJ26        15.30          Regular         0.000000   \n",
              "14203           FDU37         9.50          Regular         0.104720   \n",
              "\n",
              "                   Item_Type  Item_MRP Outlet_Identifier  \\\n",
              "0                      Dairy  249.8092            OUT049   \n",
              "1                Soft Drinks   48.2692            OUT018   \n",
              "2                       Meat  141.6180            OUT049   \n",
              "3      Fruits and Vegetables  182.0950            OUT010   \n",
              "4                  Household   53.8614            OUT013   \n",
              "...                      ...       ...               ...   \n",
              "14199            Snack Foods  141.3154            OUT046   \n",
              "14200          Starchy Foods  169.1448            OUT018   \n",
              "14201     Health and Hygiene  118.7440            OUT045   \n",
              "14202                 Canned  214.6218            OUT017   \n",
              "14203                 Canned   79.7960            OUT045   \n",
              "\n",
              "       Outlet_Establishment_Year Outlet_Size Outlet_Location_Type  \\\n",
              "0                           1999      Medium               Tier 1   \n",
              "1                           2009      Medium               Tier 3   \n",
              "2                           1999      Medium               Tier 1   \n",
              "3                           1998         NaN               Tier 3   \n",
              "4                           1987        High               Tier 3   \n",
              "...                          ...         ...                  ...   \n",
              "14199                       1997       Small               Tier 1   \n",
              "14200                       2009      Medium               Tier 3   \n",
              "14201                       2002         NaN               Tier 2   \n",
              "14202                       2007         NaN               Tier 2   \n",
              "14203                       2002         NaN               Tier 2   \n",
              "\n",
              "             Outlet_Type  Item_Outlet_Sales  \n",
              "0      Supermarket Type1        3735.138000  \n",
              "1      Supermarket Type2         443.422800  \n",
              "2      Supermarket Type1        2097.270000  \n",
              "3          Grocery Store         732.380000  \n",
              "4      Supermarket Type1         994.705200  \n",
              "...                  ...                ...  \n",
              "14199  Supermarket Type1        2181.288914  \n",
              "14200  Supermarket Type2        2181.288914  \n",
              "14201  Supermarket Type1        2181.288914  \n",
              "14202  Supermarket Type1        2181.288914  \n",
              "14203  Supermarket Type1        2181.288914  \n",
              "\n",
              "[14204 rows x 12 columns]"
            ]
          },
          "metadata": {
            "tags": []
          },
          "execution_count": 52
        }
      ]
    },
    {
      "cell_type": "code",
      "metadata": {
        "ExecuteTime": {
          "end_time": "2020-11-14T05:14:47.043934Z",
          "start_time": "2020-11-14T05:14:47.031013Z"
        },
        "scrolled": true,
        "id": "S4jljlYXqsUY"
      },
      "source": [
        "X=X.drop(['Item_Identifier', 'Outlet_Identifier'], axis=1)"
      ],
      "execution_count": 53,
      "outputs": []
    },
    {
      "cell_type": "code",
      "metadata": {
        "ExecuteTime": {
          "end_time": "2020-11-14T05:14:47.411896Z",
          "start_time": "2020-11-14T05:14:47.398497Z"
        },
        "id": "tior9c8mqsUY"
      },
      "source": [
        "X=X[[\"Item_Weight\",\"Item_Visibility\",\"Item_MRP\"]+[\"Item_Fat_Content\",\"Item_Type\",\"Outlet_Size\",\"Outlet_Location_Type\",\"Outlet_Type\"]]"
      ],
      "execution_count": 54,
      "outputs": []
    },
    {
      "cell_type": "code",
      "metadata": {
        "ExecuteTime": {
          "end_time": "2020-11-14T05:14:47.829700Z",
          "start_time": "2020-11-14T05:14:47.802648Z"
        },
        "id": "MBvukcA7qsUY",
        "colab": {
          "base_uri": "https://localhost:8080/"
        },
        "outputId": "aac6187f-402f-422d-8d39-e2df0e0bfd32"
      },
      "source": [
        "X.isnull().sum()"
      ],
      "execution_count": 55,
      "outputs": [
        {
          "output_type": "execute_result",
          "data": {
            "text/plain": [
              "Item_Weight             2439\n",
              "Item_Visibility            0\n",
              "Item_MRP                   0\n",
              "Item_Fat_Content           0\n",
              "Item_Type                  0\n",
              "Outlet_Size             4016\n",
              "Outlet_Location_Type       0\n",
              "Outlet_Type                0\n",
              "dtype: int64"
            ]
          },
          "metadata": {
            "tags": []
          },
          "execution_count": 55
        }
      ]
    },
    {
      "cell_type": "code",
      "metadata": {
        "ExecuteTime": {
          "end_time": "2020-11-14T05:14:48.504201Z",
          "start_time": "2020-11-14T05:14:48.158803Z"
        },
        "id": "gK_19x_0qsUZ"
      },
      "source": [
        "X_train,X_test,y_train,y_test=train_test_split(X,y)"
      ],
      "execution_count": 56,
      "outputs": []
    },
    {
      "cell_type": "code",
      "metadata": {
        "ExecuteTime": {
          "end_time": "2020-11-14T05:14:55.629573Z",
          "start_time": "2020-11-14T05:14:55.619527Z"
        },
        "id": "0QpXqcIlqsUZ",
        "colab": {
          "base_uri": "https://localhost:8080/"
        },
        "outputId": "e93a3a3d-0684-4f9c-9069-6e19b56be4a6"
      },
      "source": [
        "X_train.columns"
      ],
      "execution_count": 57,
      "outputs": [
        {
          "output_type": "execute_result",
          "data": {
            "text/plain": [
              "Index(['Item_Weight', 'Item_Visibility', 'Item_MRP', 'Item_Fat_Content',\n",
              "       'Item_Type', 'Outlet_Size', 'Outlet_Location_Type', 'Outlet_Type'],\n",
              "      dtype='object')"
            ]
          },
          "metadata": {
            "tags": []
          },
          "execution_count": 57
        }
      ]
    },
    {
      "cell_type": "code",
      "metadata": {
        "ExecuteTime": {
          "end_time": "2020-11-14T05:14:56.173030Z",
          "start_time": "2020-11-14T05:14:56.145374Z"
        },
        "scrolled": true,
        "id": "vxQyCf7aqsUZ",
        "colab": {
          "base_uri": "https://localhost:8080/"
        },
        "outputId": "76867560-18ea-475a-e27b-f6468f75f30c"
      },
      "source": [
        "X_train['Item_Weight'].fillna(X_train['Item_Weight'].median(), inplace=True)\n",
        "X_train['Outlet_Size'].fillna(X_train['Outlet_Size'].mode()[0], inplace=True)\n",
        "\n",
        "X_test['Item_Weight'].fillna(X_train['Item_Weight'].median(), inplace=True)\n",
        "X_test['Outlet_Size'].fillna(X_train['Outlet_Size'].mode()[0], inplace=True)"
      ],
      "execution_count": 58,
      "outputs": [
        {
          "output_type": "stream",
          "text": [
            "/usr/local/lib/python3.6/dist-packages/pandas/core/series.py:4536: SettingWithCopyWarning:\n",
            "\n",
            "\n",
            "A value is trying to be set on a copy of a slice from a DataFrame\n",
            "\n",
            "See the caveats in the documentation: https://pandas.pydata.org/pandas-docs/stable/user_guide/indexing.html#returning-a-view-versus-a-copy\n",
            "\n"
          ],
          "name": "stderr"
        }
      ]
    },
    {
      "cell_type": "code",
      "metadata": {
        "ExecuteTime": {
          "end_time": "2020-11-14T05:14:57.142206Z",
          "start_time": "2020-11-14T05:14:57.123461Z"
        },
        "scrolled": true,
        "id": "H9GaS2ITqsUa",
        "colab": {
          "base_uri": "https://localhost:8080/"
        },
        "outputId": "d64bab5f-304e-4410-934a-1e0cdc1cd45e"
      },
      "source": [
        "X_train[\"Item_Fat_Content\"].value_counts()"
      ],
      "execution_count": 59,
      "outputs": [
        {
          "output_type": "execute_result",
          "data": {
            "text/plain": [
              "Low Fat    6340\n",
              "Regular    3662\n",
              "LF          378\n",
              "reg         145\n",
              "low fat     128\n",
              "Name: Item_Fat_Content, dtype: int64"
            ]
          },
          "metadata": {
            "tags": []
          },
          "execution_count": 59
        }
      ]
    },
    {
      "cell_type": "code",
      "metadata": {
        "ExecuteTime": {
          "end_time": "2020-11-14T05:15:01.213961Z",
          "start_time": "2020-11-14T05:15:01.101013Z"
        },
        "id": "HIQ9Pr0oqsUa"
      },
      "source": [
        "fat_cont=pd.get_dummies(X_train[[\"Item_Fat_Content\"]]).iloc[:,:-1]\n",
        "item_type=pd.get_dummies(X_train[[\"Item_Type\"]]).iloc[:,:-1]\n",
        "out_size=pd.get_dummies(X_train[[\"Outlet_Size\"]]).iloc[:,:-1]\n",
        "out_type_loc=pd.get_dummies(X_train[[\"Outlet_Location_Type\"]]).iloc[:,:-1]\n",
        "out_type=pd.get_dummies(X_train[[\"Outlet_Type\"]]).iloc[:,:-1]\n",
        "\n",
        "X_train=pd.concat([X_train[[\"Item_Weight\",\"Item_Visibility\",\"Item_MRP\"]],fat_cont,item_type,out_size,out_type_loc,out_type],axis=1)"
      ],
      "execution_count": 60,
      "outputs": []
    },
    {
      "cell_type": "code",
      "metadata": {
        "ExecuteTime": {
          "end_time": "2020-11-14T05:15:03.272338Z",
          "start_time": "2020-11-14T05:15:03.261207Z"
        },
        "id": "Fzdz-V65qsUa",
        "colab": {
          "base_uri": "https://localhost:8080/"
        },
        "outputId": "04323387-8d5f-4c1f-ee4a-4f32353b0dc7"
      },
      "source": [
        "X_train.shape"
      ],
      "execution_count": 61,
      "outputs": [
        {
          "output_type": "execute_result",
          "data": {
            "text/plain": [
              "(10653, 29)"
            ]
          },
          "metadata": {
            "tags": []
          },
          "execution_count": 61
        }
      ]
    },
    {
      "cell_type": "code",
      "metadata": {
        "colab": {
          "base_uri": "https://localhost:8080/",
          "height": 227
        },
        "id": "hu3JgdYH40qu",
        "outputId": "ffd3a614-5c3e-475d-c9a7-5356255feb13"
      },
      "source": [
        "X_train.head(5)"
      ],
      "execution_count": 65,
      "outputs": [
        {
          "output_type": "execute_result",
          "data": {
            "text/html": [
              "<div>\n",
              "<style scoped>\n",
              "    .dataframe tbody tr th:only-of-type {\n",
              "        vertical-align: middle;\n",
              "    }\n",
              "\n",
              "    .dataframe tbody tr th {\n",
              "        vertical-align: top;\n",
              "    }\n",
              "\n",
              "    .dataframe thead th {\n",
              "        text-align: right;\n",
              "    }\n",
              "</style>\n",
              "<table border=\"1\" class=\"dataframe\">\n",
              "  <thead>\n",
              "    <tr style=\"text-align: right;\">\n",
              "      <th></th>\n",
              "      <th>Item_Weight</th>\n",
              "      <th>Item_Visibility</th>\n",
              "      <th>Item_MRP</th>\n",
              "      <th>Item_Fat_Content_LF</th>\n",
              "      <th>Item_Fat_Content_Low Fat</th>\n",
              "      <th>Item_Fat_Content_Regular</th>\n",
              "      <th>Item_Fat_Content_low fat</th>\n",
              "      <th>Item_Type_Baking Goods</th>\n",
              "      <th>Item_Type_Breads</th>\n",
              "      <th>Item_Type_Breakfast</th>\n",
              "      <th>Item_Type_Canned</th>\n",
              "      <th>Item_Type_Dairy</th>\n",
              "      <th>Item_Type_Frozen Foods</th>\n",
              "      <th>Item_Type_Fruits and Vegetables</th>\n",
              "      <th>Item_Type_Hard Drinks</th>\n",
              "      <th>Item_Type_Health and Hygiene</th>\n",
              "      <th>Item_Type_Household</th>\n",
              "      <th>Item_Type_Meat</th>\n",
              "      <th>Item_Type_Others</th>\n",
              "      <th>Item_Type_Seafood</th>\n",
              "      <th>Item_Type_Snack Foods</th>\n",
              "      <th>Item_Type_Soft Drinks</th>\n",
              "      <th>Outlet_Size_High</th>\n",
              "      <th>Outlet_Size_Medium</th>\n",
              "      <th>Outlet_Location_Type_Tier 1</th>\n",
              "      <th>Outlet_Location_Type_Tier 2</th>\n",
              "      <th>Outlet_Type_Grocery Store</th>\n",
              "      <th>Outlet_Type_Supermarket Type1</th>\n",
              "      <th>Outlet_Type_Supermarket Type2</th>\n",
              "    </tr>\n",
              "  </thead>\n",
              "  <tbody>\n",
              "    <tr>\n",
              "      <th>6939</th>\n",
              "      <td>17.350</td>\n",
              "      <td>0.014722</td>\n",
              "      <td>73.1038</td>\n",
              "      <td>0</td>\n",
              "      <td>1</td>\n",
              "      <td>0</td>\n",
              "      <td>0</td>\n",
              "      <td>0</td>\n",
              "      <td>0</td>\n",
              "      <td>0</td>\n",
              "      <td>0</td>\n",
              "      <td>0</td>\n",
              "      <td>1</td>\n",
              "      <td>0</td>\n",
              "      <td>0</td>\n",
              "      <td>0</td>\n",
              "      <td>0</td>\n",
              "      <td>0</td>\n",
              "      <td>0</td>\n",
              "      <td>0</td>\n",
              "      <td>0</td>\n",
              "      <td>0</td>\n",
              "      <td>0</td>\n",
              "      <td>1</td>\n",
              "      <td>0</td>\n",
              "      <td>1</td>\n",
              "      <td>0</td>\n",
              "      <td>1</td>\n",
              "      <td>0</td>\n",
              "    </tr>\n",
              "    <tr>\n",
              "      <th>1917</th>\n",
              "      <td>15.600</td>\n",
              "      <td>0.037764</td>\n",
              "      <td>124.9704</td>\n",
              "      <td>0</td>\n",
              "      <td>1</td>\n",
              "      <td>0</td>\n",
              "      <td>0</td>\n",
              "      <td>0</td>\n",
              "      <td>0</td>\n",
              "      <td>0</td>\n",
              "      <td>0</td>\n",
              "      <td>0</td>\n",
              "      <td>0</td>\n",
              "      <td>0</td>\n",
              "      <td>0</td>\n",
              "      <td>0</td>\n",
              "      <td>0</td>\n",
              "      <td>0</td>\n",
              "      <td>0</td>\n",
              "      <td>0</td>\n",
              "      <td>1</td>\n",
              "      <td>0</td>\n",
              "      <td>0</td>\n",
              "      <td>1</td>\n",
              "      <td>0</td>\n",
              "      <td>1</td>\n",
              "      <td>0</td>\n",
              "      <td>1</td>\n",
              "      <td>0</td>\n",
              "    </tr>\n",
              "    <tr>\n",
              "      <th>599</th>\n",
              "      <td>5.000</td>\n",
              "      <td>0.044005</td>\n",
              "      <td>188.8530</td>\n",
              "      <td>0</td>\n",
              "      <td>1</td>\n",
              "      <td>0</td>\n",
              "      <td>0</td>\n",
              "      <td>0</td>\n",
              "      <td>0</td>\n",
              "      <td>0</td>\n",
              "      <td>0</td>\n",
              "      <td>0</td>\n",
              "      <td>0</td>\n",
              "      <td>0</td>\n",
              "      <td>0</td>\n",
              "      <td>0</td>\n",
              "      <td>0</td>\n",
              "      <td>0</td>\n",
              "      <td>0</td>\n",
              "      <td>0</td>\n",
              "      <td>0</td>\n",
              "      <td>1</td>\n",
              "      <td>0</td>\n",
              "      <td>0</td>\n",
              "      <td>1</td>\n",
              "      <td>0</td>\n",
              "      <td>0</td>\n",
              "      <td>1</td>\n",
              "      <td>0</td>\n",
              "    </tr>\n",
              "    <tr>\n",
              "      <th>5933</th>\n",
              "      <td>12.500</td>\n",
              "      <td>0.007180</td>\n",
              "      <td>47.4034</td>\n",
              "      <td>0</td>\n",
              "      <td>1</td>\n",
              "      <td>0</td>\n",
              "      <td>0</td>\n",
              "      <td>1</td>\n",
              "      <td>0</td>\n",
              "      <td>0</td>\n",
              "      <td>0</td>\n",
              "      <td>0</td>\n",
              "      <td>0</td>\n",
              "      <td>0</td>\n",
              "      <td>0</td>\n",
              "      <td>0</td>\n",
              "      <td>0</td>\n",
              "      <td>0</td>\n",
              "      <td>0</td>\n",
              "      <td>0</td>\n",
              "      <td>0</td>\n",
              "      <td>0</td>\n",
              "      <td>0</td>\n",
              "      <td>1</td>\n",
              "      <td>0</td>\n",
              "      <td>0</td>\n",
              "      <td>0</td>\n",
              "      <td>0</td>\n",
              "      <td>0</td>\n",
              "    </tr>\n",
              "    <tr>\n",
              "      <th>10282</th>\n",
              "      <td>8.235</td>\n",
              "      <td>0.082412</td>\n",
              "      <td>148.5076</td>\n",
              "      <td>0</td>\n",
              "      <td>1</td>\n",
              "      <td>0</td>\n",
              "      <td>0</td>\n",
              "      <td>1</td>\n",
              "      <td>0</td>\n",
              "      <td>0</td>\n",
              "      <td>0</td>\n",
              "      <td>0</td>\n",
              "      <td>0</td>\n",
              "      <td>0</td>\n",
              "      <td>0</td>\n",
              "      <td>0</td>\n",
              "      <td>0</td>\n",
              "      <td>0</td>\n",
              "      <td>0</td>\n",
              "      <td>0</td>\n",
              "      <td>0</td>\n",
              "      <td>0</td>\n",
              "      <td>0</td>\n",
              "      <td>0</td>\n",
              "      <td>0</td>\n",
              "      <td>1</td>\n",
              "      <td>0</td>\n",
              "      <td>1</td>\n",
              "      <td>0</td>\n",
              "    </tr>\n",
              "  </tbody>\n",
              "</table>\n",
              "</div>"
            ],
            "text/plain": [
              "       Item_Weight  Item_Visibility  Item_MRP  Item_Fat_Content_LF  \\\n",
              "6939        17.350         0.014722   73.1038                    0   \n",
              "1917        15.600         0.037764  124.9704                    0   \n",
              "599          5.000         0.044005  188.8530                    0   \n",
              "5933        12.500         0.007180   47.4034                    0   \n",
              "10282        8.235         0.082412  148.5076                    0   \n",
              "\n",
              "       Item_Fat_Content_Low Fat  Item_Fat_Content_Regular  \\\n",
              "6939                          1                         0   \n",
              "1917                          1                         0   \n",
              "599                           1                         0   \n",
              "5933                          1                         0   \n",
              "10282                         1                         0   \n",
              "\n",
              "       Item_Fat_Content_low fat  Item_Type_Baking Goods  Item_Type_Breads  \\\n",
              "6939                          0                       0                 0   \n",
              "1917                          0                       0                 0   \n",
              "599                           0                       0                 0   \n",
              "5933                          0                       1                 0   \n",
              "10282                         0                       1                 0   \n",
              "\n",
              "       Item_Type_Breakfast  Item_Type_Canned  Item_Type_Dairy  \\\n",
              "6939                     0                 0                0   \n",
              "1917                     0                 0                0   \n",
              "599                      0                 0                0   \n",
              "5933                     0                 0                0   \n",
              "10282                    0                 0                0   \n",
              "\n",
              "       Item_Type_Frozen Foods  Item_Type_Fruits and Vegetables  \\\n",
              "6939                        1                                0   \n",
              "1917                        0                                0   \n",
              "599                         0                                0   \n",
              "5933                        0                                0   \n",
              "10282                       0                                0   \n",
              "\n",
              "       Item_Type_Hard Drinks  Item_Type_Health and Hygiene  \\\n",
              "6939                       0                             0   \n",
              "1917                       0                             0   \n",
              "599                        0                             0   \n",
              "5933                       0                             0   \n",
              "10282                      0                             0   \n",
              "\n",
              "       Item_Type_Household  Item_Type_Meat  Item_Type_Others  \\\n",
              "6939                     0               0                 0   \n",
              "1917                     0               0                 0   \n",
              "599                      0               0                 0   \n",
              "5933                     0               0                 0   \n",
              "10282                    0               0                 0   \n",
              "\n",
              "       Item_Type_Seafood  Item_Type_Snack Foods  Item_Type_Soft Drinks  \\\n",
              "6939                   0                      0                      0   \n",
              "1917                   0                      1                      0   \n",
              "599                    0                      0                      1   \n",
              "5933                   0                      0                      0   \n",
              "10282                  0                      0                      0   \n",
              "\n",
              "       Outlet_Size_High  Outlet_Size_Medium  Outlet_Location_Type_Tier 1  \\\n",
              "6939                  0                   1                            0   \n",
              "1917                  0                   1                            0   \n",
              "599                   0                   0                            1   \n",
              "5933                  0                   1                            0   \n",
              "10282                 0                   0                            0   \n",
              "\n",
              "       Outlet_Location_Type_Tier 2  Outlet_Type_Grocery Store  \\\n",
              "6939                             1                          0   \n",
              "1917                             1                          0   \n",
              "599                              0                          0   \n",
              "5933                             0                          0   \n",
              "10282                            1                          0   \n",
              "\n",
              "       Outlet_Type_Supermarket Type1  Outlet_Type_Supermarket Type2  \n",
              "6939                               1                              0  \n",
              "1917                               1                              0  \n",
              "599                                1                              0  \n",
              "5933                               0                              0  \n",
              "10282                              1                              0  "
            ]
          },
          "metadata": {
            "tags": []
          },
          "execution_count": 65
        }
      ]
    },
    {
      "cell_type": "code",
      "metadata": {
        "ExecuteTime": {
          "end_time": "2020-11-14T05:15:05.493865Z",
          "start_time": "2020-11-14T05:15:05.442617Z"
        },
        "scrolled": true,
        "id": "M8tP3XVlqsUb",
        "colab": {
          "base_uri": "https://localhost:8080/"
        },
        "outputId": "9c2535e2-fc6b-4d0c-cba3-6b42915095a6"
      },
      "source": [
        "list(X_train.isnull().sum().values)"
      ],
      "execution_count": 62,
      "outputs": [
        {
          "output_type": "execute_result",
          "data": {
            "text/plain": [
              "[0,\n",
              " 0,\n",
              " 0,\n",
              " 0,\n",
              " 0,\n",
              " 0,\n",
              " 0,\n",
              " 0,\n",
              " 0,\n",
              " 0,\n",
              " 0,\n",
              " 0,\n",
              " 0,\n",
              " 0,\n",
              " 0,\n",
              " 0,\n",
              " 0,\n",
              " 0,\n",
              " 0,\n",
              " 0,\n",
              " 0,\n",
              " 0,\n",
              " 0,\n",
              " 0,\n",
              " 0,\n",
              " 0,\n",
              " 0,\n",
              " 0,\n",
              " 0]"
            ]
          },
          "metadata": {
            "tags": []
          },
          "execution_count": 62
        }
      ]
    },
    {
      "cell_type": "code",
      "metadata": {
        "ExecuteTime": {
          "end_time": "2020-11-14T05:15:11.336092Z",
          "start_time": "2020-11-14T05:15:11.329168Z"
        },
        "scrolled": true,
        "id": "6czKv_fUqsUb"
      },
      "source": [
        "from sklearn.tree import DecisionTreeRegressor\n",
        "model = DecisionTreeRegressor(random_state=1, max_depth=10)"
      ],
      "execution_count": 67,
      "outputs": []
    },
    {
      "cell_type": "code",
      "metadata": {
        "ExecuteTime": {
          "end_time": "2020-11-14T05:15:18.741299Z",
          "start_time": "2020-11-14T05:15:18.547675Z"
        },
        "id": "vX50iXitqsUb",
        "colab": {
          "base_uri": "https://localhost:8080/"
        },
        "outputId": "ff013015-6d24-4376-d463-aeb76c23120f"
      },
      "source": [
        "model.fit(X_train,y_train)"
      ],
      "execution_count": 68,
      "outputs": [
        {
          "output_type": "execute_result",
          "data": {
            "text/plain": [
              "DecisionTreeRegressor(ccp_alpha=0.0, criterion='mse', max_depth=10,\n",
              "                      max_features=None, max_leaf_nodes=None,\n",
              "                      min_impurity_decrease=0.0, min_impurity_split=None,\n",
              "                      min_samples_leaf=1, min_samples_split=2,\n",
              "                      min_weight_fraction_leaf=0.0, presort='deprecated',\n",
              "                      random_state=1, splitter='best')"
            ]
          },
          "metadata": {
            "tags": []
          },
          "execution_count": 68
        }
      ]
    },
    {
      "cell_type": "code",
      "metadata": {
        "ExecuteTime": {
          "end_time": "2020-11-14T05:15:19.547128Z",
          "start_time": "2020-11-14T05:15:19.513546Z"
        },
        "id": "nGOUGXkbqsUb"
      },
      "source": [
        "features = df.columns\n",
        "#Los modelos de arbol tienen el atributo de feature_importances\n",
        "importances = model.feature_importances_"
      ],
      "execution_count": 69,
      "outputs": []
    },
    {
      "cell_type": "code",
      "metadata": {
        "ExecuteTime": {
          "end_time": "2020-11-14T05:15:20.363871Z",
          "start_time": "2020-11-14T05:15:20.022032Z"
        },
        "id": "q4pevwQrqsUc"
      },
      "source": [
        "importa=pd.DataFrame()"
      ],
      "execution_count": 70,
      "outputs": []
    },
    {
      "cell_type": "code",
      "metadata": {
        "ExecuteTime": {
          "end_time": "2020-11-14T05:15:20.920039Z",
          "start_time": "2020-11-14T05:15:20.550289Z"
        },
        "id": "-HssV3lnqsUc"
      },
      "source": [
        "importa[\"var\"]=X_train.columns\n",
        "importa[\"importance\"]=model.feature_importances_"
      ],
      "execution_count": 71,
      "outputs": []
    },
    {
      "cell_type": "code",
      "metadata": {
        "ExecuteTime": {
          "end_time": "2020-11-14T05:15:22.629852Z",
          "start_time": "2020-11-14T05:15:22.621980Z"
        },
        "id": "WlVeAmUWqsUc"
      },
      "source": [
        "importa=importa.sort_values(by=\"importance\",ascending=False)"
      ],
      "execution_count": 72,
      "outputs": []
    },
    {
      "cell_type": "code",
      "metadata": {
        "ExecuteTime": {
          "end_time": "2020-11-14T05:15:23.465397Z",
          "start_time": "2020-11-14T05:15:23.439789Z"
        },
        "id": "_b6XPkxqqsUc",
        "colab": {
          "base_uri": "https://localhost:8080/",
          "height": 622
        },
        "outputId": "58fbabc3-6e52-4bb1-f17d-ee0778cd2744"
      },
      "source": [
        "importa[:20]"
      ],
      "execution_count": 73,
      "outputs": [
        {
          "output_type": "execute_result",
          "data": {
            "text/html": [
              "<div>\n",
              "<style scoped>\n",
              "    .dataframe tbody tr th:only-of-type {\n",
              "        vertical-align: middle;\n",
              "    }\n",
              "\n",
              "    .dataframe tbody tr th {\n",
              "        vertical-align: top;\n",
              "    }\n",
              "\n",
              "    .dataframe thead th {\n",
              "        text-align: right;\n",
              "    }\n",
              "</style>\n",
              "<table border=\"1\" class=\"dataframe\">\n",
              "  <thead>\n",
              "    <tr style=\"text-align: right;\">\n",
              "      <th></th>\n",
              "      <th>var</th>\n",
              "      <th>importance</th>\n",
              "    </tr>\n",
              "  </thead>\n",
              "  <tbody>\n",
              "    <tr>\n",
              "      <th>2</th>\n",
              "      <td>Item_MRP</td>\n",
              "      <td>0.500362</td>\n",
              "    </tr>\n",
              "    <tr>\n",
              "      <th>26</th>\n",
              "      <td>Outlet_Type_Grocery Store</td>\n",
              "      <td>0.240860</td>\n",
              "    </tr>\n",
              "    <tr>\n",
              "      <th>1</th>\n",
              "      <td>Item_Visibility</td>\n",
              "      <td>0.067903</td>\n",
              "    </tr>\n",
              "    <tr>\n",
              "      <th>28</th>\n",
              "      <td>Outlet_Type_Supermarket Type2</td>\n",
              "      <td>0.066514</td>\n",
              "    </tr>\n",
              "    <tr>\n",
              "      <th>0</th>\n",
              "      <td>Item_Weight</td>\n",
              "      <td>0.038878</td>\n",
              "    </tr>\n",
              "    <tr>\n",
              "      <th>27</th>\n",
              "      <td>Outlet_Type_Supermarket Type1</td>\n",
              "      <td>0.026322</td>\n",
              "    </tr>\n",
              "    <tr>\n",
              "      <th>13</th>\n",
              "      <td>Item_Type_Fruits and Vegetables</td>\n",
              "      <td>0.009076</td>\n",
              "    </tr>\n",
              "    <tr>\n",
              "      <th>11</th>\n",
              "      <td>Item_Type_Dairy</td>\n",
              "      <td>0.006643</td>\n",
              "    </tr>\n",
              "    <tr>\n",
              "      <th>6</th>\n",
              "      <td>Item_Fat_Content_low fat</td>\n",
              "      <td>0.005022</td>\n",
              "    </tr>\n",
              "    <tr>\n",
              "      <th>7</th>\n",
              "      <td>Item_Type_Baking Goods</td>\n",
              "      <td>0.004066</td>\n",
              "    </tr>\n",
              "    <tr>\n",
              "      <th>16</th>\n",
              "      <td>Item_Type_Household</td>\n",
              "      <td>0.003446</td>\n",
              "    </tr>\n",
              "    <tr>\n",
              "      <th>3</th>\n",
              "      <td>Item_Fat_Content_LF</td>\n",
              "      <td>0.003356</td>\n",
              "    </tr>\n",
              "    <tr>\n",
              "      <th>14</th>\n",
              "      <td>Item_Type_Hard Drinks</td>\n",
              "      <td>0.003276</td>\n",
              "    </tr>\n",
              "    <tr>\n",
              "      <th>12</th>\n",
              "      <td>Item_Type_Frozen Foods</td>\n",
              "      <td>0.003263</td>\n",
              "    </tr>\n",
              "    <tr>\n",
              "      <th>19</th>\n",
              "      <td>Item_Type_Seafood</td>\n",
              "      <td>0.003231</td>\n",
              "    </tr>\n",
              "    <tr>\n",
              "      <th>20</th>\n",
              "      <td>Item_Type_Snack Foods</td>\n",
              "      <td>0.002892</td>\n",
              "    </tr>\n",
              "    <tr>\n",
              "      <th>17</th>\n",
              "      <td>Item_Type_Meat</td>\n",
              "      <td>0.002380</td>\n",
              "    </tr>\n",
              "    <tr>\n",
              "      <th>24</th>\n",
              "      <td>Outlet_Location_Type_Tier 1</td>\n",
              "      <td>0.002114</td>\n",
              "    </tr>\n",
              "    <tr>\n",
              "      <th>21</th>\n",
              "      <td>Item_Type_Soft Drinks</td>\n",
              "      <td>0.002112</td>\n",
              "    </tr>\n",
              "    <tr>\n",
              "      <th>22</th>\n",
              "      <td>Outlet_Size_High</td>\n",
              "      <td>0.001763</td>\n",
              "    </tr>\n",
              "  </tbody>\n",
              "</table>\n",
              "</div>"
            ],
            "text/plain": [
              "                                var  importance\n",
              "2                          Item_MRP    0.500362\n",
              "26        Outlet_Type_Grocery Store    0.240860\n",
              "1                   Item_Visibility    0.067903\n",
              "28    Outlet_Type_Supermarket Type2    0.066514\n",
              "0                       Item_Weight    0.038878\n",
              "27    Outlet_Type_Supermarket Type1    0.026322\n",
              "13  Item_Type_Fruits and Vegetables    0.009076\n",
              "11                  Item_Type_Dairy    0.006643\n",
              "6          Item_Fat_Content_low fat    0.005022\n",
              "7            Item_Type_Baking Goods    0.004066\n",
              "16              Item_Type_Household    0.003446\n",
              "3               Item_Fat_Content_LF    0.003356\n",
              "14            Item_Type_Hard Drinks    0.003276\n",
              "12           Item_Type_Frozen Foods    0.003263\n",
              "19                Item_Type_Seafood    0.003231\n",
              "20            Item_Type_Snack Foods    0.002892\n",
              "17                   Item_Type_Meat    0.002380\n",
              "24      Outlet_Location_Type_Tier 1    0.002114\n",
              "21            Item_Type_Soft Drinks    0.002112\n",
              "22                 Outlet_Size_High    0.001763"
            ]
          },
          "metadata": {
            "tags": []
          },
          "execution_count": 73
        }
      ]
    },
    {
      "cell_type": "markdown",
      "metadata": {
        "id": "kOQyEVdvqsUd"
      },
      "source": [
        "### Select KBEST"
      ]
    },
    {
      "cell_type": "markdown",
      "metadata": {
        "id": "5Pe6I9h1qsUd"
      },
      "source": [
        "OBJETIVO - PREDECIR EL PRECIO DE ARTICULOS EN EL MERCADO A PARTIR DE SUS CARACTERISTICASm"
      ]
    },
    {
      "cell_type": "markdown",
      "metadata": {
        "id": "iB2zNTsLqsUd"
      },
      "source": [
        "https://portal.uah.es/portal/page/portal/epd2_asignaturas/asig202218/informacion_academica/2-Modelos%20lineales.pdf"
      ]
    },
    {
      "cell_type": "markdown",
      "metadata": {
        "id": "jurlZS3QqsUd"
      },
      "source": [
        "https://scikit-learn.org/stable/modules/generated/sklearn.feature_selection.SelectKBest.html"
      ]
    },
    {
      "cell_type": "markdown",
      "metadata": {
        "id": "yyXWI8VaqsUe"
      },
      "source": [
        "Score function:\n",
        "- For regression: f_regression, mutual_info_regression\n",
        "- For classification: chi2, f_classif, mutual_info_classif"
      ]
    },
    {
      "cell_type": "markdown",
      "metadata": {
        "id": "hlL9ZiKDqsUe"
      },
      "source": [
        "**f_regression**\n",
        "- Pruebas de regresión lineal univariante.\n",
        "\n",
        "- Modelo lineal para probar el efecto individual de cada uno de los muchos regresores. Esta es una función de puntuación que se utilizará en un procedimiento de selección de características, no un procedimiento de selección de características independiente.\n",
        "\n",
        "- Esto se hace en 2 pasos:\n",
        "\n",
        "- Se calcula la correlación entre cada regresor y el objetivo, es decir, ((X [:, i] - mean (X [:, i])) * (y - mean_y)) / (std (X [:, i] ) * estándar (y)).\n",
        "\n",
        "- Se convierte en una puntuación F y luego en un valor p.\n",
        "\n"
      ]
    },
    {
      "cell_type": "code",
      "metadata": {
        "ExecuteTime": {
          "end_time": "2020-11-14T05:15:34.052383Z",
          "start_time": "2020-11-14T05:15:34.034942Z"
        },
        "id": "9H5Cv78QqsUe"
      },
      "source": [
        "from sklearn.feature_selection import SelectKBest,f_regression"
      ],
      "execution_count": 74,
      "outputs": []
    },
    {
      "cell_type": "code",
      "metadata": {
        "ExecuteTime": {
          "end_time": "2020-11-14T05:15:34.547872Z",
          "start_time": "2020-11-14T05:15:34.453626Z"
        },
        "id": "b3hNzacMqsUf",
        "colab": {
          "base_uri": "https://localhost:8080/",
          "height": 427
        },
        "outputId": "2905280b-72b0-481b-e1eb-881dd9ccc360"
      },
      "source": [
        "X_train"
      ],
      "execution_count": 75,
      "outputs": [
        {
          "output_type": "execute_result",
          "data": {
            "text/html": [
              "<div>\n",
              "<style scoped>\n",
              "    .dataframe tbody tr th:only-of-type {\n",
              "        vertical-align: middle;\n",
              "    }\n",
              "\n",
              "    .dataframe tbody tr th {\n",
              "        vertical-align: top;\n",
              "    }\n",
              "\n",
              "    .dataframe thead th {\n",
              "        text-align: right;\n",
              "    }\n",
              "</style>\n",
              "<table border=\"1\" class=\"dataframe\">\n",
              "  <thead>\n",
              "    <tr style=\"text-align: right;\">\n",
              "      <th></th>\n",
              "      <th>Item_Weight</th>\n",
              "      <th>Item_Visibility</th>\n",
              "      <th>Item_MRP</th>\n",
              "      <th>Item_Fat_Content_LF</th>\n",
              "      <th>Item_Fat_Content_Low Fat</th>\n",
              "      <th>Item_Fat_Content_Regular</th>\n",
              "      <th>Item_Fat_Content_low fat</th>\n",
              "      <th>Item_Type_Baking Goods</th>\n",
              "      <th>Item_Type_Breads</th>\n",
              "      <th>Item_Type_Breakfast</th>\n",
              "      <th>Item_Type_Canned</th>\n",
              "      <th>Item_Type_Dairy</th>\n",
              "      <th>Item_Type_Frozen Foods</th>\n",
              "      <th>Item_Type_Fruits and Vegetables</th>\n",
              "      <th>Item_Type_Hard Drinks</th>\n",
              "      <th>Item_Type_Health and Hygiene</th>\n",
              "      <th>Item_Type_Household</th>\n",
              "      <th>Item_Type_Meat</th>\n",
              "      <th>Item_Type_Others</th>\n",
              "      <th>Item_Type_Seafood</th>\n",
              "      <th>Item_Type_Snack Foods</th>\n",
              "      <th>Item_Type_Soft Drinks</th>\n",
              "      <th>Outlet_Size_High</th>\n",
              "      <th>Outlet_Size_Medium</th>\n",
              "      <th>Outlet_Location_Type_Tier 1</th>\n",
              "      <th>Outlet_Location_Type_Tier 2</th>\n",
              "      <th>Outlet_Type_Grocery Store</th>\n",
              "      <th>Outlet_Type_Supermarket Type1</th>\n",
              "      <th>Outlet_Type_Supermarket Type2</th>\n",
              "    </tr>\n",
              "  </thead>\n",
              "  <tbody>\n",
              "    <tr>\n",
              "      <th>6939</th>\n",
              "      <td>17.350</td>\n",
              "      <td>0.014722</td>\n",
              "      <td>73.1038</td>\n",
              "      <td>0</td>\n",
              "      <td>1</td>\n",
              "      <td>0</td>\n",
              "      <td>0</td>\n",
              "      <td>0</td>\n",
              "      <td>0</td>\n",
              "      <td>0</td>\n",
              "      <td>0</td>\n",
              "      <td>0</td>\n",
              "      <td>1</td>\n",
              "      <td>0</td>\n",
              "      <td>0</td>\n",
              "      <td>0</td>\n",
              "      <td>0</td>\n",
              "      <td>0</td>\n",
              "      <td>0</td>\n",
              "      <td>0</td>\n",
              "      <td>0</td>\n",
              "      <td>0</td>\n",
              "      <td>0</td>\n",
              "      <td>1</td>\n",
              "      <td>0</td>\n",
              "      <td>1</td>\n",
              "      <td>0</td>\n",
              "      <td>1</td>\n",
              "      <td>0</td>\n",
              "    </tr>\n",
              "    <tr>\n",
              "      <th>1917</th>\n",
              "      <td>15.600</td>\n",
              "      <td>0.037764</td>\n",
              "      <td>124.9704</td>\n",
              "      <td>0</td>\n",
              "      <td>1</td>\n",
              "      <td>0</td>\n",
              "      <td>0</td>\n",
              "      <td>0</td>\n",
              "      <td>0</td>\n",
              "      <td>0</td>\n",
              "      <td>0</td>\n",
              "      <td>0</td>\n",
              "      <td>0</td>\n",
              "      <td>0</td>\n",
              "      <td>0</td>\n",
              "      <td>0</td>\n",
              "      <td>0</td>\n",
              "      <td>0</td>\n",
              "      <td>0</td>\n",
              "      <td>0</td>\n",
              "      <td>1</td>\n",
              "      <td>0</td>\n",
              "      <td>0</td>\n",
              "      <td>1</td>\n",
              "      <td>0</td>\n",
              "      <td>1</td>\n",
              "      <td>0</td>\n",
              "      <td>1</td>\n",
              "      <td>0</td>\n",
              "    </tr>\n",
              "    <tr>\n",
              "      <th>599</th>\n",
              "      <td>5.000</td>\n",
              "      <td>0.044005</td>\n",
              "      <td>188.8530</td>\n",
              "      <td>0</td>\n",
              "      <td>1</td>\n",
              "      <td>0</td>\n",
              "      <td>0</td>\n",
              "      <td>0</td>\n",
              "      <td>0</td>\n",
              "      <td>0</td>\n",
              "      <td>0</td>\n",
              "      <td>0</td>\n",
              "      <td>0</td>\n",
              "      <td>0</td>\n",
              "      <td>0</td>\n",
              "      <td>0</td>\n",
              "      <td>0</td>\n",
              "      <td>0</td>\n",
              "      <td>0</td>\n",
              "      <td>0</td>\n",
              "      <td>0</td>\n",
              "      <td>1</td>\n",
              "      <td>0</td>\n",
              "      <td>0</td>\n",
              "      <td>1</td>\n",
              "      <td>0</td>\n",
              "      <td>0</td>\n",
              "      <td>1</td>\n",
              "      <td>0</td>\n",
              "    </tr>\n",
              "    <tr>\n",
              "      <th>5933</th>\n",
              "      <td>12.500</td>\n",
              "      <td>0.007180</td>\n",
              "      <td>47.4034</td>\n",
              "      <td>0</td>\n",
              "      <td>1</td>\n",
              "      <td>0</td>\n",
              "      <td>0</td>\n",
              "      <td>1</td>\n",
              "      <td>0</td>\n",
              "      <td>0</td>\n",
              "      <td>0</td>\n",
              "      <td>0</td>\n",
              "      <td>0</td>\n",
              "      <td>0</td>\n",
              "      <td>0</td>\n",
              "      <td>0</td>\n",
              "      <td>0</td>\n",
              "      <td>0</td>\n",
              "      <td>0</td>\n",
              "      <td>0</td>\n",
              "      <td>0</td>\n",
              "      <td>0</td>\n",
              "      <td>0</td>\n",
              "      <td>1</td>\n",
              "      <td>0</td>\n",
              "      <td>0</td>\n",
              "      <td>0</td>\n",
              "      <td>0</td>\n",
              "      <td>0</td>\n",
              "    </tr>\n",
              "    <tr>\n",
              "      <th>10282</th>\n",
              "      <td>8.235</td>\n",
              "      <td>0.082412</td>\n",
              "      <td>148.5076</td>\n",
              "      <td>0</td>\n",
              "      <td>1</td>\n",
              "      <td>0</td>\n",
              "      <td>0</td>\n",
              "      <td>1</td>\n",
              "      <td>0</td>\n",
              "      <td>0</td>\n",
              "      <td>0</td>\n",
              "      <td>0</td>\n",
              "      <td>0</td>\n",
              "      <td>0</td>\n",
              "      <td>0</td>\n",
              "      <td>0</td>\n",
              "      <td>0</td>\n",
              "      <td>0</td>\n",
              "      <td>0</td>\n",
              "      <td>0</td>\n",
              "      <td>0</td>\n",
              "      <td>0</td>\n",
              "      <td>0</td>\n",
              "      <td>0</td>\n",
              "      <td>0</td>\n",
              "      <td>1</td>\n",
              "      <td>0</td>\n",
              "      <td>1</td>\n",
              "      <td>0</td>\n",
              "    </tr>\n",
              "    <tr>\n",
              "      <th>...</th>\n",
              "      <td>...</td>\n",
              "      <td>...</td>\n",
              "      <td>...</td>\n",
              "      <td>...</td>\n",
              "      <td>...</td>\n",
              "      <td>...</td>\n",
              "      <td>...</td>\n",
              "      <td>...</td>\n",
              "      <td>...</td>\n",
              "      <td>...</td>\n",
              "      <td>...</td>\n",
              "      <td>...</td>\n",
              "      <td>...</td>\n",
              "      <td>...</td>\n",
              "      <td>...</td>\n",
              "      <td>...</td>\n",
              "      <td>...</td>\n",
              "      <td>...</td>\n",
              "      <td>...</td>\n",
              "      <td>...</td>\n",
              "      <td>...</td>\n",
              "      <td>...</td>\n",
              "      <td>...</td>\n",
              "      <td>...</td>\n",
              "      <td>...</td>\n",
              "      <td>...</td>\n",
              "      <td>...</td>\n",
              "      <td>...</td>\n",
              "      <td>...</td>\n",
              "    </tr>\n",
              "    <tr>\n",
              "      <th>12071</th>\n",
              "      <td>12.650</td>\n",
              "      <td>0.042450</td>\n",
              "      <td>107.3938</td>\n",
              "      <td>0</td>\n",
              "      <td>1</td>\n",
              "      <td>0</td>\n",
              "      <td>0</td>\n",
              "      <td>0</td>\n",
              "      <td>0</td>\n",
              "      <td>0</td>\n",
              "      <td>0</td>\n",
              "      <td>0</td>\n",
              "      <td>0</td>\n",
              "      <td>0</td>\n",
              "      <td>0</td>\n",
              "      <td>0</td>\n",
              "      <td>1</td>\n",
              "      <td>0</td>\n",
              "      <td>0</td>\n",
              "      <td>0</td>\n",
              "      <td>0</td>\n",
              "      <td>0</td>\n",
              "      <td>0</td>\n",
              "      <td>1</td>\n",
              "      <td>0</td>\n",
              "      <td>1</td>\n",
              "      <td>0</td>\n",
              "      <td>1</td>\n",
              "      <td>0</td>\n",
              "    </tr>\n",
              "    <tr>\n",
              "      <th>1794</th>\n",
              "      <td>7.300</td>\n",
              "      <td>0.086061</td>\n",
              "      <td>149.8076</td>\n",
              "      <td>0</td>\n",
              "      <td>1</td>\n",
              "      <td>0</td>\n",
              "      <td>0</td>\n",
              "      <td>0</td>\n",
              "      <td>0</td>\n",
              "      <td>0</td>\n",
              "      <td>0</td>\n",
              "      <td>0</td>\n",
              "      <td>1</td>\n",
              "      <td>0</td>\n",
              "      <td>0</td>\n",
              "      <td>0</td>\n",
              "      <td>0</td>\n",
              "      <td>0</td>\n",
              "      <td>0</td>\n",
              "      <td>0</td>\n",
              "      <td>0</td>\n",
              "      <td>0</td>\n",
              "      <td>1</td>\n",
              "      <td>0</td>\n",
              "      <td>0</td>\n",
              "      <td>0</td>\n",
              "      <td>0</td>\n",
              "      <td>1</td>\n",
              "      <td>0</td>\n",
              "    </tr>\n",
              "    <tr>\n",
              "      <th>10823</th>\n",
              "      <td>20.200</td>\n",
              "      <td>0.100068</td>\n",
              "      <td>186.8898</td>\n",
              "      <td>0</td>\n",
              "      <td>1</td>\n",
              "      <td>0</td>\n",
              "      <td>0</td>\n",
              "      <td>0</td>\n",
              "      <td>0</td>\n",
              "      <td>0</td>\n",
              "      <td>0</td>\n",
              "      <td>0</td>\n",
              "      <td>0</td>\n",
              "      <td>0</td>\n",
              "      <td>0</td>\n",
              "      <td>0</td>\n",
              "      <td>1</td>\n",
              "      <td>0</td>\n",
              "      <td>0</td>\n",
              "      <td>0</td>\n",
              "      <td>0</td>\n",
              "      <td>0</td>\n",
              "      <td>0</td>\n",
              "      <td>1</td>\n",
              "      <td>1</td>\n",
              "      <td>0</td>\n",
              "      <td>0</td>\n",
              "      <td>1</td>\n",
              "      <td>0</td>\n",
              "    </tr>\n",
              "    <tr>\n",
              "      <th>441</th>\n",
              "      <td>12.850</td>\n",
              "      <td>0.022604</td>\n",
              "      <td>181.4318</td>\n",
              "      <td>0</td>\n",
              "      <td>1</td>\n",
              "      <td>0</td>\n",
              "      <td>0</td>\n",
              "      <td>0</td>\n",
              "      <td>0</td>\n",
              "      <td>0</td>\n",
              "      <td>0</td>\n",
              "      <td>0</td>\n",
              "      <td>0</td>\n",
              "      <td>1</td>\n",
              "      <td>0</td>\n",
              "      <td>0</td>\n",
              "      <td>0</td>\n",
              "      <td>0</td>\n",
              "      <td>0</td>\n",
              "      <td>0</td>\n",
              "      <td>0</td>\n",
              "      <td>0</td>\n",
              "      <td>0</td>\n",
              "      <td>0</td>\n",
              "      <td>1</td>\n",
              "      <td>0</td>\n",
              "      <td>0</td>\n",
              "      <td>1</td>\n",
              "      <td>0</td>\n",
              "    </tr>\n",
              "    <tr>\n",
              "      <th>4265</th>\n",
              "      <td>15.350</td>\n",
              "      <td>0.023466</td>\n",
              "      <td>35.2190</td>\n",
              "      <td>0</td>\n",
              "      <td>1</td>\n",
              "      <td>0</td>\n",
              "      <td>0</td>\n",
              "      <td>0</td>\n",
              "      <td>0</td>\n",
              "      <td>0</td>\n",
              "      <td>0</td>\n",
              "      <td>0</td>\n",
              "      <td>1</td>\n",
              "      <td>0</td>\n",
              "      <td>0</td>\n",
              "      <td>0</td>\n",
              "      <td>0</td>\n",
              "      <td>0</td>\n",
              "      <td>0</td>\n",
              "      <td>0</td>\n",
              "      <td>0</td>\n",
              "      <td>0</td>\n",
              "      <td>0</td>\n",
              "      <td>1</td>\n",
              "      <td>0</td>\n",
              "      <td>0</td>\n",
              "      <td>1</td>\n",
              "      <td>0</td>\n",
              "      <td>0</td>\n",
              "    </tr>\n",
              "  </tbody>\n",
              "</table>\n",
              "<p>10653 rows × 29 columns</p>\n",
              "</div>"
            ],
            "text/plain": [
              "       Item_Weight  Item_Visibility  Item_MRP  Item_Fat_Content_LF  \\\n",
              "6939        17.350         0.014722   73.1038                    0   \n",
              "1917        15.600         0.037764  124.9704                    0   \n",
              "599          5.000         0.044005  188.8530                    0   \n",
              "5933        12.500         0.007180   47.4034                    0   \n",
              "10282        8.235         0.082412  148.5076                    0   \n",
              "...            ...              ...       ...                  ...   \n",
              "12071       12.650         0.042450  107.3938                    0   \n",
              "1794         7.300         0.086061  149.8076                    0   \n",
              "10823       20.200         0.100068  186.8898                    0   \n",
              "441         12.850         0.022604  181.4318                    0   \n",
              "4265        15.350         0.023466   35.2190                    0   \n",
              "\n",
              "       Item_Fat_Content_Low Fat  Item_Fat_Content_Regular  \\\n",
              "6939                          1                         0   \n",
              "1917                          1                         0   \n",
              "599                           1                         0   \n",
              "5933                          1                         0   \n",
              "10282                         1                         0   \n",
              "...                         ...                       ...   \n",
              "12071                         1                         0   \n",
              "1794                          1                         0   \n",
              "10823                         1                         0   \n",
              "441                           1                         0   \n",
              "4265                          1                         0   \n",
              "\n",
              "       Item_Fat_Content_low fat  Item_Type_Baking Goods  Item_Type_Breads  \\\n",
              "6939                          0                       0                 0   \n",
              "1917                          0                       0                 0   \n",
              "599                           0                       0                 0   \n",
              "5933                          0                       1                 0   \n",
              "10282                         0                       1                 0   \n",
              "...                         ...                     ...               ...   \n",
              "12071                         0                       0                 0   \n",
              "1794                          0                       0                 0   \n",
              "10823                         0                       0                 0   \n",
              "441                           0                       0                 0   \n",
              "4265                          0                       0                 0   \n",
              "\n",
              "       Item_Type_Breakfast  Item_Type_Canned  Item_Type_Dairy  \\\n",
              "6939                     0                 0                0   \n",
              "1917                     0                 0                0   \n",
              "599                      0                 0                0   \n",
              "5933                     0                 0                0   \n",
              "10282                    0                 0                0   \n",
              "...                    ...               ...              ...   \n",
              "12071                    0                 0                0   \n",
              "1794                     0                 0                0   \n",
              "10823                    0                 0                0   \n",
              "441                      0                 0                0   \n",
              "4265                     0                 0                0   \n",
              "\n",
              "       Item_Type_Frozen Foods  Item_Type_Fruits and Vegetables  \\\n",
              "6939                        1                                0   \n",
              "1917                        0                                0   \n",
              "599                         0                                0   \n",
              "5933                        0                                0   \n",
              "10282                       0                                0   \n",
              "...                       ...                              ...   \n",
              "12071                       0                                0   \n",
              "1794                        1                                0   \n",
              "10823                       0                                0   \n",
              "441                         0                                1   \n",
              "4265                        1                                0   \n",
              "\n",
              "       Item_Type_Hard Drinks  Item_Type_Health and Hygiene  \\\n",
              "6939                       0                             0   \n",
              "1917                       0                             0   \n",
              "599                        0                             0   \n",
              "5933                       0                             0   \n",
              "10282                      0                             0   \n",
              "...                      ...                           ...   \n",
              "12071                      0                             0   \n",
              "1794                       0                             0   \n",
              "10823                      0                             0   \n",
              "441                        0                             0   \n",
              "4265                       0                             0   \n",
              "\n",
              "       Item_Type_Household  Item_Type_Meat  Item_Type_Others  \\\n",
              "6939                     0               0                 0   \n",
              "1917                     0               0                 0   \n",
              "599                      0               0                 0   \n",
              "5933                     0               0                 0   \n",
              "10282                    0               0                 0   \n",
              "...                    ...             ...               ...   \n",
              "12071                    1               0                 0   \n",
              "1794                     0               0                 0   \n",
              "10823                    1               0                 0   \n",
              "441                      0               0                 0   \n",
              "4265                     0               0                 0   \n",
              "\n",
              "       Item_Type_Seafood  Item_Type_Snack Foods  Item_Type_Soft Drinks  \\\n",
              "6939                   0                      0                      0   \n",
              "1917                   0                      1                      0   \n",
              "599                    0                      0                      1   \n",
              "5933                   0                      0                      0   \n",
              "10282                  0                      0                      0   \n",
              "...                  ...                    ...                    ...   \n",
              "12071                  0                      0                      0   \n",
              "1794                   0                      0                      0   \n",
              "10823                  0                      0                      0   \n",
              "441                    0                      0                      0   \n",
              "4265                   0                      0                      0   \n",
              "\n",
              "       Outlet_Size_High  Outlet_Size_Medium  Outlet_Location_Type_Tier 1  \\\n",
              "6939                  0                   1                            0   \n",
              "1917                  0                   1                            0   \n",
              "599                   0                   0                            1   \n",
              "5933                  0                   1                            0   \n",
              "10282                 0                   0                            0   \n",
              "...                 ...                 ...                          ...   \n",
              "12071                 0                   1                            0   \n",
              "1794                  1                   0                            0   \n",
              "10823                 0                   1                            1   \n",
              "441                   0                   0                            1   \n",
              "4265                  0                   1                            0   \n",
              "\n",
              "       Outlet_Location_Type_Tier 2  Outlet_Type_Grocery Store  \\\n",
              "6939                             1                          0   \n",
              "1917                             1                          0   \n",
              "599                              0                          0   \n",
              "5933                             0                          0   \n",
              "10282                            1                          0   \n",
              "...                            ...                        ...   \n",
              "12071                            1                          0   \n",
              "1794                             0                          0   \n",
              "10823                            0                          0   \n",
              "441                              0                          0   \n",
              "4265                             0                          1   \n",
              "\n",
              "       Outlet_Type_Supermarket Type1  Outlet_Type_Supermarket Type2  \n",
              "6939                               1                              0  \n",
              "1917                               1                              0  \n",
              "599                                1                              0  \n",
              "5933                               0                              0  \n",
              "10282                              1                              0  \n",
              "...                              ...                            ...  \n",
              "12071                              1                              0  \n",
              "1794                               1                              0  \n",
              "10823                              1                              0  \n",
              "441                                1                              0  \n",
              "4265                               0                              0  \n",
              "\n",
              "[10653 rows x 29 columns]"
            ]
          },
          "metadata": {
            "tags": []
          },
          "execution_count": 75
        }
      ]
    },
    {
      "cell_type": "code",
      "metadata": {
        "ExecuteTime": {
          "end_time": "2020-11-14T05:15:34.866794Z",
          "start_time": "2020-11-14T05:15:34.859366Z"
        },
        "id": "KAJaNklZqsUf"
      },
      "source": [
        "kb = SelectKBest(f_regression, k=20)"
      ],
      "execution_count": 76,
      "outputs": []
    },
    {
      "cell_type": "code",
      "metadata": {
        "ExecuteTime": {
          "end_time": "2020-11-14T05:15:35.396684Z",
          "start_time": "2020-11-14T05:15:35.321599Z"
        },
        "id": "JqZBFVEtqsUg"
      },
      "source": [
        "X_new=kb.fit_transform(X_train, y_train)"
      ],
      "execution_count": 77,
      "outputs": []
    },
    {
      "cell_type": "code",
      "metadata": {
        "ExecuteTime": {
          "end_time": "2020-11-14T05:15:35.833254Z",
          "start_time": "2020-11-14T05:15:35.823231Z"
        },
        "id": "jVT3qkugqsUg",
        "colab": {
          "base_uri": "https://localhost:8080/"
        },
        "outputId": "c88eea00-1fdc-40a0-8e48-d8e993ef3e61"
      },
      "source": [
        "X_new.shape"
      ],
      "execution_count": 78,
      "outputs": [
        {
          "output_type": "execute_result",
          "data": {
            "text/plain": [
              "(10653, 20)"
            ]
          },
          "metadata": {
            "tags": []
          },
          "execution_count": 78
        }
      ]
    },
    {
      "cell_type": "code",
      "metadata": {
        "ExecuteTime": {
          "end_time": "2020-11-14T05:15:36.350845Z",
          "start_time": "2020-11-14T05:15:36.338847Z"
        },
        "id": "WWlREcXgqsUg",
        "colab": {
          "base_uri": "https://localhost:8080/"
        },
        "outputId": "cce22dd0-d267-4325-af3a-b08d1651ea07"
      },
      "source": [
        "X_train.columns[kb.get_support()]"
      ],
      "execution_count": 79,
      "outputs": [
        {
          "output_type": "execute_result",
          "data": {
            "text/plain": [
              "Index(['Item_Visibility', 'Item_MRP', 'Item_Fat_Content_LF',\n",
              "       'Item_Fat_Content_Regular', 'Item_Type_Baking Goods',\n",
              "       'Item_Type_Breakfast', 'Item_Type_Fruits and Vegetables',\n",
              "       'Item_Type_Health and Hygiene', 'Item_Type_Household',\n",
              "       'Item_Type_Others', 'Item_Type_Seafood', 'Item_Type_Snack Foods',\n",
              "       'Item_Type_Soft Drinks', 'Outlet_Size_High', 'Outlet_Size_Medium',\n",
              "       'Outlet_Location_Type_Tier 1', 'Outlet_Location_Type_Tier 2',\n",
              "       'Outlet_Type_Grocery Store', 'Outlet_Type_Supermarket Type1',\n",
              "       'Outlet_Type_Supermarket Type2'],\n",
              "      dtype='object')"
            ]
          },
          "metadata": {
            "tags": []
          },
          "execution_count": 79
        }
      ]
    },
    {
      "cell_type": "code",
      "metadata": {
        "ExecuteTime": {
          "end_time": "2020-11-14T05:15:38.602079Z",
          "start_time": "2020-11-14T05:15:38.514762Z"
        },
        "id": "VzqElpxkqsUh",
        "colab": {
          "base_uri": "https://localhost:8080/",
          "height": 391
        },
        "outputId": "e8eab10a-aa89-401c-b765-491dbcea3a1a"
      },
      "source": [
        "pd.DataFrame(X_new)"
      ],
      "execution_count": 80,
      "outputs": [
        {
          "output_type": "execute_result",
          "data": {
            "text/html": [
              "<div>\n",
              "<style scoped>\n",
              "    .dataframe tbody tr th:only-of-type {\n",
              "        vertical-align: middle;\n",
              "    }\n",
              "\n",
              "    .dataframe tbody tr th {\n",
              "        vertical-align: top;\n",
              "    }\n",
              "\n",
              "    .dataframe thead th {\n",
              "        text-align: right;\n",
              "    }\n",
              "</style>\n",
              "<table border=\"1\" class=\"dataframe\">\n",
              "  <thead>\n",
              "    <tr style=\"text-align: right;\">\n",
              "      <th></th>\n",
              "      <th>0</th>\n",
              "      <th>1</th>\n",
              "      <th>2</th>\n",
              "      <th>3</th>\n",
              "      <th>4</th>\n",
              "      <th>5</th>\n",
              "      <th>6</th>\n",
              "      <th>7</th>\n",
              "      <th>8</th>\n",
              "      <th>9</th>\n",
              "      <th>10</th>\n",
              "      <th>11</th>\n",
              "      <th>12</th>\n",
              "      <th>13</th>\n",
              "      <th>14</th>\n",
              "      <th>15</th>\n",
              "      <th>16</th>\n",
              "      <th>17</th>\n",
              "      <th>18</th>\n",
              "      <th>19</th>\n",
              "    </tr>\n",
              "  </thead>\n",
              "  <tbody>\n",
              "    <tr>\n",
              "      <th>0</th>\n",
              "      <td>0.014722</td>\n",
              "      <td>73.1038</td>\n",
              "      <td>0.0</td>\n",
              "      <td>0.0</td>\n",
              "      <td>0.0</td>\n",
              "      <td>0.0</td>\n",
              "      <td>0.0</td>\n",
              "      <td>0.0</td>\n",
              "      <td>0.0</td>\n",
              "      <td>0.0</td>\n",
              "      <td>0.0</td>\n",
              "      <td>0.0</td>\n",
              "      <td>0.0</td>\n",
              "      <td>0.0</td>\n",
              "      <td>1.0</td>\n",
              "      <td>0.0</td>\n",
              "      <td>1.0</td>\n",
              "      <td>0.0</td>\n",
              "      <td>1.0</td>\n",
              "      <td>0.0</td>\n",
              "    </tr>\n",
              "    <tr>\n",
              "      <th>1</th>\n",
              "      <td>0.037764</td>\n",
              "      <td>124.9704</td>\n",
              "      <td>0.0</td>\n",
              "      <td>0.0</td>\n",
              "      <td>0.0</td>\n",
              "      <td>0.0</td>\n",
              "      <td>0.0</td>\n",
              "      <td>0.0</td>\n",
              "      <td>0.0</td>\n",
              "      <td>0.0</td>\n",
              "      <td>0.0</td>\n",
              "      <td>1.0</td>\n",
              "      <td>0.0</td>\n",
              "      <td>0.0</td>\n",
              "      <td>1.0</td>\n",
              "      <td>0.0</td>\n",
              "      <td>1.0</td>\n",
              "      <td>0.0</td>\n",
              "      <td>1.0</td>\n",
              "      <td>0.0</td>\n",
              "    </tr>\n",
              "    <tr>\n",
              "      <th>2</th>\n",
              "      <td>0.044005</td>\n",
              "      <td>188.8530</td>\n",
              "      <td>0.0</td>\n",
              "      <td>0.0</td>\n",
              "      <td>0.0</td>\n",
              "      <td>0.0</td>\n",
              "      <td>0.0</td>\n",
              "      <td>0.0</td>\n",
              "      <td>0.0</td>\n",
              "      <td>0.0</td>\n",
              "      <td>0.0</td>\n",
              "      <td>0.0</td>\n",
              "      <td>1.0</td>\n",
              "      <td>0.0</td>\n",
              "      <td>0.0</td>\n",
              "      <td>1.0</td>\n",
              "      <td>0.0</td>\n",
              "      <td>0.0</td>\n",
              "      <td>1.0</td>\n",
              "      <td>0.0</td>\n",
              "    </tr>\n",
              "    <tr>\n",
              "      <th>3</th>\n",
              "      <td>0.007180</td>\n",
              "      <td>47.4034</td>\n",
              "      <td>0.0</td>\n",
              "      <td>0.0</td>\n",
              "      <td>1.0</td>\n",
              "      <td>0.0</td>\n",
              "      <td>0.0</td>\n",
              "      <td>0.0</td>\n",
              "      <td>0.0</td>\n",
              "      <td>0.0</td>\n",
              "      <td>0.0</td>\n",
              "      <td>0.0</td>\n",
              "      <td>0.0</td>\n",
              "      <td>0.0</td>\n",
              "      <td>1.0</td>\n",
              "      <td>0.0</td>\n",
              "      <td>0.0</td>\n",
              "      <td>0.0</td>\n",
              "      <td>0.0</td>\n",
              "      <td>0.0</td>\n",
              "    </tr>\n",
              "    <tr>\n",
              "      <th>4</th>\n",
              "      <td>0.082412</td>\n",
              "      <td>148.5076</td>\n",
              "      <td>0.0</td>\n",
              "      <td>0.0</td>\n",
              "      <td>1.0</td>\n",
              "      <td>0.0</td>\n",
              "      <td>0.0</td>\n",
              "      <td>0.0</td>\n",
              "      <td>0.0</td>\n",
              "      <td>0.0</td>\n",
              "      <td>0.0</td>\n",
              "      <td>0.0</td>\n",
              "      <td>0.0</td>\n",
              "      <td>0.0</td>\n",
              "      <td>0.0</td>\n",
              "      <td>0.0</td>\n",
              "      <td>1.0</td>\n",
              "      <td>0.0</td>\n",
              "      <td>1.0</td>\n",
              "      <td>0.0</td>\n",
              "    </tr>\n",
              "    <tr>\n",
              "      <th>...</th>\n",
              "      <td>...</td>\n",
              "      <td>...</td>\n",
              "      <td>...</td>\n",
              "      <td>...</td>\n",
              "      <td>...</td>\n",
              "      <td>...</td>\n",
              "      <td>...</td>\n",
              "      <td>...</td>\n",
              "      <td>...</td>\n",
              "      <td>...</td>\n",
              "      <td>...</td>\n",
              "      <td>...</td>\n",
              "      <td>...</td>\n",
              "      <td>...</td>\n",
              "      <td>...</td>\n",
              "      <td>...</td>\n",
              "      <td>...</td>\n",
              "      <td>...</td>\n",
              "      <td>...</td>\n",
              "      <td>...</td>\n",
              "    </tr>\n",
              "    <tr>\n",
              "      <th>10648</th>\n",
              "      <td>0.042450</td>\n",
              "      <td>107.3938</td>\n",
              "      <td>0.0</td>\n",
              "      <td>0.0</td>\n",
              "      <td>0.0</td>\n",
              "      <td>0.0</td>\n",
              "      <td>0.0</td>\n",
              "      <td>0.0</td>\n",
              "      <td>1.0</td>\n",
              "      <td>0.0</td>\n",
              "      <td>0.0</td>\n",
              "      <td>0.0</td>\n",
              "      <td>0.0</td>\n",
              "      <td>0.0</td>\n",
              "      <td>1.0</td>\n",
              "      <td>0.0</td>\n",
              "      <td>1.0</td>\n",
              "      <td>0.0</td>\n",
              "      <td>1.0</td>\n",
              "      <td>0.0</td>\n",
              "    </tr>\n",
              "    <tr>\n",
              "      <th>10649</th>\n",
              "      <td>0.086061</td>\n",
              "      <td>149.8076</td>\n",
              "      <td>0.0</td>\n",
              "      <td>0.0</td>\n",
              "      <td>0.0</td>\n",
              "      <td>0.0</td>\n",
              "      <td>0.0</td>\n",
              "      <td>0.0</td>\n",
              "      <td>0.0</td>\n",
              "      <td>0.0</td>\n",
              "      <td>0.0</td>\n",
              "      <td>0.0</td>\n",
              "      <td>0.0</td>\n",
              "      <td>1.0</td>\n",
              "      <td>0.0</td>\n",
              "      <td>0.0</td>\n",
              "      <td>0.0</td>\n",
              "      <td>0.0</td>\n",
              "      <td>1.0</td>\n",
              "      <td>0.0</td>\n",
              "    </tr>\n",
              "    <tr>\n",
              "      <th>10650</th>\n",
              "      <td>0.100068</td>\n",
              "      <td>186.8898</td>\n",
              "      <td>0.0</td>\n",
              "      <td>0.0</td>\n",
              "      <td>0.0</td>\n",
              "      <td>0.0</td>\n",
              "      <td>0.0</td>\n",
              "      <td>0.0</td>\n",
              "      <td>1.0</td>\n",
              "      <td>0.0</td>\n",
              "      <td>0.0</td>\n",
              "      <td>0.0</td>\n",
              "      <td>0.0</td>\n",
              "      <td>0.0</td>\n",
              "      <td>1.0</td>\n",
              "      <td>1.0</td>\n",
              "      <td>0.0</td>\n",
              "      <td>0.0</td>\n",
              "      <td>1.0</td>\n",
              "      <td>0.0</td>\n",
              "    </tr>\n",
              "    <tr>\n",
              "      <th>10651</th>\n",
              "      <td>0.022604</td>\n",
              "      <td>181.4318</td>\n",
              "      <td>0.0</td>\n",
              "      <td>0.0</td>\n",
              "      <td>0.0</td>\n",
              "      <td>0.0</td>\n",
              "      <td>1.0</td>\n",
              "      <td>0.0</td>\n",
              "      <td>0.0</td>\n",
              "      <td>0.0</td>\n",
              "      <td>0.0</td>\n",
              "      <td>0.0</td>\n",
              "      <td>0.0</td>\n",
              "      <td>0.0</td>\n",
              "      <td>0.0</td>\n",
              "      <td>1.0</td>\n",
              "      <td>0.0</td>\n",
              "      <td>0.0</td>\n",
              "      <td>1.0</td>\n",
              "      <td>0.0</td>\n",
              "    </tr>\n",
              "    <tr>\n",
              "      <th>10652</th>\n",
              "      <td>0.023466</td>\n",
              "      <td>35.2190</td>\n",
              "      <td>0.0</td>\n",
              "      <td>0.0</td>\n",
              "      <td>0.0</td>\n",
              "      <td>0.0</td>\n",
              "      <td>0.0</td>\n",
              "      <td>0.0</td>\n",
              "      <td>0.0</td>\n",
              "      <td>0.0</td>\n",
              "      <td>0.0</td>\n",
              "      <td>0.0</td>\n",
              "      <td>0.0</td>\n",
              "      <td>0.0</td>\n",
              "      <td>1.0</td>\n",
              "      <td>0.0</td>\n",
              "      <td>0.0</td>\n",
              "      <td>1.0</td>\n",
              "      <td>0.0</td>\n",
              "      <td>0.0</td>\n",
              "    </tr>\n",
              "  </tbody>\n",
              "</table>\n",
              "<p>10653 rows × 20 columns</p>\n",
              "</div>"
            ],
            "text/plain": [
              "             0         1    2    3    4    5    6    7    8    9    10   11  \\\n",
              "0      0.014722   73.1038  0.0  0.0  0.0  0.0  0.0  0.0  0.0  0.0  0.0  0.0   \n",
              "1      0.037764  124.9704  0.0  0.0  0.0  0.0  0.0  0.0  0.0  0.0  0.0  1.0   \n",
              "2      0.044005  188.8530  0.0  0.0  0.0  0.0  0.0  0.0  0.0  0.0  0.0  0.0   \n",
              "3      0.007180   47.4034  0.0  0.0  1.0  0.0  0.0  0.0  0.0  0.0  0.0  0.0   \n",
              "4      0.082412  148.5076  0.0  0.0  1.0  0.0  0.0  0.0  0.0  0.0  0.0  0.0   \n",
              "...         ...       ...  ...  ...  ...  ...  ...  ...  ...  ...  ...  ...   \n",
              "10648  0.042450  107.3938  0.0  0.0  0.0  0.0  0.0  0.0  1.0  0.0  0.0  0.0   \n",
              "10649  0.086061  149.8076  0.0  0.0  0.0  0.0  0.0  0.0  0.0  0.0  0.0  0.0   \n",
              "10650  0.100068  186.8898  0.0  0.0  0.0  0.0  0.0  0.0  1.0  0.0  0.0  0.0   \n",
              "10651  0.022604  181.4318  0.0  0.0  0.0  0.0  1.0  0.0  0.0  0.0  0.0  0.0   \n",
              "10652  0.023466   35.2190  0.0  0.0  0.0  0.0  0.0  0.0  0.0  0.0  0.0  0.0   \n",
              "\n",
              "        12   13   14   15   16   17   18   19  \n",
              "0      0.0  0.0  1.0  0.0  1.0  0.0  1.0  0.0  \n",
              "1      0.0  0.0  1.0  0.0  1.0  0.0  1.0  0.0  \n",
              "2      1.0  0.0  0.0  1.0  0.0  0.0  1.0  0.0  \n",
              "3      0.0  0.0  1.0  0.0  0.0  0.0  0.0  0.0  \n",
              "4      0.0  0.0  0.0  0.0  1.0  0.0  1.0  0.0  \n",
              "...    ...  ...  ...  ...  ...  ...  ...  ...  \n",
              "10648  0.0  0.0  1.0  0.0  1.0  0.0  1.0  0.0  \n",
              "10649  0.0  1.0  0.0  0.0  0.0  0.0  1.0  0.0  \n",
              "10650  0.0  0.0  1.0  1.0  0.0  0.0  1.0  0.0  \n",
              "10651  0.0  0.0  0.0  1.0  0.0  0.0  1.0  0.0  \n",
              "10652  0.0  0.0  1.0  0.0  0.0  1.0  0.0  0.0  \n",
              "\n",
              "[10653 rows x 20 columns]"
            ]
          },
          "metadata": {
            "tags": []
          },
          "execution_count": 80
        }
      ]
    },
    {
      "cell_type": "code",
      "metadata": {
        "id": "yJl3vlxmqsUh"
      },
      "source": [
        ""
      ],
      "execution_count": null,
      "outputs": []
    }
  ]
}