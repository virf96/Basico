{
  "nbformat": 4,
  "nbformat_minor": 0,
  "metadata": {
    "kernelspec": {
      "display_name": "diplo_env",
      "language": "python",
      "name": "diplo_env"
    },
    "language_info": {
      "codemirror_mode": {
        "name": "ipython",
        "version": 3
      },
      "file_extension": ".py",
      "mimetype": "text/x-python",
      "name": "python",
      "nbconvert_exporter": "python",
      "pygments_lexer": "ipython3",
      "version": "3.6.11"
    },
    "varInspector": {
      "cols": {
        "lenName": 16,
        "lenType": 16,
        "lenVar": 40
      },
      "kernels_config": {
        "python": {
          "delete_cmd_postfix": "",
          "delete_cmd_prefix": "del ",
          "library": "var_list.py",
          "varRefreshCmd": "print(var_dic_list())"
        },
        "r": {
          "delete_cmd_postfix": ") ",
          "delete_cmd_prefix": "rm(",
          "library": "var_list.r",
          "varRefreshCmd": "cat(var_dic_list()) "
        }
      },
      "types_to_exclude": [
        "module",
        "function",
        "builtin_function_or_method",
        "instance",
        "_Feature"
      ],
      "window_display": false
    },
    "colab": {
      "name": "SPAM.ipynb",
      "provenance": [],
      "include_colab_link": true
    }
  },
  "cells": [
    {
      "cell_type": "markdown",
      "metadata": {
        "id": "view-in-github",
        "colab_type": "text"
      },
      "source": [
        "<a href=\"https://colab.research.google.com/github/virf96/Basico/blob/main/SPAM.ipynb\" target=\"_parent\"><img src=\"https://colab.research.google.com/assets/colab-badge.svg\" alt=\"Open In Colab\"/></a>"
      ]
    },
    {
      "cell_type": "code",
      "metadata": {
        "id": "Jaep-9ZBdTTu",
        "colab": {
          "base_uri": "https://localhost:8080/"
        },
        "outputId": "ec480cfd-211a-4f45-9697-3dc794c0e337"
      },
      "source": [
        "pip install emoji"
      ],
      "execution_count": 2,
      "outputs": [
        {
          "output_type": "stream",
          "text": [
            "Collecting emoji\n",
            "\u001b[?25l  Downloading https://files.pythonhosted.org/packages/79/0d/c06a34f306a219fd32b9d0297d999e3551d0ecee8190dce921602db4094c/emoji-1.1.0-py3-none-any.whl (132kB)\n",
            "\r\u001b[K     |██▌                             | 10kB 15.8MB/s eta 0:00:01\r\u001b[K     |█████                           | 20kB 10.6MB/s eta 0:00:01\r\u001b[K     |███████▍                        | 30kB 7.9MB/s eta 0:00:01\r\u001b[K     |█████████▉                      | 40kB 6.8MB/s eta 0:00:01\r\u001b[K     |████████████▍                   | 51kB 4.5MB/s eta 0:00:01\r\u001b[K     |██████████████▉                 | 61kB 4.8MB/s eta 0:00:01\r\u001b[K     |█████████████████▎              | 71kB 5.1MB/s eta 0:00:01\r\u001b[K     |███████████████████▊            | 81kB 5.3MB/s eta 0:00:01\r\u001b[K     |██████████████████████▎         | 92kB 4.9MB/s eta 0:00:01\r\u001b[K     |████████████████████████▊       | 102kB 5.2MB/s eta 0:00:01\r\u001b[K     |███████████████████████████▏    | 112kB 5.2MB/s eta 0:00:01\r\u001b[K     |█████████████████████████████▋  | 122kB 5.2MB/s eta 0:00:01\r\u001b[K     |████████████████████████████████| 133kB 5.2MB/s \n",
            "\u001b[?25hInstalling collected packages: emoji\n",
            "Successfully installed emoji-1.1.0\n"
          ],
          "name": "stdout"
        }
      ]
    },
    {
      "cell_type": "code",
      "metadata": {
        "ExecuteTime": {
          "end_time": "2021-01-23T16:09:49.143157Z",
          "start_time": "2021-01-23T16:09:49.124433Z"
        },
        "id": "rPXXzmP4PEZS"
      },
      "source": [
        "import os\n",
        "import re\n",
        "import emoji\n",
        "import numpy as np\n",
        "import unicodedata\n",
        "import pandas as pd\n",
        "from bs4 import BeautifulSoup\n",
        "from sklearn.metrics import roc_auc_score\n",
        "from nltk.corpus import stopwords\n",
        "from sklearn.linear_model import LogisticRegression\n",
        "from sklearn.feature_selection import SelectKBest, f_classif\n",
        "from sklearn.model_selection import cross_val_score, train_test_split\n",
        "from sklearn.feature_extraction.text import CountVectorizer, TfidfVectorizer"
      ],
      "execution_count": 3,
      "outputs": []
    },
    {
      "cell_type": "code",
      "metadata": {
        "ExecuteTime": {
          "end_time": "2021-01-23T04:25:24.937370Z",
          "start_time": "2021-01-23T04:25:24.931544Z"
        },
        "id": "B5_7PsmKPEZV"
      },
      "source": [
        "##quita acentos,vuelve todo a minúsculas y se quitan signos \n",
        "def clean_text(text):\n",
        "    res =  unicodedata.normalize('NFD', text).encode('ascii', 'ignore')\n",
        "    res = re.sub(\"[^a-zA-Z0-9 ]\",\" \", res.decode(\"utf-8\"), flags=re.UNICODE)\n",
        "    res =  u' '.join(res.lower().split())\n",
        "    return res"
      ],
      "execution_count": 4,
      "outputs": []
    },
    {
      "cell_type": "code",
      "metadata": {
        "ExecuteTime": {
          "end_time": "2021-01-23T16:13:15.342459Z",
          "start_time": "2021-01-23T16:13:15.331159Z"
        },
        "id": "kdIZ9otDPEZW",
        "colab": {
          "base_uri": "https://localhost:8080/",
          "height": 35
        },
        "outputId": "6776dc23-d7e0-4756-fd02-271ee9133e2b"
      },
      "source": [
        "clean_text('¿Qué es eso    ?')"
      ],
      "execution_count": 5,
      "outputs": [
        {
          "output_type": "execute_result",
          "data": {
            "application/vnd.google.colaboratory.intrinsic+json": {
              "type": "string"
            },
            "text/plain": [
              "'que es eso'"
            ]
          },
          "metadata": {
            "tags": []
          },
          "execution_count": 5
        }
      ]
    },
    {
      "cell_type": "code",
      "metadata": {
        "colab": {
          "base_uri": "https://localhost:8080/"
        },
        "id": "p8gZAK3gd42d",
        "outputId": "1e821bb5-0822-49a2-dcab-036f93dfbd70"
      },
      "source": [
        "from google.colab import drive\n",
        "drive.mount('/content/drive')"
      ],
      "execution_count": 7,
      "outputs": [
        {
          "output_type": "stream",
          "text": [
            "Mounted at /content/drive\n"
          ],
          "name": "stdout"
        }
      ]
    },
    {
      "cell_type": "code",
      "metadata": {
        "ExecuteTime": {
          "end_time": "2021-01-23T16:13:44.800533Z",
          "start_time": "2021-01-23T16:13:44.796889Z"
        },
        "id": "_QdWYSQxPEZX"
      },
      "source": [
        "from glob import glob"
      ],
      "execution_count": 6,
      "outputs": []
    },
    {
      "cell_type": "code",
      "metadata": {
        "ExecuteTime": {
          "end_time": "2021-01-23T16:13:49.381259Z",
          "start_time": "2021-01-23T16:13:49.373124Z"
        },
        "id": "tJ2zziKTPEZY"
      },
      "source": [
        "archivos_spam=glob('/content/drive/MyDrive/datasets/spam/*.csv')"
      ],
      "execution_count": 8,
      "outputs": []
    },
    {
      "cell_type": "code",
      "metadata": {
        "ExecuteTime": {
          "end_time": "2021-01-23T16:13:55.991185Z",
          "start_time": "2021-01-23T16:13:55.976923Z"
        },
        "id": "XOH0IBxcPEZZ",
        "colab": {
          "base_uri": "https://localhost:8080/"
        },
        "outputId": "f8946ec8-3f22-4e1b-a956-b8e620928cad"
      },
      "source": [
        "archivos_spam"
      ],
      "execution_count": 9,
      "outputs": [
        {
          "output_type": "execute_result",
          "data": {
            "text/plain": [
              "['/content/drive/MyDrive/datasets/spam/Youtube04-Eminem.csv',\n",
              " '/content/drive/MyDrive/datasets/spam/Youtube02-KatyPerry.csv',\n",
              " '/content/drive/MyDrive/datasets/spam/Youtube01-Psy.csv',\n",
              " '/content/drive/MyDrive/datasets/spam/Youtube05-Shakira.csv',\n",
              " '/content/drive/MyDrive/datasets/spam/Youtube03-LMFAO.csv']"
            ]
          },
          "metadata": {
            "tags": []
          },
          "execution_count": 9
        }
      ]
    },
    {
      "cell_type": "code",
      "metadata": {
        "ExecuteTime": {
          "end_time": "2021-01-23T04:25:27.411833Z",
          "start_time": "2021-01-23T04:25:27.400284Z"
        },
        "id": "O_C39jftPEZZ",
        "colab": {
          "base_uri": "https://localhost:8080/",
          "height": 35
        },
        "outputId": "b922bd1c-99ad-4e4e-a387-7408f18787a9"
      },
      "source": [
        "archivos_spam[0].split('-')[1].split('.')[0]"
      ],
      "execution_count": 10,
      "outputs": [
        {
          "output_type": "execute_result",
          "data": {
            "application/vnd.google.colaboratory.intrinsic+json": {
              "type": "string"
            },
            "text/plain": [
              "'Eminem'"
            ]
          },
          "metadata": {
            "tags": []
          },
          "execution_count": 10
        }
      ]
    },
    {
      "cell_type": "code",
      "metadata": {
        "ExecuteTime": {
          "end_time": "2021-01-23T04:25:27.809204Z",
          "start_time": "2021-01-23T04:25:27.800735Z"
        },
        "id": "OZp5V5j5PEZa",
        "colab": {
          "base_uri": "https://localhost:8080/"
        },
        "outputId": "1ee2797b-1a1f-43da-eb01-d797fcf4881b"
      },
      "source": [
        "archivos_spam"
      ],
      "execution_count": 11,
      "outputs": [
        {
          "output_type": "execute_result",
          "data": {
            "text/plain": [
              "['/content/drive/MyDrive/datasets/spam/Youtube04-Eminem.csv',\n",
              " '/content/drive/MyDrive/datasets/spam/Youtube02-KatyPerry.csv',\n",
              " '/content/drive/MyDrive/datasets/spam/Youtube01-Psy.csv',\n",
              " '/content/drive/MyDrive/datasets/spam/Youtube05-Shakira.csv',\n",
              " '/content/drive/MyDrive/datasets/spam/Youtube03-LMFAO.csv']"
            ]
          },
          "metadata": {
            "tags": []
          },
          "execution_count": 11
        }
      ]
    },
    {
      "cell_type": "code",
      "metadata": {
        "ExecuteTime": {
          "end_time": "2021-01-23T04:25:29.277046Z",
          "start_time": "2021-01-23T04:25:29.220018Z"
        },
        "id": "Peyepjf-PEZa"
      },
      "source": [
        "data=[]\n",
        "for file in archivos_spam:\n",
        "    data_spam=pd.read_csv(file)\n",
        "    data_spam['artista']=file.split('-')[1].split('.')[0]\n",
        "    data.append(data_spam)"
      ],
      "execution_count": 12,
      "outputs": []
    },
    {
      "cell_type": "code",
      "metadata": {
        "colab": {
          "base_uri": "https://localhost:8080/"
        },
        "id": "QoEjIPR9fO37",
        "outputId": "c3345006-6e4c-49b8-f95e-1eb02a2918d1"
      },
      "source": [
        "data"
      ],
      "execution_count": 14,
      "outputs": [
        {
          "output_type": "execute_result",
          "data": {
            "text/plain": [
              "[                                      COMMENT_ID  ... artista\n",
              " 0              z12rwfnyyrbsefonb232i5ehdxzkjzjs2  ...  Eminem\n",
              " 1            z130wpnwwnyuetxcn23xf5k5ynmkdpjrj04  ...  Eminem\n",
              " 2              z13vsfqirtavjvu0t22ezrgzyorwxhpf3  ...  Eminem\n",
              " 3            z12wjzc4eprnvja4304cgbbizuved35wxcs  ...  Eminem\n",
              " 4              z13xjfr42z3uxdz2223gx5rrzs3dt5hna  ...  Eminem\n",
              " ..                                           ...  ...     ...\n",
              " 443  LneaDw26bFu3RCmyrWyP9S6wh1h9dBv3X95g1HzKAb4  ...  Eminem\n",
              " 444  LneaDw26bFsD65dtIvAEObWYIYnFTqQDKBek_Ypz3J8  ...  Eminem\n",
              " 445  LneaDw26bFuvs-8oWkLpAFa6g3QHpWD8k7sbbMP3Bg8  ...  Eminem\n",
              " 446        z12hfp2wmyuqztkw504cgblyxtbsxjuzeow0k  ...  Eminem\n",
              " 447          z13tsbc5vvn0hdozz04chjt51lq1cvris0k  ...  Eminem\n",
              " \n",
              " [448 rows x 6 columns],\n",
              "                                 COMMENT_ID  ...    artista\n",
              " 0        z12pgdhovmrktzm3i23es5d5junftft3f  ...  KatyPerry\n",
              " 1      z13yx345uxepetggz04ci5rjcxeohzlrtf4  ...  KatyPerry\n",
              " 2    z12lsjvi3wa5x1vwh04cibeaqnzrevxajw00k  ...  KatyPerry\n",
              " 3      z13jcjuovxbwfr0ge04cev2ipsjdfdurwck  ...  KatyPerry\n",
              " 4    z13qybua2yfydzxzj04cgfpqdt2syfx53ms0k  ...  KatyPerry\n",
              " ..                                     ...  ...        ...\n",
              " 345    z12sjp3zgtqnvlysj23zuxxaolrvd1oj504  ...  KatyPerry\n",
              " 346  z132enrpoy35yxpoe04cjr4zur3jvbyq3xo0k  ...  KatyPerry\n",
              " 347      z132jbmxfqm4fjysg23nwjfb2mv2vxnua  ...  KatyPerry\n",
              " 348    z12cdlswetvnejcri04cex0jfwy2u3tzj54  ...  KatyPerry\n",
              " 349  z120e5uautvcuper304ccf4bjrjugdpbwrc0k  ...  KatyPerry\n",
              " \n",
              " [350 rows x 6 columns],\n",
              "                                       COMMENT_ID  ... artista\n",
              " 0    LZQPQhLyRh80UYxNuaDWhIGQYNQ96IuCg-AYWqNPjpU  ...     Psy\n",
              " 1    LZQPQhLyRh_C2cTtd9MvFRJedxydaVW-2sNg5Diuo4A  ...     Psy\n",
              " 2    LZQPQhLyRh9MSZYnf8djyk0gEF9BHDPYrrK-qCczIY8  ...     Psy\n",
              " 3            z13jhp0bxqncu512g22wvzkasxmvvzjaz04  ...     Psy\n",
              " 4            z13fwbwp1oujthgqj04chlngpvzmtt3r3dw  ...     Psy\n",
              " ..                                           ...  ...     ...\n",
              " 345            z13th1q4yzihf1bll23qxzpjeujterydj  ...     Psy\n",
              " 346        z13fcn1wfpb5e51xe04chdxakpzgchyaxzo0k  ...     Psy\n",
              " 347          z130zd5b3titudkoe04ccbeohojxuzppvbg  ...     Psy\n",
              " 348          z12he50arvrkivl5u04cctawgxzkjfsjcc4  ...     Psy\n",
              " 349        z13vhvu54u3ewpp5h04ccb4zuoardrmjlyk0k  ...     Psy\n",
              " \n",
              " [350 rows x 6 columns],\n",
              "                                       COMMENT_ID  ...  artista\n",
              " 0            z13lgffb5w3ddx1ul22qy1wxspy5cpkz504  ...  Shakira\n",
              " 1              z123dbgb0mqjfxbtz22ucjc5jvzcv3ykj  ...  Shakira\n",
              " 2          z12quxxp2vutflkxv04cihggzt2azl34pms0k  ...  Shakira\n",
              " 3              z12icv3ysqvlwth2c23eddlykyqut5z1h  ...  Shakira\n",
              " 4              z133stly3kete3tly22petvwdpmghrlli  ...  Shakira\n",
              " ..                                           ...  ...      ...\n",
              " 365  _2viQ_Qnc6-bMSjqyL1NKj57ROicCSJV5SwTrw-RFFA  ...  Shakira\n",
              " 366  _2viQ_Qnc6-pY-1yR6K2FhmC5i48-WuNx5CumlHLDAI  ...  Shakira\n",
              " 367  _2viQ_Qnc6_k_n_Bse9zVhJP8tJReZpo8uM2uZfnzDs  ...  Shakira\n",
              " 368  _2viQ_Qnc6_yBt8UGMWyg3vh0PulTqcqyQtdE7d4Fl0  ...  Shakira\n",
              " 369  _2viQ_Qnc685RPw1aSa1tfrIuHXRvAQ2rPT9R06KTqA  ...  Shakira\n",
              " \n",
              " [370 rows x 6 columns],\n",
              "                                 COMMENT_ID          AUTHOR  ... CLASS artista\n",
              " 0    z13uwn2heqndtr5g304ccv5j5kqqzxjadmc0k    Corey Wilson  ...     0   LMFAO\n",
              " 1    z124jvczaz3dxhnbc04cffk43oiugj25yzo0k     Epic Gaming  ...     0   LMFAO\n",
              " 2        z13tczjy5xj0vjmu5231unho1ofey5zdk       LaS Music  ...     1   LMFAO\n",
              " 3    z13tzr0hdpnayhqqc04cd3zqqqjkf3ngckk0k      Cheryl Fox  ...     0   LMFAO\n",
              " 4    z12pcvix4zedcjvyb04ccr1r0mr2g5xwyng0k      PATRICK_TW  ...     0   LMFAO\n",
              " ..                                     ...             ...  ...   ...     ...\n",
              " 433      z13lvr4iupatjlrem231yvpxolzvspwdl      Salty Croc  ...     1   LMFAO\n",
              " 434  z12lxhrqdkyusbkji04cihtrvn3jvxnqszg0k       Bob Orton  ...     0   LMFAO\n",
              " 435      z12xhdjrsxm3v550w22oynsjrnmvjhkvj  LuckyMusiqLive  ...     1   LMFAO\n",
              " 436      z13msngo3qvwx1ym223pehqgouexzdmnm  xXxPWND 420xXx  ...     1   LMFAO\n",
              " 437    z120hptrylzqzdsoj04cepaonmuyyr1afj0  Matheus Macedo  ...     0   LMFAO\n",
              " \n",
              " [438 rows x 6 columns]]"
            ]
          },
          "metadata": {
            "tags": []
          },
          "execution_count": 14
        }
      ]
    },
    {
      "cell_type": "code",
      "metadata": {
        "ExecuteTime": {
          "end_time": "2021-01-23T04:25:30.151134Z",
          "start_time": "2021-01-23T04:25:30.130128Z"
        },
        "id": "Kv3kYWihPEZb"
      },
      "source": [
        "data_spam=pd.concat(data)"
      ],
      "execution_count": 15,
      "outputs": []
    },
    {
      "cell_type": "code",
      "metadata": {
        "colab": {
          "base_uri": "https://localhost:8080/",
          "height": 133
        },
        "id": "jBA6cWh1fbwl",
        "outputId": "3b8f6f74-4128-4ab4-b799-c7583d80651c"
      },
      "source": [
        "data_spam.head(3)"
      ],
      "execution_count": 16,
      "outputs": [
        {
          "output_type": "execute_result",
          "data": {
            "text/html": [
              "<div>\n",
              "<style scoped>\n",
              "    .dataframe tbody tr th:only-of-type {\n",
              "        vertical-align: middle;\n",
              "    }\n",
              "\n",
              "    .dataframe tbody tr th {\n",
              "        vertical-align: top;\n",
              "    }\n",
              "\n",
              "    .dataframe thead th {\n",
              "        text-align: right;\n",
              "    }\n",
              "</style>\n",
              "<table border=\"1\" class=\"dataframe\">\n",
              "  <thead>\n",
              "    <tr style=\"text-align: right;\">\n",
              "      <th></th>\n",
              "      <th>COMMENT_ID</th>\n",
              "      <th>AUTHOR</th>\n",
              "      <th>DATE</th>\n",
              "      <th>CONTENT</th>\n",
              "      <th>CLASS</th>\n",
              "      <th>artista</th>\n",
              "    </tr>\n",
              "  </thead>\n",
              "  <tbody>\n",
              "    <tr>\n",
              "      <th>0</th>\n",
              "      <td>z12rwfnyyrbsefonb232i5ehdxzkjzjs2</td>\n",
              "      <td>Lisa Wellas</td>\n",
              "      <td>NaN</td>\n",
              "      <td>+447935454150 lovely girl talk to me xxx﻿</td>\n",
              "      <td>1</td>\n",
              "      <td>Eminem</td>\n",
              "    </tr>\n",
              "    <tr>\n",
              "      <th>1</th>\n",
              "      <td>z130wpnwwnyuetxcn23xf5k5ynmkdpjrj04</td>\n",
              "      <td>jason graham</td>\n",
              "      <td>2015-05-29T02:26:10.652000</td>\n",
              "      <td>I always end up coming back to this song&lt;br /&gt;﻿</td>\n",
              "      <td>0</td>\n",
              "      <td>Eminem</td>\n",
              "    </tr>\n",
              "    <tr>\n",
              "      <th>2</th>\n",
              "      <td>z13vsfqirtavjvu0t22ezrgzyorwxhpf3</td>\n",
              "      <td>Ajkal Khan</td>\n",
              "      <td>NaN</td>\n",
              "      <td>my sister just received over 6,500 new &lt;a rel=...</td>\n",
              "      <td>1</td>\n",
              "      <td>Eminem</td>\n",
              "    </tr>\n",
              "  </tbody>\n",
              "</table>\n",
              "</div>"
            ],
            "text/plain": [
              "                            COMMENT_ID        AUTHOR  ... CLASS artista\n",
              "0    z12rwfnyyrbsefonb232i5ehdxzkjzjs2   Lisa Wellas  ...     1  Eminem\n",
              "1  z130wpnwwnyuetxcn23xf5k5ynmkdpjrj04  jason graham  ...     0  Eminem\n",
              "2    z13vsfqirtavjvu0t22ezrgzyorwxhpf3    Ajkal Khan  ...     1  Eminem\n",
              "\n",
              "[3 rows x 6 columns]"
            ]
          },
          "metadata": {
            "tags": []
          },
          "execution_count": 16
        }
      ]
    },
    {
      "cell_type": "code",
      "metadata": {
        "ExecuteTime": {
          "end_time": "2021-01-23T04:25:32.561445Z",
          "start_time": "2021-01-23T04:25:32.553715Z"
        },
        "id": "dC8do0X-PEZb"
      },
      "source": [
        "data_spam.reset_index(drop=True,inplace=True)"
      ],
      "execution_count": 17,
      "outputs": []
    },
    {
      "cell_type": "code",
      "metadata": {
        "ExecuteTime": {
          "end_time": "2021-01-23T04:25:33.558302Z",
          "start_time": "2021-01-23T04:25:33.522339Z"
        },
        "id": "JG7QnCgMPEZc",
        "colab": {
          "base_uri": "https://localhost:8080/",
          "height": 391
        },
        "outputId": "4635e3f1-893b-47b1-9dc7-441d37a9f11e"
      },
      "source": [
        "data_spam"
      ],
      "execution_count": 18,
      "outputs": [
        {
          "output_type": "execute_result",
          "data": {
            "text/html": [
              "<div>\n",
              "<style scoped>\n",
              "    .dataframe tbody tr th:only-of-type {\n",
              "        vertical-align: middle;\n",
              "    }\n",
              "\n",
              "    .dataframe tbody tr th {\n",
              "        vertical-align: top;\n",
              "    }\n",
              "\n",
              "    .dataframe thead th {\n",
              "        text-align: right;\n",
              "    }\n",
              "</style>\n",
              "<table border=\"1\" class=\"dataframe\">\n",
              "  <thead>\n",
              "    <tr style=\"text-align: right;\">\n",
              "      <th></th>\n",
              "      <th>COMMENT_ID</th>\n",
              "      <th>AUTHOR</th>\n",
              "      <th>DATE</th>\n",
              "      <th>CONTENT</th>\n",
              "      <th>CLASS</th>\n",
              "      <th>artista</th>\n",
              "    </tr>\n",
              "  </thead>\n",
              "  <tbody>\n",
              "    <tr>\n",
              "      <th>0</th>\n",
              "      <td>z12rwfnyyrbsefonb232i5ehdxzkjzjs2</td>\n",
              "      <td>Lisa Wellas</td>\n",
              "      <td>NaN</td>\n",
              "      <td>+447935454150 lovely girl talk to me xxx﻿</td>\n",
              "      <td>1</td>\n",
              "      <td>Eminem</td>\n",
              "    </tr>\n",
              "    <tr>\n",
              "      <th>1</th>\n",
              "      <td>z130wpnwwnyuetxcn23xf5k5ynmkdpjrj04</td>\n",
              "      <td>jason graham</td>\n",
              "      <td>2015-05-29T02:26:10.652000</td>\n",
              "      <td>I always end up coming back to this song&lt;br /&gt;﻿</td>\n",
              "      <td>0</td>\n",
              "      <td>Eminem</td>\n",
              "    </tr>\n",
              "    <tr>\n",
              "      <th>2</th>\n",
              "      <td>z13vsfqirtavjvu0t22ezrgzyorwxhpf3</td>\n",
              "      <td>Ajkal Khan</td>\n",
              "      <td>NaN</td>\n",
              "      <td>my sister just received over 6,500 new &lt;a rel=...</td>\n",
              "      <td>1</td>\n",
              "      <td>Eminem</td>\n",
              "    </tr>\n",
              "    <tr>\n",
              "      <th>3</th>\n",
              "      <td>z12wjzc4eprnvja4304cgbbizuved35wxcs</td>\n",
              "      <td>Dakota Taylor</td>\n",
              "      <td>2015-05-29T02:13:07.810000</td>\n",
              "      <td>Cool﻿</td>\n",
              "      <td>0</td>\n",
              "      <td>Eminem</td>\n",
              "    </tr>\n",
              "    <tr>\n",
              "      <th>4</th>\n",
              "      <td>z13xjfr42z3uxdz2223gx5rrzs3dt5hna</td>\n",
              "      <td>Jihad Naser</td>\n",
              "      <td>NaN</td>\n",
              "      <td>Hello I&amp;#39;am from Palastine﻿</td>\n",
              "      <td>1</td>\n",
              "      <td>Eminem</td>\n",
              "    </tr>\n",
              "    <tr>\n",
              "      <th>...</th>\n",
              "      <td>...</td>\n",
              "      <td>...</td>\n",
              "      <td>...</td>\n",
              "      <td>...</td>\n",
              "      <td>...</td>\n",
              "      <td>...</td>\n",
              "    </tr>\n",
              "    <tr>\n",
              "      <th>1951</th>\n",
              "      <td>z13lvr4iupatjlrem231yvpxolzvspwdl</td>\n",
              "      <td>Salty Croc</td>\n",
              "      <td>2014-07-22T04:20:37.489000</td>\n",
              "      <td>Like this comment for no reason﻿</td>\n",
              "      <td>1</td>\n",
              "      <td>LMFAO</td>\n",
              "    </tr>\n",
              "    <tr>\n",
              "      <th>1952</th>\n",
              "      <td>z12lxhrqdkyusbkji04cihtrvn3jvxnqszg0k</td>\n",
              "      <td>Bob Orton</td>\n",
              "      <td>2014-07-22T00:26:50.820000</td>\n",
              "      <td>love this song﻿</td>\n",
              "      <td>0</td>\n",
              "      <td>LMFAO</td>\n",
              "    </tr>\n",
              "    <tr>\n",
              "      <th>1953</th>\n",
              "      <td>z12xhdjrsxm3v550w22oynsjrnmvjhkvj</td>\n",
              "      <td>LuckyMusiqLive</td>\n",
              "      <td>2014-07-21T22:25:54.048000</td>\n",
              "      <td>this song is awesome. these guys are the best....</td>\n",
              "      <td>1</td>\n",
              "      <td>LMFAO</td>\n",
              "    </tr>\n",
              "    <tr>\n",
              "      <th>1954</th>\n",
              "      <td>z13msngo3qvwx1ym223pehqgouexzdmnm</td>\n",
              "      <td>xXxPWND 420xXx</td>\n",
              "      <td>2014-07-21T11:05:51.945000</td>\n",
              "      <td>HOW MANY THUMBS UP FOR LOUIS SAVING THE DAY!?!?﻿</td>\n",
              "      <td>1</td>\n",
              "      <td>LMFAO</td>\n",
              "    </tr>\n",
              "    <tr>\n",
              "      <th>1955</th>\n",
              "      <td>z120hptrylzqzdsoj04cepaonmuyyr1afj0</td>\n",
              "      <td>Matheus Macedo</td>\n",
              "      <td>2014-07-21T04:24:24.585000</td>\n",
              "      <td>NICE :3﻿</td>\n",
              "      <td>0</td>\n",
              "      <td>LMFAO</td>\n",
              "    </tr>\n",
              "  </tbody>\n",
              "</table>\n",
              "<p>1956 rows × 6 columns</p>\n",
              "</div>"
            ],
            "text/plain": [
              "                                 COMMENT_ID          AUTHOR  ... CLASS artista\n",
              "0         z12rwfnyyrbsefonb232i5ehdxzkjzjs2     Lisa Wellas  ...     1  Eminem\n",
              "1       z130wpnwwnyuetxcn23xf5k5ynmkdpjrj04    jason graham  ...     0  Eminem\n",
              "2         z13vsfqirtavjvu0t22ezrgzyorwxhpf3      Ajkal Khan  ...     1  Eminem\n",
              "3       z12wjzc4eprnvja4304cgbbizuved35wxcs   Dakota Taylor  ...     0  Eminem\n",
              "4         z13xjfr42z3uxdz2223gx5rrzs3dt5hna     Jihad Naser  ...     1  Eminem\n",
              "...                                     ...             ...  ...   ...     ...\n",
              "1951      z13lvr4iupatjlrem231yvpxolzvspwdl      Salty Croc  ...     1   LMFAO\n",
              "1952  z12lxhrqdkyusbkji04cihtrvn3jvxnqszg0k       Bob Orton  ...     0   LMFAO\n",
              "1953      z12xhdjrsxm3v550w22oynsjrnmvjhkvj  LuckyMusiqLive  ...     1   LMFAO\n",
              "1954      z13msngo3qvwx1ym223pehqgouexzdmnm  xXxPWND 420xXx  ...     1   LMFAO\n",
              "1955    z120hptrylzqzdsoj04cepaonmuyyr1afj0  Matheus Macedo  ...     0   LMFAO\n",
              "\n",
              "[1956 rows x 6 columns]"
            ]
          },
          "metadata": {
            "tags": []
          },
          "execution_count": 18
        }
      ]
    },
    {
      "cell_type": "code",
      "metadata": {
        "ExecuteTime": {
          "end_time": "2021-01-23T04:25:34.721589Z",
          "start_time": "2021-01-23T04:25:34.700870Z"
        },
        "id": "_3JfFqEnPEZc",
        "colab": {
          "base_uri": "https://localhost:8080/"
        },
        "outputId": "3c4ecd97-9161-4e3d-b971-27feaec85511"
      },
      "source": [
        "data_spam[\"artista\"].value_counts(1)"
      ],
      "execution_count": 19,
      "outputs": [
        {
          "output_type": "execute_result",
          "data": {
            "text/plain": [
              "Eminem       0.229039\n",
              "LMFAO        0.223926\n",
              "Shakira      0.189162\n",
              "KatyPerry    0.178937\n",
              "Psy          0.178937\n",
              "Name: artista, dtype: float64"
            ]
          },
          "metadata": {
            "tags": []
          },
          "execution_count": 19
        }
      ]
    },
    {
      "cell_type": "code",
      "metadata": {
        "ExecuteTime": {
          "end_time": "2021-01-23T04:25:35.663071Z",
          "start_time": "2021-01-23T04:25:35.642483Z"
        },
        "id": "eGdL_FFJPEZd",
        "colab": {
          "base_uri": "https://localhost:8080/"
        },
        "outputId": "17f43ac4-990b-48b4-9cc8-c1c1c6d4b768"
      },
      "source": [
        "data_spam[\"AUTHOR\"].value_counts(True)"
      ],
      "execution_count": 20,
      "outputs": [
        {
          "output_type": "execute_result",
          "data": {
            "text/plain": [
              "M.E.S              0.004090\n",
              "Louis Bryant       0.003579\n",
              "Shadrach Grentz    0.003579\n",
              "5000palo           0.003579\n",
              "DanteBTV           0.003067\n",
              "                     ...   \n",
              "tom hawksbee       0.000511\n",
              "Neeru bala         0.000511\n",
              "Goran Theboss      0.000511\n",
              "BEER BEER          0.000511\n",
              "mariosergopao      0.000511\n",
              "Name: AUTHOR, Length: 1792, dtype: float64"
            ]
          },
          "metadata": {
            "tags": []
          },
          "execution_count": 20
        }
      ]
    },
    {
      "cell_type": "code",
      "metadata": {
        "ExecuteTime": {
          "end_time": "2021-01-23T04:25:36.765625Z",
          "start_time": "2021-01-23T04:25:36.751162Z"
        },
        "id": "eoCf9Wo0PEZe",
        "colab": {
          "base_uri": "https://localhost:8080/"
        },
        "outputId": "48f81766-faeb-40fe-d74f-96dc98343dfc"
      },
      "source": [
        "data_spam.iloc[0,3].count('.')"
      ],
      "execution_count": 21,
      "outputs": [
        {
          "output_type": "execute_result",
          "data": {
            "text/plain": [
              "0"
            ]
          },
          "metadata": {
            "tags": []
          },
          "execution_count": 21
        }
      ]
    },
    {
      "cell_type": "markdown",
      "metadata": {
        "id": "ggdRVJ43f29l"
      },
      "source": [
        "## Creamos variables"
      ]
    },
    {
      "cell_type": "code",
      "metadata": {
        "colab": {
          "base_uri": "https://localhost:8080/"
        },
        "id": "FEWFL6gGf6-2",
        "outputId": "2ecea37e-ae22-47a7-c11d-bee4ae3824bc"
      },
      "source": [
        "data_spam[\"CONTENT\"]"
      ],
      "execution_count": 25,
      "outputs": [
        {
          "output_type": "execute_result",
          "data": {
            "text/plain": [
              "0               +447935454150 lovely girl talk to me xxx﻿\n",
              "1         I always end up coming back to this song<br />﻿\n",
              "2       my sister just received over 6,500 new <a rel=...\n",
              "3                                                   Cool﻿\n",
              "4                          Hello I&#39;am from Palastine﻿\n",
              "                              ...                        \n",
              "1951                     Like this comment for no reason﻿\n",
              "1952                                      love this song﻿\n",
              "1953    this song is awesome. these guys are the best....\n",
              "1954     HOW MANY THUMBS UP FOR LOUIS SAVING THE DAY!?!?﻿\n",
              "1955                                             NICE :3﻿\n",
              "Name: CONTENT, Length: 1956, dtype: object"
            ]
          },
          "metadata": {
            "tags": []
          },
          "execution_count": 25
        }
      ]
    },
    {
      "cell_type": "code",
      "metadata": {
        "colab": {
          "base_uri": "https://localhost:8080/"
        },
        "id": "hBhgNkTEfp1o",
        "outputId": "a8385b23-084e-423d-a70f-86985aa74aa2"
      },
      "source": [
        "data_spam[\"CONTENT\"].str.len()"
      ],
      "execution_count": 27,
      "outputs": [
        {
          "output_type": "execute_result",
          "data": {
            "text/plain": [
              "0        41\n",
              "1        47\n",
              "2       201\n",
              "3         5\n",
              "4        30\n",
              "       ... \n",
              "1951     32\n",
              "1952     15\n",
              "1953    216\n",
              "1954     48\n",
              "1955      8\n",
              "Name: CONTENT, Length: 1956, dtype: int64"
            ]
          },
          "metadata": {
            "tags": []
          },
          "execution_count": 27
        }
      ]
    },
    {
      "cell_type": "code",
      "metadata": {
        "ExecuteTime": {
          "end_time": "2021-01-23T04:25:39.819931Z",
          "start_time": "2021-01-23T04:25:39.808576Z"
        },
        "id": "NUcQSjVKPEZe"
      },
      "source": [
        "data_spam['n_caracteres']=data_spam[\"CONTENT\"].str.len()"
      ],
      "execution_count": 28,
      "outputs": []
    },
    {
      "cell_type": "code",
      "metadata": {
        "colab": {
          "base_uri": "https://localhost:8080/"
        },
        "id": "IPgrC9psf_9E",
        "outputId": "d8f67157-78b9-4835-82b0-d8b439378f90"
      },
      "source": [
        "data_spam['CONTENT']"
      ],
      "execution_count": 29,
      "outputs": [
        {
          "output_type": "execute_result",
          "data": {
            "text/plain": [
              "0               +447935454150 lovely girl talk to me xxx﻿\n",
              "1         I always end up coming back to this song<br />﻿\n",
              "2       my sister just received over 6,500 new <a rel=...\n",
              "3                                                   Cool﻿\n",
              "4                          Hello I&#39;am from Palastine﻿\n",
              "                              ...                        \n",
              "1951                     Like this comment for no reason﻿\n",
              "1952                                      love this song﻿\n",
              "1953    this song is awesome. these guys are the best....\n",
              "1954     HOW MANY THUMBS UP FOR LOUIS SAVING THE DAY!?!?﻿\n",
              "1955                                             NICE :3﻿\n",
              "Name: CONTENT, Length: 1956, dtype: object"
            ]
          },
          "metadata": {
            "tags": []
          },
          "execution_count": 29
        }
      ]
    },
    {
      "cell_type": "code",
      "metadata": {
        "colab": {
          "base_uri": "https://localhost:8080/"
        },
        "id": "iW7CaPCbgACs",
        "outputId": "f9c8cf47-599e-4bc4-ca8d-e752d0bba554"
      },
      "source": [
        "data_spam['CONTENT'].map(lambda x: x.count('.'))"
      ],
      "execution_count": 30,
      "outputs": [
        {
          "output_type": "execute_result",
          "data": {
            "text/plain": [
              "0       0\n",
              "1       0\n",
              "2       4\n",
              "3       0\n",
              "4       0\n",
              "       ..\n",
              "1951    0\n",
              "1952    0\n",
              "1953    4\n",
              "1954    0\n",
              "1955    0\n",
              "Name: CONTENT, Length: 1956, dtype: int64"
            ]
          },
          "metadata": {
            "tags": []
          },
          "execution_count": 30
        }
      ]
    },
    {
      "cell_type": "code",
      "metadata": {
        "ExecuteTime": {
          "end_time": "2021-01-23T04:25:40.576326Z",
          "start_time": "2021-01-23T04:25:40.559927Z"
        },
        "id": "FdG0CRvkPEZe"
      },
      "source": [
        "data_spam[\"n_dots\"] = data_spam['CONTENT'].map(lambda x: x.count('.'))"
      ],
      "execution_count": 32,
      "outputs": []
    },
    {
      "cell_type": "code",
      "metadata": {
        "ExecuteTime": {
          "end_time": "2021-01-23T04:25:41.176747Z",
          "start_time": "2021-01-23T04:25:41.108685Z"
        },
        "id": "hjJQrlVtPEZf",
        "colab": {
          "base_uri": "https://localhost:8080/"
        },
        "outputId": "38c2705d-9c67-4c17-b38e-542f9ae6f5ff"
      },
      "source": [
        "data_spam.apply(lambda x:re.findall(x[\"artista\"].lower(), x[\"CONTENT\"].lower()), axis = 1).str.len()"
      ],
      "execution_count": 33,
      "outputs": [
        {
          "output_type": "execute_result",
          "data": {
            "text/plain": [
              "0       0\n",
              "1       0\n",
              "2       0\n",
              "3       0\n",
              "4       0\n",
              "       ..\n",
              "1951    0\n",
              "1952    0\n",
              "1953    0\n",
              "1954    0\n",
              "1955    0\n",
              "Length: 1956, dtype: int64"
            ]
          },
          "metadata": {
            "tags": []
          },
          "execution_count": 33
        }
      ]
    },
    {
      "cell_type": "code",
      "metadata": {
        "ExecuteTime": {
          "end_time": "2021-01-23T04:25:41.638706Z",
          "start_time": "2021-01-23T04:25:41.624470Z"
        },
        "id": "OT9QTElVPEZf",
        "colab": {
          "base_uri": "https://localhost:8080/"
        },
        "outputId": "26d5dd9d-b014-49d1-f60d-e8c916f6308c"
      },
      "source": [
        "re.findall(data_spam['artista'][0].lower(),data_spam['CONTENT'][0].lower())"
      ],
      "execution_count": 34,
      "outputs": [
        {
          "output_type": "execute_result",
          "data": {
            "text/plain": [
              "[]"
            ]
          },
          "metadata": {
            "tags": []
          },
          "execution_count": 34
        }
      ]
    },
    {
      "cell_type": "code",
      "metadata": {
        "ExecuteTime": {
          "end_time": "2021-01-23T04:25:42.145404Z",
          "start_time": "2021-01-23T04:25:42.135007Z"
        },
        "id": "HS9yOoxxPEZg",
        "colab": {
          "base_uri": "https://localhost:8080/"
        },
        "outputId": "104d914c-ba4f-49ba-8e05-1a511e0497a9"
      },
      "source": [
        "len(re.findall('psy','amo a psy'))"
      ],
      "execution_count": 35,
      "outputs": [
        {
          "output_type": "execute_result",
          "data": {
            "text/plain": [
              "1"
            ]
          },
          "metadata": {
            "tags": []
          },
          "execution_count": 35
        }
      ]
    },
    {
      "cell_type": "code",
      "metadata": {
        "ExecuteTime": {
          "end_time": "2021-01-23T04:25:42.953957Z",
          "start_time": "2021-01-23T04:25:42.731770Z"
        },
        "id": "hJE3hdp1PEZg"
      },
      "source": [
        "data_spam[\"n_artist\"] = data_spam.apply(lambda x:re.findall(x[\"artista\"].lower(), x[\"CONTENT\"].lower()), axis = 1).str.len()\n",
        "data_spam[\"n_urls\"] = data_spam.apply(lambda x:re.findall(\"http://\", x[\"CONTENT\"]) + re.findall(\"https://\", x[\"CONTENT\"]), axis = 1).str.len()\n",
        "data_spam[\"n_lower_ratio_len\"] = data_spam[\"CONTENT\"].map(lambda x:sum(map(str.islower, x))) / data_spam[\"n_caracteres\"]\n",
        "data_spam[\"n_upper_ratio_len\"] = data_spam[\"CONTENT\"].map(lambda x:sum(map(str.isupper, x))) / data_spam[\"n_caracteres\"]\n",
        "data_spam[\"n_words\"] = data_spam[\"CONTENT\"].str.split(\" \").str.len()\n",
        "data_spam[\"n_letters\"] = data_spam[\"CONTENT\"].map(lambda x:sum(map(str.isalpha, x)))\n",
        "data_spam[\"n_lower_ratio_letters\"] = data_spam[\"CONTENT\"].map(lambda x:sum(map(str.islower, x))) / data_spam[\"n_letters\"]\n",
        "data_spam[\"n_upper_ratio_letters\"] = data_spam[\"CONTENT\"].map(lambda x:sum(map(str.isupper, x))) / data_spam[\"n_letters\"]\n",
        "data_spam[\"n_emojis\"] = data_spam[\"CONTENT\"].map(emoji.emoji_count)\n",
        "data_spam[\"n_phone\"] = data_spam[\"CONTENT\"].map(lambda x:re.findall(r'\\+?(\\d{3}[-\\.\\s]??\\d{3}[-\\.\\s]??\\d{4}|\\(\\d{3}\\)\\s*\\d{3}[-\\.\\s]??\\d{4}|\\d{3}[-\\.\\s]??\\d{4})', x)).str.len()\n",
        "data_spam[\"n_email\"] = data_spam[\"CONTENT\"].map(lambda x: re.findall(r'[a-z0-9\\._-]+@[a-z0-9\\._-]+', x.lower())).str.len()"
      ],
      "execution_count": 36,
      "outputs": []
    },
    {
      "cell_type": "code",
      "metadata": {
        "ExecuteTime": {
          "end_time": "2021-01-23T04:30:54.227773Z",
          "start_time": "2021-01-23T04:30:53.776315Z"
        },
        "id": "41cQBaN4PEZh",
        "colab": {
          "base_uri": "https://localhost:8080/"
        },
        "outputId": "bcc8aaca-cf7d-4da3-ca63-8cc3805928da"
      },
      "source": [
        "data_spam[\"CONTENT\"]=data_spam[\"CONTENT\"].map(lambda x:BeautifulSoup(x).text)"
      ],
      "execution_count": 38,
      "outputs": [
        {
          "output_type": "stream",
          "text": [
            "/usr/local/lib/python3.6/dist-packages/bs4/__init__.py:336: UserWarning: \"http://www.twitch.tv/daconnormc﻿\" looks like a URL. Beautiful Soup is not an HTTP client. You should probably use an HTTP client like requests to get the document behind the URL, and feed that document to Beautiful Soup.\n",
            "  ' that document to Beautiful Soup.' % decoded_markup\n",
            "/usr/local/lib/python3.6/dist-packages/bs4/__init__.py:336: UserWarning: \"https://www.facebook.com/photo.php?fbid=543627485763966&amp;l=0d878a889c﻿\" looks like a URL. Beautiful Soup is not an HTTP client. You should probably use an HTTP client like requests to get the document behind the URL, and feed that document to Beautiful Soup.\n",
            "  ' that document to Beautiful Soup.' % decoded_markup\n",
            "/usr/local/lib/python3.6/dist-packages/bs4/__init__.py:336: UserWarning: \"http://www.bubblews.com/news/6401116-vps-solutions﻿\" looks like a URL. Beautiful Soup is not an HTTP client. You should probably use an HTTP client like requests to get the document behind the URL, and feed that document to Beautiful Soup.\n",
            "  ' that document to Beautiful Soup.' % decoded_markup\n",
            "/usr/local/lib/python3.6/dist-packages/bs4/__init__.py:336: UserWarning: \"http://shhort.com/a?r=HuPwEH5ab﻿\" looks like a URL. Beautiful Soup is not an HTTP client. You should probably use an HTTP client like requests to get the document behind the URL, and feed that document to Beautiful Soup.\n",
            "  ' that document to Beautiful Soup.' % decoded_markup\n",
            "/usr/local/lib/python3.6/dist-packages/bs4/__init__.py:336: UserWarning: \"http://shhort.com/a?r=G8iX5cTKd﻿\" looks like a URL. Beautiful Soup is not an HTTP client. You should probably use an HTTP client like requests to get the document behind the URL, and feed that document to Beautiful Soup.\n",
            "  ' that document to Beautiful Soup.' % decoded_markup\n",
            "/usr/local/lib/python3.6/dist-packages/bs4/__init__.py:336: UserWarning: \"http://shhort.com/a?r=Jt2ufxHxc﻿\" looks like a URL. Beautiful Soup is not an HTTP client. You should probably use an HTTP client like requests to get the document behind the URL, and feed that document to Beautiful Soup.\n",
            "  ' that document to Beautiful Soup.' % decoded_markup\n",
            "/usr/local/lib/python3.6/dist-packages/bs4/__init__.py:336: UserWarning: \"https://www.reverbnation.com/slicknick313/songs﻿\" looks like a URL. Beautiful Soup is not an HTTP client. You should probably use an HTTP client like requests to get the document behind the URL, and feed that document to Beautiful Soup.\n",
            "  ' that document to Beautiful Soup.' % decoded_markup\n",
            "/usr/local/lib/python3.6/dist-packages/bs4/__init__.py:336: UserWarning: \"https://viralangels.com/user/d4aaacwk﻿\" looks like a URL. Beautiful Soup is not an HTTP client. You should probably use an HTTP client like requests to get the document behind the URL, and feed that document to Beautiful Soup.\n",
            "  ' that document to Beautiful Soup.' % decoded_markup\n",
            "/usr/local/lib/python3.6/dist-packages/bs4/__init__.py:336: UserWarning: \"https://vimeo.com/107297364﻿\" looks like a URL. Beautiful Soup is not an HTTP client. You should probably use an HTTP client like requests to get the document behind the URL, and feed that document to Beautiful Soup.\n",
            "  ' that document to Beautiful Soup.' % decoded_markup\n",
            "/usr/local/lib/python3.6/dist-packages/bs4/__init__.py:336: UserWarning: \"https://www.facebook.com/pages/Komedi-burda-gel/775510675841486﻿\" looks like a URL. Beautiful Soup is not an HTTP client. You should probably use an HTTP client like requests to get the document behind the URL, and feed that document to Beautiful Soup.\n",
            "  ' that document to Beautiful Soup.' % decoded_markup\n",
            "/usr/local/lib/python3.6/dist-packages/bs4/__init__.py:336: UserWarning: \"https://www.facebook.com/profile.php?id=100007085325116﻿\" looks like a URL. Beautiful Soup is not an HTTP client. You should probably use an HTTP client like requests to get the document behind the URL, and feed that document to Beautiful Soup.\n",
            "  ' that document to Beautiful Soup.' % decoded_markup\n",
            "/usr/local/lib/python3.6/dist-packages/bs4/__init__.py:336: UserWarning: \"http://vimeo.com/106865403﻿\" looks like a URL. Beautiful Soup is not an HTTP client. You should probably use an HTTP client like requests to get the document behind the URL, and feed that document to Beautiful Soup.\n",
            "  ' that document to Beautiful Soup.' % decoded_markup\n",
            "/usr/local/lib/python3.6/dist-packages/bs4/__init__.py:336: UserWarning: \"http://minhateca.com.br/mauro-sp2013/Filmes+Series+Desenhos+Animes+Mp3+etc﻿\" looks like a URL. Beautiful Soup is not an HTTP client. You should probably use an HTTP client like requests to get the document behind the URL, and feed that document to Beautiful Soup.\n",
            "  ' that document to Beautiful Soup.' % decoded_markup\n",
            "/usr/local/lib/python3.6/dist-packages/bs4/__init__.py:336: UserWarning: \"https://www.facebook.com/antrobofficial﻿\" looks like a URL. Beautiful Soup is not an HTTP client. You should probably use an HTTP client like requests to get the document behind the URL, and feed that document to Beautiful Soup.\n",
            "  ' that document to Beautiful Soup.' % decoded_markup\n",
            "/usr/local/lib/python3.6/dist-packages/bs4/__init__.py:336: UserWarning: \"http://hackfbaccountlive.com/?ref=4344749﻿\" looks like a URL. Beautiful Soup is not an HTTP client. You should probably use an HTTP client like requests to get the document behind the URL, and feed that document to Beautiful Soup.\n",
            "  ' that document to Beautiful Soup.' % decoded_markup\n",
            "/usr/local/lib/python3.6/dist-packages/bs4/__init__.py:336: UserWarning: \"https://soundcloud.com/j-supt-fils-du-son/fucking-hostile﻿\" looks like a URL. Beautiful Soup is not an HTTP client. You should probably use an HTTP client like requests to get the document behind the URL, and feed that document to Beautiful Soup.\n",
            "  ' that document to Beautiful Soup.' % decoded_markup\n",
            "/usr/local/lib/python3.6/dist-packages/bs4/__init__.py:336: UserWarning: \"https://www.facebook.com/myfunnyriddles﻿\" looks like a URL. Beautiful Soup is not an HTTP client. You should probably use an HTTP client like requests to get the document behind the URL, and feed that document to Beautiful Soup.\n",
            "  ' that document to Beautiful Soup.' % decoded_markup\n",
            "/usr/local/lib/python3.6/dist-packages/bs4/__init__.py:336: UserWarning: \"http://www.wattpad.com/story/26032883-she-can-love-you-good﻿\" looks like a URL. Beautiful Soup is not an HTTP client. You should probably use an HTTP client like requests to get the document behind the URL, and feed that document to Beautiful Soup.\n",
            "  ' that document to Beautiful Soup.' % decoded_markup\n",
            "/usr/local/lib/python3.6/dist-packages/bs4/__init__.py:336: UserWarning: \"https://binbox.io/DNCkM#qT4Q1JB1﻿\" looks like a URL. Beautiful Soup is not an HTTP client. You should probably use an HTTP client like requests to get the document behind the URL, and feed that document to Beautiful Soup.\n",
            "  ' that document to Beautiful Soup.' % decoded_markup\n",
            "/usr/local/lib/python3.6/dist-packages/bs4/__init__.py:336: UserWarning: \"https://twitter.com/GBphotographyGB﻿\" looks like a URL. Beautiful Soup is not an HTTP client. You should probably use an HTTP client like requests to get the document behind the URL, and feed that document to Beautiful Soup.\n",
            "  ' that document to Beautiful Soup.' % decoded_markup\n",
            "/usr/local/lib/python3.6/dist-packages/bs4/__init__.py:336: UserWarning: \"http://ubuntuone.com/40beUutVu2ZKxK4uTgPZ8K﻿\" looks like a URL. Beautiful Soup is not an HTTP client. You should probably use an HTTP client like requests to get the document behind the URL, and feed that document to Beautiful Soup.\n",
            "  ' that document to Beautiful Soup.' % decoded_markup\n",
            "/usr/local/lib/python3.6/dist-packages/bs4/__init__.py:336: UserWarning: \"http://hackfbaccountlive.com/?ref=4604617﻿\" looks like a URL. Beautiful Soup is not an HTTP client. You should probably use an HTTP client like requests to get the document behind the URL, and feed that document to Beautiful Soup.\n",
            "  ' that document to Beautiful Soup.' % decoded_markup\n",
            "/usr/local/lib/python3.6/dist-packages/bs4/__init__.py:336: UserWarning: \"http://binbox.io/1FIRo#123﻿\" looks like a URL. Beautiful Soup is not an HTTP client. You should probably use an HTTP client like requests to get the document behind the URL, and feed that document to Beautiful Soup.\n",
            "  ' that document to Beautiful Soup.' % decoded_markup\n",
            "/usr/local/lib/python3.6/dist-packages/bs4/__init__.py:336: UserWarning: \"http://thepiratebay.se/torrent/6381501/Timothy_Sykes_Collection﻿\" looks like a URL. Beautiful Soup is not an HTTP client. You should probably use an HTTP client like requests to get the document behind the URL, and feed that document to Beautiful Soup.\n",
            "  ' that document to Beautiful Soup.' % decoded_markup\n",
            "/usr/local/lib/python3.6/dist-packages/bs4/__init__.py:336: UserWarning: \"http://www.gcmforex.com/partners/aw.aspx?Task=JoinT2&amp;AffiliateID=9107﻿\" looks like a URL. Beautiful Soup is not an HTTP client. You should probably use an HTTP client like requests to get the document behind the URL, and feed that document to Beautiful Soup.\n",
            "  ' that document to Beautiful Soup.' % decoded_markup\n",
            "/usr/local/lib/python3.6/dist-packages/bs4/__init__.py:336: UserWarning: \"https://www.facebook.com/teeLaLaLa﻿\" looks like a URL. Beautiful Soup is not an HTTP client. You should probably use an HTTP client like requests to get the document behind the URL, and feed that document to Beautiful Soup.\n",
            "  ' that document to Beautiful Soup.' % decoded_markup\n",
            "/usr/local/lib/python3.6/dist-packages/bs4/__init__.py:336: UserWarning: \"http://www.twitch.tv/zxlightsoutxz﻿\" looks like a URL. Beautiful Soup is not an HTTP client. You should probably use an HTTP client like requests to get the document behind the URL, and feed that document to Beautiful Soup.\n",
            "  ' that document to Beautiful Soup.' % decoded_markup\n",
            "/usr/local/lib/python3.6/dist-packages/bs4/__init__.py:336: UserWarning: \"http://flipagram.com/f/LUkA1QMrhF﻿\" looks like a URL. Beautiful Soup is not an HTTP client. You should probably use an HTTP client like requests to get the document behind the URL, and feed that document to Beautiful Soup.\n",
            "  ' that document to Beautiful Soup.' % decoded_markup\n",
            "/usr/local/lib/python3.6/dist-packages/bs4/__init__.py:336: UserWarning: \"http://www.gofundme.com/gvr7xg﻿\" looks like a URL. Beautiful Soup is not an HTTP client. You should probably use an HTTP client like requests to get the document behind the URL, and feed that document to Beautiful Soup.\n",
            "  ' that document to Beautiful Soup.' % decoded_markup\n",
            "/usr/local/lib/python3.6/dist-packages/bs4/__init__.py:336: UserWarning: \"https://soundcloud.com/jackal-and-james/wrap-up-the-night﻿\" looks like a URL. Beautiful Soup is not an HTTP client. You should probably use an HTTP client like requests to get the document behind the URL, and feed that document to Beautiful Soup.\n",
            "  ' that document to Beautiful Soup.' % decoded_markup\n",
            "/usr/local/lib/python3.6/dist-packages/bs4/__init__.py:336: UserWarning: \"https://www.surveymonkey.com/s/CVHMKLT﻿\" looks like a URL. Beautiful Soup is not an HTTP client. You should probably use an HTTP client like requests to get the document behind the URL, and feed that document to Beautiful Soup.\n",
            "  ' that document to Beautiful Soup.' % decoded_markup\n",
            "/usr/local/lib/python3.6/dist-packages/bs4/__init__.py:336: UserWarning: \"https://www.facebook.com/pages/Mathster-WP/1495323920744243?ref=hl﻿\" looks like a URL. Beautiful Soup is not an HTTP client. You should probably use an HTTP client like requests to get the document behind the URL, and feed that document to Beautiful Soup.\n",
            "  ' that document to Beautiful Soup.' % decoded_markup\n",
            "/usr/local/lib/python3.6/dist-packages/bs4/__init__.py:336: UserWarning: \"http://hackfbaccountlive.com/?ref=5242575﻿\" looks like a URL. Beautiful Soup is not an HTTP client. You should probably use an HTTP client like requests to get the document behind the URL, and feed that document to Beautiful Soup.\n",
            "  ' that document to Beautiful Soup.' % decoded_markup\n",
            "/usr/local/lib/python3.6/dist-packages/bs4/__init__.py:336: UserWarning: \"https://www.facebook.com/FUDAIRYQUEEN?pnref=story﻿\" looks like a URL. Beautiful Soup is not an HTTP client. You should probably use an HTTP client like requests to get the document behind the URL, and feed that document to Beautiful Soup.\n",
            "  ' that document to Beautiful Soup.' % decoded_markup\n"
          ],
          "name": "stderr"
        }
      ]
    },
    {
      "cell_type": "code",
      "metadata": {
        "ExecuteTime": {
          "end_time": "2021-01-23T04:30:54.942631Z",
          "start_time": "2021-01-23T04:30:54.912978Z"
        },
        "id": "wQBjhWGOPEZh"
      },
      "source": [
        "data_spam[\"txt_CONTENT\"]=data_spam[\"CONTENT\"].map(clean_text)"
      ],
      "execution_count": 39,
      "outputs": []
    },
    {
      "cell_type": "code",
      "metadata": {
        "ExecuteTime": {
          "end_time": "2021-01-23T13:51:28.023100Z",
          "start_time": "2021-01-23T13:51:27.389223Z"
        },
        "id": "jq4v9hREPEZi",
        "colab": {
          "base_uri": "https://localhost:8080/",
          "height": 391
        },
        "outputId": "4c749798-e87f-463b-f108-0f42c572c5d8"
      },
      "source": [
        "data_spam[[\"txt_CONTENT\"]]"
      ],
      "execution_count": 40,
      "outputs": [
        {
          "output_type": "execute_result",
          "data": {
            "text/html": [
              "<div>\n",
              "<style scoped>\n",
              "    .dataframe tbody tr th:only-of-type {\n",
              "        vertical-align: middle;\n",
              "    }\n",
              "\n",
              "    .dataframe tbody tr th {\n",
              "        vertical-align: top;\n",
              "    }\n",
              "\n",
              "    .dataframe thead th {\n",
              "        text-align: right;\n",
              "    }\n",
              "</style>\n",
              "<table border=\"1\" class=\"dataframe\">\n",
              "  <thead>\n",
              "    <tr style=\"text-align: right;\">\n",
              "      <th></th>\n",
              "      <th>txt_CONTENT</th>\n",
              "    </tr>\n",
              "  </thead>\n",
              "  <tbody>\n",
              "    <tr>\n",
              "      <th>0</th>\n",
              "      <td>447935454150 lovely girl talk to me xxx</td>\n",
              "    </tr>\n",
              "    <tr>\n",
              "      <th>1</th>\n",
              "      <td>i always end up coming back to this song</td>\n",
              "    </tr>\n",
              "    <tr>\n",
              "      <th>2</th>\n",
              "      <td>my sister just received over 6 500 new active ...</td>\n",
              "    </tr>\n",
              "    <tr>\n",
              "      <th>3</th>\n",
              "      <td>cool</td>\n",
              "    </tr>\n",
              "    <tr>\n",
              "      <th>4</th>\n",
              "      <td>hello i am from palastine</td>\n",
              "    </tr>\n",
              "    <tr>\n",
              "      <th>...</th>\n",
              "      <td>...</td>\n",
              "    </tr>\n",
              "    <tr>\n",
              "      <th>1951</th>\n",
              "      <td>like this comment for no reason</td>\n",
              "    </tr>\n",
              "    <tr>\n",
              "      <th>1952</th>\n",
              "      <td>love this song</td>\n",
              "    </tr>\n",
              "    <tr>\n",
              "      <th>1953</th>\n",
              "      <td>this song is awesome these guys are the best l...</td>\n",
              "    </tr>\n",
              "    <tr>\n",
              "      <th>1954</th>\n",
              "      <td>how many thumbs up for louis saving the day</td>\n",
              "    </tr>\n",
              "    <tr>\n",
              "      <th>1955</th>\n",
              "      <td>nice 3</td>\n",
              "    </tr>\n",
              "  </tbody>\n",
              "</table>\n",
              "<p>1956 rows × 1 columns</p>\n",
              "</div>"
            ],
            "text/plain": [
              "                                            txt_CONTENT\n",
              "0               447935454150 lovely girl talk to me xxx\n",
              "1              i always end up coming back to this song\n",
              "2     my sister just received over 6 500 new active ...\n",
              "3                                                  cool\n",
              "4                             hello i am from palastine\n",
              "...                                                 ...\n",
              "1951                    like this comment for no reason\n",
              "1952                                     love this song\n",
              "1953  this song is awesome these guys are the best l...\n",
              "1954        how many thumbs up for louis saving the day\n",
              "1955                                             nice 3\n",
              "\n",
              "[1956 rows x 1 columns]"
            ]
          },
          "metadata": {
            "tags": []
          },
          "execution_count": 40
        }
      ]
    },
    {
      "cell_type": "code",
      "metadata": {
        "ExecuteTime": {
          "end_time": "2021-01-23T04:30:55.975787Z",
          "start_time": "2021-01-23T04:30:55.957513Z"
        },
        "id": "s0FNb8j0PEZi"
      },
      "source": [
        "CountVectorizer?"
      ],
      "execution_count": 41,
      "outputs": []
    },
    {
      "cell_type": "code",
      "metadata": {
        "colab": {
          "base_uri": "https://localhost:8080/"
        },
        "id": "GeIbZDeEg9-k",
        "outputId": "936afd78-093e-42a8-997c-e51881f72002"
      },
      "source": [
        "import nltk\r\n",
        "nltk.download('stopwords')"
      ],
      "execution_count": 43,
      "outputs": [
        {
          "output_type": "stream",
          "text": [
            "[nltk_data] Downloading package stopwords to /root/nltk_data...\n",
            "[nltk_data]   Unzipping corpora/stopwords.zip.\n"
          ],
          "name": "stdout"
        },
        {
          "output_type": "execute_result",
          "data": {
            "text/plain": [
              "True"
            ]
          },
          "metadata": {
            "tags": []
          },
          "execution_count": 43
        }
      ]
    },
    {
      "cell_type": "code",
      "metadata": {
        "ExecuteTime": {
          "end_time": "2021-01-23T04:31:40.128740Z",
          "start_time": "2021-01-23T04:31:40.116681Z"
        },
        "id": "aNIVlpF3PEZj"
      },
      "source": [
        "cv = TfidfVectorizer(stop_words=stopwords.words('english'), ngram_range=(1, 1), min_df=10, max_features=100)"
      ],
      "execution_count": 44,
      "outputs": []
    },
    {
      "cell_type": "code",
      "metadata": {
        "ExecuteTime": {
          "end_time": "2021-01-23T04:31:43.996738Z",
          "start_time": "2021-01-23T04:31:43.931248Z"
        },
        "id": "fZbsKlhoPEZj",
        "colab": {
          "base_uri": "https://localhost:8080/"
        },
        "outputId": "39ce9485-2ae0-4e07-a65c-f6627fef4d36"
      },
      "source": [
        "cv.fit(data_spam[\"txt_CONTENT\"])"
      ],
      "execution_count": 45,
      "outputs": [
        {
          "output_type": "execute_result",
          "data": {
            "text/plain": [
              "TfidfVectorizer(analyzer='word', binary=False, decode_error='strict',\n",
              "                dtype=<class 'numpy.float64'>, encoding='utf-8',\n",
              "                input='content', lowercase=True, max_df=1.0, max_features=100,\n",
              "                min_df=10, ngram_range=(1, 1), norm='l2', preprocessor=None,\n",
              "                smooth_idf=True,\n",
              "                stop_words=['i', 'me', 'my', 'myself', 'we', 'our', 'ours',\n",
              "                            'ourselves', 'you', \"you're\", \"you've\", \"you'll\",\n",
              "                            \"you'd\", 'your', 'yours', 'yourself', 'yourselves',\n",
              "                            'he', 'him', 'his', 'himself', 'she', \"she's\",\n",
              "                            'her', 'hers', 'herself', 'it', \"it's\", 'its',\n",
              "                            'itself', ...],\n",
              "                strip_accents=None, sublinear_tf=False,\n",
              "                token_pattern='(?u)\\\\b\\\\w\\\\w+\\\\b', tokenizer=None, use_idf=True,\n",
              "                vocabulary=None)"
            ]
          },
          "metadata": {
            "tags": []
          },
          "execution_count": 45
        }
      ]
    },
    {
      "cell_type": "code",
      "metadata": {
        "ExecuteTime": {
          "end_time": "2021-01-23T04:32:42.009608Z",
          "start_time": "2021-01-23T04:32:42.000906Z"
        },
        "id": "RWafW0fnPEZk"
      },
      "source": [
        "ls_features = [\"n_caracteres\", \"n_dots\", \"n_artist\", \"n_urls\", \"n_lower_ratio_len\", \"n_upper_ratio_len\", \"n_words\", \"n_letters\", \"n_lower_ratio_letters\", \"n_upper_ratio_letters\", \"n_emojis\", \"n_phone\", \"n_email\", ]"
      ],
      "execution_count": 46,
      "outputs": []
    },
    {
      "cell_type": "code",
      "metadata": {
        "ExecuteTime": {
          "end_time": "2021-01-23T04:33:41.320925Z",
          "start_time": "2021-01-23T04:33:41.309635Z"
        },
        "id": "og4KRO9LPEZk",
        "colab": {
          "base_uri": "https://localhost:8080/"
        },
        "outputId": "c3d5bc2c-ab3b-452c-f17e-04ba9d5f6746"
      },
      "source": [
        "data_spam[ls_features].isnull().sum()"
      ],
      "execution_count": 47,
      "outputs": [
        {
          "output_type": "execute_result",
          "data": {
            "text/plain": [
              "n_caracteres              0\n",
              "n_dots                    0\n",
              "n_artist                  0\n",
              "n_urls                    0\n",
              "n_lower_ratio_len         0\n",
              "n_upper_ratio_len         0\n",
              "n_words                   0\n",
              "n_letters                 0\n",
              "n_lower_ratio_letters    10\n",
              "n_upper_ratio_letters    10\n",
              "n_emojis                  0\n",
              "n_phone                   0\n",
              "n_email                   0\n",
              "dtype: int64"
            ]
          },
          "metadata": {
            "tags": []
          },
          "execution_count": 47
        }
      ]
    },
    {
      "cell_type": "code",
      "metadata": {
        "ExecuteTime": {
          "end_time": "2021-01-23T04:33:56.481154Z",
          "start_time": "2021-01-23T04:33:56.094293Z"
        },
        "id": "3M_O72nxPEZl"
      },
      "source": [
        "import missingno as msno"
      ],
      "execution_count": 48,
      "outputs": []
    },
    {
      "cell_type": "code",
      "metadata": {
        "ExecuteTime": {
          "end_time": "2021-01-23T04:34:05.796548Z",
          "start_time": "2021-01-23T04:34:04.472981Z"
        },
        "id": "ra-s_J4RPEZm",
        "colab": {
          "base_uri": "https://localhost:8080/",
          "height": 761
        },
        "outputId": "b7689a6b-4712-4042-e916-af45a42e07ef"
      },
      "source": [
        "msno.matrix(data_spam)"
      ],
      "execution_count": 49,
      "outputs": [
        {
          "output_type": "execute_result",
          "data": {
            "text/plain": [
              "<matplotlib.axes._subplots.AxesSubplot at 0x7f2a37e7fcf8>"
            ]
          },
          "metadata": {
            "tags": []
          },
          "execution_count": 49
        },
        {
          "output_type": "display_data",
          "data": {
            "image/png": "[encoded data removed]",
            "text/plain": [
              "<Figure size 1800x720 with 2 Axes>"
            ]
          },
          "metadata": {
            "tags": [],
            "needs_background": "light"
          }
        }
      ]
    },
    {
      "cell_type": "code",
      "metadata": {
        "colab": {
          "base_uri": "https://localhost:8080/"
        },
        "id": "zSDATHdfhm12",
        "outputId": "b6f3a631-cc65-41f0-ec46-b7dd2a910335"
      },
      "source": [
        "data_spam[\"txt_CONTENT\"]"
      ],
      "execution_count": 54,
      "outputs": [
        {
          "output_type": "execute_result",
          "data": {
            "text/plain": [
              "0                 447935454150 lovely girl talk to me xxx\n",
              "1                i always end up coming back to this song\n",
              "2       my sister just received over 6 500 new active ...\n",
              "3                                                    cool\n",
              "4                               hello i am from palastine\n",
              "                              ...                        \n",
              "1951                      like this comment for no reason\n",
              "1952                                       love this song\n",
              "1953    this song is awesome these guys are the best l...\n",
              "1954          how many thumbs up for louis saving the day\n",
              "1955                                               nice 3\n",
              "Name: txt_CONTENT, Length: 1956, dtype: object"
            ]
          },
          "metadata": {
            "tags": []
          },
          "execution_count": 54
        }
      ]
    },
    {
      "cell_type": "code",
      "metadata": {
        "ExecuteTime": {
          "end_time": "2021-01-23T04:34:30.203593Z",
          "start_time": "2021-01-23T04:34:30.175819Z"
        },
        "id": "DNcKzoSNPEZn",
        "colab": {
          "base_uri": "https://localhost:8080/"
        },
        "outputId": "20cb18e5-eded-4449-d46f-5dfab7c4178c"
      },
      "source": [
        " cv.transform(data_spam[\"txt_CONTENT\"]).todense()"
      ],
      "execution_count": 55,
      "outputs": [
        {
          "output_type": "execute_result",
          "data": {
            "text/plain": [
              "matrix([[0.        , 0.        , 0.        , ..., 0.        , 0.        ,\n",
              "         0.        ],\n",
              "        [0.        , 0.        , 0.        , ..., 0.        , 0.        ,\n",
              "         0.        ],\n",
              "        [0.        , 0.        , 0.        , ..., 0.        , 0.41847039,\n",
              "         0.        ],\n",
              "        ...,\n",
              "        [0.        , 0.        , 0.        , ..., 0.        , 0.        ,\n",
              "         0.        ],\n",
              "        [0.        , 0.        , 0.        , ..., 0.        , 0.        ,\n",
              "         0.        ],\n",
              "        [0.        , 0.        , 0.        , ..., 0.        , 0.        ,\n",
              "         0.        ]])"
            ]
          },
          "metadata": {
            "tags": []
          },
          "execution_count": 55
        }
      ]
    },
    {
      "cell_type": "code",
      "metadata": {
        "ExecuteTime": {
          "end_time": "2021-01-23T04:37:05.180296Z",
          "start_time": "2021-01-23T04:37:05.129994Z"
        },
        "id": "nvHKEz_cPEZn"
      },
      "source": [
        "X = data_spam[ls_features].fillna(0).join(pd.DataFrame(data = cv.transform(data_spam[\"txt_CONTENT\"]).todense(), columns = cv.get_feature_names()))\n",
        "y = data_spam[\"CLASS\"]"
      ],
      "execution_count": 80,
      "outputs": []
    },
    {
      "cell_type": "code",
      "metadata": {
        "colab": {
          "base_uri": "https://localhost:8080/",
          "height": 350
        },
        "id": "3auzeVoJiHcV",
        "outputId": "2465270d-9081-4bff-d896-4b5be53f7928"
      },
      "source": [
        "import seaborn as sns\r\n",
        "import matplotlib.pyplot as plt\r\n",
        "x=pd.DataFrame(y).value_counts().values\r\n",
        "sns.barplot([0,1],x)\r\n",
        "plt.title('Target variable count')"
      ],
      "execution_count": 81,
      "outputs": [
        {
          "output_type": "stream",
          "text": [
            "/usr/local/lib/python3.6/dist-packages/seaborn/_decorators.py:43: FutureWarning: Pass the following variables as keyword args: x, y. From version 0.12, the only valid positional argument will be `data`, and passing other arguments without an explicit keyword will result in an error or misinterpretation.\n",
            "  FutureWarning\n"
          ],
          "name": "stderr"
        },
        {
          "output_type": "execute_result",
          "data": {
            "text/plain": [
              "Text(0.5, 1.0, 'Target variable count')"
            ]
          },
          "metadata": {
            "tags": []
          },
          "execution_count": 81
        },
        {
          "output_type": "display_data",
          "data": {
            "image/png": "[encoded data removed]",
            "text/plain": [
              "<Figure size 432x288 with 1 Axes>"
            ]
          },
          "metadata": {
            "tags": [],
            "needs_background": "light"
          }
        }
      ]
    },
    {
      "cell_type": "code",
      "metadata": {
        "ExecuteTime": {
          "end_time": "2021-01-23T04:37:15.782654Z",
          "start_time": "2021-01-23T04:37:15.735262Z"
        },
        "id": "p34vbqWTPEZn",
        "colab": {
          "base_uri": "https://localhost:8080/",
          "height": 411
        },
        "outputId": "8a2e9c57-f494-4839-c2f1-dd0df18d4d78"
      },
      "source": [
        "X"
      ],
      "execution_count": 82,
      "outputs": [
        {
          "output_type": "execute_result",
          "data": {
            "text/html": [
              "<div>\n",
              "<style scoped>\n",
              "    .dataframe tbody tr th:only-of-type {\n",
              "        vertical-align: middle;\n",
              "    }\n",
              "\n",
              "    .dataframe tbody tr th {\n",
              "        vertical-align: top;\n",
              "    }\n",
              "\n",
              "    .dataframe thead th {\n",
              "        text-align: right;\n",
              "    }\n",
              "</style>\n",
              "<table border=\"1\" class=\"dataframe\">\n",
              "  <thead>\n",
              "    <tr style=\"text-align: right;\">\n",
              "      <th></th>\n",
              "      <th>n_caracteres</th>\n",
              "      <th>n_dots</th>\n",
              "      <th>n_artist</th>\n",
              "      <th>n_urls</th>\n",
              "      <th>n_lower_ratio_len</th>\n",
              "      <th>n_upper_ratio_len</th>\n",
              "      <th>n_words</th>\n",
              "      <th>n_letters</th>\n",
              "      <th>n_lower_ratio_letters</th>\n",
              "      <th>n_upper_ratio_letters</th>\n",
              "      <th>n_emojis</th>\n",
              "      <th>n_phone</th>\n",
              "      <th>n_email</th>\n",
              "      <th>000</th>\n",
              "      <th>2015</th>\n",
              "      <th>also</th>\n",
              "      <th>appreciate</th>\n",
              "      <th>awesome</th>\n",
              "      <th>back</th>\n",
              "      <th>best</th>\n",
              "      <th>billion</th>\n",
              "      <th>called</th>\n",
              "      <th>chance</th>\n",
              "      <th>channel</th>\n",
              "      <th>check</th>\n",
              "      <th>com</th>\n",
              "      <th>come</th>\n",
              "      <th>comment</th>\n",
              "      <th>comments</th>\n",
              "      <th>cool</th>\n",
              "      <th>could</th>\n",
              "      <th>covers</th>\n",
              "      <th>dont</th>\n",
              "      <th>dream</th>\n",
              "      <th>eminem</th>\n",
              "      <th>ever</th>\n",
              "      <th>everyone</th>\n",
              "      <th>facebook</th>\n",
              "      <th>first</th>\n",
              "      <th>follow</th>\n",
              "      <th>...</th>\n",
              "      <th>perry</th>\n",
              "      <th>playlist</th>\n",
              "      <th>please</th>\n",
              "      <th>rapper</th>\n",
              "      <th>really</th>\n",
              "      <th>rihanna</th>\n",
              "      <th>see</th>\n",
              "      <th>shakira</th>\n",
              "      <th>share</th>\n",
              "      <th>song</th>\n",
              "      <th>songs</th>\n",
              "      <th>start</th>\n",
              "      <th>still</th>\n",
              "      <th>subscribe</th>\n",
              "      <th>subscribers</th>\n",
              "      <th>take</th>\n",
              "      <th>thank</th>\n",
              "      <th>thanks</th>\n",
              "      <th>think</th>\n",
              "      <th>thumbs</th>\n",
              "      <th>time</th>\n",
              "      <th>today</th>\n",
              "      <th>us</th>\n",
              "      <th>video</th>\n",
              "      <th>videos</th>\n",
              "      <th>views</th>\n",
              "      <th>visit</th>\n",
              "      <th>want</th>\n",
              "      <th>watch</th>\n",
              "      <th>watching</th>\n",
              "      <th>way</th>\n",
              "      <th>website</th>\n",
              "      <th>working</th>\n",
              "      <th>world</th>\n",
              "      <th>would</th>\n",
              "      <th>www</th>\n",
              "      <th>year</th>\n",
              "      <th>years</th>\n",
              "      <th>youtube</th>\n",
              "      <th>zonepa</th>\n",
              "    </tr>\n",
              "  </thead>\n",
              "  <tbody>\n",
              "    <tr>\n",
              "      <th>0</th>\n",
              "      <td>41</td>\n",
              "      <td>0</td>\n",
              "      <td>0</td>\n",
              "      <td>0</td>\n",
              "      <td>0.512195</td>\n",
              "      <td>0.000000</td>\n",
              "      <td>7</td>\n",
              "      <td>21</td>\n",
              "      <td>1.000000</td>\n",
              "      <td>0.000000</td>\n",
              "      <td>0</td>\n",
              "      <td>1</td>\n",
              "      <td>0</td>\n",
              "      <td>0.0</td>\n",
              "      <td>0.0</td>\n",
              "      <td>0.0</td>\n",
              "      <td>0.0</td>\n",
              "      <td>0.000000</td>\n",
              "      <td>0.000000</td>\n",
              "      <td>0.000000</td>\n",
              "      <td>0.0</td>\n",
              "      <td>0.0</td>\n",
              "      <td>0.0</td>\n",
              "      <td>0.0</td>\n",
              "      <td>0.0</td>\n",
              "      <td>0.000000</td>\n",
              "      <td>0.0</td>\n",
              "      <td>0.000000</td>\n",
              "      <td>0.0</td>\n",
              "      <td>0.0</td>\n",
              "      <td>0.0</td>\n",
              "      <td>0.0</td>\n",
              "      <td>0.0</td>\n",
              "      <td>0.0</td>\n",
              "      <td>0.0</td>\n",
              "      <td>0.0</td>\n",
              "      <td>0.0</td>\n",
              "      <td>0.0</td>\n",
              "      <td>0.0</td>\n",
              "      <td>0.0</td>\n",
              "      <td>...</td>\n",
              "      <td>0.0</td>\n",
              "      <td>0.0</td>\n",
              "      <td>0.0</td>\n",
              "      <td>0.0</td>\n",
              "      <td>0.0</td>\n",
              "      <td>0.0</td>\n",
              "      <td>0.0</td>\n",
              "      <td>0.0</td>\n",
              "      <td>0.0</td>\n",
              "      <td>0.000000</td>\n",
              "      <td>0.0</td>\n",
              "      <td>0.0</td>\n",
              "      <td>0.0</td>\n",
              "      <td>0.0</td>\n",
              "      <td>0.0</td>\n",
              "      <td>0.0</td>\n",
              "      <td>0.0</td>\n",
              "      <td>0.0</td>\n",
              "      <td>0.0</td>\n",
              "      <td>0.000000</td>\n",
              "      <td>0.0</td>\n",
              "      <td>0.0</td>\n",
              "      <td>0.0</td>\n",
              "      <td>0.000000</td>\n",
              "      <td>0.0</td>\n",
              "      <td>0.000000</td>\n",
              "      <td>0.0</td>\n",
              "      <td>0.0</td>\n",
              "      <td>0.0</td>\n",
              "      <td>0.0</td>\n",
              "      <td>0.0</td>\n",
              "      <td>0.0</td>\n",
              "      <td>0.0</td>\n",
              "      <td>0.0</td>\n",
              "      <td>0.0</td>\n",
              "      <td>0.0</td>\n",
              "      <td>0.0</td>\n",
              "      <td>0.0</td>\n",
              "      <td>0.00000</td>\n",
              "      <td>0.0</td>\n",
              "    </tr>\n",
              "    <tr>\n",
              "      <th>1</th>\n",
              "      <td>47</td>\n",
              "      <td>0</td>\n",
              "      <td>0</td>\n",
              "      <td>0</td>\n",
              "      <td>0.702128</td>\n",
              "      <td>0.021277</td>\n",
              "      <td>10</td>\n",
              "      <td>34</td>\n",
              "      <td>0.970588</td>\n",
              "      <td>0.029412</td>\n",
              "      <td>0</td>\n",
              "      <td>0</td>\n",
              "      <td>0</td>\n",
              "      <td>0.0</td>\n",
              "      <td>0.0</td>\n",
              "      <td>0.0</td>\n",
              "      <td>0.0</td>\n",
              "      <td>0.000000</td>\n",
              "      <td>0.855075</td>\n",
              "      <td>0.000000</td>\n",
              "      <td>0.0</td>\n",
              "      <td>0.0</td>\n",
              "      <td>0.0</td>\n",
              "      <td>0.0</td>\n",
              "      <td>0.0</td>\n",
              "      <td>0.000000</td>\n",
              "      <td>0.0</td>\n",
              "      <td>0.000000</td>\n",
              "      <td>0.0</td>\n",
              "      <td>0.0</td>\n",
              "      <td>0.0</td>\n",
              "      <td>0.0</td>\n",
              "      <td>0.0</td>\n",
              "      <td>0.0</td>\n",
              "      <td>0.0</td>\n",
              "      <td>0.0</td>\n",
              "      <td>0.0</td>\n",
              "      <td>0.0</td>\n",
              "      <td>0.0</td>\n",
              "      <td>0.0</td>\n",
              "      <td>...</td>\n",
              "      <td>0.0</td>\n",
              "      <td>0.0</td>\n",
              "      <td>0.0</td>\n",
              "      <td>0.0</td>\n",
              "      <td>0.0</td>\n",
              "      <td>0.0</td>\n",
              "      <td>0.0</td>\n",
              "      <td>0.0</td>\n",
              "      <td>0.0</td>\n",
              "      <td>0.518504</td>\n",
              "      <td>0.0</td>\n",
              "      <td>0.0</td>\n",
              "      <td>0.0</td>\n",
              "      <td>0.0</td>\n",
              "      <td>0.0</td>\n",
              "      <td>0.0</td>\n",
              "      <td>0.0</td>\n",
              "      <td>0.0</td>\n",
              "      <td>0.0</td>\n",
              "      <td>0.000000</td>\n",
              "      <td>0.0</td>\n",
              "      <td>0.0</td>\n",
              "      <td>0.0</td>\n",
              "      <td>0.000000</td>\n",
              "      <td>0.0</td>\n",
              "      <td>0.000000</td>\n",
              "      <td>0.0</td>\n",
              "      <td>0.0</td>\n",
              "      <td>0.0</td>\n",
              "      <td>0.0</td>\n",
              "      <td>0.0</td>\n",
              "      <td>0.0</td>\n",
              "      <td>0.0</td>\n",
              "      <td>0.0</td>\n",
              "      <td>0.0</td>\n",
              "      <td>0.0</td>\n",
              "      <td>0.0</td>\n",
              "      <td>0.0</td>\n",
              "      <td>0.00000</td>\n",
              "      <td>0.0</td>\n",
              "    </tr>\n",
              "    <tr>\n",
              "      <th>2</th>\n",
              "      <td>201</td>\n",
              "      <td>4</td>\n",
              "      <td>0</td>\n",
              "      <td>1</td>\n",
              "      <td>0.711443</td>\n",
              "      <td>0.009950</td>\n",
              "      <td>23</td>\n",
              "      <td>145</td>\n",
              "      <td>0.986207</td>\n",
              "      <td>0.013793</td>\n",
              "      <td>0</td>\n",
              "      <td>0</td>\n",
              "      <td>0</td>\n",
              "      <td>0.0</td>\n",
              "      <td>0.0</td>\n",
              "      <td>0.0</td>\n",
              "      <td>0.0</td>\n",
              "      <td>0.000000</td>\n",
              "      <td>0.000000</td>\n",
              "      <td>0.000000</td>\n",
              "      <td>0.0</td>\n",
              "      <td>0.0</td>\n",
              "      <td>0.0</td>\n",
              "      <td>0.0</td>\n",
              "      <td>0.0</td>\n",
              "      <td>0.444962</td>\n",
              "      <td>0.0</td>\n",
              "      <td>0.000000</td>\n",
              "      <td>0.0</td>\n",
              "      <td>0.0</td>\n",
              "      <td>0.0</td>\n",
              "      <td>0.0</td>\n",
              "      <td>0.0</td>\n",
              "      <td>0.0</td>\n",
              "      <td>0.0</td>\n",
              "      <td>0.0</td>\n",
              "      <td>0.0</td>\n",
              "      <td>0.0</td>\n",
              "      <td>0.0</td>\n",
              "      <td>0.0</td>\n",
              "      <td>...</td>\n",
              "      <td>0.0</td>\n",
              "      <td>0.0</td>\n",
              "      <td>0.0</td>\n",
              "      <td>0.0</td>\n",
              "      <td>0.0</td>\n",
              "      <td>0.0</td>\n",
              "      <td>0.0</td>\n",
              "      <td>0.0</td>\n",
              "      <td>0.0</td>\n",
              "      <td>0.000000</td>\n",
              "      <td>0.0</td>\n",
              "      <td>0.0</td>\n",
              "      <td>0.0</td>\n",
              "      <td>0.0</td>\n",
              "      <td>0.0</td>\n",
              "      <td>0.0</td>\n",
              "      <td>0.0</td>\n",
              "      <td>0.0</td>\n",
              "      <td>0.0</td>\n",
              "      <td>0.000000</td>\n",
              "      <td>0.0</td>\n",
              "      <td>0.0</td>\n",
              "      <td>0.0</td>\n",
              "      <td>0.000000</td>\n",
              "      <td>0.0</td>\n",
              "      <td>0.538148</td>\n",
              "      <td>0.0</td>\n",
              "      <td>0.0</td>\n",
              "      <td>0.0</td>\n",
              "      <td>0.0</td>\n",
              "      <td>0.0</td>\n",
              "      <td>0.0</td>\n",
              "      <td>0.0</td>\n",
              "      <td>0.0</td>\n",
              "      <td>0.0</td>\n",
              "      <td>0.0</td>\n",
              "      <td>0.0</td>\n",
              "      <td>0.0</td>\n",
              "      <td>0.41847</td>\n",
              "      <td>0.0</td>\n",
              "    </tr>\n",
              "    <tr>\n",
              "      <th>3</th>\n",
              "      <td>5</td>\n",
              "      <td>0</td>\n",
              "      <td>0</td>\n",
              "      <td>0</td>\n",
              "      <td>0.600000</td>\n",
              "      <td>0.200000</td>\n",
              "      <td>1</td>\n",
              "      <td>4</td>\n",
              "      <td>0.750000</td>\n",
              "      <td>0.250000</td>\n",
              "      <td>0</td>\n",
              "      <td>0</td>\n",
              "      <td>0</td>\n",
              "      <td>0.0</td>\n",
              "      <td>0.0</td>\n",
              "      <td>0.0</td>\n",
              "      <td>0.0</td>\n",
              "      <td>0.000000</td>\n",
              "      <td>0.000000</td>\n",
              "      <td>0.000000</td>\n",
              "      <td>0.0</td>\n",
              "      <td>0.0</td>\n",
              "      <td>0.0</td>\n",
              "      <td>0.0</td>\n",
              "      <td>0.0</td>\n",
              "      <td>0.000000</td>\n",
              "      <td>0.0</td>\n",
              "      <td>0.000000</td>\n",
              "      <td>0.0</td>\n",
              "      <td>1.0</td>\n",
              "      <td>0.0</td>\n",
              "      <td>0.0</td>\n",
              "      <td>0.0</td>\n",
              "      <td>0.0</td>\n",
              "      <td>0.0</td>\n",
              "      <td>0.0</td>\n",
              "      <td>0.0</td>\n",
              "      <td>0.0</td>\n",
              "      <td>0.0</td>\n",
              "      <td>0.0</td>\n",
              "      <td>...</td>\n",
              "      <td>0.0</td>\n",
              "      <td>0.0</td>\n",
              "      <td>0.0</td>\n",
              "      <td>0.0</td>\n",
              "      <td>0.0</td>\n",
              "      <td>0.0</td>\n",
              "      <td>0.0</td>\n",
              "      <td>0.0</td>\n",
              "      <td>0.0</td>\n",
              "      <td>0.000000</td>\n",
              "      <td>0.0</td>\n",
              "      <td>0.0</td>\n",
              "      <td>0.0</td>\n",
              "      <td>0.0</td>\n",
              "      <td>0.0</td>\n",
              "      <td>0.0</td>\n",
              "      <td>0.0</td>\n",
              "      <td>0.0</td>\n",
              "      <td>0.0</td>\n",
              "      <td>0.000000</td>\n",
              "      <td>0.0</td>\n",
              "      <td>0.0</td>\n",
              "      <td>0.0</td>\n",
              "      <td>0.000000</td>\n",
              "      <td>0.0</td>\n",
              "      <td>0.000000</td>\n",
              "      <td>0.0</td>\n",
              "      <td>0.0</td>\n",
              "      <td>0.0</td>\n",
              "      <td>0.0</td>\n",
              "      <td>0.0</td>\n",
              "      <td>0.0</td>\n",
              "      <td>0.0</td>\n",
              "      <td>0.0</td>\n",
              "      <td>0.0</td>\n",
              "      <td>0.0</td>\n",
              "      <td>0.0</td>\n",
              "      <td>0.0</td>\n",
              "      <td>0.00000</td>\n",
              "      <td>0.0</td>\n",
              "    </tr>\n",
              "    <tr>\n",
              "      <th>4</th>\n",
              "      <td>30</td>\n",
              "      <td>0</td>\n",
              "      <td>0</td>\n",
              "      <td>0</td>\n",
              "      <td>0.600000</td>\n",
              "      <td>0.100000</td>\n",
              "      <td>4</td>\n",
              "      <td>21</td>\n",
              "      <td>0.857143</td>\n",
              "      <td>0.142857</td>\n",
              "      <td>0</td>\n",
              "      <td>0</td>\n",
              "      <td>0</td>\n",
              "      <td>0.0</td>\n",
              "      <td>0.0</td>\n",
              "      <td>0.0</td>\n",
              "      <td>0.0</td>\n",
              "      <td>0.000000</td>\n",
              "      <td>0.000000</td>\n",
              "      <td>0.000000</td>\n",
              "      <td>0.0</td>\n",
              "      <td>0.0</td>\n",
              "      <td>0.0</td>\n",
              "      <td>0.0</td>\n",
              "      <td>0.0</td>\n",
              "      <td>0.000000</td>\n",
              "      <td>0.0</td>\n",
              "      <td>0.000000</td>\n",
              "      <td>0.0</td>\n",
              "      <td>0.0</td>\n",
              "      <td>0.0</td>\n",
              "      <td>0.0</td>\n",
              "      <td>0.0</td>\n",
              "      <td>0.0</td>\n",
              "      <td>0.0</td>\n",
              "      <td>0.0</td>\n",
              "      <td>0.0</td>\n",
              "      <td>0.0</td>\n",
              "      <td>0.0</td>\n",
              "      <td>0.0</td>\n",
              "      <td>...</td>\n",
              "      <td>0.0</td>\n",
              "      <td>0.0</td>\n",
              "      <td>0.0</td>\n",
              "      <td>0.0</td>\n",
              "      <td>0.0</td>\n",
              "      <td>0.0</td>\n",
              "      <td>0.0</td>\n",
              "      <td>0.0</td>\n",
              "      <td>0.0</td>\n",
              "      <td>0.000000</td>\n",
              "      <td>0.0</td>\n",
              "      <td>0.0</td>\n",
              "      <td>0.0</td>\n",
              "      <td>0.0</td>\n",
              "      <td>0.0</td>\n",
              "      <td>0.0</td>\n",
              "      <td>0.0</td>\n",
              "      <td>0.0</td>\n",
              "      <td>0.0</td>\n",
              "      <td>0.000000</td>\n",
              "      <td>0.0</td>\n",
              "      <td>0.0</td>\n",
              "      <td>0.0</td>\n",
              "      <td>0.000000</td>\n",
              "      <td>0.0</td>\n",
              "      <td>0.000000</td>\n",
              "      <td>0.0</td>\n",
              "      <td>0.0</td>\n",
              "      <td>0.0</td>\n",
              "      <td>0.0</td>\n",
              "      <td>0.0</td>\n",
              "      <td>0.0</td>\n",
              "      <td>0.0</td>\n",
              "      <td>0.0</td>\n",
              "      <td>0.0</td>\n",
              "      <td>0.0</td>\n",
              "      <td>0.0</td>\n",
              "      <td>0.0</td>\n",
              "      <td>0.00000</td>\n",
              "      <td>0.0</td>\n",
              "    </tr>\n",
              "    <tr>\n",
              "      <th>...</th>\n",
              "      <td>...</td>\n",
              "      <td>...</td>\n",
              "      <td>...</td>\n",
              "      <td>...</td>\n",
              "      <td>...</td>\n",
              "      <td>...</td>\n",
              "      <td>...</td>\n",
              "      <td>...</td>\n",
              "      <td>...</td>\n",
              "      <td>...</td>\n",
              "      <td>...</td>\n",
              "      <td>...</td>\n",
              "      <td>...</td>\n",
              "      <td>...</td>\n",
              "      <td>...</td>\n",
              "      <td>...</td>\n",
              "      <td>...</td>\n",
              "      <td>...</td>\n",
              "      <td>...</td>\n",
              "      <td>...</td>\n",
              "      <td>...</td>\n",
              "      <td>...</td>\n",
              "      <td>...</td>\n",
              "      <td>...</td>\n",
              "      <td>...</td>\n",
              "      <td>...</td>\n",
              "      <td>...</td>\n",
              "      <td>...</td>\n",
              "      <td>...</td>\n",
              "      <td>...</td>\n",
              "      <td>...</td>\n",
              "      <td>...</td>\n",
              "      <td>...</td>\n",
              "      <td>...</td>\n",
              "      <td>...</td>\n",
              "      <td>...</td>\n",
              "      <td>...</td>\n",
              "      <td>...</td>\n",
              "      <td>...</td>\n",
              "      <td>...</td>\n",
              "      <td>...</td>\n",
              "      <td>...</td>\n",
              "      <td>...</td>\n",
              "      <td>...</td>\n",
              "      <td>...</td>\n",
              "      <td>...</td>\n",
              "      <td>...</td>\n",
              "      <td>...</td>\n",
              "      <td>...</td>\n",
              "      <td>...</td>\n",
              "      <td>...</td>\n",
              "      <td>...</td>\n",
              "      <td>...</td>\n",
              "      <td>...</td>\n",
              "      <td>...</td>\n",
              "      <td>...</td>\n",
              "      <td>...</td>\n",
              "      <td>...</td>\n",
              "      <td>...</td>\n",
              "      <td>...</td>\n",
              "      <td>...</td>\n",
              "      <td>...</td>\n",
              "      <td>...</td>\n",
              "      <td>...</td>\n",
              "      <td>...</td>\n",
              "      <td>...</td>\n",
              "      <td>...</td>\n",
              "      <td>...</td>\n",
              "      <td>...</td>\n",
              "      <td>...</td>\n",
              "      <td>...</td>\n",
              "      <td>...</td>\n",
              "      <td>...</td>\n",
              "      <td>...</td>\n",
              "      <td>...</td>\n",
              "      <td>...</td>\n",
              "      <td>...</td>\n",
              "      <td>...</td>\n",
              "      <td>...</td>\n",
              "      <td>...</td>\n",
              "      <td>...</td>\n",
              "    </tr>\n",
              "    <tr>\n",
              "      <th>1951</th>\n",
              "      <td>32</td>\n",
              "      <td>0</td>\n",
              "      <td>0</td>\n",
              "      <td>0</td>\n",
              "      <td>0.781250</td>\n",
              "      <td>0.031250</td>\n",
              "      <td>6</td>\n",
              "      <td>26</td>\n",
              "      <td>0.961538</td>\n",
              "      <td>0.038462</td>\n",
              "      <td>0</td>\n",
              "      <td>0</td>\n",
              "      <td>0</td>\n",
              "      <td>0.0</td>\n",
              "      <td>0.0</td>\n",
              "      <td>0.0</td>\n",
              "      <td>0.0</td>\n",
              "      <td>0.000000</td>\n",
              "      <td>0.000000</td>\n",
              "      <td>0.000000</td>\n",
              "      <td>0.0</td>\n",
              "      <td>0.0</td>\n",
              "      <td>0.0</td>\n",
              "      <td>0.0</td>\n",
              "      <td>0.0</td>\n",
              "      <td>0.000000</td>\n",
              "      <td>0.0</td>\n",
              "      <td>0.809103</td>\n",
              "      <td>0.0</td>\n",
              "      <td>0.0</td>\n",
              "      <td>0.0</td>\n",
              "      <td>0.0</td>\n",
              "      <td>0.0</td>\n",
              "      <td>0.0</td>\n",
              "      <td>0.0</td>\n",
              "      <td>0.0</td>\n",
              "      <td>0.0</td>\n",
              "      <td>0.0</td>\n",
              "      <td>0.0</td>\n",
              "      <td>0.0</td>\n",
              "      <td>...</td>\n",
              "      <td>0.0</td>\n",
              "      <td>0.0</td>\n",
              "      <td>0.0</td>\n",
              "      <td>0.0</td>\n",
              "      <td>0.0</td>\n",
              "      <td>0.0</td>\n",
              "      <td>0.0</td>\n",
              "      <td>0.0</td>\n",
              "      <td>0.0</td>\n",
              "      <td>0.000000</td>\n",
              "      <td>0.0</td>\n",
              "      <td>0.0</td>\n",
              "      <td>0.0</td>\n",
              "      <td>0.0</td>\n",
              "      <td>0.0</td>\n",
              "      <td>0.0</td>\n",
              "      <td>0.0</td>\n",
              "      <td>0.0</td>\n",
              "      <td>0.0</td>\n",
              "      <td>0.000000</td>\n",
              "      <td>0.0</td>\n",
              "      <td>0.0</td>\n",
              "      <td>0.0</td>\n",
              "      <td>0.000000</td>\n",
              "      <td>0.0</td>\n",
              "      <td>0.000000</td>\n",
              "      <td>0.0</td>\n",
              "      <td>0.0</td>\n",
              "      <td>0.0</td>\n",
              "      <td>0.0</td>\n",
              "      <td>0.0</td>\n",
              "      <td>0.0</td>\n",
              "      <td>0.0</td>\n",
              "      <td>0.0</td>\n",
              "      <td>0.0</td>\n",
              "      <td>0.0</td>\n",
              "      <td>0.0</td>\n",
              "      <td>0.0</td>\n",
              "      <td>0.00000</td>\n",
              "      <td>0.0</td>\n",
              "    </tr>\n",
              "    <tr>\n",
              "      <th>1952</th>\n",
              "      <td>15</td>\n",
              "      <td>0</td>\n",
              "      <td>0</td>\n",
              "      <td>0</td>\n",
              "      <td>0.800000</td>\n",
              "      <td>0.000000</td>\n",
              "      <td>3</td>\n",
              "      <td>12</td>\n",
              "      <td>1.000000</td>\n",
              "      <td>0.000000</td>\n",
              "      <td>0</td>\n",
              "      <td>0</td>\n",
              "      <td>0</td>\n",
              "      <td>0.0</td>\n",
              "      <td>0.0</td>\n",
              "      <td>0.0</td>\n",
              "      <td>0.0</td>\n",
              "      <td>0.000000</td>\n",
              "      <td>0.000000</td>\n",
              "      <td>0.000000</td>\n",
              "      <td>0.0</td>\n",
              "      <td>0.0</td>\n",
              "      <td>0.0</td>\n",
              "      <td>0.0</td>\n",
              "      <td>0.0</td>\n",
              "      <td>0.000000</td>\n",
              "      <td>0.0</td>\n",
              "      <td>0.000000</td>\n",
              "      <td>0.0</td>\n",
              "      <td>0.0</td>\n",
              "      <td>0.0</td>\n",
              "      <td>0.0</td>\n",
              "      <td>0.0</td>\n",
              "      <td>0.0</td>\n",
              "      <td>0.0</td>\n",
              "      <td>0.0</td>\n",
              "      <td>0.0</td>\n",
              "      <td>0.0</td>\n",
              "      <td>0.0</td>\n",
              "      <td>0.0</td>\n",
              "      <td>...</td>\n",
              "      <td>0.0</td>\n",
              "      <td>0.0</td>\n",
              "      <td>0.0</td>\n",
              "      <td>0.0</td>\n",
              "      <td>0.0</td>\n",
              "      <td>0.0</td>\n",
              "      <td>0.0</td>\n",
              "      <td>0.0</td>\n",
              "      <td>0.0</td>\n",
              "      <td>0.666715</td>\n",
              "      <td>0.0</td>\n",
              "      <td>0.0</td>\n",
              "      <td>0.0</td>\n",
              "      <td>0.0</td>\n",
              "      <td>0.0</td>\n",
              "      <td>0.0</td>\n",
              "      <td>0.0</td>\n",
              "      <td>0.0</td>\n",
              "      <td>0.0</td>\n",
              "      <td>0.000000</td>\n",
              "      <td>0.0</td>\n",
              "      <td>0.0</td>\n",
              "      <td>0.0</td>\n",
              "      <td>0.000000</td>\n",
              "      <td>0.0</td>\n",
              "      <td>0.000000</td>\n",
              "      <td>0.0</td>\n",
              "      <td>0.0</td>\n",
              "      <td>0.0</td>\n",
              "      <td>0.0</td>\n",
              "      <td>0.0</td>\n",
              "      <td>0.0</td>\n",
              "      <td>0.0</td>\n",
              "      <td>0.0</td>\n",
              "      <td>0.0</td>\n",
              "      <td>0.0</td>\n",
              "      <td>0.0</td>\n",
              "      <td>0.0</td>\n",
              "      <td>0.00000</td>\n",
              "      <td>0.0</td>\n",
              "    </tr>\n",
              "    <tr>\n",
              "      <th>1953</th>\n",
              "      <td>216</td>\n",
              "      <td>4</td>\n",
              "      <td>0</td>\n",
              "      <td>0</td>\n",
              "      <td>0.787037</td>\n",
              "      <td>0.000000</td>\n",
              "      <td>42</td>\n",
              "      <td>170</td>\n",
              "      <td>1.000000</td>\n",
              "      <td>0.000000</td>\n",
              "      <td>0</td>\n",
              "      <td>0</td>\n",
              "      <td>0</td>\n",
              "      <td>0.0</td>\n",
              "      <td>0.0</td>\n",
              "      <td>0.0</td>\n",
              "      <td>0.0</td>\n",
              "      <td>0.406578</td>\n",
              "      <td>0.000000</td>\n",
              "      <td>0.354726</td>\n",
              "      <td>0.0</td>\n",
              "      <td>0.0</td>\n",
              "      <td>0.0</td>\n",
              "      <td>0.0</td>\n",
              "      <td>0.0</td>\n",
              "      <td>0.000000</td>\n",
              "      <td>0.0</td>\n",
              "      <td>0.000000</td>\n",
              "      <td>0.0</td>\n",
              "      <td>0.0</td>\n",
              "      <td>0.0</td>\n",
              "      <td>0.0</td>\n",
              "      <td>0.0</td>\n",
              "      <td>0.0</td>\n",
              "      <td>0.0</td>\n",
              "      <td>0.0</td>\n",
              "      <td>0.0</td>\n",
              "      <td>0.0</td>\n",
              "      <td>0.0</td>\n",
              "      <td>0.0</td>\n",
              "      <td>...</td>\n",
              "      <td>0.0</td>\n",
              "      <td>0.0</td>\n",
              "      <td>0.0</td>\n",
              "      <td>0.0</td>\n",
              "      <td>0.0</td>\n",
              "      <td>0.0</td>\n",
              "      <td>0.0</td>\n",
              "      <td>0.0</td>\n",
              "      <td>0.0</td>\n",
              "      <td>0.246543</td>\n",
              "      <td>0.0</td>\n",
              "      <td>0.0</td>\n",
              "      <td>0.0</td>\n",
              "      <td>0.0</td>\n",
              "      <td>0.0</td>\n",
              "      <td>0.0</td>\n",
              "      <td>0.0</td>\n",
              "      <td>0.0</td>\n",
              "      <td>0.0</td>\n",
              "      <td>0.389404</td>\n",
              "      <td>0.0</td>\n",
              "      <td>0.0</td>\n",
              "      <td>0.0</td>\n",
              "      <td>0.237278</td>\n",
              "      <td>0.0</td>\n",
              "      <td>0.000000</td>\n",
              "      <td>0.0</td>\n",
              "      <td>0.0</td>\n",
              "      <td>0.0</td>\n",
              "      <td>0.0</td>\n",
              "      <td>0.0</td>\n",
              "      <td>0.0</td>\n",
              "      <td>0.0</td>\n",
              "      <td>0.0</td>\n",
              "      <td>0.0</td>\n",
              "      <td>0.0</td>\n",
              "      <td>0.0</td>\n",
              "      <td>0.0</td>\n",
              "      <td>0.00000</td>\n",
              "      <td>0.0</td>\n",
              "    </tr>\n",
              "    <tr>\n",
              "      <th>1954</th>\n",
              "      <td>48</td>\n",
              "      <td>0</td>\n",
              "      <td>0</td>\n",
              "      <td>0</td>\n",
              "      <td>0.000000</td>\n",
              "      <td>0.729167</td>\n",
              "      <td>9</td>\n",
              "      <td>35</td>\n",
              "      <td>0.000000</td>\n",
              "      <td>1.000000</td>\n",
              "      <td>0</td>\n",
              "      <td>0</td>\n",
              "      <td>0</td>\n",
              "      <td>0.0</td>\n",
              "      <td>0.0</td>\n",
              "      <td>0.0</td>\n",
              "      <td>0.0</td>\n",
              "      <td>0.000000</td>\n",
              "      <td>0.000000</td>\n",
              "      <td>0.000000</td>\n",
              "      <td>0.0</td>\n",
              "      <td>0.0</td>\n",
              "      <td>0.0</td>\n",
              "      <td>0.0</td>\n",
              "      <td>0.0</td>\n",
              "      <td>0.000000</td>\n",
              "      <td>0.0</td>\n",
              "      <td>0.000000</td>\n",
              "      <td>0.0</td>\n",
              "      <td>0.0</td>\n",
              "      <td>0.0</td>\n",
              "      <td>0.0</td>\n",
              "      <td>0.0</td>\n",
              "      <td>0.0</td>\n",
              "      <td>0.0</td>\n",
              "      <td>0.0</td>\n",
              "      <td>0.0</td>\n",
              "      <td>0.0</td>\n",
              "      <td>0.0</td>\n",
              "      <td>0.0</td>\n",
              "      <td>...</td>\n",
              "      <td>0.0</td>\n",
              "      <td>0.0</td>\n",
              "      <td>0.0</td>\n",
              "      <td>0.0</td>\n",
              "      <td>0.0</td>\n",
              "      <td>0.0</td>\n",
              "      <td>0.0</td>\n",
              "      <td>0.0</td>\n",
              "      <td>0.0</td>\n",
              "      <td>0.000000</td>\n",
              "      <td>0.0</td>\n",
              "      <td>0.0</td>\n",
              "      <td>0.0</td>\n",
              "      <td>0.0</td>\n",
              "      <td>0.0</td>\n",
              "      <td>0.0</td>\n",
              "      <td>0.0</td>\n",
              "      <td>0.0</td>\n",
              "      <td>0.0</td>\n",
              "      <td>1.000000</td>\n",
              "      <td>0.0</td>\n",
              "      <td>0.0</td>\n",
              "      <td>0.0</td>\n",
              "      <td>0.000000</td>\n",
              "      <td>0.0</td>\n",
              "      <td>0.000000</td>\n",
              "      <td>0.0</td>\n",
              "      <td>0.0</td>\n",
              "      <td>0.0</td>\n",
              "      <td>0.0</td>\n",
              "      <td>0.0</td>\n",
              "      <td>0.0</td>\n",
              "      <td>0.0</td>\n",
              "      <td>0.0</td>\n",
              "      <td>0.0</td>\n",
              "      <td>0.0</td>\n",
              "      <td>0.0</td>\n",
              "      <td>0.0</td>\n",
              "      <td>0.00000</td>\n",
              "      <td>0.0</td>\n",
              "    </tr>\n",
              "    <tr>\n",
              "      <th>1955</th>\n",
              "      <td>8</td>\n",
              "      <td>0</td>\n",
              "      <td>0</td>\n",
              "      <td>0</td>\n",
              "      <td>0.000000</td>\n",
              "      <td>0.500000</td>\n",
              "      <td>2</td>\n",
              "      <td>4</td>\n",
              "      <td>0.000000</td>\n",
              "      <td>1.000000</td>\n",
              "      <td>0</td>\n",
              "      <td>0</td>\n",
              "      <td>0</td>\n",
              "      <td>0.0</td>\n",
              "      <td>0.0</td>\n",
              "      <td>0.0</td>\n",
              "      <td>0.0</td>\n",
              "      <td>0.000000</td>\n",
              "      <td>0.000000</td>\n",
              "      <td>0.000000</td>\n",
              "      <td>0.0</td>\n",
              "      <td>0.0</td>\n",
              "      <td>0.0</td>\n",
              "      <td>0.0</td>\n",
              "      <td>0.0</td>\n",
              "      <td>0.000000</td>\n",
              "      <td>0.0</td>\n",
              "      <td>0.000000</td>\n",
              "      <td>0.0</td>\n",
              "      <td>0.0</td>\n",
              "      <td>0.0</td>\n",
              "      <td>0.0</td>\n",
              "      <td>0.0</td>\n",
              "      <td>0.0</td>\n",
              "      <td>0.0</td>\n",
              "      <td>0.0</td>\n",
              "      <td>0.0</td>\n",
              "      <td>0.0</td>\n",
              "      <td>0.0</td>\n",
              "      <td>0.0</td>\n",
              "      <td>...</td>\n",
              "      <td>0.0</td>\n",
              "      <td>0.0</td>\n",
              "      <td>0.0</td>\n",
              "      <td>0.0</td>\n",
              "      <td>0.0</td>\n",
              "      <td>0.0</td>\n",
              "      <td>0.0</td>\n",
              "      <td>0.0</td>\n",
              "      <td>0.0</td>\n",
              "      <td>0.000000</td>\n",
              "      <td>0.0</td>\n",
              "      <td>0.0</td>\n",
              "      <td>0.0</td>\n",
              "      <td>0.0</td>\n",
              "      <td>0.0</td>\n",
              "      <td>0.0</td>\n",
              "      <td>0.0</td>\n",
              "      <td>0.0</td>\n",
              "      <td>0.0</td>\n",
              "      <td>0.000000</td>\n",
              "      <td>0.0</td>\n",
              "      <td>0.0</td>\n",
              "      <td>0.0</td>\n",
              "      <td>0.000000</td>\n",
              "      <td>0.0</td>\n",
              "      <td>0.000000</td>\n",
              "      <td>0.0</td>\n",
              "      <td>0.0</td>\n",
              "      <td>0.0</td>\n",
              "      <td>0.0</td>\n",
              "      <td>0.0</td>\n",
              "      <td>0.0</td>\n",
              "      <td>0.0</td>\n",
              "      <td>0.0</td>\n",
              "      <td>0.0</td>\n",
              "      <td>0.0</td>\n",
              "      <td>0.0</td>\n",
              "      <td>0.0</td>\n",
              "      <td>0.00000</td>\n",
              "      <td>0.0</td>\n",
              "    </tr>\n",
              "  </tbody>\n",
              "</table>\n",
              "<p>1956 rows × 113 columns</p>\n",
              "</div>"
            ],
            "text/plain": [
              "      n_caracteres  n_dots  n_artist  n_urls  ...  year  years  youtube  zonepa\n",
              "0               41       0         0       0  ...   0.0    0.0  0.00000     0.0\n",
              "1               47       0         0       0  ...   0.0    0.0  0.00000     0.0\n",
              "2              201       4         0       1  ...   0.0    0.0  0.41847     0.0\n",
              "3                5       0         0       0  ...   0.0    0.0  0.00000     0.0\n",
              "4               30       0         0       0  ...   0.0    0.0  0.00000     0.0\n",
              "...            ...     ...       ...     ...  ...   ...    ...      ...     ...\n",
              "1951            32       0         0       0  ...   0.0    0.0  0.00000     0.0\n",
              "1952            15       0         0       0  ...   0.0    0.0  0.00000     0.0\n",
              "1953           216       4         0       0  ...   0.0    0.0  0.00000     0.0\n",
              "1954            48       0         0       0  ...   0.0    0.0  0.00000     0.0\n",
              "1955             8       0         0       0  ...   0.0    0.0  0.00000     0.0\n",
              "\n",
              "[1956 rows x 113 columns]"
            ]
          },
          "metadata": {
            "tags": []
          },
          "execution_count": 82
        }
      ]
    },
    {
      "cell_type": "code",
      "metadata": {
        "ExecuteTime": {
          "end_time": "2021-01-23T13:59:02.022001Z",
          "start_time": "2021-01-23T13:59:02.006146Z"
        },
        "id": "fnzQe02gPEZo",
        "colab": {
          "base_uri": "https://localhost:8080/"
        },
        "outputId": "89fb151b-92ed-426b-e04a-81f1b0cfa857"
      },
      "source": [
        "X.shape"
      ],
      "execution_count": 83,
      "outputs": [
        {
          "output_type": "execute_result",
          "data": {
            "text/plain": [
              "(1956, 113)"
            ]
          },
          "metadata": {
            "tags": []
          },
          "execution_count": 83
        }
      ]
    },
    {
      "cell_type": "markdown",
      "metadata": {
        "id": "mnwwwzuMi6OJ"
      },
      "source": [
        "## K BEST"
      ]
    },
    {
      "cell_type": "code",
      "metadata": {
        "ExecuteTime": {
          "end_time": "2021-01-23T04:37:43.603516Z",
          "start_time": "2021-01-23T04:37:43.595344Z"
        },
        "id": "0uZuk84MPEZo"
      },
      "source": [
        "kb = SelectKBest(k=10, score_func=f_classif)"
      ],
      "execution_count": 84,
      "outputs": []
    },
    {
      "cell_type": "code",
      "metadata": {
        "ExecuteTime": {
          "end_time": "2021-01-23T04:39:05.476651Z",
          "start_time": "2021-01-23T04:39:05.450695Z"
        },
        "id": "czRKRkRkPEZp",
        "colab": {
          "base_uri": "https://localhost:8080/"
        },
        "outputId": "e596d581-8cf9-4860-cf64-54f221d28670"
      },
      "source": [
        "kb.fit(X, y)"
      ],
      "execution_count": 85,
      "outputs": [
        {
          "output_type": "stream",
          "text": [
            "/usr/local/lib/python3.6/dist-packages/sklearn/feature_selection/_univariate_selection.py:114: UserWarning: Features [12] are constant.\n",
            "  UserWarning)\n",
            "/usr/local/lib/python3.6/dist-packages/sklearn/feature_selection/_univariate_selection.py:115: RuntimeWarning: invalid value encountered in true_divide\n",
            "  f = msb / msw\n"
          ],
          "name": "stderr"
        },
        {
          "output_type": "execute_result",
          "data": {
            "text/plain": [
              "SelectKBest(k=10, score_func=<function f_classif at 0x7f2a3b1de378>)"
            ]
          },
          "metadata": {
            "tags": []
          },
          "execution_count": 85
        }
      ]
    },
    {
      "cell_type": "code",
      "metadata": {
        "ExecuteTime": {
          "end_time": "2021-01-23T04:39:45.738201Z",
          "start_time": "2021-01-23T04:39:45.728991Z"
        },
        "id": "9is1BdT6PEZp"
      },
      "source": [
        "ls_best = [x for x, y in zip(X.columns, kb.get_support()) if y]"
      ],
      "execution_count": 86,
      "outputs": []
    },
    {
      "cell_type": "code",
      "metadata": {
        "ExecuteTime": {
          "end_time": "2021-01-23T04:40:02.823176Z",
          "start_time": "2021-01-23T04:40:02.813540Z"
        },
        "id": "6sE_rh6LPEZp",
        "colab": {
          "base_uri": "https://localhost:8080/"
        },
        "outputId": "b159cece-0a9b-46db-f091-05a275bdff32"
      },
      "source": [
        "kb.get_support()"
      ],
      "execution_count": 87,
      "outputs": [
        {
          "output_type": "execute_result",
          "data": {
            "text/plain": [
              "array([ True, False, False, False, False, False,  True,  True, False,\n",
              "       False, False, False, False, False, False, False, False, False,\n",
              "       False, False, False, False, False,  True,  True,  True, False,\n",
              "       False, False, False, False, False, False, False, False, False,\n",
              "       False, False, False, False, False, False, False, False, False,\n",
              "       False, False, False, False, False, False, False, False, False,\n",
              "       False, False, False, False, False, False, False, False, False,\n",
              "       False, False, False, False, False, False, False, False, False,\n",
              "       False, False, False,  True, False, False, False, False, False,\n",
              "       False,  True, False, False, False,  True, False, False, False,\n",
              "       False, False, False, False, False, False, False, False, False,\n",
              "       False, False, False, False, False, False, False, False, False,\n",
              "       False, False, False,  True, False])"
            ]
          },
          "metadata": {
            "tags": []
          },
          "execution_count": 87
        }
      ]
    },
    {
      "cell_type": "code",
      "metadata": {
        "ExecuteTime": {
          "end_time": "2021-01-23T04:39:50.361201Z",
          "start_time": "2021-01-23T04:39:50.346703Z"
        },
        "id": "10t75_PvPEZq",
        "colab": {
          "base_uri": "https://localhost:8080/"
        },
        "outputId": "fdacee0e-0d09-49f9-cbf6-be7f7e932e13"
      },
      "source": [
        "ls_best"
      ],
      "execution_count": 88,
      "outputs": [
        {
          "output_type": "execute_result",
          "data": {
            "text/plain": [
              "['n_caracteres',\n",
              " 'n_words',\n",
              " 'n_letters',\n",
              " 'channel',\n",
              " 'check',\n",
              " 'com',\n",
              " 'please',\n",
              " 'song',\n",
              " 'subscribe',\n",
              " 'youtube']"
            ]
          },
          "metadata": {
            "tags": []
          },
          "execution_count": 88
        }
      ]
    },
    {
      "cell_type": "code",
      "metadata": {
        "ExecuteTime": {
          "end_time": "2021-01-23T04:40:44.469188Z",
          "start_time": "2021-01-23T04:40:44.458418Z"
        },
        "id": "VyvnJeknPEZq"
      },
      "source": [
        "X = X[ls_best]"
      ],
      "execution_count": 89,
      "outputs": []
    },
    {
      "cell_type": "code",
      "metadata": {
        "ExecuteTime": {
          "end_time": "2021-01-23T04:40:58.533346Z",
          "start_time": "2021-01-23T04:40:58.519524Z"
        },
        "id": "CmiAGUARPEZq"
      },
      "source": [
        "X_train, X_test, y_train, y_test = train_test_split(X, y)"
      ],
      "execution_count": 90,
      "outputs": []
    },
    {
      "cell_type": "markdown",
      "metadata": {
        "id": "BptsWRmTi-Zj"
      },
      "source": [
        "## Logistic Regression"
      ]
    },
    {
      "cell_type": "code",
      "metadata": {
        "ExecuteTime": {
          "end_time": "2021-01-23T04:41:51.664501Z",
          "start_time": "2021-01-23T04:41:51.660045Z"
        },
        "id": "ogKxh-NVPEZr"
      },
      "source": [
        "logreg = LogisticRegression()"
      ],
      "execution_count": 100,
      "outputs": []
    },
    {
      "cell_type": "code",
      "metadata": {
        "ExecuteTime": {
          "end_time": "2021-01-23T04:42:05.613642Z",
          "start_time": "2021-01-23T04:42:05.384132Z"
        },
        "id": "aGtskP72PEZr",
        "colab": {
          "base_uri": "https://localhost:8080/"
        },
        "outputId": "f4f3782d-05dd-4633-ee26-da1a843c93d5"
      },
      "source": [
        "logreg.fit(X_train, y_train,)"
      ],
      "execution_count": 101,
      "outputs": [
        {
          "output_type": "stream",
          "text": [
            "/usr/local/lib/python3.6/dist-packages/sklearn/linear_model/_logistic.py:940: ConvergenceWarning: lbfgs failed to converge (status=1):\n",
            "STOP: TOTAL NO. of ITERATIONS REACHED LIMIT.\n",
            "\n",
            "Increase the number of iterations (max_iter) or scale the data as shown in:\n",
            "    https://scikit-learn.org/stable/modules/preprocessing.html\n",
            "Please also refer to the documentation for alternative solver options:\n",
            "    https://scikit-learn.org/stable/modules/linear_model.html#logistic-regression\n",
            "  extra_warning_msg=_LOGISTIC_SOLVER_CONVERGENCE_MSG)\n"
          ],
          "name": "stderr"
        },
        {
          "output_type": "execute_result",
          "data": {
            "text/plain": [
              "LogisticRegression(C=1.0, class_weight=None, dual=False, fit_intercept=True,\n",
              "                   intercept_scaling=1, l1_ratio=None, max_iter=100,\n",
              "                   multi_class='auto', n_jobs=None, penalty='l2',\n",
              "                   random_state=None, solver='lbfgs', tol=0.0001, verbose=0,\n",
              "                   warm_start=False)"
            ]
          },
          "metadata": {
            "tags": []
          },
          "execution_count": 101
        }
      ]
    },
    {
      "cell_type": "code",
      "metadata": {
        "ExecuteTime": {
          "end_time": "2021-01-23T16:49:58.325333Z",
          "start_time": "2021-01-23T16:49:58.300797Z"
        },
        "id": "Sq7v7EdsPEZr",
        "colab": {
          "base_uri": "https://localhost:8080/"
        },
        "outputId": "f4a2dba6-be3b-45fd-976e-518aa7fa45b3"
      },
      "source": [
        "logreg.coef_"
      ],
      "execution_count": 102,
      "outputs": [
        {
          "output_type": "execute_result",
          "data": {
            "text/plain": [
              "array([[ 0.01233108, -0.12638245,  0.02995341,  3.42131467,  6.75957947,\n",
              "         4.44200558,  4.01220728, -2.12410062,  4.65937914,  1.50361854]])"
            ]
          },
          "metadata": {
            "tags": []
          },
          "execution_count": 102
        }
      ]
    },
    {
      "cell_type": "code",
      "metadata": {
        "ExecuteTime": {
          "end_time": "2021-01-23T04:42:21.810936Z",
          "start_time": "2021-01-23T04:42:21.798802Z"
        },
        "id": "Xl7PNhMuPEZs",
        "colab": {
          "base_uri": "https://localhost:8080/"
        },
        "outputId": "5e828d9d-944a-470f-a5b8-31b6c0fae5e5"
      },
      "source": [
        "logreg.score(X_test, y_test)"
      ],
      "execution_count": 103,
      "outputs": [
        {
          "output_type": "execute_result",
          "data": {
            "text/plain": [
              "0.9038854805725971"
            ]
          },
          "metadata": {
            "tags": []
          },
          "execution_count": 103
        }
      ]
    },
    {
      "cell_type": "code",
      "metadata": {
        "ExecuteTime": {
          "end_time": "2021-01-23T04:44:21.138157Z",
          "start_time": "2021-01-23T04:44:21.117879Z"
        },
        "id": "oiMjKpoJPEZs",
        "colab": {
          "base_uri": "https://localhost:8080/"
        },
        "outputId": "e5409ced-e039-4c26-f25c-7a5806b70034"
      },
      "source": [
        "from sklearn.metrics import roc_auc_score,accuracy_score,confusion_matrix\n",
        "\n",
        "def metricas(model,Xv,yv): #Mide efectividad de un Modelo Predictivo\n",
        "    print( \" Roc Validate: %.3f\" %roc_auc_score(y_score=model.predict_proba(Xv)[:,1],y_true=yv))\n",
        "    print( \" Acc Validate: %.3f\" %accuracy_score(y_pred=model.predict(Xv),y_true=yv))\n",
        "    print( \" Matrix Conf Validate: \", \"\\n\",confusion_matrix(y_pred=model.predict(Xv),y_true=yv))\n",
        "\n",
        "metricas(logreg,X_test, y_test)"
      ],
      "execution_count": 104,
      "outputs": [
        {
          "output_type": "stream",
          "text": [
            " Roc Validate: 0.952\n",
            " Acc Validate: 0.904\n",
            " Matrix Conf Validate:  \n",
            " [[211  11]\n",
            " [ 36 231]]\n"
          ],
          "name": "stdout"
        }
      ]
    },
    {
      "cell_type": "markdown",
      "metadata": {
        "id": "n0qBJV7ajJPS"
      },
      "source": [
        "## KNN"
      ]
    },
    {
      "cell_type": "code",
      "metadata": {
        "ExecuteTime": {
          "end_time": "2021-01-23T04:45:20.165142Z",
          "start_time": "2021-01-23T04:45:20.160562Z"
        },
        "id": "y23isgckPEZt"
      },
      "source": [
        "from sklearn.neighbors import KNeighborsClassifier"
      ],
      "execution_count": 106,
      "outputs": []
    },
    {
      "cell_type": "code",
      "metadata": {
        "ExecuteTime": {
          "end_time": "2021-01-23T04:45:36.185888Z",
          "start_time": "2021-01-23T04:45:36.178427Z"
        },
        "id": "X0eYWDwvPEZt"
      },
      "source": [
        "knn=KNeighborsClassifier()"
      ],
      "execution_count": 107,
      "outputs": []
    },
    {
      "cell_type": "code",
      "metadata": {
        "ExecuteTime": {
          "end_time": "2021-01-23T04:45:57.263111Z",
          "start_time": "2021-01-23T04:45:57.245860Z"
        },
        "id": "IGQDyYIfPEZt",
        "colab": {
          "base_uri": "https://localhost:8080/"
        },
        "outputId": "0872f250-70ac-48fa-d6af-0ebd77b4c415"
      },
      "source": [
        "knn.fit(X_train,y_train)"
      ],
      "execution_count": 108,
      "outputs": [
        {
          "output_type": "execute_result",
          "data": {
            "text/plain": [
              "KNeighborsClassifier(algorithm='auto', leaf_size=30, metric='minkowski',\n",
              "                     metric_params=None, n_jobs=None, n_neighbors=5, p=2,\n",
              "                     weights='uniform')"
            ]
          },
          "metadata": {
            "tags": []
          },
          "execution_count": 108
        }
      ]
    },
    {
      "cell_type": "code",
      "metadata": {
        "ExecuteTime": {
          "end_time": "2021-01-23T04:46:09.535363Z",
          "start_time": "2021-01-23T04:46:09.473567Z"
        },
        "id": "yQPYu-9mPEZu",
        "colab": {
          "base_uri": "https://localhost:8080/"
        },
        "outputId": "f0013161-b242-48de-8003-642c456ab467"
      },
      "source": [
        "metricas(knn,X_test, y_test)"
      ],
      "execution_count": 109,
      "outputs": [
        {
          "output_type": "stream",
          "text": [
            " Roc Validate: 0.824\n",
            " Acc Validate: 0.744\n",
            " Matrix Conf Validate:  \n",
            " [[185  37]\n",
            " [ 88 179]]\n"
          ],
          "name": "stdout"
        }
      ]
    },
    {
      "cell_type": "markdown",
      "metadata": {
        "id": "svwuNY3pjMmg"
      },
      "source": [
        "## SVM"
      ]
    },
    {
      "cell_type": "code",
      "metadata": {
        "ExecuteTime": {
          "end_time": "2021-01-23T04:47:20.354385Z",
          "start_time": "2021-01-23T04:47:20.348758Z"
        },
        "id": "MuU7z2jjPEZu"
      },
      "source": [
        "from sklearn.svm import SVC"
      ],
      "execution_count": 110,
      "outputs": []
    },
    {
      "cell_type": "code",
      "metadata": {
        "ExecuteTime": {
          "end_time": "2021-01-23T04:48:28.801386Z",
          "start_time": "2021-01-23T04:48:28.796391Z"
        },
        "id": "X-KSja_YPEZu"
      },
      "source": [
        "svm=SVC(kernel='rbf',probability=True)"
      ],
      "execution_count": 111,
      "outputs": []
    },
    {
      "cell_type": "code",
      "metadata": {
        "ExecuteTime": {
          "end_time": "2021-01-23T04:48:40.785283Z",
          "start_time": "2021-01-23T04:48:40.408071Z"
        },
        "id": "mKYcdBnoPEZv",
        "colab": {
          "base_uri": "https://localhost:8080/"
        },
        "outputId": "37cbd3ed-fbdf-48ad-f8a8-a294be27d51d"
      },
      "source": [
        "svm.fit(X_train,y_train)"
      ],
      "execution_count": 112,
      "outputs": [
        {
          "output_type": "execute_result",
          "data": {
            "text/plain": [
              "SVC(C=1.0, break_ties=False, cache_size=200, class_weight=None, coef0=0.0,\n",
              "    decision_function_shape='ovr', degree=3, gamma='scale', kernel='rbf',\n",
              "    max_iter=-1, probability=True, random_state=None, shrinking=True, tol=0.001,\n",
              "    verbose=False)"
            ]
          },
          "metadata": {
            "tags": []
          },
          "execution_count": 112
        }
      ]
    },
    {
      "cell_type": "code",
      "metadata": {
        "ExecuteTime": {
          "end_time": "2021-01-23T04:48:41.117872Z",
          "start_time": "2021-01-23T04:48:41.024685Z"
        },
        "id": "XmEzqgWLPEZv",
        "colab": {
          "base_uri": "https://localhost:8080/"
        },
        "outputId": "b584f811-49f6-4bcf-d06f-fba20e529058"
      },
      "source": [
        "metricas(svm,X_test, y_test)"
      ],
      "execution_count": 113,
      "outputs": [
        {
          "output_type": "stream",
          "text": [
            " Roc Validate: 0.754\n",
            " Acc Validate: 0.632\n",
            " Matrix Conf Validate:  \n",
            " [[154  68]\n",
            " [112 155]]\n"
          ],
          "name": "stdout"
        }
      ]
    },
    {
      "cell_type": "code",
      "metadata": {
        "id": "3rT2g1SWPEZv"
      },
      "source": [
        ""
      ],
      "execution_count": null,
      "outputs": []
    }
  ]
}