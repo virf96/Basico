{
  "nbformat": 4,
  "nbformat_minor": 0,
  "metadata": {
    "kernelspec": {
      "name": "python3",
      "display_name": "Python 3"
    },
    "toc": {
      "base_numbering": 1,
      "nav_menu": {},
      "number_sections": true,
      "sideBar": true,
      "skip_h1_title": false,
      "title_cell": "Table of Contents",
      "title_sidebar": "Contents",
      "toc_cell": false,
      "toc_position": {},
      "toc_section_display": true,
      "toc_window_display": true
    },
    "colab": {
      "name": "Métricas_Confusion-Matrix-FPR-FNR.ipynb",
      "provenance": [],
      "collapsed_sections": [],
      "toc_visible": true,
      "include_colab_link": true
    }
  },
  "cells": [
    {
      "cell_type": "markdown",
      "metadata": {
        "id": "view-in-github",
        "colab_type": "text"
      },
      "source": [
        "<a href=\"https://colab.research.google.com/github/virf96/Basico/blob/main/M%C3%A9tricas_Confusion_Matrix_FPR_FNR.ipynb\" target=\"_parent\"><img src=\"https://colab.research.google.com/assets/colab-badge.svg\" alt=\"Open In Colab\"/></a>"
      ]
    },
    {
      "cell_type": "markdown",
      "metadata": {
        "id": "0WVtKOXQhSTB"
      },
      "source": [
        "## Confusion matrix, false positive and false negative rate\n",
        "\n",
        "- **FPR** = fp / (tn + fp)\n",
        "\n",
        "- **FNR** = fn / (tp + fn)\n",
        "\n",
        "\n",
        "The confusion matrix, the FPR and the FNR depend on the probability threshold utilised to determine the class output."
      ]
    },
    {
      "cell_type": "code",
      "metadata": {
        "id": "Kp7iOYUchSTS"
      },
      "source": [
        "import numpy as np\n",
        "import pandas as pd\n",
        "import matplotlib.pyplot as plt\n",
        "\n",
        "from sklearn.ensemble import RandomForestClassifier\n",
        "from sklearn.linear_model import LogisticRegression\n",
        "from sklearn.model_selection import train_test_split\n",
        "\n",
        "from sklearn.metrics import confusion_matrix"
      ],
      "execution_count": null,
      "outputs": []
    },
    {
      "cell_type": "markdown",
      "metadata": {
        "id": "eqYqdCGjhSTV"
      },
      "source": [
        "## Load data"
      ]
    },
    {
      "cell_type": "code",
      "metadata": {
        "colab": {
          "base_uri": "https://localhost:8080/"
        },
        "id": "cQ5KUW8pmKKL",
        "outputId": "54466c0d-1c0d-4f76-a074-8b3ae4a9b78d"
      },
      "source": [
        "from google.colab import drive\n",
        "drive.mount('/content/drive')"
      ],
      "execution_count": null,
      "outputs": [
        {
          "output_type": "stream",
          "text": [
            "Mounted at /content/drive\n"
          ],
          "name": "stdout"
        }
      ]
    },
    {
      "cell_type": "code",
      "metadata": {
        "colab": {
          "base_uri": "https://localhost:8080/",
          "height": 211
        },
        "id": "69kubF8ThSTW",
        "outputId": "518f86c4-be1a-4326-e4b0-4e07a5046520"
      },
      "source": [
        "# load data\n",
        "data = pd.read_csv('/content/drive/MyDrive/datasets/kdd2004.csv')\n",
        "\n",
        "# remap target class to 0 and 1\n",
        "data['target'] = data['target'].map({-1:0, 1:1})\n",
        "\n",
        "data.head()"
      ],
      "execution_count": null,
      "outputs": [
        {
          "output_type": "execute_result",
          "data": {
            "text/html": [
              "<div>\n",
              "<style scoped>\n",
              "    .dataframe tbody tr th:only-of-type {\n",
              "        vertical-align: middle;\n",
              "    }\n",
              "\n",
              "    .dataframe tbody tr th {\n",
              "        vertical-align: top;\n",
              "    }\n",
              "\n",
              "    .dataframe thead th {\n",
              "        text-align: right;\n",
              "    }\n",
              "</style>\n",
              "<table border=\"1\" class=\"dataframe\">\n",
              "  <thead>\n",
              "    <tr style=\"text-align: right;\">\n",
              "      <th></th>\n",
              "      <th>0</th>\n",
              "      <th>1</th>\n",
              "      <th>2</th>\n",
              "      <th>3</th>\n",
              "      <th>4</th>\n",
              "      <th>5</th>\n",
              "      <th>6</th>\n",
              "      <th>7</th>\n",
              "      <th>8</th>\n",
              "      <th>9</th>\n",
              "      <th>10</th>\n",
              "      <th>11</th>\n",
              "      <th>12</th>\n",
              "      <th>13</th>\n",
              "      <th>14</th>\n",
              "      <th>15</th>\n",
              "      <th>16</th>\n",
              "      <th>17</th>\n",
              "      <th>18</th>\n",
              "      <th>19</th>\n",
              "      <th>20</th>\n",
              "      <th>21</th>\n",
              "      <th>22</th>\n",
              "      <th>23</th>\n",
              "      <th>24</th>\n",
              "      <th>25</th>\n",
              "      <th>26</th>\n",
              "      <th>27</th>\n",
              "      <th>28</th>\n",
              "      <th>29</th>\n",
              "      <th>30</th>\n",
              "      <th>31</th>\n",
              "      <th>32</th>\n",
              "      <th>33</th>\n",
              "      <th>34</th>\n",
              "      <th>35</th>\n",
              "      <th>36</th>\n",
              "      <th>37</th>\n",
              "      <th>38</th>\n",
              "      <th>39</th>\n",
              "      <th>40</th>\n",
              "      <th>41</th>\n",
              "      <th>42</th>\n",
              "      <th>43</th>\n",
              "      <th>44</th>\n",
              "      <th>45</th>\n",
              "      <th>46</th>\n",
              "      <th>47</th>\n",
              "      <th>48</th>\n",
              "      <th>49</th>\n",
              "      <th>50</th>\n",
              "      <th>51</th>\n",
              "      <th>52</th>\n",
              "      <th>53</th>\n",
              "      <th>54</th>\n",
              "      <th>55</th>\n",
              "      <th>56</th>\n",
              "      <th>57</th>\n",
              "      <th>58</th>\n",
              "      <th>59</th>\n",
              "      <th>60</th>\n",
              "      <th>61</th>\n",
              "      <th>62</th>\n",
              "      <th>63</th>\n",
              "      <th>64</th>\n",
              "      <th>65</th>\n",
              "      <th>66</th>\n",
              "      <th>67</th>\n",
              "      <th>68</th>\n",
              "      <th>69</th>\n",
              "      <th>70</th>\n",
              "      <th>71</th>\n",
              "      <th>72</th>\n",
              "      <th>73</th>\n",
              "      <th>target</th>\n",
              "    </tr>\n",
              "  </thead>\n",
              "  <tbody>\n",
              "    <tr>\n",
              "      <th>0</th>\n",
              "      <td>52.0</td>\n",
              "      <td>32.69</td>\n",
              "      <td>0.30</td>\n",
              "      <td>2.5</td>\n",
              "      <td>20.0</td>\n",
              "      <td>1256.8</td>\n",
              "      <td>-0.89</td>\n",
              "      <td>0.33</td>\n",
              "      <td>11.0</td>\n",
              "      <td>-55.0</td>\n",
              "      <td>267.2</td>\n",
              "      <td>0.52</td>\n",
              "      <td>0.05</td>\n",
              "      <td>-2.36</td>\n",
              "      <td>49.6</td>\n",
              "      <td>252.0</td>\n",
              "      <td>0.43</td>\n",
              "      <td>1.16</td>\n",
              "      <td>-2.06</td>\n",
              "      <td>-33.0</td>\n",
              "      <td>-123.2</td>\n",
              "      <td>1.60</td>\n",
              "      <td>-0.49</td>\n",
              "      <td>-6.06</td>\n",
              "      <td>65.0</td>\n",
              "      <td>296.1</td>\n",
              "      <td>-0.28</td>\n",
              "      <td>-0.26</td>\n",
              "      <td>-3.83</td>\n",
              "      <td>-22.6</td>\n",
              "      <td>-170.0</td>\n",
              "      <td>3.06</td>\n",
              "      <td>-1.05</td>\n",
              "      <td>-3.29</td>\n",
              "      <td>22.9</td>\n",
              "      <td>286.3</td>\n",
              "      <td>0.12</td>\n",
              "      <td>2.58</td>\n",
              "      <td>4.08</td>\n",
              "      <td>-33.0</td>\n",
              "      <td>-178.9</td>\n",
              "      <td>1.88</td>\n",
              "      <td>0.53</td>\n",
              "      <td>-7.0</td>\n",
              "      <td>-44.0</td>\n",
              "      <td>1987.0</td>\n",
              "      <td>-5.41</td>\n",
              "      <td>0.95</td>\n",
              "      <td>-4.0</td>\n",
              "      <td>-57.0</td>\n",
              "      <td>722.9</td>\n",
              "      <td>-3.26</td>\n",
              "      <td>-0.55</td>\n",
              "      <td>-7.5</td>\n",
              "      <td>125.5</td>\n",
              "      <td>1547.2</td>\n",
              "      <td>-0.36</td>\n",
              "      <td>1.12</td>\n",
              "      <td>9.0</td>\n",
              "      <td>-37.0</td>\n",
              "      <td>72.5</td>\n",
              "      <td>0.47</td>\n",
              "      <td>0.74</td>\n",
              "      <td>-11.0</td>\n",
              "      <td>-8.0</td>\n",
              "      <td>1595.1</td>\n",
              "      <td>-1.64</td>\n",
              "      <td>2.83</td>\n",
              "      <td>-2.0</td>\n",
              "      <td>-50.0</td>\n",
              "      <td>445.2</td>\n",
              "      <td>-0.35</td>\n",
              "      <td>0.26</td>\n",
              "      <td>0.76</td>\n",
              "      <td>0</td>\n",
              "    </tr>\n",
              "    <tr>\n",
              "      <th>1</th>\n",
              "      <td>58.0</td>\n",
              "      <td>33.33</td>\n",
              "      <td>0.00</td>\n",
              "      <td>16.5</td>\n",
              "      <td>9.5</td>\n",
              "      <td>608.1</td>\n",
              "      <td>0.50</td>\n",
              "      <td>0.07</td>\n",
              "      <td>20.5</td>\n",
              "      <td>-52.5</td>\n",
              "      <td>521.6</td>\n",
              "      <td>-1.08</td>\n",
              "      <td>0.58</td>\n",
              "      <td>-0.02</td>\n",
              "      <td>-3.2</td>\n",
              "      <td>103.6</td>\n",
              "      <td>-0.95</td>\n",
              "      <td>0.23</td>\n",
              "      <td>-2.87</td>\n",
              "      <td>-25.9</td>\n",
              "      <td>-52.2</td>\n",
              "      <td>-0.21</td>\n",
              "      <td>0.87</td>\n",
              "      <td>-1.81</td>\n",
              "      <td>10.4</td>\n",
              "      <td>62.0</td>\n",
              "      <td>-0.28</td>\n",
              "      <td>-0.04</td>\n",
              "      <td>1.48</td>\n",
              "      <td>-17.6</td>\n",
              "      <td>-198.3</td>\n",
              "      <td>3.43</td>\n",
              "      <td>2.84</td>\n",
              "      <td>5.87</td>\n",
              "      <td>-16.9</td>\n",
              "      <td>72.6</td>\n",
              "      <td>-0.31</td>\n",
              "      <td>2.79</td>\n",
              "      <td>2.71</td>\n",
              "      <td>-33.5</td>\n",
              "      <td>-11.6</td>\n",
              "      <td>-1.11</td>\n",
              "      <td>4.01</td>\n",
              "      <td>5.0</td>\n",
              "      <td>-57.0</td>\n",
              "      <td>666.3</td>\n",
              "      <td>1.13</td>\n",
              "      <td>4.38</td>\n",
              "      <td>5.0</td>\n",
              "      <td>-64.0</td>\n",
              "      <td>39.3</td>\n",
              "      <td>1.07</td>\n",
              "      <td>-0.16</td>\n",
              "      <td>32.5</td>\n",
              "      <td>100.0</td>\n",
              "      <td>1893.7</td>\n",
              "      <td>-2.80</td>\n",
              "      <td>-0.22</td>\n",
              "      <td>2.5</td>\n",
              "      <td>-28.5</td>\n",
              "      <td>45.0</td>\n",
              "      <td>0.58</td>\n",
              "      <td>0.41</td>\n",
              "      <td>-19.0</td>\n",
              "      <td>-6.0</td>\n",
              "      <td>762.9</td>\n",
              "      <td>0.29</td>\n",
              "      <td>0.82</td>\n",
              "      <td>-3.0</td>\n",
              "      <td>-35.0</td>\n",
              "      <td>140.3</td>\n",
              "      <td>1.16</td>\n",
              "      <td>0.39</td>\n",
              "      <td>0.73</td>\n",
              "      <td>0</td>\n",
              "    </tr>\n",
              "    <tr>\n",
              "      <th>2</th>\n",
              "      <td>77.0</td>\n",
              "      <td>27.27</td>\n",
              "      <td>-0.91</td>\n",
              "      <td>6.0</td>\n",
              "      <td>58.5</td>\n",
              "      <td>1623.6</td>\n",
              "      <td>-1.40</td>\n",
              "      <td>0.02</td>\n",
              "      <td>-6.5</td>\n",
              "      <td>-48.0</td>\n",
              "      <td>621.0</td>\n",
              "      <td>-1.20</td>\n",
              "      <td>0.14</td>\n",
              "      <td>-0.20</td>\n",
              "      <td>73.6</td>\n",
              "      <td>609.1</td>\n",
              "      <td>-0.44</td>\n",
              "      <td>-0.58</td>\n",
              "      <td>-0.04</td>\n",
              "      <td>-23.0</td>\n",
              "      <td>-27.4</td>\n",
              "      <td>-0.72</td>\n",
              "      <td>-1.04</td>\n",
              "      <td>-1.09</td>\n",
              "      <td>91.1</td>\n",
              "      <td>635.6</td>\n",
              "      <td>-0.88</td>\n",
              "      <td>0.24</td>\n",
              "      <td>0.59</td>\n",
              "      <td>-18.7</td>\n",
              "      <td>-7.2</td>\n",
              "      <td>-0.60</td>\n",
              "      <td>-2.82</td>\n",
              "      <td>-0.71</td>\n",
              "      <td>52.4</td>\n",
              "      <td>504.1</td>\n",
              "      <td>0.89</td>\n",
              "      <td>-0.67</td>\n",
              "      <td>-9.30</td>\n",
              "      <td>-20.8</td>\n",
              "      <td>-25.7</td>\n",
              "      <td>-0.77</td>\n",
              "      <td>-0.85</td>\n",
              "      <td>0.0</td>\n",
              "      <td>-20.0</td>\n",
              "      <td>2259.0</td>\n",
              "      <td>-0.94</td>\n",
              "      <td>1.15</td>\n",
              "      <td>-4.0</td>\n",
              "      <td>-44.0</td>\n",
              "      <td>-22.7</td>\n",
              "      <td>0.94</td>\n",
              "      <td>-0.98</td>\n",
              "      <td>-19.0</td>\n",
              "      <td>105.0</td>\n",
              "      <td>1267.9</td>\n",
              "      <td>1.03</td>\n",
              "      <td>1.27</td>\n",
              "      <td>11.0</td>\n",
              "      <td>-39.5</td>\n",
              "      <td>82.3</td>\n",
              "      <td>0.47</td>\n",
              "      <td>-0.19</td>\n",
              "      <td>-10.0</td>\n",
              "      <td>7.0</td>\n",
              "      <td>1491.8</td>\n",
              "      <td>0.32</td>\n",
              "      <td>-1.29</td>\n",
              "      <td>0.0</td>\n",
              "      <td>-34.0</td>\n",
              "      <td>658.2</td>\n",
              "      <td>-0.76</td>\n",
              "      <td>0.26</td>\n",
              "      <td>0.24</td>\n",
              "      <td>0</td>\n",
              "    </tr>\n",
              "    <tr>\n",
              "      <th>3</th>\n",
              "      <td>41.0</td>\n",
              "      <td>27.91</td>\n",
              "      <td>-0.35</td>\n",
              "      <td>3.0</td>\n",
              "      <td>46.0</td>\n",
              "      <td>1921.6</td>\n",
              "      <td>-1.36</td>\n",
              "      <td>-0.47</td>\n",
              "      <td>-32.0</td>\n",
              "      <td>-51.5</td>\n",
              "      <td>560.9</td>\n",
              "      <td>-0.29</td>\n",
              "      <td>-0.10</td>\n",
              "      <td>-1.11</td>\n",
              "      <td>124.3</td>\n",
              "      <td>791.6</td>\n",
              "      <td>0.00</td>\n",
              "      <td>0.39</td>\n",
              "      <td>-1.85</td>\n",
              "      <td>-21.7</td>\n",
              "      <td>-44.9</td>\n",
              "      <td>-0.21</td>\n",
              "      <td>0.02</td>\n",
              "      <td>0.89</td>\n",
              "      <td>133.9</td>\n",
              "      <td>797.8</td>\n",
              "      <td>-0.08</td>\n",
              "      <td>1.06</td>\n",
              "      <td>-0.26</td>\n",
              "      <td>-16.4</td>\n",
              "      <td>-74.1</td>\n",
              "      <td>0.97</td>\n",
              "      <td>-0.80</td>\n",
              "      <td>-0.41</td>\n",
              "      <td>66.9</td>\n",
              "      <td>955.3</td>\n",
              "      <td>-1.90</td>\n",
              "      <td>1.28</td>\n",
              "      <td>-6.65</td>\n",
              "      <td>-28.1</td>\n",
              "      <td>47.5</td>\n",
              "      <td>-1.91</td>\n",
              "      <td>1.42</td>\n",
              "      <td>1.0</td>\n",
              "      <td>-30.0</td>\n",
              "      <td>1846.7</td>\n",
              "      <td>0.76</td>\n",
              "      <td>1.10</td>\n",
              "      <td>-4.0</td>\n",
              "      <td>-52.0</td>\n",
              "      <td>-53.9</td>\n",
              "      <td>1.71</td>\n",
              "      <td>-0.22</td>\n",
              "      <td>-12.0</td>\n",
              "      <td>97.5</td>\n",
              "      <td>1969.8</td>\n",
              "      <td>-1.70</td>\n",
              "      <td>0.16</td>\n",
              "      <td>-1.0</td>\n",
              "      <td>-32.5</td>\n",
              "      <td>255.9</td>\n",
              "      <td>-0.46</td>\n",
              "      <td>1.57</td>\n",
              "      <td>10.0</td>\n",
              "      <td>6.0</td>\n",
              "      <td>2047.7</td>\n",
              "      <td>-0.98</td>\n",
              "      <td>1.53</td>\n",
              "      <td>0.0</td>\n",
              "      <td>-49.0</td>\n",
              "      <td>554.2</td>\n",
              "      <td>-0.83</td>\n",
              "      <td>0.39</td>\n",
              "      <td>0.73</td>\n",
              "      <td>0</td>\n",
              "    </tr>\n",
              "    <tr>\n",
              "      <th>4</th>\n",
              "      <td>50.0</td>\n",
              "      <td>28.00</td>\n",
              "      <td>-1.32</td>\n",
              "      <td>-9.0</td>\n",
              "      <td>12.0</td>\n",
              "      <td>464.8</td>\n",
              "      <td>0.88</td>\n",
              "      <td>0.19</td>\n",
              "      <td>8.0</td>\n",
              "      <td>-51.5</td>\n",
              "      <td>98.1</td>\n",
              "      <td>1.09</td>\n",
              "      <td>-0.33</td>\n",
              "      <td>-2.16</td>\n",
              "      <td>-3.9</td>\n",
              "      <td>102.7</td>\n",
              "      <td>0.39</td>\n",
              "      <td>-1.22</td>\n",
              "      <td>-3.39</td>\n",
              "      <td>-15.2</td>\n",
              "      <td>-42.2</td>\n",
              "      <td>-1.18</td>\n",
              "      <td>-1.11</td>\n",
              "      <td>-3.55</td>\n",
              "      <td>8.9</td>\n",
              "      <td>141.3</td>\n",
              "      <td>-0.16</td>\n",
              "      <td>-0.43</td>\n",
              "      <td>-4.15</td>\n",
              "      <td>-12.9</td>\n",
              "      <td>-13.4</td>\n",
              "      <td>-1.32</td>\n",
              "      <td>-0.98</td>\n",
              "      <td>-3.69</td>\n",
              "      <td>8.8</td>\n",
              "      <td>136.1</td>\n",
              "      <td>-0.30</td>\n",
              "      <td>4.13</td>\n",
              "      <td>1.89</td>\n",
              "      <td>-13.0</td>\n",
              "      <td>-18.7</td>\n",
              "      <td>-1.37</td>\n",
              "      <td>-0.93</td>\n",
              "      <td>0.0</td>\n",
              "      <td>-1.0</td>\n",
              "      <td>810.1</td>\n",
              "      <td>-2.29</td>\n",
              "      <td>6.72</td>\n",
              "      <td>1.0</td>\n",
              "      <td>-23.0</td>\n",
              "      <td>-29.7</td>\n",
              "      <td>0.58</td>\n",
              "      <td>-1.10</td>\n",
              "      <td>-18.5</td>\n",
              "      <td>33.5</td>\n",
              "      <td>206.8</td>\n",
              "      <td>1.84</td>\n",
              "      <td>-0.13</td>\n",
              "      <td>4.0</td>\n",
              "      <td>-29.0</td>\n",
              "      <td>30.1</td>\n",
              "      <td>0.80</td>\n",
              "      <td>-0.24</td>\n",
              "      <td>5.0</td>\n",
              "      <td>-14.0</td>\n",
              "      <td>479.5</td>\n",
              "      <td>0.68</td>\n",
              "      <td>-0.59</td>\n",
              "      <td>2.0</td>\n",
              "      <td>-36.0</td>\n",
              "      <td>-6.9</td>\n",
              "      <td>2.02</td>\n",
              "      <td>0.14</td>\n",
              "      <td>-0.23</td>\n",
              "      <td>0</td>\n",
              "    </tr>\n",
              "  </tbody>\n",
              "</table>\n",
              "</div>"
            ],
            "text/plain": [
              "      0      1     2     3     4       5  ...    69     70    71    72    73  target\n",
              "0  52.0  32.69  0.30   2.5  20.0  1256.8  ... -50.0  445.2 -0.35  0.26  0.76       0\n",
              "1  58.0  33.33  0.00  16.5   9.5   608.1  ... -35.0  140.3  1.16  0.39  0.73       0\n",
              "2  77.0  27.27 -0.91   6.0  58.5  1623.6  ... -34.0  658.2 -0.76  0.26  0.24       0\n",
              "3  41.0  27.91 -0.35   3.0  46.0  1921.6  ... -49.0  554.2 -0.83  0.39  0.73       0\n",
              "4  50.0  28.00 -1.32  -9.0  12.0   464.8  ... -36.0   -6.9  2.02  0.14 -0.23       0\n",
              "\n",
              "[5 rows x 75 columns]"
            ]
          },
          "metadata": {
            "tags": []
          },
          "execution_count": 3
        }
      ]
    },
    {
      "cell_type": "code",
      "metadata": {
        "colab": {
          "base_uri": "https://localhost:8080/"
        },
        "id": "X7hK4l0vhSTY",
        "outputId": "327ec7e7-5d30-4fec-f947-18220857c898"
      },
      "source": [
        "# data size\n",
        "\n",
        "data.shape"
      ],
      "execution_count": null,
      "outputs": [
        {
          "output_type": "execute_result",
          "data": {
            "text/plain": [
              "(145751, 75)"
            ]
          },
          "metadata": {
            "tags": []
          },
          "execution_count": 4
        }
      ]
    },
    {
      "cell_type": "code",
      "metadata": {
        "colab": {
          "base_uri": "https://localhost:8080/"
        },
        "id": "hmhbj-jhhSTa",
        "outputId": "87b42273-b2ea-4c14-9507-7e5f53abc092"
      },
      "source": [
        "# imbalanced target\n",
        "\n",
        "data.target.value_counts() / len(data)"
      ],
      "execution_count": null,
      "outputs": [
        {
          "output_type": "execute_result",
          "data": {
            "text/plain": [
              "0    0.991108\n",
              "1    0.008892\n",
              "Name: target, dtype: float64"
            ]
          },
          "metadata": {
            "tags": []
          },
          "execution_count": 5
        }
      ]
    },
    {
      "cell_type": "code",
      "metadata": {
        "colab": {
          "base_uri": "https://localhost:8080/"
        },
        "id": "ofN3R-75hSTb",
        "outputId": "142334bf-38b3-464e-b9de-098bbe359d2a"
      },
      "source": [
        "# separate dataset into train and test\n",
        "\n",
        "X_train, X_test, y_train, y_test = train_test_split(\n",
        "    data.drop(labels=['target'], axis=1),  # drop the target\n",
        "    data['target'],  # just the target\n",
        "    test_size=0.3,\n",
        "    random_state=0)\n",
        "\n",
        "X_train.shape, X_test.shape"
      ],
      "execution_count": null,
      "outputs": [
        {
          "output_type": "execute_result",
          "data": {
            "text/plain": [
              "((102025, 74), (43726, 74))"
            ]
          },
          "metadata": {
            "tags": []
          },
          "execution_count": 6
        }
      ]
    },
    {
      "cell_type": "markdown",
      "metadata": {
        "id": "dN9XwRbxhSTc"
      },
      "source": [
        "## Baseline: predict the majority class"
      ]
    },
    {
      "cell_type": "code",
      "metadata": {
        "id": "HZLO9fSAhSTc"
      },
      "source": [
        "# Baseline prediction: predict the majority class\n",
        "\n",
        "y_train_base = pd.Series(np.zeros(len(y_train)))\n",
        "y_test_base = pd.Series(np.zeros(len(y_test)))"
      ],
      "execution_count": null,
      "outputs": []
    },
    {
      "cell_type": "markdown",
      "metadata": {
        "id": "GilCozyzhSTd"
      },
      "source": [
        "## Train ML models\n",
        "\n",
        "### Random Forests"
      ]
    },
    {
      "cell_type": "code",
      "metadata": {
        "id": "vww0lg5YhSTe"
      },
      "source": [
        "rf = RandomForestClassifier(n_estimators=100, random_state=39, max_depth=2, n_jobs=4)\n",
        "\n",
        "rf.fit(X_train, y_train)\n",
        "\n",
        "y_train_rf = rf.predict_proba(X_train)[:,1]\n",
        "y_test_rf = rf.predict_proba(X_test)[:,1]"
      ],
      "execution_count": null,
      "outputs": []
    },
    {
      "cell_type": "markdown",
      "metadata": {
        "id": "4pA4v94OhSTf"
      },
      "source": [
        "### Logistic Regression"
      ]
    },
    {
      "cell_type": "code",
      "metadata": {
        "colab": {
          "base_uri": "https://localhost:8080/"
        },
        "id": "8bGyTx6thSTg",
        "outputId": "f547a455-72e1-4aa3-eada-501bf9efc5d3"
      },
      "source": [
        "logit = LogisticRegression(random_state=0,  max_iter=1000)\n",
        "\n",
        "logit.fit(X_train, y_train)\n",
        "\n",
        "y_train_logit = logit.predict_proba(X_train)[:,1]\n",
        "y_test_logit = logit.predict_proba(X_test)[:,1]"
      ],
      "execution_count": null,
      "outputs": [
        {
          "output_type": "stream",
          "text": [
            "/usr/local/lib/python3.6/dist-packages/sklearn/linear_model/_logistic.py:940: ConvergenceWarning: lbfgs failed to converge (status=1):\n",
            "STOP: TOTAL NO. of ITERATIONS REACHED LIMIT.\n",
            "\n",
            "Increase the number of iterations (max_iter) or scale the data as shown in:\n",
            "    https://scikit-learn.org/stable/modules/preprocessing.html\n",
            "Please also refer to the documentation for alternative solver options:\n",
            "    https://scikit-learn.org/stable/modules/linear_model.html#logistic-regression\n",
            "  extra_warning_msg=_LOGISTIC_SOLVER_CONVERGENCE_MSG)\n"
          ],
          "name": "stderr"
        }
      ]
    },
    {
      "cell_type": "markdown",
      "metadata": {
        "id": "K4Br-YaMhSTh"
      },
      "source": [
        "## Confusion matrix\n",
        "\n",
        "https://scikit-learn.org/stable/modules/generated/sklearn.metrics.confusion_matrix.html\n",
        "\n",
        "TN | FP\n",
        "\n",
        "FN | TP\n",
        "\n",
        "### Baseline"
      ]
    },
    {
      "cell_type": "code",
      "metadata": {
        "colab": {
          "base_uri": "https://localhost:8080/"
        },
        "id": "XT4PyH6DhSTh",
        "outputId": "e870dc8c-3d9f-44f7-f191-357e1d5e8eea"
      },
      "source": [
        "confusion_matrix(y_test, y_test_base, labels=[0,1])"
      ],
      "execution_count": null,
      "outputs": [
        {
          "output_type": "execute_result",
          "data": {
            "text/plain": [
              "array([[43321,     0],\n",
              "       [  405,     0]])"
            ]
          },
          "metadata": {
            "tags": []
          },
          "execution_count": 10
        }
      ]
    },
    {
      "cell_type": "markdown",
      "metadata": {
        "id": "dSLHQoJFhSTi"
      },
      "source": [
        "### Random Forest"
      ]
    },
    {
      "cell_type": "code",
      "metadata": {
        "colab": {
          "base_uri": "https://localhost:8080/"
        },
        "id": "NrY33kS2hSTj",
        "outputId": "a60fe9bd-c186-48b5-f817-6d13b6ccc8dc"
      },
      "source": [
        "confusion_matrix(y_test, rf.predict(X_test), labels=[0,1])"
      ],
      "execution_count": null,
      "outputs": [
        {
          "output_type": "execute_result",
          "data": {
            "text/plain": [
              "array([[43320,     1],\n",
              "       [  161,   244]])"
            ]
          },
          "metadata": {
            "tags": []
          },
          "execution_count": 11
        }
      ]
    },
    {
      "cell_type": "markdown",
      "metadata": {
        "id": "sousEgYUhSTj"
      },
      "source": [
        "### Logistic Regression"
      ]
    },
    {
      "cell_type": "code",
      "metadata": {
        "colab": {
          "base_uri": "https://localhost:8080/"
        },
        "id": "t1Bz9S3IhSTk",
        "outputId": "41581e40-8972-4f48-97aa-72c97ed865a0"
      },
      "source": [
        "confusion_matrix(y_test, logit.predict(X_test), labels=[0,1])"
      ],
      "execution_count": null,
      "outputs": [
        {
          "output_type": "execute_result",
          "data": {
            "text/plain": [
              "array([[43300,    21],\n",
              "       [  112,   293]])"
            ]
          },
          "metadata": {
            "tags": []
          },
          "execution_count": 12
        }
      ]
    },
    {
      "cell_type": "markdown",
      "metadata": {
        "id": "4Nm6u2hMhSTk"
      },
      "source": [
        "## FPR and FNR"
      ]
    },
    {
      "cell_type": "code",
      "metadata": {
        "colab": {
          "base_uri": "https://localhost:8080/"
        },
        "id": "8XmaVDaBhSTl",
        "outputId": "6075c86c-bca5-43b0-cd22-24b48fc59ac1"
      },
      "source": [
        "tn, fp, fn, tp = confusion_matrix(y_test, y_test_base, labels=[0,1]).ravel()\n",
        "\n",
        "FPR = fp / (tn + fp)\n",
        "\n",
        "FNR = fn / (tp + fn)\n",
        "\n",
        "print('False Positive Rate, baseline: ', FPR)\n",
        "print('False Negative Rate, baseline: ', FNR)"
      ],
      "execution_count": null,
      "outputs": [
        {
          "output_type": "stream",
          "text": [
            "False Positive Rate, baseline:  0.0\n",
            "False Negative Rate, baseline:  1.0\n"
          ],
          "name": "stdout"
        }
      ]
    },
    {
      "cell_type": "code",
      "metadata": {
        "colab": {
          "base_uri": "https://localhost:8080/"
        },
        "id": "dbmEkK-9hSTm",
        "outputId": "492d28a9-b4b1-4129-82d6-888e1aa0d20e"
      },
      "source": [
        "tn, fp, fn, tp = confusion_matrix(y_test, rf.predict(X_test), labels=[0,1]).ravel()\n",
        "\n",
        "FPR = fp / (tn + fp)\n",
        "\n",
        "FNR =  fn / (tp + fn)\n",
        "\n",
        "print('False Positive Rate, Random Forests: ', FPR)\n",
        "print('False Negative Rate, Random Forests: ', FNR)"
      ],
      "execution_count": null,
      "outputs": [
        {
          "output_type": "stream",
          "text": [
            "False Positive Rate, Random Forests:  2.3083492994159875e-05\n",
            "False Negative Rate, Random Forests:  0.39753086419753086\n"
          ],
          "name": "stdout"
        }
      ]
    },
    {
      "cell_type": "code",
      "metadata": {
        "colab": {
          "base_uri": "https://localhost:8080/"
        },
        "id": "2ZPW712khSTm",
        "outputId": "14ea4470-eb27-451d-854c-6688e5ca2688"
      },
      "source": [
        "tn, fp, fn, tp = confusion_matrix(y_test, logit.predict(X_test), labels=[0,1]).ravel()\n",
        "\n",
        "FPR = fp / (tn + fp)\n",
        "\n",
        "FNR =  fn / (tp + fn)\n",
        "\n",
        "print('False Positive Rate, Logistic Regression: ', FPR)\n",
        "print('False Negative Rate, Logistic Regression: ', FNR)"
      ],
      "execution_count": null,
      "outputs": [
        {
          "output_type": "stream",
          "text": [
            "False Positive Rate, Logistic Regression:  0.0004847533528773574\n",
            "False Negative Rate, Logistic Regression:  0.2765432098765432\n"
          ],
          "name": "stdout"
        }
      ]
    },
    {
      "cell_type": "markdown",
      "metadata": {
        "id": "JKvTTFKXhSTn"
      },
      "source": [
        "# FPR and FNR vs probability threshold"
      ]
    },
    {
      "cell_type": "code",
      "metadata": {
        "id": "K0uS79elhSTo",
        "colab": {
          "base_uri": "https://localhost:8080/"
        },
        "outputId": "64c6e689-b585-435c-ea2d-04441a941e9a"
      },
      "source": [
        "thresholds = np.linspace(0, 1, 100)\n",
        "\n",
        "thresholds"
      ],
      "execution_count": 16,
      "outputs": [
        {
          "output_type": "execute_result",
          "data": {
            "text/plain": [
              "array([0.        , 0.01010101, 0.02020202, 0.03030303, 0.04040404,\n",
              "       0.05050505, 0.06060606, 0.07070707, 0.08080808, 0.09090909,\n",
              "       0.1010101 , 0.11111111, 0.12121212, 0.13131313, 0.14141414,\n",
              "       0.15151515, 0.16161616, 0.17171717, 0.18181818, 0.19191919,\n",
              "       0.2020202 , 0.21212121, 0.22222222, 0.23232323, 0.24242424,\n",
              "       0.25252525, 0.26262626, 0.27272727, 0.28282828, 0.29292929,\n",
              "       0.3030303 , 0.31313131, 0.32323232, 0.33333333, 0.34343434,\n",
              "       0.35353535, 0.36363636, 0.37373737, 0.38383838, 0.39393939,\n",
              "       0.4040404 , 0.41414141, 0.42424242, 0.43434343, 0.44444444,\n",
              "       0.45454545, 0.46464646, 0.47474747, 0.48484848, 0.49494949,\n",
              "       0.50505051, 0.51515152, 0.52525253, 0.53535354, 0.54545455,\n",
              "       0.55555556, 0.56565657, 0.57575758, 0.58585859, 0.5959596 ,\n",
              "       0.60606061, 0.61616162, 0.62626263, 0.63636364, 0.64646465,\n",
              "       0.65656566, 0.66666667, 0.67676768, 0.68686869, 0.6969697 ,\n",
              "       0.70707071, 0.71717172, 0.72727273, 0.73737374, 0.74747475,\n",
              "       0.75757576, 0.76767677, 0.77777778, 0.78787879, 0.7979798 ,\n",
              "       0.80808081, 0.81818182, 0.82828283, 0.83838384, 0.84848485,\n",
              "       0.85858586, 0.86868687, 0.87878788, 0.88888889, 0.8989899 ,\n",
              "       0.90909091, 0.91919192, 0.92929293, 0.93939394, 0.94949495,\n",
              "       0.95959596, 0.96969697, 0.97979798, 0.98989899, 1.        ])"
            ]
          },
          "metadata": {
            "tags": []
          },
          "execution_count": 16
        }
      ]
    },
    {
      "cell_type": "code",
      "metadata": {
        "id": "S_VwTbRJhSTp",
        "colab": {
          "base_uri": "https://localhost:8080/",
          "height": 191
        },
        "outputId": "0611207d-2370-4d73-9dd7-90a7d1f0f421"
      },
      "source": [
        "fpr_ls = []\n",
        "fnr_ls = []\n",
        "\n",
        "# obtain probabilities\n",
        "probs = logit.predict_proba(X_test)[:,1]\n",
        "\n",
        "for threshold in thresholds:   \n",
        "    \n",
        "    # obtain class prediction based on threshold\n",
        "    preds = np.where(probs>=threshold, 1, 0)\n",
        "    \n",
        "    # obtain confusion matrix\n",
        "    tn, fp, fn, tp = confusion_matrix(y_test, preds, labels=[0,1]).ravel()\n",
        "    \n",
        "    #  obtain FRP and FNR\n",
        "    FPR = fp / (tn + fp)\n",
        "    FNR =  fn / (tp + fn)\n",
        "\n",
        "    fpr_ls.append(FPR)\n",
        "    fnr_ls.append(FNR)\n",
        "    \n",
        "metrics = pd.concat([\n",
        "    pd.Series(fpr_ls),\n",
        "    pd.Series(fnr_ls)], axis=1)\n",
        "\n",
        "metrics.columns = ['fpr', 'fnr']\n",
        "metrics.index = thresholds\n",
        "\n",
        "metrics.head()"
      ],
      "execution_count": 17,
      "outputs": [
        {
          "output_type": "execute_result",
          "data": {
            "text/html": [
              "<div>\n",
              "<style scoped>\n",
              "    .dataframe tbody tr th:only-of-type {\n",
              "        vertical-align: middle;\n",
              "    }\n",
              "\n",
              "    .dataframe tbody tr th {\n",
              "        vertical-align: top;\n",
              "    }\n",
              "\n",
              "    .dataframe thead th {\n",
              "        text-align: right;\n",
              "    }\n",
              "</style>\n",
              "<table border=\"1\" class=\"dataframe\">\n",
              "  <thead>\n",
              "    <tr style=\"text-align: right;\">\n",
              "      <th></th>\n",
              "      <th>fpr</th>\n",
              "      <th>fnr</th>\n",
              "    </tr>\n",
              "  </thead>\n",
              "  <tbody>\n",
              "    <tr>\n",
              "      <th>0.000000</th>\n",
              "      <td>1.000000</td>\n",
              "      <td>0.000000</td>\n",
              "    </tr>\n",
              "    <tr>\n",
              "      <th>0.010101</th>\n",
              "      <td>0.034879</td>\n",
              "      <td>0.069136</td>\n",
              "    </tr>\n",
              "    <tr>\n",
              "      <th>0.020202</th>\n",
              "      <td>0.018790</td>\n",
              "      <td>0.088889</td>\n",
              "    </tr>\n",
              "    <tr>\n",
              "      <th>0.030303</th>\n",
              "      <td>0.012627</td>\n",
              "      <td>0.106173</td>\n",
              "    </tr>\n",
              "    <tr>\n",
              "      <th>0.040404</th>\n",
              "      <td>0.009718</td>\n",
              "      <td>0.123457</td>\n",
              "    </tr>\n",
              "  </tbody>\n",
              "</table>\n",
              "</div>"
            ],
            "text/plain": [
              "               fpr       fnr\n",
              "0.000000  1.000000  0.000000\n",
              "0.010101  0.034879  0.069136\n",
              "0.020202  0.018790  0.088889\n",
              "0.030303  0.012627  0.106173\n",
              "0.040404  0.009718  0.123457"
            ]
          },
          "metadata": {
            "tags": []
          },
          "execution_count": 17
        }
      ]
    },
    {
      "cell_type": "code",
      "metadata": {
        "id": "eKjKTurVhSTp",
        "outputId": "ad6d3485-d61a-4ae4-b355-baa66ef377a4"
      },
      "source": [
        "metrics.plot()\n",
        "plt.xlabel('Probability Threshold')\n",
        "plt.ylabel('FPR / FNR')\n",
        "plt.title('FPR and FNR vs Discriminant Threshold')"
      ],
      "execution_count": null,
      "outputs": [
        {
          "output_type": "execute_result",
          "data": {
            "text/plain": [
              "Text(0.5, 1.0, 'FPR and FNR vs Discriminant Threshold')"
            ]
          },
          "metadata": {
            "tags": []
          },
          "execution_count": 17
        },
        {
          "output_type": "display_data",
          "data": {
            "image/png": "[encoded data removed]",
            "text/plain": [
              "<Figure size 432x288 with 1 Axes>"
            ]
          },
          "metadata": {
            "tags": [],
            "needs_background": "light"
          }
        }
      ]
    },
    {
      "cell_type": "code",
      "metadata": {
        "id": "qXM2NzsrhSTq"
      },
      "source": [
        ""
      ],
      "execution_count": null,
      "outputs": []
    }
  ]
}