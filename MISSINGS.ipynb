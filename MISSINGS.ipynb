{
  "nbformat": 4,
  "nbformat_minor": 0,
  "metadata": {
    "kernelspec": {
      "display_name": "diplomado",
      "language": "python",
      "name": "diplomado"
    },
    "language_info": {
      "codemirror_mode": {
        "name": "ipython",
        "version": 3
      },
      "file_extension": ".py",
      "mimetype": "text/x-python",
      "name": "python",
      "nbconvert_exporter": "python",
      "pygments_lexer": "ipython3",
      "version": "3.6.9"
    },
    "colab": {
      "name": "MISSINGS.ipynb",
      "provenance": [],
      "toc_visible": true,
      "include_colab_link": true
    }
  },
  "cells": [
    {
      "cell_type": "markdown",
      "metadata": {
        "id": "view-in-github",
        "colab_type": "text"
      },
      "source": [
        "<a href=\"https://colab.research.google.com/github/virf96/Basico/blob/main/MISSINGS.ipynb\" target=\"_parent\"><img src=\"https://colab.research.google.com/assets/colab-badge.svg\" alt=\"Open In Colab\"/></a>"
      ]
    },
    {
      "cell_type": "code",
      "metadata": {
        "ExecuteTime": {
          "end_time": "2020-11-04T23:36:15.361185Z",
          "start_time": "2020-11-04T23:36:15.350951Z"
        },
        "id": "jgU8log5AaWm"
      },
      "source": [
        "import pandas as pd\n",
        "import numpy as np\n",
        "pd.set_option(\"display.max_columns\",200)"
      ],
      "execution_count": 1,
      "outputs": []
    },
    {
      "cell_type": "code",
      "metadata": {
        "id": "vfWE41Y3TUiB",
        "outputId": "fdf1fd2b-6f97-4461-9a30-b2483a45f123",
        "colab": {
          "base_uri": "https://localhost:8080/"
        }
      },
      "source": [
        "from google.colab import drive\n",
        "drive.mount('/content/drive')"
      ],
      "execution_count": 2,
      "outputs": [
        {
          "output_type": "stream",
          "text": [
            "Mounted at /content/drive\n"
          ],
          "name": "stdout"
        }
      ]
    },
    {
      "cell_type": "code",
      "metadata": {
        "ExecuteTime": {
          "end_time": "2020-11-05T00:21:01.892408Z",
          "start_time": "2020-11-05T00:21:01.870600Z"
        },
        "id": "pNjFBcRQAaWu"
      },
      "source": [
        "df=pd.read_csv(\"/content/drive/My Drive/datasets/employees_2.csv\")"
      ],
      "execution_count": 4,
      "outputs": []
    },
    {
      "cell_type": "code",
      "metadata": {
        "id": "noKyTA5xnIar",
        "outputId": "8841dcfa-0813-4524-d1f3-29d595776a38",
        "colab": {
          "base_uri": "https://localhost:8080/",
          "height": 204
        }
      },
      "source": [
        "df.head()"
      ],
      "execution_count": 5,
      "outputs": [
        {
          "output_type": "execute_result",
          "data": {
            "text/html": [
              "<div>\n",
              "<style scoped>\n",
              "    .dataframe tbody tr th:only-of-type {\n",
              "        vertical-align: middle;\n",
              "    }\n",
              "\n",
              "    .dataframe tbody tr th {\n",
              "        vertical-align: top;\n",
              "    }\n",
              "\n",
              "    .dataframe thead th {\n",
              "        text-align: right;\n",
              "    }\n",
              "</style>\n",
              "<table border=\"1\" class=\"dataframe\">\n",
              "  <thead>\n",
              "    <tr style=\"text-align: right;\">\n",
              "      <th></th>\n",
              "      <th>v_first_name</th>\n",
              "      <th>v_gender</th>\n",
              "      <th>c_salary</th>\n",
              "      <th>c_bonus_%</th>\n",
              "      <th>v_senior_mana</th>\n",
              "      <th>v_team</th>\n",
              "      <th>c_bonus_2</th>\n",
              "    </tr>\n",
              "  </thead>\n",
              "  <tbody>\n",
              "    <tr>\n",
              "      <th>0</th>\n",
              "      <td>23</td>\n",
              "      <td>Male</td>\n",
              "      <td>97308</td>\n",
              "      <td>6.945</td>\n",
              "      <td>TRUE</td>\n",
              "      <td>Marketing</td>\n",
              "      <td>NaN</td>\n",
              "    </tr>\n",
              "    <tr>\n",
              "      <th>1</th>\n",
              "      <td>1</td>\n",
              "      <td>Male</td>\n",
              "      <td>61933</td>\n",
              "      <td>NaN</td>\n",
              "      <td>TRUE</td>\n",
              "      <td>NaN</td>\n",
              "      <td>NaN</td>\n",
              "    </tr>\n",
              "    <tr>\n",
              "      <th>2</th>\n",
              "      <td>2</td>\n",
              "      <td>Female</td>\n",
              "      <td>130590</td>\n",
              "      <td>11.858</td>\n",
              "      <td>FALSE</td>\n",
              "      <td>0.112</td>\n",
              "      <td>11.85811.858</td>\n",
              "    </tr>\n",
              "    <tr>\n",
              "      <th>3</th>\n",
              "      <td>Jerry</td>\n",
              "      <td>Male</td>\n",
              "      <td>NaN</td>\n",
              "      <td>9.34</td>\n",
              "      <td>TRUE</td>\n",
              "      <td>Finance</td>\n",
              "      <td>9.349.34</td>\n",
              "    </tr>\n",
              "    <tr>\n",
              "      <th>4</th>\n",
              "      <td>Larry</td>\n",
              "      <td>Male</td>\n",
              "      <td>101004</td>\n",
              "      <td>1.389</td>\n",
              "      <td>TRUE</td>\n",
              "      <td>Client Services</td>\n",
              "      <td>1.3891.389</td>\n",
              "    </tr>\n",
              "  </tbody>\n",
              "</table>\n",
              "</div>"
            ],
            "text/plain": [
              "  v_first_name v_gender c_salary c_bonus_% v_senior_mana           v_team  \\\n",
              "0           23     Male    97308     6.945          TRUE        Marketing   \n",
              "1            1     Male    61933       NaN          TRUE              NaN   \n",
              "2            2   Female   130590    11.858         FALSE            0.112   \n",
              "3        Jerry     Male      NaN      9.34          TRUE          Finance   \n",
              "4        Larry     Male   101004     1.389          TRUE  Client Services   \n",
              "\n",
              "      c_bonus_2  \n",
              "0           NaN  \n",
              "1           NaN  \n",
              "2  11.85811.858  \n",
              "3      9.349.34  \n",
              "4    1.3891.389  "
            ]
          },
          "metadata": {
            "tags": []
          },
          "execution_count": 5
        }
      ]
    },
    {
      "cell_type": "markdown",
      "metadata": {
        "id": "Lv-RbdQ2AaW0"
      },
      "source": [
        "## PASO 1"
      ]
    },
    {
      "cell_type": "code",
      "metadata": {
        "ExecuteTime": {
          "end_time": "2020-11-05T00:17:36.027669Z",
          "start_time": "2020-11-05T00:17:36.020566Z"
        },
        "id": "ih5jT1q2AaW1"
      },
      "source": [
        "#Conocer la completitid de cada variable, eliminar aquellas que no tengan al menos el 80% de completitud"
      ],
      "execution_count": 6,
      "outputs": []
    },
    {
      "cell_type": "code",
      "metadata": {
        "ExecuteTime": {
          "end_time": "2020-11-05T00:17:36.426577Z",
          "start_time": "2020-11-05T00:17:36.254832Z"
        },
        "id": "j6fFrB_AAaW6"
      },
      "source": [
        "completitud=pd.DataFrame((1-df.isnull().sum()/df.shape[0])*100).reset_index().rename(columns={\"index\":\"columna\",0:\"completitud\"})"
      ],
      "execution_count": 7,
      "outputs": []
    },
    {
      "cell_type": "code",
      "metadata": {
        "ExecuteTime": {
          "end_time": "2020-11-05T00:17:36.527960Z",
          "start_time": "2020-11-05T00:17:36.488549Z"
        },
        "id": "VNWezm1gAaXA",
        "outputId": "80795d6f-01d9-4e21-faa8-e25227f385fa",
        "colab": {
          "base_uri": "https://localhost:8080/",
          "height": 266
        }
      },
      "source": [
        "completitud"
      ],
      "execution_count": 8,
      "outputs": [
        {
          "output_type": "execute_result",
          "data": {
            "text/html": [
              "<div>\n",
              "<style scoped>\n",
              "    .dataframe tbody tr th:only-of-type {\n",
              "        vertical-align: middle;\n",
              "    }\n",
              "\n",
              "    .dataframe tbody tr th {\n",
              "        vertical-align: top;\n",
              "    }\n",
              "\n",
              "    .dataframe thead th {\n",
              "        text-align: right;\n",
              "    }\n",
              "</style>\n",
              "<table border=\"1\" class=\"dataframe\">\n",
              "  <thead>\n",
              "    <tr style=\"text-align: right;\">\n",
              "      <th></th>\n",
              "      <th>columna</th>\n",
              "      <th>completitud</th>\n",
              "    </tr>\n",
              "  </thead>\n",
              "  <tbody>\n",
              "    <tr>\n",
              "      <th>0</th>\n",
              "      <td>v_first_name</td>\n",
              "      <td>93.1</td>\n",
              "    </tr>\n",
              "    <tr>\n",
              "      <th>1</th>\n",
              "      <td>v_gender</td>\n",
              "      <td>85.2</td>\n",
              "    </tr>\n",
              "    <tr>\n",
              "      <th>2</th>\n",
              "      <td>c_salary</td>\n",
              "      <td>99.8</td>\n",
              "    </tr>\n",
              "    <tr>\n",
              "      <th>3</th>\n",
              "      <td>c_bonus_%</td>\n",
              "      <td>99.7</td>\n",
              "    </tr>\n",
              "    <tr>\n",
              "      <th>4</th>\n",
              "      <td>v_senior_mana</td>\n",
              "      <td>93.2</td>\n",
              "    </tr>\n",
              "    <tr>\n",
              "      <th>5</th>\n",
              "      <td>v_team</td>\n",
              "      <td>95.7</td>\n",
              "    </tr>\n",
              "    <tr>\n",
              "      <th>6</th>\n",
              "      <td>c_bonus_2</td>\n",
              "      <td>50.4</td>\n",
              "    </tr>\n",
              "  </tbody>\n",
              "</table>\n",
              "</div>"
            ],
            "text/plain": [
              "         columna  completitud\n",
              "0   v_first_name         93.1\n",
              "1       v_gender         85.2\n",
              "2       c_salary         99.8\n",
              "3      c_bonus_%         99.7\n",
              "4  v_senior_mana         93.2\n",
              "5         v_team         95.7\n",
              "6      c_bonus_2         50.4"
            ]
          },
          "metadata": {
            "tags": []
          },
          "execution_count": 8
        }
      ]
    },
    {
      "cell_type": "code",
      "metadata": {
        "ExecuteTime": {
          "end_time": "2020-11-05T00:17:37.749005Z",
          "start_time": "2020-11-05T00:17:36.686476Z"
        },
        "id": "t4qIpSnRAaXH"
      },
      "source": [
        "#Identficamos que \"c_bobus_2\" tiene menos del 80% de completitud\n",
        "df.drop(columns=[\"c_bonus_2\"],inplace=True)"
      ],
      "execution_count": 9,
      "outputs": []
    },
    {
      "cell_type": "markdown",
      "metadata": {
        "id": "ZLX-f01cAaXL"
      },
      "source": [
        "## PASO 2"
      ]
    },
    {
      "cell_type": "markdown",
      "metadata": {
        "id": "c-MMs828AaXM"
      },
      "source": [
        "### FISRT NAME"
      ]
    },
    {
      "cell_type": "code",
      "metadata": {
        "ExecuteTime": {
          "end_time": "2020-11-05T00:17:41.751392Z",
          "start_time": "2020-11-05T00:17:41.745265Z"
        },
        "id": "KQVUi-YnAaXN"
      },
      "source": [
        "# Revisar variable por variable para validar el tipo de dato y que todos los registros tengan el mismo formato"
      ],
      "execution_count": 10,
      "outputs": []
    },
    {
      "cell_type": "code",
      "metadata": {
        "ExecuteTime": {
          "end_time": "2020-11-05T00:17:41.987341Z",
          "start_time": "2020-11-05T00:17:41.974327Z"
        },
        "id": "tl_xIhF5AaXT",
        "outputId": "11090c82-b49f-4e05-ea0a-701a2372927f",
        "colab": {
          "base_uri": "https://localhost:8080/"
        }
      },
      "source": [
        "#Identificamos 69 nulos\n",
        "df[\"v_first_name\"].isnull().sum()"
      ],
      "execution_count": 11,
      "outputs": [
        {
          "output_type": "execute_result",
          "data": {
            "text/plain": [
              "69"
            ]
          },
          "metadata": {
            "tags": []
          },
          "execution_count": 11
        }
      ]
    },
    {
      "cell_type": "code",
      "metadata": {
        "ExecuteTime": {
          "end_time": "2020-11-05T00:17:42.191915Z",
          "start_time": "2020-11-05T00:17:42.169445Z"
        },
        "id": "HWM3cqQ7AaXY",
        "outputId": "9fcec2ab-c340-4773-8246-ccb55c0e45d8",
        "colab": {
          "base_uri": "https://localhost:8080/"
        }
      },
      "source": [
        "#Identificamos números en vez de nombres\n",
        "df[\"v_first_name\"].value_counts()"
      ],
      "execution_count": 13,
      "outputs": [
        {
          "output_type": "execute_result",
          "data": {
            "text/plain": [
              "Marilyn    11\n",
              "Jeremy     10\n",
              "Barbara    10\n",
              "Todd       10\n",
              "Sarah       9\n",
              "           ..\n",
              "Tammy       1\n",
              "David       1\n",
              "1           1\n",
              "2           1\n",
              "Eugene      1\n",
              "Name: v_first_name, Length: 206, dtype: int64"
            ]
          },
          "metadata": {
            "tags": []
          },
          "execution_count": 13
        }
      ]
    },
    {
      "cell_type": "code",
      "metadata": {
        "ExecuteTime": {
          "end_time": "2020-11-05T00:17:42.357450Z",
          "start_time": "2020-11-05T00:17:42.351132Z"
        },
        "id": "yByfRSP5AaXd"
      },
      "source": [
        "#De acuerdo a la naturaleza de la variable los registros deben ser letras y \n",
        "#contener una longitud mínima correspondiente a los nombre"
      ],
      "execution_count": 14,
      "outputs": []
    },
    {
      "cell_type": "code",
      "metadata": {
        "ExecuteTime": {
          "end_time": "2020-11-05T00:17:42.554835Z",
          "start_time": "2020-11-05T00:17:42.513049Z"
        },
        "id": "pDjmiho7AaXi",
        "outputId": "3571e406-bc56-4138-87ee-832a24ba144f",
        "colab": {
          "base_uri": "https://localhost:8080/",
          "height": 204
        }
      },
      "source": [
        "#Tomamos la variable \"v_first_name\" le aplicamos un .map para identificar los registros que contienen \n",
        "#un dígito en la variable de tipo str\n",
        "df[df[\"v_first_name\"].map(lambda x:sum([y.isdigit() for y in str(x)])>0)]"
      ],
      "execution_count": 15,
      "outputs": [
        {
          "output_type": "execute_result",
          "data": {
            "text/html": [
              "<div>\n",
              "<style scoped>\n",
              "    .dataframe tbody tr th:only-of-type {\n",
              "        vertical-align: middle;\n",
              "    }\n",
              "\n",
              "    .dataframe tbody tr th {\n",
              "        vertical-align: top;\n",
              "    }\n",
              "\n",
              "    .dataframe thead th {\n",
              "        text-align: right;\n",
              "    }\n",
              "</style>\n",
              "<table border=\"1\" class=\"dataframe\">\n",
              "  <thead>\n",
              "    <tr style=\"text-align: right;\">\n",
              "      <th></th>\n",
              "      <th>v_first_name</th>\n",
              "      <th>v_gender</th>\n",
              "      <th>c_salary</th>\n",
              "      <th>c_bonus_%</th>\n",
              "      <th>v_senior_mana</th>\n",
              "      <th>v_team</th>\n",
              "    </tr>\n",
              "  </thead>\n",
              "  <tbody>\n",
              "    <tr>\n",
              "      <th>0</th>\n",
              "      <td>23</td>\n",
              "      <td>Male</td>\n",
              "      <td>97308</td>\n",
              "      <td>6.945</td>\n",
              "      <td>TRUE</td>\n",
              "      <td>Marketing</td>\n",
              "    </tr>\n",
              "    <tr>\n",
              "      <th>1</th>\n",
              "      <td>1</td>\n",
              "      <td>Male</td>\n",
              "      <td>61933</td>\n",
              "      <td>NaN</td>\n",
              "      <td>TRUE</td>\n",
              "      <td>NaN</td>\n",
              "    </tr>\n",
              "    <tr>\n",
              "      <th>2</th>\n",
              "      <td>2</td>\n",
              "      <td>Female</td>\n",
              "      <td>130590</td>\n",
              "      <td>11.858</td>\n",
              "      <td>FALSE</td>\n",
              "      <td>0.112</td>\n",
              "    </tr>\n",
              "    <tr>\n",
              "      <th>12</th>\n",
              "      <td>12346</td>\n",
              "      <td>Male</td>\n",
              "      <td>112807</td>\n",
              "      <td>17.492</td>\n",
              "      <td>TRUE</td>\n",
              "      <td>Human Resources</td>\n",
              "    </tr>\n",
              "    <tr>\n",
              "      <th>333</th>\n",
              "      <td>443</td>\n",
              "      <td>Female</td>\n",
              "      <td>110061</td>\n",
              "      <td>7.494</td>\n",
              "      <td>FALSE</td>\n",
              "      <td>Client Services</td>\n",
              "    </tr>\n",
              "  </tbody>\n",
              "</table>\n",
              "</div>"
            ],
            "text/plain": [
              "    v_first_name v_gender c_salary c_bonus_% v_senior_mana           v_team\n",
              "0             23     Male    97308     6.945          TRUE        Marketing\n",
              "1              1     Male    61933       NaN          TRUE              NaN\n",
              "2              2   Female   130590    11.858         FALSE            0.112\n",
              "12         12346     Male   112807    17.492          TRUE  Human Resources\n",
              "333          443   Female   110061     7.494         FALSE  Client Services"
            ]
          },
          "metadata": {
            "tags": []
          },
          "execution_count": 15
        }
      ]
    },
    {
      "cell_type": "code",
      "metadata": {
        "ExecuteTime": {
          "end_time": "2020-11-05T00:17:42.760956Z",
          "start_time": "2020-11-05T00:17:42.722039Z"
        },
        "id": "C2Of3O25AaXm",
        "outputId": "ca702706-f460-4d22-d855-6b36077c942e",
        "colab": {
          "base_uri": "https://localhost:8080/",
          "height": 142
        }
      },
      "source": [
        "df[df[\"v_first_name\"].map(lambda x:len(str(x))<2)].head(50)"
      ],
      "execution_count": 17,
      "outputs": [
        {
          "output_type": "execute_result",
          "data": {
            "text/html": [
              "<div>\n",
              "<style scoped>\n",
              "    .dataframe tbody tr th:only-of-type {\n",
              "        vertical-align: middle;\n",
              "    }\n",
              "\n",
              "    .dataframe tbody tr th {\n",
              "        vertical-align: top;\n",
              "    }\n",
              "\n",
              "    .dataframe thead th {\n",
              "        text-align: right;\n",
              "    }\n",
              "</style>\n",
              "<table border=\"1\" class=\"dataframe\">\n",
              "  <thead>\n",
              "    <tr style=\"text-align: right;\">\n",
              "      <th></th>\n",
              "      <th>v_first_name</th>\n",
              "      <th>v_gender</th>\n",
              "      <th>c_salary</th>\n",
              "      <th>c_bonus_%</th>\n",
              "      <th>v_senior_mana</th>\n",
              "      <th>v_team</th>\n",
              "    </tr>\n",
              "  </thead>\n",
              "  <tbody>\n",
              "    <tr>\n",
              "      <th>1</th>\n",
              "      <td>1</td>\n",
              "      <td>Male</td>\n",
              "      <td>61933</td>\n",
              "      <td>NaN</td>\n",
              "      <td>TRUE</td>\n",
              "      <td>NaN</td>\n",
              "    </tr>\n",
              "    <tr>\n",
              "      <th>2</th>\n",
              "      <td>2</td>\n",
              "      <td>Female</td>\n",
              "      <td>130590</td>\n",
              "      <td>11.858</td>\n",
              "      <td>FALSE</td>\n",
              "      <td>0.112</td>\n",
              "    </tr>\n",
              "    <tr>\n",
              "      <th>57</th>\n",
              "      <td>?</td>\n",
              "      <td>Male</td>\n",
              "      <td>64715</td>\n",
              "      <td>15.107</td>\n",
              "      <td>TRUE</td>\n",
              "      <td>Human Resources</td>\n",
              "    </tr>\n",
              "  </tbody>\n",
              "</table>\n",
              "</div>"
            ],
            "text/plain": [
              "   v_first_name v_gender c_salary c_bonus_% v_senior_mana           v_team\n",
              "1             1     Male    61933       NaN          TRUE              NaN\n",
              "2             2   Female   130590    11.858         FALSE            0.112\n",
              "57            ?     Male    64715    15.107          TRUE  Human Resources"
            ]
          },
          "metadata": {
            "tags": []
          },
          "execution_count": 17
        }
      ]
    },
    {
      "cell_type": "code",
      "metadata": {
        "ExecuteTime": {
          "end_time": "2020-11-05T00:17:42.887567Z",
          "start_time": "2020-11-05T00:17:42.880932Z"
        },
        "id": "MkgVErfAAaXu"
      },
      "source": [
        "import numpy as np"
      ],
      "execution_count": 18,
      "outputs": []
    },
    {
      "cell_type": "code",
      "metadata": {
        "ExecuteTime": {
          "end_time": "2020-11-05T00:17:43.086681Z",
          "start_time": "2020-11-05T00:17:43.062878Z"
        },
        "id": "Z1Ti1MwQAaXz",
        "outputId": "885f47fc-81d0-4fec-d0c7-15d101ef0110",
        "colab": {
          "base_uri": "https://localhost:8080/"
        }
      },
      "source": [
        "#Tomamos la variable \"v_first_name\" y le indicamos a la función .map que si encuentra un registro que\n",
        "#sea dígito dentro de la variable la tome como np.nan\n",
        "df[\"v_first_name\"].map(lambda x:np.nan if sum([y.isdigit() for y in str(x)])>0 else x)"
      ],
      "execution_count": 22,
      "outputs": [
        {
          "output_type": "execute_result",
          "data": {
            "text/plain": [
              "0          NaN\n",
              "1          NaN\n",
              "2          NaN\n",
              "3        Jerry\n",
              "4        Larry\n",
              "        ...   \n",
              "995      Henry\n",
              "996    Phillip\n",
              "997    Russell\n",
              "998      Larry\n",
              "999     Albert\n",
              "Name: v_first_name, Length: 1000, dtype: object"
            ]
          },
          "metadata": {
            "tags": []
          },
          "execution_count": 22
        }
      ]
    },
    {
      "cell_type": "code",
      "metadata": {
        "ExecuteTime": {
          "end_time": "2020-11-05T00:17:43.273926Z",
          "start_time": "2020-11-05T00:17:43.249264Z"
        },
        "id": "oy0kHyj3AaX3"
      },
      "source": [
        "df[\"v_first_name\"]=df[\"v_first_name\"].map(lambda x:np.nan if sum([y.isdigit() for y in str(x)])>0 else x)"
      ],
      "execution_count": 23,
      "outputs": []
    },
    {
      "cell_type": "code",
      "metadata": {
        "ExecuteTime": {
          "end_time": "2020-11-05T00:17:43.496452Z",
          "start_time": "2020-11-05T00:17:43.468816Z"
        },
        "id": "fw8MBGT1AaX8",
        "outputId": "0419d18e-d1b9-497c-d8e1-f0bb2d8f5e61",
        "colab": {
          "base_uri": "https://localhost:8080/",
          "height": 49
        }
      },
      "source": [
        "#Revisamos que ya no tengamos ese tipo de datos\n",
        "df[df[\"v_first_name\"].map(lambda x:sum([y.isdigit() for y in str(x)])>0)]"
      ],
      "execution_count": 24,
      "outputs": [
        {
          "output_type": "execute_result",
          "data": {
            "text/html": [
              "<div>\n",
              "<style scoped>\n",
              "    .dataframe tbody tr th:only-of-type {\n",
              "        vertical-align: middle;\n",
              "    }\n",
              "\n",
              "    .dataframe tbody tr th {\n",
              "        vertical-align: top;\n",
              "    }\n",
              "\n",
              "    .dataframe thead th {\n",
              "        text-align: right;\n",
              "    }\n",
              "</style>\n",
              "<table border=\"1\" class=\"dataframe\">\n",
              "  <thead>\n",
              "    <tr style=\"text-align: right;\">\n",
              "      <th></th>\n",
              "      <th>v_first_name</th>\n",
              "      <th>v_gender</th>\n",
              "      <th>c_salary</th>\n",
              "      <th>c_bonus_%</th>\n",
              "      <th>v_senior_mana</th>\n",
              "      <th>v_team</th>\n",
              "    </tr>\n",
              "  </thead>\n",
              "  <tbody>\n",
              "  </tbody>\n",
              "</table>\n",
              "</div>"
            ],
            "text/plain": [
              "Empty DataFrame\n",
              "Columns: [v_first_name, v_gender, c_salary, c_bonus_%, v_senior_mana, v_team]\n",
              "Index: []"
            ]
          },
          "metadata": {
            "tags": []
          },
          "execution_count": 24
        }
      ]
    },
    {
      "cell_type": "code",
      "metadata": {
        "ExecuteTime": {
          "end_time": "2020-11-05T00:17:43.696458Z",
          "start_time": "2020-11-05T00:17:43.683255Z"
        },
        "id": "Swo1DNgWAaYB",
        "outputId": "d59d15bf-d8ff-4856-8a78-c3827ad0ad76",
        "colab": {
          "base_uri": "https://localhost:8080/"
        }
      },
      "source": [
        "#Revisamos que esos valores se remplazaron por missings\n",
        "df[\"v_first_name\"].isnull().sum()"
      ],
      "execution_count": 25,
      "outputs": [
        {
          "output_type": "execute_result",
          "data": {
            "text/plain": [
              "74"
            ]
          },
          "metadata": {
            "tags": []
          },
          "execution_count": 25
        }
      ]
    },
    {
      "cell_type": "code",
      "metadata": {
        "ExecuteTime": {
          "end_time": "2020-11-05T00:17:43.922472Z",
          "start_time": "2020-11-05T00:17:43.885536Z"
        },
        "id": "GHcr2REnAaYF",
        "outputId": "28622e70-3d9e-45ef-ce68-1cfba131bd7f",
        "colab": {
          "base_uri": "https://localhost:8080/",
          "height": 80
        }
      },
      "source": [
        "#seguimos teniendo registros no aptos para la columna\n",
        "#Los identificamos dado que no hay nombres de longitud menor a 2\n",
        "df[df[\"v_first_name\"].map(lambda x:len(str(x))<2)].head(50)"
      ],
      "execution_count": 27,
      "outputs": [
        {
          "output_type": "execute_result",
          "data": {
            "text/html": [
              "<div>\n",
              "<style scoped>\n",
              "    .dataframe tbody tr th:only-of-type {\n",
              "        vertical-align: middle;\n",
              "    }\n",
              "\n",
              "    .dataframe tbody tr th {\n",
              "        vertical-align: top;\n",
              "    }\n",
              "\n",
              "    .dataframe thead th {\n",
              "        text-align: right;\n",
              "    }\n",
              "</style>\n",
              "<table border=\"1\" class=\"dataframe\">\n",
              "  <thead>\n",
              "    <tr style=\"text-align: right;\">\n",
              "      <th></th>\n",
              "      <th>v_first_name</th>\n",
              "      <th>v_gender</th>\n",
              "      <th>c_salary</th>\n",
              "      <th>c_bonus_%</th>\n",
              "      <th>v_senior_mana</th>\n",
              "      <th>v_team</th>\n",
              "    </tr>\n",
              "  </thead>\n",
              "  <tbody>\n",
              "    <tr>\n",
              "      <th>57</th>\n",
              "      <td>?</td>\n",
              "      <td>Male</td>\n",
              "      <td>64715</td>\n",
              "      <td>15.107</td>\n",
              "      <td>TRUE</td>\n",
              "      <td>Human Resources</td>\n",
              "    </tr>\n",
              "  </tbody>\n",
              "</table>\n",
              "</div>"
            ],
            "text/plain": [
              "   v_first_name v_gender c_salary c_bonus_% v_senior_mana           v_team\n",
              "57            ?     Male    64715    15.107          TRUE  Human Resources"
            ]
          },
          "metadata": {
            "tags": []
          },
          "execution_count": 27
        }
      ]
    },
    {
      "cell_type": "code",
      "metadata": {
        "ExecuteTime": {
          "end_time": "2020-11-05T00:17:44.064379Z",
          "start_time": "2020-11-05T00:17:44.046491Z"
        },
        "id": "UuFYB0PKAaYK",
        "outputId": "055272ff-91ed-4910-fab5-c16e7f95e450",
        "colab": {
          "base_uri": "https://localhost:8080/"
        }
      },
      "source": [
        "#Los reemplazamos\n",
        "df[\"v_first_name\"].map(lambda x:np.nan if len(str(x))<2 else x)"
      ],
      "execution_count": 28,
      "outputs": [
        {
          "output_type": "execute_result",
          "data": {
            "text/plain": [
              "0          NaN\n",
              "1          NaN\n",
              "2          NaN\n",
              "3        Jerry\n",
              "4        Larry\n",
              "        ...   \n",
              "995      Henry\n",
              "996    Phillip\n",
              "997    Russell\n",
              "998      Larry\n",
              "999     Albert\n",
              "Name: v_first_name, Length: 1000, dtype: object"
            ]
          },
          "metadata": {
            "tags": []
          },
          "execution_count": 28
        }
      ]
    },
    {
      "cell_type": "code",
      "metadata": {
        "ExecuteTime": {
          "end_time": "2020-11-05T00:17:44.256097Z",
          "start_time": "2020-11-05T00:17:44.244636Z"
        },
        "id": "FZL8ZSpVAaYP"
      },
      "source": [
        "df[\"v_first_name\"]=df[\"v_first_name\"].map(lambda x:np.nan if len(str(x))<2 else x)"
      ],
      "execution_count": 29,
      "outputs": []
    },
    {
      "cell_type": "code",
      "metadata": {
        "ExecuteTime": {
          "end_time": "2020-11-05T00:17:44.529172Z",
          "start_time": "2020-11-05T00:17:44.516130Z"
        },
        "id": "Jc6uF2azAaYT",
        "outputId": "fb2c7916-5534-4c9c-f202-b0b1f89fc2c3",
        "colab": {
          "base_uri": "https://localhost:8080/"
        }
      },
      "source": [
        "#Revisamos que esos valores se remplazaron por missings\n",
        "df[\"v_first_name\"].isnull().sum()"
      ],
      "execution_count": 30,
      "outputs": [
        {
          "output_type": "execute_result",
          "data": {
            "text/plain": [
              "75"
            ]
          },
          "metadata": {
            "tags": []
          },
          "execution_count": 30
        }
      ]
    },
    {
      "cell_type": "code",
      "metadata": {
        "ExecuteTime": {
          "end_time": "2020-11-05T00:17:44.791067Z",
          "start_time": "2020-11-05T00:17:44.763834Z"
        },
        "id": "rjPNM1BMAaYZ",
        "outputId": "539adac3-8c7e-44aa-9090-bc0e46b2f9c7",
        "colab": {
          "base_uri": "https://localhost:8080/",
          "height": 49
        }
      },
      "source": [
        "#Validamos el cambio\n",
        "df[df[\"v_first_name\"].map(lambda x:len(str(x))<2)].head(50)"
      ],
      "execution_count": 32,
      "outputs": [
        {
          "output_type": "execute_result",
          "data": {
            "text/html": [
              "<div>\n",
              "<style scoped>\n",
              "    .dataframe tbody tr th:only-of-type {\n",
              "        vertical-align: middle;\n",
              "    }\n",
              "\n",
              "    .dataframe tbody tr th {\n",
              "        vertical-align: top;\n",
              "    }\n",
              "\n",
              "    .dataframe thead th {\n",
              "        text-align: right;\n",
              "    }\n",
              "</style>\n",
              "<table border=\"1\" class=\"dataframe\">\n",
              "  <thead>\n",
              "    <tr style=\"text-align: right;\">\n",
              "      <th></th>\n",
              "      <th>v_first_name</th>\n",
              "      <th>v_gender</th>\n",
              "      <th>c_salary</th>\n",
              "      <th>c_bonus_%</th>\n",
              "      <th>v_senior_mana</th>\n",
              "      <th>v_team</th>\n",
              "    </tr>\n",
              "  </thead>\n",
              "  <tbody>\n",
              "  </tbody>\n",
              "</table>\n",
              "</div>"
            ],
            "text/plain": [
              "Empty DataFrame\n",
              "Columns: [v_first_name, v_gender, c_salary, c_bonus_%, v_senior_mana, v_team]\n",
              "Index: []"
            ]
          },
          "metadata": {
            "tags": []
          },
          "execution_count": 32
        }
      ]
    },
    {
      "cell_type": "code",
      "metadata": {
        "ExecuteTime": {
          "end_time": "2020-11-05T00:17:45.026556Z",
          "start_time": "2020-11-05T00:17:44.970506Z"
        },
        "id": "GHBEvSigAaYd",
        "outputId": "301bb9cc-c10b-4ed9-bd43-986ded259e8f",
        "colab": {
          "base_uri": "https://localhost:8080/",
          "height": 419
        }
      },
      "source": [
        "df"
      ],
      "execution_count": 33,
      "outputs": [
        {
          "output_type": "execute_result",
          "data": {
            "text/html": [
              "<div>\n",
              "<style scoped>\n",
              "    .dataframe tbody tr th:only-of-type {\n",
              "        vertical-align: middle;\n",
              "    }\n",
              "\n",
              "    .dataframe tbody tr th {\n",
              "        vertical-align: top;\n",
              "    }\n",
              "\n",
              "    .dataframe thead th {\n",
              "        text-align: right;\n",
              "    }\n",
              "</style>\n",
              "<table border=\"1\" class=\"dataframe\">\n",
              "  <thead>\n",
              "    <tr style=\"text-align: right;\">\n",
              "      <th></th>\n",
              "      <th>v_first_name</th>\n",
              "      <th>v_gender</th>\n",
              "      <th>c_salary</th>\n",
              "      <th>c_bonus_%</th>\n",
              "      <th>v_senior_mana</th>\n",
              "      <th>v_team</th>\n",
              "    </tr>\n",
              "  </thead>\n",
              "  <tbody>\n",
              "    <tr>\n",
              "      <th>0</th>\n",
              "      <td>NaN</td>\n",
              "      <td>Male</td>\n",
              "      <td>97308</td>\n",
              "      <td>6.945</td>\n",
              "      <td>TRUE</td>\n",
              "      <td>Marketing</td>\n",
              "    </tr>\n",
              "    <tr>\n",
              "      <th>1</th>\n",
              "      <td>NaN</td>\n",
              "      <td>Male</td>\n",
              "      <td>61933</td>\n",
              "      <td>NaN</td>\n",
              "      <td>TRUE</td>\n",
              "      <td>NaN</td>\n",
              "    </tr>\n",
              "    <tr>\n",
              "      <th>2</th>\n",
              "      <td>NaN</td>\n",
              "      <td>Female</td>\n",
              "      <td>130590</td>\n",
              "      <td>11.858</td>\n",
              "      <td>FALSE</td>\n",
              "      <td>0.112</td>\n",
              "    </tr>\n",
              "    <tr>\n",
              "      <th>3</th>\n",
              "      <td>Jerry</td>\n",
              "      <td>Male</td>\n",
              "      <td>NaN</td>\n",
              "      <td>9.34</td>\n",
              "      <td>TRUE</td>\n",
              "      <td>Finance</td>\n",
              "    </tr>\n",
              "    <tr>\n",
              "      <th>4</th>\n",
              "      <td>Larry</td>\n",
              "      <td>Male</td>\n",
              "      <td>101004</td>\n",
              "      <td>1.389</td>\n",
              "      <td>TRUE</td>\n",
              "      <td>Client Services</td>\n",
              "    </tr>\n",
              "    <tr>\n",
              "      <th>...</th>\n",
              "      <td>...</td>\n",
              "      <td>...</td>\n",
              "      <td>...</td>\n",
              "      <td>...</td>\n",
              "      <td>...</td>\n",
              "      <td>...</td>\n",
              "    </tr>\n",
              "    <tr>\n",
              "      <th>995</th>\n",
              "      <td>Henry</td>\n",
              "      <td>NaN</td>\n",
              "      <td>132483</td>\n",
              "      <td>16.655</td>\n",
              "      <td>FALSE</td>\n",
              "      <td>Distribution</td>\n",
              "    </tr>\n",
              "    <tr>\n",
              "      <th>996</th>\n",
              "      <td>Phillip</td>\n",
              "      <td>Male</td>\n",
              "      <td>42392</td>\n",
              "      <td>19.675</td>\n",
              "      <td>FALSE</td>\n",
              "      <td>Finance</td>\n",
              "    </tr>\n",
              "    <tr>\n",
              "      <th>997</th>\n",
              "      <td>Russell</td>\n",
              "      <td>Male</td>\n",
              "      <td>96914</td>\n",
              "      <td>1.421</td>\n",
              "      <td>FALSE</td>\n",
              "      <td>Product</td>\n",
              "    </tr>\n",
              "    <tr>\n",
              "      <th>998</th>\n",
              "      <td>Larry</td>\n",
              "      <td>Male</td>\n",
              "      <td>60500</td>\n",
              "      <td>11.985</td>\n",
              "      <td>FALSE</td>\n",
              "      <td>Business Development</td>\n",
              "    </tr>\n",
              "    <tr>\n",
              "      <th>999</th>\n",
              "      <td>Albert</td>\n",
              "      <td>Male</td>\n",
              "      <td>129949</td>\n",
              "      <td>qqqqq</td>\n",
              "      <td>TRUE</td>\n",
              "      <td>Sales</td>\n",
              "    </tr>\n",
              "  </tbody>\n",
              "</table>\n",
              "<p>1000 rows × 6 columns</p>\n",
              "</div>"
            ],
            "text/plain": [
              "    v_first_name v_gender c_salary c_bonus_% v_senior_mana  \\\n",
              "0            NaN     Male    97308     6.945          TRUE   \n",
              "1            NaN     Male    61933       NaN          TRUE   \n",
              "2            NaN   Female   130590    11.858         FALSE   \n",
              "3          Jerry     Male      NaN      9.34          TRUE   \n",
              "4          Larry     Male   101004     1.389          TRUE   \n",
              "..           ...      ...      ...       ...           ...   \n",
              "995        Henry      NaN   132483    16.655         FALSE   \n",
              "996      Phillip     Male    42392    19.675         FALSE   \n",
              "997      Russell     Male    96914     1.421         FALSE   \n",
              "998        Larry     Male    60500    11.985         FALSE   \n",
              "999       Albert     Male   129949     qqqqq          TRUE   \n",
              "\n",
              "                   v_team  \n",
              "0               Marketing  \n",
              "1                     NaN  \n",
              "2                   0.112  \n",
              "3                 Finance  \n",
              "4         Client Services  \n",
              "..                    ...  \n",
              "995          Distribution  \n",
              "996               Finance  \n",
              "997               Product  \n",
              "998  Business Development  \n",
              "999                 Sales  \n",
              "\n",
              "[1000 rows x 6 columns]"
            ]
          },
          "metadata": {
            "tags": []
          },
          "execution_count": 33
        }
      ]
    },
    {
      "cell_type": "markdown",
      "metadata": {
        "id": "r12x3VUZAaYh"
      },
      "source": [
        "### GENDER"
      ]
    },
    {
      "cell_type": "code",
      "metadata": {
        "ExecuteTime": {
          "end_time": "2020-11-05T00:17:45.730566Z",
          "start_time": "2020-11-05T00:17:45.681184Z"
        },
        "id": "tJtYN-XtAaYi",
        "outputId": "7ae9e12e-e1b1-47ca-a941-1c7d352d5b53",
        "colab": {
          "base_uri": "https://localhost:8080/",
          "height": 419
        }
      },
      "source": [
        "#Visualicemos ahora a la varible \"Gender\"\n",
        "df"
      ],
      "execution_count": 56,
      "outputs": [
        {
          "output_type": "execute_result",
          "data": {
            "text/html": [
              "<div>\n",
              "<style scoped>\n",
              "    .dataframe tbody tr th:only-of-type {\n",
              "        vertical-align: middle;\n",
              "    }\n",
              "\n",
              "    .dataframe tbody tr th {\n",
              "        vertical-align: top;\n",
              "    }\n",
              "\n",
              "    .dataframe thead th {\n",
              "        text-align: right;\n",
              "    }\n",
              "</style>\n",
              "<table border=\"1\" class=\"dataframe\">\n",
              "  <thead>\n",
              "    <tr style=\"text-align: right;\">\n",
              "      <th></th>\n",
              "      <th>v_first_name</th>\n",
              "      <th>v_gender</th>\n",
              "      <th>c_salary</th>\n",
              "      <th>c_bonus_%</th>\n",
              "      <th>v_senior_mana</th>\n",
              "      <th>v_team</th>\n",
              "    </tr>\n",
              "  </thead>\n",
              "  <tbody>\n",
              "    <tr>\n",
              "      <th>0</th>\n",
              "      <td>NaN</td>\n",
              "      <td>Male</td>\n",
              "      <td>97308</td>\n",
              "      <td>6.945</td>\n",
              "      <td>TRUE</td>\n",
              "      <td>Marketing</td>\n",
              "    </tr>\n",
              "    <tr>\n",
              "      <th>1</th>\n",
              "      <td>NaN</td>\n",
              "      <td>Male</td>\n",
              "      <td>61933</td>\n",
              "      <td>NaN</td>\n",
              "      <td>TRUE</td>\n",
              "      <td>NaN</td>\n",
              "    </tr>\n",
              "    <tr>\n",
              "      <th>2</th>\n",
              "      <td>NaN</td>\n",
              "      <td>Female</td>\n",
              "      <td>130590</td>\n",
              "      <td>11.858</td>\n",
              "      <td>FALSE</td>\n",
              "      <td>0.112</td>\n",
              "    </tr>\n",
              "    <tr>\n",
              "      <th>3</th>\n",
              "      <td>Jerry</td>\n",
              "      <td>Male</td>\n",
              "      <td>NaN</td>\n",
              "      <td>9.34</td>\n",
              "      <td>TRUE</td>\n",
              "      <td>Finance</td>\n",
              "    </tr>\n",
              "    <tr>\n",
              "      <th>4</th>\n",
              "      <td>Larry</td>\n",
              "      <td>Male</td>\n",
              "      <td>101004</td>\n",
              "      <td>1.389</td>\n",
              "      <td>TRUE</td>\n",
              "      <td>Client Services</td>\n",
              "    </tr>\n",
              "    <tr>\n",
              "      <th>...</th>\n",
              "      <td>...</td>\n",
              "      <td>...</td>\n",
              "      <td>...</td>\n",
              "      <td>...</td>\n",
              "      <td>...</td>\n",
              "      <td>...</td>\n",
              "    </tr>\n",
              "    <tr>\n",
              "      <th>995</th>\n",
              "      <td>Henry</td>\n",
              "      <td>NaN</td>\n",
              "      <td>132483</td>\n",
              "      <td>16.655</td>\n",
              "      <td>FALSE</td>\n",
              "      <td>Distribution</td>\n",
              "    </tr>\n",
              "    <tr>\n",
              "      <th>996</th>\n",
              "      <td>Phillip</td>\n",
              "      <td>Male</td>\n",
              "      <td>42392</td>\n",
              "      <td>19.675</td>\n",
              "      <td>FALSE</td>\n",
              "      <td>Finance</td>\n",
              "    </tr>\n",
              "    <tr>\n",
              "      <th>997</th>\n",
              "      <td>Russell</td>\n",
              "      <td>Male</td>\n",
              "      <td>96914</td>\n",
              "      <td>1.421</td>\n",
              "      <td>FALSE</td>\n",
              "      <td>Product</td>\n",
              "    </tr>\n",
              "    <tr>\n",
              "      <th>998</th>\n",
              "      <td>Larry</td>\n",
              "      <td>Male</td>\n",
              "      <td>60500</td>\n",
              "      <td>11.985</td>\n",
              "      <td>FALSE</td>\n",
              "      <td>Business Development</td>\n",
              "    </tr>\n",
              "    <tr>\n",
              "      <th>999</th>\n",
              "      <td>Albert</td>\n",
              "      <td>Male</td>\n",
              "      <td>129949</td>\n",
              "      <td>qqqqq</td>\n",
              "      <td>TRUE</td>\n",
              "      <td>Sales</td>\n",
              "    </tr>\n",
              "  </tbody>\n",
              "</table>\n",
              "<p>1000 rows × 6 columns</p>\n",
              "</div>"
            ],
            "text/plain": [
              "    v_first_name v_gender c_salary c_bonus_% v_senior_mana  \\\n",
              "0            NaN     Male    97308     6.945          TRUE   \n",
              "1            NaN     Male    61933       NaN          TRUE   \n",
              "2            NaN   Female   130590    11.858         FALSE   \n",
              "3          Jerry     Male      NaN      9.34          TRUE   \n",
              "4          Larry     Male   101004     1.389          TRUE   \n",
              "..           ...      ...      ...       ...           ...   \n",
              "995        Henry      NaN   132483    16.655         FALSE   \n",
              "996      Phillip     Male    42392    19.675         FALSE   \n",
              "997      Russell     Male    96914     1.421         FALSE   \n",
              "998        Larry     Male    60500    11.985         FALSE   \n",
              "999       Albert     Male   129949     qqqqq          TRUE   \n",
              "\n",
              "                   v_team  \n",
              "0               Marketing  \n",
              "1                     NaN  \n",
              "2                   0.112  \n",
              "3                 Finance  \n",
              "4         Client Services  \n",
              "..                    ...  \n",
              "995          Distribution  \n",
              "996               Finance  \n",
              "997               Product  \n",
              "998  Business Development  \n",
              "999                 Sales  \n",
              "\n",
              "[1000 rows x 6 columns]"
            ]
          },
          "metadata": {
            "tags": []
          },
          "execution_count": 56
        }
      ]
    },
    {
      "cell_type": "code",
      "metadata": {
        "ExecuteTime": {
          "end_time": "2020-11-05T00:17:45.846768Z",
          "start_time": "2020-11-05T00:17:45.833703Z"
        },
        "id": "DvDFFJXIAaYm",
        "outputId": "5024e348-d990-4baa-a05c-1fad8ff0f074",
        "colab": {
          "base_uri": "https://localhost:8080/"
        }
      },
      "source": [
        "#Veamos los valores nulos\n",
        "df[\"v_gender\"].isnull().sum()"
      ],
      "execution_count": 57,
      "outputs": [
        {
          "output_type": "execute_result",
          "data": {
            "text/plain": [
              "151"
            ]
          },
          "metadata": {
            "tags": []
          },
          "execution_count": 57
        }
      ]
    },
    {
      "cell_type": "code",
      "metadata": {
        "ExecuteTime": {
          "end_time": "2020-11-05T00:17:46.475794Z",
          "start_time": "2020-11-05T00:17:46.454274Z"
        },
        "id": "UzlgSZ0HAaYs",
        "outputId": "81c206e0-4e4f-4f12-dbe9-6030a4a09d7f",
        "colab": {
          "base_uri": "https://localhost:8080/"
        }
      },
      "source": [
        "#Identifiquemos la frecuencia de aparición\n",
        "df[\"v_gender\"].value_counts()"
      ],
      "execution_count": 58,
      "outputs": [
        {
          "output_type": "execute_result",
          "data": {
            "text/plain": [
              "Female    426\n",
              "Male      423\n",
              "Name: v_gender, dtype: int64"
            ]
          },
          "metadata": {
            "tags": []
          },
          "execution_count": 58
        }
      ]
    },
    {
      "cell_type": "code",
      "metadata": {
        "ExecuteTime": {
          "end_time": "2020-11-05T00:17:47.954608Z",
          "start_time": "2020-11-05T00:17:46.897813Z"
        },
        "id": "DNKrCuJXAaYx",
        "outputId": "442093b2-07fc-4f83-8659-317242c17336",
        "colab": {
          "base_uri": "https://localhost:8080/",
          "height": 49
        }
      },
      "source": [
        "#Veamos si hay dígitos dentro de la variable\n",
        "df[df[\"v_gender\"].map(lambda x:sum([y.isdigit() for y in str(x)])>0)]"
      ],
      "execution_count": 59,
      "outputs": [
        {
          "output_type": "execute_result",
          "data": {
            "text/html": [
              "<div>\n",
              "<style scoped>\n",
              "    .dataframe tbody tr th:only-of-type {\n",
              "        vertical-align: middle;\n",
              "    }\n",
              "\n",
              "    .dataframe tbody tr th {\n",
              "        vertical-align: top;\n",
              "    }\n",
              "\n",
              "    .dataframe thead th {\n",
              "        text-align: right;\n",
              "    }\n",
              "</style>\n",
              "<table border=\"1\" class=\"dataframe\">\n",
              "  <thead>\n",
              "    <tr style=\"text-align: right;\">\n",
              "      <th></th>\n",
              "      <th>v_first_name</th>\n",
              "      <th>v_gender</th>\n",
              "      <th>c_salary</th>\n",
              "      <th>c_bonus_%</th>\n",
              "      <th>v_senior_mana</th>\n",
              "      <th>v_team</th>\n",
              "    </tr>\n",
              "  </thead>\n",
              "  <tbody>\n",
              "  </tbody>\n",
              "</table>\n",
              "</div>"
            ],
            "text/plain": [
              "Empty DataFrame\n",
              "Columns: [v_first_name, v_gender, c_salary, c_bonus_%, v_senior_mana, v_team]\n",
              "Index: []"
            ]
          },
          "metadata": {
            "tags": []
          },
          "execution_count": 59
        }
      ]
    },
    {
      "cell_type": "code",
      "metadata": {
        "ExecuteTime": {
          "end_time": "2020-11-05T00:17:48.040393Z",
          "start_time": "2020-11-05T00:17:47.960685Z"
        },
        "id": "3xR941tcAaY1"
      },
      "source": [
        "#Los reempalzamos con NaN\n",
        "df[\"v_gender\"]=df[\"v_gender\"].map(lambda x:np.nan if sum([y.isdigit() for y in str(x)])>0 else x)"
      ],
      "execution_count": 60,
      "outputs": []
    },
    {
      "cell_type": "code",
      "metadata": {
        "ExecuteTime": {
          "end_time": "2020-11-05T00:17:48.134948Z",
          "start_time": "2020-11-05T00:17:48.048485Z"
        },
        "id": "WKjxsBSIAaY5",
        "outputId": "bf30143a-7265-45a8-ae90-84e3d62b9a15",
        "colab": {
          "base_uri": "https://localhost:8080/"
        }
      },
      "source": [
        "#Visualizamos el cambio\n",
        "df[\"v_gender\"].isnull().sum()"
      ],
      "execution_count": 61,
      "outputs": [
        {
          "output_type": "execute_result",
          "data": {
            "text/plain": [
              "151"
            ]
          },
          "metadata": {
            "tags": []
          },
          "execution_count": 61
        }
      ]
    },
    {
      "cell_type": "code",
      "metadata": {
        "ExecuteTime": {
          "end_time": "2020-11-05T00:17:48.230092Z",
          "start_time": "2020-11-05T00:17:48.142608Z"
        },
        "id": "9rA5pN_SAaY9",
        "outputId": "302d715c-3cf9-44e4-ba9d-8435c9f3ff19",
        "colab": {
          "base_uri": "https://localhost:8080/",
          "height": 49
        }
      },
      "source": [
        "#Identificamos los registros con n.a\n",
        "df[df[\"v_gender\"].isin([\"n.a.\"])]"
      ],
      "execution_count": 62,
      "outputs": [
        {
          "output_type": "execute_result",
          "data": {
            "text/html": [
              "<div>\n",
              "<style scoped>\n",
              "    .dataframe tbody tr th:only-of-type {\n",
              "        vertical-align: middle;\n",
              "    }\n",
              "\n",
              "    .dataframe tbody tr th {\n",
              "        vertical-align: top;\n",
              "    }\n",
              "\n",
              "    .dataframe thead th {\n",
              "        text-align: right;\n",
              "    }\n",
              "</style>\n",
              "<table border=\"1\" class=\"dataframe\">\n",
              "  <thead>\n",
              "    <tr style=\"text-align: right;\">\n",
              "      <th></th>\n",
              "      <th>v_first_name</th>\n",
              "      <th>v_gender</th>\n",
              "      <th>c_salary</th>\n",
              "      <th>c_bonus_%</th>\n",
              "      <th>v_senior_mana</th>\n",
              "      <th>v_team</th>\n",
              "    </tr>\n",
              "  </thead>\n",
              "  <tbody>\n",
              "  </tbody>\n",
              "</table>\n",
              "</div>"
            ],
            "text/plain": [
              "Empty DataFrame\n",
              "Columns: [v_first_name, v_gender, c_salary, c_bonus_%, v_senior_mana, v_team]\n",
              "Index: []"
            ]
          },
          "metadata": {
            "tags": []
          },
          "execution_count": 62
        }
      ]
    },
    {
      "cell_type": "code",
      "metadata": {
        "ExecuteTime": {
          "end_time": "2020-11-05T00:17:48.434827Z",
          "start_time": "2020-11-05T00:17:48.416017Z"
        },
        "id": "eYdK2O-VAaZD"
      },
      "source": [
        "#Los volvemos np.nan\n",
        "df[\"v_gender\"]=df[\"v_gender\"].map(lambda x:np.nan if str(x)==\"n.a.\" else x)"
      ],
      "execution_count": 63,
      "outputs": []
    },
    {
      "cell_type": "code",
      "metadata": {
        "ExecuteTime": {
          "end_time": "2020-11-05T00:17:48.852269Z",
          "start_time": "2020-11-05T00:17:48.827581Z"
        },
        "id": "qMKu98Z5AaZH",
        "outputId": "720bf66f-55d2-4cb5-9b8b-1b184b1d427c",
        "colab": {
          "base_uri": "https://localhost:8080/",
          "height": 49
        }
      },
      "source": [
        "#Visualizamos el cambio\n",
        "df[df[\"v_gender\"].isin([\"n.a.\"])]"
      ],
      "execution_count": 64,
      "outputs": [
        {
          "output_type": "execute_result",
          "data": {
            "text/html": [
              "<div>\n",
              "<style scoped>\n",
              "    .dataframe tbody tr th:only-of-type {\n",
              "        vertical-align: middle;\n",
              "    }\n",
              "\n",
              "    .dataframe tbody tr th {\n",
              "        vertical-align: top;\n",
              "    }\n",
              "\n",
              "    .dataframe thead th {\n",
              "        text-align: right;\n",
              "    }\n",
              "</style>\n",
              "<table border=\"1\" class=\"dataframe\">\n",
              "  <thead>\n",
              "    <tr style=\"text-align: right;\">\n",
              "      <th></th>\n",
              "      <th>v_first_name</th>\n",
              "      <th>v_gender</th>\n",
              "      <th>c_salary</th>\n",
              "      <th>c_bonus_%</th>\n",
              "      <th>v_senior_mana</th>\n",
              "      <th>v_team</th>\n",
              "    </tr>\n",
              "  </thead>\n",
              "  <tbody>\n",
              "  </tbody>\n",
              "</table>\n",
              "</div>"
            ],
            "text/plain": [
              "Empty DataFrame\n",
              "Columns: [v_first_name, v_gender, c_salary, c_bonus_%, v_senior_mana, v_team]\n",
              "Index: []"
            ]
          },
          "metadata": {
            "tags": []
          },
          "execution_count": 64
        }
      ]
    },
    {
      "cell_type": "code",
      "metadata": {
        "ExecuteTime": {
          "end_time": "2020-11-05T00:17:49.247067Z",
          "start_time": "2020-11-05T00:17:49.233759Z"
        },
        "id": "NIpX3A68AaZL",
        "outputId": "04cff117-6326-497a-a808-2f00d1c4e511",
        "colab": {
          "base_uri": "https://localhost:8080/"
        }
      },
      "source": [
        "df[\"v_gender\"].isnull().sum()"
      ],
      "execution_count": 65,
      "outputs": [
        {
          "output_type": "execute_result",
          "data": {
            "text/plain": [
              "151"
            ]
          },
          "metadata": {
            "tags": []
          },
          "execution_count": 65
        }
      ]
    },
    {
      "cell_type": "code",
      "metadata": {
        "ExecuteTime": {
          "end_time": "2020-11-05T00:17:50.682246Z",
          "start_time": "2020-11-05T00:17:50.636571Z"
        },
        "id": "2xGEfY6EAaZR",
        "outputId": "a722f2d4-c8a1-483c-d064-49c410c9b704",
        "colab": {
          "base_uri": "https://localhost:8080/",
          "height": 419
        }
      },
      "source": [
        "df"
      ],
      "execution_count": 66,
      "outputs": [
        {
          "output_type": "execute_result",
          "data": {
            "text/html": [
              "<div>\n",
              "<style scoped>\n",
              "    .dataframe tbody tr th:only-of-type {\n",
              "        vertical-align: middle;\n",
              "    }\n",
              "\n",
              "    .dataframe tbody tr th {\n",
              "        vertical-align: top;\n",
              "    }\n",
              "\n",
              "    .dataframe thead th {\n",
              "        text-align: right;\n",
              "    }\n",
              "</style>\n",
              "<table border=\"1\" class=\"dataframe\">\n",
              "  <thead>\n",
              "    <tr style=\"text-align: right;\">\n",
              "      <th></th>\n",
              "      <th>v_first_name</th>\n",
              "      <th>v_gender</th>\n",
              "      <th>c_salary</th>\n",
              "      <th>c_bonus_%</th>\n",
              "      <th>v_senior_mana</th>\n",
              "      <th>v_team</th>\n",
              "    </tr>\n",
              "  </thead>\n",
              "  <tbody>\n",
              "    <tr>\n",
              "      <th>0</th>\n",
              "      <td>NaN</td>\n",
              "      <td>Male</td>\n",
              "      <td>97308</td>\n",
              "      <td>6.945</td>\n",
              "      <td>TRUE</td>\n",
              "      <td>Marketing</td>\n",
              "    </tr>\n",
              "    <tr>\n",
              "      <th>1</th>\n",
              "      <td>NaN</td>\n",
              "      <td>Male</td>\n",
              "      <td>61933</td>\n",
              "      <td>NaN</td>\n",
              "      <td>TRUE</td>\n",
              "      <td>NaN</td>\n",
              "    </tr>\n",
              "    <tr>\n",
              "      <th>2</th>\n",
              "      <td>NaN</td>\n",
              "      <td>Female</td>\n",
              "      <td>130590</td>\n",
              "      <td>11.858</td>\n",
              "      <td>FALSE</td>\n",
              "      <td>0.112</td>\n",
              "    </tr>\n",
              "    <tr>\n",
              "      <th>3</th>\n",
              "      <td>Jerry</td>\n",
              "      <td>Male</td>\n",
              "      <td>NaN</td>\n",
              "      <td>9.34</td>\n",
              "      <td>TRUE</td>\n",
              "      <td>Finance</td>\n",
              "    </tr>\n",
              "    <tr>\n",
              "      <th>4</th>\n",
              "      <td>Larry</td>\n",
              "      <td>Male</td>\n",
              "      <td>101004</td>\n",
              "      <td>1.389</td>\n",
              "      <td>TRUE</td>\n",
              "      <td>Client Services</td>\n",
              "    </tr>\n",
              "    <tr>\n",
              "      <th>...</th>\n",
              "      <td>...</td>\n",
              "      <td>...</td>\n",
              "      <td>...</td>\n",
              "      <td>...</td>\n",
              "      <td>...</td>\n",
              "      <td>...</td>\n",
              "    </tr>\n",
              "    <tr>\n",
              "      <th>995</th>\n",
              "      <td>Henry</td>\n",
              "      <td>NaN</td>\n",
              "      <td>132483</td>\n",
              "      <td>16.655</td>\n",
              "      <td>FALSE</td>\n",
              "      <td>Distribution</td>\n",
              "    </tr>\n",
              "    <tr>\n",
              "      <th>996</th>\n",
              "      <td>Phillip</td>\n",
              "      <td>Male</td>\n",
              "      <td>42392</td>\n",
              "      <td>19.675</td>\n",
              "      <td>FALSE</td>\n",
              "      <td>Finance</td>\n",
              "    </tr>\n",
              "    <tr>\n",
              "      <th>997</th>\n",
              "      <td>Russell</td>\n",
              "      <td>Male</td>\n",
              "      <td>96914</td>\n",
              "      <td>1.421</td>\n",
              "      <td>FALSE</td>\n",
              "      <td>Product</td>\n",
              "    </tr>\n",
              "    <tr>\n",
              "      <th>998</th>\n",
              "      <td>Larry</td>\n",
              "      <td>Male</td>\n",
              "      <td>60500</td>\n",
              "      <td>11.985</td>\n",
              "      <td>FALSE</td>\n",
              "      <td>Business Development</td>\n",
              "    </tr>\n",
              "    <tr>\n",
              "      <th>999</th>\n",
              "      <td>Albert</td>\n",
              "      <td>Male</td>\n",
              "      <td>129949</td>\n",
              "      <td>qqqqq</td>\n",
              "      <td>TRUE</td>\n",
              "      <td>Sales</td>\n",
              "    </tr>\n",
              "  </tbody>\n",
              "</table>\n",
              "<p>1000 rows × 6 columns</p>\n",
              "</div>"
            ],
            "text/plain": [
              "    v_first_name v_gender c_salary c_bonus_% v_senior_mana  \\\n",
              "0            NaN     Male    97308     6.945          TRUE   \n",
              "1            NaN     Male    61933       NaN          TRUE   \n",
              "2            NaN   Female   130590    11.858         FALSE   \n",
              "3          Jerry     Male      NaN      9.34          TRUE   \n",
              "4          Larry     Male   101004     1.389          TRUE   \n",
              "..           ...      ...      ...       ...           ...   \n",
              "995        Henry      NaN   132483    16.655         FALSE   \n",
              "996      Phillip     Male    42392    19.675         FALSE   \n",
              "997      Russell     Male    96914     1.421         FALSE   \n",
              "998        Larry     Male    60500    11.985         FALSE   \n",
              "999       Albert     Male   129949     qqqqq          TRUE   \n",
              "\n",
              "                   v_team  \n",
              "0               Marketing  \n",
              "1                     NaN  \n",
              "2                   0.112  \n",
              "3                 Finance  \n",
              "4         Client Services  \n",
              "..                    ...  \n",
              "995          Distribution  \n",
              "996               Finance  \n",
              "997               Product  \n",
              "998  Business Development  \n",
              "999                 Sales  \n",
              "\n",
              "[1000 rows x 6 columns]"
            ]
          },
          "metadata": {
            "tags": []
          },
          "execution_count": 66
        }
      ]
    },
    {
      "cell_type": "markdown",
      "metadata": {
        "id": "JalMv3WwAaZX"
      },
      "source": [
        "### SALARY"
      ]
    },
    {
      "cell_type": "code",
      "metadata": {
        "ExecuteTime": {
          "end_time": "2020-11-05T00:01:13.374593Z",
          "start_time": "2020-11-05T00:01:13.263882Z"
        },
        "scrolled": true,
        "id": "MOKQjxQoAaZY",
        "outputId": "9c67ff67-49e9-4893-a9ad-ad5e58b952fc",
        "colab": {
          "base_uri": "https://localhost:8080/"
        }
      },
      "source": [
        "df[\"c_salary\"].astype(float)"
      ],
      "execution_count": 84,
      "outputs": [
        {
          "output_type": "execute_result",
          "data": {
            "text/plain": [
              "0       97308.0\n",
              "1       61933.0\n",
              "2      130590.0\n",
              "3           NaN\n",
              "4      101004.0\n",
              "         ...   \n",
              "995    132483.0\n",
              "996     42392.0\n",
              "997     96914.0\n",
              "998     60500.0\n",
              "999    129949.0\n",
              "Name: c_salary, Length: 1000, dtype: float64"
            ]
          },
          "metadata": {
            "tags": []
          },
          "execution_count": 84
        }
      ]
    },
    {
      "cell_type": "code",
      "metadata": {
        "ExecuteTime": {
          "end_time": "2020-11-05T00:17:56.857772Z",
          "start_time": "2020-11-05T00:17:56.840122Z"
        },
        "id": "q0u2YvbtAaZd",
        "outputId": "a7e6a3d4-fde8-49d0-8fae-73ff9695b383",
        "colab": {
          "base_uri": "https://localhost:8080/"
        }
      },
      "source": [
        "#Número de nulos\n",
        "df[\"c_salary\"].isnull().sum()"
      ],
      "execution_count": 86,
      "outputs": [
        {
          "output_type": "execute_result",
          "data": {
            "text/plain": [
              "8"
            ]
          },
          "metadata": {
            "tags": []
          },
          "execution_count": 86
        }
      ]
    },
    {
      "cell_type": "code",
      "metadata": {
        "ExecuteTime": {
          "end_time": "2020-11-05T00:17:57.932006Z",
          "start_time": "2020-11-05T00:17:57.893327Z"
        },
        "id": "AgcXXYzQAaZh",
        "outputId": "aca844b0-248b-4c71-ba54-5f5a3de5e1dc",
        "colab": {
          "base_uri": "https://localhost:8080/",
          "height": 297
        }
      },
      "source": [
        "#Identificamos los valores que son texto dentro de 'c_salary'\n",
        "df[df[\"c_salary\"].map(lambda x:sum([y.isalpha() for y in str(x)])>0 )]"
      ],
      "execution_count": 87,
      "outputs": [
        {
          "output_type": "execute_result",
          "data": {
            "text/html": [
              "<div>\n",
              "<style scoped>\n",
              "    .dataframe tbody tr th:only-of-type {\n",
              "        vertical-align: middle;\n",
              "    }\n",
              "\n",
              "    .dataframe tbody tr th {\n",
              "        vertical-align: top;\n",
              "    }\n",
              "\n",
              "    .dataframe thead th {\n",
              "        text-align: right;\n",
              "    }\n",
              "</style>\n",
              "<table border=\"1\" class=\"dataframe\">\n",
              "  <thead>\n",
              "    <tr style=\"text-align: right;\">\n",
              "      <th></th>\n",
              "      <th>v_first_name</th>\n",
              "      <th>v_gender</th>\n",
              "      <th>c_salary</th>\n",
              "      <th>c_bonus_%</th>\n",
              "      <th>v_senior_mana</th>\n",
              "      <th>v_team</th>\n",
              "    </tr>\n",
              "  </thead>\n",
              "  <tbody>\n",
              "    <tr>\n",
              "      <th>3</th>\n",
              "      <td>Jerry</td>\n",
              "      <td>Male</td>\n",
              "      <td>NaN</td>\n",
              "      <td>9.34</td>\n",
              "      <td>TRUE</td>\n",
              "      <td>Finance</td>\n",
              "    </tr>\n",
              "    <tr>\n",
              "      <th>8</th>\n",
              "      <td>Angela</td>\n",
              "      <td>NaN</td>\n",
              "      <td>NaN</td>\n",
              "      <td>18.523</td>\n",
              "      <td>TRUE</td>\n",
              "      <td>Engineering</td>\n",
              "    </tr>\n",
              "    <tr>\n",
              "      <th>50</th>\n",
              "      <td>Nancy</td>\n",
              "      <td>Female</td>\n",
              "      <td>NaN</td>\n",
              "      <td>13.83</td>\n",
              "      <td>TRUE</td>\n",
              "      <td>Engineering</td>\n",
              "    </tr>\n",
              "    <tr>\n",
              "      <th>55</th>\n",
              "      <td>Karen</td>\n",
              "      <td>Female</td>\n",
              "      <td>NaN</td>\n",
              "      <td>17.653</td>\n",
              "      <td>TRUE</td>\n",
              "      <td>Product</td>\n",
              "    </tr>\n",
              "    <tr>\n",
              "      <th>99</th>\n",
              "      <td>Harold</td>\n",
              "      <td>Male</td>\n",
              "      <td>NaN</td>\n",
              "      <td>12.447</td>\n",
              "      <td>FALSE</td>\n",
              "      <td>Business Development</td>\n",
              "    </tr>\n",
              "    <tr>\n",
              "      <th>319</th>\n",
              "      <td>Jacqueline</td>\n",
              "      <td>Female</td>\n",
              "      <td>NaN</td>\n",
              "      <td>18.243</td>\n",
              "      <td>FALSE</td>\n",
              "      <td>Marketing</td>\n",
              "    </tr>\n",
              "    <tr>\n",
              "      <th>349</th>\n",
              "      <td>Phyllis</td>\n",
              "      <td>Female</td>\n",
              "      <td>NaN</td>\n",
              "      <td>8.723</td>\n",
              "      <td>FALSE</td>\n",
              "      <td>Sales</td>\n",
              "    </tr>\n",
              "    <tr>\n",
              "      <th>427</th>\n",
              "      <td>Frank</td>\n",
              "      <td>Male</td>\n",
              "      <td>NaN</td>\n",
              "      <td>8.037</td>\n",
              "      <td>TRUE</td>\n",
              "      <td>Sales</td>\n",
              "    </tr>\n",
              "  </tbody>\n",
              "</table>\n",
              "</div>"
            ],
            "text/plain": [
              "    v_first_name v_gender  c_salary c_bonus_% v_senior_mana  \\\n",
              "3          Jerry     Male       NaN      9.34          TRUE   \n",
              "8         Angela      NaN       NaN    18.523          TRUE   \n",
              "50         Nancy   Female       NaN     13.83          TRUE   \n",
              "55         Karen   Female       NaN    17.653          TRUE   \n",
              "99        Harold     Male       NaN    12.447         FALSE   \n",
              "319   Jacqueline   Female       NaN    18.243         FALSE   \n",
              "349      Phyllis   Female       NaN     8.723         FALSE   \n",
              "427        Frank     Male       NaN     8.037          TRUE   \n",
              "\n",
              "                   v_team  \n",
              "3                 Finance  \n",
              "8             Engineering  \n",
              "50            Engineering  \n",
              "55                Product  \n",
              "99   Business Development  \n",
              "319             Marketing  \n",
              "349                 Sales  \n",
              "427                 Sales  "
            ]
          },
          "metadata": {
            "tags": []
          },
          "execution_count": 87
        }
      ]
    },
    {
      "cell_type": "code",
      "metadata": {
        "ExecuteTime": {
          "end_time": "2020-11-05T00:17:59.200343Z",
          "start_time": "2020-11-05T00:17:59.189463Z"
        },
        "id": "eUW3wslwAaZl"
      },
      "source": [
        "#Volvemos np.nan a los registros que son n.a\n",
        "df[\"c_salary\"]=df[\"c_salary\"].map(lambda x:np.nan if str(x)==\"n.a.\" else x)"
      ],
      "execution_count": 88,
      "outputs": []
    },
    {
      "cell_type": "code",
      "metadata": {
        "ExecuteTime": {
          "end_time": "2020-11-05T00:18:00.103235Z",
          "start_time": "2020-11-05T00:17:59.657127Z"
        },
        "id": "2J-3y3oqAaZp",
        "outputId": "4a57f2d3-4fad-41fd-d1e1-a1d030f7ed65",
        "colab": {
          "base_uri": "https://localhost:8080/"
        }
      },
      "source": [
        "#Visualizamos el cambio\n",
        "df[\"c_salary\"].isnull().sum()"
      ],
      "execution_count": 90,
      "outputs": [
        {
          "output_type": "execute_result",
          "data": {
            "text/plain": [
              "8"
            ]
          },
          "metadata": {
            "tags": []
          },
          "execution_count": 90
        }
      ]
    },
    {
      "cell_type": "code",
      "metadata": {
        "ExecuteTime": {
          "end_time": "2020-11-05T00:18:01.217666Z",
          "start_time": "2020-11-05T00:18:01.180100Z"
        },
        "id": "hJQoC-MfAaZt",
        "outputId": "73aafbbd-9d71-45c3-fd87-f6d2bfe59be4",
        "colab": {
          "base_uri": "https://localhost:8080/",
          "height": 297
        }
      },
      "source": [
        "#Identificamos el texto dentro de la variable\n",
        "df[df[\"c_salary\"].map(lambda x:sum([y.isalpha() for y in str(x)])>0 )]"
      ],
      "execution_count": 91,
      "outputs": [
        {
          "output_type": "execute_result",
          "data": {
            "text/html": [
              "<div>\n",
              "<style scoped>\n",
              "    .dataframe tbody tr th:only-of-type {\n",
              "        vertical-align: middle;\n",
              "    }\n",
              "\n",
              "    .dataframe tbody tr th {\n",
              "        vertical-align: top;\n",
              "    }\n",
              "\n",
              "    .dataframe thead th {\n",
              "        text-align: right;\n",
              "    }\n",
              "</style>\n",
              "<table border=\"1\" class=\"dataframe\">\n",
              "  <thead>\n",
              "    <tr style=\"text-align: right;\">\n",
              "      <th></th>\n",
              "      <th>v_first_name</th>\n",
              "      <th>v_gender</th>\n",
              "      <th>c_salary</th>\n",
              "      <th>c_bonus_%</th>\n",
              "      <th>v_senior_mana</th>\n",
              "      <th>v_team</th>\n",
              "    </tr>\n",
              "  </thead>\n",
              "  <tbody>\n",
              "    <tr>\n",
              "      <th>3</th>\n",
              "      <td>Jerry</td>\n",
              "      <td>Male</td>\n",
              "      <td>NaN</td>\n",
              "      <td>9.34</td>\n",
              "      <td>TRUE</td>\n",
              "      <td>Finance</td>\n",
              "    </tr>\n",
              "    <tr>\n",
              "      <th>8</th>\n",
              "      <td>Angela</td>\n",
              "      <td>NaN</td>\n",
              "      <td>NaN</td>\n",
              "      <td>18.523</td>\n",
              "      <td>TRUE</td>\n",
              "      <td>Engineering</td>\n",
              "    </tr>\n",
              "    <tr>\n",
              "      <th>50</th>\n",
              "      <td>Nancy</td>\n",
              "      <td>Female</td>\n",
              "      <td>NaN</td>\n",
              "      <td>13.83</td>\n",
              "      <td>TRUE</td>\n",
              "      <td>Engineering</td>\n",
              "    </tr>\n",
              "    <tr>\n",
              "      <th>55</th>\n",
              "      <td>Karen</td>\n",
              "      <td>Female</td>\n",
              "      <td>NaN</td>\n",
              "      <td>17.653</td>\n",
              "      <td>TRUE</td>\n",
              "      <td>Product</td>\n",
              "    </tr>\n",
              "    <tr>\n",
              "      <th>99</th>\n",
              "      <td>Harold</td>\n",
              "      <td>Male</td>\n",
              "      <td>NaN</td>\n",
              "      <td>12.447</td>\n",
              "      <td>FALSE</td>\n",
              "      <td>Business Development</td>\n",
              "    </tr>\n",
              "    <tr>\n",
              "      <th>319</th>\n",
              "      <td>Jacqueline</td>\n",
              "      <td>Female</td>\n",
              "      <td>NaN</td>\n",
              "      <td>18.243</td>\n",
              "      <td>FALSE</td>\n",
              "      <td>Marketing</td>\n",
              "    </tr>\n",
              "    <tr>\n",
              "      <th>349</th>\n",
              "      <td>Phyllis</td>\n",
              "      <td>Female</td>\n",
              "      <td>NaN</td>\n",
              "      <td>8.723</td>\n",
              "      <td>FALSE</td>\n",
              "      <td>Sales</td>\n",
              "    </tr>\n",
              "    <tr>\n",
              "      <th>427</th>\n",
              "      <td>Frank</td>\n",
              "      <td>Male</td>\n",
              "      <td>NaN</td>\n",
              "      <td>8.037</td>\n",
              "      <td>TRUE</td>\n",
              "      <td>Sales</td>\n",
              "    </tr>\n",
              "  </tbody>\n",
              "</table>\n",
              "</div>"
            ],
            "text/plain": [
              "    v_first_name v_gender  c_salary c_bonus_% v_senior_mana  \\\n",
              "3          Jerry     Male       NaN      9.34          TRUE   \n",
              "8         Angela      NaN       NaN    18.523          TRUE   \n",
              "50         Nancy   Female       NaN     13.83          TRUE   \n",
              "55         Karen   Female       NaN    17.653          TRUE   \n",
              "99        Harold     Male       NaN    12.447         FALSE   \n",
              "319   Jacqueline   Female       NaN    18.243         FALSE   \n",
              "349      Phyllis   Female       NaN     8.723         FALSE   \n",
              "427        Frank     Male       NaN     8.037          TRUE   \n",
              "\n",
              "                   v_team  \n",
              "3                 Finance  \n",
              "8             Engineering  \n",
              "50            Engineering  \n",
              "55                Product  \n",
              "99   Business Development  \n",
              "319             Marketing  \n",
              "349                 Sales  \n",
              "427                 Sales  "
            ]
          },
          "metadata": {
            "tags": []
          },
          "execution_count": 91
        }
      ]
    },
    {
      "cell_type": "code",
      "metadata": {
        "ExecuteTime": {
          "end_time": "2020-11-05T00:18:02.241582Z",
          "start_time": "2020-11-05T00:18:02.236262Z"
        },
        "id": "TN_V7C8pAaZy"
      },
      "source": [
        "#De acuerdo a la naturaleza de la variable , los valores pueden estar restringidos o algunos no son validos\n",
        "#En este caso el salario no puede tomar valores negativos"
      ],
      "execution_count": 94,
      "outputs": []
    },
    {
      "cell_type": "code",
      "metadata": {
        "ExecuteTime": {
          "end_time": "2020-11-05T00:18:02.934541Z",
          "start_time": "2020-11-05T00:18:02.908867Z"
        },
        "id": "ERwTrJbuAaZ3",
        "outputId": "40941119-0de3-4eb5-905a-7c23a60882b2",
        "colab": {
          "base_uri": "https://localhost:8080/"
        }
      },
      "source": [
        "df[\"c_salary\"].value_counts()"
      ],
      "execution_count": 93,
      "outputs": [
        {
          "output_type": "execute_result",
          "data": {
            "text/plain": [
              "86676.0     2\n",
              "121160.0    2\n",
              "147183.0    2\n",
              "91462.0     2\n",
              "141311.0    1\n",
              "           ..\n",
              "135118.0    1\n",
              "64363.0     1\n",
              "120444.0    1\n",
              "92587.0     1\n",
              "58112.0     1\n",
              "Name: c_salary, Length: 988, dtype: int64"
            ]
          },
          "metadata": {
            "tags": []
          },
          "execution_count": 93
        }
      ]
    },
    {
      "cell_type": "code",
      "metadata": {
        "ExecuteTime": {
          "end_time": "2020-11-05T00:18:05.944116Z",
          "start_time": "2020-11-05T00:18:05.932975Z"
        },
        "id": "GGpvc0LAAaZ7"
      },
      "source": [
        "df[\"c_salary\"]=df[\"c_salary\"].map(lambda x:np.nan if str(x)==\"?\" else x)"
      ],
      "execution_count": 95,
      "outputs": []
    },
    {
      "cell_type": "code",
      "metadata": {
        "ExecuteTime": {
          "end_time": "2020-11-05T00:18:07.259006Z",
          "start_time": "2020-11-05T00:18:06.437703Z"
        },
        "id": "1EOa2Y_3AaZ_",
        "outputId": "5d98e8bd-b817-4982-8d43-9e951b27a3de",
        "colab": {
          "base_uri": "https://localhost:8080/"
        }
      },
      "source": [
        "df[\"c_salary\"].value_counts()"
      ],
      "execution_count": 96,
      "outputs": [
        {
          "output_type": "execute_result",
          "data": {
            "text/plain": [
              "86676.0     2\n",
              "121160.0    2\n",
              "147183.0    2\n",
              "91462.0     2\n",
              "141311.0    1\n",
              "           ..\n",
              "135118.0    1\n",
              "64363.0     1\n",
              "120444.0    1\n",
              "92587.0     1\n",
              "58112.0     1\n",
              "Name: c_salary, Length: 988, dtype: int64"
            ]
          },
          "metadata": {
            "tags": []
          },
          "execution_count": 96
        }
      ]
    },
    {
      "cell_type": "code",
      "metadata": {
        "ExecuteTime": {
          "end_time": "2020-11-05T00:18:17.059557Z",
          "start_time": "2020-11-05T00:18:17.043770Z"
        },
        "id": "yTf5aI-kAaaE",
        "outputId": "a0eb76b2-1108-4e53-f6a9-11dd02d411c3",
        "colab": {
          "base_uri": "https://localhost:8080/"
        }
      },
      "source": [
        "df[\"c_salary\"].isnull().sum()"
      ],
      "execution_count": 97,
      "outputs": [
        {
          "output_type": "execute_result",
          "data": {
            "text/plain": [
              "8"
            ]
          },
          "metadata": {
            "tags": []
          },
          "execution_count": 97
        }
      ]
    },
    {
      "cell_type": "code",
      "metadata": {
        "ExecuteTime": {
          "end_time": "2020-11-05T00:18:24.333896Z",
          "start_time": "2020-11-05T00:18:24.323944Z"
        },
        "id": "GbVaml2VAaaI"
      },
      "source": [
        "df[\"c_salary\"]=df[\"c_salary\"].astype(float)"
      ],
      "execution_count": 98,
      "outputs": []
    },
    {
      "cell_type": "code",
      "metadata": {
        "ExecuteTime": {
          "end_time": "2020-11-05T00:18:33.084858Z",
          "start_time": "2020-11-05T00:18:33.039091Z"
        },
        "id": "Q64UHTisAaaM",
        "outputId": "f82a87a1-3c42-4136-e3ce-e317a3cbb68e",
        "colab": {
          "base_uri": "https://localhost:8080/",
          "height": 49
        }
      },
      "source": [
        "df[df[\"c_salary\"]<0]"
      ],
      "execution_count": 99,
      "outputs": [
        {
          "output_type": "execute_result",
          "data": {
            "text/html": [
              "<div>\n",
              "<style scoped>\n",
              "    .dataframe tbody tr th:only-of-type {\n",
              "        vertical-align: middle;\n",
              "    }\n",
              "\n",
              "    .dataframe tbody tr th {\n",
              "        vertical-align: top;\n",
              "    }\n",
              "\n",
              "    .dataframe thead th {\n",
              "        text-align: right;\n",
              "    }\n",
              "</style>\n",
              "<table border=\"1\" class=\"dataframe\">\n",
              "  <thead>\n",
              "    <tr style=\"text-align: right;\">\n",
              "      <th></th>\n",
              "      <th>v_first_name</th>\n",
              "      <th>v_gender</th>\n",
              "      <th>c_salary</th>\n",
              "      <th>c_bonus_%</th>\n",
              "      <th>v_senior_mana</th>\n",
              "      <th>v_team</th>\n",
              "    </tr>\n",
              "  </thead>\n",
              "  <tbody>\n",
              "  </tbody>\n",
              "</table>\n",
              "</div>"
            ],
            "text/plain": [
              "Empty DataFrame\n",
              "Columns: [v_first_name, v_gender, c_salary, c_bonus_%, v_senior_mana, v_team]\n",
              "Index: []"
            ]
          },
          "metadata": {
            "tags": []
          },
          "execution_count": 99
        }
      ]
    },
    {
      "cell_type": "code",
      "metadata": {
        "ExecuteTime": {
          "end_time": "2020-11-05T00:08:58.440181Z",
          "start_time": "2020-11-05T00:08:58.415343Z"
        },
        "id": "rdqyZihSAaaQ",
        "outputId": "768f5d32-f577-451c-a842-7b1e62f95967",
        "colab": {
          "base_uri": "https://localhost:8080/"
        }
      },
      "source": [
        "df[\"c_salary\"].map(lambda x:np.nan if x<0 else x)"
      ],
      "execution_count": 100,
      "outputs": [
        {
          "output_type": "execute_result",
          "data": {
            "text/plain": [
              "0       97308.0\n",
              "1       61933.0\n",
              "2      130590.0\n",
              "3           NaN\n",
              "4      101004.0\n",
              "         ...   \n",
              "995    132483.0\n",
              "996     42392.0\n",
              "997     96914.0\n",
              "998     60500.0\n",
              "999    129949.0\n",
              "Name: c_salary, Length: 1000, dtype: float64"
            ]
          },
          "metadata": {
            "tags": []
          },
          "execution_count": 100
        }
      ]
    },
    {
      "cell_type": "code",
      "metadata": {
        "ExecuteTime": {
          "end_time": "2020-11-05T00:09:09.126495Z",
          "start_time": "2020-11-05T00:09:09.112705Z"
        },
        "id": "Xo40ahb5AaaT"
      },
      "source": [
        "df[\"c_salary\"]=df[\"c_salary\"].map(lambda x:np.nan if x<0 else x)"
      ],
      "execution_count": 101,
      "outputs": []
    },
    {
      "cell_type": "code",
      "metadata": {
        "ExecuteTime": {
          "end_time": "2020-11-05T00:19:05.721267Z",
          "start_time": "2020-11-05T00:19:05.564426Z"
        },
        "collapsed": true,
        "id": "xYp1qN09AaaX",
        "outputId": "514c18b1-662f-49b7-eaf9-7b2877c858b6",
        "colab": {
          "base_uri": "https://localhost:8080/"
        }
      },
      "source": [
        "df[\"c_salary\"].isnull().sum()"
      ],
      "execution_count": 102,
      "outputs": [
        {
          "output_type": "execute_result",
          "data": {
            "text/plain": [
              "8"
            ]
          },
          "metadata": {
            "tags": []
          },
          "execution_count": 102
        }
      ]
    },
    {
      "cell_type": "code",
      "metadata": {
        "ExecuteTime": {
          "end_time": "2020-11-05T00:09:30.451785Z",
          "start_time": "2020-11-05T00:09:30.399693Z"
        },
        "id": "wd6NRtMuAaad",
        "outputId": "44cceba2-0155-49c4-ca2d-3fd340ce85dc",
        "colab": {
          "base_uri": "https://localhost:8080/",
          "height": 419
        }
      },
      "source": [
        "df"
      ],
      "execution_count": 103,
      "outputs": [
        {
          "output_type": "execute_result",
          "data": {
            "text/html": [
              "<div>\n",
              "<style scoped>\n",
              "    .dataframe tbody tr th:only-of-type {\n",
              "        vertical-align: middle;\n",
              "    }\n",
              "\n",
              "    .dataframe tbody tr th {\n",
              "        vertical-align: top;\n",
              "    }\n",
              "\n",
              "    .dataframe thead th {\n",
              "        text-align: right;\n",
              "    }\n",
              "</style>\n",
              "<table border=\"1\" class=\"dataframe\">\n",
              "  <thead>\n",
              "    <tr style=\"text-align: right;\">\n",
              "      <th></th>\n",
              "      <th>v_first_name</th>\n",
              "      <th>v_gender</th>\n",
              "      <th>c_salary</th>\n",
              "      <th>c_bonus_%</th>\n",
              "      <th>v_senior_mana</th>\n",
              "      <th>v_team</th>\n",
              "    </tr>\n",
              "  </thead>\n",
              "  <tbody>\n",
              "    <tr>\n",
              "      <th>0</th>\n",
              "      <td>NaN</td>\n",
              "      <td>Male</td>\n",
              "      <td>97308.0</td>\n",
              "      <td>6.945</td>\n",
              "      <td>TRUE</td>\n",
              "      <td>Marketing</td>\n",
              "    </tr>\n",
              "    <tr>\n",
              "      <th>1</th>\n",
              "      <td>NaN</td>\n",
              "      <td>Male</td>\n",
              "      <td>61933.0</td>\n",
              "      <td>NaN</td>\n",
              "      <td>TRUE</td>\n",
              "      <td>NaN</td>\n",
              "    </tr>\n",
              "    <tr>\n",
              "      <th>2</th>\n",
              "      <td>NaN</td>\n",
              "      <td>Female</td>\n",
              "      <td>130590.0</td>\n",
              "      <td>11.858</td>\n",
              "      <td>FALSE</td>\n",
              "      <td>0.112</td>\n",
              "    </tr>\n",
              "    <tr>\n",
              "      <th>3</th>\n",
              "      <td>Jerry</td>\n",
              "      <td>Male</td>\n",
              "      <td>NaN</td>\n",
              "      <td>9.34</td>\n",
              "      <td>TRUE</td>\n",
              "      <td>Finance</td>\n",
              "    </tr>\n",
              "    <tr>\n",
              "      <th>4</th>\n",
              "      <td>Larry</td>\n",
              "      <td>Male</td>\n",
              "      <td>101004.0</td>\n",
              "      <td>1.389</td>\n",
              "      <td>TRUE</td>\n",
              "      <td>Client Services</td>\n",
              "    </tr>\n",
              "    <tr>\n",
              "      <th>...</th>\n",
              "      <td>...</td>\n",
              "      <td>...</td>\n",
              "      <td>...</td>\n",
              "      <td>...</td>\n",
              "      <td>...</td>\n",
              "      <td>...</td>\n",
              "    </tr>\n",
              "    <tr>\n",
              "      <th>995</th>\n",
              "      <td>Henry</td>\n",
              "      <td>NaN</td>\n",
              "      <td>132483.0</td>\n",
              "      <td>16.655</td>\n",
              "      <td>FALSE</td>\n",
              "      <td>Distribution</td>\n",
              "    </tr>\n",
              "    <tr>\n",
              "      <th>996</th>\n",
              "      <td>Phillip</td>\n",
              "      <td>Male</td>\n",
              "      <td>42392.0</td>\n",
              "      <td>19.675</td>\n",
              "      <td>FALSE</td>\n",
              "      <td>Finance</td>\n",
              "    </tr>\n",
              "    <tr>\n",
              "      <th>997</th>\n",
              "      <td>Russell</td>\n",
              "      <td>Male</td>\n",
              "      <td>96914.0</td>\n",
              "      <td>1.421</td>\n",
              "      <td>FALSE</td>\n",
              "      <td>Product</td>\n",
              "    </tr>\n",
              "    <tr>\n",
              "      <th>998</th>\n",
              "      <td>Larry</td>\n",
              "      <td>Male</td>\n",
              "      <td>60500.0</td>\n",
              "      <td>11.985</td>\n",
              "      <td>FALSE</td>\n",
              "      <td>Business Development</td>\n",
              "    </tr>\n",
              "    <tr>\n",
              "      <th>999</th>\n",
              "      <td>Albert</td>\n",
              "      <td>Male</td>\n",
              "      <td>129949.0</td>\n",
              "      <td>qqqqq</td>\n",
              "      <td>TRUE</td>\n",
              "      <td>Sales</td>\n",
              "    </tr>\n",
              "  </tbody>\n",
              "</table>\n",
              "<p>1000 rows × 6 columns</p>\n",
              "</div>"
            ],
            "text/plain": [
              "    v_first_name v_gender  c_salary c_bonus_% v_senior_mana  \\\n",
              "0            NaN     Male   97308.0     6.945          TRUE   \n",
              "1            NaN     Male   61933.0       NaN          TRUE   \n",
              "2            NaN   Female  130590.0    11.858         FALSE   \n",
              "3          Jerry     Male       NaN      9.34          TRUE   \n",
              "4          Larry     Male  101004.0     1.389          TRUE   \n",
              "..           ...      ...       ...       ...           ...   \n",
              "995        Henry      NaN  132483.0    16.655         FALSE   \n",
              "996      Phillip     Male   42392.0    19.675         FALSE   \n",
              "997      Russell     Male   96914.0     1.421         FALSE   \n",
              "998        Larry     Male   60500.0    11.985         FALSE   \n",
              "999       Albert     Male  129949.0     qqqqq          TRUE   \n",
              "\n",
              "                   v_team  \n",
              "0               Marketing  \n",
              "1                     NaN  \n",
              "2                   0.112  \n",
              "3                 Finance  \n",
              "4         Client Services  \n",
              "..                    ...  \n",
              "995          Distribution  \n",
              "996               Finance  \n",
              "997               Product  \n",
              "998  Business Development  \n",
              "999                 Sales  \n",
              "\n",
              "[1000 rows x 6 columns]"
            ]
          },
          "metadata": {
            "tags": []
          },
          "execution_count": 103
        }
      ]
    },
    {
      "cell_type": "markdown",
      "metadata": {
        "id": "T5YfOpcMAaaj"
      },
      "source": [
        "### Funciones"
      ]
    },
    {
      "cell_type": "code",
      "metadata": {
        "ExecuteTime": {
          "end_time": "2020-11-05T02:56:34.568842Z",
          "start_time": "2020-11-05T02:56:34.545895Z"
        },
        "id": "QU5xG0dOAaal"
      },
      "source": [
        "df=pd.read_csv(\"/content/drive/My Drive/datasets/employees_2.csv\",na_values= [\"n.a.\",\"?\",\"NA\",\"n/a\", \"na\", \"--\"])"
      ],
      "execution_count": 104,
      "outputs": []
    },
    {
      "cell_type": "code",
      "metadata": {
        "ExecuteTime": {
          "end_time": "2020-11-05T02:56:35.071360Z",
          "start_time": "2020-11-05T02:56:35.050998Z"
        },
        "id": "NRe2g-QoAaao"
      },
      "source": [
        "completitud=pd.DataFrame((1-df.isnull().sum()/df.shape[0])*100).reset_index().rename(columns={\"index\":\"columna\",0:\"completitud\"})"
      ],
      "execution_count": 105,
      "outputs": []
    },
    {
      "cell_type": "code",
      "metadata": {
        "ExecuteTime": {
          "end_time": "2020-11-05T02:56:35.345372Z",
          "start_time": "2020-11-05T02:56:35.313867Z"
        },
        "id": "RPmNJYOoAaar",
        "outputId": "6d6202af-293e-43c6-99e7-276b760e85c8",
        "colab": {
          "base_uri": "https://localhost:8080/",
          "height": 266
        }
      },
      "source": [
        "completitud"
      ],
      "execution_count": 106,
      "outputs": [
        {
          "output_type": "execute_result",
          "data": {
            "text/html": [
              "<div>\n",
              "<style scoped>\n",
              "    .dataframe tbody tr th:only-of-type {\n",
              "        vertical-align: middle;\n",
              "    }\n",
              "\n",
              "    .dataframe tbody tr th {\n",
              "        vertical-align: top;\n",
              "    }\n",
              "\n",
              "    .dataframe thead th {\n",
              "        text-align: right;\n",
              "    }\n",
              "</style>\n",
              "<table border=\"1\" class=\"dataframe\">\n",
              "  <thead>\n",
              "    <tr style=\"text-align: right;\">\n",
              "      <th></th>\n",
              "      <th>columna</th>\n",
              "      <th>completitud</th>\n",
              "    </tr>\n",
              "  </thead>\n",
              "  <tbody>\n",
              "    <tr>\n",
              "      <th>0</th>\n",
              "      <td>v_first_name</td>\n",
              "      <td>93.0</td>\n",
              "    </tr>\n",
              "    <tr>\n",
              "      <th>1</th>\n",
              "      <td>v_gender</td>\n",
              "      <td>85.1</td>\n",
              "    </tr>\n",
              "    <tr>\n",
              "      <th>2</th>\n",
              "      <td>c_salary</td>\n",
              "      <td>99.5</td>\n",
              "    </tr>\n",
              "    <tr>\n",
              "      <th>3</th>\n",
              "      <td>c_bonus_%</td>\n",
              "      <td>99.6</td>\n",
              "    </tr>\n",
              "    <tr>\n",
              "      <th>4</th>\n",
              "      <td>v_senior_mana</td>\n",
              "      <td>92.9</td>\n",
              "    </tr>\n",
              "    <tr>\n",
              "      <th>5</th>\n",
              "      <td>v_team</td>\n",
              "      <td>95.2</td>\n",
              "    </tr>\n",
              "    <tr>\n",
              "      <th>6</th>\n",
              "      <td>c_bonus_2</td>\n",
              "      <td>50.4</td>\n",
              "    </tr>\n",
              "  </tbody>\n",
              "</table>\n",
              "</div>"
            ],
            "text/plain": [
              "         columna  completitud\n",
              "0   v_first_name         93.0\n",
              "1       v_gender         85.1\n",
              "2       c_salary         99.5\n",
              "3      c_bonus_%         99.6\n",
              "4  v_senior_mana         92.9\n",
              "5         v_team         95.2\n",
              "6      c_bonus_2         50.4"
            ]
          },
          "metadata": {
            "tags": []
          },
          "execution_count": 106
        }
      ]
    },
    {
      "cell_type": "code",
      "metadata": {
        "ExecuteTime": {
          "end_time": "2020-11-05T02:56:35.563966Z",
          "start_time": "2020-11-05T02:56:35.552139Z"
        },
        "id": "XemZxCm5Aaay"
      },
      "source": [
        "#Función que convierte los valores en flotante en caso de que no se pueda\n",
        "#Se levanta una excepción y se convierte a np.nan\n",
        "def missings_float(x):\n",
        "    try:\n",
        "        result=float(x)\n",
        "    except:\n",
        "        result=np.nan\n",
        "    return result     "
      ],
      "execution_count": 107,
      "outputs": []
    },
    {
      "cell_type": "code",
      "metadata": {
        "ExecuteTime": {
          "end_time": "2020-11-05T02:56:35.748024Z",
          "start_time": "2020-11-05T02:56:35.733818Z"
        },
        "id": "9Lgr0CV-Aaa3"
      },
      "source": [
        "#Función que valida si hay dígitos dentro de la variable y lo convierte a np.nan\n",
        "def missings_digit(x):\n",
        "    if sum([y.isdigit() for y in str(x)])>0:\n",
        "        result=np.nan\n",
        "    else:\n",
        "        result=x\n",
        "    return result"
      ],
      "execution_count": 108,
      "outputs": []
    },
    {
      "cell_type": "code",
      "metadata": {
        "ExecuteTime": {
          "end_time": "2020-11-05T02:56:35.935261Z",
          "start_time": "2020-11-05T02:56:35.925417Z"
        },
        "id": "A4WUWFHuAaa9"
      },
      "source": [
        "df[\"c_salary\"]=df[\"c_salary\"].map(missings_float)"
      ],
      "execution_count": 112,
      "outputs": []
    },
    {
      "cell_type": "code",
      "metadata": {
        "ExecuteTime": {
          "end_time": "2020-11-05T02:56:36.209454Z",
          "start_time": "2020-11-05T02:56:36.172565Z"
        },
        "id": "rvcaE2BuAabA",
        "outputId": "cd72e547-c8b8-4557-d5cd-ac3a5114fad6",
        "colab": {
          "base_uri": "https://localhost:8080/",
          "height": 297
        }
      },
      "source": [
        "df.describe()"
      ],
      "execution_count": 113,
      "outputs": [
        {
          "output_type": "execute_result",
          "data": {
            "text/html": [
              "<div>\n",
              "<style scoped>\n",
              "    .dataframe tbody tr th:only-of-type {\n",
              "        vertical-align: middle;\n",
              "    }\n",
              "\n",
              "    .dataframe tbody tr th {\n",
              "        vertical-align: top;\n",
              "    }\n",
              "\n",
              "    .dataframe thead th {\n",
              "        text-align: right;\n",
              "    }\n",
              "</style>\n",
              "<table border=\"1\" class=\"dataframe\">\n",
              "  <thead>\n",
              "    <tr style=\"text-align: right;\">\n",
              "      <th></th>\n",
              "      <th>c_salary</th>\n",
              "    </tr>\n",
              "  </thead>\n",
              "  <tbody>\n",
              "    <tr>\n",
              "      <th>count</th>\n",
              "      <td>995.000000</td>\n",
              "    </tr>\n",
              "    <tr>\n",
              "      <th>mean</th>\n",
              "      <td>89864.978894</td>\n",
              "    </tr>\n",
              "    <tr>\n",
              "      <th>std</th>\n",
              "      <td>35981.927897</td>\n",
              "    </tr>\n",
              "    <tr>\n",
              "      <th>min</th>\n",
              "      <td>-344444.000000</td>\n",
              "    </tr>\n",
              "    <tr>\n",
              "      <th>25%</th>\n",
              "      <td>62047.500000</td>\n",
              "    </tr>\n",
              "    <tr>\n",
              "      <th>50%</th>\n",
              "      <td>90187.000000</td>\n",
              "    </tr>\n",
              "    <tr>\n",
              "      <th>75%</th>\n",
              "      <td>118582.000000</td>\n",
              "    </tr>\n",
              "    <tr>\n",
              "      <th>max</th>\n",
              "      <td>149908.000000</td>\n",
              "    </tr>\n",
              "  </tbody>\n",
              "</table>\n",
              "</div>"
            ],
            "text/plain": [
              "            c_salary\n",
              "count     995.000000\n",
              "mean    89864.978894\n",
              "std     35981.927897\n",
              "min   -344444.000000\n",
              "25%     62047.500000\n",
              "50%     90187.000000\n",
              "75%    118582.000000\n",
              "max    149908.000000"
            ]
          },
          "metadata": {
            "tags": []
          },
          "execution_count": 113
        }
      ]
    },
    {
      "cell_type": "code",
      "metadata": {
        "ExecuteTime": {
          "end_time": "2020-11-05T02:56:36.469089Z",
          "start_time": "2020-11-05T02:56:36.434663Z"
        },
        "id": "yvVUn_1fAabI",
        "outputId": "522018f1-bd3d-47e6-bf7d-20c83a3cbe82",
        "colab": {
          "base_uri": "https://localhost:8080/",
          "height": 142
        }
      },
      "source": [
        "df[df[\"c_salary\"]<0]"
      ],
      "execution_count": 114,
      "outputs": [
        {
          "output_type": "execute_result",
          "data": {
            "text/html": [
              "<div>\n",
              "<style scoped>\n",
              "    .dataframe tbody tr th:only-of-type {\n",
              "        vertical-align: middle;\n",
              "    }\n",
              "\n",
              "    .dataframe tbody tr th {\n",
              "        vertical-align: top;\n",
              "    }\n",
              "\n",
              "    .dataframe thead th {\n",
              "        text-align: right;\n",
              "    }\n",
              "</style>\n",
              "<table border=\"1\" class=\"dataframe\">\n",
              "  <thead>\n",
              "    <tr style=\"text-align: right;\">\n",
              "      <th></th>\n",
              "      <th>v_first_name</th>\n",
              "      <th>v_gender</th>\n",
              "      <th>c_salary</th>\n",
              "      <th>c_bonus_%</th>\n",
              "      <th>v_senior_mana</th>\n",
              "      <th>v_team</th>\n",
              "      <th>c_bonus_2</th>\n",
              "    </tr>\n",
              "  </thead>\n",
              "  <tbody>\n",
              "    <tr>\n",
              "      <th>50</th>\n",
              "      <td>Nancy</td>\n",
              "      <td>Female</td>\n",
              "      <td>-100.0</td>\n",
              "      <td>13.83</td>\n",
              "      <td>True</td>\n",
              "      <td>Engineering</td>\n",
              "      <td>NaN</td>\n",
              "    </tr>\n",
              "    <tr>\n",
              "      <th>55</th>\n",
              "      <td>Karen</td>\n",
              "      <td>Female</td>\n",
              "      <td>-34512.0</td>\n",
              "      <td>17.653</td>\n",
              "      <td>True</td>\n",
              "      <td>Product</td>\n",
              "      <td>17.65317.653</td>\n",
              "    </tr>\n",
              "    <tr>\n",
              "      <th>99</th>\n",
              "      <td>Harold</td>\n",
              "      <td>Male</td>\n",
              "      <td>-344444.0</td>\n",
              "      <td>12.447</td>\n",
              "      <td>False</td>\n",
              "      <td>Business Development</td>\n",
              "      <td>NaN</td>\n",
              "    </tr>\n",
              "  </tbody>\n",
              "</table>\n",
              "</div>"
            ],
            "text/plain": [
              "   v_first_name v_gender  c_salary c_bonus_% v_senior_mana  \\\n",
              "50        Nancy   Female    -100.0     13.83          True   \n",
              "55        Karen   Female  -34512.0    17.653          True   \n",
              "99       Harold     Male -344444.0    12.447         False   \n",
              "\n",
              "                  v_team     c_bonus_2  \n",
              "50           Engineering           NaN  \n",
              "55               Product  17.65317.653  \n",
              "99  Business Development           NaN  "
            ]
          },
          "metadata": {
            "tags": []
          },
          "execution_count": 114
        }
      ]
    },
    {
      "cell_type": "code",
      "metadata": {
        "ExecuteTime": {
          "end_time": "2020-11-05T02:56:36.706304Z",
          "start_time": "2020-11-05T02:56:36.696433Z"
        },
        "id": "pYcMOz63AabL"
      },
      "source": [
        "#No puede haber salarios negativos\n",
        "df[\"c_salary\"]=df[\"c_salary\"].map(lambda x:np.nan if x<0 else x)"
      ],
      "execution_count": 115,
      "outputs": []
    },
    {
      "cell_type": "code",
      "metadata": {
        "ExecuteTime": {
          "end_time": "2020-11-05T02:56:36.942214Z",
          "start_time": "2020-11-05T02:56:36.907306Z"
        },
        "id": "IdZ6He0PAabP",
        "outputId": "01f09976-4ca7-4947-9d19-ca8befc54cf1",
        "colab": {
          "base_uri": "https://localhost:8080/",
          "height": 297
        }
      },
      "source": [
        "df.describe()"
      ],
      "execution_count": 116,
      "outputs": [
        {
          "output_type": "execute_result",
          "data": {
            "text/html": [
              "<div>\n",
              "<style scoped>\n",
              "    .dataframe tbody tr th:only-of-type {\n",
              "        vertical-align: middle;\n",
              "    }\n",
              "\n",
              "    .dataframe tbody tr th {\n",
              "        vertical-align: top;\n",
              "    }\n",
              "\n",
              "    .dataframe thead th {\n",
              "        text-align: right;\n",
              "    }\n",
              "</style>\n",
              "<table border=\"1\" class=\"dataframe\">\n",
              "  <thead>\n",
              "    <tr style=\"text-align: right;\">\n",
              "      <th></th>\n",
              "      <th>c_salary</th>\n",
              "    </tr>\n",
              "  </thead>\n",
              "  <tbody>\n",
              "    <tr>\n",
              "      <th>count</th>\n",
              "      <td>992.000000</td>\n",
              "    </tr>\n",
              "    <tr>\n",
              "      <th>mean</th>\n",
              "      <td>90518.860887</td>\n",
              "    </tr>\n",
              "    <tr>\n",
              "      <th>std</th>\n",
              "      <td>32925.307326</td>\n",
              "    </tr>\n",
              "    <tr>\n",
              "      <th>min</th>\n",
              "      <td>35013.000000</td>\n",
              "    </tr>\n",
              "    <tr>\n",
              "      <th>25%</th>\n",
              "      <td>62318.500000</td>\n",
              "    </tr>\n",
              "    <tr>\n",
              "      <th>50%</th>\n",
              "      <td>90327.500000</td>\n",
              "    </tr>\n",
              "    <tr>\n",
              "      <th>75%</th>\n",
              "      <td>118733.750000</td>\n",
              "    </tr>\n",
              "    <tr>\n",
              "      <th>max</th>\n",
              "      <td>149908.000000</td>\n",
              "    </tr>\n",
              "  </tbody>\n",
              "</table>\n",
              "</div>"
            ],
            "text/plain": [
              "            c_salary\n",
              "count     992.000000\n",
              "mean    90518.860887\n",
              "std     32925.307326\n",
              "min     35013.000000\n",
              "25%     62318.500000\n",
              "50%     90327.500000\n",
              "75%    118733.750000\n",
              "max    149908.000000"
            ]
          },
          "metadata": {
            "tags": []
          },
          "execution_count": 116
        }
      ]
    },
    {
      "cell_type": "code",
      "metadata": {
        "ExecuteTime": {
          "end_time": "2020-11-05T02:56:37.194603Z",
          "start_time": "2020-11-05T02:56:37.180855Z"
        },
        "id": "eMmVaS8iAabS",
        "outputId": "1fcc9fc4-ef05-41e0-c61f-cad7f8d2fe57",
        "colab": {
          "base_uri": "https://localhost:8080/"
        }
      },
      "source": [
        "df[\"v_gender\"].isnull().sum()"
      ],
      "execution_count": 117,
      "outputs": [
        {
          "output_type": "execute_result",
          "data": {
            "text/plain": [
              "149"
            ]
          },
          "metadata": {
            "tags": []
          },
          "execution_count": 117
        }
      ]
    },
    {
      "cell_type": "code",
      "metadata": {
        "ExecuteTime": {
          "end_time": "2020-11-05T02:56:37.383608Z",
          "start_time": "2020-11-05T02:56:37.363683Z"
        },
        "id": "tNRe4fo6AabV"
      },
      "source": [
        "#IDENTIFICAMOS DÍGITOS\n",
        "df[\"v_gender\"]=df[\"v_gender\"].map(missings_digit)"
      ],
      "execution_count": 118,
      "outputs": []
    },
    {
      "cell_type": "code",
      "metadata": {
        "ExecuteTime": {
          "end_time": "2020-11-05T02:56:37.612364Z",
          "start_time": "2020-11-05T02:56:37.595200Z"
        },
        "id": "k6JiqUE6AabZ",
        "outputId": "d6237191-5939-41c1-e570-74aff0c577d6",
        "colab": {
          "base_uri": "https://localhost:8080/"
        }
      },
      "source": [
        "df[\"v_gender\"].isnull().sum()"
      ],
      "execution_count": 119,
      "outputs": [
        {
          "output_type": "execute_result",
          "data": {
            "text/plain": [
              "151"
            ]
          },
          "metadata": {
            "tags": []
          },
          "execution_count": 119
        }
      ]
    },
    {
      "cell_type": "code",
      "metadata": {
        "ExecuteTime": {
          "end_time": "2020-11-05T02:56:37.865210Z",
          "start_time": "2020-11-05T02:56:37.822967Z"
        },
        "id": "Li2veFrOAabc",
        "outputId": "6a0434fb-4882-4a33-bf08-dc8efd640c9e",
        "colab": {
          "base_uri": "https://localhost:8080/",
          "height": 235
        }
      },
      "source": [
        "df.head(6)"
      ],
      "execution_count": 120,
      "outputs": [
        {
          "output_type": "execute_result",
          "data": {
            "text/html": [
              "<div>\n",
              "<style scoped>\n",
              "    .dataframe tbody tr th:only-of-type {\n",
              "        vertical-align: middle;\n",
              "    }\n",
              "\n",
              "    .dataframe tbody tr th {\n",
              "        vertical-align: top;\n",
              "    }\n",
              "\n",
              "    .dataframe thead th {\n",
              "        text-align: right;\n",
              "    }\n",
              "</style>\n",
              "<table border=\"1\" class=\"dataframe\">\n",
              "  <thead>\n",
              "    <tr style=\"text-align: right;\">\n",
              "      <th></th>\n",
              "      <th>v_first_name</th>\n",
              "      <th>v_gender</th>\n",
              "      <th>c_salary</th>\n",
              "      <th>c_bonus_%</th>\n",
              "      <th>v_senior_mana</th>\n",
              "      <th>v_team</th>\n",
              "      <th>c_bonus_2</th>\n",
              "    </tr>\n",
              "  </thead>\n",
              "  <tbody>\n",
              "    <tr>\n",
              "      <th>0</th>\n",
              "      <td>23</td>\n",
              "      <td>Male</td>\n",
              "      <td>97308.0</td>\n",
              "      <td>6.945</td>\n",
              "      <td>True</td>\n",
              "      <td>Marketing</td>\n",
              "      <td>NaN</td>\n",
              "    </tr>\n",
              "    <tr>\n",
              "      <th>1</th>\n",
              "      <td>1</td>\n",
              "      <td>Male</td>\n",
              "      <td>61933.0</td>\n",
              "      <td>NaN</td>\n",
              "      <td>True</td>\n",
              "      <td>NaN</td>\n",
              "      <td>NaN</td>\n",
              "    </tr>\n",
              "    <tr>\n",
              "      <th>2</th>\n",
              "      <td>2</td>\n",
              "      <td>Female</td>\n",
              "      <td>130590.0</td>\n",
              "      <td>11.858</td>\n",
              "      <td>False</td>\n",
              "      <td>0.112</td>\n",
              "      <td>11.85811.858</td>\n",
              "    </tr>\n",
              "    <tr>\n",
              "      <th>3</th>\n",
              "      <td>Jerry</td>\n",
              "      <td>Male</td>\n",
              "      <td>NaN</td>\n",
              "      <td>9.34</td>\n",
              "      <td>True</td>\n",
              "      <td>Finance</td>\n",
              "      <td>9.349.34</td>\n",
              "    </tr>\n",
              "    <tr>\n",
              "      <th>4</th>\n",
              "      <td>Larry</td>\n",
              "      <td>Male</td>\n",
              "      <td>101004.0</td>\n",
              "      <td>1.389</td>\n",
              "      <td>True</td>\n",
              "      <td>Client Services</td>\n",
              "      <td>1.3891.389</td>\n",
              "    </tr>\n",
              "    <tr>\n",
              "      <th>5</th>\n",
              "      <td>Dennis</td>\n",
              "      <td>NaN</td>\n",
              "      <td>115163.0</td>\n",
              "      <td>10.125</td>\n",
              "      <td>False</td>\n",
              "      <td>Legal</td>\n",
              "      <td>10.12510.125</td>\n",
              "    </tr>\n",
              "  </tbody>\n",
              "</table>\n",
              "</div>"
            ],
            "text/plain": [
              "  v_first_name v_gender  c_salary c_bonus_% v_senior_mana           v_team  \\\n",
              "0           23     Male   97308.0     6.945          True        Marketing   \n",
              "1            1     Male   61933.0       NaN          True              NaN   \n",
              "2            2   Female  130590.0    11.858         False            0.112   \n",
              "3        Jerry     Male       NaN      9.34          True          Finance   \n",
              "4        Larry     Male  101004.0     1.389          True  Client Services   \n",
              "5       Dennis      NaN  115163.0    10.125         False            Legal   \n",
              "\n",
              "      c_bonus_2  \n",
              "0           NaN  \n",
              "1           NaN  \n",
              "2  11.85811.858  \n",
              "3      9.349.34  \n",
              "4    1.3891.389  \n",
              "5  10.12510.125  "
            ]
          },
          "metadata": {
            "tags": []
          },
          "execution_count": 120
        }
      ]
    },
    {
      "cell_type": "code",
      "metadata": {
        "ExecuteTime": {
          "end_time": "2020-11-05T02:56:38.113565Z",
          "start_time": "2020-11-05T02:56:38.095556Z"
        },
        "id": "3BC2SQOTAabf",
        "outputId": "79e85100-9311-4f71-d6e6-3a4b8c390aa6",
        "colab": {
          "base_uri": "https://localhost:8080/"
        }
      },
      "source": [
        "#Veamos los nulos ahora\n",
        "df[\"v_first_name\"].isnull().sum()"
      ],
      "execution_count": 121,
      "outputs": [
        {
          "output_type": "execute_result",
          "data": {
            "text/plain": [
              "70"
            ]
          },
          "metadata": {
            "tags": []
          },
          "execution_count": 121
        }
      ]
    },
    {
      "cell_type": "code",
      "metadata": {
        "ExecuteTime": {
          "end_time": "2020-11-05T02:56:38.352167Z",
          "start_time": "2020-11-05T02:56:38.339751Z"
        },
        "id": "fiojrlaIAabi"
      },
      "source": [
        "df[\"v_first_name\"]=df[\"v_first_name\"].map(missings_digit)"
      ],
      "execution_count": 122,
      "outputs": []
    },
    {
      "cell_type": "code",
      "metadata": {
        "ExecuteTime": {
          "end_time": "2020-11-05T02:56:38.550632Z",
          "start_time": "2020-11-05T02:56:38.538113Z"
        },
        "id": "IA9uOAmNAabk",
        "outputId": "008d75b5-1bb4-4f85-bc9a-2d3260dc2c12",
        "colab": {
          "base_uri": "https://localhost:8080/"
        }
      },
      "source": [
        "#Veamos el cambio\n",
        "df[\"v_first_name\"].isnull().sum()"
      ],
      "execution_count": 123,
      "outputs": [
        {
          "output_type": "execute_result",
          "data": {
            "text/plain": [
              "75"
            ]
          },
          "metadata": {
            "tags": []
          },
          "execution_count": 123
        }
      ]
    },
    {
      "cell_type": "code",
      "metadata": {
        "ExecuteTime": {
          "end_time": "2020-11-05T02:56:38.827911Z",
          "start_time": "2020-11-05T02:56:38.781201Z"
        },
        "id": "_ELw5jXEAabn",
        "outputId": "abb410c0-980b-4b5f-c59a-8cd6662ebd69",
        "colab": {
          "base_uri": "https://localhost:8080/",
          "height": 419
        }
      },
      "source": [
        "df"
      ],
      "execution_count": 124,
      "outputs": [
        {
          "output_type": "execute_result",
          "data": {
            "text/html": [
              "<div>\n",
              "<style scoped>\n",
              "    .dataframe tbody tr th:only-of-type {\n",
              "        vertical-align: middle;\n",
              "    }\n",
              "\n",
              "    .dataframe tbody tr th {\n",
              "        vertical-align: top;\n",
              "    }\n",
              "\n",
              "    .dataframe thead th {\n",
              "        text-align: right;\n",
              "    }\n",
              "</style>\n",
              "<table border=\"1\" class=\"dataframe\">\n",
              "  <thead>\n",
              "    <tr style=\"text-align: right;\">\n",
              "      <th></th>\n",
              "      <th>v_first_name</th>\n",
              "      <th>v_gender</th>\n",
              "      <th>c_salary</th>\n",
              "      <th>c_bonus_%</th>\n",
              "      <th>v_senior_mana</th>\n",
              "      <th>v_team</th>\n",
              "      <th>c_bonus_2</th>\n",
              "    </tr>\n",
              "  </thead>\n",
              "  <tbody>\n",
              "    <tr>\n",
              "      <th>0</th>\n",
              "      <td>NaN</td>\n",
              "      <td>Male</td>\n",
              "      <td>97308.0</td>\n",
              "      <td>6.945</td>\n",
              "      <td>True</td>\n",
              "      <td>Marketing</td>\n",
              "      <td>NaN</td>\n",
              "    </tr>\n",
              "    <tr>\n",
              "      <th>1</th>\n",
              "      <td>NaN</td>\n",
              "      <td>Male</td>\n",
              "      <td>61933.0</td>\n",
              "      <td>NaN</td>\n",
              "      <td>True</td>\n",
              "      <td>NaN</td>\n",
              "      <td>NaN</td>\n",
              "    </tr>\n",
              "    <tr>\n",
              "      <th>2</th>\n",
              "      <td>NaN</td>\n",
              "      <td>Female</td>\n",
              "      <td>130590.0</td>\n",
              "      <td>11.858</td>\n",
              "      <td>False</td>\n",
              "      <td>0.112</td>\n",
              "      <td>11.85811.858</td>\n",
              "    </tr>\n",
              "    <tr>\n",
              "      <th>3</th>\n",
              "      <td>Jerry</td>\n",
              "      <td>Male</td>\n",
              "      <td>NaN</td>\n",
              "      <td>9.34</td>\n",
              "      <td>True</td>\n",
              "      <td>Finance</td>\n",
              "      <td>9.349.34</td>\n",
              "    </tr>\n",
              "    <tr>\n",
              "      <th>4</th>\n",
              "      <td>Larry</td>\n",
              "      <td>Male</td>\n",
              "      <td>101004.0</td>\n",
              "      <td>1.389</td>\n",
              "      <td>True</td>\n",
              "      <td>Client Services</td>\n",
              "      <td>1.3891.389</td>\n",
              "    </tr>\n",
              "    <tr>\n",
              "      <th>...</th>\n",
              "      <td>...</td>\n",
              "      <td>...</td>\n",
              "      <td>...</td>\n",
              "      <td>...</td>\n",
              "      <td>...</td>\n",
              "      <td>...</td>\n",
              "      <td>...</td>\n",
              "    </tr>\n",
              "    <tr>\n",
              "      <th>995</th>\n",
              "      <td>Henry</td>\n",
              "      <td>NaN</td>\n",
              "      <td>132483.0</td>\n",
              "      <td>16.655</td>\n",
              "      <td>False</td>\n",
              "      <td>Distribution</td>\n",
              "      <td>NaN</td>\n",
              "    </tr>\n",
              "    <tr>\n",
              "      <th>996</th>\n",
              "      <td>Phillip</td>\n",
              "      <td>Male</td>\n",
              "      <td>42392.0</td>\n",
              "      <td>19.675</td>\n",
              "      <td>False</td>\n",
              "      <td>Finance</td>\n",
              "      <td>19.67519.675</td>\n",
              "    </tr>\n",
              "    <tr>\n",
              "      <th>997</th>\n",
              "      <td>Russell</td>\n",
              "      <td>Male</td>\n",
              "      <td>96914.0</td>\n",
              "      <td>1.421</td>\n",
              "      <td>False</td>\n",
              "      <td>Product</td>\n",
              "      <td>NaN</td>\n",
              "    </tr>\n",
              "    <tr>\n",
              "      <th>998</th>\n",
              "      <td>Larry</td>\n",
              "      <td>Male</td>\n",
              "      <td>60500.0</td>\n",
              "      <td>11.985</td>\n",
              "      <td>False</td>\n",
              "      <td>Business Development</td>\n",
              "      <td>NaN</td>\n",
              "    </tr>\n",
              "    <tr>\n",
              "      <th>999</th>\n",
              "      <td>Albert</td>\n",
              "      <td>Male</td>\n",
              "      <td>129949.0</td>\n",
              "      <td>qqqqq</td>\n",
              "      <td>True</td>\n",
              "      <td>Sales</td>\n",
              "      <td>qqqqqqqqqq</td>\n",
              "    </tr>\n",
              "  </tbody>\n",
              "</table>\n",
              "<p>1000 rows × 7 columns</p>\n",
              "</div>"
            ],
            "text/plain": [
              "    v_first_name v_gender  c_salary c_bonus_% v_senior_mana  \\\n",
              "0            NaN     Male   97308.0     6.945          True   \n",
              "1            NaN     Male   61933.0       NaN          True   \n",
              "2            NaN   Female  130590.0    11.858         False   \n",
              "3          Jerry     Male       NaN      9.34          True   \n",
              "4          Larry     Male  101004.0     1.389          True   \n",
              "..           ...      ...       ...       ...           ...   \n",
              "995        Henry      NaN  132483.0    16.655         False   \n",
              "996      Phillip     Male   42392.0    19.675         False   \n",
              "997      Russell     Male   96914.0     1.421         False   \n",
              "998        Larry     Male   60500.0    11.985         False   \n",
              "999       Albert     Male  129949.0     qqqqq          True   \n",
              "\n",
              "                   v_team     c_bonus_2  \n",
              "0               Marketing           NaN  \n",
              "1                     NaN           NaN  \n",
              "2                   0.112  11.85811.858  \n",
              "3                 Finance      9.349.34  \n",
              "4         Client Services    1.3891.389  \n",
              "..                    ...           ...  \n",
              "995          Distribution           NaN  \n",
              "996               Finance  19.67519.675  \n",
              "997               Product           NaN  \n",
              "998  Business Development           NaN  \n",
              "999                 Sales    qqqqqqqqqq  \n",
              "\n",
              "[1000 rows x 7 columns]"
            ]
          },
          "metadata": {
            "tags": []
          },
          "execution_count": 124
        }
      ]
    },
    {
      "cell_type": "code",
      "metadata": {
        "ExecuteTime": {
          "end_time": "2020-11-05T02:56:39.022539Z",
          "start_time": "2020-11-05T02:56:38.992971Z"
        },
        "id": "WZlVqht5Aabt"
      },
      "source": [
        "completitud_1=pd.DataFrame((1-df.isnull().sum()/df.shape[0])*100).reset_index().rename(columns={\"index\":\"columna\",0:\"completitud\"})"
      ],
      "execution_count": 125,
      "outputs": []
    },
    {
      "cell_type": "code",
      "metadata": {
        "ExecuteTime": {
          "end_time": "2020-11-05T02:56:39.361329Z",
          "start_time": "2020-11-05T02:56:39.307000Z"
        },
        "id": "102HYwqBAabv",
        "outputId": "b2c1bb33-775a-440a-edf5-fefe60b0bdca",
        "colab": {
          "base_uri": "https://localhost:8080/",
          "height": 266
        }
      },
      "source": [
        "#Completitud antes de validar los cambios en la variable\n",
        "completitud"
      ],
      "execution_count": 126,
      "outputs": [
        {
          "output_type": "execute_result",
          "data": {
            "text/html": [
              "<div>\n",
              "<style scoped>\n",
              "    .dataframe tbody tr th:only-of-type {\n",
              "        vertical-align: middle;\n",
              "    }\n",
              "\n",
              "    .dataframe tbody tr th {\n",
              "        vertical-align: top;\n",
              "    }\n",
              "\n",
              "    .dataframe thead th {\n",
              "        text-align: right;\n",
              "    }\n",
              "</style>\n",
              "<table border=\"1\" class=\"dataframe\">\n",
              "  <thead>\n",
              "    <tr style=\"text-align: right;\">\n",
              "      <th></th>\n",
              "      <th>columna</th>\n",
              "      <th>completitud</th>\n",
              "    </tr>\n",
              "  </thead>\n",
              "  <tbody>\n",
              "    <tr>\n",
              "      <th>0</th>\n",
              "      <td>v_first_name</td>\n",
              "      <td>93.0</td>\n",
              "    </tr>\n",
              "    <tr>\n",
              "      <th>1</th>\n",
              "      <td>v_gender</td>\n",
              "      <td>85.1</td>\n",
              "    </tr>\n",
              "    <tr>\n",
              "      <th>2</th>\n",
              "      <td>c_salary</td>\n",
              "      <td>99.5</td>\n",
              "    </tr>\n",
              "    <tr>\n",
              "      <th>3</th>\n",
              "      <td>c_bonus_%</td>\n",
              "      <td>99.6</td>\n",
              "    </tr>\n",
              "    <tr>\n",
              "      <th>4</th>\n",
              "      <td>v_senior_mana</td>\n",
              "      <td>92.9</td>\n",
              "    </tr>\n",
              "    <tr>\n",
              "      <th>5</th>\n",
              "      <td>v_team</td>\n",
              "      <td>95.2</td>\n",
              "    </tr>\n",
              "    <tr>\n",
              "      <th>6</th>\n",
              "      <td>c_bonus_2</td>\n",
              "      <td>50.4</td>\n",
              "    </tr>\n",
              "  </tbody>\n",
              "</table>\n",
              "</div>"
            ],
            "text/plain": [
              "         columna  completitud\n",
              "0   v_first_name         93.0\n",
              "1       v_gender         85.1\n",
              "2       c_salary         99.5\n",
              "3      c_bonus_%         99.6\n",
              "4  v_senior_mana         92.9\n",
              "5         v_team         95.2\n",
              "6      c_bonus_2         50.4"
            ]
          },
          "metadata": {
            "tags": []
          },
          "execution_count": 126
        }
      ]
    },
    {
      "cell_type": "code",
      "metadata": {
        "ExecuteTime": {
          "end_time": "2020-11-05T02:56:40.001555Z",
          "start_time": "2020-11-05T02:56:39.630376Z"
        },
        "id": "o9uDS494Aabz",
        "outputId": "b4f82cf6-390c-4455-ade2-cfb738efd9ed",
        "colab": {
          "base_uri": "https://localhost:8080/",
          "height": 266
        }
      },
      "source": [
        "#Completitud despues de validar que la calidad de las variables\n",
        "completitud_1"
      ],
      "execution_count": 128,
      "outputs": [
        {
          "output_type": "execute_result",
          "data": {
            "text/html": [
              "<div>\n",
              "<style scoped>\n",
              "    .dataframe tbody tr th:only-of-type {\n",
              "        vertical-align: middle;\n",
              "    }\n",
              "\n",
              "    .dataframe tbody tr th {\n",
              "        vertical-align: top;\n",
              "    }\n",
              "\n",
              "    .dataframe thead th {\n",
              "        text-align: right;\n",
              "    }\n",
              "</style>\n",
              "<table border=\"1\" class=\"dataframe\">\n",
              "  <thead>\n",
              "    <tr style=\"text-align: right;\">\n",
              "      <th></th>\n",
              "      <th>columna</th>\n",
              "      <th>completitud</th>\n",
              "    </tr>\n",
              "  </thead>\n",
              "  <tbody>\n",
              "    <tr>\n",
              "      <th>0</th>\n",
              "      <td>v_first_name</td>\n",
              "      <td>92.5</td>\n",
              "    </tr>\n",
              "    <tr>\n",
              "      <th>1</th>\n",
              "      <td>v_gender</td>\n",
              "      <td>84.9</td>\n",
              "    </tr>\n",
              "    <tr>\n",
              "      <th>2</th>\n",
              "      <td>c_salary</td>\n",
              "      <td>99.2</td>\n",
              "    </tr>\n",
              "    <tr>\n",
              "      <th>3</th>\n",
              "      <td>c_bonus_%</td>\n",
              "      <td>99.6</td>\n",
              "    </tr>\n",
              "    <tr>\n",
              "      <th>4</th>\n",
              "      <td>v_senior_mana</td>\n",
              "      <td>92.9</td>\n",
              "    </tr>\n",
              "    <tr>\n",
              "      <th>5</th>\n",
              "      <td>v_team</td>\n",
              "      <td>95.2</td>\n",
              "    </tr>\n",
              "    <tr>\n",
              "      <th>6</th>\n",
              "      <td>c_bonus_2</td>\n",
              "      <td>50.4</td>\n",
              "    </tr>\n",
              "  </tbody>\n",
              "</table>\n",
              "</div>"
            ],
            "text/plain": [
              "         columna  completitud\n",
              "0   v_first_name         92.5\n",
              "1       v_gender         84.9\n",
              "2       c_salary         99.2\n",
              "3      c_bonus_%         99.6\n",
              "4  v_senior_mana         92.9\n",
              "5         v_team         95.2\n",
              "6      c_bonus_2         50.4"
            ]
          },
          "metadata": {
            "tags": []
          },
          "execution_count": 128
        }
      ]
    },
    {
      "cell_type": "markdown",
      "metadata": {
        "id": "hf5oJVPEAab2"
      },
      "source": [
        "## ¿Cómo eliminar filas con valores perdidos?"
      ]
    },
    {
      "cell_type": "code",
      "metadata": {
        "ExecuteTime": {
          "end_time": "2020-11-05T02:56:40.213349Z",
          "start_time": "2020-11-05T02:56:40.207341Z"
        },
        "id": "aOyqKewhAab2"
      },
      "source": [
        "#Usamos dropna()para eliminar todas las filas con datos faltantes"
      ],
      "execution_count": 129,
      "outputs": []
    },
    {
      "cell_type": "code",
      "metadata": {
        "ExecuteTime": {
          "end_time": "2020-11-05T02:56:40.561679Z",
          "start_time": "2020-11-05T02:56:40.549353Z"
        },
        "id": "AHVOlgLsAab5",
        "outputId": "34511017-2e52-4d8d-ba18-e24ecc5f702d",
        "colab": {
          "base_uri": "https://localhost:8080/"
        }
      },
      "source": [
        "df.shape"
      ],
      "execution_count": 130,
      "outputs": [
        {
          "output_type": "execute_result",
          "data": {
            "text/plain": [
              "(1000, 7)"
            ]
          },
          "metadata": {
            "tags": []
          },
          "execution_count": 130
        }
      ]
    },
    {
      "cell_type": "code",
      "metadata": {
        "ExecuteTime": {
          "end_time": "2020-11-05T02:56:40.873781Z",
          "start_time": "2020-11-05T02:56:40.810243Z"
        },
        "id": "sBbu-pO0Aab7",
        "outputId": "00e691bd-c639-4c79-f6ee-72f21ad463c9",
        "colab": {
          "base_uri": "https://localhost:8080/",
          "height": 419
        }
      },
      "source": [
        "df.dropna(axis=0)"
      ],
      "execution_count": 131,
      "outputs": [
        {
          "output_type": "execute_result",
          "data": {
            "text/html": [
              "<div>\n",
              "<style scoped>\n",
              "    .dataframe tbody tr th:only-of-type {\n",
              "        vertical-align: middle;\n",
              "    }\n",
              "\n",
              "    .dataframe tbody tr th {\n",
              "        vertical-align: top;\n",
              "    }\n",
              "\n",
              "    .dataframe thead th {\n",
              "        text-align: right;\n",
              "    }\n",
              "</style>\n",
              "<table border=\"1\" class=\"dataframe\">\n",
              "  <thead>\n",
              "    <tr style=\"text-align: right;\">\n",
              "      <th></th>\n",
              "      <th>v_first_name</th>\n",
              "      <th>v_gender</th>\n",
              "      <th>c_salary</th>\n",
              "      <th>c_bonus_%</th>\n",
              "      <th>v_senior_mana</th>\n",
              "      <th>v_team</th>\n",
              "      <th>c_bonus_2</th>\n",
              "    </tr>\n",
              "  </thead>\n",
              "  <tbody>\n",
              "    <tr>\n",
              "      <th>4</th>\n",
              "      <td>Larry</td>\n",
              "      <td>Male</td>\n",
              "      <td>101004.0</td>\n",
              "      <td>1.389</td>\n",
              "      <td>True</td>\n",
              "      <td>Client Services</td>\n",
              "      <td>1.3891.389</td>\n",
              "    </tr>\n",
              "    <tr>\n",
              "      <th>13</th>\n",
              "      <td>Gary</td>\n",
              "      <td>Male</td>\n",
              "      <td>109831.0</td>\n",
              "      <td>5.831</td>\n",
              "      <td>False</td>\n",
              "      <td>Sales</td>\n",
              "      <td>5.8315.831</td>\n",
              "    </tr>\n",
              "    <tr>\n",
              "      <th>16</th>\n",
              "      <td>Jeremy</td>\n",
              "      <td>Male</td>\n",
              "      <td>90370.0</td>\n",
              "      <td>7.369</td>\n",
              "      <td>False</td>\n",
              "      <td>Human Resources</td>\n",
              "      <td>7.3697.369</td>\n",
              "    </tr>\n",
              "    <tr>\n",
              "      <th>21</th>\n",
              "      <td>Matthew</td>\n",
              "      <td>Male</td>\n",
              "      <td>100612.0</td>\n",
              "      <td>13.645</td>\n",
              "      <td>False</td>\n",
              "      <td>Marketing</td>\n",
              "      <td>13.64513.645</td>\n",
              "    </tr>\n",
              "    <tr>\n",
              "      <th>28</th>\n",
              "      <td>Terry</td>\n",
              "      <td>Male</td>\n",
              "      <td>124008.0</td>\n",
              "      <td>13.464</td>\n",
              "      <td>True</td>\n",
              "      <td>Client Services</td>\n",
              "      <td>13.46413.464</td>\n",
              "    </tr>\n",
              "    <tr>\n",
              "      <th>...</th>\n",
              "      <td>...</td>\n",
              "      <td>...</td>\n",
              "      <td>...</td>\n",
              "      <td>...</td>\n",
              "      <td>...</td>\n",
              "      <td>...</td>\n",
              "      <td>...</td>\n",
              "    </tr>\n",
              "    <tr>\n",
              "      <th>990</th>\n",
              "      <td>Robin</td>\n",
              "      <td>Female</td>\n",
              "      <td>100765.0</td>\n",
              "      <td>10.982</td>\n",
              "      <td>True</td>\n",
              "      <td>Client Services</td>\n",
              "      <td>10.98210.982</td>\n",
              "    </tr>\n",
              "    <tr>\n",
              "      <th>992</th>\n",
              "      <td>Anthony</td>\n",
              "      <td>Male</td>\n",
              "      <td>112769.0</td>\n",
              "      <td>11.625</td>\n",
              "      <td>True</td>\n",
              "      <td>Finance</td>\n",
              "      <td>11.62511.625</td>\n",
              "    </tr>\n",
              "    <tr>\n",
              "      <th>994</th>\n",
              "      <td>George</td>\n",
              "      <td>Male</td>\n",
              "      <td>98874.0</td>\n",
              "      <td>4.479</td>\n",
              "      <td>True</td>\n",
              "      <td>Marketing</td>\n",
              "      <td>4.4794.479</td>\n",
              "    </tr>\n",
              "    <tr>\n",
              "      <th>996</th>\n",
              "      <td>Phillip</td>\n",
              "      <td>Male</td>\n",
              "      <td>42392.0</td>\n",
              "      <td>19.675</td>\n",
              "      <td>False</td>\n",
              "      <td>Finance</td>\n",
              "      <td>19.67519.675</td>\n",
              "    </tr>\n",
              "    <tr>\n",
              "      <th>999</th>\n",
              "      <td>Albert</td>\n",
              "      <td>Male</td>\n",
              "      <td>129949.0</td>\n",
              "      <td>qqqqq</td>\n",
              "      <td>True</td>\n",
              "      <td>Sales</td>\n",
              "      <td>qqqqqqqqqq</td>\n",
              "    </tr>\n",
              "  </tbody>\n",
              "</table>\n",
              "<p>375 rows × 7 columns</p>\n",
              "</div>"
            ],
            "text/plain": [
              "    v_first_name v_gender  c_salary c_bonus_% v_senior_mana           v_team  \\\n",
              "4          Larry     Male  101004.0     1.389          True  Client Services   \n",
              "13          Gary     Male  109831.0     5.831         False            Sales   \n",
              "16        Jeremy     Male   90370.0     7.369         False  Human Resources   \n",
              "21       Matthew     Male  100612.0    13.645         False        Marketing   \n",
              "28         Terry     Male  124008.0    13.464          True  Client Services   \n",
              "..           ...      ...       ...       ...           ...              ...   \n",
              "990        Robin   Female  100765.0    10.982          True  Client Services   \n",
              "992      Anthony     Male  112769.0    11.625          True          Finance   \n",
              "994       George     Male   98874.0     4.479          True        Marketing   \n",
              "996      Phillip     Male   42392.0    19.675         False          Finance   \n",
              "999       Albert     Male  129949.0     qqqqq          True            Sales   \n",
              "\n",
              "        c_bonus_2  \n",
              "4      1.3891.389  \n",
              "13     5.8315.831  \n",
              "16     7.3697.369  \n",
              "21   13.64513.645  \n",
              "28   13.46413.464  \n",
              "..            ...  \n",
              "990  10.98210.982  \n",
              "992  11.62511.625  \n",
              "994    4.4794.479  \n",
              "996  19.67519.675  \n",
              "999    qqqqqqqqqq  \n",
              "\n",
              "[375 rows x 7 columns]"
            ]
          },
          "metadata": {
            "tags": []
          },
          "execution_count": 131
        }
      ]
    },
    {
      "cell_type": "code",
      "metadata": {
        "ExecuteTime": {
          "end_time": "2020-11-05T02:56:41.151756Z",
          "start_time": "2020-11-05T02:56:41.138379Z"
        },
        "id": "RMpyK6txAab_"
      },
      "source": [
        "# eliminar todas las filas con al menos un NaN\n",
        "new_df = df.dropna(axis = 0, how ='any')  "
      ],
      "execution_count": 132,
      "outputs": []
    },
    {
      "cell_type": "code",
      "metadata": {
        "ExecuteTime": {
          "end_time": "2020-11-05T02:56:41.479395Z",
          "start_time": "2020-11-05T02:56:41.470305Z"
        },
        "id": "SVrLSFwuAacC",
        "outputId": "fe4e77f4-3578-4c1c-8143-cbc3a3746110",
        "colab": {
          "base_uri": "https://localhost:8080/"
        }
      },
      "source": [
        "new_df.shape"
      ],
      "execution_count": 133,
      "outputs": [
        {
          "output_type": "execute_result",
          "data": {
            "text/plain": [
              "(375, 7)"
            ]
          },
          "metadata": {
            "tags": []
          },
          "execution_count": 133
        }
      ]
    },
    {
      "cell_type": "code",
      "metadata": {
        "ExecuteTime": {
          "end_time": "2020-11-05T02:56:41.722574Z",
          "start_time": "2020-11-05T02:56:41.707267Z"
        },
        "id": "W721R5H5AacG"
      },
      "source": [
        "# eliminar todas las filas con todos los NaN\n",
        "new_df = df.dropna(axis = 0, how ='all')"
      ],
      "execution_count": 134,
      "outputs": []
    },
    {
      "cell_type": "code",
      "metadata": {
        "ExecuteTime": {
          "end_time": "2020-11-05T02:56:42.901881Z",
          "start_time": "2020-11-05T02:56:42.891811Z"
        },
        "id": "FXN7HMndAacJ",
        "outputId": "a024460a-1478-4bea-deed-748e3f19b674",
        "colab": {
          "base_uri": "https://localhost:8080/"
        }
      },
      "source": [
        "new_df.shape"
      ],
      "execution_count": 135,
      "outputs": [
        {
          "output_type": "execute_result",
          "data": {
            "text/plain": [
              "(1000, 7)"
            ]
          },
          "metadata": {
            "tags": []
          },
          "execution_count": 135
        }
      ]
    },
    {
      "cell_type": "code",
      "metadata": {
        "ExecuteTime": {
          "end_time": "2020-11-05T02:56:43.393367Z",
          "start_time": "2020-11-05T02:56:43.379892Z"
        },
        "id": "yxhUtRwUAacM"
      },
      "source": [
        "# eliminar todas las columnas con al menos un NaN\n",
        "new_df = df.dropna(axis = 1, how ='any')"
      ],
      "execution_count": 136,
      "outputs": []
    },
    {
      "cell_type": "code",
      "metadata": {
        "ExecuteTime": {
          "end_time": "2020-11-05T02:56:43.751061Z",
          "start_time": "2020-11-05T02:56:43.732910Z"
        },
        "id": "y3s7ZFjfAacQ",
        "outputId": "7b205ec2-8a06-4b66-edac-56f93259f98d",
        "colab": {
          "base_uri": "https://localhost:8080/",
          "height": 402
        }
      },
      "source": [
        "new_df"
      ],
      "execution_count": 137,
      "outputs": [
        {
          "output_type": "execute_result",
          "data": {
            "text/html": [
              "<div>\n",
              "<style scoped>\n",
              "    .dataframe tbody tr th:only-of-type {\n",
              "        vertical-align: middle;\n",
              "    }\n",
              "\n",
              "    .dataframe tbody tr th {\n",
              "        vertical-align: top;\n",
              "    }\n",
              "\n",
              "    .dataframe thead th {\n",
              "        text-align: right;\n",
              "    }\n",
              "</style>\n",
              "<table border=\"1\" class=\"dataframe\">\n",
              "  <thead>\n",
              "    <tr style=\"text-align: right;\">\n",
              "      <th></th>\n",
              "    </tr>\n",
              "  </thead>\n",
              "  <tbody>\n",
              "    <tr>\n",
              "      <th>0</th>\n",
              "    </tr>\n",
              "    <tr>\n",
              "      <th>1</th>\n",
              "    </tr>\n",
              "    <tr>\n",
              "      <th>2</th>\n",
              "    </tr>\n",
              "    <tr>\n",
              "      <th>3</th>\n",
              "    </tr>\n",
              "    <tr>\n",
              "      <th>4</th>\n",
              "    </tr>\n",
              "    <tr>\n",
              "      <th>...</th>\n",
              "    </tr>\n",
              "    <tr>\n",
              "      <th>995</th>\n",
              "    </tr>\n",
              "    <tr>\n",
              "      <th>996</th>\n",
              "    </tr>\n",
              "    <tr>\n",
              "      <th>997</th>\n",
              "    </tr>\n",
              "    <tr>\n",
              "      <th>998</th>\n",
              "    </tr>\n",
              "    <tr>\n",
              "      <th>999</th>\n",
              "    </tr>\n",
              "  </tbody>\n",
              "</table>\n",
              "<p>1000 rows × 0 columns</p>\n",
              "</div>"
            ],
            "text/plain": [
              "Empty DataFrame\n",
              "Columns: []\n",
              "Index: [0, 1, 2, 3, 4, 5, 6, 7, 8, 9, 10, 11, 12, 13, 14, 15, 16, 17, 18, 19, 20, 21, 22, 23, 24, 25, 26, 27, 28, 29, 30, 31, 32, 33, 34, 35, 36, 37, 38, 39, 40, 41, 42, 43, 44, 45, 46, 47, 48, 49, 50, 51, 52, 53, 54, 55, 56, 57, 58, 59, 60, 61, 62, 63, 64, 65, 66, 67, 68, 69, 70, 71, 72, 73, 74, 75, 76, 77, 78, 79, 80, 81, 82, 83, 84, 85, 86, 87, 88, 89, 90, 91, 92, 93, 94, 95, 96, 97, 98, 99, ...]\n",
              "\n",
              "[1000 rows x 0 columns]"
            ]
          },
          "metadata": {
            "tags": []
          },
          "execution_count": 137
        }
      ]
    },
    {
      "cell_type": "code",
      "metadata": {
        "ExecuteTime": {
          "end_time": "2020-11-05T02:56:43.965417Z",
          "start_time": "2020-11-05T02:56:43.950818Z"
        },
        "id": "cfDcPaTaAacT"
      },
      "source": [
        "# eliminar todas las columnas con todos los NaN\n",
        "new_df = df.dropna(axis = 1, how ='all')"
      ],
      "execution_count": 138,
      "outputs": []
    },
    {
      "cell_type": "code",
      "metadata": {
        "ExecuteTime": {
          "end_time": "2020-11-05T02:56:44.261949Z",
          "start_time": "2020-11-05T02:56:44.252575Z"
        },
        "id": "ICUXUY8kAacY",
        "outputId": "0353a9e1-9924-4c37-f731-047b49aa4a48",
        "colab": {
          "base_uri": "https://localhost:8080/"
        }
      },
      "source": [
        "new_df.shape"
      ],
      "execution_count": 139,
      "outputs": [
        {
          "output_type": "execute_result",
          "data": {
            "text/plain": [
              "(1000, 7)"
            ]
          },
          "metadata": {
            "tags": []
          },
          "execution_count": 139
        }
      ]
    },
    {
      "cell_type": "markdown",
      "metadata": {
        "id": "KWHq14UlAacb"
      },
      "source": [
        "## Imputación de valores"
      ]
    },
    {
      "cell_type": "markdown",
      "metadata": {
        "id": "5_J_NQwbAacb"
      },
      "source": [
        "**Eliminar filas es una buena opción cuando los valores perdidos son raros. Pero esto no siempre es práctico. Necesitamos reemplazar estos NaN con conjeturas inteligentes.**"
      ]
    },
    {
      "cell_type": "markdown",
      "metadata": {
        "id": "hoTJRB-IAacb"
      },
      "source": [
        "- fillna()\n",
        "- replace() \n",
        "- SimpleImputer()"
      ]
    },
    {
      "cell_type": "markdown",
      "metadata": {
        "id": "oDm0cBnDAacc"
      },
      "source": [
        "### CONTINUAS"
      ]
    },
    {
      "cell_type": "code",
      "metadata": {
        "ExecuteTime": {
          "end_time": "2020-11-05T02:56:45.702287Z",
          "start_time": "2020-11-05T02:56:45.660459Z"
        },
        "id": "s5HQooXhAacd",
        "outputId": "98f353e6-a09b-4ab2-cd5c-606f56fda424",
        "colab": {
          "base_uri": "https://localhost:8080/",
          "height": 419
        }
      },
      "source": [
        "#Filtramos las variables que empiezan con c\n",
        "df.filter(like=\"c_\")"
      ],
      "execution_count": 141,
      "outputs": [
        {
          "output_type": "execute_result",
          "data": {
            "text/html": [
              "<div>\n",
              "<style scoped>\n",
              "    .dataframe tbody tr th:only-of-type {\n",
              "        vertical-align: middle;\n",
              "    }\n",
              "\n",
              "    .dataframe tbody tr th {\n",
              "        vertical-align: top;\n",
              "    }\n",
              "\n",
              "    .dataframe thead th {\n",
              "        text-align: right;\n",
              "    }\n",
              "</style>\n",
              "<table border=\"1\" class=\"dataframe\">\n",
              "  <thead>\n",
              "    <tr style=\"text-align: right;\">\n",
              "      <th></th>\n",
              "      <th>c_salary</th>\n",
              "      <th>c_bonus_%</th>\n",
              "      <th>c_bonus_2</th>\n",
              "    </tr>\n",
              "  </thead>\n",
              "  <tbody>\n",
              "    <tr>\n",
              "      <th>0</th>\n",
              "      <td>97308.0</td>\n",
              "      <td>6.945</td>\n",
              "      <td>NaN</td>\n",
              "    </tr>\n",
              "    <tr>\n",
              "      <th>1</th>\n",
              "      <td>61933.0</td>\n",
              "      <td>NaN</td>\n",
              "      <td>NaN</td>\n",
              "    </tr>\n",
              "    <tr>\n",
              "      <th>2</th>\n",
              "      <td>130590.0</td>\n",
              "      <td>11.858</td>\n",
              "      <td>11.85811.858</td>\n",
              "    </tr>\n",
              "    <tr>\n",
              "      <th>3</th>\n",
              "      <td>NaN</td>\n",
              "      <td>9.34</td>\n",
              "      <td>9.349.34</td>\n",
              "    </tr>\n",
              "    <tr>\n",
              "      <th>4</th>\n",
              "      <td>101004.0</td>\n",
              "      <td>1.389</td>\n",
              "      <td>1.3891.389</td>\n",
              "    </tr>\n",
              "    <tr>\n",
              "      <th>...</th>\n",
              "      <td>...</td>\n",
              "      <td>...</td>\n",
              "      <td>...</td>\n",
              "    </tr>\n",
              "    <tr>\n",
              "      <th>995</th>\n",
              "      <td>132483.0</td>\n",
              "      <td>16.655</td>\n",
              "      <td>NaN</td>\n",
              "    </tr>\n",
              "    <tr>\n",
              "      <th>996</th>\n",
              "      <td>42392.0</td>\n",
              "      <td>19.675</td>\n",
              "      <td>19.67519.675</td>\n",
              "    </tr>\n",
              "    <tr>\n",
              "      <th>997</th>\n",
              "      <td>96914.0</td>\n",
              "      <td>1.421</td>\n",
              "      <td>NaN</td>\n",
              "    </tr>\n",
              "    <tr>\n",
              "      <th>998</th>\n",
              "      <td>60500.0</td>\n",
              "      <td>11.985</td>\n",
              "      <td>NaN</td>\n",
              "    </tr>\n",
              "    <tr>\n",
              "      <th>999</th>\n",
              "      <td>129949.0</td>\n",
              "      <td>qqqqq</td>\n",
              "      <td>qqqqqqqqqq</td>\n",
              "    </tr>\n",
              "  </tbody>\n",
              "</table>\n",
              "<p>1000 rows × 3 columns</p>\n",
              "</div>"
            ],
            "text/plain": [
              "     c_salary c_bonus_%     c_bonus_2\n",
              "0     97308.0     6.945           NaN\n",
              "1     61933.0       NaN           NaN\n",
              "2    130590.0    11.858  11.85811.858\n",
              "3         NaN      9.34      9.349.34\n",
              "4    101004.0     1.389    1.3891.389\n",
              "..        ...       ...           ...\n",
              "995  132483.0    16.655           NaN\n",
              "996   42392.0    19.675  19.67519.675\n",
              "997   96914.0     1.421           NaN\n",
              "998   60500.0    11.985           NaN\n",
              "999  129949.0     qqqqq    qqqqqqqqqq\n",
              "\n",
              "[1000 rows x 3 columns]"
            ]
          },
          "metadata": {
            "tags": []
          },
          "execution_count": 141
        }
      ]
    },
    {
      "cell_type": "code",
      "metadata": {
        "ExecuteTime": {
          "end_time": "2020-11-05T02:56:46.020048Z",
          "start_time": "2020-11-05T02:56:46.012438Z"
        },
        "id": "3vQ4vEvlAaci"
      },
      "source": [
        "mean=df['c_salary'].mean()"
      ],
      "execution_count": 142,
      "outputs": []
    },
    {
      "cell_type": "code",
      "metadata": {
        "ExecuteTime": {
          "end_time": "2020-11-05T02:56:46.469541Z",
          "start_time": "2020-11-05T02:56:46.461209Z"
        },
        "id": "mQHG3qoGAack"
      },
      "source": [
        "median=df['c_salary'].median()"
      ],
      "execution_count": 143,
      "outputs": []
    },
    {
      "cell_type": "code",
      "metadata": {
        "ExecuteTime": {
          "end_time": "2020-11-05T02:56:47.436313Z",
          "start_time": "2020-11-05T02:56:47.423017Z"
        },
        "id": "8PL0w2ZhAacn",
        "outputId": "815b092f-7b3d-4ee1-d13c-c835a2fb6701",
        "colab": {
          "base_uri": "https://localhost:8080/"
        }
      },
      "source": [
        "df['c_salary'].mode()"
      ],
      "execution_count": 144,
      "outputs": [
        {
          "output_type": "execute_result",
          "data": {
            "text/plain": [
              "0     86676.0\n",
              "1     91462.0\n",
              "2    121160.0\n",
              "3    147183.0\n",
              "dtype: float64"
            ]
          },
          "metadata": {
            "tags": []
          },
          "execution_count": 144
        }
      ]
    },
    {
      "cell_type": "code",
      "metadata": {
        "ExecuteTime": {
          "end_time": "2020-11-05T02:56:47.531760Z",
          "start_time": "2020-11-05T02:56:47.441387Z"
        },
        "id": "v9t8krzhAacp",
        "outputId": "d7a9077f-d4b9-49de-88ba-8bd7377cb400",
        "colab": {
          "base_uri": "https://localhost:8080/",
          "height": 111
        }
      },
      "source": [
        "df[df[\"c_salary\"]==91462.0]"
      ],
      "execution_count": 145,
      "outputs": [
        {
          "output_type": "execute_result",
          "data": {
            "text/html": [
              "<div>\n",
              "<style scoped>\n",
              "    .dataframe tbody tr th:only-of-type {\n",
              "        vertical-align: middle;\n",
              "    }\n",
              "\n",
              "    .dataframe tbody tr th {\n",
              "        vertical-align: top;\n",
              "    }\n",
              "\n",
              "    .dataframe thead th {\n",
              "        text-align: right;\n",
              "    }\n",
              "</style>\n",
              "<table border=\"1\" class=\"dataframe\">\n",
              "  <thead>\n",
              "    <tr style=\"text-align: right;\">\n",
              "      <th></th>\n",
              "      <th>v_first_name</th>\n",
              "      <th>v_gender</th>\n",
              "      <th>c_salary</th>\n",
              "      <th>c_bonus_%</th>\n",
              "      <th>v_senior_mana</th>\n",
              "      <th>v_team</th>\n",
              "      <th>c_bonus_2</th>\n",
              "    </tr>\n",
              "  </thead>\n",
              "  <tbody>\n",
              "    <tr>\n",
              "      <th>535</th>\n",
              "      <td>Louise</td>\n",
              "      <td>Female</td>\n",
              "      <td>91462.0</td>\n",
              "      <td>8.205</td>\n",
              "      <td>False</td>\n",
              "      <td>Marketing</td>\n",
              "      <td>8.2058.205</td>\n",
              "    </tr>\n",
              "    <tr>\n",
              "      <th>686</th>\n",
              "      <td>Paul</td>\n",
              "      <td>NaN</td>\n",
              "      <td>91462.0</td>\n",
              "      <td>18.704</td>\n",
              "      <td>False</td>\n",
              "      <td>Finance</td>\n",
              "      <td>18.70418.704</td>\n",
              "    </tr>\n",
              "  </tbody>\n",
              "</table>\n",
              "</div>"
            ],
            "text/plain": [
              "    v_first_name v_gender  c_salary c_bonus_% v_senior_mana     v_team  \\\n",
              "535       Louise   Female   91462.0     8.205         False  Marketing   \n",
              "686         Paul      NaN   91462.0    18.704         False    Finance   \n",
              "\n",
              "        c_bonus_2  \n",
              "535    8.2058.205  \n",
              "686  18.70418.704  "
            ]
          },
          "metadata": {
            "tags": []
          },
          "execution_count": 145
        }
      ]
    },
    {
      "cell_type": "code",
      "metadata": {
        "ExecuteTime": {
          "end_time": "2020-11-05T02:56:48.244550Z",
          "start_time": "2020-11-05T02:56:48.212480Z"
        },
        "id": "U4VnBd55Aacr",
        "outputId": "96d6e7a7-cd61-476a-9201-755f868f9b02",
        "colab": {
          "base_uri": "https://localhost:8080/",
          "height": 111
        }
      },
      "source": [
        "df[df[\"c_salary\"]==147183.0]"
      ],
      "execution_count": 146,
      "outputs": [
        {
          "output_type": "execute_result",
          "data": {
            "text/html": [
              "<div>\n",
              "<style scoped>\n",
              "    .dataframe tbody tr th:only-of-type {\n",
              "        vertical-align: middle;\n",
              "    }\n",
              "\n",
              "    .dataframe tbody tr th {\n",
              "        vertical-align: top;\n",
              "    }\n",
              "\n",
              "    .dataframe thead th {\n",
              "        text-align: right;\n",
              "    }\n",
              "</style>\n",
              "<table border=\"1\" class=\"dataframe\">\n",
              "  <thead>\n",
              "    <tr style=\"text-align: right;\">\n",
              "      <th></th>\n",
              "      <th>v_first_name</th>\n",
              "      <th>v_gender</th>\n",
              "      <th>c_salary</th>\n",
              "      <th>c_bonus_%</th>\n",
              "      <th>v_senior_mana</th>\n",
              "      <th>v_team</th>\n",
              "      <th>c_bonus_2</th>\n",
              "    </tr>\n",
              "  </thead>\n",
              "  <tbody>\n",
              "    <tr>\n",
              "      <th>287</th>\n",
              "      <td>Lois</td>\n",
              "      <td>Female</td>\n",
              "      <td>147183.0</td>\n",
              "      <td>9.999</td>\n",
              "      <td>True</td>\n",
              "      <td>Client Services</td>\n",
              "      <td>NaN</td>\n",
              "    </tr>\n",
              "    <tr>\n",
              "      <th>368</th>\n",
              "      <td>Marilyn</td>\n",
              "      <td>Female</td>\n",
              "      <td>147183.0</td>\n",
              "      <td>8.748</td>\n",
              "      <td>False</td>\n",
              "      <td>Business Development</td>\n",
              "      <td>8.7488.748</td>\n",
              "    </tr>\n",
              "  </tbody>\n",
              "</table>\n",
              "</div>"
            ],
            "text/plain": [
              "    v_first_name v_gender  c_salary c_bonus_% v_senior_mana  \\\n",
              "287         Lois   Female  147183.0     9.999          True   \n",
              "368      Marilyn   Female  147183.0     8.748         False   \n",
              "\n",
              "                   v_team   c_bonus_2  \n",
              "287       Client Services         NaN  \n",
              "368  Business Development  8.7488.748  "
            ]
          },
          "metadata": {
            "tags": []
          },
          "execution_count": 146
        }
      ]
    },
    {
      "cell_type": "code",
      "metadata": {
        "ExecuteTime": {
          "end_time": "2020-11-05T02:56:48.657295Z",
          "start_time": "2020-11-05T02:56:48.648930Z"
        },
        "id": "I0HLw0jxAacu"
      },
      "source": [
        "#Tomamos el primer valor de la moda\n",
        "mode=df['c_salary'].mode()[0]"
      ],
      "execution_count": 147,
      "outputs": []
    },
    {
      "cell_type": "code",
      "metadata": {
        "ExecuteTime": {
          "end_time": "2020-11-05T02:56:49.060055Z",
          "start_time": "2020-11-05T02:56:49.044422Z"
        },
        "id": "2h0YTIYLAacw",
        "outputId": "1b5251d5-d319-434b-8012-09dcf69bc93a",
        "colab": {
          "base_uri": "https://localhost:8080/"
        }
      },
      "source": [
        "#Rellenamos los nulos con la moda\n",
        "#fill na\n",
        "df['c_salary'].fillna(mode)"
      ],
      "execution_count": 148,
      "outputs": [
        {
          "output_type": "execute_result",
          "data": {
            "text/plain": [
              "0       97308.0\n",
              "1       61933.0\n",
              "2      130590.0\n",
              "3       86676.0\n",
              "4      101004.0\n",
              "         ...   \n",
              "995    132483.0\n",
              "996     42392.0\n",
              "997     96914.0\n",
              "998     60500.0\n",
              "999    129949.0\n",
              "Name: c_salary, Length: 1000, dtype: float64"
            ]
          },
          "metadata": {
            "tags": []
          },
          "execution_count": 148
        }
      ]
    },
    {
      "cell_type": "code",
      "metadata": {
        "ExecuteTime": {
          "end_time": "2020-11-05T02:56:49.557254Z",
          "start_time": "2020-11-05T02:56:49.533241Z"
        },
        "id": "SAvWibT7Aacz",
        "outputId": "6fe56a80-a151-417f-e9cc-98848ba0aafb",
        "colab": {
          "base_uri": "https://localhost:8080/"
        }
      },
      "source": [
        "#También podemos utilizar el método .replace\n",
        "#replace\n",
        "df['c_salary'].replace(to_replace = np.nan, value = mode)"
      ],
      "execution_count": 149,
      "outputs": [
        {
          "output_type": "execute_result",
          "data": {
            "text/plain": [
              "0       97308.0\n",
              "1       61933.0\n",
              "2      130590.0\n",
              "3       86676.0\n",
              "4      101004.0\n",
              "         ...   \n",
              "995    132483.0\n",
              "996     42392.0\n",
              "997     96914.0\n",
              "998     60500.0\n",
              "999    129949.0\n",
              "Name: c_salary, Length: 1000, dtype: float64"
            ]
          },
          "metadata": {
            "tags": []
          },
          "execution_count": 149
        }
      ]
    },
    {
      "cell_type": "code",
      "metadata": {
        "ExecuteTime": {
          "end_time": "2020-11-05T03:00:50.087052Z",
          "start_time": "2020-11-05T03:00:50.078762Z"
        },
        "id": "Xc-bK-MZAac1"
      },
      "source": [
        "#otra forma de hacerlo\n",
        "from sklearn.impute import SimpleImputer"
      ],
      "execution_count": 150,
      "outputs": []
    },
    {
      "cell_type": "code",
      "metadata": {
        "ExecuteTime": {
          "end_time": "2020-11-05T03:00:54.571721Z",
          "start_time": "2020-11-05T03:00:54.565170Z"
        },
        "id": "qKoNf5bhAac4"
      },
      "source": [
        "imp = SimpleImputer(missing_values=np.nan, strategy='mean')"
      ],
      "execution_count": 151,
      "outputs": []
    },
    {
      "cell_type": "code",
      "metadata": {
        "ExecuteTime": {
          "end_time": "2020-11-05T03:05:14.799104Z",
          "start_time": "2020-11-05T03:05:14.792227Z"
        },
        "id": "cXViZGnuAac5"
      },
      "source": [
        "imp_median = SimpleImputer(missing_values=np.nan, strategy='median')"
      ],
      "execution_count": 153,
      "outputs": []
    },
    {
      "cell_type": "code",
      "metadata": {
        "ExecuteTime": {
          "end_time": "2020-11-05T03:05:15.583054Z",
          "start_time": "2020-11-05T03:05:15.558982Z"
        },
        "id": "4O_-vSAmAac7"
      },
      "source": [
        "df['c_salary_1']=imp.fit_transform(df[['c_salary']])"
      ],
      "execution_count": 154,
      "outputs": []
    },
    {
      "cell_type": "code",
      "metadata": {
        "ExecuteTime": {
          "end_time": "2020-11-05T03:05:16.223392Z",
          "start_time": "2020-11-05T03:05:16.169651Z"
        },
        "id": "dSdzaIuzAadA",
        "outputId": "db1c5e7f-458b-43b7-b542-04c138e25c0b",
        "colab": {
          "base_uri": "https://localhost:8080/",
          "height": 419
        }
      },
      "source": [
        "df"
      ],
      "execution_count": 155,
      "outputs": [
        {
          "output_type": "execute_result",
          "data": {
            "text/html": [
              "<div>\n",
              "<style scoped>\n",
              "    .dataframe tbody tr th:only-of-type {\n",
              "        vertical-align: middle;\n",
              "    }\n",
              "\n",
              "    .dataframe tbody tr th {\n",
              "        vertical-align: top;\n",
              "    }\n",
              "\n",
              "    .dataframe thead th {\n",
              "        text-align: right;\n",
              "    }\n",
              "</style>\n",
              "<table border=\"1\" class=\"dataframe\">\n",
              "  <thead>\n",
              "    <tr style=\"text-align: right;\">\n",
              "      <th></th>\n",
              "      <th>v_first_name</th>\n",
              "      <th>v_gender</th>\n",
              "      <th>c_salary</th>\n",
              "      <th>c_bonus_%</th>\n",
              "      <th>v_senior_mana</th>\n",
              "      <th>v_team</th>\n",
              "      <th>c_bonus_2</th>\n",
              "      <th>c_salary_1</th>\n",
              "    </tr>\n",
              "  </thead>\n",
              "  <tbody>\n",
              "    <tr>\n",
              "      <th>0</th>\n",
              "      <td>NaN</td>\n",
              "      <td>Male</td>\n",
              "      <td>97308.0</td>\n",
              "      <td>6.945</td>\n",
              "      <td>True</td>\n",
              "      <td>Marketing</td>\n",
              "      <td>NaN</td>\n",
              "      <td>97308.000000</td>\n",
              "    </tr>\n",
              "    <tr>\n",
              "      <th>1</th>\n",
              "      <td>NaN</td>\n",
              "      <td>Male</td>\n",
              "      <td>61933.0</td>\n",
              "      <td>NaN</td>\n",
              "      <td>True</td>\n",
              "      <td>NaN</td>\n",
              "      <td>NaN</td>\n",
              "      <td>61933.000000</td>\n",
              "    </tr>\n",
              "    <tr>\n",
              "      <th>2</th>\n",
              "      <td>NaN</td>\n",
              "      <td>Female</td>\n",
              "      <td>130590.0</td>\n",
              "      <td>11.858</td>\n",
              "      <td>False</td>\n",
              "      <td>0.112</td>\n",
              "      <td>11.85811.858</td>\n",
              "      <td>130590.000000</td>\n",
              "    </tr>\n",
              "    <tr>\n",
              "      <th>3</th>\n",
              "      <td>Jerry</td>\n",
              "      <td>Male</td>\n",
              "      <td>NaN</td>\n",
              "      <td>9.34</td>\n",
              "      <td>True</td>\n",
              "      <td>Finance</td>\n",
              "      <td>9.349.34</td>\n",
              "      <td>90518.860887</td>\n",
              "    </tr>\n",
              "    <tr>\n",
              "      <th>4</th>\n",
              "      <td>Larry</td>\n",
              "      <td>Male</td>\n",
              "      <td>101004.0</td>\n",
              "      <td>1.389</td>\n",
              "      <td>True</td>\n",
              "      <td>Client Services</td>\n",
              "      <td>1.3891.389</td>\n",
              "      <td>101004.000000</td>\n",
              "    </tr>\n",
              "    <tr>\n",
              "      <th>...</th>\n",
              "      <td>...</td>\n",
              "      <td>...</td>\n",
              "      <td>...</td>\n",
              "      <td>...</td>\n",
              "      <td>...</td>\n",
              "      <td>...</td>\n",
              "      <td>...</td>\n",
              "      <td>...</td>\n",
              "    </tr>\n",
              "    <tr>\n",
              "      <th>995</th>\n",
              "      <td>Henry</td>\n",
              "      <td>NaN</td>\n",
              "      <td>132483.0</td>\n",
              "      <td>16.655</td>\n",
              "      <td>False</td>\n",
              "      <td>Distribution</td>\n",
              "      <td>NaN</td>\n",
              "      <td>132483.000000</td>\n",
              "    </tr>\n",
              "    <tr>\n",
              "      <th>996</th>\n",
              "      <td>Phillip</td>\n",
              "      <td>Male</td>\n",
              "      <td>42392.0</td>\n",
              "      <td>19.675</td>\n",
              "      <td>False</td>\n",
              "      <td>Finance</td>\n",
              "      <td>19.67519.675</td>\n",
              "      <td>42392.000000</td>\n",
              "    </tr>\n",
              "    <tr>\n",
              "      <th>997</th>\n",
              "      <td>Russell</td>\n",
              "      <td>Male</td>\n",
              "      <td>96914.0</td>\n",
              "      <td>1.421</td>\n",
              "      <td>False</td>\n",
              "      <td>Product</td>\n",
              "      <td>NaN</td>\n",
              "      <td>96914.000000</td>\n",
              "    </tr>\n",
              "    <tr>\n",
              "      <th>998</th>\n",
              "      <td>Larry</td>\n",
              "      <td>Male</td>\n",
              "      <td>60500.0</td>\n",
              "      <td>11.985</td>\n",
              "      <td>False</td>\n",
              "      <td>Business Development</td>\n",
              "      <td>NaN</td>\n",
              "      <td>60500.000000</td>\n",
              "    </tr>\n",
              "    <tr>\n",
              "      <th>999</th>\n",
              "      <td>Albert</td>\n",
              "      <td>Male</td>\n",
              "      <td>129949.0</td>\n",
              "      <td>qqqqq</td>\n",
              "      <td>True</td>\n",
              "      <td>Sales</td>\n",
              "      <td>qqqqqqqqqq</td>\n",
              "      <td>129949.000000</td>\n",
              "    </tr>\n",
              "  </tbody>\n",
              "</table>\n",
              "<p>1000 rows × 8 columns</p>\n",
              "</div>"
            ],
            "text/plain": [
              "    v_first_name v_gender  c_salary c_bonus_% v_senior_mana  \\\n",
              "0            NaN     Male   97308.0     6.945          True   \n",
              "1            NaN     Male   61933.0       NaN          True   \n",
              "2            NaN   Female  130590.0    11.858         False   \n",
              "3          Jerry     Male       NaN      9.34          True   \n",
              "4          Larry     Male  101004.0     1.389          True   \n",
              "..           ...      ...       ...       ...           ...   \n",
              "995        Henry      NaN  132483.0    16.655         False   \n",
              "996      Phillip     Male   42392.0    19.675         False   \n",
              "997      Russell     Male   96914.0     1.421         False   \n",
              "998        Larry     Male   60500.0    11.985         False   \n",
              "999       Albert     Male  129949.0     qqqqq          True   \n",
              "\n",
              "                   v_team     c_bonus_2     c_salary_1  \n",
              "0               Marketing           NaN   97308.000000  \n",
              "1                     NaN           NaN   61933.000000  \n",
              "2                   0.112  11.85811.858  130590.000000  \n",
              "3                 Finance      9.349.34   90518.860887  \n",
              "4         Client Services    1.3891.389  101004.000000  \n",
              "..                    ...           ...            ...  \n",
              "995          Distribution           NaN  132483.000000  \n",
              "996               Finance  19.67519.675   42392.000000  \n",
              "997               Product           NaN   96914.000000  \n",
              "998  Business Development           NaN   60500.000000  \n",
              "999                 Sales    qqqqqqqqqq  129949.000000  \n",
              "\n",
              "[1000 rows x 8 columns]"
            ]
          },
          "metadata": {
            "tags": []
          },
          "execution_count": 155
        }
      ]
    },
    {
      "cell_type": "markdown",
      "metadata": {
        "id": "quaDTMjzAadD"
      },
      "source": [
        "#### ¿Cómo sabes cúal es el mejor método?"
      ]
    },
    {
      "cell_type": "code",
      "metadata": {
        "ExecuteTime": {
          "end_time": "2020-11-05T02:56:50.415465Z",
          "start_time": "2020-11-05T02:56:50.410010Z"
        },
        "id": "8wBWm89aAadD"
      },
      "source": [
        "#HIPOTESIS NULA, AMBAS MUESTRAS PROVIENEN DE LA MISMA DISTRIBUCIÓN\n",
        "from scipy import stats"
      ],
      "execution_count": 156,
      "outputs": []
    },
    {
      "cell_type": "code",
      "metadata": {
        "ExecuteTime": {
          "end_time": "2020-11-05T02:57:11.116578Z",
          "start_time": "2020-11-05T02:57:11.100470Z"
        },
        "id": "l13dxYLfAadG"
      },
      "source": [
        "#Creamos conjuntos para el ejemplo\n",
        "values=list(df[\"c_salary\"].mask(np.random.random(df[\"c_salary\"].shape)<0.1).fillna(mean).values)\n",
        "originales=list(df[\"c_salary\"].dropna().values)"
      ],
      "execution_count": 157,
      "outputs": []
    },
    {
      "cell_type": "code",
      "metadata": {
        "ExecuteTime": {
          "end_time": "2020-11-05T02:57:11.582674Z",
          "start_time": "2020-11-05T02:57:11.533114Z"
        },
        "id": "_3_oubmZAadI",
        "outputId": "302c5621-11ca-49a8-e0ff-f11d1e44cd62",
        "colab": {
          "base_uri": "https://localhost:8080/"
        }
      },
      "source": [
        "#Prueba de KS para verificar que tanto los valores con NA y el conjunto NA\n",
        "#Provengan de la misma distribución\n",
        "stats.ks_2samp(originales, values)"
      ],
      "execution_count": 158,
      "outputs": [
        {
          "output_type": "execute_result",
          "data": {
            "text/plain": [
              "Ks_2sampResult(statistic=0.0559758064516129, pvalue=0.08362817682822166)"
            ]
          },
          "metadata": {
            "tags": []
          },
          "execution_count": 158
        }
      ]
    },
    {
      "cell_type": "code",
      "metadata": {
        "ExecuteTime": {
          "end_time": "2020-11-05T02:56:59.124931Z",
          "start_time": "2020-11-05T02:56:59.103756Z"
        },
        "id": "6wD0dhjLAadL"
      },
      "source": [
        "values=list(df[\"c_salary\"].mask(np.random.random(df[\"c_salary\"].shape)<0.5).fillna(.2828282).values)\n",
        "originales=list(df[\"c_salary\"].dropna().values)"
      ],
      "execution_count": 159,
      "outputs": []
    },
    {
      "cell_type": "code",
      "metadata": {
        "ExecuteTime": {
          "end_time": "2020-11-05T02:56:59.820338Z",
          "start_time": "2020-11-05T02:56:59.522069Z"
        },
        "id": "D0GFJTpqAadM",
        "outputId": "d6538dcc-5c65-4dba-8687-fa13032330ba",
        "colab": {
          "base_uri": "https://localhost:8080/"
        }
      },
      "source": [
        "stats.ks_2samp(originales, values)"
      ],
      "execution_count": 160,
      "outputs": [
        {
          "output_type": "execute_result",
          "data": {
            "text/plain": [
              "Ks_2sampResult(statistic=0.522, pvalue=3.1086244689504383e-15)"
            ]
          },
          "metadata": {
            "tags": []
          },
          "execution_count": 160
        }
      ]
    },
    {
      "cell_type": "markdown",
      "metadata": {
        "id": "I8-iff7jAadO"
      },
      "source": [
        "### DISCRETAS"
      ]
    },
    {
      "cell_type": "code",
      "metadata": {
        "ExecuteTime": {
          "end_time": "2020-11-05T03:06:16.343062Z",
          "start_time": "2020-11-05T03:06:16.302385Z"
        },
        "id": "ys0Gl2FyAadP",
        "outputId": "87762b3a-4f19-4ef6-9f38-b858ca826057",
        "colab": {
          "base_uri": "https://localhost:8080/",
          "height": 419
        }
      },
      "source": [
        "#Nos quedamos con la variables categoricas\n",
        "df.filter(like=\"v_\")"
      ],
      "execution_count": 161,
      "outputs": [
        {
          "output_type": "execute_result",
          "data": {
            "text/html": [
              "<div>\n",
              "<style scoped>\n",
              "    .dataframe tbody tr th:only-of-type {\n",
              "        vertical-align: middle;\n",
              "    }\n",
              "\n",
              "    .dataframe tbody tr th {\n",
              "        vertical-align: top;\n",
              "    }\n",
              "\n",
              "    .dataframe thead th {\n",
              "        text-align: right;\n",
              "    }\n",
              "</style>\n",
              "<table border=\"1\" class=\"dataframe\">\n",
              "  <thead>\n",
              "    <tr style=\"text-align: right;\">\n",
              "      <th></th>\n",
              "      <th>v_first_name</th>\n",
              "      <th>v_gender</th>\n",
              "      <th>v_senior_mana</th>\n",
              "      <th>v_team</th>\n",
              "    </tr>\n",
              "  </thead>\n",
              "  <tbody>\n",
              "    <tr>\n",
              "      <th>0</th>\n",
              "      <td>NaN</td>\n",
              "      <td>Male</td>\n",
              "      <td>True</td>\n",
              "      <td>Marketing</td>\n",
              "    </tr>\n",
              "    <tr>\n",
              "      <th>1</th>\n",
              "      <td>NaN</td>\n",
              "      <td>Male</td>\n",
              "      <td>True</td>\n",
              "      <td>NaN</td>\n",
              "    </tr>\n",
              "    <tr>\n",
              "      <th>2</th>\n",
              "      <td>NaN</td>\n",
              "      <td>Female</td>\n",
              "      <td>False</td>\n",
              "      <td>0.112</td>\n",
              "    </tr>\n",
              "    <tr>\n",
              "      <th>3</th>\n",
              "      <td>Jerry</td>\n",
              "      <td>Male</td>\n",
              "      <td>True</td>\n",
              "      <td>Finance</td>\n",
              "    </tr>\n",
              "    <tr>\n",
              "      <th>4</th>\n",
              "      <td>Larry</td>\n",
              "      <td>Male</td>\n",
              "      <td>True</td>\n",
              "      <td>Client Services</td>\n",
              "    </tr>\n",
              "    <tr>\n",
              "      <th>...</th>\n",
              "      <td>...</td>\n",
              "      <td>...</td>\n",
              "      <td>...</td>\n",
              "      <td>...</td>\n",
              "    </tr>\n",
              "    <tr>\n",
              "      <th>995</th>\n",
              "      <td>Henry</td>\n",
              "      <td>NaN</td>\n",
              "      <td>False</td>\n",
              "      <td>Distribution</td>\n",
              "    </tr>\n",
              "    <tr>\n",
              "      <th>996</th>\n",
              "      <td>Phillip</td>\n",
              "      <td>Male</td>\n",
              "      <td>False</td>\n",
              "      <td>Finance</td>\n",
              "    </tr>\n",
              "    <tr>\n",
              "      <th>997</th>\n",
              "      <td>Russell</td>\n",
              "      <td>Male</td>\n",
              "      <td>False</td>\n",
              "      <td>Product</td>\n",
              "    </tr>\n",
              "    <tr>\n",
              "      <th>998</th>\n",
              "      <td>Larry</td>\n",
              "      <td>Male</td>\n",
              "      <td>False</td>\n",
              "      <td>Business Development</td>\n",
              "    </tr>\n",
              "    <tr>\n",
              "      <th>999</th>\n",
              "      <td>Albert</td>\n",
              "      <td>Male</td>\n",
              "      <td>True</td>\n",
              "      <td>Sales</td>\n",
              "    </tr>\n",
              "  </tbody>\n",
              "</table>\n",
              "<p>1000 rows × 4 columns</p>\n",
              "</div>"
            ],
            "text/plain": [
              "    v_first_name v_gender v_senior_mana                v_team\n",
              "0            NaN     Male          True             Marketing\n",
              "1            NaN     Male          True                   NaN\n",
              "2            NaN   Female         False                 0.112\n",
              "3          Jerry     Male          True               Finance\n",
              "4          Larry     Male          True       Client Services\n",
              "..           ...      ...           ...                   ...\n",
              "995        Henry      NaN         False          Distribution\n",
              "996      Phillip     Male         False               Finance\n",
              "997      Russell     Male         False               Product\n",
              "998        Larry     Male         False  Business Development\n",
              "999       Albert     Male          True                 Sales\n",
              "\n",
              "[1000 rows x 4 columns]"
            ]
          },
          "metadata": {
            "tags": []
          },
          "execution_count": 161
        }
      ]
    },
    {
      "cell_type": "code",
      "metadata": {
        "ExecuteTime": {
          "end_time": "2020-11-05T03:08:39.081891Z",
          "start_time": "2020-11-05T03:08:39.058475Z"
        },
        "id": "ZApLAWgdAadR",
        "outputId": "a317e2df-990a-4e34-989a-2b168382bd27",
        "colab": {
          "base_uri": "https://localhost:8080/"
        }
      },
      "source": [
        "df[\"v_gender\"].value_counts()"
      ],
      "execution_count": 162,
      "outputs": [
        {
          "output_type": "execute_result",
          "data": {
            "text/plain": [
              "Female    426\n",
              "Male      423\n",
              "Name: v_gender, dtype: int64"
            ]
          },
          "metadata": {
            "tags": []
          },
          "execution_count": 162
        }
      ]
    },
    {
      "cell_type": "code",
      "metadata": {
        "ExecuteTime": {
          "end_time": "2020-11-05T03:08:28.110312Z",
          "start_time": "2020-11-05T03:08:28.102701Z"
        },
        "id": "UtDVJiXKAadT"
      },
      "source": [
        "#Mas frecuente\n",
        "imp = SimpleImputer(strategy=\"most_frequent\")"
      ],
      "execution_count": 163,
      "outputs": []
    },
    {
      "cell_type": "code",
      "metadata": {
        "ExecuteTime": {
          "end_time": "2020-11-05T03:08:58.076166Z",
          "start_time": "2020-11-05T03:08:58.040288Z"
        },
        "id": "llxa1ckhAadV"
      },
      "source": [
        "df[\"v_gender_1\"]=imp.fit_transform(df[[\"v_gender\"]])"
      ],
      "execution_count": 164,
      "outputs": []
    },
    {
      "cell_type": "code",
      "metadata": {
        "ExecuteTime": {
          "end_time": "2020-11-05T03:09:29.147416Z",
          "start_time": "2020-11-05T03:09:29.134727Z"
        },
        "id": "pyYVtHCyAadX"
      },
      "source": [
        "df[\"v_gender_1\"]=df[\"v_gender\"].fillna(\"Female\")"
      ],
      "execution_count": 165,
      "outputs": []
    },
    {
      "cell_type": "code",
      "metadata": {
        "ExecuteTime": {
          "end_time": "2020-11-05T03:09:30.570627Z",
          "start_time": "2020-11-05T03:09:30.510996Z"
        },
        "id": "19ZFse_qAadZ",
        "outputId": "9d919853-72b2-463c-d79e-983baa3fe072",
        "colab": {
          "base_uri": "https://localhost:8080/",
          "height": 436
        }
      },
      "source": [
        "df"
      ],
      "execution_count": 166,
      "outputs": [
        {
          "output_type": "execute_result",
          "data": {
            "text/html": [
              "<div>\n",
              "<style scoped>\n",
              "    .dataframe tbody tr th:only-of-type {\n",
              "        vertical-align: middle;\n",
              "    }\n",
              "\n",
              "    .dataframe tbody tr th {\n",
              "        vertical-align: top;\n",
              "    }\n",
              "\n",
              "    .dataframe thead th {\n",
              "        text-align: right;\n",
              "    }\n",
              "</style>\n",
              "<table border=\"1\" class=\"dataframe\">\n",
              "  <thead>\n",
              "    <tr style=\"text-align: right;\">\n",
              "      <th></th>\n",
              "      <th>v_first_name</th>\n",
              "      <th>v_gender</th>\n",
              "      <th>c_salary</th>\n",
              "      <th>c_bonus_%</th>\n",
              "      <th>v_senior_mana</th>\n",
              "      <th>v_team</th>\n",
              "      <th>c_bonus_2</th>\n",
              "      <th>c_salary_1</th>\n",
              "      <th>v_gender_1</th>\n",
              "    </tr>\n",
              "  </thead>\n",
              "  <tbody>\n",
              "    <tr>\n",
              "      <th>0</th>\n",
              "      <td>NaN</td>\n",
              "      <td>Male</td>\n",
              "      <td>97308.0</td>\n",
              "      <td>6.945</td>\n",
              "      <td>True</td>\n",
              "      <td>Marketing</td>\n",
              "      <td>NaN</td>\n",
              "      <td>97308.000000</td>\n",
              "      <td>Male</td>\n",
              "    </tr>\n",
              "    <tr>\n",
              "      <th>1</th>\n",
              "      <td>NaN</td>\n",
              "      <td>Male</td>\n",
              "      <td>61933.0</td>\n",
              "      <td>NaN</td>\n",
              "      <td>True</td>\n",
              "      <td>NaN</td>\n",
              "      <td>NaN</td>\n",
              "      <td>61933.000000</td>\n",
              "      <td>Male</td>\n",
              "    </tr>\n",
              "    <tr>\n",
              "      <th>2</th>\n",
              "      <td>NaN</td>\n",
              "      <td>Female</td>\n",
              "      <td>130590.0</td>\n",
              "      <td>11.858</td>\n",
              "      <td>False</td>\n",
              "      <td>0.112</td>\n",
              "      <td>11.85811.858</td>\n",
              "      <td>130590.000000</td>\n",
              "      <td>Female</td>\n",
              "    </tr>\n",
              "    <tr>\n",
              "      <th>3</th>\n",
              "      <td>Jerry</td>\n",
              "      <td>Male</td>\n",
              "      <td>NaN</td>\n",
              "      <td>9.34</td>\n",
              "      <td>True</td>\n",
              "      <td>Finance</td>\n",
              "      <td>9.349.34</td>\n",
              "      <td>90518.860887</td>\n",
              "      <td>Male</td>\n",
              "    </tr>\n",
              "    <tr>\n",
              "      <th>4</th>\n",
              "      <td>Larry</td>\n",
              "      <td>Male</td>\n",
              "      <td>101004.0</td>\n",
              "      <td>1.389</td>\n",
              "      <td>True</td>\n",
              "      <td>Client Services</td>\n",
              "      <td>1.3891.389</td>\n",
              "      <td>101004.000000</td>\n",
              "      <td>Male</td>\n",
              "    </tr>\n",
              "    <tr>\n",
              "      <th>...</th>\n",
              "      <td>...</td>\n",
              "      <td>...</td>\n",
              "      <td>...</td>\n",
              "      <td>...</td>\n",
              "      <td>...</td>\n",
              "      <td>...</td>\n",
              "      <td>...</td>\n",
              "      <td>...</td>\n",
              "      <td>...</td>\n",
              "    </tr>\n",
              "    <tr>\n",
              "      <th>995</th>\n",
              "      <td>Henry</td>\n",
              "      <td>NaN</td>\n",
              "      <td>132483.0</td>\n",
              "      <td>16.655</td>\n",
              "      <td>False</td>\n",
              "      <td>Distribution</td>\n",
              "      <td>NaN</td>\n",
              "      <td>132483.000000</td>\n",
              "      <td>Female</td>\n",
              "    </tr>\n",
              "    <tr>\n",
              "      <th>996</th>\n",
              "      <td>Phillip</td>\n",
              "      <td>Male</td>\n",
              "      <td>42392.0</td>\n",
              "      <td>19.675</td>\n",
              "      <td>False</td>\n",
              "      <td>Finance</td>\n",
              "      <td>19.67519.675</td>\n",
              "      <td>42392.000000</td>\n",
              "      <td>Male</td>\n",
              "    </tr>\n",
              "    <tr>\n",
              "      <th>997</th>\n",
              "      <td>Russell</td>\n",
              "      <td>Male</td>\n",
              "      <td>96914.0</td>\n",
              "      <td>1.421</td>\n",
              "      <td>False</td>\n",
              "      <td>Product</td>\n",
              "      <td>NaN</td>\n",
              "      <td>96914.000000</td>\n",
              "      <td>Male</td>\n",
              "    </tr>\n",
              "    <tr>\n",
              "      <th>998</th>\n",
              "      <td>Larry</td>\n",
              "      <td>Male</td>\n",
              "      <td>60500.0</td>\n",
              "      <td>11.985</td>\n",
              "      <td>False</td>\n",
              "      <td>Business Development</td>\n",
              "      <td>NaN</td>\n",
              "      <td>60500.000000</td>\n",
              "      <td>Male</td>\n",
              "    </tr>\n",
              "    <tr>\n",
              "      <th>999</th>\n",
              "      <td>Albert</td>\n",
              "      <td>Male</td>\n",
              "      <td>129949.0</td>\n",
              "      <td>qqqqq</td>\n",
              "      <td>True</td>\n",
              "      <td>Sales</td>\n",
              "      <td>qqqqqqqqqq</td>\n",
              "      <td>129949.000000</td>\n",
              "      <td>Male</td>\n",
              "    </tr>\n",
              "  </tbody>\n",
              "</table>\n",
              "<p>1000 rows × 9 columns</p>\n",
              "</div>"
            ],
            "text/plain": [
              "    v_first_name v_gender  c_salary c_bonus_% v_senior_mana  \\\n",
              "0            NaN     Male   97308.0     6.945          True   \n",
              "1            NaN     Male   61933.0       NaN          True   \n",
              "2            NaN   Female  130590.0    11.858         False   \n",
              "3          Jerry     Male       NaN      9.34          True   \n",
              "4          Larry     Male  101004.0     1.389          True   \n",
              "..           ...      ...       ...       ...           ...   \n",
              "995        Henry      NaN  132483.0    16.655         False   \n",
              "996      Phillip     Male   42392.0    19.675         False   \n",
              "997      Russell     Male   96914.0     1.421         False   \n",
              "998        Larry     Male   60500.0    11.985         False   \n",
              "999       Albert     Male  129949.0     qqqqq          True   \n",
              "\n",
              "                   v_team     c_bonus_2     c_salary_1 v_gender_1  \n",
              "0               Marketing           NaN   97308.000000       Male  \n",
              "1                     NaN           NaN   61933.000000       Male  \n",
              "2                   0.112  11.85811.858  130590.000000     Female  \n",
              "3                 Finance      9.349.34   90518.860887       Male  \n",
              "4         Client Services    1.3891.389  101004.000000       Male  \n",
              "..                    ...           ...            ...        ...  \n",
              "995          Distribution           NaN  132483.000000     Female  \n",
              "996               Finance  19.67519.675   42392.000000       Male  \n",
              "997               Product           NaN   96914.000000       Male  \n",
              "998  Business Development           NaN   60500.000000       Male  \n",
              "999                 Sales    qqqqqqqqqq  129949.000000       Male  \n",
              "\n",
              "[1000 rows x 9 columns]"
            ]
          },
          "metadata": {
            "tags": []
          },
          "execution_count": 166
        }
      ]
    },
    {
      "cell_type": "code",
      "metadata": {
        "ExecuteTime": {
          "end_time": "2020-11-05T03:09:44.220972Z",
          "start_time": "2020-11-05T03:09:44.215372Z"
        },
        "id": "9p4cER1rAade"
      },
      "source": [
        "#Con el valor de \"MISSING\" "
      ],
      "execution_count": 167,
      "outputs": []
    },
    {
      "cell_type": "code",
      "metadata": {
        "ExecuteTime": {
          "end_time": "2020-11-05T03:09:58.994190Z",
          "start_time": "2020-11-05T03:09:58.984529Z"
        },
        "id": "bD7qm6atAadf"
      },
      "source": [
        "df[\"v_gender_2\"]=df[\"v_gender\"].fillna(\"Missing\")"
      ],
      "execution_count": 168,
      "outputs": []
    },
    {
      "cell_type": "code",
      "metadata": {
        "ExecuteTime": {
          "end_time": "2020-11-05T03:10:00.771051Z",
          "start_time": "2020-11-05T03:10:00.700644Z"
        },
        "id": "aTIiTIF0Aadh",
        "outputId": "9b1b63de-3043-4b68-ff45-d8a52cd6c80b",
        "colab": {
          "base_uri": "https://localhost:8080/",
          "height": 473
        }
      },
      "source": [
        "df"
      ],
      "execution_count": 169,
      "outputs": [
        {
          "output_type": "execute_result",
          "data": {
            "text/html": [
              "<div>\n",
              "<style scoped>\n",
              "    .dataframe tbody tr th:only-of-type {\n",
              "        vertical-align: middle;\n",
              "    }\n",
              "\n",
              "    .dataframe tbody tr th {\n",
              "        vertical-align: top;\n",
              "    }\n",
              "\n",
              "    .dataframe thead th {\n",
              "        text-align: right;\n",
              "    }\n",
              "</style>\n",
              "<table border=\"1\" class=\"dataframe\">\n",
              "  <thead>\n",
              "    <tr style=\"text-align: right;\">\n",
              "      <th></th>\n",
              "      <th>v_first_name</th>\n",
              "      <th>v_gender</th>\n",
              "      <th>c_salary</th>\n",
              "      <th>c_bonus_%</th>\n",
              "      <th>v_senior_mana</th>\n",
              "      <th>v_team</th>\n",
              "      <th>c_bonus_2</th>\n",
              "      <th>c_salary_1</th>\n",
              "      <th>v_gender_1</th>\n",
              "      <th>v_gender_2</th>\n",
              "    </tr>\n",
              "  </thead>\n",
              "  <tbody>\n",
              "    <tr>\n",
              "      <th>0</th>\n",
              "      <td>NaN</td>\n",
              "      <td>Male</td>\n",
              "      <td>97308.0</td>\n",
              "      <td>6.945</td>\n",
              "      <td>True</td>\n",
              "      <td>Marketing</td>\n",
              "      <td>NaN</td>\n",
              "      <td>97308.000000</td>\n",
              "      <td>Male</td>\n",
              "      <td>Male</td>\n",
              "    </tr>\n",
              "    <tr>\n",
              "      <th>1</th>\n",
              "      <td>NaN</td>\n",
              "      <td>Male</td>\n",
              "      <td>61933.0</td>\n",
              "      <td>NaN</td>\n",
              "      <td>True</td>\n",
              "      <td>NaN</td>\n",
              "      <td>NaN</td>\n",
              "      <td>61933.000000</td>\n",
              "      <td>Male</td>\n",
              "      <td>Male</td>\n",
              "    </tr>\n",
              "    <tr>\n",
              "      <th>2</th>\n",
              "      <td>NaN</td>\n",
              "      <td>Female</td>\n",
              "      <td>130590.0</td>\n",
              "      <td>11.858</td>\n",
              "      <td>False</td>\n",
              "      <td>0.112</td>\n",
              "      <td>11.85811.858</td>\n",
              "      <td>130590.000000</td>\n",
              "      <td>Female</td>\n",
              "      <td>Female</td>\n",
              "    </tr>\n",
              "    <tr>\n",
              "      <th>3</th>\n",
              "      <td>Jerry</td>\n",
              "      <td>Male</td>\n",
              "      <td>NaN</td>\n",
              "      <td>9.34</td>\n",
              "      <td>True</td>\n",
              "      <td>Finance</td>\n",
              "      <td>9.349.34</td>\n",
              "      <td>90518.860887</td>\n",
              "      <td>Male</td>\n",
              "      <td>Male</td>\n",
              "    </tr>\n",
              "    <tr>\n",
              "      <th>4</th>\n",
              "      <td>Larry</td>\n",
              "      <td>Male</td>\n",
              "      <td>101004.0</td>\n",
              "      <td>1.389</td>\n",
              "      <td>True</td>\n",
              "      <td>Client Services</td>\n",
              "      <td>1.3891.389</td>\n",
              "      <td>101004.000000</td>\n",
              "      <td>Male</td>\n",
              "      <td>Male</td>\n",
              "    </tr>\n",
              "    <tr>\n",
              "      <th>...</th>\n",
              "      <td>...</td>\n",
              "      <td>...</td>\n",
              "      <td>...</td>\n",
              "      <td>...</td>\n",
              "      <td>...</td>\n",
              "      <td>...</td>\n",
              "      <td>...</td>\n",
              "      <td>...</td>\n",
              "      <td>...</td>\n",
              "      <td>...</td>\n",
              "    </tr>\n",
              "    <tr>\n",
              "      <th>995</th>\n",
              "      <td>Henry</td>\n",
              "      <td>NaN</td>\n",
              "      <td>132483.0</td>\n",
              "      <td>16.655</td>\n",
              "      <td>False</td>\n",
              "      <td>Distribution</td>\n",
              "      <td>NaN</td>\n",
              "      <td>132483.000000</td>\n",
              "      <td>Female</td>\n",
              "      <td>Missing</td>\n",
              "    </tr>\n",
              "    <tr>\n",
              "      <th>996</th>\n",
              "      <td>Phillip</td>\n",
              "      <td>Male</td>\n",
              "      <td>42392.0</td>\n",
              "      <td>19.675</td>\n",
              "      <td>False</td>\n",
              "      <td>Finance</td>\n",
              "      <td>19.67519.675</td>\n",
              "      <td>42392.000000</td>\n",
              "      <td>Male</td>\n",
              "      <td>Male</td>\n",
              "    </tr>\n",
              "    <tr>\n",
              "      <th>997</th>\n",
              "      <td>Russell</td>\n",
              "      <td>Male</td>\n",
              "      <td>96914.0</td>\n",
              "      <td>1.421</td>\n",
              "      <td>False</td>\n",
              "      <td>Product</td>\n",
              "      <td>NaN</td>\n",
              "      <td>96914.000000</td>\n",
              "      <td>Male</td>\n",
              "      <td>Male</td>\n",
              "    </tr>\n",
              "    <tr>\n",
              "      <th>998</th>\n",
              "      <td>Larry</td>\n",
              "      <td>Male</td>\n",
              "      <td>60500.0</td>\n",
              "      <td>11.985</td>\n",
              "      <td>False</td>\n",
              "      <td>Business Development</td>\n",
              "      <td>NaN</td>\n",
              "      <td>60500.000000</td>\n",
              "      <td>Male</td>\n",
              "      <td>Male</td>\n",
              "    </tr>\n",
              "    <tr>\n",
              "      <th>999</th>\n",
              "      <td>Albert</td>\n",
              "      <td>Male</td>\n",
              "      <td>129949.0</td>\n",
              "      <td>qqqqq</td>\n",
              "      <td>True</td>\n",
              "      <td>Sales</td>\n",
              "      <td>qqqqqqqqqq</td>\n",
              "      <td>129949.000000</td>\n",
              "      <td>Male</td>\n",
              "      <td>Male</td>\n",
              "    </tr>\n",
              "  </tbody>\n",
              "</table>\n",
              "<p>1000 rows × 10 columns</p>\n",
              "</div>"
            ],
            "text/plain": [
              "    v_first_name v_gender  c_salary c_bonus_% v_senior_mana  \\\n",
              "0            NaN     Male   97308.0     6.945          True   \n",
              "1            NaN     Male   61933.0       NaN          True   \n",
              "2            NaN   Female  130590.0    11.858         False   \n",
              "3          Jerry     Male       NaN      9.34          True   \n",
              "4          Larry     Male  101004.0     1.389          True   \n",
              "..           ...      ...       ...       ...           ...   \n",
              "995        Henry      NaN  132483.0    16.655         False   \n",
              "996      Phillip     Male   42392.0    19.675         False   \n",
              "997      Russell     Male   96914.0     1.421         False   \n",
              "998        Larry     Male   60500.0    11.985         False   \n",
              "999       Albert     Male  129949.0     qqqqq          True   \n",
              "\n",
              "                   v_team     c_bonus_2     c_salary_1 v_gender_1 v_gender_2  \n",
              "0               Marketing           NaN   97308.000000       Male       Male  \n",
              "1                     NaN           NaN   61933.000000       Male       Male  \n",
              "2                   0.112  11.85811.858  130590.000000     Female     Female  \n",
              "3                 Finance      9.349.34   90518.860887       Male       Male  \n",
              "4         Client Services    1.3891.389  101004.000000       Male       Male  \n",
              "..                    ...           ...            ...        ...        ...  \n",
              "995          Distribution           NaN  132483.000000     Female    Missing  \n",
              "996               Finance  19.67519.675   42392.000000       Male       Male  \n",
              "997               Product           NaN   96914.000000       Male       Male  \n",
              "998  Business Development           NaN   60500.000000       Male       Male  \n",
              "999                 Sales    qqqqqqqqqq  129949.000000       Male       Male  \n",
              "\n",
              "[1000 rows x 10 columns]"
            ]
          },
          "metadata": {
            "tags": []
          },
          "execution_count": 169
        }
      ]
    },
    {
      "cell_type": "markdown",
      "metadata": {
        "id": "VWMhGCB_Aadl"
      },
      "source": [
        "### SERIES DE TIEMPO"
      ]
    },
    {
      "cell_type": "code",
      "metadata": {
        "ExecuteTime": {
          "end_time": "2020-11-05T04:43:45.879543Z",
          "start_time": "2020-11-05T04:43:44.642238Z"
        },
        "id": "zc2MbS4PAado"
      },
      "source": [
        "from pandas_datareader import data\n",
        "import datetime\n",
        "\n",
        "start = datetime.datetime(2010, 1, 1)\n",
        "\n",
        "end = datetime.datetime(2013, 1, 27)\n",
        "#La serie de tiempo debe estar ordenada por fecha\n",
        "df = data.DataReader(\"F\", 'yahoo', start, end)\n",
        "\n",
        "df[\"Close\"]=df[\"Close\"].mask(np.random.random(df[\"Close\"].shape)<0.1)"
      ],
      "execution_count": 170,
      "outputs": []
    },
    {
      "cell_type": "code",
      "metadata": {
        "ExecuteTime": {
          "end_time": "2020-11-05T04:29:43.158845Z",
          "start_time": "2020-11-05T04:29:42.902743Z"
        },
        "id": "SWhHvJOdAadq",
        "outputId": "05bf114d-abd7-4cb6-d2ff-835467416c29",
        "colab": {
          "base_uri": "https://localhost:8080/"
        }
      },
      "source": [
        "df.isnull().sum()"
      ],
      "execution_count": 171,
      "outputs": [
        {
          "output_type": "execute_result",
          "data": {
            "text/plain": [
              "High          0\n",
              "Low           0\n",
              "Open          0\n",
              "Close        80\n",
              "Volume        0\n",
              "Adj Close     0\n",
              "dtype: int64"
            ]
          },
          "metadata": {
            "tags": []
          },
          "execution_count": 171
        }
      ]
    },
    {
      "cell_type": "code",
      "metadata": {
        "ExecuteTime": {
          "end_time": "2020-11-05T04:29:46.364666Z",
          "start_time": "2020-11-05T04:29:45.641673Z"
        },
        "id": "0IPHwDZ_Aads",
        "outputId": "76f0bbf1-f61f-4932-d82a-6ffa95e013e2",
        "colab": {
          "base_uri": "https://localhost:8080/",
          "height": 473
        }
      },
      "source": [
        "# graficando Adj Close\n",
        "plot =df[\"Close\"].mask(np.random.random(df[\"Close\"].shape)<0.1).plot(figsize=(10, 8))"
      ],
      "execution_count": 172,
      "outputs": [
        {
          "output_type": "display_data",
          "data": {
            "image/png": "[encoded data removed]",
            "text/plain": [
              "<Figure size 720x576 with 1 Axes>"
            ]
          },
          "metadata": {
            "tags": [],
            "needs_background": "light"
          }
        }
      ]
    },
    {
      "cell_type": "code",
      "metadata": {
        "ExecuteTime": {
          "end_time": "2020-11-05T04:29:47.747489Z",
          "start_time": "2020-11-05T04:29:47.740960Z"
        },
        "id": "3QUw7PClAadv",
        "outputId": "05b2ee8b-6811-47d5-9478-a48b0fc0edb2",
        "colab": {
          "base_uri": "https://localhost:8080/"
        }
      },
      "source": [
        "import statsmodels.api as sm"
      ],
      "execution_count": 173,
      "outputs": [
        {
          "output_type": "stream",
          "text": [
            "/usr/local/lib/python3.6/dist-packages/statsmodels/tools/_testing.py:19: FutureWarning: pandas.util.testing is deprecated. Use the functions in the public API at pandas.testing instead.\n",
            "  import pandas.util.testing as tm\n"
          ],
          "name": "stderr"
        }
      ]
    },
    {
      "cell_type": "markdown",
      "metadata": {
        "id": "6OFAMEq4Aadw"
      },
      "source": [
        "#### CON TENDENCIA"
      ]
    },
    {
      "cell_type": "code",
      "metadata": {
        "ExecuteTime": {
          "end_time": "2020-11-05T04:29:54.235211Z",
          "start_time": "2020-11-05T04:29:52.009222Z"
        },
        "id": "OUmSqaWSAadx",
        "outputId": "50e053ba-2c24-4c87-a989-cbb672750dd4",
        "colab": {
          "base_uri": "https://localhost:8080/",
          "height": 298
        }
      },
      "source": [
        "# Ejemplo de descomposición de serie de tiempo\n",
        "descomposicion = sm.tsa.seasonal_decompose(df[\"Close\"].dropna(),\n",
        "                                                  model='additive', freq=30)  \n",
        "fig = descomposicion.plot()"
      ],
      "execution_count": 174,
      "outputs": [
        {
          "output_type": "display_data",
          "data": {
            "image/png": "[encoded data removed]",
            "text/plain": [
              "<Figure size 432x288 with 4 Axes>"
            ]
          },
          "metadata": {
            "tags": [],
            "needs_background": "light"
          }
        }
      ]
    },
    {
      "cell_type": "code",
      "metadata": {
        "ExecuteTime": {
          "end_time": "2020-11-05T04:38:43.725783Z",
          "start_time": "2020-11-05T04:38:43.719308Z"
        },
        "id": "BV6Kpgq6Aad0"
      },
      "source": [
        "#interpolacion lineal\n",
        "#https://es.wikipedia.org/wiki/Interpolaci%C3%B3n_lineal"
      ],
      "execution_count": 175,
      "outputs": []
    },
    {
      "cell_type": "code",
      "metadata": {
        "ExecuteTime": {
          "end_time": "2020-11-05T04:35:53.442765Z",
          "start_time": "2020-11-05T04:35:53.426097Z"
        },
        "scrolled": true,
        "id": "F8Zh42yIAad2",
        "outputId": "57078d3a-336e-42db-a82b-6a5d340abd4c",
        "colab": {
          "base_uri": "https://localhost:8080/"
        }
      },
      "source": [
        "df[\"Close\"].head(50)"
      ],
      "execution_count": 176,
      "outputs": [
        {
          "output_type": "execute_result",
          "data": {
            "text/plain": [
              "Date\n",
              "2010-01-04    10.28\n",
              "2010-01-05    10.96\n",
              "2010-01-06    11.37\n",
              "2010-01-07    11.66\n",
              "2010-01-08      NaN\n",
              "2010-01-11    12.11\n",
              "2010-01-12    11.87\n",
              "2010-01-13    11.68\n",
              "2010-01-14    11.76\n",
              "2010-01-15    11.60\n",
              "2010-01-19      NaN\n",
              "2010-01-20      NaN\n",
              "2010-01-21    11.18\n",
              "2010-01-22    10.52\n",
              "2010-01-25      NaN\n",
              "2010-01-26      NaN\n",
              "2010-01-27    11.55\n",
              "2010-01-28      NaN\n",
              "2010-01-29    10.84\n",
              "2010-02-01    11.12\n",
              "2010-02-02    11.39\n",
              "2010-02-03    11.64\n",
              "2010-02-04    11.06\n",
              "2010-02-05    10.91\n",
              "2010-02-08    10.97\n",
              "2010-02-09    11.15\n",
              "2010-02-10      NaN\n",
              "2010-02-11    11.18\n",
              "2010-02-12    11.12\n",
              "2010-02-16    11.32\n",
              "2010-02-17    11.49\n",
              "2010-02-18    11.38\n",
              "2010-02-19    11.29\n",
              "2010-02-22    11.21\n",
              "2010-02-23    11.60\n",
              "2010-02-24    11.73\n",
              "2010-02-25    11.78\n",
              "2010-02-26    11.74\n",
              "2010-03-01    12.41\n",
              "2010-03-02    12.22\n",
              "2010-03-03    12.69\n",
              "2010-03-04    12.79\n",
              "2010-03-05    13.00\n",
              "2010-03-08      NaN\n",
              "2010-03-09    12.80\n",
              "2010-03-10    12.82\n",
              "2010-03-11    12.91\n",
              "2010-03-12    13.34\n",
              "2010-03-15    13.40\n",
              "2010-03-16    13.49\n",
              "Name: Close, dtype: float64"
            ]
          },
          "metadata": {
            "tags": []
          },
          "execution_count": 176
        }
      ]
    },
    {
      "cell_type": "code",
      "metadata": {
        "ExecuteTime": {
          "end_time": "2020-11-05T04:36:04.164045Z",
          "start_time": "2020-11-05T04:36:04.143769Z"
        },
        "id": "n67_fY5XAad4",
        "outputId": "95fc75c2-13b1-413d-9b38-36dc572bef5b",
        "colab": {
          "base_uri": "https://localhost:8080/"
        }
      },
      "source": [
        "#Interpolación lineal\n",
        "df[\"Close\"].interpolate(method=\"linear\")"
      ],
      "execution_count": 177,
      "outputs": [
        {
          "output_type": "execute_result",
          "data": {
            "text/plain": [
              "Date\n",
              "2010-01-04    10.280\n",
              "2010-01-05    10.960\n",
              "2010-01-06    11.370\n",
              "2010-01-07    11.660\n",
              "2010-01-08    11.885\n",
              "               ...  \n",
              "2013-01-18    14.110\n",
              "2013-01-22    14.170\n",
              "2013-01-23    13.880\n",
              "2013-01-24    13.870\n",
              "2013-01-25    13.680\n",
              "Name: Close, Length: 771, dtype: float64"
            ]
          },
          "metadata": {
            "tags": []
          },
          "execution_count": 177
        }
      ]
    },
    {
      "cell_type": "code",
      "metadata": {
        "ExecuteTime": {
          "end_time": "2020-11-05T04:39:47.033196Z",
          "start_time": "2020-11-05T04:39:46.993639Z"
        },
        "id": "--UCJ04JAad6",
        "outputId": "ae4dad06-e61c-404a-f33b-8d38c2324747",
        "colab": {
          "base_uri": "https://localhost:8080/"
        }
      },
      "source": [
        "df[\"Close\"].interpolate(method=\"spline\",order=2)"
      ],
      "execution_count": 178,
      "outputs": [
        {
          "output_type": "execute_result",
          "data": {
            "text/plain": [
              "Date\n",
              "2010-01-04    10.280000\n",
              "2010-01-05    10.960000\n",
              "2010-01-06    11.370000\n",
              "2010-01-07    11.660000\n",
              "2010-01-08    12.557905\n",
              "                ...    \n",
              "2013-01-18    14.110000\n",
              "2013-01-22    14.170000\n",
              "2013-01-23    13.880000\n",
              "2013-01-24    13.870000\n",
              "2013-01-25    13.680000\n",
              "Name: Close, Length: 771, dtype: float64"
            ]
          },
          "metadata": {
            "tags": []
          },
          "execution_count": 178
        }
      ]
    },
    {
      "cell_type": "code",
      "metadata": {
        "ExecuteTime": {
          "end_time": "2020-11-05T04:41:33.231435Z",
          "start_time": "2020-11-05T04:41:33.216886Z"
        },
        "id": "vDMjdkq3Aad8"
      },
      "source": [
        "df = pd.DataFrame([(0.0, np.nan, -1.0, 1.0),\n",
        "                   (np.nan, 2.0, np.nan, np.nan),\n",
        "                   (2.0, 3.0, np.nan, 9.0),\n",
        "                   (np.nan, 4.0, -4.0, 16.0)],\n",
        "                  columns=list('abcd'))"
      ],
      "execution_count": 179,
      "outputs": []
    },
    {
      "cell_type": "code",
      "metadata": {
        "ExecuteTime": {
          "end_time": "2020-11-05T04:41:33.770856Z",
          "start_time": "2020-11-05T04:41:33.745198Z"
        },
        "id": "cziR6EXnAad9",
        "outputId": "1e622564-71e5-448d-81db-f5e2404414af",
        "colab": {
          "base_uri": "https://localhost:8080/",
          "height": 173
        }
      },
      "source": [
        "df"
      ],
      "execution_count": 180,
      "outputs": [
        {
          "output_type": "execute_result",
          "data": {
            "text/html": [
              "<div>\n",
              "<style scoped>\n",
              "    .dataframe tbody tr th:only-of-type {\n",
              "        vertical-align: middle;\n",
              "    }\n",
              "\n",
              "    .dataframe tbody tr th {\n",
              "        vertical-align: top;\n",
              "    }\n",
              "\n",
              "    .dataframe thead th {\n",
              "        text-align: right;\n",
              "    }\n",
              "</style>\n",
              "<table border=\"1\" class=\"dataframe\">\n",
              "  <thead>\n",
              "    <tr style=\"text-align: right;\">\n",
              "      <th></th>\n",
              "      <th>a</th>\n",
              "      <th>b</th>\n",
              "      <th>c</th>\n",
              "      <th>d</th>\n",
              "    </tr>\n",
              "  </thead>\n",
              "  <tbody>\n",
              "    <tr>\n",
              "      <th>0</th>\n",
              "      <td>0.0</td>\n",
              "      <td>NaN</td>\n",
              "      <td>-1.0</td>\n",
              "      <td>1.0</td>\n",
              "    </tr>\n",
              "    <tr>\n",
              "      <th>1</th>\n",
              "      <td>NaN</td>\n",
              "      <td>2.0</td>\n",
              "      <td>NaN</td>\n",
              "      <td>NaN</td>\n",
              "    </tr>\n",
              "    <tr>\n",
              "      <th>2</th>\n",
              "      <td>2.0</td>\n",
              "      <td>3.0</td>\n",
              "      <td>NaN</td>\n",
              "      <td>9.0</td>\n",
              "    </tr>\n",
              "    <tr>\n",
              "      <th>3</th>\n",
              "      <td>NaN</td>\n",
              "      <td>4.0</td>\n",
              "      <td>-4.0</td>\n",
              "      <td>16.0</td>\n",
              "    </tr>\n",
              "  </tbody>\n",
              "</table>\n",
              "</div>"
            ],
            "text/plain": [
              "     a    b    c     d\n",
              "0  0.0  NaN -1.0   1.0\n",
              "1  NaN  2.0  NaN   NaN\n",
              "2  2.0  3.0  NaN   9.0\n",
              "3  NaN  4.0 -4.0  16.0"
            ]
          },
          "metadata": {
            "tags": []
          },
          "execution_count": 180
        }
      ]
    },
    {
      "cell_type": "code",
      "metadata": {
        "ExecuteTime": {
          "end_time": "2020-11-05T04:41:34.307768Z",
          "start_time": "2020-11-05T04:41:34.290697Z"
        },
        "id": "B3PAm45bAad_",
        "outputId": "8472ce1f-f531-4249-8a0f-b7e9f9c632a8",
        "colab": {
          "base_uri": "https://localhost:8080/"
        }
      },
      "source": [
        "df['d'].interpolate(method='polynomial', order=2)"
      ],
      "execution_count": 181,
      "outputs": [
        {
          "output_type": "execute_result",
          "data": {
            "text/plain": [
              "0     1.0\n",
              "1     4.0\n",
              "2     9.0\n",
              "3    16.0\n",
              "Name: d, dtype: float64"
            ]
          },
          "metadata": {
            "tags": []
          },
          "execution_count": 181
        }
      ]
    },
    {
      "cell_type": "code",
      "metadata": {
        "id": "auXtZZUZ4kxW"
      },
      "source": [
        "start = datetime.datetime(2010, 1, 1)\n",
        "\n",
        "end = datetime.datetime(2013, 1, 27)\n",
        "#La serie de tiempo debe estar ordenada por fecha\n",
        "df = data.DataReader(\"F\", 'yahoo', start, end)\n",
        "\n",
        "df[\"Close\"]=df[\"Close\"].mask(np.random.random(df[\"Close\"].shape)<0.1)"
      ],
      "execution_count": 184,
      "outputs": []
    },
    {
      "cell_type": "code",
      "metadata": {
        "ExecuteTime": {
          "end_time": "2020-11-05T04:43:48.926970Z",
          "start_time": "2020-11-05T04:43:48.914853Z"
        },
        "id": "sd1DJ5zyAaeB"
      },
      "source": [
        "#FFILL (ANTERIOR)\n",
        "df[\"Close_ffill\"]=df[\"Close\"].fillna(method=\"ffill\")"
      ],
      "execution_count": 185,
      "outputs": []
    },
    {
      "cell_type": "code",
      "metadata": {
        "ExecuteTime": {
          "end_time": "2020-11-05T04:43:49.287580Z",
          "start_time": "2020-11-05T04:43:49.238926Z"
        },
        "id": "Jy1F2rAyAaeD",
        "outputId": "152f86c5-4ed5-480a-f31e-c32d5eb3ca0c",
        "colab": {
          "base_uri": "https://localhost:8080/",
          "height": 700
        }
      },
      "source": [
        "df.head(20)"
      ],
      "execution_count": 186,
      "outputs": [
        {
          "output_type": "execute_result",
          "data": {
            "text/html": [
              "<div>\n",
              "<style scoped>\n",
              "    .dataframe tbody tr th:only-of-type {\n",
              "        vertical-align: middle;\n",
              "    }\n",
              "\n",
              "    .dataframe tbody tr th {\n",
              "        vertical-align: top;\n",
              "    }\n",
              "\n",
              "    .dataframe thead th {\n",
              "        text-align: right;\n",
              "    }\n",
              "</style>\n",
              "<table border=\"1\" class=\"dataframe\">\n",
              "  <thead>\n",
              "    <tr style=\"text-align: right;\">\n",
              "      <th></th>\n",
              "      <th>High</th>\n",
              "      <th>Low</th>\n",
              "      <th>Open</th>\n",
              "      <th>Close</th>\n",
              "      <th>Volume</th>\n",
              "      <th>Adj Close</th>\n",
              "      <th>Close_ffill</th>\n",
              "    </tr>\n",
              "    <tr>\n",
              "      <th>Date</th>\n",
              "      <th></th>\n",
              "      <th></th>\n",
              "      <th></th>\n",
              "      <th></th>\n",
              "      <th></th>\n",
              "      <th></th>\n",
              "      <th></th>\n",
              "    </tr>\n",
              "  </thead>\n",
              "  <tbody>\n",
              "    <tr>\n",
              "      <th>2010-01-04</th>\n",
              "      <td>10.28</td>\n",
              "      <td>10.05</td>\n",
              "      <td>10.17</td>\n",
              "      <td>10.28</td>\n",
              "      <td>60855800.0</td>\n",
              "      <td>6.937616</td>\n",
              "      <td>10.28</td>\n",
              "    </tr>\n",
              "    <tr>\n",
              "      <th>2010-01-05</th>\n",
              "      <td>11.24</td>\n",
              "      <td>10.40</td>\n",
              "      <td>10.45</td>\n",
              "      <td>10.96</td>\n",
              "      <td>215620200.0</td>\n",
              "      <td>7.396526</td>\n",
              "      <td>10.96</td>\n",
              "    </tr>\n",
              "    <tr>\n",
              "      <th>2010-01-06</th>\n",
              "      <td>11.46</td>\n",
              "      <td>11.13</td>\n",
              "      <td>11.21</td>\n",
              "      <td>11.37</td>\n",
              "      <td>200070600.0</td>\n",
              "      <td>7.673220</td>\n",
              "      <td>11.37</td>\n",
              "    </tr>\n",
              "    <tr>\n",
              "      <th>2010-01-07</th>\n",
              "      <td>11.69</td>\n",
              "      <td>11.32</td>\n",
              "      <td>11.46</td>\n",
              "      <td>11.66</td>\n",
              "      <td>130201700.0</td>\n",
              "      <td>7.868933</td>\n",
              "      <td>11.66</td>\n",
              "    </tr>\n",
              "    <tr>\n",
              "      <th>2010-01-08</th>\n",
              "      <td>11.74</td>\n",
              "      <td>11.46</td>\n",
              "      <td>11.67</td>\n",
              "      <td>11.69</td>\n",
              "      <td>130463000.0</td>\n",
              "      <td>7.889179</td>\n",
              "      <td>11.69</td>\n",
              "    </tr>\n",
              "    <tr>\n",
              "      <th>2010-01-11</th>\n",
              "      <td>12.14</td>\n",
              "      <td>11.78</td>\n",
              "      <td>11.90</td>\n",
              "      <td>12.11</td>\n",
              "      <td>170626200.0</td>\n",
              "      <td>8.172622</td>\n",
              "      <td>12.11</td>\n",
              "    </tr>\n",
              "    <tr>\n",
              "      <th>2010-01-12</th>\n",
              "      <td>12.03</td>\n",
              "      <td>11.72</td>\n",
              "      <td>11.98</td>\n",
              "      <td>11.87</td>\n",
              "      <td>162995900.0</td>\n",
              "      <td>8.010654</td>\n",
              "      <td>11.87</td>\n",
              "    </tr>\n",
              "    <tr>\n",
              "      <th>2010-01-13</th>\n",
              "      <td>11.93</td>\n",
              "      <td>11.47</td>\n",
              "      <td>11.91</td>\n",
              "      <td>11.68</td>\n",
              "      <td>154527100.0</td>\n",
              "      <td>7.882429</td>\n",
              "      <td>11.68</td>\n",
              "    </tr>\n",
              "    <tr>\n",
              "      <th>2010-01-14</th>\n",
              "      <td>11.86</td>\n",
              "      <td>11.51</td>\n",
              "      <td>11.65</td>\n",
              "      <td>NaN</td>\n",
              "      <td>116531200.0</td>\n",
              "      <td>7.936419</td>\n",
              "      <td>11.68</td>\n",
              "    </tr>\n",
              "    <tr>\n",
              "      <th>2010-01-15</th>\n",
              "      <td>11.76</td>\n",
              "      <td>11.55</td>\n",
              "      <td>11.74</td>\n",
              "      <td>11.60</td>\n",
              "      <td>96149800.0</td>\n",
              "      <td>7.828439</td>\n",
              "      <td>11.60</td>\n",
              "    </tr>\n",
              "    <tr>\n",
              "      <th>2010-01-19</th>\n",
              "      <td>11.83</td>\n",
              "      <td>11.46</td>\n",
              "      <td>11.51</td>\n",
              "      <td>11.75</td>\n",
              "      <td>65934000.0</td>\n",
              "      <td>7.929671</td>\n",
              "      <td>11.75</td>\n",
              "    </tr>\n",
              "    <tr>\n",
              "      <th>2010-01-20</th>\n",
              "      <td>11.69</td>\n",
              "      <td>11.50</td>\n",
              "      <td>11.68</td>\n",
              "      <td>11.51</td>\n",
              "      <td>71649500.0</td>\n",
              "      <td>7.767701</td>\n",
              "      <td>11.51</td>\n",
              "    </tr>\n",
              "    <tr>\n",
              "      <th>2010-01-21</th>\n",
              "      <td>11.62</td>\n",
              "      <td>11.01</td>\n",
              "      <td>11.53</td>\n",
              "      <td>11.18</td>\n",
              "      <td>121451400.0</td>\n",
              "      <td>7.544998</td>\n",
              "      <td>11.18</td>\n",
              "    </tr>\n",
              "    <tr>\n",
              "      <th>2010-01-22</th>\n",
              "      <td>11.12</td>\n",
              "      <td>10.41</td>\n",
              "      <td>11.01</td>\n",
              "      <td>10.52</td>\n",
              "      <td>161530100.0</td>\n",
              "      <td>7.099586</td>\n",
              "      <td>10.52</td>\n",
              "    </tr>\n",
              "    <tr>\n",
              "      <th>2010-01-25</th>\n",
              "      <td>11.10</td>\n",
              "      <td>10.61</td>\n",
              "      <td>10.73</td>\n",
              "      <td>NaN</td>\n",
              "      <td>121621500.0</td>\n",
              "      <td>7.443766</td>\n",
              "      <td>10.52</td>\n",
              "    </tr>\n",
              "    <tr>\n",
              "      <th>2010-01-26</th>\n",
              "      <td>11.46</td>\n",
              "      <td>11.07</td>\n",
              "      <td>11.17</td>\n",
              "      <td>NaN</td>\n",
              "      <td>108250500.0</td>\n",
              "      <td>7.551746</td>\n",
              "      <td>10.52</td>\n",
              "    </tr>\n",
              "    <tr>\n",
              "      <th>2010-01-27</th>\n",
              "      <td>11.62</td>\n",
              "      <td>11.22</td>\n",
              "      <td>11.57</td>\n",
              "      <td>11.55</td>\n",
              "      <td>105091600.0</td>\n",
              "      <td>7.794695</td>\n",
              "      <td>11.55</td>\n",
              "    </tr>\n",
              "    <tr>\n",
              "      <th>2010-01-28</th>\n",
              "      <td>11.95</td>\n",
              "      <td>11.27</td>\n",
              "      <td>11.90</td>\n",
              "      <td>11.41</td>\n",
              "      <td>203320000.0</td>\n",
              "      <td>7.700218</td>\n",
              "      <td>11.41</td>\n",
              "    </tr>\n",
              "    <tr>\n",
              "      <th>2010-01-29</th>\n",
              "      <td>11.61</td>\n",
              "      <td>10.70</td>\n",
              "      <td>11.60</td>\n",
              "      <td>10.84</td>\n",
              "      <td>159741200.0</td>\n",
              "      <td>7.315541</td>\n",
              "      <td>10.84</td>\n",
              "    </tr>\n",
              "    <tr>\n",
              "      <th>2010-02-01</th>\n",
              "      <td>11.18</td>\n",
              "      <td>10.93</td>\n",
              "      <td>11.14</td>\n",
              "      <td>11.12</td>\n",
              "      <td>82748200.0</td>\n",
              "      <td>7.504504</td>\n",
              "      <td>11.12</td>\n",
              "    </tr>\n",
              "  </tbody>\n",
              "</table>\n",
              "</div>"
            ],
            "text/plain": [
              "             High    Low   Open  Close       Volume  Adj Close  Close_ffill\n",
              "Date                                                                       \n",
              "2010-01-04  10.28  10.05  10.17  10.28   60855800.0   6.937616        10.28\n",
              "2010-01-05  11.24  10.40  10.45  10.96  215620200.0   7.396526        10.96\n",
              "2010-01-06  11.46  11.13  11.21  11.37  200070600.0   7.673220        11.37\n",
              "2010-01-07  11.69  11.32  11.46  11.66  130201700.0   7.868933        11.66\n",
              "2010-01-08  11.74  11.46  11.67  11.69  130463000.0   7.889179        11.69\n",
              "2010-01-11  12.14  11.78  11.90  12.11  170626200.0   8.172622        12.11\n",
              "2010-01-12  12.03  11.72  11.98  11.87  162995900.0   8.010654        11.87\n",
              "2010-01-13  11.93  11.47  11.91  11.68  154527100.0   7.882429        11.68\n",
              "2010-01-14  11.86  11.51  11.65    NaN  116531200.0   7.936419        11.68\n",
              "2010-01-15  11.76  11.55  11.74  11.60   96149800.0   7.828439        11.60\n",
              "2010-01-19  11.83  11.46  11.51  11.75   65934000.0   7.929671        11.75\n",
              "2010-01-20  11.69  11.50  11.68  11.51   71649500.0   7.767701        11.51\n",
              "2010-01-21  11.62  11.01  11.53  11.18  121451400.0   7.544998        11.18\n",
              "2010-01-22  11.12  10.41  11.01  10.52  161530100.0   7.099586        10.52\n",
              "2010-01-25  11.10  10.61  10.73    NaN  121621500.0   7.443766        10.52\n",
              "2010-01-26  11.46  11.07  11.17    NaN  108250500.0   7.551746        10.52\n",
              "2010-01-27  11.62  11.22  11.57  11.55  105091600.0   7.794695        11.55\n",
              "2010-01-28  11.95  11.27  11.90  11.41  203320000.0   7.700218        11.41\n",
              "2010-01-29  11.61  10.70  11.60  10.84  159741200.0   7.315541        10.84\n",
              "2010-02-01  11.18  10.93  11.14  11.12   82748200.0   7.504504        11.12"
            ]
          },
          "metadata": {
            "tags": []
          },
          "execution_count": 186
        }
      ]
    },
    {
      "cell_type": "code",
      "metadata": {
        "ExecuteTime": {
          "end_time": "2020-11-05T04:44:25.994997Z",
          "start_time": "2020-11-05T04:44:25.985435Z"
        },
        "id": "6ROkf7CoAaeE"
      },
      "source": [
        "#BFILL (POSTERIOR)\n",
        "df[\"Close_bfill\"]=df[\"Close\"].fillna(method=\"bfill\")"
      ],
      "execution_count": 187,
      "outputs": []
    },
    {
      "cell_type": "code",
      "metadata": {
        "ExecuteTime": {
          "end_time": "2020-11-05T04:44:42.195631Z",
          "start_time": "2020-11-05T04:44:42.140300Z"
        },
        "id": "ZR-mMQxuAaeG",
        "outputId": "cb76673f-42b0-4c3c-9299-b2cdd0e1bd9b",
        "colab": {
          "base_uri": "https://localhost:8080/",
          "height": 700
        }
      },
      "source": [
        "df.head(20)"
      ],
      "execution_count": 188,
      "outputs": [
        {
          "output_type": "execute_result",
          "data": {
            "text/html": [
              "<div>\n",
              "<style scoped>\n",
              "    .dataframe tbody tr th:only-of-type {\n",
              "        vertical-align: middle;\n",
              "    }\n",
              "\n",
              "    .dataframe tbody tr th {\n",
              "        vertical-align: top;\n",
              "    }\n",
              "\n",
              "    .dataframe thead th {\n",
              "        text-align: right;\n",
              "    }\n",
              "</style>\n",
              "<table border=\"1\" class=\"dataframe\">\n",
              "  <thead>\n",
              "    <tr style=\"text-align: right;\">\n",
              "      <th></th>\n",
              "      <th>High</th>\n",
              "      <th>Low</th>\n",
              "      <th>Open</th>\n",
              "      <th>Close</th>\n",
              "      <th>Volume</th>\n",
              "      <th>Adj Close</th>\n",
              "      <th>Close_ffill</th>\n",
              "      <th>Close_bfill</th>\n",
              "    </tr>\n",
              "    <tr>\n",
              "      <th>Date</th>\n",
              "      <th></th>\n",
              "      <th></th>\n",
              "      <th></th>\n",
              "      <th></th>\n",
              "      <th></th>\n",
              "      <th></th>\n",
              "      <th></th>\n",
              "      <th></th>\n",
              "    </tr>\n",
              "  </thead>\n",
              "  <tbody>\n",
              "    <tr>\n",
              "      <th>2010-01-04</th>\n",
              "      <td>10.28</td>\n",
              "      <td>10.05</td>\n",
              "      <td>10.17</td>\n",
              "      <td>10.28</td>\n",
              "      <td>60855800.0</td>\n",
              "      <td>6.937616</td>\n",
              "      <td>10.28</td>\n",
              "      <td>10.28</td>\n",
              "    </tr>\n",
              "    <tr>\n",
              "      <th>2010-01-05</th>\n",
              "      <td>11.24</td>\n",
              "      <td>10.40</td>\n",
              "      <td>10.45</td>\n",
              "      <td>10.96</td>\n",
              "      <td>215620200.0</td>\n",
              "      <td>7.396526</td>\n",
              "      <td>10.96</td>\n",
              "      <td>10.96</td>\n",
              "    </tr>\n",
              "    <tr>\n",
              "      <th>2010-01-06</th>\n",
              "      <td>11.46</td>\n",
              "      <td>11.13</td>\n",
              "      <td>11.21</td>\n",
              "      <td>11.37</td>\n",
              "      <td>200070600.0</td>\n",
              "      <td>7.673220</td>\n",
              "      <td>11.37</td>\n",
              "      <td>11.37</td>\n",
              "    </tr>\n",
              "    <tr>\n",
              "      <th>2010-01-07</th>\n",
              "      <td>11.69</td>\n",
              "      <td>11.32</td>\n",
              "      <td>11.46</td>\n",
              "      <td>11.66</td>\n",
              "      <td>130201700.0</td>\n",
              "      <td>7.868933</td>\n",
              "      <td>11.66</td>\n",
              "      <td>11.66</td>\n",
              "    </tr>\n",
              "    <tr>\n",
              "      <th>2010-01-08</th>\n",
              "      <td>11.74</td>\n",
              "      <td>11.46</td>\n",
              "      <td>11.67</td>\n",
              "      <td>11.69</td>\n",
              "      <td>130463000.0</td>\n",
              "      <td>7.889179</td>\n",
              "      <td>11.69</td>\n",
              "      <td>11.69</td>\n",
              "    </tr>\n",
              "    <tr>\n",
              "      <th>2010-01-11</th>\n",
              "      <td>12.14</td>\n",
              "      <td>11.78</td>\n",
              "      <td>11.90</td>\n",
              "      <td>12.11</td>\n",
              "      <td>170626200.0</td>\n",
              "      <td>8.172622</td>\n",
              "      <td>12.11</td>\n",
              "      <td>12.11</td>\n",
              "    </tr>\n",
              "    <tr>\n",
              "      <th>2010-01-12</th>\n",
              "      <td>12.03</td>\n",
              "      <td>11.72</td>\n",
              "      <td>11.98</td>\n",
              "      <td>11.87</td>\n",
              "      <td>162995900.0</td>\n",
              "      <td>8.010654</td>\n",
              "      <td>11.87</td>\n",
              "      <td>11.87</td>\n",
              "    </tr>\n",
              "    <tr>\n",
              "      <th>2010-01-13</th>\n",
              "      <td>11.93</td>\n",
              "      <td>11.47</td>\n",
              "      <td>11.91</td>\n",
              "      <td>11.68</td>\n",
              "      <td>154527100.0</td>\n",
              "      <td>7.882429</td>\n",
              "      <td>11.68</td>\n",
              "      <td>11.68</td>\n",
              "    </tr>\n",
              "    <tr>\n",
              "      <th>2010-01-14</th>\n",
              "      <td>11.86</td>\n",
              "      <td>11.51</td>\n",
              "      <td>11.65</td>\n",
              "      <td>NaN</td>\n",
              "      <td>116531200.0</td>\n",
              "      <td>7.936419</td>\n",
              "      <td>11.68</td>\n",
              "      <td>11.60</td>\n",
              "    </tr>\n",
              "    <tr>\n",
              "      <th>2010-01-15</th>\n",
              "      <td>11.76</td>\n",
              "      <td>11.55</td>\n",
              "      <td>11.74</td>\n",
              "      <td>11.60</td>\n",
              "      <td>96149800.0</td>\n",
              "      <td>7.828439</td>\n",
              "      <td>11.60</td>\n",
              "      <td>11.60</td>\n",
              "    </tr>\n",
              "    <tr>\n",
              "      <th>2010-01-19</th>\n",
              "      <td>11.83</td>\n",
              "      <td>11.46</td>\n",
              "      <td>11.51</td>\n",
              "      <td>11.75</td>\n",
              "      <td>65934000.0</td>\n",
              "      <td>7.929671</td>\n",
              "      <td>11.75</td>\n",
              "      <td>11.75</td>\n",
              "    </tr>\n",
              "    <tr>\n",
              "      <th>2010-01-20</th>\n",
              "      <td>11.69</td>\n",
              "      <td>11.50</td>\n",
              "      <td>11.68</td>\n",
              "      <td>11.51</td>\n",
              "      <td>71649500.0</td>\n",
              "      <td>7.767701</td>\n",
              "      <td>11.51</td>\n",
              "      <td>11.51</td>\n",
              "    </tr>\n",
              "    <tr>\n",
              "      <th>2010-01-21</th>\n",
              "      <td>11.62</td>\n",
              "      <td>11.01</td>\n",
              "      <td>11.53</td>\n",
              "      <td>11.18</td>\n",
              "      <td>121451400.0</td>\n",
              "      <td>7.544998</td>\n",
              "      <td>11.18</td>\n",
              "      <td>11.18</td>\n",
              "    </tr>\n",
              "    <tr>\n",
              "      <th>2010-01-22</th>\n",
              "      <td>11.12</td>\n",
              "      <td>10.41</td>\n",
              "      <td>11.01</td>\n",
              "      <td>10.52</td>\n",
              "      <td>161530100.0</td>\n",
              "      <td>7.099586</td>\n",
              "      <td>10.52</td>\n",
              "      <td>10.52</td>\n",
              "    </tr>\n",
              "    <tr>\n",
              "      <th>2010-01-25</th>\n",
              "      <td>11.10</td>\n",
              "      <td>10.61</td>\n",
              "      <td>10.73</td>\n",
              "      <td>NaN</td>\n",
              "      <td>121621500.0</td>\n",
              "      <td>7.443766</td>\n",
              "      <td>10.52</td>\n",
              "      <td>11.55</td>\n",
              "    </tr>\n",
              "    <tr>\n",
              "      <th>2010-01-26</th>\n",
              "      <td>11.46</td>\n",
              "      <td>11.07</td>\n",
              "      <td>11.17</td>\n",
              "      <td>NaN</td>\n",
              "      <td>108250500.0</td>\n",
              "      <td>7.551746</td>\n",
              "      <td>10.52</td>\n",
              "      <td>11.55</td>\n",
              "    </tr>\n",
              "    <tr>\n",
              "      <th>2010-01-27</th>\n",
              "      <td>11.62</td>\n",
              "      <td>11.22</td>\n",
              "      <td>11.57</td>\n",
              "      <td>11.55</td>\n",
              "      <td>105091600.0</td>\n",
              "      <td>7.794695</td>\n",
              "      <td>11.55</td>\n",
              "      <td>11.55</td>\n",
              "    </tr>\n",
              "    <tr>\n",
              "      <th>2010-01-28</th>\n",
              "      <td>11.95</td>\n",
              "      <td>11.27</td>\n",
              "      <td>11.90</td>\n",
              "      <td>11.41</td>\n",
              "      <td>203320000.0</td>\n",
              "      <td>7.700218</td>\n",
              "      <td>11.41</td>\n",
              "      <td>11.41</td>\n",
              "    </tr>\n",
              "    <tr>\n",
              "      <th>2010-01-29</th>\n",
              "      <td>11.61</td>\n",
              "      <td>10.70</td>\n",
              "      <td>11.60</td>\n",
              "      <td>10.84</td>\n",
              "      <td>159741200.0</td>\n",
              "      <td>7.315541</td>\n",
              "      <td>10.84</td>\n",
              "      <td>10.84</td>\n",
              "    </tr>\n",
              "    <tr>\n",
              "      <th>2010-02-01</th>\n",
              "      <td>11.18</td>\n",
              "      <td>10.93</td>\n",
              "      <td>11.14</td>\n",
              "      <td>11.12</td>\n",
              "      <td>82748200.0</td>\n",
              "      <td>7.504504</td>\n",
              "      <td>11.12</td>\n",
              "      <td>11.12</td>\n",
              "    </tr>\n",
              "  </tbody>\n",
              "</table>\n",
              "</div>"
            ],
            "text/plain": [
              "             High    Low   Open  Close       Volume  Adj Close  Close_ffill  \\\n",
              "Date                                                                          \n",
              "2010-01-04  10.28  10.05  10.17  10.28   60855800.0   6.937616        10.28   \n",
              "2010-01-05  11.24  10.40  10.45  10.96  215620200.0   7.396526        10.96   \n",
              "2010-01-06  11.46  11.13  11.21  11.37  200070600.0   7.673220        11.37   \n",
              "2010-01-07  11.69  11.32  11.46  11.66  130201700.0   7.868933        11.66   \n",
              "2010-01-08  11.74  11.46  11.67  11.69  130463000.0   7.889179        11.69   \n",
              "2010-01-11  12.14  11.78  11.90  12.11  170626200.0   8.172622        12.11   \n",
              "2010-01-12  12.03  11.72  11.98  11.87  162995900.0   8.010654        11.87   \n",
              "2010-01-13  11.93  11.47  11.91  11.68  154527100.0   7.882429        11.68   \n",
              "2010-01-14  11.86  11.51  11.65    NaN  116531200.0   7.936419        11.68   \n",
              "2010-01-15  11.76  11.55  11.74  11.60   96149800.0   7.828439        11.60   \n",
              "2010-01-19  11.83  11.46  11.51  11.75   65934000.0   7.929671        11.75   \n",
              "2010-01-20  11.69  11.50  11.68  11.51   71649500.0   7.767701        11.51   \n",
              "2010-01-21  11.62  11.01  11.53  11.18  121451400.0   7.544998        11.18   \n",
              "2010-01-22  11.12  10.41  11.01  10.52  161530100.0   7.099586        10.52   \n",
              "2010-01-25  11.10  10.61  10.73    NaN  121621500.0   7.443766        10.52   \n",
              "2010-01-26  11.46  11.07  11.17    NaN  108250500.0   7.551746        10.52   \n",
              "2010-01-27  11.62  11.22  11.57  11.55  105091600.0   7.794695        11.55   \n",
              "2010-01-28  11.95  11.27  11.90  11.41  203320000.0   7.700218        11.41   \n",
              "2010-01-29  11.61  10.70  11.60  10.84  159741200.0   7.315541        10.84   \n",
              "2010-02-01  11.18  10.93  11.14  11.12   82748200.0   7.504504        11.12   \n",
              "\n",
              "            Close_bfill  \n",
              "Date                     \n",
              "2010-01-04        10.28  \n",
              "2010-01-05        10.96  \n",
              "2010-01-06        11.37  \n",
              "2010-01-07        11.66  \n",
              "2010-01-08        11.69  \n",
              "2010-01-11        12.11  \n",
              "2010-01-12        11.87  \n",
              "2010-01-13        11.68  \n",
              "2010-01-14        11.60  \n",
              "2010-01-15        11.60  \n",
              "2010-01-19        11.75  \n",
              "2010-01-20        11.51  \n",
              "2010-01-21        11.18  \n",
              "2010-01-22        10.52  \n",
              "2010-01-25        11.55  \n",
              "2010-01-26        11.55  \n",
              "2010-01-27        11.55  \n",
              "2010-01-28        11.41  \n",
              "2010-01-29        10.84  \n",
              "2010-02-01        11.12  "
            ]
          },
          "metadata": {
            "tags": []
          },
          "execution_count": 188
        }
      ]
    },
    {
      "cell_type": "markdown",
      "metadata": {
        "id": "qJAX3Cb1AaeK"
      },
      "source": [
        "#### SIN TENDENCIA"
      ]
    },
    {
      "cell_type": "code",
      "metadata": {
        "ExecuteTime": {
          "end_time": "2020-11-05T04:46:59.161495Z",
          "start_time": "2020-11-05T04:46:57.975666Z"
        },
        "id": "30jkeV8pAaeK"
      },
      "source": [
        "df = data.DataReader(\"F\", 'yahoo', start, end)\n",
        "df[\"Close\"]=2222\n",
        "df[\"Close\"]=df[\"Close\"].mask(np.random.random(df[\"Close\"].shape)<0.1)"
      ],
      "execution_count": 189,
      "outputs": []
    },
    {
      "cell_type": "code",
      "metadata": {
        "ExecuteTime": {
          "end_time": "2020-11-05T04:47:16.007052Z",
          "start_time": "2020-11-05T04:47:13.800554Z"
        },
        "id": "f8o6PqdEAaeN",
        "outputId": "519cad8e-5c73-436a-e4c5-32f81d176a61",
        "colab": {
          "base_uri": "https://localhost:8080/",
          "height": 302
        }
      },
      "source": [
        "descomposicion = sm.tsa.seasonal_decompose(df[\"Close\"].dropna(),\n",
        "                                                  model='additive', freq=30)  \n",
        "fig = descomposicion.plot()"
      ],
      "execution_count": 190,
      "outputs": [
        {
          "output_type": "display_data",
          "data": {
            "image/png": "[encoded data removed]",
            "text/plain": [
              "<Figure size 432x288 with 4 Axes>"
            ]
          },
          "metadata": {
            "tags": [],
            "needs_background": "light"
          }
        }
      ]
    },
    {
      "cell_type": "code",
      "metadata": {
        "ExecuteTime": {
          "end_time": "2020-11-05T04:47:59.209738Z",
          "start_time": "2020-11-05T04:47:59.203504Z"
        },
        "id": "XP93K6AUAaeP"
      },
      "source": [
        "import random"
      ],
      "execution_count": 191,
      "outputs": []
    },
    {
      "cell_type": "code",
      "metadata": {
        "ExecuteTime": {
          "end_time": "2020-11-05T04:48:16.022391Z",
          "start_time": "2020-11-05T04:48:16.007533Z"
        },
        "id": "81Wz25ZFAaeT",
        "outputId": "f3fd1383-af97-451c-db07-5c917c16a860",
        "colab": {
          "base_uri": "https://localhost:8080/"
        }
      },
      "source": [
        "df[\"Close\"].isnull().sum()"
      ],
      "execution_count": 192,
      "outputs": [
        {
          "output_type": "execute_result",
          "data": {
            "text/plain": [
              "77"
            ]
          },
          "metadata": {
            "tags": []
          },
          "execution_count": 192
        }
      ]
    },
    {
      "cell_type": "code",
      "metadata": {
        "ExecuteTime": {
          "end_time": "2020-11-05T04:49:54.804440Z",
          "start_time": "2020-11-05T04:49:54.790800Z"
        },
        "id": "x_E3TBGPAaeU",
        "outputId": "e1ecfd95-0dc5-4a05-f000-3c06107abeee",
        "colab": {
          "base_uri": "https://localhost:8080/"
        }
      },
      "source": [
        "random.choice([1,2,3])"
      ],
      "execution_count": 193,
      "outputs": [
        {
          "output_type": "execute_result",
          "data": {
            "text/plain": [
              "2"
            ]
          },
          "metadata": {
            "tags": []
          },
          "execution_count": 193
        }
      ]
    },
    {
      "cell_type": "code",
      "metadata": {
        "ExecuteTime": {
          "end_time": "2020-11-05T04:51:56.197108Z",
          "start_time": "2020-11-05T04:51:56.123029Z"
        },
        "id": "iu2tconaAaeY"
      },
      "source": [
        "df[\"Close_random\"]=df[\"Close\"].apply(lambda x: np.random.choice(df[\"Close\"].dropna().values) if np.isnan(x) else x)"
      ],
      "execution_count": 194,
      "outputs": []
    },
    {
      "cell_type": "code",
      "metadata": {
        "ExecuteTime": {
          "end_time": "2020-11-05T04:51:59.017271Z",
          "start_time": "2020-11-05T04:51:58.961436Z"
        },
        "id": "pOTLZJ4dAaea",
        "outputId": "8a78ea6a-9fa0-454b-c70e-5932b4c12e91",
        "colab": {
          "base_uri": "https://localhost:8080/",
          "height": 450
        }
      },
      "source": [
        "df"
      ],
      "execution_count": 195,
      "outputs": [
        {
          "output_type": "execute_result",
          "data": {
            "text/html": [
              "<div>\n",
              "<style scoped>\n",
              "    .dataframe tbody tr th:only-of-type {\n",
              "        vertical-align: middle;\n",
              "    }\n",
              "\n",
              "    .dataframe tbody tr th {\n",
              "        vertical-align: top;\n",
              "    }\n",
              "\n",
              "    .dataframe thead th {\n",
              "        text-align: right;\n",
              "    }\n",
              "</style>\n",
              "<table border=\"1\" class=\"dataframe\">\n",
              "  <thead>\n",
              "    <tr style=\"text-align: right;\">\n",
              "      <th></th>\n",
              "      <th>High</th>\n",
              "      <th>Low</th>\n",
              "      <th>Open</th>\n",
              "      <th>Close</th>\n",
              "      <th>Volume</th>\n",
              "      <th>Adj Close</th>\n",
              "      <th>Close_random</th>\n",
              "    </tr>\n",
              "    <tr>\n",
              "      <th>Date</th>\n",
              "      <th></th>\n",
              "      <th></th>\n",
              "      <th></th>\n",
              "      <th></th>\n",
              "      <th></th>\n",
              "      <th></th>\n",
              "      <th></th>\n",
              "    </tr>\n",
              "  </thead>\n",
              "  <tbody>\n",
              "    <tr>\n",
              "      <th>2010-01-04</th>\n",
              "      <td>10.28</td>\n",
              "      <td>10.05</td>\n",
              "      <td>10.17</td>\n",
              "      <td>2222.0</td>\n",
              "      <td>60855800.0</td>\n",
              "      <td>6.937616</td>\n",
              "      <td>2222.0</td>\n",
              "    </tr>\n",
              "    <tr>\n",
              "      <th>2010-01-05</th>\n",
              "      <td>11.24</td>\n",
              "      <td>10.40</td>\n",
              "      <td>10.45</td>\n",
              "      <td>2222.0</td>\n",
              "      <td>215620200.0</td>\n",
              "      <td>7.396526</td>\n",
              "      <td>2222.0</td>\n",
              "    </tr>\n",
              "    <tr>\n",
              "      <th>2010-01-06</th>\n",
              "      <td>11.46</td>\n",
              "      <td>11.13</td>\n",
              "      <td>11.21</td>\n",
              "      <td>2222.0</td>\n",
              "      <td>200070600.0</td>\n",
              "      <td>7.673220</td>\n",
              "      <td>2222.0</td>\n",
              "    </tr>\n",
              "    <tr>\n",
              "      <th>2010-01-07</th>\n",
              "      <td>11.69</td>\n",
              "      <td>11.32</td>\n",
              "      <td>11.46</td>\n",
              "      <td>2222.0</td>\n",
              "      <td>130201700.0</td>\n",
              "      <td>7.868933</td>\n",
              "      <td>2222.0</td>\n",
              "    </tr>\n",
              "    <tr>\n",
              "      <th>2010-01-08</th>\n",
              "      <td>11.74</td>\n",
              "      <td>11.46</td>\n",
              "      <td>11.67</td>\n",
              "      <td>2222.0</td>\n",
              "      <td>130463000.0</td>\n",
              "      <td>7.889179</td>\n",
              "      <td>2222.0</td>\n",
              "    </tr>\n",
              "    <tr>\n",
              "      <th>...</th>\n",
              "      <td>...</td>\n",
              "      <td>...</td>\n",
              "      <td>...</td>\n",
              "      <td>...</td>\n",
              "      <td>...</td>\n",
              "      <td>...</td>\n",
              "      <td>...</td>\n",
              "    </tr>\n",
              "    <tr>\n",
              "      <th>2013-01-18</th>\n",
              "      <td>14.13</td>\n",
              "      <td>13.97</td>\n",
              "      <td>14.10</td>\n",
              "      <td>2222.0</td>\n",
              "      <td>45716100.0</td>\n",
              "      <td>9.700160</td>\n",
              "      <td>2222.0</td>\n",
              "    </tr>\n",
              "    <tr>\n",
              "      <th>2013-01-22</th>\n",
              "      <td>14.19</td>\n",
              "      <td>14.00</td>\n",
              "      <td>14.06</td>\n",
              "      <td>2222.0</td>\n",
              "      <td>35467900.0</td>\n",
              "      <td>9.741406</td>\n",
              "      <td>2222.0</td>\n",
              "    </tr>\n",
              "    <tr>\n",
              "      <th>2013-01-23</th>\n",
              "      <td>14.02</td>\n",
              "      <td>13.79</td>\n",
              "      <td>14.00</td>\n",
              "      <td>2222.0</td>\n",
              "      <td>58122200.0</td>\n",
              "      <td>9.542044</td>\n",
              "      <td>2222.0</td>\n",
              "    </tr>\n",
              "    <tr>\n",
              "      <th>2013-01-24</th>\n",
              "      <td>13.98</td>\n",
              "      <td>13.81</td>\n",
              "      <td>13.82</td>\n",
              "      <td>2222.0</td>\n",
              "      <td>42532700.0</td>\n",
              "      <td>9.535168</td>\n",
              "      <td>2222.0</td>\n",
              "    </tr>\n",
              "    <tr>\n",
              "      <th>2013-01-25</th>\n",
              "      <td>13.84</td>\n",
              "      <td>13.64</td>\n",
              "      <td>13.83</td>\n",
              "      <td>2222.0</td>\n",
              "      <td>53405400.0</td>\n",
              "      <td>9.404551</td>\n",
              "      <td>2222.0</td>\n",
              "    </tr>\n",
              "  </tbody>\n",
              "</table>\n",
              "<p>771 rows × 7 columns</p>\n",
              "</div>"
            ],
            "text/plain": [
              "             High    Low   Open   Close       Volume  Adj Close  Close_random\n",
              "Date                                                                         \n",
              "2010-01-04  10.28  10.05  10.17  2222.0   60855800.0   6.937616        2222.0\n",
              "2010-01-05  11.24  10.40  10.45  2222.0  215620200.0   7.396526        2222.0\n",
              "2010-01-06  11.46  11.13  11.21  2222.0  200070600.0   7.673220        2222.0\n",
              "2010-01-07  11.69  11.32  11.46  2222.0  130201700.0   7.868933        2222.0\n",
              "2010-01-08  11.74  11.46  11.67  2222.0  130463000.0   7.889179        2222.0\n",
              "...           ...    ...    ...     ...          ...        ...           ...\n",
              "2013-01-18  14.13  13.97  14.10  2222.0   45716100.0   9.700160        2222.0\n",
              "2013-01-22  14.19  14.00  14.06  2222.0   35467900.0   9.741406        2222.0\n",
              "2013-01-23  14.02  13.79  14.00  2222.0   58122200.0   9.542044        2222.0\n",
              "2013-01-24  13.98  13.81  13.82  2222.0   42532700.0   9.535168        2222.0\n",
              "2013-01-25  13.84  13.64  13.83  2222.0   53405400.0   9.404551        2222.0\n",
              "\n",
              "[771 rows x 7 columns]"
            ]
          },
          "metadata": {
            "tags": []
          },
          "execution_count": 195
        }
      ]
    },
    {
      "cell_type": "markdown",
      "metadata": {
        "id": "1AIjQgswAaec"
      },
      "source": [
        "## IMPUTACION POR MODELOS\n",
        "https://medium.com/@Cambridge_Spark/tutorial-introduction-to-missing-data-imputation-4912b51c34ebm"
      ]
    },
    {
      "cell_type": "code",
      "metadata": {
        "ExecuteTime": {
          "end_time": "2020-11-05T04:27:30.778979Z",
          "start_time": "2020-11-05T04:27:30.771258Z"
        },
        "id": "Qd7c11QLAaec"
      },
      "source": [
        ""
      ],
      "execution_count": null,
      "outputs": []
    },
    {
      "cell_type": "code",
      "metadata": {
        "id": "a2ne2HQCAaee"
      },
      "source": [
        ""
      ],
      "execution_count": null,
      "outputs": []
    },
    {
      "cell_type": "code",
      "metadata": {
        "id": "RWVhxvAtAaeg"
      },
      "source": [
        ""
      ],
      "execution_count": null,
      "outputs": []
    }
  ]
}