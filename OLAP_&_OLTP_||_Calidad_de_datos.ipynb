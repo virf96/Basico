{
  "nbformat": 4,
  "nbformat_minor": 0,
  "metadata": {
    "kernelspec": {
      "display_name": "diplomado",
      "language": "python",
      "name": "diplomado"
    },
    "language_info": {
      "codemirror_mode": {
        "name": "ipython",
        "version": 3
      },
      "file_extension": ".py",
      "mimetype": "text/x-python",
      "name": "python",
      "nbconvert_exporter": "python",
      "pygments_lexer": "ipython3",
      "version": "3.6.9"
    },
    "colab": {
      "name": "OLAP & OLTP || Calidad de datos.ipynb",
      "provenance": [],
      "toc_visible": true,
      "include_colab_link": true
    }
  },
  "cells": [
    {
      "cell_type": "markdown",
      "metadata": {
        "id": "view-in-github",
        "colab_type": "text"
      },
      "source": [
        "<a href=\"https://colab.research.google.com/github/virf96/Basico/blob/main/OLAP_%26_OLTP_%7C%7C_Calidad_de_datos.ipynb\" target=\"_parent\"><img src=\"https://colab.research.google.com/assets/colab-badge.svg\" alt=\"Open In Colab\"/></a>"
      ]
    },
    {
      "cell_type": "code",
      "metadata": {
        "ExecuteTime": {
          "end_time": "2020-10-22T18:29:52.276128Z",
          "start_time": "2020-10-22T18:29:47.637676Z"
        },
        "id": "L38OWfmw4Ta9"
      },
      "source": [
        "import random\n",
        "import numpy as np\n",
        "import pandas as pd\n",
        "import matplotlib.pyplot as plt"
      ],
      "execution_count": 1,
      "outputs": []
    },
    {
      "cell_type": "code",
      "metadata": {
        "id": "gBPla75BJwRY",
        "outputId": "d05ed07e-1fc3-4edf-a0a7-92dd572511fb",
        "colab": {
          "base_uri": "https://localhost:8080/",
          "height": 34
        }
      },
      "source": [
        "from google.colab import drive\n",
        "drive.mount('/content/drive')"
      ],
      "execution_count": 2,
      "outputs": [
        {
          "output_type": "stream",
          "text": [
            "Mounted at /content/drive\n"
          ],
          "name": "stdout"
        }
      ]
    },
    {
      "cell_type": "code",
      "metadata": {
        "ExecuteTime": {
          "end_time": "2020-10-22T18:30:02.207386Z",
          "start_time": "2020-10-22T18:29:52.311231Z"
        },
        "id": "RGWV2T9v4TbA",
        "outputId": "5f3a73ac-febe-4298-c5dd-b29ea1984265",
        "colab": {
          "base_uri": "https://localhost:8080/",
          "height": 71
        }
      },
      "source": [
        "df=pd.read_csv(\"/content/drive/My Drive/datasets/datos_mustra_1.csv\")"
      ],
      "execution_count": 3,
      "outputs": [
        {
          "output_type": "stream",
          "text": [
            "/usr/local/lib/python3.6/dist-packages/IPython/core/interactiveshell.py:2718: DtypeWarning: Columns (2,10) have mixed types.Specify dtype option on import or set low_memory=False.\n",
            "  interactivity=interactivity, compiler=compiler, result=result)\n"
          ],
          "name": "stderr"
        }
      ]
    },
    {
      "cell_type": "code",
      "metadata": {
        "ExecuteTime": {
          "end_time": "2020-10-22T18:30:02.234632Z",
          "start_time": "2020-10-22T18:30:02.214222Z"
        },
        "id": "WKgxwWf24TbE",
        "outputId": "e15fe7e8-090f-41fb-f47b-e52f20f1bd93",
        "colab": {
          "base_uri": "https://localhost:8080/",
          "height": 34
        }
      },
      "source": [
        "df.shape"
      ],
      "execution_count": 4,
      "outputs": [
        {
          "output_type": "execute_result",
          "data": {
            "text/plain": [
              "(655341, 26)"
            ]
          },
          "metadata": {
            "tags": []
          },
          "execution_count": 4
        }
      ]
    },
    {
      "cell_type": "code",
      "metadata": {
        "ExecuteTime": {
          "end_time": "2020-10-22T18:30:05.302729Z",
          "start_time": "2020-10-22T18:30:02.241183Z"
        },
        "id": "ROFA91Cb4TbI",
        "outputId": "b6bdf614-aa14-40c0-c177-d4b05eb7ab7d",
        "colab": {
          "base_uri": "https://localhost:8080/",
          "height": 34
        }
      },
      "source": [
        "df.duplicated().sum()"
      ],
      "execution_count": 5,
      "outputs": [
        {
          "output_type": "execute_result",
          "data": {
            "text/plain": [
              "8"
            ]
          },
          "metadata": {
            "tags": []
          },
          "execution_count": 5
        }
      ]
    },
    {
      "cell_type": "code",
      "metadata": {
        "ExecuteTime": {
          "end_time": "2020-10-22T18:30:08.794622Z",
          "start_time": "2020-10-22T18:30:05.309162Z"
        },
        "id": "xbW7dTO94TbK",
        "outputId": "55207dc1-81fb-4d06-95cd-77e97b0d4ee9",
        "colab": {
          "base_uri": "https://localhost:8080/",
          "height": 34
        }
      },
      "source": [
        "df.drop_duplicates().shape"
      ],
      "execution_count": 6,
      "outputs": [
        {
          "output_type": "execute_result",
          "data": {
            "text/plain": [
              "(655333, 26)"
            ]
          },
          "metadata": {
            "tags": []
          },
          "execution_count": 6
        }
      ]
    },
    {
      "cell_type": "code",
      "metadata": {
        "ExecuteTime": {
          "end_time": "2020-10-22T18:30:12.117228Z",
          "start_time": "2020-10-22T18:30:08.804727Z"
        },
        "id": "n4XfRJ4A4TbN"
      },
      "source": [
        "df.drop_duplicates(inplace=True)"
      ],
      "execution_count": 7,
      "outputs": []
    },
    {
      "cell_type": "code",
      "metadata": {
        "ExecuteTime": {
          "end_time": "2020-10-22T18:30:12.139973Z",
          "start_time": "2020-10-22T18:30:12.125226Z"
        },
        "id": "Q9fSpREA4TbQ",
        "outputId": "8e568404-5021-439b-aaed-d56eef517020",
        "colab": {
          "base_uri": "https://localhost:8080/",
          "height": 34
        }
      },
      "source": [
        "df.shape"
      ],
      "execution_count": 8,
      "outputs": [
        {
          "output_type": "execute_result",
          "data": {
            "text/plain": [
              "(655333, 26)"
            ]
          },
          "metadata": {
            "tags": []
          },
          "execution_count": 8
        }
      ]
    },
    {
      "cell_type": "code",
      "metadata": {
        "ExecuteTime": {
          "end_time": "2020-10-22T18:30:13.512269Z",
          "start_time": "2020-10-22T18:30:12.156895Z"
        },
        "scrolled": true,
        "id": "hs_uxcf84TbT",
        "outputId": "ecb790b6-6eef-486c-d7af-286428cab34e",
        "colab": {
          "base_uri": "https://localhost:8080/",
          "height": 476
        }
      },
      "source": [
        "df.isnull().sum()"
      ],
      "execution_count": 9,
      "outputs": [
        {
          "output_type": "execute_result",
          "data": {
            "text/plain": [
              "edad                            0\n",
              "minutos                         0\n",
              "monto_de_apoyo                  2\n",
              "horas                           0\n",
              "ent_regis                  196392\n",
              "mun_regis                       0\n",
              "ent_resid                       0\n",
              "mun_resid                       0\n",
              "ent_ocurr                  655333\n",
              "mun_ocurr                       0\n",
              "sexo                            2\n",
              "ocupacion                       0\n",
              "edo_civil                  655333\n",
              "lugar_ocur                      0\n",
              "sitio_ocur                      0\n",
              "nacionalid                      0\n",
              "embarazo                        0\n",
              "grupo                           0\n",
              "lengua                     504169\n",
              "clave                           0\n",
              "escolarida                      0\n",
              "fecha_nac                   10378\n",
              "fecha_ocurr                   142\n",
              "programa_fondo                  0\n",
              "nombre_del_proyecto             0\n",
              "nombre_del_beneficiario         0\n",
              "dtype: int64"
            ]
          },
          "metadata": {
            "tags": []
          },
          "execution_count": 9
        }
      ]
    },
    {
      "cell_type": "code",
      "metadata": {
        "ExecuteTime": {
          "end_time": "2020-10-22T18:30:13.533093Z",
          "start_time": "2020-10-22T18:30:13.517297Z"
        },
        "id": "gtV01Xyt4TbW",
        "outputId": "a2351a70-09cd-4274-e42e-1441631c378e",
        "colab": {
          "base_uri": "https://localhost:8080/",
          "height": 119
        }
      },
      "source": [
        "df.columns"
      ],
      "execution_count": 10,
      "outputs": [
        {
          "output_type": "execute_result",
          "data": {
            "text/plain": [
              "Index(['edad', 'minutos', 'monto_de_apoyo', 'horas', 'ent_regis', 'mun_regis',\n",
              "       'ent_resid', 'mun_resid', 'ent_ocurr', 'mun_ocurr', 'sexo', 'ocupacion',\n",
              "       'edo_civil', 'lugar_ocur', 'sitio_ocur', 'nacionalid', 'embarazo',\n",
              "       'grupo', 'lengua', 'clave', 'escolarida', 'fecha_nac', 'fecha_ocurr',\n",
              "       'programa_fondo', 'nombre_del_proyecto', 'nombre_del_beneficiario'],\n",
              "      dtype='object')"
            ]
          },
          "metadata": {
            "tags": []
          },
          "execution_count": 10
        }
      ]
    },
    {
      "cell_type": "code",
      "metadata": {
        "ExecuteTime": {
          "end_time": "2020-10-22T18:30:13.720490Z",
          "start_time": "2020-10-22T18:30:13.539852Z"
        },
        "id": "f0Usfi5E4TbY",
        "outputId": "19ff8105-ddfc-4e95-81f1-72c7f65b77e0",
        "colab": {
          "base_uri": "https://localhost:8080/",
          "height": 479
        }
      },
      "source": [
        "df.head()"
      ],
      "execution_count": 11,
      "outputs": [
        {
          "output_type": "execute_result",
          "data": {
            "text/html": [
              "<div>\n",
              "<style scoped>\n",
              "    .dataframe tbody tr th:only-of-type {\n",
              "        vertical-align: middle;\n",
              "    }\n",
              "\n",
              "    .dataframe tbody tr th {\n",
              "        vertical-align: top;\n",
              "    }\n",
              "\n",
              "    .dataframe thead th {\n",
              "        text-align: right;\n",
              "    }\n",
              "</style>\n",
              "<table border=\"1\" class=\"dataframe\">\n",
              "  <thead>\n",
              "    <tr style=\"text-align: right;\">\n",
              "      <th></th>\n",
              "      <th>edad</th>\n",
              "      <th>minutos</th>\n",
              "      <th>monto_de_apoyo</th>\n",
              "      <th>horas</th>\n",
              "      <th>ent_regis</th>\n",
              "      <th>mun_regis</th>\n",
              "      <th>ent_resid</th>\n",
              "      <th>mun_resid</th>\n",
              "      <th>ent_ocurr</th>\n",
              "      <th>mun_ocurr</th>\n",
              "      <th>sexo</th>\n",
              "      <th>ocupacion</th>\n",
              "      <th>edo_civil</th>\n",
              "      <th>lugar_ocur</th>\n",
              "      <th>sitio_ocur</th>\n",
              "      <th>nacionalid</th>\n",
              "      <th>embarazo</th>\n",
              "      <th>grupo</th>\n",
              "      <th>lengua</th>\n",
              "      <th>clave</th>\n",
              "      <th>escolarida</th>\n",
              "      <th>fecha_nac</th>\n",
              "      <th>fecha_ocurr</th>\n",
              "      <th>programa_fondo</th>\n",
              "      <th>nombre_del_proyecto</th>\n",
              "      <th>nombre_del_beneficiario</th>\n",
              "    </tr>\n",
              "  </thead>\n",
              "  <tbody>\n",
              "    <tr>\n",
              "      <th>0</th>\n",
              "      <td>4069</td>\n",
              "      <td>27</td>\n",
              "      <td>NaN</td>\n",
              "      <td>16</td>\n",
              "      <td>1.0</td>\n",
              "      <td>1</td>\n",
              "      <td>1</td>\n",
              "      <td>1</td>\n",
              "      <td>NaN</td>\n",
              "      <td>1</td>\n",
              "      <td>NaN</td>\n",
              "      <td>11</td>\n",
              "      <td>NaN</td>\n",
              "      <td>88</td>\n",
              "      <td>3</td>\n",
              "      <td>1</td>\n",
              "      <td>8</td>\n",
              "      <td>7</td>\n",
              "      <td>2.0</td>\n",
              "      <td>6343</td>\n",
              "      <td>1</td>\n",
              "      <td>1946-06-30</td>\n",
              "      <td>2015-05-25</td>\n",
              "      <td>Programa Jalisciense de Fomento a la Propieda...</td>\n",
              "      <td>MX - SISTEMA MECATRÓNICO PARA EL CONTROL DE IN...</td>\n",
              "      <td>RICARDO MERCADO CORTÉS\\n</td>\n",
              "    </tr>\n",
              "    <tr>\n",
              "      <th>1</th>\n",
              "      <td>4093</td>\n",
              "      <td>0</td>\n",
              "      <td>31446.48</td>\n",
              "      <td>6</td>\n",
              "      <td>NaN</td>\n",
              "      <td>1</td>\n",
              "      <td>1</td>\n",
              "      <td>1</td>\n",
              "      <td>NaN</td>\n",
              "      <td>1</td>\n",
              "      <td>1</td>\n",
              "      <td>6</td>\n",
              "      <td>NaN</td>\n",
              "      <td>88</td>\n",
              "      <td>11</td>\n",
              "      <td>1</td>\n",
              "      <td>8</td>\n",
              "      <td>8</td>\n",
              "      <td>NaN</td>\n",
              "      <td>6344</td>\n",
              "      <td>3</td>\n",
              "      <td>1921-08-25</td>\n",
              "      <td>2015-09-26</td>\n",
              "      <td>Programa Jalisciense de Fomento a la Propieda...</td>\n",
              "      <td>PCT - SISTEMA MECATRÓNICO PARA EL CONTROL DE I...</td>\n",
              "      <td>RICARDO MERCADO CORTÉS\\n</td>\n",
              "    </tr>\n",
              "    <tr>\n",
              "      <th>2</th>\n",
              "      <td>4092</td>\n",
              "      <td>30</td>\n",
              "      <td>65673.63</td>\n",
              "      <td>16</td>\n",
              "      <td>1.0</td>\n",
              "      <td>1</td>\n",
              "      <td>1</td>\n",
              "      <td>1</td>\n",
              "      <td>NaN</td>\n",
              "      <td>1</td>\n",
              "      <td>1</td>\n",
              "      <td>7</td>\n",
              "      <td>NaN</td>\n",
              "      <td>88</td>\n",
              "      <td>11</td>\n",
              "      <td>1</td>\n",
              "      <td>8</td>\n",
              "      <td>2</td>\n",
              "      <td>NaN</td>\n",
              "      <td>6345</td>\n",
              "      <td>3</td>\n",
              "      <td>1922-06-12</td>\n",
              "      <td>2015-12-14</td>\n",
              "      <td>Programa Jalisciense de Fomento a la Propieda...</td>\n",
              "      <td>MX-EMPAQUE CÓNICO PARA LA CONEXIÓN \\nDE MANGUE...</td>\n",
              "      <td>CORPORATIVO BORO S.A. DE C.V.</td>\n",
              "    </tr>\n",
              "    <tr>\n",
              "      <th>3</th>\n",
              "      <td>4047</td>\n",
              "      <td>58</td>\n",
              "      <td>Sistema Tecnológico de Jalisco, A.C.</td>\n",
              "      <td>3</td>\n",
              "      <td>NaN</td>\n",
              "      <td>1</td>\n",
              "      <td>1</td>\n",
              "      <td>1</td>\n",
              "      <td>NaN</td>\n",
              "      <td>1</td>\n",
              "      <td>Sistema Tecnológico de Jalisco, A.C.</td>\n",
              "      <td>7</td>\n",
              "      <td>NaN</td>\n",
              "      <td>88</td>\n",
              "      <td>9</td>\n",
              "      <td>1</td>\n",
              "      <td>8</td>\n",
              "      <td>13</td>\n",
              "      <td>1.0</td>\n",
              "      <td>6346</td>\n",
              "      <td>6</td>\n",
              "      <td>1967-08-28</td>\n",
              "      <td>2015-01-03</td>\n",
              "      <td>Programa Jalisciense de Fomento a la Propieda...</td>\n",
              "      <td>MX-PASTA BIODEGRADABLE PARA USOS MÚLTIPLES\\n</td>\n",
              "      <td>CORPORATIVO BORO S.A. DE C.V.\\n</td>\n",
              "    </tr>\n",
              "    <tr>\n",
              "      <th>4</th>\n",
              "      <td>4040</td>\n",
              "      <td>50</td>\n",
              "      <td>30254.04</td>\n",
              "      <td>6</td>\n",
              "      <td>1.0</td>\n",
              "      <td>1</td>\n",
              "      <td>1</td>\n",
              "      <td>1</td>\n",
              "      <td>NaN</td>\n",
              "      <td>1</td>\n",
              "      <td>2</td>\n",
              "      <td>11</td>\n",
              "      <td>NaN</td>\n",
              "      <td>88</td>\n",
              "      <td>1</td>\n",
              "      <td>1</td>\n",
              "      <td>5</td>\n",
              "      <td>7</td>\n",
              "      <td>NaN</td>\n",
              "      <td>6364</td>\n",
              "      <td>4</td>\n",
              "      <td>1974-12-17</td>\n",
              "      <td>2015-07-16</td>\n",
              "      <td>Programa Jalisciense de Fomento a la Propieda...</td>\n",
              "      <td>DISPOSITIVO PERSONAL DE COMUNICACIÓN REMOTA PA...</td>\n",
              "      <td>GERALDINA  VEGA GAMBOA\\n</td>\n",
              "    </tr>\n",
              "  </tbody>\n",
              "</table>\n",
              "</div>"
            ],
            "text/plain": [
              "   edad  ...          nombre_del_beneficiario\n",
              "0  4069  ...         RICARDO MERCADO CORTÉS\\n\n",
              "1  4093  ...         RICARDO MERCADO CORTÉS\\n\n",
              "2  4092  ...    CORPORATIVO BORO S.A. DE C.V.\n",
              "3  4047  ...  CORPORATIVO BORO S.A. DE C.V.\\n\n",
              "4  4040  ...         GERALDINA  VEGA GAMBOA\\n\n",
              "\n",
              "[5 rows x 26 columns]"
            ]
          },
          "metadata": {
            "tags": []
          },
          "execution_count": 11
        }
      ]
    },
    {
      "cell_type": "code",
      "metadata": {
        "id": "j1S5HSRuLd-B",
        "outputId": "33604717-2fb2-4b12-9c0b-ec00da48f984",
        "colab": {
          "base_uri": "https://localhost:8080/",
          "height": 578
        }
      },
      "source": [
        "df.info()"
      ],
      "execution_count": 13,
      "outputs": [
        {
          "output_type": "stream",
          "text": [
            "<class 'pandas.core.frame.DataFrame'>\n",
            "Int64Index: 655333 entries, 0 to 655332\n",
            "Data columns (total 26 columns):\n",
            " #   Column                   Non-Null Count   Dtype  \n",
            "---  ------                   --------------   -----  \n",
            " 0   edad                     655333 non-null  int64  \n",
            " 1   minutos                  655333 non-null  int64  \n",
            " 2   monto_de_apoyo           655331 non-null  object \n",
            " 3   horas                    655333 non-null  int64  \n",
            " 4   ent_regis                458941 non-null  float64\n",
            " 5   mun_regis                655333 non-null  int64  \n",
            " 6   ent_resid                655333 non-null  int64  \n",
            " 7   mun_resid                655333 non-null  int64  \n",
            " 8   ent_ocurr                0 non-null       float64\n",
            " 9   mun_ocurr                655333 non-null  int64  \n",
            " 10  sexo                     655331 non-null  object \n",
            " 11  ocupacion                655333 non-null  int64  \n",
            " 12  edo_civil                0 non-null       float64\n",
            " 13  lugar_ocur               655333 non-null  int64  \n",
            " 14  sitio_ocur               655333 non-null  int64  \n",
            " 15  nacionalid               655333 non-null  int64  \n",
            " 16  embarazo                 655333 non-null  int64  \n",
            " 17  grupo                    655333 non-null  int64  \n",
            " 18  lengua                   151164 non-null  float64\n",
            " 19  clave                    655333 non-null  int64  \n",
            " 20  escolarida               655333 non-null  int64  \n",
            " 21  fecha_nac                644955 non-null  object \n",
            " 22  fecha_ocurr              655191 non-null  object \n",
            " 23  programa_fondo           655333 non-null  object \n",
            " 24  nombre_del_proyecto      655333 non-null  object \n",
            " 25  nombre_del_beneficiario  655333 non-null  object \n",
            "dtypes: float64(4), int64(15), object(7)\n",
            "memory usage: 135.0+ MB\n"
          ],
          "name": "stdout"
        }
      ]
    },
    {
      "cell_type": "code",
      "metadata": {
        "ExecuteTime": {
          "end_time": "2020-10-22T18:30:15.425616Z",
          "start_time": "2020-10-22T18:30:13.728957Z"
        },
        "id": "cuiVtZCu4Tbb",
        "outputId": "b3634406-656d-4730-ea77-91863045d47a",
        "colab": {
          "base_uri": "https://localhost:8080/",
          "height": 317
        }
      },
      "source": [
        "df.describe()"
      ],
      "execution_count": 12,
      "outputs": [
        {
          "output_type": "execute_result",
          "data": {
            "text/html": [
              "<div>\n",
              "<style scoped>\n",
              "    .dataframe tbody tr th:only-of-type {\n",
              "        vertical-align: middle;\n",
              "    }\n",
              "\n",
              "    .dataframe tbody tr th {\n",
              "        vertical-align: top;\n",
              "    }\n",
              "\n",
              "    .dataframe thead th {\n",
              "        text-align: right;\n",
              "    }\n",
              "</style>\n",
              "<table border=\"1\" class=\"dataframe\">\n",
              "  <thead>\n",
              "    <tr style=\"text-align: right;\">\n",
              "      <th></th>\n",
              "      <th>edad</th>\n",
              "      <th>minutos</th>\n",
              "      <th>horas</th>\n",
              "      <th>ent_regis</th>\n",
              "      <th>mun_regis</th>\n",
              "      <th>ent_resid</th>\n",
              "      <th>mun_resid</th>\n",
              "      <th>ent_ocurr</th>\n",
              "      <th>mun_ocurr</th>\n",
              "      <th>ocupacion</th>\n",
              "      <th>edo_civil</th>\n",
              "      <th>lugar_ocur</th>\n",
              "      <th>sitio_ocur</th>\n",
              "      <th>nacionalid</th>\n",
              "      <th>embarazo</th>\n",
              "      <th>grupo</th>\n",
              "      <th>lengua</th>\n",
              "      <th>clave</th>\n",
              "      <th>escolarida</th>\n",
              "    </tr>\n",
              "  </thead>\n",
              "  <tbody>\n",
              "    <tr>\n",
              "      <th>count</th>\n",
              "      <td>655333.000000</td>\n",
              "      <td>655333.000000</td>\n",
              "      <td>655333.000000</td>\n",
              "      <td>458941.000000</td>\n",
              "      <td>655333.000000</td>\n",
              "      <td>655333.000000</td>\n",
              "      <td>655333.000000</td>\n",
              "      <td>0.0</td>\n",
              "      <td>655333.000000</td>\n",
              "      <td>655333.000000</td>\n",
              "      <td>0.0</td>\n",
              "      <td>655333.000000</td>\n",
              "      <td>655333.000000</td>\n",
              "      <td>655333.000000</td>\n",
              "      <td>655333.000000</td>\n",
              "      <td>655333.000000</td>\n",
              "      <td>151164.000000</td>\n",
              "      <td>655333.000000</td>\n",
              "      <td>655333.000000</td>\n",
              "    </tr>\n",
              "    <tr>\n",
              "      <th>mean</th>\n",
              "      <td>3995.239106</td>\n",
              "      <td>21.949548</td>\n",
              "      <td>12.679938</td>\n",
              "      <td>16.540176</td>\n",
              "      <td>51.515352</td>\n",
              "      <td>16.672460</td>\n",
              "      <td>55.592775</td>\n",
              "      <td>NaN</td>\n",
              "      <td>51.820590</td>\n",
              "      <td>20.473089</td>\n",
              "      <td>NaN</td>\n",
              "      <td>79.271650</td>\n",
              "      <td>9.275178</td>\n",
              "      <td>1.005861</td>\n",
              "      <td>8.006821</td>\n",
              "      <td>6.567649</td>\n",
              "      <td>3.114637</td>\n",
              "      <td>6566.704378</td>\n",
              "      <td>11.887530</td>\n",
              "    </tr>\n",
              "    <tr>\n",
              "      <th>std</th>\n",
              "      <td>401.392086</td>\n",
              "      <td>19.509928</td>\n",
              "      <td>11.413132</td>\n",
              "      <td>8.149956</td>\n",
              "      <td>64.580768</td>\n",
              "      <td>8.121961</td>\n",
              "      <td>85.946842</td>\n",
              "      <td>NaN</td>\n",
              "      <td>73.016475</td>\n",
              "      <td>30.057434</td>\n",
              "      <td>NaN</td>\n",
              "      <td>25.557792</td>\n",
              "      <td>13.491876</td>\n",
              "      <td>0.076333</td>\n",
              "      <td>0.488400</td>\n",
              "      <td>6.230990</td>\n",
              "      <td>2.683850</td>\n",
              "      <td>140.182072</td>\n",
              "      <td>25.584275</td>\n",
              "    </tr>\n",
              "    <tr>\n",
              "      <th>min</th>\n",
              "      <td>1001.000000</td>\n",
              "      <td>0.000000</td>\n",
              "      <td>0.000000</td>\n",
              "      <td>1.000000</td>\n",
              "      <td>1.000000</td>\n",
              "      <td>1.000000</td>\n",
              "      <td>1.000000</td>\n",
              "      <td>NaN</td>\n",
              "      <td>1.000000</td>\n",
              "      <td>1.000000</td>\n",
              "      <td>NaN</td>\n",
              "      <td>0.000000</td>\n",
              "      <td>1.000000</td>\n",
              "      <td>1.000000</td>\n",
              "      <td>1.000000</td>\n",
              "      <td>1.000000</td>\n",
              "      <td>1.000000</td>\n",
              "      <td>6343.000000</td>\n",
              "      <td>1.000000</td>\n",
              "    </tr>\n",
              "    <tr>\n",
              "      <th>25%</th>\n",
              "      <td>4051.000000</td>\n",
              "      <td>0.000000</td>\n",
              "      <td>6.000000</td>\n",
              "      <td>9.000000</td>\n",
              "      <td>14.000000</td>\n",
              "      <td>10.000000</td>\n",
              "      <td>12.000000</td>\n",
              "      <td>NaN</td>\n",
              "      <td>12.000000</td>\n",
              "      <td>7.000000</td>\n",
              "      <td>NaN</td>\n",
              "      <td>88.000000</td>\n",
              "      <td>3.000000</td>\n",
              "      <td>1.000000</td>\n",
              "      <td>8.000000</td>\n",
              "      <td>2.000000</td>\n",
              "      <td>2.000000</td>\n",
              "      <td>6473.000000</td>\n",
              "      <td>3.000000</td>\n",
              "    </tr>\n",
              "    <tr>\n",
              "      <th>50%</th>\n",
              "      <td>4069.000000</td>\n",
              "      <td>20.000000</td>\n",
              "      <td>12.000000</td>\n",
              "      <td>15.000000</td>\n",
              "      <td>33.000000</td>\n",
              "      <td>15.000000</td>\n",
              "      <td>33.000000</td>\n",
              "      <td>NaN</td>\n",
              "      <td>32.000000</td>\n",
              "      <td>11.000000</td>\n",
              "      <td>NaN</td>\n",
              "      <td>88.000000</td>\n",
              "      <td>11.000000</td>\n",
              "      <td>1.000000</td>\n",
              "      <td>8.000000</td>\n",
              "      <td>4.000000</td>\n",
              "      <td>2.000000</td>\n",
              "      <td>6540.000000</td>\n",
              "      <td>4.000000</td>\n",
              "    </tr>\n",
              "    <tr>\n",
              "      <th>75%</th>\n",
              "      <td>4082.000000</td>\n",
              "      <td>35.000000</td>\n",
              "      <td>18.000000</td>\n",
              "      <td>22.000000</td>\n",
              "      <td>67.000000</td>\n",
              "      <td>23.000000</td>\n",
              "      <td>70.000000</td>\n",
              "      <td>NaN</td>\n",
              "      <td>67.000000</td>\n",
              "      <td>11.000000</td>\n",
              "      <td>NaN</td>\n",
              "      <td>88.000000</td>\n",
              "      <td>11.000000</td>\n",
              "      <td>1.000000</td>\n",
              "      <td>8.000000</td>\n",
              "      <td>8.000000</td>\n",
              "      <td>2.000000</td>\n",
              "      <td>6689.000000</td>\n",
              "      <td>6.000000</td>\n",
              "    </tr>\n",
              "    <tr>\n",
              "      <th>max</th>\n",
              "      <td>4998.000000</td>\n",
              "      <td>99.000000</td>\n",
              "      <td>99.000000</td>\n",
              "      <td>32.000000</td>\n",
              "      <td>570.000000</td>\n",
              "      <td>35.000000</td>\n",
              "      <td>999.000000</td>\n",
              "      <td>NaN</td>\n",
              "      <td>999.000000</td>\n",
              "      <td>99.000000</td>\n",
              "      <td>NaN</td>\n",
              "      <td>88.000000</td>\n",
              "      <td>99.000000</td>\n",
              "      <td>2.000000</td>\n",
              "      <td>9.000000</td>\n",
              "      <td>34.000000</td>\n",
              "      <td>9.000000</td>\n",
              "      <td>6897.000000</td>\n",
              "      <td>99.000000</td>\n",
              "    </tr>\n",
              "  </tbody>\n",
              "</table>\n",
              "</div>"
            ],
            "text/plain": [
              "                edad        minutos  ...          clave     escolarida\n",
              "count  655333.000000  655333.000000  ...  655333.000000  655333.000000\n",
              "mean     3995.239106      21.949548  ...    6566.704378      11.887530\n",
              "std       401.392086      19.509928  ...     140.182072      25.584275\n",
              "min      1001.000000       0.000000  ...    6343.000000       1.000000\n",
              "25%      4051.000000       0.000000  ...    6473.000000       3.000000\n",
              "50%      4069.000000      20.000000  ...    6540.000000       4.000000\n",
              "75%      4082.000000      35.000000  ...    6689.000000       6.000000\n",
              "max      4998.000000      99.000000  ...    6897.000000      99.000000\n",
              "\n",
              "[8 rows x 19 columns]"
            ]
          },
          "metadata": {
            "tags": []
          },
          "execution_count": 12
        }
      ]
    },
    {
      "cell_type": "code",
      "metadata": {
        "ExecuteTime": {
          "end_time": "2020-10-22T18:30:15.457155Z",
          "start_time": "2020-10-22T18:30:15.435070Z"
        },
        "id": "aGLJ68c04Tbe"
      },
      "source": [
        "c_feats=[\"edad\",\"minutos\",\"monto_de_apoyo\",\"horas\"]\n",
        "v_feats=[\"ent_regis\",\"mun_regis\",\"ent_resid\",\"mun_resid\",\"ent_ocurr\",\"mun_ocurr\",\"sexo\",\"ocupacion\",\"edo_civil\",\n",
        "        \"lugar_ocur\",\"sitio_ocur\",\"nacionalid\",\"embarazo\",\"grupo\",\"lengua\",\"clave\",\"escolarida\"]\n",
        "d_feats=[\"fecha_nac\",\"fecha_ocurr\"]\n",
        "t_feats=[\"programa_fondo\",\"nombre_del_proyecto\",\"nombre_del_beneficiario\"]"
      ],
      "execution_count": 14,
      "outputs": []
    },
    {
      "cell_type": "code",
      "metadata": {
        "ExecuteTime": {
          "end_time": "2020-10-22T18:30:15.534838Z",
          "start_time": "2020-10-22T18:30:15.468220Z"
        },
        "id": "Z5kGkx7v4Tbh"
      },
      "source": [
        "c_feats_new=[\"c_\"+x for x in c_feats]\n",
        "v_feats_new=[\"v_\"+x for x in v_feats]\n",
        "d_feats_new=[\"d_\"+x for x in d_feats]\n",
        "t_feats_new=[\"t_\"+x for x in t_feats]"
      ],
      "execution_count": 15,
      "outputs": []
    },
    {
      "cell_type": "code",
      "metadata": {
        "ExecuteTime": {
          "end_time": "2020-10-22T18:30:15.821297Z",
          "start_time": "2020-10-22T18:30:15.540938Z"
        },
        "id": "nRLcBlwG4Tbk"
      },
      "source": [
        "df.rename(columns=dict(zip(c_feats,c_feats_new)),inplace=True)"
      ],
      "execution_count": 16,
      "outputs": []
    },
    {
      "cell_type": "code",
      "metadata": {
        "id": "RYmx1cEHLz3j",
        "outputId": "32de6409-1ebb-4879-91e8-01aacb8e8728",
        "colab": {
          "base_uri": "https://localhost:8080/",
          "height": 51
        }
      },
      "source": [
        "print(c_feats)\n",
        "print(c_feats_new)"
      ],
      "execution_count": 19,
      "outputs": [
        {
          "output_type": "stream",
          "text": [
            "['edad', 'minutos', 'monto_de_apoyo', 'horas']\n",
            "['c_edad', 'c_minutos', 'c_monto_de_apoyo', 'c_horas']\n"
          ],
          "name": "stdout"
        }
      ]
    },
    {
      "cell_type": "code",
      "metadata": {
        "id": "5aCZbH4dL_XM",
        "outputId": "58853baf-b4f0-4a32-a8de-f5edf3c7ea29",
        "colab": {
          "base_uri": "https://localhost:8080/",
          "height": 136
        }
      },
      "source": [
        "df.columns"
      ],
      "execution_count": 21,
      "outputs": [
        {
          "output_type": "execute_result",
          "data": {
            "text/plain": [
              "Index(['c_edad', 'c_minutos', 'c_monto_de_apoyo', 'c_horas', 'ent_regis',\n",
              "       'mun_regis', 'ent_resid', 'mun_resid', 'ent_ocurr', 'mun_ocurr', 'sexo',\n",
              "       'ocupacion', 'edo_civil', 'lugar_ocur', 'sitio_ocur', 'nacionalid',\n",
              "       'embarazo', 'grupo', 'lengua', 'clave', 'escolarida', 'fecha_nac',\n",
              "       'fecha_ocurr', 'programa_fondo', 'nombre_del_proyecto',\n",
              "       'nombre_del_beneficiario'],\n",
              "      dtype='object')"
            ]
          },
          "metadata": {
            "tags": []
          },
          "execution_count": 21
        }
      ]
    },
    {
      "cell_type": "code",
      "metadata": {
        "ExecuteTime": {
          "end_time": "2020-10-22T18:30:15.893657Z",
          "start_time": "2020-10-22T18:30:15.826404Z"
        },
        "id": "sBVL7p5e4Tbm"
      },
      "source": [
        "df.rename(columns=dict(zip(d_feats,d_feats_new)),inplace=True)\n",
        "df.rename(columns=dict(zip(v_feats,v_feats_new)),inplace=True)\n",
        "df.rename(columns=dict(zip(t_feats,t_feats_new)),inplace=True)"
      ],
      "execution_count": 22,
      "outputs": []
    },
    {
      "cell_type": "code",
      "metadata": {
        "id": "njZAPqkcMKEV",
        "outputId": "40b0cd26-c9b9-4ecf-e437-216080d333bd",
        "colab": {
          "base_uri": "https://localhost:8080/",
          "height": 153
        }
      },
      "source": [
        "df.columns"
      ],
      "execution_count": 23,
      "outputs": [
        {
          "output_type": "execute_result",
          "data": {
            "text/plain": [
              "Index(['c_edad', 'c_minutos', 'c_monto_de_apoyo', 'c_horas', 'v_ent_regis',\n",
              "       'v_mun_regis', 'v_ent_resid', 'v_mun_resid', 'v_ent_ocurr',\n",
              "       'v_mun_ocurr', 'v_sexo', 'v_ocupacion', 'v_edo_civil', 'v_lugar_ocur',\n",
              "       'v_sitio_ocur', 'v_nacionalid', 'v_embarazo', 'v_grupo', 'v_lengua',\n",
              "       'v_clave', 'v_escolarida', 'd_fecha_nac', 'd_fecha_ocurr',\n",
              "       't_programa_fondo', 't_nombre_del_proyecto',\n",
              "       't_nombre_del_beneficiario'],\n",
              "      dtype='object')"
            ]
          },
          "metadata": {
            "tags": []
          },
          "execution_count": 23
        }
      ]
    },
    {
      "cell_type": "code",
      "metadata": {
        "ExecuteTime": {
          "end_time": "2020-10-22T18:30:16.080362Z",
          "start_time": "2020-10-22T18:30:15.899532Z"
        },
        "id": "lDRLNT4L4Tbp",
        "outputId": "460a0ab7-023c-4137-81e5-4757677b96e3",
        "colab": {
          "base_uri": "https://localhost:8080/",
          "height": 479
        }
      },
      "source": [
        "df.head()"
      ],
      "execution_count": 24,
      "outputs": [
        {
          "output_type": "execute_result",
          "data": {
            "text/html": [
              "<div>\n",
              "<style scoped>\n",
              "    .dataframe tbody tr th:only-of-type {\n",
              "        vertical-align: middle;\n",
              "    }\n",
              "\n",
              "    .dataframe tbody tr th {\n",
              "        vertical-align: top;\n",
              "    }\n",
              "\n",
              "    .dataframe thead th {\n",
              "        text-align: right;\n",
              "    }\n",
              "</style>\n",
              "<table border=\"1\" class=\"dataframe\">\n",
              "  <thead>\n",
              "    <tr style=\"text-align: right;\">\n",
              "      <th></th>\n",
              "      <th>c_edad</th>\n",
              "      <th>c_minutos</th>\n",
              "      <th>c_monto_de_apoyo</th>\n",
              "      <th>c_horas</th>\n",
              "      <th>v_ent_regis</th>\n",
              "      <th>v_mun_regis</th>\n",
              "      <th>v_ent_resid</th>\n",
              "      <th>v_mun_resid</th>\n",
              "      <th>v_ent_ocurr</th>\n",
              "      <th>v_mun_ocurr</th>\n",
              "      <th>v_sexo</th>\n",
              "      <th>v_ocupacion</th>\n",
              "      <th>v_edo_civil</th>\n",
              "      <th>v_lugar_ocur</th>\n",
              "      <th>v_sitio_ocur</th>\n",
              "      <th>v_nacionalid</th>\n",
              "      <th>v_embarazo</th>\n",
              "      <th>v_grupo</th>\n",
              "      <th>v_lengua</th>\n",
              "      <th>v_clave</th>\n",
              "      <th>v_escolarida</th>\n",
              "      <th>d_fecha_nac</th>\n",
              "      <th>d_fecha_ocurr</th>\n",
              "      <th>t_programa_fondo</th>\n",
              "      <th>t_nombre_del_proyecto</th>\n",
              "      <th>t_nombre_del_beneficiario</th>\n",
              "    </tr>\n",
              "  </thead>\n",
              "  <tbody>\n",
              "    <tr>\n",
              "      <th>0</th>\n",
              "      <td>4069</td>\n",
              "      <td>27</td>\n",
              "      <td>NaN</td>\n",
              "      <td>16</td>\n",
              "      <td>1.0</td>\n",
              "      <td>1</td>\n",
              "      <td>1</td>\n",
              "      <td>1</td>\n",
              "      <td>NaN</td>\n",
              "      <td>1</td>\n",
              "      <td>NaN</td>\n",
              "      <td>11</td>\n",
              "      <td>NaN</td>\n",
              "      <td>88</td>\n",
              "      <td>3</td>\n",
              "      <td>1</td>\n",
              "      <td>8</td>\n",
              "      <td>7</td>\n",
              "      <td>2.0</td>\n",
              "      <td>6343</td>\n",
              "      <td>1</td>\n",
              "      <td>1946-06-30</td>\n",
              "      <td>2015-05-25</td>\n",
              "      <td>Programa Jalisciense de Fomento a la Propieda...</td>\n",
              "      <td>MX - SISTEMA MECATRÓNICO PARA EL CONTROL DE IN...</td>\n",
              "      <td>RICARDO MERCADO CORTÉS\\n</td>\n",
              "    </tr>\n",
              "    <tr>\n",
              "      <th>1</th>\n",
              "      <td>4093</td>\n",
              "      <td>0</td>\n",
              "      <td>31446.48</td>\n",
              "      <td>6</td>\n",
              "      <td>NaN</td>\n",
              "      <td>1</td>\n",
              "      <td>1</td>\n",
              "      <td>1</td>\n",
              "      <td>NaN</td>\n",
              "      <td>1</td>\n",
              "      <td>1</td>\n",
              "      <td>6</td>\n",
              "      <td>NaN</td>\n",
              "      <td>88</td>\n",
              "      <td>11</td>\n",
              "      <td>1</td>\n",
              "      <td>8</td>\n",
              "      <td>8</td>\n",
              "      <td>NaN</td>\n",
              "      <td>6344</td>\n",
              "      <td>3</td>\n",
              "      <td>1921-08-25</td>\n",
              "      <td>2015-09-26</td>\n",
              "      <td>Programa Jalisciense de Fomento a la Propieda...</td>\n",
              "      <td>PCT - SISTEMA MECATRÓNICO PARA EL CONTROL DE I...</td>\n",
              "      <td>RICARDO MERCADO CORTÉS\\n</td>\n",
              "    </tr>\n",
              "    <tr>\n",
              "      <th>2</th>\n",
              "      <td>4092</td>\n",
              "      <td>30</td>\n",
              "      <td>65673.63</td>\n",
              "      <td>16</td>\n",
              "      <td>1.0</td>\n",
              "      <td>1</td>\n",
              "      <td>1</td>\n",
              "      <td>1</td>\n",
              "      <td>NaN</td>\n",
              "      <td>1</td>\n",
              "      <td>1</td>\n",
              "      <td>7</td>\n",
              "      <td>NaN</td>\n",
              "      <td>88</td>\n",
              "      <td>11</td>\n",
              "      <td>1</td>\n",
              "      <td>8</td>\n",
              "      <td>2</td>\n",
              "      <td>NaN</td>\n",
              "      <td>6345</td>\n",
              "      <td>3</td>\n",
              "      <td>1922-06-12</td>\n",
              "      <td>2015-12-14</td>\n",
              "      <td>Programa Jalisciense de Fomento a la Propieda...</td>\n",
              "      <td>MX-EMPAQUE CÓNICO PARA LA CONEXIÓN \\nDE MANGUE...</td>\n",
              "      <td>CORPORATIVO BORO S.A. DE C.V.</td>\n",
              "    </tr>\n",
              "    <tr>\n",
              "      <th>3</th>\n",
              "      <td>4047</td>\n",
              "      <td>58</td>\n",
              "      <td>Sistema Tecnológico de Jalisco, A.C.</td>\n",
              "      <td>3</td>\n",
              "      <td>NaN</td>\n",
              "      <td>1</td>\n",
              "      <td>1</td>\n",
              "      <td>1</td>\n",
              "      <td>NaN</td>\n",
              "      <td>1</td>\n",
              "      <td>Sistema Tecnológico de Jalisco, A.C.</td>\n",
              "      <td>7</td>\n",
              "      <td>NaN</td>\n",
              "      <td>88</td>\n",
              "      <td>9</td>\n",
              "      <td>1</td>\n",
              "      <td>8</td>\n",
              "      <td>13</td>\n",
              "      <td>1.0</td>\n",
              "      <td>6346</td>\n",
              "      <td>6</td>\n",
              "      <td>1967-08-28</td>\n",
              "      <td>2015-01-03</td>\n",
              "      <td>Programa Jalisciense de Fomento a la Propieda...</td>\n",
              "      <td>MX-PASTA BIODEGRADABLE PARA USOS MÚLTIPLES\\n</td>\n",
              "      <td>CORPORATIVO BORO S.A. DE C.V.\\n</td>\n",
              "    </tr>\n",
              "    <tr>\n",
              "      <th>4</th>\n",
              "      <td>4040</td>\n",
              "      <td>50</td>\n",
              "      <td>30254.04</td>\n",
              "      <td>6</td>\n",
              "      <td>1.0</td>\n",
              "      <td>1</td>\n",
              "      <td>1</td>\n",
              "      <td>1</td>\n",
              "      <td>NaN</td>\n",
              "      <td>1</td>\n",
              "      <td>2</td>\n",
              "      <td>11</td>\n",
              "      <td>NaN</td>\n",
              "      <td>88</td>\n",
              "      <td>1</td>\n",
              "      <td>1</td>\n",
              "      <td>5</td>\n",
              "      <td>7</td>\n",
              "      <td>NaN</td>\n",
              "      <td>6364</td>\n",
              "      <td>4</td>\n",
              "      <td>1974-12-17</td>\n",
              "      <td>2015-07-16</td>\n",
              "      <td>Programa Jalisciense de Fomento a la Propieda...</td>\n",
              "      <td>DISPOSITIVO PERSONAL DE COMUNICACIÓN REMOTA PA...</td>\n",
              "      <td>GERALDINA  VEGA GAMBOA\\n</td>\n",
              "    </tr>\n",
              "  </tbody>\n",
              "</table>\n",
              "</div>"
            ],
            "text/plain": [
              "   c_edad  ...        t_nombre_del_beneficiario\n",
              "0    4069  ...         RICARDO MERCADO CORTÉS\\n\n",
              "1    4093  ...         RICARDO MERCADO CORTÉS\\n\n",
              "2    4092  ...    CORPORATIVO BORO S.A. DE C.V.\n",
              "3    4047  ...  CORPORATIVO BORO S.A. DE C.V.\\n\n",
              "4    4040  ...         GERALDINA  VEGA GAMBOA\\n\n",
              "\n",
              "[5 rows x 26 columns]"
            ]
          },
          "metadata": {
            "tags": []
          },
          "execution_count": 24
        }
      ]
    },
    {
      "cell_type": "code",
      "metadata": {
        "id": "RbK__OaDMeZK",
        "outputId": "8a9594e9-e987-400b-d673-950765b57f43",
        "colab": {
          "base_uri": "https://localhost:8080/",
          "height": 34
        }
      },
      "source": [
        "df[\"v_lengua\"].unique()"
      ],
      "execution_count": 26,
      "outputs": [
        {
          "output_type": "execute_result",
          "data": {
            "text/plain": [
              "array([ 2., nan,  1.,  9.])"
            ]
          },
          "metadata": {
            "tags": []
          },
          "execution_count": 26
        }
      ]
    },
    {
      "cell_type": "code",
      "metadata": {
        "ExecuteTime": {
          "end_time": "2020-10-22T18:30:16.391519Z",
          "start_time": "2020-10-22T18:30:16.087090Z"
        },
        "id": "tme3v5du4Tbs",
        "outputId": "1bf4aa49-4eee-4f58-fef3-1ea580fb5550",
        "colab": {
          "base_uri": "https://localhost:8080/",
          "height": 85
        }
      },
      "source": [
        "df[\"v_lengua\"].value_counts()"
      ],
      "execution_count": 25,
      "outputs": [
        {
          "output_type": "execute_result",
          "data": {
            "text/plain": [
              "2.0    113209\n",
              "9.0     25806\n",
              "1.0     12149\n",
              "Name: v_lengua, dtype: int64"
            ]
          },
          "metadata": {
            "tags": []
          },
          "execution_count": 25
        }
      ]
    },
    {
      "cell_type": "code",
      "metadata": {
        "ExecuteTime": {
          "end_time": "2020-10-22T18:30:16.946871Z",
          "start_time": "2020-10-22T18:30:16.400943Z"
        },
        "scrolled": true,
        "id": "qNpXn-qE4Tbu",
        "outputId": "7bb74b16-13b9-434a-e11c-85345ac5a035",
        "colab": {
          "base_uri": "https://localhost:8080/",
          "height": 479
        }
      },
      "source": [
        "df.head()"
      ],
      "execution_count": 27,
      "outputs": [
        {
          "output_type": "execute_result",
          "data": {
            "text/html": [
              "<div>\n",
              "<style scoped>\n",
              "    .dataframe tbody tr th:only-of-type {\n",
              "        vertical-align: middle;\n",
              "    }\n",
              "\n",
              "    .dataframe tbody tr th {\n",
              "        vertical-align: top;\n",
              "    }\n",
              "\n",
              "    .dataframe thead th {\n",
              "        text-align: right;\n",
              "    }\n",
              "</style>\n",
              "<table border=\"1\" class=\"dataframe\">\n",
              "  <thead>\n",
              "    <tr style=\"text-align: right;\">\n",
              "      <th></th>\n",
              "      <th>c_edad</th>\n",
              "      <th>c_minutos</th>\n",
              "      <th>c_monto_de_apoyo</th>\n",
              "      <th>c_horas</th>\n",
              "      <th>v_ent_regis</th>\n",
              "      <th>v_mun_regis</th>\n",
              "      <th>v_ent_resid</th>\n",
              "      <th>v_mun_resid</th>\n",
              "      <th>v_ent_ocurr</th>\n",
              "      <th>v_mun_ocurr</th>\n",
              "      <th>v_sexo</th>\n",
              "      <th>v_ocupacion</th>\n",
              "      <th>v_edo_civil</th>\n",
              "      <th>v_lugar_ocur</th>\n",
              "      <th>v_sitio_ocur</th>\n",
              "      <th>v_nacionalid</th>\n",
              "      <th>v_embarazo</th>\n",
              "      <th>v_grupo</th>\n",
              "      <th>v_lengua</th>\n",
              "      <th>v_clave</th>\n",
              "      <th>v_escolarida</th>\n",
              "      <th>d_fecha_nac</th>\n",
              "      <th>d_fecha_ocurr</th>\n",
              "      <th>t_programa_fondo</th>\n",
              "      <th>t_nombre_del_proyecto</th>\n",
              "      <th>t_nombre_del_beneficiario</th>\n",
              "    </tr>\n",
              "  </thead>\n",
              "  <tbody>\n",
              "    <tr>\n",
              "      <th>0</th>\n",
              "      <td>4069</td>\n",
              "      <td>27</td>\n",
              "      <td>NaN</td>\n",
              "      <td>16</td>\n",
              "      <td>1.0</td>\n",
              "      <td>1</td>\n",
              "      <td>1</td>\n",
              "      <td>1</td>\n",
              "      <td>NaN</td>\n",
              "      <td>1</td>\n",
              "      <td>NaN</td>\n",
              "      <td>11</td>\n",
              "      <td>NaN</td>\n",
              "      <td>88</td>\n",
              "      <td>3</td>\n",
              "      <td>1</td>\n",
              "      <td>8</td>\n",
              "      <td>7</td>\n",
              "      <td>2.0</td>\n",
              "      <td>6343</td>\n",
              "      <td>1</td>\n",
              "      <td>1946-06-30</td>\n",
              "      <td>2015-05-25</td>\n",
              "      <td>Programa Jalisciense de Fomento a la Propieda...</td>\n",
              "      <td>MX - SISTEMA MECATRÓNICO PARA EL CONTROL DE IN...</td>\n",
              "      <td>RICARDO MERCADO CORTÉS\\n</td>\n",
              "    </tr>\n",
              "    <tr>\n",
              "      <th>1</th>\n",
              "      <td>4093</td>\n",
              "      <td>0</td>\n",
              "      <td>31446.48</td>\n",
              "      <td>6</td>\n",
              "      <td>NaN</td>\n",
              "      <td>1</td>\n",
              "      <td>1</td>\n",
              "      <td>1</td>\n",
              "      <td>NaN</td>\n",
              "      <td>1</td>\n",
              "      <td>1</td>\n",
              "      <td>6</td>\n",
              "      <td>NaN</td>\n",
              "      <td>88</td>\n",
              "      <td>11</td>\n",
              "      <td>1</td>\n",
              "      <td>8</td>\n",
              "      <td>8</td>\n",
              "      <td>NaN</td>\n",
              "      <td>6344</td>\n",
              "      <td>3</td>\n",
              "      <td>1921-08-25</td>\n",
              "      <td>2015-09-26</td>\n",
              "      <td>Programa Jalisciense de Fomento a la Propieda...</td>\n",
              "      <td>PCT - SISTEMA MECATRÓNICO PARA EL CONTROL DE I...</td>\n",
              "      <td>RICARDO MERCADO CORTÉS\\n</td>\n",
              "    </tr>\n",
              "    <tr>\n",
              "      <th>2</th>\n",
              "      <td>4092</td>\n",
              "      <td>30</td>\n",
              "      <td>65673.63</td>\n",
              "      <td>16</td>\n",
              "      <td>1.0</td>\n",
              "      <td>1</td>\n",
              "      <td>1</td>\n",
              "      <td>1</td>\n",
              "      <td>NaN</td>\n",
              "      <td>1</td>\n",
              "      <td>1</td>\n",
              "      <td>7</td>\n",
              "      <td>NaN</td>\n",
              "      <td>88</td>\n",
              "      <td>11</td>\n",
              "      <td>1</td>\n",
              "      <td>8</td>\n",
              "      <td>2</td>\n",
              "      <td>NaN</td>\n",
              "      <td>6345</td>\n",
              "      <td>3</td>\n",
              "      <td>1922-06-12</td>\n",
              "      <td>2015-12-14</td>\n",
              "      <td>Programa Jalisciense de Fomento a la Propieda...</td>\n",
              "      <td>MX-EMPAQUE CÓNICO PARA LA CONEXIÓN \\nDE MANGUE...</td>\n",
              "      <td>CORPORATIVO BORO S.A. DE C.V.</td>\n",
              "    </tr>\n",
              "    <tr>\n",
              "      <th>3</th>\n",
              "      <td>4047</td>\n",
              "      <td>58</td>\n",
              "      <td>Sistema Tecnológico de Jalisco, A.C.</td>\n",
              "      <td>3</td>\n",
              "      <td>NaN</td>\n",
              "      <td>1</td>\n",
              "      <td>1</td>\n",
              "      <td>1</td>\n",
              "      <td>NaN</td>\n",
              "      <td>1</td>\n",
              "      <td>Sistema Tecnológico de Jalisco, A.C.</td>\n",
              "      <td>7</td>\n",
              "      <td>NaN</td>\n",
              "      <td>88</td>\n",
              "      <td>9</td>\n",
              "      <td>1</td>\n",
              "      <td>8</td>\n",
              "      <td>13</td>\n",
              "      <td>1.0</td>\n",
              "      <td>6346</td>\n",
              "      <td>6</td>\n",
              "      <td>1967-08-28</td>\n",
              "      <td>2015-01-03</td>\n",
              "      <td>Programa Jalisciense de Fomento a la Propieda...</td>\n",
              "      <td>MX-PASTA BIODEGRADABLE PARA USOS MÚLTIPLES\\n</td>\n",
              "      <td>CORPORATIVO BORO S.A. DE C.V.\\n</td>\n",
              "    </tr>\n",
              "    <tr>\n",
              "      <th>4</th>\n",
              "      <td>4040</td>\n",
              "      <td>50</td>\n",
              "      <td>30254.04</td>\n",
              "      <td>6</td>\n",
              "      <td>1.0</td>\n",
              "      <td>1</td>\n",
              "      <td>1</td>\n",
              "      <td>1</td>\n",
              "      <td>NaN</td>\n",
              "      <td>1</td>\n",
              "      <td>2</td>\n",
              "      <td>11</td>\n",
              "      <td>NaN</td>\n",
              "      <td>88</td>\n",
              "      <td>1</td>\n",
              "      <td>1</td>\n",
              "      <td>5</td>\n",
              "      <td>7</td>\n",
              "      <td>NaN</td>\n",
              "      <td>6364</td>\n",
              "      <td>4</td>\n",
              "      <td>1974-12-17</td>\n",
              "      <td>2015-07-16</td>\n",
              "      <td>Programa Jalisciense de Fomento a la Propieda...</td>\n",
              "      <td>DISPOSITIVO PERSONAL DE COMUNICACIÓN REMOTA PA...</td>\n",
              "      <td>GERALDINA  VEGA GAMBOA\\n</td>\n",
              "    </tr>\n",
              "  </tbody>\n",
              "</table>\n",
              "</div>"
            ],
            "text/plain": [
              "   c_edad  ...        t_nombre_del_beneficiario\n",
              "0    4069  ...         RICARDO MERCADO CORTÉS\\n\n",
              "1    4093  ...         RICARDO MERCADO CORTÉS\\n\n",
              "2    4092  ...    CORPORATIVO BORO S.A. DE C.V.\n",
              "3    4047  ...  CORPORATIVO BORO S.A. DE C.V.\\n\n",
              "4    4040  ...         GERALDINA  VEGA GAMBOA\\n\n",
              "\n",
              "[5 rows x 26 columns]"
            ]
          },
          "metadata": {
            "tags": []
          },
          "execution_count": 27
        }
      ]
    },
    {
      "cell_type": "code",
      "metadata": {
        "ExecuteTime": {
          "end_time": "2020-10-22T18:30:16.964364Z",
          "start_time": "2020-10-22T18:30:16.955057Z"
        },
        "id": "-iJKzqA74Tbx"
      },
      "source": [
        "df=df[:2000]"
      ],
      "execution_count": 28,
      "outputs": []
    },
    {
      "cell_type": "code",
      "metadata": {
        "ExecuteTime": {
          "end_time": "2020-10-22T18:30:17.140002Z",
          "start_time": "2020-10-22T18:30:16.977578Z"
        },
        "id": "fNukgFLt4Tbz"
      },
      "source": [
        "sexo=pd.read_csv(\"/content/drive/My Drive/datasets/desexo.csv\")\n",
        "ocupacion=pd.read_csv(\"/content/drive/My Drive/datasets/deocupa.csv\")\n",
        "escolaridad=pd.read_csv(\"/content/drive/My Drive/datasets/deesco.csv\")\n",
        "edad=pd.read_csv(\"/content/drive/My Drive/datasets/deedad.csv\")"
      ],
      "execution_count": 29,
      "outputs": []
    },
    {
      "cell_type": "code",
      "metadata": {
        "ExecuteTime": {
          "end_time": "2020-10-22T18:30:17.176021Z",
          "start_time": "2020-10-22T18:30:17.148913Z"
        },
        "scrolled": true,
        "id": "deegkEMj4Tb2",
        "outputId": "049ff210-2c15-4f11-b469-0e8f4a4e0e89",
        "colab": {
          "base_uri": "https://localhost:8080/",
          "height": 476
        }
      },
      "source": [
        "df.dtypes"
      ],
      "execution_count": 30,
      "outputs": [
        {
          "output_type": "execute_result",
          "data": {
            "text/plain": [
              "c_edad                         int64\n",
              "c_minutos                      int64\n",
              "c_monto_de_apoyo              object\n",
              "c_horas                        int64\n",
              "v_ent_regis                  float64\n",
              "v_mun_regis                    int64\n",
              "v_ent_resid                    int64\n",
              "v_mun_resid                    int64\n",
              "v_ent_ocurr                  float64\n",
              "v_mun_ocurr                    int64\n",
              "v_sexo                        object\n",
              "v_ocupacion                    int64\n",
              "v_edo_civil                  float64\n",
              "v_lugar_ocur                   int64\n",
              "v_sitio_ocur                   int64\n",
              "v_nacionalid                   int64\n",
              "v_embarazo                     int64\n",
              "v_grupo                        int64\n",
              "v_lengua                     float64\n",
              "v_clave                        int64\n",
              "v_escolarida                   int64\n",
              "d_fecha_nac                   object\n",
              "d_fecha_ocurr                 object\n",
              "t_programa_fondo              object\n",
              "t_nombre_del_proyecto         object\n",
              "t_nombre_del_beneficiario     object\n",
              "dtype: object"
            ]
          },
          "metadata": {
            "tags": []
          },
          "execution_count": 30
        }
      ]
    },
    {
      "cell_type": "code",
      "metadata": {
        "ExecuteTime": {
          "end_time": "2020-10-22T17:37:39.491181Z",
          "start_time": "2020-10-22T17:37:39.420973Z"
        },
        "scrolled": true,
        "id": "Xf_6Wglg4Tb4",
        "outputId": "fa4ec07f-f4a3-44bc-e959-23ab57a9bc59",
        "colab": {
          "base_uri": "https://localhost:8080/",
          "height": 476
        }
      },
      "source": [
        "df.isnull().sum()"
      ],
      "execution_count": 31,
      "outputs": [
        {
          "output_type": "execute_result",
          "data": {
            "text/plain": [
              "c_edad                          0\n",
              "c_minutos                       0\n",
              "c_monto_de_apoyo                1\n",
              "c_horas                         0\n",
              "v_ent_regis                   583\n",
              "v_mun_regis                     0\n",
              "v_ent_resid                     0\n",
              "v_mun_resid                     0\n",
              "v_ent_ocurr                  2000\n",
              "v_mun_ocurr                     0\n",
              "v_sexo                          1\n",
              "v_ocupacion                     0\n",
              "v_edo_civil                  2000\n",
              "v_lugar_ocur                    0\n",
              "v_sitio_ocur                    0\n",
              "v_nacionalid                    0\n",
              "v_embarazo                      0\n",
              "v_grupo                         0\n",
              "v_lengua                     1556\n",
              "v_clave                         0\n",
              "v_escolarida                    0\n",
              "d_fecha_nac                     4\n",
              "d_fecha_ocurr                   1\n",
              "t_programa_fondo                0\n",
              "t_nombre_del_proyecto           0\n",
              "t_nombre_del_beneficiario       0\n",
              "dtype: int64"
            ]
          },
          "metadata": {
            "tags": []
          },
          "execution_count": 31
        }
      ]
    },
    {
      "cell_type": "code",
      "metadata": {
        "id": "Pt11NlRiNlW1",
        "outputId": "53193f95-9582-460f-e202-106bd393eda1",
        "colab": {
          "base_uri": "https://localhost:8080/",
          "height": 476
        }
      },
      "source": [
        "df.isnull().mean()"
      ],
      "execution_count": 32,
      "outputs": [
        {
          "output_type": "execute_result",
          "data": {
            "text/plain": [
              "c_edad                       0.0000\n",
              "c_minutos                    0.0000\n",
              "c_monto_de_apoyo             0.0005\n",
              "c_horas                      0.0000\n",
              "v_ent_regis                  0.2915\n",
              "v_mun_regis                  0.0000\n",
              "v_ent_resid                  0.0000\n",
              "v_mun_resid                  0.0000\n",
              "v_ent_ocurr                  1.0000\n",
              "v_mun_ocurr                  0.0000\n",
              "v_sexo                       0.0005\n",
              "v_ocupacion                  0.0000\n",
              "v_edo_civil                  1.0000\n",
              "v_lugar_ocur                 0.0000\n",
              "v_sitio_ocur                 0.0000\n",
              "v_nacionalid                 0.0000\n",
              "v_embarazo                   0.0000\n",
              "v_grupo                      0.0000\n",
              "v_lengua                     0.7780\n",
              "v_clave                      0.0000\n",
              "v_escolarida                 0.0000\n",
              "d_fecha_nac                  0.0020\n",
              "d_fecha_ocurr                0.0005\n",
              "t_programa_fondo             0.0000\n",
              "t_nombre_del_proyecto        0.0000\n",
              "t_nombre_del_beneficiario    0.0000\n",
              "dtype: float64"
            ]
          },
          "metadata": {
            "tags": []
          },
          "execution_count": 32
        }
      ]
    },
    {
      "cell_type": "code",
      "metadata": {
        "ExecuteTime": {
          "end_time": "2020-10-22T18:31:37.576913Z",
          "start_time": "2020-10-22T18:31:37.564583Z"
        },
        "id": "UWcLgGVT4Tb7",
        "outputId": "44267126-8f7d-43b0-a474-5e0b59f850de",
        "colab": {
          "base_uri": "https://localhost:8080/",
          "height": 34
        }
      },
      "source": [
        "df[\"v_lengua\"].dtype"
      ],
      "execution_count": 33,
      "outputs": [
        {
          "output_type": "execute_result",
          "data": {
            "text/plain": [
              "dtype('float64')"
            ]
          },
          "metadata": {
            "tags": []
          },
          "execution_count": 33
        }
      ]
    },
    {
      "cell_type": "code",
      "metadata": {
        "ExecuteTime": {
          "end_time": "2020-10-22T18:31:38.257012Z",
          "start_time": "2020-10-22T18:31:38.238883Z"
        },
        "id": "zl1ZnDcl4Tb9",
        "outputId": "5ecf9690-d61f-4f20-e1f8-80c0b16a98c9",
        "colab": {
          "base_uri": "https://localhost:8080/",
          "height": 136
        }
      },
      "source": [
        "df[\"v_sexo\"].value_counts()"
      ],
      "execution_count": 34,
      "outputs": [
        {
          "output_type": "execute_result",
          "data": {
            "text/plain": [
              "1                                       1070\n",
              "2                                        924\n",
              "MARICELA  LOPEZ CEPEDA\\n                   2\n",
              "SFERP S.C.                                 1\n",
              "Molina Pasquel Y Henriquez                 1\n",
              "Sistema Tecnológico de Jalisco, A.C.       1\n",
              "Name: v_sexo, dtype: int64"
            ]
          },
          "metadata": {
            "tags": []
          },
          "execution_count": 34
        }
      ]
    },
    {
      "cell_type": "code",
      "metadata": {
        "ExecuteTime": {
          "end_time": "2020-10-22T18:31:38.672318Z",
          "start_time": "2020-10-22T18:31:38.618200Z"
        },
        "id": "aT07DDQY4TcA",
        "outputId": "2c031e58-7844-4f21-eef3-46faad667600",
        "colab": {
          "base_uri": "https://localhost:8080/",
          "height": 221
        }
      },
      "source": [
        "df[\"c_monto_de_apoyo\"].value_counts()"
      ],
      "execution_count": 35,
      "outputs": [
        {
          "output_type": "execute_result",
          "data": {
            "text/plain": [
              "12254.04                                375\n",
              "31450.0                                 121\n",
              "50336.83                                121\n",
              "30884.1                                  88\n",
              "49381.31                                 69\n",
              "                                       ... \n",
              "66465.0                                  11\n",
              "MARICELA  LOPEZ CEPEDA\\n                  2\n",
              "Sistema Tecnológico de Jalisco, A.C.      1\n",
              "Molina Pasquel Y Henriquez                1\n",
              "SFERP S.C.                                1\n",
              "Name: c_monto_de_apoyo, Length: 89, dtype: int64"
            ]
          },
          "metadata": {
            "tags": []
          },
          "execution_count": 35
        }
      ]
    },
    {
      "cell_type": "code",
      "metadata": {
        "ExecuteTime": {
          "end_time": "2020-10-22T18:31:39.504787Z",
          "start_time": "2020-10-22T18:31:38.910462Z"
        },
        "id": "do-OLcda4TcD",
        "outputId": "de23a367-1610-4452-a8e8-83d100c43bba",
        "colab": {
          "base_uri": "https://localhost:8080/",
          "height": 102
        }
      },
      "source": [
        "# \"~\" lo que hace es traerte el complemento de la función\n",
        "#Aquí solo queremos quedarnos con el texto por eso usamos \"~\"\n",
        "df[~df[\"v_sexo\"].map(lambda x:str(x).isdigit())][\"v_sexo\"].value_counts()"
      ],
      "execution_count": 46,
      "outputs": [
        {
          "output_type": "execute_result",
          "data": {
            "text/plain": [
              "MARICELA  LOPEZ CEPEDA\\n                2\n",
              "SFERP S.C.                              1\n",
              "Sistema Tecnológico de Jalisco, A.C.    1\n",
              "Molina Pasquel Y Henriquez              1\n",
              "Name: v_sexo, dtype: int64"
            ]
          },
          "metadata": {
            "tags": []
          },
          "execution_count": 46
        }
      ]
    },
    {
      "cell_type": "code",
      "metadata": {
        "ExecuteTime": {
          "end_time": "2020-10-22T18:31:39.844389Z",
          "start_time": "2020-10-22T18:31:39.525724Z"
        },
        "id": "IIcy3RAY4TcF",
        "outputId": "6b9644da-d50a-4d91-834d-74c0ad717399",
        "colab": {
          "base_uri": "https://localhost:8080/",
          "height": 68
        }
      },
      "source": [
        "#Aquí si nos quedamos con los números\n",
        "df[df[\"v_sexo\"].map(lambda x:str(x).isdigit())][\"v_sexo\"].value_counts()"
      ],
      "execution_count": 47,
      "outputs": [
        {
          "output_type": "execute_result",
          "data": {
            "text/plain": [
              "1    1070\n",
              "2     924\n",
              "Name: v_sexo, dtype: int64"
            ]
          },
          "metadata": {
            "tags": []
          },
          "execution_count": 47
        }
      ]
    },
    {
      "cell_type": "code",
      "metadata": {
        "ExecuteTime": {
          "end_time": "2020-10-22T18:31:39.928820Z",
          "start_time": "2020-10-22T18:31:39.852522Z"
        },
        "id": "dhLS52o84TcJ"
      },
      "source": [
        "df=df[df[\"v_sexo\"].map(lambda x:str(x).isdigit())]"
      ],
      "execution_count": 48,
      "outputs": []
    },
    {
      "cell_type": "code",
      "metadata": {
        "id": "WBCsHxAAO0yQ",
        "outputId": "98f50f07-0606-4dae-95d4-855151d8c46a",
        "colab": {
          "base_uri": "https://localhost:8080/",
          "height": 68
        }
      },
      "source": [
        "df[\"v_sexo\"].value_counts()"
      ],
      "execution_count": 51,
      "outputs": [
        {
          "output_type": "execute_result",
          "data": {
            "text/plain": [
              "1    1070\n",
              "2     924\n",
              "Name: v_sexo, dtype: int64"
            ]
          },
          "metadata": {
            "tags": []
          },
          "execution_count": 51
        }
      ]
    },
    {
      "cell_type": "code",
      "metadata": {
        "ExecuteTime": {
          "end_time": "2020-10-22T18:31:40.286279Z",
          "start_time": "2020-10-22T18:31:40.271149Z"
        },
        "id": "rcEHVlcw4TcL",
        "outputId": "f13c45a1-71d1-4dd9-ab3d-71cd07f97c49",
        "colab": {
          "base_uri": "https://localhost:8080/",
          "height": 34
        }
      },
      "source": [
        "df[\"v_sexo\"].dtype"
      ],
      "execution_count": 49,
      "outputs": [
        {
          "output_type": "execute_result",
          "data": {
            "text/plain": [
              "dtype('O')"
            ]
          },
          "metadata": {
            "tags": []
          },
          "execution_count": 49
        }
      ]
    },
    {
      "cell_type": "code",
      "metadata": {
        "ExecuteTime": {
          "end_time": "2020-10-22T18:31:40.788024Z",
          "start_time": "2020-10-22T18:31:40.698290Z"
        },
        "id": "j5M1KUlZ4TcN"
      },
      "source": [
        "df[\"v_sexo\"]=df[\"v_sexo\"].map(int)"
      ],
      "execution_count": 52,
      "outputs": []
    },
    {
      "cell_type": "code",
      "metadata": {
        "id": "yLNae4mePAP7",
        "outputId": "88fd0890-4368-4793-ced4-92e2dacba4be",
        "colab": {
          "base_uri": "https://localhost:8080/",
          "height": 34
        }
      },
      "source": [
        "df[\"v_sexo\"].dtype"
      ],
      "execution_count": 53,
      "outputs": [
        {
          "output_type": "execute_result",
          "data": {
            "text/plain": [
              "dtype('int64')"
            ]
          },
          "metadata": {
            "tags": []
          },
          "execution_count": 53
        }
      ]
    },
    {
      "cell_type": "code",
      "metadata": {
        "ExecuteTime": {
          "end_time": "2020-10-22T18:31:41.335891Z",
          "start_time": "2020-10-22T18:31:41.136135Z"
        },
        "scrolled": true,
        "id": "4VOYq44t4TcP"
      },
      "source": [
        "df=df.merge(sexo,right_on=\"CVE\",left_on=\"v_sexo\",how=\"left\")"
      ],
      "execution_count": 54,
      "outputs": []
    },
    {
      "cell_type": "code",
      "metadata": {
        "ExecuteTime": {
          "end_time": "2020-10-22T18:31:41.543209Z",
          "start_time": "2020-10-22T18:31:41.525519Z"
        },
        "scrolled": true,
        "id": "YaFrLlU14TcR"
      },
      "source": [
        "df.drop(columns=[\"v_sexo\",\"CVE\"],inplace=True)\n",
        "df.rename(columns={\"DESCRIP\":\"v_sexo\"},inplace=True)"
      ],
      "execution_count": 55,
      "outputs": []
    },
    {
      "cell_type": "code",
      "metadata": {
        "ExecuteTime": {
          "end_time": "2020-10-22T18:31:41.968254Z",
          "start_time": "2020-10-22T18:31:41.938512Z"
        },
        "scrolled": true,
        "id": "IDfb-W1F4TcT",
        "outputId": "969d9a80-afb1-46f6-8c55-ea7f999d1718",
        "colab": {
          "base_uri": "https://localhost:8080/",
          "height": 419
        }
      },
      "source": [
        "edad.head(100)"
      ],
      "execution_count": 56,
      "outputs": [
        {
          "output_type": "execute_result",
          "data": {
            "text/html": [
              "<div>\n",
              "<style scoped>\n",
              "    .dataframe tbody tr th:only-of-type {\n",
              "        vertical-align: middle;\n",
              "    }\n",
              "\n",
              "    .dataframe tbody tr th {\n",
              "        vertical-align: top;\n",
              "    }\n",
              "\n",
              "    .dataframe thead th {\n",
              "        text-align: right;\n",
              "    }\n",
              "</style>\n",
              "<table border=\"1\" class=\"dataframe\">\n",
              "  <thead>\n",
              "    <tr style=\"text-align: right;\">\n",
              "      <th></th>\n",
              "      <th>CVE</th>\n",
              "      <th>DESCRIP</th>\n",
              "    </tr>\n",
              "  </thead>\n",
              "  <tbody>\n",
              "    <tr>\n",
              "      <th>0</th>\n",
              "      <td>1001</td>\n",
              "      <td>Una hora</td>\n",
              "    </tr>\n",
              "    <tr>\n",
              "      <th>1</th>\n",
              "      <td>1002</td>\n",
              "      <td>Dos horas</td>\n",
              "    </tr>\n",
              "    <tr>\n",
              "      <th>2</th>\n",
              "      <td>1003</td>\n",
              "      <td>Tres horas</td>\n",
              "    </tr>\n",
              "    <tr>\n",
              "      <th>3</th>\n",
              "      <td>1004</td>\n",
              "      <td>Cuatro horas</td>\n",
              "    </tr>\n",
              "    <tr>\n",
              "      <th>4</th>\n",
              "      <td>1005</td>\n",
              "      <td>Cinco horas</td>\n",
              "    </tr>\n",
              "    <tr>\n",
              "      <th>...</th>\n",
              "      <td>...</td>\n",
              "      <td>...</td>\n",
              "    </tr>\n",
              "    <tr>\n",
              "      <th>95</th>\n",
              "      <td>4029</td>\n",
              "      <td>Veintinueve años</td>\n",
              "    </tr>\n",
              "    <tr>\n",
              "      <th>96</th>\n",
              "      <td>4030</td>\n",
              "      <td>Treinta años</td>\n",
              "    </tr>\n",
              "    <tr>\n",
              "      <th>97</th>\n",
              "      <td>4031</td>\n",
              "      <td>Treinta y un años</td>\n",
              "    </tr>\n",
              "    <tr>\n",
              "      <th>98</th>\n",
              "      <td>4032</td>\n",
              "      <td>Treinta y dos años</td>\n",
              "    </tr>\n",
              "    <tr>\n",
              "      <th>99</th>\n",
              "      <td>4033</td>\n",
              "      <td>Treinta y tres años</td>\n",
              "    </tr>\n",
              "  </tbody>\n",
              "</table>\n",
              "<p>100 rows × 2 columns</p>\n",
              "</div>"
            ],
            "text/plain": [
              "     CVE                          DESCRIP\n",
              "0   1001  Una hora                       \n",
              "1   1002  Dos horas                      \n",
              "2   1003  Tres horas                     \n",
              "3   1004  Cuatro horas                   \n",
              "4   1005  Cinco horas                    \n",
              "..   ...                              ...\n",
              "95  4029  Veintinueve años               \n",
              "96  4030  Treinta años                   \n",
              "97  4031  Treinta y un años              \n",
              "98  4032  Treinta y dos años             \n",
              "99  4033  Treinta y tres años            \n",
              "\n",
              "[100 rows x 2 columns]"
            ]
          },
          "metadata": {
            "tags": []
          },
          "execution_count": 56
        }
      ]
    },
    {
      "cell_type": "code",
      "metadata": {
        "ExecuteTime": {
          "end_time": "2020-10-22T18:31:42.476898Z",
          "start_time": "2020-10-22T18:31:42.463407Z"
        },
        "id": "9ylX2W1v4TcV"
      },
      "source": [
        "edad=edad[edad[\"CVE\"].astype(str).str.startswith(\"4\")].reset_index(drop=True)"
      ],
      "execution_count": 57,
      "outputs": []
    },
    {
      "cell_type": "code",
      "metadata": {
        "id": "5y1YpDy8PPwU",
        "outputId": "59f38b25-773e-4bda-ce42-e9538d9ca19b",
        "colab": {
          "base_uri": "https://localhost:8080/",
          "height": 204
        }
      },
      "source": [
        "edad.head()"
      ],
      "execution_count": 58,
      "outputs": [
        {
          "output_type": "execute_result",
          "data": {
            "text/html": [
              "<div>\n",
              "<style scoped>\n",
              "    .dataframe tbody tr th:only-of-type {\n",
              "        vertical-align: middle;\n",
              "    }\n",
              "\n",
              "    .dataframe tbody tr th {\n",
              "        vertical-align: top;\n",
              "    }\n",
              "\n",
              "    .dataframe thead th {\n",
              "        text-align: right;\n",
              "    }\n",
              "</style>\n",
              "<table border=\"1\" class=\"dataframe\">\n",
              "  <thead>\n",
              "    <tr style=\"text-align: right;\">\n",
              "      <th></th>\n",
              "      <th>CVE</th>\n",
              "      <th>DESCRIP</th>\n",
              "    </tr>\n",
              "  </thead>\n",
              "  <tbody>\n",
              "    <tr>\n",
              "      <th>0</th>\n",
              "      <td>4001</td>\n",
              "      <td>Un año</td>\n",
              "    </tr>\n",
              "    <tr>\n",
              "      <th>1</th>\n",
              "      <td>4002</td>\n",
              "      <td>Dos años</td>\n",
              "    </tr>\n",
              "    <tr>\n",
              "      <th>2</th>\n",
              "      <td>4003</td>\n",
              "      <td>Tres años</td>\n",
              "    </tr>\n",
              "    <tr>\n",
              "      <th>3</th>\n",
              "      <td>4004</td>\n",
              "      <td>Cuatro años</td>\n",
              "    </tr>\n",
              "    <tr>\n",
              "      <th>4</th>\n",
              "      <td>4005</td>\n",
              "      <td>Cinco años</td>\n",
              "    </tr>\n",
              "  </tbody>\n",
              "</table>\n",
              "</div>"
            ],
            "text/plain": [
              "    CVE                          DESCRIP\n",
              "0  4001  Un año                         \n",
              "1  4002  Dos años                       \n",
              "2  4003  Tres años                      \n",
              "3  4004  Cuatro años                    \n",
              "4  4005  Cinco años                     "
            ]
          },
          "metadata": {
            "tags": []
          },
          "execution_count": 58
        }
      ]
    },
    {
      "cell_type": "code",
      "metadata": {
        "ExecuteTime": {
          "end_time": "2020-10-22T18:31:43.023794Z",
          "start_time": "2020-10-22T18:31:42.855966Z"
        },
        "scrolled": true,
        "id": "Rs6-DGy-4TcW"
      },
      "source": [
        "df=df[df[\"c_edad\"].map(lambda x:str(x).startswith(\"4\"))].reset_index(drop=True).copy()"
      ],
      "execution_count": 59,
      "outputs": []
    },
    {
      "cell_type": "code",
      "metadata": {
        "id": "LR1M7e8APa4i",
        "outputId": "c2d2d84c-ecf6-4a61-851a-c5ea3e046d3a",
        "colab": {
          "base_uri": "https://localhost:8080/",
          "height": 479
        }
      },
      "source": [
        "df.head()"
      ],
      "execution_count": 60,
      "outputs": [
        {
          "output_type": "execute_result",
          "data": {
            "text/html": [
              "<div>\n",
              "<style scoped>\n",
              "    .dataframe tbody tr th:only-of-type {\n",
              "        vertical-align: middle;\n",
              "    }\n",
              "\n",
              "    .dataframe tbody tr th {\n",
              "        vertical-align: top;\n",
              "    }\n",
              "\n",
              "    .dataframe thead th {\n",
              "        text-align: right;\n",
              "    }\n",
              "</style>\n",
              "<table border=\"1\" class=\"dataframe\">\n",
              "  <thead>\n",
              "    <tr style=\"text-align: right;\">\n",
              "      <th></th>\n",
              "      <th>c_edad</th>\n",
              "      <th>c_minutos</th>\n",
              "      <th>c_monto_de_apoyo</th>\n",
              "      <th>c_horas</th>\n",
              "      <th>v_ent_regis</th>\n",
              "      <th>v_mun_regis</th>\n",
              "      <th>v_ent_resid</th>\n",
              "      <th>v_mun_resid</th>\n",
              "      <th>v_ent_ocurr</th>\n",
              "      <th>v_mun_ocurr</th>\n",
              "      <th>v_ocupacion</th>\n",
              "      <th>v_edo_civil</th>\n",
              "      <th>v_lugar_ocur</th>\n",
              "      <th>v_sitio_ocur</th>\n",
              "      <th>v_nacionalid</th>\n",
              "      <th>v_embarazo</th>\n",
              "      <th>v_grupo</th>\n",
              "      <th>v_lengua</th>\n",
              "      <th>v_clave</th>\n",
              "      <th>v_escolarida</th>\n",
              "      <th>d_fecha_nac</th>\n",
              "      <th>d_fecha_ocurr</th>\n",
              "      <th>t_programa_fondo</th>\n",
              "      <th>t_nombre_del_proyecto</th>\n",
              "      <th>t_nombre_del_beneficiario</th>\n",
              "      <th>v_sexo</th>\n",
              "    </tr>\n",
              "  </thead>\n",
              "  <tbody>\n",
              "    <tr>\n",
              "      <th>0</th>\n",
              "      <td>4093</td>\n",
              "      <td>0</td>\n",
              "      <td>31446.48</td>\n",
              "      <td>6</td>\n",
              "      <td>NaN</td>\n",
              "      <td>1</td>\n",
              "      <td>1</td>\n",
              "      <td>1</td>\n",
              "      <td>NaN</td>\n",
              "      <td>1</td>\n",
              "      <td>6</td>\n",
              "      <td>NaN</td>\n",
              "      <td>88</td>\n",
              "      <td>11</td>\n",
              "      <td>1</td>\n",
              "      <td>8</td>\n",
              "      <td>8</td>\n",
              "      <td>NaN</td>\n",
              "      <td>6344</td>\n",
              "      <td>3</td>\n",
              "      <td>1921-08-25</td>\n",
              "      <td>2015-09-26</td>\n",
              "      <td>Programa Jalisciense de Fomento a la Propieda...</td>\n",
              "      <td>PCT - SISTEMA MECATRÓNICO PARA EL CONTROL DE I...</td>\n",
              "      <td>RICARDO MERCADO CORTÉS\\n</td>\n",
              "      <td>Hombres</td>\n",
              "    </tr>\n",
              "    <tr>\n",
              "      <th>1</th>\n",
              "      <td>4092</td>\n",
              "      <td>30</td>\n",
              "      <td>65673.63</td>\n",
              "      <td>16</td>\n",
              "      <td>1.0</td>\n",
              "      <td>1</td>\n",
              "      <td>1</td>\n",
              "      <td>1</td>\n",
              "      <td>NaN</td>\n",
              "      <td>1</td>\n",
              "      <td>7</td>\n",
              "      <td>NaN</td>\n",
              "      <td>88</td>\n",
              "      <td>11</td>\n",
              "      <td>1</td>\n",
              "      <td>8</td>\n",
              "      <td>2</td>\n",
              "      <td>NaN</td>\n",
              "      <td>6345</td>\n",
              "      <td>3</td>\n",
              "      <td>1922-06-12</td>\n",
              "      <td>2015-12-14</td>\n",
              "      <td>Programa Jalisciense de Fomento a la Propieda...</td>\n",
              "      <td>MX-EMPAQUE CÓNICO PARA LA CONEXIÓN \\nDE MANGUE...</td>\n",
              "      <td>CORPORATIVO BORO S.A. DE C.V.</td>\n",
              "      <td>Hombres</td>\n",
              "    </tr>\n",
              "    <tr>\n",
              "      <th>2</th>\n",
              "      <td>4040</td>\n",
              "      <td>50</td>\n",
              "      <td>30254.04</td>\n",
              "      <td>6</td>\n",
              "      <td>1.0</td>\n",
              "      <td>1</td>\n",
              "      <td>1</td>\n",
              "      <td>1</td>\n",
              "      <td>NaN</td>\n",
              "      <td>1</td>\n",
              "      <td>11</td>\n",
              "      <td>NaN</td>\n",
              "      <td>88</td>\n",
              "      <td>1</td>\n",
              "      <td>1</td>\n",
              "      <td>5</td>\n",
              "      <td>7</td>\n",
              "      <td>NaN</td>\n",
              "      <td>6364</td>\n",
              "      <td>4</td>\n",
              "      <td>1974-12-17</td>\n",
              "      <td>2015-07-16</td>\n",
              "      <td>Programa Jalisciense de Fomento a la Propieda...</td>\n",
              "      <td>DISPOSITIVO PERSONAL DE COMUNICACIÓN REMOTA PA...</td>\n",
              "      <td>GERALDINA  VEGA GAMBOA\\n</td>\n",
              "      <td>Mujeres</td>\n",
              "    </tr>\n",
              "    <tr>\n",
              "      <th>3</th>\n",
              "      <td>4089</td>\n",
              "      <td>30</td>\n",
              "      <td>25405.81</td>\n",
              "      <td>15</td>\n",
              "      <td>1.0</td>\n",
              "      <td>1</td>\n",
              "      <td>1</td>\n",
              "      <td>1</td>\n",
              "      <td>NaN</td>\n",
              "      <td>1</td>\n",
              "      <td>11</td>\n",
              "      <td>NaN</td>\n",
              "      <td>88</td>\n",
              "      <td>11</td>\n",
              "      <td>1</td>\n",
              "      <td>8</td>\n",
              "      <td>5</td>\n",
              "      <td>9.0</td>\n",
              "      <td>6367</td>\n",
              "      <td>1</td>\n",
              "      <td>1926-05-04</td>\n",
              "      <td>2015-12-26</td>\n",
              "      <td>Programa Jalisciense de Fomento a la Propieda...</td>\n",
              "      <td>MX-SISTEMA DIFERENCIAL QUE CONTROLA LA TRACCIÓ...</td>\n",
              "      <td>SERVANDO SOTO VELASCO</td>\n",
              "      <td>Hombres</td>\n",
              "    </tr>\n",
              "    <tr>\n",
              "      <th>4</th>\n",
              "      <td>4066</td>\n",
              "      <td>43</td>\n",
              "      <td>60336.83</td>\n",
              "      <td>22</td>\n",
              "      <td>1.0</td>\n",
              "      <td>1</td>\n",
              "      <td>1</td>\n",
              "      <td>1</td>\n",
              "      <td>NaN</td>\n",
              "      <td>1</td>\n",
              "      <td>11</td>\n",
              "      <td>NaN</td>\n",
              "      <td>88</td>\n",
              "      <td>3</td>\n",
              "      <td>1</td>\n",
              "      <td>8</td>\n",
              "      <td>6</td>\n",
              "      <td>NaN</td>\n",
              "      <td>6368</td>\n",
              "      <td>3</td>\n",
              "      <td>1949-08-25</td>\n",
              "      <td>2015-02-10</td>\n",
              "      <td>Programa Jalisciense de Fomento a la Propieda...</td>\n",
              "      <td>MX-SISTEMA ACOPLADOR AUTOMATIZADO PARA MÁQUIN...</td>\n",
              "      <td>SERVANDO SOTO VELASCO\\n</td>\n",
              "      <td>Mujeres</td>\n",
              "    </tr>\n",
              "  </tbody>\n",
              "</table>\n",
              "</div>"
            ],
            "text/plain": [
              "   c_edad  c_minutos  ...      t_nombre_del_beneficiario   v_sexo\n",
              "0    4093          0  ...       RICARDO MERCADO CORTÉS\\n  Hombres\n",
              "1    4092         30  ...  CORPORATIVO BORO S.A. DE C.V.  Hombres\n",
              "2    4040         50  ...       GERALDINA  VEGA GAMBOA\\n  Mujeres\n",
              "3    4089         30  ...          SERVANDO SOTO VELASCO  Hombres\n",
              "4    4066         43  ...        SERVANDO SOTO VELASCO\\n  Mujeres\n",
              "\n",
              "[5 rows x 26 columns]"
            ]
          },
          "metadata": {
            "tags": []
          },
          "execution_count": 60
        }
      ]
    },
    {
      "cell_type": "code",
      "metadata": {
        "ExecuteTime": {
          "end_time": "2020-10-22T18:31:43.822460Z",
          "start_time": "2020-10-22T18:31:43.234225Z"
        },
        "id": "tm83lQp74TcZ"
      },
      "source": [
        "df[\"c_edad\"]=df[\"c_edad\"].astype(str).str[-3:].astype(int)\n"
      ],
      "execution_count": 61,
      "outputs": []
    },
    {
      "cell_type": "code",
      "metadata": {
        "ExecuteTime": {
          "end_time": "2020-10-22T18:31:44.364604Z",
          "start_time": "2020-10-22T18:31:43.829038Z"
        },
        "scrolled": true,
        "id": "wDkr3gMu4Tcb",
        "outputId": "3aecd46a-56a3-48cb-b0b0-3a37e02cb735",
        "colab": {
          "base_uri": "https://localhost:8080/",
          "height": 289
        }
      },
      "source": [
        "df[\"c_edad\"].describe(percentiles=np.arange(0.1,1.1,.1))"
      ],
      "execution_count": 62,
      "outputs": [
        {
          "output_type": "execute_result",
          "data": {
            "text/plain": [
              "count    1917.000000\n",
              "mean       66.966615\n",
              "std        42.475695\n",
              "min         1.000000\n",
              "10%        34.000000\n",
              "20%        49.000000\n",
              "30%        58.000000\n",
              "40%        64.000000\n",
              "50%        69.000000\n",
              "60%        75.000000\n",
              "70%        80.000000\n",
              "80%        84.000000\n",
              "90%        89.000000\n",
              "100%      998.000000\n",
              "max       998.000000\n",
              "Name: c_edad, dtype: float64"
            ]
          },
          "metadata": {
            "tags": []
          },
          "execution_count": 62
        }
      ]
    },
    {
      "cell_type": "code",
      "metadata": {
        "ExecuteTime": {
          "end_time": "2020-10-22T18:31:45.158120Z",
          "start_time": "2020-10-22T18:31:44.370113Z"
        },
        "scrolled": true,
        "id": "q2zTYBIV4Tcd",
        "outputId": "0d31939c-fde0-46ce-9721-9b9eaba681ca",
        "colab": {
          "base_uri": "https://localhost:8080/",
          "height": 534
        }
      },
      "source": [
        "df[df[\"c_edad\"]<100].describe(percentiles=np.arange(0.1,1.1,.1))"
      ],
      "execution_count": 63,
      "outputs": [
        {
          "output_type": "execute_result",
          "data": {
            "text/html": [
              "<div>\n",
              "<style scoped>\n",
              "    .dataframe tbody tr th:only-of-type {\n",
              "        vertical-align: middle;\n",
              "    }\n",
              "\n",
              "    .dataframe tbody tr th {\n",
              "        vertical-align: top;\n",
              "    }\n",
              "\n",
              "    .dataframe thead th {\n",
              "        text-align: right;\n",
              "    }\n",
              "</style>\n",
              "<table border=\"1\" class=\"dataframe\">\n",
              "  <thead>\n",
              "    <tr style=\"text-align: right;\">\n",
              "      <th></th>\n",
              "      <th>c_edad</th>\n",
              "      <th>c_minutos</th>\n",
              "      <th>c_horas</th>\n",
              "      <th>v_ent_regis</th>\n",
              "      <th>v_mun_regis</th>\n",
              "      <th>v_ent_resid</th>\n",
              "      <th>v_mun_resid</th>\n",
              "      <th>v_ent_ocurr</th>\n",
              "      <th>v_mun_ocurr</th>\n",
              "      <th>v_ocupacion</th>\n",
              "      <th>v_edo_civil</th>\n",
              "      <th>v_lugar_ocur</th>\n",
              "      <th>v_sitio_ocur</th>\n",
              "      <th>v_nacionalid</th>\n",
              "      <th>v_embarazo</th>\n",
              "      <th>v_grupo</th>\n",
              "      <th>v_lengua</th>\n",
              "      <th>v_clave</th>\n",
              "      <th>v_escolarida</th>\n",
              "    </tr>\n",
              "  </thead>\n",
              "  <tbody>\n",
              "    <tr>\n",
              "      <th>count</th>\n",
              "      <td>1900.000000</td>\n",
              "      <td>1900.000000</td>\n",
              "      <td>1900.000000</td>\n",
              "      <td>1349.0</td>\n",
              "      <td>1900.000000</td>\n",
              "      <td>1900.000000</td>\n",
              "      <td>1900.000000</td>\n",
              "      <td>0.0</td>\n",
              "      <td>1900.000000</td>\n",
              "      <td>1900.000000</td>\n",
              "      <td>0.0</td>\n",
              "      <td>1900.000000</td>\n",
              "      <td>1900.000000</td>\n",
              "      <td>1900.000000</td>\n",
              "      <td>1900.000000</td>\n",
              "      <td>1900.000000</td>\n",
              "      <td>419.000000</td>\n",
              "      <td>1900.000000</td>\n",
              "      <td>1900.000000</td>\n",
              "    </tr>\n",
              "    <tr>\n",
              "      <th>mean</th>\n",
              "      <td>65.235263</td>\n",
              "      <td>22.327895</td>\n",
              "      <td>11.634737</td>\n",
              "      <td>1.0</td>\n",
              "      <td>2.403158</td>\n",
              "      <td>2.178947</td>\n",
              "      <td>5.849474</td>\n",
              "      <td>NaN</td>\n",
              "      <td>1.947895</td>\n",
              "      <td>15.065789</td>\n",
              "      <td>NaN</td>\n",
              "      <td>80.332105</td>\n",
              "      <td>7.145789</td>\n",
              "      <td>1.003158</td>\n",
              "      <td>7.946842</td>\n",
              "      <td>6.231053</td>\n",
              "      <td>3.100239</td>\n",
              "      <td>6565.946316</td>\n",
              "      <td>6.097895</td>\n",
              "    </tr>\n",
              "    <tr>\n",
              "      <th>std</th>\n",
              "      <td>20.943891</td>\n",
              "      <td>17.777881</td>\n",
              "      <td>6.571377</td>\n",
              "      <td>0.0</td>\n",
              "      <td>2.673095</td>\n",
              "      <td>5.306864</td>\n",
              "      <td>34.394522</td>\n",
              "      <td>NaN</td>\n",
              "      <td>2.245801</td>\n",
              "      <td>22.409290</td>\n",
              "      <td>NaN</td>\n",
              "      <td>24.176478</td>\n",
              "      <td>7.882116</td>\n",
              "      <td>0.056121</td>\n",
              "      <td>0.657773</td>\n",
              "      <td>5.732016</td>\n",
              "      <td>2.554567</td>\n",
              "      <td>140.657863</td>\n",
              "      <td>13.243930</td>\n",
              "    </tr>\n",
              "    <tr>\n",
              "      <th>min</th>\n",
              "      <td>1.000000</td>\n",
              "      <td>0.000000</td>\n",
              "      <td>0.000000</td>\n",
              "      <td>1.0</td>\n",
              "      <td>1.000000</td>\n",
              "      <td>1.000000</td>\n",
              "      <td>1.000000</td>\n",
              "      <td>NaN</td>\n",
              "      <td>1.000000</td>\n",
              "      <td>1.000000</td>\n",
              "      <td>NaN</td>\n",
              "      <td>0.000000</td>\n",
              "      <td>1.000000</td>\n",
              "      <td>1.000000</td>\n",
              "      <td>1.000000</td>\n",
              "      <td>1.000000</td>\n",
              "      <td>1.000000</td>\n",
              "      <td>6343.000000</td>\n",
              "      <td>1.000000</td>\n",
              "    </tr>\n",
              "    <tr>\n",
              "      <th>10%</th>\n",
              "      <td>33.900000</td>\n",
              "      <td>0.000000</td>\n",
              "      <td>2.000000</td>\n",
              "      <td>1.0</td>\n",
              "      <td>1.000000</td>\n",
              "      <td>1.000000</td>\n",
              "      <td>1.000000</td>\n",
              "      <td>NaN</td>\n",
              "      <td>1.000000</td>\n",
              "      <td>4.000000</td>\n",
              "      <td>NaN</td>\n",
              "      <td>88.000000</td>\n",
              "      <td>1.000000</td>\n",
              "      <td>1.000000</td>\n",
              "      <td>8.000000</td>\n",
              "      <td>2.000000</td>\n",
              "      <td>2.000000</td>\n",
              "      <td>6380.000000</td>\n",
              "      <td>1.000000</td>\n",
              "    </tr>\n",
              "    <tr>\n",
              "      <th>20%</th>\n",
              "      <td>48.000000</td>\n",
              "      <td>0.000000</td>\n",
              "      <td>5.000000</td>\n",
              "      <td>1.0</td>\n",
              "      <td>1.000000</td>\n",
              "      <td>1.000000</td>\n",
              "      <td>1.000000</td>\n",
              "      <td>NaN</td>\n",
              "      <td>1.000000</td>\n",
              "      <td>6.000000</td>\n",
              "      <td>NaN</td>\n",
              "      <td>88.000000</td>\n",
              "      <td>3.000000</td>\n",
              "      <td>1.000000</td>\n",
              "      <td>8.000000</td>\n",
              "      <td>2.000000</td>\n",
              "      <td>2.000000</td>\n",
              "      <td>6453.000000</td>\n",
              "      <td>3.000000</td>\n",
              "    </tr>\n",
              "    <tr>\n",
              "      <th>30%</th>\n",
              "      <td>58.000000</td>\n",
              "      <td>8.700000</td>\n",
              "      <td>8.000000</td>\n",
              "      <td>1.0</td>\n",
              "      <td>1.000000</td>\n",
              "      <td>1.000000</td>\n",
              "      <td>1.000000</td>\n",
              "      <td>NaN</td>\n",
              "      <td>1.000000</td>\n",
              "      <td>9.000000</td>\n",
              "      <td>NaN</td>\n",
              "      <td>88.000000</td>\n",
              "      <td>3.000000</td>\n",
              "      <td>1.000000</td>\n",
              "      <td>8.000000</td>\n",
              "      <td>3.000000</td>\n",
              "      <td>2.000000</td>\n",
              "      <td>6484.000000</td>\n",
              "      <td>3.000000</td>\n",
              "    </tr>\n",
              "    <tr>\n",
              "      <th>40%</th>\n",
              "      <td>64.000000</td>\n",
              "      <td>15.000000</td>\n",
              "      <td>10.000000</td>\n",
              "      <td>1.0</td>\n",
              "      <td>1.000000</td>\n",
              "      <td>1.000000</td>\n",
              "      <td>1.000000</td>\n",
              "      <td>NaN</td>\n",
              "      <td>1.000000</td>\n",
              "      <td>11.000000</td>\n",
              "      <td>NaN</td>\n",
              "      <td>88.000000</td>\n",
              "      <td>3.000000</td>\n",
              "      <td>1.000000</td>\n",
              "      <td>8.000000</td>\n",
              "      <td>4.000000</td>\n",
              "      <td>2.000000</td>\n",
              "      <td>6507.000000</td>\n",
              "      <td>3.000000</td>\n",
              "    </tr>\n",
              "    <tr>\n",
              "      <th>50%</th>\n",
              "      <td>69.000000</td>\n",
              "      <td>22.000000</td>\n",
              "      <td>12.000000</td>\n",
              "      <td>1.0</td>\n",
              "      <td>1.000000</td>\n",
              "      <td>1.000000</td>\n",
              "      <td>1.000000</td>\n",
              "      <td>NaN</td>\n",
              "      <td>1.000000</td>\n",
              "      <td>11.000000</td>\n",
              "      <td>NaN</td>\n",
              "      <td>88.000000</td>\n",
              "      <td>9.000000</td>\n",
              "      <td>1.000000</td>\n",
              "      <td>8.000000</td>\n",
              "      <td>5.000000</td>\n",
              "      <td>2.000000</td>\n",
              "      <td>6539.000000</td>\n",
              "      <td>4.000000</td>\n",
              "    </tr>\n",
              "    <tr>\n",
              "      <th>60%</th>\n",
              "      <td>75.000000</td>\n",
              "      <td>30.000000</td>\n",
              "      <td>14.000000</td>\n",
              "      <td>1.0</td>\n",
              "      <td>1.000000</td>\n",
              "      <td>1.000000</td>\n",
              "      <td>1.000000</td>\n",
              "      <td>NaN</td>\n",
              "      <td>1.000000</td>\n",
              "      <td>11.000000</td>\n",
              "      <td>NaN</td>\n",
              "      <td>88.000000</td>\n",
              "      <td>11.000000</td>\n",
              "      <td>1.000000</td>\n",
              "      <td>8.000000</td>\n",
              "      <td>5.000000</td>\n",
              "      <td>2.000000</td>\n",
              "      <td>6563.000000</td>\n",
              "      <td>4.000000</td>\n",
              "    </tr>\n",
              "    <tr>\n",
              "      <th>70%</th>\n",
              "      <td>79.300000</td>\n",
              "      <td>30.000000</td>\n",
              "      <td>16.000000</td>\n",
              "      <td>1.0</td>\n",
              "      <td>1.000000</td>\n",
              "      <td>1.000000</td>\n",
              "      <td>3.000000</td>\n",
              "      <td>NaN</td>\n",
              "      <td>1.000000</td>\n",
              "      <td>11.000000</td>\n",
              "      <td>NaN</td>\n",
              "      <td>88.000000</td>\n",
              "      <td>11.000000</td>\n",
              "      <td>1.000000</td>\n",
              "      <td>8.000000</td>\n",
              "      <td>7.000000</td>\n",
              "      <td>2.000000</td>\n",
              "      <td>6619.000000</td>\n",
              "      <td>5.000000</td>\n",
              "    </tr>\n",
              "    <tr>\n",
              "      <th>80%</th>\n",
              "      <td>84.000000</td>\n",
              "      <td>40.000000</td>\n",
              "      <td>18.000000</td>\n",
              "      <td>1.0</td>\n",
              "      <td>5.000000</td>\n",
              "      <td>1.000000</td>\n",
              "      <td>6.000000</td>\n",
              "      <td>NaN</td>\n",
              "      <td>1.000000</td>\n",
              "      <td>11.000000</td>\n",
              "      <td>NaN</td>\n",
              "      <td>88.000000</td>\n",
              "      <td>11.000000</td>\n",
              "      <td>1.000000</td>\n",
              "      <td>8.000000</td>\n",
              "      <td>8.000000</td>\n",
              "      <td>2.000000</td>\n",
              "      <td>6724.000000</td>\n",
              "      <td>6.000000</td>\n",
              "    </tr>\n",
              "    <tr>\n",
              "      <th>90%</th>\n",
              "      <td>89.000000</td>\n",
              "      <td>48.100000</td>\n",
              "      <td>21.000000</td>\n",
              "      <td>1.0</td>\n",
              "      <td>7.000000</td>\n",
              "      <td>1.000000</td>\n",
              "      <td>9.000000</td>\n",
              "      <td>NaN</td>\n",
              "      <td>6.000000</td>\n",
              "      <td>11.000000</td>\n",
              "      <td>NaN</td>\n",
              "      <td>88.000000</td>\n",
              "      <td>11.000000</td>\n",
              "      <td>1.000000</td>\n",
              "      <td>8.000000</td>\n",
              "      <td>13.000000</td>\n",
              "      <td>9.000000</td>\n",
              "      <td>6777.900000</td>\n",
              "      <td>8.000000</td>\n",
              "    </tr>\n",
              "    <tr>\n",
              "      <th>100%</th>\n",
              "      <td>98.000000</td>\n",
              "      <td>59.000000</td>\n",
              "      <td>23.000000</td>\n",
              "      <td>1.0</td>\n",
              "      <td>11.000000</td>\n",
              "      <td>34.000000</td>\n",
              "      <td>999.000000</td>\n",
              "      <td>NaN</td>\n",
              "      <td>24.000000</td>\n",
              "      <td>99.000000</td>\n",
              "      <td>NaN</td>\n",
              "      <td>88.000000</td>\n",
              "      <td>99.000000</td>\n",
              "      <td>2.000000</td>\n",
              "      <td>9.000000</td>\n",
              "      <td>34.000000</td>\n",
              "      <td>9.000000</td>\n",
              "      <td>6897.000000</td>\n",
              "      <td>99.000000</td>\n",
              "    </tr>\n",
              "    <tr>\n",
              "      <th>max</th>\n",
              "      <td>98.000000</td>\n",
              "      <td>59.000000</td>\n",
              "      <td>23.000000</td>\n",
              "      <td>1.0</td>\n",
              "      <td>11.000000</td>\n",
              "      <td>34.000000</td>\n",
              "      <td>999.000000</td>\n",
              "      <td>NaN</td>\n",
              "      <td>24.000000</td>\n",
              "      <td>99.000000</td>\n",
              "      <td>NaN</td>\n",
              "      <td>88.000000</td>\n",
              "      <td>99.000000</td>\n",
              "      <td>2.000000</td>\n",
              "      <td>9.000000</td>\n",
              "      <td>34.000000</td>\n",
              "      <td>9.000000</td>\n",
              "      <td>6897.000000</td>\n",
              "      <td>99.000000</td>\n",
              "    </tr>\n",
              "  </tbody>\n",
              "</table>\n",
              "</div>"
            ],
            "text/plain": [
              "            c_edad    c_minutos  ...      v_clave  v_escolarida\n",
              "count  1900.000000  1900.000000  ...  1900.000000   1900.000000\n",
              "mean     65.235263    22.327895  ...  6565.946316      6.097895\n",
              "std      20.943891    17.777881  ...   140.657863     13.243930\n",
              "min       1.000000     0.000000  ...  6343.000000      1.000000\n",
              "10%      33.900000     0.000000  ...  6380.000000      1.000000\n",
              "20%      48.000000     0.000000  ...  6453.000000      3.000000\n",
              "30%      58.000000     8.700000  ...  6484.000000      3.000000\n",
              "40%      64.000000    15.000000  ...  6507.000000      3.000000\n",
              "50%      69.000000    22.000000  ...  6539.000000      4.000000\n",
              "60%      75.000000    30.000000  ...  6563.000000      4.000000\n",
              "70%      79.300000    30.000000  ...  6619.000000      5.000000\n",
              "80%      84.000000    40.000000  ...  6724.000000      6.000000\n",
              "90%      89.000000    48.100000  ...  6777.900000      8.000000\n",
              "100%     98.000000    59.000000  ...  6897.000000     99.000000\n",
              "max      98.000000    59.000000  ...  6897.000000     99.000000\n",
              "\n",
              "[15 rows x 19 columns]"
            ]
          },
          "metadata": {
            "tags": []
          },
          "execution_count": 63
        }
      ]
    },
    {
      "cell_type": "code",
      "metadata": {
        "ExecuteTime": {
          "end_time": "2020-10-22T18:31:45.177491Z",
          "start_time": "2020-10-22T18:31:45.165188Z"
        },
        "id": "AcD16Yi04Tch"
      },
      "source": [
        "df=df[df[\"c_edad\"]<100]"
      ],
      "execution_count": 64,
      "outputs": []
    },
    {
      "cell_type": "code",
      "metadata": {
        "ExecuteTime": {
          "end_time": "2020-10-22T18:31:45.255730Z",
          "start_time": "2020-10-22T18:31:45.185927Z"
        },
        "id": "A9iJ6TAO4Tcj"
      },
      "source": [
        "df.reset_index(drop=True,inplace=True)"
      ],
      "execution_count": 65,
      "outputs": []
    },
    {
      "cell_type": "code",
      "metadata": {
        "ExecuteTime": {
          "end_time": "2020-10-22T18:31:45.700465Z",
          "start_time": "2020-10-22T18:31:45.561950Z"
        },
        "scrolled": true,
        "id": "aPOXbMJW4Tcl",
        "outputId": "73cccbe8-3e9c-4e3a-bf00-1fd3c4d40dbb",
        "colab": {
          "base_uri": "https://localhost:8080/",
          "height": 949
        }
      },
      "source": [
        "df"
      ],
      "execution_count": 66,
      "outputs": [
        {
          "output_type": "execute_result",
          "data": {
            "text/html": [
              "<div>\n",
              "<style scoped>\n",
              "    .dataframe tbody tr th:only-of-type {\n",
              "        vertical-align: middle;\n",
              "    }\n",
              "\n",
              "    .dataframe tbody tr th {\n",
              "        vertical-align: top;\n",
              "    }\n",
              "\n",
              "    .dataframe thead th {\n",
              "        text-align: right;\n",
              "    }\n",
              "</style>\n",
              "<table border=\"1\" class=\"dataframe\">\n",
              "  <thead>\n",
              "    <tr style=\"text-align: right;\">\n",
              "      <th></th>\n",
              "      <th>c_edad</th>\n",
              "      <th>c_minutos</th>\n",
              "      <th>c_monto_de_apoyo</th>\n",
              "      <th>c_horas</th>\n",
              "      <th>v_ent_regis</th>\n",
              "      <th>v_mun_regis</th>\n",
              "      <th>v_ent_resid</th>\n",
              "      <th>v_mun_resid</th>\n",
              "      <th>v_ent_ocurr</th>\n",
              "      <th>v_mun_ocurr</th>\n",
              "      <th>v_ocupacion</th>\n",
              "      <th>v_edo_civil</th>\n",
              "      <th>v_lugar_ocur</th>\n",
              "      <th>v_sitio_ocur</th>\n",
              "      <th>v_nacionalid</th>\n",
              "      <th>v_embarazo</th>\n",
              "      <th>v_grupo</th>\n",
              "      <th>v_lengua</th>\n",
              "      <th>v_clave</th>\n",
              "      <th>v_escolarida</th>\n",
              "      <th>d_fecha_nac</th>\n",
              "      <th>d_fecha_ocurr</th>\n",
              "      <th>t_programa_fondo</th>\n",
              "      <th>t_nombre_del_proyecto</th>\n",
              "      <th>t_nombre_del_beneficiario</th>\n",
              "      <th>v_sexo</th>\n",
              "    </tr>\n",
              "  </thead>\n",
              "  <tbody>\n",
              "    <tr>\n",
              "      <th>0</th>\n",
              "      <td>93</td>\n",
              "      <td>0</td>\n",
              "      <td>31446.48</td>\n",
              "      <td>6</td>\n",
              "      <td>NaN</td>\n",
              "      <td>1</td>\n",
              "      <td>1</td>\n",
              "      <td>1</td>\n",
              "      <td>NaN</td>\n",
              "      <td>1</td>\n",
              "      <td>6</td>\n",
              "      <td>NaN</td>\n",
              "      <td>88</td>\n",
              "      <td>11</td>\n",
              "      <td>1</td>\n",
              "      <td>8</td>\n",
              "      <td>8</td>\n",
              "      <td>NaN</td>\n",
              "      <td>6344</td>\n",
              "      <td>3</td>\n",
              "      <td>1921-08-25</td>\n",
              "      <td>2015-09-26</td>\n",
              "      <td>Programa Jalisciense de Fomento a la Propieda...</td>\n",
              "      <td>PCT - SISTEMA MECATRÓNICO PARA EL CONTROL DE I...</td>\n",
              "      <td>RICARDO MERCADO CORTÉS\\n</td>\n",
              "      <td>Hombres</td>\n",
              "    </tr>\n",
              "    <tr>\n",
              "      <th>1</th>\n",
              "      <td>92</td>\n",
              "      <td>30</td>\n",
              "      <td>65673.63</td>\n",
              "      <td>16</td>\n",
              "      <td>1.0</td>\n",
              "      <td>1</td>\n",
              "      <td>1</td>\n",
              "      <td>1</td>\n",
              "      <td>NaN</td>\n",
              "      <td>1</td>\n",
              "      <td>7</td>\n",
              "      <td>NaN</td>\n",
              "      <td>88</td>\n",
              "      <td>11</td>\n",
              "      <td>1</td>\n",
              "      <td>8</td>\n",
              "      <td>2</td>\n",
              "      <td>NaN</td>\n",
              "      <td>6345</td>\n",
              "      <td>3</td>\n",
              "      <td>1922-06-12</td>\n",
              "      <td>2015-12-14</td>\n",
              "      <td>Programa Jalisciense de Fomento a la Propieda...</td>\n",
              "      <td>MX-EMPAQUE CÓNICO PARA LA CONEXIÓN \\nDE MANGUE...</td>\n",
              "      <td>CORPORATIVO BORO S.A. DE C.V.</td>\n",
              "      <td>Hombres</td>\n",
              "    </tr>\n",
              "    <tr>\n",
              "      <th>2</th>\n",
              "      <td>40</td>\n",
              "      <td>50</td>\n",
              "      <td>30254.04</td>\n",
              "      <td>6</td>\n",
              "      <td>1.0</td>\n",
              "      <td>1</td>\n",
              "      <td>1</td>\n",
              "      <td>1</td>\n",
              "      <td>NaN</td>\n",
              "      <td>1</td>\n",
              "      <td>11</td>\n",
              "      <td>NaN</td>\n",
              "      <td>88</td>\n",
              "      <td>1</td>\n",
              "      <td>1</td>\n",
              "      <td>5</td>\n",
              "      <td>7</td>\n",
              "      <td>NaN</td>\n",
              "      <td>6364</td>\n",
              "      <td>4</td>\n",
              "      <td>1974-12-17</td>\n",
              "      <td>2015-07-16</td>\n",
              "      <td>Programa Jalisciense de Fomento a la Propieda...</td>\n",
              "      <td>DISPOSITIVO PERSONAL DE COMUNICACIÓN REMOTA PA...</td>\n",
              "      <td>GERALDINA  VEGA GAMBOA\\n</td>\n",
              "      <td>Mujeres</td>\n",
              "    </tr>\n",
              "    <tr>\n",
              "      <th>3</th>\n",
              "      <td>89</td>\n",
              "      <td>30</td>\n",
              "      <td>25405.81</td>\n",
              "      <td>15</td>\n",
              "      <td>1.0</td>\n",
              "      <td>1</td>\n",
              "      <td>1</td>\n",
              "      <td>1</td>\n",
              "      <td>NaN</td>\n",
              "      <td>1</td>\n",
              "      <td>11</td>\n",
              "      <td>NaN</td>\n",
              "      <td>88</td>\n",
              "      <td>11</td>\n",
              "      <td>1</td>\n",
              "      <td>8</td>\n",
              "      <td>5</td>\n",
              "      <td>9.0</td>\n",
              "      <td>6367</td>\n",
              "      <td>1</td>\n",
              "      <td>1926-05-04</td>\n",
              "      <td>2015-12-26</td>\n",
              "      <td>Programa Jalisciense de Fomento a la Propieda...</td>\n",
              "      <td>MX-SISTEMA DIFERENCIAL QUE CONTROLA LA TRACCIÓ...</td>\n",
              "      <td>SERVANDO SOTO VELASCO</td>\n",
              "      <td>Hombres</td>\n",
              "    </tr>\n",
              "    <tr>\n",
              "      <th>4</th>\n",
              "      <td>66</td>\n",
              "      <td>43</td>\n",
              "      <td>60336.83</td>\n",
              "      <td>22</td>\n",
              "      <td>1.0</td>\n",
              "      <td>1</td>\n",
              "      <td>1</td>\n",
              "      <td>1</td>\n",
              "      <td>NaN</td>\n",
              "      <td>1</td>\n",
              "      <td>11</td>\n",
              "      <td>NaN</td>\n",
              "      <td>88</td>\n",
              "      <td>3</td>\n",
              "      <td>1</td>\n",
              "      <td>8</td>\n",
              "      <td>6</td>\n",
              "      <td>NaN</td>\n",
              "      <td>6368</td>\n",
              "      <td>3</td>\n",
              "      <td>1949-08-25</td>\n",
              "      <td>2015-02-10</td>\n",
              "      <td>Programa Jalisciense de Fomento a la Propieda...</td>\n",
              "      <td>MX-SISTEMA ACOPLADOR AUTOMATIZADO PARA MÁQUIN...</td>\n",
              "      <td>SERVANDO SOTO VELASCO\\n</td>\n",
              "      <td>Mujeres</td>\n",
              "    </tr>\n",
              "    <tr>\n",
              "      <th>...</th>\n",
              "      <td>...</td>\n",
              "      <td>...</td>\n",
              "      <td>...</td>\n",
              "      <td>...</td>\n",
              "      <td>...</td>\n",
              "      <td>...</td>\n",
              "      <td>...</td>\n",
              "      <td>...</td>\n",
              "      <td>...</td>\n",
              "      <td>...</td>\n",
              "      <td>...</td>\n",
              "      <td>...</td>\n",
              "      <td>...</td>\n",
              "      <td>...</td>\n",
              "      <td>...</td>\n",
              "      <td>...</td>\n",
              "      <td>...</td>\n",
              "      <td>...</td>\n",
              "      <td>...</td>\n",
              "      <td>...</td>\n",
              "      <td>...</td>\n",
              "      <td>...</td>\n",
              "      <td>...</td>\n",
              "      <td>...</td>\n",
              "      <td>...</td>\n",
              "      <td>...</td>\n",
              "    </tr>\n",
              "    <tr>\n",
              "      <th>1895</th>\n",
              "      <td>94</td>\n",
              "      <td>40</td>\n",
              "      <td>50336.83</td>\n",
              "      <td>11</td>\n",
              "      <td>NaN</td>\n",
              "      <td>1</td>\n",
              "      <td>1</td>\n",
              "      <td>1</td>\n",
              "      <td>NaN</td>\n",
              "      <td>1</td>\n",
              "      <td>11</td>\n",
              "      <td>NaN</td>\n",
              "      <td>88</td>\n",
              "      <td>11</td>\n",
              "      <td>1</td>\n",
              "      <td>8</td>\n",
              "      <td>4</td>\n",
              "      <td>NaN</td>\n",
              "      <td>6456</td>\n",
              "      <td>3</td>\n",
              "      <td>1921-03-22</td>\n",
              "      <td>2015-07-13</td>\n",
              "      <td>Programa Jalisciense de Fomento a la Propieda...</td>\n",
              "      <td>SISTEMA DE SEGURIDAD Y AUTOMATIZACIÓN DE PUNTO...</td>\n",
              "      <td>DENNIS SHERIDAN PLASENCIA</td>\n",
              "      <td>Mujeres</td>\n",
              "    </tr>\n",
              "    <tr>\n",
              "      <th>1896</th>\n",
              "      <td>96</td>\n",
              "      <td>20</td>\n",
              "      <td>49381.31</td>\n",
              "      <td>7</td>\n",
              "      <td>1.0</td>\n",
              "      <td>1</td>\n",
              "      <td>1</td>\n",
              "      <td>1</td>\n",
              "      <td>NaN</td>\n",
              "      <td>1</td>\n",
              "      <td>11</td>\n",
              "      <td>NaN</td>\n",
              "      <td>88</td>\n",
              "      <td>4</td>\n",
              "      <td>1</td>\n",
              "      <td>8</td>\n",
              "      <td>3</td>\n",
              "      <td>NaN</td>\n",
              "      <td>6463</td>\n",
              "      <td>8</td>\n",
              "      <td>1918-01-10</td>\n",
              "      <td>2015-04-11</td>\n",
              "      <td>Programa Jalisciense de Fomento a la Propieda...</td>\n",
              "      <td>CONJUNTO DE ELECTROMIÓGRAFO Y PROTESIS MIOELÉC...</td>\n",
              "      <td>ERICK EDUARDO GUZMÁN QUEZADA\\n</td>\n",
              "      <td>Hombres</td>\n",
              "    </tr>\n",
              "    <tr>\n",
              "      <th>1897</th>\n",
              "      <td>80</td>\n",
              "      <td>30</td>\n",
              "      <td>49381.31</td>\n",
              "      <td>16</td>\n",
              "      <td>NaN</td>\n",
              "      <td>1</td>\n",
              "      <td>32</td>\n",
              "      <td>44</td>\n",
              "      <td>NaN</td>\n",
              "      <td>1</td>\n",
              "      <td>6</td>\n",
              "      <td>NaN</td>\n",
              "      <td>88</td>\n",
              "      <td>9</td>\n",
              "      <td>1</td>\n",
              "      <td>8</td>\n",
              "      <td>4</td>\n",
              "      <td>NaN</td>\n",
              "      <td>6464</td>\n",
              "      <td>3</td>\n",
              "      <td>1934-06-05</td>\n",
              "      <td>2015-02-23</td>\n",
              "      <td>Programa Jalisciense de Fomento a la Propieda...</td>\n",
              "      <td>DISPOSITIVO PARA CALIBRAR LOS PARÁMETROS DE UN...</td>\n",
              "      <td>ERICK EDUARDO GUZMÁN QUEZADA\\n</td>\n",
              "      <td>Hombres</td>\n",
              "    </tr>\n",
              "    <tr>\n",
              "      <th>1898</th>\n",
              "      <td>60</td>\n",
              "      <td>38</td>\n",
              "      <td>49381.31</td>\n",
              "      <td>11</td>\n",
              "      <td>1.0</td>\n",
              "      <td>1</td>\n",
              "      <td>1</td>\n",
              "      <td>1</td>\n",
              "      <td>NaN</td>\n",
              "      <td>1</td>\n",
              "      <td>7</td>\n",
              "      <td>NaN</td>\n",
              "      <td>88</td>\n",
              "      <td>1</td>\n",
              "      <td>1</td>\n",
              "      <td>8</td>\n",
              "      <td>2</td>\n",
              "      <td>NaN</td>\n",
              "      <td>6465</td>\n",
              "      <td>3</td>\n",
              "      <td>1955-01-24</td>\n",
              "      <td>2015-09-06</td>\n",
              "      <td>Programa Jalisciense de Fomento a la Propieda...</td>\n",
              "      <td>METODOLOGÍA DE MEDICIÓN Y ANÁLISIS GONIO MÉTRI...</td>\n",
              "      <td>ERICK EDUARDO GUZMÁN QUEZADA</td>\n",
              "      <td>Hombres</td>\n",
              "    </tr>\n",
              "    <tr>\n",
              "      <th>1899</th>\n",
              "      <td>95</td>\n",
              "      <td>50</td>\n",
              "      <td>30254.04</td>\n",
              "      <td>22</td>\n",
              "      <td>1.0</td>\n",
              "      <td>1</td>\n",
              "      <td>1</td>\n",
              "      <td>1</td>\n",
              "      <td>NaN</td>\n",
              "      <td>1</td>\n",
              "      <td>11</td>\n",
              "      <td>NaN</td>\n",
              "      <td>88</td>\n",
              "      <td>11</td>\n",
              "      <td>1</td>\n",
              "      <td>8</td>\n",
              "      <td>3</td>\n",
              "      <td>NaN</td>\n",
              "      <td>6466</td>\n",
              "      <td>9</td>\n",
              "      <td>1919-12-29</td>\n",
              "      <td>2015-05-13</td>\n",
              "      <td>Programa Jalisciense de Fomento a la Propieda...</td>\n",
              "      <td>OXÍMETRO PARA LA MEDICIÓN DE LA SATURACIÓN DE ...</td>\n",
              "      <td>ERICK EDUARDO GUZMÁN QUEZADA\\n</td>\n",
              "      <td>Mujeres</td>\n",
              "    </tr>\n",
              "  </tbody>\n",
              "</table>\n",
              "<p>1900 rows × 26 columns</p>\n",
              "</div>"
            ],
            "text/plain": [
              "      c_edad  c_minutos  ...       t_nombre_del_beneficiario   v_sexo\n",
              "0         93          0  ...        RICARDO MERCADO CORTÉS\\n  Hombres\n",
              "1         92         30  ...   CORPORATIVO BORO S.A. DE C.V.  Hombres\n",
              "2         40         50  ...        GERALDINA  VEGA GAMBOA\\n  Mujeres\n",
              "3         89         30  ...           SERVANDO SOTO VELASCO  Hombres\n",
              "4         66         43  ...         SERVANDO SOTO VELASCO\\n  Mujeres\n",
              "...      ...        ...  ...                             ...      ...\n",
              "1895      94         40  ...       DENNIS SHERIDAN PLASENCIA  Mujeres\n",
              "1896      96         20  ...  ERICK EDUARDO GUZMÁN QUEZADA\\n  Hombres\n",
              "1897      80         30  ...  ERICK EDUARDO GUZMÁN QUEZADA\\n  Hombres\n",
              "1898      60         38  ...    ERICK EDUARDO GUZMÁN QUEZADA  Hombres\n",
              "1899      95         50  ...  ERICK EDUARDO GUZMÁN QUEZADA\\n  Mujeres\n",
              "\n",
              "[1900 rows x 26 columns]"
            ]
          },
          "metadata": {
            "tags": []
          },
          "execution_count": 66
        }
      ]
    },
    {
      "cell_type": "code",
      "metadata": {
        "ExecuteTime": {
          "end_time": "2020-10-22T18:31:46.055657Z",
          "start_time": "2020-10-22T18:31:46.037523Z"
        },
        "id": "l8Pxo5YX4Tco",
        "outputId": "3d5e16a5-83f4-4bd5-c6dd-8a99095a8b30",
        "colab": {
          "base_uri": "https://localhost:8080/",
          "height": 255
        }
      },
      "source": [
        "df[\"v_ocupacion\"].value_counts()"
      ],
      "execution_count": 67,
      "outputs": [
        {
          "output_type": "execute_result",
          "data": {
            "text/plain": [
              "11    1167\n",
              "6      141\n",
              "4      108\n",
              "7      104\n",
              "2       92\n",
              "98      89\n",
              "9       65\n",
              "8       43\n",
              "5       29\n",
              "99      26\n",
              "3       20\n",
              "97      12\n",
              "1        4\n",
              "Name: v_ocupacion, dtype: int64"
            ]
          },
          "metadata": {
            "tags": []
          },
          "execution_count": 67
        }
      ]
    },
    {
      "cell_type": "code",
      "metadata": {
        "ExecuteTime": {
          "end_time": "2020-10-22T18:31:46.527709Z",
          "start_time": "2020-10-22T18:31:46.514997Z"
        },
        "id": "35QeciWx4Tcq",
        "outputId": "8a07f144-2a57-4309-f272-840180d51d89",
        "colab": {
          "base_uri": "https://localhost:8080/",
          "height": 34
        }
      },
      "source": [
        "df.shape"
      ],
      "execution_count": 68,
      "outputs": [
        {
          "output_type": "execute_result",
          "data": {
            "text/plain": [
              "(1900, 26)"
            ]
          },
          "metadata": {
            "tags": []
          },
          "execution_count": 68
        }
      ]
    },
    {
      "cell_type": "code",
      "metadata": {
        "ExecuteTime": {
          "end_time": "2020-10-22T18:31:47.003664Z",
          "start_time": "2020-10-22T18:31:46.957357Z"
        },
        "id": "evd2frJS4Tcs"
      },
      "source": [
        "df=df.merge(ocupacion,how=\"left\",left_on=\"v_ocupacion\",right_on=\"CVE\")\n",
        "df.drop(columns=[\"CVE\",\"v_ocupacion\"],inplace=True)\n",
        "df.rename(columns={\"DESCRIP\":\"v_ocupacion\"},inplace=True)"
      ],
      "execution_count": 69,
      "outputs": []
    },
    {
      "cell_type": "code",
      "metadata": {
        "ExecuteTime": {
          "end_time": "2020-10-22T18:31:47.506670Z",
          "start_time": "2020-10-22T18:31:47.482240Z"
        },
        "scrolled": true,
        "id": "VihpyEo84Tcv",
        "outputId": "a7843893-1b3b-452d-f634-7cea48f001ea",
        "colab": {
          "base_uri": "https://localhost:8080/",
          "height": 421
        }
      },
      "source": [
        "escolaridad"
      ],
      "execution_count": 70,
      "outputs": [
        {
          "output_type": "execute_result",
          "data": {
            "text/html": [
              "<div>\n",
              "<style scoped>\n",
              "    .dataframe tbody tr th:only-of-type {\n",
              "        vertical-align: middle;\n",
              "    }\n",
              "\n",
              "    .dataframe tbody tr th {\n",
              "        vertical-align: top;\n",
              "    }\n",
              "\n",
              "    .dataframe thead th {\n",
              "        text-align: right;\n",
              "    }\n",
              "</style>\n",
              "<table border=\"1\" class=\"dataframe\">\n",
              "  <thead>\n",
              "    <tr style=\"text-align: right;\">\n",
              "      <th></th>\n",
              "      <th>CVE</th>\n",
              "      <th>DESCRIP</th>\n",
              "    </tr>\n",
              "  </thead>\n",
              "  <tbody>\n",
              "    <tr>\n",
              "      <th>0</th>\n",
              "      <td>1</td>\n",
              "      <td>Sin escolaridad</td>\n",
              "    </tr>\n",
              "    <tr>\n",
              "      <th>1</th>\n",
              "      <td>2</td>\n",
              "      <td>Preescolar</td>\n",
              "    </tr>\n",
              "    <tr>\n",
              "      <th>2</th>\n",
              "      <td>3</td>\n",
              "      <td>Primaria incompleta</td>\n",
              "    </tr>\n",
              "    <tr>\n",
              "      <th>3</th>\n",
              "      <td>4</td>\n",
              "      <td>Primaria completa</td>\n",
              "    </tr>\n",
              "    <tr>\n",
              "      <th>4</th>\n",
              "      <td>5</td>\n",
              "      <td>Secundaria incompleta</td>\n",
              "    </tr>\n",
              "    <tr>\n",
              "      <th>5</th>\n",
              "      <td>6</td>\n",
              "      <td>Secundaria completa</td>\n",
              "    </tr>\n",
              "    <tr>\n",
              "      <th>6</th>\n",
              "      <td>7</td>\n",
              "      <td>Bachillerato o Preparatoria incompleto</td>\n",
              "    </tr>\n",
              "    <tr>\n",
              "      <th>7</th>\n",
              "      <td>8</td>\n",
              "      <td>Bachillerato o Preparatoria completo</td>\n",
              "    </tr>\n",
              "    <tr>\n",
              "      <th>8</th>\n",
              "      <td>9</td>\n",
              "      <td>Profesional</td>\n",
              "    </tr>\n",
              "    <tr>\n",
              "      <th>9</th>\n",
              "      <td>10</td>\n",
              "      <td>Posgrado</td>\n",
              "    </tr>\n",
              "    <tr>\n",
              "      <th>10</th>\n",
              "      <td>88</td>\n",
              "      <td>No aplica a menores de 3 años</td>\n",
              "    </tr>\n",
              "    <tr>\n",
              "      <th>11</th>\n",
              "      <td>99</td>\n",
              "      <td>No especificado</td>\n",
              "    </tr>\n",
              "  </tbody>\n",
              "</table>\n",
              "</div>"
            ],
            "text/plain": [
              "    CVE                                 DESCRIP\n",
              "0     1                         Sin escolaridad\n",
              "1     2                              Preescolar\n",
              "2     3                     Primaria incompleta\n",
              "3     4                       Primaria completa\n",
              "4     5                   Secundaria incompleta\n",
              "5     6                     Secundaria completa\n",
              "6     7  Bachillerato o Preparatoria incompleto\n",
              "7     8    Bachillerato o Preparatoria completo\n",
              "8     9                             Profesional\n",
              "9    10                                Posgrado\n",
              "10   88           No aplica a menores de 3 años\n",
              "11   99                         No especificado"
            ]
          },
          "metadata": {
            "tags": []
          },
          "execution_count": 70
        }
      ]
    },
    {
      "cell_type": "code",
      "metadata": {
        "ExecuteTime": {
          "end_time": "2020-10-22T18:31:48.027562Z",
          "start_time": "2020-10-22T18:31:48.015418Z"
        },
        "scrolled": true,
        "id": "HxwXZiTM4Tcx",
        "outputId": "9a3b8426-08e1-43c4-c84e-f8e08aca295e",
        "colab": {
          "base_uri": "https://localhost:8080/",
          "height": 153
        }
      },
      "source": [
        "df.columns"
      ],
      "execution_count": 71,
      "outputs": [
        {
          "output_type": "execute_result",
          "data": {
            "text/plain": [
              "Index(['c_edad', 'c_minutos', 'c_monto_de_apoyo', 'c_horas', 'v_ent_regis',\n",
              "       'v_mun_regis', 'v_ent_resid', 'v_mun_resid', 'v_ent_ocurr',\n",
              "       'v_mun_ocurr', 'v_edo_civil', 'v_lugar_ocur', 'v_sitio_ocur',\n",
              "       'v_nacionalid', 'v_embarazo', 'v_grupo', 'v_lengua', 'v_clave',\n",
              "       'v_escolarida', 'd_fecha_nac', 'd_fecha_ocurr', 't_programa_fondo',\n",
              "       't_nombre_del_proyecto', 't_nombre_del_beneficiario', 'v_sexo',\n",
              "       'v_ocupacion'],\n",
              "      dtype='object')"
            ]
          },
          "metadata": {
            "tags": []
          },
          "execution_count": 71
        }
      ]
    },
    {
      "cell_type": "code",
      "metadata": {
        "ExecuteTime": {
          "end_time": "2020-10-22T18:31:49.635311Z",
          "start_time": "2020-10-22T18:31:48.474594Z"
        },
        "id": "baK0zWxb4Tc0"
      },
      "source": [
        "df=df.merge(escolaridad,how=\"left\",left_on=\"v_escolarida\",right_on=\"CVE\")\n",
        "df.drop(columns=[\"CVE\",\"v_escolarida\"],inplace=True)\n",
        "df.rename(columns={\"DESCRIP\":\"v_escolarida\"},inplace=True)"
      ],
      "execution_count": 72,
      "outputs": []
    },
    {
      "cell_type": "code",
      "metadata": {
        "ExecuteTime": {
          "end_time": "2020-10-22T18:31:49.804780Z",
          "start_time": "2020-10-22T18:31:49.642889Z"
        },
        "scrolled": true,
        "id": "NkQAP1og4Tc1",
        "outputId": "f81515a1-a8db-4fe0-81f9-42404e7ca1e6",
        "colab": {
          "base_uri": "https://localhost:8080/",
          "height": 153
        }
      },
      "source": [
        "df.columns"
      ],
      "execution_count": 73,
      "outputs": [
        {
          "output_type": "execute_result",
          "data": {
            "text/plain": [
              "Index(['c_edad', 'c_minutos', 'c_monto_de_apoyo', 'c_horas', 'v_ent_regis',\n",
              "       'v_mun_regis', 'v_ent_resid', 'v_mun_resid', 'v_ent_ocurr',\n",
              "       'v_mun_ocurr', 'v_edo_civil', 'v_lugar_ocur', 'v_sitio_ocur',\n",
              "       'v_nacionalid', 'v_embarazo', 'v_grupo', 'v_lengua', 'v_clave',\n",
              "       'd_fecha_nac', 'd_fecha_ocurr', 't_programa_fondo',\n",
              "       't_nombre_del_proyecto', 't_nombre_del_beneficiario', 'v_sexo',\n",
              "       'v_ocupacion', 'v_escolarida'],\n",
              "      dtype='object')"
            ]
          },
          "metadata": {
            "tags": []
          },
          "execution_count": 73
        }
      ]
    },
    {
      "cell_type": "code",
      "metadata": {
        "ExecuteTime": {
          "end_time": "2020-10-22T18:31:49.912695Z",
          "start_time": "2020-10-22T18:31:49.812062Z"
        },
        "id": "9sMhbZx34Tc3"
      },
      "source": [
        "df[\"d_fecha_ocurr\"]=pd.to_datetime(df[\"d_fecha_ocurr\"])"
      ],
      "execution_count": 74,
      "outputs": []
    },
    {
      "cell_type": "code",
      "metadata": {
        "ExecuteTime": {
          "end_time": "2020-10-22T18:31:50.160319Z",
          "start_time": "2020-10-22T18:31:50.050040Z"
        },
        "id": "SP6nTAPb4Tc5"
      },
      "source": [
        "df[\"d_fecha_ocurr_mes\"]=df[\"d_fecha_ocurr\"].map(lambda x:x.month)\n",
        "df[\"d_fecha_ocurr_dia\"]=df[\"d_fecha_ocurr\"].map(lambda x:x.day)"
      ],
      "execution_count": 75,
      "outputs": []
    },
    {
      "cell_type": "code",
      "metadata": {
        "ExecuteTime": {
          "end_time": "2020-10-22T18:31:58.502984Z",
          "start_time": "2020-10-22T18:31:50.466731Z"
        },
        "scrolled": true,
        "id": "dRR-qT464Tc7",
        "outputId": "8476ba5b-fb81-4fe3-b6a8-43bce9199e54",
        "colab": {
          "base_uri": "https://localhost:8080/",
          "height": 282
        }
      },
      "source": [
        "df[\"c_monto_de_apoyo\"].hist()"
      ],
      "execution_count": 76,
      "outputs": [
        {
          "output_type": "execute_result",
          "data": {
            "text/plain": [
              "<matplotlib.axes._subplots.AxesSubplot at 0x7f0fbaf03c18>"
            ]
          },
          "metadata": {
            "tags": []
          },
          "execution_count": 76
        },
        {
          "output_type": "display_data",
          "data": {
            "image/png": "[encoded data removed]",
            "text/plain": [
              "<Figure size 432x288 with 1 Axes>"
            ]
          },
          "metadata": {
            "tags": [],
            "needs_background": "light"
          }
        }
      ]
    },
    {
      "cell_type": "code",
      "metadata": {
        "ExecuteTime": {
          "end_time": "2020-10-22T18:31:58.556800Z",
          "start_time": "2020-10-22T18:31:58.510701Z"
        },
        "id": "D-vvAFgd4Tc9",
        "outputId": "71cb2541-71a1-4cec-f6e9-571bc154bfd1",
        "colab": {
          "base_uri": "https://localhost:8080/",
          "height": 34
        }
      },
      "source": [
        "df.duplicated().sum()"
      ],
      "execution_count": 77,
      "outputs": [
        {
          "output_type": "execute_result",
          "data": {
            "text/plain": [
              "0"
            ]
          },
          "metadata": {
            "tags": []
          },
          "execution_count": 77
        }
      ]
    },
    {
      "cell_type": "markdown",
      "metadata": {
        "id": "NXThVOFk4TdB"
      },
      "source": [
        "## Tratamiento por variable"
      ]
    },
    {
      "cell_type": "markdown",
      "metadata": {
        "id": "czolP_rk4TdC"
      },
      "source": [
        "pip install Unidecode"
      ]
    },
    {
      "cell_type": "code",
      "metadata": {
        "ExecuteTime": {
          "end_time": "2020-10-22T18:31:58.712307Z",
          "start_time": "2020-10-22T18:31:58.565249Z"
        },
        "id": "1OUuA6La4TdC"
      },
      "source": [
        "c_feats=list(df.filter(like=\"c_\").columns)\n",
        "v_feats=list(df.filter(like=\"v_\").columns)\n",
        "d_feats=list(df.filter(like=\"d_\").columns)\n",
        "t_feats=[x for x in list(df.filter(like=\"t_\").columns) if x.startswith(\"t_\")]"
      ],
      "execution_count": 78,
      "outputs": []
    },
    {
      "cell_type": "code",
      "metadata": {
        "ExecuteTime": {
          "end_time": "2020-10-22T18:31:58.780999Z",
          "start_time": "2020-10-22T18:31:58.718597Z"
        },
        "scrolled": true,
        "id": "f5Vvfn9T4TdE",
        "outputId": "80d9b1d1-2f04-411e-ae33-85986b5333c1",
        "colab": {
          "base_uri": "https://localhost:8080/",
          "height": 34
        }
      },
      "source": [
        "t_feats"
      ],
      "execution_count": 79,
      "outputs": [
        {
          "output_type": "execute_result",
          "data": {
            "text/plain": [
              "['t_programa_fondo', 't_nombre_del_proyecto', 't_nombre_del_beneficiario']"
            ]
          },
          "metadata": {
            "tags": []
          },
          "execution_count": 79
        }
      ]
    },
    {
      "cell_type": "code",
      "metadata": {
        "ExecuteTime": {
          "end_time": "2020-10-22T18:31:58.850609Z",
          "start_time": "2020-10-22T18:31:58.786886Z"
        },
        "id": "feqZrBSQ4TdG",
        "outputId": "68e9ccd3-efc4-4320-961a-f8194a4849f7",
        "colab": {
          "base_uri": "https://localhost:8080/",
          "height": 34
        }
      },
      "source": [
        "c_feats"
      ],
      "execution_count": 80,
      "outputs": [
        {
          "output_type": "execute_result",
          "data": {
            "text/plain": [
              "['c_edad', 'c_minutos', 'c_monto_de_apoyo', 'c_horas']"
            ]
          },
          "metadata": {
            "tags": []
          },
          "execution_count": 80
        }
      ]
    },
    {
      "cell_type": "code",
      "metadata": {
        "ExecuteTime": {
          "end_time": "2020-10-22T18:31:58.940046Z",
          "start_time": "2020-10-22T18:31:58.857443Z"
        },
        "id": "pg3GuhFE4TdJ"
      },
      "source": [
        "df[\"c_edad\"]=df[\"c_edad\"].map(int)\n",
        "df[\"c_monto_de_apoyo\"]=df[\"c_monto_de_apoyo\"].map(float)\n",
        "df[\"c_horas\"]=df[\"c_horas\"].map(int)\n",
        "df[\"c_minutos\"]=df[\"c_minutos\"].map(int)"
      ],
      "execution_count": 81,
      "outputs": []
    },
    {
      "cell_type": "code",
      "metadata": {
        "ExecuteTime": {
          "end_time": "2020-10-22T18:31:59.006396Z",
          "start_time": "2020-10-22T18:31:58.946579Z"
        },
        "scrolled": true,
        "id": "Vmv3C8Hz4TdM",
        "outputId": "99433349-ce4c-4c17-bd5d-eaa81353eec3",
        "colab": {
          "base_uri": "https://localhost:8080/",
          "height": 306
        }
      },
      "source": [
        "v_feats"
      ],
      "execution_count": 82,
      "outputs": [
        {
          "output_type": "execute_result",
          "data": {
            "text/plain": [
              "['v_ent_regis',\n",
              " 'v_mun_regis',\n",
              " 'v_ent_resid',\n",
              " 'v_mun_resid',\n",
              " 'v_ent_ocurr',\n",
              " 'v_mun_ocurr',\n",
              " 'v_edo_civil',\n",
              " 'v_lugar_ocur',\n",
              " 'v_sitio_ocur',\n",
              " 'v_nacionalid',\n",
              " 'v_embarazo',\n",
              " 'v_grupo',\n",
              " 'v_lengua',\n",
              " 'v_clave',\n",
              " 'v_sexo',\n",
              " 'v_ocupacion',\n",
              " 'v_escolarida']"
            ]
          },
          "metadata": {
            "tags": []
          },
          "execution_count": 82
        }
      ]
    },
    {
      "cell_type": "code",
      "metadata": {
        "ExecuteTime": {
          "end_time": "2020-10-22T18:31:59.101682Z",
          "start_time": "2020-10-22T18:31:59.018820Z"
        },
        "id": "FkoueC4Z4TdP",
        "outputId": "d16ed178-be7d-44fd-bb63-d9901b80b01b",
        "colab": {
          "base_uri": "https://localhost:8080/",
          "height": 51
        }
      },
      "source": [
        "df[\"v_ent_regis\"].value_counts()"
      ],
      "execution_count": 83,
      "outputs": [
        {
          "output_type": "execute_result",
          "data": {
            "text/plain": [
              "1.0    1349\n",
              "Name: v_ent_regis, dtype: int64"
            ]
          },
          "metadata": {
            "tags": []
          },
          "execution_count": 83
        }
      ]
    },
    {
      "cell_type": "code",
      "metadata": {
        "id": "MW-4_K4yQlgg",
        "outputId": "5cde1338-bf57-45a9-8d4e-5b6e21a32575",
        "colab": {
          "base_uri": "https://localhost:8080/",
          "height": 122
        }
      },
      "source": [
        "pip install unidecode"
      ],
      "execution_count": 88,
      "outputs": [
        {
          "output_type": "stream",
          "text": [
            "Collecting unidecode\n",
            "\u001b[?25l  Downloading https://files.pythonhosted.org/packages/d0/42/d9edfed04228bacea2d824904cae367ee9efd05e6cce7ceaaedd0b0ad964/Unidecode-1.1.1-py2.py3-none-any.whl (238kB)\n",
            "\r\u001b[K     |█▍                              | 10kB 15.0MB/s eta 0:00:01\r\u001b[K     |██▊                             | 20kB 4.8MB/s eta 0:00:01\r\u001b[K     |████▏                           | 30kB 4.2MB/s eta 0:00:01\r\u001b[K     |█████▌                          | 40kB 4.5MB/s eta 0:00:01\r\u001b[K     |██████▉                         | 51kB 4.1MB/s eta 0:00:01\r\u001b[K     |████████▎                       | 61kB 3.9MB/s eta 0:00:01\r\u001b[K     |█████████▋                      | 71kB 3.9MB/s eta 0:00:01\r\u001b[K     |███████████                     | 81kB 4.1MB/s eta 0:00:01\r\u001b[K     |████████████▍                   | 92kB 4.0MB/s eta 0:00:01\r\u001b[K     |█████████████▊                  | 102kB 4.2MB/s eta 0:00:01\r\u001b[K     |███████████████▏                | 112kB 4.2MB/s eta 0:00:01\r\u001b[K     |████████████████▌               | 122kB 4.2MB/s eta 0:00:01\r\u001b[K     |█████████████████▉              | 133kB 4.2MB/s eta 0:00:01\r\u001b[K     |███████████████████▎            | 143kB 4.2MB/s eta 0:00:01\r\u001b[K     |████████████████████▋           | 153kB 4.2MB/s eta 0:00:01\r\u001b[K     |██████████████████████          | 163kB 4.2MB/s eta 0:00:01\r\u001b[K     |███████████████████████▍        | 174kB 4.2MB/s eta 0:00:01\r\u001b[K     |████████████████████████▊       | 184kB 4.2MB/s eta 0:00:01\r\u001b[K     |██████████████████████████▏     | 194kB 4.2MB/s eta 0:00:01\r\u001b[K     |███████████████████████████▌    | 204kB 4.2MB/s eta 0:00:01\r\u001b[K     |████████████████████████████▉   | 215kB 4.2MB/s eta 0:00:01\r\u001b[K     |██████████████████████████████▎ | 225kB 4.2MB/s eta 0:00:01\r\u001b[K     |███████████████████████████████▋| 235kB 4.2MB/s eta 0:00:01\r\u001b[K     |████████████████████████████████| 245kB 4.2MB/s \n",
            "\u001b[?25hInstalling collected packages: unidecode\n",
            "Successfully installed unidecode-1.1.1\n"
          ],
          "name": "stdout"
        }
      ]
    },
    {
      "cell_type": "code",
      "metadata": {
        "ExecuteTime": {
          "end_time": "2020-10-22T18:31:59.234336Z",
          "start_time": "2020-10-22T18:31:59.114707Z"
        },
        "id": "7Jo5XxSM4TdR"
      },
      "source": [
        "from unidecode import unidecode"
      ],
      "execution_count": 89,
      "outputs": []
    },
    {
      "cell_type": "code",
      "metadata": {
        "ExecuteTime": {
          "end_time": "2020-10-22T18:31:59.311018Z",
          "start_time": "2020-10-22T18:31:59.239669Z"
        },
        "id": "wimNLS7S4TdS",
        "outputId": "be9924bf-5029-4d01-941e-3662ed7e6bfa",
        "colab": {
          "base_uri": "https://localhost:8080/",
          "height": 238
        }
      },
      "source": [
        "df[\"v_escolarida\"].value_counts(1)"
      ],
      "execution_count": 90,
      "outputs": [
        {
          "output_type": "execute_result",
          "data": {
            "text/plain": [
              "Primaria incompleta                       0.315263\n",
              "Primaria completa                         0.213158\n",
              "Sin escolaridad                           0.143684\n",
              "Secundaria completa                       0.099474\n",
              "Profesional                               0.072105\n",
              "Bachillerato o Preparatoria completo      0.066842\n",
              "Secundaria incompleta                     0.032632\n",
              "Bachillerato o Preparatoria incompleto    0.026842\n",
              "No especificado                           0.016842\n",
              "Posgrado                                  0.007368\n",
              "No aplica a menores de 3 años             0.003158\n",
              "Preescolar                                0.002632\n",
              "Name: v_escolarida, dtype: float64"
            ]
          },
          "metadata": {
            "tags": []
          },
          "execution_count": 90
        }
      ]
    },
    {
      "cell_type": "code",
      "metadata": {
        "ExecuteTime": {
          "end_time": "2020-10-22T18:31:59.371512Z",
          "start_time": "2020-10-22T18:31:59.316372Z"
        },
        "id": "wMEDHASR4TdV"
      },
      "source": [
        "df[\"v_escolarida\"]=df[\"v_escolarida\"].map(lambda x:x.lower())"
      ],
      "execution_count": 91,
      "outputs": []
    },
    {
      "cell_type": "code",
      "metadata": {
        "id": "TzVZ9nTcRPRU",
        "outputId": "ea603658-88f0-45cd-e3dd-680d1068be33",
        "colab": {
          "base_uri": "https://localhost:8080/",
          "height": 119
        }
      },
      "source": [
        "df[\"v_escolarida\"].head()"
      ],
      "execution_count": 92,
      "outputs": [
        {
          "output_type": "execute_result",
          "data": {
            "text/plain": [
              "0    primaria incompleta\n",
              "1    primaria incompleta\n",
              "2      primaria completa\n",
              "3        sin escolaridad\n",
              "4    primaria incompleta\n",
              "Name: v_escolarida, dtype: object"
            ]
          },
          "metadata": {
            "tags": []
          },
          "execution_count": 92
        }
      ]
    },
    {
      "cell_type": "code",
      "metadata": {
        "ExecuteTime": {
          "end_time": "2020-10-22T18:31:59.453025Z",
          "start_time": "2020-10-22T18:31:59.376936Z"
        },
        "id": "qU3Cowiq4TdX"
      },
      "source": [
        "aux=pd.DataFrame(df[\"v_escolarida\"].value_counts(1))"
      ],
      "execution_count": 93,
      "outputs": []
    },
    {
      "cell_type": "code",
      "metadata": {
        "ExecuteTime": {
          "end_time": "2020-10-22T18:31:59.531857Z",
          "start_time": "2020-10-22T18:31:59.459443Z"
        },
        "id": "Q2xAQ2Kh4TdZ"
      },
      "source": [
        "aux=aux.reset_index()"
      ],
      "execution_count": 94,
      "outputs": []
    },
    {
      "cell_type": "code",
      "metadata": {
        "ExecuteTime": {
          "end_time": "2020-10-22T18:31:59.634410Z",
          "start_time": "2020-10-22T18:31:59.538332Z"
        },
        "id": "BZq2RMfL4Tdb",
        "outputId": "5e6c2cc9-93b7-4792-be82-887cbc84419a",
        "colab": {
          "base_uri": "https://localhost:8080/",
          "height": 173
        }
      },
      "source": [
        "aux[aux[\"v_escolarida\"]<.02]"
      ],
      "execution_count": 95,
      "outputs": [
        {
          "output_type": "execute_result",
          "data": {
            "text/html": [
              "<div>\n",
              "<style scoped>\n",
              "    .dataframe tbody tr th:only-of-type {\n",
              "        vertical-align: middle;\n",
              "    }\n",
              "\n",
              "    .dataframe tbody tr th {\n",
              "        vertical-align: top;\n",
              "    }\n",
              "\n",
              "    .dataframe thead th {\n",
              "        text-align: right;\n",
              "    }\n",
              "</style>\n",
              "<table border=\"1\" class=\"dataframe\">\n",
              "  <thead>\n",
              "    <tr style=\"text-align: right;\">\n",
              "      <th></th>\n",
              "      <th>index</th>\n",
              "      <th>v_escolarida</th>\n",
              "    </tr>\n",
              "  </thead>\n",
              "  <tbody>\n",
              "    <tr>\n",
              "      <th>8</th>\n",
              "      <td>no especificado</td>\n",
              "      <td>0.016842</td>\n",
              "    </tr>\n",
              "    <tr>\n",
              "      <th>9</th>\n",
              "      <td>posgrado</td>\n",
              "      <td>0.007368</td>\n",
              "    </tr>\n",
              "    <tr>\n",
              "      <th>10</th>\n",
              "      <td>no aplica a menores de 3 años</td>\n",
              "      <td>0.003158</td>\n",
              "    </tr>\n",
              "    <tr>\n",
              "      <th>11</th>\n",
              "      <td>preescolar</td>\n",
              "      <td>0.002632</td>\n",
              "    </tr>\n",
              "  </tbody>\n",
              "</table>\n",
              "</div>"
            ],
            "text/plain": [
              "                            index  v_escolarida\n",
              "8                 no especificado      0.016842\n",
              "9                        posgrado      0.007368\n",
              "10  no aplica a menores de 3 años      0.003158\n",
              "11                     preescolar      0.002632"
            ]
          },
          "metadata": {
            "tags": []
          },
          "execution_count": 95
        }
      ]
    },
    {
      "cell_type": "code",
      "metadata": {
        "ExecuteTime": {
          "end_time": "2020-10-22T18:31:59.688718Z",
          "start_time": "2020-10-22T18:31:59.641108Z"
        },
        "id": "4Pz0mSI74Tdf"
      },
      "source": [
        "dictio_otro=dict(zip(list(aux[aux[\"v_escolarida\"]<.02][\"index\"].values),[\"otro\"]*4))"
      ],
      "execution_count": 96,
      "outputs": []
    },
    {
      "cell_type": "code",
      "metadata": {
        "ExecuteTime": {
          "end_time": "2020-10-22T18:31:59.809685Z",
          "start_time": "2020-10-22T18:31:59.704414Z"
        },
        "id": "2B6M5LWA4Tdh",
        "outputId": "f2c79adf-f844-4057-f055-52f8eaaee521",
        "colab": {
          "base_uri": "https://localhost:8080/",
          "height": 187
        }
      },
      "source": [
        "df[\"v_escolarida\"].replace(dictio_otro).value_counts()"
      ],
      "execution_count": 97,
      "outputs": [
        {
          "output_type": "execute_result",
          "data": {
            "text/plain": [
              "primaria incompleta                       599\n",
              "primaria completa                         405\n",
              "sin escolaridad                           273\n",
              "secundaria completa                       189\n",
              "profesional                               137\n",
              "bachillerato o preparatoria completo      127\n",
              "secundaria incompleta                      62\n",
              "otro                                       57\n",
              "bachillerato o preparatoria incompleto     51\n",
              "Name: v_escolarida, dtype: int64"
            ]
          },
          "metadata": {
            "tags": []
          },
          "execution_count": 97
        }
      ]
    },
    {
      "cell_type": "code",
      "metadata": {
        "ExecuteTime": {
          "end_time": "2020-10-22T18:32:00.006785Z",
          "start_time": "2020-10-22T18:31:59.815455Z"
        },
        "id": "FIjMktef4Tdi",
        "outputId": "714d606e-00a8-408f-8bf3-6fc862c0513c",
        "colab": {
          "base_uri": "https://localhost:8080/",
          "height": 68
        }
      },
      "source": [
        "df[\"v_escolarida\"].map(dictio_otro).value_counts(1,dropna=False)"
      ],
      "execution_count": 98,
      "outputs": [
        {
          "output_type": "execute_result",
          "data": {
            "text/plain": [
              "NaN     0.97\n",
              "otro    0.03\n",
              "Name: v_escolarida, dtype: float64"
            ]
          },
          "metadata": {
            "tags": []
          },
          "execution_count": 98
        }
      ]
    },
    {
      "cell_type": "code",
      "metadata": {
        "ExecuteTime": {
          "end_time": "2020-10-22T18:32:00.169368Z",
          "start_time": "2020-10-22T18:32:00.013875Z"
        },
        "id": "DoPLkv894Tdk"
      },
      "source": [
        "df[\"v_escolarida\"]=df[\"v_escolarida\"].replace(dictio_otro)"
      ],
      "execution_count": 99,
      "outputs": []
    },
    {
      "cell_type": "code",
      "metadata": {
        "ExecuteTime": {
          "end_time": "2020-10-22T18:32:00.273371Z",
          "start_time": "2020-10-22T18:32:00.177346Z"
        },
        "id": "JA87BbY_4Tdl",
        "outputId": "7cb9a8fd-ca69-4bbd-a3fc-f3e3a0ac76d2",
        "colab": {
          "base_uri": "https://localhost:8080/",
          "height": 187
        }
      },
      "source": [
        "df[\"v_escolarida\"].value_counts()"
      ],
      "execution_count": 100,
      "outputs": [
        {
          "output_type": "execute_result",
          "data": {
            "text/plain": [
              "primaria incompleta                       599\n",
              "primaria completa                         405\n",
              "sin escolaridad                           273\n",
              "secundaria completa                       189\n",
              "profesional                               137\n",
              "bachillerato o preparatoria completo      127\n",
              "secundaria incompleta                      62\n",
              "otro                                       57\n",
              "bachillerato o preparatoria incompleto     51\n",
              "Name: v_escolarida, dtype: int64"
            ]
          },
          "metadata": {
            "tags": []
          },
          "execution_count": 100
        }
      ]
    },
    {
      "cell_type": "code",
      "metadata": {
        "ExecuteTime": {
          "end_time": "2020-10-22T18:32:00.833419Z",
          "start_time": "2020-10-22T18:32:00.282477Z"
        },
        "id": "gdHPfSPx4Tdp",
        "outputId": "1d8870de-dca8-4293-987d-bf3cc9a7b2f9",
        "colab": {
          "base_uri": "https://localhost:8080/",
          "height": 34
        }
      },
      "source": [
        "d_feats"
      ],
      "execution_count": 101,
      "outputs": [
        {
          "output_type": "execute_result",
          "data": {
            "text/plain": [
              "['d_fecha_nac', 'd_fecha_ocurr', 'd_fecha_ocurr_mes', 'd_fecha_ocurr_dia']"
            ]
          },
          "metadata": {
            "tags": []
          },
          "execution_count": 101
        }
      ]
    },
    {
      "cell_type": "code",
      "metadata": {
        "ExecuteTime": {
          "end_time": "2020-10-22T18:32:01.594652Z",
          "start_time": "2020-10-22T18:32:00.846310Z"
        },
        "id": "YbwdcT9B4Tdr",
        "outputId": "d62bf655-ac3c-4873-dfe2-3532be46b94e",
        "colab": {
          "base_uri": "https://localhost:8080/",
          "height": 34
        }
      },
      "source": [
        "df[\"d_fecha_nac\"].dtype"
      ],
      "execution_count": 102,
      "outputs": [
        {
          "output_type": "execute_result",
          "data": {
            "text/plain": [
              "dtype('O')"
            ]
          },
          "metadata": {
            "tags": []
          },
          "execution_count": 102
        }
      ]
    },
    {
      "cell_type": "code",
      "metadata": {
        "ExecuteTime": {
          "end_time": "2020-10-22T18:32:01.732458Z",
          "start_time": "2020-10-22T18:32:01.604316Z"
        },
        "id": "mQt8erep4Tdt",
        "outputId": "ed153fa1-4718-468d-c607-0756ad911169",
        "colab": {
          "base_uri": "https://localhost:8080/",
          "height": 122
        }
      },
      "source": [
        "df[\"d_fecha_nac\"].iloc[[0,1]]=[\"1\",\"11\"]"
      ],
      "execution_count": 103,
      "outputs": [
        {
          "output_type": "stream",
          "text": [
            "/usr/local/lib/python3.6/dist-packages/pandas/core/indexing.py:670: SettingWithCopyWarning: \n",
            "A value is trying to be set on a copy of a slice from a DataFrame\n",
            "\n",
            "See the caveats in the documentation: https://pandas.pydata.org/pandas-docs/stable/user_guide/indexing.html#returning-a-view-versus-a-copy\n",
            "  iloc._setitem_with_indexer(indexer, value)\n"
          ],
          "name": "stderr"
        }
      ]
    },
    {
      "cell_type": "code",
      "metadata": {
        "ExecuteTime": {
          "end_time": "2020-10-22T18:32:01.796978Z",
          "start_time": "2020-10-22T18:32:01.740586Z"
        },
        "scrolled": true,
        "id": "7Ab24PHn4Tdu",
        "outputId": "ef576e4e-543f-49ba-b284-3b94b948966f",
        "colab": {
          "base_uri": "https://localhost:8080/",
          "height": 221
        }
      },
      "source": [
        "df[\"d_fecha_nac\"]"
      ],
      "execution_count": 104,
      "outputs": [
        {
          "output_type": "execute_result",
          "data": {
            "text/plain": [
              "0                1\n",
              "1               11\n",
              "2       1974-12-17\n",
              "3       1926-05-04\n",
              "4       1949-08-25\n",
              "           ...    \n",
              "1895    1921-03-22\n",
              "1896    1918-01-10\n",
              "1897    1934-06-05\n",
              "1898    1955-01-24\n",
              "1899    1919-12-29\n",
              "Name: d_fecha_nac, Length: 1900, dtype: object"
            ]
          },
          "metadata": {
            "tags": []
          },
          "execution_count": 104
        }
      ]
    },
    {
      "cell_type": "code",
      "metadata": {
        "ExecuteTime": {
          "end_time": "2020-10-22T18:32:02.092298Z",
          "start_time": "2020-10-22T18:32:02.056514Z"
        },
        "id": "HW2E7oKb4Tdw",
        "outputId": "0a2a19ba-33f1-407e-ce56-3dea2a1eacd7",
        "colab": {
          "base_uri": "https://localhost:8080/",
          "height": 221
        }
      },
      "source": [
        "df[\"d_fecha_nac\"]"
      ],
      "execution_count": 105,
      "outputs": [
        {
          "output_type": "execute_result",
          "data": {
            "text/plain": [
              "0                1\n",
              "1               11\n",
              "2       1974-12-17\n",
              "3       1926-05-04\n",
              "4       1949-08-25\n",
              "           ...    \n",
              "1895    1921-03-22\n",
              "1896    1918-01-10\n",
              "1897    1934-06-05\n",
              "1898    1955-01-24\n",
              "1899    1919-12-29\n",
              "Name: d_fecha_nac, Length: 1900, dtype: object"
            ]
          },
          "metadata": {
            "tags": []
          },
          "execution_count": 105
        }
      ]
    },
    {
      "cell_type": "code",
      "metadata": {
        "ExecuteTime": {
          "end_time": "2020-10-22T18:32:02.332587Z",
          "start_time": "2020-10-22T18:32:02.314626Z"
        },
        "scrolled": true,
        "id": "w_OxZ-op4Tdx"
      },
      "source": [
        "df[\"d_fecha_nac\"]=pd.to_datetime(df[\"d_fecha_nac\"],errors=\"coerce\")"
      ],
      "execution_count": 106,
      "outputs": []
    },
    {
      "cell_type": "code",
      "metadata": {
        "ExecuteTime": {
          "end_time": "2020-10-22T18:32:02.561919Z",
          "start_time": "2020-10-22T18:32:02.547120Z"
        },
        "scrolled": true,
        "id": "z1ZQknoM4Tdz"
      },
      "source": [
        "df=df[df[\"d_fecha_nac\"].isnull()!=True]"
      ],
      "execution_count": 107,
      "outputs": []
    },
    {
      "cell_type": "code",
      "metadata": {
        "ExecuteTime": {
          "end_time": "2020-10-22T18:32:02.826364Z",
          "start_time": "2020-10-22T18:32:02.773873Z"
        },
        "id": "qxdnjV6m4Td1"
      },
      "source": [
        "df[\"v_fecha_nac_month\"]=df[\"d_fecha_nac\"].map(lambda x:x.month)"
      ],
      "execution_count": 108,
      "outputs": []
    },
    {
      "cell_type": "code",
      "metadata": {
        "ExecuteTime": {
          "end_time": "2020-10-22T18:32:02.981668Z",
          "start_time": "2020-10-22T18:32:02.969090Z"
        },
        "id": "C8usplmg4Td3",
        "outputId": "f90fdc7d-7357-4d3b-c783-b407c16c985e",
        "colab": {
          "base_uri": "https://localhost:8080/",
          "height": 34
        }
      },
      "source": [
        "t_feats"
      ],
      "execution_count": 109,
      "outputs": [
        {
          "output_type": "execute_result",
          "data": {
            "text/plain": [
              "['t_programa_fondo', 't_nombre_del_proyecto', 't_nombre_del_beneficiario']"
            ]
          },
          "metadata": {
            "tags": []
          },
          "execution_count": 109
        }
      ]
    },
    {
      "cell_type": "code",
      "metadata": {
        "ExecuteTime": {
          "end_time": "2020-10-22T18:32:03.305835Z",
          "start_time": "2020-10-22T18:32:03.285305Z"
        },
        "id": "kKr41gqa4Td4",
        "outputId": "3c73f130-7f8e-46b5-c657-22185c8f894e",
        "colab": {
          "base_uri": "https://localhost:8080/",
          "height": 241
        }
      },
      "source": [
        "df[t_feats[1]].value_counts()"
      ],
      "execution_count": 110,
      "outputs": [
        {
          "output_type": "execute_result",
          "data": {
            "text/plain": [
              "MODELO INDUSTRIAL DE MUEBLE\\n                                                                                                                                                                                 81\n",
              "MODELO INDUSTRIAL DE UNA BASE PARA MESA\\n                                                                                                                                                                     44\n",
              "MODELO INDUSTRIAL DE UNA BASE CUADRADA PARA MESA\\n                                                                                                                                                            41\n",
              "MODELO INDUSTRIAL DE UNA BASE RECTANGULAR PARA MESA\\n                                                                                                                                                         21\n",
              "TARIMA PARA CARGA CON SOPORTE BASTIDOR Y CUBIERTA INTERCAMBIABLE\\n                                                                                                                                            20\n",
              "                                                                                                                                                                                                              ..\n",
              "Plataforma de manufactura digital: formulación, dosificación e inocuidad de productos agroindustriales de exportación                                                                                          9\n",
              "Active Financial S.A. de C.V. y un Prototipo de Equipo CSP ( Concentrated Solar Power) para el Tratamiento Ecológico de Vinazas de Tequila Con Fertilizantes Potásicos O Bio-Combustible como Subproducto.     9\n",
              "Participación de comunidad estudiantil y docente en Talent Land 2018                                                                                                                                           8\n",
              "Codigo Ciencia Occidente 2018                                                                                                                                                                                  8\n",
              "\"50 Años del Centro de Enseñanza Técnica Industrial y su contribución a la Educación Media Superior y Superior.\"                                                                                               8\n",
              "Name: t_nombre_del_proyecto, Length: 165, dtype: int64"
            ]
          },
          "metadata": {
            "tags": []
          },
          "execution_count": 110
        }
      ]
    },
    {
      "cell_type": "code",
      "metadata": {
        "ExecuteTime": {
          "end_time": "2020-10-22T18:32:03.851515Z",
          "start_time": "2020-10-22T18:32:03.570977Z"
        },
        "id": "WAMG-2En4Td6",
        "outputId": "0052ec16-0146-4311-cbcc-3b04fd4137b6",
        "colab": {
          "base_uri": "https://localhost:8080/",
          "height": 221
        }
      },
      "source": [
        "df[t_feats[1]].map(lambda x:unidecode(x.lower()).strip()).value_counts()"
      ],
      "execution_count": 111,
      "outputs": [
        {
          "output_type": "execute_result",
          "data": {
            "text/plain": [
              "modelo industrial de mueble                                                                                         81\n",
              "modelo industrial de una base para mesa                                                                             44\n",
              "modelo industrial de una base cuadrada para mesa                                                                    41\n",
              "dispositivo para calibrar los parametros de un generador de senales electronicas.                                   23\n",
              "modelo industrial de una base rectangular para mesa                                                                 21\n",
              "                                                                                                                    ..\n",
              "modelo industrial de mueble para hortalizas o plantas de dos niveles                                                 9\n",
              "modelo industrial de plato de comida para gato anti insectos                                                         9\n",
              "participacion de comunidad estudiantil y docente en talent land 2018                                                 8\n",
              "\"50 anos del centro de ensenanza tecnica industrial y su contribucion a la educacion media superior y superior.\"     8\n",
              "codigo ciencia occidente 2018                                                                                        8\n",
              "Name: t_nombre_del_proyecto, Length: 164, dtype: int64"
            ]
          },
          "metadata": {
            "tags": []
          },
          "execution_count": 111
        }
      ]
    },
    {
      "cell_type": "code",
      "metadata": {
        "ExecuteTime": {
          "end_time": "2020-10-22T18:32:03.999984Z",
          "start_time": "2020-10-22T18:32:03.861661Z"
        },
        "id": "nUssmy0M4Td7"
      },
      "source": [
        "df[t_feats[1]]=df[t_feats[1]].map(lambda x:unidecode(x.lower()).strip())"
      ],
      "execution_count": 112,
      "outputs": []
    },
    {
      "cell_type": "code",
      "metadata": {
        "ExecuteTime": {
          "end_time": "2020-10-22T18:32:04.146155Z",
          "start_time": "2020-10-22T18:32:04.006583Z"
        },
        "scrolled": true,
        "id": "6Omeh0Sl4Td9",
        "outputId": "5427bf9b-2681-4a80-accd-13a519feabd3",
        "colab": {
          "base_uri": "https://localhost:8080/",
          "height": 966
        }
      },
      "source": [
        "df"
      ],
      "execution_count": 113,
      "outputs": [
        {
          "output_type": "execute_result",
          "data": {
            "text/html": [
              "<div>\n",
              "<style scoped>\n",
              "    .dataframe tbody tr th:only-of-type {\n",
              "        vertical-align: middle;\n",
              "    }\n",
              "\n",
              "    .dataframe tbody tr th {\n",
              "        vertical-align: top;\n",
              "    }\n",
              "\n",
              "    .dataframe thead th {\n",
              "        text-align: right;\n",
              "    }\n",
              "</style>\n",
              "<table border=\"1\" class=\"dataframe\">\n",
              "  <thead>\n",
              "    <tr style=\"text-align: right;\">\n",
              "      <th></th>\n",
              "      <th>c_edad</th>\n",
              "      <th>c_minutos</th>\n",
              "      <th>c_monto_de_apoyo</th>\n",
              "      <th>c_horas</th>\n",
              "      <th>v_ent_regis</th>\n",
              "      <th>v_mun_regis</th>\n",
              "      <th>v_ent_resid</th>\n",
              "      <th>v_mun_resid</th>\n",
              "      <th>v_ent_ocurr</th>\n",
              "      <th>v_mun_ocurr</th>\n",
              "      <th>v_edo_civil</th>\n",
              "      <th>v_lugar_ocur</th>\n",
              "      <th>v_sitio_ocur</th>\n",
              "      <th>v_nacionalid</th>\n",
              "      <th>v_embarazo</th>\n",
              "      <th>v_grupo</th>\n",
              "      <th>v_lengua</th>\n",
              "      <th>v_clave</th>\n",
              "      <th>d_fecha_nac</th>\n",
              "      <th>d_fecha_ocurr</th>\n",
              "      <th>t_programa_fondo</th>\n",
              "      <th>t_nombre_del_proyecto</th>\n",
              "      <th>t_nombre_del_beneficiario</th>\n",
              "      <th>v_sexo</th>\n",
              "      <th>v_ocupacion</th>\n",
              "      <th>v_escolarida</th>\n",
              "      <th>d_fecha_ocurr_mes</th>\n",
              "      <th>d_fecha_ocurr_dia</th>\n",
              "      <th>v_fecha_nac_month</th>\n",
              "    </tr>\n",
              "  </thead>\n",
              "  <tbody>\n",
              "    <tr>\n",
              "      <th>2</th>\n",
              "      <td>40</td>\n",
              "      <td>50</td>\n",
              "      <td>30254.04</td>\n",
              "      <td>6</td>\n",
              "      <td>1.0</td>\n",
              "      <td>1</td>\n",
              "      <td>1</td>\n",
              "      <td>1</td>\n",
              "      <td>NaN</td>\n",
              "      <td>1</td>\n",
              "      <td>NaN</td>\n",
              "      <td>88</td>\n",
              "      <td>1</td>\n",
              "      <td>1</td>\n",
              "      <td>5</td>\n",
              "      <td>7</td>\n",
              "      <td>NaN</td>\n",
              "      <td>6364</td>\n",
              "      <td>1974-12-17</td>\n",
              "      <td>2015-07-16</td>\n",
              "      <td>Programa Jalisciense de Fomento a la Propieda...</td>\n",
              "      <td>dispositivo personal de comunicacion remota pa...</td>\n",
              "      <td>GERALDINA  VEGA GAMBOA\\n</td>\n",
              "      <td>Mujeres</td>\n",
              "      <td>No trabaja</td>\n",
              "      <td>primaria completa</td>\n",
              "      <td>7</td>\n",
              "      <td>16</td>\n",
              "      <td>12</td>\n",
              "    </tr>\n",
              "    <tr>\n",
              "      <th>3</th>\n",
              "      <td>89</td>\n",
              "      <td>30</td>\n",
              "      <td>25405.81</td>\n",
              "      <td>15</td>\n",
              "      <td>1.0</td>\n",
              "      <td>1</td>\n",
              "      <td>1</td>\n",
              "      <td>1</td>\n",
              "      <td>NaN</td>\n",
              "      <td>1</td>\n",
              "      <td>NaN</td>\n",
              "      <td>88</td>\n",
              "      <td>11</td>\n",
              "      <td>1</td>\n",
              "      <td>8</td>\n",
              "      <td>5</td>\n",
              "      <td>9.0</td>\n",
              "      <td>6367</td>\n",
              "      <td>1926-05-04</td>\n",
              "      <td>2015-12-26</td>\n",
              "      <td>Programa Jalisciense de Fomento a la Propieda...</td>\n",
              "      <td>mx-sistema diferencial que controla la traccio...</td>\n",
              "      <td>SERVANDO SOTO VELASCO</td>\n",
              "      <td>Hombres</td>\n",
              "      <td>No trabaja</td>\n",
              "      <td>sin escolaridad</td>\n",
              "      <td>12</td>\n",
              "      <td>26</td>\n",
              "      <td>5</td>\n",
              "    </tr>\n",
              "    <tr>\n",
              "      <th>4</th>\n",
              "      <td>66</td>\n",
              "      <td>43</td>\n",
              "      <td>60336.83</td>\n",
              "      <td>22</td>\n",
              "      <td>1.0</td>\n",
              "      <td>1</td>\n",
              "      <td>1</td>\n",
              "      <td>1</td>\n",
              "      <td>NaN</td>\n",
              "      <td>1</td>\n",
              "      <td>NaN</td>\n",
              "      <td>88</td>\n",
              "      <td>3</td>\n",
              "      <td>1</td>\n",
              "      <td>8</td>\n",
              "      <td>6</td>\n",
              "      <td>NaN</td>\n",
              "      <td>6368</td>\n",
              "      <td>1949-08-25</td>\n",
              "      <td>2015-02-10</td>\n",
              "      <td>Programa Jalisciense de Fomento a la Propieda...</td>\n",
              "      <td>mx-sistema acoplador automatizado para maquina...</td>\n",
              "      <td>SERVANDO SOTO VELASCO\\n</td>\n",
              "      <td>Mujeres</td>\n",
              "      <td>No trabaja</td>\n",
              "      <td>primaria incompleta</td>\n",
              "      <td>2</td>\n",
              "      <td>10</td>\n",
              "      <td>8</td>\n",
              "    </tr>\n",
              "    <tr>\n",
              "      <th>5</th>\n",
              "      <td>67</td>\n",
              "      <td>30</td>\n",
              "      <td>62150.30</td>\n",
              "      <td>9</td>\n",
              "      <td>1.0</td>\n",
              "      <td>1</td>\n",
              "      <td>1</td>\n",
              "      <td>1</td>\n",
              "      <td>NaN</td>\n",
              "      <td>1</td>\n",
              "      <td>NaN</td>\n",
              "      <td>88</td>\n",
              "      <td>11</td>\n",
              "      <td>1</td>\n",
              "      <td>8</td>\n",
              "      <td>2</td>\n",
              "      <td>NaN</td>\n",
              "      <td>6375</td>\n",
              "      <td>1948-05-29</td>\n",
              "      <td>2015-02-05</td>\n",
              "      <td>Programa Jalisciense de Fomento a la Propieda...</td>\n",
              "      <td>pct-pasta biodegradable para usos multiples</td>\n",
              "      <td>CORPORATIVO BORO S.A. DE C.V.\\n</td>\n",
              "      <td>Mujeres</td>\n",
              "      <td>No trabaja</td>\n",
              "      <td>sin escolaridad</td>\n",
              "      <td>2</td>\n",
              "      <td>5</td>\n",
              "      <td>5</td>\n",
              "    </tr>\n",
              "    <tr>\n",
              "      <th>6</th>\n",
              "      <td>44</td>\n",
              "      <td>0</td>\n",
              "      <td>62150.30</td>\n",
              "      <td>3</td>\n",
              "      <td>1.0</td>\n",
              "      <td>1</td>\n",
              "      <td>1</td>\n",
              "      <td>1</td>\n",
              "      <td>NaN</td>\n",
              "      <td>1</td>\n",
              "      <td>NaN</td>\n",
              "      <td>88</td>\n",
              "      <td>11</td>\n",
              "      <td>1</td>\n",
              "      <td>8</td>\n",
              "      <td>5</td>\n",
              "      <td>NaN</td>\n",
              "      <td>6377</td>\n",
              "      <td>1971-08-20</td>\n",
              "      <td>2015-01-17</td>\n",
              "      <td>Programa Jalisciense de Fomento a la Propieda...</td>\n",
              "      <td>pct-empaque conico para la conexion de manguer...</td>\n",
              "      <td>CORPORATIVO BORO S.A. DE C.V.</td>\n",
              "      <td>Hombres</td>\n",
              "      <td>Profesionistas y técnicos</td>\n",
              "      <td>profesional</td>\n",
              "      <td>1</td>\n",
              "      <td>17</td>\n",
              "      <td>8</td>\n",
              "    </tr>\n",
              "    <tr>\n",
              "      <th>...</th>\n",
              "      <td>...</td>\n",
              "      <td>...</td>\n",
              "      <td>...</td>\n",
              "      <td>...</td>\n",
              "      <td>...</td>\n",
              "      <td>...</td>\n",
              "      <td>...</td>\n",
              "      <td>...</td>\n",
              "      <td>...</td>\n",
              "      <td>...</td>\n",
              "      <td>...</td>\n",
              "      <td>...</td>\n",
              "      <td>...</td>\n",
              "      <td>...</td>\n",
              "      <td>...</td>\n",
              "      <td>...</td>\n",
              "      <td>...</td>\n",
              "      <td>...</td>\n",
              "      <td>...</td>\n",
              "      <td>...</td>\n",
              "      <td>...</td>\n",
              "      <td>...</td>\n",
              "      <td>...</td>\n",
              "      <td>...</td>\n",
              "      <td>...</td>\n",
              "      <td>...</td>\n",
              "      <td>...</td>\n",
              "      <td>...</td>\n",
              "      <td>...</td>\n",
              "    </tr>\n",
              "    <tr>\n",
              "      <th>1895</th>\n",
              "      <td>94</td>\n",
              "      <td>40</td>\n",
              "      <td>50336.83</td>\n",
              "      <td>11</td>\n",
              "      <td>NaN</td>\n",
              "      <td>1</td>\n",
              "      <td>1</td>\n",
              "      <td>1</td>\n",
              "      <td>NaN</td>\n",
              "      <td>1</td>\n",
              "      <td>NaN</td>\n",
              "      <td>88</td>\n",
              "      <td>11</td>\n",
              "      <td>1</td>\n",
              "      <td>8</td>\n",
              "      <td>4</td>\n",
              "      <td>NaN</td>\n",
              "      <td>6456</td>\n",
              "      <td>1921-03-22</td>\n",
              "      <td>2015-07-13</td>\n",
              "      <td>Programa Jalisciense de Fomento a la Propieda...</td>\n",
              "      <td>sistema de seguridad y automatizacion de punto...</td>\n",
              "      <td>DENNIS SHERIDAN PLASENCIA</td>\n",
              "      <td>Mujeres</td>\n",
              "      <td>No trabaja</td>\n",
              "      <td>primaria incompleta</td>\n",
              "      <td>7</td>\n",
              "      <td>13</td>\n",
              "      <td>3</td>\n",
              "    </tr>\n",
              "    <tr>\n",
              "      <th>1896</th>\n",
              "      <td>96</td>\n",
              "      <td>20</td>\n",
              "      <td>49381.31</td>\n",
              "      <td>7</td>\n",
              "      <td>1.0</td>\n",
              "      <td>1</td>\n",
              "      <td>1</td>\n",
              "      <td>1</td>\n",
              "      <td>NaN</td>\n",
              "      <td>1</td>\n",
              "      <td>NaN</td>\n",
              "      <td>88</td>\n",
              "      <td>4</td>\n",
              "      <td>1</td>\n",
              "      <td>8</td>\n",
              "      <td>3</td>\n",
              "      <td>NaN</td>\n",
              "      <td>6463</td>\n",
              "      <td>1918-01-10</td>\n",
              "      <td>2015-04-11</td>\n",
              "      <td>Programa Jalisciense de Fomento a la Propieda...</td>\n",
              "      <td>conjunto de electromiografo y protesis mioelec...</td>\n",
              "      <td>ERICK EDUARDO GUZMÁN QUEZADA\\n</td>\n",
              "      <td>Hombres</td>\n",
              "      <td>No trabaja</td>\n",
              "      <td>bachillerato o preparatoria completo</td>\n",
              "      <td>4</td>\n",
              "      <td>11</td>\n",
              "      <td>1</td>\n",
              "    </tr>\n",
              "    <tr>\n",
              "      <th>1897</th>\n",
              "      <td>80</td>\n",
              "      <td>30</td>\n",
              "      <td>49381.31</td>\n",
              "      <td>16</td>\n",
              "      <td>NaN</td>\n",
              "      <td>1</td>\n",
              "      <td>32</td>\n",
              "      <td>44</td>\n",
              "      <td>NaN</td>\n",
              "      <td>1</td>\n",
              "      <td>NaN</td>\n",
              "      <td>88</td>\n",
              "      <td>9</td>\n",
              "      <td>1</td>\n",
              "      <td>8</td>\n",
              "      <td>4</td>\n",
              "      <td>NaN</td>\n",
              "      <td>6464</td>\n",
              "      <td>1934-06-05</td>\n",
              "      <td>2015-02-23</td>\n",
              "      <td>Programa Jalisciense de Fomento a la Propieda...</td>\n",
              "      <td>dispositivo para calibrar los parametros de un...</td>\n",
              "      <td>ERICK EDUARDO GUZMÁN QUEZADA\\n</td>\n",
              "      <td>Hombres</td>\n",
              "      <td>Trabajadores en actividades agrícolas, ganader...</td>\n",
              "      <td>primaria incompleta</td>\n",
              "      <td>2</td>\n",
              "      <td>23</td>\n",
              "      <td>6</td>\n",
              "    </tr>\n",
              "    <tr>\n",
              "      <th>1898</th>\n",
              "      <td>60</td>\n",
              "      <td>38</td>\n",
              "      <td>49381.31</td>\n",
              "      <td>11</td>\n",
              "      <td>1.0</td>\n",
              "      <td>1</td>\n",
              "      <td>1</td>\n",
              "      <td>1</td>\n",
              "      <td>NaN</td>\n",
              "      <td>1</td>\n",
              "      <td>NaN</td>\n",
              "      <td>88</td>\n",
              "      <td>1</td>\n",
              "      <td>1</td>\n",
              "      <td>8</td>\n",
              "      <td>2</td>\n",
              "      <td>NaN</td>\n",
              "      <td>6465</td>\n",
              "      <td>1955-01-24</td>\n",
              "      <td>2015-09-06</td>\n",
              "      <td>Programa Jalisciense de Fomento a la Propieda...</td>\n",
              "      <td>metodologia de medicion y analisis gonio metri...</td>\n",
              "      <td>ERICK EDUARDO GUZMÁN QUEZADA</td>\n",
              "      <td>Hombres</td>\n",
              "      <td>Trabajadores artesanales</td>\n",
              "      <td>primaria incompleta</td>\n",
              "      <td>9</td>\n",
              "      <td>6</td>\n",
              "      <td>1</td>\n",
              "    </tr>\n",
              "    <tr>\n",
              "      <th>1899</th>\n",
              "      <td>95</td>\n",
              "      <td>50</td>\n",
              "      <td>30254.04</td>\n",
              "      <td>22</td>\n",
              "      <td>1.0</td>\n",
              "      <td>1</td>\n",
              "      <td>1</td>\n",
              "      <td>1</td>\n",
              "      <td>NaN</td>\n",
              "      <td>1</td>\n",
              "      <td>NaN</td>\n",
              "      <td>88</td>\n",
              "      <td>11</td>\n",
              "      <td>1</td>\n",
              "      <td>8</td>\n",
              "      <td>3</td>\n",
              "      <td>NaN</td>\n",
              "      <td>6466</td>\n",
              "      <td>1919-12-29</td>\n",
              "      <td>2015-05-13</td>\n",
              "      <td>Programa Jalisciense de Fomento a la Propieda...</td>\n",
              "      <td>oximetro para la medicion de la saturacion de ...</td>\n",
              "      <td>ERICK EDUARDO GUZMÁN QUEZADA\\n</td>\n",
              "      <td>Mujeres</td>\n",
              "      <td>No trabaja</td>\n",
              "      <td>profesional</td>\n",
              "      <td>5</td>\n",
              "      <td>13</td>\n",
              "      <td>12</td>\n",
              "    </tr>\n",
              "  </tbody>\n",
              "</table>\n",
              "<p>1897 rows × 29 columns</p>\n",
              "</div>"
            ],
            "text/plain": [
              "      c_edad  c_minutos  ...  d_fecha_ocurr_dia  v_fecha_nac_month\n",
              "2         40         50  ...                 16                 12\n",
              "3         89         30  ...                 26                  5\n",
              "4         66         43  ...                 10                  8\n",
              "5         67         30  ...                  5                  5\n",
              "6         44          0  ...                 17                  8\n",
              "...      ...        ...  ...                ...                ...\n",
              "1895      94         40  ...                 13                  3\n",
              "1896      96         20  ...                 11                  1\n",
              "1897      80         30  ...                 23                  6\n",
              "1898      60         38  ...                  6                  1\n",
              "1899      95         50  ...                 13                 12\n",
              "\n",
              "[1897 rows x 29 columns]"
            ]
          },
          "metadata": {
            "tags": []
          },
          "execution_count": 113
        }
      ]
    },
    {
      "cell_type": "code",
      "metadata": {
        "ExecuteTime": {
          "end_time": "2020-10-22T18:32:04.225436Z",
          "start_time": "2020-10-22T18:32:04.203292Z"
        },
        "id": "Mzyfnn7k4TeA",
        "outputId": "fe5c40e9-b2a1-4e6b-8737-a163575cf50f",
        "colab": {
          "base_uri": "https://localhost:8080/",
          "height": 527
        }
      },
      "source": [
        "df.isnull().sum()"
      ],
      "execution_count": 114,
      "outputs": [
        {
          "output_type": "execute_result",
          "data": {
            "text/plain": [
              "c_edad                          0\n",
              "c_minutos                       0\n",
              "c_monto_de_apoyo                0\n",
              "c_horas                         0\n",
              "v_ent_regis                   550\n",
              "v_mun_regis                     0\n",
              "v_ent_resid                     0\n",
              "v_mun_resid                     0\n",
              "v_ent_ocurr                  1897\n",
              "v_mun_ocurr                     0\n",
              "v_edo_civil                  1897\n",
              "v_lugar_ocur                    0\n",
              "v_sitio_ocur                    0\n",
              "v_nacionalid                    0\n",
              "v_embarazo                      0\n",
              "v_grupo                         0\n",
              "v_lengua                     1478\n",
              "v_clave                         0\n",
              "d_fecha_nac                     0\n",
              "d_fecha_ocurr                   0\n",
              "t_programa_fondo                0\n",
              "t_nombre_del_proyecto           0\n",
              "t_nombre_del_beneficiario       0\n",
              "v_sexo                          0\n",
              "v_ocupacion                     0\n",
              "v_escolarida                    0\n",
              "d_fecha_ocurr_mes               0\n",
              "d_fecha_ocurr_dia               0\n",
              "v_fecha_nac_month               0\n",
              "dtype: int64"
            ]
          },
          "metadata": {
            "tags": []
          },
          "execution_count": 114
        }
      ]
    },
    {
      "cell_type": "code",
      "metadata": {
        "ExecuteTime": {
          "end_time": "2020-10-22T18:32:04.413051Z",
          "start_time": "2020-10-22T18:32:04.395984Z"
        },
        "scrolled": true,
        "id": "rMjgXsaj4TeC",
        "outputId": "9b4b265d-a155-491e-cc62-3196d55f9d1a",
        "colab": {
          "base_uri": "https://localhost:8080/",
          "height": 527
        }
      },
      "source": [
        "df.dtypes"
      ],
      "execution_count": 115,
      "outputs": [
        {
          "output_type": "execute_result",
          "data": {
            "text/plain": [
              "c_edad                                int64\n",
              "c_minutos                             int64\n",
              "c_monto_de_apoyo                    float64\n",
              "c_horas                               int64\n",
              "v_ent_regis                         float64\n",
              "v_mun_regis                           int64\n",
              "v_ent_resid                           int64\n",
              "v_mun_resid                           int64\n",
              "v_ent_ocurr                         float64\n",
              "v_mun_ocurr                           int64\n",
              "v_edo_civil                         float64\n",
              "v_lugar_ocur                          int64\n",
              "v_sitio_ocur                          int64\n",
              "v_nacionalid                          int64\n",
              "v_embarazo                            int64\n",
              "v_grupo                               int64\n",
              "v_lengua                            float64\n",
              "v_clave                               int64\n",
              "d_fecha_nac                  datetime64[ns]\n",
              "d_fecha_ocurr                datetime64[ns]\n",
              "t_programa_fondo                     object\n",
              "t_nombre_del_proyecto                object\n",
              "t_nombre_del_beneficiario            object\n",
              "v_sexo                               object\n",
              "v_ocupacion                          object\n",
              "v_escolarida                         object\n",
              "d_fecha_ocurr_mes                     int64\n",
              "d_fecha_ocurr_dia                     int64\n",
              "v_fecha_nac_month                     int64\n",
              "dtype: object"
            ]
          },
          "metadata": {
            "tags": []
          },
          "execution_count": 115
        }
      ]
    },
    {
      "cell_type": "code",
      "metadata": {
        "ExecuteTime": {
          "end_time": "2020-10-22T18:32:05.386861Z",
          "start_time": "2020-10-22T18:32:05.234893Z"
        },
        "id": "J5A44qpT4TeE",
        "outputId": "46911150-e36d-4a8a-f74b-0e33efa48b97",
        "colab": {
          "base_uri": "https://localhost:8080/",
          "height": 966
        }
      },
      "source": [
        "df"
      ],
      "execution_count": 116,
      "outputs": [
        {
          "output_type": "execute_result",
          "data": {
            "text/html": [
              "<div>\n",
              "<style scoped>\n",
              "    .dataframe tbody tr th:only-of-type {\n",
              "        vertical-align: middle;\n",
              "    }\n",
              "\n",
              "    .dataframe tbody tr th {\n",
              "        vertical-align: top;\n",
              "    }\n",
              "\n",
              "    .dataframe thead th {\n",
              "        text-align: right;\n",
              "    }\n",
              "</style>\n",
              "<table border=\"1\" class=\"dataframe\">\n",
              "  <thead>\n",
              "    <tr style=\"text-align: right;\">\n",
              "      <th></th>\n",
              "      <th>c_edad</th>\n",
              "      <th>c_minutos</th>\n",
              "      <th>c_monto_de_apoyo</th>\n",
              "      <th>c_horas</th>\n",
              "      <th>v_ent_regis</th>\n",
              "      <th>v_mun_regis</th>\n",
              "      <th>v_ent_resid</th>\n",
              "      <th>v_mun_resid</th>\n",
              "      <th>v_ent_ocurr</th>\n",
              "      <th>v_mun_ocurr</th>\n",
              "      <th>v_edo_civil</th>\n",
              "      <th>v_lugar_ocur</th>\n",
              "      <th>v_sitio_ocur</th>\n",
              "      <th>v_nacionalid</th>\n",
              "      <th>v_embarazo</th>\n",
              "      <th>v_grupo</th>\n",
              "      <th>v_lengua</th>\n",
              "      <th>v_clave</th>\n",
              "      <th>d_fecha_nac</th>\n",
              "      <th>d_fecha_ocurr</th>\n",
              "      <th>t_programa_fondo</th>\n",
              "      <th>t_nombre_del_proyecto</th>\n",
              "      <th>t_nombre_del_beneficiario</th>\n",
              "      <th>v_sexo</th>\n",
              "      <th>v_ocupacion</th>\n",
              "      <th>v_escolarida</th>\n",
              "      <th>d_fecha_ocurr_mes</th>\n",
              "      <th>d_fecha_ocurr_dia</th>\n",
              "      <th>v_fecha_nac_month</th>\n",
              "    </tr>\n",
              "  </thead>\n",
              "  <tbody>\n",
              "    <tr>\n",
              "      <th>2</th>\n",
              "      <td>40</td>\n",
              "      <td>50</td>\n",
              "      <td>30254.04</td>\n",
              "      <td>6</td>\n",
              "      <td>1.0</td>\n",
              "      <td>1</td>\n",
              "      <td>1</td>\n",
              "      <td>1</td>\n",
              "      <td>NaN</td>\n",
              "      <td>1</td>\n",
              "      <td>NaN</td>\n",
              "      <td>88</td>\n",
              "      <td>1</td>\n",
              "      <td>1</td>\n",
              "      <td>5</td>\n",
              "      <td>7</td>\n",
              "      <td>NaN</td>\n",
              "      <td>6364</td>\n",
              "      <td>1974-12-17</td>\n",
              "      <td>2015-07-16</td>\n",
              "      <td>Programa Jalisciense de Fomento a la Propieda...</td>\n",
              "      <td>dispositivo personal de comunicacion remota pa...</td>\n",
              "      <td>GERALDINA  VEGA GAMBOA\\n</td>\n",
              "      <td>Mujeres</td>\n",
              "      <td>No trabaja</td>\n",
              "      <td>primaria completa</td>\n",
              "      <td>7</td>\n",
              "      <td>16</td>\n",
              "      <td>12</td>\n",
              "    </tr>\n",
              "    <tr>\n",
              "      <th>3</th>\n",
              "      <td>89</td>\n",
              "      <td>30</td>\n",
              "      <td>25405.81</td>\n",
              "      <td>15</td>\n",
              "      <td>1.0</td>\n",
              "      <td>1</td>\n",
              "      <td>1</td>\n",
              "      <td>1</td>\n",
              "      <td>NaN</td>\n",
              "      <td>1</td>\n",
              "      <td>NaN</td>\n",
              "      <td>88</td>\n",
              "      <td>11</td>\n",
              "      <td>1</td>\n",
              "      <td>8</td>\n",
              "      <td>5</td>\n",
              "      <td>9.0</td>\n",
              "      <td>6367</td>\n",
              "      <td>1926-05-04</td>\n",
              "      <td>2015-12-26</td>\n",
              "      <td>Programa Jalisciense de Fomento a la Propieda...</td>\n",
              "      <td>mx-sistema diferencial que controla la traccio...</td>\n",
              "      <td>SERVANDO SOTO VELASCO</td>\n",
              "      <td>Hombres</td>\n",
              "      <td>No trabaja</td>\n",
              "      <td>sin escolaridad</td>\n",
              "      <td>12</td>\n",
              "      <td>26</td>\n",
              "      <td>5</td>\n",
              "    </tr>\n",
              "    <tr>\n",
              "      <th>4</th>\n",
              "      <td>66</td>\n",
              "      <td>43</td>\n",
              "      <td>60336.83</td>\n",
              "      <td>22</td>\n",
              "      <td>1.0</td>\n",
              "      <td>1</td>\n",
              "      <td>1</td>\n",
              "      <td>1</td>\n",
              "      <td>NaN</td>\n",
              "      <td>1</td>\n",
              "      <td>NaN</td>\n",
              "      <td>88</td>\n",
              "      <td>3</td>\n",
              "      <td>1</td>\n",
              "      <td>8</td>\n",
              "      <td>6</td>\n",
              "      <td>NaN</td>\n",
              "      <td>6368</td>\n",
              "      <td>1949-08-25</td>\n",
              "      <td>2015-02-10</td>\n",
              "      <td>Programa Jalisciense de Fomento a la Propieda...</td>\n",
              "      <td>mx-sistema acoplador automatizado para maquina...</td>\n",
              "      <td>SERVANDO SOTO VELASCO\\n</td>\n",
              "      <td>Mujeres</td>\n",
              "      <td>No trabaja</td>\n",
              "      <td>primaria incompleta</td>\n",
              "      <td>2</td>\n",
              "      <td>10</td>\n",
              "      <td>8</td>\n",
              "    </tr>\n",
              "    <tr>\n",
              "      <th>5</th>\n",
              "      <td>67</td>\n",
              "      <td>30</td>\n",
              "      <td>62150.30</td>\n",
              "      <td>9</td>\n",
              "      <td>1.0</td>\n",
              "      <td>1</td>\n",
              "      <td>1</td>\n",
              "      <td>1</td>\n",
              "      <td>NaN</td>\n",
              "      <td>1</td>\n",
              "      <td>NaN</td>\n",
              "      <td>88</td>\n",
              "      <td>11</td>\n",
              "      <td>1</td>\n",
              "      <td>8</td>\n",
              "      <td>2</td>\n",
              "      <td>NaN</td>\n",
              "      <td>6375</td>\n",
              "      <td>1948-05-29</td>\n",
              "      <td>2015-02-05</td>\n",
              "      <td>Programa Jalisciense de Fomento a la Propieda...</td>\n",
              "      <td>pct-pasta biodegradable para usos multiples</td>\n",
              "      <td>CORPORATIVO BORO S.A. DE C.V.\\n</td>\n",
              "      <td>Mujeres</td>\n",
              "      <td>No trabaja</td>\n",
              "      <td>sin escolaridad</td>\n",
              "      <td>2</td>\n",
              "      <td>5</td>\n",
              "      <td>5</td>\n",
              "    </tr>\n",
              "    <tr>\n",
              "      <th>6</th>\n",
              "      <td>44</td>\n",
              "      <td>0</td>\n",
              "      <td>62150.30</td>\n",
              "      <td>3</td>\n",
              "      <td>1.0</td>\n",
              "      <td>1</td>\n",
              "      <td>1</td>\n",
              "      <td>1</td>\n",
              "      <td>NaN</td>\n",
              "      <td>1</td>\n",
              "      <td>NaN</td>\n",
              "      <td>88</td>\n",
              "      <td>11</td>\n",
              "      <td>1</td>\n",
              "      <td>8</td>\n",
              "      <td>5</td>\n",
              "      <td>NaN</td>\n",
              "      <td>6377</td>\n",
              "      <td>1971-08-20</td>\n",
              "      <td>2015-01-17</td>\n",
              "      <td>Programa Jalisciense de Fomento a la Propieda...</td>\n",
              "      <td>pct-empaque conico para la conexion de manguer...</td>\n",
              "      <td>CORPORATIVO BORO S.A. DE C.V.</td>\n",
              "      <td>Hombres</td>\n",
              "      <td>Profesionistas y técnicos</td>\n",
              "      <td>profesional</td>\n",
              "      <td>1</td>\n",
              "      <td>17</td>\n",
              "      <td>8</td>\n",
              "    </tr>\n",
              "    <tr>\n",
              "      <th>...</th>\n",
              "      <td>...</td>\n",
              "      <td>...</td>\n",
              "      <td>...</td>\n",
              "      <td>...</td>\n",
              "      <td>...</td>\n",
              "      <td>...</td>\n",
              "      <td>...</td>\n",
              "      <td>...</td>\n",
              "      <td>...</td>\n",
              "      <td>...</td>\n",
              "      <td>...</td>\n",
              "      <td>...</td>\n",
              "      <td>...</td>\n",
              "      <td>...</td>\n",
              "      <td>...</td>\n",
              "      <td>...</td>\n",
              "      <td>...</td>\n",
              "      <td>...</td>\n",
              "      <td>...</td>\n",
              "      <td>...</td>\n",
              "      <td>...</td>\n",
              "      <td>...</td>\n",
              "      <td>...</td>\n",
              "      <td>...</td>\n",
              "      <td>...</td>\n",
              "      <td>...</td>\n",
              "      <td>...</td>\n",
              "      <td>...</td>\n",
              "      <td>...</td>\n",
              "    </tr>\n",
              "    <tr>\n",
              "      <th>1895</th>\n",
              "      <td>94</td>\n",
              "      <td>40</td>\n",
              "      <td>50336.83</td>\n",
              "      <td>11</td>\n",
              "      <td>NaN</td>\n",
              "      <td>1</td>\n",
              "      <td>1</td>\n",
              "      <td>1</td>\n",
              "      <td>NaN</td>\n",
              "      <td>1</td>\n",
              "      <td>NaN</td>\n",
              "      <td>88</td>\n",
              "      <td>11</td>\n",
              "      <td>1</td>\n",
              "      <td>8</td>\n",
              "      <td>4</td>\n",
              "      <td>NaN</td>\n",
              "      <td>6456</td>\n",
              "      <td>1921-03-22</td>\n",
              "      <td>2015-07-13</td>\n",
              "      <td>Programa Jalisciense de Fomento a la Propieda...</td>\n",
              "      <td>sistema de seguridad y automatizacion de punto...</td>\n",
              "      <td>DENNIS SHERIDAN PLASENCIA</td>\n",
              "      <td>Mujeres</td>\n",
              "      <td>No trabaja</td>\n",
              "      <td>primaria incompleta</td>\n",
              "      <td>7</td>\n",
              "      <td>13</td>\n",
              "      <td>3</td>\n",
              "    </tr>\n",
              "    <tr>\n",
              "      <th>1896</th>\n",
              "      <td>96</td>\n",
              "      <td>20</td>\n",
              "      <td>49381.31</td>\n",
              "      <td>7</td>\n",
              "      <td>1.0</td>\n",
              "      <td>1</td>\n",
              "      <td>1</td>\n",
              "      <td>1</td>\n",
              "      <td>NaN</td>\n",
              "      <td>1</td>\n",
              "      <td>NaN</td>\n",
              "      <td>88</td>\n",
              "      <td>4</td>\n",
              "      <td>1</td>\n",
              "      <td>8</td>\n",
              "      <td>3</td>\n",
              "      <td>NaN</td>\n",
              "      <td>6463</td>\n",
              "      <td>1918-01-10</td>\n",
              "      <td>2015-04-11</td>\n",
              "      <td>Programa Jalisciense de Fomento a la Propieda...</td>\n",
              "      <td>conjunto de electromiografo y protesis mioelec...</td>\n",
              "      <td>ERICK EDUARDO GUZMÁN QUEZADA\\n</td>\n",
              "      <td>Hombres</td>\n",
              "      <td>No trabaja</td>\n",
              "      <td>bachillerato o preparatoria completo</td>\n",
              "      <td>4</td>\n",
              "      <td>11</td>\n",
              "      <td>1</td>\n",
              "    </tr>\n",
              "    <tr>\n",
              "      <th>1897</th>\n",
              "      <td>80</td>\n",
              "      <td>30</td>\n",
              "      <td>49381.31</td>\n",
              "      <td>16</td>\n",
              "      <td>NaN</td>\n",
              "      <td>1</td>\n",
              "      <td>32</td>\n",
              "      <td>44</td>\n",
              "      <td>NaN</td>\n",
              "      <td>1</td>\n",
              "      <td>NaN</td>\n",
              "      <td>88</td>\n",
              "      <td>9</td>\n",
              "      <td>1</td>\n",
              "      <td>8</td>\n",
              "      <td>4</td>\n",
              "      <td>NaN</td>\n",
              "      <td>6464</td>\n",
              "      <td>1934-06-05</td>\n",
              "      <td>2015-02-23</td>\n",
              "      <td>Programa Jalisciense de Fomento a la Propieda...</td>\n",
              "      <td>dispositivo para calibrar los parametros de un...</td>\n",
              "      <td>ERICK EDUARDO GUZMÁN QUEZADA\\n</td>\n",
              "      <td>Hombres</td>\n",
              "      <td>Trabajadores en actividades agrícolas, ganader...</td>\n",
              "      <td>primaria incompleta</td>\n",
              "      <td>2</td>\n",
              "      <td>23</td>\n",
              "      <td>6</td>\n",
              "    </tr>\n",
              "    <tr>\n",
              "      <th>1898</th>\n",
              "      <td>60</td>\n",
              "      <td>38</td>\n",
              "      <td>49381.31</td>\n",
              "      <td>11</td>\n",
              "      <td>1.0</td>\n",
              "      <td>1</td>\n",
              "      <td>1</td>\n",
              "      <td>1</td>\n",
              "      <td>NaN</td>\n",
              "      <td>1</td>\n",
              "      <td>NaN</td>\n",
              "      <td>88</td>\n",
              "      <td>1</td>\n",
              "      <td>1</td>\n",
              "      <td>8</td>\n",
              "      <td>2</td>\n",
              "      <td>NaN</td>\n",
              "      <td>6465</td>\n",
              "      <td>1955-01-24</td>\n",
              "      <td>2015-09-06</td>\n",
              "      <td>Programa Jalisciense de Fomento a la Propieda...</td>\n",
              "      <td>metodologia de medicion y analisis gonio metri...</td>\n",
              "      <td>ERICK EDUARDO GUZMÁN QUEZADA</td>\n",
              "      <td>Hombres</td>\n",
              "      <td>Trabajadores artesanales</td>\n",
              "      <td>primaria incompleta</td>\n",
              "      <td>9</td>\n",
              "      <td>6</td>\n",
              "      <td>1</td>\n",
              "    </tr>\n",
              "    <tr>\n",
              "      <th>1899</th>\n",
              "      <td>95</td>\n",
              "      <td>50</td>\n",
              "      <td>30254.04</td>\n",
              "      <td>22</td>\n",
              "      <td>1.0</td>\n",
              "      <td>1</td>\n",
              "      <td>1</td>\n",
              "      <td>1</td>\n",
              "      <td>NaN</td>\n",
              "      <td>1</td>\n",
              "      <td>NaN</td>\n",
              "      <td>88</td>\n",
              "      <td>11</td>\n",
              "      <td>1</td>\n",
              "      <td>8</td>\n",
              "      <td>3</td>\n",
              "      <td>NaN</td>\n",
              "      <td>6466</td>\n",
              "      <td>1919-12-29</td>\n",
              "      <td>2015-05-13</td>\n",
              "      <td>Programa Jalisciense de Fomento a la Propieda...</td>\n",
              "      <td>oximetro para la medicion de la saturacion de ...</td>\n",
              "      <td>ERICK EDUARDO GUZMÁN QUEZADA\\n</td>\n",
              "      <td>Mujeres</td>\n",
              "      <td>No trabaja</td>\n",
              "      <td>profesional</td>\n",
              "      <td>5</td>\n",
              "      <td>13</td>\n",
              "      <td>12</td>\n",
              "    </tr>\n",
              "  </tbody>\n",
              "</table>\n",
              "<p>1897 rows × 29 columns</p>\n",
              "</div>"
            ],
            "text/plain": [
              "      c_edad  c_minutos  ...  d_fecha_ocurr_dia  v_fecha_nac_month\n",
              "2         40         50  ...                 16                 12\n",
              "3         89         30  ...                 26                  5\n",
              "4         66         43  ...                 10                  8\n",
              "5         67         30  ...                  5                  5\n",
              "6         44          0  ...                 17                  8\n",
              "...      ...        ...  ...                ...                ...\n",
              "1895      94         40  ...                 13                  3\n",
              "1896      96         20  ...                 11                  1\n",
              "1897      80         30  ...                 23                  6\n",
              "1898      60         38  ...                  6                  1\n",
              "1899      95         50  ...                 13                 12\n",
              "\n",
              "[1897 rows x 29 columns]"
            ]
          },
          "metadata": {
            "tags": []
          },
          "execution_count": 116
        }
      ]
    },
    {
      "cell_type": "code",
      "metadata": {
        "ExecuteTime": {
          "end_time": "2020-10-22T18:32:06.041905Z",
          "start_time": "2020-10-22T18:32:05.986606Z"
        },
        "scrolled": true,
        "id": "c22HP7Up4TeG",
        "outputId": "e2a25dc5-4c96-43b9-a8f5-a82c538f5346",
        "colab": {
          "base_uri": "https://localhost:8080/",
          "height": 514
        }
      },
      "source": [
        "df[[\"v_ocupacion\", \"c_edad\"]].groupby([\"v_ocupacion\"]).agg([\"mean\", \"count\"])"
      ],
      "execution_count": 117,
      "outputs": [
        {
          "output_type": "execute_result",
          "data": {
            "text/html": [
              "<div>\n",
              "<style scoped>\n",
              "    .dataframe tbody tr th:only-of-type {\n",
              "        vertical-align: middle;\n",
              "    }\n",
              "\n",
              "    .dataframe tbody tr th {\n",
              "        vertical-align: top;\n",
              "    }\n",
              "\n",
              "    .dataframe thead tr th {\n",
              "        text-align: left;\n",
              "    }\n",
              "\n",
              "    .dataframe thead tr:last-of-type th {\n",
              "        text-align: right;\n",
              "    }\n",
              "</style>\n",
              "<table border=\"1\" class=\"dataframe\">\n",
              "  <thead>\n",
              "    <tr>\n",
              "      <th></th>\n",
              "      <th colspan=\"2\" halign=\"left\">c_edad</th>\n",
              "    </tr>\n",
              "    <tr>\n",
              "      <th></th>\n",
              "      <th>mean</th>\n",
              "      <th>count</th>\n",
              "    </tr>\n",
              "    <tr>\n",
              "      <th>v_ocupacion</th>\n",
              "      <th></th>\n",
              "      <th></th>\n",
              "    </tr>\n",
              "  </thead>\n",
              "  <tbody>\n",
              "    <tr>\n",
              "      <th>Comerciantes, empleados en ventas y agentes de ventas</th>\n",
              "      <td>63.907407</td>\n",
              "      <td>108</td>\n",
              "    </tr>\n",
              "    <tr>\n",
              "      <th>Funcionarios, directores y jefes</th>\n",
              "      <td>53.750000</td>\n",
              "      <td>4</td>\n",
              "    </tr>\n",
              "    <tr>\n",
              "      <th>No aplica a menores de 5 años</th>\n",
              "      <td>2.500000</td>\n",
              "      <td>12</td>\n",
              "    </tr>\n",
              "    <tr>\n",
              "      <th>No trabaja</th>\n",
              "      <td>68.687232</td>\n",
              "      <td>1167</td>\n",
              "    </tr>\n",
              "    <tr>\n",
              "      <th>Ocupaciones insuficientemente especificadas</th>\n",
              "      <td>46.651685</td>\n",
              "      <td>89</td>\n",
              "    </tr>\n",
              "    <tr>\n",
              "      <th>Ocupación no especificada</th>\n",
              "      <td>45.920000</td>\n",
              "      <td>25</td>\n",
              "    </tr>\n",
              "    <tr>\n",
              "      <th>Operadores de maquinaria industrial, ensambladores, choferes y conductores de transporte</th>\n",
              "      <td>56.697674</td>\n",
              "      <td>43</td>\n",
              "    </tr>\n",
              "    <tr>\n",
              "      <th>Profesionistas y técnicos</th>\n",
              "      <td>58.543478</td>\n",
              "      <td>92</td>\n",
              "    </tr>\n",
              "    <tr>\n",
              "      <th>Trabajadores artesanales</th>\n",
              "      <td>56.582524</td>\n",
              "      <td>103</td>\n",
              "    </tr>\n",
              "    <tr>\n",
              "      <th>Trabajadores auxiliares en actividades administrativas</th>\n",
              "      <td>54.450000</td>\n",
              "      <td>20</td>\n",
              "    </tr>\n",
              "    <tr>\n",
              "      <th>Trabajadores en actividades agrícolas, ganaderas, forestales, caza y pesca</th>\n",
              "      <td>75.892857</td>\n",
              "      <td>140</td>\n",
              "    </tr>\n",
              "    <tr>\n",
              "      <th>Trabajadores en actividades elementales y de apoyo</th>\n",
              "      <td>61.861538</td>\n",
              "      <td>65</td>\n",
              "    </tr>\n",
              "    <tr>\n",
              "      <th>Trabajadores en servicios personales y vigilancia</th>\n",
              "      <td>57.655172</td>\n",
              "      <td>29</td>\n",
              "    </tr>\n",
              "  </tbody>\n",
              "</table>\n",
              "</div>"
            ],
            "text/plain": [
              "                                                       c_edad      \n",
              "                                                         mean count\n",
              "v_ocupacion                                                        \n",
              "Comerciantes, empleados en ventas y agentes de ...  63.907407   108\n",
              "Funcionarios, directores y jefes                    53.750000     4\n",
              "No aplica a menores de 5 años                        2.500000    12\n",
              "No trabaja                                          68.687232  1167\n",
              "Ocupaciones insuficientemente especificadas         46.651685    89\n",
              "Ocupación no especificada                           45.920000    25\n",
              "Operadores de maquinaria industrial, ensamblado...  56.697674    43\n",
              "Profesionistas y técnicos                           58.543478    92\n",
              "Trabajadores artesanales                            56.582524   103\n",
              "Trabajadores auxiliares en actividades administ...  54.450000    20\n",
              "Trabajadores en actividades agrícolas, ganadera...  75.892857   140\n",
              "Trabajadores en actividades elementales y de apoyo  61.861538    65\n",
              "Trabajadores en servicios personales y vigilancia   57.655172    29"
            ]
          },
          "metadata": {
            "tags": []
          },
          "execution_count": 117
        }
      ]
    },
    {
      "cell_type": "code",
      "metadata": {
        "ExecuteTime": {
          "end_time": "2020-10-22T18:32:06.570669Z",
          "start_time": "2020-10-22T18:32:06.553236Z"
        },
        "id": "rbHe9uVP4TeI",
        "outputId": "56bd2c06-407a-45be-f4ab-b6294ecfdc67",
        "colab": {
          "base_uri": "https://localhost:8080/",
          "height": 170
        }
      },
      "source": [
        "df.columns"
      ],
      "execution_count": 118,
      "outputs": [
        {
          "output_type": "execute_result",
          "data": {
            "text/plain": [
              "Index(['c_edad', 'c_minutos', 'c_monto_de_apoyo', 'c_horas', 'v_ent_regis',\n",
              "       'v_mun_regis', 'v_ent_resid', 'v_mun_resid', 'v_ent_ocurr',\n",
              "       'v_mun_ocurr', 'v_edo_civil', 'v_lugar_ocur', 'v_sitio_ocur',\n",
              "       'v_nacionalid', 'v_embarazo', 'v_grupo', 'v_lengua', 'v_clave',\n",
              "       'd_fecha_nac', 'd_fecha_ocurr', 't_programa_fondo',\n",
              "       't_nombre_del_proyecto', 't_nombre_del_beneficiario', 'v_sexo',\n",
              "       'v_ocupacion', 'v_escolarida', 'd_fecha_ocurr_mes', 'd_fecha_ocurr_dia',\n",
              "       'v_fecha_nac_month'],\n",
              "      dtype='object')"
            ]
          },
          "metadata": {
            "tags": []
          },
          "execution_count": 118
        }
      ]
    },
    {
      "cell_type": "code",
      "metadata": {
        "ExecuteTime": {
          "end_time": "2020-10-22T18:32:07.109260Z",
          "start_time": "2020-10-22T18:32:07.030070Z"
        },
        "id": "LShmfnv14TeJ",
        "outputId": "b170e9db-4550-4f1a-9e43-33bdf1639847",
        "colab": {
          "base_uri": "https://localhost:8080/",
          "height": 669
        }
      },
      "source": [
        "df[[\"c_edad\", \"v_escolarida\", \"v_sexo\"]].groupby([\"v_escolarida\", \"v_sexo\"]).agg([\"mean\", \"min\", \"max\", \"count\"])\n"
      ],
      "execution_count": 119,
      "outputs": [
        {
          "output_type": "execute_result",
          "data": {
            "text/html": [
              "<div>\n",
              "<style scoped>\n",
              "    .dataframe tbody tr th:only-of-type {\n",
              "        vertical-align: middle;\n",
              "    }\n",
              "\n",
              "    .dataframe tbody tr th {\n",
              "        vertical-align: top;\n",
              "    }\n",
              "\n",
              "    .dataframe thead tr th {\n",
              "        text-align: left;\n",
              "    }\n",
              "\n",
              "    .dataframe thead tr:last-of-type th {\n",
              "        text-align: right;\n",
              "    }\n",
              "</style>\n",
              "<table border=\"1\" class=\"dataframe\">\n",
              "  <thead>\n",
              "    <tr>\n",
              "      <th></th>\n",
              "      <th></th>\n",
              "      <th colspan=\"4\" halign=\"left\">c_edad</th>\n",
              "    </tr>\n",
              "    <tr>\n",
              "      <th></th>\n",
              "      <th></th>\n",
              "      <th>mean</th>\n",
              "      <th>min</th>\n",
              "      <th>max</th>\n",
              "      <th>count</th>\n",
              "    </tr>\n",
              "    <tr>\n",
              "      <th>v_escolarida</th>\n",
              "      <th>v_sexo</th>\n",
              "      <th></th>\n",
              "      <th></th>\n",
              "      <th></th>\n",
              "      <th></th>\n",
              "    </tr>\n",
              "  </thead>\n",
              "  <tbody>\n",
              "    <tr>\n",
              "      <th rowspan=\"2\" valign=\"top\">bachillerato o preparatoria completo</th>\n",
              "      <th>Hombres</th>\n",
              "      <td>54.493333</td>\n",
              "      <td>17</td>\n",
              "      <td>96</td>\n",
              "      <td>75</td>\n",
              "    </tr>\n",
              "    <tr>\n",
              "      <th>Mujeres</th>\n",
              "      <td>52.576923</td>\n",
              "      <td>18</td>\n",
              "      <td>88</td>\n",
              "      <td>52</td>\n",
              "    </tr>\n",
              "    <tr>\n",
              "      <th rowspan=\"2\" valign=\"top\">bachillerato o preparatoria incompleto</th>\n",
              "      <th>Hombres</th>\n",
              "      <td>48.763158</td>\n",
              "      <td>15</td>\n",
              "      <td>81</td>\n",
              "      <td>38</td>\n",
              "    </tr>\n",
              "    <tr>\n",
              "      <th>Mujeres</th>\n",
              "      <td>50.461538</td>\n",
              "      <td>15</td>\n",
              "      <td>84</td>\n",
              "      <td>13</td>\n",
              "    </tr>\n",
              "    <tr>\n",
              "      <th rowspan=\"2\" valign=\"top\">otro</th>\n",
              "      <th>Hombres</th>\n",
              "      <td>59.058824</td>\n",
              "      <td>1</td>\n",
              "      <td>90</td>\n",
              "      <td>34</td>\n",
              "    </tr>\n",
              "    <tr>\n",
              "      <th>Mujeres</th>\n",
              "      <td>59.318182</td>\n",
              "      <td>1</td>\n",
              "      <td>91</td>\n",
              "      <td>22</td>\n",
              "    </tr>\n",
              "    <tr>\n",
              "      <th rowspan=\"2\" valign=\"top\">primaria completa</th>\n",
              "      <th>Hombres</th>\n",
              "      <td>63.422018</td>\n",
              "      <td>12</td>\n",
              "      <td>98</td>\n",
              "      <td>218</td>\n",
              "    </tr>\n",
              "    <tr>\n",
              "      <th>Mujeres</th>\n",
              "      <td>68.748663</td>\n",
              "      <td>19</td>\n",
              "      <td>96</td>\n",
              "      <td>187</td>\n",
              "    </tr>\n",
              "    <tr>\n",
              "      <th rowspan=\"2\" valign=\"top\">primaria incompleta</th>\n",
              "      <th>Hombres</th>\n",
              "      <td>72.511401</td>\n",
              "      <td>9</td>\n",
              "      <td>97</td>\n",
              "      <td>307</td>\n",
              "    </tr>\n",
              "    <tr>\n",
              "      <th>Mujeres</th>\n",
              "      <td>73.234483</td>\n",
              "      <td>9</td>\n",
              "      <td>98</td>\n",
              "      <td>290</td>\n",
              "    </tr>\n",
              "    <tr>\n",
              "      <th rowspan=\"2\" valign=\"top\">profesional</th>\n",
              "      <th>Hombres</th>\n",
              "      <td>61.000000</td>\n",
              "      <td>18</td>\n",
              "      <td>95</td>\n",
              "      <td>85</td>\n",
              "    </tr>\n",
              "    <tr>\n",
              "      <th>Mujeres</th>\n",
              "      <td>62.115385</td>\n",
              "      <td>24</td>\n",
              "      <td>95</td>\n",
              "      <td>52</td>\n",
              "    </tr>\n",
              "    <tr>\n",
              "      <th rowspan=\"2\" valign=\"top\">secundaria completa</th>\n",
              "      <th>Hombres</th>\n",
              "      <td>48.578947</td>\n",
              "      <td>14</td>\n",
              "      <td>94</td>\n",
              "      <td>114</td>\n",
              "    </tr>\n",
              "    <tr>\n",
              "      <th>Mujeres</th>\n",
              "      <td>54.706667</td>\n",
              "      <td>15</td>\n",
              "      <td>92</td>\n",
              "      <td>75</td>\n",
              "    </tr>\n",
              "    <tr>\n",
              "      <th rowspan=\"2\" valign=\"top\">secundaria incompleta</th>\n",
              "      <th>Hombres</th>\n",
              "      <td>41.088889</td>\n",
              "      <td>13</td>\n",
              "      <td>91</td>\n",
              "      <td>45</td>\n",
              "    </tr>\n",
              "    <tr>\n",
              "      <th>Mujeres</th>\n",
              "      <td>51.117647</td>\n",
              "      <td>13</td>\n",
              "      <td>98</td>\n",
              "      <td>17</td>\n",
              "    </tr>\n",
              "    <tr>\n",
              "      <th rowspan=\"2\" valign=\"top\">sin escolaridad</th>\n",
              "      <th>Hombres</th>\n",
              "      <td>72.728972</td>\n",
              "      <td>3</td>\n",
              "      <td>98</td>\n",
              "      <td>107</td>\n",
              "    </tr>\n",
              "    <tr>\n",
              "      <th>Mujeres</th>\n",
              "      <td>74.000000</td>\n",
              "      <td>3</td>\n",
              "      <td>98</td>\n",
              "      <td>166</td>\n",
              "    </tr>\n",
              "  </tbody>\n",
              "</table>\n",
              "</div>"
            ],
            "text/plain": [
              "                                                   c_edad              \n",
              "                                                     mean min max count\n",
              "v_escolarida                           v_sexo                          \n",
              "bachillerato o preparatoria completo   Hombres  54.493333  17  96    75\n",
              "                                       Mujeres  52.576923  18  88    52\n",
              "bachillerato o preparatoria incompleto Hombres  48.763158  15  81    38\n",
              "                                       Mujeres  50.461538  15  84    13\n",
              "otro                                   Hombres  59.058824   1  90    34\n",
              "                                       Mujeres  59.318182   1  91    22\n",
              "primaria completa                      Hombres  63.422018  12  98   218\n",
              "                                       Mujeres  68.748663  19  96   187\n",
              "primaria incompleta                    Hombres  72.511401   9  97   307\n",
              "                                       Mujeres  73.234483   9  98   290\n",
              "profesional                            Hombres  61.000000  18  95    85\n",
              "                                       Mujeres  62.115385  24  95    52\n",
              "secundaria completa                    Hombres  48.578947  14  94   114\n",
              "                                       Mujeres  54.706667  15  92    75\n",
              "secundaria incompleta                  Hombres  41.088889  13  91    45\n",
              "                                       Mujeres  51.117647  13  98    17\n",
              "sin escolaridad                        Hombres  72.728972   3  98   107\n",
              "                                       Mujeres  74.000000   3  98   166"
            ]
          },
          "metadata": {
            "tags": []
          },
          "execution_count": 119
        }
      ]
    },
    {
      "cell_type": "code",
      "metadata": {
        "ExecuteTime": {
          "end_time": "2020-10-22T18:32:07.618065Z",
          "start_time": "2020-10-22T18:32:07.601275Z"
        },
        "id": "BLtJlgrz4TeL"
      },
      "source": [
        "aux=df[(df[\"v_sexo\"]==\"Mujeres\")&(df[\"c_edad\"]<30)]"
      ],
      "execution_count": 120,
      "outputs": []
    },
    {
      "cell_type": "code",
      "metadata": {
        "ExecuteTime": {
          "end_time": "2020-10-22T18:32:08.038238Z",
          "start_time": "2020-10-22T18:32:08.022987Z"
        },
        "id": "zSp7EbWK4TeQ",
        "outputId": "07e227a0-d3f5-452e-a1ea-f5207b248b7e",
        "colab": {
          "base_uri": "https://localhost:8080/",
          "height": 34
        }
      },
      "source": [
        "aux[\"c_monto_de_apoyo\"].mean()"
      ],
      "execution_count": 121,
      "outputs": [
        {
          "output_type": "execute_result",
          "data": {
            "text/plain": [
              "142796.75452830186"
            ]
          },
          "metadata": {
            "tags": []
          },
          "execution_count": 121
        }
      ]
    },
    {
      "cell_type": "code",
      "metadata": {
        "ExecuteTime": {
          "end_time": "2020-10-22T18:32:08.449349Z",
          "start_time": "2020-10-22T18:32:08.398067Z"
        },
        "id": "GjQPRNpa4TeT",
        "outputId": "bfc1b48a-30a5-47dd-d4f4-02f573496d2b",
        "colab": {
          "base_uri": "https://localhost:8080/",
          "height": 514
        }
      },
      "source": [
        "df[[\"c_monto_de_apoyo\",\"v_ocupacion\"]].groupby([\"v_ocupacion\"]).agg([\"mean\",\"median\"])"
      ],
      "execution_count": 122,
      "outputs": [
        {
          "output_type": "execute_result",
          "data": {
            "text/html": [
              "<div>\n",
              "<style scoped>\n",
              "    .dataframe tbody tr th:only-of-type {\n",
              "        vertical-align: middle;\n",
              "    }\n",
              "\n",
              "    .dataframe tbody tr th {\n",
              "        vertical-align: top;\n",
              "    }\n",
              "\n",
              "    .dataframe thead tr th {\n",
              "        text-align: left;\n",
              "    }\n",
              "\n",
              "    .dataframe thead tr:last-of-type th {\n",
              "        text-align: right;\n",
              "    }\n",
              "</style>\n",
              "<table border=\"1\" class=\"dataframe\">\n",
              "  <thead>\n",
              "    <tr>\n",
              "      <th></th>\n",
              "      <th colspan=\"2\" halign=\"left\">c_monto_de_apoyo</th>\n",
              "    </tr>\n",
              "    <tr>\n",
              "      <th></th>\n",
              "      <th>mean</th>\n",
              "      <th>median</th>\n",
              "    </tr>\n",
              "    <tr>\n",
              "      <th>v_ocupacion</th>\n",
              "      <th></th>\n",
              "      <th></th>\n",
              "    </tr>\n",
              "  </thead>\n",
              "  <tbody>\n",
              "    <tr>\n",
              "      <th>Comerciantes, empleados en ventas y agentes de ventas</th>\n",
              "      <td>219034.861944</td>\n",
              "      <td>58700.35</td>\n",
              "    </tr>\n",
              "    <tr>\n",
              "      <th>Funcionarios, directores y jefes</th>\n",
              "      <td>148288.965000</td>\n",
              "      <td>40450.91</td>\n",
              "    </tr>\n",
              "    <tr>\n",
              "      <th>No aplica a menores de 5 años</th>\n",
              "      <td>455282.125000</td>\n",
              "      <td>40415.50</td>\n",
              "    </tr>\n",
              "    <tr>\n",
              "      <th>No trabaja</th>\n",
              "      <td>283841.743745</td>\n",
              "      <td>50336.82</td>\n",
              "    </tr>\n",
              "    <tr>\n",
              "      <th>Ocupaciones insuficientemente especificadas</th>\n",
              "      <td>128926.161461</td>\n",
              "      <td>49381.31</td>\n",
              "    </tr>\n",
              "    <tr>\n",
              "      <th>Ocupación no especificada</th>\n",
              "      <td>215961.480000</td>\n",
              "      <td>30884.10</td>\n",
              "    </tr>\n",
              "    <tr>\n",
              "      <th>Operadores de maquinaria industrial, ensambladores, choferes y conductores de transporte</th>\n",
              "      <td>77688.283023</td>\n",
              "      <td>50336.83</td>\n",
              "    </tr>\n",
              "    <tr>\n",
              "      <th>Profesionistas y técnicos</th>\n",
              "      <td>286736.807065</td>\n",
              "      <td>54518.59</td>\n",
              "    </tr>\n",
              "    <tr>\n",
              "      <th>Trabajadores artesanales</th>\n",
              "      <td>320857.175049</td>\n",
              "      <td>49381.31</td>\n",
              "    </tr>\n",
              "    <tr>\n",
              "      <th>Trabajadores auxiliares en actividades administrativas</th>\n",
              "      <td>213643.108500</td>\n",
              "      <td>55336.83</td>\n",
              "    </tr>\n",
              "    <tr>\n",
              "      <th>Trabajadores en actividades agrícolas, ganaderas, forestales, caza y pesca</th>\n",
              "      <td>240815.406000</td>\n",
              "      <td>50000.00</td>\n",
              "    </tr>\n",
              "    <tr>\n",
              "      <th>Trabajadores en actividades elementales y de apoyo</th>\n",
              "      <td>382480.015077</td>\n",
              "      <td>60000.00</td>\n",
              "    </tr>\n",
              "    <tr>\n",
              "      <th>Trabajadores en servicios personales y vigilancia</th>\n",
              "      <td>237410.894828</td>\n",
              "      <td>50336.83</td>\n",
              "    </tr>\n",
              "  </tbody>\n",
              "</table>\n",
              "</div>"
            ],
            "text/plain": [
              "                                                   c_monto_de_apoyo          \n",
              "                                                               mean    median\n",
              "v_ocupacion                                                                  \n",
              "Comerciantes, empleados en ventas y agentes de ...    219034.861944  58700.35\n",
              "Funcionarios, directores y jefes                      148288.965000  40450.91\n",
              "No aplica a menores de 5 años                         455282.125000  40415.50\n",
              "No trabaja                                            283841.743745  50336.82\n",
              "Ocupaciones insuficientemente especificadas           128926.161461  49381.31\n",
              "Ocupación no especificada                             215961.480000  30884.10\n",
              "Operadores de maquinaria industrial, ensamblado...     77688.283023  50336.83\n",
              "Profesionistas y técnicos                             286736.807065  54518.59\n",
              "Trabajadores artesanales                              320857.175049  49381.31\n",
              "Trabajadores auxiliares en actividades administ...    213643.108500  55336.83\n",
              "Trabajadores en actividades agrícolas, ganadera...    240815.406000  50000.00\n",
              "Trabajadores en actividades elementales y de apoyo    382480.015077  60000.00\n",
              "Trabajadores en servicios personales y vigilancia     237410.894828  50336.83"
            ]
          },
          "metadata": {
            "tags": []
          },
          "execution_count": 122
        }
      ]
    },
    {
      "cell_type": "code",
      "metadata": {
        "ExecuteTime": {
          "end_time": "2020-10-22T18:32:09.087202Z",
          "start_time": "2020-10-22T18:32:09.048005Z"
        },
        "id": "sXDQD42S4TeX",
        "outputId": "a1ab77a8-ad82-41f3-bd97-97343879d620",
        "colab": {
          "base_uri": "https://localhost:8080/",
          "height": 173
        }
      },
      "source": [
        "df[[\"v_sexo\",\"v_ocupacion\"]].groupby([\"v_sexo\"]).agg([\"count\"])"
      ],
      "execution_count": 123,
      "outputs": [
        {
          "output_type": "execute_result",
          "data": {
            "text/html": [
              "<div>\n",
              "<style scoped>\n",
              "    .dataframe tbody tr th:only-of-type {\n",
              "        vertical-align: middle;\n",
              "    }\n",
              "\n",
              "    .dataframe tbody tr th {\n",
              "        vertical-align: top;\n",
              "    }\n",
              "\n",
              "    .dataframe thead tr th {\n",
              "        text-align: left;\n",
              "    }\n",
              "\n",
              "    .dataframe thead tr:last-of-type th {\n",
              "        text-align: right;\n",
              "    }\n",
              "</style>\n",
              "<table border=\"1\" class=\"dataframe\">\n",
              "  <thead>\n",
              "    <tr>\n",
              "      <th></th>\n",
              "      <th>v_ocupacion</th>\n",
              "    </tr>\n",
              "    <tr>\n",
              "      <th></th>\n",
              "      <th>count</th>\n",
              "    </tr>\n",
              "    <tr>\n",
              "      <th>v_sexo</th>\n",
              "      <th></th>\n",
              "    </tr>\n",
              "  </thead>\n",
              "  <tbody>\n",
              "    <tr>\n",
              "      <th>Hombres</th>\n",
              "      <td>1023</td>\n",
              "    </tr>\n",
              "    <tr>\n",
              "      <th>Mujeres</th>\n",
              "      <td>874</td>\n",
              "    </tr>\n",
              "  </tbody>\n",
              "</table>\n",
              "</div>"
            ],
            "text/plain": [
              "        v_ocupacion\n",
              "              count\n",
              "v_sexo             \n",
              "Hombres        1023\n",
              "Mujeres         874"
            ]
          },
          "metadata": {
            "tags": []
          },
          "execution_count": 123
        }
      ]
    },
    {
      "cell_type": "code",
      "metadata": {
        "id": "yw9KfRmB4Teb"
      },
      "source": [
        ""
      ],
      "execution_count": null,
      "outputs": []
    },
    {
      "cell_type": "code",
      "metadata": {
        "id": "n_oixNE64Teg"
      },
      "source": [
        ""
      ],
      "execution_count": null,
      "outputs": []
    },
    {
      "cell_type": "code",
      "metadata": {
        "id": "QtypwIqs4Tek"
      },
      "source": [
        ""
      ],
      "execution_count": null,
      "outputs": []
    },
    {
      "cell_type": "code",
      "metadata": {
        "id": "mSnFTkpx4Tep"
      },
      "source": [
        ""
      ],
      "execution_count": null,
      "outputs": []
    }
  ]
}