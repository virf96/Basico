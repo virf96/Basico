{
  "nbformat": 4,
  "nbformat_minor": 0,
  "metadata": {
    "kernelspec": {
      "display_name": "Python 3",
      "language": "python",
      "name": "python3"
    },
    "language_info": {
      "codemirror_mode": {
        "name": "ipython",
        "version": 3
      },
      "file_extension": ".py",
      "mimetype": "text/x-python",
      "name": "python",
      "nbconvert_exporter": "python",
      "pygments_lexer": "ipython3",
      "version": "3.7.6"
    },
    "colab": {
      "name": "No supervisado Recomendador",
      "provenance": [],
      "include_colab_link": true
    }
  },
  "cells": [
    {
      "cell_type": "markdown",
      "metadata": {
        "id": "view-in-github",
        "colab_type": "text"
      },
      "source": [
        "<a href=\"https://colab.research.google.com/github/virf96/Basico/blob/main/No_supervisado_Recomendador.ipynb\" target=\"_parent\"><img src=\"https://colab.research.google.com/assets/colab-badge.svg\" alt=\"Open In Colab\"/></a>"
      ]
    },
    {
      "cell_type": "code",
      "metadata": {
        "id": "fRuQx-rMVMpz"
      },
      "source": [
        "import pandas as pd\n",
        "import numpy as np\n",
        "import unicodedata\n",
        "import re"
      ],
      "execution_count": null,
      "outputs": []
    },
    {
      "cell_type": "code",
      "metadata": {
        "id": "g4-stLDRVMp8"
      },
      "source": [
        "audio = pd.read_csv('audio_features.csv',encoding='latin-1')\n",
        "song = pd.read_csv('song_genres.csv',encoding='latin-1')\n",
        "summary = pd.read_csv('summary.csv')"
      ],
      "execution_count": null,
      "outputs": []
    },
    {
      "cell_type": "code",
      "metadata": {
        "id": "Quv90GnZVMp9"
      },
      "source": [
        "def text_clean(text, pattern=\"[^a-zA-Z0-9 ]\"):\n",
        "    text_clean = unicodedata.normalize('NFD', text).encode('ascii', 'ignore')\n",
        "    text_clean= re.sub(pattern, \" \", text_clean.decode(\"utf-8\"), flags=re.UNICODE)\n",
        "    text_clean = u' '.join(text_clean.lower().split())\n",
        "    return text_clean"
      ],
      "execution_count": null,
      "outputs": []
    },
    {
      "cell_type": "markdown",
      "metadata": {
        "id": "1YXQrbfRVMp9"
      },
      "source": [
        "# Audio"
      ]
    },
    {
      "cell_type": "code",
      "metadata": {
        "id": "YMV8SRv9VMp-",
        "outputId": "9c6366f3-9fd3-4003-c927-5842ed15e287"
      },
      "source": [
        "audio.head(3)"
      ],
      "execution_count": null,
      "outputs": [
        {
          "output_type": "execute_result",
          "data": {
            "text/html": [
              "<div>\n",
              "<style scoped>\n",
              "    .dataframe tbody tr th:only-of-type {\n",
              "        vertical-align: middle;\n",
              "    }\n",
              "\n",
              "    .dataframe tbody tr th {\n",
              "        vertical-align: top;\n",
              "    }\n",
              "\n",
              "    .dataframe thead th {\n",
              "        text-align: right;\n",
              "    }\n",
              "</style>\n",
              "<table border=\"1\" class=\"dataframe\">\n",
              "  <thead>\n",
              "    <tr style=\"text-align: right;\">\n",
              "      <th></th>\n",
              "      <th>analysis_sample_rate</th>\n",
              "      <th>bit_rate</th>\n",
              "      <th>equal_loudness</th>\n",
              "      <th>length</th>\n",
              "      <th>lossless</th>\n",
              "      <th>replay_gain</th>\n",
              "      <th>sample_rate</th>\n",
              "      <th>codec</th>\n",
              "      <th>downmix</th>\n",
              "      <th>md5_encoded</th>\n",
              "      <th>...</th>\n",
              "      <th>acousticness</th>\n",
              "      <th>aggressiveness</th>\n",
              "      <th>electronicity</th>\n",
              "      <th>happiness</th>\n",
              "      <th>festiveness</th>\n",
              "      <th>relaxation</th>\n",
              "      <th>sadness</th>\n",
              "      <th>brightness</th>\n",
              "      <th>tonality</th>\n",
              "      <th>insrumentalness</th>\n",
              "    </tr>\n",
              "  </thead>\n",
              "  <tbody>\n",
              "    <tr>\n",
              "      <th>0</th>\n",
              "      <td>44100</td>\n",
              "      <td>128056</td>\n",
              "      <td>0</td>\n",
              "      <td>60.081612</td>\n",
              "      <td>0</td>\n",
              "      <td>-14.896189</td>\n",
              "      <td>22050</td>\n",
              "      <td>mp3</td>\n",
              "      <td>mix</td>\n",
              "      <td>9b2010d602420c02fd513c4bd79f0e1a</td>\n",
              "      <td>...</td>\n",
              "      <td>2.266771e-09</td>\n",
              "      <td>0.999996</td>\n",
              "      <td>0.075123</td>\n",
              "      <td>0.683977</td>\n",
              "      <td>0.510561</td>\n",
              "      <td>0.103477</td>\n",
              "      <td>0.004121</td>\n",
              "      <td>0.217572</td>\n",
              "      <td>0.294421</td>\n",
              "      <td>0.002060</td>\n",
              "    </tr>\n",
              "    <tr>\n",
              "      <th>1</th>\n",
              "      <td>44100</td>\n",
              "      <td>128056</td>\n",
              "      <td>0</td>\n",
              "      <td>60.029366</td>\n",
              "      <td>0</td>\n",
              "      <td>-4.654913</td>\n",
              "      <td>22050</td>\n",
              "      <td>mp3</td>\n",
              "      <td>mix</td>\n",
              "      <td>b8130f7ef3c9b28b43718311a851401f</td>\n",
              "      <td>...</td>\n",
              "      <td>9.705600e-01</td>\n",
              "      <td>0.000016</td>\n",
              "      <td>0.173669</td>\n",
              "      <td>0.044266</td>\n",
              "      <td>0.002073</td>\n",
              "      <td>0.990112</td>\n",
              "      <td>0.976110</td>\n",
              "      <td>0.394722</td>\n",
              "      <td>0.994963</td>\n",
              "      <td>0.996827</td>\n",
              "    </tr>\n",
              "    <tr>\n",
              "      <th>2</th>\n",
              "      <td>44100</td>\n",
              "      <td>128056</td>\n",
              "      <td>0</td>\n",
              "      <td>60.081612</td>\n",
              "      <td>0</td>\n",
              "      <td>-8.621744</td>\n",
              "      <td>22050</td>\n",
              "      <td>mp3</td>\n",
              "      <td>mix</td>\n",
              "      <td>58f66795976e8a247cfc7b236df8ecfa</td>\n",
              "      <td>...</td>\n",
              "      <td>9.027991e-01</td>\n",
              "      <td>0.116882</td>\n",
              "      <td>0.156126</td>\n",
              "      <td>0.461002</td>\n",
              "      <td>0.079624</td>\n",
              "      <td>0.635178</td>\n",
              "      <td>0.797037</td>\n",
              "      <td>0.962334</td>\n",
              "      <td>0.921192</td>\n",
              "      <td>0.001401</td>\n",
              "    </tr>\n",
              "  </tbody>\n",
              "</table>\n",
              "<p>3 rows × 23 columns</p>\n",
              "</div>"
            ],
            "text/plain": [
              "   analysis_sample_rate  bit_rate  equal_loudness     length  lossless  \\\n",
              "0                 44100    128056               0  60.081612         0   \n",
              "1                 44100    128056               0  60.029366         0   \n",
              "2                 44100    128056               0  60.081612         0   \n",
              "\n",
              "   replay_gain  sample_rate codec downmix                       md5_encoded  \\\n",
              "0   -14.896189        22050   mp3     mix  9b2010d602420c02fd513c4bd79f0e1a   \n",
              "1    -4.654913        22050   mp3     mix  b8130f7ef3c9b28b43718311a851401f   \n",
              "2    -8.621744        22050   mp3     mix  58f66795976e8a247cfc7b236df8ecfa   \n",
              "\n",
              "   ...  acousticness  aggressiveness  electronicity  happiness  festiveness  \\\n",
              "0  ...  2.266771e-09        0.999996       0.075123   0.683977     0.510561   \n",
              "1  ...  9.705600e-01        0.000016       0.173669   0.044266     0.002073   \n",
              "2  ...  9.027991e-01        0.116882       0.156126   0.461002     0.079624   \n",
              "\n",
              "   relaxation   sadness  brightness  tonality  insrumentalness  \n",
              "0    0.103477  0.004121    0.217572  0.294421         0.002060  \n",
              "1    0.990112  0.976110    0.394722  0.994963         0.996827  \n",
              "2    0.635178  0.797037    0.962334  0.921192         0.001401  \n",
              "\n",
              "[3 rows x 23 columns]"
            ]
          },
          "metadata": {
            "tags": []
          },
          "execution_count": 7
        }
      ]
    },
    {
      "cell_type": "code",
      "metadata": {
        "id": "MgShmegtVMp_",
        "outputId": "601e6c87-f836-48f1-fda3-66d2a428891e"
      },
      "source": [
        "audio.shape"
      ],
      "execution_count": null,
      "outputs": [
        {
          "output_type": "execute_result",
          "data": {
            "text/plain": [
              "(19664, 23)"
            ]
          },
          "metadata": {
            "tags": []
          },
          "execution_count": 8
        }
      ]
    },
    {
      "cell_type": "code",
      "metadata": {
        "id": "azhFifyvVMqA"
      },
      "source": [
        "audio['track_id']=audio['track_id'].map(lambda x:x.strip())\n"
      ],
      "execution_count": null,
      "outputs": []
    },
    {
      "cell_type": "code",
      "metadata": {
        "id": "wQKbIHn5VMqA",
        "outputId": "c4f16066-d455-4e06-e2c9-635125b95046"
      },
      "source": [
        "audio.isna().mean()"
      ],
      "execution_count": null,
      "outputs": [
        {
          "output_type": "execute_result",
          "data": {
            "text/plain": [
              "analysis_sample_rate    0.0\n",
              "bit_rate                0.0\n",
              "equal_loudness          0.0\n",
              "length                  0.0\n",
              "lossless                0.0\n",
              "replay_gain             0.0\n",
              "sample_rate             0.0\n",
              "codec                   0.0\n",
              "downmix                 0.0\n",
              "md5_encoded             0.0\n",
              "track_id                0.0\n",
              "danceability            0.0\n",
              "femaleness              0.0\n",
              "acousticness            0.0\n",
              "aggressiveness          0.0\n",
              "electronicity           0.0\n",
              "happiness               0.0\n",
              "festiveness             0.0\n",
              "relaxation              0.0\n",
              "sadness                 0.0\n",
              "brightness              0.0\n",
              "tonality                0.0\n",
              "insrumentalness         0.0\n",
              "dtype: float64"
            ]
          },
          "metadata": {
            "tags": []
          },
          "execution_count": 10
        }
      ]
    },
    {
      "cell_type": "code",
      "metadata": {
        "id": "f-Oa4Aw6VMqB",
        "outputId": "42ab816a-9643-4437-8b40-8ef2e33f27df"
      },
      "source": [
        "audio.describe()"
      ],
      "execution_count": null,
      "outputs": [
        {
          "output_type": "execute_result",
          "data": {
            "text/html": [
              "<div>\n",
              "<style scoped>\n",
              "    .dataframe tbody tr th:only-of-type {\n",
              "        vertical-align: middle;\n",
              "    }\n",
              "\n",
              "    .dataframe tbody tr th {\n",
              "        vertical-align: top;\n",
              "    }\n",
              "\n",
              "    .dataframe thead th {\n",
              "        text-align: right;\n",
              "    }\n",
              "</style>\n",
              "<table border=\"1\" class=\"dataframe\">\n",
              "  <thead>\n",
              "    <tr style=\"text-align: right;\">\n",
              "      <th></th>\n",
              "      <th>analysis_sample_rate</th>\n",
              "      <th>bit_rate</th>\n",
              "      <th>equal_loudness</th>\n",
              "      <th>length</th>\n",
              "      <th>lossless</th>\n",
              "      <th>replay_gain</th>\n",
              "      <th>sample_rate</th>\n",
              "      <th>danceability</th>\n",
              "      <th>femaleness</th>\n",
              "      <th>acousticness</th>\n",
              "      <th>aggressiveness</th>\n",
              "      <th>electronicity</th>\n",
              "      <th>happiness</th>\n",
              "      <th>festiveness</th>\n",
              "      <th>relaxation</th>\n",
              "      <th>sadness</th>\n",
              "      <th>brightness</th>\n",
              "      <th>tonality</th>\n",
              "      <th>insrumentalness</th>\n",
              "    </tr>\n",
              "  </thead>\n",
              "  <tbody>\n",
              "    <tr>\n",
              "      <th>count</th>\n",
              "      <td>19664.0</td>\n",
              "      <td>19664.000000</td>\n",
              "      <td>19664.0</td>\n",
              "      <td>19664.000000</td>\n",
              "      <td>19664.0</td>\n",
              "      <td>19664.000000</td>\n",
              "      <td>19664.000000</td>\n",
              "      <td>1.966400e+04</td>\n",
              "      <td>1.966400e+04</td>\n",
              "      <td>1.966400e+04</td>\n",
              "      <td>1.966400e+04</td>\n",
              "      <td>19664.000000</td>\n",
              "      <td>1.966400e+04</td>\n",
              "      <td>1.966400e+04</td>\n",
              "      <td>19664.000000</td>\n",
              "      <td>19664.000000</td>\n",
              "      <td>1.966400e+04</td>\n",
              "      <td>1.966400e+04</td>\n",
              "      <td>1.966400e+04</td>\n",
              "    </tr>\n",
              "    <tr>\n",
              "      <th>mean</th>\n",
              "      <td>44100.0</td>\n",
              "      <td>110472.998169</td>\n",
              "      <td>0.0</td>\n",
              "      <td>46.808226</td>\n",
              "      <td>0.0</td>\n",
              "      <td>-10.939226</td>\n",
              "      <td>28692.908360</td>\n",
              "      <td>4.360305e-01</td>\n",
              "      <td>5.613689e-01</td>\n",
              "      <td>3.199084e-01</td>\n",
              "      <td>3.601415e-01</td>\n",
              "      <td>0.480301</td>\n",
              "      <td>4.670382e-01</td>\n",
              "      <td>3.964575e-01</td>\n",
              "      <td>0.488716</td>\n",
              "      <td>0.381916</td>\n",
              "      <td>6.016381e-01</td>\n",
              "      <td>5.351372e-01</td>\n",
              "      <td>2.632997e-01</td>\n",
              "    </tr>\n",
              "    <tr>\n",
              "      <th>std</th>\n",
              "      <td>0.0</td>\n",
              "      <td>28907.453634</td>\n",
              "      <td>0.0</td>\n",
              "      <td>15.401451</td>\n",
              "      <td>0.0</td>\n",
              "      <td>3.767648</td>\n",
              "      <td>10116.872522</td>\n",
              "      <td>3.839627e-01</td>\n",
              "      <td>3.158331e-01</td>\n",
              "      <td>3.613495e-01</td>\n",
              "      <td>3.704963e-01</td>\n",
              "      <td>0.320995</td>\n",
              "      <td>2.845934e-01</td>\n",
              "      <td>3.080999e-01</td>\n",
              "      <td>0.362255</td>\n",
              "      <td>0.313213</td>\n",
              "      <td>3.613348e-01</td>\n",
              "      <td>3.784324e-01</td>\n",
              "      <td>3.512926e-01</td>\n",
              "    </tr>\n",
              "    <tr>\n",
              "      <th>min</th>\n",
              "      <td>44100.0</td>\n",
              "      <td>49978.000000</td>\n",
              "      <td>0.0</td>\n",
              "      <td>0.992630</td>\n",
              "      <td>0.0</td>\n",
              "      <td>-21.987061</td>\n",
              "      <td>22050.000000</td>\n",
              "      <td>3.000001e-14</td>\n",
              "      <td>7.190201e-11</td>\n",
              "      <td>3.000001e-14</td>\n",
              "      <td>3.000001e-14</td>\n",
              "      <td>0.000004</td>\n",
              "      <td>3.000001e-14</td>\n",
              "      <td>1.012808e-07</td>\n",
              "      <td>0.000413</td>\n",
              "      <td>0.000907</td>\n",
              "      <td>5.489374e-07</td>\n",
              "      <td>3.000001e-14</td>\n",
              "      <td>1.000000e-07</td>\n",
              "    </tr>\n",
              "    <tr>\n",
              "      <th>25%</th>\n",
              "      <td>44100.0</td>\n",
              "      <td>64062.000000</td>\n",
              "      <td>0.0</td>\n",
              "      <td>30.040817</td>\n",
              "      <td>0.0</td>\n",
              "      <td>-13.598913</td>\n",
              "      <td>22050.000000</td>\n",
              "      <td>5.679470e-02</td>\n",
              "      <td>2.876552e-01</td>\n",
              "      <td>1.142855e-02</td>\n",
              "      <td>3.327452e-02</td>\n",
              "      <td>0.183631</td>\n",
              "      <td>2.199898e-01</td>\n",
              "      <td>9.395351e-02</td>\n",
              "      <td>0.115004</td>\n",
              "      <td>0.090135</td>\n",
              "      <td>2.375204e-01</td>\n",
              "      <td>1.266094e-01</td>\n",
              "      <td>6.027732e-03</td>\n",
              "    </tr>\n",
              "    <tr>\n",
              "      <th>50%</th>\n",
              "      <td>44100.0</td>\n",
              "      <td>128056.000000</td>\n",
              "      <td>0.0</td>\n",
              "      <td>60.029366</td>\n",
              "      <td>0.0</td>\n",
              "      <td>-11.689271</td>\n",
              "      <td>22050.000000</td>\n",
              "      <td>3.284215e-01</td>\n",
              "      <td>5.931417e-01</td>\n",
              "      <td>1.211191e-01</td>\n",
              "      <td>1.873492e-01</td>\n",
              "      <td>0.440004</td>\n",
              "      <td>4.559144e-01</td>\n",
              "      <td>3.610335e-01</td>\n",
              "      <td>0.467171</td>\n",
              "      <td>0.296277</td>\n",
              "      <td>7.133009e-01</td>\n",
              "      <td>5.925955e-01</td>\n",
              "      <td>5.777629e-02</td>\n",
              "    </tr>\n",
              "    <tr>\n",
              "      <th>75%</th>\n",
              "      <td>44100.0</td>\n",
              "      <td>128111.000000</td>\n",
              "      <td>0.0</td>\n",
              "      <td>60.029366</td>\n",
              "      <td>0.0</td>\n",
              "      <td>-8.969606</td>\n",
              "      <td>44100.000000</td>\n",
              "      <td>8.633399e-01</td>\n",
              "      <td>8.614904e-01</td>\n",
              "      <td>6.528186e-01</td>\n",
              "      <td>7.164915e-01</td>\n",
              "      <td>0.789431</td>\n",
              "      <td>7.083921e-01</td>\n",
              "      <td>6.676705e-01</td>\n",
              "      <td>0.864322</td>\n",
              "      <td>0.663747</td>\n",
              "      <td>9.527178e-01</td>\n",
              "      <td>9.250793e-01</td>\n",
              "      <td>4.718408e-01</td>\n",
              "    </tr>\n",
              "    <tr>\n",
              "      <th>max</th>\n",
              "      <td>44100.0</td>\n",
              "      <td>320000.000000</td>\n",
              "      <td>0.0</td>\n",
              "      <td>348.003235</td>\n",
              "      <td>0.0</td>\n",
              "      <td>38.401222</td>\n",
              "      <td>44100.000000</td>\n",
              "      <td>9.999999e-01</td>\n",
              "      <td>9.999861e-01</td>\n",
              "      <td>9.999999e-01</td>\n",
              "      <td>9.999999e-01</td>\n",
              "      <td>0.999930</td>\n",
              "      <td>9.999999e-01</td>\n",
              "      <td>9.999994e-01</td>\n",
              "      <td>1.000000</td>\n",
              "      <td>0.996221</td>\n",
              "      <td>1.000000e+00</td>\n",
              "      <td>9.999841e-01</td>\n",
              "      <td>1.000000e+00</td>\n",
              "    </tr>\n",
              "  </tbody>\n",
              "</table>\n",
              "</div>"
            ],
            "text/plain": [
              "       analysis_sample_rate       bit_rate  equal_loudness        length  \\\n",
              "count               19664.0   19664.000000         19664.0  19664.000000   \n",
              "mean                44100.0  110472.998169             0.0     46.808226   \n",
              "std                     0.0   28907.453634             0.0     15.401451   \n",
              "min                 44100.0   49978.000000             0.0      0.992630   \n",
              "25%                 44100.0   64062.000000             0.0     30.040817   \n",
              "50%                 44100.0  128056.000000             0.0     60.029366   \n",
              "75%                 44100.0  128111.000000             0.0     60.029366   \n",
              "max                 44100.0  320000.000000             0.0    348.003235   \n",
              "\n",
              "       lossless   replay_gain   sample_rate  danceability    femaleness  \\\n",
              "count   19664.0  19664.000000  19664.000000  1.966400e+04  1.966400e+04   \n",
              "mean        0.0    -10.939226  28692.908360  4.360305e-01  5.613689e-01   \n",
              "std         0.0      3.767648  10116.872522  3.839627e-01  3.158331e-01   \n",
              "min         0.0    -21.987061  22050.000000  3.000001e-14  7.190201e-11   \n",
              "25%         0.0    -13.598913  22050.000000  5.679470e-02  2.876552e-01   \n",
              "50%         0.0    -11.689271  22050.000000  3.284215e-01  5.931417e-01   \n",
              "75%         0.0     -8.969606  44100.000000  8.633399e-01  8.614904e-01   \n",
              "max         0.0     38.401222  44100.000000  9.999999e-01  9.999861e-01   \n",
              "\n",
              "       acousticness  aggressiveness  electronicity     happiness  \\\n",
              "count  1.966400e+04    1.966400e+04   19664.000000  1.966400e+04   \n",
              "mean   3.199084e-01    3.601415e-01       0.480301  4.670382e-01   \n",
              "std    3.613495e-01    3.704963e-01       0.320995  2.845934e-01   \n",
              "min    3.000001e-14    3.000001e-14       0.000004  3.000001e-14   \n",
              "25%    1.142855e-02    3.327452e-02       0.183631  2.199898e-01   \n",
              "50%    1.211191e-01    1.873492e-01       0.440004  4.559144e-01   \n",
              "75%    6.528186e-01    7.164915e-01       0.789431  7.083921e-01   \n",
              "max    9.999999e-01    9.999999e-01       0.999930  9.999999e-01   \n",
              "\n",
              "        festiveness    relaxation       sadness    brightness      tonality  \\\n",
              "count  1.966400e+04  19664.000000  19664.000000  1.966400e+04  1.966400e+04   \n",
              "mean   3.964575e-01      0.488716      0.381916  6.016381e-01  5.351372e-01   \n",
              "std    3.080999e-01      0.362255      0.313213  3.613348e-01  3.784324e-01   \n",
              "min    1.012808e-07      0.000413      0.000907  5.489374e-07  3.000001e-14   \n",
              "25%    9.395351e-02      0.115004      0.090135  2.375204e-01  1.266094e-01   \n",
              "50%    3.610335e-01      0.467171      0.296277  7.133009e-01  5.925955e-01   \n",
              "75%    6.676705e-01      0.864322      0.663747  9.527178e-01  9.250793e-01   \n",
              "max    9.999994e-01      1.000000      0.996221  1.000000e+00  9.999841e-01   \n",
              "\n",
              "       insrumentalness  \n",
              "count     1.966400e+04  \n",
              "mean      2.632997e-01  \n",
              "std       3.512926e-01  \n",
              "min       1.000000e-07  \n",
              "25%       6.027732e-03  \n",
              "50%       5.777629e-02  \n",
              "75%       4.718408e-01  \n",
              "max       1.000000e+00  "
            ]
          },
          "metadata": {
            "tags": []
          },
          "execution_count": 11
        }
      ]
    },
    {
      "cell_type": "code",
      "metadata": {
        "id": "uo3HyXNSVMqB",
        "outputId": "98aaf255-7ee7-43e3-8a6d-002c5ecc8dff"
      },
      "source": [
        "[audio.columns[i] for i in range(0,len(audio.columns))]"
      ],
      "execution_count": null,
      "outputs": [
        {
          "output_type": "execute_result",
          "data": {
            "text/plain": [
              "['analysis_sample_rate',\n",
              " 'bit_rate',\n",
              " 'equal_loudness',\n",
              " 'length',\n",
              " 'lossless',\n",
              " 'replay_gain',\n",
              " 'sample_rate',\n",
              " 'codec',\n",
              " 'downmix',\n",
              " 'md5_encoded',\n",
              " 'track_id',\n",
              " 'danceability',\n",
              " 'femaleness',\n",
              " 'acousticness',\n",
              " 'aggressiveness',\n",
              " 'electronicity',\n",
              " 'happiness',\n",
              " 'festiveness',\n",
              " 'relaxation',\n",
              " 'sadness',\n",
              " 'brightness',\n",
              " 'tonality',\n",
              " 'insrumentalness']"
            ]
          },
          "metadata": {
            "tags": []
          },
          "execution_count": 12
        }
      ]
    },
    {
      "cell_type": "code",
      "metadata": {
        "id": "BtTLNsrXVMqC"
      },
      "source": [
        "audio.drop(['analysis_sample_rate','bit_rate','equal_loudness','lossless','replay_gain','sample_rate','codec','downmix','md5_encoded'],inplace=True,axis=1)"
      ],
      "execution_count": null,
      "outputs": []
    },
    {
      "cell_type": "markdown",
      "metadata": {
        "id": "nIdvO8nnVMqC"
      },
      "source": [
        "# Song"
      ]
    },
    {
      "cell_type": "code",
      "metadata": {
        "id": "q-7xb8e6VMqD",
        "outputId": "76d2c295-f687-4d65-eea0-e4ae3f12b26f"
      },
      "source": [
        "song.head(3)"
      ],
      "execution_count": null,
      "outputs": [
        {
          "output_type": "execute_result",
          "data": {
            "text/html": [
              "<div>\n",
              "<style scoped>\n",
              "    .dataframe tbody tr th:only-of-type {\n",
              "        vertical-align: middle;\n",
              "    }\n",
              "\n",
              "    .dataframe tbody tr th {\n",
              "        vertical-align: top;\n",
              "    }\n",
              "\n",
              "    .dataframe thead th {\n",
              "        text-align: right;\n",
              "    }\n",
              "</style>\n",
              "<table border=\"1\" class=\"dataframe\">\n",
              "  <thead>\n",
              "    <tr style=\"text-align: right;\">\n",
              "      <th></th>\n",
              "      <th>track_id</th>\n",
              "      <th>main_genre</th>\n",
              "    </tr>\n",
              "  </thead>\n",
              "  <tbody>\n",
              "    <tr>\n",
              "      <th>0</th>\n",
              "      <td>TRSZBVQ128F425D5B6</td>\n",
              "      <td>Rock</td>\n",
              "    </tr>\n",
              "    <tr>\n",
              "      <th>1</th>\n",
              "      <td>TRRJNCE128F9319E52</td>\n",
              "      <td>RnB</td>\n",
              "    </tr>\n",
              "    <tr>\n",
              "      <th>2</th>\n",
              "      <td>TRIZJQX128F1472163</td>\n",
              "      <td>Folk</td>\n",
              "    </tr>\n",
              "  </tbody>\n",
              "</table>\n",
              "</div>"
            ],
            "text/plain": [
              "             track_id main_genre\n",
              "0  TRSZBVQ128F425D5B6       Rock\n",
              "1  TRRJNCE128F9319E52        RnB\n",
              "2  TRIZJQX128F1472163       Folk"
            ]
          },
          "metadata": {
            "tags": []
          },
          "execution_count": 14
        }
      ]
    },
    {
      "cell_type": "code",
      "metadata": {
        "id": "LHS-ulz2VMqD"
      },
      "source": [
        "song['track_id']=song['track_id'].map(lambda x:x.strip())"
      ],
      "execution_count": null,
      "outputs": []
    },
    {
      "cell_type": "code",
      "metadata": {
        "id": "1tB_0Yk5VMqE",
        "outputId": "560ca492-0509-4327-f1dc-95e1c249b2cc"
      },
      "source": [
        "song.isna().mean()"
      ],
      "execution_count": null,
      "outputs": [
        {
          "output_type": "execute_result",
          "data": {
            "text/plain": [
              "track_id      0.0\n",
              "main_genre    0.0\n",
              "dtype: float64"
            ]
          },
          "metadata": {
            "tags": []
          },
          "execution_count": 16
        }
      ]
    },
    {
      "cell_type": "code",
      "metadata": {
        "id": "6Uybfif4VMqE",
        "outputId": "600fa882-9453-4f4c-f043-4f0763fbac97"
      },
      "source": [
        "song.describe()"
      ],
      "execution_count": null,
      "outputs": [
        {
          "output_type": "execute_result",
          "data": {
            "text/html": [
              "<div>\n",
              "<style scoped>\n",
              "    .dataframe tbody tr th:only-of-type {\n",
              "        vertical-align: middle;\n",
              "    }\n",
              "\n",
              "    .dataframe tbody tr th {\n",
              "        vertical-align: top;\n",
              "    }\n",
              "\n",
              "    .dataframe thead th {\n",
              "        text-align: right;\n",
              "    }\n",
              "</style>\n",
              "<table border=\"1\" class=\"dataframe\">\n",
              "  <thead>\n",
              "    <tr style=\"text-align: right;\">\n",
              "      <th></th>\n",
              "      <th>track_id</th>\n",
              "      <th>main_genre</th>\n",
              "    </tr>\n",
              "  </thead>\n",
              "  <tbody>\n",
              "    <tr>\n",
              "      <th>count</th>\n",
              "      <td>8416</td>\n",
              "      <td>8416</td>\n",
              "    </tr>\n",
              "    <tr>\n",
              "      <th>unique</th>\n",
              "      <td>8416</td>\n",
              "      <td>15</td>\n",
              "    </tr>\n",
              "    <tr>\n",
              "      <th>top</th>\n",
              "      <td>TRKLXOY128F931F98A</td>\n",
              "      <td>Rock</td>\n",
              "    </tr>\n",
              "    <tr>\n",
              "      <th>freq</th>\n",
              "      <td>1</td>\n",
              "      <td>3413</td>\n",
              "    </tr>\n",
              "  </tbody>\n",
              "</table>\n",
              "</div>"
            ],
            "text/plain": [
              "                  track_id main_genre\n",
              "count                 8416       8416\n",
              "unique                8416         15\n",
              "top     TRKLXOY128F931F98A       Rock\n",
              "freq                     1       3413"
            ]
          },
          "metadata": {
            "tags": []
          },
          "execution_count": 17
        }
      ]
    },
    {
      "cell_type": "code",
      "metadata": {
        "id": "mIe-pkatVMqE"
      },
      "source": [
        "from sklearn.neighbors import DistanceMetric\n",
        "from sklearn.feature_extraction.text import CountVectorizer\n",
        "from wordcloud import WordCloud, STOPWORDS, ImageColorGenerator"
      ],
      "execution_count": null,
      "outputs": []
    },
    {
      "cell_type": "code",
      "metadata": {
        "id": "mlkPwtNFVMqF"
      },
      "source": [
        "song[\"main_genre\"] = song[\"main_genre\"].str.replace(\"|\", \" \").str.replace(\"-\", \"\").str.lower()"
      ],
      "execution_count": null,
      "outputs": []
    },
    {
      "cell_type": "code",
      "metadata": {
        "id": "uP2DRoOUVMqF",
        "outputId": "a2652bc5-0df6-44e7-a3a4-3538973c97cb"
      },
      "source": [
        "song[\"main_genre\"] "
      ],
      "execution_count": null,
      "outputs": [
        {
          "output_type": "execute_result",
          "data": {
            "text/plain": [
              "0             rock\n",
              "1              rnb\n",
              "2             folk\n",
              "3              rap\n",
              "4       electronic\n",
              "           ...    \n",
              "8411         blues\n",
              "8412          rock\n",
              "8413          punk\n",
              "8414          rock\n",
              "8415         blues\n",
              "Name: main_genre, Length: 8416, dtype: object"
            ]
          },
          "metadata": {
            "tags": []
          },
          "execution_count": 20
        }
      ]
    },
    {
      "cell_type": "code",
      "metadata": {
        "id": "87QuiFjQVMqG"
      },
      "source": [
        "cv = CountVectorizer(ngram_range=(1,1), min_df=1, max_df=1.0)"
      ],
      "execution_count": null,
      "outputs": []
    },
    {
      "cell_type": "code",
      "metadata": {
        "id": "e2QrC7Q7VMqG",
        "outputId": "4a970f20-6cec-4455-8866-2ad5d6a79e5e"
      },
      "source": [
        "cv.fit(song[\"main_genre\"] )"
      ],
      "execution_count": null,
      "outputs": [
        {
          "output_type": "execute_result",
          "data": {
            "text/plain": [
              "CountVectorizer()"
            ]
          },
          "metadata": {
            "tags": []
          },
          "execution_count": 22
        }
      ]
    },
    {
      "cell_type": "code",
      "metadata": {
        "id": "03bud8dZVMqG"
      },
      "source": [
        "genres = pd.DataFrame(data=cv.transform(song[\"main_genre\"]).todense(), columns=[f\"genre_{x}\" for x in cv.get_feature_names()])"
      ],
      "execution_count": null,
      "outputs": []
    },
    {
      "cell_type": "code",
      "metadata": {
        "id": "woFL5QplVMqH",
        "outputId": "091737e5-37d9-44fa-ef22-0e75a3a4b9f1"
      },
      "source": [
        "genres"
      ],
      "execution_count": null,
      "outputs": [
        {
          "output_type": "execute_result",
          "data": {
            "text/html": [
              "<div>\n",
              "<style scoped>\n",
              "    .dataframe tbody tr th:only-of-type {\n",
              "        vertical-align: middle;\n",
              "    }\n",
              "\n",
              "    .dataframe tbody tr th {\n",
              "        vertical-align: top;\n",
              "    }\n",
              "\n",
              "    .dataframe thead th {\n",
              "        text-align: right;\n",
              "    }\n",
              "</style>\n",
              "<table border=\"1\" class=\"dataframe\">\n",
              "  <thead>\n",
              "    <tr style=\"text-align: right;\">\n",
              "      <th></th>\n",
              "      <th>genre_age</th>\n",
              "      <th>genre_blues</th>\n",
              "      <th>genre_country</th>\n",
              "      <th>genre_electronic</th>\n",
              "      <th>genre_folk</th>\n",
              "      <th>genre_jazz</th>\n",
              "      <th>genre_latin</th>\n",
              "      <th>genre_metal</th>\n",
              "      <th>genre_new</th>\n",
              "      <th>genre_pop</th>\n",
              "      <th>genre_punk</th>\n",
              "      <th>genre_rap</th>\n",
              "      <th>genre_reggae</th>\n",
              "      <th>genre_rnb</th>\n",
              "      <th>genre_rock</th>\n",
              "      <th>genre_world</th>\n",
              "    </tr>\n",
              "  </thead>\n",
              "  <tbody>\n",
              "    <tr>\n",
              "      <th>0</th>\n",
              "      <td>0</td>\n",
              "      <td>0</td>\n",
              "      <td>0</td>\n",
              "      <td>0</td>\n",
              "      <td>0</td>\n",
              "      <td>0</td>\n",
              "      <td>0</td>\n",
              "      <td>0</td>\n",
              "      <td>0</td>\n",
              "      <td>0</td>\n",
              "      <td>0</td>\n",
              "      <td>0</td>\n",
              "      <td>0</td>\n",
              "      <td>0</td>\n",
              "      <td>1</td>\n",
              "      <td>0</td>\n",
              "    </tr>\n",
              "    <tr>\n",
              "      <th>1</th>\n",
              "      <td>0</td>\n",
              "      <td>0</td>\n",
              "      <td>0</td>\n",
              "      <td>0</td>\n",
              "      <td>0</td>\n",
              "      <td>0</td>\n",
              "      <td>0</td>\n",
              "      <td>0</td>\n",
              "      <td>0</td>\n",
              "      <td>0</td>\n",
              "      <td>0</td>\n",
              "      <td>0</td>\n",
              "      <td>0</td>\n",
              "      <td>1</td>\n",
              "      <td>0</td>\n",
              "      <td>0</td>\n",
              "    </tr>\n",
              "    <tr>\n",
              "      <th>2</th>\n",
              "      <td>0</td>\n",
              "      <td>0</td>\n",
              "      <td>0</td>\n",
              "      <td>0</td>\n",
              "      <td>1</td>\n",
              "      <td>0</td>\n",
              "      <td>0</td>\n",
              "      <td>0</td>\n",
              "      <td>0</td>\n",
              "      <td>0</td>\n",
              "      <td>0</td>\n",
              "      <td>0</td>\n",
              "      <td>0</td>\n",
              "      <td>0</td>\n",
              "      <td>0</td>\n",
              "      <td>0</td>\n",
              "    </tr>\n",
              "    <tr>\n",
              "      <th>3</th>\n",
              "      <td>0</td>\n",
              "      <td>0</td>\n",
              "      <td>0</td>\n",
              "      <td>0</td>\n",
              "      <td>0</td>\n",
              "      <td>0</td>\n",
              "      <td>0</td>\n",
              "      <td>0</td>\n",
              "      <td>0</td>\n",
              "      <td>0</td>\n",
              "      <td>0</td>\n",
              "      <td>1</td>\n",
              "      <td>0</td>\n",
              "      <td>0</td>\n",
              "      <td>0</td>\n",
              "      <td>0</td>\n",
              "    </tr>\n",
              "    <tr>\n",
              "      <th>4</th>\n",
              "      <td>0</td>\n",
              "      <td>0</td>\n",
              "      <td>0</td>\n",
              "      <td>1</td>\n",
              "      <td>0</td>\n",
              "      <td>0</td>\n",
              "      <td>0</td>\n",
              "      <td>0</td>\n",
              "      <td>0</td>\n",
              "      <td>0</td>\n",
              "      <td>0</td>\n",
              "      <td>0</td>\n",
              "      <td>0</td>\n",
              "      <td>0</td>\n",
              "      <td>0</td>\n",
              "      <td>0</td>\n",
              "    </tr>\n",
              "    <tr>\n",
              "      <th>...</th>\n",
              "      <td>...</td>\n",
              "      <td>...</td>\n",
              "      <td>...</td>\n",
              "      <td>...</td>\n",
              "      <td>...</td>\n",
              "      <td>...</td>\n",
              "      <td>...</td>\n",
              "      <td>...</td>\n",
              "      <td>...</td>\n",
              "      <td>...</td>\n",
              "      <td>...</td>\n",
              "      <td>...</td>\n",
              "      <td>...</td>\n",
              "      <td>...</td>\n",
              "      <td>...</td>\n",
              "      <td>...</td>\n",
              "    </tr>\n",
              "    <tr>\n",
              "      <th>8411</th>\n",
              "      <td>0</td>\n",
              "      <td>1</td>\n",
              "      <td>0</td>\n",
              "      <td>0</td>\n",
              "      <td>0</td>\n",
              "      <td>0</td>\n",
              "      <td>0</td>\n",
              "      <td>0</td>\n",
              "      <td>0</td>\n",
              "      <td>0</td>\n",
              "      <td>0</td>\n",
              "      <td>0</td>\n",
              "      <td>0</td>\n",
              "      <td>0</td>\n",
              "      <td>0</td>\n",
              "      <td>0</td>\n",
              "    </tr>\n",
              "    <tr>\n",
              "      <th>8412</th>\n",
              "      <td>0</td>\n",
              "      <td>0</td>\n",
              "      <td>0</td>\n",
              "      <td>0</td>\n",
              "      <td>0</td>\n",
              "      <td>0</td>\n",
              "      <td>0</td>\n",
              "      <td>0</td>\n",
              "      <td>0</td>\n",
              "      <td>0</td>\n",
              "      <td>0</td>\n",
              "      <td>0</td>\n",
              "      <td>0</td>\n",
              "      <td>0</td>\n",
              "      <td>1</td>\n",
              "      <td>0</td>\n",
              "    </tr>\n",
              "    <tr>\n",
              "      <th>8413</th>\n",
              "      <td>0</td>\n",
              "      <td>0</td>\n",
              "      <td>0</td>\n",
              "      <td>0</td>\n",
              "      <td>0</td>\n",
              "      <td>0</td>\n",
              "      <td>0</td>\n",
              "      <td>0</td>\n",
              "      <td>0</td>\n",
              "      <td>0</td>\n",
              "      <td>1</td>\n",
              "      <td>0</td>\n",
              "      <td>0</td>\n",
              "      <td>0</td>\n",
              "      <td>0</td>\n",
              "      <td>0</td>\n",
              "    </tr>\n",
              "    <tr>\n",
              "      <th>8414</th>\n",
              "      <td>0</td>\n",
              "      <td>0</td>\n",
              "      <td>0</td>\n",
              "      <td>0</td>\n",
              "      <td>0</td>\n",
              "      <td>0</td>\n",
              "      <td>0</td>\n",
              "      <td>0</td>\n",
              "      <td>0</td>\n",
              "      <td>0</td>\n",
              "      <td>0</td>\n",
              "      <td>0</td>\n",
              "      <td>0</td>\n",
              "      <td>0</td>\n",
              "      <td>1</td>\n",
              "      <td>0</td>\n",
              "    </tr>\n",
              "    <tr>\n",
              "      <th>8415</th>\n",
              "      <td>0</td>\n",
              "      <td>1</td>\n",
              "      <td>0</td>\n",
              "      <td>0</td>\n",
              "      <td>0</td>\n",
              "      <td>0</td>\n",
              "      <td>0</td>\n",
              "      <td>0</td>\n",
              "      <td>0</td>\n",
              "      <td>0</td>\n",
              "      <td>0</td>\n",
              "      <td>0</td>\n",
              "      <td>0</td>\n",
              "      <td>0</td>\n",
              "      <td>0</td>\n",
              "      <td>0</td>\n",
              "    </tr>\n",
              "  </tbody>\n",
              "</table>\n",
              "<p>8416 rows × 16 columns</p>\n",
              "</div>"
            ],
            "text/plain": [
              "      genre_age  genre_blues  genre_country  genre_electronic  genre_folk  \\\n",
              "0             0            0              0                 0           0   \n",
              "1             0            0              0                 0           0   \n",
              "2             0            0              0                 0           1   \n",
              "3             0            0              0                 0           0   \n",
              "4             0            0              0                 1           0   \n",
              "...         ...          ...            ...               ...         ...   \n",
              "8411          0            1              0                 0           0   \n",
              "8412          0            0              0                 0           0   \n",
              "8413          0            0              0                 0           0   \n",
              "8414          0            0              0                 0           0   \n",
              "8415          0            1              0                 0           0   \n",
              "\n",
              "      genre_jazz  genre_latin  genre_metal  genre_new  genre_pop  genre_punk  \\\n",
              "0              0            0            0          0          0           0   \n",
              "1              0            0            0          0          0           0   \n",
              "2              0            0            0          0          0           0   \n",
              "3              0            0            0          0          0           0   \n",
              "4              0            0            0          0          0           0   \n",
              "...          ...          ...          ...        ...        ...         ...   \n",
              "8411           0            0            0          0          0           0   \n",
              "8412           0            0            0          0          0           0   \n",
              "8413           0            0            0          0          0           1   \n",
              "8414           0            0            0          0          0           0   \n",
              "8415           0            0            0          0          0           0   \n",
              "\n",
              "      genre_rap  genre_reggae  genre_rnb  genre_rock  genre_world  \n",
              "0             0             0          0           1            0  \n",
              "1             0             0          1           0            0  \n",
              "2             0             0          0           0            0  \n",
              "3             1             0          0           0            0  \n",
              "4             0             0          0           0            0  \n",
              "...         ...           ...        ...         ...          ...  \n",
              "8411          0             0          0           0            0  \n",
              "8412          0             0          0           1            0  \n",
              "8413          0             0          0           0            0  \n",
              "8414          0             0          0           1            0  \n",
              "8415          0             0          0           0            0  \n",
              "\n",
              "[8416 rows x 16 columns]"
            ]
          },
          "metadata": {
            "tags": []
          },
          "execution_count": 24
        }
      ]
    },
    {
      "cell_type": "code",
      "metadata": {
        "id": "MfaFX7WuVMqH",
        "outputId": "9cd1f453-d9c6-4517-fb56-eaf1aff0aa9b"
      },
      "source": [
        "genres.shape"
      ],
      "execution_count": null,
      "outputs": [
        {
          "output_type": "execute_result",
          "data": {
            "text/plain": [
              "(8416, 16)"
            ]
          },
          "metadata": {
            "tags": []
          },
          "execution_count": 25
        }
      ]
    },
    {
      "cell_type": "code",
      "metadata": {
        "id": "5YXj9nuGVMqI"
      },
      "source": [
        " song= song.drop(columns = [\"main_genre\"]).join(genres)"
      ],
      "execution_count": null,
      "outputs": []
    },
    {
      "cell_type": "code",
      "metadata": {
        "id": "cNM3LslhVMqI",
        "outputId": "8a06c061-6701-44db-bc6a-2eb63d57cc53"
      },
      "source": [
        "song.head(3)"
      ],
      "execution_count": null,
      "outputs": [
        {
          "output_type": "execute_result",
          "data": {
            "text/html": [
              "<div>\n",
              "<style scoped>\n",
              "    .dataframe tbody tr th:only-of-type {\n",
              "        vertical-align: middle;\n",
              "    }\n",
              "\n",
              "    .dataframe tbody tr th {\n",
              "        vertical-align: top;\n",
              "    }\n",
              "\n",
              "    .dataframe thead th {\n",
              "        text-align: right;\n",
              "    }\n",
              "</style>\n",
              "<table border=\"1\" class=\"dataframe\">\n",
              "  <thead>\n",
              "    <tr style=\"text-align: right;\">\n",
              "      <th></th>\n",
              "      <th>track_id</th>\n",
              "      <th>genre_age</th>\n",
              "      <th>genre_blues</th>\n",
              "      <th>genre_country</th>\n",
              "      <th>genre_electronic</th>\n",
              "      <th>genre_folk</th>\n",
              "      <th>genre_jazz</th>\n",
              "      <th>genre_latin</th>\n",
              "      <th>genre_metal</th>\n",
              "      <th>genre_new</th>\n",
              "      <th>genre_pop</th>\n",
              "      <th>genre_punk</th>\n",
              "      <th>genre_rap</th>\n",
              "      <th>genre_reggae</th>\n",
              "      <th>genre_rnb</th>\n",
              "      <th>genre_rock</th>\n",
              "      <th>genre_world</th>\n",
              "    </tr>\n",
              "  </thead>\n",
              "  <tbody>\n",
              "    <tr>\n",
              "      <th>0</th>\n",
              "      <td>TRSZBVQ128F425D5B6</td>\n",
              "      <td>0</td>\n",
              "      <td>0</td>\n",
              "      <td>0</td>\n",
              "      <td>0</td>\n",
              "      <td>0</td>\n",
              "      <td>0</td>\n",
              "      <td>0</td>\n",
              "      <td>0</td>\n",
              "      <td>0</td>\n",
              "      <td>0</td>\n",
              "      <td>0</td>\n",
              "      <td>0</td>\n",
              "      <td>0</td>\n",
              "      <td>0</td>\n",
              "      <td>1</td>\n",
              "      <td>0</td>\n",
              "    </tr>\n",
              "    <tr>\n",
              "      <th>1</th>\n",
              "      <td>TRRJNCE128F9319E52</td>\n",
              "      <td>0</td>\n",
              "      <td>0</td>\n",
              "      <td>0</td>\n",
              "      <td>0</td>\n",
              "      <td>0</td>\n",
              "      <td>0</td>\n",
              "      <td>0</td>\n",
              "      <td>0</td>\n",
              "      <td>0</td>\n",
              "      <td>0</td>\n",
              "      <td>0</td>\n",
              "      <td>0</td>\n",
              "      <td>0</td>\n",
              "      <td>1</td>\n",
              "      <td>0</td>\n",
              "      <td>0</td>\n",
              "    </tr>\n",
              "    <tr>\n",
              "      <th>2</th>\n",
              "      <td>TRIZJQX128F1472163</td>\n",
              "      <td>0</td>\n",
              "      <td>0</td>\n",
              "      <td>0</td>\n",
              "      <td>0</td>\n",
              "      <td>1</td>\n",
              "      <td>0</td>\n",
              "      <td>0</td>\n",
              "      <td>0</td>\n",
              "      <td>0</td>\n",
              "      <td>0</td>\n",
              "      <td>0</td>\n",
              "      <td>0</td>\n",
              "      <td>0</td>\n",
              "      <td>0</td>\n",
              "      <td>0</td>\n",
              "      <td>0</td>\n",
              "    </tr>\n",
              "  </tbody>\n",
              "</table>\n",
              "</div>"
            ],
            "text/plain": [
              "             track_id  genre_age  genre_blues  genre_country  \\\n",
              "0  TRSZBVQ128F425D5B6          0            0              0   \n",
              "1  TRRJNCE128F9319E52          0            0              0   \n",
              "2  TRIZJQX128F1472163          0            0              0   \n",
              "\n",
              "   genre_electronic  genre_folk  genre_jazz  genre_latin  genre_metal  \\\n",
              "0                 0           0           0            0            0   \n",
              "1                 0           0           0            0            0   \n",
              "2                 0           1           0            0            0   \n",
              "\n",
              "   genre_new  genre_pop  genre_punk  genre_rap  genre_reggae  genre_rnb  \\\n",
              "0          0          0           0          0             0          0   \n",
              "1          0          0           0          0             0          1   \n",
              "2          0          0           0          0             0          0   \n",
              "\n",
              "   genre_rock  genre_world  \n",
              "0           1            0  \n",
              "1           0            0  \n",
              "2           0            0  "
            ]
          },
          "metadata": {
            "tags": []
          },
          "execution_count": 27
        }
      ]
    },
    {
      "cell_type": "markdown",
      "metadata": {
        "id": "43EdzM15VMqI"
      },
      "source": [
        "# Summary"
      ]
    },
    {
      "cell_type": "code",
      "metadata": {
        "id": "ElsHX23jVMqI",
        "outputId": "33a00a39-9ff5-4606-a2ad-683929298fb3"
      },
      "source": [
        "summary.head(3)"
      ],
      "execution_count": null,
      "outputs": [
        {
          "output_type": "execute_result",
          "data": {
            "text/html": [
              "<div>\n",
              "<style scoped>\n",
              "    .dataframe tbody tr th:only-of-type {\n",
              "        vertical-align: middle;\n",
              "    }\n",
              "\n",
              "    .dataframe tbody tr th {\n",
              "        vertical-align: top;\n",
              "    }\n",
              "\n",
              "    .dataframe thead th {\n",
              "        text-align: right;\n",
              "    }\n",
              "</style>\n",
              "<table border=\"1\" class=\"dataframe\">\n",
              "  <thead>\n",
              "    <tr style=\"text-align: right;\">\n",
              "      <th></th>\n",
              "      <th>track_id</th>\n",
              "      <th>song_id</th>\n",
              "      <th>mode_confidence</th>\n",
              "      <th>end_of_fade_in</th>\n",
              "      <th>key_confidence</th>\n",
              "      <th>energy</th>\n",
              "      <th>year</th>\n",
              "      <th>duration</th>\n",
              "      <th>time_signature_confidence</th>\n",
              "      <th>title</th>\n",
              "      <th>start_of_fade_out</th>\n",
              "      <th>analysis_sample_rate</th>\n",
              "      <th>time_signature</th>\n",
              "      <th>tempo</th>\n",
              "      <th>artist_id</th>\n",
              "      <th>artist_name</th>\n",
              "      <th>artist_hotttnesss</th>\n",
              "      <th>key</th>\n",
              "      <th>release</th>\n",
              "      <th>loudness</th>\n",
              "    </tr>\n",
              "  </thead>\n",
              "  <tbody>\n",
              "    <tr>\n",
              "      <th>0</th>\n",
              "      <td>TRJPTGQ128F42A2187</td>\n",
              "      <td>SOIYHHS12A8C13E7B5</td>\n",
              "      <td>0.452</td>\n",
              "      <td>0.0</td>\n",
              "      <td>0.556</td>\n",
              "      <td>0.0</td>\n",
              "      <td>2007</td>\n",
              "      <td>141.66159</td>\n",
              "      <td>1.000</td>\n",
              "      <td>Don't Cry</td>\n",
              "      <td>141.662</td>\n",
              "      <td>22050</td>\n",
              "      <td>4</td>\n",
              "      <td>103.085</td>\n",
              "      <td>ARJ5FD21187FB43F12</td>\n",
              "      <td>Mavado</td>\n",
              "      <td>0.520784</td>\n",
              "      <td>0</td>\n",
              "      <td>Gangsta For Life: The Symphony Of David Brooks</td>\n",
              "      <td>-5.816</td>\n",
              "    </tr>\n",
              "    <tr>\n",
              "      <th>1</th>\n",
              "      <td>TRZWFET128F425BF9E</td>\n",
              "      <td>SONEJET12A8C137D3E</td>\n",
              "      <td>0.669</td>\n",
              "      <td>0.0</td>\n",
              "      <td>0.679</td>\n",
              "      <td>0.0</td>\n",
              "      <td>2005</td>\n",
              "      <td>354.69016</td>\n",
              "      <td>0.529</td>\n",
              "      <td>Gypsy Funeral: Hark! From The Tombs Of Doleful...</td>\n",
              "      <td>348.253</td>\n",
              "      <td>22050</td>\n",
              "      <td>1</td>\n",
              "      <td>123.153</td>\n",
              "      <td>ARH3CTU1187FB365C7</td>\n",
              "      <td>Miasma &amp; The Carousel Of Headless Horses</td>\n",
              "      <td>0.346908</td>\n",
              "      <td>9</td>\n",
              "      <td>Perils</td>\n",
              "      <td>-11.137</td>\n",
              "    </tr>\n",
              "    <tr>\n",
              "      <th>2</th>\n",
              "      <td>TRNTAMF128F14618CA</td>\n",
              "      <td>SOPAGVA12AF729F018</td>\n",
              "      <td>0.551</td>\n",
              "      <td>0.0</td>\n",
              "      <td>0.672</td>\n",
              "      <td>0.0</td>\n",
              "      <td>2001</td>\n",
              "      <td>338.44200</td>\n",
              "      <td>1.000</td>\n",
              "      <td>Trade Money</td>\n",
              "      <td>327.529</td>\n",
              "      <td>22050</td>\n",
              "      <td>4</td>\n",
              "      <td>162.540</td>\n",
              "      <td>AR0CANF1187B9AF35F</td>\n",
              "      <td>Dilated Peoples</td>\n",
              "      <td>0.457841</td>\n",
              "      <td>7</td>\n",
              "      <td>Expansion Team</td>\n",
              "      <td>-5.199</td>\n",
              "    </tr>\n",
              "  </tbody>\n",
              "</table>\n",
              "</div>"
            ],
            "text/plain": [
              "             track_id             song_id  mode_confidence  end_of_fade_in  \\\n",
              "0  TRJPTGQ128F42A2187  SOIYHHS12A8C13E7B5            0.452             0.0   \n",
              "1  TRZWFET128F425BF9E  SONEJET12A8C137D3E            0.669             0.0   \n",
              "2  TRNTAMF128F14618CA  SOPAGVA12AF729F018            0.551             0.0   \n",
              "\n",
              "   key_confidence  energy  year   duration  time_signature_confidence  \\\n",
              "0           0.556     0.0  2007  141.66159                      1.000   \n",
              "1           0.679     0.0  2005  354.69016                      0.529   \n",
              "2           0.672     0.0  2001  338.44200                      1.000   \n",
              "\n",
              "                                               title  start_of_fade_out  \\\n",
              "0                                          Don't Cry            141.662   \n",
              "1  Gypsy Funeral: Hark! From The Tombs Of Doleful...            348.253   \n",
              "2                                        Trade Money            327.529   \n",
              "\n",
              "   analysis_sample_rate  time_signature    tempo           artist_id  \\\n",
              "0                 22050               4  103.085  ARJ5FD21187FB43F12   \n",
              "1                 22050               1  123.153  ARH3CTU1187FB365C7   \n",
              "2                 22050               4  162.540  AR0CANF1187B9AF35F   \n",
              "\n",
              "                                artist_name  artist_hotttnesss  key  \\\n",
              "0                                    Mavado           0.520784    0   \n",
              "1  Miasma & The Carousel Of Headless Horses           0.346908    9   \n",
              "2                           Dilated Peoples           0.457841    7   \n",
              "\n",
              "                                          release  loudness  \n",
              "0  Gangsta For Life: The Symphony Of David Brooks    -5.816  \n",
              "1                                          Perils   -11.137  \n",
              "2                                  Expansion Team    -5.199  "
            ]
          },
          "metadata": {
            "tags": []
          },
          "execution_count": 28
        }
      ]
    },
    {
      "cell_type": "code",
      "metadata": {
        "id": "9e6EA0oPVMqJ",
        "outputId": "9451acf2-95cb-4c2c-d61d-cc976bb32b1d"
      },
      "source": [
        "summary.shape"
      ],
      "execution_count": null,
      "outputs": [
        {
          "output_type": "execute_result",
          "data": {
            "text/plain": [
              "(20000, 20)"
            ]
          },
          "metadata": {
            "tags": []
          },
          "execution_count": 29
        }
      ]
    },
    {
      "cell_type": "code",
      "metadata": {
        "id": "xEV2crW-VMqJ"
      },
      "source": [
        "summary['track_id']=summary['track_id'].map(lambda x:x.strip())\n",
        "summary['artist_name']=summary['artist_name'].map(lambda x:x.strip())\n",
        "summary['title']=summary['title'].map(lambda x:x.strip())\n",
        "summary['title']=summary['title'].map(lambda x:text_clean(x))\n",
        "summary['artist_name']=summary['artist_name'].map(lambda x:text_clean(x))"
      ],
      "execution_count": null,
      "outputs": []
    },
    {
      "cell_type": "code",
      "metadata": {
        "id": "43TSW5BPVMqK",
        "outputId": "bd74b782-61f7-48ce-8e9d-1c9aecd6ba24"
      },
      "source": [
        "summary.isna().mean()"
      ],
      "execution_count": null,
      "outputs": [
        {
          "output_type": "execute_result",
          "data": {
            "text/plain": [
              "track_id                     0.0\n",
              "song_id                      0.0\n",
              "mode_confidence              0.0\n",
              "end_of_fade_in               0.0\n",
              "key_confidence               0.0\n",
              "energy                       0.0\n",
              "year                         0.0\n",
              "duration                     0.0\n",
              "time_signature_confidence    0.0\n",
              "title                        0.0\n",
              "start_of_fade_out            0.0\n",
              "analysis_sample_rate         0.0\n",
              "time_signature               0.0\n",
              "tempo                        0.0\n",
              "artist_id                    0.0\n",
              "artist_name                  0.0\n",
              "artist_hotttnesss            0.0\n",
              "key                          0.0\n",
              "release                      0.0\n",
              "loudness                     0.0\n",
              "dtype: float64"
            ]
          },
          "metadata": {
            "tags": []
          },
          "execution_count": 31
        }
      ]
    },
    {
      "cell_type": "code",
      "metadata": {
        "id": "tHit4kLaVMqK",
        "outputId": "2dc24c6b-21aa-4724-e83d-64c25afcabeb"
      },
      "source": [
        "summary.columns"
      ],
      "execution_count": null,
      "outputs": [
        {
          "output_type": "execute_result",
          "data": {
            "text/plain": [
              "Index(['track_id', 'song_id', 'mode_confidence', 'end_of_fade_in',\n",
              "       'key_confidence', 'energy', 'year', 'duration',\n",
              "       'time_signature_confidence', 'title', 'start_of_fade_out',\n",
              "       'analysis_sample_rate', 'time_signature', 'tempo', 'artist_id',\n",
              "       'artist_name', 'artist_hotttnesss', 'key', 'release', 'loudness'],\n",
              "      dtype='object')"
            ]
          },
          "metadata": {
            "tags": []
          },
          "execution_count": 32
        }
      ]
    },
    {
      "cell_type": "code",
      "metadata": {
        "id": "PKRCwLg0VMqK",
        "outputId": "dc4a2a15-060f-40a6-8f13-f343c13e4614"
      },
      "source": [
        "summary.describe()"
      ],
      "execution_count": null,
      "outputs": [
        {
          "output_type": "execute_result",
          "data": {
            "text/html": [
              "<div>\n",
              "<style scoped>\n",
              "    .dataframe tbody tr th:only-of-type {\n",
              "        vertical-align: middle;\n",
              "    }\n",
              "\n",
              "    .dataframe tbody tr th {\n",
              "        vertical-align: top;\n",
              "    }\n",
              "\n",
              "    .dataframe thead th {\n",
              "        text-align: right;\n",
              "    }\n",
              "</style>\n",
              "<table border=\"1\" class=\"dataframe\">\n",
              "  <thead>\n",
              "    <tr style=\"text-align: right;\">\n",
              "      <th></th>\n",
              "      <th>mode_confidence</th>\n",
              "      <th>end_of_fade_in</th>\n",
              "      <th>key_confidence</th>\n",
              "      <th>energy</th>\n",
              "      <th>year</th>\n",
              "      <th>duration</th>\n",
              "      <th>time_signature_confidence</th>\n",
              "      <th>start_of_fade_out</th>\n",
              "      <th>analysis_sample_rate</th>\n",
              "      <th>time_signature</th>\n",
              "      <th>tempo</th>\n",
              "      <th>artist_hotttnesss</th>\n",
              "      <th>key</th>\n",
              "      <th>loudness</th>\n",
              "    </tr>\n",
              "  </thead>\n",
              "  <tbody>\n",
              "    <tr>\n",
              "      <th>count</th>\n",
              "      <td>20000.000000</td>\n",
              "      <td>20000.000000</td>\n",
              "      <td>20000.000000</td>\n",
              "      <td>20000.0</td>\n",
              "      <td>20000.000000</td>\n",
              "      <td>20000.000000</td>\n",
              "      <td>20000.000000</td>\n",
              "      <td>20000.000000</td>\n",
              "      <td>20000.0</td>\n",
              "      <td>20000.000000</td>\n",
              "      <td>20000.000000</td>\n",
              "      <td>20000.000000</td>\n",
              "      <td>20000.000000</td>\n",
              "      <td>20000.000000</td>\n",
              "    </tr>\n",
              "    <tr>\n",
              "      <th>mean</th>\n",
              "      <td>0.473594</td>\n",
              "      <td>0.881743</td>\n",
              "      <td>0.441724</td>\n",
              "      <td>0.0</td>\n",
              "      <td>1998.411700</td>\n",
              "      <td>245.849599</td>\n",
              "      <td>0.514426</td>\n",
              "      <td>236.746542</td>\n",
              "      <td>22050.0</td>\n",
              "      <td>3.610250</td>\n",
              "      <td>125.139885</td>\n",
              "      <td>0.415799</td>\n",
              "      <td>5.315800</td>\n",
              "      <td>-9.669730</td>\n",
              "    </tr>\n",
              "    <tr>\n",
              "      <th>std</th>\n",
              "      <td>0.193258</td>\n",
              "      <td>2.871986</td>\n",
              "      <td>0.276916</td>\n",
              "      <td>0.0</td>\n",
              "      <td>11.012046</td>\n",
              "      <td>110.548106</td>\n",
              "      <td>0.370453</td>\n",
              "      <td>108.129202</td>\n",
              "      <td>0.0</td>\n",
              "      <td>1.200382</td>\n",
              "      <td>34.942407</td>\n",
              "      <td>0.110425</td>\n",
              "      <td>3.591395</td>\n",
              "      <td>4.890132</td>\n",
              "    </tr>\n",
              "    <tr>\n",
              "      <th>min</th>\n",
              "      <td>0.000000</td>\n",
              "      <td>0.000000</td>\n",
              "      <td>0.000000</td>\n",
              "      <td>0.0</td>\n",
              "      <td>1927.000000</td>\n",
              "      <td>0.783220</td>\n",
              "      <td>0.000000</td>\n",
              "      <td>0.783000</td>\n",
              "      <td>22050.0</td>\n",
              "      <td>0.000000</td>\n",
              "      <td>0.000000</td>\n",
              "      <td>0.000000</td>\n",
              "      <td>0.000000</td>\n",
              "      <td>-52.251000</td>\n",
              "    </tr>\n",
              "    <tr>\n",
              "      <th>25%</th>\n",
              "      <td>0.358000</td>\n",
              "      <td>0.000000</td>\n",
              "      <td>0.211000</td>\n",
              "      <td>0.0</td>\n",
              "      <td>1994.000000</td>\n",
              "      <td>183.196280</td>\n",
              "      <td>0.131000</td>\n",
              "      <td>175.216500</td>\n",
              "      <td>22050.0</td>\n",
              "      <td>3.000000</td>\n",
              "      <td>99.916250</td>\n",
              "      <td>0.364310</td>\n",
              "      <td>2.000000</td>\n",
              "      <td>-12.178000</td>\n",
              "    </tr>\n",
              "    <tr>\n",
              "      <th>50%</th>\n",
              "      <td>0.485000</td>\n",
              "      <td>0.194500</td>\n",
              "      <td>0.462000</td>\n",
              "      <td>0.0</td>\n",
              "      <td>2002.000000</td>\n",
              "      <td>229.589750</td>\n",
              "      <td>0.552000</td>\n",
              "      <td>220.140000</td>\n",
              "      <td>22050.0</td>\n",
              "      <td>4.000000</td>\n",
              "      <td>122.983000</td>\n",
              "      <td>0.409428</td>\n",
              "      <td>5.000000</td>\n",
              "      <td>-8.624000</td>\n",
              "    </tr>\n",
              "    <tr>\n",
              "      <th>75%</th>\n",
              "      <td>0.604000</td>\n",
              "      <td>0.438000</td>\n",
              "      <td>0.652250</td>\n",
              "      <td>0.0</td>\n",
              "      <td>2006.000000</td>\n",
              "      <td>287.555460</td>\n",
              "      <td>0.864000</td>\n",
              "      <td>277.503250</td>\n",
              "      <td>22050.0</td>\n",
              "      <td>4.000000</td>\n",
              "      <td>145.968250</td>\n",
              "      <td>0.469025</td>\n",
              "      <td>9.000000</td>\n",
              "      <td>-6.091750</td>\n",
              "    </tr>\n",
              "    <tr>\n",
              "      <th>max</th>\n",
              "      <td>1.000000</td>\n",
              "      <td>235.944000</td>\n",
              "      <td>1.000000</td>\n",
              "      <td>0.0</td>\n",
              "      <td>2010.000000</td>\n",
              "      <td>2342.765260</td>\n",
              "      <td>1.000000</td>\n",
              "      <td>2190.425000</td>\n",
              "      <td>22050.0</td>\n",
              "      <td>7.000000</td>\n",
              "      <td>268.092000</td>\n",
              "      <td>1.082503</td>\n",
              "      <td>11.000000</td>\n",
              "      <td>2.453000</td>\n",
              "    </tr>\n",
              "  </tbody>\n",
              "</table>\n",
              "</div>"
            ],
            "text/plain": [
              "       mode_confidence  end_of_fade_in  key_confidence   energy          year  \\\n",
              "count     20000.000000    20000.000000    20000.000000  20000.0  20000.000000   \n",
              "mean          0.473594        0.881743        0.441724      0.0   1998.411700   \n",
              "std           0.193258        2.871986        0.276916      0.0     11.012046   \n",
              "min           0.000000        0.000000        0.000000      0.0   1927.000000   \n",
              "25%           0.358000        0.000000        0.211000      0.0   1994.000000   \n",
              "50%           0.485000        0.194500        0.462000      0.0   2002.000000   \n",
              "75%           0.604000        0.438000        0.652250      0.0   2006.000000   \n",
              "max           1.000000      235.944000        1.000000      0.0   2010.000000   \n",
              "\n",
              "           duration  time_signature_confidence  start_of_fade_out  \\\n",
              "count  20000.000000               20000.000000       20000.000000   \n",
              "mean     245.849599                   0.514426         236.746542   \n",
              "std      110.548106                   0.370453         108.129202   \n",
              "min        0.783220                   0.000000           0.783000   \n",
              "25%      183.196280                   0.131000         175.216500   \n",
              "50%      229.589750                   0.552000         220.140000   \n",
              "75%      287.555460                   0.864000         277.503250   \n",
              "max     2342.765260                   1.000000        2190.425000   \n",
              "\n",
              "       analysis_sample_rate  time_signature         tempo  artist_hotttnesss  \\\n",
              "count               20000.0    20000.000000  20000.000000       20000.000000   \n",
              "mean                22050.0        3.610250    125.139885           0.415799   \n",
              "std                     0.0        1.200382     34.942407           0.110425   \n",
              "min                 22050.0        0.000000      0.000000           0.000000   \n",
              "25%                 22050.0        3.000000     99.916250           0.364310   \n",
              "50%                 22050.0        4.000000    122.983000           0.409428   \n",
              "75%                 22050.0        4.000000    145.968250           0.469025   \n",
              "max                 22050.0        7.000000    268.092000           1.082503   \n",
              "\n",
              "                key      loudness  \n",
              "count  20000.000000  20000.000000  \n",
              "mean       5.315800     -9.669730  \n",
              "std        3.591395      4.890132  \n",
              "min        0.000000    -52.251000  \n",
              "25%        2.000000    -12.178000  \n",
              "50%        5.000000     -8.624000  \n",
              "75%        9.000000     -6.091750  \n",
              "max       11.000000      2.453000  "
            ]
          },
          "metadata": {
            "tags": []
          },
          "execution_count": 33
        }
      ]
    },
    {
      "cell_type": "code",
      "metadata": {
        "id": "wLshAVabVMqL"
      },
      "source": [
        "summary.drop(['song_id','mode_confidence','key_confidence','time_signature_confidence','analysis_sample_rate','artist_id','key','release'],inplace=True,axis=1)"
      ],
      "execution_count": null,
      "outputs": []
    },
    {
      "cell_type": "markdown",
      "metadata": {
        "id": "iu8RQX1ZVMqL"
      },
      "source": [
        "## Cruce"
      ]
    },
    {
      "cell_type": "code",
      "metadata": {
        "id": "8EVacEzBVMqL"
      },
      "source": [
        "summary['title-artist']=summary['title']+'-'+summary['artist_name']"
      ],
      "execution_count": null,
      "outputs": []
    },
    {
      "cell_type": "code",
      "metadata": {
        "id": "lms4DD2BVMqL"
      },
      "source": [
        "aux=pd.merge(summary,audio,how='inner',on='track_id')"
      ],
      "execution_count": null,
      "outputs": []
    },
    {
      "cell_type": "code",
      "metadata": {
        "id": "EJucPXXhVMqM",
        "outputId": "81314cb3-521c-4d18-c213-43acc0175845"
      },
      "source": [
        "aux.shape"
      ],
      "execution_count": null,
      "outputs": [
        {
          "output_type": "execute_result",
          "data": {
            "text/plain": [
              "(17108, 26)"
            ]
          },
          "metadata": {
            "tags": []
          },
          "execution_count": 37
        }
      ]
    },
    {
      "cell_type": "code",
      "metadata": {
        "id": "PWFQAL_KVMqM",
        "outputId": "3c2b5a77-c451-40e9-da83-d65d890b7983"
      },
      "source": [
        "aux.head(3)"
      ],
      "execution_count": null,
      "outputs": [
        {
          "output_type": "execute_result",
          "data": {
            "text/html": [
              "<div>\n",
              "<style scoped>\n",
              "    .dataframe tbody tr th:only-of-type {\n",
              "        vertical-align: middle;\n",
              "    }\n",
              "\n",
              "    .dataframe tbody tr th {\n",
              "        vertical-align: top;\n",
              "    }\n",
              "\n",
              "    .dataframe thead th {\n",
              "        text-align: right;\n",
              "    }\n",
              "</style>\n",
              "<table border=\"1\" class=\"dataframe\">\n",
              "  <thead>\n",
              "    <tr style=\"text-align: right;\">\n",
              "      <th></th>\n",
              "      <th>track_id</th>\n",
              "      <th>end_of_fade_in</th>\n",
              "      <th>energy</th>\n",
              "      <th>year</th>\n",
              "      <th>duration</th>\n",
              "      <th>title</th>\n",
              "      <th>start_of_fade_out</th>\n",
              "      <th>time_signature</th>\n",
              "      <th>tempo</th>\n",
              "      <th>artist_name</th>\n",
              "      <th>...</th>\n",
              "      <th>acousticness</th>\n",
              "      <th>aggressiveness</th>\n",
              "      <th>electronicity</th>\n",
              "      <th>happiness</th>\n",
              "      <th>festiveness</th>\n",
              "      <th>relaxation</th>\n",
              "      <th>sadness</th>\n",
              "      <th>brightness</th>\n",
              "      <th>tonality</th>\n",
              "      <th>insrumentalness</th>\n",
              "    </tr>\n",
              "  </thead>\n",
              "  <tbody>\n",
              "    <tr>\n",
              "      <th>0</th>\n",
              "      <td>TRJPTGQ128F42A2187</td>\n",
              "      <td>0.0</td>\n",
              "      <td>0.0</td>\n",
              "      <td>2007</td>\n",
              "      <td>141.66159</td>\n",
              "      <td>don t cry</td>\n",
              "      <td>141.662</td>\n",
              "      <td>4</td>\n",
              "      <td>103.085</td>\n",
              "      <td>mavado</td>\n",
              "      <td>...</td>\n",
              "      <td>0.022293</td>\n",
              "      <td>0.500000</td>\n",
              "      <td>0.882711</td>\n",
              "      <td>0.456452</td>\n",
              "      <td>0.772325</td>\n",
              "      <td>0.508476</td>\n",
              "      <td>0.067847</td>\n",
              "      <td>0.878608</td>\n",
              "      <td>0.045879</td>\n",
              "      <td>0.007640</td>\n",
              "    </tr>\n",
              "    <tr>\n",
              "      <th>1</th>\n",
              "      <td>TRZWFET128F425BF9E</td>\n",
              "      <td>0.0</td>\n",
              "      <td>0.0</td>\n",
              "      <td>2005</td>\n",
              "      <td>354.69016</td>\n",
              "      <td>gypsy funeral hark from the tombs of doleful s...</td>\n",
              "      <td>348.253</td>\n",
              "      <td>1</td>\n",
              "      <td>123.153</td>\n",
              "      <td>miasma the carousel of headless horses</td>\n",
              "      <td>...</td>\n",
              "      <td>0.003386</td>\n",
              "      <td>0.918240</td>\n",
              "      <td>0.395611</td>\n",
              "      <td>0.110496</td>\n",
              "      <td>0.518365</td>\n",
              "      <td>0.262771</td>\n",
              "      <td>0.067540</td>\n",
              "      <td>0.278791</td>\n",
              "      <td>0.150650</td>\n",
              "      <td>0.798211</td>\n",
              "    </tr>\n",
              "    <tr>\n",
              "      <th>2</th>\n",
              "      <td>TRNTAMF128F14618CA</td>\n",
              "      <td>0.0</td>\n",
              "      <td>0.0</td>\n",
              "      <td>2001</td>\n",
              "      <td>338.44200</td>\n",
              "      <td>trade money</td>\n",
              "      <td>327.529</td>\n",
              "      <td>4</td>\n",
              "      <td>162.540</td>\n",
              "      <td>dilated peoples</td>\n",
              "      <td>...</td>\n",
              "      <td>0.028752</td>\n",
              "      <td>0.471321</td>\n",
              "      <td>0.934747</td>\n",
              "      <td>0.484657</td>\n",
              "      <td>0.726565</td>\n",
              "      <td>0.012293</td>\n",
              "      <td>0.242436</td>\n",
              "      <td>0.945652</td>\n",
              "      <td>0.123880</td>\n",
              "      <td>0.315464</td>\n",
              "    </tr>\n",
              "  </tbody>\n",
              "</table>\n",
              "<p>3 rows × 26 columns</p>\n",
              "</div>"
            ],
            "text/plain": [
              "             track_id  end_of_fade_in  energy  year   duration  \\\n",
              "0  TRJPTGQ128F42A2187             0.0     0.0  2007  141.66159   \n",
              "1  TRZWFET128F425BF9E             0.0     0.0  2005  354.69016   \n",
              "2  TRNTAMF128F14618CA             0.0     0.0  2001  338.44200   \n",
              "\n",
              "                                               title  start_of_fade_out  \\\n",
              "0                                          don t cry            141.662   \n",
              "1  gypsy funeral hark from the tombs of doleful s...            348.253   \n",
              "2                                        trade money            327.529   \n",
              "\n",
              "   time_signature    tempo                             artist_name  ...  \\\n",
              "0               4  103.085                                  mavado  ...   \n",
              "1               1  123.153  miasma the carousel of headless horses  ...   \n",
              "2               4  162.540                         dilated peoples  ...   \n",
              "\n",
              "   acousticness  aggressiveness electronicity  happiness  festiveness  \\\n",
              "0      0.022293        0.500000      0.882711   0.456452     0.772325   \n",
              "1      0.003386        0.918240      0.395611   0.110496     0.518365   \n",
              "2      0.028752        0.471321      0.934747   0.484657     0.726565   \n",
              "\n",
              "   relaxation   sadness  brightness  tonality  insrumentalness  \n",
              "0    0.508476  0.067847    0.878608  0.045879         0.007640  \n",
              "1    0.262771  0.067540    0.278791  0.150650         0.798211  \n",
              "2    0.012293  0.242436    0.945652  0.123880         0.315464  \n",
              "\n",
              "[3 rows x 26 columns]"
            ]
          },
          "metadata": {
            "tags": []
          },
          "execution_count": 38
        }
      ]
    },
    {
      "cell_type": "code",
      "metadata": {
        "id": "leLI2tdSVMqM"
      },
      "source": [
        "from sklearn import preprocessing\n",
        "min_max_scaler = preprocessing.MinMaxScaler()"
      ],
      "execution_count": null,
      "outputs": []
    },
    {
      "cell_type": "code",
      "metadata": {
        "id": "vSrCPUuGVMqN"
      },
      "source": [
        "lst=[aux.columns[i] for i in range(0,len(aux.columns))]"
      ],
      "execution_count": null,
      "outputs": []
    },
    {
      "cell_type": "code",
      "metadata": {
        "id": "Srk8JxPwVMqN"
      },
      "source": [
        "lst.remove('track_id')\n",
        "lst.remove('title')\n",
        "lst.remove('artist_name')\n",
        "lst.remove('title-artist')"
      ],
      "execution_count": null,
      "outputs": []
    },
    {
      "cell_type": "code",
      "metadata": {
        "id": "9Wa7N2deVMqN"
      },
      "source": [
        "X = min_max_scaler.fit_transform(aux[lst])"
      ],
      "execution_count": null,
      "outputs": []
    },
    {
      "cell_type": "code",
      "metadata": {
        "id": "IWFqFvb8VMqN",
        "outputId": "25a1105d-db35-4a86-be35-1ef705d1a741"
      },
      "source": [
        "X"
      ],
      "execution_count": null,
      "outputs": [
        {
          "output_type": "execute_result",
          "data": {
            "text/plain": [
              "array([[0.        , 0.        , 0.96385542, ..., 0.87860792, 0.04588022,\n",
              "        0.00763973],\n",
              "       [0.        , 0.        , 0.93975904, ..., 0.27879085, 0.15065245,\n",
              "        0.79821066],\n",
              "       [0.        , 0.        , 0.89156627, ..., 0.9456521 , 0.12388213,\n",
              "        0.31546353],\n",
              "       ...,\n",
              "       [0.00819686, 0.        , 0.85542169, ..., 0.86036847, 0.97505297,\n",
              "        0.0029758 ],\n",
              "       [0.        , 0.        , 0.93975904, ..., 0.03060165, 0.09813674,\n",
              "        0.05533157],\n",
              "       [0.        , 0.        , 0.84337349, ..., 0.31429897, 0.96994328,\n",
              "        0.11797363]])"
            ]
          },
          "metadata": {
            "tags": []
          },
          "execution_count": 45
        }
      ]
    },
    {
      "cell_type": "markdown",
      "metadata": {
        "id": "n1KoLJ86VMqO"
      },
      "source": [
        "# Distancias sklearn.neighbors.DistanceMetric"
      ]
    },
    {
      "cell_type": "markdown",
      "metadata": {
        "id": "zKRt7Vr2VMqO"
      },
      "source": [
        "## $\\bullet$ Distance Metric"
      ]
    },
    {
      "cell_type": "code",
      "metadata": {
        "id": "IlOsWHuiVMqO"
      },
      "source": [
        "def dist_pairwise(a, b):\n",
        "    return (a-b)**2\n",
        "\n",
        "def dist(a,b):\n",
        "    return np.sqrt(sum([dist_pairwise(x, y) for x,y in zip(a,b)]))"
      ],
      "execution_count": null,
      "outputs": []
    },
    {
      "cell_type": "code",
      "metadata": {
        "id": "c_-ic7jvVMqP"
      },
      "source": [
        "distance = DistanceMetric.get_metric(\"euclidean\")\n",
        "X_dist = pd.DataFrame(distance.pairwise(X))"
      ],
      "execution_count": null,
      "outputs": []
    },
    {
      "cell_type": "code",
      "metadata": {
        "id": "NBGlMEN0VMqP",
        "outputId": "f3b65254-25d8-4ab0-b9ea-571834d3593c"
      },
      "source": [
        "X_dist"
      ],
      "execution_count": null,
      "outputs": [
        {
          "output_type": "execute_result",
          "data": {
            "text/html": [
              "<div>\n",
              "<style scoped>\n",
              "    .dataframe tbody tr th:only-of-type {\n",
              "        vertical-align: middle;\n",
              "    }\n",
              "\n",
              "    .dataframe tbody tr th {\n",
              "        vertical-align: top;\n",
              "    }\n",
              "\n",
              "    .dataframe thead th {\n",
              "        text-align: right;\n",
              "    }\n",
              "</style>\n",
              "<table border=\"1\" class=\"dataframe\">\n",
              "  <thead>\n",
              "    <tr style=\"text-align: right;\">\n",
              "      <th></th>\n",
              "      <th>0</th>\n",
              "      <th>1</th>\n",
              "      <th>2</th>\n",
              "      <th>3</th>\n",
              "      <th>4</th>\n",
              "      <th>5</th>\n",
              "      <th>6</th>\n",
              "      <th>7</th>\n",
              "      <th>8</th>\n",
              "      <th>9</th>\n",
              "      <th>...</th>\n",
              "      <th>17098</th>\n",
              "      <th>17099</th>\n",
              "      <th>17100</th>\n",
              "      <th>17101</th>\n",
              "      <th>17102</th>\n",
              "      <th>17103</th>\n",
              "      <th>17104</th>\n",
              "      <th>17105</th>\n",
              "      <th>17106</th>\n",
              "      <th>17107</th>\n",
              "    </tr>\n",
              "  </thead>\n",
              "  <tbody>\n",
              "    <tr>\n",
              "      <th>0</th>\n",
              "      <td>0.000000</td>\n",
              "      <td>1.612453</td>\n",
              "      <td>0.693058</td>\n",
              "      <td>1.341001</td>\n",
              "      <td>1.766796</td>\n",
              "      <td>1.531823</td>\n",
              "      <td>2.161499</td>\n",
              "      <td>1.822284</td>\n",
              "      <td>1.687858</td>\n",
              "      <td>2.278925</td>\n",
              "      <td>...</td>\n",
              "      <td>1.987314</td>\n",
              "      <td>1.943101</td>\n",
              "      <td>2.441297</td>\n",
              "      <td>1.277846</td>\n",
              "      <td>1.797584</td>\n",
              "      <td>1.692162</td>\n",
              "      <td>2.284040</td>\n",
              "      <td>1.206786</td>\n",
              "      <td>1.342348</td>\n",
              "      <td>1.781915</td>\n",
              "    </tr>\n",
              "    <tr>\n",
              "      <th>1</th>\n",
              "      <td>1.612453</td>\n",
              "      <td>0.000000</td>\n",
              "      <td>1.497114</td>\n",
              "      <td>1.883554</td>\n",
              "      <td>1.597811</td>\n",
              "      <td>1.153054</td>\n",
              "      <td>1.587287</td>\n",
              "      <td>1.223950</td>\n",
              "      <td>1.817401</td>\n",
              "      <td>2.277334</td>\n",
              "      <td>...</td>\n",
              "      <td>1.753150</td>\n",
              "      <td>1.696936</td>\n",
              "      <td>2.208336</td>\n",
              "      <td>1.573504</td>\n",
              "      <td>2.093946</td>\n",
              "      <td>0.976043</td>\n",
              "      <td>2.045695</td>\n",
              "      <td>1.840272</td>\n",
              "      <td>1.188021</td>\n",
              "      <td>1.402997</td>\n",
              "    </tr>\n",
              "    <tr>\n",
              "      <th>2</th>\n",
              "      <td>0.693058</td>\n",
              "      <td>1.497114</td>\n",
              "      <td>0.000000</td>\n",
              "      <td>1.271086</td>\n",
              "      <td>1.810295</td>\n",
              "      <td>1.688495</td>\n",
              "      <td>1.997252</td>\n",
              "      <td>1.778489</td>\n",
              "      <td>1.735334</td>\n",
              "      <td>2.340078</td>\n",
              "      <td>...</td>\n",
              "      <td>2.084431</td>\n",
              "      <td>1.916210</td>\n",
              "      <td>2.477942</td>\n",
              "      <td>1.471120</td>\n",
              "      <td>1.668503</td>\n",
              "      <td>1.526401</td>\n",
              "      <td>2.275932</td>\n",
              "      <td>1.201657</td>\n",
              "      <td>1.344677</td>\n",
              "      <td>1.659133</td>\n",
              "    </tr>\n",
              "    <tr>\n",
              "      <th>3</th>\n",
              "      <td>1.341001</td>\n",
              "      <td>1.883554</td>\n",
              "      <td>1.271086</td>\n",
              "      <td>0.000000</td>\n",
              "      <td>1.831689</td>\n",
              "      <td>1.958650</td>\n",
              "      <td>1.914779</td>\n",
              "      <td>1.766062</td>\n",
              "      <td>1.788668</td>\n",
              "      <td>1.927723</td>\n",
              "      <td>...</td>\n",
              "      <td>1.950046</td>\n",
              "      <td>1.487502</td>\n",
              "      <td>2.095625</td>\n",
              "      <td>1.726984</td>\n",
              "      <td>1.108941</td>\n",
              "      <td>1.665219</td>\n",
              "      <td>1.967468</td>\n",
              "      <td>1.196809</td>\n",
              "      <td>1.409551</td>\n",
              "      <td>1.641420</td>\n",
              "    </tr>\n",
              "    <tr>\n",
              "      <th>4</th>\n",
              "      <td>1.766796</td>\n",
              "      <td>1.597811</td>\n",
              "      <td>1.810295</td>\n",
              "      <td>1.831689</td>\n",
              "      <td>0.000000</td>\n",
              "      <td>1.800589</td>\n",
              "      <td>1.550935</td>\n",
              "      <td>2.101183</td>\n",
              "      <td>1.577036</td>\n",
              "      <td>1.580276</td>\n",
              "      <td>...</td>\n",
              "      <td>0.997389</td>\n",
              "      <td>1.030259</td>\n",
              "      <td>1.500777</td>\n",
              "      <td>0.976966</td>\n",
              "      <td>1.921582</td>\n",
              "      <td>1.898995</td>\n",
              "      <td>1.315150</td>\n",
              "      <td>1.930671</td>\n",
              "      <td>1.634703</td>\n",
              "      <td>1.919173</td>\n",
              "    </tr>\n",
              "    <tr>\n",
              "      <th>...</th>\n",
              "      <td>...</td>\n",
              "      <td>...</td>\n",
              "      <td>...</td>\n",
              "      <td>...</td>\n",
              "      <td>...</td>\n",
              "      <td>...</td>\n",
              "      <td>...</td>\n",
              "      <td>...</td>\n",
              "      <td>...</td>\n",
              "      <td>...</td>\n",
              "      <td>...</td>\n",
              "      <td>...</td>\n",
              "      <td>...</td>\n",
              "      <td>...</td>\n",
              "      <td>...</td>\n",
              "      <td>...</td>\n",
              "      <td>...</td>\n",
              "      <td>...</td>\n",
              "      <td>...</td>\n",
              "      <td>...</td>\n",
              "      <td>...</td>\n",
              "    </tr>\n",
              "    <tr>\n",
              "      <th>17103</th>\n",
              "      <td>1.692162</td>\n",
              "      <td>0.976043</td>\n",
              "      <td>1.526401</td>\n",
              "      <td>1.665219</td>\n",
              "      <td>1.898995</td>\n",
              "      <td>1.364737</td>\n",
              "      <td>1.477792</td>\n",
              "      <td>0.836950</td>\n",
              "      <td>1.780734</td>\n",
              "      <td>2.300249</td>\n",
              "      <td>...</td>\n",
              "      <td>2.001619</td>\n",
              "      <td>1.636398</td>\n",
              "      <td>2.278543</td>\n",
              "      <td>1.817844</td>\n",
              "      <td>1.890056</td>\n",
              "      <td>0.000000</td>\n",
              "      <td>2.199475</td>\n",
              "      <td>1.568237</td>\n",
              "      <td>1.094897</td>\n",
              "      <td>0.879265</td>\n",
              "    </tr>\n",
              "    <tr>\n",
              "      <th>17104</th>\n",
              "      <td>2.284040</td>\n",
              "      <td>2.045695</td>\n",
              "      <td>2.275932</td>\n",
              "      <td>1.967468</td>\n",
              "      <td>1.315150</td>\n",
              "      <td>2.492028</td>\n",
              "      <td>1.506548</td>\n",
              "      <td>2.254815</td>\n",
              "      <td>1.441756</td>\n",
              "      <td>0.856970</td>\n",
              "      <td>...</td>\n",
              "      <td>1.273035</td>\n",
              "      <td>1.147137</td>\n",
              "      <td>0.781048</td>\n",
              "      <td>1.667075</td>\n",
              "      <td>1.579623</td>\n",
              "      <td>2.199475</td>\n",
              "      <td>0.000000</td>\n",
              "      <td>1.990827</td>\n",
              "      <td>2.259527</td>\n",
              "      <td>2.074138</td>\n",
              "    </tr>\n",
              "    <tr>\n",
              "      <th>17105</th>\n",
              "      <td>1.206786</td>\n",
              "      <td>1.840272</td>\n",
              "      <td>1.201657</td>\n",
              "      <td>1.196809</td>\n",
              "      <td>1.930671</td>\n",
              "      <td>1.988114</td>\n",
              "      <td>1.615302</td>\n",
              "      <td>1.545584</td>\n",
              "      <td>1.278318</td>\n",
              "      <td>1.910758</td>\n",
              "      <td>...</td>\n",
              "      <td>2.116315</td>\n",
              "      <td>1.583849</td>\n",
              "      <td>2.058435</td>\n",
              "      <td>1.716113</td>\n",
              "      <td>1.436421</td>\n",
              "      <td>1.568237</td>\n",
              "      <td>1.990827</td>\n",
              "      <td>0.000000</td>\n",
              "      <td>1.755857</td>\n",
              "      <td>1.284334</td>\n",
              "    </tr>\n",
              "    <tr>\n",
              "      <th>17106</th>\n",
              "      <td>1.342348</td>\n",
              "      <td>1.188021</td>\n",
              "      <td>1.344677</td>\n",
              "      <td>1.409551</td>\n",
              "      <td>1.634703</td>\n",
              "      <td>0.976974</td>\n",
              "      <td>1.809097</td>\n",
              "      <td>1.264961</td>\n",
              "      <td>1.954146</td>\n",
              "      <td>2.262130</td>\n",
              "      <td>...</td>\n",
              "      <td>1.706545</td>\n",
              "      <td>1.589563</td>\n",
              "      <td>2.283085</td>\n",
              "      <td>1.392076</td>\n",
              "      <td>1.798158</td>\n",
              "      <td>1.094897</td>\n",
              "      <td>2.259527</td>\n",
              "      <td>1.755857</td>\n",
              "      <td>0.000000</td>\n",
              "      <td>1.442302</td>\n",
              "    </tr>\n",
              "    <tr>\n",
              "      <th>17107</th>\n",
              "      <td>1.781915</td>\n",
              "      <td>1.402997</td>\n",
              "      <td>1.659133</td>\n",
              "      <td>1.641420</td>\n",
              "      <td>1.919173</td>\n",
              "      <td>1.573737</td>\n",
              "      <td>1.297953</td>\n",
              "      <td>0.781461</td>\n",
              "      <td>1.525054</td>\n",
              "      <td>2.006904</td>\n",
              "      <td>...</td>\n",
              "      <td>1.964860</td>\n",
              "      <td>1.438988</td>\n",
              "      <td>2.022034</td>\n",
              "      <td>1.779562</td>\n",
              "      <td>1.807225</td>\n",
              "      <td>0.879265</td>\n",
              "      <td>2.074138</td>\n",
              "      <td>1.284334</td>\n",
              "      <td>1.442302</td>\n",
              "      <td>0.000000</td>\n",
              "    </tr>\n",
              "  </tbody>\n",
              "</table>\n",
              "<p>17108 rows × 17108 columns</p>\n",
              "</div>"
            ],
            "text/plain": [
              "          0         1         2         3         4         5         6      \\\n",
              "0      0.000000  1.612453  0.693058  1.341001  1.766796  1.531823  2.161499   \n",
              "1      1.612453  0.000000  1.497114  1.883554  1.597811  1.153054  1.587287   \n",
              "2      0.693058  1.497114  0.000000  1.271086  1.810295  1.688495  1.997252   \n",
              "3      1.341001  1.883554  1.271086  0.000000  1.831689  1.958650  1.914779   \n",
              "4      1.766796  1.597811  1.810295  1.831689  0.000000  1.800589  1.550935   \n",
              "...         ...       ...       ...       ...       ...       ...       ...   \n",
              "17103  1.692162  0.976043  1.526401  1.665219  1.898995  1.364737  1.477792   \n",
              "17104  2.284040  2.045695  2.275932  1.967468  1.315150  2.492028  1.506548   \n",
              "17105  1.206786  1.840272  1.201657  1.196809  1.930671  1.988114  1.615302   \n",
              "17106  1.342348  1.188021  1.344677  1.409551  1.634703  0.976974  1.809097   \n",
              "17107  1.781915  1.402997  1.659133  1.641420  1.919173  1.573737  1.297953   \n",
              "\n",
              "          7         8         9      ...     17098     17099     17100  \\\n",
              "0      1.822284  1.687858  2.278925  ...  1.987314  1.943101  2.441297   \n",
              "1      1.223950  1.817401  2.277334  ...  1.753150  1.696936  2.208336   \n",
              "2      1.778489  1.735334  2.340078  ...  2.084431  1.916210  2.477942   \n",
              "3      1.766062  1.788668  1.927723  ...  1.950046  1.487502  2.095625   \n",
              "4      2.101183  1.577036  1.580276  ...  0.997389  1.030259  1.500777   \n",
              "...         ...       ...       ...  ...       ...       ...       ...   \n",
              "17103  0.836950  1.780734  2.300249  ...  2.001619  1.636398  2.278543   \n",
              "17104  2.254815  1.441756  0.856970  ...  1.273035  1.147137  0.781048   \n",
              "17105  1.545584  1.278318  1.910758  ...  2.116315  1.583849  2.058435   \n",
              "17106  1.264961  1.954146  2.262130  ...  1.706545  1.589563  2.283085   \n",
              "17107  0.781461  1.525054  2.006904  ...  1.964860  1.438988  2.022034   \n",
              "\n",
              "          17101     17102     17103     17104     17105     17106     17107  \n",
              "0      1.277846  1.797584  1.692162  2.284040  1.206786  1.342348  1.781915  \n",
              "1      1.573504  2.093946  0.976043  2.045695  1.840272  1.188021  1.402997  \n",
              "2      1.471120  1.668503  1.526401  2.275932  1.201657  1.344677  1.659133  \n",
              "3      1.726984  1.108941  1.665219  1.967468  1.196809  1.409551  1.641420  \n",
              "4      0.976966  1.921582  1.898995  1.315150  1.930671  1.634703  1.919173  \n",
              "...         ...       ...       ...       ...       ...       ...       ...  \n",
              "17103  1.817844  1.890056  0.000000  2.199475  1.568237  1.094897  0.879265  \n",
              "17104  1.667075  1.579623  2.199475  0.000000  1.990827  2.259527  2.074138  \n",
              "17105  1.716113  1.436421  1.568237  1.990827  0.000000  1.755857  1.284334  \n",
              "17106  1.392076  1.798158  1.094897  2.259527  1.755857  0.000000  1.442302  \n",
              "17107  1.779562  1.807225  0.879265  2.074138  1.284334  1.442302  0.000000  \n",
              "\n",
              "[17108 rows x 17108 columns]"
            ]
          },
          "metadata": {
            "tags": []
          },
          "execution_count": 48
        }
      ]
    },
    {
      "cell_type": "code",
      "metadata": {
        "id": "CAl_J4s9VMqP"
      },
      "source": [
        "def buscador(cancion,vecinos):\n",
        "    index = aux[aux['title-artist'] == cancion].index.values[0]\n",
        "    ls_closest = X_dist.loc[X_dist.index != index, [index]].sort_values(by = index).head(vecinos).index.tolist()\n",
        "    return aux.loc[ls_closest, \"title-artist\"].tolist()"
      ],
      "execution_count": null,
      "outputs": []
    },
    {
      "cell_type": "code",
      "metadata": {
        "id": "Zd4x7gSHVMqQ",
        "outputId": "ee61e8ea-a3fb-46a5-a926-d5bb59caa46b"
      },
      "source": [
        "buscador('umbrella-rihanna jay z',5)"
      ],
      "execution_count": null,
      "outputs": [
        {
          "output_type": "execute_result",
          "data": {
            "text/plain": [
              "['chocolate radio edit-kylie minogue',\n",
              " 'kopf oder zahl robot koch dirty sneakers remix-jennifer rostock',\n",
              " 'hypnotic tango-master blaster',\n",
              " 'what a girl wants-christina aguilera',\n",
              " 'disappoint-assemblage 23']"
            ]
          },
          "metadata": {
            "tags": []
          },
          "execution_count": 58
        }
      ]
    },
    {
      "cell_type": "markdown",
      "metadata": {
        "id": "4dT9agocVMqQ"
      },
      "source": [
        "## $\\bullet$ sklearn"
      ]
    },
    {
      "cell_type": "code",
      "metadata": {
        "id": "omLxRHaPVMqQ"
      },
      "source": [
        "from sklearn.neighbors import NearestNeighbors\n",
        "model_knn = NearestNeighbors(metric='euclidean', algorithm='brute', n_neighbors=6, n_jobs=-1)"
      ],
      "execution_count": null,
      "outputs": []
    },
    {
      "cell_type": "code",
      "metadata": {
        "id": "PX7a3A1-VMqR",
        "outputId": "c844e7ac-1d2e-44be-c08a-65e881e51724"
      },
      "source": [
        "model_knn.fit(X)"
      ],
      "execution_count": null,
      "outputs": [
        {
          "output_type": "execute_result",
          "data": {
            "text/plain": [
              "NearestNeighbors(algorithm='brute', metric='euclidean', n_jobs=-1,\n",
              "                 n_neighbors=6)"
            ]
          },
          "metadata": {
            "tags": []
          },
          "execution_count": 50
        }
      ]
    },
    {
      "cell_type": "code",
      "metadata": {
        "id": "L1oGSM69VMqR"
      },
      "source": [
        "distances, indices = model_knn.kneighbors(X)"
      ],
      "execution_count": null,
      "outputs": []
    },
    {
      "cell_type": "code",
      "metadata": {
        "id": "2UyiQJBwVMqR",
        "outputId": "401bb611-471f-4faf-a0b0-82c4c5255b82"
      },
      "source": [
        "distances"
      ],
      "execution_count": null,
      "outputs": [
        {
          "output_type": "execute_result",
          "data": {
            "text/plain": [
              "array([[0.        , 0.40199802, 0.44097436, 0.47232311, 0.48280916,\n",
              "        0.48456294],\n",
              "       [0.        , 0.57383497, 0.58510447, 0.59344368, 0.59862051,\n",
              "        0.60228542],\n",
              "       [0.        , 0.50510739, 0.5138474 , 0.51518684, 0.52710755,\n",
              "        0.53537708],\n",
              "       ...,\n",
              "       [0.        , 0.37195483, 0.42347839, 0.42820122, 0.4303565 ,\n",
              "        0.43252473],\n",
              "       [0.        , 0.38346786, 0.41008006, 0.41196194, 0.42193785,\n",
              "        0.43385961],\n",
              "       [0.        , 0.28237379, 0.30201235, 0.38776897, 0.43866883,\n",
              "        0.45736409]])"
            ]
          },
          "metadata": {
            "tags": []
          },
          "execution_count": 52
        }
      ]
    },
    {
      "cell_type": "code",
      "metadata": {
        "id": "mr7QzQrhVMqS",
        "outputId": "f0581d63-0b33-4b81-e67c-ddc3ce457fc3"
      },
      "source": [
        "indices"
      ],
      "execution_count": null,
      "outputs": [
        {
          "output_type": "execute_result",
          "data": {
            "text/plain": [
              "array([[    0, 12353, 12058,  4581,  2171,  1168],\n",
              "       [    1, 16443, 16612,  8151, 17094, 14505],\n",
              "       [    2,  9589,  4406,  5495, 10480, 13538],\n",
              "       ...,\n",
              "       [17105,  4560, 12801,  3529,  5022, 11801],\n",
              "       [17106,  2880,  4423,  6945,  6611,  9625],\n",
              "       [17107, 14340,  2805,  1364,  1837,  4295]], dtype=int64)"
            ]
          },
          "metadata": {
            "tags": []
          },
          "execution_count": 53
        }
      ]
    },
    {
      "cell_type": "markdown",
      "metadata": {
        "id": "n8jmuDVhVMqS"
      },
      "source": [
        "### Alternativamente, considere construir un recomendador utilizando sklearn.neighbors.NearestNeighbors utilizando diferentes m ́etricas de distancia (Manhattan, Euclidiana, Similitud Coseno, etc) tomando como referencia 5 vecinos."
      ]
    },
    {
      "cell_type": "code",
      "metadata": {
        "id": "SDOEyicOVMqT"
      },
      "source": [
        "ls_distance_metrics = [\"euclidean\", \"manhattan\", \"chebyshev\", \"minkowski\"]"
      ],
      "execution_count": null,
      "outputs": []
    },
    {
      "cell_type": "code",
      "metadata": {
        "id": "TvdxWk47VMqT",
        "outputId": "0cdde318-a842-41e7-bef4-cd9b5f934478"
      },
      "source": [
        "lista=[]\n",
        "for metric in ls_distance_metrics:\n",
        "    print(metric)\n",
        "    model_knn = NearestNeighbors(metric=metric, algorithm='brute', n_neighbors=6, n_jobs=-1)\n",
        "    model_knn.fit(X)\n",
        "    lista.append(model_knn.kneighbors(X))"
      ],
      "execution_count": null,
      "outputs": [
        {
          "output_type": "stream",
          "text": [
            "euclidean\n",
            "manhattan\n",
            "chebyshev\n",
            "minkowski\n"
          ],
          "name": "stdout"
        }
      ]
    },
    {
      "cell_type": "markdown",
      "metadata": {
        "id": "fBSYUkirVMqT"
      },
      "source": [
        "## Construya una función de recomendación que dada la canción y el número de recomendaciones retorne las mejores recomendaciones."
      ]
    },
    {
      "cell_type": "code",
      "metadata": {
        "id": "ingoY9nKVMqU"
      },
      "source": [
        "def buscador(cancion,distancia):\n",
        "    index = aux[aux['title-artist'] == cancion].index.values[0]\n",
        "    if distancia == \"euclidean\":\n",
        "        ls_closest = lista[0][1][index][1:]\n",
        "    elif distancia == \"manhattan\":\n",
        "        ls_closest = lista[1][1][index][1:]\n",
        "    elif distancia == \"chebyshev\":\n",
        "        ls_closest = lista[2][1][index][1:]\n",
        "    elif distancia == \"minkowski\":\n",
        "        ls_closest = lista[3][1][index][1:]\n",
        "        \n",
        "    return aux.loc[ls_closest, \"title-artist\"].tolist()"
      ],
      "execution_count": null,
      "outputs": []
    },
    {
      "cell_type": "code",
      "metadata": {
        "id": "qC5xT9UbVMqU",
        "outputId": "dce58008-d841-4294-9cca-58bf696fe7bb"
      },
      "source": [
        "buscador('umbrella-rihanna jay z',distancia ='euclidean')"
      ],
      "execution_count": null,
      "outputs": [
        {
          "output_type": "execute_result",
          "data": {
            "text/plain": [
              "['chocolate radio edit-kylie minogue',\n",
              " 'kopf oder zahl robot koch dirty sneakers remix-jennifer rostock',\n",
              " 'hypnotic tango-master blaster',\n",
              " 'what a girl wants-christina aguilera',\n",
              " 'disappoint-assemblage 23']"
            ]
          },
          "metadata": {
            "tags": []
          },
          "execution_count": 60
        }
      ]
    },
    {
      "cell_type": "code",
      "metadata": {
        "id": "GY96ITyrVMqU",
        "outputId": "262877ff-2617-4477-d139-df1c40c16327"
      },
      "source": [
        "buscador('umbrella-rihanna jay z',distancia ='chebyshev')"
      ],
      "execution_count": null,
      "outputs": [
        {
          "output_type": "execute_result",
          "data": {
            "text/plain": [
              "['chocolate radio edit-kylie minogue',\n",
              " 'going wrong-armin van buuren',\n",
              " 'we are the people we are the cagedbaby mix uk edit-empire of the sun',\n",
              " 'invisible-jennifer hudson',\n",
              " 'get me bodied-beyonc xc3 xa9']"
            ]
          },
          "metadata": {
            "tags": []
          },
          "execution_count": 61
        }
      ]
    },
    {
      "cell_type": "code",
      "metadata": {
        "id": "diuB3hEAVMqV",
        "outputId": "1e3d0518-e793-4e6b-c64c-bded207e47a3"
      },
      "source": [
        "buscador('umbrella-rihanna jay z',distancia ='manhattan')"
      ],
      "execution_count": null,
      "outputs": [
        {
          "output_type": "execute_result",
          "data": {
            "text/plain": [
              "['kopf oder zahl robot koch dirty sneakers remix-jennifer rostock',\n",
              " 'disappoint-assemblage 23',\n",
              " 'you ll never know what it means-bananarama',\n",
              " 'chocolate radio edit-kylie minogue',\n",
              " 'mary-scissor sisters']"
            ]
          },
          "metadata": {
            "tags": []
          },
          "execution_count": 62
        }
      ]
    },
    {
      "cell_type": "code",
      "metadata": {
        "id": "M3BXyAOvVMqV",
        "outputId": "062dc462-494e-45b3-932d-c1cd2974cbb7"
      },
      "source": [
        "buscador('umbrella-rihanna jay z',distancia ='minkowski')"
      ],
      "execution_count": null,
      "outputs": [
        {
          "output_type": "execute_result",
          "data": {
            "text/plain": [
              "['chocolate radio edit-kylie minogue',\n",
              " 'kopf oder zahl robot koch dirty sneakers remix-jennifer rostock',\n",
              " 'hypnotic tango-master blaster',\n",
              " 'what a girl wants-christina aguilera',\n",
              " 'disappoint-assemblage 23']"
            ]
          },
          "metadata": {
            "tags": []
          },
          "execution_count": 63
        }
      ]
    },
    {
      "cell_type": "code",
      "metadata": {
        "id": "yW8EX-WKVMqV"
      },
      "source": [
        "buscador('umbrella-rihanna jay z',distancia ='euclidean')"
      ],
      "execution_count": null,
      "outputs": []
    },
    {
      "cell_type": "markdown",
      "metadata": {
        "id": "mPW1ydtVVMqW"
      },
      "source": [
        "# ¿Las recomendaciones son distintas?"
      ]
    },
    {
      "cell_type": "markdown",
      "metadata": {
        "id": "ekVHwwNrVMqW"
      },
      "source": [
        " ##  R = Para las métricas euclidean y minkowski las recomendaciones son iguales pero para las distancias manhattan y chebyshev los conjuntos son diferentes"
      ]
    },
    {
      "cell_type": "markdown",
      "metadata": {
        "id": "61aRC3lpVMqW"
      },
      "source": [
        "   # ¿A qué se debe dicho comportamiento?"
      ]
    },
    {
      "cell_type": "markdown",
      "metadata": {
        "id": "JQn7nbxbVMqX"
      },
      "source": [
        "# R = A que la construcción del algoritmo dada la distancia hace que varien las recomendaciones"
      ]
    },
    {
      "cell_type": "markdown",
      "metadata": {
        "id": "aM5RqlIVVMqX"
      },
      "source": [
        "# ¿Cuál es el mejor recomendador? y  ¿Bajo que criterio se eligió un recomendador sobre otro?"
      ]
    },
    {
      "cell_type": "markdown",
      "metadata": {
        "id": "py7FZcbQVMqX"
      },
      "source": [
        "## Definición de criterio de selección"
      ]
    },
    {
      "cell_type": "markdown",
      "metadata": {
        "id": "5rVKcZBuVMqX"
      },
      "source": [
        "## El racional del score de canción se define como la frecuecia de aparición de la canción en los distintos conjuntos generados a partir de las métricas antes definidas."
      ]
    },
    {
      "cell_type": "code",
      "metadata": {
        "id": "Ah0LsqpAVMqY"
      },
      "source": [
        "puntaje=pd.DataFrame(buscador('umbrella-rihanna jay z',distancia ='euclidean')+buscador('umbrella-rihanna jay z',distancia ='manhattan')+buscador('umbrella-rihanna jay z',distancia ='minkowski')+buscador('umbrella-rihanna jay z',distancia ='chebyshev'),columns=['Canciones']).value_counts()"
      ],
      "execution_count": null,
      "outputs": []
    },
    {
      "cell_type": "code",
      "metadata": {
        "id": "Ck1HLoYtVMqY"
      },
      "source": [
        "puntaje.name='puntaje'"
      ],
      "execution_count": null,
      "outputs": []
    },
    {
      "cell_type": "code",
      "metadata": {
        "id": "QMQthF36VMqY",
        "outputId": "4202daa0-8c30-49ad-ea2d-4cfa17aa1a60"
      },
      "source": [
        "euclidean=pd.DataFrame(buscador('umbrella-rihanna jay z',distancia ='euclidean'),columns=['Canciones'])\n",
        "pd.merge(euclidean,puntaje,how='inner',on='Canciones')['puntaje'].sum()"
      ],
      "execution_count": null,
      "outputs": [
        {
          "output_type": "execute_result",
          "data": {
            "text/plain": [
              "14"
            ]
          },
          "metadata": {
            "tags": []
          },
          "execution_count": 66
        }
      ]
    },
    {
      "cell_type": "code",
      "metadata": {
        "id": "JTHcUhzRVMqZ",
        "outputId": "890848a6-3c1b-4e3d-df92-7db17d7999ad"
      },
      "source": [
        "minkowski=pd.DataFrame(buscador('umbrella-rihanna jay z',distancia ='minkowski'),columns=['Canciones'])\n",
        "pd.merge(minkowski,puntaje,how='inner',on='Canciones')['puntaje'].sum()"
      ],
      "execution_count": null,
      "outputs": [
        {
          "output_type": "execute_result",
          "data": {
            "text/plain": [
              "14"
            ]
          },
          "metadata": {
            "tags": []
          },
          "execution_count": 67
        }
      ]
    },
    {
      "cell_type": "code",
      "metadata": {
        "id": "hoQ7uO0vVMqZ",
        "outputId": "91befaa5-bd31-4abf-b6ad-f47cecace9d6"
      },
      "source": [
        "chebyshev=pd.DataFrame(buscador('umbrella-rihanna jay z',distancia ='chebyshev'),columns=['Canciones'])\n",
        "pd.merge(chebyshev,puntaje,how='inner',on='Canciones')['puntaje'].sum()"
      ],
      "execution_count": null,
      "outputs": [
        {
          "output_type": "execute_result",
          "data": {
            "text/plain": [
              "8"
            ]
          },
          "metadata": {
            "tags": []
          },
          "execution_count": 68
        }
      ]
    },
    {
      "cell_type": "code",
      "metadata": {
        "id": "WDfL0i6lVMqZ",
        "outputId": "6c5b4102-4e50-49ac-91b8-744197e8a7f1"
      },
      "source": [
        "manhattan=pd.DataFrame(buscador('umbrella-rihanna jay z',distancia ='manhattan'),columns=['Canciones'])\n",
        "pd.merge(manhattan,puntaje,how='inner',on='Canciones')['puntaje'].sum()"
      ],
      "execution_count": null,
      "outputs": [
        {
          "output_type": "execute_result",
          "data": {
            "text/plain": [
              "12"
            ]
          },
          "metadata": {
            "tags": []
          },
          "execution_count": 69
        }
      ]
    },
    {
      "cell_type": "markdown",
      "metadata": {
        "id": "X2BsHJZkVMqa"
      },
      "source": [
        "## Conclusión: Notamos que los recomendadores ganadores son los creados a partir de métricas euclideana y minkowski. "
      ]
    }
  ]
}