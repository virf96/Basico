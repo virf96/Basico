{
  "nbformat": 4,
  "nbformat_minor": 0,
  "metadata": {
    "kernelspec": {
      "display_name": "diplo_env",
      "language": "python",
      "name": "diplo_env"
    },
    "language_info": {
      "codemirror_mode": {
        "name": "ipython",
        "version": 3
      },
      "file_extension": ".py",
      "mimetype": "text/x-python",
      "name": "python",
      "nbconvert_exporter": "python",
      "pygments_lexer": "ipython3",
      "version": "3.6.11"
    },
    "varInspector": {
      "cols": {
        "lenName": 16,
        "lenType": 16,
        "lenVar": 40
      },
      "kernels_config": {
        "python": {
          "delete_cmd_postfix": "",
          "delete_cmd_prefix": "del ",
          "library": "var_list.py",
          "varRefreshCmd": "print(var_dic_list())"
        },
        "r": {
          "delete_cmd_postfix": ") ",
          "delete_cmd_prefix": "rm(",
          "library": "var_list.r",
          "varRefreshCmd": "cat(var_dic_list()) "
        }
      },
      "types_to_exclude": [
        "module",
        "function",
        "builtin_function_or_method",
        "instance",
        "_Feature"
      ],
      "window_display": false
    },
    "colab": {
      "name": "tackling-class-imbalance.ipynb",
      "provenance": [],
      "toc_visible": true,
      "include_colab_link": true
    }
  },
  "cells": [
    {
      "cell_type": "markdown",
      "metadata": {
        "id": "view-in-github",
        "colab_type": "text"
      },
      "source": [
        "<a href=\"https://colab.research.google.com/github/virf96/Basico/blob/main/tackling_class_imbalance.ipynb\" target=\"_parent\"><img src=\"https://colab.research.google.com/assets/colab-badge.svg\" alt=\"Open In Colab\"/></a>"
      ]
    },
    {
      "cell_type": "markdown",
      "metadata": {
        "id": "rQ-AhFi2PGpp"
      },
      "source": [
        "## Loading Required libraries"
      ]
    },
    {
      "cell_type": "code",
      "metadata": {
        "ExecuteTime": {
          "end_time": "2021-01-23T14:46:49.125777Z",
          "start_time": "2021-01-23T14:46:47.943511Z"
        },
        "_cell_guid": "b1076dfc-b9ad-4769-8c92-a6c4dae69d19",
        "_kg_hide-input": true,
        "_uuid": "8f2839f25d086af736a60e9eeb907d3b93b6e0e5",
        "execution": {
          "iopub.execute_input": "2021-01-23T08:50:19.853817Z",
          "iopub.status.busy": "2021-01-23T08:50:19.852816Z",
          "iopub.status.idle": "2021-01-23T08:50:20.597493Z",
          "shell.execute_reply": "2021-01-23T08:50:20.596492Z",
          "shell.execute_reply.started": "2021-01-23T08:50:19.853817Z"
        },
        "id": "nU_G2wXmPGpr"
      },
      "source": [
        "import pandas as pd\n",
        "import numpy as np\n",
        "import matplotlib.pyplot as plt\n",
        "import seaborn as sns\n",
        "from sklearn.preprocessing import LabelEncoder\n",
        "from sklearn.utils import resample\n",
        "from sklearn.metrics import roc_auc_score,precision_recall_curve,roc_curve,f1_score\n",
        "from sklearn.model_selection import train_test_split\n",
        "from sklearn.linear_model import LogisticRegression\n",
        "import matplotlib.patches as mpatches\n",
        "from sklearn.metrics import confusion_matrix"
      ],
      "execution_count": 15,
      "outputs": []
    },
    {
      "cell_type": "markdown",
      "metadata": {
        "id": "CzASEUKpPGps"
      },
      "source": [
        "## Loading Data"
      ]
    },
    {
      "cell_type": "code",
      "metadata": {
        "colab": {
          "base_uri": "https://localhost:8080/"
        },
        "id": "vRfsYxO519_o",
        "outputId": "336afccb-a656-49bd-aff1-a2fb23e1f0ad"
      },
      "source": [
        "from google.colab import drive\n",
        "drive.mount('/content/drive')"
      ],
      "execution_count": 16,
      "outputs": [
        {
          "output_type": "stream",
          "text": [
            "Drive already mounted at /content/drive; to attempt to forcibly remount, call drive.mount(\"/content/drive\", force_remount=True).\n"
          ],
          "name": "stdout"
        }
      ]
    },
    {
      "cell_type": "code",
      "metadata": {
        "ExecuteTime": {
          "end_time": "2021-01-23T14:46:52.457906Z",
          "start_time": "2021-01-23T14:46:51.993308Z"
        },
        "_cell_guid": "79c7e3d0-c299-4dcb-8224-4455121ee9b0",
        "_kg_hide-input": true,
        "_uuid": "d629ff2d2480ee46fbb7e2d37f6b5fab8052498a",
        "execution": {
          "iopub.execute_input": "2021-01-23T08:50:21.111961Z",
          "iopub.status.busy": "2021-01-23T08:50:21.110960Z",
          "iopub.status.idle": "2021-01-23T08:50:21.215055Z",
          "shell.execute_reply": "2021-01-23T08:50:21.215055Z",
          "shell.execute_reply.started": "2021-01-23T08:50:21.111961Z"
        },
        "id": "pf0DzCYpPGpt",
        "colab": {
          "base_uri": "https://localhost:8080/"
        },
        "outputId": "60f0092a-c993-4cb7-f2f3-602a59420e65"
      },
      "source": [
        "#Siempre es mejor guardar los datos en formayo .pkl, mantiene el procesamiento de variables\n",
        "train_transactions=pd.read_pickle('/content/drive/MyDrive/datasets/transactions_sample.pkl')\n",
        "print('Train data set is loaded !')"
      ],
      "execution_count": 17,
      "outputs": [
        {
          "output_type": "stream",
          "text": [
            "Train data set is loaded !\n"
          ],
          "name": "stdout"
        }
      ]
    },
    {
      "cell_type": "markdown",
      "metadata": {
        "id": "QzB6hyAwPGpu"
      },
      "source": [
        "<div align='left'><font size='4' color='#229954'>Getting basic Idea</font></div>"
      ]
    },
    {
      "cell_type": "code",
      "metadata": {
        "ExecuteTime": {
          "end_time": "2021-01-23T14:53:00.671240Z",
          "start_time": "2021-01-23T14:53:00.568193Z"
        },
        "execution": {
          "iopub.execute_input": "2021-01-23T08:50:22.045810Z",
          "iopub.status.busy": "2021-01-23T08:50:22.045810Z",
          "iopub.status.idle": "2021-01-23T08:50:22.069832Z",
          "shell.execute_reply": "2021-01-23T08:50:22.069832Z",
          "shell.execute_reply.started": "2021-01-23T08:50:22.045810Z"
        },
        "id": "YCjNbhp1PGpv",
        "colab": {
          "base_uri": "https://localhost:8080/",
          "height": 238
        },
        "outputId": "411823ad-5323-4796-f555-63c269d2ae77"
      },
      "source": [
        "train_transactions.head()"
      ],
      "execution_count": 18,
      "outputs": [
        {
          "output_type": "execute_result",
          "data": {
            "text/html": [
              "<div>\n",
              "<style scoped>\n",
              "    .dataframe tbody tr th:only-of-type {\n",
              "        vertical-align: middle;\n",
              "    }\n",
              "\n",
              "    .dataframe tbody tr th {\n",
              "        vertical-align: top;\n",
              "    }\n",
              "\n",
              "    .dataframe thead th {\n",
              "        text-align: right;\n",
              "    }\n",
              "</style>\n",
              "<table border=\"1\" class=\"dataframe\">\n",
              "  <thead>\n",
              "    <tr style=\"text-align: right;\">\n",
              "      <th></th>\n",
              "      <th>TransactionID</th>\n",
              "      <th>isFraud</th>\n",
              "      <th>TransactionDT</th>\n",
              "      <th>TransactionAmt</th>\n",
              "      <th>card1</th>\n",
              "      <th>card2</th>\n",
              "      <th>card3</th>\n",
              "      <th>card5</th>\n",
              "      <th>addr1</th>\n",
              "      <th>addr2</th>\n",
              "      <th>dist1</th>\n",
              "      <th>dist2</th>\n",
              "      <th>C1</th>\n",
              "      <th>C2</th>\n",
              "      <th>C3</th>\n",
              "      <th>C4</th>\n",
              "      <th>C5</th>\n",
              "      <th>C6</th>\n",
              "      <th>C7</th>\n",
              "      <th>C8</th>\n",
              "      <th>C9</th>\n",
              "      <th>C10</th>\n",
              "      <th>C11</th>\n",
              "      <th>C12</th>\n",
              "      <th>C13</th>\n",
              "      <th>C14</th>\n",
              "      <th>D1</th>\n",
              "      <th>D2</th>\n",
              "      <th>D3</th>\n",
              "      <th>D4</th>\n",
              "      <th>D5</th>\n",
              "      <th>D6</th>\n",
              "      <th>D7</th>\n",
              "      <th>D8</th>\n",
              "      <th>D9</th>\n",
              "      <th>D10</th>\n",
              "      <th>D11</th>\n",
              "      <th>D12</th>\n",
              "      <th>D13</th>\n",
              "      <th>D14</th>\n",
              "      <th>...</th>\n",
              "      <th>V300</th>\n",
              "      <th>V301</th>\n",
              "      <th>V302</th>\n",
              "      <th>V303</th>\n",
              "      <th>V304</th>\n",
              "      <th>V305</th>\n",
              "      <th>V306</th>\n",
              "      <th>V307</th>\n",
              "      <th>V308</th>\n",
              "      <th>V309</th>\n",
              "      <th>V310</th>\n",
              "      <th>V311</th>\n",
              "      <th>V312</th>\n",
              "      <th>V313</th>\n",
              "      <th>V314</th>\n",
              "      <th>V315</th>\n",
              "      <th>V316</th>\n",
              "      <th>V317</th>\n",
              "      <th>V318</th>\n",
              "      <th>V319</th>\n",
              "      <th>V320</th>\n",
              "      <th>V321</th>\n",
              "      <th>V322</th>\n",
              "      <th>V323</th>\n",
              "      <th>V324</th>\n",
              "      <th>V325</th>\n",
              "      <th>V326</th>\n",
              "      <th>V327</th>\n",
              "      <th>V328</th>\n",
              "      <th>V329</th>\n",
              "      <th>V330</th>\n",
              "      <th>V331</th>\n",
              "      <th>V332</th>\n",
              "      <th>V333</th>\n",
              "      <th>V334</th>\n",
              "      <th>V335</th>\n",
              "      <th>V336</th>\n",
              "      <th>V337</th>\n",
              "      <th>V338</th>\n",
              "      <th>V339</th>\n",
              "    </tr>\n",
              "  </thead>\n",
              "  <tbody>\n",
              "    <tr>\n",
              "      <th>519050</th>\n",
              "      <td>3506050</td>\n",
              "      <td>0</td>\n",
              "      <td>13626390</td>\n",
              "      <td>44.00</td>\n",
              "      <td>9992</td>\n",
              "      <td>455.0</td>\n",
              "      <td>150.0</td>\n",
              "      <td>126.0</td>\n",
              "      <td>143.0</td>\n",
              "      <td>87.0</td>\n",
              "      <td>40.0</td>\n",
              "      <td>NaN</td>\n",
              "      <td>1.0</td>\n",
              "      <td>2.0</td>\n",
              "      <td>0.0</td>\n",
              "      <td>0.0</td>\n",
              "      <td>0.0</td>\n",
              "      <td>2.0</td>\n",
              "      <td>0.0</td>\n",
              "      <td>0.0</td>\n",
              "      <td>1.0</td>\n",
              "      <td>0.0</td>\n",
              "      <td>2.0</td>\n",
              "      <td>1.0</td>\n",
              "      <td>3.0</td>\n",
              "      <td>1.0</td>\n",
              "      <td>239.0</td>\n",
              "      <td>7.0</td>\n",
              "      <td>7.0</td>\n",
              "      <td>8.0</td>\n",
              "      <td>7.0</td>\n",
              "      <td>NaN</td>\n",
              "      <td>NaN</td>\n",
              "      <td>NaN</td>\n",
              "      <td>NaN</td>\n",
              "      <td>8.0</td>\n",
              "      <td>8.0</td>\n",
              "      <td>NaN</td>\n",
              "      <td>NaN</td>\n",
              "      <td>NaN</td>\n",
              "      <td>...</td>\n",
              "      <td>0.0</td>\n",
              "      <td>0.0</td>\n",
              "      <td>0.0</td>\n",
              "      <td>0.0</td>\n",
              "      <td>0.0</td>\n",
              "      <td>1.0</td>\n",
              "      <td>0.0</td>\n",
              "      <td>35.0</td>\n",
              "      <td>0.0</td>\n",
              "      <td>0.0</td>\n",
              "      <td>35.0</td>\n",
              "      <td>0.0</td>\n",
              "      <td>0.0</td>\n",
              "      <td>0.0</td>\n",
              "      <td>0.0</td>\n",
              "      <td>0.0</td>\n",
              "      <td>0.0</td>\n",
              "      <td>0.0</td>\n",
              "      <td>0.0</td>\n",
              "      <td>0.0</td>\n",
              "      <td>0.0</td>\n",
              "      <td>0.0</td>\n",
              "      <td>NaN</td>\n",
              "      <td>NaN</td>\n",
              "      <td>NaN</td>\n",
              "      <td>NaN</td>\n",
              "      <td>NaN</td>\n",
              "      <td>NaN</td>\n",
              "      <td>NaN</td>\n",
              "      <td>NaN</td>\n",
              "      <td>NaN</td>\n",
              "      <td>NaN</td>\n",
              "      <td>NaN</td>\n",
              "      <td>NaN</td>\n",
              "      <td>NaN</td>\n",
              "      <td>NaN</td>\n",
              "      <td>NaN</td>\n",
              "      <td>NaN</td>\n",
              "      <td>NaN</td>\n",
              "      <td>NaN</td>\n",
              "    </tr>\n",
              "    <tr>\n",
              "      <th>101510</th>\n",
              "      <td>3088510</td>\n",
              "      <td>0</td>\n",
              "      <td>2048542</td>\n",
              "      <td>50.00</td>\n",
              "      <td>12883</td>\n",
              "      <td>404.0</td>\n",
              "      <td>150.0</td>\n",
              "      <td>226.0</td>\n",
              "      <td>387.0</td>\n",
              "      <td>87.0</td>\n",
              "      <td>NaN</td>\n",
              "      <td>NaN</td>\n",
              "      <td>1.0</td>\n",
              "      <td>1.0</td>\n",
              "      <td>0.0</td>\n",
              "      <td>1.0</td>\n",
              "      <td>0.0</td>\n",
              "      <td>1.0</td>\n",
              "      <td>0.0</td>\n",
              "      <td>1.0</td>\n",
              "      <td>0.0</td>\n",
              "      <td>1.0</td>\n",
              "      <td>1.0</td>\n",
              "      <td>0.0</td>\n",
              "      <td>1.0</td>\n",
              "      <td>1.0</td>\n",
              "      <td>0.0</td>\n",
              "      <td>NaN</td>\n",
              "      <td>NaN</td>\n",
              "      <td>NaN</td>\n",
              "      <td>NaN</td>\n",
              "      <td>0.0</td>\n",
              "      <td>NaN</td>\n",
              "      <td>534.708313</td>\n",
              "      <td>0.708333</td>\n",
              "      <td>NaN</td>\n",
              "      <td>NaN</td>\n",
              "      <td>NaN</td>\n",
              "      <td>NaN</td>\n",
              "      <td>NaN</td>\n",
              "      <td>...</td>\n",
              "      <td>0.0</td>\n",
              "      <td>0.0</td>\n",
              "      <td>1.0</td>\n",
              "      <td>1.0</td>\n",
              "      <td>1.0</td>\n",
              "      <td>1.0</td>\n",
              "      <td>0.0</td>\n",
              "      <td>0.0</td>\n",
              "      <td>0.0</td>\n",
              "      <td>0.0</td>\n",
              "      <td>0.0</td>\n",
              "      <td>0.0</td>\n",
              "      <td>0.0</td>\n",
              "      <td>0.0</td>\n",
              "      <td>0.0</td>\n",
              "      <td>0.0</td>\n",
              "      <td>0.0</td>\n",
              "      <td>0.0</td>\n",
              "      <td>0.0</td>\n",
              "      <td>0.0</td>\n",
              "      <td>0.0</td>\n",
              "      <td>0.0</td>\n",
              "      <td>0.0</td>\n",
              "      <td>0.0</td>\n",
              "      <td>0.0</td>\n",
              "      <td>0.0</td>\n",
              "      <td>0.0</td>\n",
              "      <td>0.0</td>\n",
              "      <td>0.0</td>\n",
              "      <td>0.0</td>\n",
              "      <td>0.0</td>\n",
              "      <td>0.0</td>\n",
              "      <td>0.0</td>\n",
              "      <td>0.0</td>\n",
              "      <td>0.0</td>\n",
              "      <td>0.0</td>\n",
              "      <td>0.0</td>\n",
              "      <td>0.0</td>\n",
              "      <td>0.0</td>\n",
              "      <td>0.0</td>\n",
              "    </tr>\n",
              "    <tr>\n",
              "      <th>86241</th>\n",
              "      <td>3073241</td>\n",
              "      <td>1</td>\n",
              "      <td>1816041</td>\n",
              "      <td>250.00</td>\n",
              "      <td>10486</td>\n",
              "      <td>514.0</td>\n",
              "      <td>150.0</td>\n",
              "      <td>219.0</td>\n",
              "      <td>325.0</td>\n",
              "      <td>87.0</td>\n",
              "      <td>NaN</td>\n",
              "      <td>NaN</td>\n",
              "      <td>1.0</td>\n",
              "      <td>1.0</td>\n",
              "      <td>0.0</td>\n",
              "      <td>1.0</td>\n",
              "      <td>0.0</td>\n",
              "      <td>1.0</td>\n",
              "      <td>0.0</td>\n",
              "      <td>1.0</td>\n",
              "      <td>0.0</td>\n",
              "      <td>1.0</td>\n",
              "      <td>1.0</td>\n",
              "      <td>0.0</td>\n",
              "      <td>0.0</td>\n",
              "      <td>0.0</td>\n",
              "      <td>0.0</td>\n",
              "      <td>NaN</td>\n",
              "      <td>NaN</td>\n",
              "      <td>NaN</td>\n",
              "      <td>NaN</td>\n",
              "      <td>NaN</td>\n",
              "      <td>NaN</td>\n",
              "      <td>NaN</td>\n",
              "      <td>NaN</td>\n",
              "      <td>NaN</td>\n",
              "      <td>NaN</td>\n",
              "      <td>NaN</td>\n",
              "      <td>NaN</td>\n",
              "      <td>253.0</td>\n",
              "      <td>...</td>\n",
              "      <td>0.0</td>\n",
              "      <td>0.0</td>\n",
              "      <td>1.0</td>\n",
              "      <td>1.0</td>\n",
              "      <td>1.0</td>\n",
              "      <td>1.0</td>\n",
              "      <td>0.0</td>\n",
              "      <td>0.0</td>\n",
              "      <td>0.0</td>\n",
              "      <td>0.0</td>\n",
              "      <td>0.0</td>\n",
              "      <td>0.0</td>\n",
              "      <td>0.0</td>\n",
              "      <td>0.0</td>\n",
              "      <td>0.0</td>\n",
              "      <td>0.0</td>\n",
              "      <td>0.0</td>\n",
              "      <td>0.0</td>\n",
              "      <td>0.0</td>\n",
              "      <td>0.0</td>\n",
              "      <td>0.0</td>\n",
              "      <td>0.0</td>\n",
              "      <td>0.0</td>\n",
              "      <td>0.0</td>\n",
              "      <td>0.0</td>\n",
              "      <td>0.0</td>\n",
              "      <td>0.0</td>\n",
              "      <td>0.0</td>\n",
              "      <td>0.0</td>\n",
              "      <td>0.0</td>\n",
              "      <td>0.0</td>\n",
              "      <td>0.0</td>\n",
              "      <td>0.0</td>\n",
              "      <td>0.0</td>\n",
              "      <td>0.0</td>\n",
              "      <td>0.0</td>\n",
              "      <td>0.0</td>\n",
              "      <td>0.0</td>\n",
              "      <td>0.0</td>\n",
              "      <td>0.0</td>\n",
              "    </tr>\n",
              "    <tr>\n",
              "      <th>74832</th>\n",
              "      <td>3061832</td>\n",
              "      <td>0</td>\n",
              "      <td>1641841</td>\n",
              "      <td>515.65</td>\n",
              "      <td>17188</td>\n",
              "      <td>321.0</td>\n",
              "      <td>150.0</td>\n",
              "      <td>226.0</td>\n",
              "      <td>299.0</td>\n",
              "      <td>87.0</td>\n",
              "      <td>NaN</td>\n",
              "      <td>NaN</td>\n",
              "      <td>1.0</td>\n",
              "      <td>1.0</td>\n",
              "      <td>0.0</td>\n",
              "      <td>0.0</td>\n",
              "      <td>1.0</td>\n",
              "      <td>1.0</td>\n",
              "      <td>0.0</td>\n",
              "      <td>0.0</td>\n",
              "      <td>0.0</td>\n",
              "      <td>0.0</td>\n",
              "      <td>1.0</td>\n",
              "      <td>0.0</td>\n",
              "      <td>1.0</td>\n",
              "      <td>1.0</td>\n",
              "      <td>0.0</td>\n",
              "      <td>NaN</td>\n",
              "      <td>NaN</td>\n",
              "      <td>0.0</td>\n",
              "      <td>NaN</td>\n",
              "      <td>NaN</td>\n",
              "      <td>NaN</td>\n",
              "      <td>NaN</td>\n",
              "      <td>NaN</td>\n",
              "      <td>0.0</td>\n",
              "      <td>NaN</td>\n",
              "      <td>NaN</td>\n",
              "      <td>NaN</td>\n",
              "      <td>NaN</td>\n",
              "      <td>...</td>\n",
              "      <td>0.0</td>\n",
              "      <td>0.0</td>\n",
              "      <td>0.0</td>\n",
              "      <td>0.0</td>\n",
              "      <td>0.0</td>\n",
              "      <td>1.0</td>\n",
              "      <td>0.0</td>\n",
              "      <td>0.0</td>\n",
              "      <td>0.0</td>\n",
              "      <td>0.0</td>\n",
              "      <td>0.0</td>\n",
              "      <td>0.0</td>\n",
              "      <td>0.0</td>\n",
              "      <td>0.0</td>\n",
              "      <td>0.0</td>\n",
              "      <td>0.0</td>\n",
              "      <td>0.0</td>\n",
              "      <td>0.0</td>\n",
              "      <td>0.0</td>\n",
              "      <td>0.0</td>\n",
              "      <td>0.0</td>\n",
              "      <td>0.0</td>\n",
              "      <td>NaN</td>\n",
              "      <td>NaN</td>\n",
              "      <td>NaN</td>\n",
              "      <td>NaN</td>\n",
              "      <td>NaN</td>\n",
              "      <td>NaN</td>\n",
              "      <td>NaN</td>\n",
              "      <td>NaN</td>\n",
              "      <td>NaN</td>\n",
              "      <td>NaN</td>\n",
              "      <td>NaN</td>\n",
              "      <td>NaN</td>\n",
              "      <td>NaN</td>\n",
              "      <td>NaN</td>\n",
              "      <td>NaN</td>\n",
              "      <td>NaN</td>\n",
              "      <td>NaN</td>\n",
              "      <td>NaN</td>\n",
              "    </tr>\n",
              "    <tr>\n",
              "      <th>112387</th>\n",
              "      <td>3099387</td>\n",
              "      <td>0</td>\n",
              "      <td>2184361</td>\n",
              "      <td>36.95</td>\n",
              "      <td>7005</td>\n",
              "      <td>111.0</td>\n",
              "      <td>150.0</td>\n",
              "      <td>226.0</td>\n",
              "      <td>310.0</td>\n",
              "      <td>87.0</td>\n",
              "      <td>NaN</td>\n",
              "      <td>NaN</td>\n",
              "      <td>1.0</td>\n",
              "      <td>2.0</td>\n",
              "      <td>0.0</td>\n",
              "      <td>0.0</td>\n",
              "      <td>2.0</td>\n",
              "      <td>0.0</td>\n",
              "      <td>0.0</td>\n",
              "      <td>0.0</td>\n",
              "      <td>1.0</td>\n",
              "      <td>0.0</td>\n",
              "      <td>1.0</td>\n",
              "      <td>0.0</td>\n",
              "      <td>2.0</td>\n",
              "      <td>1.0</td>\n",
              "      <td>236.0</td>\n",
              "      <td>236.0</td>\n",
              "      <td>236.0</td>\n",
              "      <td>NaN</td>\n",
              "      <td>NaN</td>\n",
              "      <td>NaN</td>\n",
              "      <td>NaN</td>\n",
              "      <td>NaN</td>\n",
              "      <td>NaN</td>\n",
              "      <td>0.0</td>\n",
              "      <td>NaN</td>\n",
              "      <td>NaN</td>\n",
              "      <td>NaN</td>\n",
              "      <td>NaN</td>\n",
              "      <td>...</td>\n",
              "      <td>0.0</td>\n",
              "      <td>0.0</td>\n",
              "      <td>0.0</td>\n",
              "      <td>0.0</td>\n",
              "      <td>0.0</td>\n",
              "      <td>1.0</td>\n",
              "      <td>0.0</td>\n",
              "      <td>0.0</td>\n",
              "      <td>0.0</td>\n",
              "      <td>0.0</td>\n",
              "      <td>0.0</td>\n",
              "      <td>0.0</td>\n",
              "      <td>0.0</td>\n",
              "      <td>0.0</td>\n",
              "      <td>0.0</td>\n",
              "      <td>0.0</td>\n",
              "      <td>0.0</td>\n",
              "      <td>0.0</td>\n",
              "      <td>0.0</td>\n",
              "      <td>0.0</td>\n",
              "      <td>0.0</td>\n",
              "      <td>0.0</td>\n",
              "      <td>NaN</td>\n",
              "      <td>NaN</td>\n",
              "      <td>NaN</td>\n",
              "      <td>NaN</td>\n",
              "      <td>NaN</td>\n",
              "      <td>NaN</td>\n",
              "      <td>NaN</td>\n",
              "      <td>NaN</td>\n",
              "      <td>NaN</td>\n",
              "      <td>NaN</td>\n",
              "      <td>NaN</td>\n",
              "      <td>NaN</td>\n",
              "      <td>NaN</td>\n",
              "      <td>NaN</td>\n",
              "      <td>NaN</td>\n",
              "      <td>NaN</td>\n",
              "      <td>NaN</td>\n",
              "      <td>NaN</td>\n",
              "    </tr>\n",
              "  </tbody>\n",
              "</table>\n",
              "<p>5 rows × 380 columns</p>\n",
              "</div>"
            ],
            "text/plain": [
              "        TransactionID  isFraud  TransactionDT  ...  V337  V338  V339\n",
              "519050        3506050        0       13626390  ...   NaN   NaN   NaN\n",
              "101510        3088510        0        2048542  ...   0.0   0.0   0.0\n",
              "86241         3073241        1        1816041  ...   0.0   0.0   0.0\n",
              "74832         3061832        0        1641841  ...   NaN   NaN   NaN\n",
              "112387        3099387        0        2184361  ...   NaN   NaN   NaN\n",
              "\n",
              "[5 rows x 380 columns]"
            ]
          },
          "metadata": {
            "tags": []
          },
          "execution_count": 18
        }
      ]
    },
    {
      "cell_type": "code",
      "metadata": {
        "ExecuteTime": {
          "end_time": "2021-01-23T14:53:41.377700Z",
          "start_time": "2021-01-23T14:53:41.343565Z"
        },
        "execution": {
          "iopub.execute_input": "2021-01-23T08:50:22.379113Z",
          "iopub.status.busy": "2021-01-23T08:50:22.378112Z",
          "iopub.status.idle": "2021-01-23T08:50:22.403135Z",
          "shell.execute_reply": "2021-01-23T08:50:22.402134Z",
          "shell.execute_reply.started": "2021-01-23T08:50:22.379113Z"
        },
        "id": "tfrUH7unPGpv",
        "colab": {
          "base_uri": "https://localhost:8080/"
        },
        "outputId": "5a4db6a0-e1c1-48aa-a8a2-ac1a0adea5f1"
      },
      "source": [
        "train_transactions.info()"
      ],
      "execution_count": 19,
      "outputs": [
        {
          "output_type": "stream",
          "text": [
            "<class 'pandas.core.frame.DataFrame'>\n",
            "Int64Index: 59054 entries, 519050 to 255462\n",
            "Columns: 380 entries, TransactionID to V339\n",
            "dtypes: float64(376), int64(4)\n",
            "memory usage: 171.7 MB\n"
          ],
          "name": "stdout"
        }
      ]
    },
    {
      "cell_type": "markdown",
      "metadata": {
        "id": "IR2CB9t9PGpw"
      },
      "source": [
        "<div align='left'><font size='4' color='#229954'>Target variable</font></div>\n"
      ]
    },
    {
      "cell_type": "code",
      "metadata": {
        "ExecuteTime": {
          "end_time": "2021-01-23T14:54:06.041938Z",
          "start_time": "2021-01-23T14:54:05.835182Z"
        },
        "execution": {
          "iopub.execute_input": "2021-01-23T08:50:23.169832Z",
          "iopub.status.busy": "2021-01-23T08:50:23.169832Z",
          "iopub.status.idle": "2021-01-23T08:50:23.282935Z",
          "shell.execute_reply": "2021-01-23T08:50:23.282935Z",
          "shell.execute_reply.started": "2021-01-23T08:50:23.169832Z"
        },
        "id": "mSMXCZPlPGpw",
        "colab": {
          "base_uri": "https://localhost:8080/",
          "height": 350
        },
        "outputId": "9de75494-435c-4c0f-d374-ca3825e50691"
      },
      "source": [
        "x=train_transactions['isFraud'].value_counts().values\n",
        "sns.barplot([0,1],x)\n",
        "plt.title('Target variable count')\n"
      ],
      "execution_count": 20,
      "outputs": [
        {
          "output_type": "stream",
          "text": [
            "/usr/local/lib/python3.6/dist-packages/seaborn/_decorators.py:43: FutureWarning: Pass the following variables as keyword args: x, y. From version 0.12, the only valid positional argument will be `data`, and passing other arguments without an explicit keyword will result in an error or misinterpretation.\n",
            "  FutureWarning\n"
          ],
          "name": "stderr"
        },
        {
          "output_type": "execute_result",
          "data": {
            "text/plain": [
              "Text(0.5, 1.0, 'Target variable count')"
            ]
          },
          "metadata": {
            "tags": []
          },
          "execution_count": 20
        },
        {
          "output_type": "display_data",
          "data": {
            "image/png": "[encoded data removed]",
            "text/plain": [
              "<Figure size 432x288 with 1 Axes>"
            ]
          },
          "metadata": {
            "tags": [],
            "needs_background": "light"
          }
        }
      ]
    },
    {
      "cell_type": "code",
      "metadata": {
        "ExecuteTime": {
          "end_time": "2021-01-23T14:56:21.426137Z",
          "start_time": "2021-01-23T14:56:21.367407Z"
        },
        "execution": {
          "iopub.execute_input": "2021-01-23T08:50:23.921515Z",
          "iopub.status.busy": "2021-01-23T08:50:23.921515Z",
          "iopub.status.idle": "2021-01-23T08:50:23.992580Z",
          "shell.execute_reply": "2021-01-23T08:50:23.991579Z",
          "shell.execute_reply.started": "2021-01-23T08:50:23.921515Z"
        },
        "id": "UeAdj7ewPGpx"
      },
      "source": [
        "train_transactions.drop(columns  = [\"TransactionID\",\"TransactionDT\"],inplace=True)"
      ],
      "execution_count": 21,
      "outputs": []
    },
    {
      "cell_type": "code",
      "metadata": {
        "ExecuteTime": {
          "end_time": "2021-01-23T14:56:41.343749Z",
          "start_time": "2021-01-23T14:56:41.336019Z"
        },
        "execution": {
          "iopub.execute_input": "2021-01-23T08:50:24.157730Z",
          "iopub.status.busy": "2021-01-23T08:50:24.156729Z",
          "iopub.status.idle": "2021-01-23T08:50:24.165737Z",
          "shell.execute_reply": "2021-01-23T08:50:24.164736Z",
          "shell.execute_reply.started": "2021-01-23T08:50:24.157730Z"
        },
        "id": "pImcrOP6PGpy"
      },
      "source": [
        "target = \"isFraud\""
      ],
      "execution_count": 22,
      "outputs": []
    },
    {
      "cell_type": "code",
      "metadata": {
        "ExecuteTime": {
          "end_time": "2021-01-23T14:56:49.498817Z",
          "start_time": "2021-01-23T14:56:49.412034Z"
        },
        "execution": {
          "iopub.execute_input": "2021-01-23T08:50:24.378931Z",
          "iopub.status.busy": "2021-01-23T08:50:24.377930Z",
          "iopub.status.idle": "2021-01-23T08:50:24.434982Z",
          "shell.execute_reply": "2021-01-23T08:50:24.433982Z",
          "shell.execute_reply.started": "2021-01-23T08:50:24.378931Z"
        },
        "id": "BykmH6QEPGpy"
      },
      "source": [
        "X = train_transactions.drop(target,axis=1)\n",
        "y = train_transactions[target]"
      ],
      "execution_count": 23,
      "outputs": []
    },
    {
      "cell_type": "code",
      "metadata": {
        "ExecuteTime": {
          "end_time": "2021-01-23T14:57:00.940350Z",
          "start_time": "2021-01-23T14:57:00.725129Z"
        },
        "execution": {
          "iopub.execute_input": "2021-01-23T08:50:24.584118Z",
          "iopub.status.busy": "2021-01-23T08:50:24.584118Z",
          "iopub.status.idle": "2021-01-23T08:50:24.810324Z",
          "shell.execute_reply": "2021-01-23T08:50:24.809322Z",
          "shell.execute_reply.started": "2021-01-23T08:50:24.584118Z"
        },
        "id": "q-QwSeacPGpy"
      },
      "source": [
        "#Hacemos cortes de entrenamiento y prueba\r\n",
        "X_train,X_test,y_train,y_test=train_test_split(X,y,test_size=.2,random_state=1)"
      ],
      "execution_count": 24,
      "outputs": []
    },
    {
      "cell_type": "code",
      "metadata": {
        "colab": {
          "base_uri": "https://localhost:8080/"
        },
        "id": "J-DjnuP27U1M",
        "outputId": "bfe54e83-f986-470a-d48b-7319f1bac87c"
      },
      "source": [
        "X_train.isnull().mean()"
      ],
      "execution_count": 26,
      "outputs": [
        {
          "output_type": "execute_result",
          "data": {
            "text/plain": [
              "TransactionAmt    0.000000\n",
              "card1             0.000000\n",
              "card2             0.014055\n",
              "card3             0.002286\n",
              "card5             0.006943\n",
              "                    ...   \n",
              "V335              0.862159\n",
              "V336              0.862159\n",
              "V337              0.862159\n",
              "V338              0.862159\n",
              "V339              0.862159\n",
              "Length: 377, dtype: float64"
            ]
          },
          "metadata": {
            "tags": []
          },
          "execution_count": 26
        }
      ]
    },
    {
      "cell_type": "code",
      "metadata": {
        "colab": {
          "base_uri": "https://localhost:8080/"
        },
        "id": "y7NO1Xg57egC",
        "outputId": "a86db002-e7b5-4978-d239-b565dd0e9660"
      },
      "source": [
        "X_test.isnull().mean()"
      ],
      "execution_count": 28,
      "outputs": [
        {
          "output_type": "execute_result",
          "data": {
            "text/plain": [
              "TransactionAmt    0.000000\n",
              "card1             0.000000\n",
              "card2             0.013885\n",
              "card3             0.002371\n",
              "card5             0.006265\n",
              "                    ...   \n",
              "V335              0.858352\n",
              "V336              0.858352\n",
              "V337              0.858352\n",
              "V338              0.858352\n",
              "V339              0.858352\n",
              "Length: 377, dtype: float64"
            ]
          },
          "metadata": {
            "tags": []
          },
          "execution_count": 28
        }
      ]
    },
    {
      "cell_type": "code",
      "metadata": {
        "ExecuteTime": {
          "end_time": "2021-01-23T14:57:51.840801Z",
          "start_time": "2021-01-23T14:57:51.755307Z"
        },
        "execution": {
          "iopub.execute_input": "2021-01-23T08:50:24.858367Z",
          "iopub.status.busy": "2021-01-23T08:50:24.858367Z",
          "iopub.status.idle": "2021-01-23T08:50:24.904409Z",
          "shell.execute_reply": "2021-01-23T08:50:24.903408Z",
          "shell.execute_reply.started": "2021-01-23T08:50:24.858367Z"
        },
        "id": "pgyS7o3yPGpz"
      },
      "source": [
        "from sklearn.impute import SimpleImputer"
      ],
      "execution_count": 27,
      "outputs": []
    },
    {
      "cell_type": "code",
      "metadata": {
        "ExecuteTime": {
          "end_time": "2021-01-23T14:57:53.267839Z",
          "start_time": "2021-01-23T14:57:52.635426Z"
        },
        "execution": {
          "iopub.execute_input": "2021-01-23T08:50:25.007502Z",
          "iopub.status.busy": "2021-01-23T08:50:25.006501Z",
          "iopub.status.idle": "2021-01-23T08:50:25.615055Z",
          "shell.execute_reply": "2021-01-23T08:50:25.614054Z",
          "shell.execute_reply.started": "2021-01-23T08:50:25.006501Z"
        },
        "id": "wiV1aZhmPGpz"
      },
      "source": [
        "imputer = SimpleImputer()\n",
        "X_train = pd.DataFrame(imputer.fit_transform(X_train),columns = X_train.columns)"
      ],
      "execution_count": 29,
      "outputs": []
    },
    {
      "cell_type": "code",
      "metadata": {
        "colab": {
          "base_uri": "https://localhost:8080/"
        },
        "id": "vfDl6Vqy7TYi",
        "outputId": "010e2785-00d7-48ff-ca66-64e4de1f41ac"
      },
      "source": [
        "X_train.isnull().mean()"
      ],
      "execution_count": 30,
      "outputs": [
        {
          "output_type": "execute_result",
          "data": {
            "text/plain": [
              "TransactionAmt    0.0\n",
              "card1             0.0\n",
              "card2             0.0\n",
              "card3             0.0\n",
              "card5             0.0\n",
              "                 ... \n",
              "V335              0.0\n",
              "V336              0.0\n",
              "V337              0.0\n",
              "V338              0.0\n",
              "V339              0.0\n",
              "Length: 377, dtype: float64"
            ]
          },
          "metadata": {
            "tags": []
          },
          "execution_count": 30
        }
      ]
    },
    {
      "cell_type": "code",
      "metadata": {
        "ExecuteTime": {
          "end_time": "2021-01-23T14:57:58.878614Z",
          "start_time": "2021-01-23T14:57:58.749558Z"
        },
        "execution": {
          "iopub.execute_input": "2021-01-23T08:50:25.663099Z",
          "iopub.status.busy": "2021-01-23T08:50:25.663099Z",
          "iopub.status.idle": "2021-01-23T08:50:25.755182Z",
          "shell.execute_reply": "2021-01-23T08:50:25.755182Z",
          "shell.execute_reply.started": "2021-01-23T08:50:25.663099Z"
        },
        "id": "HGimQ1H2PGp0"
      },
      "source": [
        "X_test = pd.DataFrame(imputer.transform(X_test),columns = X_test.columns)"
      ],
      "execution_count": 31,
      "outputs": []
    },
    {
      "cell_type": "code",
      "metadata": {
        "colab": {
          "base_uri": "https://localhost:8080/"
        },
        "id": "4EPBtw-u7oZF",
        "outputId": "c8008f59-71de-4363-da26-fe36a69f1c09"
      },
      "source": [
        "X_test.isnull().mean()"
      ],
      "execution_count": 32,
      "outputs": [
        {
          "output_type": "execute_result",
          "data": {
            "text/plain": [
              "TransactionAmt    0.0\n",
              "card1             0.0\n",
              "card2             0.0\n",
              "card3             0.0\n",
              "card5             0.0\n",
              "                 ... \n",
              "V335              0.0\n",
              "V336              0.0\n",
              "V337              0.0\n",
              "V338              0.0\n",
              "V339              0.0\n",
              "Length: 377, dtype: float64"
            ]
          },
          "metadata": {
            "tags": []
          },
          "execution_count": 32
        }
      ]
    },
    {
      "cell_type": "markdown",
      "metadata": {
        "id": "9VOB1XPxPGp0"
      },
      "source": [
        "\n",
        "## [Resampling](#5)<a id=\"5\"></a> <br>\n",
        "\n",
        "\n",
        "![](https://raw.githubusercontent.com/rafjaa/machine_learning_fecib/master/src/static/img/resampling.png)"
      ]
    },
    {
      "cell_type": "markdown",
      "metadata": {
        "id": "17Nqd1OUPGp1"
      },
      "source": [
        "### Oversample minority class"
      ]
    },
    {
      "cell_type": "code",
      "metadata": {
        "ExecuteTime": {
          "end_time": "2021-01-23T14:59:38.084901Z",
          "start_time": "2021-01-23T14:59:37.950823Z"
        },
        "execution": {
          "iopub.execute_input": "2021-01-23T08:50:26.037439Z",
          "iopub.status.busy": "2021-01-23T08:50:26.036438Z",
          "iopub.status.idle": "2021-01-23T08:50:26.151543Z",
          "shell.execute_reply": "2021-01-23T08:50:26.150542Z",
          "shell.execute_reply.started": "2021-01-23T08:50:26.037439Z"
        },
        "id": "03Jfkm0TPGp1"
      },
      "source": [
        "from imblearn.over_sampling import RandomOverSampler\n"
      ],
      "execution_count": 41,
      "outputs": []
    },
    {
      "cell_type": "code",
      "metadata": {
        "ExecuteTime": {
          "end_time": "2021-01-23T14:59:53.707350Z",
          "start_time": "2021-01-23T14:59:52.808322Z"
        },
        "execution": {
          "iopub.execute_input": "2021-01-23T08:50:26.299678Z",
          "iopub.status.busy": "2021-01-23T08:50:26.298676Z",
          "iopub.status.idle": "2021-01-23T08:50:26.972797Z",
          "shell.execute_reply": "2021-01-23T08:50:26.971796Z",
          "shell.execute_reply.started": "2021-01-23T08:50:26.299678Z"
        },
        "id": "B3OugMjGPGp1",
        "colab": {
          "base_uri": "https://localhost:8080/"
        },
        "outputId": "97b68c73-b178-4b2a-a598-decd8edb416a"
      },
      "source": [
        "ran=RandomOverSampler()\n",
        "X_ran_over, y_ran_over= ran.fit_resample(X_train,y_train)"
      ],
      "execution_count": 42,
      "outputs": [
        {
          "output_type": "stream",
          "text": [
            "/usr/local/lib/python3.6/dist-packages/sklearn/utils/deprecation.py:87: FutureWarning: Function safe_indexing is deprecated; safe_indexing is deprecated in version 0.22 and will be removed in version 0.24.\n",
            "  warnings.warn(msg, category=FutureWarning)\n"
          ],
          "name": "stderr"
        }
      ]
    },
    {
      "cell_type": "code",
      "metadata": {
        "ExecuteTime": {
          "end_time": "2021-01-23T15:00:41.827385Z",
          "start_time": "2021-01-23T15:00:41.683029Z"
        },
        "execution": {
          "iopub.execute_input": "2021-01-23T08:50:27.021842Z",
          "iopub.status.busy": "2021-01-23T08:50:27.021842Z",
          "iopub.status.idle": "2021-01-23T08:50:27.115927Z",
          "shell.execute_reply": "2021-01-23T08:50:27.114926Z",
          "shell.execute_reply.started": "2021-01-23T08:50:27.021842Z"
        },
        "id": "rvT2xUeRPGp2",
        "colab": {
          "base_uri": "https://localhost:8080/",
          "height": 350
        },
        "outputId": "0a28a567-3d5b-4fb3-ebe4-e1fe8a14d27a"
      },
      "source": [
        "x=pd.DataFrame(y_ran_over).value_counts().values\n",
        "sns.barplot([0,1],x)\n",
        "plt.title('Target variable count')"
      ],
      "execution_count": 44,
      "outputs": [
        {
          "output_type": "stream",
          "text": [
            "/usr/local/lib/python3.6/dist-packages/seaborn/_decorators.py:43: FutureWarning: Pass the following variables as keyword args: x, y. From version 0.12, the only valid positional argument will be `data`, and passing other arguments without an explicit keyword will result in an error or misinterpretation.\n",
            "  FutureWarning\n"
          ],
          "name": "stderr"
        },
        {
          "output_type": "execute_result",
          "data": {
            "text/plain": [
              "Text(0.5, 1.0, 'Target variable count')"
            ]
          },
          "metadata": {
            "tags": []
          },
          "execution_count": 44
        },
        {
          "output_type": "display_data",
          "data": {
            "image/png": "[encoded data removed]",
            "text/plain": [
              "<Figure size 432x288 with 1 Axes>"
            ]
          },
          "metadata": {
            "tags": [],
            "needs_background": "light"
          }
        }
      ]
    },
    {
      "cell_type": "markdown",
      "metadata": {
        "id": "MdW5BkWePGp2"
      },
      "source": [
        "###  Undersample majority class \n"
      ]
    },
    {
      "cell_type": "code",
      "metadata": {
        "ExecuteTime": {
          "end_time": "2021-01-23T15:01:19.713683Z",
          "start_time": "2021-01-23T15:01:19.706577Z"
        },
        "execution": {
          "iopub.execute_input": "2021-01-23T08:50:27.116928Z",
          "iopub.status.busy": "2021-01-23T08:50:27.115927Z",
          "iopub.status.idle": "2021-01-23T08:50:27.131942Z",
          "shell.execute_reply": "2021-01-23T08:50:27.130941Z",
          "shell.execute_reply.started": "2021-01-23T08:50:27.116928Z"
        },
        "id": "AjgYK9HNPGp3"
      },
      "source": [
        "from imblearn.under_sampling import RandomUnderSampler\n"
      ],
      "execution_count": 45,
      "outputs": []
    },
    {
      "cell_type": "code",
      "metadata": {
        "ExecuteTime": {
          "end_time": "2021-01-23T15:01:33.597296Z",
          "start_time": "2021-01-23T15:01:33.485537Z"
        },
        "execution": {
          "iopub.execute_input": "2021-01-23T08:50:27.279075Z",
          "iopub.status.busy": "2021-01-23T08:50:27.279075Z",
          "iopub.status.idle": "2021-01-23T08:50:27.353143Z",
          "shell.execute_reply": "2021-01-23T08:50:27.352142Z",
          "shell.execute_reply.started": "2021-01-23T08:50:27.279075Z"
        },
        "id": "wr0DQIC-PGp3",
        "colab": {
          "base_uri": "https://localhost:8080/"
        },
        "outputId": "59546182-1337-43c1-f63d-d3326f15eba1"
      },
      "source": [
        "ran=RandomUnderSampler()\n",
        "X_ran_under, y_ran_under= ran.fit_resample(X_train,y_train)"
      ],
      "execution_count": 46,
      "outputs": [
        {
          "output_type": "stream",
          "text": [
            "/usr/local/lib/python3.6/dist-packages/sklearn/utils/deprecation.py:87: FutureWarning: Function safe_indexing is deprecated; safe_indexing is deprecated in version 0.22 and will be removed in version 0.24.\n",
            "  warnings.warn(msg, category=FutureWarning)\n"
          ],
          "name": "stderr"
        }
      ]
    },
    {
      "cell_type": "code",
      "metadata": {
        "ExecuteTime": {
          "end_time": "2021-01-23T15:01:36.006468Z",
          "start_time": "2021-01-23T15:01:35.805626Z"
        },
        "execution": {
          "iopub.execute_input": "2021-01-23T08:50:27.505281Z",
          "iopub.status.busy": "2021-01-23T08:50:27.505281Z",
          "iopub.status.idle": "2021-01-23T08:50:27.622388Z",
          "shell.execute_reply": "2021-01-23T08:50:27.621386Z",
          "shell.execute_reply.started": "2021-01-23T08:50:27.505281Z"
        },
        "id": "Zoi0DqaIPGp3",
        "colab": {
          "base_uri": "https://localhost:8080/",
          "height": 350
        },
        "outputId": "6cf60784-ef6c-4c95-bef1-55c10aed6224"
      },
      "source": [
        "x=pd.DataFrame(y_ran_under).value_counts().values\n",
        "sns.barplot([0,1],x)\n",
        "plt.title('Target variable count')"
      ],
      "execution_count": 47,
      "outputs": [
        {
          "output_type": "stream",
          "text": [
            "/usr/local/lib/python3.6/dist-packages/seaborn/_decorators.py:43: FutureWarning: Pass the following variables as keyword args: x, y. From version 0.12, the only valid positional argument will be `data`, and passing other arguments without an explicit keyword will result in an error or misinterpretation.\n",
            "  FutureWarning\n"
          ],
          "name": "stderr"
        },
        {
          "output_type": "execute_result",
          "data": {
            "text/plain": [
              "Text(0.5, 1.0, 'Target variable count')"
            ]
          },
          "metadata": {
            "tags": []
          },
          "execution_count": 47
        },
        {
          "output_type": "display_data",
          "data": {
            "image/png": "[encoded data removed]",
            "text/plain": [
              "<Figure size 432x288 with 1 Axes>"
            ]
          },
          "metadata": {
            "tags": [],
            "needs_background": "light"
          }
        }
      ]
    },
    {
      "cell_type": "markdown",
      "metadata": {
        "id": "8vugBCcvPGp4"
      },
      "source": [
        "### Over-sampling: SMOTE"
      ]
    },
    {
      "cell_type": "markdown",
      "metadata": {
        "id": "XTttipYLPGp4"
      },
      "source": [
        "SMOTE (Synthetic Minority Oversampling TEchnique) consists of synthesizing elements for the minority class, based on those that already exist. It works randomly picingk a point from the minority class and computing the k-nearest neighbors for this point. The synthetic points are added between the chosen point and its neighbors.\n",
        "\n",
        "![](https://raw.githubusercontent.com/rafjaa/machine_learning_fecib/master/src/static/img/smote.png)"
      ]
    },
    {
      "cell_type": "code",
      "metadata": {
        "ExecuteTime": {
          "end_time": "2021-01-23T15:02:43.473626Z",
          "start_time": "2021-01-23T15:02:43.464133Z"
        },
        "execution": {
          "iopub.execute_input": "2021-01-23T08:50:28.491686Z",
          "iopub.status.busy": "2021-01-23T08:50:28.491686Z",
          "iopub.status.idle": "2021-01-23T08:50:28.506700Z",
          "shell.execute_reply": "2021-01-23T08:50:28.506700Z",
          "shell.execute_reply.started": "2021-01-23T08:50:28.491686Z"
        },
        "id": "w4DUtj2GPGp4"
      },
      "source": [
        "from imblearn.over_sampling import SMOTE"
      ],
      "execution_count": 48,
      "outputs": []
    },
    {
      "cell_type": "code",
      "metadata": {
        "ExecuteTime": {
          "end_time": "2021-01-23T15:02:56.482232Z",
          "start_time": "2021-01-23T15:02:56.473911Z"
        },
        "execution": {
          "iopub.execute_input": "2021-01-23T08:50:28.775945Z",
          "iopub.status.busy": "2021-01-23T08:50:28.775945Z",
          "iopub.status.idle": "2021-01-23T08:50:28.791959Z",
          "shell.execute_reply": "2021-01-23T08:50:28.790958Z",
          "shell.execute_reply.started": "2021-01-23T08:50:28.775945Z"
        },
        "id": "QPF2vNBMPGp5"
      },
      "source": [
        "smote = SMOTE(sampling_strategy='minority')"
      ],
      "execution_count": 50,
      "outputs": []
    },
    {
      "cell_type": "code",
      "metadata": {
        "ExecuteTime": {
          "end_time": "2021-01-23T15:03:04.170145Z",
          "start_time": "2021-01-23T15:03:01.516485Z"
        },
        "execution": {
          "iopub.execute_input": "2021-01-23T08:50:29.030175Z",
          "iopub.status.busy": "2021-01-23T08:50:29.030175Z",
          "iopub.status.idle": "2021-01-23T08:50:29.928993Z",
          "shell.execute_reply": "2021-01-23T08:50:29.927991Z",
          "shell.execute_reply.started": "2021-01-23T08:50:29.030175Z"
        },
        "id": "oLrV5YFFPGp5",
        "colab": {
          "base_uri": "https://localhost:8080/"
        },
        "outputId": "eeb74e17-fd9e-474f-905d-21adf3d36aa1"
      },
      "source": [
        "X_sm, y_sm = smote.fit_sample(X_train, y_train)"
      ],
      "execution_count": 51,
      "outputs": [
        {
          "output_type": "stream",
          "text": [
            "/usr/local/lib/python3.6/dist-packages/sklearn/utils/deprecation.py:87: FutureWarning: Function safe_indexing is deprecated; safe_indexing is deprecated in version 0.22 and will be removed in version 0.24.\n",
            "  warnings.warn(msg, category=FutureWarning)\n"
          ],
          "name": "stderr"
        }
      ]
    },
    {
      "cell_type": "code",
      "metadata": {
        "ExecuteTime": {
          "end_time": "2021-01-23T15:03:07.177086Z",
          "start_time": "2021-01-23T15:03:07.044318Z"
        },
        "execution": {
          "iopub.execute_input": "2021-01-23T08:50:29.979039Z",
          "iopub.status.busy": "2021-01-23T08:50:29.978039Z",
          "iopub.status.idle": "2021-01-23T08:50:30.072123Z",
          "shell.execute_reply": "2021-01-23T08:50:30.071122Z",
          "shell.execute_reply.started": "2021-01-23T08:50:29.979039Z"
        },
        "id": "Gkfj7HpBPGp5",
        "colab": {
          "base_uri": "https://localhost:8080/",
          "height": 350
        },
        "outputId": "c9fe6839-427b-4edb-8f66-a5816953625b"
      },
      "source": [
        "x=pd.DataFrame(y_sm).value_counts().values\n",
        "sns.barplot([0,1],x)\n",
        "plt.title('Target variable count')"
      ],
      "execution_count": 52,
      "outputs": [
        {
          "output_type": "stream",
          "text": [
            "/usr/local/lib/python3.6/dist-packages/seaborn/_decorators.py:43: FutureWarning: Pass the following variables as keyword args: x, y. From version 0.12, the only valid positional argument will be `data`, and passing other arguments without an explicit keyword will result in an error or misinterpretation.\n",
            "  FutureWarning\n"
          ],
          "name": "stderr"
        },
        {
          "output_type": "execute_result",
          "data": {
            "text/plain": [
              "Text(0.5, 1.0, 'Target variable count')"
            ]
          },
          "metadata": {
            "tags": []
          },
          "execution_count": 52
        },
        {
          "output_type": "display_data",
          "data": {
            "image/png": "[encoded data removed]",
            "text/plain": [
              "<Figure size 432x288 with 1 Axes>"
            ]
          },
          "metadata": {
            "tags": [],
            "needs_background": "light"
          }
        }
      ]
    },
    {
      "cell_type": "code",
      "metadata": {
        "ExecuteTime": {
          "end_time": "2021-01-23T15:03:24.024582Z",
          "start_time": "2021-01-23T15:03:24.019724Z"
        },
        "execution": {
          "iopub.execute_input": "2021-01-23T08:50:30.073124Z",
          "iopub.status.busy": "2021-01-23T08:50:30.073124Z",
          "iopub.status.idle": "2021-01-23T08:50:30.088138Z",
          "shell.execute_reply": "2021-01-23T08:50:30.087136Z",
          "shell.execute_reply.started": "2021-01-23T08:50:30.073124Z"
        },
        "id": "q9HriyF1PGp6"
      },
      "source": [
        "from sklearn.decomposition import PCA\n",
        "from sklearn.preprocessing import StandardScaler\n"
      ],
      "execution_count": 53,
      "outputs": []
    },
    {
      "cell_type": "code",
      "metadata": {
        "ExecuteTime": {
          "end_time": "2021-01-23T15:03:30.654396Z",
          "start_time": "2021-01-23T15:03:26.714641Z"
        },
        "execution": {
          "iopub.execute_input": "2021-01-23T08:50:34.361022Z",
          "iopub.status.busy": "2021-01-23T08:50:34.360021Z",
          "iopub.status.idle": "2021-01-23T08:50:36.356943Z",
          "shell.execute_reply": "2021-01-23T08:50:36.356943Z",
          "shell.execute_reply.started": "2021-01-23T08:50:34.361022Z"
        },
        "id": "les1MGoPPGp6",
        "colab": {
          "base_uri": "https://localhost:8080/",
          "height": 295
        },
        "outputId": "600c799c-8dea-4397-92c1-4460f94984db"
      },
      "source": [
        "standar = StandardScaler()\n",
        "X_train_std = pd.DataFrame(standar.fit_transform(X_train),columns = X_train.columns)\n",
        "\n",
        "pca = PCA(2)\n",
        "X_train_pca =pd.DataFrame( pca.fit_transform(X_train_std),columns = [\"p0\",\"p1\"])\n",
        "\n",
        "sns.scatterplot(data = X_train_pca,x=\"p0\",y=\"p1\",hue=y_train.values)"
      ],
      "execution_count": 54,
      "outputs": [
        {
          "output_type": "execute_result",
          "data": {
            "text/plain": [
              "<matplotlib.axes._subplots.AxesSubplot at 0x7f11e0e6ea58>"
            ]
          },
          "metadata": {
            "tags": []
          },
          "execution_count": 54
        },
        {
          "output_type": "display_data",
          "data": {
            "image/png": "[encoded data removed]",
            "text/plain": [
              "<Figure size 432x288 with 1 Axes>"
            ]
          },
          "metadata": {
            "tags": [],
            "needs_background": "light"
          }
        }
      ]
    },
    {
      "cell_type": "code",
      "metadata": {
        "ExecuteTime": {
          "end_time": "2021-01-23T15:04:04.134763Z",
          "start_time": "2021-01-23T15:04:04.124628Z"
        },
        "execution": {
          "iopub.execute_input": "2021-01-23T09:03:19.021367Z",
          "iopub.status.busy": "2021-01-23T09:03:19.020365Z",
          "iopub.status.idle": "2021-01-23T09:03:19.030374Z",
          "shell.execute_reply": "2021-01-23T09:03:19.029373Z",
          "shell.execute_reply.started": "2021-01-23T09:03:19.021367Z"
        },
        "id": "K4wRzjRUPGp7"
      },
      "source": [
        "def evaluate_sampling(X_ran,y_ran,X_test,y_test):\n",
        "    model  = LogisticRegression(solver='liblinear')\n",
        "    model.fit(X_ran,y_ran)\n",
        "    print(roc_auc_score(y_test,model.predict_proba(X_test)[:,1]))\n",
        "    print(f1_score(y_test,model.predict(X_test)))    \n",
        "    print(confusion_matrix(y_test,model.predict(X_test)))    \n",
        "    "
      ],
      "execution_count": 55,
      "outputs": []
    },
    {
      "cell_type": "markdown",
      "metadata": {
        "id": "MinxXgAx9CLs"
      },
      "source": [
        "## Comparación de re muestreo"
      ]
    },
    {
      "cell_type": "code",
      "metadata": {
        "ExecuteTime": {
          "end_time": "2021-01-23T15:04:40.495877Z",
          "start_time": "2021-01-23T15:04:20.901256Z"
        },
        "execution": {
          "iopub.execute_input": "2021-01-23T09:03:19.327645Z",
          "iopub.status.busy": "2021-01-23T09:03:19.327645Z",
          "iopub.status.idle": "2021-01-23T09:03:44.902617Z",
          "shell.execute_reply": "2021-01-23T09:03:44.901618Z",
          "shell.execute_reply.started": "2021-01-23T09:03:19.327645Z"
        },
        "id": "sMmVghAgPGp7",
        "colab": {
          "base_uri": "https://localhost:8080/"
        },
        "outputId": "ec05ef9d-e686-4938-8cfb-e7cf7ba14709"
      },
      "source": [
        "#Observamos que el F1 SCORE del modelo sin re muestreo es cero\r\n",
        "evaluate_sampling(X_train,y_train, X_test,y_test)"
      ],
      "execution_count": 56,
      "outputs": [
        {
          "output_type": "stream",
          "text": [
            "0.725560369123386\n",
            "0.0\n",
            "[[11401     4]\n",
            " [  406     0]]\n"
          ],
          "name": "stdout"
        },
        {
          "output_type": "stream",
          "text": [
            "/usr/local/lib/python3.6/dist-packages/sklearn/svm/_base.py:947: ConvergenceWarning: Liblinear failed to converge, increase the number of iterations.\n",
            "  \"the number of iterations.\", ConvergenceWarning)\n"
          ],
          "name": "stderr"
        }
      ]
    },
    {
      "cell_type": "code",
      "metadata": {
        "ExecuteTime": {
          "end_time": "2021-01-23T09:16:07.350319Z",
          "start_time": "2021-01-23T09:15:13.674160Z"
        },
        "execution": {
          "iopub.execute_input": "2021-01-23T09:03:44.951660Z",
          "iopub.status.busy": "2021-01-23T09:03:44.950660Z",
          "iopub.status.idle": "2021-01-23T09:04:46.799219Z",
          "shell.execute_reply": "2021-01-23T09:04:46.799219Z",
          "shell.execute_reply.started": "2021-01-23T09:03:44.951660Z"
        },
        "id": "ccVfqA5PPGp7",
        "colab": {
          "base_uri": "https://localhost:8080/"
        },
        "outputId": "a0e58b67-8299-4f75-ffd6-1f0d0b565103"
      },
      "source": [
        "#El re muestreo por over sampling mejora el aprendizaje del modelo\r\n",
        "evaluate_sampling(X_ran_over,y_ran_over, X_test,y_test)"
      ],
      "execution_count": 57,
      "outputs": [
        {
          "output_type": "stream",
          "text": [
            "0.7664956602302594\n",
            "0.15503397158739962\n",
            "[[8824 2581]\n",
            " [ 155  251]]\n"
          ],
          "name": "stdout"
        },
        {
          "output_type": "stream",
          "text": [
            "/usr/local/lib/python3.6/dist-packages/sklearn/svm/_base.py:947: ConvergenceWarning: Liblinear failed to converge, increase the number of iterations.\n",
            "  \"the number of iterations.\", ConvergenceWarning)\n"
          ],
          "name": "stderr"
        }
      ]
    },
    {
      "cell_type": "code",
      "metadata": {
        "ExecuteTime": {
          "end_time": "2021-01-23T09:16:52.263334Z",
          "start_time": "2021-01-23T09:16:49.135939Z"
        },
        "execution": {
          "iopub.execute_input": "2021-01-23T09:04:46.801221Z",
          "iopub.status.busy": "2021-01-23T09:04:46.801221Z",
          "iopub.status.idle": "2021-01-23T09:04:51.691910Z",
          "shell.execute_reply": "2021-01-23T09:04:51.691910Z",
          "shell.execute_reply.started": "2021-01-23T09:04:46.801221Z"
        },
        "id": "pKIMl7VgPGp8",
        "colab": {
          "base_uri": "https://localhost:8080/"
        },
        "outputId": "2205475d-ca43-4852-a5e8-9dbd4af47e45"
      },
      "source": [
        "#El re muestreo por under sampling es el modelo ganador\r\n",
        "\r\n",
        "evaluate_sampling(X_ran_under,y_ran_under, X_test,y_test)"
      ],
      "execution_count": 58,
      "outputs": [
        {
          "output_type": "stream",
          "text": [
            "0.7786131093656529\n",
            "0.18255428781744573\n",
            "[[9342 2063]\n",
            " [ 158  248]]\n"
          ],
          "name": "stdout"
        },
        {
          "output_type": "stream",
          "text": [
            "/usr/local/lib/python3.6/dist-packages/sklearn/svm/_base.py:947: ConvergenceWarning: Liblinear failed to converge, increase the number of iterations.\n",
            "  \"the number of iterations.\", ConvergenceWarning)\n"
          ],
          "name": "stderr"
        }
      ]
    },
    {
      "cell_type": "code",
      "metadata": {
        "ExecuteTime": {
          "end_time": "2021-01-23T13:30:31.731831Z",
          "start_time": "2021-01-23T13:29:34.397981Z"
        },
        "execution": {
          "iopub.execute_input": "2021-01-23T09:04:51.741956Z",
          "iopub.status.busy": "2021-01-23T09:04:51.741956Z",
          "iopub.status.idle": "2021-01-23T09:05:58.917112Z",
          "shell.execute_reply": "2021-01-23T09:05:58.917112Z",
          "shell.execute_reply.started": "2021-01-23T09:04:51.741956Z"
        },
        "id": "_2jw76PCPGp8",
        "colab": {
          "base_uri": "https://localhost:8080/"
        },
        "outputId": "022f75aa-00b1-49d0-d49d-f547bf60caec"
      },
      "source": [
        "#El re muestreo del modelo SMOTE es el segundo modelo\r\n",
        "evaluate_sampling(X_sm,y_sm, X_test,y_test)"
      ],
      "execution_count": 59,
      "outputs": [
        {
          "output_type": "stream",
          "text": [
            "0.7629735251369744\n",
            "0.16162901686286987\n",
            "[[8922 2483]\n",
            " [ 152  254]]\n"
          ],
          "name": "stdout"
        },
        {
          "output_type": "stream",
          "text": [
            "/usr/local/lib/python3.6/dist-packages/sklearn/svm/_base.py:947: ConvergenceWarning: Liblinear failed to converge, increase the number of iterations.\n",
            "  \"the number of iterations.\", ConvergenceWarning)\n"
          ],
          "name": "stderr"
        }
      ]
    }
  ]
}