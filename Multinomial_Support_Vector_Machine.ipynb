{
  "nbformat": 4,
  "nbformat_minor": 0,
  "metadata": {
    "kernelspec": {
      "display_name": "Python 3.7",
      "language": "python",
      "name": "python3"
    },
    "language_info": {
      "codemirror_mode": {
        "name": "ipython",
        "version": 3
      },
      "file_extension": ".py",
      "mimetype": "text/x-python",
      "name": "python",
      "nbconvert_exporter": "python",
      "pygments_lexer": "ipython3",
      "version": "3.7.9"
    },
    "notify_time": "10",
    "colab": {
      "name": "Multinomial_Support Vector Machine.ipynb",
      "provenance": [],
      "include_colab_link": true
    }
  },
  "cells": [
    {
      "cell_type": "markdown",
      "metadata": {
        "id": "view-in-github",
        "colab_type": "text"
      },
      "source": [
        "<a href=\"https://colab.research.google.com/github/virf96/Basico/blob/main/Multinomial_Support_Vector_Machine.ipynb\" target=\"_parent\"><img src=\"https://colab.research.google.com/assets/colab-badge.svg\" alt=\"Open In Colab\"/></a>"
      ]
    },
    {
      "cell_type": "markdown",
      "metadata": {
        "id": "xlc8CpyTbFe2"
      },
      "source": [
        "# Support Vector Machine"
      ]
    },
    {
      "cell_type": "markdown",
      "metadata": {
        "id": "5Da_vSojbFfV"
      },
      "source": [
        "## Preparación de ambiente"
      ]
    },
    {
      "cell_type": "markdown",
      "metadata": {
        "id": "LgTnEs2UbFfY"
      },
      "source": [
        "### Carga de módulos"
      ]
    },
    {
      "cell_type": "code",
      "metadata": {
        "ExecuteTime": {
          "end_time": "2020-11-06T02:28:35.608823Z",
          "start_time": "2020-11-06T02:28:35.604425Z"
        },
        "id": "5y-v5iZqbFfa"
      },
      "source": [
        "import numpy as np\n",
        "import pandas as pd\n",
        "from PIL import Image\n",
        "from sklearn.svm import SVC\n",
        "from sklearn.preprocessing import MinMaxScaler\n",
        "from sklearn.metrics import accuracy_score, confusion_matrix\n",
        "from sklearn.discriminant_analysis import LinearDiscriminantAnalysis\n",
        "from sklearn.model_selection import RandomizedSearchCV, GridSearchCV\n",
        "from sklearn.model_selection import train_test_split, cross_val_score"
      ],
      "execution_count": null,
      "outputs": []
    },
    {
      "cell_type": "markdown",
      "metadata": {
        "id": "gzQOa22PbFfe"
      },
      "source": [
        "### Funciones relevantes"
      ]
    },
    {
      "cell_type": "code",
      "metadata": {
        "ExecuteTime": {
          "end_time": "2020-11-06T02:31:02.948391Z",
          "start_time": "2020-11-06T02:31:02.943392Z"
        },
        "code_folding": [],
        "id": "jsLi3EVvbFfg"
      },
      "source": [
        "def get_data(number):\n",
        "    img = Image.open('sample%d_black_r.png'%(number)).convert('L')\n",
        "    img_arr = np.array(img)\n",
        "    WIDTH, HEIGHT = img.size\n",
        "    data = list(img.getdata())\n",
        "    data = [data[offset:offset+WIDTH] for offset in range(0, WIDTH*HEIGHT, WIDTH)]\n",
        "    return data"
      ],
      "execution_count": null,
      "outputs": []
    },
    {
      "cell_type": "code",
      "metadata": {
        "ExecuteTime": {
          "end_time": "2020-11-06T02:31:08.750390Z",
          "start_time": "2020-11-06T02:31:08.746492Z"
        },
        "code_folding": [],
        "id": "AkZMwbrgbFfi"
      },
      "source": [
        "def print_data(data):\n",
        "    for row in data:\n",
        "        print(''.join('{:3}'.format(value) for value in row))"
      ],
      "execution_count": null,
      "outputs": []
    },
    {
      "cell_type": "code",
      "metadata": {
        "ExecuteTime": {
          "end_time": "2020-11-06T02:31:44.152668Z",
          "start_time": "2020-11-06T02:31:44.149521Z"
        },
        "code_folding": [],
        "id": "J67g0RZabFfm"
      },
      "source": [
        "def flatten_data(data):\n",
        "    return[np.reshape(data, (28*28,))]"
      ],
      "execution_count": null,
      "outputs": []
    },
    {
      "cell_type": "code",
      "metadata": {
        "ExecuteTime": {
          "end_time": "2020-11-06T02:31:53.811577Z",
          "start_time": "2020-11-06T02:31:53.645778Z"
        },
        "colab": {
          "base_uri": "https://localhost:8080/",
          "height": 296
        },
        "id": "ctSohHNHbFfo",
        "outputId": "f19b4707-7c0b-48c4-89a7-251e272867ef"
      },
      "source": [
        "get_data(3)"
      ],
      "execution_count": null,
      "outputs": [
        {
          "output_type": "error",
          "ename": "FileNotFoundError",
          "evalue": "ignored",
          "traceback": [
            "\u001b[0;31m---------------------------------------------------------------------------\u001b[0m",
            "\u001b[0;31mFileNotFoundError\u001b[0m                         Traceback (most recent call last)",
            "\u001b[0;32m<ipython-input-6-5b84bd6dda66>\u001b[0m in \u001b[0;36m<module>\u001b[0;34m()\u001b[0m\n\u001b[0;32m----> 1\u001b[0;31m \u001b[0mget_data\u001b[0m\u001b[0;34m(\u001b[0m\u001b[0;36m3\u001b[0m\u001b[0;34m)\u001b[0m\u001b[0;34m\u001b[0m\u001b[0;34m\u001b[0m\u001b[0m\n\u001b[0m",
            "\u001b[0;32m<ipython-input-3-42f4835572ee>\u001b[0m in \u001b[0;36mget_data\u001b[0;34m(number)\u001b[0m\n\u001b[1;32m      1\u001b[0m \u001b[0;32mdef\u001b[0m \u001b[0mget_data\u001b[0m\u001b[0;34m(\u001b[0m\u001b[0mnumber\u001b[0m\u001b[0;34m)\u001b[0m\u001b[0;34m:\u001b[0m\u001b[0;34m\u001b[0m\u001b[0;34m\u001b[0m\u001b[0m\n\u001b[0;32m----> 2\u001b[0;31m     \u001b[0mimg\u001b[0m \u001b[0;34m=\u001b[0m \u001b[0mImage\u001b[0m\u001b[0;34m.\u001b[0m\u001b[0mopen\u001b[0m\u001b[0;34m(\u001b[0m\u001b[0;34m'sample%d_black_r.png'\u001b[0m\u001b[0;34m%\u001b[0m\u001b[0;34m(\u001b[0m\u001b[0mnumber\u001b[0m\u001b[0;34m)\u001b[0m\u001b[0;34m)\u001b[0m\u001b[0;34m.\u001b[0m\u001b[0mconvert\u001b[0m\u001b[0;34m(\u001b[0m\u001b[0;34m'L'\u001b[0m\u001b[0;34m)\u001b[0m\u001b[0;34m\u001b[0m\u001b[0;34m\u001b[0m\u001b[0m\n\u001b[0m\u001b[1;32m      3\u001b[0m     \u001b[0mimg_arr\u001b[0m \u001b[0;34m=\u001b[0m \u001b[0mnp\u001b[0m\u001b[0;34m.\u001b[0m\u001b[0marray\u001b[0m\u001b[0;34m(\u001b[0m\u001b[0mimg\u001b[0m\u001b[0;34m)\u001b[0m\u001b[0;34m\u001b[0m\u001b[0;34m\u001b[0m\u001b[0m\n\u001b[1;32m      4\u001b[0m     \u001b[0mWIDTH\u001b[0m\u001b[0;34m,\u001b[0m \u001b[0mHEIGHT\u001b[0m \u001b[0;34m=\u001b[0m \u001b[0mimg\u001b[0m\u001b[0;34m.\u001b[0m\u001b[0msize\u001b[0m\u001b[0;34m\u001b[0m\u001b[0;34m\u001b[0m\u001b[0m\n\u001b[1;32m      5\u001b[0m     \u001b[0mdata\u001b[0m \u001b[0;34m=\u001b[0m \u001b[0mlist\u001b[0m\u001b[0;34m(\u001b[0m\u001b[0mimg\u001b[0m\u001b[0;34m.\u001b[0m\u001b[0mgetdata\u001b[0m\u001b[0;34m(\u001b[0m\u001b[0;34m)\u001b[0m\u001b[0;34m)\u001b[0m\u001b[0;34m\u001b[0m\u001b[0;34m\u001b[0m\u001b[0m\n",
            "\u001b[0;32m/usr/local/lib/python3.6/dist-packages/PIL/Image.py\u001b[0m in \u001b[0;36mopen\u001b[0;34m(fp, mode)\u001b[0m\n\u001b[1;32m   2807\u001b[0m \u001b[0;34m\u001b[0m\u001b[0m\n\u001b[1;32m   2808\u001b[0m     \u001b[0;32mif\u001b[0m \u001b[0mfilename\u001b[0m\u001b[0;34m:\u001b[0m\u001b[0;34m\u001b[0m\u001b[0;34m\u001b[0m\u001b[0m\n\u001b[0;32m-> 2809\u001b[0;31m         \u001b[0mfp\u001b[0m \u001b[0;34m=\u001b[0m \u001b[0mbuiltins\u001b[0m\u001b[0;34m.\u001b[0m\u001b[0mopen\u001b[0m\u001b[0;34m(\u001b[0m\u001b[0mfilename\u001b[0m\u001b[0;34m,\u001b[0m \u001b[0;34m\"rb\"\u001b[0m\u001b[0;34m)\u001b[0m\u001b[0;34m\u001b[0m\u001b[0;34m\u001b[0m\u001b[0m\n\u001b[0m\u001b[1;32m   2810\u001b[0m         \u001b[0mexclusive_fp\u001b[0m \u001b[0;34m=\u001b[0m \u001b[0;32mTrue\u001b[0m\u001b[0;34m\u001b[0m\u001b[0;34m\u001b[0m\u001b[0m\n\u001b[1;32m   2811\u001b[0m \u001b[0;34m\u001b[0m\u001b[0m\n",
            "\u001b[0;31mFileNotFoundError\u001b[0m: [Errno 2] No such file or directory: 'sample3_black_r.png'"
          ]
        }
      ]
    },
    {
      "cell_type": "code",
      "metadata": {
        "ExecuteTime": {
          "end_time": "2020-11-06T02:32:00.972376Z",
          "start_time": "2020-11-06T02:32:00.963624Z"
        },
        "id": "CFKzUf8MbFfw",
        "outputId": "d38b73d9-4665-4fc2-ae1b-d26e3cb052ce"
      },
      "source": [
        "flatten_data(get_data(3))"
      ],
      "execution_count": null,
      "outputs": [
        {
          "output_type": "execute_result",
          "data": {
            "text/plain": [
              "[array([  0,   0,   0,   0,   0,   0,   1,   4,   3,   0,   0,   0,   0,\n",
              "          0,   0,   0,   0,   4,   1,   0,   0,   0,   0,   0,   0,   0,\n",
              "          0,   0,   0,   0,   0,   0,   2,   3,   0,   0,   0,   9,  44,\n",
              "         79,  99,  97,  73,  35,   0,   0,   0,   2,   0,   0,   0,   0,\n",
              "          0,   0,   0,   0,   0,   0,   0,   1,   0,   0,  24,  93, 162,\n",
              "        217, 249, 255, 255, 255, 255, 245, 199,  99,   2,   0,   2,   0,\n",
              "          0,   0,   0,   0,   0,   0,   0,   0,   1,   0,  30, 140, 227,\n",
              "        255, 255, 255, 255, 255, 248, 253, 255, 255, 255, 255, 192,  36,\n",
              "          0,   2,   0,   0,   0,   0,   0,   0,   0,   1,   0,  57, 223,\n",
              "        255, 255, 252, 207, 154, 101,  60,  40,  51,  95, 185, 255, 250,\n",
              "        255, 224,  30,   1,   2,   0,   0,   0,   0,   0,   0,   1,   0,\n",
              "         77, 218, 231, 162,  60,   6,   0,   0,   0,   0,   0,   0,   0,\n",
              "        110, 249, 247, 255, 144,   0,   3,   0,   0,   0,   0,   0,   0,\n",
              "          0,   0,   2,  32,  34,   0,   0,   0,   3,   4,   3,   2,   2,\n",
              "          5,   1,   4, 234, 254, 253, 177,   0,   2,   0,   0,   0,   0,\n",
              "          0,   0,   0,   0,   0,   0,   0,   1,   3,   1,   0,   0,   0,\n",
              "          1,   1,   5,   2,  97, 255, 248, 255, 112,   0,   4,   0,   0,\n",
              "          0,   0,   0,   0,   0,   0,   0,   2,   2,   0,   0,   0,   3,\n",
              "          4,   2,   0,   0,   0,   0, 196, 255, 253, 240,  21,   0,   1,\n",
              "          0,   0,   0,   0,   0,   0,   0,   0,   0,   0,   0,   0,   0,\n",
              "          0,   0,   0,   0,   6,  23,  30, 114, 254, 249, 255, 143,   0,\n",
              "          6,   2,   0,   0,   0,   0,   0,   0,   0,   0,   0,   0,   0,\n",
              "          1,   1,   0,  68, 137, 189, 222, 239, 247, 255, 252, 251, 254,\n",
              "        141,  35,   0,   0,   3,   0,   0,   0,   0,   0,   0,   0,   0,\n",
              "          0,   0,   2,   0, 151, 255, 255, 255, 255, 254, 253, 255, 255,\n",
              "        255, 250, 255, 245, 162,  42,   0,   2,   0,   0,   0,   0,   0,\n",
              "          0,   0,   0,   0,   2,   0, 183, 255, 255, 255, 255, 255, 255,\n",
              "        244, 213, 241, 255, 255, 253, 255, 245, 106,   0,   2,   0,   0,\n",
              "          0,   0,   0,   0,   0,   0,   1,   1,  17, 137, 182, 193, 190,\n",
              "        154,  96,  32,   2,  26,  91, 195, 255, 249, 254, 255,  87,   0,\n",
              "          3,   0,   0,   0,   0,   0,   0,   0,   0,   0,   0,   0,   0,\n",
              "          0,   0,   0,   0,   0,   0,   0,   0,   0, 117, 254, 249, 254,\n",
              "        218,   5,   1,   1,   0,   0,   0,   0,   0,   0,   0,   0,   1,\n",
              "          4,   3,   2,   2,   4,   4,   2,   1,   1,   4,   1,   0, 207,\n",
              "        255, 252, 253,  41,   0,   2,   0,   0,   0,   0,   0,   0,   0,\n",
              "          0,   0,   0,   0,   0,   0,   0,   0,   0,   0,   0,   0,   3,\n",
              "          1, 182, 255, 250, 255,  54,   0,   3,   0,   0,   0,   2,   3,\n",
              "          4,   1,   0,   0,   0,   0,   0,   0,   0,   0,   0,   0,   0,\n",
              "          3,   1,  10, 230, 254, 253, 246,  27,   0,   2,   0,   0,   0,\n",
              "          0,   0,   0,   0,   1,   0,   0,   0,   0,   0,   0,   0,   0,\n",
              "          1,   4,   0,   0, 156, 255, 247, 255, 180,   0,   2,   0,   0,\n",
              "          1,   0,  83, 162, 126,  12,   0,   3,   0,   0,   0,   0,   0,\n",
              "          2,   4,   0,   0,  21, 166, 255, 248, 255, 246,  43,   1,   2,\n",
              "          0,   2,   0,  48, 255, 255, 255, 186,  14,   0,   4,   4,   4,\n",
              "          4,   2,   0,   0,   8, 102, 227, 255, 247, 255, 247,  75,   0,\n",
              "          2,   0,   0,   1,   1,  23, 225, 255, 244, 255, 212,  54,   0,\n",
              "          0,   0,   0,   0,  33, 118, 215, 255, 255, 252, 255, 213,  56,\n",
              "          0,   3,   0,   0,   0,   0,   2,   0,  49, 218, 255, 247, 255,\n",
              "        249, 164, 113, 108, 131, 184, 244, 255, 255, 255, 255, 242, 133,\n",
              "         11,   0,   3,   0,   0,   0,   0,   0,   0,   2,   0,  18, 170,\n",
              "        255, 255, 255, 255, 255, 255, 255, 255, 255, 255, 255, 231, 141,\n",
              "         35,   0,   0,   2,   0,   0,   0,   0,   0,   0,   0,   0,   3,\n",
              "          0,   0,  89, 200, 252, 255, 255, 255, 255, 255, 240, 185,  98,\n",
              "         20,   0,   0,   3,   1,   0,   0,   0,   0,   0,   0,   0,   0,\n",
              "          0,   0,   1,   1,   0,   0,  44,  86, 107, 112,  97,  66,  26,\n",
              "          0,   0,   0,   3,   2,   0,   0,   0,   0,   0,   0,   0,   0,\n",
              "          0,   0,   0,   0,   0,   0,   3,   0,   0,   0,   0,   0,   0,\n",
              "          0,   0,   2,   3,   1,   0,   0,   0,   0,   0,   0,   0,   0,\n",
              "          0,   0,   0,   0,   0,   0,   0,   0,   0,   0,   2,   4,   4,\n",
              "          4,   4,   3,   2,   0,   0,   0,   0,   0,   0,   0,   0,   0,\n",
              "          0,   0,   0,   0])]"
            ]
          },
          "metadata": {
            "tags": []
          },
          "execution_count": 7
        }
      ]
    },
    {
      "cell_type": "code",
      "metadata": {
        "ExecuteTime": {
          "end_time": "2020-11-06T02:32:10.387120Z",
          "start_time": "2020-11-06T02:32:10.378125Z"
        },
        "scrolled": false,
        "id": "CkdNPybBbFfx",
        "outputId": "1b72e42c-f959-4aa1-aae2-ebac12e0d105"
      },
      "source": [
        "print_data(get_data(3))"
      ],
      "execution_count": null,
      "outputs": [
        {
          "output_type": "stream",
          "text": [
            "  0  0  0  0  0  0  1  4  3  0  0  0  0  0  0  0  0  4  1  0  0  0  0  0  0  0  0  0\n",
            "  0  0  0  0  2  3  0  0  0  9 44 79 99 97 73 35  0  0  0  2  0  0  0  0  0  0  0  0\n",
            "  0  0  0  1  0  0 24 93162217249255255255255245199 99  2  0  2  0  0  0  0  0  0  0\n",
            "  0  0  1  0 30140227255255255255255248253255255255255192 36  0  2  0  0  0  0  0  0\n",
            "  0  1  0 57223255255252207154101 60 40 51 95185255250255224 30  1  2  0  0  0  0  0\n",
            "  0  1  0 77218231162 60  6  0  0  0  0  0  0  0110249247255144  0  3  0  0  0  0  0\n",
            "  0  0  0  2 32 34  0  0  0  3  4  3  2  2  5  1  4234254253177  0  2  0  0  0  0  0\n",
            "  0  0  0  0  0  0  1  3  1  0  0  0  1  1  5  2 97255248255112  0  4  0  0  0  0  0\n",
            "  0  0  0  0  2  2  0  0  0  3  4  2  0  0  0  0196255253240 21  0  1  0  0  0  0  0\n",
            "  0  0  0  0  0  0  0  0  0  0  0  0  6 23 30114254249255143  0  6  2  0  0  0  0  0\n",
            "  0  0  0  0  0  0  1  1  0 68137189222239247255252251254141 35  0  0  3  0  0  0  0\n",
            "  0  0  0  0  0  0  2  0151255255255255254253255255255250255245162 42  0  2  0  0  0\n",
            "  0  0  0  0  0  0  2  0183255255255255255255244213241255255253255245106  0  2  0  0\n",
            "  0  0  0  0  0  0  1  1 17137182193190154 96 32  2 26 91195255249254255 87  0  3  0\n",
            "  0  0  0  0  0  0  0  0  0  0  0  0  0  0  0  0  0  0  0  0117254249254218  5  1  1\n",
            "  0  0  0  0  0  0  0  0  1  4  3  2  2  4  4  2  1  1  4  1  0207255252253 41  0  2\n",
            "  0  0  0  0  0  0  0  0  0  0  0  0  0  0  0  0  0  0  0  3  1182255250255 54  0  3\n",
            "  0  0  0  2  3  4  1  0  0  0  0  0  0  0  0  0  0  0  3  1 10230254253246 27  0  2\n",
            "  0  0  0  0  0  0  0  1  0  0  0  0  0  0  0  0  1  4  0  0156255247255180  0  2  0\n",
            "  0  1  0 83162126 12  0  3  0  0  0  0  0  2  4  0  0 21166255248255246 43  1  2  0\n",
            "  2  0 48255255255186 14  0  4  4  4  4  2  0  0  8102227255247255247 75  0  2  0  0\n",
            "  1  1 23225255244255212 54  0  0  0  0  0 33118215255255252255213 56  0  3  0  0  0\n",
            "  0  2  0 49218255247255249164113108131184244255255255255242133 11  0  3  0  0  0  0\n",
            "  0  0  2  0 18170255255255255255255255255255255255231141 35  0  0  2  0  0  0  0  0\n",
            "  0  0  0  3  0  0 89200252255255255255255240185 98 20  0  0  3  1  0  0  0  0  0  0\n",
            "  0  0  0  0  1  1  0  0 44 86107112 97 66 26  0  0  0  3  2  0  0  0  0  0  0  0  0\n",
            "  0  0  0  0  0  0  3  0  0  0  0  0  0  0  0  2  3  1  0  0  0  0  0  0  0  0  0  0\n",
            "  0  0  0  0  0  0  0  0  2  4  4  4  4  3  2  0  0  0  0  0  0  0  0  0  0  0  0  0\n"
          ],
          "name": "stdout"
        }
      ]
    },
    {
      "cell_type": "markdown",
      "metadata": {
        "id": "ArKnA1fTbFfz"
      },
      "source": [
        "## Carga de datos"
      ]
    },
    {
      "cell_type": "markdown",
      "metadata": {
        "id": "RRkhxihZbFf0"
      },
      "source": [
        "### Carga de conjunto de entrenamiento"
      ]
    },
    {
      "cell_type": "code",
      "metadata": {
        "ExecuteTime": {
          "end_time": "2020-11-06T02:34:27.217246Z",
          "start_time": "2020-11-06T02:34:26.596113Z"
        },
        "id": "IlZnqMpBbFf2"
      },
      "source": [
        "df = pd.read_csv(\"digits_train_sample.csv\")"
      ],
      "execution_count": null,
      "outputs": []
    },
    {
      "cell_type": "code",
      "metadata": {
        "ExecuteTime": {
          "end_time": "2020-11-06T02:34:27.244954Z",
          "start_time": "2020-11-06T02:34:27.220211Z"
        },
        "id": "MciN_Y5SbFf3",
        "outputId": "839400ff-f349-42dc-adbc-72d24ee258a5"
      },
      "source": [
        "df"
      ],
      "execution_count": null,
      "outputs": [
        {
          "output_type": "execute_result",
          "data": {
            "text/html": [
              "<div>\n",
              "<style scoped>\n",
              "    .dataframe tbody tr th:only-of-type {\n",
              "        vertical-align: middle;\n",
              "    }\n",
              "\n",
              "    .dataframe tbody tr th {\n",
              "        vertical-align: top;\n",
              "    }\n",
              "\n",
              "    .dataframe thead th {\n",
              "        text-align: right;\n",
              "    }\n",
              "</style>\n",
              "<table border=\"1\" class=\"dataframe\">\n",
              "  <thead>\n",
              "    <tr style=\"text-align: right;\">\n",
              "      <th></th>\n",
              "      <th>label</th>\n",
              "      <th>1x1</th>\n",
              "      <th>1x2</th>\n",
              "      <th>1x3</th>\n",
              "      <th>1x4</th>\n",
              "      <th>1x5</th>\n",
              "      <th>1x6</th>\n",
              "      <th>1x7</th>\n",
              "      <th>1x8</th>\n",
              "      <th>1x9</th>\n",
              "      <th>...</th>\n",
              "      <th>28x19</th>\n",
              "      <th>28x20</th>\n",
              "      <th>28x21</th>\n",
              "      <th>28x22</th>\n",
              "      <th>28x23</th>\n",
              "      <th>28x24</th>\n",
              "      <th>28x25</th>\n",
              "      <th>28x26</th>\n",
              "      <th>28x27</th>\n",
              "      <th>28x28</th>\n",
              "    </tr>\n",
              "  </thead>\n",
              "  <tbody>\n",
              "    <tr>\n",
              "      <th>0</th>\n",
              "      <td>3</td>\n",
              "      <td>0</td>\n",
              "      <td>0</td>\n",
              "      <td>0</td>\n",
              "      <td>0</td>\n",
              "      <td>0</td>\n",
              "      <td>0</td>\n",
              "      <td>0</td>\n",
              "      <td>0</td>\n",
              "      <td>0</td>\n",
              "      <td>...</td>\n",
              "      <td>0</td>\n",
              "      <td>0</td>\n",
              "      <td>0</td>\n",
              "      <td>0</td>\n",
              "      <td>0</td>\n",
              "      <td>0</td>\n",
              "      <td>0</td>\n",
              "      <td>0</td>\n",
              "      <td>0</td>\n",
              "      <td>0</td>\n",
              "    </tr>\n",
              "    <tr>\n",
              "      <th>1</th>\n",
              "      <td>5</td>\n",
              "      <td>0</td>\n",
              "      <td>0</td>\n",
              "      <td>0</td>\n",
              "      <td>0</td>\n",
              "      <td>0</td>\n",
              "      <td>0</td>\n",
              "      <td>0</td>\n",
              "      <td>0</td>\n",
              "      <td>0</td>\n",
              "      <td>...</td>\n",
              "      <td>0</td>\n",
              "      <td>0</td>\n",
              "      <td>0</td>\n",
              "      <td>0</td>\n",
              "      <td>0</td>\n",
              "      <td>0</td>\n",
              "      <td>0</td>\n",
              "      <td>0</td>\n",
              "      <td>0</td>\n",
              "      <td>0</td>\n",
              "    </tr>\n",
              "    <tr>\n",
              "      <th>2</th>\n",
              "      <td>3</td>\n",
              "      <td>0</td>\n",
              "      <td>0</td>\n",
              "      <td>0</td>\n",
              "      <td>0</td>\n",
              "      <td>0</td>\n",
              "      <td>0</td>\n",
              "      <td>0</td>\n",
              "      <td>0</td>\n",
              "      <td>0</td>\n",
              "      <td>...</td>\n",
              "      <td>0</td>\n",
              "      <td>0</td>\n",
              "      <td>0</td>\n",
              "      <td>0</td>\n",
              "      <td>0</td>\n",
              "      <td>0</td>\n",
              "      <td>0</td>\n",
              "      <td>0</td>\n",
              "      <td>0</td>\n",
              "      <td>0</td>\n",
              "    </tr>\n",
              "    <tr>\n",
              "      <th>3</th>\n",
              "      <td>8</td>\n",
              "      <td>0</td>\n",
              "      <td>0</td>\n",
              "      <td>0</td>\n",
              "      <td>0</td>\n",
              "      <td>0</td>\n",
              "      <td>0</td>\n",
              "      <td>0</td>\n",
              "      <td>0</td>\n",
              "      <td>0</td>\n",
              "      <td>...</td>\n",
              "      <td>0</td>\n",
              "      <td>0</td>\n",
              "      <td>0</td>\n",
              "      <td>0</td>\n",
              "      <td>0</td>\n",
              "      <td>0</td>\n",
              "      <td>0</td>\n",
              "      <td>0</td>\n",
              "      <td>0</td>\n",
              "      <td>0</td>\n",
              "    </tr>\n",
              "    <tr>\n",
              "      <th>4</th>\n",
              "      <td>0</td>\n",
              "      <td>0</td>\n",
              "      <td>0</td>\n",
              "      <td>0</td>\n",
              "      <td>0</td>\n",
              "      <td>0</td>\n",
              "      <td>0</td>\n",
              "      <td>0</td>\n",
              "      <td>0</td>\n",
              "      <td>0</td>\n",
              "      <td>...</td>\n",
              "      <td>0</td>\n",
              "      <td>0</td>\n",
              "      <td>0</td>\n",
              "      <td>0</td>\n",
              "      <td>0</td>\n",
              "      <td>0</td>\n",
              "      <td>0</td>\n",
              "      <td>0</td>\n",
              "      <td>0</td>\n",
              "      <td>0</td>\n",
              "    </tr>\n",
              "    <tr>\n",
              "      <th>...</th>\n",
              "      <td>...</td>\n",
              "      <td>...</td>\n",
              "      <td>...</td>\n",
              "      <td>...</td>\n",
              "      <td>...</td>\n",
              "      <td>...</td>\n",
              "      <td>...</td>\n",
              "      <td>...</td>\n",
              "      <td>...</td>\n",
              "      <td>...</td>\n",
              "      <td>...</td>\n",
              "      <td>...</td>\n",
              "      <td>...</td>\n",
              "      <td>...</td>\n",
              "      <td>...</td>\n",
              "      <td>...</td>\n",
              "      <td>...</td>\n",
              "      <td>...</td>\n",
              "      <td>...</td>\n",
              "      <td>...</td>\n",
              "      <td>...</td>\n",
              "    </tr>\n",
              "    <tr>\n",
              "      <th>5995</th>\n",
              "      <td>5</td>\n",
              "      <td>0</td>\n",
              "      <td>0</td>\n",
              "      <td>0</td>\n",
              "      <td>0</td>\n",
              "      <td>0</td>\n",
              "      <td>0</td>\n",
              "      <td>0</td>\n",
              "      <td>0</td>\n",
              "      <td>0</td>\n",
              "      <td>...</td>\n",
              "      <td>0</td>\n",
              "      <td>0</td>\n",
              "      <td>0</td>\n",
              "      <td>0</td>\n",
              "      <td>0</td>\n",
              "      <td>0</td>\n",
              "      <td>0</td>\n",
              "      <td>0</td>\n",
              "      <td>0</td>\n",
              "      <td>0</td>\n",
              "    </tr>\n",
              "    <tr>\n",
              "      <th>5996</th>\n",
              "      <td>8</td>\n",
              "      <td>0</td>\n",
              "      <td>0</td>\n",
              "      <td>0</td>\n",
              "      <td>0</td>\n",
              "      <td>0</td>\n",
              "      <td>0</td>\n",
              "      <td>0</td>\n",
              "      <td>0</td>\n",
              "      <td>0</td>\n",
              "      <td>...</td>\n",
              "      <td>0</td>\n",
              "      <td>0</td>\n",
              "      <td>0</td>\n",
              "      <td>0</td>\n",
              "      <td>0</td>\n",
              "      <td>0</td>\n",
              "      <td>0</td>\n",
              "      <td>0</td>\n",
              "      <td>0</td>\n",
              "      <td>0</td>\n",
              "    </tr>\n",
              "    <tr>\n",
              "      <th>5997</th>\n",
              "      <td>2</td>\n",
              "      <td>0</td>\n",
              "      <td>0</td>\n",
              "      <td>0</td>\n",
              "      <td>0</td>\n",
              "      <td>0</td>\n",
              "      <td>0</td>\n",
              "      <td>0</td>\n",
              "      <td>0</td>\n",
              "      <td>0</td>\n",
              "      <td>...</td>\n",
              "      <td>0</td>\n",
              "      <td>0</td>\n",
              "      <td>0</td>\n",
              "      <td>0</td>\n",
              "      <td>0</td>\n",
              "      <td>0</td>\n",
              "      <td>0</td>\n",
              "      <td>0</td>\n",
              "      <td>0</td>\n",
              "      <td>0</td>\n",
              "    </tr>\n",
              "    <tr>\n",
              "      <th>5998</th>\n",
              "      <td>0</td>\n",
              "      <td>0</td>\n",
              "      <td>0</td>\n",
              "      <td>0</td>\n",
              "      <td>0</td>\n",
              "      <td>0</td>\n",
              "      <td>0</td>\n",
              "      <td>0</td>\n",
              "      <td>0</td>\n",
              "      <td>0</td>\n",
              "      <td>...</td>\n",
              "      <td>0</td>\n",
              "      <td>0</td>\n",
              "      <td>0</td>\n",
              "      <td>0</td>\n",
              "      <td>0</td>\n",
              "      <td>0</td>\n",
              "      <td>0</td>\n",
              "      <td>0</td>\n",
              "      <td>0</td>\n",
              "      <td>0</td>\n",
              "    </tr>\n",
              "    <tr>\n",
              "      <th>5999</th>\n",
              "      <td>8</td>\n",
              "      <td>0</td>\n",
              "      <td>0</td>\n",
              "      <td>0</td>\n",
              "      <td>0</td>\n",
              "      <td>0</td>\n",
              "      <td>0</td>\n",
              "      <td>0</td>\n",
              "      <td>0</td>\n",
              "      <td>0</td>\n",
              "      <td>...</td>\n",
              "      <td>0</td>\n",
              "      <td>0</td>\n",
              "      <td>0</td>\n",
              "      <td>0</td>\n",
              "      <td>0</td>\n",
              "      <td>0</td>\n",
              "      <td>0</td>\n",
              "      <td>0</td>\n",
              "      <td>0</td>\n",
              "      <td>0</td>\n",
              "    </tr>\n",
              "  </tbody>\n",
              "</table>\n",
              "<p>6000 rows × 785 columns</p>\n",
              "</div>"
            ],
            "text/plain": [
              "      label  1x1  1x2  1x3  1x4  1x5  1x6  1x7  1x8  1x9  ...  28x19  28x20  \\\n",
              "0         3    0    0    0    0    0    0    0    0    0  ...      0      0   \n",
              "1         5    0    0    0    0    0    0    0    0    0  ...      0      0   \n",
              "2         3    0    0    0    0    0    0    0    0    0  ...      0      0   \n",
              "3         8    0    0    0    0    0    0    0    0    0  ...      0      0   \n",
              "4         0    0    0    0    0    0    0    0    0    0  ...      0      0   \n",
              "...     ...  ...  ...  ...  ...  ...  ...  ...  ...  ...  ...    ...    ...   \n",
              "5995      5    0    0    0    0    0    0    0    0    0  ...      0      0   \n",
              "5996      8    0    0    0    0    0    0    0    0    0  ...      0      0   \n",
              "5997      2    0    0    0    0    0    0    0    0    0  ...      0      0   \n",
              "5998      0    0    0    0    0    0    0    0    0    0  ...      0      0   \n",
              "5999      8    0    0    0    0    0    0    0    0    0  ...      0      0   \n",
              "\n",
              "      28x21  28x22  28x23  28x24  28x25  28x26  28x27  28x28  \n",
              "0         0      0      0      0      0      0      0      0  \n",
              "1         0      0      0      0      0      0      0      0  \n",
              "2         0      0      0      0      0      0      0      0  \n",
              "3         0      0      0      0      0      0      0      0  \n",
              "4         0      0      0      0      0      0      0      0  \n",
              "...     ...    ...    ...    ...    ...    ...    ...    ...  \n",
              "5995      0      0      0      0      0      0      0      0  \n",
              "5996      0      0      0      0      0      0      0      0  \n",
              "5997      0      0      0      0      0      0      0      0  \n",
              "5998      0      0      0      0      0      0      0      0  \n",
              "5999      0      0      0      0      0      0      0      0  \n",
              "\n",
              "[6000 rows x 785 columns]"
            ]
          },
          "metadata": {
            "tags": []
          },
          "execution_count": 10
        }
      ]
    },
    {
      "cell_type": "markdown",
      "metadata": {
        "id": "yF_lDPYWbFf5"
      },
      "source": [
        "### Análisis Exploratorio"
      ]
    },
    {
      "cell_type": "code",
      "metadata": {
        "ExecuteTime": {
          "end_time": "2020-11-06T02:35:13.130092Z",
          "start_time": "2020-11-06T02:35:13.118632Z"
        },
        "id": "7LGUVisAbFf6",
        "outputId": "7dbcc706-9a19-4c2f-9385-b02ea358fa39"
      },
      "source": [
        "df[\"label\"].value_counts(True)"
      ],
      "execution_count": null,
      "outputs": [
        {
          "output_type": "execute_result",
          "data": {
            "text/plain": [
              "7    0.112833\n",
              "1    0.111833\n",
              "8    0.104667\n",
              "0    0.100500\n",
              "9    0.099000\n",
              "6    0.098500\n",
              "3    0.097167\n",
              "2    0.094500\n",
              "4    0.091000\n",
              "5    0.090000\n",
              "Name: label, dtype: float64"
            ]
          },
          "metadata": {
            "tags": []
          },
          "execution_count": 11
        }
      ]
    },
    {
      "cell_type": "code",
      "metadata": {
        "ExecuteTime": {
          "end_time": "2020-11-06T02:35:27.765373Z",
          "start_time": "2020-11-06T02:35:27.721658Z"
        },
        "id": "7eNYaezFbFf7",
        "outputId": "d924743b-ac74-4aff-b312-f049cd18b746"
      },
      "source": [
        "df.sample(5)"
      ],
      "execution_count": null,
      "outputs": [
        {
          "output_type": "execute_result",
          "data": {
            "text/html": [
              "<div>\n",
              "<style scoped>\n",
              "    .dataframe tbody tr th:only-of-type {\n",
              "        vertical-align: middle;\n",
              "    }\n",
              "\n",
              "    .dataframe tbody tr th {\n",
              "        vertical-align: top;\n",
              "    }\n",
              "\n",
              "    .dataframe thead th {\n",
              "        text-align: right;\n",
              "    }\n",
              "</style>\n",
              "<table border=\"1\" class=\"dataframe\">\n",
              "  <thead>\n",
              "    <tr style=\"text-align: right;\">\n",
              "      <th></th>\n",
              "      <th>label</th>\n",
              "      <th>1x1</th>\n",
              "      <th>1x2</th>\n",
              "      <th>1x3</th>\n",
              "      <th>1x4</th>\n",
              "      <th>1x5</th>\n",
              "      <th>1x6</th>\n",
              "      <th>1x7</th>\n",
              "      <th>1x8</th>\n",
              "      <th>1x9</th>\n",
              "      <th>...</th>\n",
              "      <th>28x19</th>\n",
              "      <th>28x20</th>\n",
              "      <th>28x21</th>\n",
              "      <th>28x22</th>\n",
              "      <th>28x23</th>\n",
              "      <th>28x24</th>\n",
              "      <th>28x25</th>\n",
              "      <th>28x26</th>\n",
              "      <th>28x27</th>\n",
              "      <th>28x28</th>\n",
              "    </tr>\n",
              "  </thead>\n",
              "  <tbody>\n",
              "    <tr>\n",
              "      <th>2450</th>\n",
              "      <td>6</td>\n",
              "      <td>0</td>\n",
              "      <td>0</td>\n",
              "      <td>0</td>\n",
              "      <td>0</td>\n",
              "      <td>0</td>\n",
              "      <td>0</td>\n",
              "      <td>0</td>\n",
              "      <td>0</td>\n",
              "      <td>0</td>\n",
              "      <td>...</td>\n",
              "      <td>0</td>\n",
              "      <td>0</td>\n",
              "      <td>0</td>\n",
              "      <td>0</td>\n",
              "      <td>0</td>\n",
              "      <td>0</td>\n",
              "      <td>0</td>\n",
              "      <td>0</td>\n",
              "      <td>0</td>\n",
              "      <td>0</td>\n",
              "    </tr>\n",
              "    <tr>\n",
              "      <th>897</th>\n",
              "      <td>7</td>\n",
              "      <td>0</td>\n",
              "      <td>0</td>\n",
              "      <td>0</td>\n",
              "      <td>0</td>\n",
              "      <td>0</td>\n",
              "      <td>0</td>\n",
              "      <td>0</td>\n",
              "      <td>0</td>\n",
              "      <td>0</td>\n",
              "      <td>...</td>\n",
              "      <td>0</td>\n",
              "      <td>0</td>\n",
              "      <td>0</td>\n",
              "      <td>0</td>\n",
              "      <td>0</td>\n",
              "      <td>0</td>\n",
              "      <td>0</td>\n",
              "      <td>0</td>\n",
              "      <td>0</td>\n",
              "      <td>0</td>\n",
              "    </tr>\n",
              "    <tr>\n",
              "      <th>5590</th>\n",
              "      <td>7</td>\n",
              "      <td>0</td>\n",
              "      <td>0</td>\n",
              "      <td>0</td>\n",
              "      <td>0</td>\n",
              "      <td>0</td>\n",
              "      <td>0</td>\n",
              "      <td>0</td>\n",
              "      <td>0</td>\n",
              "      <td>0</td>\n",
              "      <td>...</td>\n",
              "      <td>0</td>\n",
              "      <td>0</td>\n",
              "      <td>0</td>\n",
              "      <td>0</td>\n",
              "      <td>0</td>\n",
              "      <td>0</td>\n",
              "      <td>0</td>\n",
              "      <td>0</td>\n",
              "      <td>0</td>\n",
              "      <td>0</td>\n",
              "    </tr>\n",
              "    <tr>\n",
              "      <th>2201</th>\n",
              "      <td>3</td>\n",
              "      <td>0</td>\n",
              "      <td>0</td>\n",
              "      <td>0</td>\n",
              "      <td>0</td>\n",
              "      <td>0</td>\n",
              "      <td>0</td>\n",
              "      <td>0</td>\n",
              "      <td>0</td>\n",
              "      <td>0</td>\n",
              "      <td>...</td>\n",
              "      <td>0</td>\n",
              "      <td>0</td>\n",
              "      <td>0</td>\n",
              "      <td>0</td>\n",
              "      <td>0</td>\n",
              "      <td>0</td>\n",
              "      <td>0</td>\n",
              "      <td>0</td>\n",
              "      <td>0</td>\n",
              "      <td>0</td>\n",
              "    </tr>\n",
              "    <tr>\n",
              "      <th>2681</th>\n",
              "      <td>6</td>\n",
              "      <td>0</td>\n",
              "      <td>0</td>\n",
              "      <td>0</td>\n",
              "      <td>0</td>\n",
              "      <td>0</td>\n",
              "      <td>0</td>\n",
              "      <td>0</td>\n",
              "      <td>0</td>\n",
              "      <td>0</td>\n",
              "      <td>...</td>\n",
              "      <td>0</td>\n",
              "      <td>0</td>\n",
              "      <td>0</td>\n",
              "      <td>0</td>\n",
              "      <td>0</td>\n",
              "      <td>0</td>\n",
              "      <td>0</td>\n",
              "      <td>0</td>\n",
              "      <td>0</td>\n",
              "      <td>0</td>\n",
              "    </tr>\n",
              "  </tbody>\n",
              "</table>\n",
              "<p>5 rows × 785 columns</p>\n",
              "</div>"
            ],
            "text/plain": [
              "      label  1x1  1x2  1x3  1x4  1x5  1x6  1x7  1x8  1x9  ...  28x19  28x20  \\\n",
              "2450      6    0    0    0    0    0    0    0    0    0  ...      0      0   \n",
              "897       7    0    0    0    0    0    0    0    0    0  ...      0      0   \n",
              "5590      7    0    0    0    0    0    0    0    0    0  ...      0      0   \n",
              "2201      3    0    0    0    0    0    0    0    0    0  ...      0      0   \n",
              "2681      6    0    0    0    0    0    0    0    0    0  ...      0      0   \n",
              "\n",
              "      28x21  28x22  28x23  28x24  28x25  28x26  28x27  28x28  \n",
              "2450      0      0      0      0      0      0      0      0  \n",
              "897       0      0      0      0      0      0      0      0  \n",
              "5590      0      0      0      0      0      0      0      0  \n",
              "2201      0      0      0      0      0      0      0      0  \n",
              "2681      0      0      0      0      0      0      0      0  \n",
              "\n",
              "[5 rows x 785 columns]"
            ]
          },
          "metadata": {
            "tags": []
          },
          "execution_count": 12
        }
      ]
    },
    {
      "cell_type": "markdown",
      "metadata": {
        "id": "NDhMO0b6bFf8"
      },
      "source": [
        "### Preparación de datos"
      ]
    },
    {
      "cell_type": "code",
      "metadata": {
        "ExecuteTime": {
          "end_time": "2020-11-06T02:35:51.461663Z",
          "start_time": "2020-11-06T02:35:51.442878Z"
        },
        "id": "nT8Q9KR-bFf_"
      },
      "source": [
        "X = df[[x for x in df.columns if x != \"label\"]]\n",
        "y = df[[\"label\"]]"
      ],
      "execution_count": null,
      "outputs": []
    },
    {
      "cell_type": "code",
      "metadata": {
        "ExecuteTime": {
          "end_time": "2020-11-06T02:35:54.593368Z",
          "start_time": "2020-11-06T02:35:54.562667Z"
        },
        "id": "HMsDu3YEbFgA"
      },
      "source": [
        "X_train, X_test, y_train, y_test = train_test_split(X, y, train_size=.7)"
      ],
      "execution_count": null,
      "outputs": []
    },
    {
      "cell_type": "code",
      "metadata": {
        "ExecuteTime": {
          "end_time": "2020-11-06T02:35:54.800360Z",
          "start_time": "2020-11-06T02:35:54.797702Z"
        },
        "id": "_kT9cNfjbFgB"
      },
      "source": [
        "sc_x = MinMaxScaler()"
      ],
      "execution_count": null,
      "outputs": []
    },
    {
      "cell_type": "code",
      "metadata": {
        "ExecuteTime": {
          "end_time": "2020-11-06T02:35:55.097044Z",
          "start_time": "2020-11-06T02:35:55.040016Z"
        },
        "id": "bZQUx5GcbFgC"
      },
      "source": [
        "Xs = sc_x.fit_transform(X_train)"
      ],
      "execution_count": null,
      "outputs": []
    },
    {
      "cell_type": "markdown",
      "metadata": {
        "id": "A0qqMUX7bFgD"
      },
      "source": [
        "## Modelado"
      ]
    },
    {
      "cell_type": "markdown",
      "metadata": {
        "id": "BJLThvx5bFgE"
      },
      "source": [
        "### LDA"
      ]
    },
    {
      "cell_type": "markdown",
      "metadata": {
        "id": "tPD8bDyfbFgF"
      },
      "source": [
        "#### Entrenamiento"
      ]
    },
    {
      "cell_type": "code",
      "metadata": {
        "ExecuteTime": {
          "end_time": "2020-11-06T02:38:27.020353Z",
          "start_time": "2020-11-06T02:38:27.014546Z"
        },
        "id": "nN63v2IrbFgG",
        "outputId": "d0410e25-7d1b-4e0c-a9fb-79af01b78d4f"
      },
      "source": [
        "y_train.values.ravel()"
      ],
      "execution_count": null,
      "outputs": [
        {
          "output_type": "execute_result",
          "data": {
            "text/plain": [
              "array([8, 0, 4, ..., 6, 6, 4])"
            ]
          },
          "metadata": {
            "tags": []
          },
          "execution_count": 20
        }
      ]
    },
    {
      "cell_type": "code",
      "metadata": {
        "ExecuteTime": {
          "end_time": "2020-11-06T02:37:33.131821Z",
          "start_time": "2020-11-06T02:37:28.307890Z"
        },
        "id": "Eg7P6-f2bFgI",
        "outputId": "bb8f92aa-4bd4-4a59-aff5-71880ba05c79"
      },
      "source": [
        "lda = LinearDiscriminantAnalysis()\n",
        "lda.fit(Xs, y_train.values.ravel())\n",
        "ls_scores = cross_val_score(estimator=lda, scoring=\"accuracy\", X=Xs, y=y_train, cv=4, n_jobs=-1)\n",
        "np.mean(ls_scores), np.std(ls_scores)"
      ],
      "execution_count": null,
      "outputs": [
        {
          "output_type": "execute_result",
          "data": {
            "text/plain": [
              "(0.8173809523809523, 0.009650937237862502)"
            ]
          },
          "metadata": {
            "tags": []
          },
          "execution_count": 17
        }
      ]
    },
    {
      "cell_type": "markdown",
      "metadata": {
        "id": "MxZN0OgobFgJ"
      },
      "source": [
        "### Support Vector Machine"
      ]
    },
    {
      "cell_type": "markdown",
      "metadata": {
        "id": "v0zCSlaZbFgK"
      },
      "source": [
        "#### Entrenamiento"
      ]
    },
    {
      "cell_type": "code",
      "metadata": {
        "ExecuteTime": {
          "end_time": "2020-11-06T02:39:04.559409Z",
          "start_time": "2020-11-06T02:38:41.646077Z"
        },
        "id": "1bqZD0YzbFgL",
        "outputId": "f323a495-d440-4ca4-d975-da19fdf8575b"
      },
      "source": [
        "svm = SVC()\n",
        "svm.fit(X_train, y_train.values.ravel())\n",
        "ls_scores = cross_val_score(estimator=svm, scoring=\"accuracy\", X=X_train, y=y_train, cv=4, n_jobs=-1)\n",
        "np.mean(ls_scores), np.std(ls_scores)"
      ],
      "execution_count": null,
      "outputs": [
        {
          "output_type": "execute_result",
          "data": {
            "text/plain": [
              "(0.9480952380952381, 0.0054084841388574246)"
            ]
          },
          "metadata": {
            "tags": []
          },
          "execution_count": 21
        }
      ]
    },
    {
      "cell_type": "markdown",
      "metadata": {
        "id": "HMoQbNrkbFgN"
      },
      "source": [
        "#### Hyperparametrización"
      ]
    },
    {
      "cell_type": "code",
      "metadata": {
        "ExecuteTime": {
          "end_time": "2020-11-06T02:39:04.569383Z",
          "start_time": "2020-11-06T02:39:04.561934Z"
        },
        "id": "U2HuOETXbFgO"
      },
      "source": [
        "svm?"
      ],
      "execution_count": null,
      "outputs": []
    },
    {
      "cell_type": "code",
      "metadata": {
        "ExecuteTime": {
          "end_time": "2020-11-06T02:39:04.676661Z",
          "start_time": "2020-11-06T02:39:04.572723Z"
        },
        "id": "oyNWe0wobFgP"
      },
      "source": [
        "param_grid = {\"C\": [x for x in range(10)],\n",
        "              \"kernel\": ['linear', 'poly', 'rbf', 'sigmoid']}"
      ],
      "execution_count": null,
      "outputs": []
    },
    {
      "cell_type": "code",
      "metadata": {
        "ExecuteTime": {
          "end_time": "2020-11-06T02:39:04.788886Z",
          "start_time": "2020-11-06T02:39:04.679053Z"
        },
        "id": "U2mEQWuFbFgQ"
      },
      "source": [
        "n_hyper = np.prod([x for x in map(len, param_grid.values())])"
      ],
      "execution_count": null,
      "outputs": []
    },
    {
      "cell_type": "code",
      "metadata": {
        "ExecuteTime": {
          "end_time": "2020-11-06T02:39:04.859907Z",
          "start_time": "2020-11-06T02:39:04.791568Z"
        },
        "id": "obaEPOvXbFgQ",
        "outputId": "070eec2d-0abe-42fb-b16f-44e224c29e70"
      },
      "source": [
        "n_hyper"
      ],
      "execution_count": null,
      "outputs": [
        {
          "output_type": "execute_result",
          "data": {
            "text/plain": [
              "40"
            ]
          },
          "metadata": {
            "tags": []
          },
          "execution_count": 25
        }
      ]
    },
    {
      "cell_type": "code",
      "metadata": {
        "ExecuteTime": {
          "end_time": "2020-11-06T02:42:48.443157Z",
          "start_time": "2020-11-06T02:39:04.864092Z"
        },
        "id": "f8tQz33cbFgS",
        "outputId": "d330274e-e82e-4bfe-c2b4-f7ce520c09f9"
      },
      "source": [
        "%%time\n",
        "model = SVC()\n",
        "clf = GridSearchCV(model, param_grid, cv=4, error_score=-1000, n_jobs=-1, scoring=\"accuracy\", verbose=5)\n",
        "clf.fit(Xs, y_train.values.ravel())"
      ],
      "execution_count": null,
      "outputs": [
        {
          "output_type": "stream",
          "text": [
            "Fitting 4 folds for each of 40 candidates, totalling 160 fits\n"
          ],
          "name": "stdout"
        },
        {
          "output_type": "stream",
          "text": [
            "[Parallel(n_jobs=-1)]: Using backend LokyBackend with 8 concurrent workers.\n",
            "[Parallel(n_jobs=-1)]: Done   2 tasks      | elapsed:    0.1s\n",
            "[Parallel(n_jobs=-1)]: Done  72 tasks      | elapsed:  1.7min\n",
            "[Parallel(n_jobs=-1)]: Done 160 out of 160 | elapsed:  3.6min finished\n"
          ],
          "name": "stderr"
        },
        {
          "output_type": "stream",
          "text": [
            "CPU times: user 7.29 s, sys: 43.7 ms, total: 7.34 s\n",
            "Wall time: 3min 43s\n"
          ],
          "name": "stdout"
        },
        {
          "output_type": "execute_result",
          "data": {
            "text/plain": [
              "GridSearchCV(cv=4, error_score=-1000,\n",
              "             estimator=SVC(C=1.0, break_ties=False, cache_size=200,\n",
              "                           class_weight=None, coef0=0.0,\n",
              "                           decision_function_shape='ovr', degree=3,\n",
              "                           gamma='scale', kernel='rbf', max_iter=-1,\n",
              "                           probability=False, random_state=None, shrinking=True,\n",
              "                           tol=0.001, verbose=False),\n",
              "             iid='deprecated', n_jobs=-1,\n",
              "             param_grid={'C': [0, 1, 2, 3, 4, 5, 6, 7, 8, 9],\n",
              "                         'kernel': ['linear', 'poly', 'rbf', 'sigmoid']},\n",
              "             pre_dispatch='2*n_jobs', refit=True, return_train_score=False,\n",
              "             scoring='accuracy', verbose=5)"
            ]
          },
          "metadata": {
            "tags": []
          },
          "execution_count": 26
        }
      ]
    },
    {
      "cell_type": "code",
      "metadata": {
        "ExecuteTime": {
          "end_time": "2020-11-06T02:43:05.520786Z",
          "start_time": "2020-11-06T02:43:05.516567Z"
        },
        "id": "6EGSCHN4bFgU",
        "outputId": "1a3adeff-e025-49e0-d3bb-d57dd4b90eb5"
      },
      "source": [
        "print(\"Best score: \" + str(clf.best_score_))\n",
        "print(\"Best estimator: \" + str(clf.best_estimator_))"
      ],
      "execution_count": null,
      "outputs": [
        {
          "output_type": "stream",
          "text": [
            "Best score: 0.9545238095238096\n",
            "Best estimator: SVC(C=4, break_ties=False, cache_size=200, class_weight=None, coef0=0.0,\n",
            "    decision_function_shape='ovr', degree=3, gamma='scale', kernel='rbf',\n",
            "    max_iter=-1, probability=False, random_state=None, shrinking=True,\n",
            "    tol=0.001, verbose=False)\n"
          ],
          "name": "stdout"
        }
      ]
    },
    {
      "cell_type": "markdown",
      "metadata": {
        "id": "qjY-PptzbFgV"
      },
      "source": [
        "### Validación del modelo"
      ]
    },
    {
      "cell_type": "markdown",
      "metadata": {
        "id": "HMY8MsMfbFgW"
      },
      "source": [
        "#### Análisis de resultados"
      ]
    },
    {
      "cell_type": "code",
      "metadata": {
        "ExecuteTime": {
          "end_time": "2020-11-06T02:43:41.278423Z",
          "start_time": "2020-11-06T02:43:29.515946Z"
        },
        "id": "UOEj_-lEbFgX"
      },
      "source": [
        "y_pred = svm.predict(X_train)"
      ],
      "execution_count": null,
      "outputs": []
    },
    {
      "cell_type": "code",
      "metadata": {
        "ExecuteTime": {
          "end_time": "2020-11-06T02:43:41.291378Z",
          "start_time": "2020-11-06T02:43:41.281227Z"
        },
        "id": "-YhpZs0RbFgX",
        "outputId": "15b17433-1b28-43e5-b8fb-edd41cecef26"
      },
      "source": [
        "confusion_matrix(y_true=y_train, y_pred=y_pred)"
      ],
      "execution_count": null,
      "outputs": [
        {
          "output_type": "execute_result",
          "data": {
            "text/plain": [
              "array([[412,   0,   0,   0,   0,   0,   1,   0,   2,   0],\n",
              "       [  0, 484,   2,   1,   0,   0,   0,   0,   1,   0],\n",
              "       [  1,   1, 381,   0,   1,   0,   1,   3,   0,   0],\n",
              "       [  1,   0,   2, 408,   0,   1,   0,   0,   1,   1],\n",
              "       [  0,   0,   1,   0, 377,   0,   0,   0,   0,   0],\n",
              "       [  0,   0,   1,   2,   0, 368,   0,   0,   1,   0],\n",
              "       [  0,   1,   0,   0,   0,   2, 403,   0,   0,   0],\n",
              "       [  0,   0,   0,   1,   2,   0,   0, 487,   0,   2],\n",
              "       [  0,   3,   0,   2,   1,   1,   0,   0, 415,   2],\n",
              "       [  1,   1,   0,   1,   2,   0,   0,   2,   1, 415]])"
            ]
          },
          "metadata": {
            "tags": []
          },
          "execution_count": 29
        }
      ]
    },
    {
      "cell_type": "markdown",
      "metadata": {
        "id": "WrAeuvbrbFgZ"
      },
      "source": [
        "#### Pruebas del modelo en datos no vistos"
      ]
    },
    {
      "cell_type": "code",
      "metadata": {
        "ExecuteTime": {
          "end_time": "2020-11-06T02:44:10.724771Z",
          "start_time": "2020-11-06T02:44:10.423861Z"
        },
        "id": "I8B_wdSsbFga"
      },
      "source": [
        "df_val = pd.read_csv(\"digits_test_sample.csv\")"
      ],
      "execution_count": null,
      "outputs": []
    },
    {
      "cell_type": "code",
      "metadata": {
        "ExecuteTime": {
          "end_time": "2020-11-06T02:44:14.821857Z",
          "start_time": "2020-11-06T02:44:14.814531Z"
        },
        "id": "Pzo5WoVTbFga"
      },
      "source": [
        "X_val = df_val[[x for x in df_val.columns if x != \"label\"]]\n",
        "y_val = df_val[[\"label\"]]"
      ],
      "execution_count": null,
      "outputs": []
    },
    {
      "cell_type": "code",
      "metadata": {
        "ExecuteTime": {
          "end_time": "2020-11-06T02:44:20.628817Z",
          "start_time": "2020-11-06T02:44:17.665609Z"
        },
        "id": "Z0rtyHSnbFgb",
        "outputId": "8d43972e-9f3b-45a1-c9a2-a41b0b8db644"
      },
      "source": [
        "svm.score(X_val, y_val)"
      ],
      "execution_count": null,
      "outputs": [
        {
          "output_type": "execute_result",
          "data": {
            "text/plain": [
              "0.947"
            ]
          },
          "metadata": {
            "tags": []
          },
          "execution_count": 32
        }
      ]
    },
    {
      "cell_type": "code",
      "metadata": {
        "ExecuteTime": {
          "end_time": "2020-11-06T02:44:40.186827Z",
          "start_time": "2020-11-06T02:44:40.153327Z"
        },
        "id": "O43nZYNWbFgc",
        "outputId": "cb8c0cce-efe3-4a0e-e46f-cae4d3d81f0d"
      },
      "source": [
        "X_val"
      ],
      "execution_count": null,
      "outputs": [
        {
          "output_type": "execute_result",
          "data": {
            "text/html": [
              "<div>\n",
              "<style scoped>\n",
              "    .dataframe tbody tr th:only-of-type {\n",
              "        vertical-align: middle;\n",
              "    }\n",
              "\n",
              "    .dataframe tbody tr th {\n",
              "        vertical-align: top;\n",
              "    }\n",
              "\n",
              "    .dataframe thead th {\n",
              "        text-align: right;\n",
              "    }\n",
              "</style>\n",
              "<table border=\"1\" class=\"dataframe\">\n",
              "  <thead>\n",
              "    <tr style=\"text-align: right;\">\n",
              "      <th></th>\n",
              "      <th>1x1</th>\n",
              "      <th>1x2</th>\n",
              "      <th>1x3</th>\n",
              "      <th>1x4</th>\n",
              "      <th>1x5</th>\n",
              "      <th>1x6</th>\n",
              "      <th>1x7</th>\n",
              "      <th>1x8</th>\n",
              "      <th>1x9</th>\n",
              "      <th>1x10</th>\n",
              "      <th>...</th>\n",
              "      <th>28x19</th>\n",
              "      <th>28x20</th>\n",
              "      <th>28x21</th>\n",
              "      <th>28x22</th>\n",
              "      <th>28x23</th>\n",
              "      <th>28x24</th>\n",
              "      <th>28x25</th>\n",
              "      <th>28x26</th>\n",
              "      <th>28x27</th>\n",
              "      <th>28x28</th>\n",
              "    </tr>\n",
              "  </thead>\n",
              "  <tbody>\n",
              "    <tr>\n",
              "      <th>0</th>\n",
              "      <td>0</td>\n",
              "      <td>0</td>\n",
              "      <td>0</td>\n",
              "      <td>0</td>\n",
              "      <td>0</td>\n",
              "      <td>0</td>\n",
              "      <td>0</td>\n",
              "      <td>0</td>\n",
              "      <td>0</td>\n",
              "      <td>0</td>\n",
              "      <td>...</td>\n",
              "      <td>0</td>\n",
              "      <td>0</td>\n",
              "      <td>0</td>\n",
              "      <td>0</td>\n",
              "      <td>0</td>\n",
              "      <td>0</td>\n",
              "      <td>0</td>\n",
              "      <td>0</td>\n",
              "      <td>0</td>\n",
              "      <td>0</td>\n",
              "    </tr>\n",
              "    <tr>\n",
              "      <th>1</th>\n",
              "      <td>0</td>\n",
              "      <td>0</td>\n",
              "      <td>0</td>\n",
              "      <td>0</td>\n",
              "      <td>0</td>\n",
              "      <td>0</td>\n",
              "      <td>0</td>\n",
              "      <td>0</td>\n",
              "      <td>0</td>\n",
              "      <td>0</td>\n",
              "      <td>...</td>\n",
              "      <td>0</td>\n",
              "      <td>0</td>\n",
              "      <td>0</td>\n",
              "      <td>0</td>\n",
              "      <td>0</td>\n",
              "      <td>0</td>\n",
              "      <td>0</td>\n",
              "      <td>0</td>\n",
              "      <td>0</td>\n",
              "      <td>0</td>\n",
              "    </tr>\n",
              "    <tr>\n",
              "      <th>2</th>\n",
              "      <td>0</td>\n",
              "      <td>0</td>\n",
              "      <td>0</td>\n",
              "      <td>0</td>\n",
              "      <td>0</td>\n",
              "      <td>0</td>\n",
              "      <td>0</td>\n",
              "      <td>0</td>\n",
              "      <td>0</td>\n",
              "      <td>0</td>\n",
              "      <td>...</td>\n",
              "      <td>0</td>\n",
              "      <td>0</td>\n",
              "      <td>0</td>\n",
              "      <td>0</td>\n",
              "      <td>0</td>\n",
              "      <td>0</td>\n",
              "      <td>0</td>\n",
              "      <td>0</td>\n",
              "      <td>0</td>\n",
              "      <td>0</td>\n",
              "    </tr>\n",
              "    <tr>\n",
              "      <th>3</th>\n",
              "      <td>0</td>\n",
              "      <td>0</td>\n",
              "      <td>0</td>\n",
              "      <td>0</td>\n",
              "      <td>0</td>\n",
              "      <td>0</td>\n",
              "      <td>0</td>\n",
              "      <td>0</td>\n",
              "      <td>0</td>\n",
              "      <td>0</td>\n",
              "      <td>...</td>\n",
              "      <td>0</td>\n",
              "      <td>0</td>\n",
              "      <td>0</td>\n",
              "      <td>0</td>\n",
              "      <td>0</td>\n",
              "      <td>0</td>\n",
              "      <td>0</td>\n",
              "      <td>0</td>\n",
              "      <td>0</td>\n",
              "      <td>0</td>\n",
              "    </tr>\n",
              "    <tr>\n",
              "      <th>4</th>\n",
              "      <td>0</td>\n",
              "      <td>0</td>\n",
              "      <td>0</td>\n",
              "      <td>0</td>\n",
              "      <td>0</td>\n",
              "      <td>0</td>\n",
              "      <td>0</td>\n",
              "      <td>0</td>\n",
              "      <td>0</td>\n",
              "      <td>0</td>\n",
              "      <td>...</td>\n",
              "      <td>0</td>\n",
              "      <td>0</td>\n",
              "      <td>0</td>\n",
              "      <td>0</td>\n",
              "      <td>0</td>\n",
              "      <td>0</td>\n",
              "      <td>0</td>\n",
              "      <td>0</td>\n",
              "      <td>0</td>\n",
              "      <td>0</td>\n",
              "    </tr>\n",
              "    <tr>\n",
              "      <th>...</th>\n",
              "      <td>...</td>\n",
              "      <td>...</td>\n",
              "      <td>...</td>\n",
              "      <td>...</td>\n",
              "      <td>...</td>\n",
              "      <td>...</td>\n",
              "      <td>...</td>\n",
              "      <td>...</td>\n",
              "      <td>...</td>\n",
              "      <td>...</td>\n",
              "      <td>...</td>\n",
              "      <td>...</td>\n",
              "      <td>...</td>\n",
              "      <td>...</td>\n",
              "      <td>...</td>\n",
              "      <td>...</td>\n",
              "      <td>...</td>\n",
              "      <td>...</td>\n",
              "      <td>...</td>\n",
              "      <td>...</td>\n",
              "      <td>...</td>\n",
              "    </tr>\n",
              "    <tr>\n",
              "      <th>995</th>\n",
              "      <td>0</td>\n",
              "      <td>0</td>\n",
              "      <td>0</td>\n",
              "      <td>0</td>\n",
              "      <td>0</td>\n",
              "      <td>0</td>\n",
              "      <td>0</td>\n",
              "      <td>0</td>\n",
              "      <td>0</td>\n",
              "      <td>0</td>\n",
              "      <td>...</td>\n",
              "      <td>0</td>\n",
              "      <td>0</td>\n",
              "      <td>0</td>\n",
              "      <td>0</td>\n",
              "      <td>0</td>\n",
              "      <td>0</td>\n",
              "      <td>0</td>\n",
              "      <td>0</td>\n",
              "      <td>0</td>\n",
              "      <td>0</td>\n",
              "    </tr>\n",
              "    <tr>\n",
              "      <th>996</th>\n",
              "      <td>0</td>\n",
              "      <td>0</td>\n",
              "      <td>0</td>\n",
              "      <td>0</td>\n",
              "      <td>0</td>\n",
              "      <td>0</td>\n",
              "      <td>0</td>\n",
              "      <td>0</td>\n",
              "      <td>0</td>\n",
              "      <td>0</td>\n",
              "      <td>...</td>\n",
              "      <td>0</td>\n",
              "      <td>0</td>\n",
              "      <td>0</td>\n",
              "      <td>0</td>\n",
              "      <td>0</td>\n",
              "      <td>0</td>\n",
              "      <td>0</td>\n",
              "      <td>0</td>\n",
              "      <td>0</td>\n",
              "      <td>0</td>\n",
              "    </tr>\n",
              "    <tr>\n",
              "      <th>997</th>\n",
              "      <td>0</td>\n",
              "      <td>0</td>\n",
              "      <td>0</td>\n",
              "      <td>0</td>\n",
              "      <td>0</td>\n",
              "      <td>0</td>\n",
              "      <td>0</td>\n",
              "      <td>0</td>\n",
              "      <td>0</td>\n",
              "      <td>0</td>\n",
              "      <td>...</td>\n",
              "      <td>0</td>\n",
              "      <td>0</td>\n",
              "      <td>0</td>\n",
              "      <td>0</td>\n",
              "      <td>0</td>\n",
              "      <td>0</td>\n",
              "      <td>0</td>\n",
              "      <td>0</td>\n",
              "      <td>0</td>\n",
              "      <td>0</td>\n",
              "    </tr>\n",
              "    <tr>\n",
              "      <th>998</th>\n",
              "      <td>0</td>\n",
              "      <td>0</td>\n",
              "      <td>0</td>\n",
              "      <td>0</td>\n",
              "      <td>0</td>\n",
              "      <td>0</td>\n",
              "      <td>0</td>\n",
              "      <td>0</td>\n",
              "      <td>0</td>\n",
              "      <td>0</td>\n",
              "      <td>...</td>\n",
              "      <td>0</td>\n",
              "      <td>0</td>\n",
              "      <td>0</td>\n",
              "      <td>0</td>\n",
              "      <td>0</td>\n",
              "      <td>0</td>\n",
              "      <td>0</td>\n",
              "      <td>0</td>\n",
              "      <td>0</td>\n",
              "      <td>0</td>\n",
              "    </tr>\n",
              "    <tr>\n",
              "      <th>999</th>\n",
              "      <td>0</td>\n",
              "      <td>0</td>\n",
              "      <td>0</td>\n",
              "      <td>0</td>\n",
              "      <td>0</td>\n",
              "      <td>0</td>\n",
              "      <td>0</td>\n",
              "      <td>0</td>\n",
              "      <td>0</td>\n",
              "      <td>0</td>\n",
              "      <td>...</td>\n",
              "      <td>0</td>\n",
              "      <td>0</td>\n",
              "      <td>0</td>\n",
              "      <td>0</td>\n",
              "      <td>0</td>\n",
              "      <td>0</td>\n",
              "      <td>0</td>\n",
              "      <td>0</td>\n",
              "      <td>0</td>\n",
              "      <td>0</td>\n",
              "    </tr>\n",
              "  </tbody>\n",
              "</table>\n",
              "<p>1000 rows × 784 columns</p>\n",
              "</div>"
            ],
            "text/plain": [
              "     1x1  1x2  1x3  1x4  1x5  1x6  1x7  1x8  1x9  1x10  ...  28x19  28x20  \\\n",
              "0      0    0    0    0    0    0    0    0    0     0  ...      0      0   \n",
              "1      0    0    0    0    0    0    0    0    0     0  ...      0      0   \n",
              "2      0    0    0    0    0    0    0    0    0     0  ...      0      0   \n",
              "3      0    0    0    0    0    0    0    0    0     0  ...      0      0   \n",
              "4      0    0    0    0    0    0    0    0    0     0  ...      0      0   \n",
              "..   ...  ...  ...  ...  ...  ...  ...  ...  ...   ...  ...    ...    ...   \n",
              "995    0    0    0    0    0    0    0    0    0     0  ...      0      0   \n",
              "996    0    0    0    0    0    0    0    0    0     0  ...      0      0   \n",
              "997    0    0    0    0    0    0    0    0    0     0  ...      0      0   \n",
              "998    0    0    0    0    0    0    0    0    0     0  ...      0      0   \n",
              "999    0    0    0    0    0    0    0    0    0     0  ...      0      0   \n",
              "\n",
              "     28x21  28x22  28x23  28x24  28x25  28x26  28x27  28x28  \n",
              "0        0      0      0      0      0      0      0      0  \n",
              "1        0      0      0      0      0      0      0      0  \n",
              "2        0      0      0      0      0      0      0      0  \n",
              "3        0      0      0      0      0      0      0      0  \n",
              "4        0      0      0      0      0      0      0      0  \n",
              "..     ...    ...    ...    ...    ...    ...    ...    ...  \n",
              "995      0      0      0      0      0      0      0      0  \n",
              "996      0      0      0      0      0      0      0      0  \n",
              "997      0      0      0      0      0      0      0      0  \n",
              "998      0      0      0      0      0      0      0      0  \n",
              "999      0      0      0      0      0      0      0      0  \n",
              "\n",
              "[1000 rows x 784 columns]"
            ]
          },
          "metadata": {
            "tags": []
          },
          "execution_count": 34
        }
      ]
    },
    {
      "cell_type": "code",
      "metadata": {
        "ExecuteTime": {
          "end_time": "2020-11-06T02:44:32.167376Z",
          "start_time": "2020-11-06T02:44:29.174478Z"
        },
        "id": "7dqp1EXmbFge",
        "outputId": "4f318091-06a0-41c7-a32a-715048f25362"
      },
      "source": [
        "accuracy_score(y_pred=svm.predict(X_val), y_true=y_val)"
      ],
      "execution_count": null,
      "outputs": [
        {
          "output_type": "execute_result",
          "data": {
            "text/plain": [
              "0.947"
            ]
          },
          "metadata": {
            "tags": []
          },
          "execution_count": 33
        }
      ]
    },
    {
      "cell_type": "markdown",
      "metadata": {
        "id": "XqdcyQL8bFgf"
      },
      "source": [
        "#### Pruebas del modelo en datos reales"
      ]
    },
    {
      "cell_type": "code",
      "metadata": {
        "ExecuteTime": {
          "end_time": "2020-11-06T02:44:54.217126Z",
          "start_time": "2020-11-06T02:44:54.185206Z"
        },
        "id": "jz0oORxSbFgg"
      },
      "source": [
        "data = flatten_data(get_data(5))"
      ],
      "execution_count": null,
      "outputs": []
    },
    {
      "cell_type": "code",
      "metadata": {
        "ExecuteTime": {
          "end_time": "2020-11-06T02:44:56.362266Z",
          "start_time": "2020-11-06T02:44:56.355202Z"
        },
        "id": "1jCnqAsqbFgh",
        "outputId": "3ab97d3f-9aa9-4325-8228-4aa2a29e9571"
      },
      "source": [
        "svm.predict(data)"
      ],
      "execution_count": null,
      "outputs": [
        {
          "output_type": "execute_result",
          "data": {
            "text/plain": [
              "array([5])"
            ]
          },
          "metadata": {
            "tags": []
          },
          "execution_count": 36
        }
      ]
    },
    {
      "cell_type": "code",
      "metadata": {
        "ExecuteTime": {
          "end_time": "2020-11-06T02:45:01.043559Z",
          "start_time": "2020-11-06T02:45:01.033676Z"
        },
        "id": "3fDeThuTbFgi",
        "outputId": "6b221c0c-c4fb-44db-c348-3acb6f7f79d6"
      },
      "source": [
        "print_data(get_data(5))"
      ],
      "execution_count": null,
      "outputs": [
        {
          "output_type": "stream",
          "text": [
            "  0  0  0  0  0  0  0  0  0  0  0  0  0  0  2  3  4  4  4  4  2  0  0  0  0  0  0  0\n",
            "  0  0  0  0  1  0 26 79 64 40 26 16  7  0  0  0  0  0  0  0  0  0  0  0  0  0  0  0\n",
            "  0  0  0  1  0 11220255255255255244230213194171148124 99 73 27  0  0  0  0  0  0  0\n",
            "  0  0  0  0  2  4188252250219216232244255255255255255255255223 26  0  2  0  0  0  0\n",
            "  0  0  0  0  4  0 81255255120  0 12 18 30 45 63 82102121139 96  8  0  1  0  0  0  0\n",
            "  0  0  0  0  2  0 33246255177  0  0  0  0  0  0  0  0  0  0  0  0  0  0  0  0  0  0\n",
            "  0  0  0  0  1  0 25240255190  1  3  1  2  2  3  4  4  4  4  3  0  0  0  0  0  0  0\n",
            "  0  0  0  0  2  0 37249255183  1  5  4  4  4  4  3  2  0  0  0  0  0  0  0  0  0  0\n",
            "  0  0  0  0  2  0 49254255174  0  0  0  0  0  0  0  0  0  4  1  0  0  0  0  0  0  0\n",
            "  0  0  0  0  3  0 64255255148  3 44 76101110100 74 36  0  0  0  3  0  0  0  0  0  0\n",
            "  0  0  0  0  3  0 79255252217211255255255255255255250199111 14  0  2  1  0  0  0  0\n",
            "  0  0  0  0  4  0 94252246255255243204172161174208254255255219 89  0  0  2  0  0  0\n",
            "  0  0  0  0  4  0 84255255242105 28  0  0  0  0  1 45144246255255160 10  0  2  0  0\n",
            "  0  0  0  0  1  1 13142167 53  0  0  0  3  3  3  0  0  0 52200255255198 18  0  1  0\n",
            "  0  0  0  0  0  0  0  0  0  0  4  1  0  0  0  0  0  2  4  0  7164255255193  6  2  1\n",
            "  0  0  0  0  0  0  1  3  3  2  0  0  0  0  0  0  0  0  0  3  1  0176255255122  0  4\n",
            "  0  0  0  0  0  0  0  0  0  0  0  0  0  0  0  0  0  0  0  0  3  0 24238253224  8  1\n",
            "  0  0  0  0  0  0  0  0  0  0  0  0  0  0  0  0  0  0  0  0  0  2  0191255246 31  0\n",
            "  0  0  0  0  0  0  0  0  0  0  0  0  0  0  0  0  0  0  0  0  1  2  6221254235 16  0\n",
            "  0  2  3  3  2  0  0  0  0  0  0  0  0  0  0  0  0  0  0  0  5  0101255255167  0  3\n",
            "  0  0  0  0  0  3  0  0  0  0  0  0  0  0  0  0  0  0  0  4  0 39239253248 41  1  2\n",
            "  0 52174149 36  0  2  1  0  0  0  0  0  0  0  0  0  0  4  0 21215255255106  0  3  0\n",
            "  0129255255239113  0  0  4  0  0  0  0  0  0  1  3  3  0 28206255255145  0  4  0  0\n",
            "  2  8108232255255171 18  0  1  4  4  4  4  4  0  0  0 75223255255153  0  3  1  0  0\n",
            "  0  0  0 34190255255215 78  0  0  0  0  0  0  6 67172255255253126  0  2  1  0  0  0\n",
            "  0  0  4  0  3140253255255197125 87 82105152214255255255199 65  0  2  1  0  0  0  0\n",
            "  0  0  0  2  1  0 61181248255255255255255255255238175 81  1  0  3  0  0  0  0  0  0\n",
            "  0  0  0  0  1  3  0  0 52123173199203185147 93 33  0  0  0  3  0  0  0  0  0  0  0\n"
          ],
          "name": "stdout"
        }
      ]
    },
    {
      "cell_type": "code",
      "metadata": {
        "id": "Jsq3r7yLbFgj"
      },
      "source": [
        ""
      ],
      "execution_count": null,
      "outputs": []
    }
  ]
}