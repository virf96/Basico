{
  "nbformat": 4,
  "nbformat_minor": 0,
  "metadata": {
    "kernelspec": {
      "name": "python3",
      "display_name": "Python 3"
    },
    "varInspector": {
      "cols": {
        "lenName": 16,
        "lenType": 16,
        "lenVar": 40
      },
      "kernels_config": {
        "python": {
          "delete_cmd_postfix": "",
          "delete_cmd_prefix": "del ",
          "library": "var_list.py",
          "varRefreshCmd": "print(var_dic_list())"
        },
        "r": {
          "delete_cmd_postfix": ") ",
          "delete_cmd_prefix": "rm(",
          "library": "var_list.r",
          "varRefreshCmd": "cat(var_dic_list()) "
        }
      },
      "types_to_exclude": [
        "module",
        "function",
        "builtin_function_or_method",
        "instance",
        "_Feature"
      ],
      "window_display": false
    },
    "colab": {
      "name": "pipelines.ipynb",
      "provenance": [],
      "include_colab_link": true
    }
  },
  "cells": [
    {
      "cell_type": "markdown",
      "metadata": {
        "id": "view-in-github",
        "colab_type": "text"
      },
      "source": [
        "<a href=\"https://colab.research.google.com/github/virf96/Basico/blob/main/pipelines.ipynb\" target=\"_parent\"><img src=\"https://colab.research.google.com/assets/colab-badge.svg\" alt=\"Open In Colab\"/></a>"
      ]
    },
    {
      "cell_type": "code",
      "metadata": {
        "ExecuteTime": {
          "end_time": "2021-02-05T00:13:48.560284Z",
          "start_time": "2021-02-05T00:13:47.220887Z"
        },
        "_cell_guid": "b1076dfc-b9ad-4769-8c92-a6c4dae69d19",
        "_uuid": "8f2839f25d086af736a60e9eeb907d3b93b6e0e5",
        "id": "dkOqjOQRbqAC"
      },
      "source": [
        "import numpy as np \n",
        "import pandas as pd\n",
        "import seaborn as sns\n",
        "from sklearn.pipeline import Pipeline\n",
        "from sklearn.impute import SimpleImputer,KNNImputer\n",
        "from sklearn.preprocessing import StandardScaler\n",
        "from sklearn.model_selection import train_test_split\n",
        "from sklearn.svm import SVC\n",
        "from sklearn.decomposition import PCA\n",
        "from sklearn.base import TransformerMixin\n",
        "\n",
        "pd.set_option(\"display.max_columns\",30)"
      ],
      "execution_count": 1,
      "outputs": []
    },
    {
      "cell_type": "markdown",
      "metadata": {
        "id": "r_7dc7KJbqAP"
      },
      "source": [
        "\n",
        "Location\n",
        "\n",
        "The common name of the location of the weather station\n",
        "\n",
        "\n",
        "MinTemp\n",
        "\n",
        "The minimum temperature in degrees celsius\n",
        "\n",
        "\n",
        "MaxTemp\n",
        "\n",
        "The maximum temperature in degrees celsius\n",
        "\n",
        "\n",
        "Rainfall\n",
        "\n",
        "The amount of rainfall recorded for the day in mm\n",
        "\n",
        "\n",
        "Evaporation\n",
        "\n",
        "The so-called Class A pan evaporation (mm) in the 24 hours to 9am\n",
        "\n",
        "\n",
        "Sunshine\n",
        "\n",
        "The number of hours of bright sunshine in the day.\n",
        "\n",
        "\n",
        "WindGustDir\n",
        "\n",
        "The direction of the strongest wind gust in the 24 hours to midnight\n",
        "\n",
        "\n",
        "WindGustSpeed\n",
        "\n",
        "The speed (km/h) of the strongest wind gust in the 24 hours to midnight\n",
        "\n",
        "\n",
        "WindDir9am\n",
        "\n",
        "Direction of the wind at 9am\n",
        "\n",
        "\n",
        "WindDir3pm\n",
        "\n",
        "Direction of the wind at 3pm\n",
        "\n",
        "\n",
        "WindSpeed9am\n",
        "\n",
        "Wind speed (km/hr) averaged over 10 minutes prior to 9am\n",
        "\n",
        "\n",
        "WindSpeed3pm\n",
        "\n",
        "Wind speed (km/hr) averaged over 10 minutes prior to 3pm\n",
        "\n",
        "\n",
        "Humidity9am\n",
        "\n",
        "Humidity (percent) at 9am\n",
        "\n",
        "\n",
        "Humidity3pm\n",
        "\n",
        "Humidity (percent) at 3pm\n",
        "\n",
        "\n",
        "Pressure9am\n",
        "\n",
        "Atmospheric pressure (hpa) reduced to mean sea level at 9am\n",
        "\n",
        "\n",
        "Pressure3pm\n",
        "\n",
        "Atmospheric pressure (hpa) reduced to mean sea level at 3pm\n",
        "\n",
        "\n",
        "Cloud9am\n",
        "\n",
        "Fraction of sky obscured by cloud at 9am. This is measured in \"oktas\", which are a unit of eigths. It records how many eigths of the sky are obscured by cloud. A 0 measure indicates completely clear sky whilst an 8 indicates that it is completely overcast.\n",
        "\n",
        "\n",
        "Cloud3pm\n",
        "\n",
        "Fraction of sky obscured by cloud (in \"oktas\": eighths) at 3pm. See Cload9am for a description of the values\n",
        "\n",
        "\n",
        "Temp9am\n",
        "\n",
        "Temperature (degrees C) at 9am\n",
        "\n",
        "\n",
        "Temp3pm\n",
        "\n",
        "Temperature (degrees C) at 3pm\n",
        "\n",
        "\n",
        "RainToday\n",
        "\n",
        "Boolean: 1 if precipitation (mm) in the 24 hours to 9am exceeds 1mm, otherwise 0\n",
        "\n",
        "\n",
        "RainTomorrow\n",
        "\n",
        "The amount of next day rain in mm. Used to create response variable RainTomorrow. A kind of measure of the \"risk\"."
      ]
    },
    {
      "cell_type": "code",
      "metadata": {
        "colab": {
          "base_uri": "https://localhost:8080/"
        },
        "id": "KB57myNfb4G9",
        "outputId": "a2de3557-ddad-4654-fe9a-de8c7dfbf3b9"
      },
      "source": [
        "from google.colab import drive\n",
        "drive.mount('/content/drive')"
      ],
      "execution_count": 2,
      "outputs": [
        {
          "output_type": "stream",
          "text": [
            "Mounted at /content/drive\n"
          ],
          "name": "stdout"
        }
      ]
    },
    {
      "cell_type": "code",
      "metadata": {
        "ExecuteTime": {
          "end_time": "2021-02-05T00:14:20.256227Z",
          "start_time": "2021-02-05T00:14:19.765809Z"
        },
        "id": "ipMQZuVibqAR"
      },
      "source": [
        "data = pd.read_csv(\"/content/drive/MyDrive/datasets/weatherAUS.csv\")"
      ],
      "execution_count": 3,
      "outputs": []
    },
    {
      "cell_type": "code",
      "metadata": {
        "ExecuteTime": {
          "end_time": "2021-02-04T04:57:57.455929Z",
          "start_time": "2021-02-04T04:57:57.407421Z"
        },
        "id": "3pLmbRO2bqAR",
        "colab": {
          "base_uri": "https://localhost:8080/",
          "height": 292
        },
        "outputId": "c8227aa9-25e5-4b19-fb09-aafb6174a37f"
      },
      "source": [
        "data.head()"
      ],
      "execution_count": 4,
      "outputs": [
        {
          "output_type": "execute_result",
          "data": {
            "text/html": [
              "<div>\n",
              "<style scoped>\n",
              "    .dataframe tbody tr th:only-of-type {\n",
              "        vertical-align: middle;\n",
              "    }\n",
              "\n",
              "    .dataframe tbody tr th {\n",
              "        vertical-align: top;\n",
              "    }\n",
              "\n",
              "    .dataframe thead th {\n",
              "        text-align: right;\n",
              "    }\n",
              "</style>\n",
              "<table border=\"1\" class=\"dataframe\">\n",
              "  <thead>\n",
              "    <tr style=\"text-align: right;\">\n",
              "      <th></th>\n",
              "      <th>Date</th>\n",
              "      <th>Location</th>\n",
              "      <th>MinTemp</th>\n",
              "      <th>MaxTemp</th>\n",
              "      <th>Rainfall</th>\n",
              "      <th>Evaporation</th>\n",
              "      <th>Sunshine</th>\n",
              "      <th>WindGustDir</th>\n",
              "      <th>WindGustSpeed</th>\n",
              "      <th>WindDir9am</th>\n",
              "      <th>WindDir3pm</th>\n",
              "      <th>WindSpeed9am</th>\n",
              "      <th>WindSpeed3pm</th>\n",
              "      <th>Humidity9am</th>\n",
              "      <th>Humidity3pm</th>\n",
              "      <th>Pressure9am</th>\n",
              "      <th>Pressure3pm</th>\n",
              "      <th>Cloud9am</th>\n",
              "      <th>Cloud3pm</th>\n",
              "      <th>Temp9am</th>\n",
              "      <th>Temp3pm</th>\n",
              "      <th>RainToday</th>\n",
              "      <th>RainTomorrow</th>\n",
              "    </tr>\n",
              "  </thead>\n",
              "  <tbody>\n",
              "    <tr>\n",
              "      <th>0</th>\n",
              "      <td>2008-12-01</td>\n",
              "      <td>Albury</td>\n",
              "      <td>13.4</td>\n",
              "      <td>22.9</td>\n",
              "      <td>0.6</td>\n",
              "      <td>NaN</td>\n",
              "      <td>NaN</td>\n",
              "      <td>W</td>\n",
              "      <td>44.0</td>\n",
              "      <td>W</td>\n",
              "      <td>WNW</td>\n",
              "      <td>20.0</td>\n",
              "      <td>24.0</td>\n",
              "      <td>71.0</td>\n",
              "      <td>22.0</td>\n",
              "      <td>1007.7</td>\n",
              "      <td>1007.1</td>\n",
              "      <td>8.0</td>\n",
              "      <td>NaN</td>\n",
              "      <td>16.9</td>\n",
              "      <td>21.8</td>\n",
              "      <td>No</td>\n",
              "      <td>No</td>\n",
              "    </tr>\n",
              "    <tr>\n",
              "      <th>1</th>\n",
              "      <td>2008-12-02</td>\n",
              "      <td>Albury</td>\n",
              "      <td>7.4</td>\n",
              "      <td>25.1</td>\n",
              "      <td>0.0</td>\n",
              "      <td>NaN</td>\n",
              "      <td>NaN</td>\n",
              "      <td>WNW</td>\n",
              "      <td>44.0</td>\n",
              "      <td>NNW</td>\n",
              "      <td>WSW</td>\n",
              "      <td>4.0</td>\n",
              "      <td>22.0</td>\n",
              "      <td>44.0</td>\n",
              "      <td>25.0</td>\n",
              "      <td>1010.6</td>\n",
              "      <td>1007.8</td>\n",
              "      <td>NaN</td>\n",
              "      <td>NaN</td>\n",
              "      <td>17.2</td>\n",
              "      <td>24.3</td>\n",
              "      <td>No</td>\n",
              "      <td>No</td>\n",
              "    </tr>\n",
              "    <tr>\n",
              "      <th>2</th>\n",
              "      <td>2008-12-03</td>\n",
              "      <td>Albury</td>\n",
              "      <td>12.9</td>\n",
              "      <td>25.7</td>\n",
              "      <td>0.0</td>\n",
              "      <td>NaN</td>\n",
              "      <td>NaN</td>\n",
              "      <td>WSW</td>\n",
              "      <td>46.0</td>\n",
              "      <td>W</td>\n",
              "      <td>WSW</td>\n",
              "      <td>19.0</td>\n",
              "      <td>26.0</td>\n",
              "      <td>38.0</td>\n",
              "      <td>30.0</td>\n",
              "      <td>1007.6</td>\n",
              "      <td>1008.7</td>\n",
              "      <td>NaN</td>\n",
              "      <td>2.0</td>\n",
              "      <td>21.0</td>\n",
              "      <td>23.2</td>\n",
              "      <td>No</td>\n",
              "      <td>No</td>\n",
              "    </tr>\n",
              "    <tr>\n",
              "      <th>3</th>\n",
              "      <td>2008-12-04</td>\n",
              "      <td>Albury</td>\n",
              "      <td>9.2</td>\n",
              "      <td>28.0</td>\n",
              "      <td>0.0</td>\n",
              "      <td>NaN</td>\n",
              "      <td>NaN</td>\n",
              "      <td>NE</td>\n",
              "      <td>24.0</td>\n",
              "      <td>SE</td>\n",
              "      <td>E</td>\n",
              "      <td>11.0</td>\n",
              "      <td>9.0</td>\n",
              "      <td>45.0</td>\n",
              "      <td>16.0</td>\n",
              "      <td>1017.6</td>\n",
              "      <td>1012.8</td>\n",
              "      <td>NaN</td>\n",
              "      <td>NaN</td>\n",
              "      <td>18.1</td>\n",
              "      <td>26.5</td>\n",
              "      <td>No</td>\n",
              "      <td>No</td>\n",
              "    </tr>\n",
              "    <tr>\n",
              "      <th>4</th>\n",
              "      <td>2008-12-05</td>\n",
              "      <td>Albury</td>\n",
              "      <td>17.5</td>\n",
              "      <td>32.3</td>\n",
              "      <td>1.0</td>\n",
              "      <td>NaN</td>\n",
              "      <td>NaN</td>\n",
              "      <td>W</td>\n",
              "      <td>41.0</td>\n",
              "      <td>ENE</td>\n",
              "      <td>NW</td>\n",
              "      <td>7.0</td>\n",
              "      <td>20.0</td>\n",
              "      <td>82.0</td>\n",
              "      <td>33.0</td>\n",
              "      <td>1010.8</td>\n",
              "      <td>1006.0</td>\n",
              "      <td>7.0</td>\n",
              "      <td>8.0</td>\n",
              "      <td>17.8</td>\n",
              "      <td>29.7</td>\n",
              "      <td>No</td>\n",
              "      <td>No</td>\n",
              "    </tr>\n",
              "  </tbody>\n",
              "</table>\n",
              "</div>"
            ],
            "text/plain": [
              "         Date Location  MinTemp  MaxTemp  Rainfall  Evaporation  Sunshine  \\\n",
              "0  2008-12-01   Albury     13.4     22.9       0.6          NaN       NaN   \n",
              "1  2008-12-02   Albury      7.4     25.1       0.0          NaN       NaN   \n",
              "2  2008-12-03   Albury     12.9     25.7       0.0          NaN       NaN   \n",
              "3  2008-12-04   Albury      9.2     28.0       0.0          NaN       NaN   \n",
              "4  2008-12-05   Albury     17.5     32.3       1.0          NaN       NaN   \n",
              "\n",
              "  WindGustDir  WindGustSpeed WindDir9am WindDir3pm  WindSpeed9am  \\\n",
              "0           W           44.0          W        WNW          20.0   \n",
              "1         WNW           44.0        NNW        WSW           4.0   \n",
              "2         WSW           46.0          W        WSW          19.0   \n",
              "3          NE           24.0         SE          E          11.0   \n",
              "4           W           41.0        ENE         NW           7.0   \n",
              "\n",
              "   WindSpeed3pm  Humidity9am  Humidity3pm  Pressure9am  Pressure3pm  Cloud9am  \\\n",
              "0          24.0         71.0         22.0       1007.7       1007.1       8.0   \n",
              "1          22.0         44.0         25.0       1010.6       1007.8       NaN   \n",
              "2          26.0         38.0         30.0       1007.6       1008.7       NaN   \n",
              "3           9.0         45.0         16.0       1017.6       1012.8       NaN   \n",
              "4          20.0         82.0         33.0       1010.8       1006.0       7.0   \n",
              "\n",
              "   Cloud3pm  Temp9am  Temp3pm RainToday RainTomorrow  \n",
              "0       NaN     16.9     21.8        No           No  \n",
              "1       NaN     17.2     24.3        No           No  \n",
              "2       2.0     21.0     23.2        No           No  \n",
              "3       NaN     18.1     26.5        No           No  \n",
              "4       8.0     17.8     29.7        No           No  "
            ]
          },
          "metadata": {
            "tags": []
          },
          "execution_count": 4
        }
      ]
    },
    {
      "cell_type": "code",
      "metadata": {
        "ExecuteTime": {
          "end_time": "2021-02-05T00:15:49.628206Z",
          "start_time": "2021-02-05T00:15:49.510733Z"
        },
        "id": "mIoq4n8SbqAU"
      },
      "source": [
        "data[\"Date\"] = pd.to_datetime(data[\"Date\"])"
      ],
      "execution_count": 5,
      "outputs": []
    },
    {
      "cell_type": "code",
      "metadata": {
        "ExecuteTime": {
          "end_time": "2021-02-05T00:16:28.765189Z",
          "start_time": "2021-02-05T00:16:28.625871Z"
        },
        "id": "B8oBtisZbqAV",
        "colab": {
          "base_uri": "https://localhost:8080/"
        },
        "outputId": "e2d8c077-5ff7-4a24-caf5-4230707401de"
      },
      "source": [
        "(data.isnull().sum()/data.shape[0]).sort_values(ascending=False)"
      ],
      "execution_count": 6,
      "outputs": [
        {
          "output_type": "execute_result",
          "data": {
            "text/plain": [
              "Sunshine         0.480098\n",
              "Evaporation      0.431665\n",
              "Cloud3pm         0.408071\n",
              "Cloud9am         0.384216\n",
              "Pressure9am      0.103568\n",
              "Pressure3pm      0.103314\n",
              "WindDir9am       0.072639\n",
              "WindGustDir      0.070989\n",
              "WindGustSpeed    0.070555\n",
              "Humidity3pm      0.030984\n",
              "WindDir3pm       0.029066\n",
              "Temp3pm          0.024811\n",
              "RainTomorrow     0.022460\n",
              "RainToday        0.022419\n",
              "Rainfall         0.022419\n",
              "WindSpeed3pm     0.021050\n",
              "Humidity9am      0.018246\n",
              "WindSpeed9am     0.012148\n",
              "Temp9am          0.012148\n",
              "MinTemp          0.010209\n",
              "MaxTemp          0.008669\n",
              "Location         0.000000\n",
              "Date             0.000000\n",
              "dtype: float64"
            ]
          },
          "metadata": {
            "tags": []
          },
          "execution_count": 6
        }
      ]
    },
    {
      "cell_type": "code",
      "metadata": {
        "ExecuteTime": {
          "end_time": "2021-02-05T00:16:54.566977Z",
          "start_time": "2021-02-05T00:16:54.244386Z"
        },
        "id": "y0ZwB-iebqAV"
      },
      "source": [
        "data.dropna(subset=[\"RainTomorrow\"],inplace=True)\n",
        "data.reset_index(drop=True,inplace=True)"
      ],
      "execution_count": 7,
      "outputs": []
    },
    {
      "cell_type": "code",
      "metadata": {
        "ExecuteTime": {
          "end_time": "2021-02-05T00:17:07.832552Z",
          "start_time": "2021-02-05T00:17:07.820790Z"
        },
        "id": "6KJVJOEZbqAW"
      },
      "source": [
        "continuous_features  = ['MinTemp', 'MaxTemp', 'Rainfall', 'Evaporation', 'Sunshine','WindGustSpeed', 'WindSpeed9am', 'WindSpeed3pm', \n",
        "                        'Humidity9am','Humidity3pm', 'Pressure9am', 'Pressure3pm', 'Cloud9am', 'Cloud3pm',       'Temp9am', 'Temp3pm']"
      ],
      "execution_count": 8,
      "outputs": []
    },
    {
      "cell_type": "code",
      "metadata": {
        "ExecuteTime": {
          "end_time": "2021-02-05T00:17:12.579690Z",
          "start_time": "2021-02-05T00:17:12.571200Z"
        },
        "id": "IBhQy82fbqAX"
      },
      "source": [
        "target = \"RainTomorrow\""
      ],
      "execution_count": 9,
      "outputs": []
    },
    {
      "cell_type": "code",
      "metadata": {
        "ExecuteTime": {
          "end_time": "2021-02-05T00:17:28.753466Z",
          "start_time": "2021-02-05T00:17:28.718312Z"
        },
        "id": "ClczjEVsbqAX",
        "colab": {
          "base_uri": "https://localhost:8080/"
        },
        "outputId": "1def57a7-4340-40c7-dc30-093d435fbfa3"
      },
      "source": [
        "discrete_features = list(filter(lambda feature : feature not in continuous_features+[target,\"Date\",\"Location\"], data.columns))\n",
        "discrete_features"
      ],
      "execution_count": 10,
      "outputs": [
        {
          "output_type": "execute_result",
          "data": {
            "text/plain": [
              "['WindGustDir', 'WindDir9am', 'WindDir3pm', 'RainToday']"
            ]
          },
          "metadata": {
            "tags": []
          },
          "execution_count": 10
        }
      ]
    },
    {
      "cell_type": "code",
      "metadata": {
        "ExecuteTime": {
          "end_time": "2021-02-05T00:17:33.941727Z",
          "start_time": "2021-02-05T00:17:33.868094Z"
        },
        "id": "DRx35C8zbqAY",
        "colab": {
          "base_uri": "https://localhost:8080/"
        },
        "outputId": "b66cae90-6f6c-41c1-90ac-35e435cae4a8"
      },
      "source": [
        "data[\"WindGustDir\"].value_counts(1)"
      ],
      "execution_count": 11,
      "outputs": [
        {
          "output_type": "execute_result",
          "data": {
            "text/plain": [
              "W      0.073610\n",
              "SE     0.070065\n",
              "E      0.068273\n",
              "N      0.067987\n",
              "SSE    0.067686\n",
              "S      0.067355\n",
              "WSW    0.066994\n",
              "SW     0.066211\n",
              "SSW    0.064804\n",
              "WNW    0.060709\n",
              "NW     0.060235\n",
              "ENE    0.060152\n",
              "ESE    0.054981\n",
              "NE     0.053137\n",
              "NNW    0.049382\n",
              "NNE    0.048418\n",
              "Name: WindGustDir, dtype: float64"
            ]
          },
          "metadata": {
            "tags": []
          },
          "execution_count": 11
        }
      ]
    },
    {
      "cell_type": "code",
      "metadata": {
        "ExecuteTime": {
          "end_time": "2021-02-05T00:18:16.702793Z",
          "start_time": "2021-02-05T00:18:16.635167Z"
        },
        "id": "QEwVbF46bqAZ",
        "colab": {
          "base_uri": "https://localhost:8080/"
        },
        "outputId": "7320748e-8bb7-4ed5-e60e-d0d1be93635f"
      },
      "source": [
        "\n",
        "data[\"Location\"].value_counts(1)"
      ],
      "execution_count": 12,
      "outputs": [
        {
          "output_type": "execute_result",
          "data": {
            "text/plain": [
              "Canberra            0.024038\n",
              "Sydney              0.023468\n",
              "Perth               0.022455\n",
              "Darwin              0.022448\n",
              "Hobart              0.022420\n",
              "Brisbane            0.022230\n",
              "Adelaide            0.021731\n",
              "Bendigo             0.021337\n",
              "Townsville          0.021330\n",
              "AliceSprings        0.021316\n",
              "MountGambier        0.021309\n",
              "Launceston          0.021295\n",
              "Ballarat            0.021295\n",
              "Albany              0.021211\n",
              "Albury              0.021175\n",
              "PerthAirport        0.021161\n",
              "MelbourneAirport    0.021161\n",
              "Mildura             0.021147\n",
              "SydneyAirport       0.021133\n",
              "Nuriootpa           0.021112\n",
              "Sale                0.021098\n",
              "Watsonia            0.021091\n",
              "Tuggeranong         0.021084\n",
              "Portland            0.021070\n",
              "Woomera             0.021028\n",
              "Cobar               0.021014\n",
              "Cairns              0.021014\n",
              "Wollongong          0.020979\n",
              "GoldCoast           0.020957\n",
              "WaggaWagga          0.020929\n",
              "NorfolkIsland       0.020845\n",
              "Penrith             0.020845\n",
              "Newcastle           0.020782\n",
              "SalmonGums          0.020782\n",
              "CoffsHarbour        0.020768\n",
              "Witchcliffe         0.020761\n",
              "Richmond            0.020753\n",
              "Dartmoor            0.020697\n",
              "NorahHead           0.020599\n",
              "BadgerysCreek       0.020592\n",
              "MountGinini         0.020444\n",
              "Moree               0.020071\n",
              "Walpole             0.019825\n",
              "PearceRAAF          0.019424\n",
              "Williamtown         0.017954\n",
              "Melbourne           0.017125\n",
              "Nhil                0.011034\n",
              "Katherine           0.010964\n",
              "Uluru               0.010697\n",
              "Name: Location, dtype: float64"
            ]
          },
          "metadata": {
            "tags": []
          },
          "execution_count": 12
        }
      ]
    },
    {
      "cell_type": "code",
      "metadata": {
        "ExecuteTime": {
          "end_time": "2021-02-05T00:18:29.430087Z",
          "start_time": "2021-02-05T00:18:28.302412Z"
        },
        "id": "Dwag_4ywbqAa",
        "colab": {
          "base_uri": "https://localhost:8080/",
          "height": 297
        },
        "outputId": "0cc1d044-0b3e-4f73-aa00-fe52f101c973"
      },
      "source": [
        "data[continuous_features].describe()"
      ],
      "execution_count": 13,
      "outputs": [
        {
          "output_type": "execute_result",
          "data": {
            "text/html": [
              "<div>\n",
              "<style scoped>\n",
              "    .dataframe tbody tr th:only-of-type {\n",
              "        vertical-align: middle;\n",
              "    }\n",
              "\n",
              "    .dataframe tbody tr th {\n",
              "        vertical-align: top;\n",
              "    }\n",
              "\n",
              "    .dataframe thead th {\n",
              "        text-align: right;\n",
              "    }\n",
              "</style>\n",
              "<table border=\"1\" class=\"dataframe\">\n",
              "  <thead>\n",
              "    <tr style=\"text-align: right;\">\n",
              "      <th></th>\n",
              "      <th>MinTemp</th>\n",
              "      <th>MaxTemp</th>\n",
              "      <th>Rainfall</th>\n",
              "      <th>Evaporation</th>\n",
              "      <th>Sunshine</th>\n",
              "      <th>WindGustSpeed</th>\n",
              "      <th>WindSpeed9am</th>\n",
              "      <th>WindSpeed3pm</th>\n",
              "      <th>Humidity9am</th>\n",
              "      <th>Humidity3pm</th>\n",
              "      <th>Pressure9am</th>\n",
              "      <th>Pressure3pm</th>\n",
              "      <th>Cloud9am</th>\n",
              "      <th>Cloud3pm</th>\n",
              "      <th>Temp9am</th>\n",
              "      <th>Temp3pm</th>\n",
              "    </tr>\n",
              "  </thead>\n",
              "  <tbody>\n",
              "    <tr>\n",
              "      <th>count</th>\n",
              "      <td>141556.000000</td>\n",
              "      <td>141871.000000</td>\n",
              "      <td>140787.000000</td>\n",
              "      <td>81350.000000</td>\n",
              "      <td>74377.000000</td>\n",
              "      <td>132923.000000</td>\n",
              "      <td>140845.000000</td>\n",
              "      <td>139563.000000</td>\n",
              "      <td>140419.000000</td>\n",
              "      <td>138583.000000</td>\n",
              "      <td>128179.000000</td>\n",
              "      <td>128212.000000</td>\n",
              "      <td>88536.000000</td>\n",
              "      <td>85099.000000</td>\n",
              "      <td>141289.000000</td>\n",
              "      <td>139467.000000</td>\n",
              "    </tr>\n",
              "    <tr>\n",
              "      <th>mean</th>\n",
              "      <td>12.186400</td>\n",
              "      <td>23.226784</td>\n",
              "      <td>2.349974</td>\n",
              "      <td>5.469824</td>\n",
              "      <td>7.624853</td>\n",
              "      <td>39.984292</td>\n",
              "      <td>14.001988</td>\n",
              "      <td>18.637576</td>\n",
              "      <td>68.843810</td>\n",
              "      <td>51.482606</td>\n",
              "      <td>1017.653758</td>\n",
              "      <td>1015.258204</td>\n",
              "      <td>4.437189</td>\n",
              "      <td>4.503167</td>\n",
              "      <td>16.987509</td>\n",
              "      <td>21.687235</td>\n",
              "    </tr>\n",
              "    <tr>\n",
              "      <th>std</th>\n",
              "      <td>6.403283</td>\n",
              "      <td>7.117618</td>\n",
              "      <td>8.465173</td>\n",
              "      <td>4.188537</td>\n",
              "      <td>3.781525</td>\n",
              "      <td>13.588801</td>\n",
              "      <td>8.893337</td>\n",
              "      <td>8.803345</td>\n",
              "      <td>19.051293</td>\n",
              "      <td>20.797772</td>\n",
              "      <td>7.105476</td>\n",
              "      <td>7.036677</td>\n",
              "      <td>2.887016</td>\n",
              "      <td>2.720633</td>\n",
              "      <td>6.492838</td>\n",
              "      <td>6.937594</td>\n",
              "    </tr>\n",
              "    <tr>\n",
              "      <th>min</th>\n",
              "      <td>-8.500000</td>\n",
              "      <td>-4.800000</td>\n",
              "      <td>0.000000</td>\n",
              "      <td>0.000000</td>\n",
              "      <td>0.000000</td>\n",
              "      <td>6.000000</td>\n",
              "      <td>0.000000</td>\n",
              "      <td>0.000000</td>\n",
              "      <td>0.000000</td>\n",
              "      <td>0.000000</td>\n",
              "      <td>980.500000</td>\n",
              "      <td>977.100000</td>\n",
              "      <td>0.000000</td>\n",
              "      <td>0.000000</td>\n",
              "      <td>-7.200000</td>\n",
              "      <td>-5.400000</td>\n",
              "    </tr>\n",
              "    <tr>\n",
              "      <th>25%</th>\n",
              "      <td>7.600000</td>\n",
              "      <td>17.900000</td>\n",
              "      <td>0.000000</td>\n",
              "      <td>2.600000</td>\n",
              "      <td>4.900000</td>\n",
              "      <td>31.000000</td>\n",
              "      <td>7.000000</td>\n",
              "      <td>13.000000</td>\n",
              "      <td>57.000000</td>\n",
              "      <td>37.000000</td>\n",
              "      <td>1012.900000</td>\n",
              "      <td>1010.400000</td>\n",
              "      <td>1.000000</td>\n",
              "      <td>2.000000</td>\n",
              "      <td>12.300000</td>\n",
              "      <td>16.600000</td>\n",
              "    </tr>\n",
              "    <tr>\n",
              "      <th>50%</th>\n",
              "      <td>12.000000</td>\n",
              "      <td>22.600000</td>\n",
              "      <td>0.000000</td>\n",
              "      <td>4.800000</td>\n",
              "      <td>8.500000</td>\n",
              "      <td>39.000000</td>\n",
              "      <td>13.000000</td>\n",
              "      <td>19.000000</td>\n",
              "      <td>70.000000</td>\n",
              "      <td>52.000000</td>\n",
              "      <td>1017.600000</td>\n",
              "      <td>1015.200000</td>\n",
              "      <td>5.000000</td>\n",
              "      <td>5.000000</td>\n",
              "      <td>16.700000</td>\n",
              "      <td>21.100000</td>\n",
              "    </tr>\n",
              "    <tr>\n",
              "      <th>75%</th>\n",
              "      <td>16.800000</td>\n",
              "      <td>28.200000</td>\n",
              "      <td>0.800000</td>\n",
              "      <td>7.400000</td>\n",
              "      <td>10.600000</td>\n",
              "      <td>48.000000</td>\n",
              "      <td>19.000000</td>\n",
              "      <td>24.000000</td>\n",
              "      <td>83.000000</td>\n",
              "      <td>66.000000</td>\n",
              "      <td>1022.400000</td>\n",
              "      <td>1020.000000</td>\n",
              "      <td>7.000000</td>\n",
              "      <td>7.000000</td>\n",
              "      <td>21.600000</td>\n",
              "      <td>26.400000</td>\n",
              "    </tr>\n",
              "    <tr>\n",
              "      <th>max</th>\n",
              "      <td>33.900000</td>\n",
              "      <td>48.100000</td>\n",
              "      <td>371.000000</td>\n",
              "      <td>145.000000</td>\n",
              "      <td>14.500000</td>\n",
              "      <td>135.000000</td>\n",
              "      <td>130.000000</td>\n",
              "      <td>87.000000</td>\n",
              "      <td>100.000000</td>\n",
              "      <td>100.000000</td>\n",
              "      <td>1041.000000</td>\n",
              "      <td>1039.600000</td>\n",
              "      <td>9.000000</td>\n",
              "      <td>9.000000</td>\n",
              "      <td>40.200000</td>\n",
              "      <td>46.700000</td>\n",
              "    </tr>\n",
              "  </tbody>\n",
              "</table>\n",
              "</div>"
            ],
            "text/plain": [
              "             MinTemp        MaxTemp       Rainfall   Evaporation  \\\n",
              "count  141556.000000  141871.000000  140787.000000  81350.000000   \n",
              "mean       12.186400      23.226784       2.349974      5.469824   \n",
              "std         6.403283       7.117618       8.465173      4.188537   \n",
              "min        -8.500000      -4.800000       0.000000      0.000000   \n",
              "25%         7.600000      17.900000       0.000000      2.600000   \n",
              "50%        12.000000      22.600000       0.000000      4.800000   \n",
              "75%        16.800000      28.200000       0.800000      7.400000   \n",
              "max        33.900000      48.100000     371.000000    145.000000   \n",
              "\n",
              "           Sunshine  WindGustSpeed   WindSpeed9am   WindSpeed3pm  \\\n",
              "count  74377.000000  132923.000000  140845.000000  139563.000000   \n",
              "mean       7.624853      39.984292      14.001988      18.637576   \n",
              "std        3.781525      13.588801       8.893337       8.803345   \n",
              "min        0.000000       6.000000       0.000000       0.000000   \n",
              "25%        4.900000      31.000000       7.000000      13.000000   \n",
              "50%        8.500000      39.000000      13.000000      19.000000   \n",
              "75%       10.600000      48.000000      19.000000      24.000000   \n",
              "max       14.500000     135.000000     130.000000      87.000000   \n",
              "\n",
              "         Humidity9am    Humidity3pm    Pressure9am    Pressure3pm  \\\n",
              "count  140419.000000  138583.000000  128179.000000  128212.000000   \n",
              "mean       68.843810      51.482606    1017.653758    1015.258204   \n",
              "std        19.051293      20.797772       7.105476       7.036677   \n",
              "min         0.000000       0.000000     980.500000     977.100000   \n",
              "25%        57.000000      37.000000    1012.900000    1010.400000   \n",
              "50%        70.000000      52.000000    1017.600000    1015.200000   \n",
              "75%        83.000000      66.000000    1022.400000    1020.000000   \n",
              "max       100.000000     100.000000    1041.000000    1039.600000   \n",
              "\n",
              "           Cloud9am      Cloud3pm        Temp9am        Temp3pm  \n",
              "count  88536.000000  85099.000000  141289.000000  139467.000000  \n",
              "mean       4.437189      4.503167      16.987509      21.687235  \n",
              "std        2.887016      2.720633       6.492838       6.937594  \n",
              "min        0.000000      0.000000      -7.200000      -5.400000  \n",
              "25%        1.000000      2.000000      12.300000      16.600000  \n",
              "50%        5.000000      5.000000      16.700000      21.100000  \n",
              "75%        7.000000      7.000000      21.600000      26.400000  \n",
              "max        9.000000      9.000000      40.200000      46.700000  "
            ]
          },
          "metadata": {
            "tags": []
          },
          "execution_count": 13
        }
      ]
    },
    {
      "cell_type": "code",
      "metadata": {
        "ExecuteTime": {
          "end_time": "2021-02-05T00:20:22.071926Z",
          "start_time": "2021-02-05T00:20:22.043853Z"
        },
        "id": "Pu2qgE79bqAb"
      },
      "source": [
        "class DiscreteTransformer(TransformerMixin):\n",
        "    def __init__(self,discrete_features):\n",
        "        self.discrete_features = discrete_features\n",
        "        \n",
        "    def fit(self,X,y=None):\n",
        "        X_ = X.copy()\n",
        "        X_ = X_[self.discrete_features]\n",
        "        self.to_impute_most_frequent = X_.mode().T[0].to_dict()\n",
        "        return self\n",
        "    \n",
        "    def transform(self,X):\n",
        "        X_ = X.copy()\n",
        "        X_ = X_.fillna(self.to_impute_most_frequent)\n",
        "        return X_"
      ],
      "execution_count": 14,
      "outputs": []
    },
    {
      "cell_type": "code",
      "metadata": {
        "ExecuteTime": {
          "end_time": "2021-02-05T00:21:54.495023Z",
          "start_time": "2021-02-05T00:21:54.459526Z"
        },
        "id": "D2MPoKnxbqAb"
      },
      "source": [
        "class WindDirectionTransformer(TransformerMixin):\n",
        "    def __init__(self,wind_features):\n",
        "        self.wind_features = wind_features\n",
        "        \n",
        "    def fit(self,X,y=None):\n",
        "        self.wind_direction_order = [\"N\",\"NNE\",\"NE\",\"ENE\",\"E\",\"ESE\",\"SE\",\"SSE\",\"S\",\"SSW\",\"SW\",\"WSW\",\"W\",\"WNW\",\"NW\",\"NNW\"]\n",
        "        self.wind_direction_order = dict(enumerate(self.wind_direction_order))\n",
        "        self.wind_direction_order = {value:key for key,value in self.wind_direction_order.items()}\n",
        "        print(self.wind_direction_order)\n",
        "        return self\n",
        "    \n",
        "    def transform(self,X):\n",
        "        X_ = X.copy()\n",
        "        X_[self.wind_features] = X_[self.wind_features].replace(self.wind_direction_order)\n",
        "        return X_\n",
        "\n",
        "\n",
        "        \n",
        "    \n",
        "class BinarizeTransformer(TransformerMixin):\n",
        "    \n",
        "    def __init__(self,bin_feature):\n",
        "        self.bin_feature = bin_feature\n",
        "        \n",
        "    def fit(self,X,y=None):\n",
        "        \n",
        "        self.values = X[self.bin_feature].unique()\n",
        "        self.values = dict(enumerate(self.values))\n",
        "        self.values = {value:key for key,value in self.values.items()}        \n",
        "        return self\n",
        "    \n",
        "    def transform(self,X):\n",
        "        X_ = X.copy()\n",
        "        X_[self.bin_feature] = X_[self.bin_feature].replace(self.values)\n",
        "        return X_"
      ],
      "execution_count": 15,
      "outputs": []
    },
    {
      "cell_type": "code",
      "metadata": {
        "ExecuteTime": {
          "end_time": "2021-02-05T00:22:15.708686Z",
          "start_time": "2021-02-05T00:22:15.659530Z"
        },
        "id": "I4REPDSVbqAc"
      },
      "source": [
        "X = data[continuous_features+discrete_features]\n",
        "y = data[target]"
      ],
      "execution_count": 16,
      "outputs": []
    },
    {
      "cell_type": "code",
      "metadata": {
        "ExecuteTime": {
          "end_time": "2021-02-05T00:24:05.023205Z",
          "start_time": "2021-02-05T00:24:05.005812Z"
        },
        "id": "94Ek44d6bqAd",
        "colab": {
          "base_uri": "https://localhost:8080/"
        },
        "outputId": "03ff4cd3-fc0d-413f-d2b9-251afae6ef6c"
      },
      "source": [
        "discrete_features"
      ],
      "execution_count": 17,
      "outputs": [
        {
          "output_type": "execute_result",
          "data": {
            "text/plain": [
              "['WindGustDir', 'WindDir9am', 'WindDir3pm', 'RainToday']"
            ]
          },
          "metadata": {
            "tags": []
          },
          "execution_count": 17
        }
      ]
    },
    {
      "cell_type": "code",
      "metadata": {
        "ExecuteTime": {
          "end_time": "2021-02-04T05:05:11.931699Z",
          "start_time": "2021-02-04T05:05:11.875600Z"
        },
        "id": "VUZp6MPebqAe",
        "colab": {
          "base_uri": "https://localhost:8080/"
        },
        "outputId": "ce62548c-7e95-41de-aa40-abe7c87b070d"
      },
      "source": [
        "X.isnull().sum()"
      ],
      "execution_count": 18,
      "outputs": [
        {
          "output_type": "execute_result",
          "data": {
            "text/plain": [
              "MinTemp            637\n",
              "MaxTemp            322\n",
              "Rainfall          1406\n",
              "Evaporation      60843\n",
              "Sunshine         67816\n",
              "WindGustSpeed     9270\n",
              "WindSpeed9am      1348\n",
              "WindSpeed3pm      2630\n",
              "Humidity9am       1774\n",
              "Humidity3pm       3610\n",
              "Pressure9am      14014\n",
              "Pressure3pm      13981\n",
              "Cloud9am         53657\n",
              "Cloud3pm         57094\n",
              "Temp9am            904\n",
              "Temp3pm           2726\n",
              "WindGustDir       9330\n",
              "WindDir9am       10013\n",
              "WindDir3pm        3778\n",
              "RainToday         1406\n",
              "dtype: int64"
            ]
          },
          "metadata": {
            "tags": []
          },
          "execution_count": 18
        }
      ]
    },
    {
      "cell_type": "code",
      "metadata": {
        "ExecuteTime": {
          "end_time": "2021-02-05T00:24:24.339816Z",
          "start_time": "2021-02-05T00:24:23.780968Z"
        },
        "id": "VCa4-jY8bqAe",
        "colab": {
          "base_uri": "https://localhost:8080/"
        },
        "outputId": "270d8a54-fcc4-4a27-f8e3-67b1cc691263"
      },
      "source": [
        "most_frequent = DiscreteTransformer(discrete_features)\n",
        "\n",
        "most_frequent.fit_transform(X).isnull().sum()"
      ],
      "execution_count": 19,
      "outputs": [
        {
          "output_type": "execute_result",
          "data": {
            "text/plain": [
              "MinTemp            637\n",
              "MaxTemp            322\n",
              "Rainfall          1406\n",
              "Evaporation      60843\n",
              "Sunshine         67816\n",
              "WindGustSpeed     9270\n",
              "WindSpeed9am      1348\n",
              "WindSpeed3pm      2630\n",
              "Humidity9am       1774\n",
              "Humidity3pm       3610\n",
              "Pressure9am      14014\n",
              "Pressure3pm      13981\n",
              "Cloud9am         53657\n",
              "Cloud3pm         57094\n",
              "Temp9am            904\n",
              "Temp3pm           2726\n",
              "WindGustDir          0\n",
              "WindDir9am           0\n",
              "WindDir3pm           0\n",
              "RainToday            0\n",
              "dtype: int64"
            ]
          },
          "metadata": {
            "tags": []
          },
          "execution_count": 19
        }
      ]
    },
    {
      "cell_type": "code",
      "metadata": {
        "ExecuteTime": {
          "end_time": "2021-02-05T00:26:06.866399Z",
          "start_time": "2021-02-05T00:26:06.861737Z"
        },
        "id": "1Ij3lAHlbqAf"
      },
      "source": [
        "steps = [\n",
        "         (\"discrete_imputer\",DiscreteTransformer(discrete_features)),\n",
        "         (\"wind_transformer\",WindDirectionTransformer(discrete_features)),\n",
        "         (\"binarize\",BinarizeTransformer(\"RainToday\")),\n",
        "         (\"continuous_imputer\",SimpleImputer(strategy=\"median\")),\n",
        "         (\"standar\",StandardScaler()),\n",
        "         (\"pca\",PCA(4)),\n",
        "        ]"
      ],
      "execution_count": 20,
      "outputs": []
    },
    {
      "cell_type": "code",
      "metadata": {
        "ExecuteTime": {
          "end_time": "2021-02-05T00:26:18.267901Z",
          "start_time": "2021-02-05T00:26:18.029627Z"
        },
        "id": "ItOqAqd7bqAg"
      },
      "source": [
        "X_train, X_test, y_train, y_test = train_test_split(X, y, test_size=0.33, random_state=42)"
      ],
      "execution_count": 21,
      "outputs": []
    },
    {
      "cell_type": "code",
      "metadata": {
        "ExecuteTime": {
          "end_time": "2021-02-05T00:26:28.448338Z",
          "start_time": "2021-02-05T00:26:28.439882Z"
        },
        "id": "XIm5cja1bqAg"
      },
      "source": [
        "\n",
        "pipe = Pipeline(steps = steps)"
      ],
      "execution_count": 22,
      "outputs": []
    },
    {
      "cell_type": "code",
      "metadata": {
        "ExecuteTime": {
          "end_time": "2021-02-05T00:26:52.241172Z",
          "start_time": "2021-02-05T00:26:49.592186Z"
        },
        "id": "mYCPAXBVbqAg",
        "colab": {
          "base_uri": "https://localhost:8080/"
        },
        "outputId": "0102c413-bb3c-4f90-d772-5380870ac42a"
      },
      "source": [
        "X_train_preprocess = pd.DataFrame(pipe.fit_transform(X_train),columns= [\"p0\",\"p1\",\"p2\",\"p3\"])\n",
        "X_test_preprocess  = pd.DataFrame( pipe.transform(X_test), columns= [\"p0\",\"p1\",\"p2\",\"p3\"])"
      ],
      "execution_count": 23,
      "outputs": [
        {
          "output_type": "stream",
          "text": [
            "{'N': 0, 'NNE': 1, 'NE': 2, 'ENE': 3, 'E': 4, 'ESE': 5, 'SE': 6, 'SSE': 7, 'S': 8, 'SSW': 9, 'SW': 10, 'WSW': 11, 'W': 12, 'WNW': 13, 'NW': 14, 'NNW': 15}\n"
          ],
          "name": "stdout"
        }
      ]
    },
    {
      "cell_type": "code",
      "metadata": {
        "ExecuteTime": {
          "end_time": "2021-02-05T00:27:32.315300Z",
          "start_time": "2021-02-05T00:27:32.296384Z"
        },
        "id": "3OInh9EqbqAh",
        "outputId": "63bee7b8-2980-4d11-8bdf-8c63319cc4cf"
      },
      "source": [
        "pipe.steps[-1][-1]"
      ],
      "execution_count": null,
      "outputs": [
        {
          "output_type": "execute_result",
          "data": {
            "text/plain": [
              "PCA(n_components=4)"
            ]
          },
          "metadata": {
            "tags": []
          },
          "execution_count": 22
        }
      ]
    },
    {
      "cell_type": "code",
      "metadata": {
        "ExecuteTime": {
          "end_time": "2021-02-05T00:27:46.423922Z",
          "start_time": "2021-02-05T00:27:46.406887Z"
        },
        "id": "5YRgf7mYbqAn",
        "outputId": "38838f15-2cd9-40a1-f157-eb0e8edcc2b4"
      },
      "source": [
        "pipe.steps[-1][-1].explained_variance_ratio_.sum()"
      ],
      "execution_count": null,
      "outputs": [
        {
          "output_type": "execute_result",
          "data": {
            "text/plain": [
              "0.6166830417187266"
            ]
          },
          "metadata": {
            "tags": []
          },
          "execution_count": 23
        }
      ]
    },
    {
      "cell_type": "code",
      "metadata": {
        "ExecuteTime": {
          "end_time": "2021-02-05T00:28:11.467665Z",
          "start_time": "2021-02-05T00:28:11.454280Z"
        },
        "id": "mvykXYidbqAo",
        "outputId": "b0e4d4c3-687e-458f-898b-3c207a1bdb0d"
      },
      "source": [
        "pipe.steps[4][-1].inverse_transform"
      ],
      "execution_count": null,
      "outputs": [
        {
          "output_type": "execute_result",
          "data": {
            "text/plain": [
              "StandardScaler()"
            ]
          },
          "metadata": {
            "tags": []
          },
          "execution_count": 26
        }
      ]
    },
    {
      "cell_type": "code",
      "metadata": {
        "ExecuteTime": {
          "end_time": "2021-02-05T00:28:27.332033Z",
          "start_time": "2021-02-05T00:28:25.667624Z"
        },
        "id": "2RBDUI_kbqAp",
        "outputId": "2e294d4c-489c-40ad-8988-326060d3ed90"
      },
      "source": [
        "sns.scatterplot(data = X_train_preprocess,x=\"p2\",y=\"p3\",hue=y_train)"
      ],
      "execution_count": null,
      "outputs": [
        {
          "output_type": "execute_result",
          "data": {
            "text/plain": [
              "<AxesSubplot:xlabel='p2', ylabel='p3'>"
            ]
          },
          "metadata": {
            "tags": []
          },
          "execution_count": 27
        },
        {
          "output_type": "display_data",
          "data": {
            "image/png": "[encoded data removed]",
            "text/plain": [
              "<Figure size 432x288 with 1 Axes>"
            ]
          },
          "metadata": {
            "tags": [],
            "needs_background": "light"
          }
        }
      ]
    },
    {
      "cell_type": "code",
      "metadata": {
        "id": "d1KkWtsybqAp"
      },
      "source": [
        ""
      ],
      "execution_count": null,
      "outputs": []
    }
  ]
}