{
  "nbformat": 4,
  "nbformat_minor": 0,
  "metadata": {
    "kernelspec": {
      "display_name": "diplo_env",
      "language": "python",
      "name": "diplo_env"
    },
    "language_info": {
      "codemirror_mode": {
        "name": "ipython",
        "version": 3
      },
      "file_extension": ".py",
      "mimetype": "text/x-python",
      "name": "python",
      "nbconvert_exporter": "python",
      "pygments_lexer": "ipython3",
      "version": "3.6.11"
    },
    "varInspector": {
      "cols": {
        "lenName": 16,
        "lenType": 16,
        "lenVar": 40
      },
      "kernels_config": {
        "python": {
          "delete_cmd_postfix": "",
          "delete_cmd_prefix": "del ",
          "library": "var_list.py",
          "varRefreshCmd": "print(var_dic_list())"
        },
        "r": {
          "delete_cmd_postfix": ") ",
          "delete_cmd_prefix": "rm(",
          "library": "var_list.r",
          "varRefreshCmd": "cat(var_dic_list()) "
        }
      },
      "types_to_exclude": [
        "module",
        "function",
        "builtin_function_or_method",
        "instance",
        "_Feature"
      ],
      "window_display": false
    },
    "colab": {
      "name": "ModelosRegularización_CrossValidation_Hiperparametrización.ipynb",
      "provenance": [],
      "include_colab_link": true
    }
  },
  "cells": [
    {
      "cell_type": "markdown",
      "metadata": {
        "id": "view-in-github",
        "colab_type": "text"
      },
      "source": [
        "<a href=\"https://colab.research.google.com/github/virf96/Basico/blob/main/ModelosRegularizaci%C3%B3n_CrossValidation_Hiperparametrizaci%C3%B3n.ipynb\" target=\"_parent\"><img src=\"https://colab.research.google.com/assets/colab-badge.svg\" alt=\"Open In Colab\"/></a>"
      ]
    },
    {
      "cell_type": "code",
      "metadata": {
        "ExecuteTime": {
          "end_time": "2021-01-16T15:27:03.181708Z",
          "start_time": "2021-01-16T15:27:02.096948Z"
        },
        "id": "eCRwCIfwJJQd"
      },
      "source": [
        "import numpy as np\n",
        "import pandas as pd\n",
        "from sklearn.datasets import load_boston\n",
        "pd.set_option(\"max_columns\", 500)\n",
        "from sklearn.preprocessing import MinMaxScaler"
      ],
      "execution_count": 295,
      "outputs": []
    },
    {
      "cell_type": "code",
      "metadata": {
        "ExecuteTime": {
          "end_time": "2021-01-16T15:27:13.493066Z",
          "start_time": "2021-01-16T15:27:13.356657Z"
        },
        "id": "GO24PCFPJJQh"
      },
      "source": [
        "from sklearn.linear_model import Ridge, Lasso, ElasticNet, BayesianRidge, Lars"
      ],
      "execution_count": 296,
      "outputs": []
    },
    {
      "cell_type": "code",
      "metadata": {
        "ExecuteTime": {
          "end_time": "2021-01-16T15:27:34.006373Z",
          "start_time": "2021-01-16T15:27:33.972486Z"
        },
        "id": "jkrk-4mcJJQj"
      },
      "source": [
        "boston = load_boston() ## Load and return the boston house-prices dataset (regression)."
      ],
      "execution_count": 297,
      "outputs": []
    },
    {
      "cell_type": "code",
      "metadata": {
        "ExecuteTime": {
          "end_time": "2021-01-16T15:27:36.332659Z",
          "start_time": "2021-01-16T15:27:36.261996Z"
        },
        "scrolled": true,
        "colab": {
          "base_uri": "https://localhost:8080/"
        },
        "id": "CfNLljxqJJQk",
        "outputId": "366bedd4-fddb-40e1-9fe0-5dcb401e59b1"
      },
      "source": [
        "boston"
      ],
      "execution_count": 298,
      "outputs": [
        {
          "output_type": "execute_result",
          "data": {
            "text/plain": [
              "{'DESCR': \".. _boston_dataset:\\n\\nBoston house prices dataset\\n---------------------------\\n\\n**Data Set Characteristics:**  \\n\\n    :Number of Instances: 506 \\n\\n    :Number of Attributes: 13 numeric/categorical predictive. Median Value (attribute 14) is usually the target.\\n\\n    :Attribute Information (in order):\\n        - CRIM     per capita crime rate by town\\n        - ZN       proportion of residential land zoned for lots over 25,000 sq.ft.\\n        - INDUS    proportion of non-retail business acres per town\\n        - CHAS     Charles River dummy variable (= 1 if tract bounds river; 0 otherwise)\\n        - NOX      nitric oxides concentration (parts per 10 million)\\n        - RM       average number of rooms per dwelling\\n        - AGE      proportion of owner-occupied units built prior to 1940\\n        - DIS      weighted distances to five Boston employment centres\\n        - RAD      index of accessibility to radial highways\\n        - TAX      full-value property-tax rate per $10,000\\n        - PTRATIO  pupil-teacher ratio by town\\n        - B        1000(Bk - 0.63)^2 where Bk is the proportion of blacks by town\\n        - LSTAT    % lower status of the population\\n        - MEDV     Median value of owner-occupied homes in $1000's\\n\\n    :Missing Attribute Values: None\\n\\n    :Creator: Harrison, D. and Rubinfeld, D.L.\\n\\nThis is a copy of UCI ML housing dataset.\\nhttps://archive.ics.uci.edu/ml/machine-learning-databases/housing/\\n\\n\\nThis dataset was taken from the StatLib library which is maintained at Carnegie Mellon University.\\n\\nThe Boston house-price data of Harrison, D. and Rubinfeld, D.L. 'Hedonic\\nprices and the demand for clean air', J. Environ. Economics & Management,\\nvol.5, 81-102, 1978.   Used in Belsley, Kuh & Welsch, 'Regression diagnostics\\n...', Wiley, 1980.   N.B. Various transformations are used in the table on\\npages 244-261 of the latter.\\n\\nThe Boston house-price data has been used in many machine learning papers that address regression\\nproblems.   \\n     \\n.. topic:: References\\n\\n   - Belsley, Kuh & Welsch, 'Regression diagnostics: Identifying Influential Data and Sources of Collinearity', Wiley, 1980. 244-261.\\n   - Quinlan,R. (1993). Combining Instance-Based and Model-Based Learning. In Proceedings on the Tenth International Conference of Machine Learning, 236-243, University of Massachusetts, Amherst. Morgan Kaufmann.\\n\",\n",
              " 'data': array([[6.3200e-03, 1.8000e+01, 2.3100e+00, ..., 1.5300e+01, 3.9690e+02,\n",
              "         4.9800e+00],\n",
              "        [2.7310e-02, 0.0000e+00, 7.0700e+00, ..., 1.7800e+01, 3.9690e+02,\n",
              "         9.1400e+00],\n",
              "        [2.7290e-02, 0.0000e+00, 7.0700e+00, ..., 1.7800e+01, 3.9283e+02,\n",
              "         4.0300e+00],\n",
              "        ...,\n",
              "        [6.0760e-02, 0.0000e+00, 1.1930e+01, ..., 2.1000e+01, 3.9690e+02,\n",
              "         5.6400e+00],\n",
              "        [1.0959e-01, 0.0000e+00, 1.1930e+01, ..., 2.1000e+01, 3.9345e+02,\n",
              "         6.4800e+00],\n",
              "        [4.7410e-02, 0.0000e+00, 1.1930e+01, ..., 2.1000e+01, 3.9690e+02,\n",
              "         7.8800e+00]]),\n",
              " 'feature_names': array(['CRIM', 'ZN', 'INDUS', 'CHAS', 'NOX', 'RM', 'AGE', 'DIS', 'RAD',\n",
              "        'TAX', 'PTRATIO', 'B', 'LSTAT'], dtype='<U7'),\n",
              " 'filename': '/usr/local/lib/python3.6/dist-packages/sklearn/datasets/data/boston_house_prices.csv',\n",
              " 'target': array([24. , 21.6, 34.7, 33.4, 36.2, 28.7, 22.9, 27.1, 16.5, 18.9, 15. ,\n",
              "        18.9, 21.7, 20.4, 18.2, 19.9, 23.1, 17.5, 20.2, 18.2, 13.6, 19.6,\n",
              "        15.2, 14.5, 15.6, 13.9, 16.6, 14.8, 18.4, 21. , 12.7, 14.5, 13.2,\n",
              "        13.1, 13.5, 18.9, 20. , 21. , 24.7, 30.8, 34.9, 26.6, 25.3, 24.7,\n",
              "        21.2, 19.3, 20. , 16.6, 14.4, 19.4, 19.7, 20.5, 25. , 23.4, 18.9,\n",
              "        35.4, 24.7, 31.6, 23.3, 19.6, 18.7, 16. , 22.2, 25. , 33. , 23.5,\n",
              "        19.4, 22. , 17.4, 20.9, 24.2, 21.7, 22.8, 23.4, 24.1, 21.4, 20. ,\n",
              "        20.8, 21.2, 20.3, 28. , 23.9, 24.8, 22.9, 23.9, 26.6, 22.5, 22.2,\n",
              "        23.6, 28.7, 22.6, 22. , 22.9, 25. , 20.6, 28.4, 21.4, 38.7, 43.8,\n",
              "        33.2, 27.5, 26.5, 18.6, 19.3, 20.1, 19.5, 19.5, 20.4, 19.8, 19.4,\n",
              "        21.7, 22.8, 18.8, 18.7, 18.5, 18.3, 21.2, 19.2, 20.4, 19.3, 22. ,\n",
              "        20.3, 20.5, 17.3, 18.8, 21.4, 15.7, 16.2, 18. , 14.3, 19.2, 19.6,\n",
              "        23. , 18.4, 15.6, 18.1, 17.4, 17.1, 13.3, 17.8, 14. , 14.4, 13.4,\n",
              "        15.6, 11.8, 13.8, 15.6, 14.6, 17.8, 15.4, 21.5, 19.6, 15.3, 19.4,\n",
              "        17. , 15.6, 13.1, 41.3, 24.3, 23.3, 27. , 50. , 50. , 50. , 22.7,\n",
              "        25. , 50. , 23.8, 23.8, 22.3, 17.4, 19.1, 23.1, 23.6, 22.6, 29.4,\n",
              "        23.2, 24.6, 29.9, 37.2, 39.8, 36.2, 37.9, 32.5, 26.4, 29.6, 50. ,\n",
              "        32. , 29.8, 34.9, 37. , 30.5, 36.4, 31.1, 29.1, 50. , 33.3, 30.3,\n",
              "        34.6, 34.9, 32.9, 24.1, 42.3, 48.5, 50. , 22.6, 24.4, 22.5, 24.4,\n",
              "        20. , 21.7, 19.3, 22.4, 28.1, 23.7, 25. , 23.3, 28.7, 21.5, 23. ,\n",
              "        26.7, 21.7, 27.5, 30.1, 44.8, 50. , 37.6, 31.6, 46.7, 31.5, 24.3,\n",
              "        31.7, 41.7, 48.3, 29. , 24. , 25.1, 31.5, 23.7, 23.3, 22. , 20.1,\n",
              "        22.2, 23.7, 17.6, 18.5, 24.3, 20.5, 24.5, 26.2, 24.4, 24.8, 29.6,\n",
              "        42.8, 21.9, 20.9, 44. , 50. , 36. , 30.1, 33.8, 43.1, 48.8, 31. ,\n",
              "        36.5, 22.8, 30.7, 50. , 43.5, 20.7, 21.1, 25.2, 24.4, 35.2, 32.4,\n",
              "        32. , 33.2, 33.1, 29.1, 35.1, 45.4, 35.4, 46. , 50. , 32.2, 22. ,\n",
              "        20.1, 23.2, 22.3, 24.8, 28.5, 37.3, 27.9, 23.9, 21.7, 28.6, 27.1,\n",
              "        20.3, 22.5, 29. , 24.8, 22. , 26.4, 33.1, 36.1, 28.4, 33.4, 28.2,\n",
              "        22.8, 20.3, 16.1, 22.1, 19.4, 21.6, 23.8, 16.2, 17.8, 19.8, 23.1,\n",
              "        21. , 23.8, 23.1, 20.4, 18.5, 25. , 24.6, 23. , 22.2, 19.3, 22.6,\n",
              "        19.8, 17.1, 19.4, 22.2, 20.7, 21.1, 19.5, 18.5, 20.6, 19. , 18.7,\n",
              "        32.7, 16.5, 23.9, 31.2, 17.5, 17.2, 23.1, 24.5, 26.6, 22.9, 24.1,\n",
              "        18.6, 30.1, 18.2, 20.6, 17.8, 21.7, 22.7, 22.6, 25. , 19.9, 20.8,\n",
              "        16.8, 21.9, 27.5, 21.9, 23.1, 50. , 50. , 50. , 50. , 50. , 13.8,\n",
              "        13.8, 15. , 13.9, 13.3, 13.1, 10.2, 10.4, 10.9, 11.3, 12.3,  8.8,\n",
              "         7.2, 10.5,  7.4, 10.2, 11.5, 15.1, 23.2,  9.7, 13.8, 12.7, 13.1,\n",
              "        12.5,  8.5,  5. ,  6.3,  5.6,  7.2, 12.1,  8.3,  8.5,  5. , 11.9,\n",
              "        27.9, 17.2, 27.5, 15. , 17.2, 17.9, 16.3,  7. ,  7.2,  7.5, 10.4,\n",
              "         8.8,  8.4, 16.7, 14.2, 20.8, 13.4, 11.7,  8.3, 10.2, 10.9, 11. ,\n",
              "         9.5, 14.5, 14.1, 16.1, 14.3, 11.7, 13.4,  9.6,  8.7,  8.4, 12.8,\n",
              "        10.5, 17.1, 18.4, 15.4, 10.8, 11.8, 14.9, 12.6, 14.1, 13. , 13.4,\n",
              "        15.2, 16.1, 17.8, 14.9, 14.1, 12.7, 13.5, 14.9, 20. , 16.4, 17.7,\n",
              "        19.5, 20.2, 21.4, 19.9, 19. , 19.1, 19.1, 20.1, 19.9, 19.6, 23.2,\n",
              "        29.8, 13.8, 13.3, 16.7, 12. , 14.6, 21.4, 23. , 23.7, 25. , 21.8,\n",
              "        20.6, 21.2, 19.1, 20.6, 15.2,  7. ,  8.1, 13.6, 20.1, 21.8, 24.5,\n",
              "        23.1, 19.7, 18.3, 21.2, 17.5, 16.8, 22.4, 20.6, 23.9, 22. , 11.9])}"
            ]
          },
          "metadata": {
            "tags": []
          },
          "execution_count": 298
        }
      ]
    },
    {
      "cell_type": "code",
      "metadata": {
        "ExecuteTime": {
          "end_time": "2021-01-16T15:27:45.961447Z",
          "start_time": "2021-01-16T15:27:45.949897Z"
        },
        "colab": {
          "base_uri": "https://localhost:8080/"
        },
        "id": "9ziJ0DwsJJQl",
        "outputId": "f3429a6b-ae12-45ce-9289-0377b06d0755"
      },
      "source": [
        "boston.keys()"
      ],
      "execution_count": 299,
      "outputs": [
        {
          "output_type": "execute_result",
          "data": {
            "text/plain": [
              "dict_keys(['data', 'target', 'feature_names', 'DESCR', 'filename'])"
            ]
          },
          "metadata": {
            "tags": []
          },
          "execution_count": 299
        }
      ]
    },
    {
      "cell_type": "code",
      "metadata": {
        "ExecuteTime": {
          "end_time": "2021-01-16T15:27:55.345465Z",
          "start_time": "2021-01-16T15:27:55.341482Z"
        },
        "colab": {
          "base_uri": "https://localhost:8080/"
        },
        "id": "GEMnLJPiJJQm",
        "outputId": "eb55b6d0-259f-4b6e-d5b1-05c1b0099362"
      },
      "source": [
        "print(boston['DESCR'])"
      ],
      "execution_count": 300,
      "outputs": [
        {
          "output_type": "stream",
          "text": [
            ".. _boston_dataset:\n",
            "\n",
            "Boston house prices dataset\n",
            "---------------------------\n",
            "\n",
            "**Data Set Characteristics:**  \n",
            "\n",
            "    :Number of Instances: 506 \n",
            "\n",
            "    :Number of Attributes: 13 numeric/categorical predictive. Median Value (attribute 14) is usually the target.\n",
            "\n",
            "    :Attribute Information (in order):\n",
            "        - CRIM     per capita crime rate by town\n",
            "        - ZN       proportion of residential land zoned for lots over 25,000 sq.ft.\n",
            "        - INDUS    proportion of non-retail business acres per town\n",
            "        - CHAS     Charles River dummy variable (= 1 if tract bounds river; 0 otherwise)\n",
            "        - NOX      nitric oxides concentration (parts per 10 million)\n",
            "        - RM       average number of rooms per dwelling\n",
            "        - AGE      proportion of owner-occupied units built prior to 1940\n",
            "        - DIS      weighted distances to five Boston employment centres\n",
            "        - RAD      index of accessibility to radial highways\n",
            "        - TAX      full-value property-tax rate per $10,000\n",
            "        - PTRATIO  pupil-teacher ratio by town\n",
            "        - B        1000(Bk - 0.63)^2 where Bk is the proportion of blacks by town\n",
            "        - LSTAT    % lower status of the population\n",
            "        - MEDV     Median value of owner-occupied homes in $1000's\n",
            "\n",
            "    :Missing Attribute Values: None\n",
            "\n",
            "    :Creator: Harrison, D. and Rubinfeld, D.L.\n",
            "\n",
            "This is a copy of UCI ML housing dataset.\n",
            "https://archive.ics.uci.edu/ml/machine-learning-databases/housing/\n",
            "\n",
            "\n",
            "This dataset was taken from the StatLib library which is maintained at Carnegie Mellon University.\n",
            "\n",
            "The Boston house-price data of Harrison, D. and Rubinfeld, D.L. 'Hedonic\n",
            "prices and the demand for clean air', J. Environ. Economics & Management,\n",
            "vol.5, 81-102, 1978.   Used in Belsley, Kuh & Welsch, 'Regression diagnostics\n",
            "...', Wiley, 1980.   N.B. Various transformations are used in the table on\n",
            "pages 244-261 of the latter.\n",
            "\n",
            "The Boston house-price data has been used in many machine learning papers that address regression\n",
            "problems.   \n",
            "     \n",
            ".. topic:: References\n",
            "\n",
            "   - Belsley, Kuh & Welsch, 'Regression diagnostics: Identifying Influential Data and Sources of Collinearity', Wiley, 1980. 244-261.\n",
            "   - Quinlan,R. (1993). Combining Instance-Based and Model-Based Learning. In Proceedings on the Tenth International Conference of Machine Learning, 236-243, University of Massachusetts, Amherst. Morgan Kaufmann.\n",
            "\n"
          ],
          "name": "stdout"
        }
      ]
    },
    {
      "cell_type": "code",
      "metadata": {
        "ExecuteTime": {
          "end_time": "2021-01-16T15:28:52.238407Z",
          "start_time": "2021-01-16T15:28:52.225281Z"
        },
        "id": "Ohuo8ss4JJQm"
      },
      "source": [
        "df = pd.DataFrame(data = boston[\"data\"], columns=boston[\"feature_names\"])"
      ],
      "execution_count": 301,
      "outputs": []
    },
    {
      "cell_type": "code",
      "metadata": {
        "ExecuteTime": {
          "end_time": "2021-01-16T15:28:55.592817Z",
          "start_time": "2021-01-16T15:28:55.585237Z"
        },
        "id": "TopII6a2JJQn"
      },
      "source": [
        "df[\"target\"] = boston[\"target\"]\n",
        "tgt = \"target\""
      ],
      "execution_count": 302,
      "outputs": []
    },
    {
      "cell_type": "code",
      "metadata": {
        "ExecuteTime": {
          "end_time": "2021-01-16T06:16:28.004996Z",
          "start_time": "2021-01-16T06:16:27.984971Z"
        },
        "colab": {
          "base_uri": "https://localhost:8080/",
          "height": 191
        },
        "id": "ouLWRxziJJQn",
        "outputId": "101d803e-a844-4514-ad6e-3578c85215b8"
      },
      "source": [
        "df.head()"
      ],
      "execution_count": 303,
      "outputs": [
        {
          "output_type": "execute_result",
          "data": {
            "text/html": [
              "<div>\n",
              "<style scoped>\n",
              "    .dataframe tbody tr th:only-of-type {\n",
              "        vertical-align: middle;\n",
              "    }\n",
              "\n",
              "    .dataframe tbody tr th {\n",
              "        vertical-align: top;\n",
              "    }\n",
              "\n",
              "    .dataframe thead th {\n",
              "        text-align: right;\n",
              "    }\n",
              "</style>\n",
              "<table border=\"1\" class=\"dataframe\">\n",
              "  <thead>\n",
              "    <tr style=\"text-align: right;\">\n",
              "      <th></th>\n",
              "      <th>CRIM</th>\n",
              "      <th>ZN</th>\n",
              "      <th>INDUS</th>\n",
              "      <th>CHAS</th>\n",
              "      <th>NOX</th>\n",
              "      <th>RM</th>\n",
              "      <th>AGE</th>\n",
              "      <th>DIS</th>\n",
              "      <th>RAD</th>\n",
              "      <th>TAX</th>\n",
              "      <th>PTRATIO</th>\n",
              "      <th>B</th>\n",
              "      <th>LSTAT</th>\n",
              "      <th>target</th>\n",
              "    </tr>\n",
              "  </thead>\n",
              "  <tbody>\n",
              "    <tr>\n",
              "      <th>0</th>\n",
              "      <td>0.00632</td>\n",
              "      <td>18.0</td>\n",
              "      <td>2.31</td>\n",
              "      <td>0.0</td>\n",
              "      <td>0.538</td>\n",
              "      <td>6.575</td>\n",
              "      <td>65.2</td>\n",
              "      <td>4.0900</td>\n",
              "      <td>1.0</td>\n",
              "      <td>296.0</td>\n",
              "      <td>15.3</td>\n",
              "      <td>396.90</td>\n",
              "      <td>4.98</td>\n",
              "      <td>24.0</td>\n",
              "    </tr>\n",
              "    <tr>\n",
              "      <th>1</th>\n",
              "      <td>0.02731</td>\n",
              "      <td>0.0</td>\n",
              "      <td>7.07</td>\n",
              "      <td>0.0</td>\n",
              "      <td>0.469</td>\n",
              "      <td>6.421</td>\n",
              "      <td>78.9</td>\n",
              "      <td>4.9671</td>\n",
              "      <td>2.0</td>\n",
              "      <td>242.0</td>\n",
              "      <td>17.8</td>\n",
              "      <td>396.90</td>\n",
              "      <td>9.14</td>\n",
              "      <td>21.6</td>\n",
              "    </tr>\n",
              "    <tr>\n",
              "      <th>2</th>\n",
              "      <td>0.02729</td>\n",
              "      <td>0.0</td>\n",
              "      <td>7.07</td>\n",
              "      <td>0.0</td>\n",
              "      <td>0.469</td>\n",
              "      <td>7.185</td>\n",
              "      <td>61.1</td>\n",
              "      <td>4.9671</td>\n",
              "      <td>2.0</td>\n",
              "      <td>242.0</td>\n",
              "      <td>17.8</td>\n",
              "      <td>392.83</td>\n",
              "      <td>4.03</td>\n",
              "      <td>34.7</td>\n",
              "    </tr>\n",
              "    <tr>\n",
              "      <th>3</th>\n",
              "      <td>0.03237</td>\n",
              "      <td>0.0</td>\n",
              "      <td>2.18</td>\n",
              "      <td>0.0</td>\n",
              "      <td>0.458</td>\n",
              "      <td>6.998</td>\n",
              "      <td>45.8</td>\n",
              "      <td>6.0622</td>\n",
              "      <td>3.0</td>\n",
              "      <td>222.0</td>\n",
              "      <td>18.7</td>\n",
              "      <td>394.63</td>\n",
              "      <td>2.94</td>\n",
              "      <td>33.4</td>\n",
              "    </tr>\n",
              "    <tr>\n",
              "      <th>4</th>\n",
              "      <td>0.06905</td>\n",
              "      <td>0.0</td>\n",
              "      <td>2.18</td>\n",
              "      <td>0.0</td>\n",
              "      <td>0.458</td>\n",
              "      <td>7.147</td>\n",
              "      <td>54.2</td>\n",
              "      <td>6.0622</td>\n",
              "      <td>3.0</td>\n",
              "      <td>222.0</td>\n",
              "      <td>18.7</td>\n",
              "      <td>396.90</td>\n",
              "      <td>5.33</td>\n",
              "      <td>36.2</td>\n",
              "    </tr>\n",
              "  </tbody>\n",
              "</table>\n",
              "</div>"
            ],
            "text/plain": [
              "      CRIM    ZN  INDUS  CHAS    NOX     RM   AGE     DIS  RAD    TAX  \\\n",
              "0  0.00632  18.0   2.31   0.0  0.538  6.575  65.2  4.0900  1.0  296.0   \n",
              "1  0.02731   0.0   7.07   0.0  0.469  6.421  78.9  4.9671  2.0  242.0   \n",
              "2  0.02729   0.0   7.07   0.0  0.469  7.185  61.1  4.9671  2.0  242.0   \n",
              "3  0.03237   0.0   2.18   0.0  0.458  6.998  45.8  6.0622  3.0  222.0   \n",
              "4  0.06905   0.0   2.18   0.0  0.458  7.147  54.2  6.0622  3.0  222.0   \n",
              "\n",
              "   PTRATIO       B  LSTAT  target  \n",
              "0     15.3  396.90   4.98    24.0  \n",
              "1     17.8  396.90   9.14    21.6  \n",
              "2     17.8  392.83   4.03    34.7  \n",
              "3     18.7  394.63   2.94    33.4  \n",
              "4     18.7  396.90   5.33    36.2  "
            ]
          },
          "metadata": {
            "tags": []
          },
          "execution_count": 303
        }
      ]
    },
    {
      "cell_type": "code",
      "metadata": {
        "ExecuteTime": {
          "end_time": "2021-01-16T15:29:35.454498Z",
          "start_time": "2021-01-16T15:29:35.447200Z"
        },
        "id": "nX4Y08ySJJQo"
      },
      "source": [
        "ls_pred = [x for x in df.columns if x not in [tgt]]"
      ],
      "execution_count": 304,
      "outputs": []
    },
    {
      "cell_type": "code",
      "metadata": {
        "ExecuteTime": {
          "end_time": "2021-01-16T15:31:45.385864Z",
          "start_time": "2021-01-16T15:31:45.367643Z"
        },
        "id": "YV2mMCPpJJQp"
      },
      "source": [
        "X = df[ls_pred]\n",
        "y = df[tgt]"
      ],
      "execution_count": 305,
      "outputs": []
    },
    {
      "cell_type": "code",
      "metadata": {
        "ExecuteTime": {
          "end_time": "2021-01-16T15:31:56.546070Z",
          "start_time": "2021-01-16T15:31:56.539489Z"
        },
        "id": "0NMB4zeMJJQp"
      },
      "source": [
        "from sklearn.model_selection import train_test_split"
      ],
      "execution_count": 306,
      "outputs": []
    },
    {
      "cell_type": "code",
      "metadata": {
        "ExecuteTime": {
          "end_time": "2021-01-16T15:31:58.056072Z",
          "start_time": "2021-01-16T15:31:58.039131Z"
        },
        "id": "FcnFulQ7JJQq"
      },
      "source": [
        "X_train, X_test, y_train, y_test = train_test_split(X, y, test_size=0.3)"
      ],
      "execution_count": 307,
      "outputs": []
    },
    {
      "cell_type": "code",
      "metadata": {
        "id": "xDGnpYUFkCnv"
      },
      "source": [
        "#Escalamos variables\r\n",
        "Sc = MinMaxScaler()\r\n",
        "Sc.fit(X_train)\r\n",
        "Xs = Sc.transform(X_train)\r\n",
        "\r\n",
        "Sc_y = MinMaxScaler()\r\n",
        "Sc_y.fit(y_train.values.reshape(-1,1))\r\n",
        "ys = Sc_y.transform(y_train.values.reshape(-1,1))"
      ],
      "execution_count": 308,
      "outputs": []
    },
    {
      "cell_type": "markdown",
      "metadata": {
        "id": "8rzQj3XfJJQq"
      },
      "source": [
        "## **LASSO**"
      ]
    },
    {
      "cell_type": "markdown",
      "metadata": {
        "id": "P9ANh8BZJJQq"
      },
      "source": [
        "# Cross Validation"
      ]
    },
    {
      "cell_type": "markdown",
      "metadata": {
        "id": "_Z4Vcr30lB5e"
      },
      "source": [
        "### No escalado"
      ]
    },
    {
      "cell_type": "code",
      "metadata": {
        "id": "KfDJHWAAl3eU"
      },
      "source": [
        "from sklearn.linear_model import Lasso\r\n",
        "from sklearn.model_selection import cross_val_score"
      ],
      "execution_count": 309,
      "outputs": []
    },
    {
      "cell_type": "code",
      "metadata": {
        "colab": {
          "base_uri": "https://localhost:8080/"
        },
        "id": "3auCS4enlHHf",
        "outputId": "eb82fdaa-bdcd-452c-dff3-c89d9a322eba"
      },
      "source": [
        "model_lasso = Lasso()\r\n",
        "ls_medias = cross_val_score(estimator=model_lasso, X=X_train, y = y_train, cv = 4, n_jobs=-1, scoring=\"r2\")\r\n",
        "ls_medias"
      ],
      "execution_count": 310,
      "outputs": [
        {
          "output_type": "execute_result",
          "data": {
            "text/plain": [
              "array([0.65344408, 0.58371562, 0.63285178, 0.65528127])"
            ]
          },
          "metadata": {
            "tags": []
          },
          "execution_count": 310
        }
      ]
    },
    {
      "cell_type": "code",
      "metadata": {
        "colab": {
          "base_uri": "https://localhost:8080/"
        },
        "id": "EjH3JmFQlcts",
        "outputId": "7a68a2f5-7a7d-4618-9172-1258af7c07b4"
      },
      "source": [
        "np.mean(ls_medias), np.std(ls_medias)"
      ],
      "execution_count": 311,
      "outputs": [
        {
          "output_type": "execute_result",
          "data": {
            "text/plain": [
              "(0.6313231870575887, 0.0288623504702011)"
            ]
          },
          "metadata": {
            "tags": []
          },
          "execution_count": 311
        }
      ]
    },
    {
      "cell_type": "markdown",
      "metadata": {
        "id": "pJzH-ERslB72"
      },
      "source": [
        "### Escalado"
      ]
    },
    {
      "cell_type": "code",
      "metadata": {
        "colab": {
          "base_uri": "https://localhost:8080/"
        },
        "id": "i2F40SkclHoN",
        "outputId": "b723be43-0e1a-474e-f971-1927ffbe37c0"
      },
      "source": [
        "ls_medias = cross_val_score(estimator=model_lasso, X=Xs, y = ys, cv = 4, n_jobs=-1, scoring=\"r2\")\r\n",
        "ls_medias"
      ],
      "execution_count": 312,
      "outputs": [
        {
          "output_type": "execute_result",
          "data": {
            "text/plain": [
              "array([-0.01658557, -0.02800646, -0.00223432, -0.00011894])"
            ]
          },
          "metadata": {
            "tags": []
          },
          "execution_count": 312
        }
      ]
    },
    {
      "cell_type": "code",
      "metadata": {
        "ExecuteTime": {
          "end_time": "2021-01-16T15:32:14.156732Z",
          "start_time": "2021-01-16T15:32:14.146125Z"
        },
        "colab": {
          "base_uri": "https://localhost:8080/"
        },
        "id": "gUc_uQ7ZJJQr",
        "outputId": "f9d53ab7-e563-43c7-de3f-4599a2011b45"
      },
      "source": [
        "np.mean(ls_medias), np.std(ls_medias)"
      ],
      "execution_count": 313,
      "outputs": [
        {
          "output_type": "execute_result",
          "data": {
            "text/plain": [
              "(-0.011736324224943917, 0.011330096328537872)"
            ]
          },
          "metadata": {
            "tags": []
          },
          "execution_count": 313
        }
      ]
    },
    {
      "cell_type": "markdown",
      "metadata": {
        "id": "L7XWcUUznWK5"
      },
      "source": [
        "# GridSearch"
      ]
    },
    {
      "cell_type": "code",
      "metadata": {
        "ExecuteTime": {
          "end_time": "2021-01-16T15:32:40.555616Z",
          "start_time": "2021-01-16T15:32:40.551941Z"
        },
        "colab": {
          "base_uri": "https://localhost:8080/"
        },
        "id": "3L3wpB0oJJQs",
        "outputId": "8ae5b7a1-24f6-49e8-8dfe-9f12204c1d13"
      },
      "source": [
        "model_lasso.get_params()"
      ],
      "execution_count": 314,
      "outputs": [
        {
          "output_type": "execute_result",
          "data": {
            "text/plain": [
              "{'alpha': 1.0,\n",
              " 'copy_X': True,\n",
              " 'fit_intercept': True,\n",
              " 'max_iter': 1000,\n",
              " 'normalize': False,\n",
              " 'positive': False,\n",
              " 'precompute': False,\n",
              " 'random_state': None,\n",
              " 'selection': 'cyclic',\n",
              " 'tol': 0.0001,\n",
              " 'warm_start': False}"
            ]
          },
          "metadata": {
            "tags": []
          },
          "execution_count": 314
        }
      ]
    },
    {
      "cell_type": "code",
      "metadata": {
        "ExecuteTime": {
          "end_time": "2021-01-16T15:38:16.846422Z",
          "start_time": "2021-01-16T15:38:16.835959Z"
        },
        "id": "htcLpL2QJJQu"
      },
      "source": [
        "param_grid = {\n",
        "    \"alpha\": [x for x in range(1, 100)] + [y/10 for y in range(10)],\n",
        "    \"tol\": [0.00001, 0.0000001, 0.01],\n",
        "    \"selection\": ['cyclic', 'random']\n",
        "}"
      ],
      "execution_count": 315,
      "outputs": []
    },
    {
      "cell_type": "code",
      "metadata": {
        "colab": {
          "base_uri": "https://localhost:8080/"
        },
        "id": "x2oWKIownoXw",
        "outputId": "3e16775c-b5ce-4bd3-a61d-94cdb0dd2c17"
      },
      "source": [
        "param_grid"
      ],
      "execution_count": 316,
      "outputs": [
        {
          "output_type": "execute_result",
          "data": {
            "text/plain": [
              "{'alpha': [1,\n",
              "  2,\n",
              "  3,\n",
              "  4,\n",
              "  5,\n",
              "  6,\n",
              "  7,\n",
              "  8,\n",
              "  9,\n",
              "  10,\n",
              "  11,\n",
              "  12,\n",
              "  13,\n",
              "  14,\n",
              "  15,\n",
              "  16,\n",
              "  17,\n",
              "  18,\n",
              "  19,\n",
              "  20,\n",
              "  21,\n",
              "  22,\n",
              "  23,\n",
              "  24,\n",
              "  25,\n",
              "  26,\n",
              "  27,\n",
              "  28,\n",
              "  29,\n",
              "  30,\n",
              "  31,\n",
              "  32,\n",
              "  33,\n",
              "  34,\n",
              "  35,\n",
              "  36,\n",
              "  37,\n",
              "  38,\n",
              "  39,\n",
              "  40,\n",
              "  41,\n",
              "  42,\n",
              "  43,\n",
              "  44,\n",
              "  45,\n",
              "  46,\n",
              "  47,\n",
              "  48,\n",
              "  49,\n",
              "  50,\n",
              "  51,\n",
              "  52,\n",
              "  53,\n",
              "  54,\n",
              "  55,\n",
              "  56,\n",
              "  57,\n",
              "  58,\n",
              "  59,\n",
              "  60,\n",
              "  61,\n",
              "  62,\n",
              "  63,\n",
              "  64,\n",
              "  65,\n",
              "  66,\n",
              "  67,\n",
              "  68,\n",
              "  69,\n",
              "  70,\n",
              "  71,\n",
              "  72,\n",
              "  73,\n",
              "  74,\n",
              "  75,\n",
              "  76,\n",
              "  77,\n",
              "  78,\n",
              "  79,\n",
              "  80,\n",
              "  81,\n",
              "  82,\n",
              "  83,\n",
              "  84,\n",
              "  85,\n",
              "  86,\n",
              "  87,\n",
              "  88,\n",
              "  89,\n",
              "  90,\n",
              "  91,\n",
              "  92,\n",
              "  93,\n",
              "  94,\n",
              "  95,\n",
              "  96,\n",
              "  97,\n",
              "  98,\n",
              "  99,\n",
              "  0.0,\n",
              "  0.1,\n",
              "  0.2,\n",
              "  0.3,\n",
              "  0.4,\n",
              "  0.5,\n",
              "  0.6,\n",
              "  0.7,\n",
              "  0.8,\n",
              "  0.9],\n",
              " 'selection': ['cyclic', 'random'],\n",
              " 'tol': [1e-05, 1e-07, 0.01]}"
            ]
          },
          "metadata": {
            "tags": []
          },
          "execution_count": 316
        }
      ]
    },
    {
      "cell_type": "code",
      "metadata": {
        "ExecuteTime": {
          "end_time": "2021-01-16T15:38:19.184958Z",
          "start_time": "2021-01-16T15:38:19.178588Z"
        },
        "colab": {
          "base_uri": "https://localhost:8080/"
        },
        "id": "Z760moAnJJQv",
        "outputId": "5c051ba6-0458-4f46-e258-61f822b48145"
      },
      "source": [
        "np.prod(list(map(len, param_grid.values())))"
      ],
      "execution_count": 317,
      "outputs": [
        {
          "output_type": "execute_result",
          "data": {
            "text/plain": [
              "654"
            ]
          },
          "metadata": {
            "tags": []
          },
          "execution_count": 317
        }
      ]
    },
    {
      "cell_type": "markdown",
      "metadata": {
        "id": "n-CR6ljRnzE2"
      },
      "source": [
        "### Sin Escalamiento"
      ]
    },
    {
      "cell_type": "code",
      "metadata": {
        "ExecuteTime": {
          "end_time": "2021-01-16T15:38:43.844465Z",
          "start_time": "2021-01-16T15:38:43.835581Z"
        },
        "id": "HpnIcodjJJQv"
      },
      "source": [
        "from sklearn.model_selection import GridSearchCV, RandomizedSearchCV"
      ],
      "execution_count": 318,
      "outputs": []
    },
    {
      "cell_type": "code",
      "metadata": {
        "ExecuteTime": {
          "end_time": "2021-01-16T15:39:37.076936Z",
          "start_time": "2021-01-16T15:39:32.110411Z"
        },
        "colab": {
          "base_uri": "https://localhost:8080/"
        },
        "id": "Aacu4LCPJJQw",
        "outputId": "e2fd9044-b42d-4da0-8405-9a307b78e0fc"
      },
      "source": [
        "clf = GridSearchCV(model_lasso, param_grid, cv=4, error_score=-1000, n_jobs=-1, scoring=\"r2\", verbose=5)\n",
        "clf.fit(X_train, y_train)\n",
        "print(\"Best score: \" + str(clf.best_score_))"
      ],
      "execution_count": 319,
      "outputs": [
        {
          "output_type": "stream",
          "text": [
            "Fitting 4 folds for each of 654 candidates, totalling 2616 fits\n"
          ],
          "name": "stdout"
        },
        {
          "output_type": "stream",
          "text": [
            "[Parallel(n_jobs=-1)]: Using backend LokyBackend with 2 concurrent workers.\n",
            "[Parallel(n_jobs=-1)]: Done  44 tasks      | elapsed:    0.2s\n",
            "[Parallel(n_jobs=-1)]: Done 1660 tasks      | elapsed:    5.1s\n"
          ],
          "name": "stderr"
        },
        {
          "output_type": "stream",
          "text": [
            "Best score: 0.664593940719352\n"
          ],
          "name": "stdout"
        },
        {
          "output_type": "stream",
          "text": [
            "[Parallel(n_jobs=-1)]: Done 2613 out of 2616 | elapsed:    7.9s remaining:    0.0s\n",
            "[Parallel(n_jobs=-1)]: Done 2616 out of 2616 | elapsed:    7.9s finished\n",
            "/usr/local/lib/python3.6/dist-packages/sklearn/model_selection/_search.py:739: UserWarning: With alpha=0, this algorithm does not converge well. You are advised to use the LinearRegression estimator\n",
            "  self.best_estimator_.fit(X, y, **fit_params)\n",
            "/usr/local/lib/python3.6/dist-packages/sklearn/linear_model/_coordinate_descent.py:476: UserWarning: Coordinate descent with no regularization may lead to unexpected results and is discouraged.\n",
            "  positive)\n",
            "/usr/local/lib/python3.6/dist-packages/sklearn/linear_model/_coordinate_descent.py:476: ConvergenceWarning: Objective did not converge. You might want to increase the number of iterations. Duality gap: 3945.9308963590033, tolerance: 0.002849536759887006\n",
            "  positive)\n"
          ],
          "name": "stderr"
        }
      ]
    },
    {
      "cell_type": "code",
      "metadata": {
        "ExecuteTime": {
          "end_time": "2021-01-16T15:39:59.642477Z",
          "start_time": "2021-01-16T15:39:59.631090Z"
        },
        "id": "dzj7AxL_JJQw"
      },
      "source": [
        "# Guardamos los resultados\r\n",
        "summary = pd.DataFrame(clf.cv_results_)"
      ],
      "execution_count": 320,
      "outputs": []
    },
    {
      "cell_type": "code",
      "metadata": {
        "ExecuteTime": {
          "end_time": "2021-01-16T15:40:01.736846Z",
          "start_time": "2021-01-16T15:40:01.696703Z"
        },
        "scrolled": true,
        "colab": {
          "base_uri": "https://localhost:8080/",
          "height": 332
        },
        "id": "FyEwE9k9JJQw",
        "outputId": "aeee43df-9e93-4333-8db4-3b44cd9a8cfa"
      },
      "source": [
        "summary.head(3)"
      ],
      "execution_count": 321,
      "outputs": [
        {
          "output_type": "execute_result",
          "data": {
            "text/html": [
              "<div>\n",
              "<style scoped>\n",
              "    .dataframe tbody tr th:only-of-type {\n",
              "        vertical-align: middle;\n",
              "    }\n",
              "\n",
              "    .dataframe tbody tr th {\n",
              "        vertical-align: top;\n",
              "    }\n",
              "\n",
              "    .dataframe thead th {\n",
              "        text-align: right;\n",
              "    }\n",
              "</style>\n",
              "<table border=\"1\" class=\"dataframe\">\n",
              "  <thead>\n",
              "    <tr style=\"text-align: right;\">\n",
              "      <th></th>\n",
              "      <th>mean_fit_time</th>\n",
              "      <th>std_fit_time</th>\n",
              "      <th>mean_score_time</th>\n",
              "      <th>std_score_time</th>\n",
              "      <th>param_alpha</th>\n",
              "      <th>param_selection</th>\n",
              "      <th>param_tol</th>\n",
              "      <th>params</th>\n",
              "      <th>split0_test_score</th>\n",
              "      <th>split1_test_score</th>\n",
              "      <th>split2_test_score</th>\n",
              "      <th>split3_test_score</th>\n",
              "      <th>mean_test_score</th>\n",
              "      <th>std_test_score</th>\n",
              "      <th>rank_test_score</th>\n",
              "    </tr>\n",
              "  </thead>\n",
              "  <tbody>\n",
              "    <tr>\n",
              "      <th>0</th>\n",
              "      <td>0.003807</td>\n",
              "      <td>0.001250</td>\n",
              "      <td>0.001543</td>\n",
              "      <td>0.000255</td>\n",
              "      <td>1</td>\n",
              "      <td>cyclic</td>\n",
              "      <td>1e-05</td>\n",
              "      <td>{'alpha': 1, 'selection': 'cyclic', 'tol': 1e-05}</td>\n",
              "      <td>0.653458</td>\n",
              "      <td>0.583728</td>\n",
              "      <td>0.632841</td>\n",
              "      <td>0.655293</td>\n",
              "      <td>0.631330</td>\n",
              "      <td>0.028862</td>\n",
              "      <td>65</td>\n",
              "    </tr>\n",
              "    <tr>\n",
              "      <th>1</th>\n",
              "      <td>0.003125</td>\n",
              "      <td>0.000157</td>\n",
              "      <td>0.001939</td>\n",
              "      <td>0.000474</td>\n",
              "      <td>1</td>\n",
              "      <td>cyclic</td>\n",
              "      <td>1e-07</td>\n",
              "      <td>{'alpha': 1, 'selection': 'cyclic', 'tol': 1e-07}</td>\n",
              "      <td>0.653458</td>\n",
              "      <td>0.583730</td>\n",
              "      <td>0.632840</td>\n",
              "      <td>0.655294</td>\n",
              "      <td>0.631330</td>\n",
              "      <td>0.028862</td>\n",
              "      <td>63</td>\n",
              "    </tr>\n",
              "    <tr>\n",
              "      <th>2</th>\n",
              "      <td>0.005120</td>\n",
              "      <td>0.002905</td>\n",
              "      <td>0.001746</td>\n",
              "      <td>0.000237</td>\n",
              "      <td>1</td>\n",
              "      <td>cyclic</td>\n",
              "      <td>0.01</td>\n",
              "      <td>{'alpha': 1, 'selection': 'cyclic', 'tol': 0.01}</td>\n",
              "      <td>0.653506</td>\n",
              "      <td>0.583229</td>\n",
              "      <td>0.633749</td>\n",
              "      <td>0.654530</td>\n",
              "      <td>0.631254</td>\n",
              "      <td>0.028938</td>\n",
              "      <td>66</td>\n",
              "    </tr>\n",
              "  </tbody>\n",
              "</table>\n",
              "</div>"
            ],
            "text/plain": [
              "   mean_fit_time  std_fit_time  mean_score_time  std_score_time param_alpha  \\\n",
              "0       0.003807      0.001250         0.001543        0.000255           1   \n",
              "1       0.003125      0.000157         0.001939        0.000474           1   \n",
              "2       0.005120      0.002905         0.001746        0.000237           1   \n",
              "\n",
              "  param_selection param_tol  \\\n",
              "0          cyclic     1e-05   \n",
              "1          cyclic     1e-07   \n",
              "2          cyclic      0.01   \n",
              "\n",
              "                                              params  split0_test_score  \\\n",
              "0  {'alpha': 1, 'selection': 'cyclic', 'tol': 1e-05}           0.653458   \n",
              "1  {'alpha': 1, 'selection': 'cyclic', 'tol': 1e-07}           0.653458   \n",
              "2   {'alpha': 1, 'selection': 'cyclic', 'tol': 0.01}           0.653506   \n",
              "\n",
              "   split1_test_score  split2_test_score  split3_test_score  mean_test_score  \\\n",
              "0           0.583728           0.632841           0.655293         0.631330   \n",
              "1           0.583730           0.632840           0.655294         0.631330   \n",
              "2           0.583229           0.633749           0.654530         0.631254   \n",
              "\n",
              "   std_test_score  rank_test_score  \n",
              "0        0.028862               65  \n",
              "1        0.028862               63  \n",
              "2        0.028938               66  "
            ]
          },
          "metadata": {
            "tags": []
          },
          "execution_count": 321
        }
      ]
    },
    {
      "cell_type": "code",
      "metadata": {
        "ExecuteTime": {
          "end_time": "2021-01-16T15:40:42.308578Z",
          "start_time": "2021-01-16T15:40:42.276609Z"
        },
        "scrolled": true,
        "colab": {
          "base_uri": "https://localhost:8080/",
          "height": 348
        },
        "id": "D1aZSU2CJJQx",
        "outputId": "f6da8b45-ff06-4d17-9f5a-7595d7488278"
      },
      "source": [
        "summary.sort_values(by = \"rank_test_score\").tail(3)"
      ],
      "execution_count": 322,
      "outputs": [
        {
          "output_type": "execute_result",
          "data": {
            "text/html": [
              "<div>\n",
              "<style scoped>\n",
              "    .dataframe tbody tr th:only-of-type {\n",
              "        vertical-align: middle;\n",
              "    }\n",
              "\n",
              "    .dataframe tbody tr th {\n",
              "        vertical-align: top;\n",
              "    }\n",
              "\n",
              "    .dataframe thead th {\n",
              "        text-align: right;\n",
              "    }\n",
              "</style>\n",
              "<table border=\"1\" class=\"dataframe\">\n",
              "  <thead>\n",
              "    <tr style=\"text-align: right;\">\n",
              "      <th></th>\n",
              "      <th>mean_fit_time</th>\n",
              "      <th>std_fit_time</th>\n",
              "      <th>mean_score_time</th>\n",
              "      <th>std_score_time</th>\n",
              "      <th>param_alpha</th>\n",
              "      <th>param_selection</th>\n",
              "      <th>param_tol</th>\n",
              "      <th>params</th>\n",
              "      <th>split0_test_score</th>\n",
              "      <th>split1_test_score</th>\n",
              "      <th>split2_test_score</th>\n",
              "      <th>split3_test_score</th>\n",
              "      <th>mean_test_score</th>\n",
              "      <th>std_test_score</th>\n",
              "      <th>rank_test_score</th>\n",
              "    </tr>\n",
              "  </thead>\n",
              "  <tbody>\n",
              "    <tr>\n",
              "      <th>588</th>\n",
              "      <td>0.002465</td>\n",
              "      <td>0.000082</td>\n",
              "      <td>0.001429</td>\n",
              "      <td>0.000012</td>\n",
              "      <td>99</td>\n",
              "      <td>cyclic</td>\n",
              "      <td>1e-05</td>\n",
              "      <td>{'alpha': 99, 'selection': 'cyclic', 'tol': 1e...</td>\n",
              "      <td>0.275119</td>\n",
              "      <td>0.118740</td>\n",
              "      <td>0.250817</td>\n",
              "      <td>0.194872</td>\n",
              "      <td>0.209887</td>\n",
              "      <td>0.060132</td>\n",
              "      <td>652</td>\n",
              "    </tr>\n",
              "    <tr>\n",
              "      <th>589</th>\n",
              "      <td>0.002489</td>\n",
              "      <td>0.000064</td>\n",
              "      <td>0.001473</td>\n",
              "      <td>0.000063</td>\n",
              "      <td>99</td>\n",
              "      <td>cyclic</td>\n",
              "      <td>1e-07</td>\n",
              "      <td>{'alpha': 99, 'selection': 'cyclic', 'tol': 1e...</td>\n",
              "      <td>0.275119</td>\n",
              "      <td>0.118740</td>\n",
              "      <td>0.250817</td>\n",
              "      <td>0.194872</td>\n",
              "      <td>0.209887</td>\n",
              "      <td>0.060132</td>\n",
              "      <td>653</td>\n",
              "    </tr>\n",
              "    <tr>\n",
              "      <th>591</th>\n",
              "      <td>0.003724</td>\n",
              "      <td>0.001793</td>\n",
              "      <td>0.003424</td>\n",
              "      <td>0.003078</td>\n",
              "      <td>99</td>\n",
              "      <td>random</td>\n",
              "      <td>1e-05</td>\n",
              "      <td>{'alpha': 99, 'selection': 'random', 'tol': 1e...</td>\n",
              "      <td>0.275112</td>\n",
              "      <td>0.118741</td>\n",
              "      <td>0.250816</td>\n",
              "      <td>0.194872</td>\n",
              "      <td>0.209885</td>\n",
              "      <td>0.060130</td>\n",
              "      <td>654</td>\n",
              "    </tr>\n",
              "  </tbody>\n",
              "</table>\n",
              "</div>"
            ],
            "text/plain": [
              "     mean_fit_time  std_fit_time  mean_score_time  std_score_time param_alpha  \\\n",
              "588       0.002465      0.000082         0.001429        0.000012          99   \n",
              "589       0.002489      0.000064         0.001473        0.000063          99   \n",
              "591       0.003724      0.001793         0.003424        0.003078          99   \n",
              "\n",
              "    param_selection param_tol  \\\n",
              "588          cyclic     1e-05   \n",
              "589          cyclic     1e-07   \n",
              "591          random     1e-05   \n",
              "\n",
              "                                                params  split0_test_score  \\\n",
              "588  {'alpha': 99, 'selection': 'cyclic', 'tol': 1e...           0.275119   \n",
              "589  {'alpha': 99, 'selection': 'cyclic', 'tol': 1e...           0.275119   \n",
              "591  {'alpha': 99, 'selection': 'random', 'tol': 1e...           0.275112   \n",
              "\n",
              "     split1_test_score  split2_test_score  split3_test_score  mean_test_score  \\\n",
              "588           0.118740           0.250817           0.194872         0.209887   \n",
              "589           0.118740           0.250817           0.194872         0.209887   \n",
              "591           0.118741           0.250816           0.194872         0.209885   \n",
              "\n",
              "     std_test_score  rank_test_score  \n",
              "588        0.060132              652  \n",
              "589        0.060132              653  \n",
              "591        0.060130              654  "
            ]
          },
          "metadata": {
            "tags": []
          },
          "execution_count": 322
        }
      ]
    },
    {
      "cell_type": "code",
      "metadata": {
        "ExecuteTime": {
          "end_time": "2021-01-16T15:42:24.788116Z",
          "start_time": "2021-01-16T15:42:24.779896Z"
        },
        "colab": {
          "base_uri": "https://localhost:8080/"
        },
        "id": "b6ULUY6bJJQy",
        "outputId": "7f53580f-908b-4f16-ca5f-3bbf3201e1ad"
      },
      "source": [
        "dc_scores={}\r\n",
        "dc_scores[str(model_lasso).split(\"(\")[0]] = {\"model\": clf.best_estimator_, \"score\": clf.best_score_}\r\n",
        "dc_scores"
      ],
      "execution_count": 323,
      "outputs": [
        {
          "output_type": "execute_result",
          "data": {
            "text/plain": [
              "{'Lasso': {'model': Lasso(alpha=0.0, copy_X=True, fit_intercept=True, max_iter=1000,\n",
              "        normalize=False, positive=False, precompute=False, random_state=None,\n",
              "        selection='random', tol=1e-07, warm_start=False),\n",
              "  'score': 0.664593940719352}}"
            ]
          },
          "metadata": {
            "tags": []
          },
          "execution_count": 323
        }
      ]
    },
    {
      "cell_type": "markdown",
      "metadata": {
        "id": "5vX2GGuRompV"
      },
      "source": [
        "### Escalado"
      ]
    },
    {
      "cell_type": "code",
      "metadata": {
        "colab": {
          "base_uri": "https://localhost:8080/"
        },
        "id": "bfHNNxPtoqde",
        "outputId": "fea232e1-b081-4acc-9db4-19e68bcca507"
      },
      "source": [
        "clf = GridSearchCV(model_lasso, param_grid, cv=4, error_score=-1000, n_jobs=-1, scoring=\"r2\", verbose=5)\r\n",
        "clf.fit(Xs, ys)\r\n",
        "print(\"Best score: \" + str(clf.best_score_))"
      ],
      "execution_count": 324,
      "outputs": [
        {
          "output_type": "stream",
          "text": [
            "[Parallel(n_jobs=-1)]: Using backend LokyBackend with 2 concurrent workers.\n"
          ],
          "name": "stderr"
        },
        {
          "output_type": "stream",
          "text": [
            "Fitting 4 folds for each of 654 candidates, totalling 2616 fits\n"
          ],
          "name": "stdout"
        },
        {
          "output_type": "stream",
          "text": [
            "[Parallel(n_jobs=-1)]: Done  44 tasks      | elapsed:    0.1s\n"
          ],
          "name": "stderr"
        },
        {
          "output_type": "stream",
          "text": [
            "Best score: 0.664593940719352\n"
          ],
          "name": "stdout"
        },
        {
          "output_type": "stream",
          "text": [
            "[Parallel(n_jobs=-1)]: Done 2519 tasks      | elapsed:    3.6s\n",
            "[Parallel(n_jobs=-1)]: Done 2613 out of 2616 | elapsed:    3.7s remaining:    0.0s\n",
            "[Parallel(n_jobs=-1)]: Done 2616 out of 2616 | elapsed:    3.7s finished\n",
            "/usr/local/lib/python3.6/dist-packages/sklearn/model_selection/_search.py:739: UserWarning: With alpha=0, this algorithm does not converge well. You are advised to use the LinearRegression estimator\n",
            "  self.best_estimator_.fit(X, y, **fit_params)\n",
            "/usr/local/lib/python3.6/dist-packages/sklearn/linear_model/_coordinate_descent.py:476: UserWarning: Coordinate descent with no regularization may lead to unexpected results and is discouraged.\n",
            "  positive)\n",
            "/usr/local/lib/python3.6/dist-packages/sklearn/linear_model/_coordinate_descent.py:476: ConvergenceWarning: Objective did not converge. You might want to increase the number of iterations. Duality gap: 1.9486078500538253, tolerance: 0.00014071786468577806\n",
            "  positive)\n"
          ],
          "name": "stderr"
        }
      ]
    },
    {
      "cell_type": "code",
      "metadata": {
        "colab": {
          "base_uri": "https://localhost:8080/"
        },
        "id": "a-yM7Pz_oqgg",
        "outputId": "ae8cfd63-90ad-4cea-8503-01c9aa5e471b"
      },
      "source": [
        "dc_scores[str(model_lasso).split(\"(\")[0]] = {\"model\": clf.best_estimator_, \"score\": clf.best_score_}\r\n",
        "dc_scores"
      ],
      "execution_count": 325,
      "outputs": [
        {
          "output_type": "execute_result",
          "data": {
            "text/plain": [
              "{'Lasso': {'model': Lasso(alpha=0.0, copy_X=True, fit_intercept=True, max_iter=1000,\n",
              "        normalize=False, positive=False, precompute=False, random_state=None,\n",
              "        selection='random', tol=1e-05, warm_start=False),\n",
              "  'score': 0.664593940719352}}"
            ]
          },
          "metadata": {
            "tags": []
          },
          "execution_count": 325
        }
      ]
    },
    {
      "cell_type": "markdown",
      "metadata": {
        "id": "cbKYLt0sJJQy"
      },
      "source": [
        "## **RIDGE**"
      ]
    },
    {
      "cell_type": "code",
      "metadata": {
        "ExecuteTime": {
          "end_time": "2021-01-16T15:42:47.114788Z",
          "start_time": "2021-01-16T15:42:47.107810Z"
        },
        "id": "1W4aKQi3JJQz"
      },
      "source": [
        "model_ridge = Ridge()"
      ],
      "execution_count": 326,
      "outputs": []
    },
    {
      "cell_type": "markdown",
      "metadata": {
        "id": "qzDkH3gQpcIY"
      },
      "source": [
        "### Cross Validation Sin escalar"
      ]
    },
    {
      "cell_type": "code",
      "metadata": {
        "ExecuteTime": {
          "end_time": "2021-01-16T15:43:05.731001Z",
          "start_time": "2021-01-16T15:43:05.678673Z"
        },
        "colab": {
          "base_uri": "https://localhost:8080/"
        },
        "id": "qW1vWIUrJJQz",
        "outputId": "505251ea-f600-4fd0-8cf6-29af331294c5"
      },
      "source": [
        "model_ridge.fit(X_train, y_train)\n",
        "ls_medias_ridge = cross_val_score(estimator=model_ridge, X=X_train, y = y_train, cv = 4, n_jobs=-1, scoring=\"r2\")\n",
        "np.mean(ls_medias_ridge), np.std(ls_medias_ridge)"
      ],
      "execution_count": 328,
      "outputs": [
        {
          "output_type": "execute_result",
          "data": {
            "text/plain": [
              "(0.6601059213624934, 0.09325133602833377)"
            ]
          },
          "metadata": {
            "tags": []
          },
          "execution_count": 328
        }
      ]
    },
    {
      "cell_type": "markdown",
      "metadata": {
        "id": "bf7kF5tWpdMz"
      },
      "source": [
        "### Cross Validation Escalando"
      ]
    },
    {
      "cell_type": "code",
      "metadata": {
        "colab": {
          "base_uri": "https://localhost:8080/"
        },
        "id": "9ARKjwGdpdgU",
        "outputId": "772593d9-f487-4e02-c854-1a94f391a2d1"
      },
      "source": [
        "model_ridge.fit(Xs, ys)\r\n",
        "ls_medias_ridge = cross_val_score(estimator=model_ridge, X=Xs, y = ys, cv = 4, n_jobs=-1, scoring=\"r2\")\r\n",
        "np.mean(ls_medias_ridge), np.std(ls_medias_ridge)"
      ],
      "execution_count": 329,
      "outputs": [
        {
          "output_type": "execute_result",
          "data": {
            "text/plain": [
              "(0.6721569001047378, 0.06566740450977218)"
            ]
          },
          "metadata": {
            "tags": []
          },
          "execution_count": 329
        }
      ]
    },
    {
      "cell_type": "markdown",
      "metadata": {
        "id": "llyzJpihpvGK"
      },
      "source": [
        "#Grid Search Sin Escalado"
      ]
    },
    {
      "cell_type": "code",
      "metadata": {
        "ExecuteTime": {
          "end_time": "2021-01-16T15:43:10.579929Z",
          "start_time": "2021-01-16T15:43:10.575180Z"
        },
        "colab": {
          "base_uri": "https://localhost:8080/"
        },
        "id": "zz3xvnu8JJQ0",
        "outputId": "44ea117d-2437-4052-f93c-a173f7a0a22f"
      },
      "source": [
        "model_ridge.get_params()"
      ],
      "execution_count": 330,
      "outputs": [
        {
          "output_type": "execute_result",
          "data": {
            "text/plain": [
              "{'alpha': 1.0,\n",
              " 'copy_X': True,\n",
              " 'fit_intercept': True,\n",
              " 'max_iter': None,\n",
              " 'normalize': False,\n",
              " 'random_state': None,\n",
              " 'solver': 'auto',\n",
              " 'tol': 0.001}"
            ]
          },
          "metadata": {
            "tags": []
          },
          "execution_count": 330
        }
      ]
    },
    {
      "cell_type": "code",
      "metadata": {
        "ExecuteTime": {
          "end_time": "2021-01-16T15:43:40.594966Z",
          "start_time": "2021-01-16T15:43:40.589766Z"
        },
        "id": "B68PYLw7JJQ0"
      },
      "source": [
        "param_grid = {\n",
        "    \"alpha\": [x for x in range(1, 100)] + [y/10 for y in range(10)],\n",
        "    \"tol\": [0.00001, 0.0000001, 0.01],\n",
        "    \"solver\": ['auto', 'svd', 'cholesky', 'lsqr', 'sparse_cg', 'sag', 'saga']\n",
        "}"
      ],
      "execution_count": 331,
      "outputs": []
    },
    {
      "cell_type": "code",
      "metadata": {
        "ExecuteTime": {
          "end_time": "2021-01-16T15:43:42.759219Z",
          "start_time": "2021-01-16T15:43:42.748773Z"
        },
        "colab": {
          "base_uri": "https://localhost:8080/"
        },
        "id": "-xJaRthQJJQ0",
        "outputId": "75aabd00-a273-48eb-b30f-df877d9a8554"
      },
      "source": [
        "np.prod(list(map(len, param_grid.values())))"
      ],
      "execution_count": 332,
      "outputs": [
        {
          "output_type": "execute_result",
          "data": {
            "text/plain": [
              "2289"
            ]
          },
          "metadata": {
            "tags": []
          },
          "execution_count": 332
        }
      ]
    },
    {
      "cell_type": "code",
      "metadata": {
        "ExecuteTime": {
          "end_time": "2021-01-16T15:44:23.325992Z",
          "start_time": "2021-01-16T15:43:57.408336Z"
        },
        "colab": {
          "base_uri": "https://localhost:8080/"
        },
        "id": "P3dPJF_jJJQ1",
        "outputId": "353c5495-f4be-44bc-b872-4938d6a97470"
      },
      "source": [
        "clf_ridge = GridSearchCV(model_ridge, param_grid, cv=4, error_score=-1000, n_jobs=-1, scoring=\"r2\")\n",
        "clf_ridge.fit(X_train, y_train)\n",
        "print(\"Best score: \" + str(clf_ridge.best_score_))"
      ],
      "execution_count": 333,
      "outputs": [
        {
          "output_type": "stream",
          "text": [
            "Best score: 0.6671484717862689\n"
          ],
          "name": "stdout"
        }
      ]
    },
    {
      "cell_type": "code",
      "metadata": {
        "ExecuteTime": {
          "end_time": "2021-01-16T15:44:48.554325Z",
          "start_time": "2021-01-16T15:44:48.548105Z"
        },
        "colab": {
          "base_uri": "https://localhost:8080/",
          "height": 397
        },
        "id": "7XTXE8tXJJQ1",
        "outputId": "20a6a72c-3a40-4af9-a25d-495f260ca6ae"
      },
      "source": [
        "summary_ridge = pd.DataFrame(clf_ridge.cv_results_)\r\n",
        "summary_ridge.head(3)"
      ],
      "execution_count": 334,
      "outputs": [
        {
          "output_type": "execute_result",
          "data": {
            "text/html": [
              "<div>\n",
              "<style scoped>\n",
              "    .dataframe tbody tr th:only-of-type {\n",
              "        vertical-align: middle;\n",
              "    }\n",
              "\n",
              "    .dataframe tbody tr th {\n",
              "        vertical-align: top;\n",
              "    }\n",
              "\n",
              "    .dataframe thead th {\n",
              "        text-align: right;\n",
              "    }\n",
              "</style>\n",
              "<table border=\"1\" class=\"dataframe\">\n",
              "  <thead>\n",
              "    <tr style=\"text-align: right;\">\n",
              "      <th></th>\n",
              "      <th>mean_fit_time</th>\n",
              "      <th>std_fit_time</th>\n",
              "      <th>mean_score_time</th>\n",
              "      <th>std_score_time</th>\n",
              "      <th>param_alpha</th>\n",
              "      <th>param_solver</th>\n",
              "      <th>param_tol</th>\n",
              "      <th>params</th>\n",
              "      <th>split0_test_score</th>\n",
              "      <th>split1_test_score</th>\n",
              "      <th>split2_test_score</th>\n",
              "      <th>split3_test_score</th>\n",
              "      <th>mean_test_score</th>\n",
              "      <th>std_test_score</th>\n",
              "      <th>rank_test_score</th>\n",
              "    </tr>\n",
              "  </thead>\n",
              "  <tbody>\n",
              "    <tr>\n",
              "      <th>0</th>\n",
              "      <td>0.002994</td>\n",
              "      <td>0.000616</td>\n",
              "      <td>0.001793</td>\n",
              "      <td>0.000601</td>\n",
              "      <td>1</td>\n",
              "      <td>auto</td>\n",
              "      <td>1e-05</td>\n",
              "      <td>{'alpha': 1, 'solver': 'auto', 'tol': 1e-05}</td>\n",
              "      <td>0.73418</td>\n",
              "      <td>0.699342</td>\n",
              "      <td>0.500162</td>\n",
              "      <td>0.706739</td>\n",
              "      <td>0.660106</td>\n",
              "      <td>0.093251</td>\n",
              "      <td>1345</td>\n",
              "    </tr>\n",
              "    <tr>\n",
              "      <th>1</th>\n",
              "      <td>0.002872</td>\n",
              "      <td>0.000140</td>\n",
              "      <td>0.003281</td>\n",
              "      <td>0.002909</td>\n",
              "      <td>1</td>\n",
              "      <td>auto</td>\n",
              "      <td>1e-07</td>\n",
              "      <td>{'alpha': 1, 'solver': 'auto', 'tol': 1e-07}</td>\n",
              "      <td>0.73418</td>\n",
              "      <td>0.699342</td>\n",
              "      <td>0.500162</td>\n",
              "      <td>0.706739</td>\n",
              "      <td>0.660106</td>\n",
              "      <td>0.093251</td>\n",
              "      <td>1345</td>\n",
              "    </tr>\n",
              "    <tr>\n",
              "      <th>2</th>\n",
              "      <td>0.002816</td>\n",
              "      <td>0.000450</td>\n",
              "      <td>0.001624</td>\n",
              "      <td>0.000323</td>\n",
              "      <td>1</td>\n",
              "      <td>auto</td>\n",
              "      <td>0.01</td>\n",
              "      <td>{'alpha': 1, 'solver': 'auto', 'tol': 0.01}</td>\n",
              "      <td>0.73418</td>\n",
              "      <td>0.699342</td>\n",
              "      <td>0.500162</td>\n",
              "      <td>0.706739</td>\n",
              "      <td>0.660106</td>\n",
              "      <td>0.093251</td>\n",
              "      <td>1345</td>\n",
              "    </tr>\n",
              "  </tbody>\n",
              "</table>\n",
              "</div>"
            ],
            "text/plain": [
              "   mean_fit_time  std_fit_time  mean_score_time  std_score_time param_alpha  \\\n",
              "0       0.002994      0.000616         0.001793        0.000601           1   \n",
              "1       0.002872      0.000140         0.003281        0.002909           1   \n",
              "2       0.002816      0.000450         0.001624        0.000323           1   \n",
              "\n",
              "  param_solver param_tol                                        params  \\\n",
              "0         auto     1e-05  {'alpha': 1, 'solver': 'auto', 'tol': 1e-05}   \n",
              "1         auto     1e-07  {'alpha': 1, 'solver': 'auto', 'tol': 1e-07}   \n",
              "2         auto      0.01   {'alpha': 1, 'solver': 'auto', 'tol': 0.01}   \n",
              "\n",
              "   split0_test_score  split1_test_score  split2_test_score  split3_test_score  \\\n",
              "0            0.73418           0.699342           0.500162           0.706739   \n",
              "1            0.73418           0.699342           0.500162           0.706739   \n",
              "2            0.73418           0.699342           0.500162           0.706739   \n",
              "\n",
              "   mean_test_score  std_test_score  rank_test_score  \n",
              "0         0.660106        0.093251             1345  \n",
              "1         0.660106        0.093251             1345  \n",
              "2         0.660106        0.093251             1345  "
            ]
          },
          "metadata": {
            "tags": []
          },
          "execution_count": 334
        }
      ]
    },
    {
      "cell_type": "code",
      "metadata": {
        "ExecuteTime": {
          "end_time": "2021-01-16T15:44:58.607186Z",
          "start_time": "2021-01-16T15:44:58.580219Z"
        },
        "scrolled": true,
        "colab": {
          "base_uri": "https://localhost:8080/",
          "height": 397
        },
        "id": "y60U279jJJQ2",
        "outputId": "3dc689bf-23f1-4e2f-a7b1-b077c9fbcb11"
      },
      "source": [
        "summary_ridge.sort_values(by = \"rank_test_score\").tail(3)"
      ],
      "execution_count": 335,
      "outputs": [
        {
          "output_type": "execute_result",
          "data": {
            "text/html": [
              "<div>\n",
              "<style scoped>\n",
              "    .dataframe tbody tr th:only-of-type {\n",
              "        vertical-align: middle;\n",
              "    }\n",
              "\n",
              "    .dataframe tbody tr th {\n",
              "        vertical-align: top;\n",
              "    }\n",
              "\n",
              "    .dataframe thead th {\n",
              "        text-align: right;\n",
              "    }\n",
              "</style>\n",
              "<table border=\"1\" class=\"dataframe\">\n",
              "  <thead>\n",
              "    <tr style=\"text-align: right;\">\n",
              "      <th></th>\n",
              "      <th>mean_fit_time</th>\n",
              "      <th>std_fit_time</th>\n",
              "      <th>mean_score_time</th>\n",
              "      <th>std_score_time</th>\n",
              "      <th>param_alpha</th>\n",
              "      <th>param_solver</th>\n",
              "      <th>param_tol</th>\n",
              "      <th>params</th>\n",
              "      <th>split0_test_score</th>\n",
              "      <th>split1_test_score</th>\n",
              "      <th>split2_test_score</th>\n",
              "      <th>split3_test_score</th>\n",
              "      <th>mean_test_score</th>\n",
              "      <th>std_test_score</th>\n",
              "      <th>rank_test_score</th>\n",
              "    </tr>\n",
              "  </thead>\n",
              "  <tbody>\n",
              "    <tr>\n",
              "      <th>1700</th>\n",
              "      <td>0.006997</td>\n",
              "      <td>0.000130</td>\n",
              "      <td>0.001643</td>\n",
              "      <td>0.000059</td>\n",
              "      <td>81</td>\n",
              "      <td>saga</td>\n",
              "      <td>0.01</td>\n",
              "      <td>{'alpha': 81, 'solver': 'saga', 'tol': 0.01}</td>\n",
              "      <td>0.605171</td>\n",
              "      <td>0.469566</td>\n",
              "      <td>0.552757</td>\n",
              "      <td>0.559934</td>\n",
              "      <td>0.546857</td>\n",
              "      <td>0.048939</td>\n",
              "      <td>2287</td>\n",
              "    </tr>\n",
              "    <tr>\n",
              "      <th>1784</th>\n",
              "      <td>0.006950</td>\n",
              "      <td>0.000383</td>\n",
              "      <td>0.001689</td>\n",
              "      <td>0.000035</td>\n",
              "      <td>85</td>\n",
              "      <td>saga</td>\n",
              "      <td>0.01</td>\n",
              "      <td>{'alpha': 85, 'solver': 'saga', 'tol': 0.01}</td>\n",
              "      <td>0.605440</td>\n",
              "      <td>0.468890</td>\n",
              "      <td>0.552590</td>\n",
              "      <td>0.560316</td>\n",
              "      <td>0.546809</td>\n",
              "      <td>0.049307</td>\n",
              "      <td>2288</td>\n",
              "    </tr>\n",
              "    <tr>\n",
              "      <th>1889</th>\n",
              "      <td>0.006469</td>\n",
              "      <td>0.000269</td>\n",
              "      <td>0.001444</td>\n",
              "      <td>0.000045</td>\n",
              "      <td>90</td>\n",
              "      <td>saga</td>\n",
              "      <td>0.01</td>\n",
              "      <td>{'alpha': 90, 'solver': 'saga', 'tol': 0.01}</td>\n",
              "      <td>0.605802</td>\n",
              "      <td>0.468195</td>\n",
              "      <td>0.552571</td>\n",
              "      <td>0.560213</td>\n",
              "      <td>0.546695</td>\n",
              "      <td>0.049682</td>\n",
              "      <td>2289</td>\n",
              "    </tr>\n",
              "  </tbody>\n",
              "</table>\n",
              "</div>"
            ],
            "text/plain": [
              "      mean_fit_time  std_fit_time  mean_score_time  std_score_time  \\\n",
              "1700       0.006997      0.000130         0.001643        0.000059   \n",
              "1784       0.006950      0.000383         0.001689        0.000035   \n",
              "1889       0.006469      0.000269         0.001444        0.000045   \n",
              "\n",
              "     param_alpha param_solver param_tol  \\\n",
              "1700          81         saga      0.01   \n",
              "1784          85         saga      0.01   \n",
              "1889          90         saga      0.01   \n",
              "\n",
              "                                            params  split0_test_score  \\\n",
              "1700  {'alpha': 81, 'solver': 'saga', 'tol': 0.01}           0.605171   \n",
              "1784  {'alpha': 85, 'solver': 'saga', 'tol': 0.01}           0.605440   \n",
              "1889  {'alpha': 90, 'solver': 'saga', 'tol': 0.01}           0.605802   \n",
              "\n",
              "      split1_test_score  split2_test_score  split3_test_score  \\\n",
              "1700           0.469566           0.552757           0.559934   \n",
              "1784           0.468890           0.552590           0.560316   \n",
              "1889           0.468195           0.552571           0.560213   \n",
              "\n",
              "      mean_test_score  std_test_score  rank_test_score  \n",
              "1700         0.546857        0.048939             2287  \n",
              "1784         0.546809        0.049307             2288  \n",
              "1889         0.546695        0.049682             2289  "
            ]
          },
          "metadata": {
            "tags": []
          },
          "execution_count": 335
        }
      ]
    },
    {
      "cell_type": "code",
      "metadata": {
        "ExecuteTime": {
          "end_time": "2021-01-16T15:45:19.719433Z",
          "start_time": "2021-01-16T15:45:19.712788Z"
        },
        "colab": {
          "base_uri": "https://localhost:8080/"
        },
        "id": "y8feO1-tJJQ2",
        "outputId": "cfb3563c-25c1-4d59-9a87-7f0e034cfdcb"
      },
      "source": [
        "dc_scores[str(model_ridge).split(\"(\")[0]] = {\"model\": clf_ridge.best_estimator_, \"score\": clf_ridge.best_score_}\r\n",
        "dc_scores"
      ],
      "execution_count": 336,
      "outputs": [
        {
          "output_type": "execute_result",
          "data": {
            "text/plain": [
              "{'Lasso': {'model': Lasso(alpha=0.0, copy_X=True, fit_intercept=True, max_iter=1000,\n",
              "        normalize=False, positive=False, precompute=False, random_state=None,\n",
              "        selection='random', tol=1e-05, warm_start=False),\n",
              "  'score': 0.664593940719352},\n",
              " 'Ridge': {'model': Ridge(alpha=33, copy_X=True, fit_intercept=True, max_iter=None, normalize=False,\n",
              "        random_state=None, solver='lsqr', tol=1e-05),\n",
              "  'score': 0.6671484717862689}}"
            ]
          },
          "metadata": {
            "tags": []
          },
          "execution_count": 336
        }
      ]
    },
    {
      "cell_type": "markdown",
      "metadata": {
        "id": "osi7AXoep1PX"
      },
      "source": [
        "## Grid Search Escalado"
      ]
    },
    {
      "cell_type": "code",
      "metadata": {
        "colab": {
          "base_uri": "https://localhost:8080/"
        },
        "id": "epsX89oKp4XN",
        "outputId": "9da966ed-995a-4bbd-8a0b-7f26995cc833"
      },
      "source": [
        "clf_ridge = GridSearchCV(model_ridge, param_grid, cv=4, error_score=-1000, n_jobs=-1, scoring=\"r2\")\r\n",
        "clf_ridge.fit(Xs, ys)\r\n",
        "print(\"Best score: \" + str(clf_ridge.best_score_))"
      ],
      "execution_count": 337,
      "outputs": [
        {
          "output_type": "stream",
          "text": [
            "Best score: 0.6732500110460955\n"
          ],
          "name": "stdout"
        }
      ]
    },
    {
      "cell_type": "code",
      "metadata": {
        "colab": {
          "base_uri": "https://localhost:8080/"
        },
        "id": "5cMja2kKp4Z7",
        "outputId": "a073b746-2c92-4982-f84a-2e8040f5132f"
      },
      "source": [
        "dc_scores[str(model_ridge).split(\"(\")[0]] = {\"model\": clf_ridge.best_estimator_, \"score\": clf_ridge.best_score_}\r\n",
        "dc_scores"
      ],
      "execution_count": 338,
      "outputs": [
        {
          "output_type": "execute_result",
          "data": {
            "text/plain": [
              "{'Lasso': {'model': Lasso(alpha=0.0, copy_X=True, fit_intercept=True, max_iter=1000,\n",
              "        normalize=False, positive=False, precompute=False, random_state=None,\n",
              "        selection='random', tol=1e-05, warm_start=False),\n",
              "  'score': 0.664593940719352},\n",
              " 'Ridge': {'model': Ridge(alpha=0.8, copy_X=True, fit_intercept=True, max_iter=None,\n",
              "        normalize=False, random_state=None, solver='saga', tol=0.01),\n",
              "  'score': 0.6732500110460955}}"
            ]
          },
          "metadata": {
            "tags": []
          },
          "execution_count": 338
        }
      ]
    },
    {
      "cell_type": "markdown",
      "metadata": {
        "id": "aYi0xcB6JJQ3"
      },
      "source": [
        "## **Elastic Net**"
      ]
    },
    {
      "cell_type": "code",
      "metadata": {
        "ExecuteTime": {
          "end_time": "2021-01-16T15:47:44.000838Z",
          "start_time": "2021-01-16T15:47:43.995000Z"
        },
        "id": "yEeUufcxJJQ4"
      },
      "source": [
        "model_elastic = ElasticNet()"
      ],
      "execution_count": 339,
      "outputs": []
    },
    {
      "cell_type": "markdown",
      "metadata": {
        "id": "2nWfw9IWr5un"
      },
      "source": [
        "### Cross Validation Sin escalar"
      ]
    },
    {
      "cell_type": "code",
      "metadata": {
        "ExecuteTime": {
          "end_time": "2021-01-16T15:47:49.771800Z",
          "start_time": "2021-01-16T15:47:49.724348Z"
        },
        "colab": {
          "base_uri": "https://localhost:8080/"
        },
        "id": "QCnaaJ57JJQ4",
        "outputId": "4bba582c-0eb8-4dc1-88df-8915610cc07b"
      },
      "source": [
        "model_elastic.fit(X_train, y_train)\n",
        "ls_medias_elastic = cross_val_score(estimator=model_elastic, X=X_train, y = y_train, cv = 4, n_jobs=-1, scoring=\"r2\")\n",
        "np.mean(ls_medias_elastic), np.std(ls_medias_elastic)"
      ],
      "execution_count": 340,
      "outputs": [
        {
          "output_type": "execute_result",
          "data": {
            "text/plain": [
              "(0.6393109136793309, 0.02204401594848169)"
            ]
          },
          "metadata": {
            "tags": []
          },
          "execution_count": 340
        }
      ]
    },
    {
      "cell_type": "markdown",
      "metadata": {
        "id": "Ylsu981Lr6Vu"
      },
      "source": [
        "### Cross Validation Escalado"
      ]
    },
    {
      "cell_type": "code",
      "metadata": {
        "colab": {
          "base_uri": "https://localhost:8080/"
        },
        "id": "h4usnqd6r6im",
        "outputId": "12e8d544-1802-4c4d-f66d-6fae9397fc52"
      },
      "source": [
        "model_elastic.fit(Xs, ys)\r\n",
        "ls_medias_elastic = cross_val_score(estimator=model_elastic, X=Xs, y = ys, cv = 4, n_jobs=-1, scoring=\"r2\")\r\n",
        "np.mean(ls_medias_elastic), np.std(ls_medias_elastic)"
      ],
      "execution_count": 341,
      "outputs": [
        {
          "output_type": "execute_result",
          "data": {
            "text/plain": [
              "(-0.011736324224943917, 0.011330096328537872)"
            ]
          },
          "metadata": {
            "tags": []
          },
          "execution_count": 341
        }
      ]
    },
    {
      "cell_type": "markdown",
      "metadata": {
        "id": "mTpZv6XusDeb"
      },
      "source": [
        "### Grid Search Sin escalar"
      ]
    },
    {
      "cell_type": "code",
      "metadata": {
        "ExecuteTime": {
          "end_time": "2021-01-16T15:48:14.296169Z",
          "start_time": "2021-01-16T15:48:14.289296Z"
        },
        "colab": {
          "base_uri": "https://localhost:8080/"
        },
        "id": "772acClKJJQ5",
        "outputId": "3f823200-c8c6-4c38-fa1a-49bb6ef0a055"
      },
      "source": [
        "model_elastic.get_params()"
      ],
      "execution_count": 342,
      "outputs": [
        {
          "output_type": "execute_result",
          "data": {
            "text/plain": [
              "{'alpha': 1.0,\n",
              " 'copy_X': True,\n",
              " 'fit_intercept': True,\n",
              " 'l1_ratio': 0.5,\n",
              " 'max_iter': 1000,\n",
              " 'normalize': False,\n",
              " 'positive': False,\n",
              " 'precompute': False,\n",
              " 'random_state': None,\n",
              " 'selection': 'cyclic',\n",
              " 'tol': 0.0001,\n",
              " 'warm_start': False}"
            ]
          },
          "metadata": {
            "tags": []
          },
          "execution_count": 342
        }
      ]
    },
    {
      "cell_type": "code",
      "metadata": {
        "ExecuteTime": {
          "end_time": "2021-01-16T15:48:20.820619Z",
          "start_time": "2021-01-16T15:48:20.810305Z"
        },
        "id": "xuG31yJhJJQ5"
      },
      "source": [
        "param_grid = {\n",
        "    \"alpha\": [x for x in range(1, 100)] + [y/10 for y in range(10)],\n",
        "    \"l1_ratio\": [x/1000 for x in range(1, 100)] + [y/10 for y in range(10)],\n",
        "    \"selection\": [\"cyclic\", \"random\"]\n",
        "}"
      ],
      "execution_count": 343,
      "outputs": []
    },
    {
      "cell_type": "code",
      "metadata": {
        "ExecuteTime": {
          "end_time": "2021-01-16T15:48:27.664676Z",
          "start_time": "2021-01-16T15:48:27.651652Z"
        },
        "colab": {
          "base_uri": "https://localhost:8080/"
        },
        "id": "fYqAl3n7JJQ5",
        "outputId": "cdf7d52b-e7da-417b-b5a6-6008e3bea605"
      },
      "source": [
        "np.prod(list(map(len, param_grid.values())))"
      ],
      "execution_count": 344,
      "outputs": [
        {
          "output_type": "execute_result",
          "data": {
            "text/plain": [
              "23762"
            ]
          },
          "metadata": {
            "tags": []
          },
          "execution_count": 344
        }
      ]
    },
    {
      "cell_type": "code",
      "metadata": {
        "ExecuteTime": {
          "end_time": "2021-01-16T15:51:38.204393Z",
          "start_time": "2021-01-16T15:49:20.917367Z"
        },
        "colab": {
          "base_uri": "https://localhost:8080/"
        },
        "id": "WESiJtMlJJQ6",
        "outputId": "507c9aa3-2eb4-4a71-a360-641c621cfa0f"
      },
      "source": [
        "clf_elastic = GridSearchCV(model_elastic, param_grid, cv=4, error_score=-1000, n_jobs=-1, scoring=\"r2\", verbose=5,)\n",
        "clf_elastic.fit(X_train, y_train)\n",
        "print(\"Best score: \" + str(clf_elastic.best_score_))"
      ],
      "execution_count": 345,
      "outputs": [
        {
          "output_type": "stream",
          "text": [
            "Fitting 4 folds for each of 23762 candidates, totalling 95048 fits\n"
          ],
          "name": "stdout"
        },
        {
          "output_type": "stream",
          "text": [
            "[Parallel(n_jobs=-1)]: Using backend LokyBackend with 2 concurrent workers.\n",
            "[Parallel(n_jobs=-1)]: Done  52 tasks      | elapsed:    0.2s\n",
            "[Parallel(n_jobs=-1)]: Done 1692 tasks      | elapsed:    5.2s\n",
            "[Parallel(n_jobs=-1)]: Done 4572 tasks      | elapsed:   13.6s\n",
            "[Parallel(n_jobs=-1)]: Done 8604 tasks      | elapsed:   25.3s\n",
            "[Parallel(n_jobs=-1)]: Done 13788 tasks      | elapsed:   40.7s\n",
            "[Parallel(n_jobs=-1)]: Done 20124 tasks      | elapsed:   59.3s\n",
            "[Parallel(n_jobs=-1)]: Done 27612 tasks      | elapsed:  1.4min\n",
            "[Parallel(n_jobs=-1)]: Done 36252 tasks      | elapsed:  1.8min\n",
            "[Parallel(n_jobs=-1)]: Done 46044 tasks      | elapsed:  2.3min\n",
            "[Parallel(n_jobs=-1)]: Done 56988 tasks      | elapsed:  2.8min\n",
            "[Parallel(n_jobs=-1)]: Done 69084 tasks      | elapsed:  3.4min\n",
            "[Parallel(n_jobs=-1)]: Done 82332 tasks      | elapsed:  4.0min\n",
            "[Parallel(n_jobs=-1)]: Done 95048 out of 95048 | elapsed:  4.7min finished\n"
          ],
          "name": "stderr"
        },
        {
          "output_type": "stream",
          "text": [
            "Best score: 0.6669510591821224\n"
          ],
          "name": "stdout"
        },
        {
          "output_type": "stream",
          "text": [
            "/usr/local/lib/python3.6/dist-packages/sklearn/linear_model/_coordinate_descent.py:476: ConvergenceWarning: Objective did not converge. You might want to increase the number of iterations. Duality gap: 4355.22653598629, tolerance: 2.8495367598870063\n",
            "  positive)\n"
          ],
          "name": "stderr"
        }
      ]
    },
    {
      "cell_type": "code",
      "metadata": {
        "ExecuteTime": {
          "end_time": "2021-01-16T15:52:49.410144Z",
          "start_time": "2021-01-16T15:52:49.392812Z"
        },
        "id": "E2xyf6W6JJQ7"
      },
      "source": [
        "summary_elastic = pd.DataFrame(clf_elastic.cv_results_)"
      ],
      "execution_count": 346,
      "outputs": []
    },
    {
      "cell_type": "code",
      "metadata": {
        "ExecuteTime": {
          "end_time": "2021-01-16T15:52:50.223089Z",
          "start_time": "2021-01-16T15:52:50.180935Z"
        },
        "scrolled": true,
        "colab": {
          "base_uri": "https://localhost:8080/",
          "height": 332
        },
        "id": "EmxjSAanJJQ7",
        "outputId": "6545e483-fbdc-474b-c2e1-e335286343be"
      },
      "source": [
        "summary_elastic.sort_values(by = \"rank_test_score\").head(3)"
      ],
      "execution_count": 347,
      "outputs": [
        {
          "output_type": "execute_result",
          "data": {
            "text/html": [
              "<div>\n",
              "<style scoped>\n",
              "    .dataframe tbody tr th:only-of-type {\n",
              "        vertical-align: middle;\n",
              "    }\n",
              "\n",
              "    .dataframe tbody tr th {\n",
              "        vertical-align: top;\n",
              "    }\n",
              "\n",
              "    .dataframe thead th {\n",
              "        text-align: right;\n",
              "    }\n",
              "</style>\n",
              "<table border=\"1\" class=\"dataframe\">\n",
              "  <thead>\n",
              "    <tr style=\"text-align: right;\">\n",
              "      <th></th>\n",
              "      <th>mean_fit_time</th>\n",
              "      <th>std_fit_time</th>\n",
              "      <th>mean_score_time</th>\n",
              "      <th>std_score_time</th>\n",
              "      <th>param_alpha</th>\n",
              "      <th>param_l1_ratio</th>\n",
              "      <th>param_selection</th>\n",
              "      <th>params</th>\n",
              "      <th>split0_test_score</th>\n",
              "      <th>split1_test_score</th>\n",
              "      <th>split2_test_score</th>\n",
              "      <th>split3_test_score</th>\n",
              "      <th>mean_test_score</th>\n",
              "      <th>std_test_score</th>\n",
              "      <th>rank_test_score</th>\n",
              "    </tr>\n",
              "  </thead>\n",
              "  <tbody>\n",
              "    <tr>\n",
              "      <th>21999</th>\n",
              "      <td>0.013210</td>\n",
              "      <td>0.005038</td>\n",
              "      <td>0.001735</td>\n",
              "      <td>0.000041</td>\n",
              "      <td>0.1</td>\n",
              "      <td>0</td>\n",
              "      <td>random</td>\n",
              "      <td>{'alpha': 0.1, 'l1_ratio': 0.0, 'selection': '...</td>\n",
              "      <td>0.713089</td>\n",
              "      <td>0.675466</td>\n",
              "      <td>0.588167</td>\n",
              "      <td>0.691082</td>\n",
              "      <td>0.666951</td>\n",
              "      <td>0.047409</td>\n",
              "      <td>1</td>\n",
              "    </tr>\n",
              "    <tr>\n",
              "      <th>21998</th>\n",
              "      <td>0.010887</td>\n",
              "      <td>0.003123</td>\n",
              "      <td>0.001794</td>\n",
              "      <td>0.000091</td>\n",
              "      <td>0.1</td>\n",
              "      <td>0</td>\n",
              "      <td>cyclic</td>\n",
              "      <td>{'alpha': 0.1, 'l1_ratio': 0.0, 'selection': '...</td>\n",
              "      <td>0.713089</td>\n",
              "      <td>0.675466</td>\n",
              "      <td>0.588167</td>\n",
              "      <td>0.691082</td>\n",
              "      <td>0.666951</td>\n",
              "      <td>0.047409</td>\n",
              "      <td>2</td>\n",
              "    </tr>\n",
              "    <tr>\n",
              "      <th>21800</th>\n",
              "      <td>0.002991</td>\n",
              "      <td>0.000066</td>\n",
              "      <td>0.001564</td>\n",
              "      <td>0.000151</td>\n",
              "      <td>0.1</td>\n",
              "      <td>0.001</td>\n",
              "      <td>cyclic</td>\n",
              "      <td>{'alpha': 0.1, 'l1_ratio': 0.001, 'selection':...</td>\n",
              "      <td>0.713095</td>\n",
              "      <td>0.675471</td>\n",
              "      <td>0.588135</td>\n",
              "      <td>0.691083</td>\n",
              "      <td>0.666946</td>\n",
              "      <td>0.047424</td>\n",
              "      <td>3</td>\n",
              "    </tr>\n",
              "  </tbody>\n",
              "</table>\n",
              "</div>"
            ],
            "text/plain": [
              "       mean_fit_time  std_fit_time  mean_score_time  std_score_time  \\\n",
              "21999       0.013210      0.005038         0.001735        0.000041   \n",
              "21998       0.010887      0.003123         0.001794        0.000091   \n",
              "21800       0.002991      0.000066         0.001564        0.000151   \n",
              "\n",
              "      param_alpha param_l1_ratio param_selection  \\\n",
              "21999         0.1              0          random   \n",
              "21998         0.1              0          cyclic   \n",
              "21800         0.1          0.001          cyclic   \n",
              "\n",
              "                                                  params  split0_test_score  \\\n",
              "21999  {'alpha': 0.1, 'l1_ratio': 0.0, 'selection': '...           0.713089   \n",
              "21998  {'alpha': 0.1, 'l1_ratio': 0.0, 'selection': '...           0.713089   \n",
              "21800  {'alpha': 0.1, 'l1_ratio': 0.001, 'selection':...           0.713095   \n",
              "\n",
              "       split1_test_score  split2_test_score  split3_test_score  \\\n",
              "21999           0.675466           0.588167           0.691082   \n",
              "21998           0.675466           0.588167           0.691082   \n",
              "21800           0.675471           0.588135           0.691083   \n",
              "\n",
              "       mean_test_score  std_test_score  rank_test_score  \n",
              "21999         0.666951        0.047409                1  \n",
              "21998         0.666951        0.047409                2  \n",
              "21800         0.666946        0.047424                3  "
            ]
          },
          "metadata": {
            "tags": []
          },
          "execution_count": 347
        }
      ]
    },
    {
      "cell_type": "code",
      "metadata": {
        "ExecuteTime": {
          "end_time": "2021-01-16T15:52:57.795376Z",
          "start_time": "2021-01-16T15:52:57.786375Z"
        },
        "id": "QoYDcdA7JJQ8"
      },
      "source": [
        "dc_scores[str(model_elastic).split(\"(\")[0]] = {\"model\": clf_elastic.best_estimator_, \"score\": clf_elastic.best_score_}"
      ],
      "execution_count": 348,
      "outputs": []
    },
    {
      "cell_type": "code",
      "metadata": {
        "ExecuteTime": {
          "end_time": "2021-01-16T15:52:58.947895Z",
          "start_time": "2021-01-16T15:52:58.942770Z"
        },
        "colab": {
          "base_uri": "https://localhost:8080/"
        },
        "id": "69CjtlWbJJQ8",
        "outputId": "d13d742a-93e0-4b4e-db64-1c0a8efab58c"
      },
      "source": [
        "dc_scores"
      ],
      "execution_count": 349,
      "outputs": [
        {
          "output_type": "execute_result",
          "data": {
            "text/plain": [
              "{'ElasticNet': {'model': ElasticNet(alpha=0.1, copy_X=True, fit_intercept=True, l1_ratio=0.0,\n",
              "             max_iter=1000, normalize=False, positive=False, precompute=False,\n",
              "             random_state=None, selection='random', tol=0.0001, warm_start=False),\n",
              "  'score': 0.6669510591821224},\n",
              " 'Lasso': {'model': Lasso(alpha=0.0, copy_X=True, fit_intercept=True, max_iter=1000,\n",
              "        normalize=False, positive=False, precompute=False, random_state=None,\n",
              "        selection='random', tol=1e-05, warm_start=False),\n",
              "  'score': 0.664593940719352},\n",
              " 'Ridge': {'model': Ridge(alpha=0.8, copy_X=True, fit_intercept=True, max_iter=None,\n",
              "        normalize=False, random_state=None, solver='saga', tol=0.01),\n",
              "  'score': 0.6732500110460955}}"
            ]
          },
          "metadata": {
            "tags": []
          },
          "execution_count": 349
        }
      ]
    },
    {
      "cell_type": "markdown",
      "metadata": {
        "id": "FGk2x8massy_"
      },
      "source": [
        "### Grid Search Escalado"
      ]
    },
    {
      "cell_type": "code",
      "metadata": {
        "colab": {
          "base_uri": "https://localhost:8080/"
        },
        "id": "c1sNdvoLss-x",
        "outputId": "7d6c63c1-bc17-429a-c5c0-85eb1fccb88e"
      },
      "source": [
        "clf_elastic = GridSearchCV(model_elastic, param_grid, cv=4, error_score=-1000, n_jobs=-1, scoring=\"r2\", verbose=5,)\r\n",
        "clf_elastic.fit(Xs, ys)\r\n",
        "print(\"Best score: \" + str(clf_elastic.best_score_))"
      ],
      "execution_count": 350,
      "outputs": [
        {
          "output_type": "stream",
          "text": [
            "[Parallel(n_jobs=-1)]: Using backend LokyBackend with 2 concurrent workers.\n"
          ],
          "name": "stderr"
        },
        {
          "output_type": "stream",
          "text": [
            "Fitting 4 folds for each of 23762 candidates, totalling 95048 fits\n"
          ],
          "name": "stdout"
        },
        {
          "output_type": "stream",
          "text": [
            "[Parallel(n_jobs=-1)]: Done  44 tasks      | elapsed:    0.1s\n",
            "[Parallel(n_jobs=-1)]: Done 5628 tasks      | elapsed:    8.0s\n",
            "[Parallel(n_jobs=-1)]: Done 17148 tasks      | elapsed:   24.1s\n",
            "[Parallel(n_jobs=-1)]: Done 33276 tasks      | elapsed:   46.2s\n",
            "[Parallel(n_jobs=-1)]: Done 54012 tasks      | elapsed:  1.2min\n",
            "[Parallel(n_jobs=-1)]: Done 79356 tasks      | elapsed:  1.8min\n",
            "[Parallel(n_jobs=-1)]: Done 95045 out of 95048 | elapsed:  2.2min remaining:    0.0s\n",
            "[Parallel(n_jobs=-1)]: Done 95048 out of 95048 | elapsed:  2.2min finished\n"
          ],
          "name": "stderr"
        },
        {
          "output_type": "stream",
          "text": [
            "Best score: 0.6645939407193521\n"
          ],
          "name": "stdout"
        },
        {
          "output_type": "stream",
          "text": [
            "/usr/local/lib/python3.6/dist-packages/sklearn/model_selection/_search.py:739: UserWarning: With alpha=0, this algorithm does not converge well. You are advised to use the LinearRegression estimator\n",
            "  self.best_estimator_.fit(X, y, **fit_params)\n",
            "/usr/local/lib/python3.6/dist-packages/sklearn/linear_model/_coordinate_descent.py:476: UserWarning: Coordinate descent with no regularization may lead to unexpected results and is discouraged.\n",
            "  positive)\n",
            "/usr/local/lib/python3.6/dist-packages/sklearn/linear_model/_coordinate_descent.py:476: ConvergenceWarning: Objective did not converge. You might want to increase the number of iterations. Duality gap: 1.9486078500538282, tolerance: 0.0014071786468577807\n",
            "  positive)\n"
          ],
          "name": "stderr"
        }
      ]
    },
    {
      "cell_type": "code",
      "metadata": {
        "colab": {
          "base_uri": "https://localhost:8080/"
        },
        "id": "OE6i-WqwstGQ",
        "outputId": "d4ae2df7-d1de-4b5d-ca18-1a78e15db6f4"
      },
      "source": [
        "dc_scores[str(model_elastic).split(\"(\")[0]] = {\"model\": clf_elastic.best_estimator_, \"score\": clf_elastic.best_score_}\r\n",
        "dc_scores"
      ],
      "execution_count": 351,
      "outputs": [
        {
          "output_type": "execute_result",
          "data": {
            "text/plain": [
              "{'ElasticNet': {'model': ElasticNet(alpha=0.0, copy_X=True, fit_intercept=True, l1_ratio=0.052,\n",
              "             max_iter=1000, normalize=False, positive=False, precompute=False,\n",
              "             random_state=None, selection='random', tol=0.0001, warm_start=False),\n",
              "  'score': 0.6645939407193521},\n",
              " 'Lasso': {'model': Lasso(alpha=0.0, copy_X=True, fit_intercept=True, max_iter=1000,\n",
              "        normalize=False, positive=False, precompute=False, random_state=None,\n",
              "        selection='random', tol=1e-05, warm_start=False),\n",
              "  'score': 0.664593940719352},\n",
              " 'Ridge': {'model': Ridge(alpha=0.8, copy_X=True, fit_intercept=True, max_iter=None,\n",
              "        normalize=False, random_state=None, solver='saga', tol=0.01),\n",
              "  'score': 0.6732500110460955}}"
            ]
          },
          "metadata": {
            "tags": []
          },
          "execution_count": 351
        }
      ]
    },
    {
      "cell_type": "markdown",
      "metadata": {
        "id": "XGWtMWkGtAaX"
      },
      "source": [
        "## **Realizamos una busqueda aleatoria de gradilla para ver si conseguimos mejores resultados**"
      ]
    },
    {
      "cell_type": "markdown",
      "metadata": {
        "id": "eRXZ35T3tIYo"
      },
      "source": [
        "## Sin esacalar"
      ]
    },
    {
      "cell_type": "code",
      "metadata": {
        "ExecuteTime": {
          "end_time": "2021-01-16T15:54:27.144717Z",
          "start_time": "2021-01-16T15:54:15.456217Z"
        },
        "colab": {
          "base_uri": "https://localhost:8080/"
        },
        "id": "7eMC_WWfJJQ9",
        "outputId": "820f3025-e289-4755-933d-9d5f76dadce4"
      },
      "source": [
        "clf = RandomizedSearchCV(n_iter=2000, estimator=model_elastic, param_distributions=param_grid, cv=4, error_score=-1000, n_jobs=-1, scoring=\"r2\", verbose=5)\n",
        "clf.fit(X_train, y_train)\n",
        "print(\"Best score: \" + str(clf.best_score_))"
      ],
      "execution_count": 352,
      "outputs": [
        {
          "output_type": "stream",
          "text": [
            "[Parallel(n_jobs=-1)]: Using backend LokyBackend with 2 concurrent workers.\n"
          ],
          "name": "stderr"
        },
        {
          "output_type": "stream",
          "text": [
            "Fitting 4 folds for each of 2000 candidates, totalling 8000 fits\n"
          ],
          "name": "stdout"
        },
        {
          "output_type": "stream",
          "text": [
            "[Parallel(n_jobs=-1)]: Done  44 tasks      | elapsed:    0.2s\n",
            "[Parallel(n_jobs=-1)]: Done 1660 tasks      | elapsed:    5.0s\n",
            "[Parallel(n_jobs=-1)]: Done 4540 tasks      | elapsed:   13.6s\n"
          ],
          "name": "stderr"
        },
        {
          "output_type": "stream",
          "text": [
            "Best score: 0.6669415289197003\n"
          ],
          "name": "stdout"
        },
        {
          "output_type": "stream",
          "text": [
            "[Parallel(n_jobs=-1)]: Done 8000 out of 8000 | elapsed:   23.6s finished\n"
          ],
          "name": "stderr"
        }
      ]
    },
    {
      "cell_type": "markdown",
      "metadata": {
        "id": "x8VIEj_ytLIx"
      },
      "source": [
        "## Escalado"
      ]
    },
    {
      "cell_type": "code",
      "metadata": {
        "colab": {
          "base_uri": "https://localhost:8080/"
        },
        "id": "qLOAdSvKtMly",
        "outputId": "7d1ea5e4-afeb-4462-866f-d9ff5407f4e1"
      },
      "source": [
        "clf = RandomizedSearchCV(n_iter=2000, estimator=model_elastic, param_distributions=param_grid, cv=4, error_score=-1000, n_jobs=-1, scoring=\"r2\", verbose=5)\r\n",
        "clf.fit(Xs, ys)\r\n",
        "print(\"Best score: \" + str(clf.best_score_))"
      ],
      "execution_count": 353,
      "outputs": [
        {
          "output_type": "stream",
          "text": [
            "[Parallel(n_jobs=-1)]: Using backend LokyBackend with 2 concurrent workers.\n",
            "[Parallel(n_jobs=-1)]: Done  44 tasks      | elapsed:    0.1s\n"
          ],
          "name": "stderr"
        },
        {
          "output_type": "stream",
          "text": [
            "Fitting 4 folds for each of 2000 candidates, totalling 8000 fits\n"
          ],
          "name": "stdout"
        },
        {
          "output_type": "stream",
          "text": [
            "[Parallel(n_jobs=-1)]: Done 3068 tasks      | elapsed:    4.7s\n"
          ],
          "name": "stderr"
        },
        {
          "output_type": "stream",
          "text": [
            "Best score: 0.664593940719352\n"
          ],
          "name": "stdout"
        },
        {
          "output_type": "stream",
          "text": [
            "[Parallel(n_jobs=-1)]: Done 7974 tasks      | elapsed:   11.8s\n",
            "[Parallel(n_jobs=-1)]: Done 8000 out of 8000 | elapsed:   11.9s finished\n",
            "/usr/local/lib/python3.6/dist-packages/sklearn/model_selection/_search.py:739: UserWarning: With alpha=0, this algorithm does not converge well. You are advised to use the LinearRegression estimator\n",
            "  self.best_estimator_.fit(X, y, **fit_params)\n",
            "/usr/local/lib/python3.6/dist-packages/sklearn/linear_model/_coordinate_descent.py:476: UserWarning: Coordinate descent with no regularization may lead to unexpected results and is discouraged.\n",
            "  positive)\n",
            "/usr/local/lib/python3.6/dist-packages/sklearn/linear_model/_coordinate_descent.py:476: ConvergenceWarning: Objective did not converge. You might want to increase the number of iterations. Duality gap: 1.9486078500538349, tolerance: 0.0014071786468577807\n",
            "  positive)\n"
          ],
          "name": "stderr"
        }
      ]
    },
    {
      "cell_type": "markdown",
      "metadata": {
        "id": "ppClVaPjJJQ9"
      },
      "source": [
        "# **Guardar el Modelo**"
      ]
    },
    {
      "cell_type": "code",
      "metadata": {
        "ExecuteTime": {
          "end_time": "2021-01-16T15:57:42.356775Z",
          "start_time": "2021-01-16T15:57:42.344297Z"
        },
        "colab": {
          "base_uri": "https://localhost:8080/"
        },
        "id": "Jpf7d12kJJQ9",
        "outputId": "d0db3cde-784a-4282-db3d-7cc70bb49b44"
      },
      "source": [
        "dc_scores"
      ],
      "execution_count": 136,
      "outputs": [
        {
          "output_type": "execute_result",
          "data": {
            "text/plain": [
              "{'ElasticNet': {'model': ElasticNet(alpha=0.0, copy_X=True, fit_intercept=True, l1_ratio=0.058,\n",
              "             max_iter=1000, normalize=False, positive=False, precompute=False,\n",
              "             random_state=None, selection='random', tol=0.0001, warm_start=False),\n",
              "  'score': 0.695576206196457},\n",
              " 'Lasso': {'model': Lasso(alpha=0.0, copy_X=True, fit_intercept=True, max_iter=1000,\n",
              "        normalize=False, positive=False, precompute=False, random_state=None,\n",
              "        selection='random', tol=0.01, warm_start=False),\n",
              "  'score': 0.6955762061964569},\n",
              " 'Ridge': {'model': Ridge(alpha=0.4, copy_X=True, fit_intercept=True, max_iter=None,\n",
              "        normalize=False, random_state=None, solver='sag', tol=0.01),\n",
              "  'score': 0.6989809156847101}}"
            ]
          },
          "metadata": {
            "tags": []
          },
          "execution_count": 136
        }
      ]
    },
    {
      "cell_type": "code",
      "metadata": {
        "ExecuteTime": {
          "end_time": "2021-01-16T15:57:58.505107Z",
          "start_time": "2021-01-16T15:57:58.499313Z"
        },
        "colab": {
          "base_uri": "https://localhost:8080/"
        },
        "id": "n7ICyjzFJJQ-",
        "outputId": "ace51d6b-359a-4a4c-c3dd-acaedddf3fed"
      },
      "source": [
        "#Mejor modelo\r\n",
        "dc_scores['Ridge']['model']"
      ],
      "execution_count": 137,
      "outputs": [
        {
          "output_type": "execute_result",
          "data": {
            "text/plain": [
              "Ridge(alpha=0.4, copy_X=True, fit_intercept=True, max_iter=None,\n",
              "      normalize=False, random_state=None, solver='sag', tol=0.01)"
            ]
          },
          "metadata": {
            "tags": []
          },
          "execution_count": 137
        }
      ]
    },
    {
      "cell_type": "code",
      "metadata": {
        "ExecuteTime": {
          "end_time": "2021-01-16T15:58:33.993467Z",
          "start_time": "2021-01-16T15:58:33.984763Z"
        },
        "id": "pRj_sEF_JJQ-"
      },
      "source": [
        "#Lo guardamos en formato pickle\r\n",
        "pd.to_pickle(dc_scores['Ridge']['model'],'model_ridge_housing.pkl')"
      ],
      "execution_count": 138,
      "outputs": []
    },
    {
      "cell_type": "code",
      "metadata": {
        "ExecuteTime": {
          "end_time": "2021-01-16T15:58:51.260520Z",
          "start_time": "2021-01-16T15:58:51.255187Z"
        },
        "id": "tITDb19CJJQ-"
      },
      "source": [
        "#Leemos el modelo guardado\r\n",
        "modelo_ganador=pd.read_pickle('model_ridge_housing.pkl')"
      ],
      "execution_count": 139,
      "outputs": []
    },
    {
      "cell_type": "code",
      "metadata": {
        "colab": {
          "base_uri": "https://localhost:8080/"
        },
        "id": "xASveQ0Du7_K",
        "outputId": "4eca5cfb-4a51-401c-a8d9-f5a48fb934c4"
      },
      "source": [
        "modelo_ganador"
      ],
      "execution_count": 140,
      "outputs": [
        {
          "output_type": "execute_result",
          "data": {
            "text/plain": [
              "Ridge(alpha=0.4, copy_X=True, fit_intercept=True, max_iter=None,\n",
              "      normalize=False, random_state=None, solver='sag', tol=0.01)"
            ]
          },
          "metadata": {
            "tags": []
          },
          "execution_count": 140
        }
      ]
    },
    {
      "cell_type": "code",
      "metadata": {
        "ExecuteTime": {
          "end_time": "2021-01-16T15:59:18.319410Z",
          "start_time": "2021-01-16T15:59:18.310070Z"
        },
        "colab": {
          "base_uri": "https://localhost:8080/"
        },
        "id": "hbZwaH56JJQ_",
        "outputId": "875785df-f4ec-4032-a5a4-715d99723d91"
      },
      "source": [
        "#Predecimos en el test\r\n",
        "#Regresamos a la escala original porque el target estaba escalado en el modelo ganador y escalamos el x_test porque también estaba escalado en el entrenamiento\r\n",
        "predicciones=Sc_y.inverse_transform(modelo_ganador.predict(Sc.transform(X_test)))\r\n",
        "predicciones"
      ],
      "execution_count": 141,
      "outputs": [
        {
          "output_type": "execute_result",
          "data": {
            "text/plain": [
              "array([[13.35258618],\n",
              "       [22.02750404],\n",
              "       [24.93182569],\n",
              "       [17.49652493],\n",
              "       [37.97115343],\n",
              "       [20.35751324],\n",
              "       [25.65239635],\n",
              "       [14.15498119],\n",
              "       [23.62587806],\n",
              "       [14.88056055],\n",
              "       [21.13710803],\n",
              "       [31.87000284],\n",
              "       [28.78711116],\n",
              "       [ 5.55431079],\n",
              "       [20.65365966],\n",
              "       [27.15903204],\n",
              "       [30.67525065],\n",
              "       [25.59185266],\n",
              "       [ 4.91598776],\n",
              "       [18.18480271],\n",
              "       [23.21906599],\n",
              "       [16.59956443],\n",
              "       [35.10515738],\n",
              "       [16.28352413],\n",
              "       [23.7391352 ],\n",
              "       [21.02497794],\n",
              "       [19.30664542],\n",
              "       [23.19654541],\n",
              "       [21.0062187 ],\n",
              "       [32.9749458 ],\n",
              "       [33.49402159],\n",
              "       [24.48851882],\n",
              "       [12.82990108],\n",
              "       [21.40575453],\n",
              "       [15.7834206 ],\n",
              "       [32.5461329 ],\n",
              "       [25.26610182],\n",
              "       [29.68867027],\n",
              "       [30.69825721],\n",
              "       [20.86687419],\n",
              "       [31.51640916],\n",
              "       [35.8878449 ],\n",
              "       [18.57310627],\n",
              "       [ 2.87665831],\n",
              "       [15.67585391],\n",
              "       [23.13405781],\n",
              "       [ 8.77854376],\n",
              "       [28.52577812],\n",
              "       [20.41459539],\n",
              "       [12.42479765],\n",
              "       [20.07464879],\n",
              "       [19.2445183 ],\n",
              "       [23.1372462 ],\n",
              "       [19.46331909],\n",
              "       [18.99096226],\n",
              "       [17.73014959],\n",
              "       [24.6879987 ],\n",
              "       [16.23550896],\n",
              "       [17.62771885],\n",
              "       [13.19913014],\n",
              "       [21.20214419],\n",
              "       [ 6.12084906],\n",
              "       [15.62507192],\n",
              "       [18.26796811],\n",
              "       [32.4112337 ],\n",
              "       [18.33841433],\n",
              "       [24.80119389],\n",
              "       [27.32100076],\n",
              "       [18.77104413],\n",
              "       [31.37407641],\n",
              "       [42.85268697],\n",
              "       [11.05251415],\n",
              "       [23.68495059],\n",
              "       [20.95488795],\n",
              "       [23.36319028],\n",
              "       [13.56093251],\n",
              "       [24.17816035],\n",
              "       [33.03367557],\n",
              "       [32.78259076],\n",
              "       [33.52347857],\n",
              "       [18.23337386],\n",
              "       [24.41209697],\n",
              "       [ 8.5322173 ],\n",
              "       [14.76083274],\n",
              "       [11.83840441],\n",
              "       [21.13508893],\n",
              "       [22.27090725],\n",
              "       [23.04933337],\n",
              "       [16.72896699],\n",
              "       [34.48214925],\n",
              "       [32.71176862],\n",
              "       [25.86127   ],\n",
              "       [14.50338196],\n",
              "       [32.81965811],\n",
              "       [20.31561422],\n",
              "       [24.17801923],\n",
              "       [22.89504738],\n",
              "       [19.62030911],\n",
              "       [39.1977424 ],\n",
              "       [22.80521643],\n",
              "       [28.67835913],\n",
              "       [16.56839599],\n",
              "       [30.43637552],\n",
              "       [40.67343143],\n",
              "       [25.97503084],\n",
              "       [14.97848408],\n",
              "       [20.55639501],\n",
              "       [13.43566536],\n",
              "       [19.15839406],\n",
              "       [25.30796442],\n",
              "       [19.50936702],\n",
              "       [28.3059456 ],\n",
              "       [30.23257192],\n",
              "       [34.72239753],\n",
              "       [22.15750147],\n",
              "       [34.34255266],\n",
              "       [19.79745392],\n",
              "       [17.94421694],\n",
              "       [23.74816829],\n",
              "       [21.90298077],\n",
              "       [20.06674069],\n",
              "       [24.31430907],\n",
              "       [14.52565495],\n",
              "       [28.69664611],\n",
              "       [23.10509797],\n",
              "       [25.32980307],\n",
              "       [35.47977876],\n",
              "       [44.77602561],\n",
              "       [30.68890988],\n",
              "       [15.4773049 ],\n",
              "       [10.49323415],\n",
              "       [ 1.42948314],\n",
              "       [30.58787684],\n",
              "       [33.08524717],\n",
              "       [24.09238947],\n",
              "       [17.46145914],\n",
              "       [30.04986703],\n",
              "       [22.57280978],\n",
              "       [37.01560791],\n",
              "       [27.07824527],\n",
              "       [20.62131802],\n",
              "       [20.53588004],\n",
              "       [15.94559611],\n",
              "       [20.85158388],\n",
              "       [11.3169364 ],\n",
              "       [15.11771839],\n",
              "       [20.53267446],\n",
              "       [23.09654745],\n",
              "       [18.47144688],\n",
              "       [13.12235489],\n",
              "       [20.49104852],\n",
              "       [ 3.77758431]])"
            ]
          },
          "metadata": {
            "tags": []
          },
          "execution_count": 141
        }
      ]
    },
    {
      "cell_type": "code",
      "metadata": {
        "colab": {
          "base_uri": "https://localhost:8080/"
        },
        "id": "kG7ARyz2JJQ_",
        "outputId": "48e5f29f-3dbe-468e-b7b2-f50ae6d7e4ee"
      },
      "source": [
        "#Veamos el preformance\r\n",
        "#Parece que funciona mejor con el set de prueba\r\n",
        "from sklearn.metrics import r2_score\r\n",
        "r2_score(y_pred=predicciones, y_true=y_test)"
      ],
      "execution_count": 142,
      "outputs": [
        {
          "output_type": "execute_result",
          "data": {
            "text/plain": [
              "0.7640231392564862"
            ]
          },
          "metadata": {
            "tags": []
          },
          "execution_count": 142
        }
      ]
    },
    {
      "cell_type": "code",
      "metadata": {
        "colab": {
          "base_uri": "https://localhost:8080/"
        },
        "id": "ApAA1h84wgZw",
        "outputId": "0fd0d1b3-6c3a-4814-82f2-1a15ce1f5a6a"
      },
      "source": [
        "#Predecimos en el target escalado\r\n",
        "Xt=Sc.transform(X_test)\r\n",
        "modelo_ganador.score(Xt, Sc_y.transform(y_test.values.reshape(-1,1)))"
      ],
      "execution_count": 144,
      "outputs": [
        {
          "output_type": "execute_result",
          "data": {
            "text/plain": [
              "0.7640231392564861"
            ]
          },
          "metadata": {
            "tags": []
          },
          "execution_count": 144
        }
      ]
    },
    {
      "cell_type": "markdown",
      "metadata": {
        "id": "NcebOzNl0S6k"
      },
      "source": [
        "# **Transformación de variables**"
      ]
    },
    {
      "cell_type": "code",
      "metadata": {
        "colab": {
          "base_uri": "https://localhost:8080/",
          "height": 191
        },
        "id": "GyitW3L5zxDH",
        "outputId": "016f02d8-cd83-4d39-ddba-f1c2ba7459f4"
      },
      "source": [
        "df.head()"
      ],
      "execution_count": 216,
      "outputs": [
        {
          "output_type": "execute_result",
          "data": {
            "text/html": [
              "<div>\n",
              "<style scoped>\n",
              "    .dataframe tbody tr th:only-of-type {\n",
              "        vertical-align: middle;\n",
              "    }\n",
              "\n",
              "    .dataframe tbody tr th {\n",
              "        vertical-align: top;\n",
              "    }\n",
              "\n",
              "    .dataframe thead th {\n",
              "        text-align: right;\n",
              "    }\n",
              "</style>\n",
              "<table border=\"1\" class=\"dataframe\">\n",
              "  <thead>\n",
              "    <tr style=\"text-align: right;\">\n",
              "      <th></th>\n",
              "      <th>CRIM</th>\n",
              "      <th>ZN</th>\n",
              "      <th>INDUS</th>\n",
              "      <th>CHAS</th>\n",
              "      <th>NOX</th>\n",
              "      <th>RM</th>\n",
              "      <th>AGE</th>\n",
              "      <th>DIS</th>\n",
              "      <th>RAD</th>\n",
              "      <th>TAX</th>\n",
              "      <th>PTRATIO</th>\n",
              "      <th>B</th>\n",
              "      <th>LSTAT</th>\n",
              "      <th>target</th>\n",
              "    </tr>\n",
              "  </thead>\n",
              "  <tbody>\n",
              "    <tr>\n",
              "      <th>0</th>\n",
              "      <td>0.00632</td>\n",
              "      <td>18.0</td>\n",
              "      <td>2.31</td>\n",
              "      <td>0.0</td>\n",
              "      <td>0.538</td>\n",
              "      <td>6.575</td>\n",
              "      <td>65.2</td>\n",
              "      <td>4.0900</td>\n",
              "      <td>1.0</td>\n",
              "      <td>296.0</td>\n",
              "      <td>15.3</td>\n",
              "      <td>396.90</td>\n",
              "      <td>4.98</td>\n",
              "      <td>24.0</td>\n",
              "    </tr>\n",
              "    <tr>\n",
              "      <th>1</th>\n",
              "      <td>0.02731</td>\n",
              "      <td>0.0</td>\n",
              "      <td>7.07</td>\n",
              "      <td>0.0</td>\n",
              "      <td>0.469</td>\n",
              "      <td>6.421</td>\n",
              "      <td>78.9</td>\n",
              "      <td>4.9671</td>\n",
              "      <td>2.0</td>\n",
              "      <td>242.0</td>\n",
              "      <td>17.8</td>\n",
              "      <td>396.90</td>\n",
              "      <td>9.14</td>\n",
              "      <td>21.6</td>\n",
              "    </tr>\n",
              "    <tr>\n",
              "      <th>2</th>\n",
              "      <td>0.02729</td>\n",
              "      <td>0.0</td>\n",
              "      <td>7.07</td>\n",
              "      <td>0.0</td>\n",
              "      <td>0.469</td>\n",
              "      <td>7.185</td>\n",
              "      <td>61.1</td>\n",
              "      <td>4.9671</td>\n",
              "      <td>2.0</td>\n",
              "      <td>242.0</td>\n",
              "      <td>17.8</td>\n",
              "      <td>392.83</td>\n",
              "      <td>4.03</td>\n",
              "      <td>34.7</td>\n",
              "    </tr>\n",
              "    <tr>\n",
              "      <th>3</th>\n",
              "      <td>0.03237</td>\n",
              "      <td>0.0</td>\n",
              "      <td>2.18</td>\n",
              "      <td>0.0</td>\n",
              "      <td>0.458</td>\n",
              "      <td>6.998</td>\n",
              "      <td>45.8</td>\n",
              "      <td>6.0622</td>\n",
              "      <td>3.0</td>\n",
              "      <td>222.0</td>\n",
              "      <td>18.7</td>\n",
              "      <td>394.63</td>\n",
              "      <td>2.94</td>\n",
              "      <td>33.4</td>\n",
              "    </tr>\n",
              "    <tr>\n",
              "      <th>4</th>\n",
              "      <td>0.06905</td>\n",
              "      <td>0.0</td>\n",
              "      <td>2.18</td>\n",
              "      <td>0.0</td>\n",
              "      <td>0.458</td>\n",
              "      <td>7.147</td>\n",
              "      <td>54.2</td>\n",
              "      <td>6.0622</td>\n",
              "      <td>3.0</td>\n",
              "      <td>222.0</td>\n",
              "      <td>18.7</td>\n",
              "      <td>396.90</td>\n",
              "      <td>5.33</td>\n",
              "      <td>36.2</td>\n",
              "    </tr>\n",
              "  </tbody>\n",
              "</table>\n",
              "</div>"
            ],
            "text/plain": [
              "      CRIM    ZN  INDUS  CHAS    NOX     RM   AGE     DIS  RAD    TAX  \\\n",
              "0  0.00632  18.0   2.31   0.0  0.538  6.575  65.2  4.0900  1.0  296.0   \n",
              "1  0.02731   0.0   7.07   0.0  0.469  6.421  78.9  4.9671  2.0  242.0   \n",
              "2  0.02729   0.0   7.07   0.0  0.469  7.185  61.1  4.9671  2.0  242.0   \n",
              "3  0.03237   0.0   2.18   0.0  0.458  6.998  45.8  6.0622  3.0  222.0   \n",
              "4  0.06905   0.0   2.18   0.0  0.458  7.147  54.2  6.0622  3.0  222.0   \n",
              "\n",
              "   PTRATIO       B  LSTAT  target  \n",
              "0     15.3  396.90   4.98    24.0  \n",
              "1     17.8  396.90   9.14    21.6  \n",
              "2     17.8  392.83   4.03    34.7  \n",
              "3     18.7  394.63   2.94    33.4  \n",
              "4     18.7  396.90   5.33    36.2  "
            ]
          },
          "metadata": {
            "tags": []
          },
          "execution_count": 216
        }
      ]
    },
    {
      "cell_type": "code",
      "metadata": {
        "id": "bS_mPT3313xn"
      },
      "source": [
        "df['targe_log']=np.log(df['target'])"
      ],
      "execution_count": 217,
      "outputs": []
    },
    {
      "cell_type": "code",
      "metadata": {
        "colab": {
          "base_uri": "https://localhost:8080/",
          "height": 766
        },
        "id": "q8mTZGgAzyWL",
        "outputId": "0e01e542-32a3-48cb-9a73-6732a42b3150"
      },
      "source": [
        "import seaborn as sns\r\n",
        "sns.lmplot(x='CRIM',y='target',data=df,order=1)\r\n",
        "df['CRIM_log']=np.log(df['CRIM'])\r\n",
        "sns.lmplot(x='CRIM_log',y='targe_log',data=df,order=1)"
      ],
      "execution_count": 218,
      "outputs": [
        {
          "output_type": "execute_result",
          "data": {
            "text/plain": [
              "<seaborn.axisgrid.FacetGrid at 0x7f1c7b6d0a58>"
            ]
          },
          "metadata": {
            "tags": []
          },
          "execution_count": 218
        },
        {
          "output_type": "display_data",
          "data": {
            "image/png": "[encoded data removed]",
            "text/plain": [
              "<Figure size 360x360 with 1 Axes>"
            ]
          },
          "metadata": {
            "tags": [],
            "needs_background": "light"
          }
        },
        {
          "output_type": "display_data",
          "data": {
            "image/png": "[encoded data removed]",
            "text/plain": [
              "<Figure size 360x360 with 1 Axes>"
            ]
          },
          "metadata": {
            "tags": [],
            "needs_background": "light"
          }
        }
      ]
    },
    {
      "cell_type": "code",
      "metadata": {
        "colab": {
          "base_uri": "https://localhost:8080/",
          "height": 766
        },
        "id": "4LsJtV7u1W0w",
        "outputId": "963b3da1-aad9-45f9-c5c0-85b2f5a322cb"
      },
      "source": [
        "import seaborn as sns\r\n",
        "sns.lmplot(x='INDUS',y='target',data=df,order=1)\r\n",
        "df['INDUS_log']=np.log(df['INDUS'])\r\n",
        "sns.lmplot(x='INDUS_log',y='targe_log',data=df,order=1)"
      ],
      "execution_count": 219,
      "outputs": [
        {
          "output_type": "execute_result",
          "data": {
            "text/plain": [
              "<seaborn.axisgrid.FacetGrid at 0x7f1c7b6da668>"
            ]
          },
          "metadata": {
            "tags": []
          },
          "execution_count": 219
        },
        {
          "output_type": "display_data",
          "data": {
            "image/png": "[encoded data removed]",
            "text/plain": [
              "<Figure size 360x360 with 1 Axes>"
            ]
          },
          "metadata": {
            "tags": [],
            "needs_background": "light"
          }
        },
        {
          "output_type": "display_data",
          "data": {
            "image/png": "[encoded data removed]",
            "text/plain": [
              "<Figure size 360x360 with 1 Axes>"
            ]
          },
          "metadata": {
            "tags": [],
            "needs_background": "light"
          }
        }
      ]
    },
    {
      "cell_type": "code",
      "metadata": {
        "colab": {
          "base_uri": "https://localhost:8080/",
          "height": 766
        },
        "id": "Az0mqO5E1kYF",
        "outputId": "49279eb5-ac73-4d3b-da44-3e7d9a3affa6"
      },
      "source": [
        "import seaborn as sns\r\n",
        "sns.lmplot(x='NOX',y='target',data=df,order=1)\r\n",
        "df['NOX_log']=np.log(df['NOX'])\r\n",
        "sns.lmplot(x='NOX_log',y='targe_log',data=df,order=1)"
      ],
      "execution_count": 220,
      "outputs": [
        {
          "output_type": "execute_result",
          "data": {
            "text/plain": [
              "<seaborn.axisgrid.FacetGrid at 0x7f1c7b65c438>"
            ]
          },
          "metadata": {
            "tags": []
          },
          "execution_count": 220
        },
        {
          "output_type": "display_data",
          "data": {
            "image/png": "[encoded data removed]",
            "text/plain": [
              "<Figure size 360x360 with 1 Axes>"
            ]
          },
          "metadata": {
            "tags": [],
            "needs_background": "light"
          }
        },
        {
          "output_type": "display_data",
          "data": {
            "image/png": "[encoded data removed]",
            "text/plain": [
              "<Figure size 360x360 with 1 Axes>"
            ]
          },
          "metadata": {
            "tags": [],
            "needs_background": "light"
          }
        }
      ]
    },
    {
      "cell_type": "code",
      "metadata": {
        "colab": {
          "base_uri": "https://localhost:8080/",
          "height": 766
        },
        "id": "67eg1xx31sZA",
        "outputId": "6949d1ea-5c56-4ef4-a2f8-c249606109ca"
      },
      "source": [
        "import seaborn as sns\r\n",
        "sns.lmplot(x='RM',y='target',data=df,order=1)\r\n",
        "df['RM_log']=np.log(df['RM'])\r\n",
        "sns.lmplot(x='RM_log',y='targe_log',data=df,order=1)"
      ],
      "execution_count": 221,
      "outputs": [
        {
          "output_type": "execute_result",
          "data": {
            "text/plain": [
              "<seaborn.axisgrid.FacetGrid at 0x7f1c7b6dae80>"
            ]
          },
          "metadata": {
            "tags": []
          },
          "execution_count": 221
        },
        {
          "output_type": "display_data",
          "data": {
            "image/png": "[encoded data removed]",
            "text/plain": [
              "<Figure size 360x360 with 1 Axes>"
            ]
          },
          "metadata": {
            "tags": [],
            "needs_background": "light"
          }
        },
        {
          "output_type": "display_data",
          "data": {
            "image/png": "[encoded data removed]",
            "text/plain": [
              "<Figure size 360x360 with 1 Axes>"
            ]
          },
          "metadata": {
            "tags": [],
            "needs_background": "light"
          }
        }
      ]
    },
    {
      "cell_type": "code",
      "metadata": {
        "colab": {
          "base_uri": "https://localhost:8080/",
          "height": 766
        },
        "id": "EN65MjwN2REr",
        "outputId": "7fe9f152-53e5-45a9-d081-ea2bb8160a67"
      },
      "source": [
        "import seaborn as sns\r\n",
        "sns.lmplot(x='AGE',y='target',data=df,order=1)\r\n",
        "df['AGE_log']=np.log(df['AGE'])\r\n",
        "sns.lmplot(x='AGE_log',y='targe_log',data=df,order=1)"
      ],
      "execution_count": 222,
      "outputs": [
        {
          "output_type": "execute_result",
          "data": {
            "text/plain": [
              "<seaborn.axisgrid.FacetGrid at 0x7f1c7b6da9e8>"
            ]
          },
          "metadata": {
            "tags": []
          },
          "execution_count": 222
        },
        {
          "output_type": "display_data",
          "data": {
            "image/png": "[encoded data removed]",
            "text/plain": [
              "<Figure size 360x360 with 1 Axes>"
            ]
          },
          "metadata": {
            "tags": [],
            "needs_background": "light"
          }
        },
        {
          "output_type": "display_data",
          "data": {
            "image/png": "[encoded data removed]",
            "text/plain": [
              "<Figure size 360x360 with 1 Axes>"
            ]
          },
          "metadata": {
            "tags": [],
            "needs_background": "light"
          }
        }
      ]
    },
    {
      "cell_type": "code",
      "metadata": {
        "colab": {
          "base_uri": "https://localhost:8080/",
          "height": 766
        },
        "id": "gzzdVY7f4OU0",
        "outputId": "81a31399-c2ca-499c-f6b1-d5528f07ab0f"
      },
      "source": [
        "import seaborn as sns\r\n",
        "sns.lmplot(x='DIS',y='target',data=df,order=1)\r\n",
        "df['DIS_log']=np.log(df['DIS'])\r\n",
        "sns.lmplot(x='DIS_log',y='targe_log',data=df,order=1)"
      ],
      "execution_count": 224,
      "outputs": [
        {
          "output_type": "execute_result",
          "data": {
            "text/plain": [
              "<seaborn.axisgrid.FacetGrid at 0x7f1c7b35df28>"
            ]
          },
          "metadata": {
            "tags": []
          },
          "execution_count": 224
        },
        {
          "output_type": "display_data",
          "data": {
            "image/png": "[encoded data removed]",
            "text/plain": [
              "<Figure size 360x360 with 1 Axes>"
            ]
          },
          "metadata": {
            "tags": [],
            "needs_background": "light"
          }
        },
        {
          "output_type": "display_data",
          "data": {
            "image/png": "[encoded data removed]",
            "text/plain": [
              "<Figure size 360x360 with 1 Axes>"
            ]
          },
          "metadata": {
            "tags": [],
            "needs_background": "light"
          }
        }
      ]
    },
    {
      "cell_type": "code",
      "metadata": {
        "colab": {
          "base_uri": "https://localhost:8080/",
          "height": 766
        },
        "id": "Gzd8pbfO4WXo",
        "outputId": "6cc2b107-f953-434d-8641-5e16ffcb5ccc"
      },
      "source": [
        "import seaborn as sns\r\n",
        "sns.lmplot(x='TAX',y='target',data=df,order=1)\r\n",
        "df['TAX_log']=np.log(df['TAX'])\r\n",
        "sns.lmplot(x='TAX_log',y='targe_log',data=df,order=1)"
      ],
      "execution_count": 225,
      "outputs": [
        {
          "output_type": "execute_result",
          "data": {
            "text/plain": [
              "<seaborn.axisgrid.FacetGrid at 0x7f1c7b6da198>"
            ]
          },
          "metadata": {
            "tags": []
          },
          "execution_count": 225
        },
        {
          "output_type": "display_data",
          "data": {
            "image/png": "[encoded data removed]",
            "text/plain": [
              "<Figure size 360x360 with 1 Axes>"
            ]
          },
          "metadata": {
            "tags": [],
            "needs_background": "light"
          }
        },
        {
          "output_type": "display_data",
          "data": {
            "image/png": "[encoded data removed]",
            "text/plain": [
              "<Figure size 360x360 with 1 Axes>"
            ]
          },
          "metadata": {
            "tags": [],
            "needs_background": "light"
          }
        }
      ]
    },
    {
      "cell_type": "code",
      "metadata": {
        "colab": {
          "base_uri": "https://localhost:8080/",
          "height": 766
        },
        "id": "6GigIesF4pHS",
        "outputId": "21f35116-1383-48e3-a320-bfdf4241172b"
      },
      "source": [
        "import seaborn as sns\r\n",
        "sns.lmplot(x='PTRATIO',y='target',data=df,order=1)\r\n",
        "df['PTRATIO_log']=np.log(df['PTRATIO'])\r\n",
        "sns.lmplot(x='PTRATIO_log',y='targe_log',data=df,order=1)"
      ],
      "execution_count": 226,
      "outputs": [
        {
          "output_type": "execute_result",
          "data": {
            "text/plain": [
              "<seaborn.axisgrid.FacetGrid at 0x7f1c7a8db9b0>"
            ]
          },
          "metadata": {
            "tags": []
          },
          "execution_count": 226
        },
        {
          "output_type": "display_data",
          "data": {
            "image/png": "[encoded data removed]",
            "text/plain": [
              "<Figure size 360x360 with 1 Axes>"
            ]
          },
          "metadata": {
            "tags": [],
            "needs_background": "light"
          }
        },
        {
          "output_type": "display_data",
          "data": {
            "image/png": "[encoded data removed]",
            "text/plain": [
              "<Figure size 360x360 with 1 Axes>"
            ]
          },
          "metadata": {
            "tags": [],
            "needs_background": "light"
          }
        }
      ]
    },
    {
      "cell_type": "code",
      "metadata": {
        "colab": {
          "base_uri": "https://localhost:8080/",
          "height": 766
        },
        "id": "JucbthxI5Abn",
        "outputId": "9dc8cfee-7e42-472c-cbed-7ec4f54d6b8a"
      },
      "source": [
        "import seaborn as sns\r\n",
        "sns.lmplot(x='LSTAT',y='target',data=df,order=1)\r\n",
        "df['LSTAT_log']=np.log(df['LSTAT'])\r\n",
        "sns.lmplot(x='LSTAT_log',y='targe_log',data=df,order=1)"
      ],
      "execution_count": 228,
      "outputs": [
        {
          "output_type": "execute_result",
          "data": {
            "text/plain": [
              "<seaborn.axisgrid.FacetGrid at 0x7f1c7a463080>"
            ]
          },
          "metadata": {
            "tags": []
          },
          "execution_count": 228
        },
        {
          "output_type": "display_data",
          "data": {
            "image/png": "[encoded data removed]",
            "text/plain": [
              "<Figure size 360x360 with 1 Axes>"
            ]
          },
          "metadata": {
            "tags": [],
            "needs_background": "light"
          }
        },
        {
          "output_type": "display_data",
          "data": {
            "image/png": "[encoded data removed]",
            "text/plain": [
              "<Figure size 360x360 with 1 Axes>"
            ]
          },
          "metadata": {
            "tags": [],
            "needs_background": "light"
          }
        }
      ]
    },
    {
      "cell_type": "code",
      "metadata": {
        "colab": {
          "base_uri": "https://localhost:8080/"
        },
        "id": "4t_br3YY6nx6",
        "outputId": "0eed3cec-7c2b-41dc-c230-b60bf5ab6c65"
      },
      "source": [
        "df.columns"
      ],
      "execution_count": 231,
      "outputs": [
        {
          "output_type": "execute_result",
          "data": {
            "text/plain": [
              "Index(['CRIM', 'ZN', 'INDUS', 'CHAS', 'NOX', 'RM', 'AGE', 'DIS', 'RAD', 'TAX',\n",
              "       'PTRATIO', 'B', 'LSTAT', 'target', 'targe_log', 'CRIM_log', 'INDUS_log',\n",
              "       'NOX_log', 'RM_log', 'AGE_log', 'DIS_log', 'TAX_log', 'PTRATIO_log',\n",
              "       'B_log', 'LSTAT_log'],\n",
              "      dtype='object')"
            ]
          },
          "metadata": {
            "tags": []
          },
          "execution_count": 231
        }
      ]
    },
    {
      "cell_type": "code",
      "metadata": {
        "colab": {
          "base_uri": "https://localhost:8080/"
        },
        "id": "fo2M4fCi1KNo",
        "outputId": "46583098-1152-4ef7-d803-69f079ccb5f4"
      },
      "source": [
        "list(df.filter(like=\"_log\").columns)"
      ],
      "execution_count": 230,
      "outputs": [
        {
          "output_type": "execute_result",
          "data": {
            "text/plain": [
              "['targe_log',\n",
              " 'CRIM_log',\n",
              " 'INDUS_log',\n",
              " 'NOX_log',\n",
              " 'RM_log',\n",
              " 'AGE_log',\n",
              " 'DIS_log',\n",
              " 'TAX_log',\n",
              " 'PTRATIO_log',\n",
              " 'B_log',\n",
              " 'LSTAT_log']"
            ]
          },
          "metadata": {
            "tags": []
          },
          "execution_count": 230
        }
      ]
    },
    {
      "cell_type": "code",
      "metadata": {
        "id": "aR7_fpVe1LGJ"
      },
      "source": [
        "X = df[[\r\n",
        " 'CRIM_log',\r\n",
        " 'INDUS_log',\r\n",
        " 'NOX_log',\r\n",
        " 'RM_log',\r\n",
        " 'AGE_log',\r\n",
        " 'DIS_log',\r\n",
        " 'TAX_log',\r\n",
        " 'PTRATIO_log',\r\n",
        " 'LSTAT_log']]\r\n",
        "y = df['targe_log']"
      ],
      "execution_count": 232,
      "outputs": []
    },
    {
      "cell_type": "code",
      "metadata": {
        "colab": {
          "base_uri": "https://localhost:8080/"
        },
        "id": "5eCaArhr7ijL",
        "outputId": "e24ed4e7-51f8-4898-df5a-e83e45f16205"
      },
      "source": [
        "#Partimos set\r\n",
        "X_train, X_test, y_train, y_test = train_test_split(X, y, test_size=0.3)\r\n",
        "\r\n",
        "X_train.shape, X_test.shape, y_train.shape, y_test.shape"
      ],
      "execution_count": 264,
      "outputs": [
        {
          "output_type": "execute_result",
          "data": {
            "text/plain": [
              "((354, 9), (152, 9), (354,), (152,))"
            ]
          },
          "metadata": {
            "tags": []
          },
          "execution_count": 264
        }
      ]
    },
    {
      "cell_type": "markdown",
      "metadata": {
        "id": "rO6NhCHv74Vp"
      },
      "source": [
        "### Cross Validation"
      ]
    },
    {
      "cell_type": "code",
      "metadata": {
        "colab": {
          "base_uri": "https://localhost:8080/"
        },
        "id": "9Pkus7aNCVWU",
        "outputId": "b3c73d61-b200-40b7-b9b3-b862cba7c375"
      },
      "source": [
        "X_train.columns"
      ],
      "execution_count": 277,
      "outputs": [
        {
          "output_type": "execute_result",
          "data": {
            "text/plain": [
              "Index(['CRIM_log', 'INDUS_log', 'NOX_log', 'RM_log', 'AGE_log', 'DIS_log',\n",
              "       'TAX_log', 'PTRATIO_log', 'LSTAT_log'],\n",
              "      dtype='object')"
            ]
          },
          "metadata": {
            "tags": []
          },
          "execution_count": 277
        }
      ]
    },
    {
      "cell_type": "code",
      "metadata": {
        "colab": {
          "base_uri": "https://localhost:8080/"
        },
        "id": "o6UPbfdP7CLA",
        "outputId": "4eabb7a3-6f26-4fa3-ece3-4260c3854b7e"
      },
      "source": [
        "model_ridge = Ridge()\r\n",
        "#model_ridge.fit(X_train, y_train)\r\n",
        "ls_medias_ridge = cross_val_score(estimator=model_ridge, X=X_train, y = y_train, cv = 4, n_jobs=-1, scoring=\"r2\")\r\n",
        "np.mean(ls_medias_ridge), np.std(ls_medias_ridge)"
      ],
      "execution_count": 278,
      "outputs": [
        {
          "output_type": "execute_result",
          "data": {
            "text/plain": [
              "(0.7484719379361437, 0.027294831508708338)"
            ]
          },
          "metadata": {
            "tags": []
          },
          "execution_count": 278
        }
      ]
    },
    {
      "cell_type": "markdown",
      "metadata": {
        "id": "qvrx17fE78DK"
      },
      "source": [
        "# Grid Search"
      ]
    },
    {
      "cell_type": "code",
      "metadata": {
        "id": "-qwX3Yo47Wkf"
      },
      "source": [
        "param_grid = {\r\n",
        "    \"alpha\": [x for x in range(1, 100)] + [y/10 for y in range(10)],\r\n",
        "    \"tol\": [0.00001, 0.0000001, 0.01],\r\n",
        "    \"solver\": ['auto', 'svd', 'cholesky', 'lsqr', 'sparse_cg', 'sag', 'saga']\r\n",
        "}"
      ],
      "execution_count": 272,
      "outputs": []
    },
    {
      "cell_type": "code",
      "metadata": {
        "colab": {
          "base_uri": "https://localhost:8080/"
        },
        "id": "65xVQ5Sv7Wyu",
        "outputId": "ede1781d-635a-4218-b6f4-5f8b77ebd9e5"
      },
      "source": [
        "clf_ridge = GridSearchCV(model_ridge, param_grid, cv=4, error_score=-1000, n_jobs=-1, scoring=\"r2\")\r\n",
        "clf_ridge.fit(X_train, y_train)\r\n",
        "print(\"Best score: \" + str(clf_ridge.best_score_))"
      ],
      "execution_count": 273,
      "outputs": [
        {
          "output_type": "stream",
          "text": [
            "Best score: 0.7506401027435479\n"
          ],
          "name": "stdout"
        }
      ]
    },
    {
      "cell_type": "code",
      "metadata": {
        "colab": {
          "base_uri": "https://localhost:8080/"
        },
        "id": "BkOOX6GJ7W5p",
        "outputId": "e035a49a-8c40-45cb-f635-3bdc60cfd5ff"
      },
      "source": [
        "clf_ridge.best_estimator_"
      ],
      "execution_count": 279,
      "outputs": [
        {
          "output_type": "execute_result",
          "data": {
            "text/plain": [
              "Ridge(alpha=0.1, copy_X=True, fit_intercept=True, max_iter=None,\n",
              "      normalize=False, random_state=None, solver='sparse_cg', tol=1e-05)"
            ]
          },
          "metadata": {
            "tags": []
          },
          "execution_count": 279
        }
      ]
    },
    {
      "cell_type": "code",
      "metadata": {
        "colab": {
          "base_uri": "https://localhost:8080/"
        },
        "id": "HTo6FJ-qBKcq",
        "outputId": "664a16c6-22cb-4dda-9ddb-791ead2d197d"
      },
      "source": [
        "clf_ridge.best_estimator_.coef_"
      ],
      "execution_count": 280,
      "outputs": [
        {
          "output_type": "execute_result",
          "data": {
            "text/plain": [
              "array([-0.02251378,  0.0327309 , -0.24094521,  0.58419966,  0.04568009,\n",
              "       -0.12740744, -0.14280738, -0.42947414, -0.40893791])"
            ]
          },
          "metadata": {
            "tags": []
          },
          "execution_count": 280
        }
      ]
    },
    {
      "cell_type": "markdown",
      "metadata": {
        "id": "ANrQBdYz_rhD"
      },
      "source": [
        "## Veamos como funciona el test"
      ]
    },
    {
      "cell_type": "code",
      "metadata": {
        "colab": {
          "base_uri": "https://localhost:8080/"
        },
        "id": "k7nBPyfD_JST",
        "outputId": "546287f8-9d1f-4126-eed0-0262b0dac0d2"
      },
      "source": [
        "#Veamos el performance sin regresar variables del test\r\n",
        "clf_ridge.best_estimator_.score(X_test, y_test)"
      ],
      "execution_count": 292,
      "outputs": [
        {
          "output_type": "execute_result",
          "data": {
            "text/plain": [
              "0.6690692143553488"
            ]
          },
          "metadata": {
            "tags": []
          },
          "execution_count": 292
        }
      ]
    },
    {
      "cell_type": "code",
      "metadata": {
        "colab": {
          "base_uri": "https://localhost:8080/"
        },
        "id": "T9iDtKBPD08Q",
        "outputId": "fa4f539e-2c3e-4e55-8b4d-75313750e4c7"
      },
      "source": [
        "#Train con escala regresada\r\n",
        "predicciones=np.exp(clf_ridge.best_estimator_.predict(X_train))\r\n",
        "#Predecimos regresando las variables\r\n",
        "r2_score(y_pred=predicciones, y_true=np.exp(y_train))"
      ],
      "execution_count": 293,
      "outputs": [
        {
          "output_type": "execute_result",
          "data": {
            "text/plain": [
              "0.7807212141044103"
            ]
          },
          "metadata": {
            "tags": []
          },
          "execution_count": 293
        }
      ]
    },
    {
      "cell_type": "code",
      "metadata": {
        "colab": {
          "base_uri": "https://localhost:8080/"
        },
        "id": "3O1Q9DLU9gvO",
        "outputId": "ee77901d-d653-4cab-9564-1d980affe0d4"
      },
      "source": [
        "#Test\r\n",
        "predicciones=np.exp(clf_ridge.best_estimator_.predict(X_test))\r\n",
        "#Predecimos regresando las variables\r\n",
        "r2_score(y_pred=predicciones, y_true=np.exp(y_test))"
      ],
      "execution_count": 294,
      "outputs": [
        {
          "output_type": "execute_result",
          "data": {
            "text/plain": [
              "0.7074935997085566"
            ]
          },
          "metadata": {
            "tags": []
          },
          "execution_count": 294
        }
      ]
    },
    {
      "cell_type": "code",
      "metadata": {
        "id": "fYARFeGeDtjo"
      },
      "source": [
        ""
      ],
      "execution_count": null,
      "outputs": []
    }
  ]
}