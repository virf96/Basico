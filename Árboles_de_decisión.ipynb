{
  "nbformat": 4,
  "nbformat_minor": 0,
  "metadata": {
    "kernelspec": {
      "display_name": "Python 3.7",
      "language": "python",
      "name": "python3"
    },
    "language_info": {
      "codemirror_mode": {
        "name": "ipython",
        "version": 3
      },
      "file_extension": ".py",
      "mimetype": "text/x-python",
      "name": "python",
      "nbconvert_exporter": "python",
      "pygments_lexer": "ipython3",
      "version": "3.7.9"
    },
    "colab": {
      "name": "Árboles de decisión.ipynb",
      "provenance": [],
      "toc_visible": true,
      "include_colab_link": true
    }
  },
  "cells": [
    {
      "cell_type": "markdown",
      "metadata": {
        "id": "view-in-github",
        "colab_type": "text"
      },
      "source": [
        "<a href=\"https://colab.research.google.com/github/virf96/Basico/blob/main/%C3%81rboles_de_decisi%C3%B3n.ipynb\" target=\"_parent\"><img src=\"https://colab.research.google.com/assets/colab-badge.svg\" alt=\"Open In Colab\"/></a>"
      ]
    },
    {
      "cell_type": "markdown",
      "metadata": {
        "id": "Bk8zOxnOnMgH"
      },
      "source": [
        "# Árboles de decisión"
      ]
    },
    {
      "cell_type": "markdown",
      "metadata": {
        "id": "kK1-ZCn6nMgO"
      },
      "source": [
        "## Preparación de ambiente"
      ]
    },
    {
      "cell_type": "markdown",
      "metadata": {
        "id": "I5SVz--tnMgR"
      },
      "source": [
        "### Carga de módulos"
      ]
    },
    {
      "cell_type": "code",
      "metadata": {
        "ExecuteTime": {
          "end_time": "2020-11-14T15:39:04.184138Z",
          "start_time": "2020-11-14T15:39:00.694855Z"
        },
        "colab": {
          "base_uri": "https://localhost:8080/"
        },
        "id": "B1YTMDV0nMgT",
        "outputId": "cfb304ce-a2df-43c0-cb17-256f58080bf4"
      },
      "source": [
        "import pydotplus\n",
        "import numpy as np\n",
        "import pandas as pd\n",
        "from sklearn.tree import _tree\n",
        "from IPython.display import Image \n",
        "from sklearn.pipeline import Pipeline\n",
        "from sklearn.externals.six import StringIO \n",
        "from sklearn.preprocessing import OneHotEncoder\n",
        "from sklearn.tree import DecisionTreeClassifier, export_graphviz\n",
        "from sklearn.model_selection import RandomizedSearchCV, GridSearchCV\n",
        "from sklearn.model_selection import cross_val_score, train_test_split"
      ],
      "execution_count": 1,
      "outputs": [
        {
          "output_type": "stream",
          "text": [
            "/usr/local/lib/python3.6/dist-packages/sklearn/externals/six.py:31: FutureWarning: The module is deprecated in version 0.21 and will be removed in version 0.23 since we've dropped support for Python 2.7. Please rely on the official version of six (https://pypi.org/project/six/).\n",
            "  \"(https://pypi.org/project/six/).\", FutureWarning)\n"
          ],
          "name": "stderr"
        }
      ]
    },
    {
      "cell_type": "markdown",
      "metadata": {
        "id": "SogJaL6WnMgW"
      },
      "source": [
        "### Funciones relevantes"
      ]
    },
    {
      "cell_type": "code",
      "metadata": {
        "ExecuteTime": {
          "end_time": "2020-11-14T15:40:53.598535Z",
          "start_time": "2020-11-14T15:40:53.573104Z"
        },
        "id": "r9_xQs-TnMgY"
      },
      "source": [
        "def tree_to_code(tree, feature_names):\n",
        "    tree_ = tree.tree_\n",
        "    feature_name = [\n",
        "        feature_names[i] if i != _tree.TREE_UNDEFINED else \"undefined!\"\n",
        "        for i in tree_.feature\n",
        "    ]\n",
        "    features = ','.join(feature_names)\n",
        "    print(f\"def tree({features}):\")\n",
        "\n",
        "    def recurse(node, depth):\n",
        "        indent = \"  \" * depth\n",
        "        if tree_.feature[node] != _tree.TREE_UNDEFINED:\n",
        "            name = feature_name[node]\n",
        "            threshold = tree_.threshold[node]\n",
        "            print(f\"{indent}if {name} <= {threshold}:\")\n",
        "            recurse(tree_.children_left[node], depth + 1)\n",
        "            print(f\"{indent}else:  # if {name} > {threshold}\")\n",
        "            recurse(tree_.children_right[node], depth + 1)\n",
        "        else:\n",
        "            print(f\"{indent}return {tree_.value[node]}\".format(indent, tree_.value[node]))\n",
        "\n",
        "    recurse(0, 1)"
      ],
      "execution_count": 2,
      "outputs": []
    },
    {
      "cell_type": "code",
      "metadata": {
        "ExecuteTime": {
          "end_time": "2020-11-14T15:40:59.881767Z",
          "start_time": "2020-11-14T15:40:59.876636Z"
        },
        "id": "57bjbD11nMga"
      },
      "source": [
        "def classification_metrics(X, y, estimator):\n",
        "    ls_scores_roc = cross_val_score(estimator=estimator, X=X, y=y, scoring=\"roc_auc\", n_jobs=-1, cv=4)\n",
        "    print(f\"ROC media: {np.mean(ls_scores_roc):,.2f}, desviación estándar: {np.std(ls_scores_roc)}\")"
      ],
      "execution_count": 3,
      "outputs": []
    },
    {
      "cell_type": "markdown",
      "metadata": {
        "id": "vFLjU1rDnMgb"
      },
      "source": [
        "## Carga de datos"
      ]
    },
    {
      "cell_type": "markdown",
      "metadata": {
        "id": "v6YcrlpOnMgc"
      },
      "source": [
        "### Lectura de datos"
      ]
    },
    {
      "cell_type": "code",
      "metadata": {
        "colab": {
          "base_uri": "https://localhost:8080/"
        },
        "id": "7YSP35ecwmIx",
        "outputId": "dbd1dbd9-3f3f-434b-f119-6d2d32bd0db2"
      },
      "source": [
        "from google.colab import drive\n",
        "drive.mount('/content/drive')"
      ],
      "execution_count": 4,
      "outputs": [
        {
          "output_type": "stream",
          "text": [
            "Mounted at /content/drive\n"
          ],
          "name": "stdout"
        }
      ]
    },
    {
      "cell_type": "code",
      "metadata": {
        "ExecuteTime": {
          "end_time": "2020-11-14T15:41:05.321281Z",
          "start_time": "2020-11-14T15:41:05.283657Z"
        },
        "id": "9Z_zdyebnMge"
      },
      "source": [
        "df = pd.read_csv(\"/content/drive/MyDrive/datasets/tictactoe.csv\")"
      ],
      "execution_count": 5,
      "outputs": []
    },
    {
      "cell_type": "code",
      "metadata": {
        "ExecuteTime": {
          "end_time": "2020-11-14T15:41:08.436375Z",
          "start_time": "2020-11-14T15:41:08.316479Z"
        },
        "colab": {
          "base_uri": "https://localhost:8080/",
          "height": 391
        },
        "id": "2pdKexMBnMgf",
        "outputId": "13bbf708-cda1-407c-a364-6c993686ebc6"
      },
      "source": [
        "df"
      ],
      "execution_count": 6,
      "outputs": [
        {
          "output_type": "execute_result",
          "data": {
            "text/html": [
              "<div>\n",
              "<style scoped>\n",
              "    .dataframe tbody tr th:only-of-type {\n",
              "        vertical-align: middle;\n",
              "    }\n",
              "\n",
              "    .dataframe tbody tr th {\n",
              "        vertical-align: top;\n",
              "    }\n",
              "\n",
              "    .dataframe thead th {\n",
              "        text-align: right;\n",
              "    }\n",
              "</style>\n",
              "<table border=\"1\" class=\"dataframe\">\n",
              "  <thead>\n",
              "    <tr style=\"text-align: right;\">\n",
              "      <th></th>\n",
              "      <th>V1</th>\n",
              "      <th>V2</th>\n",
              "      <th>V3</th>\n",
              "      <th>V4</th>\n",
              "      <th>V5</th>\n",
              "      <th>V6</th>\n",
              "      <th>V7</th>\n",
              "      <th>V8</th>\n",
              "      <th>V9</th>\n",
              "      <th>V10</th>\n",
              "    </tr>\n",
              "  </thead>\n",
              "  <tbody>\n",
              "    <tr>\n",
              "      <th>0</th>\n",
              "      <td>x</td>\n",
              "      <td>x</td>\n",
              "      <td>x</td>\n",
              "      <td>x</td>\n",
              "      <td>o</td>\n",
              "      <td>o</td>\n",
              "      <td>x</td>\n",
              "      <td>o</td>\n",
              "      <td>o</td>\n",
              "      <td>positive</td>\n",
              "    </tr>\n",
              "    <tr>\n",
              "      <th>1</th>\n",
              "      <td>x</td>\n",
              "      <td>x</td>\n",
              "      <td>x</td>\n",
              "      <td>x</td>\n",
              "      <td>o</td>\n",
              "      <td>o</td>\n",
              "      <td>o</td>\n",
              "      <td>x</td>\n",
              "      <td>o</td>\n",
              "      <td>positive</td>\n",
              "    </tr>\n",
              "    <tr>\n",
              "      <th>2</th>\n",
              "      <td>x</td>\n",
              "      <td>x</td>\n",
              "      <td>x</td>\n",
              "      <td>x</td>\n",
              "      <td>o</td>\n",
              "      <td>o</td>\n",
              "      <td>o</td>\n",
              "      <td>o</td>\n",
              "      <td>x</td>\n",
              "      <td>positive</td>\n",
              "    </tr>\n",
              "    <tr>\n",
              "      <th>3</th>\n",
              "      <td>x</td>\n",
              "      <td>x</td>\n",
              "      <td>x</td>\n",
              "      <td>x</td>\n",
              "      <td>o</td>\n",
              "      <td>o</td>\n",
              "      <td>o</td>\n",
              "      <td>b</td>\n",
              "      <td>b</td>\n",
              "      <td>positive</td>\n",
              "    </tr>\n",
              "    <tr>\n",
              "      <th>4</th>\n",
              "      <td>x</td>\n",
              "      <td>x</td>\n",
              "      <td>x</td>\n",
              "      <td>x</td>\n",
              "      <td>o</td>\n",
              "      <td>o</td>\n",
              "      <td>b</td>\n",
              "      <td>o</td>\n",
              "      <td>b</td>\n",
              "      <td>positive</td>\n",
              "    </tr>\n",
              "    <tr>\n",
              "      <th>...</th>\n",
              "      <td>...</td>\n",
              "      <td>...</td>\n",
              "      <td>...</td>\n",
              "      <td>...</td>\n",
              "      <td>...</td>\n",
              "      <td>...</td>\n",
              "      <td>...</td>\n",
              "      <td>...</td>\n",
              "      <td>...</td>\n",
              "      <td>...</td>\n",
              "    </tr>\n",
              "    <tr>\n",
              "      <th>953</th>\n",
              "      <td>o</td>\n",
              "      <td>x</td>\n",
              "      <td>x</td>\n",
              "      <td>x</td>\n",
              "      <td>o</td>\n",
              "      <td>o</td>\n",
              "      <td>o</td>\n",
              "      <td>x</td>\n",
              "      <td>x</td>\n",
              "      <td>negative</td>\n",
              "    </tr>\n",
              "    <tr>\n",
              "      <th>954</th>\n",
              "      <td>o</td>\n",
              "      <td>x</td>\n",
              "      <td>o</td>\n",
              "      <td>x</td>\n",
              "      <td>x</td>\n",
              "      <td>o</td>\n",
              "      <td>x</td>\n",
              "      <td>o</td>\n",
              "      <td>x</td>\n",
              "      <td>negative</td>\n",
              "    </tr>\n",
              "    <tr>\n",
              "      <th>955</th>\n",
              "      <td>o</td>\n",
              "      <td>x</td>\n",
              "      <td>o</td>\n",
              "      <td>x</td>\n",
              "      <td>o</td>\n",
              "      <td>x</td>\n",
              "      <td>x</td>\n",
              "      <td>o</td>\n",
              "      <td>x</td>\n",
              "      <td>negative</td>\n",
              "    </tr>\n",
              "    <tr>\n",
              "      <th>956</th>\n",
              "      <td>o</td>\n",
              "      <td>x</td>\n",
              "      <td>o</td>\n",
              "      <td>o</td>\n",
              "      <td>x</td>\n",
              "      <td>x</td>\n",
              "      <td>x</td>\n",
              "      <td>o</td>\n",
              "      <td>x</td>\n",
              "      <td>negative</td>\n",
              "    </tr>\n",
              "    <tr>\n",
              "      <th>957</th>\n",
              "      <td>o</td>\n",
              "      <td>o</td>\n",
              "      <td>x</td>\n",
              "      <td>x</td>\n",
              "      <td>x</td>\n",
              "      <td>o</td>\n",
              "      <td>o</td>\n",
              "      <td>x</td>\n",
              "      <td>x</td>\n",
              "      <td>negative</td>\n",
              "    </tr>\n",
              "  </tbody>\n",
              "</table>\n",
              "<p>958 rows × 10 columns</p>\n",
              "</div>"
            ],
            "text/plain": [
              "    V1 V2 V3 V4 V5 V6 V7 V8 V9       V10\n",
              "0    x  x  x  x  o  o  x  o  o  positive\n",
              "1    x  x  x  x  o  o  o  x  o  positive\n",
              "2    x  x  x  x  o  o  o  o  x  positive\n",
              "3    x  x  x  x  o  o  o  b  b  positive\n",
              "4    x  x  x  x  o  o  b  o  b  positive\n",
              "..  .. .. .. .. .. .. .. .. ..       ...\n",
              "953  o  x  x  x  o  o  o  x  x  negative\n",
              "954  o  x  o  x  x  o  x  o  x  negative\n",
              "955  o  x  o  x  o  x  x  o  x  negative\n",
              "956  o  x  o  o  x  x  x  o  x  negative\n",
              "957  o  o  x  x  x  o  o  x  x  negative\n",
              "\n",
              "[958 rows x 10 columns]"
            ]
          },
          "metadata": {
            "tags": []
          },
          "execution_count": 6
        }
      ]
    },
    {
      "cell_type": "markdown",
      "metadata": {
        "id": "jU80_LUXnMgi"
      },
      "source": [
        "### EDA"
      ]
    },
    {
      "cell_type": "code",
      "metadata": {
        "ExecuteTime": {
          "end_time": "2020-11-14T15:42:07.541564Z",
          "start_time": "2020-11-14T15:42:07.502544Z"
        },
        "colab": {
          "base_uri": "https://localhost:8080/",
          "height": 191
        },
        "id": "bqjJZ13enMgk",
        "outputId": "f57af43f-54a9-4d28-8106-60c69ee26dea"
      },
      "source": [
        "df.sample(5)"
      ],
      "execution_count": 7,
      "outputs": [
        {
          "output_type": "execute_result",
          "data": {
            "text/html": [
              "<div>\n",
              "<style scoped>\n",
              "    .dataframe tbody tr th:only-of-type {\n",
              "        vertical-align: middle;\n",
              "    }\n",
              "\n",
              "    .dataframe tbody tr th {\n",
              "        vertical-align: top;\n",
              "    }\n",
              "\n",
              "    .dataframe thead th {\n",
              "        text-align: right;\n",
              "    }\n",
              "</style>\n",
              "<table border=\"1\" class=\"dataframe\">\n",
              "  <thead>\n",
              "    <tr style=\"text-align: right;\">\n",
              "      <th></th>\n",
              "      <th>V1</th>\n",
              "      <th>V2</th>\n",
              "      <th>V3</th>\n",
              "      <th>V4</th>\n",
              "      <th>V5</th>\n",
              "      <th>V6</th>\n",
              "      <th>V7</th>\n",
              "      <th>V8</th>\n",
              "      <th>V9</th>\n",
              "      <th>V10</th>\n",
              "    </tr>\n",
              "  </thead>\n",
              "  <tbody>\n",
              "    <tr>\n",
              "      <th>78</th>\n",
              "      <td>x</td>\n",
              "      <td>x</td>\n",
              "      <td>o</td>\n",
              "      <td>x</td>\n",
              "      <td>x</td>\n",
              "      <td>o</td>\n",
              "      <td>o</td>\n",
              "      <td>o</td>\n",
              "      <td>x</td>\n",
              "      <td>positive</td>\n",
              "    </tr>\n",
              "    <tr>\n",
              "      <th>705</th>\n",
              "      <td>x</td>\n",
              "      <td>b</td>\n",
              "      <td>x</td>\n",
              "      <td>x</td>\n",
              "      <td>x</td>\n",
              "      <td>o</td>\n",
              "      <td>o</td>\n",
              "      <td>o</td>\n",
              "      <td>o</td>\n",
              "      <td>negative</td>\n",
              "    </tr>\n",
              "    <tr>\n",
              "      <th>376</th>\n",
              "      <td>o</td>\n",
              "      <td>o</td>\n",
              "      <td>x</td>\n",
              "      <td>x</td>\n",
              "      <td>o</td>\n",
              "      <td>x</td>\n",
              "      <td>o</td>\n",
              "      <td>x</td>\n",
              "      <td>x</td>\n",
              "      <td>positive</td>\n",
              "    </tr>\n",
              "    <tr>\n",
              "      <th>578</th>\n",
              "      <td>b</td>\n",
              "      <td>o</td>\n",
              "      <td>b</td>\n",
              "      <td>x</td>\n",
              "      <td>x</td>\n",
              "      <td>x</td>\n",
              "      <td>o</td>\n",
              "      <td>o</td>\n",
              "      <td>x</td>\n",
              "      <td>positive</td>\n",
              "    </tr>\n",
              "    <tr>\n",
              "      <th>115</th>\n",
              "      <td>x</td>\n",
              "      <td>o</td>\n",
              "      <td>x</td>\n",
              "      <td>x</td>\n",
              "      <td>o</td>\n",
              "      <td>o</td>\n",
              "      <td>x</td>\n",
              "      <td>x</td>\n",
              "      <td>o</td>\n",
              "      <td>positive</td>\n",
              "    </tr>\n",
              "  </tbody>\n",
              "</table>\n",
              "</div>"
            ],
            "text/plain": [
              "    V1 V2 V3 V4 V5 V6 V7 V8 V9       V10\n",
              "78   x  x  o  x  x  o  o  o  x  positive\n",
              "705  x  b  x  x  x  o  o  o  o  negative\n",
              "376  o  o  x  x  o  x  o  x  x  positive\n",
              "578  b  o  b  x  x  x  o  o  x  positive\n",
              "115  x  o  x  x  o  o  x  x  o  positive"
            ]
          },
          "metadata": {
            "tags": []
          },
          "execution_count": 7
        }
      ]
    },
    {
      "cell_type": "code",
      "metadata": {
        "ExecuteTime": {
          "end_time": "2020-11-14T15:42:17.260573Z",
          "start_time": "2020-11-14T15:42:17.255790Z"
        },
        "colab": {
          "base_uri": "https://localhost:8080/"
        },
        "id": "Vxh47pyinMgl",
        "outputId": "cb1d3712-7219-4542-9038-297feb346bc5"
      },
      "source": [
        "df.shape"
      ],
      "execution_count": 8,
      "outputs": [
        {
          "output_type": "execute_result",
          "data": {
            "text/plain": [
              "(958, 10)"
            ]
          },
          "metadata": {
            "tags": []
          },
          "execution_count": 8
        }
      ]
    },
    {
      "cell_type": "markdown",
      "metadata": {
        "id": "WIpQBo8XnMgn"
      },
      "source": [
        "### Separación de sets"
      ]
    },
    {
      "cell_type": "code",
      "metadata": {
        "ExecuteTime": {
          "end_time": "2020-11-14T15:42:34.827032Z",
          "start_time": "2020-11-14T15:42:34.810627Z"
        },
        "id": "4LgBZDphnMgo"
      },
      "source": [
        "X = df[[f\"V{x}\" for x in range(1, 10)]]\n",
        "y = df[\"V10\"]"
      ],
      "execution_count": 9,
      "outputs": []
    },
    {
      "cell_type": "code",
      "metadata": {
        "ExecuteTime": {
          "end_time": "2020-11-14T15:42:36.782214Z",
          "start_time": "2020-11-14T15:42:36.774000Z"
        },
        "id": "GsuYWjQanMgp"
      },
      "source": [
        "X_train, X_test, y_train, y_test = train_test_split(X, y, train_size=0.7)"
      ],
      "execution_count": 10,
      "outputs": []
    },
    {
      "cell_type": "markdown",
      "metadata": {
        "id": "6AcdoTvXnMgq"
      },
      "source": [
        "## Modelado"
      ]
    },
    {
      "cell_type": "markdown",
      "metadata": {
        "id": "NFyUN1rynMgr"
      },
      "source": [
        "### Generación de pipeline"
      ]
    },
    {
      "cell_type": "code",
      "metadata": {
        "ExecuteTime": {
          "end_time": "2020-11-14T15:42:47.734797Z",
          "start_time": "2020-11-14T15:42:47.732225Z"
        },
        "id": "KOJxPaT9nMgs"
      },
      "source": [
        "ohe = OneHotEncoder(sparse=False)"
      ],
      "execution_count": 11,
      "outputs": []
    },
    {
      "cell_type": "code",
      "metadata": {
        "ExecuteTime": {
          "end_time": "2020-11-14T15:42:51.605315Z",
          "start_time": "2020-11-14T15:42:51.588498Z"
        },
        "colab": {
          "base_uri": "https://localhost:8080/"
        },
        "id": "mexvfL8-nMgs",
        "outputId": "19f9f291-2201-41dc-ba2b-976ac0d26a78"
      },
      "source": [
        "ohe.fit_transform(df[[f\"V{x}\" for x in range(1, 10)]])"
      ],
      "execution_count": 12,
      "outputs": [
        {
          "output_type": "execute_result",
          "data": {
            "text/plain": [
              "array([[0., 0., 1., ..., 0., 1., 0.],\n",
              "       [0., 0., 1., ..., 0., 1., 0.],\n",
              "       [0., 0., 1., ..., 0., 0., 1.],\n",
              "       ...,\n",
              "       [0., 1., 0., ..., 0., 0., 1.],\n",
              "       [0., 1., 0., ..., 0., 0., 1.],\n",
              "       [0., 1., 0., ..., 0., 0., 1.]])"
            ]
          },
          "metadata": {
            "tags": []
          },
          "execution_count": 12
        }
      ]
    },
    {
      "cell_type": "code",
      "metadata": {
        "ExecuteTime": {
          "end_time": "2020-11-14T15:43:01.102052Z",
          "start_time": "2020-11-14T15:43:00.978967Z"
        },
        "id": "iqJwvJI3nMgu"
      },
      "source": [
        "ohe.get_feature_names?"
      ],
      "execution_count": 13,
      "outputs": []
    },
    {
      "cell_type": "code",
      "metadata": {
        "ExecuteTime": {
          "end_time": "2020-11-14T15:43:23.255896Z",
          "start_time": "2020-11-14T15:43:23.251151Z"
        },
        "colab": {
          "base_uri": "https://localhost:8080/"
        },
        "id": "lGZ4k1jbnMgv",
        "outputId": "61fd5a83-cf37-422c-9ce3-6024293ffda6"
      },
      "source": [
        "ohe.get_feature_names(X.columns)"
      ],
      "execution_count": 14,
      "outputs": [
        {
          "output_type": "execute_result",
          "data": {
            "text/plain": [
              "array(['V1_b', 'V1_o', 'V1_x', 'V2_b', 'V2_o', 'V2_x', 'V3_b', 'V3_o',\n",
              "       'V3_x', 'V4_b', 'V4_o', 'V4_x', 'V5_b', 'V5_o', 'V5_x', 'V6_b',\n",
              "       'V6_o', 'V6_x', 'V7_b', 'V7_o', 'V7_x', 'V8_b', 'V8_o', 'V8_x',\n",
              "       'V9_b', 'V9_o', 'V9_x'], dtype=object)"
            ]
          },
          "metadata": {
            "tags": []
          },
          "execution_count": 14
        }
      ]
    },
    {
      "cell_type": "code",
      "metadata": {
        "ExecuteTime": {
          "end_time": "2020-11-14T15:43:43.368613Z",
          "start_time": "2020-11-14T15:43:43.361841Z"
        },
        "id": "X0GoK8MVnMgw"
      },
      "source": [
        "DecisionTreeClassifier?"
      ],
      "execution_count": 15,
      "outputs": []
    },
    {
      "cell_type": "code",
      "metadata": {
        "ExecuteTime": {
          "end_time": "2020-11-14T15:44:49.643267Z",
          "start_time": "2020-11-14T15:44:49.639999Z"
        },
        "id": "iIpopwXinMgx"
      },
      "source": [
        "tree = DecisionTreeClassifier(max_depth=3)"
      ],
      "execution_count": 16,
      "outputs": []
    },
    {
      "cell_type": "code",
      "metadata": {
        "ExecuteTime": {
          "end_time": "2020-11-14T15:45:58.462046Z",
          "start_time": "2020-11-14T15:45:58.458536Z"
        },
        "id": "mFrupRxlnMgy"
      },
      "source": [
        "pipe = Pipeline([(\"encoder\", ohe), (\"tree\", tree)])"
      ],
      "execution_count": 17,
      "outputs": []
    },
    {
      "cell_type": "markdown",
      "metadata": {
        "id": "oaJ77YDWnMgz"
      },
      "source": [
        "### Entrenamiento"
      ]
    },
    {
      "cell_type": "code",
      "metadata": {
        "ExecuteTime": {
          "end_time": "2020-11-14T15:46:11.416993Z",
          "start_time": "2020-11-14T15:46:11.363388Z"
        },
        "colab": {
          "base_uri": "https://localhost:8080/"
        },
        "id": "EAVVk8lTnMg0",
        "outputId": "35631ae4-5dfa-40e6-815d-e80b4fbbfc66"
      },
      "source": [
        "pipe.fit(X_train, y_train)"
      ],
      "execution_count": 18,
      "outputs": [
        {
          "output_type": "execute_result",
          "data": {
            "text/plain": [
              "Pipeline(memory=None,\n",
              "         steps=[('encoder',\n",
              "                 OneHotEncoder(categories='auto', drop=None,\n",
              "                               dtype=<class 'numpy.float64'>,\n",
              "                               handle_unknown='error', sparse=False)),\n",
              "                ('tree',\n",
              "                 DecisionTreeClassifier(ccp_alpha=0.0, class_weight=None,\n",
              "                                        criterion='gini', max_depth=3,\n",
              "                                        max_features=None, max_leaf_nodes=None,\n",
              "                                        min_impurity_decrease=0.0,\n",
              "                                        min_impurity_split=None,\n",
              "                                        min_samples_leaf=1, min_samples_split=2,\n",
              "                                        min_weight_fraction_leaf=0.0,\n",
              "                                        presort='deprecated', random_state=None,\n",
              "                                        splitter='best'))],\n",
              "         verbose=False)"
            ]
          },
          "metadata": {
            "tags": []
          },
          "execution_count": 18
        }
      ]
    },
    {
      "cell_type": "code",
      "metadata": {
        "ExecuteTime": {
          "end_time": "2020-11-14T15:46:40.874454Z",
          "start_time": "2020-11-14T15:46:40.863691Z"
        },
        "colab": {
          "base_uri": "https://localhost:8080/"
        },
        "id": "AxpojIsynMg1",
        "outputId": "a94bbd5c-f2d4-4ae0-bb86-a6c601c6e469"
      },
      "source": [
        "pipe.score(X_train, y_train)"
      ],
      "execution_count": 19,
      "outputs": [
        {
          "output_type": "execute_result",
          "data": {
            "text/plain": [
              "0.7626865671641792"
            ]
          },
          "metadata": {
            "tags": []
          },
          "execution_count": 19
        }
      ]
    },
    {
      "cell_type": "code",
      "metadata": {
        "ExecuteTime": {
          "end_time": "2020-11-14T15:46:47.379793Z",
          "start_time": "2020-11-14T15:46:47.369952Z"
        },
        "colab": {
          "base_uri": "https://localhost:8080/"
        },
        "id": "HWft4bq3nMg3",
        "outputId": "6918c1e2-d228-4f86-9695-5d35f72a83ff"
      },
      "source": [
        "pipe.score(X_test, y_test)"
      ],
      "execution_count": 20,
      "outputs": [
        {
          "output_type": "execute_result",
          "data": {
            "text/plain": [
              "0.7048611111111112"
            ]
          },
          "metadata": {
            "tags": []
          },
          "execution_count": 20
        }
      ]
    },
    {
      "cell_type": "code",
      "metadata": {
        "ExecuteTime": {
          "end_time": "2020-11-14T15:47:27.902532Z",
          "start_time": "2020-11-14T15:47:27.049746Z"
        },
        "colab": {
          "base_uri": "https://localhost:8080/",
          "height": 471
        },
        "id": "fDmuNDVEnMg4",
        "outputId": "6b7eed72-df4f-4f5c-ff31-e5f3efa3b0c6"
      },
      "source": [
        "dot_data = StringIO()\n",
        "export_graphviz(pipe[\"tree\"], out_file=dot_data, feature_names=ohe.get_feature_names(),\n",
        "                filled=True, rounded=True,\n",
        "                special_characters=True)\n",
        "graph = pydotplus.graph_from_dot_data(dot_data.getvalue())  \n",
        "Image(graph.create_png())"
      ],
      "execution_count": 21,
      "outputs": [
        {
          "output_type": "execute_result",
          "data": {
            "image/png": "[encoded data removed]",
            "text/plain": [
              "<IPython.core.display.Image object>"
            ]
          },
          "metadata": {
            "tags": []
          },
          "execution_count": 21
        }
      ]
    },
    {
      "cell_type": "code",
      "metadata": {
        "ExecuteTime": {
          "end_time": "2020-11-14T15:48:27.549662Z",
          "start_time": "2020-11-14T15:48:27.543026Z"
        },
        "colab": {
          "base_uri": "https://localhost:8080/"
        },
        "id": "k8qqYvUDnMg6",
        "outputId": "87aca9c6-dbf9-4705-95d0-c8b1eb11161c"
      },
      "source": [
        "tree.classes_"
      ],
      "execution_count": 22,
      "outputs": [
        {
          "output_type": "execute_result",
          "data": {
            "text/plain": [
              "array(['negative', 'positive'], dtype=object)"
            ]
          },
          "metadata": {
            "tags": []
          },
          "execution_count": 22
        }
      ]
    },
    {
      "cell_type": "code",
      "metadata": {
        "ExecuteTime": {
          "end_time": "2020-11-14T15:49:07.309440Z",
          "start_time": "2020-11-14T15:49:07.299155Z"
        },
        "colab": {
          "base_uri": "https://localhost:8080/"
        },
        "id": "zWfxjF2lnMg7",
        "outputId": "ffe1a8a5-f847-4c49-b127-a14509aebb66"
      },
      "source": [
        "print(tree_to_code(feature_names=ohe.get_feature_names(), tree=tree))"
      ],
      "execution_count": 23,
      "outputs": [
        {
          "output_type": "stream",
          "text": [
            "def tree(x0_b,x0_o,x0_x,x1_b,x1_o,x1_x,x2_b,x2_o,x2_x,x3_b,x3_o,x3_x,x4_b,x4_o,x4_x,x5_b,x5_o,x5_x,x6_b,x6_o,x6_x,x7_b,x7_o,x7_x,x8_b,x8_o,x8_x):\n",
            "  if x4_o <= 0.5:\n",
            "    if x0_o <= 0.5:\n",
            "      if x8_o <= 0.5:\n",
            "        return [[  0. 155.]]\n",
            "      else:  # if x8_o > 0.5\n",
            "        return [[40. 78.]]\n",
            "    else:  # if x0_o > 0.5\n",
            "      if x6_o <= 0.5:\n",
            "        return [[22. 78.]]\n",
            "      else:  # if x6_o > 0.5\n",
            "        return [[28. 27.]]\n",
            "  else:  # if x4_o > 0.5\n",
            "    if x2_o <= 0.5:\n",
            "      if x0_o <= 0.5:\n",
            "        return [[38. 64.]]\n",
            "      else:  # if x0_o > 0.5\n",
            "        return [[41. 18.]]\n",
            "    else:  # if x2_o > 0.5\n",
            "      if x6_x <= 0.5:\n",
            "        return [[45.  0.]]\n",
            "      else:  # if x6_x > 0.5\n",
            "        return [[14. 22.]]\n",
            "None\n"
          ],
          "name": "stdout"
        }
      ]
    },
    {
      "cell_type": "markdown",
      "metadata": {
        "id": "TU8CQ8UanMg8"
      },
      "source": [
        "### Cross validation"
      ]
    },
    {
      "cell_type": "code",
      "metadata": {
        "ExecuteTime": {
          "end_time": "2020-11-14T15:49:52.196677Z",
          "start_time": "2020-11-14T15:49:50.640723Z"
        },
        "colab": {
          "base_uri": "https://localhost:8080/"
        },
        "id": "dMTXZh_ZnMg9",
        "outputId": "95859863-fbc4-49a5-eede-2f5b89de3a5f"
      },
      "source": [
        "classification_metrics(X=X_train, y=y_train, estimator=pipe)"
      ],
      "execution_count": 24,
      "outputs": [
        {
          "output_type": "stream",
          "text": [
            "ROC media: 0.79, desviación estándar: 0.034494268686163634\n"
          ],
          "name": "stdout"
        }
      ]
    },
    {
      "cell_type": "code",
      "metadata": {
        "ExecuteTime": {
          "end_time": "2020-11-14T15:49:57.651221Z",
          "start_time": "2020-11-14T15:49:57.640763Z"
        },
        "colab": {
          "base_uri": "https://localhost:8080/"
        },
        "id": "JfkaRKGQnMg_",
        "outputId": "9c8c4b73-a748-4c48-d9e5-32f4ebe7cedd"
      },
      "source": [
        "pipe.score(X_test, y_test)"
      ],
      "execution_count": 25,
      "outputs": [
        {
          "output_type": "execute_result",
          "data": {
            "text/plain": [
              "0.7048611111111112"
            ]
          },
          "metadata": {
            "tags": []
          },
          "execution_count": 25
        }
      ]
    },
    {
      "cell_type": "markdown",
      "metadata": {
        "id": "7RYCDFh4nMhA"
      },
      "source": [
        "### Hyperparametrización"
      ]
    },
    {
      "cell_type": "code",
      "metadata": {
        "ExecuteTime": {
          "end_time": "2020-11-14T15:50:06.161515Z",
          "start_time": "2020-11-14T15:50:06.156910Z"
        },
        "colab": {
          "base_uri": "https://localhost:8080/"
        },
        "id": "Qd73r0GnnMhA",
        "outputId": "c98c8d69-6b94-4ba7-d6fe-d70e43d9e757"
      },
      "source": [
        "tree.get_params()"
      ],
      "execution_count": 27,
      "outputs": [
        {
          "output_type": "execute_result",
          "data": {
            "text/plain": [
              "{'ccp_alpha': 0.0,\n",
              " 'class_weight': None,\n",
              " 'criterion': 'gini',\n",
              " 'max_depth': 3,\n",
              " 'max_features': None,\n",
              " 'max_leaf_nodes': None,\n",
              " 'min_impurity_decrease': 0.0,\n",
              " 'min_impurity_split': None,\n",
              " 'min_samples_leaf': 1,\n",
              " 'min_samples_split': 2,\n",
              " 'min_weight_fraction_leaf': 0.0,\n",
              " 'presort': 'deprecated',\n",
              " 'random_state': None,\n",
              " 'splitter': 'best'}"
            ]
          },
          "metadata": {
            "tags": []
          },
          "execution_count": 27
        }
      ]
    },
    {
      "cell_type": "code",
      "metadata": {
        "ExecuteTime": {
          "end_time": "2020-11-14T15:50:06.359102Z",
          "start_time": "2020-11-14T15:50:06.353378Z"
        },
        "id": "cjFlOZDEnMhC"
      },
      "source": [
        "param_dist = {\"tree__max_depth\": range(1, 5),\n",
        "              \"tree__max_features\": [\"auto\", \"sqrt\", \"log2\"],\n",
        "              \"tree__min_samples_leaf\": [x/100 for x in range(5, 51, 1)] + [x for x in range(1, 21)], \n",
        "              \"tree__criterion\": [\"gini\", \"entropy\"],\n",
        "              \"tree__splitter\": [\"best\", \"random\"],\n",
        "              \"tree__class_weight\": [\"balanced\", None]}"
      ],
      "execution_count": 28,
      "outputs": []
    },
    {
      "cell_type": "code",
      "metadata": {
        "ExecuteTime": {
          "end_time": "2020-11-14T15:50:06.556896Z",
          "start_time": "2020-11-14T15:50:06.551022Z"
        },
        "id": "FI8zYpx1nMhD"
      },
      "source": [
        "search = GridSearchCV(param_grid=param_dist, cv=4, n_jobs=-1, scoring=\"roc_auc\", estimator=pipe, verbose=5,)"
      ],
      "execution_count": 29,
      "outputs": []
    },
    {
      "cell_type": "code",
      "metadata": {
        "ExecuteTime": {
          "end_time": "2020-11-14T15:51:45.326417Z",
          "start_time": "2020-11-14T15:50:06.913506Z"
        },
        "id": "7psjEOeHnMhD",
        "outputId": "06456b81-1e53-478a-ba75-09d7c091e0ac"
      },
      "source": [
        "search.fit(X_train, y_train)"
      ],
      "execution_count": null,
      "outputs": [
        {
          "output_type": "stream",
          "text": [
            "Fitting 4 folds for each of 6336 candidates, totalling 25344 fits\n"
          ],
          "name": "stdout"
        },
        {
          "output_type": "stream",
          "text": [
            "[Parallel(n_jobs=-1)]: Using backend LokyBackend with 8 concurrent workers.\n",
            "[Parallel(n_jobs=-1)]: Done   2 tasks      | elapsed:    0.1s\n",
            "[Parallel(n_jobs=-1)]: Done 176 tasks      | elapsed:    1.2s\n",
            "[Parallel(n_jobs=-1)]: Done 896 tasks      | elapsed:    3.8s\n",
            "[Parallel(n_jobs=-1)]: Done 1904 tasks      | elapsed:    7.6s\n",
            "[Parallel(n_jobs=-1)]: Done 3200 tasks      | elapsed:   12.3s\n",
            "[Parallel(n_jobs=-1)]: Done 4784 tasks      | elapsed:   18.1s\n",
            "[Parallel(n_jobs=-1)]: Done 6656 tasks      | elapsed:   25.9s\n",
            "[Parallel(n_jobs=-1)]: Done 8816 tasks      | elapsed:   34.7s\n",
            "[Parallel(n_jobs=-1)]: Done 11264 tasks      | elapsed:   44.8s\n",
            "[Parallel(n_jobs=-1)]: Done 14000 tasks      | elapsed:   55.3s\n",
            "[Parallel(n_jobs=-1)]: Done 17024 tasks      | elapsed:  1.1min\n",
            "[Parallel(n_jobs=-1)]: Done 20336 tasks      | elapsed:  1.3min\n",
            "[Parallel(n_jobs=-1)]: Done 23936 tasks      | elapsed:  1.5min\n",
            "[Parallel(n_jobs=-1)]: Done 25344 out of 25344 | elapsed:  1.6min finished\n"
          ],
          "name": "stderr"
        },
        {
          "output_type": "execute_result",
          "data": {
            "text/plain": [
              "GridSearchCV(cv=4, error_score=nan,\n",
              "             estimator=Pipeline(memory=None,\n",
              "                                steps=[('encoder',\n",
              "                                        OneHotEncoder(categories='auto',\n",
              "                                                      drop=None,\n",
              "                                                      dtype=<class 'numpy.float64'>,\n",
              "                                                      handle_unknown='error',\n",
              "                                                      sparse=False)),\n",
              "                                       ('tree',\n",
              "                                        DecisionTreeClassifier(ccp_alpha=0.0,\n",
              "                                                               class_weight=None,\n",
              "                                                               criterion='gini',\n",
              "                                                               max_depth=3,\n",
              "                                                               max_features=None,\n",
              "                                                               max_leaf_nodes=None,\n",
              "                                                               min_impurity_decrease=0.0,\n",
              "                                                               mi...\n",
              "                         'tree__max_depth': range(1, 5),\n",
              "                         'tree__max_features': ['auto', 'sqrt', 'log2'],\n",
              "                         'tree__min_samples_leaf': [0.05, 0.06, 0.07, 0.08,\n",
              "                                                    0.09, 0.1, 0.11, 0.12, 0.13,\n",
              "                                                    0.14, 0.15, 0.16, 0.17,\n",
              "                                                    0.18, 0.19, 0.2, 0.21, 0.22,\n",
              "                                                    0.23, 0.24, 0.25, 0.26,\n",
              "                                                    0.27, 0.28, 0.29, 0.3, 0.31,\n",
              "                                                    0.32, 0.33, 0.34, ...],\n",
              "                         'tree__splitter': ['best', 'random']},\n",
              "             pre_dispatch='2*n_jobs', refit=True, return_train_score=False,\n",
              "             scoring='roc_auc', verbose=5)"
            ]
          },
          "metadata": {
            "tags": []
          },
          "execution_count": 30
        }
      ]
    },
    {
      "cell_type": "code",
      "metadata": {
        "ExecuteTime": {
          "end_time": "2020-11-14T15:51:45.334417Z",
          "start_time": "2020-11-14T15:51:45.328112Z"
        },
        "id": "SFmgM_0AnMhF",
        "outputId": "9225bd48-108b-4288-8ef0-0c9597ac8a3d"
      },
      "source": [
        "search.best_estimator_"
      ],
      "execution_count": null,
      "outputs": [
        {
          "output_type": "execute_result",
          "data": {
            "text/plain": [
              "Pipeline(memory=None,\n",
              "         steps=[('encoder',\n",
              "                 OneHotEncoder(categories='auto', drop=None,\n",
              "                               dtype=<class 'numpy.float64'>,\n",
              "                               handle_unknown='error', sparse=False)),\n",
              "                ('tree',\n",
              "                 DecisionTreeClassifier(ccp_alpha=0.0, class_weight='balanced',\n",
              "                                        criterion='entropy', max_depth=4,\n",
              "                                        max_features='sqrt',\n",
              "                                        max_leaf_nodes=None,\n",
              "                                        min_impurity_decrease=0.0,\n",
              "                                        min_impurity_split=None,\n",
              "                                        min_samples_leaf=7, min_samples_split=2,\n",
              "                                        min_weight_fraction_leaf=0.0,\n",
              "                                        presort='deprecated', random_state=None,\n",
              "                                        splitter='best'))],\n",
              "         verbose=False)"
            ]
          },
          "metadata": {
            "tags": []
          },
          "execution_count": 31
        }
      ]
    },
    {
      "cell_type": "code",
      "metadata": {
        "ExecuteTime": {
          "end_time": "2020-11-14T15:51:46.684405Z",
          "start_time": "2020-11-14T15:51:45.336132Z"
        },
        "id": "mewol3zjnMhG",
        "outputId": "242d2b71-b722-4841-f615-1ca10445655b"
      },
      "source": [
        "search.score(X_test, y_test)"
      ],
      "execution_count": null,
      "outputs": [
        {
          "output_type": "execute_result",
          "data": {
            "text/plain": [
              "0.8196658295320589"
            ]
          },
          "metadata": {
            "tags": []
          },
          "execution_count": 32
        }
      ]
    },
    {
      "cell_type": "code",
      "metadata": {
        "ExecuteTime": {
          "end_time": "2020-11-14T15:51:47.561703Z",
          "start_time": "2020-11-14T15:51:46.688414Z"
        },
        "id": "R0SEwTQpnMhH",
        "outputId": "28f159da-86ac-45a2-8b7b-e54ef2f4698b"
      },
      "source": [
        "search.best_score_"
      ],
      "execution_count": null,
      "outputs": [
        {
          "output_type": "execute_result",
          "data": {
            "text/plain": [
              "0.804278378273914"
            ]
          },
          "metadata": {
            "tags": []
          },
          "execution_count": 33
        }
      ]
    },
    {
      "cell_type": "markdown",
      "metadata": {
        "id": "hPejWWbMnMhI"
      },
      "source": [
        "### Preservación de modelo"
      ]
    },
    {
      "cell_type": "code",
      "metadata": {
        "ExecuteTime": {
          "end_time": "2020-11-14T15:53:05.422439Z",
          "start_time": "2020-11-14T15:53:04.714931Z"
        },
        "id": "MuFTwDaFnMhJ"
      },
      "source": [
        "pd.to_pickle(pipe, \"/home/oscar/Documentos/Oscar/Diplomado/Generación 3/Módulo 2/tic_tac_toe/home/dt_tictactoe.pickle\")"
      ],
      "execution_count": null,
      "outputs": []
    },
    {
      "cell_type": "code",
      "metadata": {
        "ExecuteTime": {
          "end_time": "2020-11-14T15:53:15.271463Z",
          "start_time": "2020-11-14T15:53:15.255295Z"
        },
        "id": "GgYZlyvHnMhK"
      },
      "source": [
        "X[\"proba\"] = pipe.predict_proba(X)[:, 0]"
      ],
      "execution_count": null,
      "outputs": []
    },
    {
      "cell_type": "code",
      "metadata": {
        "ExecuteTime": {
          "end_time": "2020-11-14T16:12:34.483478Z",
          "start_time": "2020-11-14T16:12:34.470934Z"
        },
        "id": "5-JGvtpAnMhL",
        "outputId": "23e051d6-5a0c-4193-f6f1-73aaefc882dd"
      },
      "source": [
        "pd.DataFrame(zip(ohe.get_feature_names(X_train.columns), tree.feature_importances_)).sort_values(by=1)"
      ],
      "execution_count": null,
      "outputs": [
        {
          "output_type": "execute_result",
          "data": {
            "text/html": [
              "<div>\n",
              "<style scoped>\n",
              "    .dataframe tbody tr th:only-of-type {\n",
              "        vertical-align: middle;\n",
              "    }\n",
              "\n",
              "    .dataframe tbody tr th {\n",
              "        vertical-align: top;\n",
              "    }\n",
              "\n",
              "    .dataframe thead th {\n",
              "        text-align: right;\n",
              "    }\n",
              "</style>\n",
              "<table border=\"1\" class=\"dataframe\">\n",
              "  <thead>\n",
              "    <tr style=\"text-align: right;\">\n",
              "      <th></th>\n",
              "      <th>0</th>\n",
              "      <th>1</th>\n",
              "    </tr>\n",
              "  </thead>\n",
              "  <tbody>\n",
              "    <tr>\n",
              "      <th>0</th>\n",
              "      <td>V1_b</td>\n",
              "      <td>0.000000</td>\n",
              "    </tr>\n",
              "    <tr>\n",
              "      <th>18</th>\n",
              "      <td>V7_b</td>\n",
              "      <td>0.000000</td>\n",
              "    </tr>\n",
              "    <tr>\n",
              "      <th>17</th>\n",
              "      <td>V6_x</td>\n",
              "      <td>0.000000</td>\n",
              "    </tr>\n",
              "    <tr>\n",
              "      <th>16</th>\n",
              "      <td>V6_o</td>\n",
              "      <td>0.000000</td>\n",
              "    </tr>\n",
              "    <tr>\n",
              "      <th>15</th>\n",
              "      <td>V6_b</td>\n",
              "      <td>0.000000</td>\n",
              "    </tr>\n",
              "    <tr>\n",
              "      <th>14</th>\n",
              "      <td>V5_x</td>\n",
              "      <td>0.000000</td>\n",
              "    </tr>\n",
              "    <tr>\n",
              "      <th>25</th>\n",
              "      <td>V9_o</td>\n",
              "      <td>0.000000</td>\n",
              "    </tr>\n",
              "    <tr>\n",
              "      <th>12</th>\n",
              "      <td>V5_b</td>\n",
              "      <td>0.000000</td>\n",
              "    </tr>\n",
              "    <tr>\n",
              "      <th>11</th>\n",
              "      <td>V4_x</td>\n",
              "      <td>0.000000</td>\n",
              "    </tr>\n",
              "    <tr>\n",
              "      <th>22</th>\n",
              "      <td>V8_o</td>\n",
              "      <td>0.000000</td>\n",
              "    </tr>\n",
              "    <tr>\n",
              "      <th>10</th>\n",
              "      <td>V4_o</td>\n",
              "      <td>0.000000</td>\n",
              "    </tr>\n",
              "    <tr>\n",
              "      <th>23</th>\n",
              "      <td>V8_x</td>\n",
              "      <td>0.000000</td>\n",
              "    </tr>\n",
              "    <tr>\n",
              "      <th>6</th>\n",
              "      <td>V3_b</td>\n",
              "      <td>0.000000</td>\n",
              "    </tr>\n",
              "    <tr>\n",
              "      <th>5</th>\n",
              "      <td>V2_x</td>\n",
              "      <td>0.000000</td>\n",
              "    </tr>\n",
              "    <tr>\n",
              "      <th>4</th>\n",
              "      <td>V2_o</td>\n",
              "      <td>0.000000</td>\n",
              "    </tr>\n",
              "    <tr>\n",
              "      <th>3</th>\n",
              "      <td>V2_b</td>\n",
              "      <td>0.000000</td>\n",
              "    </tr>\n",
              "    <tr>\n",
              "      <th>2</th>\n",
              "      <td>V1_x</td>\n",
              "      <td>0.000000</td>\n",
              "    </tr>\n",
              "    <tr>\n",
              "      <th>24</th>\n",
              "      <td>V9_b</td>\n",
              "      <td>0.000000</td>\n",
              "    </tr>\n",
              "    <tr>\n",
              "      <th>9</th>\n",
              "      <td>V4_b</td>\n",
              "      <td>0.000000</td>\n",
              "    </tr>\n",
              "    <tr>\n",
              "      <th>21</th>\n",
              "      <td>V8_b</td>\n",
              "      <td>0.000000</td>\n",
              "    </tr>\n",
              "    <tr>\n",
              "      <th>8</th>\n",
              "      <td>V3_x</td>\n",
              "      <td>0.055039</td>\n",
              "    </tr>\n",
              "    <tr>\n",
              "      <th>26</th>\n",
              "      <td>V9_x</td>\n",
              "      <td>0.062266</td>\n",
              "    </tr>\n",
              "    <tr>\n",
              "      <th>19</th>\n",
              "      <td>V7_o</td>\n",
              "      <td>0.076176</td>\n",
              "    </tr>\n",
              "    <tr>\n",
              "      <th>1</th>\n",
              "      <td>V1_o</td>\n",
              "      <td>0.081232</td>\n",
              "    </tr>\n",
              "    <tr>\n",
              "      <th>7</th>\n",
              "      <td>V3_o</td>\n",
              "      <td>0.167201</td>\n",
              "    </tr>\n",
              "    <tr>\n",
              "      <th>20</th>\n",
              "      <td>V7_x</td>\n",
              "      <td>0.236307</td>\n",
              "    </tr>\n",
              "    <tr>\n",
              "      <th>13</th>\n",
              "      <td>V5_o</td>\n",
              "      <td>0.321779</td>\n",
              "    </tr>\n",
              "  </tbody>\n",
              "</table>\n",
              "</div>"
            ],
            "text/plain": [
              "       0         1\n",
              "0   V1_b  0.000000\n",
              "18  V7_b  0.000000\n",
              "17  V6_x  0.000000\n",
              "16  V6_o  0.000000\n",
              "15  V6_b  0.000000\n",
              "14  V5_x  0.000000\n",
              "25  V9_o  0.000000\n",
              "12  V5_b  0.000000\n",
              "11  V4_x  0.000000\n",
              "22  V8_o  0.000000\n",
              "10  V4_o  0.000000\n",
              "23  V8_x  0.000000\n",
              "6   V3_b  0.000000\n",
              "5   V2_x  0.000000\n",
              "4   V2_o  0.000000\n",
              "3   V2_b  0.000000\n",
              "2   V1_x  0.000000\n",
              "24  V9_b  0.000000\n",
              "9   V4_b  0.000000\n",
              "21  V8_b  0.000000\n",
              "8   V3_x  0.055039\n",
              "26  V9_x  0.062266\n",
              "19  V7_o  0.076176\n",
              "1   V1_o  0.081232\n",
              "7   V3_o  0.167201\n",
              "20  V7_x  0.236307\n",
              "13  V5_o  0.321779"
            ]
          },
          "metadata": {
            "tags": []
          },
          "execution_count": 40
        }
      ]
    },
    {
      "cell_type": "code",
      "metadata": {
        "ExecuteTime": {
          "end_time": "2020-11-14T15:53:19.538905Z",
          "start_time": "2020-11-14T15:53:19.503084Z"
        },
        "id": "7H6E3KFDnMhM",
        "outputId": "af3e561e-0415-4ede-cb07-35d045acc8d0"
      },
      "source": [
        "X"
      ],
      "execution_count": null,
      "outputs": [
        {
          "output_type": "execute_result",
          "data": {
            "text/html": [
              "<div>\n",
              "<style scoped>\n",
              "    .dataframe tbody tr th:only-of-type {\n",
              "        vertical-align: middle;\n",
              "    }\n",
              "\n",
              "    .dataframe tbody tr th {\n",
              "        vertical-align: top;\n",
              "    }\n",
              "\n",
              "    .dataframe thead th {\n",
              "        text-align: right;\n",
              "    }\n",
              "</style>\n",
              "<table border=\"1\" class=\"dataframe\">\n",
              "  <thead>\n",
              "    <tr style=\"text-align: right;\">\n",
              "      <th></th>\n",
              "      <th>V1</th>\n",
              "      <th>V2</th>\n",
              "      <th>V3</th>\n",
              "      <th>V4</th>\n",
              "      <th>V5</th>\n",
              "      <th>V6</th>\n",
              "      <th>V7</th>\n",
              "      <th>V8</th>\n",
              "      <th>V9</th>\n",
              "      <th>proba</th>\n",
              "    </tr>\n",
              "  </thead>\n",
              "  <tbody>\n",
              "    <tr>\n",
              "      <th>0</th>\n",
              "      <td>x</td>\n",
              "      <td>x</td>\n",
              "      <td>x</td>\n",
              "      <td>x</td>\n",
              "      <td>o</td>\n",
              "      <td>o</td>\n",
              "      <td>x</td>\n",
              "      <td>o</td>\n",
              "      <td>o</td>\n",
              "      <td>0.569231</td>\n",
              "    </tr>\n",
              "    <tr>\n",
              "      <th>1</th>\n",
              "      <td>x</td>\n",
              "      <td>x</td>\n",
              "      <td>x</td>\n",
              "      <td>x</td>\n",
              "      <td>o</td>\n",
              "      <td>o</td>\n",
              "      <td>o</td>\n",
              "      <td>x</td>\n",
              "      <td>o</td>\n",
              "      <td>0.569231</td>\n",
              "    </tr>\n",
              "    <tr>\n",
              "      <th>2</th>\n",
              "      <td>x</td>\n",
              "      <td>x</td>\n",
              "      <td>x</td>\n",
              "      <td>x</td>\n",
              "      <td>o</td>\n",
              "      <td>o</td>\n",
              "      <td>o</td>\n",
              "      <td>o</td>\n",
              "      <td>x</td>\n",
              "      <td>0.259259</td>\n",
              "    </tr>\n",
              "    <tr>\n",
              "      <th>3</th>\n",
              "      <td>x</td>\n",
              "      <td>x</td>\n",
              "      <td>x</td>\n",
              "      <td>x</td>\n",
              "      <td>o</td>\n",
              "      <td>o</td>\n",
              "      <td>o</td>\n",
              "      <td>b</td>\n",
              "      <td>b</td>\n",
              "      <td>0.569231</td>\n",
              "    </tr>\n",
              "    <tr>\n",
              "      <th>4</th>\n",
              "      <td>x</td>\n",
              "      <td>x</td>\n",
              "      <td>x</td>\n",
              "      <td>x</td>\n",
              "      <td>o</td>\n",
              "      <td>o</td>\n",
              "      <td>b</td>\n",
              "      <td>o</td>\n",
              "      <td>b</td>\n",
              "      <td>0.569231</td>\n",
              "    </tr>\n",
              "    <tr>\n",
              "      <th>...</th>\n",
              "      <td>...</td>\n",
              "      <td>...</td>\n",
              "      <td>...</td>\n",
              "      <td>...</td>\n",
              "      <td>...</td>\n",
              "      <td>...</td>\n",
              "      <td>...</td>\n",
              "      <td>...</td>\n",
              "      <td>...</td>\n",
              "      <td>...</td>\n",
              "    </tr>\n",
              "    <tr>\n",
              "      <th>953</th>\n",
              "      <td>o</td>\n",
              "      <td>x</td>\n",
              "      <td>x</td>\n",
              "      <td>x</td>\n",
              "      <td>o</td>\n",
              "      <td>o</td>\n",
              "      <td>o</td>\n",
              "      <td>x</td>\n",
              "      <td>x</td>\n",
              "      <td>0.259259</td>\n",
              "    </tr>\n",
              "    <tr>\n",
              "      <th>954</th>\n",
              "      <td>o</td>\n",
              "      <td>x</td>\n",
              "      <td>o</td>\n",
              "      <td>x</td>\n",
              "      <td>x</td>\n",
              "      <td>o</td>\n",
              "      <td>x</td>\n",
              "      <td>o</td>\n",
              "      <td>x</td>\n",
              "      <td>0.345133</td>\n",
              "    </tr>\n",
              "    <tr>\n",
              "      <th>955</th>\n",
              "      <td>o</td>\n",
              "      <td>x</td>\n",
              "      <td>o</td>\n",
              "      <td>x</td>\n",
              "      <td>o</td>\n",
              "      <td>x</td>\n",
              "      <td>x</td>\n",
              "      <td>o</td>\n",
              "      <td>x</td>\n",
              "      <td>0.388889</td>\n",
              "    </tr>\n",
              "    <tr>\n",
              "      <th>956</th>\n",
              "      <td>o</td>\n",
              "      <td>x</td>\n",
              "      <td>o</td>\n",
              "      <td>o</td>\n",
              "      <td>x</td>\n",
              "      <td>x</td>\n",
              "      <td>x</td>\n",
              "      <td>o</td>\n",
              "      <td>x</td>\n",
              "      <td>0.345133</td>\n",
              "    </tr>\n",
              "    <tr>\n",
              "      <th>957</th>\n",
              "      <td>o</td>\n",
              "      <td>o</td>\n",
              "      <td>x</td>\n",
              "      <td>x</td>\n",
              "      <td>x</td>\n",
              "      <td>o</td>\n",
              "      <td>o</td>\n",
              "      <td>x</td>\n",
              "      <td>x</td>\n",
              "      <td>0.533333</td>\n",
              "    </tr>\n",
              "  </tbody>\n",
              "</table>\n",
              "<p>958 rows × 10 columns</p>\n",
              "</div>"
            ],
            "text/plain": [
              "    V1 V2 V3 V4 V5 V6 V7 V8 V9     proba\n",
              "0    x  x  x  x  o  o  x  o  o  0.569231\n",
              "1    x  x  x  x  o  o  o  x  o  0.569231\n",
              "2    x  x  x  x  o  o  o  o  x  0.259259\n",
              "3    x  x  x  x  o  o  o  b  b  0.569231\n",
              "4    x  x  x  x  o  o  b  o  b  0.569231\n",
              "..  .. .. .. .. .. .. .. .. ..       ...\n",
              "953  o  x  x  x  o  o  o  x  x  0.259259\n",
              "954  o  x  o  x  x  o  x  o  x  0.345133\n",
              "955  o  x  o  x  o  x  x  o  x  0.388889\n",
              "956  o  x  o  o  x  x  x  o  x  0.345133\n",
              "957  o  o  x  x  x  o  o  x  x  0.533333\n",
              "\n",
              "[958 rows x 10 columns]"
            ]
          },
          "metadata": {
            "tags": []
          },
          "execution_count": 36
        }
      ]
    },
    {
      "cell_type": "code",
      "metadata": {
        "ExecuteTime": {
          "end_time": "2020-07-04T17:18:10.915640Z",
          "start_time": "2020-07-04T17:18:10.903412Z"
        },
        "id": "4VyvMMVOnMhN"
      },
      "source": [
        "ohe"
      ],
      "execution_count": null,
      "outputs": []
    },
    {
      "cell_type": "code",
      "metadata": {
        "ExecuteTime": {
          "end_time": "2020-07-04T17:18:20.066210Z",
          "start_time": "2020-07-04T17:18:20.057691Z"
        },
        "id": "Xdq4YOCTnMhO"
      },
      "source": [
        "ohe?"
      ],
      "execution_count": null,
      "outputs": []
    },
    {
      "cell_type": "code",
      "metadata": {
        "ExecuteTime": {
          "end_time": "2020-07-04T15:11:54.998818Z",
          "start_time": "2020-07-04T15:11:54.838104Z"
        },
        "id": "0Y-y-CCknMhP"
      },
      "source": [
        "X.to_csv(\"/home/oscar/Documentos/Oscar/Diplomado/Generación 3/Módulo 2/tic_tac_toe/home/tree_data.csv\")"
      ],
      "execution_count": null,
      "outputs": []
    },
    {
      "cell_type": "code",
      "metadata": {
        "id": "GjsAEn3nnMhQ"
      },
      "source": [
        ""
      ],
      "execution_count": null,
      "outputs": []
    }
  ]
}