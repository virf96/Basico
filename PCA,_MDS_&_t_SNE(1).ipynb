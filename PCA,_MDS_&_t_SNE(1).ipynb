{
  "nbformat": 4,
  "nbformat_minor": 0,
  "metadata": {
    "kernelspec": {
      "display_name": "Python 3.7",
      "language": "python",
      "name": "python3"
    },
    "language_info": {
      "codemirror_mode": {
        "name": "ipython",
        "version": 3
      },
      "file_extension": ".py",
      "mimetype": "text/x-python",
      "name": "python",
      "nbconvert_exporter": "python",
      "pygments_lexer": "ipython3",
      "version": "3.7.10"
    },
    "colab": {
      "name": "PCA, MDS & t-SNE(1).ipynb",
      "provenance": [],
      "toc_visible": true,
      "include_colab_link": true
    }
  },
  "cells": [
    {
      "cell_type": "markdown",
      "metadata": {
        "id": "view-in-github",
        "colab_type": "text"
      },
      "source": [
        "<a href=\"https://colab.research.google.com/github/virf96/Basico/blob/main/PCA%2C_MDS_%26_t_SNE(1).ipynb\" target=\"_parent\"><img src=\"https://colab.research.google.com/assets/colab-badge.svg\" alt=\"Open In Colab\"/></a>"
      ]
    },
    {
      "cell_type": "markdown",
      "metadata": {
        "id": "bA0TI7lALA9F"
      },
      "source": [
        "# PCA, MDS & t-SNE"
      ]
    },
    {
      "cell_type": "markdown",
      "metadata": {
        "id": "ZAAawRcALA9S"
      },
      "source": [
        "## Preparación de ambiente"
      ]
    },
    {
      "cell_type": "markdown",
      "metadata": {
        "id": "8SZMKhMeLA9T"
      },
      "source": [
        "### Carga de módulos"
      ]
    },
    {
      "cell_type": "code",
      "metadata": {
        "ExecuteTime": {
          "end_time": "2021-03-12T02:18:23.868967Z",
          "start_time": "2021-03-12T02:18:15.597713Z"
        },
        "id": "aqPUD_gzLA9U"
      },
      "source": [
        "import numpy as np\n",
        "import pandas as pd\n",
        "import seaborn as sns\n",
        "import matplotlib.pyplot as plt\n",
        "from sklearn.decomposition import PCA\n",
        "from sklearn.manifold import MDS, TSNE\n",
        "from sklearn.preprocessing import StandardScaler\n",
        "\n",
        "%matplotlib inline"
      ],
      "execution_count": null,
      "outputs": []
    },
    {
      "cell_type": "markdown",
      "metadata": {
        "id": "Phi9kf4oLA9V"
      },
      "source": [
        "## Conjunto de datos"
      ]
    },
    {
      "cell_type": "markdown",
      "metadata": {
        "id": "DIHKcNUrLA9W"
      },
      "source": [
        "### Lectura de datos"
      ]
    },
    {
      "cell_type": "code",
      "metadata": {
        "id": "ukHlPnltORIT"
      },
      "source": [
        "from google.colab import drive\n",
        "drive.mount('/content/drive')"
      ],
      "execution_count": null,
      "outputs": []
    },
    {
      "cell_type": "code",
      "metadata": {
        "ExecuteTime": {
          "end_time": "2021-03-12T02:18:28.279734Z",
          "start_time": "2021-03-12T02:18:23.878175Z"
        },
        "id": "7YHkHInMLA9X"
      },
      "source": [
        "df = pd.read_excel('Consumo Gasolina Autos Ene 2018.xlsx')"
      ],
      "execution_count": null,
      "outputs": []
    },
    {
      "cell_type": "code",
      "metadata": {
        "ExecuteTime": {
          "end_time": "2021-03-12T02:18:28.412280Z",
          "start_time": "2021-03-12T02:18:28.282446Z"
        },
        "id": "aZ2a7NOvLA9X",
        "outputId": "894afef8-58d9-4640-82eb-9b78d8241ca4"
      },
      "source": [
        "df"
      ],
      "execution_count": null,
      "outputs": [
        {
          "output_type": "execute_result",
          "data": {
            "text/html": [
              "<div>\n",
              "<style scoped>\n",
              "    .dataframe tbody tr th:only-of-type {\n",
              "        vertical-align: middle;\n",
              "    }\n",
              "\n",
              "    .dataframe tbody tr th {\n",
              "        vertical-align: top;\n",
              "    }\n",
              "\n",
              "    .dataframe thead th {\n",
              "        text-align: right;\n",
              "    }\n",
              "</style>\n",
              "<table border=\"1\" class=\"dataframe\">\n",
              "  <thead>\n",
              "    <tr style=\"text-align: right;\">\n",
              "      <th></th>\n",
              "      <th>Marca</th>\n",
              "      <th>Submarca</th>\n",
              "      <th>Versión</th>\n",
              "      <th>Modelo</th>\n",
              "      <th>Trans.</th>\n",
              "      <th>Comb.</th>\n",
              "      <th>Cilindros</th>\n",
              "      <th>Potencia (HP)</th>\n",
              "      <th>Tamaño (L)</th>\n",
              "      <th>Categoría</th>\n",
              "      <th>R. Ciudad (km/l)</th>\n",
              "      <th>R. Carr. (km/l)</th>\n",
              "      <th>R. Comb. (km/l)</th>\n",
              "      <th>R. Ajust. (km/l)</th>\n",
              "      <th>CO2(g/km)</th>\n",
              "      <th>NOx (g/1000km)</th>\n",
              "      <th>Calificación Gas Ef. Inv.</th>\n",
              "      <th>Calificación Contam. Aire</th>\n",
              "    </tr>\n",
              "  </thead>\n",
              "  <tbody>\n",
              "    <tr>\n",
              "      <th>0</th>\n",
              "      <td>FORD</td>\n",
              "      <td>FUSION</td>\n",
              "      <td>HIBRIDO 4PTS 2.0L 4CIL 188HP AUT (CVT)</td>\n",
              "      <td>2015</td>\n",
              "      <td>CVT</td>\n",
              "      <td>Gasolina</td>\n",
              "      <td>4</td>\n",
              "      <td>188</td>\n",
              "      <td>2.00</td>\n",
              "      <td>AUTOS COMPACTOS</td>\n",
              "      <td>27.44</td>\n",
              "      <td>28.57</td>\n",
              "      <td>28.93</td>\n",
              "      <td>21.70</td>\n",
              "      <td>107</td>\n",
              "      <td>5</td>\n",
              "      <td>10</td>\n",
              "      <td>9</td>\n",
              "    </tr>\n",
              "    <tr>\n",
              "      <th>1</th>\n",
              "      <td>FORD</td>\n",
              "      <td>FUSION</td>\n",
              "      <td>HIBRIDO 4PTS 2.0L 4CIL 188HP AUT (eCVT)</td>\n",
              "      <td>2016</td>\n",
              "      <td>CVT</td>\n",
              "      <td>Gasolina</td>\n",
              "      <td>4</td>\n",
              "      <td>188</td>\n",
              "      <td>2.00</td>\n",
              "      <td>AUTOS COMPACTOS</td>\n",
              "      <td>27.44</td>\n",
              "      <td>28.57</td>\n",
              "      <td>28.93</td>\n",
              "      <td>21.70</td>\n",
              "      <td>107</td>\n",
              "      <td>0</td>\n",
              "      <td>10</td>\n",
              "      <td>9</td>\n",
              "    </tr>\n",
              "    <tr>\n",
              "      <th>2</th>\n",
              "      <td>FORD</td>\n",
              "      <td>FUSION</td>\n",
              "      <td>HIBRIDO 4X2 4PTAS 2.0L 4CIL 141(+47e)HP E-CVT</td>\n",
              "      <td>2017</td>\n",
              "      <td>CVT</td>\n",
              "      <td>Gasolina</td>\n",
              "      <td>4</td>\n",
              "      <td>188</td>\n",
              "      <td>2.00</td>\n",
              "      <td>AUTOS COMPACTOS</td>\n",
              "      <td>25.62</td>\n",
              "      <td>24.77</td>\n",
              "      <td>25.23</td>\n",
              "      <td>18.92</td>\n",
              "      <td>123</td>\n",
              "      <td>2</td>\n",
              "      <td>10</td>\n",
              "      <td>9</td>\n",
              "    </tr>\n",
              "    <tr>\n",
              "      <th>3</th>\n",
              "      <td>FORD</td>\n",
              "      <td>FUSION</td>\n",
              "      <td>HIBRIDO 4PTAS 2.0L 4CIL 188HP AUT eCVT</td>\n",
              "      <td>2018</td>\n",
              "      <td>AUT</td>\n",
              "      <td>Gasolina</td>\n",
              "      <td>4</td>\n",
              "      <td>188</td>\n",
              "      <td>2.00</td>\n",
              "      <td>AUTOS COMPACTOS</td>\n",
              "      <td>25.62</td>\n",
              "      <td>24.77</td>\n",
              "      <td>25.23</td>\n",
              "      <td>18.92</td>\n",
              "      <td>123</td>\n",
              "      <td>2</td>\n",
              "      <td>10</td>\n",
              "      <td>9</td>\n",
              "    </tr>\n",
              "    <tr>\n",
              "      <th>4</th>\n",
              "      <td>FORD</td>\n",
              "      <td>FUSION</td>\n",
              "      <td>HYBRID 4PTS 2.5L 4CIL 156HP CVT</td>\n",
              "      <td>2011</td>\n",
              "      <td>CVT</td>\n",
              "      <td>Gasolina</td>\n",
              "      <td>4</td>\n",
              "      <td>156</td>\n",
              "      <td>2.50</td>\n",
              "      <td>AUTOS COMPACTOS</td>\n",
              "      <td>24.00</td>\n",
              "      <td>21.90</td>\n",
              "      <td>23.01</td>\n",
              "      <td>17.26</td>\n",
              "      <td>135</td>\n",
              "      <td>5</td>\n",
              "      <td>9</td>\n",
              "      <td>9</td>\n",
              "    </tr>\n",
              "    <tr>\n",
              "      <th>...</th>\n",
              "      <td>...</td>\n",
              "      <td>...</td>\n",
              "      <td>...</td>\n",
              "      <td>...</td>\n",
              "      <td>...</td>\n",
              "      <td>...</td>\n",
              "      <td>...</td>\n",
              "      <td>...</td>\n",
              "      <td>...</td>\n",
              "      <td>...</td>\n",
              "      <td>...</td>\n",
              "      <td>...</td>\n",
              "      <td>...</td>\n",
              "      <td>...</td>\n",
              "      <td>...</td>\n",
              "      <td>...</td>\n",
              "      <td>...</td>\n",
              "      <td>...</td>\n",
              "    </tr>\n",
              "    <tr>\n",
              "      <th>4612</th>\n",
              "      <td>LAND ROVER</td>\n",
              "      <td>RANGE ROVER</td>\n",
              "      <td>SUPERCARGADA 5PTS 5.0L 506HP AUT</td>\n",
              "      <td>2012</td>\n",
              "      <td>AUT</td>\n",
              "      <td>Gasolina</td>\n",
              "      <td>8</td>\n",
              "      <td>506</td>\n",
              "      <td>5.00</td>\n",
              "      <td>CAMIONETAS DE USO MULTIPLE (SUV)</td>\n",
              "      <td>4.42</td>\n",
              "      <td>9.60</td>\n",
              "      <td>6.97</td>\n",
              "      <td>5.22</td>\n",
              "      <td>446</td>\n",
              "      <td>39</td>\n",
              "      <td>0</td>\n",
              "      <td>?</td>\n",
              "    </tr>\n",
              "    <tr>\n",
              "      <th>4613</th>\n",
              "      <td>LAND ROVER</td>\n",
              "      <td>RANGE ROVER</td>\n",
              "      <td>SUPERCARGADA 5PTS 5.0L 8CIL 506HP AUT</td>\n",
              "      <td>2013</td>\n",
              "      <td>AUT</td>\n",
              "      <td>Gasolina</td>\n",
              "      <td>8</td>\n",
              "      <td>506</td>\n",
              "      <td>5.00</td>\n",
              "      <td>CAMIONETAS DE USO MULTIPLE (SUV)</td>\n",
              "      <td>4.42</td>\n",
              "      <td>9.60</td>\n",
              "      <td>6.97</td>\n",
              "      <td>5.22</td>\n",
              "      <td>446</td>\n",
              "      <td>39</td>\n",
              "      <td>0</td>\n",
              "      <td>?</td>\n",
              "    </tr>\n",
              "    <tr>\n",
              "      <th>4614</th>\n",
              "      <td>MERCEDES</td>\n",
              "      <td>G 65</td>\n",
              "      <td>AMG 4X4 5PTAS 6.0L 12CIL 630HP AUT BITURBO</td>\n",
              "      <td>2016</td>\n",
              "      <td>AUT</td>\n",
              "      <td>Gasolina</td>\n",
              "      <td>12</td>\n",
              "      <td>630</td>\n",
              "      <td>5.98</td>\n",
              "      <td>CAMIONETAS DE USO MULTIPLE (SUV)</td>\n",
              "      <td>4.41</td>\n",
              "      <td>7.30</td>\n",
              "      <td>6.45</td>\n",
              "      <td>4.84</td>\n",
              "      <td>482</td>\n",
              "      <td>38</td>\n",
              "      <td>0</td>\n",
              "      <td>?</td>\n",
              "    </tr>\n",
              "    <tr>\n",
              "      <th>4615</th>\n",
              "      <td>MERCEDES</td>\n",
              "      <td>G 65</td>\n",
              "      <td>AMG 5PTAS 6.0L 12CIL 630HP BITURBO AUT</td>\n",
              "      <td>2018</td>\n",
              "      <td>AUT</td>\n",
              "      <td>Gasolina</td>\n",
              "      <td>12</td>\n",
              "      <td>630</td>\n",
              "      <td>5.98</td>\n",
              "      <td>CAMIONETAS DE USO MULTIPLE (SUV)</td>\n",
              "      <td>4.41</td>\n",
              "      <td>7.30</td>\n",
              "      <td>6.45</td>\n",
              "      <td>4.84</td>\n",
              "      <td>482</td>\n",
              "      <td>38</td>\n",
              "      <td>0</td>\n",
              "      <td>?</td>\n",
              "    </tr>\n",
              "    <tr>\n",
              "      <th>4616</th>\n",
              "      <td>MERCEDES</td>\n",
              "      <td>ML63 AMG</td>\n",
              "      <td>5PTS 6.2L 8CIL 503HP AUT</td>\n",
              "      <td>2011</td>\n",
              "      <td>G TRONIC</td>\n",
              "      <td>Gasolina</td>\n",
              "      <td>8</td>\n",
              "      <td>503</td>\n",
              "      <td>6.20</td>\n",
              "      <td>CAMIONETAS DE USO MULTIPLE (SUV)</td>\n",
              "      <td>4.14</td>\n",
              "      <td>8.19</td>\n",
              "      <td>5.33</td>\n",
              "      <td>3.99</td>\n",
              "      <td>584</td>\n",
              "      <td>31</td>\n",
              "      <td>0</td>\n",
              "      <td>6</td>\n",
              "    </tr>\n",
              "  </tbody>\n",
              "</table>\n",
              "<p>4617 rows × 18 columns</p>\n",
              "</div>"
            ],
            "text/plain": [
              "           Marca     Submarca                                        Versión  \\\n",
              "0           FORD       FUSION         HIBRIDO 4PTS 2.0L 4CIL 188HP AUT (CVT)   \n",
              "1           FORD       FUSION        HIBRIDO 4PTS 2.0L 4CIL 188HP AUT (eCVT)   \n",
              "2           FORD       FUSION  HIBRIDO 4X2 4PTAS 2.0L 4CIL 141(+47e)HP E-CVT   \n",
              "3           FORD       FUSION         HIBRIDO 4PTAS 2.0L 4CIL 188HP AUT eCVT   \n",
              "4           FORD       FUSION                HYBRID 4PTS 2.5L 4CIL 156HP CVT   \n",
              "...          ...          ...                                            ...   \n",
              "4612  LAND ROVER  RANGE ROVER               SUPERCARGADA 5PTS 5.0L 506HP AUT   \n",
              "4613  LAND ROVER  RANGE ROVER          SUPERCARGADA 5PTS 5.0L 8CIL 506HP AUT   \n",
              "4614    MERCEDES         G 65     AMG 4X4 5PTAS 6.0L 12CIL 630HP AUT BITURBO   \n",
              "4615    MERCEDES         G 65         AMG 5PTAS 6.0L 12CIL 630HP BITURBO AUT   \n",
              "4616    MERCEDES     ML63 AMG                       5PTS 6.2L 8CIL 503HP AUT   \n",
              "\n",
              "      Modelo    Trans.     Comb.  Cilindros  Potencia (HP)  Tamaño (L)  \\\n",
              "0       2015       CVT  Gasolina          4            188        2.00   \n",
              "1       2016       CVT  Gasolina          4            188        2.00   \n",
              "2       2017       CVT  Gasolina          4            188        2.00   \n",
              "3       2018       AUT  Gasolina          4            188        2.00   \n",
              "4       2011       CVT  Gasolina          4            156        2.50   \n",
              "...      ...       ...       ...        ...            ...         ...   \n",
              "4612    2012       AUT  Gasolina          8            506        5.00   \n",
              "4613    2013       AUT  Gasolina          8            506        5.00   \n",
              "4614    2016       AUT  Gasolina         12            630        5.98   \n",
              "4615    2018       AUT  Gasolina         12            630        5.98   \n",
              "4616    2011  G TRONIC  Gasolina          8            503        6.20   \n",
              "\n",
              "                             Categoría  R. Ciudad (km/l)  R. Carr. (km/l)  \\\n",
              "0                      AUTOS COMPACTOS             27.44            28.57   \n",
              "1                      AUTOS COMPACTOS             27.44            28.57   \n",
              "2                      AUTOS COMPACTOS             25.62            24.77   \n",
              "3                      AUTOS COMPACTOS             25.62            24.77   \n",
              "4                      AUTOS COMPACTOS             24.00            21.90   \n",
              "...                                ...               ...              ...   \n",
              "4612  CAMIONETAS DE USO MULTIPLE (SUV)              4.42             9.60   \n",
              "4613  CAMIONETAS DE USO MULTIPLE (SUV)              4.42             9.60   \n",
              "4614  CAMIONETAS DE USO MULTIPLE (SUV)              4.41             7.30   \n",
              "4615  CAMIONETAS DE USO MULTIPLE (SUV)              4.41             7.30   \n",
              "4616  CAMIONETAS DE USO MULTIPLE (SUV)              4.14             8.19   \n",
              "\n",
              "      R. Comb. (km/l)  R. Ajust. (km/l)  CO2(g/km)  NOx (g/1000km)  \\\n",
              "0               28.93             21.70        107               5   \n",
              "1               28.93             21.70        107               0   \n",
              "2               25.23             18.92        123               2   \n",
              "3               25.23             18.92        123               2   \n",
              "4               23.01             17.26        135               5   \n",
              "...               ...               ...        ...             ...   \n",
              "4612             6.97              5.22        446              39   \n",
              "4613             6.97              5.22        446              39   \n",
              "4614             6.45              4.84        482              38   \n",
              "4615             6.45              4.84        482              38   \n",
              "4616             5.33              3.99        584              31   \n",
              "\n",
              "      Calificación Gas Ef. Inv. Calificación Contam. Aire  \n",
              "0                            10                         9  \n",
              "1                            10                         9  \n",
              "2                            10                         9  \n",
              "3                            10                         9  \n",
              "4                             9                         9  \n",
              "...                         ...                       ...  \n",
              "4612                          0                         ?  \n",
              "4613                          0                         ?  \n",
              "4614                          0                         ?  \n",
              "4615                          0                         ?  \n",
              "4616                          0                         6  \n",
              "\n",
              "[4617 rows x 18 columns]"
            ]
          },
          "metadata": {
            "tags": []
          },
          "execution_count": 3
        }
      ]
    },
    {
      "cell_type": "markdown",
      "metadata": {
        "id": "GscKdXLJLA9Z"
      },
      "source": [
        "### EDA"
      ]
    },
    {
      "cell_type": "code",
      "metadata": {
        "ExecuteTime": {
          "end_time": "2021-03-12T02:20:18.398853Z",
          "start_time": "2021-03-12T02:20:18.386466Z"
        },
        "id": "xWxvLKYDLA9a",
        "outputId": "b7d12973-4e14-466c-e4fa-c876fc6d7562"
      },
      "source": [
        "df.shape"
      ],
      "execution_count": null,
      "outputs": [
        {
          "output_type": "execute_result",
          "data": {
            "text/plain": [
              "(4617, 18)"
            ]
          },
          "metadata": {
            "tags": []
          },
          "execution_count": 4
        }
      ]
    },
    {
      "cell_type": "code",
      "metadata": {
        "ExecuteTime": {
          "end_time": "2021-03-12T02:21:00.339808Z",
          "start_time": "2021-03-12T02:21:00.317077Z"
        },
        "id": "yntKpbUOLA9b",
        "outputId": "7800b689-09a3-49d9-c027-1f32b607665c"
      },
      "source": [
        "df.sample(5)"
      ],
      "execution_count": null,
      "outputs": [
        {
          "output_type": "execute_result",
          "data": {
            "text/html": [
              "<div>\n",
              "<style scoped>\n",
              "    .dataframe tbody tr th:only-of-type {\n",
              "        vertical-align: middle;\n",
              "    }\n",
              "\n",
              "    .dataframe tbody tr th {\n",
              "        vertical-align: top;\n",
              "    }\n",
              "\n",
              "    .dataframe thead th {\n",
              "        text-align: right;\n",
              "    }\n",
              "</style>\n",
              "<table border=\"1\" class=\"dataframe\">\n",
              "  <thead>\n",
              "    <tr style=\"text-align: right;\">\n",
              "      <th></th>\n",
              "      <th>Marca</th>\n",
              "      <th>Submarca</th>\n",
              "      <th>Versión</th>\n",
              "      <th>Modelo</th>\n",
              "      <th>Trans.</th>\n",
              "      <th>Comb.</th>\n",
              "      <th>Cilindros</th>\n",
              "      <th>Potencia (HP)</th>\n",
              "      <th>Tamaño (L)</th>\n",
              "      <th>Categoría</th>\n",
              "      <th>R. Ciudad (km/l)</th>\n",
              "      <th>R. Carr. (km/l)</th>\n",
              "      <th>R. Comb. (km/l)</th>\n",
              "      <th>R. Ajust. (km/l)</th>\n",
              "      <th>CO2(g/km)</th>\n",
              "      <th>NOx (g/1000km)</th>\n",
              "      <th>Calificación Gas Ef. Inv.</th>\n",
              "      <th>Calificación Contam. Aire</th>\n",
              "    </tr>\n",
              "  </thead>\n",
              "  <tbody>\n",
              "    <tr>\n",
              "      <th>749</th>\n",
              "      <td>AUDI</td>\n",
              "      <td>A1</td>\n",
              "      <td>SPORTBACK 5PTAS 1.4L 4CIL125HP STRONIC FSI FRO...</td>\n",
              "      <td>2017</td>\n",
              "      <td>S TRONIC</td>\n",
              "      <td>Gasolina</td>\n",
              "      <td>4</td>\n",
              "      <td>125</td>\n",
              "      <td>1.4</td>\n",
              "      <td>AUTOS DE LUJO</td>\n",
              "      <td>16.20</td>\n",
              "      <td>22.60</td>\n",
              "      <td>18.57</td>\n",
              "      <td>13.92</td>\n",
              "      <td>167</td>\n",
              "      <td>21</td>\n",
              "      <td>8</td>\n",
              "      <td>7</td>\n",
              "    </tr>\n",
              "    <tr>\n",
              "      <th>3278</th>\n",
              "      <td>CHEVROLET</td>\n",
              "      <td>CHEVY</td>\n",
              "      <td>5PTS 1.6L 4CIL 100HP AUT</td>\n",
              "      <td>2011</td>\n",
              "      <td>AUT</td>\n",
              "      <td>Gasolina</td>\n",
              "      <td>4</td>\n",
              "      <td>100</td>\n",
              "      <td>1.6</td>\n",
              "      <td>AUTOS SUBCOMPACTOS</td>\n",
              "      <td>12.43</td>\n",
              "      <td>18.38</td>\n",
              "      <td>14.55</td>\n",
              "      <td>10.91</td>\n",
              "      <td>214</td>\n",
              "      <td>110</td>\n",
              "      <td>6</td>\n",
              "      <td>3</td>\n",
              "    </tr>\n",
              "    <tr>\n",
              "      <th>317</th>\n",
              "      <td>MITSUBISHI</td>\n",
              "      <td>LANCER</td>\n",
              "      <td>4PTS 2.0L 4CIL 152HP MAN</td>\n",
              "      <td>2011</td>\n",
              "      <td>MAN</td>\n",
              "      <td>Gasolina</td>\n",
              "      <td>4</td>\n",
              "      <td>152</td>\n",
              "      <td>2.0</td>\n",
              "      <td>AUTOS COMPACTOS</td>\n",
              "      <td>13.16</td>\n",
              "      <td>16.08</td>\n",
              "      <td>14.33</td>\n",
              "      <td>10.75</td>\n",
              "      <td>217</td>\n",
              "      <td>9</td>\n",
              "      <td>6</td>\n",
              "      <td>9</td>\n",
              "    </tr>\n",
              "    <tr>\n",
              "      <th>1088</th>\n",
              "      <td>AUDI</td>\n",
              "      <td>TT</td>\n",
              "      <td>COUPE 3PTAS 2.0L 4CIL 285HP STRONIC QUATTRO FS...</td>\n",
              "      <td>2016</td>\n",
              "      <td>STRONIC</td>\n",
              "      <td>Gasolina</td>\n",
              "      <td>4</td>\n",
              "      <td>285</td>\n",
              "      <td>2.0</td>\n",
              "      <td>AUTOS DE LUJO</td>\n",
              "      <td>11.70</td>\n",
              "      <td>17.10</td>\n",
              "      <td>13.64</td>\n",
              "      <td>10.23</td>\n",
              "      <td>228</td>\n",
              "      <td>18</td>\n",
              "      <td>6</td>\n",
              "      <td>8</td>\n",
              "    </tr>\n",
              "    <tr>\n",
              "      <th>3664</th>\n",
              "      <td>VW</td>\n",
              "      <td>TIGUAN</td>\n",
              "      <td>GP 5PTS 2.0L 4CIL 200HP TIPTRONIC FSI TURBO</td>\n",
              "      <td>2016</td>\n",
              "      <td>TIPTRONIC</td>\n",
              "      <td>Gasolina</td>\n",
              "      <td>4</td>\n",
              "      <td>197</td>\n",
              "      <td>2.0</td>\n",
              "      <td>CAMIONETAS DE USO MULTIPLE (SUV)</td>\n",
              "      <td>11.10</td>\n",
              "      <td>17.90</td>\n",
              "      <td>13.39</td>\n",
              "      <td>10.04</td>\n",
              "      <td>232</td>\n",
              "      <td>6</td>\n",
              "      <td>6</td>\n",
              "      <td>9</td>\n",
              "    </tr>\n",
              "  </tbody>\n",
              "</table>\n",
              "</div>"
            ],
            "text/plain": [
              "           Marca Submarca                                            Versión  \\\n",
              "749         AUDI       A1  SPORTBACK 5PTAS 1.4L 4CIL125HP STRONIC FSI FRO...   \n",
              "3278   CHEVROLET    CHEVY                           5PTS 1.6L 4CIL 100HP AUT   \n",
              "317   MITSUBISHI   LANCER                           4PTS 2.0L 4CIL 152HP MAN   \n",
              "1088        AUDI       TT  COUPE 3PTAS 2.0L 4CIL 285HP STRONIC QUATTRO FS...   \n",
              "3664          VW   TIGUAN        GP 5PTS 2.0L 4CIL 200HP TIPTRONIC FSI TURBO   \n",
              "\n",
              "      Modelo     Trans.     Comb.  Cilindros  Potencia (HP)  Tamaño (L)  \\\n",
              "749     2017   S TRONIC  Gasolina          4            125         1.4   \n",
              "3278    2011        AUT  Gasolina          4            100         1.6   \n",
              "317     2011        MAN  Gasolina          4            152         2.0   \n",
              "1088    2016    STRONIC  Gasolina          4            285         2.0   \n",
              "3664    2016  TIPTRONIC  Gasolina          4            197         2.0   \n",
              "\n",
              "                             Categoría  R. Ciudad (km/l)  R. Carr. (km/l)  \\\n",
              "749                      AUTOS DE LUJO             16.20            22.60   \n",
              "3278                AUTOS SUBCOMPACTOS             12.43            18.38   \n",
              "317                    AUTOS COMPACTOS             13.16            16.08   \n",
              "1088                     AUTOS DE LUJO             11.70            17.10   \n",
              "3664  CAMIONETAS DE USO MULTIPLE (SUV)             11.10            17.90   \n",
              "\n",
              "      R. Comb. (km/l)  R. Ajust. (km/l)  CO2(g/km)  NOx (g/1000km)  \\\n",
              "749             18.57             13.92        167              21   \n",
              "3278            14.55             10.91        214             110   \n",
              "317             14.33             10.75        217               9   \n",
              "1088            13.64             10.23        228              18   \n",
              "3664            13.39             10.04        232               6   \n",
              "\n",
              "      Calificación Gas Ef. Inv. Calificación Contam. Aire  \n",
              "749                           8                         7  \n",
              "3278                          6                         3  \n",
              "317                           6                         9  \n",
              "1088                          6                         8  \n",
              "3664                          6                         9  "
            ]
          },
          "metadata": {
            "tags": []
          },
          "execution_count": 6
        }
      ]
    },
    {
      "cell_type": "code",
      "metadata": {
        "ExecuteTime": {
          "end_time": "2021-03-12T02:21:09.363353Z",
          "start_time": "2021-03-12T02:21:09.000762Z"
        },
        "id": "qexmDn90LA9c",
        "outputId": "9af8a7d1-98c3-447b-fcdf-f6c00d7f0dca"
      },
      "source": [
        "df.Modelo.value_counts(True)"
      ],
      "execution_count": null,
      "outputs": [
        {
          "output_type": "execute_result",
          "data": {
            "text/plain": [
              "2016    0.188867\n",
              "2012    0.149231\n",
              "2013    0.147282\n",
              "2011    0.136019\n",
              "2017    0.129738\n",
              "2014    0.110461\n",
              "2015    0.093134\n",
              "2018    0.045267\n",
              "Name: Modelo, dtype: float64"
            ]
          },
          "metadata": {
            "tags": []
          },
          "execution_count": 7
        }
      ]
    },
    {
      "cell_type": "code",
      "metadata": {
        "ExecuteTime": {
          "end_time": "2021-03-12T02:21:36.946002Z",
          "start_time": "2021-03-12T02:21:36.940542Z"
        },
        "id": "MPiUoCyuLA9c"
      },
      "source": [
        "df = df.loc[df.Modelo==2016]\n",
        "df.reset_index(drop=True,inplace=True)"
      ],
      "execution_count": null,
      "outputs": []
    },
    {
      "cell_type": "code",
      "metadata": {
        "ExecuteTime": {
          "end_time": "2021-03-12T02:21:37.680011Z",
          "start_time": "2021-03-12T02:21:37.674961Z"
        },
        "id": "63uvoz0MLA9d",
        "outputId": "11285a58-c699-46a2-ab86-0c19e26b4761"
      },
      "source": [
        "df.shape"
      ],
      "execution_count": null,
      "outputs": [
        {
          "output_type": "execute_result",
          "data": {
            "text/plain": [
              "(872, 18)"
            ]
          },
          "metadata": {
            "tags": []
          },
          "execution_count": 9
        }
      ]
    },
    {
      "cell_type": "code",
      "metadata": {
        "ExecuteTime": {
          "end_time": "2021-03-12T02:21:53.251908Z",
          "start_time": "2021-03-12T02:21:53.224826Z"
        },
        "id": "k2_TxRMFLA9d",
        "outputId": "2bc95ff7-11a8-4d67-9234-bae32bc75ba7"
      },
      "source": [
        "df.head()"
      ],
      "execution_count": null,
      "outputs": [
        {
          "output_type": "execute_result",
          "data": {
            "text/html": [
              "<div>\n",
              "<style scoped>\n",
              "    .dataframe tbody tr th:only-of-type {\n",
              "        vertical-align: middle;\n",
              "    }\n",
              "\n",
              "    .dataframe tbody tr th {\n",
              "        vertical-align: top;\n",
              "    }\n",
              "\n",
              "    .dataframe thead th {\n",
              "        text-align: right;\n",
              "    }\n",
              "</style>\n",
              "<table border=\"1\" class=\"dataframe\">\n",
              "  <thead>\n",
              "    <tr style=\"text-align: right;\">\n",
              "      <th></th>\n",
              "      <th>Marca</th>\n",
              "      <th>Submarca</th>\n",
              "      <th>Versión</th>\n",
              "      <th>Modelo</th>\n",
              "      <th>Trans.</th>\n",
              "      <th>Comb.</th>\n",
              "      <th>Cilindros</th>\n",
              "      <th>Potencia (HP)</th>\n",
              "      <th>Tamaño (L)</th>\n",
              "      <th>Categoría</th>\n",
              "      <th>R. Ciudad (km/l)</th>\n",
              "      <th>R. Carr. (km/l)</th>\n",
              "      <th>R. Comb. (km/l)</th>\n",
              "      <th>R. Ajust. (km/l)</th>\n",
              "      <th>CO2(g/km)</th>\n",
              "      <th>NOx (g/1000km)</th>\n",
              "      <th>Calificación Gas Ef. Inv.</th>\n",
              "      <th>Calificación Contam. Aire</th>\n",
              "    </tr>\n",
              "  </thead>\n",
              "  <tbody>\n",
              "    <tr>\n",
              "      <th>0</th>\n",
              "      <td>FORD</td>\n",
              "      <td>FUSION</td>\n",
              "      <td>HIBRIDO 4PTS 2.0L 4CIL 188HP AUT (eCVT)</td>\n",
              "      <td>2016</td>\n",
              "      <td>CVT</td>\n",
              "      <td>Gasolina</td>\n",
              "      <td>4</td>\n",
              "      <td>188</td>\n",
              "      <td>2.0</td>\n",
              "      <td>AUTOS COMPACTOS</td>\n",
              "      <td>27.44</td>\n",
              "      <td>28.57</td>\n",
              "      <td>28.93</td>\n",
              "      <td>21.70</td>\n",
              "      <td>107</td>\n",
              "      <td>0</td>\n",
              "      <td>10</td>\n",
              "      <td>9</td>\n",
              "    </tr>\n",
              "    <tr>\n",
              "      <th>1</th>\n",
              "      <td>SEAT</td>\n",
              "      <td>TOLEDO</td>\n",
              "      <td>4PTAS 1.4L 4CIL125HP DSG TURBO</td>\n",
              "      <td>2016</td>\n",
              "      <td>DSG</td>\n",
              "      <td>Gasolina</td>\n",
              "      <td>4</td>\n",
              "      <td>125</td>\n",
              "      <td>1.4</td>\n",
              "      <td>AUTOS COMPACTOS</td>\n",
              "      <td>17.30</td>\n",
              "      <td>27.00</td>\n",
              "      <td>20.64</td>\n",
              "      <td>15.48</td>\n",
              "      <td>151</td>\n",
              "      <td>25</td>\n",
              "      <td>9</td>\n",
              "      <td>6</td>\n",
              "    </tr>\n",
              "    <tr>\n",
              "      <th>2</th>\n",
              "      <td>MAZDA</td>\n",
              "      <td>MAZDA2</td>\n",
              "      <td>HATCHBACK 5PTAS 1.5L 4CIL 102HP AUT</td>\n",
              "      <td>2016</td>\n",
              "      <td>AUT</td>\n",
              "      <td>Gasolina</td>\n",
              "      <td>4</td>\n",
              "      <td>102</td>\n",
              "      <td>1.5</td>\n",
              "      <td>AUTOS COMPACTOS</td>\n",
              "      <td>17.30</td>\n",
              "      <td>24.00</td>\n",
              "      <td>19.79</td>\n",
              "      <td>14.84</td>\n",
              "      <td>157</td>\n",
              "      <td>9</td>\n",
              "      <td>8</td>\n",
              "      <td>9</td>\n",
              "    </tr>\n",
              "    <tr>\n",
              "      <th>3</th>\n",
              "      <td>MAZDA</td>\n",
              "      <td>MAZDA2</td>\n",
              "      <td>i TOURING 5PTAS 1.5L 4CIL 106HP AUT R15</td>\n",
              "      <td>2016</td>\n",
              "      <td>AUT</td>\n",
              "      <td>Gasolina</td>\n",
              "      <td>4</td>\n",
              "      <td>106</td>\n",
              "      <td>1.5</td>\n",
              "      <td>AUTOS COMPACTOS</td>\n",
              "      <td>17.30</td>\n",
              "      <td>24.00</td>\n",
              "      <td>21.10</td>\n",
              "      <td>15.83</td>\n",
              "      <td>147</td>\n",
              "      <td>9</td>\n",
              "      <td>9</td>\n",
              "      <td>9</td>\n",
              "    </tr>\n",
              "    <tr>\n",
              "      <th>4</th>\n",
              "      <td>MAZDA</td>\n",
              "      <td>MAZDA2</td>\n",
              "      <td>i GRAND TOURING 5PTAS 1.5L 4CIL 106HP AUT R16</td>\n",
              "      <td>2016</td>\n",
              "      <td>AUT</td>\n",
              "      <td>Gasolina</td>\n",
              "      <td>4</td>\n",
              "      <td>106</td>\n",
              "      <td>1.5</td>\n",
              "      <td>AUTOS COMPACTOS</td>\n",
              "      <td>17.30</td>\n",
              "      <td>24.00</td>\n",
              "      <td>21.10</td>\n",
              "      <td>15.83</td>\n",
              "      <td>147</td>\n",
              "      <td>9</td>\n",
              "      <td>9</td>\n",
              "      <td>9</td>\n",
              "    </tr>\n",
              "  </tbody>\n",
              "</table>\n",
              "</div>"
            ],
            "text/plain": [
              "   Marca Submarca                                        Versión  Modelo  \\\n",
              "0   FORD   FUSION        HIBRIDO 4PTS 2.0L 4CIL 188HP AUT (eCVT)    2016   \n",
              "1   SEAT   TOLEDO                 4PTAS 1.4L 4CIL125HP DSG TURBO    2016   \n",
              "2  MAZDA   MAZDA2            HATCHBACK 5PTAS 1.5L 4CIL 102HP AUT    2016   \n",
              "3  MAZDA   MAZDA2        i TOURING 5PTAS 1.5L 4CIL 106HP AUT R15    2016   \n",
              "4  MAZDA   MAZDA2  i GRAND TOURING 5PTAS 1.5L 4CIL 106HP AUT R16    2016   \n",
              "\n",
              "  Trans.     Comb.  Cilindros  Potencia (HP)  Tamaño (L)        Categoría  \\\n",
              "0    CVT  Gasolina          4            188         2.0  AUTOS COMPACTOS   \n",
              "1    DSG  Gasolina          4            125         1.4  AUTOS COMPACTOS   \n",
              "2    AUT  Gasolina          4            102         1.5  AUTOS COMPACTOS   \n",
              "3    AUT  Gasolina          4            106         1.5  AUTOS COMPACTOS   \n",
              "4    AUT  Gasolina          4            106         1.5  AUTOS COMPACTOS   \n",
              "\n",
              "   R. Ciudad (km/l)  R. Carr. (km/l)  R. Comb. (km/l)  R. Ajust. (km/l)  \\\n",
              "0             27.44            28.57            28.93             21.70   \n",
              "1             17.30            27.00            20.64             15.48   \n",
              "2             17.30            24.00            19.79             14.84   \n",
              "3             17.30            24.00            21.10             15.83   \n",
              "4             17.30            24.00            21.10             15.83   \n",
              "\n",
              "   CO2(g/km)  NOx (g/1000km)  Calificación Gas Ef. Inv.  \\\n",
              "0        107               0                         10   \n",
              "1        151              25                          9   \n",
              "2        157               9                          8   \n",
              "3        147               9                          9   \n",
              "4        147               9                          9   \n",
              "\n",
              "  Calificación Contam. Aire  \n",
              "0                         9  \n",
              "1                         6  \n",
              "2                         9  \n",
              "3                         9  \n",
              "4                         9  "
            ]
          },
          "metadata": {
            "tags": []
          },
          "execution_count": 10
        }
      ]
    },
    {
      "cell_type": "markdown",
      "metadata": {
        "id": "ZnEc3WuoLA9e"
      },
      "source": [
        "### Ingeniería de datos"
      ]
    },
    {
      "cell_type": "code",
      "metadata": {
        "ExecuteTime": {
          "end_time": "2021-03-12T02:22:14.856433Z",
          "start_time": "2021-03-12T02:22:14.849188Z"
        },
        "id": "o3OKGlvLLA9e",
        "outputId": "7522c60e-41f6-4a6e-8d0b-ac14747024db"
      },
      "source": [
        "list(df.Marca.value_counts(True).index)"
      ],
      "execution_count": null,
      "outputs": [
        {
          "output_type": "execute_result",
          "data": {
            "text/plain": [
              "['PORSCHE',\n",
              " 'AUDI',\n",
              " 'MERCEDES',\n",
              " 'BMW',\n",
              " 'VW',\n",
              " 'CHEVROLET',\n",
              " 'FORD',\n",
              " 'NISSAN',\n",
              " 'MAZDA',\n",
              " 'MINI',\n",
              " 'HONDA',\n",
              " 'SUBARU',\n",
              " 'VOLVO',\n",
              " 'SEAT',\n",
              " 'DODGE',\n",
              " 'FIAT',\n",
              " 'HYUNDAI',\n",
              " 'JEEP',\n",
              " 'SUZUKI',\n",
              " 'KIA',\n",
              " 'INFINITI',\n",
              " 'CADILLAC',\n",
              " 'BENTLEY',\n",
              " 'MITSUBISHI',\n",
              " 'SMART',\n",
              " 'LINCOLN',\n",
              " 'ACURA',\n",
              " 'GMC',\n",
              " 'BUICK',\n",
              " 'CHRYSLER',\n",
              " 'RENAULT',\n",
              " 'LAMBORGHINI',\n",
              " 'LAND ROVER',\n",
              " 'JAGUAR',\n",
              " 'ALFA ROMEO']"
            ]
          },
          "metadata": {
            "tags": []
          },
          "execution_count": 11
        }
      ]
    },
    {
      "cell_type": "code",
      "metadata": {
        "ExecuteTime": {
          "end_time": "2021-03-12T02:22:51.901860Z",
          "start_time": "2021-03-12T02:22:51.870119Z"
        },
        "id": "lnRhSZLkLA9f",
        "outputId": "dcd45e54-af8a-497a-ac29-384474512ca0"
      },
      "source": [
        "df"
      ],
      "execution_count": null,
      "outputs": [
        {
          "output_type": "execute_result",
          "data": {
            "text/html": [
              "<div>\n",
              "<style scoped>\n",
              "    .dataframe tbody tr th:only-of-type {\n",
              "        vertical-align: middle;\n",
              "    }\n",
              "\n",
              "    .dataframe tbody tr th {\n",
              "        vertical-align: top;\n",
              "    }\n",
              "\n",
              "    .dataframe thead th {\n",
              "        text-align: right;\n",
              "    }\n",
              "</style>\n",
              "<table border=\"1\" class=\"dataframe\">\n",
              "  <thead>\n",
              "    <tr style=\"text-align: right;\">\n",
              "      <th></th>\n",
              "      <th>Marca</th>\n",
              "      <th>Submarca</th>\n",
              "      <th>Versión</th>\n",
              "      <th>Modelo</th>\n",
              "      <th>Trans.</th>\n",
              "      <th>Comb.</th>\n",
              "      <th>Cilindros</th>\n",
              "      <th>Potencia (HP)</th>\n",
              "      <th>Tamaño (L)</th>\n",
              "      <th>Categoría</th>\n",
              "      <th>R. Ciudad (km/l)</th>\n",
              "      <th>R. Carr. (km/l)</th>\n",
              "      <th>R. Comb. (km/l)</th>\n",
              "      <th>R. Ajust. (km/l)</th>\n",
              "      <th>CO2(g/km)</th>\n",
              "      <th>NOx (g/1000km)</th>\n",
              "      <th>Calificación Gas Ef. Inv.</th>\n",
              "      <th>Calificación Contam. Aire</th>\n",
              "      <th>lujo</th>\n",
              "    </tr>\n",
              "  </thead>\n",
              "  <tbody>\n",
              "    <tr>\n",
              "      <th>0</th>\n",
              "      <td>FORD</td>\n",
              "      <td>FUSION</td>\n",
              "      <td>HIBRIDO 4PTS 2.0L 4CIL 188HP AUT (eCVT)</td>\n",
              "      <td>2016</td>\n",
              "      <td>CVT</td>\n",
              "      <td>Gasolina</td>\n",
              "      <td>4</td>\n",
              "      <td>188</td>\n",
              "      <td>2.000</td>\n",
              "      <td>AUTOS COMPACTOS</td>\n",
              "      <td>27.44</td>\n",
              "      <td>28.57</td>\n",
              "      <td>28.93</td>\n",
              "      <td>21.70</td>\n",
              "      <td>107</td>\n",
              "      <td>0</td>\n",
              "      <td>10</td>\n",
              "      <td>9</td>\n",
              "      <td>False</td>\n",
              "    </tr>\n",
              "    <tr>\n",
              "      <th>1</th>\n",
              "      <td>SEAT</td>\n",
              "      <td>TOLEDO</td>\n",
              "      <td>4PTAS 1.4L 4CIL125HP DSG TURBO</td>\n",
              "      <td>2016</td>\n",
              "      <td>DSG</td>\n",
              "      <td>Gasolina</td>\n",
              "      <td>4</td>\n",
              "      <td>125</td>\n",
              "      <td>1.400</td>\n",
              "      <td>AUTOS COMPACTOS</td>\n",
              "      <td>17.30</td>\n",
              "      <td>27.00</td>\n",
              "      <td>20.64</td>\n",
              "      <td>15.48</td>\n",
              "      <td>151</td>\n",
              "      <td>25</td>\n",
              "      <td>9</td>\n",
              "      <td>6</td>\n",
              "      <td>False</td>\n",
              "    </tr>\n",
              "    <tr>\n",
              "      <th>2</th>\n",
              "      <td>MAZDA</td>\n",
              "      <td>MAZDA2</td>\n",
              "      <td>HATCHBACK 5PTAS 1.5L 4CIL 102HP AUT</td>\n",
              "      <td>2016</td>\n",
              "      <td>AUT</td>\n",
              "      <td>Gasolina</td>\n",
              "      <td>4</td>\n",
              "      <td>102</td>\n",
              "      <td>1.500</td>\n",
              "      <td>AUTOS COMPACTOS</td>\n",
              "      <td>17.30</td>\n",
              "      <td>24.00</td>\n",
              "      <td>19.79</td>\n",
              "      <td>14.84</td>\n",
              "      <td>157</td>\n",
              "      <td>9</td>\n",
              "      <td>8</td>\n",
              "      <td>9</td>\n",
              "      <td>False</td>\n",
              "    </tr>\n",
              "    <tr>\n",
              "      <th>3</th>\n",
              "      <td>MAZDA</td>\n",
              "      <td>MAZDA2</td>\n",
              "      <td>i TOURING 5PTAS 1.5L 4CIL 106HP AUT R15</td>\n",
              "      <td>2016</td>\n",
              "      <td>AUT</td>\n",
              "      <td>Gasolina</td>\n",
              "      <td>4</td>\n",
              "      <td>106</td>\n",
              "      <td>1.500</td>\n",
              "      <td>AUTOS COMPACTOS</td>\n",
              "      <td>17.30</td>\n",
              "      <td>24.00</td>\n",
              "      <td>21.10</td>\n",
              "      <td>15.83</td>\n",
              "      <td>147</td>\n",
              "      <td>9</td>\n",
              "      <td>9</td>\n",
              "      <td>9</td>\n",
              "      <td>False</td>\n",
              "    </tr>\n",
              "    <tr>\n",
              "      <th>4</th>\n",
              "      <td>MAZDA</td>\n",
              "      <td>MAZDA2</td>\n",
              "      <td>i GRAND TOURING 5PTAS 1.5L 4CIL 106HP AUT R16</td>\n",
              "      <td>2016</td>\n",
              "      <td>AUT</td>\n",
              "      <td>Gasolina</td>\n",
              "      <td>4</td>\n",
              "      <td>106</td>\n",
              "      <td>1.500</td>\n",
              "      <td>AUTOS COMPACTOS</td>\n",
              "      <td>17.30</td>\n",
              "      <td>24.00</td>\n",
              "      <td>21.10</td>\n",
              "      <td>15.83</td>\n",
              "      <td>147</td>\n",
              "      <td>9</td>\n",
              "      <td>9</td>\n",
              "      <td>9</td>\n",
              "      <td>False</td>\n",
              "    </tr>\n",
              "    <tr>\n",
              "      <th>...</th>\n",
              "      <td>...</td>\n",
              "      <td>...</td>\n",
              "      <td>...</td>\n",
              "      <td>...</td>\n",
              "      <td>...</td>\n",
              "      <td>...</td>\n",
              "      <td>...</td>\n",
              "      <td>...</td>\n",
              "      <td>...</td>\n",
              "      <td>...</td>\n",
              "      <td>...</td>\n",
              "      <td>...</td>\n",
              "      <td>...</td>\n",
              "      <td>...</td>\n",
              "      <td>...</td>\n",
              "      <td>...</td>\n",
              "      <td>...</td>\n",
              "      <td>...</td>\n",
              "      <td>...</td>\n",
              "    </tr>\n",
              "    <tr>\n",
              "      <th>867</th>\n",
              "      <td>MERCEDES</td>\n",
              "      <td>GLS 63</td>\n",
              "      <td>AMG AMG 5PTAS 5.5L 8CIL 585HP AUT BITURBO</td>\n",
              "      <td>2016</td>\n",
              "      <td>AUT</td>\n",
              "      <td>Gasolina</td>\n",
              "      <td>8</td>\n",
              "      <td>585</td>\n",
              "      <td>5.461</td>\n",
              "      <td>CAMIONETAS DE USO MULTIPLE (SUV)</td>\n",
              "      <td>6.33</td>\n",
              "      <td>9.71</td>\n",
              "      <td>8.74</td>\n",
              "      <td>6.56</td>\n",
              "      <td>356</td>\n",
              "      <td>58</td>\n",
              "      <td>1</td>\n",
              "      <td>?</td>\n",
              "      <td>True</td>\n",
              "    </tr>\n",
              "    <tr>\n",
              "      <th>868</th>\n",
              "      <td>MERCEDES</td>\n",
              "      <td>G 500</td>\n",
              "      <td>SQUARED 4X4 5PTAS 4.0L 8CIL 421HP AUT BITURBO</td>\n",
              "      <td>2016</td>\n",
              "      <td>AUT</td>\n",
              "      <td>Gasolina</td>\n",
              "      <td>8</td>\n",
              "      <td>421</td>\n",
              "      <td>3.982</td>\n",
              "      <td>CAMIONETAS DE USO MULTIPLE (SUV)</td>\n",
              "      <td>6.14</td>\n",
              "      <td>8.13</td>\n",
              "      <td>8.10</td>\n",
              "      <td>6.07</td>\n",
              "      <td>384</td>\n",
              "      <td>26</td>\n",
              "      <td>0</td>\n",
              "      <td>?</td>\n",
              "      <td>True</td>\n",
              "    </tr>\n",
              "    <tr>\n",
              "      <th>869</th>\n",
              "      <td>JEEP</td>\n",
              "      <td>WRANGLER</td>\n",
              "      <td>UNLIMITED SPORT 4X4 5PTAS 3.6L 6CIL 285HP AUT</td>\n",
              "      <td>2016</td>\n",
              "      <td>AUT</td>\n",
              "      <td>Gasolina</td>\n",
              "      <td>6</td>\n",
              "      <td>285</td>\n",
              "      <td>3.600</td>\n",
              "      <td>CAMIONETAS DE USO MULTIPLE (SUV)</td>\n",
              "      <td>5.92</td>\n",
              "      <td>10.88</td>\n",
              "      <td>7.45</td>\n",
              "      <td>5.59</td>\n",
              "      <td>417</td>\n",
              "      <td>33</td>\n",
              "      <td>0</td>\n",
              "      <td>6</td>\n",
              "      <td>False</td>\n",
              "    </tr>\n",
              "    <tr>\n",
              "      <th>870</th>\n",
              "      <td>MERCEDES</td>\n",
              "      <td>G 63</td>\n",
              "      <td>AMG 4X4 5PTAS 5.5L 8CIL 571HP AUT BITURBO</td>\n",
              "      <td>2016</td>\n",
              "      <td>AUT</td>\n",
              "      <td>Gasolina</td>\n",
              "      <td>8</td>\n",
              "      <td>571</td>\n",
              "      <td>5.461</td>\n",
              "      <td>CAMIONETAS DE USO MULTIPLE (SUV)</td>\n",
              "      <td>5.81</td>\n",
              "      <td>8.47</td>\n",
              "      <td>7.96</td>\n",
              "      <td>5.97</td>\n",
              "      <td>390</td>\n",
              "      <td>29</td>\n",
              "      <td>0</td>\n",
              "      <td>?</td>\n",
              "      <td>True</td>\n",
              "    </tr>\n",
              "    <tr>\n",
              "      <th>871</th>\n",
              "      <td>MERCEDES</td>\n",
              "      <td>G 65</td>\n",
              "      <td>AMG 4X4 5PTAS 6.0L 12CIL 630HP AUT BITURBO</td>\n",
              "      <td>2016</td>\n",
              "      <td>AUT</td>\n",
              "      <td>Gasolina</td>\n",
              "      <td>12</td>\n",
              "      <td>630</td>\n",
              "      <td>5.980</td>\n",
              "      <td>CAMIONETAS DE USO MULTIPLE (SUV)</td>\n",
              "      <td>4.41</td>\n",
              "      <td>7.30</td>\n",
              "      <td>6.45</td>\n",
              "      <td>4.84</td>\n",
              "      <td>482</td>\n",
              "      <td>38</td>\n",
              "      <td>0</td>\n",
              "      <td>?</td>\n",
              "      <td>True</td>\n",
              "    </tr>\n",
              "  </tbody>\n",
              "</table>\n",
              "<p>872 rows × 19 columns</p>\n",
              "</div>"
            ],
            "text/plain": [
              "        Marca  Submarca                                        Versión  \\\n",
              "0        FORD    FUSION        HIBRIDO 4PTS 2.0L 4CIL 188HP AUT (eCVT)   \n",
              "1        SEAT    TOLEDO                 4PTAS 1.4L 4CIL125HP DSG TURBO   \n",
              "2       MAZDA    MAZDA2            HATCHBACK 5PTAS 1.5L 4CIL 102HP AUT   \n",
              "3       MAZDA    MAZDA2        i TOURING 5PTAS 1.5L 4CIL 106HP AUT R15   \n",
              "4       MAZDA    MAZDA2  i GRAND TOURING 5PTAS 1.5L 4CIL 106HP AUT R16   \n",
              "..        ...       ...                                            ...   \n",
              "867  MERCEDES    GLS 63      AMG AMG 5PTAS 5.5L 8CIL 585HP AUT BITURBO   \n",
              "868  MERCEDES     G 500  SQUARED 4X4 5PTAS 4.0L 8CIL 421HP AUT BITURBO   \n",
              "869      JEEP  WRANGLER  UNLIMITED SPORT 4X4 5PTAS 3.6L 6CIL 285HP AUT   \n",
              "870  MERCEDES      G 63      AMG 4X4 5PTAS 5.5L 8CIL 571HP AUT BITURBO   \n",
              "871  MERCEDES      G 65     AMG 4X4 5PTAS 6.0L 12CIL 630HP AUT BITURBO   \n",
              "\n",
              "     Modelo Trans.     Comb.  Cilindros  Potencia (HP)  Tamaño (L)  \\\n",
              "0      2016    CVT  Gasolina          4            188       2.000   \n",
              "1      2016    DSG  Gasolina          4            125       1.400   \n",
              "2      2016    AUT  Gasolina          4            102       1.500   \n",
              "3      2016    AUT  Gasolina          4            106       1.500   \n",
              "4      2016    AUT  Gasolina          4            106       1.500   \n",
              "..      ...    ...       ...        ...            ...         ...   \n",
              "867    2016    AUT  Gasolina          8            585       5.461   \n",
              "868    2016    AUT  Gasolina          8            421       3.982   \n",
              "869    2016    AUT  Gasolina          6            285       3.600   \n",
              "870    2016    AUT  Gasolina          8            571       5.461   \n",
              "871    2016    AUT  Gasolina         12            630       5.980   \n",
              "\n",
              "                            Categoría  R. Ciudad (km/l)  R. Carr. (km/l)  \\\n",
              "0                     AUTOS COMPACTOS             27.44            28.57   \n",
              "1                     AUTOS COMPACTOS             17.30            27.00   \n",
              "2                     AUTOS COMPACTOS             17.30            24.00   \n",
              "3                     AUTOS COMPACTOS             17.30            24.00   \n",
              "4                     AUTOS COMPACTOS             17.30            24.00   \n",
              "..                                ...               ...              ...   \n",
              "867  CAMIONETAS DE USO MULTIPLE (SUV)              6.33             9.71   \n",
              "868  CAMIONETAS DE USO MULTIPLE (SUV)              6.14             8.13   \n",
              "869  CAMIONETAS DE USO MULTIPLE (SUV)              5.92            10.88   \n",
              "870  CAMIONETAS DE USO MULTIPLE (SUV)              5.81             8.47   \n",
              "871  CAMIONETAS DE USO MULTIPLE (SUV)              4.41             7.30   \n",
              "\n",
              "     R. Comb. (km/l)  R. Ajust. (km/l)  CO2(g/km)  NOx (g/1000km)  \\\n",
              "0              28.93             21.70        107               0   \n",
              "1              20.64             15.48        151              25   \n",
              "2              19.79             14.84        157               9   \n",
              "3              21.10             15.83        147               9   \n",
              "4              21.10             15.83        147               9   \n",
              "..               ...               ...        ...             ...   \n",
              "867             8.74              6.56        356              58   \n",
              "868             8.10              6.07        384              26   \n",
              "869             7.45              5.59        417              33   \n",
              "870             7.96              5.97        390              29   \n",
              "871             6.45              4.84        482              38   \n",
              "\n",
              "     Calificación Gas Ef. Inv. Calificación Contam. Aire   lujo  \n",
              "0                           10                         9  False  \n",
              "1                            9                         6  False  \n",
              "2                            8                         9  False  \n",
              "3                            9                         9  False  \n",
              "4                            9                         9  False  \n",
              "..                         ...                       ...    ...  \n",
              "867                          1                         ?   True  \n",
              "868                          0                         ?   True  \n",
              "869                          0                         6  False  \n",
              "870                          0                         ?   True  \n",
              "871                          0                         ?   True  \n",
              "\n",
              "[872 rows x 19 columns]"
            ]
          },
          "metadata": {
            "tags": []
          },
          "execution_count": 13
        }
      ]
    },
    {
      "cell_type": "code",
      "metadata": {
        "ExecuteTime": {
          "end_time": "2021-03-12T02:22:43.219859Z",
          "start_time": "2021-03-12T02:22:43.185652Z"
        },
        "id": "tjRyOeZMLA9g",
        "outputId": "78a2b658-0ab8-4cbe-e0f5-bbfeeccb3827"
      },
      "source": [
        "df['lujo'] = df.Marca.isin(['PORSCHE',\n",
        "'AUDI',\n",
        "'MERCEDES',\n",
        "'BMW',\n",
        "'MINI', \n",
        "'SUBARU',\n",
        "'VOLVO',\n",
        "'INFINITI',\n",
        "'CADILLAC',\n",
        "'BENTLEY',\n",
        "'SMART',\n",
        "'LINCOLN',\n",
        "'ACURA',\n",
        "'GMC',\n",
        "'BUICK',\n",
        "'LAND ROVER',\n",
        "'LAMBORGHINI',\n",
        "'JAGUAR',\n",
        "'ALFA ROMEO'])"
      ],
      "execution_count": null,
      "outputs": [
        {
          "output_type": "stream",
          "text": [
            "/home/oscar/VirtualEnvs/Python 3/lib/python3.7/site-packages/ipykernel_launcher.py:19: SettingWithCopyWarning: \n",
            "A value is trying to be set on a copy of a slice from a DataFrame.\n",
            "Try using .loc[row_indexer,col_indexer] = value instead\n",
            "\n",
            "See the caveats in the documentation: https://pandas.pydata.org/pandas-docs/stable/user_guide/indexing.html#returning-a-view-versus-a-copy\n"
          ],
          "name": "stderr"
        }
      ]
    },
    {
      "cell_type": "code",
      "metadata": {
        "ExecuteTime": {
          "end_time": "2021-03-12T02:23:09.081374Z",
          "start_time": "2021-03-12T02:23:09.076749Z"
        },
        "id": "mTVfC3Q2LA9h",
        "outputId": "d7b57a32-a400-4ecf-fe4d-fa0c8713dd87"
      },
      "source": [
        "df['lujo'] = df['lujo'].map(lambda x:'lujo' if x else 'normal')"
      ],
      "execution_count": null,
      "outputs": [
        {
          "output_type": "stream",
          "text": [
            "/home/oscar/VirtualEnvs/Python 3/lib/python3.7/site-packages/ipykernel_launcher.py:1: SettingWithCopyWarning: \n",
            "A value is trying to be set on a copy of a slice from a DataFrame.\n",
            "Try using .loc[row_indexer,col_indexer] = value instead\n",
            "\n",
            "See the caveats in the documentation: https://pandas.pydata.org/pandas-docs/stable/user_guide/indexing.html#returning-a-view-versus-a-copy\n",
            "  \"\"\"Entry point for launching an IPython kernel.\n"
          ],
          "name": "stderr"
        }
      ]
    },
    {
      "cell_type": "code",
      "metadata": {
        "ExecuteTime": {
          "end_time": "2021-03-12T02:23:10.077275Z",
          "start_time": "2021-03-12T02:23:10.069567Z"
        },
        "id": "Z39TAFVpLA9i",
        "outputId": "3cd74d5f-2932-45f8-8017-2a2f9f211e59"
      },
      "source": [
        "df.lujo.value_counts(True)"
      ],
      "execution_count": null,
      "outputs": [
        {
          "output_type": "execute_result",
          "data": {
            "text/plain": [
              "lujo      0.572248\n",
              "normal    0.427752\n",
              "Name: lujo, dtype: float64"
            ]
          },
          "metadata": {
            "tags": []
          },
          "execution_count": 15
        }
      ]
    },
    {
      "cell_type": "code",
      "metadata": {
        "ExecuteTime": {
          "end_time": "2021-03-12T02:23:18.006367Z",
          "start_time": "2021-03-12T02:23:18.001311Z"
        },
        "id": "dRckeuzALA9j",
        "outputId": "ce8ea1a5-df00-4aaf-801a-d2fe021b422f"
      },
      "source": [
        "list(df.columns)"
      ],
      "execution_count": null,
      "outputs": [
        {
          "output_type": "execute_result",
          "data": {
            "text/plain": [
              "['Marca',\n",
              " 'Submarca',\n",
              " 'Versión',\n",
              " 'Modelo',\n",
              " 'Trans.',\n",
              " 'Comb.',\n",
              " 'Cilindros',\n",
              " 'Potencia (HP)',\n",
              " 'Tamaño (L)',\n",
              " 'Categoría',\n",
              " 'R. Ciudad (km/l)',\n",
              " 'R. Carr. (km/l)',\n",
              " 'R. Comb. (km/l)',\n",
              " 'R. Ajust. (km/l)',\n",
              " 'CO2(g/km)',\n",
              " 'NOx (g/1000km)',\n",
              " 'Calificación Gas Ef. Inv.',\n",
              " 'Calificación Contam. Aire',\n",
              " 'lujo']"
            ]
          },
          "metadata": {
            "tags": []
          },
          "execution_count": 16
        }
      ]
    },
    {
      "cell_type": "markdown",
      "metadata": {
        "id": "x8MvI6hpLA9k"
      },
      "source": [
        "### TAD"
      ]
    },
    {
      "cell_type": "code",
      "metadata": {
        "ExecuteTime": {
          "end_time": "2021-03-12T02:23:46.266794Z",
          "start_time": "2021-03-12T02:23:46.256477Z"
        },
        "id": "yTq9mBOmLA9k",
        "outputId": "756b32b9-15f8-4313-e557-85543b8d67ee"
      },
      "source": [
        "df[\"Submarca\"].unique()"
      ],
      "execution_count": null,
      "outputs": [
        {
          "output_type": "execute_result",
          "data": {
            "text/plain": [
              "array(['FUSION', 'TOLEDO', 'MAZDA2', 'JETTA', 'S-CROSS', 'GOLF', 'MAZDA3',\n",
              "       'SENTRA', 'FOCUS', 'CX-3', 'LANCER', 'VERSA', 'TIIDA', 'JUKE',\n",
              "       'MALIBU', 'A 200', 'VISION', 'CRUZE', 'SOUL', 'FIT', 'MAZDA6',\n",
              "       'B 180', 'CITY', 'ELANTRA', 'OPTIMA', 'FORTE', 'CIVIC', 'BEETLE',\n",
              "       'A 250', 'DART', 'A 45', 'FLUENCE', 'VOLT', '335iA', 'A4', 'A3',\n",
              "       'i8', 'R8', 'COOPER', 'A1', '218iA', 'IMPREZA', 'Q50', 'ALTIMA',\n",
              "       '330iA', 'LEGACY', '220iA', 'XV', 'GIULIETTA', 'MITO', 'V40',\n",
              "       'CLA 180', 'CLA 200', 'MACAN', 'C 180', 'C 200', 'C 250',\n",
              "       'GLA 180', 'GLA 200', '118iA', '120iA', 'GENESIS', 'SONATA', 'ILX',\n",
              "       'S60', 'A5', 'X1', 'TT', 'PANAMERA', '120i', '118i', 'SLC 180',\n",
              "       '535iA', 'CAYMAN', 'MAXIMA', 'GLA 250', 'SLC 200', 'KIZASHI',\n",
              "       'CLA 250', 'E 200', 'E 250', '4C', '320iA', '328iA', '340iA',\n",
              "       'ATS', '428iA', 'A6', '200', 'MKZ', '520iA', '528iA', 'V60', 'CTS',\n",
              "       '740iA', 'A7', 'PASSAT', 'XC60', 'VERANO', 'REGAL', 'S3', '740LiA',\n",
              "       'A8', 'WRX', 'Z4', '750iA', 'RS Q3', 'S4', 'S5', 'CLA 45',\n",
              "       'GLA 45', 'XC90', 'E 400', 'M4', 'Q70', '420iA', 'ACCORD',\n",
              "       'POLICE INTERCEPTOR', 'M135iA', 'M235iA', 'Q60', 'CLS 400',\n",
              "       '640iA', 'M2', '435iA', 'SLC 43', 'S6', 'S7', 'C 43', 'C 63',\n",
              "       '300', 'CHARGER', 'LACROSSE', 'TLX', 'C 63 S', 'M3', 'S8',\n",
              "       '750LiA', 'RS7', 'GLE 43', 'S 500', 'S 400', 'CLS 500', 'E 500',\n",
              "       'GT', '550iA', 'RS5', 'SL 500', '650iA', 'MKS', 'M5', 'M6', 'S 63',\n",
              "       'SL 63', 'CLS 63', 'XF', 'FLYING SPUR', 'CONTINENTAL', 'GLE 63',\n",
              "       'S 600', 'S 65', 'MULSANNE', 'SL 65', 'LEON', 'COOPER S', 'MX-5',\n",
              "       'BRZ', 'BOXSTER', '918', 'MUSTANG', 'CAMARO', '911', '370Z',\n",
              "       'CHALLENGER', 'CORVETTE', 'VIPER', 'AVENTADOR', 'MIRAGE',\n",
              "       'FORFOUR', 'ATTITUDE', 'VENTO', 'FORTWO', 'SPARK', 'IBIZA', 'FIGO',\n",
              "       'CIAZ', 'NOTE', 'SWIFT', 'UP', 'UNO', 'POLO', 'IKON', 'SONIC',\n",
              "       'GRAND i10', 'GOL', 'FIESTA', 'MARCH', '500', 'PALIO', 'RIO',\n",
              "       'AVEO', 'CROSSFOX', 'TSURU', 'CADDY', 'CLIO', 'Q3', 'Q5', 'CX-5',\n",
              "       'QX60', 'PATHFINDER', 'TIGUAN', 'Q7', 'OUTBACK', 'VITARA',\n",
              "       'DEFENDER', 'FORESTER', 'X5', 'H350', 'X-TRAIL', 'ENCORE',\n",
              "       'TOUAREG', 'CAYENNE', 'OUTLANDER', 'ASX', 'TRAX', 'TUCSON',\n",
              "       'SPORTAGE', 'TRANSIT', 'CARAVELLE', 'MULTIVAN', 'TRANSPORTER',\n",
              "       'ECOSPORT', 'ESCAPE', 'PATRIOT', 'SORENTO', 'GLC 250', 'X3',\n",
              "       'SANTA FE', 'CX-9', 'EQUINOX', 'X4', 'GRAND VITARA', 'JOURNEY',\n",
              "       'COMPASS', 'CHEROKEE', 'MKC', 'CR-V', 'SQ5', 'EDGE', 'EXPLORER',\n",
              "       'URVAN', 'DUCATO', 'DURANGO', 'GRAND CHEROKEE', 'MKX', 'GLE 400',\n",
              "       'TERRAIN', 'GLC 300', 'X6', 'KOLEOS', 'TRAVERSE', 'ACADIA', 'SRX',\n",
              "       'QX70', 'ENCLAVE', 'SUBURBAN', 'TAHOE', 'WRANGLER', 'MONTERO',\n",
              "       'ESCALADE', 'YUKON', 'NAVIGATOR', 'EXPEDITION', 'GLE 350',\n",
              "       'TOWN & COUNTRY', 'MDX', 'GLE 500', 'G 500', 'RDX', 'GLS 500',\n",
              "       'QX80', 'PILOT', 'ODYSSEY', 'GLS 63', 'G 63', 'G 65'], dtype=object)"
            ]
          },
          "metadata": {
            "tags": []
          },
          "execution_count": 17
        }
      ]
    },
    {
      "cell_type": "code",
      "metadata": {
        "ExecuteTime": {
          "end_time": "2021-03-12T02:23:55.333758Z",
          "start_time": "2021-03-12T02:23:55.295081Z"
        },
        "scrolled": true,
        "id": "i5jVv1W-LA9l",
        "outputId": "4b5a43cb-b176-41bb-dd56-84b91260a0ba"
      },
      "source": [
        "df.head()"
      ],
      "execution_count": null,
      "outputs": [
        {
          "output_type": "execute_result",
          "data": {
            "text/html": [
              "<div>\n",
              "<style scoped>\n",
              "    .dataframe tbody tr th:only-of-type {\n",
              "        vertical-align: middle;\n",
              "    }\n",
              "\n",
              "    .dataframe tbody tr th {\n",
              "        vertical-align: top;\n",
              "    }\n",
              "\n",
              "    .dataframe thead th {\n",
              "        text-align: right;\n",
              "    }\n",
              "</style>\n",
              "<table border=\"1\" class=\"dataframe\">\n",
              "  <thead>\n",
              "    <tr style=\"text-align: right;\">\n",
              "      <th></th>\n",
              "      <th>Marca</th>\n",
              "      <th>Submarca</th>\n",
              "      <th>Versión</th>\n",
              "      <th>Modelo</th>\n",
              "      <th>Trans.</th>\n",
              "      <th>Comb.</th>\n",
              "      <th>Cilindros</th>\n",
              "      <th>Potencia (HP)</th>\n",
              "      <th>Tamaño (L)</th>\n",
              "      <th>Categoría</th>\n",
              "      <th>R. Ciudad (km/l)</th>\n",
              "      <th>R. Carr. (km/l)</th>\n",
              "      <th>R. Comb. (km/l)</th>\n",
              "      <th>R. Ajust. (km/l)</th>\n",
              "      <th>CO2(g/km)</th>\n",
              "      <th>NOx (g/1000km)</th>\n",
              "      <th>Calificación Gas Ef. Inv.</th>\n",
              "      <th>Calificación Contam. Aire</th>\n",
              "      <th>lujo</th>\n",
              "    </tr>\n",
              "  </thead>\n",
              "  <tbody>\n",
              "    <tr>\n",
              "      <th>0</th>\n",
              "      <td>FORD</td>\n",
              "      <td>FUSION</td>\n",
              "      <td>HIBRIDO 4PTS 2.0L 4CIL 188HP AUT (eCVT)</td>\n",
              "      <td>2016</td>\n",
              "      <td>CVT</td>\n",
              "      <td>Gasolina</td>\n",
              "      <td>4</td>\n",
              "      <td>188</td>\n",
              "      <td>2.0</td>\n",
              "      <td>AUTOS COMPACTOS</td>\n",
              "      <td>27.44</td>\n",
              "      <td>28.57</td>\n",
              "      <td>28.93</td>\n",
              "      <td>21.70</td>\n",
              "      <td>107</td>\n",
              "      <td>0</td>\n",
              "      <td>10</td>\n",
              "      <td>9</td>\n",
              "      <td>normal</td>\n",
              "    </tr>\n",
              "    <tr>\n",
              "      <th>1</th>\n",
              "      <td>SEAT</td>\n",
              "      <td>TOLEDO</td>\n",
              "      <td>4PTAS 1.4L 4CIL125HP DSG TURBO</td>\n",
              "      <td>2016</td>\n",
              "      <td>DSG</td>\n",
              "      <td>Gasolina</td>\n",
              "      <td>4</td>\n",
              "      <td>125</td>\n",
              "      <td>1.4</td>\n",
              "      <td>AUTOS COMPACTOS</td>\n",
              "      <td>17.30</td>\n",
              "      <td>27.00</td>\n",
              "      <td>20.64</td>\n",
              "      <td>15.48</td>\n",
              "      <td>151</td>\n",
              "      <td>25</td>\n",
              "      <td>9</td>\n",
              "      <td>6</td>\n",
              "      <td>normal</td>\n",
              "    </tr>\n",
              "    <tr>\n",
              "      <th>2</th>\n",
              "      <td>MAZDA</td>\n",
              "      <td>MAZDA2</td>\n",
              "      <td>HATCHBACK 5PTAS 1.5L 4CIL 102HP AUT</td>\n",
              "      <td>2016</td>\n",
              "      <td>AUT</td>\n",
              "      <td>Gasolina</td>\n",
              "      <td>4</td>\n",
              "      <td>102</td>\n",
              "      <td>1.5</td>\n",
              "      <td>AUTOS COMPACTOS</td>\n",
              "      <td>17.30</td>\n",
              "      <td>24.00</td>\n",
              "      <td>19.79</td>\n",
              "      <td>14.84</td>\n",
              "      <td>157</td>\n",
              "      <td>9</td>\n",
              "      <td>8</td>\n",
              "      <td>9</td>\n",
              "      <td>normal</td>\n",
              "    </tr>\n",
              "    <tr>\n",
              "      <th>3</th>\n",
              "      <td>MAZDA</td>\n",
              "      <td>MAZDA2</td>\n",
              "      <td>i TOURING 5PTAS 1.5L 4CIL 106HP AUT R15</td>\n",
              "      <td>2016</td>\n",
              "      <td>AUT</td>\n",
              "      <td>Gasolina</td>\n",
              "      <td>4</td>\n",
              "      <td>106</td>\n",
              "      <td>1.5</td>\n",
              "      <td>AUTOS COMPACTOS</td>\n",
              "      <td>17.30</td>\n",
              "      <td>24.00</td>\n",
              "      <td>21.10</td>\n",
              "      <td>15.83</td>\n",
              "      <td>147</td>\n",
              "      <td>9</td>\n",
              "      <td>9</td>\n",
              "      <td>9</td>\n",
              "      <td>normal</td>\n",
              "    </tr>\n",
              "    <tr>\n",
              "      <th>4</th>\n",
              "      <td>MAZDA</td>\n",
              "      <td>MAZDA2</td>\n",
              "      <td>i GRAND TOURING 5PTAS 1.5L 4CIL 106HP AUT R16</td>\n",
              "      <td>2016</td>\n",
              "      <td>AUT</td>\n",
              "      <td>Gasolina</td>\n",
              "      <td>4</td>\n",
              "      <td>106</td>\n",
              "      <td>1.5</td>\n",
              "      <td>AUTOS COMPACTOS</td>\n",
              "      <td>17.30</td>\n",
              "      <td>24.00</td>\n",
              "      <td>21.10</td>\n",
              "      <td>15.83</td>\n",
              "      <td>147</td>\n",
              "      <td>9</td>\n",
              "      <td>9</td>\n",
              "      <td>9</td>\n",
              "      <td>normal</td>\n",
              "    </tr>\n",
              "  </tbody>\n",
              "</table>\n",
              "</div>"
            ],
            "text/plain": [
              "   Marca Submarca                                        Versión  Modelo  \\\n",
              "0   FORD   FUSION        HIBRIDO 4PTS 2.0L 4CIL 188HP AUT (eCVT)    2016   \n",
              "1   SEAT   TOLEDO                 4PTAS 1.4L 4CIL125HP DSG TURBO    2016   \n",
              "2  MAZDA   MAZDA2            HATCHBACK 5PTAS 1.5L 4CIL 102HP AUT    2016   \n",
              "3  MAZDA   MAZDA2        i TOURING 5PTAS 1.5L 4CIL 106HP AUT R15    2016   \n",
              "4  MAZDA   MAZDA2  i GRAND TOURING 5PTAS 1.5L 4CIL 106HP AUT R16    2016   \n",
              "\n",
              "  Trans.     Comb.  Cilindros  Potencia (HP)  Tamaño (L)        Categoría  \\\n",
              "0    CVT  Gasolina          4            188         2.0  AUTOS COMPACTOS   \n",
              "1    DSG  Gasolina          4            125         1.4  AUTOS COMPACTOS   \n",
              "2    AUT  Gasolina          4            102         1.5  AUTOS COMPACTOS   \n",
              "3    AUT  Gasolina          4            106         1.5  AUTOS COMPACTOS   \n",
              "4    AUT  Gasolina          4            106         1.5  AUTOS COMPACTOS   \n",
              "\n",
              "   R. Ciudad (km/l)  R. Carr. (km/l)  R. Comb. (km/l)  R. Ajust. (km/l)  \\\n",
              "0             27.44            28.57            28.93             21.70   \n",
              "1             17.30            27.00            20.64             15.48   \n",
              "2             17.30            24.00            19.79             14.84   \n",
              "3             17.30            24.00            21.10             15.83   \n",
              "4             17.30            24.00            21.10             15.83   \n",
              "\n",
              "   CO2(g/km)  NOx (g/1000km)  Calificación Gas Ef. Inv.  \\\n",
              "0        107               0                         10   \n",
              "1        151              25                          9   \n",
              "2        157               9                          8   \n",
              "3        147               9                          9   \n",
              "4        147               9                          9   \n",
              "\n",
              "  Calificación Contam. Aire    lujo  \n",
              "0                         9  normal  \n",
              "1                         6  normal  \n",
              "2                         9  normal  \n",
              "3                         9  normal  \n",
              "4                         9  normal  "
            ]
          },
          "metadata": {
            "tags": []
          },
          "execution_count": 18
        }
      ]
    },
    {
      "cell_type": "code",
      "metadata": {
        "ExecuteTime": {
          "end_time": "2021-03-12T02:25:15.762445Z",
          "start_time": "2021-03-12T02:25:15.755427Z"
        },
        "id": "8gW_wt6iLA9m"
      },
      "source": [
        "varc = ['Potencia (HP)',\n",
        "'Tamaño (L)',\n",
        "'R. Ciudad (km/l)',\n",
        "'R. Carr. (km/l)',\n",
        "'R. Comb. (km/l)',\n",
        "'R. Ajust. (km/l)',\n",
        "'CO2(g/km)',\n",
        "'NOx (g/1000km)',\n",
        "'Calificación Gas Ef. Inv.']"
      ],
      "execution_count": null,
      "outputs": []
    },
    {
      "cell_type": "code",
      "metadata": {
        "ExecuteTime": {
          "end_time": "2021-03-12T02:25:16.789546Z",
          "start_time": "2021-03-12T02:25:16.778197Z"
        },
        "id": "UVlPmLNwLA9m"
      },
      "source": [
        "X = df[varc].copy()"
      ],
      "execution_count": null,
      "outputs": []
    },
    {
      "cell_type": "code",
      "metadata": {
        "ExecuteTime": {
          "end_time": "2021-03-12T02:25:21.331494Z",
          "start_time": "2021-03-12T02:25:21.306974Z"
        },
        "id": "sD_jllObLA9m",
        "outputId": "c8eb071e-0147-4c47-f40b-0b9b828710b3"
      },
      "source": [
        "X"
      ],
      "execution_count": null,
      "outputs": [
        {
          "output_type": "execute_result",
          "data": {
            "text/html": [
              "<div>\n",
              "<style scoped>\n",
              "    .dataframe tbody tr th:only-of-type {\n",
              "        vertical-align: middle;\n",
              "    }\n",
              "\n",
              "    .dataframe tbody tr th {\n",
              "        vertical-align: top;\n",
              "    }\n",
              "\n",
              "    .dataframe thead th {\n",
              "        text-align: right;\n",
              "    }\n",
              "</style>\n",
              "<table border=\"1\" class=\"dataframe\">\n",
              "  <thead>\n",
              "    <tr style=\"text-align: right;\">\n",
              "      <th></th>\n",
              "      <th>Potencia (HP)</th>\n",
              "      <th>Tamaño (L)</th>\n",
              "      <th>R. Ciudad (km/l)</th>\n",
              "      <th>R. Carr. (km/l)</th>\n",
              "      <th>R. Comb. (km/l)</th>\n",
              "      <th>R. Ajust. (km/l)</th>\n",
              "      <th>CO2(g/km)</th>\n",
              "      <th>NOx (g/1000km)</th>\n",
              "      <th>Calificación Gas Ef. Inv.</th>\n",
              "    </tr>\n",
              "  </thead>\n",
              "  <tbody>\n",
              "    <tr>\n",
              "      <th>0</th>\n",
              "      <td>188</td>\n",
              "      <td>2.000</td>\n",
              "      <td>27.44</td>\n",
              "      <td>28.57</td>\n",
              "      <td>28.93</td>\n",
              "      <td>21.70</td>\n",
              "      <td>107</td>\n",
              "      <td>0</td>\n",
              "      <td>10</td>\n",
              "    </tr>\n",
              "    <tr>\n",
              "      <th>1</th>\n",
              "      <td>125</td>\n",
              "      <td>1.400</td>\n",
              "      <td>17.30</td>\n",
              "      <td>27.00</td>\n",
              "      <td>20.64</td>\n",
              "      <td>15.48</td>\n",
              "      <td>151</td>\n",
              "      <td>25</td>\n",
              "      <td>9</td>\n",
              "    </tr>\n",
              "    <tr>\n",
              "      <th>2</th>\n",
              "      <td>102</td>\n",
              "      <td>1.500</td>\n",
              "      <td>17.30</td>\n",
              "      <td>24.00</td>\n",
              "      <td>19.79</td>\n",
              "      <td>14.84</td>\n",
              "      <td>157</td>\n",
              "      <td>9</td>\n",
              "      <td>8</td>\n",
              "    </tr>\n",
              "    <tr>\n",
              "      <th>3</th>\n",
              "      <td>106</td>\n",
              "      <td>1.500</td>\n",
              "      <td>17.30</td>\n",
              "      <td>24.00</td>\n",
              "      <td>21.10</td>\n",
              "      <td>15.83</td>\n",
              "      <td>147</td>\n",
              "      <td>9</td>\n",
              "      <td>9</td>\n",
              "    </tr>\n",
              "    <tr>\n",
              "      <th>4</th>\n",
              "      <td>106</td>\n",
              "      <td>1.500</td>\n",
              "      <td>17.30</td>\n",
              "      <td>24.00</td>\n",
              "      <td>21.10</td>\n",
              "      <td>15.83</td>\n",
              "      <td>147</td>\n",
              "      <td>9</td>\n",
              "      <td>9</td>\n",
              "    </tr>\n",
              "    <tr>\n",
              "      <th>...</th>\n",
              "      <td>...</td>\n",
              "      <td>...</td>\n",
              "      <td>...</td>\n",
              "      <td>...</td>\n",
              "      <td>...</td>\n",
              "      <td>...</td>\n",
              "      <td>...</td>\n",
              "      <td>...</td>\n",
              "      <td>...</td>\n",
              "    </tr>\n",
              "    <tr>\n",
              "      <th>867</th>\n",
              "      <td>585</td>\n",
              "      <td>5.461</td>\n",
              "      <td>6.33</td>\n",
              "      <td>9.71</td>\n",
              "      <td>8.74</td>\n",
              "      <td>6.56</td>\n",
              "      <td>356</td>\n",
              "      <td>58</td>\n",
              "      <td>1</td>\n",
              "    </tr>\n",
              "    <tr>\n",
              "      <th>868</th>\n",
              "      <td>421</td>\n",
              "      <td>3.982</td>\n",
              "      <td>6.14</td>\n",
              "      <td>8.13</td>\n",
              "      <td>8.10</td>\n",
              "      <td>6.07</td>\n",
              "      <td>384</td>\n",
              "      <td>26</td>\n",
              "      <td>0</td>\n",
              "    </tr>\n",
              "    <tr>\n",
              "      <th>869</th>\n",
              "      <td>285</td>\n",
              "      <td>3.600</td>\n",
              "      <td>5.92</td>\n",
              "      <td>10.88</td>\n",
              "      <td>7.45</td>\n",
              "      <td>5.59</td>\n",
              "      <td>417</td>\n",
              "      <td>33</td>\n",
              "      <td>0</td>\n",
              "    </tr>\n",
              "    <tr>\n",
              "      <th>870</th>\n",
              "      <td>571</td>\n",
              "      <td>5.461</td>\n",
              "      <td>5.81</td>\n",
              "      <td>8.47</td>\n",
              "      <td>7.96</td>\n",
              "      <td>5.97</td>\n",
              "      <td>390</td>\n",
              "      <td>29</td>\n",
              "      <td>0</td>\n",
              "    </tr>\n",
              "    <tr>\n",
              "      <th>871</th>\n",
              "      <td>630</td>\n",
              "      <td>5.980</td>\n",
              "      <td>4.41</td>\n",
              "      <td>7.30</td>\n",
              "      <td>6.45</td>\n",
              "      <td>4.84</td>\n",
              "      <td>482</td>\n",
              "      <td>38</td>\n",
              "      <td>0</td>\n",
              "    </tr>\n",
              "  </tbody>\n",
              "</table>\n",
              "<p>872 rows × 9 columns</p>\n",
              "</div>"
            ],
            "text/plain": [
              "     Potencia (HP)  Tamaño (L)  R. Ciudad (km/l)  R. Carr. (km/l)  \\\n",
              "0              188       2.000             27.44            28.57   \n",
              "1              125       1.400             17.30            27.00   \n",
              "2              102       1.500             17.30            24.00   \n",
              "3              106       1.500             17.30            24.00   \n",
              "4              106       1.500             17.30            24.00   \n",
              "..             ...         ...               ...              ...   \n",
              "867            585       5.461              6.33             9.71   \n",
              "868            421       3.982              6.14             8.13   \n",
              "869            285       3.600              5.92            10.88   \n",
              "870            571       5.461              5.81             8.47   \n",
              "871            630       5.980              4.41             7.30   \n",
              "\n",
              "     R. Comb. (km/l)  R. Ajust. (km/l)  CO2(g/km)  NOx (g/1000km)  \\\n",
              "0              28.93             21.70        107               0   \n",
              "1              20.64             15.48        151              25   \n",
              "2              19.79             14.84        157               9   \n",
              "3              21.10             15.83        147               9   \n",
              "4              21.10             15.83        147               9   \n",
              "..               ...               ...        ...             ...   \n",
              "867             8.74              6.56        356              58   \n",
              "868             8.10              6.07        384              26   \n",
              "869             7.45              5.59        417              33   \n",
              "870             7.96              5.97        390              29   \n",
              "871             6.45              4.84        482              38   \n",
              "\n",
              "     Calificación Gas Ef. Inv.  \n",
              "0                           10  \n",
              "1                            9  \n",
              "2                            8  \n",
              "3                            9  \n",
              "4                            9  \n",
              "..                         ...  \n",
              "867                          1  \n",
              "868                          0  \n",
              "869                          0  \n",
              "870                          0  \n",
              "871                          0  \n",
              "\n",
              "[872 rows x 9 columns]"
            ]
          },
          "metadata": {
            "tags": []
          },
          "execution_count": 22
        }
      ]
    },
    {
      "cell_type": "code",
      "metadata": {
        "ExecuteTime": {
          "end_time": "2021-03-12T02:25:44.279501Z",
          "start_time": "2021-03-12T02:25:44.266229Z"
        },
        "id": "zkPdALD3LA9n",
        "outputId": "311b595b-578b-430b-9d31-37b14945aa98"
      },
      "source": [
        "df[\"Calificación Gas Ef. Inv.\"].value_counts()"
      ],
      "execution_count": null,
      "outputs": [
        {
          "output_type": "execute_result",
          "data": {
            "text/plain": [
              "7     173\n",
              "8     160\n",
              "6     136\n",
              "4     108\n",
              "5     101\n",
              "3      79\n",
              "0      34\n",
              "2      30\n",
              "9      28\n",
              "1      21\n",
              "10      2\n",
              "Name: Calificación Gas Ef. Inv., dtype: int64"
            ]
          },
          "metadata": {
            "tags": []
          },
          "execution_count": 23
        }
      ]
    },
    {
      "cell_type": "code",
      "metadata": {
        "ExecuteTime": {
          "end_time": "2021-03-12T02:26:21.710346Z",
          "start_time": "2021-03-12T02:26:21.611079Z"
        },
        "id": "Kb0KfuPHLA9o",
        "outputId": "450a882f-8424-447b-d0a8-7396b723dbaf"
      },
      "source": [
        "X.describe()"
      ],
      "execution_count": null,
      "outputs": [
        {
          "output_type": "execute_result",
          "data": {
            "text/html": [
              "<div>\n",
              "<style scoped>\n",
              "    .dataframe tbody tr th:only-of-type {\n",
              "        vertical-align: middle;\n",
              "    }\n",
              "\n",
              "    .dataframe tbody tr th {\n",
              "        vertical-align: top;\n",
              "    }\n",
              "\n",
              "    .dataframe thead th {\n",
              "        text-align: right;\n",
              "    }\n",
              "</style>\n",
              "<table border=\"1\" class=\"dataframe\">\n",
              "  <thead>\n",
              "    <tr style=\"text-align: right;\">\n",
              "      <th></th>\n",
              "      <th>Potencia (HP)</th>\n",
              "      <th>Tamaño (L)</th>\n",
              "      <th>R. Ciudad (km/l)</th>\n",
              "      <th>R. Carr. (km/l)</th>\n",
              "      <th>R. Comb. (km/l)</th>\n",
              "      <th>R. Ajust. (km/l)</th>\n",
              "      <th>CO2(g/km)</th>\n",
              "      <th>NOx (g/1000km)</th>\n",
              "      <th>Calificación Gas Ef. Inv.</th>\n",
              "    </tr>\n",
              "  </thead>\n",
              "  <tbody>\n",
              "    <tr>\n",
              "      <th>count</th>\n",
              "      <td>872.000000</td>\n",
              "      <td>872.000000</td>\n",
              "      <td>872.000000</td>\n",
              "      <td>872.000000</td>\n",
              "      <td>872.000000</td>\n",
              "      <td>872.000000</td>\n",
              "      <td>872.000000</td>\n",
              "      <td>872.000000</td>\n",
              "      <td>872.000000</td>\n",
              "    </tr>\n",
              "    <tr>\n",
              "      <th>mean</th>\n",
              "      <td>265.212156</td>\n",
              "      <td>2.749361</td>\n",
              "      <td>11.542248</td>\n",
              "      <td>17.713922</td>\n",
              "      <td>14.116560</td>\n",
              "      <td>10.587122</td>\n",
              "      <td>236.723624</td>\n",
              "      <td>29.110092</td>\n",
              "      <td>5.543578</td>\n",
              "    </tr>\n",
              "    <tr>\n",
              "      <th>std</th>\n",
              "      <td>139.915506</td>\n",
              "      <td>1.255714</td>\n",
              "      <td>3.191558</td>\n",
              "      <td>4.129299</td>\n",
              "      <td>3.560552</td>\n",
              "      <td>2.670440</td>\n",
              "      <td>64.126923</td>\n",
              "      <td>49.230023</td>\n",
              "      <td>2.244612</td>\n",
              "    </tr>\n",
              "    <tr>\n",
              "      <th>min</th>\n",
              "      <td>71.000000</td>\n",
              "      <td>0.898000</td>\n",
              "      <td>4.000000</td>\n",
              "      <td>7.300000</td>\n",
              "      <td>5.780000</td>\n",
              "      <td>4.330000</td>\n",
              "      <td>107.000000</td>\n",
              "      <td>0.000000</td>\n",
              "      <td>0.000000</td>\n",
              "    </tr>\n",
              "    <tr>\n",
              "      <th>25%</th>\n",
              "      <td>152.000000</td>\n",
              "      <td>1.991000</td>\n",
              "      <td>9.100000</td>\n",
              "      <td>14.660000</td>\n",
              "      <td>11.390000</td>\n",
              "      <td>8.540000</td>\n",
              "      <td>188.000000</td>\n",
              "      <td>10.000000</td>\n",
              "      <td>4.000000</td>\n",
              "    </tr>\n",
              "    <tr>\n",
              "      <th>50%</th>\n",
              "      <td>237.000000</td>\n",
              "      <td>2.400000</td>\n",
              "      <td>11.500000</td>\n",
              "      <td>17.540000</td>\n",
              "      <td>13.950000</td>\n",
              "      <td>10.460000</td>\n",
              "      <td>225.500000</td>\n",
              "      <td>18.000000</td>\n",
              "      <td>6.000000</td>\n",
              "    </tr>\n",
              "    <tr>\n",
              "      <th>75%</th>\n",
              "      <td>350.000000</td>\n",
              "      <td>3.500000</td>\n",
              "      <td>13.645000</td>\n",
              "      <td>20.807500</td>\n",
              "      <td>16.600000</td>\n",
              "      <td>12.450000</td>\n",
              "      <td>274.250000</td>\n",
              "      <td>28.000000</td>\n",
              "      <td>7.000000</td>\n",
              "    </tr>\n",
              "    <tr>\n",
              "      <th>max</th>\n",
              "      <td>888.000000</td>\n",
              "      <td>8.400000</td>\n",
              "      <td>27.440000</td>\n",
              "      <td>31.100000</td>\n",
              "      <td>28.930000</td>\n",
              "      <td>21.700000</td>\n",
              "      <td>538.000000</td>\n",
              "      <td>359.000000</td>\n",
              "      <td>10.000000</td>\n",
              "    </tr>\n",
              "  </tbody>\n",
              "</table>\n",
              "</div>"
            ],
            "text/plain": [
              "       Potencia (HP)  Tamaño (L)  R. Ciudad (km/l)  R. Carr. (km/l)  \\\n",
              "count     872.000000  872.000000        872.000000       872.000000   \n",
              "mean      265.212156    2.749361         11.542248        17.713922   \n",
              "std       139.915506    1.255714          3.191558         4.129299   \n",
              "min        71.000000    0.898000          4.000000         7.300000   \n",
              "25%       152.000000    1.991000          9.100000        14.660000   \n",
              "50%       237.000000    2.400000         11.500000        17.540000   \n",
              "75%       350.000000    3.500000         13.645000        20.807500   \n",
              "max       888.000000    8.400000         27.440000        31.100000   \n",
              "\n",
              "       R. Comb. (km/l)  R. Ajust. (km/l)   CO2(g/km)  NOx (g/1000km)  \\\n",
              "count       872.000000        872.000000  872.000000      872.000000   \n",
              "mean         14.116560         10.587122  236.723624       29.110092   \n",
              "std           3.560552          2.670440   64.126923       49.230023   \n",
              "min           5.780000          4.330000  107.000000        0.000000   \n",
              "25%          11.390000          8.540000  188.000000       10.000000   \n",
              "50%          13.950000         10.460000  225.500000       18.000000   \n",
              "75%          16.600000         12.450000  274.250000       28.000000   \n",
              "max          28.930000         21.700000  538.000000      359.000000   \n",
              "\n",
              "       Calificación Gas Ef. Inv.  \n",
              "count                 872.000000  \n",
              "mean                    5.543578  \n",
              "std                     2.244612  \n",
              "min                     0.000000  \n",
              "25%                     4.000000  \n",
              "50%                     6.000000  \n",
              "75%                     7.000000  \n",
              "max                    10.000000  "
            ]
          },
          "metadata": {
            "tags": []
          },
          "execution_count": 24
        }
      ]
    },
    {
      "cell_type": "code",
      "metadata": {
        "ExecuteTime": {
          "end_time": "2021-03-12T02:29:08.676207Z",
          "start_time": "2021-03-12T02:29:08.648247Z"
        },
        "id": "ViHcH3eSLA9o",
        "outputId": "b789b7cb-73d4-4596-b742-62ffe9540285"
      },
      "source": [
        "X.corr()"
      ],
      "execution_count": null,
      "outputs": [
        {
          "output_type": "execute_result",
          "data": {
            "text/html": [
              "<div>\n",
              "<style scoped>\n",
              "    .dataframe tbody tr th:only-of-type {\n",
              "        vertical-align: middle;\n",
              "    }\n",
              "\n",
              "    .dataframe tbody tr th {\n",
              "        vertical-align: top;\n",
              "    }\n",
              "\n",
              "    .dataframe thead th {\n",
              "        text-align: right;\n",
              "    }\n",
              "</style>\n",
              "<table border=\"1\" class=\"dataframe\">\n",
              "  <thead>\n",
              "    <tr style=\"text-align: right;\">\n",
              "      <th></th>\n",
              "      <th>Potencia (HP)</th>\n",
              "      <th>Tamaño (L)</th>\n",
              "      <th>R. Ciudad (km/l)</th>\n",
              "      <th>R. Carr. (km/l)</th>\n",
              "      <th>R. Comb. (km/l)</th>\n",
              "      <th>R. Ajust. (km/l)</th>\n",
              "      <th>CO2(g/km)</th>\n",
              "      <th>NOx (g/1000km)</th>\n",
              "      <th>Calificación Gas Ef. Inv.</th>\n",
              "    </tr>\n",
              "  </thead>\n",
              "  <tbody>\n",
              "    <tr>\n",
              "      <th>Potencia (HP)</th>\n",
              "      <td>1.000000</td>\n",
              "      <td>0.874105</td>\n",
              "      <td>-0.761975</td>\n",
              "      <td>-0.714251</td>\n",
              "      <td>-0.761101</td>\n",
              "      <td>-0.761141</td>\n",
              "      <td>0.775624</td>\n",
              "      <td>-0.133509</td>\n",
              "      <td>-0.769399</td>\n",
              "    </tr>\n",
              "    <tr>\n",
              "      <th>Tamaño (L)</th>\n",
              "      <td>0.874105</td>\n",
              "      <td>1.000000</td>\n",
              "      <td>-0.781395</td>\n",
              "      <td>-0.739928</td>\n",
              "      <td>-0.782133</td>\n",
              "      <td>-0.782121</td>\n",
              "      <td>0.832223</td>\n",
              "      <td>-0.078420</td>\n",
              "      <td>-0.833637</td>\n",
              "    </tr>\n",
              "    <tr>\n",
              "      <th>R. Ciudad (km/l)</th>\n",
              "      <td>-0.761975</td>\n",
              "      <td>-0.781395</td>\n",
              "      <td>1.000000</td>\n",
              "      <td>0.907787</td>\n",
              "      <td>0.972684</td>\n",
              "      <td>0.972689</td>\n",
              "      <td>-0.913464</td>\n",
              "      <td>0.061018</td>\n",
              "      <td>0.912540</td>\n",
              "    </tr>\n",
              "    <tr>\n",
              "      <th>R. Carr. (km/l)</th>\n",
              "      <td>-0.714251</td>\n",
              "      <td>-0.739928</td>\n",
              "      <td>0.907787</td>\n",
              "      <td>1.000000</td>\n",
              "      <td>0.945629</td>\n",
              "      <td>0.945648</td>\n",
              "      <td>-0.909851</td>\n",
              "      <td>-0.051884</td>\n",
              "      <td>0.912348</td>\n",
              "    </tr>\n",
              "    <tr>\n",
              "      <th>R. Comb. (km/l)</th>\n",
              "      <td>-0.761101</td>\n",
              "      <td>-0.782133</td>\n",
              "      <td>0.972684</td>\n",
              "      <td>0.945629</td>\n",
              "      <td>1.000000</td>\n",
              "      <td>0.999999</td>\n",
              "      <td>-0.939977</td>\n",
              "      <td>0.063029</td>\n",
              "      <td>0.941997</td>\n",
              "    </tr>\n",
              "    <tr>\n",
              "      <th>R. Ajust. (km/l)</th>\n",
              "      <td>-0.761141</td>\n",
              "      <td>-0.782121</td>\n",
              "      <td>0.972689</td>\n",
              "      <td>0.945648</td>\n",
              "      <td>0.999999</td>\n",
              "      <td>1.000000</td>\n",
              "      <td>-0.940017</td>\n",
              "      <td>0.062915</td>\n",
              "      <td>0.942050</td>\n",
              "    </tr>\n",
              "    <tr>\n",
              "      <th>CO2(g/km)</th>\n",
              "      <td>0.775624</td>\n",
              "      <td>0.832223</td>\n",
              "      <td>-0.913464</td>\n",
              "      <td>-0.909851</td>\n",
              "      <td>-0.939977</td>\n",
              "      <td>-0.940017</td>\n",
              "      <td>1.000000</td>\n",
              "      <td>0.009453</td>\n",
              "      <td>-0.977628</td>\n",
              "    </tr>\n",
              "    <tr>\n",
              "      <th>NOx (g/1000km)</th>\n",
              "      <td>-0.133509</td>\n",
              "      <td>-0.078420</td>\n",
              "      <td>0.061018</td>\n",
              "      <td>-0.051884</td>\n",
              "      <td>0.063029</td>\n",
              "      <td>0.062915</td>\n",
              "      <td>0.009453</td>\n",
              "      <td>1.000000</td>\n",
              "      <td>-0.018382</td>\n",
              "    </tr>\n",
              "    <tr>\n",
              "      <th>Calificación Gas Ef. Inv.</th>\n",
              "      <td>-0.769399</td>\n",
              "      <td>-0.833637</td>\n",
              "      <td>0.912540</td>\n",
              "      <td>0.912348</td>\n",
              "      <td>0.941997</td>\n",
              "      <td>0.942050</td>\n",
              "      <td>-0.977628</td>\n",
              "      <td>-0.018382</td>\n",
              "      <td>1.000000</td>\n",
              "    </tr>\n",
              "  </tbody>\n",
              "</table>\n",
              "</div>"
            ],
            "text/plain": [
              "                           Potencia (HP)  Tamaño (L)  R. Ciudad (km/l)  \\\n",
              "Potencia (HP)                   1.000000    0.874105         -0.761975   \n",
              "Tamaño (L)                      0.874105    1.000000         -0.781395   \n",
              "R. Ciudad (km/l)               -0.761975   -0.781395          1.000000   \n",
              "R. Carr. (km/l)                -0.714251   -0.739928          0.907787   \n",
              "R. Comb. (km/l)                -0.761101   -0.782133          0.972684   \n",
              "R. Ajust. (km/l)               -0.761141   -0.782121          0.972689   \n",
              "CO2(g/km)                       0.775624    0.832223         -0.913464   \n",
              "NOx (g/1000km)                 -0.133509   -0.078420          0.061018   \n",
              "Calificación Gas Ef. Inv.      -0.769399   -0.833637          0.912540   \n",
              "\n",
              "                           R. Carr. (km/l)  R. Comb. (km/l)  R. Ajust. (km/l)  \\\n",
              "Potencia (HP)                    -0.714251        -0.761101         -0.761141   \n",
              "Tamaño (L)                       -0.739928        -0.782133         -0.782121   \n",
              "R. Ciudad (km/l)                  0.907787         0.972684          0.972689   \n",
              "R. Carr. (km/l)                   1.000000         0.945629          0.945648   \n",
              "R. Comb. (km/l)                   0.945629         1.000000          0.999999   \n",
              "R. Ajust. (km/l)                  0.945648         0.999999          1.000000   \n",
              "CO2(g/km)                        -0.909851        -0.939977         -0.940017   \n",
              "NOx (g/1000km)                   -0.051884         0.063029          0.062915   \n",
              "Calificación Gas Ef. Inv.         0.912348         0.941997          0.942050   \n",
              "\n",
              "                           CO2(g/km)  NOx (g/1000km)  \\\n",
              "Potencia (HP)               0.775624       -0.133509   \n",
              "Tamaño (L)                  0.832223       -0.078420   \n",
              "R. Ciudad (km/l)           -0.913464        0.061018   \n",
              "R. Carr. (km/l)            -0.909851       -0.051884   \n",
              "R. Comb. (km/l)            -0.939977        0.063029   \n",
              "R. Ajust. (km/l)           -0.940017        0.062915   \n",
              "CO2(g/km)                   1.000000        0.009453   \n",
              "NOx (g/1000km)              0.009453        1.000000   \n",
              "Calificación Gas Ef. Inv.  -0.977628       -0.018382   \n",
              "\n",
              "                           Calificación Gas Ef. Inv.  \n",
              "Potencia (HP)                              -0.769399  \n",
              "Tamaño (L)                                 -0.833637  \n",
              "R. Ciudad (km/l)                            0.912540  \n",
              "R. Carr. (km/l)                             0.912348  \n",
              "R. Comb. (km/l)                             0.941997  \n",
              "R. Ajust. (km/l)                            0.942050  \n",
              "CO2(g/km)                                  -0.977628  \n",
              "NOx (g/1000km)                             -0.018382  \n",
              "Calificación Gas Ef. Inv.                   1.000000  "
            ]
          },
          "metadata": {
            "tags": []
          },
          "execution_count": 25
        }
      ]
    },
    {
      "cell_type": "markdown",
      "metadata": {
        "id": "mkY92Mq4LA9p"
      },
      "source": [
        "## Reducción de dimensiones"
      ]
    },
    {
      "cell_type": "markdown",
      "metadata": {
        "id": "z_trNrrmLA9q"
      },
      "source": [
        "### Construcción de objetos"
      ]
    },
    {
      "cell_type": "code",
      "metadata": {
        "ExecuteTime": {
          "end_time": "2021-03-12T02:30:21.997551Z",
          "start_time": "2021-03-12T02:30:21.802628Z"
        },
        "id": "cqVZ-d34LA9q"
      },
      "source": [
        "PCA?"
      ],
      "execution_count": null,
      "outputs": []
    },
    {
      "cell_type": "code",
      "metadata": {
        "ExecuteTime": {
          "end_time": "2021-03-12T02:46:29.473686Z",
          "start_time": "2021-03-12T02:46:29.406224Z"
        },
        "id": "S5XQ6VptLA9r",
        "outputId": "30e8c824-e952-408c-ef0d-ce30e1e8f190"
      },
      "source": [
        "scaler = StandardScaler()\n",
        "scaler.fit(X)\n",
        "Xs = pd.DataFrame(scaler.transform(X),columns=varc)\n",
        "pca = PCA(n_components=2)\n",
        "mds = MDS(n_components=2,n_jobs=-1)\n",
        "tsne = TSNE(n_components=2, perplexity=0)\n",
        "pca.fit(Xs)"
      ],
      "execution_count": null,
      "outputs": [
        {
          "output_type": "execute_result",
          "data": {
            "text/plain": [
              "PCA(copy=True, iterated_power='auto', n_components=2, random_state=None,\n",
              "    svd_solver='auto', tol=0.0, whiten=False)"
            ]
          },
          "metadata": {
            "tags": []
          },
          "execution_count": 50
        }
      ]
    },
    {
      "cell_type": "markdown",
      "metadata": {
        "id": "_L2qdArzLA9r"
      },
      "source": [
        "### PCA"
      ]
    },
    {
      "cell_type": "code",
      "metadata": {
        "ExecuteTime": {
          "end_time": "2021-03-12T02:46:30.222024Z",
          "start_time": "2021-03-12T02:46:30.211857Z"
        },
        "id": "wdB1bMm0LA9s",
        "outputId": "a53ac7b1-4381-405b-f0b9-4e936d1dd187"
      },
      "source": [
        "pca.explained_variance_ratio_"
      ],
      "execution_count": null,
      "outputs": [
        {
          "output_type": "execute_result",
          "data": {
            "text/plain": [
              "array([0.78828895, 0.11526344])"
            ]
          },
          "metadata": {
            "tags": []
          },
          "execution_count": 51
        }
      ]
    },
    {
      "cell_type": "code",
      "metadata": {
        "ExecuteTime": {
          "end_time": "2021-03-12T02:46:30.659917Z",
          "start_time": "2021-03-12T02:46:30.648214Z"
        },
        "id": "ZovCtowhLA9s",
        "outputId": "f36d4476-baf5-4dfd-e79f-1921fd21c50e"
      },
      "source": [
        "pca.explained_variance_ratio_.cumsum()"
      ],
      "execution_count": null,
      "outputs": [
        {
          "output_type": "execute_result",
          "data": {
            "text/plain": [
              "array([0.78828895, 0.90355239])"
            ]
          },
          "metadata": {
            "tags": []
          },
          "execution_count": 52
        }
      ]
    },
    {
      "cell_type": "code",
      "metadata": {
        "ExecuteTime": {
          "end_time": "2021-03-12T02:46:31.155226Z",
          "start_time": "2021-03-12T02:46:31.144301Z"
        },
        "id": "g8bYvwP_LA9t"
      },
      "source": [
        "Xp = pd.DataFrame(pca.transform(Xs),columns=['p1','p2'])"
      ],
      "execution_count": null,
      "outputs": []
    },
    {
      "cell_type": "code",
      "metadata": {
        "ExecuteTime": {
          "end_time": "2021-03-12T02:46:31.534227Z",
          "start_time": "2021-03-12T02:46:31.518199Z"
        },
        "id": "ejgHjmlcLA9t",
        "outputId": "60c53147-9d29-4b68-b918-ec47886109d7"
      },
      "source": [
        "Xp.corr()"
      ],
      "execution_count": null,
      "outputs": [
        {
          "output_type": "execute_result",
          "data": {
            "text/html": [
              "<div>\n",
              "<style scoped>\n",
              "    .dataframe tbody tr th:only-of-type {\n",
              "        vertical-align: middle;\n",
              "    }\n",
              "\n",
              "    .dataframe tbody tr th {\n",
              "        vertical-align: top;\n",
              "    }\n",
              "\n",
              "    .dataframe thead th {\n",
              "        text-align: right;\n",
              "    }\n",
              "</style>\n",
              "<table border=\"1\" class=\"dataframe\">\n",
              "  <thead>\n",
              "    <tr style=\"text-align: right;\">\n",
              "      <th></th>\n",
              "      <th>p1</th>\n",
              "      <th>p2</th>\n",
              "    </tr>\n",
              "  </thead>\n",
              "  <tbody>\n",
              "    <tr>\n",
              "      <th>p1</th>\n",
              "      <td>1.000000e+00</td>\n",
              "      <td>-3.942231e-18</td>\n",
              "    </tr>\n",
              "    <tr>\n",
              "      <th>p2</th>\n",
              "      <td>-3.942231e-18</td>\n",
              "      <td>1.000000e+00</td>\n",
              "    </tr>\n",
              "  </tbody>\n",
              "</table>\n",
              "</div>"
            ],
            "text/plain": [
              "              p1            p2\n",
              "p1  1.000000e+00 -3.942231e-18\n",
              "p2 -3.942231e-18  1.000000e+00"
            ]
          },
          "metadata": {
            "tags": []
          },
          "execution_count": 54
        }
      ]
    },
    {
      "cell_type": "code",
      "metadata": {
        "ExecuteTime": {
          "end_time": "2021-03-12T02:46:31.869708Z",
          "start_time": "2021-03-12T02:46:31.852667Z"
        },
        "id": "S63Sq8FDLA9u",
        "outputId": "cff6c24c-bd5e-406e-838b-da692629cd60"
      },
      "source": [
        "Xp"
      ],
      "execution_count": null,
      "outputs": [
        {
          "output_type": "execute_result",
          "data": {
            "text/html": [
              "<div>\n",
              "<style scoped>\n",
              "    .dataframe tbody tr th:only-of-type {\n",
              "        vertical-align: middle;\n",
              "    }\n",
              "\n",
              "    .dataframe tbody tr th {\n",
              "        vertical-align: top;\n",
              "    }\n",
              "\n",
              "    .dataframe thead th {\n",
              "        text-align: right;\n",
              "    }\n",
              "</style>\n",
              "<table border=\"1\" class=\"dataframe\">\n",
              "  <thead>\n",
              "    <tr style=\"text-align: right;\">\n",
              "      <th></th>\n",
              "      <th>p1</th>\n",
              "      <th>p2</th>\n",
              "    </tr>\n",
              "  </thead>\n",
              "  <tbody>\n",
              "    <tr>\n",
              "      <th>0</th>\n",
              "      <td>7.609926</td>\n",
              "      <td>-1.049495</td>\n",
              "    </tr>\n",
              "    <tr>\n",
              "      <th>1</th>\n",
              "      <td>4.513191</td>\n",
              "      <td>-0.315932</td>\n",
              "    </tr>\n",
              "    <tr>\n",
              "      <th>2</th>\n",
              "      <td>3.904297</td>\n",
              "      <td>-0.481186</td>\n",
              "    </tr>\n",
              "    <tr>\n",
              "      <th>3</th>\n",
              "      <td>4.385726</td>\n",
              "      <td>-0.532138</td>\n",
              "    </tr>\n",
              "    <tr>\n",
              "      <th>4</th>\n",
              "      <td>4.385726</td>\n",
              "      <td>-0.532138</td>\n",
              "    </tr>\n",
              "    <tr>\n",
              "      <th>...</th>\n",
              "      <td>...</td>\n",
              "      <td>...</td>\n",
              "    </tr>\n",
              "    <tr>\n",
              "      <th>867</th>\n",
              "      <td>-5.227647</td>\n",
              "      <td>0.538960</td>\n",
              "    </tr>\n",
              "    <tr>\n",
              "      <th>868</th>\n",
              "      <td>-5.090165</td>\n",
              "      <td>0.306935</td>\n",
              "    </tr>\n",
              "    <tr>\n",
              "      <th>869</th>\n",
              "      <td>-4.787905</td>\n",
              "      <td>0.578339</td>\n",
              "    </tr>\n",
              "    <tr>\n",
              "      <th>870</th>\n",
              "      <td>-5.888455</td>\n",
              "      <td>0.089617</td>\n",
              "    </tr>\n",
              "    <tr>\n",
              "      <th>871</th>\n",
              "      <td>-7.248078</td>\n",
              "      <td>0.295331</td>\n",
              "    </tr>\n",
              "  </tbody>\n",
              "</table>\n",
              "<p>872 rows × 2 columns</p>\n",
              "</div>"
            ],
            "text/plain": [
              "           p1        p2\n",
              "0    7.609926 -1.049495\n",
              "1    4.513191 -0.315932\n",
              "2    3.904297 -0.481186\n",
              "3    4.385726 -0.532138\n",
              "4    4.385726 -0.532138\n",
              "..        ...       ...\n",
              "867 -5.227647  0.538960\n",
              "868 -5.090165  0.306935\n",
              "869 -4.787905  0.578339\n",
              "870 -5.888455  0.089617\n",
              "871 -7.248078  0.295331\n",
              "\n",
              "[872 rows x 2 columns]"
            ]
          },
          "metadata": {
            "tags": []
          },
          "execution_count": 55
        }
      ]
    },
    {
      "cell_type": "code",
      "metadata": {
        "ExecuteTime": {
          "end_time": "2021-03-12T02:46:33.846293Z",
          "start_time": "2021-03-12T02:46:32.176656Z"
        },
        "id": "HO_P_oCsLA9u",
        "outputId": "50529a7d-3592-47f8-97cc-4d9228f7234b"
      },
      "source": [
        "pca.components_"
      ],
      "execution_count": null,
      "outputs": [
        {
          "output_type": "execute_result",
          "data": {
            "text/plain": [
              "array([[-0.31816897, -0.32886451,  0.36110139,  0.35366416,  0.36729735,\n",
              "         0.36730427, -0.36398648,  0.01773354,  0.36403802],\n",
              "       [-0.15850012, -0.08683691,  0.00393487, -0.12337185, -0.00286919,\n",
              "        -0.00297931,  0.06635061,  0.97051363, -0.07605756]])"
            ]
          },
          "metadata": {
            "tags": []
          },
          "execution_count": 56
        }
      ]
    },
    {
      "cell_type": "markdown",
      "metadata": {
        "id": "pZyykjPrLA9v"
      },
      "source": [
        "### MDS"
      ]
    },
    {
      "cell_type": "code",
      "metadata": {
        "ExecuteTime": {
          "end_time": "2021-03-12T02:46:34.802521Z",
          "start_time": "2021-03-12T02:46:33.855187Z"
        },
        "id": "maa6NCHBLA9v"
      },
      "source": [
        "MDS?"
      ],
      "execution_count": null,
      "outputs": []
    },
    {
      "cell_type": "code",
      "metadata": {
        "ExecuteTime": {
          "end_time": "2021-03-12T02:46:52.350397Z",
          "start_time": "2021-03-12T02:46:34.812001Z"
        },
        "id": "32-73TWwLA9w"
      },
      "source": [
        "Xm = pd.DataFrame(mds.fit_transform(Xs),columns=['d1','d2'])"
      ],
      "execution_count": null,
      "outputs": []
    },
    {
      "cell_type": "code",
      "metadata": {
        "ExecuteTime": {
          "end_time": "2021-03-12T02:46:52.362109Z",
          "start_time": "2021-03-12T02:46:52.352161Z"
        },
        "id": "OPS37g1KLA9w",
        "outputId": "26843fa9-77b3-4131-8e39-9a3cc329e608"
      },
      "source": [
        "Xm.head()"
      ],
      "execution_count": null,
      "outputs": [
        {
          "output_type": "execute_result",
          "data": {
            "text/html": [
              "<div>\n",
              "<style scoped>\n",
              "    .dataframe tbody tr th:only-of-type {\n",
              "        vertical-align: middle;\n",
              "    }\n",
              "\n",
              "    .dataframe tbody tr th {\n",
              "        vertical-align: top;\n",
              "    }\n",
              "\n",
              "    .dataframe thead th {\n",
              "        text-align: right;\n",
              "    }\n",
              "</style>\n",
              "<table border=\"1\" class=\"dataframe\">\n",
              "  <thead>\n",
              "    <tr style=\"text-align: right;\">\n",
              "      <th></th>\n",
              "      <th>d1</th>\n",
              "      <th>d2</th>\n",
              "    </tr>\n",
              "  </thead>\n",
              "  <tbody>\n",
              "    <tr>\n",
              "      <th>0</th>\n",
              "      <td>5.565568</td>\n",
              "      <td>-6.811015</td>\n",
              "    </tr>\n",
              "    <tr>\n",
              "      <th>1</th>\n",
              "      <td>3.210323</td>\n",
              "      <td>-3.386638</td>\n",
              "    </tr>\n",
              "    <tr>\n",
              "      <th>2</th>\n",
              "      <td>2.468226</td>\n",
              "      <td>-3.193904</td>\n",
              "    </tr>\n",
              "    <tr>\n",
              "      <th>3</th>\n",
              "      <td>2.835504</td>\n",
              "      <td>-3.522807</td>\n",
              "    </tr>\n",
              "    <tr>\n",
              "      <th>4</th>\n",
              "      <td>2.835440</td>\n",
              "      <td>-3.522860</td>\n",
              "    </tr>\n",
              "  </tbody>\n",
              "</table>\n",
              "</div>"
            ],
            "text/plain": [
              "         d1        d2\n",
              "0  5.565568 -6.811015\n",
              "1  3.210323 -3.386638\n",
              "2  2.468226 -3.193904\n",
              "3  2.835504 -3.522807\n",
              "4  2.835440 -3.522860"
            ]
          },
          "metadata": {
            "tags": []
          },
          "execution_count": 59
        }
      ]
    },
    {
      "cell_type": "markdown",
      "metadata": {
        "id": "qJRLmGo9LA9w"
      },
      "source": [
        "### t-SNE"
      ]
    },
    {
      "cell_type": "code",
      "metadata": {
        "ExecuteTime": {
          "end_time": "2021-03-12T02:46:52.595961Z",
          "start_time": "2021-03-12T02:46:52.364827Z"
        },
        "id": "1H0bTy_qLA9x"
      },
      "source": [
        "TSNE?"
      ],
      "execution_count": null,
      "outputs": []
    },
    {
      "cell_type": "code",
      "metadata": {
        "ExecuteTime": {
          "end_time": "2021-03-12T02:46:56.627643Z",
          "start_time": "2021-03-12T02:46:52.597576Z"
        },
        "id": "oV_1QnLxLA9x"
      },
      "source": [
        "Xt = pd.DataFrame(tsne.fit_transform(Xs),columns=['d1','d2'])"
      ],
      "execution_count": null,
      "outputs": []
    },
    {
      "cell_type": "code",
      "metadata": {
        "ExecuteTime": {
          "end_time": "2021-03-12T02:46:56.636339Z",
          "start_time": "2021-03-12T02:46:56.630079Z"
        },
        "id": "Gkrn8t7iLA9y"
      },
      "source": [
        "Xt['lujo'] = Xp['lujo'] = Xm['lujo'] = df['lujo'] "
      ],
      "execution_count": null,
      "outputs": []
    },
    {
      "cell_type": "code",
      "metadata": {
        "ExecuteTime": {
          "end_time": "2021-03-12T02:46:58.064116Z",
          "start_time": "2021-03-12T02:46:56.641204Z"
        },
        "id": "dFHK9nSzLA9y"
      },
      "source": [
        "Xt['Marca'] = Xp['Marca'] = Xm['Marca'] = df['Marca'] "
      ],
      "execution_count": null,
      "outputs": []
    },
    {
      "cell_type": "code",
      "metadata": {
        "ExecuteTime": {
          "end_time": "2021-03-12T02:46:59.306805Z",
          "start_time": "2021-03-12T02:46:58.068697Z"
        },
        "id": "tFjedOWwLA9y",
        "outputId": "c619bcf0-944f-4c53-d98b-fae0851a6dbf"
      },
      "source": [
        "Xt.head()"
      ],
      "execution_count": null,
      "outputs": [
        {
          "output_type": "execute_result",
          "data": {
            "text/html": [
              "<div>\n",
              "<style scoped>\n",
              "    .dataframe tbody tr th:only-of-type {\n",
              "        vertical-align: middle;\n",
              "    }\n",
              "\n",
              "    .dataframe tbody tr th {\n",
              "        vertical-align: top;\n",
              "    }\n",
              "\n",
              "    .dataframe thead th {\n",
              "        text-align: right;\n",
              "    }\n",
              "</style>\n",
              "<table border=\"1\" class=\"dataframe\">\n",
              "  <thead>\n",
              "    <tr style=\"text-align: right;\">\n",
              "      <th></th>\n",
              "      <th>d1</th>\n",
              "      <th>d2</th>\n",
              "      <th>lujo</th>\n",
              "      <th>Marca</th>\n",
              "    </tr>\n",
              "  </thead>\n",
              "  <tbody>\n",
              "    <tr>\n",
              "      <th>0</th>\n",
              "      <td>217.321426</td>\n",
              "      <td>-85.393028</td>\n",
              "      <td>normal</td>\n",
              "      <td>FORD</td>\n",
              "    </tr>\n",
              "    <tr>\n",
              "      <th>1</th>\n",
              "      <td>156.879486</td>\n",
              "      <td>-16.230871</td>\n",
              "      <td>normal</td>\n",
              "      <td>SEAT</td>\n",
              "    </tr>\n",
              "    <tr>\n",
              "      <th>2</th>\n",
              "      <td>124.488922</td>\n",
              "      <td>-231.112976</td>\n",
              "      <td>normal</td>\n",
              "      <td>MAZDA</td>\n",
              "    </tr>\n",
              "    <tr>\n",
              "      <th>3</th>\n",
              "      <td>8.614470</td>\n",
              "      <td>75.899643</td>\n",
              "      <td>normal</td>\n",
              "      <td>MAZDA</td>\n",
              "    </tr>\n",
              "    <tr>\n",
              "      <th>4</th>\n",
              "      <td>8.615569</td>\n",
              "      <td>75.901024</td>\n",
              "      <td>normal</td>\n",
              "      <td>MAZDA</td>\n",
              "    </tr>\n",
              "  </tbody>\n",
              "</table>\n",
              "</div>"
            ],
            "text/plain": [
              "           d1          d2    lujo  Marca\n",
              "0  217.321426  -85.393028  normal   FORD\n",
              "1  156.879486  -16.230871  normal   SEAT\n",
              "2  124.488922 -231.112976  normal  MAZDA\n",
              "3    8.614470   75.899643  normal  MAZDA\n",
              "4    8.615569   75.901024  normal  MAZDA"
            ]
          },
          "metadata": {
            "tags": []
          },
          "execution_count": 64
        }
      ]
    },
    {
      "cell_type": "code",
      "metadata": {
        "ExecuteTime": {
          "end_time": "2021-03-12T02:46:59.522860Z",
          "start_time": "2021-03-12T02:46:59.309946Z"
        },
        "id": "p2ghG7XPLA9z",
        "outputId": "d5e2aeab-eec9-41dc-b200-387feec978ca"
      },
      "source": [
        "Xp.head()"
      ],
      "execution_count": null,
      "outputs": [
        {
          "output_type": "execute_result",
          "data": {
            "text/html": [
              "<div>\n",
              "<style scoped>\n",
              "    .dataframe tbody tr th:only-of-type {\n",
              "        vertical-align: middle;\n",
              "    }\n",
              "\n",
              "    .dataframe tbody tr th {\n",
              "        vertical-align: top;\n",
              "    }\n",
              "\n",
              "    .dataframe thead th {\n",
              "        text-align: right;\n",
              "    }\n",
              "</style>\n",
              "<table border=\"1\" class=\"dataframe\">\n",
              "  <thead>\n",
              "    <tr style=\"text-align: right;\">\n",
              "      <th></th>\n",
              "      <th>p1</th>\n",
              "      <th>p2</th>\n",
              "      <th>lujo</th>\n",
              "      <th>Marca</th>\n",
              "    </tr>\n",
              "  </thead>\n",
              "  <tbody>\n",
              "    <tr>\n",
              "      <th>0</th>\n",
              "      <td>7.609926</td>\n",
              "      <td>-1.049495</td>\n",
              "      <td>normal</td>\n",
              "      <td>FORD</td>\n",
              "    </tr>\n",
              "    <tr>\n",
              "      <th>1</th>\n",
              "      <td>4.513191</td>\n",
              "      <td>-0.315932</td>\n",
              "      <td>normal</td>\n",
              "      <td>SEAT</td>\n",
              "    </tr>\n",
              "    <tr>\n",
              "      <th>2</th>\n",
              "      <td>3.904297</td>\n",
              "      <td>-0.481186</td>\n",
              "      <td>normal</td>\n",
              "      <td>MAZDA</td>\n",
              "    </tr>\n",
              "    <tr>\n",
              "      <th>3</th>\n",
              "      <td>4.385726</td>\n",
              "      <td>-0.532138</td>\n",
              "      <td>normal</td>\n",
              "      <td>MAZDA</td>\n",
              "    </tr>\n",
              "    <tr>\n",
              "      <th>4</th>\n",
              "      <td>4.385726</td>\n",
              "      <td>-0.532138</td>\n",
              "      <td>normal</td>\n",
              "      <td>MAZDA</td>\n",
              "    </tr>\n",
              "  </tbody>\n",
              "</table>\n",
              "</div>"
            ],
            "text/plain": [
              "         p1        p2    lujo  Marca\n",
              "0  7.609926 -1.049495  normal   FORD\n",
              "1  4.513191 -0.315932  normal   SEAT\n",
              "2  3.904297 -0.481186  normal  MAZDA\n",
              "3  4.385726 -0.532138  normal  MAZDA\n",
              "4  4.385726 -0.532138  normal  MAZDA"
            ]
          },
          "metadata": {
            "tags": []
          },
          "execution_count": 65
        }
      ]
    },
    {
      "cell_type": "code",
      "metadata": {
        "ExecuteTime": {
          "end_time": "2021-03-12T02:47:00.073888Z",
          "start_time": "2021-03-12T02:46:59.524764Z"
        },
        "id": "57EmHzFgLA90",
        "outputId": "82597362-b67d-4b8c-c048-fd7eb3d3e187"
      },
      "source": [
        "Xm.head()"
      ],
      "execution_count": null,
      "outputs": [
        {
          "output_type": "execute_result",
          "data": {
            "text/html": [
              "<div>\n",
              "<style scoped>\n",
              "    .dataframe tbody tr th:only-of-type {\n",
              "        vertical-align: middle;\n",
              "    }\n",
              "\n",
              "    .dataframe tbody tr th {\n",
              "        vertical-align: top;\n",
              "    }\n",
              "\n",
              "    .dataframe thead th {\n",
              "        text-align: right;\n",
              "    }\n",
              "</style>\n",
              "<table border=\"1\" class=\"dataframe\">\n",
              "  <thead>\n",
              "    <tr style=\"text-align: right;\">\n",
              "      <th></th>\n",
              "      <th>d1</th>\n",
              "      <th>d2</th>\n",
              "      <th>lujo</th>\n",
              "      <th>Marca</th>\n",
              "    </tr>\n",
              "  </thead>\n",
              "  <tbody>\n",
              "    <tr>\n",
              "      <th>0</th>\n",
              "      <td>5.565568</td>\n",
              "      <td>-6.811015</td>\n",
              "      <td>normal</td>\n",
              "      <td>FORD</td>\n",
              "    </tr>\n",
              "    <tr>\n",
              "      <th>1</th>\n",
              "      <td>3.210323</td>\n",
              "      <td>-3.386638</td>\n",
              "      <td>normal</td>\n",
              "      <td>SEAT</td>\n",
              "    </tr>\n",
              "    <tr>\n",
              "      <th>2</th>\n",
              "      <td>2.468226</td>\n",
              "      <td>-3.193904</td>\n",
              "      <td>normal</td>\n",
              "      <td>MAZDA</td>\n",
              "    </tr>\n",
              "    <tr>\n",
              "      <th>3</th>\n",
              "      <td>2.835504</td>\n",
              "      <td>-3.522807</td>\n",
              "      <td>normal</td>\n",
              "      <td>MAZDA</td>\n",
              "    </tr>\n",
              "    <tr>\n",
              "      <th>4</th>\n",
              "      <td>2.835440</td>\n",
              "      <td>-3.522860</td>\n",
              "      <td>normal</td>\n",
              "      <td>MAZDA</td>\n",
              "    </tr>\n",
              "  </tbody>\n",
              "</table>\n",
              "</div>"
            ],
            "text/plain": [
              "         d1        d2    lujo  Marca\n",
              "0  5.565568 -6.811015  normal   FORD\n",
              "1  3.210323 -3.386638  normal   SEAT\n",
              "2  2.468226 -3.193904  normal  MAZDA\n",
              "3  2.835504 -3.522807  normal  MAZDA\n",
              "4  2.835440 -3.522860  normal  MAZDA"
            ]
          },
          "metadata": {
            "tags": []
          },
          "execution_count": 66
        }
      ]
    },
    {
      "cell_type": "markdown",
      "metadata": {
        "id": "aA3WwtxhLA90"
      },
      "source": [
        "### Visualización"
      ]
    },
    {
      "cell_type": "code",
      "metadata": {
        "ExecuteTime": {
          "end_time": "2021-03-12T02:47:01.044180Z",
          "start_time": "2021-03-12T02:47:00.076082Z"
        },
        "id": "ySRgcNHWLA91",
        "outputId": "9a1082da-c31e-4a11-9799-d10c5acf9334"
      },
      "source": [
        "sns.lmplot(data=Xp.sample(frac=0.1),x='p1',y='p2',fit_reg=False)\n",
        "sns.lmplot(data=Xm.sample(frac=0.1),x='d1',y='d2',fit_reg=False)\n",
        "sns.lmplot(data=Xt.sample(frac=0.1),x='d1',y='d2',fit_reg=False)"
      ],
      "execution_count": null,
      "outputs": [
        {
          "output_type": "execute_result",
          "data": {
            "text/plain": [
              "<seaborn.axisgrid.FacetGrid at 0x7fe1c9773b90>"
            ]
          },
          "metadata": {
            "tags": []
          },
          "execution_count": 67
        },
        {
          "output_type": "display_data",
          "data": {
            "image/png": "[encoded data removed]",
            "text/plain": [
              "<Figure size 360x360 with 1 Axes>"
            ]
          },
          "metadata": {
            "tags": [],
            "needs_background": "light"
          }
        },
        {
          "output_type": "display_data",
          "data": {
            "image/png": "[encoded data removed]",
            "text/plain": [
              "<Figure size 360x360 with 1 Axes>"
            ]
          },
          "metadata": {
            "tags": [],
            "needs_background": "light"
          }
        },
        {
          "output_type": "display_data",
          "data": {
            "image/png": "[encoded data removed]",
            "text/plain": [
              "<Figure size 360x360 with 1 Axes>"
            ]
          },
          "metadata": {
            "tags": [],
            "needs_background": "light"
          }
        }
      ]
    },
    {
      "cell_type": "code",
      "metadata": {
        "ExecuteTime": {
          "end_time": "2021-03-12T02:47:01.863972Z",
          "start_time": "2021-03-12T02:47:01.046111Z"
        },
        "id": "U8UcEUJoLA91",
        "outputId": "bce21849-00e1-4a21-90b9-b204e79db2ff"
      },
      "source": [
        "sns.lmplot(data=Xp.sample(frac=0.1),x='p1',y='p2',fit_reg=False,hue='lujo')\n",
        "sns.lmplot(data=Xm.sample(frac=0.1),x='d1',y='d2',fit_reg=False,hue='lujo')\n",
        "sns.lmplot(data=Xt.sample(frac=0.1),x='d1',y='d2',fit_reg=False,hue='lujo')"
      ],
      "execution_count": null,
      "outputs": [
        {
          "output_type": "execute_result",
          "data": {
            "text/plain": [
              "<seaborn.axisgrid.FacetGrid at 0x7fe1c8d3ccd0>"
            ]
          },
          "metadata": {
            "tags": []
          },
          "execution_count": 68
        },
        {
          "output_type": "display_data",
          "data": {
            "image/png": "[encoded data removed]",
            "text/plain": [
              "<Figure size 431x360 with 1 Axes>"
            ]
          },
          "metadata": {
            "tags": [],
            "needs_background": "light"
          }
        },
        {
          "output_type": "display_data",
          "data": {
            "image/png": "[encoded data removed]",
            "text/plain": [
              "<Figure size 431x360 with 1 Axes>"
            ]
          },
          "metadata": {
            "tags": [],
            "needs_background": "light"
          }
        },
        {
          "output_type": "display_data",
          "data": {
            "image/png": "[encoded data removed]",
            "text/plain": [
              "<Figure size 431x360 with 1 Axes>"
            ]
          },
          "metadata": {
            "tags": [],
            "needs_background": "light"
          }
        }
      ]
    },
    {
      "cell_type": "code",
      "metadata": {
        "ExecuteTime": {
          "end_time": "2021-03-12T02:47:01.871382Z",
          "start_time": "2021-03-12T02:47:01.865758Z"
        },
        "id": "bpO9x_FYLA92",
        "outputId": "84ee4cac-ad18-4ee1-c558-897f6f7201ad"
      },
      "source": [
        "Xp.Marca"
      ],
      "execution_count": null,
      "outputs": [
        {
          "output_type": "execute_result",
          "data": {
            "text/plain": [
              "0          FORD\n",
              "1          SEAT\n",
              "2         MAZDA\n",
              "3         MAZDA\n",
              "4         MAZDA\n",
              "         ...   \n",
              "867    MERCEDES\n",
              "868    MERCEDES\n",
              "869        JEEP\n",
              "870    MERCEDES\n",
              "871    MERCEDES\n",
              "Name: Marca, Length: 872, dtype: object"
            ]
          },
          "metadata": {
            "tags": []
          },
          "execution_count": 69
        }
      ]
    },
    {
      "cell_type": "code",
      "metadata": {
        "ExecuteTime": {
          "end_time": "2021-03-12T02:47:03.761222Z",
          "start_time": "2021-03-12T02:47:01.872874Z"
        },
        "id": "QA_BME1ALA92",
        "outputId": "10ea55f7-1385-4fcf-f069-cbe46801e549"
      },
      "source": [
        "sns.lmplot(data=Xp.loc[Xp.Marca.isin(['BMW','VW'])],x='p1',y='p2',fit_reg=False,hue='Marca')\n",
        "sns.lmplot(data=Xm.loc[Xm.Marca.isin(['BMW','VW'])],x='d1',y='d2',fit_reg=False,hue='Marca')\n",
        "sns.lmplot(data=Xt.loc[Xm.Marca.isin(['BMW','VW'])],x='d1',y='d2',fit_reg=False,hue='Marca')"
      ],
      "execution_count": null,
      "outputs": [
        {
          "output_type": "execute_result",
          "data": {
            "text/plain": [
              "<seaborn.axisgrid.FacetGrid at 0x7fe1c9588c50>"
            ]
          },
          "metadata": {
            "tags": []
          },
          "execution_count": 70
        },
        {
          "output_type": "display_data",
          "data": {
            "image/png": "[encoded data removed]",
            "text/plain": [
              "<Figure size 421.375x360 with 1 Axes>"
            ]
          },
          "metadata": {
            "tags": [],
            "needs_background": "light"
          }
        },
        {
          "output_type": "display_data",
          "data": {
            "image/png": "[encoded data removed]",
            "text/plain": [
              "<Figure size 421.375x360 with 1 Axes>"
            ]
          },
          "metadata": {
            "tags": [],
            "needs_background": "light"
          }
        },
        {
          "output_type": "display_data",
          "data": {
            "image/png": "[encoded data removed]",
            "text/plain": [
              "<Figure size 421.375x360 with 1 Axes>"
            ]
          },
          "metadata": {
            "tags": [],
            "needs_background": "light"
          }
        }
      ]
    },
    {
      "cell_type": "code",
      "metadata": {
        "ExecuteTime": {
          "end_time": "2021-03-12T02:50:50.253785Z",
          "start_time": "2021-03-12T02:50:50.243929Z"
        },
        "id": "LvrDVUMELA93"
      },
      "source": [
        "TSNE?"
      ],
      "execution_count": null,
      "outputs": []
    },
    {
      "cell_type": "code",
      "metadata": {
        "id": "fh0vdrLGLA93"
      },
      "source": [
        ""
      ],
      "execution_count": null,
      "outputs": []
    }
  ]
}