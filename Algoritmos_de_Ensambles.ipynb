{
  "nbformat": 4,
  "nbformat_minor": 0,
  "metadata": {
    "kernelspec": {
      "display_name": "Python 3.7",
      "language": "python",
      "name": "python3"
    },
    "language_info": {
      "codemirror_mode": {
        "name": "ipython",
        "version": 3
      },
      "file_extension": ".py",
      "mimetype": "text/x-python",
      "name": "python",
      "nbconvert_exporter": "python",
      "pygments_lexer": "ipython3",
      "version": "3.7.9"
    },
    "colab": {
      "name": "Algoritmos de Ensambles.ipynb",
      "provenance": [],
      "toc_visible": true,
      "include_colab_link": true
    }
  },
  "cells": [
    {
      "cell_type": "markdown",
      "metadata": {
        "id": "view-in-github",
        "colab_type": "text"
      },
      "source": [
        "<a href=\"https://colab.research.google.com/github/virf96/Basico/blob/main/Algoritmos_de_Ensambles.ipynb\" target=\"_parent\"><img src=\"https://colab.research.google.com/assets/colab-badge.svg\" alt=\"Open In Colab\"/></a>"
      ]
    },
    {
      "cell_type": "markdown",
      "metadata": {
        "id": "9HKbQ901yR__"
      },
      "source": [
        "# Ensambles"
      ]
    },
    {
      "cell_type": "markdown",
      "metadata": {
        "id": "LWgnByQ-ySAE"
      },
      "source": [
        "## Preparación de ambiente"
      ]
    },
    {
      "cell_type": "markdown",
      "metadata": {
        "id": "4TrFiWqjySAF"
      },
      "source": [
        "### Carga de módulos"
      ]
    },
    {
      "cell_type": "code",
      "metadata": {
        "ExecuteTime": {
          "end_time": "2020-07-10T00:49:35.586231Z",
          "start_time": "2020-07-10T00:49:31.679710Z"
        },
        "id": "TvPuJS1ZySAG"
      },
      "source": [
        "import os \n",
        "import librosa # Librería para manejo de audio\n",
        "import numpy as np\n",
        "import pandas as pd\n",
        "from scipy.io import wavfile # Manejo de\n",
        "import IPython.display as ipd # Widget para Jupyter\n",
        "import matplotlib.pyplot as plt\n",
        "from xgboost.sklearn import XGBClassifier # pip install xgboost\n",
        "from sklearn.naive_bayes import GaussianNB\n",
        "from sklearn.tree import DecisionTreeClassifier\n",
        "from sklearn.model_selection import train_test_split\n",
        "from sklearn.metrics import confusion_matrix, accuracy_score\n",
        "from sklearn.ensemble import VotingClassifier, VotingRegressor\n",
        "from sklearn.model_selection import cross_val_score, RandomizedSearchCV\n",
        "from sklearn.ensemble import AdaBoostClassifier, GradientBoostingClassifier, RandomForestClassifier "
      ],
      "execution_count": 1,
      "outputs": []
    },
    {
      "cell_type": "markdown",
      "metadata": {
        "id": "uJ-54w-jySAI"
      },
      "source": [
        "### Funciones relevantes"
      ]
    },
    {
      "cell_type": "code",
      "metadata": {
        "ExecuteTime": {
          "end_time": "2020-07-10T00:49:35.605429Z",
          "start_time": "2020-07-10T00:49:35.597071Z"
        },
        "id": "UdjHMYTrySAI"
      },
      "source": [
        "# Función que concentra cross validation para clasificación\n",
        "def classification_metrics(X, y, estimator):\n",
        "    ls_scores_roc = cross_val_score(estimator=estimator, X=X, y=y, scoring=\"accuracy\", n_jobs=-1, cv=4)\n",
        "    print(f\"ROC media: {np.mean(ls_scores_roc):,.2f}, desviación estándar: {np.std(ls_scores_roc)}\")"
      ],
      "execution_count": 2,
      "outputs": []
    },
    {
      "cell_type": "code",
      "metadata": {
        "ExecuteTime": {
          "end_time": "2020-07-10T00:49:35.708259Z",
          "start_time": "2020-07-10T00:49:35.616880Z"
        },
        "id": "OAzBBBN7ySAJ"
      },
      "source": [
        "# Función que reproduce sonido en Jupyter\n",
        "def wavPlayer(filepath):\n",
        "    rate, data = wavfile.read(filepath)\n",
        "    plt.plot(data)\n",
        "    plt.show()\n",
        "    return ipd.Audio(filepath, autoplay=True)"
      ],
      "execution_count": 3,
      "outputs": []
    },
    {
      "cell_type": "code",
      "metadata": {
        "ExecuteTime": {
          "end_time": "2020-07-10T00:49:35.803368Z",
          "start_time": "2020-07-10T00:49:35.710943Z"
        },
        "id": "WK6DuVeGySAK"
      },
      "source": [
        "# Función para visualizar el mapa de calor de las frecuencias de sonido\n",
        "def plot_heatmap(data):\n",
        "    X = librosa.stft(data)\n",
        "    Xdb = librosa.amplitude_to_db(abs(X))\n",
        "    plt.figure(figsize=(14, 5))\n",
        "    librosa.display.specshow(Xdb, sr=sr, x_axis='time', y_axis='hz') \n",
        "    plt.colorbar()"
      ],
      "execution_count": 4,
      "outputs": []
    },
    {
      "cell_type": "code",
      "metadata": {
        "ExecuteTime": {
          "end_time": "2020-07-10T00:49:36.919581Z",
          "start_time": "2020-07-10T00:49:35.805474Z"
        },
        "id": "nU1an4TEySAL"
      },
      "source": [
        "# Función que encapsula la lectura del alrchivo, el modelo y las variables para redecir el número\n",
        "def predict_number(filepath, estimator, features):\n",
        "    # Apertura del archivo\n",
        "    x, sr = librosa.load(filepath, sr=None)\n",
        "    # Generación de tabla para validación\n",
        "    X_val = pd.DataFrame(np.reshape(abs(librosa.stft(x).mean(axis = 1).T), (1025,1))).T\n",
        "    X_val.columns = X_train.columns\n",
        "    real = int(filepath.split('/')[-1][0])\n",
        "    # Predicción\n",
        "    pred = int(estimator.predict(X_val)[0])\n",
        "    print(f\"The real is: {real}\")\n",
        "    print(f\"The predicted is: {estimator.predict(X_val)[0]}\")\n",
        "    return wavPlayer(filepath=filepath)"
      ],
      "execution_count": 5,
      "outputs": []
    },
    {
      "cell_type": "markdown",
      "metadata": {
        "id": "cuUlB79WySAM"
      },
      "source": [
        "## Carga de datos"
      ]
    },
    {
      "cell_type": "markdown",
      "metadata": {
        "id": "jMAg7elrySAM"
      },
      "source": [
        "### Lectura de archivos"
      ]
    },
    {
      "cell_type": "code",
      "metadata": {
        "colab": {
          "base_uri": "https://localhost:8080/"
        },
        "id": "ZipWo5XjKDPe",
        "outputId": "76be3833-4ee9-4042-942c-bbfe1e726591"
      },
      "source": [
        "from google.colab import drive\n",
        "drive.mount('/content/drive')"
      ],
      "execution_count": 6,
      "outputs": [
        {
          "output_type": "stream",
          "text": [
            "Mounted at /content/drive\n"
          ],
          "name": "stdout"
        }
      ]
    },
    {
      "cell_type": "code",
      "metadata": {
        "ExecuteTime": {
          "end_time": "2020-11-19T23:15:44.334865Z",
          "start_time": "2020-11-19T23:15:44.198170Z"
        },
        "id": "DjYsNpOKySAN",
        "outputId": "0153bee3-f400-47b1-ce58-c1c38baf1465"
      },
      "source": [
        "# Carga de archivos de sonido\n",
        "file = os.listdir('./free-spoken-digit-dataset-master/recordings/')\n",
        "data=[]\n",
        "for i in file:\n",
        "    x, sr = librosa.load('./free-spoken-digit-dataset-master/recordings/'+i, sr=None)\n",
        "    data.append(x)"
      ],
      "execution_count": null,
      "outputs": [
        {
          "output_type": "error",
          "ename": "NameError",
          "evalue": "name 'os' is not defined",
          "traceback": [
            "\u001b[0;31m---------------------------------------------------------------------------\u001b[0m",
            "\u001b[0;31mNameError\u001b[0m                                 Traceback (most recent call last)",
            "\u001b[0;32m<ipython-input-1-c2721610bb56>\u001b[0m in \u001b[0;36m<module>\u001b[0;34m\u001b[0m\n\u001b[0;32m----> 1\u001b[0;31m \u001b[0mfile\u001b[0m \u001b[0;34m=\u001b[0m \u001b[0mos\u001b[0m\u001b[0;34m.\u001b[0m\u001b[0mlistdir\u001b[0m\u001b[0;34m(\u001b[0m\u001b[0;34m'./free-spoken-digit-dataset-master/recordings/'\u001b[0m\u001b[0;34m)\u001b[0m\u001b[0;34m\u001b[0m\u001b[0;34m\u001b[0m\u001b[0m\n\u001b[0m\u001b[1;32m      2\u001b[0m \u001b[0mdata\u001b[0m\u001b[0;34m=\u001b[0m\u001b[0;34m[\u001b[0m\u001b[0;34m]\u001b[0m\u001b[0;34m\u001b[0m\u001b[0;34m\u001b[0m\u001b[0m\n\u001b[1;32m      3\u001b[0m \u001b[0;32mfor\u001b[0m \u001b[0mi\u001b[0m \u001b[0;32min\u001b[0m \u001b[0mfile\u001b[0m\u001b[0;34m:\u001b[0m\u001b[0;34m\u001b[0m\u001b[0;34m\u001b[0m\u001b[0m\n\u001b[1;32m      4\u001b[0m     \u001b[0mx\u001b[0m\u001b[0;34m,\u001b[0m \u001b[0msr\u001b[0m \u001b[0;34m=\u001b[0m \u001b[0mlibrosa\u001b[0m\u001b[0;34m.\u001b[0m\u001b[0mload\u001b[0m\u001b[0;34m(\u001b[0m\u001b[0;34m'./free-spoken-digit-dataset-master/recordings/'\u001b[0m\u001b[0;34m+\u001b[0m\u001b[0mi\u001b[0m\u001b[0;34m,\u001b[0m \u001b[0msr\u001b[0m\u001b[0;34m=\u001b[0m\u001b[0;32mNone\u001b[0m\u001b[0;34m)\u001b[0m\u001b[0;34m\u001b[0m\u001b[0;34m\u001b[0m\u001b[0m\n\u001b[1;32m      5\u001b[0m     \u001b[0mdata\u001b[0m\u001b[0;34m.\u001b[0m\u001b[0mappend\u001b[0m\u001b[0;34m(\u001b[0m\u001b[0mx\u001b[0m\u001b[0;34m)\u001b[0m\u001b[0;34m\u001b[0m\u001b[0;34m\u001b[0m\u001b[0m\n",
            "\u001b[0;31mNameError\u001b[0m: name 'os' is not defined"
          ]
        }
      ]
    },
    {
      "cell_type": "markdown",
      "metadata": {
        "id": "X6JR77-LySAP"
      },
      "source": [
        "### Transformación"
      ]
    },
    {
      "cell_type": "code",
      "metadata": {
        "ExecuteTime": {
          "end_time": "2020-07-10T00:49:42.376134Z",
          "start_time": "2020-07-10T00:49:38.176331Z"
        },
        "id": "p70kwngYySAP"
      },
      "source": [
        "# Aplicación de Transformada de Fourier a frecuencias de sonido\n",
        "data_tf=[]\n",
        "for i in range(len(data)):\n",
        "    data_tf.append(abs(librosa.stft(data[i]).mean(axis = 1).T))\n",
        "data_tf= np.array(data_tf)"
      ],
      "execution_count": null,
      "outputs": []
    },
    {
      "cell_type": "code",
      "metadata": {
        "ExecuteTime": {
          "end_time": "2020-07-10T00:49:42.403427Z",
          "start_time": "2020-07-10T00:49:42.384936Z"
        },
        "id": "l7GIORYiySAQ"
      },
      "source": [
        "df = pd.DataFrame(data_tf)\n",
        "df[\"target\"] = [i[0] for i in file]"
      ],
      "execution_count": null,
      "outputs": []
    },
    {
      "cell_type": "markdown",
      "metadata": {
        "id": "LOxzed6dySAQ"
      },
      "source": [
        "### EDA"
      ]
    },
    {
      "cell_type": "code",
      "metadata": {
        "ExecuteTime": {
          "end_time": "2020-07-10T00:49:43.239027Z",
          "start_time": "2020-07-10T00:49:42.408284Z"
        },
        "id": "MQY3YZaIySAQ",
        "outputId": "253c79f1-d97f-4270-f19e-018f6ecd164e"
      },
      "source": [
        "# Visualización de frecuencias de sonido\n",
        "wavPlayer(\"/home/oscar/Documentos/Oscar/Diplomado/Generación 3/Módulo 2/free-spoken-digit-dataset-master/recordings/9_george_4.wav\")"
      ],
      "execution_count": null,
      "outputs": [
        {
          "output_type": "display_data",
          "data": {
            "image/png": "[encoded data removed]",
            "text/plain": [
              "<Figure size 432x288 with 1 Axes>"
            ]
          },
          "metadata": {
            "tags": [],
            "needs_background": "light"
          }
        },
        {
          "output_type": "execute_result",
          "data": {
            "text/html": [
              "\n",
              "                <audio  controls=\"controls\" autoplay=\"autoplay\">\n",
              "                    <source src=\"data:audio/x-wav;base64,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\" type=\"audio/x-wav\" />\n",
              "                    Your browser does not support the audio element.\n",
              "                </audio>\n",
              "              "
            ],
            "text/plain": [
              "<IPython.lib.display.Audio object>"
            ]
          },
          "metadata": {
            "tags": []
          },
          "execution_count": 10
        }
      ]
    },
    {
      "cell_type": "code",
      "metadata": {
        "ExecuteTime": {
          "end_time": "2020-07-10T00:49:43.254298Z",
          "start_time": "2020-07-10T00:49:43.241569Z"
        },
        "id": "4OhrgyZ5ySAR",
        "outputId": "5d14590a-09de-41d7-aac1-51c64f7eee55"
      },
      "source": [
        "data_tf.shape"
      ],
      "execution_count": null,
      "outputs": [
        {
          "output_type": "execute_result",
          "data": {
            "text/plain": [
              "(2500, 1025)"
            ]
          },
          "metadata": {
            "tags": []
          },
          "execution_count": 11
        }
      ]
    },
    {
      "cell_type": "code",
      "metadata": {
        "ExecuteTime": {
          "end_time": "2020-07-10T00:49:43.719026Z",
          "start_time": "2020-07-10T00:49:43.257122Z"
        },
        "id": "day_p0mZySAS"
      },
      "source": [
        "# Preparación de X y y\n",
        "X = df[[x for x in df.columns if x != \"target\"]]\n",
        "y = df[\"target\"]"
      ],
      "execution_count": null,
      "outputs": []
    },
    {
      "cell_type": "code",
      "metadata": {
        "ExecuteTime": {
          "end_time": "2020-07-10T00:49:43.755111Z",
          "start_time": "2020-07-10T00:49:43.728148Z"
        },
        "id": "0027s8VPySAS",
        "outputId": "61920a72-7b69-4c7b-9ccd-e18c15786bc9"
      },
      "source": [
        "y.value_counts()"
      ],
      "execution_count": null,
      "outputs": [
        {
          "output_type": "execute_result",
          "data": {
            "text/plain": [
              "3    250\n",
              "2    250\n",
              "4    250\n",
              "5    250\n",
              "8    250\n",
              "7    250\n",
              "0    250\n",
              "9    250\n",
              "6    250\n",
              "1    250\n",
              "Name: target, dtype: int64"
            ]
          },
          "metadata": {
            "tags": []
          },
          "execution_count": 13
        }
      ]
    },
    {
      "cell_type": "markdown",
      "metadata": {
        "id": "veq1v8P_ySAT"
      },
      "source": [
        "### Separación de sets"
      ]
    },
    {
      "cell_type": "code",
      "metadata": {
        "ExecuteTime": {
          "end_time": "2020-07-10T00:49:43.858373Z",
          "start_time": "2020-07-10T00:49:43.760561Z"
        },
        "id": "E9R7w3i3ySAT"
      },
      "source": [
        "X_train, X_test, y_train, y_test = train_test_split(X, y, test_size=0.25)"
      ],
      "execution_count": null,
      "outputs": []
    },
    {
      "cell_type": "markdown",
      "metadata": {
        "id": "sesTSY2AySAT"
      },
      "source": [
        "## Modelado"
      ]
    },
    {
      "cell_type": "markdown",
      "metadata": {
        "id": "OYQcA8piySAU"
      },
      "source": [
        "### Bosque Aleatorio"
      ]
    },
    {
      "cell_type": "markdown",
      "metadata": {
        "id": "6zWKsrQ0ySAU"
      },
      "source": [
        "#### Modelado"
      ]
    },
    {
      "cell_type": "code",
      "metadata": {
        "ExecuteTime": {
          "end_time": "2020-07-10T00:30:14.693607Z",
          "start_time": "2020-07-10T00:30:14.522188Z"
        },
        "id": "_E59KRCOySAU"
      },
      "source": [
        "RandomForestClassifier?"
      ],
      "execution_count": null,
      "outputs": []
    },
    {
      "cell_type": "code",
      "metadata": {
        "ExecuteTime": {
          "end_time": "2020-07-10T00:30:14.801286Z",
          "start_time": "2020-07-10T00:30:14.695230Z"
        },
        "id": "Nhx5zC6HySAU"
      },
      "source": [
        "bos = RandomForestClassifier(n_estimators=100, max_depth=5)"
      ],
      "execution_count": null,
      "outputs": []
    },
    {
      "cell_type": "code",
      "metadata": {
        "ExecuteTime": {
          "end_time": "2020-07-10T00:30:17.712603Z",
          "start_time": "2020-07-10T00:30:14.802798Z"
        },
        "id": "hnHxohADySAV",
        "outputId": "b3995997-162c-4752-984d-96cd212aa14e"
      },
      "source": [
        "bos.fit(X_train, y_train)"
      ],
      "execution_count": null,
      "outputs": [
        {
          "output_type": "execute_result",
          "data": {
            "text/plain": [
              "RandomForestClassifier(bootstrap=True, ccp_alpha=0.0, class_weight=None,\n",
              "                       criterion='gini', max_depth=5, max_features='auto',\n",
              "                       max_leaf_nodes=None, max_samples=None,\n",
              "                       min_impurity_decrease=0.0, min_impurity_split=None,\n",
              "                       min_samples_leaf=1, min_samples_split=2,\n",
              "                       min_weight_fraction_leaf=0.0, n_estimators=100,\n",
              "                       n_jobs=None, oob_score=False, random_state=None,\n",
              "                       verbose=0, warm_start=False)"
            ]
          },
          "metadata": {
            "tags": []
          },
          "execution_count": 16
        }
      ]
    },
    {
      "cell_type": "markdown",
      "metadata": {
        "id": "2gGyRgWfySAV"
      },
      "source": [
        "#### Cross-validation"
      ]
    },
    {
      "cell_type": "code",
      "metadata": {
        "ExecuteTime": {
          "end_time": "2020-07-10T00:30:21.395338Z",
          "start_time": "2020-07-10T00:30:17.714058Z"
        },
        "id": "zAHziyU2ySAW",
        "outputId": "81d8bd85-1442-480f-8772-2e10727d6441"
      },
      "source": [
        "classification_metrics(X=X_train, y=y_train, estimator=bos)"
      ],
      "execution_count": null,
      "outputs": [
        {
          "output_type": "stream",
          "text": [
            "ROC media: 0.71, desviación estándar: 0.02135496251789809\n"
          ],
          "name": "stdout"
        }
      ]
    },
    {
      "cell_type": "markdown",
      "metadata": {
        "id": "eWpONvTlySAW"
      },
      "source": [
        "#### Hyperparametrización"
      ]
    },
    {
      "cell_type": "code",
      "metadata": {
        "ExecuteTime": {
          "end_time": "2020-07-10T00:30:21.403466Z",
          "start_time": "2020-07-10T00:30:21.397517Z"
        },
        "id": "FvoeGLKtySAW"
      },
      "source": [
        "param_dict = {\"n_estimators\": [x for x in range(100, 1500, 100)], # Número de árboles a construir\n",
        "              \"max_features\": [\"auto\", \"sqrt\", \"log2\"], # Número máximo de variables a considerar\n",
        "              \"criterion\": [\"gini\", \"entropy\"], # Criterio de selección de corte\n",
        "              \"class_weight\": [\"balanced\", None], # Balanceo o no de la target\n",
        "              \"min_samples_split\": [x for x in range(2, 50, 2)], # Número mínimo de muestras que debe tener una hoja para cortar\n",
        "              \"min_samples_leaf\": [x/100 for x in range(5, 55, 5)]} # Número mínimo que debe tener una hoja"
      ],
      "execution_count": null,
      "outputs": []
    },
    {
      "cell_type": "code",
      "metadata": {
        "ExecuteTime": {
          "end_time": "2020-07-10T00:30:21.538394Z",
          "start_time": "2020-07-10T00:30:21.407057Z"
        },
        "id": "ELuxPn4JySAX"
      },
      "source": [
        "# Búsqueda aleatorizada\n",
        "search = RandomizedSearchCV(param_distributions=param_dict, cv=4, n_jobs=-1, scoring=\"accuracy\", estimator=bos, verbose=5,n_iter=10)"
      ],
      "execution_count": null,
      "outputs": []
    },
    {
      "cell_type": "code",
      "metadata": {
        "ExecuteTime": {
          "start_time": "2020-07-10T00:30:09.029Z"
        },
        "id": "liHS0Rs8ySAX",
        "outputId": "a988d512-a0bd-4334-d5a2-81802e449a2b"
      },
      "source": [
        "# WARNING! Este código demora mucho\n",
        "search.fit(X_train, y_train)"
      ],
      "execution_count": null,
      "outputs": [
        {
          "output_type": "stream",
          "text": [
            "Fitting 4 folds for each of 100 candidates, totalling 400 fits\n"
          ],
          "name": "stdout"
        },
        {
          "output_type": "stream",
          "text": [
            "[Parallel(n_jobs=-1)]: Using backend LokyBackend with 8 concurrent workers.\n",
            "[Parallel(n_jobs=-1)]: Done   2 tasks      | elapsed:    2.4s\n",
            "[Parallel(n_jobs=-1)]: Done  56 tasks      | elapsed:  1.2min\n"
          ],
          "name": "stderr"
        }
      ]
    },
    {
      "cell_type": "code",
      "metadata": {
        "ExecuteTime": {
          "start_time": "2020-07-10T00:30:09.034Z"
        },
        "id": "7oo2pGZmySAY"
      },
      "source": [
        "search.best_estimator_"
      ],
      "execution_count": null,
      "outputs": []
    },
    {
      "cell_type": "code",
      "metadata": {
        "ExecuteTime": {
          "start_time": "2020-07-10T00:30:09.039Z"
        },
        "id": "CTHqUqTBySAZ"
      },
      "source": [
        "search.best_score_"
      ],
      "execution_count": null,
      "outputs": []
    },
    {
      "cell_type": "markdown",
      "metadata": {
        "id": "hyrJnvmvySAZ"
      },
      "source": [
        "### AdaBoost"
      ]
    },
    {
      "cell_type": "markdown",
      "metadata": {
        "id": "yrtYpRp6ySAZ"
      },
      "source": [
        "#### Modelado"
      ]
    },
    {
      "cell_type": "code",
      "metadata": {
        "ExecuteTime": {
          "end_time": "2020-07-10T00:49:26.457522Z",
          "start_time": "2020-07-10T00:49:26.445371Z"
        },
        "id": "6nwrfxb1ySAa",
        "outputId": "d9797a95-ca3c-4a16-9180-93168e559d9d"
      },
      "source": [
        "AdaBoostClassifier?"
      ],
      "execution_count": null,
      "outputs": [
        {
          "output_type": "stream",
          "text": [
            "Object `AdaBoostClassifier` not found.\n"
          ],
          "name": "stdout"
        }
      ]
    },
    {
      "cell_type": "code",
      "metadata": {
        "ExecuteTime": {
          "start_time": "2020-07-10T00:30:09.052Z"
        },
        "id": "pCHSuuAZySAb"
      },
      "source": [
        "ada = AdaBoostClassifier(n_estimators=100, learning_rate=0.05)"
      ],
      "execution_count": null,
      "outputs": []
    },
    {
      "cell_type": "markdown",
      "metadata": {
        "id": "MUwsF9O3ySAb"
      },
      "source": [
        "#### Cross-validation"
      ]
    },
    {
      "cell_type": "code",
      "metadata": {
        "ExecuteTime": {
          "start_time": "2020-07-10T00:30:09.060Z"
        },
        "id": "qxRObVNkySAc"
      },
      "source": [
        "# Cross validation\n",
        "classification_metrics(X=X_train, y=y_train, estimator=ada)"
      ],
      "execution_count": null,
      "outputs": []
    },
    {
      "cell_type": "markdown",
      "metadata": {
        "id": "nQtdkHvCySAc"
      },
      "source": [
        "#### Hyperparametrización"
      ]
    },
    {
      "cell_type": "code",
      "metadata": {
        "ExecuteTime": {
          "start_time": "2020-07-10T00:30:09.066Z"
        },
        "id": "TbEAacs7ySAd"
      },
      "source": [
        "# Hiperparametrización\n",
        "search_grid={'n_estimators':[50,100,200],\n",
        "             'learning_rate':[.001,0.01,.1]}"
      ],
      "execution_count": null,
      "outputs": []
    },
    {
      "cell_type": "code",
      "metadata": {
        "ExecuteTime": {
          "start_time": "2020-07-10T00:30:09.071Z"
        },
        "id": "Qmr5Vqn6ySAd"
      },
      "source": [
        "search = RandomizedSearchCV(param_distributions=search_grid, cv=4, n_jobs=-1, scoring=\"accuracy\", estimator=ada, verbose=5,n_iter=9)"
      ],
      "execution_count": null,
      "outputs": []
    },
    {
      "cell_type": "code",
      "metadata": {
        "ExecuteTime": {
          "start_time": "2020-07-10T00:30:09.074Z"
        },
        "id": "SvwyNcVxySAe"
      },
      "source": [
        "# WARNING! Este código demora mucho\n",
        "search.fit(X_train, y_train)"
      ],
      "execution_count": null,
      "outputs": []
    },
    {
      "cell_type": "code",
      "metadata": {
        "ExecuteTime": {
          "start_time": "2020-07-10T00:30:09.078Z"
        },
        "id": "xVofiK7QySAe"
      },
      "source": [
        "search.best_estimator_"
      ],
      "execution_count": null,
      "outputs": []
    },
    {
      "cell_type": "code",
      "metadata": {
        "ExecuteTime": {
          "start_time": "2020-07-10T00:30:09.082Z"
        },
        "id": "f1qsoewEySAf"
      },
      "source": [
        "search.best_score_"
      ],
      "execution_count": null,
      "outputs": []
    },
    {
      "cell_type": "markdown",
      "metadata": {
        "id": "zhdQlpYOySAf"
      },
      "source": [
        "### Gradient Boosting"
      ]
    },
    {
      "cell_type": "markdown",
      "metadata": {
        "id": "kwYPC4REySAf"
      },
      "source": [
        "#### Modelado"
      ]
    },
    {
      "cell_type": "code",
      "metadata": {
        "ExecuteTime": {
          "end_time": "2020-07-10T00:49:50.732489Z",
          "start_time": "2020-07-10T00:49:50.451755Z"
        },
        "id": "BINOuDYPySAg"
      },
      "source": [
        "GradientBoostingClassifier?"
      ],
      "execution_count": null,
      "outputs": []
    },
    {
      "cell_type": "code",
      "metadata": {
        "ExecuteTime": {
          "end_time": "2020-07-10T00:49:51.090472Z",
          "start_time": "2020-07-10T00:49:51.080410Z"
        },
        "id": "Nnth9jL5ySAg"
      },
      "source": [
        "gb = GradientBoostingClassifier(learning_rate=0.05, min_samples_leaf=0.05)"
      ],
      "execution_count": null,
      "outputs": []
    },
    {
      "cell_type": "markdown",
      "metadata": {
        "id": "5wZHTPJVySAh"
      },
      "source": [
        "#### Cross-validation"
      ]
    },
    {
      "cell_type": "code",
      "metadata": {
        "ExecuteTime": {
          "end_time": "2020-07-10T01:04:01.211388Z",
          "start_time": "2020-07-10T00:51:24.092068Z"
        },
        "id": "sGp6y1cLySAh",
        "outputId": "6b392925-876c-4d10-9fe5-ea6b586cacb6"
      },
      "source": [
        "classification_metrics(X=X_train, y=y_train, estimator=gb)"
      ],
      "execution_count": null,
      "outputs": [
        {
          "output_type": "stream",
          "text": [
            "ROC media: 0.80, desviación estándar: 0.008292691479733919\n"
          ],
          "name": "stdout"
        }
      ]
    },
    {
      "cell_type": "markdown",
      "metadata": {
        "id": "3Mg-D3WnySAi"
      },
      "source": [
        "### Voting"
      ]
    },
    {
      "cell_type": "markdown",
      "metadata": {
        "id": "8ZrnJsHdySAi"
      },
      "source": [
        "#### Modelado"
      ]
    },
    {
      "cell_type": "code",
      "metadata": {
        "ExecuteTime": {
          "start_time": "2020-07-10T00:30:09.107Z"
        },
        "id": "jn0VKggLySAj"
      },
      "source": [
        "VotingClassifier?"
      ],
      "execution_count": null,
      "outputs": []
    },
    {
      "cell_type": "code",
      "metadata": {
        "ExecuteTime": {
          "start_time": "2020-07-10T00:30:09.110Z"
        },
        "id": "XD3wv1YhySAj"
      },
      "source": [
        "naiveb = GaussianNB()\n",
        "logreg = LogisticRegression()\n",
        "dctree = DecisionTreeClassifier()"
      ],
      "execution_count": null,
      "outputs": []
    },
    {
      "cell_type": "markdown",
      "metadata": {
        "id": "JW7rOeNGySAk"
      },
      "source": [
        "#### Soft-voting"
      ]
    },
    {
      "cell_type": "markdown",
      "metadata": {
        "id": "56aMdU3_ySAk"
      },
      "source": [
        "##### Cross-validation"
      ]
    },
    {
      "cell_type": "code",
      "metadata": {
        "ExecuteTime": {
          "start_time": "2020-07-10T00:30:09.116Z"
        },
        "id": "rGCWOSGPySAl"
      },
      "source": [
        "vc = VotingClassifier(estimators=[(\"logreg\", logreg), (\"arbol\", dctree), (\"bayes\", naiveb)], voting='soft')"
      ],
      "execution_count": null,
      "outputs": []
    },
    {
      "cell_type": "code",
      "metadata": {
        "ExecuteTime": {
          "start_time": "2020-07-10T00:30:09.119Z"
        },
        "id": "iKuPI9aLySAl"
      },
      "source": [
        "classification_metrics(X=X_train, y=y_train, estimator=vc)"
      ],
      "execution_count": null,
      "outputs": []
    },
    {
      "cell_type": "markdown",
      "metadata": {
        "id": "x_5eQQQEySAm"
      },
      "source": [
        "#### Hard-voting"
      ]
    },
    {
      "cell_type": "markdown",
      "metadata": {
        "id": "uxr0XfI3ySAm"
      },
      "source": [
        "##### Cross-validation"
      ]
    },
    {
      "cell_type": "code",
      "metadata": {
        "ExecuteTime": {
          "start_time": "2020-07-10T00:30:09.124Z"
        },
        "id": "dUQutaVRySAn"
      },
      "source": [
        "vc = VotingClassifier(estimators=[(\"logreg\", logreg), (\"arbol\", dctree), (\"bayes\", naiveb)], voting='hard')"
      ],
      "execution_count": null,
      "outputs": []
    },
    {
      "cell_type": "code",
      "metadata": {
        "ExecuteTime": {
          "start_time": "2020-07-10T00:30:09.135Z"
        },
        "id": "5NE9i7tsySAn"
      },
      "source": [
        "classification_metrics(X=X_train, y=y_train, estimator=vc)"
      ],
      "execution_count": null,
      "outputs": []
    },
    {
      "cell_type": "markdown",
      "metadata": {
        "id": "5UCEjanTySAo"
      },
      "source": [
        "### XGBoost"
      ]
    },
    {
      "cell_type": "markdown",
      "metadata": {
        "id": "fO78f7MFySAo"
      },
      "source": [
        "#### Modelado"
      ]
    },
    {
      "cell_type": "code",
      "metadata": {
        "ExecuteTime": {
          "start_time": "2020-07-10T00:30:09.142Z"
        },
        "id": "o2dlfafNySAp"
      },
      "source": [
        "xgb = XGBClassifier(learning_rate=0.1, n_estimators=190, max_depth=5, min_child_weight=2, objective=\"binary:logistic\", subsample=0.9, colsample_bytree=0.8, seed=23333)"
      ],
      "execution_count": null,
      "outputs": []
    },
    {
      "cell_type": "code",
      "metadata": {
        "ExecuteTime": {
          "start_time": "2020-07-10T00:30:09.145Z"
        },
        "id": "EGeKzGbmySAp"
      },
      "source": [
        "xgb.fit(X_train, y_train)"
      ],
      "execution_count": null,
      "outputs": []
    },
    {
      "cell_type": "markdown",
      "metadata": {
        "id": "3HM15-zBySAq"
      },
      "source": [
        "#### Cross-validation"
      ]
    },
    {
      "cell_type": "code",
      "metadata": {
        "ExecuteTime": {
          "start_time": "2020-07-10T00:30:09.151Z"
        },
        "id": "DDvadjlzySAq"
      },
      "source": [
        "classification_metrics(estimator=xgb, X = X_train, y=y_train)"
      ],
      "execution_count": null,
      "outputs": []
    },
    {
      "cell_type": "code",
      "metadata": {
        "ExecuteTime": {
          "start_time": "2020-07-10T00:30:09.156Z"
        },
        "id": "aTotx3I5ySAr"
      },
      "source": [
        "xgb.score(X_test, y_test)"
      ],
      "execution_count": null,
      "outputs": []
    },
    {
      "cell_type": "markdown",
      "metadata": {
        "id": "kY37SFXZySAr"
      },
      "source": [
        "### Análisis de resultados"
      ]
    },
    {
      "cell_type": "code",
      "metadata": {
        "ExecuteTime": {
          "start_time": "2020-07-10T00:30:09.161Z"
        },
        "id": "po2GKr44ySAr"
      },
      "source": [
        "# Predicción del número de acuerdo con sus atributos\n",
        "df[\"pred\"] = xgb.predict(X)"
      ],
      "execution_count": null,
      "outputs": []
    },
    {
      "cell_type": "code",
      "metadata": {
        "ExecuteTime": {
          "start_time": "2020-07-10T00:30:09.165Z"
        },
        "id": "72eY5TCmySAs"
      },
      "source": [
        "# Análisis de predicción por clases\n",
        "confusion_matrix(y_true=df[\"target\"], y_pred=df[\"pred\"], labels=[x for x in map(str, range(10))])"
      ],
      "execution_count": null,
      "outputs": []
    },
    {
      "cell_type": "code",
      "metadata": {
        "ExecuteTime": {
          "start_time": "2020-07-10T00:30:09.168Z"
        },
        "id": "B25t1qL3ySAs"
      },
      "source": [
        "# Accuración por clase\n",
        "for num in sorted(df[\"target\"].unique()):\n",
        "    print(num, accuracy_score(y_true=df.loc[df[\"target\"] == num, \"target\"], y_pred=df.loc[df[\"target\"] == num, \"pred\"]))"
      ],
      "execution_count": null,
      "outputs": []
    },
    {
      "cell_type": "code",
      "metadata": {
        "ExecuteTime": {
          "start_time": "2020-07-10T00:30:09.171Z"
        },
        "id": "XfTJWKJjySAt"
      },
      "source": [
        "# Accuracy global\n",
        "accuracy_score(y_true=df[\"target\"], y_pred=df[\"pred\"])"
      ],
      "execution_count": null,
      "outputs": []
    },
    {
      "cell_type": "markdown",
      "metadata": {
        "id": "na7lq8fRySAu"
      },
      "source": [
        "### Validación con datos reales"
      ]
    },
    {
      "cell_type": "code",
      "metadata": {
        "ExecuteTime": {
          "start_time": "2020-07-10T00:30:09.176Z"
        },
        "id": "BxWZZGPCySAu"
      },
      "source": [
        "# Predicción con datos reales usando la función del principio\n",
        "predict_number(filepath='/home/oscar/Documentos/Oscar/Diplomado/Generación 3/Módulo 2/free-spoken-digit-dataset-master/acquire_data/recordings/9_oscar_0.wav', estimator=xgb, features=X_train.columns)"
      ],
      "execution_count": null,
      "outputs": []
    },
    {
      "cell_type": "code",
      "metadata": {
        "id": "zlPzWNmLySAv"
      },
      "source": [
        ""
      ],
      "execution_count": null,
      "outputs": []
    }
  ]
}